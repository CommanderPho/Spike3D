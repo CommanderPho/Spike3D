{
 "cells": [
  {
   "cell_type": "code",
   "execution_count": null,
   "id": "6bb4f9f1",
   "metadata": {},
   "outputs": [],
   "source": [
    "%config IPCompleter.use_jedi = False\n",
    "%pdb off\n",
    "%load_ext autoreload\n",
    "%autoreload 3\n",
    "\n",
    "import pandas as pd\n",
    "import pygwalker as pyg\n",
    "from pathlib import Path"
   ]
  },
  {
   "cell_type": "code",
   "execution_count": null,
   "id": "def52bda",
   "metadata": {},
   "outputs": [],
   "source": [
    "\n",
    "\n",
    "from pygwalker.services.global_var import GlobalVarManager\n",
    "\n",
    "GlobalVarManager.set_kanaries_api_key('ak-d89caf8d4b9075b35b4024954a0886c54779894a74779d189299d06ed6be0ddd')\n",
    "\n",
    "# setx KANARIES_API_KEY “ak-d89caf8d4b9075b35b4024954a0886c54779894a74779d189299d06ed6be0ddd\"\n",
    "\n",
    "# pygwalker config --set kanaries_token=ak-d89caf8d4b9075b35b4024954a0886c54779894a74779d189299d06ed6be0ddd"
   ]
  },
  {
   "cell_type": "code",
   "execution_count": null,
   "id": "ad3b5ebe",
   "metadata": {},
   "outputs": [],
   "source": [
    "csv_path = Path(r'C:\\Users\\pho\\repos\\Spike3DWorkEnv\\Spike3D\\output\\2025-05-03_decoded_marginal_posterior_df_with_meas_pos.csv').resolve()\n",
    "\t\t\t\t\n",
    "df = pd.read_csv(csv_path)\n",
    "# walker = pyg.walk(df)\n",
    "walker = pyg.walk(\n",
    "    df,\n",
    "    spec=\"./chart_meta_0.json\",    # this json file will save your chart state, you need to click save button in ui mannual when you finish a chart, 'autosave' will be supported in the future.\n",
    "    kernel_computation=True,          # set `kernel_computation=True`, pygwalker will use duckdb as computing engine, it support you explore bigger dataset(<=100GB).\n",
    ")"
   ]
  },
  {
   "cell_type": "code",
   "execution_count": null,
   "id": "f1b11fc6",
   "metadata": {},
   "outputs": [],
   "source": []
  }
 ],
 "metadata": {
  "kernelspec": {
   "display_name": ".venv_UV",
   "language": "python",
   "name": "python3"
  },
  "language_info": {
   "codemirror_mode": {
    "name": "ipython",
    "version": 3
   },
   "file_extension": ".py",
   "mimetype": "text/x-python",
   "name": "python",
   "nbconvert_exporter": "python",
   "pygments_lexer": "ipython3",
   "version": "3.9.13"
  }
 },
 "nbformat": 4,
 "nbformat_minor": 5
}
