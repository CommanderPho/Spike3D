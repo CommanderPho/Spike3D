{
 "cells": [
  {
   "cell_type": "code",
   "execution_count": null,
   "metadata": {},
   "outputs": [],
   "source": [
    "\n",
    "import numpy as np\n",
    "import pyphoplacecellanalysis.External.pyqtgraph as pg\n",
    "from pyphoplacecellanalysis.External.pyqtgraph.Qt import QtGui, QtCore, QtWidgets\n",
    "# from pyphoplacecellanalysis.External.pyqtgraph.parametertree.parameterTypes.file import popupFilePicker\n",
    "from pyphoplacecellanalysis.External.pyqtgraph.widgets.FileDialog import FileDialog\n",
    "\n",
    "from silx.gui import qt\n",
    "from silx.gui.dialog.ImageFileDialog import ImageFileDialog\n",
    "from silx.gui.dialog.DataFileDialog import DataFileDialog\n",
    "from silx.gui import qt\n",
    "from silx.gui.plot import Plot1D\n",
    "from silx.gui.plot import Plot2D\n",
    "# from silx.gui.plot.tools import DrawTool\n",
    "from silx.gui.plot._BaseMaskToolsWidget import BaseMask, BaseMaskToolsWidget, BaseMaskToolsDockWidget\n",
    "from silx.gui.plot.MaskToolsWidget import ImageMask, MaskToolsWidget, MaskToolsDockWidget\n",
    "\n",
    "import silx.io\n",
    "\n",
    "from pyphoplacecellanalysis.GUI.IPyWidgets.pipeline_ipywidgets import saveFile\n",
    "\n",
    "app = pg.mkQApp('silx_testing')\n",
    "app"
   ]
  },
  {
   "cell_type": "code",
   "execution_count": null,
   "metadata": {},
   "outputs": [],
   "source": [
    "from pyphoplacecellanalysis.GUI.IPyWidgets.pipeline_ipywidgets import openDialogAtHome\n",
    "dialog, result = openDialogAtHome()"
   ]
  },
  {
   "cell_type": "code",
   "execution_count": null,
   "metadata": {},
   "outputs": [],
   "source": [
    "dialog = DataFileDialog()\n",
    "dialog"
   ]
  },
  {
   "cell_type": "code",
   "execution_count": null,
   "metadata": {},
   "outputs": [],
   "source": [
    "\n",
    "# getMaskToolsDockWidget("
   ]
  },
  {
   "cell_type": "code",
   "execution_count": null,
   "metadata": {},
   "outputs": [],
   "source": [
    "# plot = Plot2D()\n",
    "plot: Plot2D = silx.gui.plot.Plot2D()\n",
    "dummy = np.array([[0]])\n",
    "plot.addImage(dummy, legend=\"image\", z=-10, replace=False)\n",
    "plot.getMaskToolsDockWidget = getMaskToolsDockWidget\n",
    "# plot.show()\n"
   ]
  },
  {
   "cell_type": "code",
   "execution_count": null,
   "metadata": {},
   "outputs": [],
   "source": [
    "\n",
    "masking_widget = ContinuousMaskToolsDockWidget(plot=plot, name=\"TEST\")\n",
    "plot.addDockWidget(qt.Qt.BottomDockWidgetArea, masking_widget)\n",
    "maskWidget = masking_widget.widget()\n"
   ]
  },
  {
   "cell_type": "code",
   "execution_count": null,
   "metadata": {},
   "outputs": [],
   "source": [
    "maskWidget = getMaskToolsDockWidget(plot)"
   ]
  },
  {
   "cell_type": "code",
   "execution_count": null,
   "metadata": {},
   "outputs": [],
   "source": [
    "plot.show()"
   ]
  },
  {
   "cell_type": "code",
   "execution_count": null,
   "metadata": {},
   "outputs": [],
   "source": [
    "maskWidget"
   ]
  },
  {
   "cell_type": "code",
   "execution_count": null,
   "metadata": {},
   "outputs": [],
   "source": [
    "\n",
    "maskWidget = getMaskToolsDockWidget(plot)"
   ]
  },
  {
   "cell_type": "code",
   "execution_count": null,
   "metadata": {},
   "outputs": [],
   "source": [
    "\n",
    "class UpdatePlotWithDrawTool(qt.QMainWindow):\n",
    "    def __init__(self, parent=None):\n",
    "        super(UpdatePlotWithDrawTool, self).__init__(parent)\n",
    "        self.plot = Plot1D(self)\n",
    "        self.setCentralWidget(self.plot)\n",
    "\n",
    "        # Initialize plot with some data\n",
    "        self.x = np.linspace(0, 10, 100)\n",
    "        self.y = np.sin(self.x)\n",
    "        self.plot.addCurve(self.x, self.y, legend='sine')\n",
    "\n",
    "        # Create and add a draw tool\n",
    "        self.drawTool = DrawTool(self.plot)\n",
    "        self.drawTool.sigEditingFinished.connect(self.update_plot)\n",
    "\n",
    "    def update_plot(self):\n",
    "        # Retrieve drawn shape\n",
    "        shape = self.drawTool.getDrawingShape()\n",
    "        if shape is not None:\n",
    "            # Example: Update the plot based on the drawn shape (e\n",
    "            if shape['type'] == 'rectangle':\n",
    "                x_min, x_max = shape['points'][0][0], shape['points'][1][0]\n",
    "                y_min, y_max = shape['points'][0][1], shape['points'][1][1]\n",
    "\n",
    "                # Update the plot data within the selected rectangle\n",
    "                mask = (self.x >= x_min) & (self.x <= x_max)\n",
    "                self.y[mask] = np.clip(self.y[mask], y_min, y_max)\n",
    "\n",
    "                # Update the plot with new data\n",
    "                self.plot.clear()\n",
    "                self.plot.addCurve(self.x, self.y, legend='updated sine')\n",
    "\n",
    "\n",
    "\n",
    "window = UpdatePlotWithDrawTool()\n",
    "window.show()\n",
    "\n",
    "\n"
   ]
  },
  {
   "cell_type": "code",
   "execution_count": null,
   "metadata": {},
   "outputs": [],
   "source": [
    "from silx.gui import qt\n",
    "import silx.gui.icons\n",
    "import silx.resources\n",
    "\n",
    "icon_paths = [\"gui/icons/draw-brush\", \"gui/icons/draw-brush\", \"gui/icons/draw-brush\"]\n",
    "\n",
    "silx.resources.\n",
    "# [silx.resources.exists(v) for v in icon_paths]\n",
    "\t\n",
    "# silx.resources"
   ]
  },
  {
   "cell_type": "code",
   "execution_count": null,
   "metadata": {},
   "outputs": [],
   "source": [
    "# class SaveAsManager:\n",
    "# \t@QtCore.pyqtSlot(object)\n",
    "# \tdef _on_save_file(self, fileName=None):\n",
    "# \t\tprint(f'_on_save_file(fileName: {fileName})')\n",
    "\n",
    "\n",
    "# \tdef saveFile(self, on_save_file_callback, fileName=None, startDir=None, suggestedFileName='custom_node.pEval'):\n",
    "# \t\t\"\"\"Save this Custom Eval Node to a .pEval file\n",
    "# \t\t\"\"\"\n",
    "# \t\tif fileName is None:\n",
    "# \t\t\tif startDir is None:\n",
    "# \t\t\t\tstartDir = '.'\n",
    "# \t\t\tfileDialog = FileDialog(None, \"Save h5 as..\", startDir, \"H5py File (*.h5)\")\n",
    "# \t\t\tfileDialog.setDefaultSuffix(\"h5\")\n",
    "# \t\t\tfileDialog.setAcceptMode(QtWidgets.QFileDialog.AcceptMode.AcceptSave) \n",
    "# \t\t\tfileDialog.show()\n",
    "# \t\t\tfileDialog.fileSelected.connect(on_save_file_callback)\n",
    "# \t\t\treturn fileDialog\n",
    "# \t\t# configfile.writeConfigFile(self.eval_node.saveState(), fileName)\n",
    "# \t\t# self.sigFileSaved.emit(fileName)\n",
    "\n",
    "# \tfileDialog = saveFile(_on_save_file, fileName=None, startDir=None, suggestedFileName='test_file_name.h5')\n",
    "# \tfileDialog.exec_()\n",
    "\n",
    "\n",
    "# @QtCore.pyqtSlot(object)\n",
    "# def _on_save_file(fileName=None):\n",
    "# \tprint(f'_on_save_file(fileName: {fileName})')\n",
    "\n",
    "# def saveFile(on_save_file_callback, fileName=None, startDir=None, suggestedFileName='custom_node.pEval'):\n",
    "# \t\"\"\"Save this Custom Eval Node to a .pEval file\n",
    "# \t\"\"\"\n",
    "# \tif startDir is None:\n",
    "# \t\tstartDir = '.'\n",
    "# \tfileDialog = FileDialog(None, \"Save h5 as..\", startDir, \"H5py File (*.h5)\")\n",
    "# \tfileDialog.setDefaultSuffix(\"h5\")\n",
    "# \tfileDialog.setAcceptMode(QtWidgets.QFileDialog.AcceptMode.AcceptSave) \n",
    "# \tfileDialog.show()\n",
    "# \tfileDialog.fileSelected.connect(on_save_file_callback)\n",
    "# \tfileDialog.exec_() # open modally\n",
    "# \treturn fileDialog\n",
    "# configfile.writeConfigFile(self.eval_node.saveState(), fileName)\n",
    "# self.sigFileSaved.emit(fileName)\n",
    "\n",
    "# lambda fileName: print(f'_on_save_file(fileName: {fileName})')\n",
    "\n",
    "fileDialog = saveFile(lambda fileName: print(f'_on_save_file(fileName: {fileName})'), caption=\"Save as..\",, startDir=None, suggestedFileName='test_file_name.h5')\n",
    "# fileDialog.exec_()"
   ]
  },
  {
   "cell_type": "code",
   "execution_count": null,
   "metadata": {},
   "outputs": [],
   "source": [
    "fileDialog = saveFile(lambda fileName: print(f'_on_save_file(fileName: {fileName})'), caption=\"Save pickle as..\", startDir=None, suggestedFileName='test.pkl', filter=\"Pickle File (*.pkl)\", default_suffix=\"pkl\")"
   ]
  },
  {
   "cell_type": "code",
   "execution_count": null,
   "metadata": {},
   "outputs": [],
   "source": [
    "fileDialog = saveFile(lambda fileName: print(f'_on_save_file(fileName: {fileName})'), caption=\"Save HDF5 file as..\", startDir=None, suggestedFileName='test.h5', filter=\"H5py File (*.h5)\", default_suffix=\"h5\")"
   ]
  },
  {
   "cell_type": "code",
   "execution_count": null,
   "metadata": {},
   "outputs": [],
   "source": [
    "fileName = QtWidgets.QFileDialog.getSaveFileName(\n",
    "            self,\n",
    "            f\"{translate('TableWidget', 'Save As')}...\",\n",
    "            \"\",\n",
    "            f\"{translate('TableWidget', 'Tab-separated values')} (*.tsv)\"\n",
    "        )\n",
    "        if isinstance(fileName, tuple):\n",
    "            fileName = fileName[0]  # Qt4/5 API difference\n",
    "        if fileName == '':\n",
    "            return\n",
    "        with open(fileName, 'w') as fd:\n",
    "            fd.write(data)"
   ]
  }
 ],
 "metadata": {
  "kernelspec": {
   "display_name": ".venv",
   "language": "python",
   "name": "python3"
  },
  "language_info": {
   "codemirror_mode": {
    "name": "ipython",
    "version": 3
   },
   "file_extension": ".py",
   "mimetype": "text/x-python",
   "name": "python",
   "nbconvert_exporter": "python",
   "pygments_lexer": "ipython3",
   "version": "3.9.13"
  },
  "orig_nbformat": 4
 },
 "nbformat": 4,
 "nbformat_minor": 2
}
