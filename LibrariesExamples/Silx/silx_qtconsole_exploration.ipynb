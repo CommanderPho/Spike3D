{
 "cells": [
  {
   "cell_type": "code",
   "execution_count": 1,
   "metadata": {},
   "outputs": [
    {
     "ename": "ImportError",
     "evalue": "Module silx.gui.console cannot be used within an IPython shell",
     "output_type": "error",
     "traceback": [
      "\u001b[1;31m---------------------------------------------------------------------------\u001b[0m",
      "\u001b[1;31mImportError\u001b[0m                               Traceback (most recent call last)",
      "Cell \u001b[1;32mIn[1], line 7\u001b[0m\n\u001b[0;32m      4\u001b[0m \u001b[38;5;28;01mfrom\u001b[39;00m \u001b[38;5;21;01mpyphoplacecellanalysis\u001b[39;00m\u001b[38;5;21;01m.\u001b[39;00m\u001b[38;5;21;01mExternal\u001b[39;00m\u001b[38;5;21;01m.\u001b[39;00m\u001b[38;5;21;01mpyqtgraph\u001b[39;00m\u001b[38;5;21;01m.\u001b[39;00m\u001b[38;5;21;01mwidgets\u001b[39;00m\u001b[38;5;21;01m.\u001b[39;00m\u001b[38;5;21;01mFileDialog\u001b[39;00m \u001b[38;5;28;01mimport\u001b[39;00m FileDialog\n\u001b[0;32m      6\u001b[0m \u001b[38;5;28;01mfrom\u001b[39;00m \u001b[38;5;21;01msilx\u001b[39;00m\u001b[38;5;21;01m.\u001b[39;00m\u001b[38;5;21;01mgui\u001b[39;00m \u001b[38;5;28;01mimport\u001b[39;00m qt\n\u001b[1;32m----> 7\u001b[0m \u001b[38;5;28;01mfrom\u001b[39;00m \u001b[38;5;21;01msilx\u001b[39;00m\u001b[38;5;21;01m.\u001b[39;00m\u001b[38;5;21;01mgui\u001b[39;00m\u001b[38;5;21;01m.\u001b[39;00m\u001b[38;5;21;01mconsole\u001b[39;00m \u001b[38;5;28;01mimport\u001b[39;00m IPythonWidget\n\u001b[0;32m      9\u001b[0m app \u001b[38;5;241m=\u001b[39m qt\u001b[38;5;241m.\u001b[39mQApplication([])\n\u001b[0;32m     11\u001b[0m hello_button \u001b[38;5;241m=\u001b[39m qt\u001b[38;5;241m.\u001b[39mQPushButton(\u001b[38;5;124m\"\u001b[39m\u001b[38;5;124mHello World!\u001b[39m\u001b[38;5;124m\"\u001b[39m, \u001b[38;5;28;01mNone\u001b[39;00m)\n",
      "File \u001b[1;32mc:\\Users\\pho\\repos\\Spike3DWorkEnv\\Spike3D\\.venv\\lib\\site-packages\\silx\\gui\\console.py:87\u001b[0m\n\u001b[0;32m     85\u001b[0m \u001b[38;5;28;01melse\u001b[39;00m:\n\u001b[0;32m     86\u001b[0m     msg \u001b[38;5;241m=\u001b[39m \u001b[38;5;124m\"\u001b[39m\u001b[38;5;124mModule \u001b[39m\u001b[38;5;124m\"\u001b[39m \u001b[38;5;241m+\u001b[39m \u001b[38;5;18m__name__\u001b[39m \u001b[38;5;241m+\u001b[39m \u001b[38;5;124m\"\u001b[39m\u001b[38;5;124m cannot be used within an IPython shell\u001b[39m\u001b[38;5;124m\"\u001b[39m\n\u001b[1;32m---> 87\u001b[0m     \u001b[38;5;28;01mraise\u001b[39;00m \u001b[38;5;167;01mImportError\u001b[39;00m(msg)\n\u001b[0;32m     89\u001b[0m \u001b[38;5;28;01mtry\u001b[39;00m:\n\u001b[0;32m     90\u001b[0m     \u001b[38;5;28;01mfrom\u001b[39;00m \u001b[38;5;21;01mqtconsole\u001b[39;00m\u001b[38;5;21;01m.\u001b[39;00m\u001b[38;5;21;01mrich_jupyter_widget\u001b[39;00m \u001b[38;5;28;01mimport\u001b[39;00m RichJupyterWidget \u001b[38;5;28;01mas\u001b[39;00m _RichJupyterWidget\n",
      "\u001b[1;31mImportError\u001b[0m: Module silx.gui.console cannot be used within an IPython shell"
     ]
    }
   ],
   "source": [
    "import pyphoplacecellanalysis.External.pyqtgraph as pg\n",
    "from pyphoplacecellanalysis.External.pyqtgraph.Qt import QtGui, QtCore, QtWidgets\n",
    "# from pyphoplacecellanalysis.External.pyqtgraph.parametertree.parameterTypes.file import popupFilePicker\n",
    "from pyphoplacecellanalysis.External.pyqtgraph.widgets.FileDialog import FileDialog\n",
    "\n",
    "from silx.gui import qt\n",
    "from silx.gui.console import IPythonWidget\n",
    "\n",
    "app = qt.QApplication([])\n",
    "\n",
    "hello_button = qt.QPushButton(\"Hello World!\", None)\n",
    "hello_button.show()\n",
    "\n",
    "console = IPythonWidget()\n",
    "console.show()\n",
    "console.pushVariables({\"the_button\": hello_button})\n",
    "\n",
    "app.exec()"
   ]
  },
  {
   "cell_type": "code",
   "execution_count": null,
   "metadata": {},
   "outputs": [],
   "source": [
    "\n",
    "from pyphoplacecellanalysis.GUI.IPyWidgets.pipeline_ipywidgets import saveFile\n",
    "\n",
    "app = pg.mkQApp('silx_testing')\n",
    "app"
   ]
  },
  {
   "cell_type": "code",
   "execution_count": null,
   "metadata": {},
   "outputs": [],
   "source": [
    "from pyphoplacecellanalysis.GUI.IPyWidgets.pipeline_ipywidgets import openDialogAtHome\n",
    "dialog, result = openDialogAtHome()"
   ]
  },
  {
   "cell_type": "code",
   "execution_count": null,
   "metadata": {},
   "outputs": [],
   "source": [
    "dialog = DataFileDialog()\n",
    "dialog"
   ]
  },
  {
   "cell_type": "code",
   "execution_count": null,
   "metadata": {},
   "outputs": [],
   "source": [
    "# class SaveAsManager:\n",
    "# \t@QtCore.pyqtSlot(object)\n",
    "# \tdef _on_save_file(self, fileName=None):\n",
    "# \t\tprint(f'_on_save_file(fileName: {fileName})')\n",
    "\n",
    "\n",
    "# \tdef saveFile(self, on_save_file_callback, fileName=None, startDir=None, suggestedFileName='custom_node.pEval'):\n",
    "# \t\t\"\"\"Save this Custom Eval Node to a .pEval file\n",
    "# \t\t\"\"\"\n",
    "# \t\tif fileName is None:\n",
    "# \t\t\tif startDir is None:\n",
    "# \t\t\t\tstartDir = '.'\n",
    "# \t\t\tfileDialog = FileDialog(None, \"Save h5 as..\", startDir, \"H5py File (*.h5)\")\n",
    "# \t\t\tfileDialog.setDefaultSuffix(\"h5\")\n",
    "# \t\t\tfileDialog.setAcceptMode(QtWidgets.QFileDialog.AcceptMode.AcceptSave) \n",
    "# \t\t\tfileDialog.show()\n",
    "# \t\t\tfileDialog.fileSelected.connect(on_save_file_callback)\n",
    "# \t\t\treturn fileDialog\n",
    "# \t\t# configfile.writeConfigFile(self.eval_node.saveState(), fileName)\n",
    "# \t\t# self.sigFileSaved.emit(fileName)\n",
    "\n",
    "# \tfileDialog = saveFile(_on_save_file, fileName=None, startDir=None, suggestedFileName='test_file_name.h5')\n",
    "# \tfileDialog.exec_()\n",
    "\n",
    "\n",
    "# @QtCore.pyqtSlot(object)\n",
    "# def _on_save_file(fileName=None):\n",
    "# \tprint(f'_on_save_file(fileName: {fileName})')\n",
    "\n",
    "# def saveFile(on_save_file_callback, fileName=None, startDir=None, suggestedFileName='custom_node.pEval'):\n",
    "# \t\"\"\"Save this Custom Eval Node to a .pEval file\n",
    "# \t\"\"\"\n",
    "# \tif startDir is None:\n",
    "# \t\tstartDir = '.'\n",
    "# \tfileDialog = FileDialog(None, \"Save h5 as..\", startDir, \"H5py File (*.h5)\")\n",
    "# \tfileDialog.setDefaultSuffix(\"h5\")\n",
    "# \tfileDialog.setAcceptMode(QtWidgets.QFileDialog.AcceptMode.AcceptSave) \n",
    "# \tfileDialog.show()\n",
    "# \tfileDialog.fileSelected.connect(on_save_file_callback)\n",
    "# \tfileDialog.exec_() # open modally\n",
    "# \treturn fileDialog\n",
    "# configfile.writeConfigFile(self.eval_node.saveState(), fileName)\n",
    "# self.sigFileSaved.emit(fileName)\n",
    "\n",
    "# lambda fileName: print(f'_on_save_file(fileName: {fileName})')\n",
    "\n",
    "fileDialog = saveFile(lambda fileName: print(f'_on_save_file(fileName: {fileName})'), caption=\"Save as..\",, startDir=None, suggestedFileName='test_file_name.h5')\n",
    "# fileDialog.exec_()"
   ]
  },
  {
   "cell_type": "code",
   "execution_count": null,
   "metadata": {},
   "outputs": [],
   "source": [
    "fileDialog = saveFile(lambda fileName: print(f'_on_save_file(fileName: {fileName})'), caption=\"Save pickle as..\", startDir=None, suggestedFileName='test.pkl', filter=\"Pickle File (*.pkl)\", default_suffix=\"pkl\")"
   ]
  },
  {
   "cell_type": "code",
   "execution_count": null,
   "metadata": {},
   "outputs": [],
   "source": [
    "fileDialog = saveFile(lambda fileName: print(f'_on_save_file(fileName: {fileName})'), caption=\"Save HDF5 file as..\", startDir=None, suggestedFileName='test.h5', filter=\"H5py File (*.h5)\", default_suffix=\"h5\")"
   ]
  },
  {
   "cell_type": "code",
   "execution_count": null,
   "metadata": {},
   "outputs": [],
   "source": [
    "fileName = QtWidgets.QFileDialog.getSaveFileName(\n",
    "            self,\n",
    "            f\"{translate('TableWidget', 'Save As')}...\",\n",
    "            \"\",\n",
    "            f\"{translate('TableWidget', 'Tab-separated values')} (*.tsv)\"\n",
    "        )\n",
    "        if isinstance(fileName, tuple):\n",
    "            fileName = fileName[0]  # Qt4/5 API difference\n",
    "        if fileName == '':\n",
    "            return\n",
    "        with open(fileName, 'w') as fd:\n",
    "            fd.write(data)"
   ]
  }
 ],
 "metadata": {
  "kernelspec": {
   "display_name": ".venv",
   "language": "python",
   "name": "python3"
  },
  "language_info": {
   "codemirror_mode": {
    "name": "ipython",
    "version": 3
   },
   "file_extension": ".py",
   "mimetype": "text/x-python",
   "name": "python",
   "nbconvert_exporter": "python",
   "pygments_lexer": "ipython3",
   "version": "3.9.13"
  },
  "orig_nbformat": 4
 },
 "nbformat": 4,
 "nbformat_minor": 2
}
