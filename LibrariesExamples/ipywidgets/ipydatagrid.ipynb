{
 "cells": [
  {
   "cell_type": "code",
   "execution_count": 1,
   "metadata": {
    "notebookRunGroups": {
     "groupValue": "1"
    }
   },
   "outputs": [
    {
     "data": {
      "text/html": [
       "<div>\n",
       "<style scoped>\n",
       "    .dataframe tbody tr th:only-of-type {\n",
       "        vertical-align: middle;\n",
       "    }\n",
       "\n",
       "    .dataframe tbody tr th {\n",
       "        vertical-align: top;\n",
       "    }\n",
       "\n",
       "    .dataframe thead th {\n",
       "        text-align: right;\n",
       "    }\n",
       "</style>\n",
       "<table border=\"1\" class=\"dataframe\">\n",
       "  <thead>\n",
       "    <tr style=\"text-align: right;\">\n",
       "      <th></th>\n",
       "      <th>Value 1</th>\n",
       "      <th>Value 2</th>\n",
       "      <th>Value 3</th>\n",
       "      <th>Value 4</th>\n",
       "    </tr>\n",
       "  </thead>\n",
       "  <tbody>\n",
       "    <tr>\n",
       "      <th>0</th>\n",
       "      <td>-0.234105</td>\n",
       "      <td>1.430218</td>\n",
       "      <td>True</td>\n",
       "      <td>False</td>\n",
       "    </tr>\n",
       "    <tr>\n",
       "      <th>1</th>\n",
       "      <td>0.105964</td>\n",
       "      <td>-2.005753</td>\n",
       "      <td>False</td>\n",
       "      <td>True</td>\n",
       "    </tr>\n",
       "    <tr>\n",
       "      <th>2</th>\n",
       "      <td>0.832651</td>\n",
       "      <td>0.355472</td>\n",
       "      <td>True</td>\n",
       "      <td>True</td>\n",
       "    </tr>\n",
       "    <tr>\n",
       "      <th>3</th>\n",
       "      <td>0.829336</td>\n",
       "      <td>-0.048656</td>\n",
       "      <td>True</td>\n",
       "      <td>True</td>\n",
       "    </tr>\n",
       "    <tr>\n",
       "      <th>4</th>\n",
       "      <td>0.084239</td>\n",
       "      <td>0.335850</td>\n",
       "      <td>False</td>\n",
       "      <td>False</td>\n",
       "    </tr>\n",
       "    <tr>\n",
       "      <th>...</th>\n",
       "      <td>...</td>\n",
       "      <td>...</td>\n",
       "      <td>...</td>\n",
       "      <td>...</td>\n",
       "    </tr>\n",
       "    <tr>\n",
       "      <th>49995</th>\n",
       "      <td>-1.745002</td>\n",
       "      <td>0.982373</td>\n",
       "      <td>True</td>\n",
       "      <td>False</td>\n",
       "    </tr>\n",
       "    <tr>\n",
       "      <th>49996</th>\n",
       "      <td>-0.319010</td>\n",
       "      <td>0.799149</td>\n",
       "      <td>False</td>\n",
       "      <td>True</td>\n",
       "    </tr>\n",
       "    <tr>\n",
       "      <th>49997</th>\n",
       "      <td>-0.068485</td>\n",
       "      <td>1.366437</td>\n",
       "      <td>False</td>\n",
       "      <td>False</td>\n",
       "    </tr>\n",
       "    <tr>\n",
       "      <th>49998</th>\n",
       "      <td>0.457030</td>\n",
       "      <td>-0.236373</td>\n",
       "      <td>True</td>\n",
       "      <td>False</td>\n",
       "    </tr>\n",
       "    <tr>\n",
       "      <th>49999</th>\n",
       "      <td>0.510690</td>\n",
       "      <td>0.021967</td>\n",
       "      <td>True</td>\n",
       "      <td>False</td>\n",
       "    </tr>\n",
       "  </tbody>\n",
       "</table>\n",
       "<p>50000 rows × 4 columns</p>\n",
       "</div>"
      ],
      "text/plain": [
       "        Value 1   Value 2  Value 3  Value 4\n",
       "0     -0.234105  1.430218     True    False\n",
       "1      0.105964 -2.005753    False     True\n",
       "2      0.832651  0.355472     True     True\n",
       "3      0.829336 -0.048656     True     True\n",
       "4      0.084239  0.335850    False    False\n",
       "...         ...       ...      ...      ...\n",
       "49995 -1.745002  0.982373     True    False\n",
       "49996 -0.319010  0.799149    False     True\n",
       "49997 -0.068485  1.366437    False    False\n",
       "49998  0.457030 -0.236373     True    False\n",
       "49999  0.510690  0.021967     True    False\n",
       "\n",
       "[50000 rows x 4 columns]"
      ]
     },
     "metadata": {},
     "output_type": "display_data"
    },
    {
     "data": {
      "application/vnd.jupyter.widget-view+json": {
       "model_id": "60e830ef44194ce6abe2e34c7f838ca3",
       "version_major": 2,
       "version_minor": 0
      },
      "text/plain": [
       "DataGrid(auto_fit_params={'area': 'all', 'padding': 30, 'numCols': None}, base_column_size=150, base_row_size=…"
      ]
     },
     "execution_count": 1,
     "metadata": {},
     "output_type": "execute_result"
    }
   ],
   "source": [
    "import pandas as pd\n",
    "import numpy as np\n",
    "import json\n",
    "\n",
    "from ipydatagrid import DataGrid, TextRenderer, Expr\n",
    "\n",
    "n = 50_000\n",
    "\n",
    "df = pd.DataFrame(\n",
    "    {\n",
    "        \"Value 1\": np.random.randn(n),\n",
    "        \"Value 2\": np.random.randn(n),\n",
    "        \"Value 3\": np.random.choice([True, False], n),\n",
    "        \"Value 4\": np.random.choice([True, False], n),\n",
    "    }\n",
    ")\n",
    "\n",
    "# This returns the unicode value for specific font-awesome icons,\n",
    "# check-out this link for more icons:\n",
    "# https://fontawesome.com/v4.7.0/cheatsheet/\n",
    "def bool_render_text1(cell):\n",
    "    if cell.value > 0:\n",
    "        return \"\\uf00c\"  # Check\n",
    "    else:\n",
    "        return \"\\uf00d\"  # Cross\n",
    "\n",
    "\n",
    "def bool_render_text2(cell):\n",
    "    if cell.value > 0:\n",
    "        return \"\\uf111\"  # Circle\n",
    "    else:\n",
    "        return \" \"\n",
    "\n",
    "\n",
    "def bool_render_text3(cell):\n",
    "    if cell.value:\n",
    "        return \"\\uf164\"  # Thumb up\n",
    "    else:\n",
    "        return \"\\uf165\"  # Thumb down\n",
    "\n",
    "\n",
    "def bool_render_text4(cell):\n",
    "    if cell.value:\n",
    "        return \"\\uf118\"  # Smile\n",
    "    else:\n",
    "        return \"\\uf119\"  # Frown\n",
    "\n",
    "\n",
    "def bool_render_color(cell):\n",
    "    if cell.value > 0:\n",
    "        return \"#2fbd34\"\n",
    "    else:\n",
    "        return \"#b82538\"\n",
    "\n",
    "\n",
    "common_args = {\n",
    "    \"font\": \"bold 14px fontawesome\",\n",
    "    \"text_color\": Expr(bool_render_color),\n",
    "    \"horizontal_alignment\": \"center\",\n",
    "}\n",
    "\n",
    "renderers = {\n",
    "    \"Value 1\": TextRenderer(text_value=Expr(bool_render_text1), **common_args),\n",
    "    \"Value 2\": TextRenderer(text_value=Expr(bool_render_text2), **common_args),\n",
    "    \"Value 3\": TextRenderer(text_value=Expr(bool_render_text3), **common_args),\n",
    "    \"Value 4\": TextRenderer(text_value=Expr(bool_render_text4), **common_args),\n",
    "}\n",
    "\n",
    "display(df)\n",
    "\n",
    "DataGrid(df, base_row_size=30, base_column_size=150, renderers=renderers)"
   ]
  },
  {
   "cell_type": "markdown",
   "metadata": {},
   "source": [
    "\n",
    "# Load Pandas DataFrame\n"
   ]
  },
  {
   "cell_type": "code",
   "execution_count": 1,
   "metadata": {
    "notebookRunGroups": {
     "groupValue": "1"
    }
   },
   "outputs": [
    {
     "data": {
      "application/vnd.jupyter.widget-view+json": {
       "model_id": "4e1bfceb18114e84b94b395b952eb5f0",
       "version_major": 2,
       "version_minor": 0
      },
      "text/plain": [
       "DataGrid(auto_fit_params={'area': 'all', 'padding': 30, 'numCols': None}, base_column_size=300, base_row_size=…"
      ]
     },
     "execution_count": 1,
     "metadata": {},
     "output_type": "execute_result"
    }
   ],
   "source": [
    "\n",
    "import json\n",
    "\n",
    "import numpy as np\n",
    "import pandas as pd\n",
    "from bqplot import DateScale, ColorScale\n",
    "from py2vega.functions.type_coercing import toDate\n",
    "from py2vega.functions.date_time import datetime\n",
    "\n",
    "from ipydatagrid import Expr, DataGrid, TextRenderer, BarRenderer\n",
    "\n",
    "n = 10000\n",
    "\n",
    "df = pd.DataFrame(\n",
    "    {\n",
    "        \"Value 1\": np.random.randn(n),\n",
    "        \"Value 2\": np.random.randn(n),\n",
    "        \"Dates\": pd.date_range(end=pd.Timestamp(\"today\"), periods=n),\n",
    "    }\n",
    ")\n",
    "\n",
    "text_renderer = TextRenderer(\n",
    "    text_color=\"black\", background_color=ColorScale(min=-5, max=5)\n",
    ")\n",
    "\n",
    "\n",
    "def bar_color(cell):\n",
    "    date = toDate(cell.value)\n",
    "    return \"green\" if date > datetime(\"2000\") else \"red\"\n",
    "\n",
    "\n",
    "renderers = {\n",
    "    \"Value 1\": text_renderer,\n",
    "    \"Value 2\": text_renderer,\n",
    "    \"Dates\": BarRenderer(\n",
    "        bar_value=DateScale(min=df[\"Dates\"][0], max=df[\"Dates\"][n - 1]),\n",
    "        bar_color=Expr(bar_color),\n",
    "        format=\"%Y/%m/%d\",\n",
    "        format_type=\"time\",\n",
    "    ),\n",
    "}\n",
    "\n",
    "grid = DataGrid(df, base_row_size=30, base_column_size=300, renderers=renderers)\n",
    "grid.transform([{\"type\": \"sort\", \"columnIndex\": 2, \"desc\": True}])\n",
    "grid\n",
    "\n"
   ]
  },
  {
   "cell_type": "markdown",
   "metadata": {},
   "source": [
    "# Hierarchical Dataframe via Pandas multiindex\n"
   ]
  },
  {
   "cell_type": "code",
   "execution_count": 3,
   "metadata": {
    "notebookRunGroups": {
     "groupValue": "1"
    }
   },
   "outputs": [
    {
     "data": {
      "application/vnd.jupyter.widget-view+json": {
       "model_id": "91ff4355d5ef45daa260da3aa8b4b192",
       "version_major": 2,
       "version_minor": 0
      },
      "text/plain": [
       "DataGrid(auto_fit_params={'area': 'all', 'padding': 30, 'numCols': None}, base_column_header_size=35, base_col…"
      ]
     },
     "execution_count": 3,
     "metadata": {},
     "output_type": "execute_result"
    }
   ],
   "source": [
    "\n",
    "import ipydatagrid as ipg\n",
    "import pandas as pd\n",
    "import numpy as np\n",
    "\n",
    "# Columns\n",
    "col_top_level = [\n",
    "    \"VeryLongValueFactors\",\n",
    "    \"VeryLongValueFactors\",\n",
    "    \"Even Longer Momentum Factors\",\n",
    "    \"Even Longer Momentum Factors\",\n",
    "]\n",
    "col_bottom_level = [\"Factor_A\", \"Factor_B\", \"Factor_C\", \"Factor_D\"]\n",
    "\n",
    "# Rows\n",
    "row_top_level = [\"Sector 1\", \"Sector 1\", \"Sector 2\", \"Sector 2\"]\n",
    "row_bottom_level = [\"Security A\", \"Security B\", \"Security C\", \"Security D\"]\n",
    "\n",
    "header_renderer = ipg.TextRenderer(\n",
    "    background_color=\"moccasin\",\n",
    "    text_color=\"navy\",\n",
    "    vertical_alignment=\"top\",\n",
    "    horizontal_alignment=\"center\",\n",
    ")\n",
    "\n",
    "default_renderer = ipg.TextRenderer(\n",
    "    text_color=ipg.VegaExpr(\"cell.value <= 0 ? 'purple' : 'green'\")\n",
    ")\n",
    "\n",
    "nested_df = pd.DataFrame(\n",
    "    np.random.randn(4, 4).round(4),\n",
    "    columns=pd.MultiIndex.from_arrays([col_top_level, col_bottom_level]),\n",
    "    index=pd.MultiIndex.from_arrays(\n",
    "        [row_top_level, row_bottom_level], names=(\"Sector\", \"Ticker\")\n",
    "    ),\n",
    ")\n",
    "\n",
    "nested_grid = ipg.DataGrid(\n",
    "    nested_df,\n",
    "    base_column_size=80,\n",
    "    base_column_header_size=35,\n",
    "    base_row_header_size=80,\n",
    "    layout={\"height\": \"180px\"},\n",
    "    header_renderer=header_renderer,\n",
    "    default_renderer=default_renderer,\n",
    ")\n",
    "\n",
    "nested_grid\n",
    "\n"
   ]
  },
  {
   "cell_type": "code",
   "execution_count": null,
   "metadata": {},
   "outputs": [],
   "source": []
  },
  {
   "cell_type": "code",
   "execution_count": 7,
   "metadata": {},
   "outputs": [
    {
     "data": {
      "application/vnd.jupyter.widget-view+json": {
       "model_id": "71d270444c14484d9f682842109af8b9",
       "version_major": 2,
       "version_minor": 0
      },
      "text/plain": [
       "VBox(children=(Container(value=None, children=(Html(children=[Html(children=['C:\\\\Users\\\\pho\\\\repos\\\\Spike3DWo…"
      ]
     },
     "execution_count": 7,
     "metadata": {},
     "output_type": "execute_result"
    }
   ],
   "source": [
    "from pathlib import Path\n",
    "\n",
    "from typing import Callable, Optional, List, Dict, Union, Any\n",
    "import ipywidgets as widgets\n",
    "from ipywidgets import HBox, VBox\n",
    "from IPython.display import display, HTML, Javascript\n",
    "from pathlib import Path\n",
    "from pyphocorehelpers.gui.Jupyter.simple_widgets import filesystem_path_folder_contents_widget\n",
    "# from pyphocorehelpers.gui.Jupyter.simple_widgets import file_save_widget\n",
    "\n",
    "# curr_collected_outputs_folder = Path(output_path_dicts['neuron_replay_stats_table']['.csv']).resolve().parent       \n",
    "# file_save_widget(None)\n",
    "\n",
    "import solara # `pip install \"solara[assets]`\n",
    "\n",
    "\n",
    "curr_collected_outputs_folder = Path('../../').resolve().parent        \n",
    "filesystem_path_folder_contents_widget(curr_collected_outputs_folder)\n"
   ]
  },
  {
   "cell_type": "code",
   "execution_count": 14,
   "metadata": {},
   "outputs": [
    {
     "data": {
      "application/vnd.jupyter.widget-view+json": {
       "model_id": "db0adfe11af44d8babc2cc507f6c3516",
       "version_major": 2,
       "version_minor": 0
      },
      "text/plain": [
       "VBox(children=(Container(value=None, children=(FileDownloadWidget(children=[Btn(children=[Icon(children=['mdi-…"
      ]
     },
     "metadata": {},
     "output_type": "display_data"
    }
   ],
   "source": [
    "\n",
    "\n",
    "# if not isinstance(a_path, Path):\n",
    "#     a_path = Path(a_path).resolve() # we need a Path\n",
    "# assert a_path.exists(), f'a_path: \"{a_path} does not exist!\"'\n",
    "\n",
    "\n",
    "# if on_file_open is None:\n",
    "#     on_file_open = print\n",
    "\n",
    "data = \"This is the content of the file\"\n",
    "    \n",
    "_out = widgets.VBox(\n",
    "        children=[\n",
    "            solara.FileDownload.widget(data=data, filename=\"solara-download.txt\", label=\"Download file\") #.widget(directory=a_path, on_file_open=on_file_open)\n",
    "        ]\n",
    "    )\n",
    "\n",
    ", mime_type=\"image/jpeg\", close_file=False\n",
    "\n",
    "display(_out)\n"
   ]
  },
  {
   "cell_type": "code",
   "execution_count": 16,
   "metadata": {},
   "outputs": [
    {
     "data": {
      "application/javascript": "\nconst prevIframe = document.getElementById(\"solara-jupyter-check\");\nif(prevIframe)\n    prevIframe.remove();\nconst iframe = document.createElement('iframe')\niframe.setAttribute(\"src\", \"https://solara.dev/static/public/success.html?check=purejs&version=1.41.0\");\niframe.style.width = \"0px\";\niframe.style.height = \"0px\";\niframe.style.display = \"none\";\niframe.id = \"solara-jupyter-check\";\ndocument.body.appendChild(iframe);\n            ",
      "text/plain": [
       "<IPython.core.display.Javascript object>"
      ]
     },
     "metadata": {},
     "output_type": "display_data"
    },
    {
     "data": {
      "application/vnd.jupyter.widget-view+json": {
       "model_id": "4ee67733a1504454bc9e7e8f45f027f1",
       "version_major": 2,
       "version_minor": 0
      },
      "text/html": [
       "Cannot show widget. You probably want to rerun the code cell above (<i>Click in the code cell, and press Shift+Enter <kbd>⇧</kbd>+<kbd>↩</kbd></i>)."
      ],
      "text/plain": [
       "Cannot show ipywidgets in text"
      ]
     },
     "metadata": {},
     "output_type": "display_data"
    }
   ],
   "source": [
    "import solara\n",
    "\n",
    "data = \"This is the content of the file\"\n",
    "\n",
    "@solara.component\n",
    "def Page():\n",
    "    with solara.FileDownload(data, \"solara-download-2.txt\"):\n",
    "        solara.Markdown(\"Any text, or even an image\")\n",
    "        solara.Image(\"https://solara.dev/static/public/beach.jpeg\", width=\"200px\")\n",
    "        \n",
    "\n",
    "Page()\n",
    "\n",
    "# widgets.VBox(\n",
    "#             children=[Page()]\n",
    "# )"
   ]
  },
  {
   "cell_type": "code",
   "execution_count": 11,
   "metadata": {},
   "outputs": [],
   "source": [
    "import solara\n",
    "\n",
    "data = \"This is the content of the file\"\n",
    "\n",
    "@solara.component\n",
    "def Page():\n",
    "    \n",
    "widgets.VBox(\n",
    "            children=[\n",
    "    with solara.FileDownload(data, \"solara-download-2.txt\"):\n",
    "        solara.Button(\"Custom download button\", icon_name=\"mdi-cloud-download-outline\", color=\"primary\")"
   ]
  }
 ],
 "metadata": {
  "kernelspec": {
   "display_name": ".venv_yellow",
   "language": "python",
   "name": "python3"
  },
  "language_info": {
   "codemirror_mode": {
    "name": "ipython",
    "version": 3
   },
   "file_extension": ".py",
   "mimetype": "text/x-python",
   "name": "python",
   "nbconvert_exporter": "python",
   "pygments_lexer": "ipython3",
   "version": "3.9.13"
  },
  "orig_nbformat": 4
 },
 "nbformat": 4,
 "nbformat_minor": 2
}
