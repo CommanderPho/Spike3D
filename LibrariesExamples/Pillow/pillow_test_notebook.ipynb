{
 "cells": [
  {
   "attachments": {},
   "cell_type": "markdown",
   "metadata": {},
   "source": [
    "Documentation of `flexitext` https://github.com/tomicapretto/flexitext \n",
    "\n",
    "a neat library that allows you to write text in a markup language to be rendered in matplotlib figures"
   ]
  },
  {
   "cell_type": "code",
   "execution_count": 5,
   "metadata": {},
   "outputs": [
    {
     "name": "stdout",
     "output_type": "stream",
     "text": [
      "Automatic pdb calling has been turned OFF\n",
      "The autoreload extension is already loaded. To reload it, use:\n",
      "  %reload_ext autoreload\n"
     ]
    }
   ],
   "source": [
    "%config IPCompleter.use_jedi = False\n",
    "%pdb off\n",
    "%load_ext autoreload\n",
    "%autoreload 3\n",
    "import matplotlib\n",
    "import matplotlib.pyplot as plt\n",
    "from flexitext import flexitext\n",
    "from PIL import Image, ImageDraw, ImageFont\n",
    "\n",
    "\n",
    "def empty_image(width: int=800, height: int=600, background_color = (255, 255, 255, 0)) -> Image:\n",
    "\t# Create a new empty image\n",
    "    # Parameters: mode (RGB, RGBA, etc.), size (width, height), color (default is black)\n",
    "\n",
    "    if len(background_color) > 3:\n",
    "        img_type: str = 'RGB'\n",
    "    else:\n",
    "        assert len(background_color) == 4, f\"length of background_color should be 3 or 4, but it was: {background_color}\"\n",
    "        img_type: str = 'RGBA'\n",
    "        \n",
    "    # Create a white background image\n",
    "    # width, height = 800, 600\n",
    "    # background_color = (255, 255, 255)  # White in RGB\n",
    "    # img = Image.new('RGB', (width, height), background_color)\n",
    "\n",
    "    # Create a transparent image (with alpha channel)\n",
    "    # transparent_img = Image.new('RGBA', (width, height), (255, 255, 255, 0))  # Transparent white\n",
    "    return Image.new(img_type, (width, height), background_color)\n",
    "\n"
   ]
  },
  {
   "cell_type": "code",
   "execution_count": null,
   "metadata": {},
   "outputs": [],
   "source": [
    "fig, ax = plt.subplots(figsize=(9, 6))\n",
    "fig.subplots_adjust(top=0.8, left=0.025)\n",
    "\n",
    "x = [1, 2, 3]\n",
    "y_blue = [2, 2.7, 4.5]\n",
    "y_red = [1, 3, 2.5]\n",
    "\n",
    "\n",
    "ax.scatter(x, y_blue, color=\"royalblue\", s=120)\n",
    "ax.scatter(x, y_red, color=\"crimson\", s=120)\n",
    "\n",
    "# Add flexitext\n",
    "text = (\n",
    "    \"<name:Montserrat><size:24>A <weight:bold>great chart</> showing</>\\n\"\n",
    "    \"<size:18>the values for the \"\n",
    "    \"<color:royalblue, weight:bold>blues</> and the <color:crimson, weight:bold>reds</></></>\"\n",
    ")\n",
    "flexitext(0.025, 0.8, text, va=\"bottom\", xycoords=\"figure fraction\");"
   ]
  },
  {
   "cell_type": "code",
   "execution_count": null,
   "metadata": {},
   "outputs": [],
   "source": [
    "text = (\n",
    "    \"<size:28, color:blueviolet, name:Montserrat>You can write using\\n</>\"\n",
    "    \"<color:grey, size:24>multiple formats,\\nand linebreaks\\n\\n\"\n",
    "    \"<color:royalblue, name:Montserrat>also <weight:bold>bold text\\n\\n</></>\"\n",
    "    \"<name:Montserrat>and why not <color:royalblue, style:italic>italics</> too</></>\"\n",
    ")\n",
    "\n",
    "fig, ax = plt.subplots(figsize=(9, 6))\n",
    "flexitext(0.5, 0.5, text, ha=\"center\", ma=\"center\");"
   ]
  },
  {
   "cell_type": "code",
   "execution_count": null,
   "metadata": {},
   "outputs": [],
   "source": [
    "# Add flexitext\n",
    "text = (\n",
    "    \"<name:Montserrat><size:24>A <weight:bold>great chart</> showing</>\\n\"\n",
    "    \"<size:18>the values for the \"\n",
    "    \"<color:royalblue, weight:bold>blues</> and the <color:crimson, weight:bold>reds</></></>\"\n",
    ")\n",
    "flexitext(0.025, 0.8, text, va=\"bottom\", xycoords=\"figure fraction\");"
   ]
  },
  {
   "cell_type": "markdown",
   "metadata": {},
   "source": [
    "# Example: Draw Partial Opacity Text"
   ]
  },
  {
   "cell_type": "code",
   "execution_count": 6,
   "metadata": {},
   "outputs": [
    {
     "data": {
      "image/png": "[encoded data removed]",
      "text/plain": [
       "<PIL.Image.Image image mode=RGB size=800x200>"
      ]
     },
     "execution_count": 6,
     "metadata": {},
     "output_type": "execute_result"
    }
   ],
   "source": [
    "from PIL import Image, ImageDraw, ImageFont\n",
    "\n",
    "\n",
    "empty_image = empty_image(width=800, height=200)\n",
    "empty_image\n"
   ]
  },
  {
   "cell_type": "code",
   "execution_count": null,
   "metadata": {},
   "outputs": [
    {
     "ename": "ImportError",
     "evalue": "cannot import name 'tests' from 'PIL' (c:\\Users\\pho\\repos\\Spike3DWorkEnv\\Spike3D\\.venv_UV\\lib\\site-packages\\PIL\\__init__.py)",
     "output_type": "error",
     "traceback": [
      "\u001b[1;31m---------------------------------------------------------------------------\u001b[0m",
      "\u001b[1;31mImportError\u001b[0m                               Traceback (most recent call last)",
      "Cell \u001b[1;32mIn[8], line 1\u001b[0m\n\u001b[1;32m----> 1\u001b[0m \u001b[38;5;28;01mfrom\u001b[39;00m\u001b[38;5;250m \u001b[39m\u001b[38;5;21;01mPIL\u001b[39;00m\u001b[38;5;250m \u001b[39m\u001b[38;5;28;01mimport\u001b[39;00m tests\n",
      "\u001b[1;31mImportError\u001b[0m: cannot import name 'tests' from 'PIL' (c:\\Users\\pho\\repos\\Spike3DWorkEnv\\Spike3D\\.venv_UV\\lib\\site-packages\\PIL\\__init__.py)"
     ]
    }
   ],
   "source": [
    "import pkg_resources # for Slurm templating\n",
    "\n",
    "template_path = pkg_resources.resource_filename('pyphoplacecellanalysis.Resources', 'Templates')\n",
    "template_path"
   ]
  },
  {
   "cell_type": "code",
   "execution_count": 7,
   "metadata": {},
   "outputs": [
    {
     "ename": "OSError",
     "evalue": "cannot open resource",
     "output_type": "error",
     "traceback": [
      "\u001b[1;31m---------------------------------------------------------------------------\u001b[0m",
      "\u001b[1;31mOSError\u001b[0m                                   Traceback (most recent call last)",
      "Cell \u001b[1;32mIn[7], line 13\u001b[0m\n\u001b[0;32m     10\u001b[0m txt \u001b[38;5;241m=\u001b[39m Image\u001b[38;5;241m.\u001b[39mnew(\u001b[38;5;124m\"\u001b[39m\u001b[38;5;124mRGBA\u001b[39m\u001b[38;5;124m\"\u001b[39m, base\u001b[38;5;241m.\u001b[39msize, (\u001b[38;5;241m255\u001b[39m, \u001b[38;5;241m255\u001b[39m, \u001b[38;5;241m255\u001b[39m, \u001b[38;5;241m0\u001b[39m))\n\u001b[0;32m     12\u001b[0m \u001b[38;5;66;03m# get a font\u001b[39;00m\n\u001b[1;32m---> 13\u001b[0m fnt \u001b[38;5;241m=\u001b[39m \u001b[43mImageFont\u001b[49m\u001b[38;5;241;43m.\u001b[39;49m\u001b[43mtruetype\u001b[49m\u001b[43m(\u001b[49m\u001b[38;5;124;43m\"\u001b[39;49m\u001b[38;5;124;43mPillow/Tests/fonts/FreeMono.ttf\u001b[39;49m\u001b[38;5;124;43m\"\u001b[39;49m\u001b[43m,\u001b[49m\u001b[43m \u001b[49m\u001b[38;5;241;43m40\u001b[39;49m\u001b[43m)\u001b[49m\n\u001b[0;32m     14\u001b[0m \u001b[38;5;66;03m# get a drawing context\u001b[39;00m\n\u001b[0;32m     15\u001b[0m d \u001b[38;5;241m=\u001b[39m ImageDraw\u001b[38;5;241m.\u001b[39mDraw(txt)\n",
      "File \u001b[1;32mc:\\Users\\pho\\repos\\Spike3DWorkEnv\\Spike3D\\.venv_UV\\lib\\site-packages\\PIL\\ImageFont.py:996\u001b[0m, in \u001b[0;36mtruetype\u001b[1;34m(font, size, index, encoding, layout_engine)\u001b[0m\n\u001b[0;32m    993\u001b[0m     \u001b[38;5;28;01mreturn\u001b[39;00m FreeTypeFont(font, size, index, encoding, layout_engine)\n\u001b[0;32m    995\u001b[0m \u001b[38;5;28;01mtry\u001b[39;00m:\n\u001b[1;32m--> 996\u001b[0m     \u001b[38;5;28;01mreturn\u001b[39;00m \u001b[43mfreetype\u001b[49m\u001b[43m(\u001b[49m\u001b[43mfont\u001b[49m\u001b[43m)\u001b[49m\n\u001b[0;32m    997\u001b[0m \u001b[38;5;28;01mexcept\u001b[39;00m \u001b[38;5;167;01mOSError\u001b[39;00m:\n\u001b[0;32m    998\u001b[0m     \u001b[38;5;28;01mif\u001b[39;00m \u001b[38;5;129;01mnot\u001b[39;00m is_path(font):\n",
      "File \u001b[1;32mc:\\Users\\pho\\repos\\Spike3DWorkEnv\\Spike3D\\.venv_UV\\lib\\site-packages\\PIL\\ImageFont.py:993\u001b[0m, in \u001b[0;36mtruetype.<locals>.freetype\u001b[1;34m(font)\u001b[0m\n\u001b[0;32m    992\u001b[0m \u001b[38;5;28;01mdef\u001b[39;00m\u001b[38;5;250m \u001b[39m\u001b[38;5;21mfreetype\u001b[39m(font):\n\u001b[1;32m--> 993\u001b[0m     \u001b[38;5;28;01mreturn\u001b[39;00m \u001b[43mFreeTypeFont\u001b[49m\u001b[43m(\u001b[49m\u001b[43mfont\u001b[49m\u001b[43m,\u001b[49m\u001b[43m \u001b[49m\u001b[43msize\u001b[49m\u001b[43m,\u001b[49m\u001b[43m \u001b[49m\u001b[43mindex\u001b[49m\u001b[43m,\u001b[49m\u001b[43m \u001b[49m\u001b[43mencoding\u001b[49m\u001b[43m,\u001b[49m\u001b[43m \u001b[49m\u001b[43mlayout_engine\u001b[49m\u001b[43m)\u001b[49m\n",
      "File \u001b[1;32mc:\\Users\\pho\\repos\\Spike3DWorkEnv\\Spike3D\\.venv_UV\\lib\\site-packages\\PIL\\ImageFont.py:248\u001b[0m, in \u001b[0;36mFreeTypeFont.__init__\u001b[1;34m(self, font, size, index, encoding, layout_engine)\u001b[0m\n\u001b[0;32m    246\u001b[0m                 load_from_bytes(f)\n\u001b[0;32m    247\u001b[0m             \u001b[38;5;28;01mreturn\u001b[39;00m\n\u001b[1;32m--> 248\u001b[0m     \u001b[38;5;28mself\u001b[39m\u001b[38;5;241m.\u001b[39mfont \u001b[38;5;241m=\u001b[39m \u001b[43mcore\u001b[49m\u001b[38;5;241;43m.\u001b[39;49m\u001b[43mgetfont\u001b[49m\u001b[43m(\u001b[49m\n\u001b[0;32m    249\u001b[0m \u001b[43m        \u001b[49m\u001b[43mfont\u001b[49m\u001b[43m,\u001b[49m\u001b[43m \u001b[49m\u001b[43msize\u001b[49m\u001b[43m,\u001b[49m\u001b[43m \u001b[49m\u001b[43mindex\u001b[49m\u001b[43m,\u001b[49m\u001b[43m \u001b[49m\u001b[43mencoding\u001b[49m\u001b[43m,\u001b[49m\u001b[43m \u001b[49m\u001b[43mlayout_engine\u001b[49m\u001b[38;5;241;43m=\u001b[39;49m\u001b[43mlayout_engine\u001b[49m\n\u001b[0;32m    250\u001b[0m \u001b[43m    \u001b[49m\u001b[43m)\u001b[49m\n\u001b[0;32m    251\u001b[0m \u001b[38;5;28;01melse\u001b[39;00m:\n\u001b[0;32m    252\u001b[0m     load_from_bytes(font)\n",
      "\u001b[1;31mOSError\u001b[0m: cannot open resource"
     ]
    }
   ],
   "source": [
    "from copy import deepcopy\n",
    "\n",
    "\n",
    "base = deepcopy(empty_image)\n",
    "\n",
    "# get an image\n",
    "# with Image.open(\"Pillow/Tests/images/hopper.png\").convert(\"RGBA\") as base:\n",
    "\n",
    "# make a blank image for the text, initialized to transparent text color\n",
    "txt = Image.new(\"RGBA\", base.size, (255, 255, 255, 0))\n",
    "\n",
    "# get a font\n",
    "fnt = ImageFont.truetype(\"Pillow/Tests/fonts/FreeMono.ttf\", 40)\n",
    "# get a drawing context\n",
    "d = ImageDraw.Draw(txt)\n",
    "\n",
    "# draw text, half opacity\n",
    "d.text((10, 10), \"Hello\", font=fnt, fill=(255, 255, 255, 128))\n",
    "# draw text, full opacity\n",
    "d.text((10, 60), \"World\", font=fnt, fill=(255, 255, 255, 255))\n",
    "\n",
    "out = Image.alpha_composite(base, txt)\n",
    "\n",
    "out.show()"
   ]
  },
  {
   "cell_type": "markdown",
   "metadata": {},
   "source": [
    "# Example: Draw Multiline Text"
   ]
  },
  {
   "cell_type": "code",
   "execution_count": null,
   "metadata": {},
   "outputs": [],
   "source": [
    "from PIL import Image, ImageDraw, ImageFont\n",
    "\n",
    "# get an image\n",
    "with Image.open(\"Pillow/Tests/images/hopper.png\").convert(\"RGBA\") as base:\n",
    "\n",
    "    # make a blank image for the text, initialized to transparent text color\n",
    "    txt = Image.new(\"RGBA\", base.size, (255, 255, 255, 0))\n",
    "\n",
    "    # get a font\n",
    "    fnt = ImageFont.truetype(\"Pillow/Tests/fonts/FreeMono.ttf\", 40)\n",
    "    # get a drawing context\n",
    "    d = ImageDraw.Draw(txt)\n",
    "\n",
    "    # draw text, half opacity\n",
    "    d.text((10, 10), \"Hello\", font=fnt, fill=(255, 255, 255, 128))\n",
    "    # draw text, full opacity\n",
    "    d.text((10, 60), \"World\", font=fnt, fill=(255, 255, 255, 255))\n",
    "\n",
    "    out = Image.alpha_composite(base, txt)\n",
    "\n",
    "    out.show()"
   ]
  }
 ],
 "metadata": {
  "kernelspec": {
   "display_name": ".venv_UV",
   "language": "python",
   "name": "python3"
  },
  "language_info": {
   "codemirror_mode": {
    "name": "ipython",
    "version": 3
   },
   "file_extension": ".py",
   "mimetype": "text/x-python",
   "name": "python",
   "nbconvert_exporter": "python",
   "pygments_lexer": "ipython3",
   "version": "3.9.13"
  },
  "orig_nbformat": 4
 },
 "nbformat": 4,
 "nbformat_minor": 2
}
