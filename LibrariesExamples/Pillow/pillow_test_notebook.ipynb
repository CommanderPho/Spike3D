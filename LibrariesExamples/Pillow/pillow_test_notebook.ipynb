{
 "cells": [
  {
   "attachments": {},
   "cell_type": "markdown",
   "metadata": {},
   "source": [
    "Documentation of `flexitext` https://github.com/tomicapretto/flexitext \n",
    "\n",
    "a neat library that allows you to write text in a markup language to be rendered in matplotlib figures"
   ]
  },
  {
   "cell_type": "code",
   "execution_count": 1,
   "metadata": {},
   "outputs": [
    {
     "name": "stdout",
     "output_type": "stream",
     "text": [
      "Automatic pdb calling has been turned OFF\n"
     ]
    }
   ],
   "source": [
    "%config IPCompleter.use_jedi = False\n",
    "%pdb off\n",
    "%load_ext autoreload\n",
    "%autoreload 3\n",
    "import matplotlib\n",
    "import matplotlib.pyplot as plt\n",
    "from flexitext import flexitext\n",
    "import PIL\n",
    "from PIL import Image, ImageDraw, ImageFont\n",
    "from pyphocorehelpers.assertion_helpers import Assert\n",
    "# Using importlib.resources instead of pkg_resources\n",
    "import importlib.resources as resources\n",
    "from pathlib import Path\n",
    "from pyphocorehelpers.image_helpers import ImageHelpers\n",
    "\n",
    "# For Python 3.9+\n",
    "# template_path = resources.files('pyphoplacecellanalysis.Resources').joinpath('Templates')\n",
    "# fonts_folder_path = resources.files('pyphoplacecellanalysis.Resources').joinpath('fonts')\n",
    "# Assert.path_exists(fonts_folder_path)\n",
    "\n",
    "# Resources\\fonts\\FreeMono.ttf\n",
    "\n",
    "\n",
    "\n",
    "# def empty_image(width: int=800, height: int=600, background_color = (255, 255, 255, 0)) -> PIL.Image.Image:\n",
    "# \t# Create a new empty image\n",
    "#     # Parameters: mode (RGB, RGBA, etc.), size (width, height), color (default is black)\n",
    "\n",
    "#     if len(background_color) > 3:\n",
    "#         img_type: str = 'RGB'\n",
    "#     else:\n",
    "#         assert len(background_color) == 4, f\"length of background_color should be 3 or 4, but it was: {background_color}\"\n",
    "#         img_type: str = 'RGBA'\n",
    "        \n",
    "#     # Create a white background image\n",
    "#     # width, height = 800, 600\n",
    "#     # background_color = (255, 255, 255)  # White in RGB\n",
    "#     # img = Image.new('RGB', (width, height), background_color)\n",
    "\n",
    "#     # Create a transparent image (with alpha channel)\n",
    "#     # transparent_img = Image.new('RGBA', (width, height), (255, 255, 255, 0))  # Transparent white\n",
    "#     return Image.new(img_type, (width, height), background_color)\n",
    "\n"
   ]
  },
  {
   "cell_type": "code",
   "execution_count": 2,
   "metadata": {},
   "outputs": [
    {
     "name": "stderr",
     "output_type": "stream",
     "text": [
      "findfont: Font family 'Montserrat' not found.\n",
      "findfont: Font family 'Montserrat' not found.\n",
      "findfont: Font family 'Montserrat' not found.\n",
      "findfont: Font family 'Montserrat' not found.\n",
      "findfont: Font family 'Montserrat' not found.\n",
      "findfont: Font family 'Montserrat' not found.\n",
      "findfont: Font family 'Montserrat' not found.\n",
      "findfont: Font family 'Montserrat' not found.\n",
      "findfont: Font family 'Montserrat' not found.\n",
      "findfont: Font family 'Montserrat' not found.\n",
      "findfont: Font family 'Montserrat' not found.\n",
      "findfont: Font family 'Montserrat' not found.\n",
      "findfont: Font family 'Montserrat' not found.\n",
      "findfont: Font family 'Montserrat' not found.\n",
      "findfont: Font family 'Montserrat' not found.\n",
      "findfont: Font family 'Montserrat' not found.\n",
      "findfont: Font family 'Montserrat' not found.\n",
      "findfont: Font family 'Montserrat' not found.\n",
      "findfont: Font family 'Montserrat' not found.\n",
      "findfont: Font family 'Montserrat' not found.\n",
      "findfont: Font family 'Montserrat' not found.\n",
      "findfont: Font family 'Montserrat' not found.\n",
      "findfont: Font family 'Montserrat' not found.\n",
      "findfont: Font family 'Montserrat' not found.\n",
      "findfont: Font family 'Montserrat' not found.\n",
      "findfont: Font family 'Montserrat' not found.\n",
      "findfont: Font family 'Montserrat' not found.\n",
      "findfont: Font family 'Montserrat' not found.\n",
      "findfont: Font family 'Montserrat' not found.\n",
      "findfont: Font family 'Montserrat' not found.\n",
      "findfont: Font family 'Montserrat' not found.\n",
      "findfont: Font family 'Montserrat' not found.\n",
      "findfont: Font family 'Montserrat' not found.\n",
      "findfont: Font family 'Montserrat' not found.\n",
      "findfont: Font family 'Montserrat' not found.\n",
      "findfont: Font family 'Montserrat' not found.\n",
      "findfont: Font family 'Montserrat' not found.\n",
      "findfont: Font family 'Montserrat' not found.\n",
      "findfont: Font family 'Montserrat' not found.\n",
      "findfont: Font family 'Montserrat' not found.\n",
      "findfont: Font family 'Montserrat' not found.\n",
      "findfont: Font family 'Montserrat' not found.\n",
      "findfont: Font family 'Montserrat' not found.\n",
      "findfont: Font family 'Montserrat' not found.\n",
      "findfont: Font family 'Montserrat' not found.\n",
      "findfont: Font family 'Montserrat' not found.\n",
      "findfont: Font family 'Montserrat' not found.\n",
      "findfont: Font family 'Montserrat' not found.\n",
      "findfont: Font family 'Montserrat' not found.\n",
      "findfont: Font family 'Montserrat' not found.\n",
      "findfont: Font family 'Montserrat' not found.\n",
      "findfont: Font family 'Montserrat' not found.\n",
      "findfont: Font family 'Montserrat' not found.\n",
      "findfont: Font family 'Montserrat' not found.\n",
      "findfont: Font family 'Montserrat' not found.\n",
      "findfont: Font family 'Montserrat' not found.\n",
      "findfont: Font family 'Montserrat' not found.\n",
      "findfont: Font family 'Montserrat' not found.\n",
      "findfont: Font family 'Montserrat' not found.\n",
      "findfont: Font family 'Montserrat' not found.\n",
      "findfont: Font family 'Montserrat' not found.\n",
      "findfont: Font family 'Montserrat' not found.\n",
      "findfont: Font family 'Montserrat' not found.\n",
      "findfont: Font family 'Montserrat' not found.\n",
      "findfont: Font family 'Montserrat' not found.\n",
      "findfont: Font family 'Montserrat' not found.\n",
      "findfont: Font family 'Montserrat' not found.\n",
      "findfont: Font family 'Montserrat' not found.\n",
      "findfont: Font family 'Montserrat' not found.\n",
      "findfont: Font family 'Montserrat' not found.\n",
      "findfont: Font family 'Montserrat' not found.\n",
      "findfont: Font family 'Montserrat' not found.\n",
      "findfont: Font family 'Montserrat' not found.\n",
      "findfont: Font family 'Montserrat' not found.\n",
      "findfont: Font family 'Montserrat' not found.\n",
      "findfont: Font family 'Montserrat' not found.\n",
      "findfont: Font family 'Montserrat' not found.\n",
      "findfont: Font family 'Montserrat' not found.\n",
      "findfont: Font family 'Montserrat' not found.\n",
      "findfont: Font family 'Montserrat' not found.\n",
      "findfont: Font family 'Montserrat' not found.\n",
      "findfont: Font family 'Montserrat' not found.\n",
      "findfont: Font family 'Montserrat' not found.\n",
      "findfont: Font family 'Montserrat' not found.\n",
      "findfont: Font family 'Montserrat' not found.\n",
      "findfont: Font family 'Montserrat' not found.\n",
      "findfont: Font family 'Montserrat' not found.\n",
      "findfont: Font family 'Montserrat' not found.\n",
      "findfont: Font family 'Montserrat' not found.\n",
      "findfont: Font family 'Montserrat' not found.\n",
      "findfont: Font family 'Montserrat' not found.\n",
      "findfont: Font family 'Montserrat' not found.\n",
      "findfont: Font family 'Montserrat' not found.\n",
      "findfont: Font family 'Montserrat' not found.\n",
      "findfont: Font family 'Montserrat' not found.\n",
      "findfont: Font family 'Montserrat' not found.\n",
      "findfont: Font family 'Montserrat' not found.\n",
      "findfont: Font family 'Montserrat' not found.\n",
      "findfont: Font family 'Montserrat' not found.\n",
      "findfont: Font family 'Montserrat' not found.\n",
      "findfont: Font family 'Montserrat' not found.\n",
      "findfont: Font family 'Montserrat' not found.\n",
      "findfont: Font family 'Montserrat' not found.\n",
      "findfont: Font family 'Montserrat' not found.\n",
      "findfont: Font family 'Montserrat' not found.\n",
      "findfont: Font family 'Montserrat' not found.\n",
      "findfont: Font family 'Montserrat' not found.\n",
      "findfont: Font family 'Montserrat' not found.\n",
      "findfont: Font family 'Montserrat' not found.\n",
      "findfont: Font family 'Montserrat' not found.\n",
      "findfont: Font family 'Montserrat' not found.\n",
      "findfont: Font family 'Montserrat' not found.\n",
      "findfont: Font family 'Montserrat' not found.\n",
      "findfont: Font family 'Montserrat' not found.\n",
      "findfont: Font family 'Montserrat' not found.\n",
      "findfont: Font family 'Montserrat' not found.\n",
      "findfont: Font family 'Montserrat' not found.\n",
      "findfont: Font family 'Montserrat' not found.\n",
      "findfont: Font family 'Montserrat' not found.\n",
      "findfont: Font family 'Montserrat' not found.\n",
      "findfont: Font family 'Montserrat' not found.\n",
      "findfont: Font family 'Montserrat' not found.\n",
      "findfont: Font family 'Montserrat' not found.\n",
      "findfont: Font family 'Montserrat' not found.\n",
      "findfont: Font family 'Montserrat' not found.\n",
      "findfont: Font family 'Montserrat' not found.\n",
      "findfont: Font family 'Montserrat' not found.\n",
      "findfont: Font family 'Montserrat' not found.\n",
      "findfont: Font family 'Montserrat' not found.\n",
      "findfont: Font family 'Montserrat' not found.\n",
      "findfont: Font family 'Montserrat' not found.\n",
      "findfont: Font family 'Montserrat' not found.\n",
      "findfont: Font family 'Montserrat' not found.\n",
      "findfont: Font family 'Montserrat' not found.\n",
      "findfont: Font family 'Montserrat' not found.\n",
      "findfont: Font family 'Montserrat' not found.\n",
      "findfont: Font family 'Montserrat' not found.\n",
      "findfont: Font family 'Montserrat' not found.\n",
      "findfont: Font family 'Montserrat' not found.\n",
      "findfont: Font family 'Montserrat' not found.\n",
      "findfont: Font family 'Montserrat' not found.\n",
      "findfont: Font family 'Montserrat' not found.\n",
      "findfont: Font family 'Montserrat' not found.\n",
      "findfont: Font family 'Montserrat' not found.\n",
      "findfont: Font family 'Montserrat' not found.\n",
      "findfont: Font family 'Montserrat' not found.\n",
      "findfont: Font family 'Montserrat' not found.\n",
      "findfont: Font family 'Montserrat' not found.\n",
      "findfont: Font family 'Montserrat' not found.\n",
      "findfont: Font family 'Montserrat' not found.\n",
      "findfont: Font family 'Montserrat' not found.\n",
      "findfont: Font family 'Montserrat' not found.\n",
      "findfont: Font family 'Montserrat' not found.\n",
      "findfont: Font family 'Montserrat' not found.\n",
      "findfont: Font family 'Montserrat' not found.\n",
      "findfont: Font family 'Montserrat' not found.\n",
      "findfont: Font family 'Montserrat' not found.\n",
      "findfont: Font family 'Montserrat' not found.\n",
      "findfont: Font family 'Montserrat' not found.\n",
      "findfont: Font family 'Montserrat' not found.\n",
      "findfont: Font family 'Montserrat' not found.\n",
      "findfont: Font family 'Montserrat' not found.\n",
      "findfont: Font family 'Montserrat' not found.\n",
      "findfont: Font family 'Montserrat' not found.\n",
      "findfont: Font family 'Montserrat' not found.\n",
      "findfont: Font family 'Montserrat' not found.\n",
      "findfont: Font family 'Montserrat' not found.\n",
      "findfont: Font family 'Montserrat' not found.\n",
      "findfont: Font family 'Montserrat' not found.\n",
      "findfont: Font family 'Montserrat' not found.\n",
      "findfont: Font family 'Montserrat' not found.\n",
      "findfont: Font family 'Montserrat' not found.\n",
      "findfont: Font family 'Montserrat' not found.\n"
     ]
    },
    {
     "data": {
      "image/png": "[encoded data removed]",
      "text/plain": [
       "<Figure size 900x600 with 1 Axes>"
      ]
     },
     "metadata": {},
     "output_type": "display_data"
    }
   ],
   "source": [
    "fig, ax = plt.subplots(figsize=(9, 6))\n",
    "fig.subplots_adjust(top=0.8, left=0.025)\n",
    "\n",
    "x = [1, 2, 3]\n",
    "y_blue = [2, 2.7, 4.5]\n",
    "y_red = [1, 3, 2.5]\n",
    "\n",
    "\n",
    "ax.scatter(x, y_blue, color=\"royalblue\", s=120)\n",
    "ax.scatter(x, y_red, color=\"crimson\", s=120)\n",
    "\n",
    "# Add flexitext\n",
    "text = (\n",
    "    \"<name:Montserrat><size:24>A <weight:bold>great chart</> showing</>\\n\"\n",
    "    \"<size:18>the values for the \"\n",
    "    \"<color:royalblue, weight:bold>blues</> and the <color:crimson, weight:bold>reds</></></>\"\n",
    ")\n",
    "flexitext(0.025, 0.8, text, va=\"bottom\", xycoords=\"figure fraction\");"
   ]
  },
  {
   "cell_type": "code",
   "execution_count": null,
   "metadata": {},
   "outputs": [],
   "source": [
    "text = (\n",
    "    \"<size:28, color:blueviolet, name:Montserrat>You can write using\\n</>\"\n",
    "    \"<color:grey, size:24>multiple formats,\\nand linebreaks\\n\\n\"\n",
    "    \"<color:royalblue, name:Montserrat>also <weight:bold>bold text\\n\\n</></>\"\n",
    "    \"<name:Montserrat>and why not <color:royalblue, style:italic>italics</> too</></>\"\n",
    ")\n",
    "\n",
    "fig, ax = plt.subplots(figsize=(9, 6))\n",
    "flexitext(0.5, 0.5, text, ha=\"center\", ma=\"center\");"
   ]
  },
  {
   "cell_type": "code",
   "execution_count": null,
   "metadata": {},
   "outputs": [],
   "source": [
    "# Add flexitext\n",
    "text = (\n",
    "    \"<name:Montserrat><size:24>A <weight:bold>great chart</> showing</>\\n\"\n",
    "    \"<size:18>the values for the \"\n",
    "    \"<color:royalblue, weight:bold>blues</> and the <color:crimson, weight:bold>reds</></></>\"\n",
    ")\n",
    "flexitext(0.025, 0.8, text, va=\"bottom\", xycoords=\"figure fraction\");"
   ]
  },
  {
   "cell_type": "markdown",
   "metadata": {},
   "source": [
    "# Example: Draw Partial Opacity Text"
   ]
  },
  {
   "cell_type": "code",
   "execution_count": 3,
   "metadata": {},
   "outputs": [
    {
     "data": {
      "image/png": "[encoded data removed]",
      "text/plain": [
       "<PIL.Image.Image image mode=RGB size=800x200>"
      ]
     },
     "execution_count": 3,
     "metadata": {},
     "output_type": "execute_result"
    }
   ],
   "source": [
    "from PIL import Image, ImageDraw, ImageFont\n",
    "\n",
    "# empty_image = ImageHelpers.empty_image(width=800, height=200)\n",
    "empty_image = ImageHelpers.empty_image(width=800, height=200, background_color=(0, 0, 0, 255))\n",
    "empty_image\n"
   ]
  },
  {
   "cell_type": "code",
   "execution_count": 4,
   "metadata": {},
   "outputs": [
    {
     "data": {
      "text/plain": [
       "WindowsPath('C:/Users/pho/repos/Spike3DWorkEnv/pyPhoCoreHelpers/src/pyphocorehelpers/Resources/fonts/FreeMono.ttf')"
      ]
     },
     "execution_count": 4,
     "metadata": {},
     "output_type": "execute_result"
    }
   ],
   "source": [
    "# Using importlib.resources instead of pkg_resources\n",
    "import importlib.resources as resources\n",
    "from pathlib import Path\n",
    "\n",
    "fonts_folder_path: Path = ImageHelpers.get_font_path()\n",
    "Assert.path_exists(fonts_folder_path)\n",
    "\n",
    "a_font_path: Path = ImageHelpers.get_font_path('FreeMono.ttf')\n",
    "Assert.path_exists(a_font_path)\n",
    "a_font_path\n",
    "# Resources\\fonts\\FreeMono.ttf\n"
   ]
  },
  {
   "cell_type": "code",
   "execution_count": 5,
   "metadata": {},
   "outputs": [
    {
     "data": {
      "text/plain": [
       "<PIL.ImageFont.FreeTypeFont at 0x1aace5417f0>"
      ]
     },
     "execution_count": 5,
     "metadata": {},
     "output_type": "execute_result"
    }
   ],
   "source": [
    "\n",
    "# get a font\n",
    "fnt = ImageHelpers.get_font('FreeMono.ttf', size=88)\n",
    "fnt\n",
    "\n",
    "## OUTPUTS: a_font_path\n"
   ]
  },
  {
   "cell_type": "code",
   "execution_count": 6,
   "metadata": {},
   "outputs": [
    {
     "data": {
      "text/plain": [
       "PIL.Image.Image"
      ]
     },
     "execution_count": 6,
     "metadata": {},
     "output_type": "execute_result"
    }
   ],
   "source": [
    "from copy import deepcopy\n",
    "\n",
    "## INPUTS: a_font_path\n",
    "base = deepcopy(empty_image)\n",
    "base\n",
    "type(base)\n"
   ]
  },
  {
   "cell_type": "code",
   "execution_count": 7,
   "metadata": {},
   "outputs": [
    {
     "data": {
      "image/png": "[encoded data removed]",
      "text/plain": [
       "<PIL.Image.Image image mode=RGBA size=800x200>"
      ]
     },
     "execution_count": 7,
     "metadata": {},
     "output_type": "execute_result"
    }
   ],
   "source": [
    "# get an image\n",
    "# with Image.open(\"Pillow/Tests/images/hopper.png\").convert(\"RGBA\") as base:\n",
    "\n",
    "# make a blank image for the text, initialized to transparent text color\n",
    "txt = Image.new(\"RGBA\", base.size, (255, 255, 255, 0))\n",
    "\n",
    "# get a font\n",
    "fnt = ImageHelpers.get_font('FreeMono.ttf', size=88)\n",
    "# fnt = ImageFont.truetype(\"Pillow/Tests/fonts/FreeMono.ttf\", 40)\n",
    "# get a drawing context\n",
    "d = ImageDraw.Draw(txt)\n",
    "\n",
    "# draw text, half opacity\n",
    "d.text((10, 10), \"Hello\", font=fnt, fill=(255, 255, 255, 128))\n",
    "# draw text, full opacity\n",
    "d.text((10, 60), \"World\", font=fnt, fill=(255, 255, 255, 255))\n",
    "\n",
    "txt\n"
   ]
  },
  {
   "cell_type": "code",
   "execution_count": 19,
   "metadata": {},
   "outputs": [
    {
     "data": {
      "image/png": "[encoded data removed]",
      "text/plain": [
       "<PIL.Image.Image image mode=RGBA size=800x200>"
      ]
     },
     "execution_count": 19,
     "metadata": {},
     "output_type": "execute_result"
    }
   ],
   "source": [
    "# First, ensure both images are in RGBA mode\n",
    "if base.mode != 'RGBA':\n",
    "    base = base.convert('RGBA')\n",
    "    \n",
    "if txt.mode != 'RGBA':\n",
    "    txt = txt.convert('RGBA')\n",
    "\n",
    "out = Image.alpha_composite(base, txt)\n",
    "\n",
    "out #.show()"
   ]
  },
  {
   "cell_type": "markdown",
   "metadata": {},
   "source": [
    "# Example: Draw Multiline Text"
   ]
  },
  {
   "cell_type": "code",
   "execution_count": null,
   "metadata": {},
   "outputs": [
    {
     "data": {
      "image/png": "[encoded data removed]",
      "text/plain": [
       "<PIL.Image.Image image mode=RGBA size=800x200>"
      ]
     },
     "execution_count": 9,
     "metadata": {},
     "output_type": "execute_result"
    }
   ],
   "source": [
    "from PIL import Image, ImageDraw, ImageFont\n",
    "\n",
    "# get an image\n",
    "# with Image.open(\"Pillow/Tests/images/hopper.png\").convert(\"RGBA\") as base:\n",
    "\n",
    "# make a blank image for the text, initialized to transparent text color\n",
    "txt = Image.new(\"RGBA\", base.size, (255, 255, 255, 0))\n",
    "\n",
    "# get a font\n",
    "fnt = ImageHelpers.get_font('FreeMono.ttf', size=40)\n",
    "# get a drawing context\n",
    "d = ImageDraw.Draw(txt)\n",
    "\n",
    "# draw text, half opacity\n",
    "d.text((10, 10), \"Hello\", font=fnt, fill=(255, 255, 255, 128))\n",
    "# draw text, full opacity\n",
    "d.text((10, 50), \"World\", font=fnt, fill=(255, 255, 255, 255)) ## With font size \"40\", specifying a y-pos of \"50\" means that there's a margin of 10 between the two\n",
    "\n",
    "# First, ensure both images are in RGBA mode\n",
    "if base.mode != 'RGBA':\n",
    "    base = base.convert('RGBA')\n",
    "    \n",
    "if txt.mode != 'RGBA':\n",
    "    txt = txt.convert('RGBA')\n",
    "\n",
    "out = Image.alpha_composite(base, txt)\n",
    "\n",
    "out\n",
    "# out.show()"
   ]
  },
  {
   "cell_type": "code",
   "execution_count": null,
   "metadata": {},
   "outputs": [],
   "source": []
  }
 ],
 "metadata": {
  "kernelspec": {
   "display_name": ".venv_UV",
   "language": "python",
   "name": "python3"
  },
  "language_info": {
   "codemirror_mode": {
    "name": "ipython",
    "version": 3
   },
   "file_extension": ".py",
   "mimetype": "text/x-python",
   "name": "python",
   "nbconvert_exporter": "python",
   "pygments_lexer": "ipython3",
   "version": "3.9.13"
  },
  "orig_nbformat": 4
 },
 "nbformat": 4,
 "nbformat_minor": 2
}
