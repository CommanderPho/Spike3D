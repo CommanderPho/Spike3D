{
  "cells": [
    {
      "cell_type": "markdown",
      "metadata": {},
      "source": [
        "# 2024-03-13 - Custom Multi-line formatted/colored matplotlib text:\n",
        "\n",
        "Mainly `AnchoredCustomText`\n"
      ]
    },
    {
      "cell_type": "code",
      "execution_count": 1,
      "metadata": {
        "collapsed": false,
        "notebookRunGroups": {
          "groupValue": "1"
        }
      },
      "outputs": [
        {
          "name": "stdout",
          "output_type": "stream",
          "text": [
            "Automatic pdb calling has been turned OFF\n",
            "['cmsy10', 'DejaVu Sans Mono', 'Arial', 'Ink Free', 'STIXSizeThreeSym', 'Tahoma', 'STIXGeneral', 'TeX Gyre Heros', 'STIXNonUnicode', 'Gabriola', 'DejaVu Sans Display', 'MS Gothic', 'Open Sans', 'Microsoft Yi Baiti', 'MingLiU-ExtB', 'Constantia', 'STIXSizeFiveSym', 'cmss10', 'Segoe UI', 'DejaVu Serif Display', 'Sylfaen', 'Trebuchet MS', 'Cambria', 'Times New Roman', 'cmmi10', 'Microsoft PhagsPa', 'Consolas', 'Segoe UI Symbol', 'Microsoft Himalaya', 'TeX Gyre Bonum', 'Noto Sans', 'Gadugi', 'HoloLens MDL2 Assets', 'cmtt10', 'TeX Gyre Adventor', 'TeX Gyre Pagella', 'TeX Gyre Chorus', 'MV Boli', 'Fira Sans', 'DejaVu Serif', 'Mongolian Baiti', 'Segoe UI Emoji', 'Lucida Sans Unicode', 'TeX Gyre Schola', 'Verdana', 'Javanese Text', 'cmb10', 'Noto Serif', 'Yu Gothic', 'Microsoft Tai Le', 'Franklin Gothic Medium', 'Sitka Small', 'Marlett', 'Symbol', 'cmr10', 'Fira Math', 'STIXSizeTwoSym', 'Microsoft New Tai Lue', 'Source Serif Pro', 'Ubuntu', 'Ebrima', 'TeX Gyre Cursor', 'Source Sans Pro', 'Webdings', 'Malgun Gothic', 'TeX Gyre Termes', 'Roboto', 'Candara', 'Segoe MDL2 Assets', 'Impact', 'Leelawadee UI', 'Wingdings', 'Segoe Print', 'Nirmala UI', 'Bahnschrift', 'STIXSizeFourSym', 'Myanmar Text', 'Microsoft Sans Serif', 'STIXSizeOneSym', 'Palatino Linotype', 'Calibri', 'cmex10', 'SimSun', 'Lucida Console', 'Courier New', 'Georgia', 'Comic Sans MS', 'Microsoft YaHei', 'Segoe UI Historic', 'DejaVu Sans', 'SimSun-ExtB', 'Microsoft JhengHei', 'Segoe Script', 'Corbel']\n"
          ]
        },
        {
          "data": {
            "text/plain": [
              "'Source Sans Pro'"
            ]
          },
          "execution_count": 1,
          "metadata": {},
          "output_type": "execute_result"
        }
      ],
      "source": [
        "%config IPCompleter.use_jedi = False\n",
        "%pdb off\n",
        "%load_ext autoreload\n",
        "%autoreload 3\n",
        "# required to enable non-blocking interaction:\n",
        "%gui qt5\n",
        "\n",
        "from typing import Dict, List, Tuple, Optional, Callable, Union, Any\n",
        "from nptyping import NDArray\n",
        "\n",
        "import numpy as np\n",
        "import pandas as pd\n",
        "\n",
        "import matplotlib\n",
        "from matplotlib import font_manager\n",
        "import matplotlib.pyplot as plt\n",
        "\n",
        "matplotlib.use('Qt5Agg')\n",
        "plt.switch_backend('Qt5Agg')\n",
        "plt.interactive(True)\n",
        "\n",
        "# List available font families\n",
        "print(font_manager.get_font_names())\n",
        "'Source Serif Pro'\n",
        "'Source Sans Pro'\n"
      ]
    },
    {
      "cell_type": "code",
      "execution_count": 2,
      "metadata": {
        "notebookRunGroups": {
          "groupValue": "1"
        }
      },
      "outputs": [],
      "source": [
        "test_test: str = \"wcorr: -0.754\\n$P_i$: 0.052\\npearsonr: -0.76\""
      ]
    },
    {
      "cell_type": "code",
      "execution_count": null,
      "metadata": {},
      "outputs": [],
      "source": [
        "# Set a different font family\n",
        "font = font_manager.FontProperties(family='DejaVu Sans')\n",
        "at = plt.axes().annotate(test_test, xy=(0.5, 0.5), xycoords='axes fraction',\n",
        "                         fontproperties=font)\n",
        "\n",
        "\n"
      ]
    },
    {
      "cell_type": "code",
      "execution_count": null,
      "metadata": {},
      "outputs": [],
      "source": [
        "import matplotlib.pyplot as plt\n",
        "\n",
        "# Set a system font (e.g., Arial)\n",
        "plt.rcParams['font.family'] = 'Arial'\n",
        "\n",
        "at = plt.axes().annotate(test_test, xy=(0.5, 0.5), xycoords='axes fraction')"
      ]
    },
    {
      "cell_type": "code",
      "execution_count": null,
      "metadata": {},
      "outputs": [],
      "source": [
        "# font_prop = font_manager.FontProperties(family='DejaVu Sans',\n",
        "#                               size=10,\n",
        "#                             #   weight='bold',\n",
        "#                             #   style='italic',\n",
        "#                               )\n",
        "\n",
        "'Source Serif Pro'\n",
        "font_prop = font_manager.FontProperties(family='Source Sans Pro', # 'Source Code Pro'\n",
        "                              size=10,\n",
        "                            #   weight='bold',\n",
        "                            #   style='italic',\n",
        "                              )\n",
        "\n",
        "\n",
        "at = plt.axes().annotate(test_test, xy=(0.5, 0.5), xycoords='axes fraction', fontproperties=font_prop)"
      ]
    },
    {
      "cell_type": "code",
      "execution_count": null,
      "metadata": {},
      "outputs": [],
      "source": [
        "font_prop = font_manager.FontProperties(family='Source Serif Pro', # 'Source Code Pro'\n",
        "                              size=10,\n",
        "                            #   weight='bold',\n",
        "                            #   style='italic',\n",
        "                              )\n",
        "\n",
        "\n",
        "at = plt.axes().annotate(test_test, xy=(0.5, 0.5), xycoords='axes fraction', fontproperties=font_prop)"
      ]
    },
    {
      "cell_type": "code",
      "execution_count": null,
      "metadata": {},
      "outputs": [],
      "source": [
        "plt.rcParams['legend.title_fontsize']"
      ]
    },
    {
      "cell_type": "markdown",
      "metadata": {},
      "source": [
        "# 2024-03-12 - exploration: multi-line formatted text"
      ]
    },
    {
      "cell_type": "code",
      "execution_count": null,
      "metadata": {},
      "outputs": [],
      "source": [
        "import colorsys\n",
        "from neuropy.utils.mathutil import map_to_fixed_range, map_value\n",
        "\n",
        "def value_to_color(value, debug_print=True):\n",
        "    \"\"\"\n",
        "    Maps a value between -1.0 and 1.0 to an RGB color code.\n",
        "    -1.0 maps to bright blue, 0.0 maps to dark gray, and 1.0 maps to bright red.\n",
        "    \"\"\"\n",
        "    \n",
        "    magnitude_value: float = np.abs(value)\n",
        "    # norm_value: float = map_to_fixed_range(magnitude_value, x_min=0.0, x_max=1.0)\n",
        "    saturation_component = magnitude_value\n",
        "    # saturation_component = norm_value\n",
        "\n",
        "    if value <= 0:\n",
        "        # Map values from -1.0 to 0.0 to shades of blue\n",
        "        # norm = (value + 1) / 2  # Normalize to [0, 1] range\n",
        "        rgb = colorsys.hsv_to_rgb(0.67, saturation_component, magnitude_value)  # Blue to dark gray\n",
        "    else:\n",
        "        # Map values from 0.0 to 1.0 to shades of red\n",
        "        # norm = value  # No need to normalize\n",
        "        rgb = colorsys.hsv_to_rgb(0.0, saturation_component, magnitude_value)  # Dark gray to red\n",
        "\n",
        "    if debug_print:\n",
        "        print(f'value: {value}')\n",
        "        # print(f'norm_value: {norm_value}')\n",
        "        print(f'magnitude_value: {magnitude_value}')\n",
        "        print(f'saturation_component: {saturation_component}')\n",
        "        print(f'rgb: {rgb}')\n",
        "\n",
        "    return '#{:02x}{:02x}{:02x}'.format(int(rgb[0] * 255), int(rgb[1] * 255), int(rgb[2] * 255))\n"
      ]
    },
    {
      "cell_type": "code",
      "execution_count": null,
      "metadata": {},
      "outputs": [],
      "source": [
        "# Multi-color Labels _________________________________________________________________________________________________ #\n",
        "\n",
        "import re\n",
        "import matplotlib.font_manager as fm\n",
        "from matplotlib.text import TextPath\n",
        "\n",
        "def add_inner_title(ax, title, loc, strokewidth=3, stroke_foreground='w', stroke_alpha=0.9, font_size=None, text_alpha=1.0, **kwargs):\n",
        "    \"\"\"\n",
        "    Add a figure title inside the border of the figure (instead of outside).\n",
        "    The numeric values in the title text are color-coded based on their values between -1.0 and 1.0.\n",
        "    The labels preceding the numeric values are rendered in dark gray.\n",
        "    \"\"\"\n",
        "    import matplotlib.pyplot as plt\n",
        "    from matplotlib.offsetbox import AnchoredText\n",
        "    from matplotlib.patheffects import withStroke\n",
        "\n",
        "    def value_to_color(value):\n",
        "        \"\"\"\n",
        "        Maps a value between -1.0 and 1.0 to an RGB color code.\n",
        "        -1.0 maps to bright blue, 0.0 maps to dark gray, and 1.0 maps to bright red.\n",
        "        \"\"\"\n",
        "        if value <= 0:\n",
        "            norm = (value + 1) / 2\n",
        "            rgb = colorsys.hsv_to_rgb(0.67, 1.0, 1.0 - norm)\n",
        "        else:\n",
        "            norm = value\n",
        "            rgb = colorsys.hsv_to_rgb(0.0, 1.0, 1.0 - norm)\n",
        "\n",
        "        return '#{:02x}{:02x}{:02x}'.format(int(rgb[0] * 255), int(rgb[1] * 255), int(rgb[2] * 255))\n",
        "\n",
        "    text_pop_key_name_list = ('horizontalalignment', 'verticalalignment', 'multialignment', 'rotation')\n",
        "    text_prop_kwargs = kwargs.pop('text_prop_kwargs', {})\n",
        "\n",
        "    # Parse the input string and color-code the numeric values\n",
        "    colored_text = []\n",
        "    for part in re.split(r'([\\d\\.-]+)', title):\n",
        "        if part.replace('.', '').replace('-', '').isdigit():\n",
        "            value = float(part)\n",
        "            color = value_to_color(value)\n",
        "            font_prop = fm.FontProperties(color=color, **text_prop_kwargs.get('fontproperties', {}))\n",
        "            colored_text.append(TextPath((0, 0), part, size=text_prop_kwargs.get('size', None), prop=font_prop))\n",
        "        else:\n",
        "            colored_text.append(part)\n",
        "\n",
        "    text_prop_kwargs.update(\n",
        "        path_effects=[withStroke(foreground=stroke_foreground, linewidth=strokewidth, alpha=stroke_alpha)],\n",
        "        size=(font_size or plt.rcParams['legend.title_fontsize']),\n",
        "        color='#404040',  # Dark gray color for labels\n",
        "        **{k: kwargs.pop(k) for k in text_pop_key_name_list if k in kwargs}\n",
        "    )\n",
        "\n",
        "    at = AnchoredText(colored_text, loc=loc, prop=text_prop_kwargs, pad=0., borderpad=0.5, frameon=False, **kwargs)\n",
        "    ax.add_artist(at)\n",
        "\n",
        "    if text_alpha < 1.0:\n",
        "        at.txt._text.set_alpha(text_alpha)\n",
        "\n",
        "    return at"
      ]
    },
    {
      "cell_type": "code",
      "execution_count": null,
      "metadata": {},
      "outputs": [],
      "source": [
        "fig, ax = plt.subplots(figsize=(6, 4))\n",
        "ax.plot([1, 2, 3, 4], [1, 4, 9, 16], 'ro-')\n",
        "ax.set_title('Test Figure')\n",
        "ax.set_xlabel('X-axis')\n",
        "ax.set_ylabel('Y-axis')\n",
        "\n",
        "# Add a color-coded title with a float value\n",
        "float_value = -0.9\n",
        "title_text = f\"{float_value:.2f}\"\n",
        "add_inner_title(ax, title_text, loc=2, value=float_value)\n",
        "\n",
        "plt.show()"
      ]
    },
    {
      "cell_type": "code",
      "execution_count": null,
      "metadata": {},
      "outputs": [],
      "source": [
        "test_str = \"wcorr: -0.754\\n$P_i$: 0.052\\npearsonr: -0.76\"\n",
        "add_inner_title(ax, test_str, loc=2)"
      ]
    },
    {
      "cell_type": "code",
      "execution_count": null,
      "metadata": {},
      "outputs": [],
      "source": [
        "import matplotlib.pyplot as plt\n",
        "\n",
        "plt.rcParams[\"font.size\"] = 20\n",
        "ax = plt.figure().add_subplot(xticks=[], yticks=[])\n",
        "\n",
        "# The first word, created with text().\n",
        "text = ax.text(.1, .5, \"Matplotlib\", color=\"red\")\n",
        "# Subsequent words, positioned with annotate(), relative to the preceding one.\n",
        "text = ax.annotate(\n",
        "    \" says,\", xycoords=text, xy=(1, 0), verticalalignment=\"bottom\",\n",
        "    color=\"gold\", weight=\"bold\")  # custom properties\n",
        "text = ax.annotate(\n",
        "    \" hello\", xycoords=text, xy=(1, 0), verticalalignment=\"bottom\",\n",
        "    color=\"green\", style=\"italic\")  # custom properties\n",
        "text = ax.annotate(\n",
        "    \" world!\", xycoords=text, xy=(1, 0), verticalalignment=\"bottom\",\n",
        "    color=\"blue\", family=\"serif\")  # custom properties\n",
        "\n",
        "plt.show()"
      ]
    },
    {
      "cell_type": "code",
      "execution_count": null,
      "metadata": {},
      "outputs": [],
      "source": [
        "import matplotlib.pyplot as plt\n",
        "from matplotlib.offsetbox import AnchoredOffsetbox, TextArea, HPacker, VPacker\n",
        "\n",
        "# Create a figure and axis\n",
        "fig, ax = plt.subplots()\n",
        "\n",
        "# Create text areas with different colors and properties\n",
        "text1 = TextArea(\"This is \", textprops=dict(color=\"black\"))\n",
        "text2 = TextArea(\"colored \", textprops=dict(color=\"red\", weight=\"bold\"))\n",
        "text3 = TextArea(\"text!\", textprops=dict(color=\"blue\"))\n",
        "\n",
        "# Combine the text areas horizontally\n",
        "box = HPacker(children=[text1, text2, text3], align=\"center\", pad=0, sep=5)\n",
        "\n",
        "# Create an anchored offset box\n",
        "anchored_box = AnchoredOffsetbox(loc='upper left', child=box, pad=0., frameon=True,\n",
        "                                 bbox_to_anchor=(0., 1.),\n",
        "                                 bbox_transform=ax.transAxes, borderpad=0.)\n",
        "\n",
        "# Add the offset box to the axes\n",
        "ax.add_artist(anchored_box)\n",
        "\n",
        "# Display the plot\n",
        "plt.show()"
      ]
    },
    {
      "cell_type": "code",
      "execution_count": null,
      "metadata": {},
      "outputs": [],
      "source": [
        "\n",
        "\n",
        "# def build_label_value_formatted_text_properties(label: str, value: float):\n",
        "#     \"\"\" Builds a single line of a_label: a_value text labels that can be formatted in different colors, sizes, etc. \n",
        "#     Create text areas with different colors and properties\n",
        "\n",
        "#     from neuropy.utils.matplotlib_helpers import build_label_value_formatted_text_properties\n",
        "\n",
        "\n",
        "#     \"\"\"\n",
        "#     # Create text areas with different colors and properties\n",
        "#     from matplotlib import font_manager\n",
        "\n",
        "#     label_text_props = dict(color=\"black\")\n",
        "#     label_text_props['fontproperties'] = font_manager.FontProperties(family='Source Sans Pro', size=9)\n",
        "    \n",
        "#     # assert not isinstance(value, str)\n",
        "#     value = float(value)\n",
        "#     color = value_to_color(value)\n",
        "#     value_textprops = dict(color=color, weight=\"bold\")\n",
        "#     value_textprops['fontproperties'] = font_manager.FontProperties(family='Source Sans Pro', size=10)\n",
        "\n",
        "#     return label_text_props, value_textprops\n",
        "\n",
        "# def build_label_value_formatted_text(label: str, value: float):\n",
        "#     \"\"\" Builds a single line of a_label: a_value text labels that can be formatted in different colors, sizes, etc. \n",
        "#     Create text areas with different colors and properties\n",
        "#     \"\"\"\n",
        "#     # Create text areas with different colors and properties\n",
        "#     from matplotlib import font_manager\n",
        "#     from matplotlib.offsetbox import AnchoredOffsetbox, TextArea, HPacker, VPacker\n",
        "\n",
        "#     label_text_props, value_textprops = build_label_value_formatted_text_properties(label, value)\n",
        "\n",
        "#     (label, \n",
        "\n",
        "#     ## Build actual labels:\n",
        "#     txtArea_label = TextArea(label, textprops=label_text_props)\n",
        "#     txtArea_formatted_value = TextArea(value, textprops=value_textprops)\n",
        "#     # Combine the text areas horizontally into a single line\n",
        "#     box = HPacker(children=[txtArea_label, txtArea_formatted_value], align=\"center\", pad=0, sep=5)\n",
        "\n",
        "#     return box\n",
        "\n",
        "# def build_formatted_label_values_stack(formated_text_list):\n",
        "#     \"\"\" Builds a single line of a_label: a_value text labels that can be formatted in different colors, sizes, etc. \n",
        "\n",
        "#     Usage:\n",
        "#         import matplotlib.pyplot as plt\n",
        "#         from matplotlib.offsetbox import AnchoredOffsetbox, TextArea, HPacker, VPacker\n",
        "#         from neuropy.utils.matplotlib_helpers import build_formatted_label_values_stack, build_formatted_label_values_stack, value_to_color\n",
        "\n",
        "#         # Create a figure and axis\n",
        "#         fig, ax = plt.subplots()\n",
        "#         formated_text_list = [(\"wcorr: \", -0.754),\n",
        "#                                 (\"$P_i$: \", 0.052), \n",
        "#                                 (\"pearsonr: \", -0.76),\n",
        "#                             ]\n",
        "\n",
        "#         stack_box = build_formatted_label_values_stack(formated_text_list)\n",
        "\n",
        "#         text_kwargs = _helper_build_text_kwargs_flat_top(a_curr_ax=ax)\n",
        "\n",
        "#         anchored_box = AnchoredOffsetbox(child=stack_box, pad=0., frameon=False,**text_kwargs, borderpad=0.)\n",
        "\n",
        "#         # Add the offset box to the axes\n",
        "#         ax.add_artist(anchored_box)\n",
        "\n",
        "#         # Display the plot\n",
        "#         plt.show()\n",
        "\n",
        "\n",
        "#     \"\"\"\n",
        "#     # Create text areas with different colors and properties\n",
        "#     from matplotlib.offsetbox import TextArea, HPacker, VPacker\n",
        "\n",
        "#     stack_box = VPacker(children=[build_label_value_formatted_text(a_label, a_value) for a_label, a_value in formated_text_list], align='right', pad=0, sep=2)\n",
        "#     return stack_box\n",
        "\n",
        "#     # anchored_box = AnchoredOffsetbox(child=stack_box, pad=0., frameon=False, **text_kwargs, borderpad=0.)\n"
      ]
    },
    {
      "cell_type": "markdown",
      "metadata": {},
      "source": [
        "# 2024-03-13 - Multi-color/multi-line labels"
      ]
    },
    {
      "cell_type": "code",
      "execution_count": 3,
      "metadata": {
        "notebookRunGroups": {
          "groupValue": "1"
        }
      },
      "outputs": [
        {
          "data": {
            "text/plain": [
              "' flexitext internally uses the same approach I do, with the VPacker/HPacker!\\n\\n'"
            ]
          },
          "execution_count": 3,
          "metadata": {},
          "output_type": "execute_result"
        }
      ],
      "source": [
        "from attrs import define, field, Factory\n",
        "from typing import Tuple\n",
        "\n",
        "import matplotlib.pyplot as plt\n",
        "from matplotlib.offsetbox import AnchoredOffsetbox, TextArea, HPacker, VPacker\n",
        "\n",
        "## FLEXITEXT-version\n",
        "from flexitext import FlexiText, Style\n",
        "from flexitext.textgrid import make_text_grid, make_grid\n",
        "from flexitext.text import Text as StyledText\n",
        "\n",
        "\n",
        "\n",
        "\"\"\" flexitext internally uses the same approach I do, with the VPacker/HPacker!\n",
        "\n",
        "\"\"\"\n"
      ]
    },
    {
      "cell_type": "code",
      "execution_count": 7,
      "metadata": {},
      "outputs": [
        {
          "data": {
            "text/plain": [
              "0.0"
            ]
          },
          "execution_count": 7,
          "metadata": {},
          "output_type": "execute_result"
        }
      ],
      "source": [
        "import matplotlib as mpl\n",
        "import matplotlib.pyplot as plt\n",
        "\n",
        "from matplotlib import cm\n",
        "import matplotlib.cbook as cbook\n",
        "import matplotlib.colors as colors\n",
        "\n",
        "norm = mpl.colors.Normalize(vmin=-1, vmax=1, clip=True)\n",
        "type(norm) # matplotlib.colors.Normalize\n",
        "norm(-150)"
      ]
    },
    {
      "cell_type": "code",
      "execution_count": null,
      "metadata": {},
      "outputs": [
        {
          "data": {
            "text/plain": [
              "array([0. , 0. , 0. , 0. , 0.9, 1. , 1. ])"
            ]
          },
          "execution_count": 20,
          "metadata": {},
          "output_type": "execute_result"
        }
      ],
      "source": [
        "from neuropy.utils.mathutil import bounded\n",
        "\n",
        "value = -210\n",
        "value = [-150, -65, -0.9, 0, 0.9, 65, 150]\n",
        "\n",
        "bounded(value, vmin=0.0, vmax=1.0) # array([0. , 0. , 0. , 0. , 0.9, 1. , 1. ])\n",
        "bounded(value, vmin=-1.0, vmax=1.0) # array([-1. , -1. , -0.9,  0. ,  0.9,  1. ,  1. ])\n"
      ]
    },
    {
      "cell_type": "code",
      "execution_count": 10,
      "metadata": {},
      "outputs": [
        {
          "data": {
            "text/plain": [
              "matplotlib.colors.LinearSegmentedColormap"
            ]
          },
          "execution_count": 10,
          "metadata": {},
          "output_type": "execute_result"
        }
      ],
      "source": [
        "norm(0)\n",
        "# select a divergent colormap\n",
        "cmap = cm.coolwarm\n",
        "type(cmap)\n"
      ]
    },
    {
      "cell_type": "code",
      "execution_count": 14,
      "metadata": {},
      "outputs": [
        {
          "data": {
            "text/plain": [
              "masked_array(data=[0.  , 0.  , 0.05, 0.5 , 0.95, 1.  , 1.  ],\n",
              "             mask=False,\n",
              "       fill_value=1e+20)"
            ]
          },
          "execution_count": 14,
          "metadata": {},
          "output_type": "execute_result"
        }
      ],
      "source": [
        "# value = -150.0\n",
        "# value = 150.0\n",
        "value = [-150, -65, -0.9, 0, 0.9, 65, 150]\n",
        "\n",
        "# a_norm = mpl.colors.Normalize(vmin=0.0, vmax=1.0, clip=True)\n",
        "a_norm = mpl.colors.Normalize(vmin=-1.0, vmax=1.0, clip=True)\n",
        "value = a_norm(value)\n",
        "value"
      ]
    },
    {
      "cell_type": "code",
      "execution_count": null,
      "metadata": {},
      "outputs": [],
      "source": [
        "cmap.set_extremes(sel"
      ]
    },
    {
      "cell_type": "code",
      "execution_count": 12,
      "metadata": {},
      "outputs": [
        {
          "name": "stdout",
          "output_type": "stream",
          "text": [
            "[0 0 1 2 3 3]\n"
          ]
        },
        {
          "data": {
            "text/plain": [
              "(0.2298057, 0.298717966, 0.753683153, 1.0)"
            ]
          },
          "execution_count": 12,
          "metadata": {},
          "output_type": "execute_result"
        }
      ],
      "source": [
        "# norm=colors.CenteredNorm(), cmap=cmap)\n",
        "\n",
        "\n",
        "bounds = np.array([-0.25, -0.125, 0, 0.5, 1])\n",
        "norm = colors.BoundaryNorm(boundaries=bounds, ncolors=4)\n",
        "\n",
        "print(norm([-0.2, -0.15, -0.02, 0.3, 0.8, 0.99]))\n",
        "\n",
        "cmap(-0.2)\n"
      ]
    },
    {
      "cell_type": "markdown",
      "metadata": {},
      "source": [
        "### Anchored Text positioning exploration"
      ]
    },
    {
      "cell_type": "code",
      "execution_count": null,
      "metadata": {},
      "outputs": [],
      "source": [
        "import matplotlib.pyplot as plt\n",
        "from matplotlib.offsetbox import AnchoredText\n",
        "\n",
        "# Create a figure and an axis\n",
        "a_fig, ax = plt.subplots()\n",
        "\n",
        "# Define your multi-line text with proper newline characters\n",
        "title = \"This is line 1\\nThis is line 2\\nThis is line 3\"\n",
        "\n",
        "# Define text properties (this will ensure that the text within the box is centered)\n",
        "text_prop_kwargs = {'horizontalalignment': 'center',\n",
        "                    # 'va': 'top',\n",
        "                    # 'rotation': -45,\n",
        "                    }\n",
        "\n",
        "\n",
        "\n",
        "# Get the axes bounding box in figure coordinates\n",
        "bbox = ax.get_position()\n",
        "bbox\n",
        "# Compute midpoint between the top of the axis and the top of the figure\n",
        "top_of_axis = bbox.ymax\n",
        "top_of_figure = 1.0\n",
        "midpoint_y = (top_of_axis + top_of_figure) / 2\n",
        "midpoint_y\n",
        "bbox.x0, bbox.x1\n",
        "\n",
        "half_x_margin_width = (1.0 - bbox.width) / 2.0\n",
        "half_x_margin_width\n",
        "\n",
        "half_y_margin_width = (1.0 - bbox.ymax) / 2.0\n",
        "half_y_margin_width\n",
        "\n",
        "bbox_offset_magnitude: float = 0.075\n",
        "\n",
        "bbox_offset_magnitude = (half_x_margin_width, half_y_margin_width)\n",
        "\n",
        "# ax.position()\n",
        "\n",
        "# Create the AnchoredText object with the specified location and properties\n",
        "# Use `loc='upper right'` or `loc=1` for the upper-right corner\n",
        "# Additional kwargs like `bbox_to_anchor` might be useful if you need further adjustments\n",
        "at = AnchoredText(f\"1{title}\", loc='upper left',\n",
        "                        prop=({'rotation': 45, 'horizontalalignment': 'right'} | text_prop_kwargs), pad=0.0, borderpad=0.0, frameon=False,\n",
        "                        bbox_to_anchor=(-bbox_offset_magnitude[0], (1.0 + bbox_offset_magnitude[1])), bbox_transform=ax.transAxes, transform=a_fig.transFigure,\n",
        "                        # transform=ax.transAxes\n",
        "                       )\n",
        "# Add the AnchoredText object to the plot\n",
        "ax.add_artist(at)\n",
        "\n",
        "\n",
        "at2 = AnchoredText(f\"2{title}\", loc='upper right',\n",
        "                        prop=({'rotation': -45, 'horizontalalignment': 'center'} | text_prop_kwargs), pad=0.0, borderpad=0.0, frameon=False,\n",
        "                        bbox_to_anchor=((1.0 + bbox_offset_magnitude[0]), (1.0 + bbox_offset_magnitude[1])), bbox_transform=ax.transAxes, transform=a_fig.transFigure,\n",
        "                        # transform=ax.transAxes,\n",
        "                        \n",
        "                       )\n",
        "# Add the AnchoredText object to the plot\n",
        "ax.add_artist(at2)\n",
        "\n",
        "\n",
        "# Display the plot\n",
        "plt.show()"
      ]
    },
    {
      "cell_type": "code",
      "execution_count": null,
      "metadata": {},
      "outputs": [],
      "source": [
        "# Get the axes bounding box in figure coordinates\n",
        "bbox = ax.get_position()\n",
        "bbox\n",
        "# Compute midpoint between the top of the axis and the top of the figure\n",
        "top_of_axis = bbox.ymax\n",
        "top_of_figure = 1.0\n",
        "midpoint_y = (top_of_axis + top_of_figure) / 2\n",
        "midpoint_y\n",
        "bbox.x0, bbox.x1\n",
        "\n",
        "half_x_margin_width = (1.0 - bbox.width) / 2.0\n",
        "half_x_margin_width\n",
        "\n",
        "half_y_margin_width = (1.0 - bbox.ymax) / 2.0\n",
        "half_y_margin_width\n",
        "\n",
        "# half_x_margin_width = (1.0 - bbox.width) / 2.0\n",
        "# half_x_margin_width\n",
        "\n",
        "# ax.translated(\n",
        "\n",
        "\n",
        "\n",
        "# 1.0 - ax.ymax\n",
        "\n",
        "right_margin_width = 1.0 - bbox.x1\n",
        "right_margin_width"
      ]
    },
    {
      "cell_type": "markdown",
      "metadata": {},
      "source": [
        "### UNUSED class structures"
      ]
    },
    {
      "cell_type": "code",
      "execution_count": null,
      "metadata": {},
      "outputs": [],
      "source": [
        "@define(slots=False)\n",
        "class FormattedLabelLine:\n",
        "    \"\"\" represents a single label value pair, rendered as a line of text\"\"\"\n",
        "    label_text: str = field()\n",
        "    value: float = field()\n",
        "\n",
        "    label_formatting: dict = field()\n",
        "    value_formatting: dict = field()\n",
        "\n",
        "\n",
        "@define(slots=False)\n",
        "class FormattedTextBlock:\n",
        "    \"\"\" the information required to render a block of formatted matplotlib text\n",
        "    - can be multiline\n",
        "    - each line can be formatted with various colors/fonts/etc.\n",
        "\n",
        "    \"\"\"\n",
        "    pass\n"
      ]
    },
    {
      "cell_type": "markdown",
      "metadata": {},
      "source": [
        "### Working splitting/formatting from final text"
      ]
    },
    {
      "cell_type": "code",
      "execution_count": 4,
      "metadata": {
        "notebookRunGroups": {
          "groupValue": "1"
        }
      },
      "outputs": [],
      "source": [
        "from neuropy.utils.matplotlib_helpers import AnchoredCustomText, parse_and_format_unformatted_values_text\n",
        "from neuropy.utils.matplotlib_helpers import ValueFormatter\n",
        "\n",
        "test_text: str = \"wcorr: -0.754\\n$P_i$: 0.052\\npearsonr: -0.76\"\n",
        "a_val_formatter = ValueFormatter()"
      ]
    },
    {
      "cell_type": "code",
      "execution_count": 42,
      "metadata": {},
      "outputs": [],
      "source": [
        "# test_test: str = \"wcorr: -0.754\\n$P_i$: 0.052\\npearsonr: -0.76\"\n",
        "\n",
        "texts, _custom_value_formatter = parse_and_format_unformatted_values_text(test_text, a_val_formatter=a_val_formatter)\n",
        "text_grid: VPacker = make_text_grid(texts, ha=\"right\")\n",
        "text_grid\n",
        "\n",
        "# # Create plot\n",
        "fig, ax = plt.subplots()\n",
        "FlexiText(*texts).plot(0.5, 0.65, ha=\"center\");\n"
      ]
    },
    {
      "cell_type": "code",
      "execution_count": null,
      "metadata": {},
      "outputs": [],
      "source": [
        "plt.switch_backend('Qt5Agg')\n",
        "plt.interactive(True)"
      ]
    },
    {
      "cell_type": "code",
      "execution_count": 5,
      "metadata": {
        "notebookRunGroups": {
          "groupValue": "1"
        }
      },
      "outputs": [],
      "source": [
        "\n",
        "# from neuropy.utils.matplotlib_helpers import build_formatted_label_values_stack, build_formatted_label_values_stack, value_to_color\n",
        "# ==================================================================================================================== #\n",
        "# 2024-03-12 - Multi-color/multi-line labels                                                                           #\n",
        "# ==================================================================================================================== #\n",
        "\n",
        "\n",
        "def _helper_build_text_kwargs_flat_top(a_curr_ax):\n",
        "    \"\"\" captures nothing. \"\"\"\n",
        "    # Get the axes bounding box in figure coordinates\n",
        "    a_fig = a_curr_ax.get_figure()\n",
        "    bbox = a_curr_ax.get_position()\n",
        "    half_x_margin_width = (1.0 - bbox.width) / 2.0\n",
        "    half_y_margin_width = (1.0 - bbox.ymax) / 2.0\n",
        "    bbox_offset_magnitude: Tuple[float,float] = (half_x_margin_width, half_y_margin_width)\n",
        "\n",
        "    # TEXT FORMATTING AND POSITIONING KWARGS _____________________________________________________________________________ #\n",
        "    # text_kwargs = dict(loc='upper center', stroke_alpha=0.35, strokewidth=5, stroke_foreground='k', text_foreground=f'{cls.text_color}', font_size=13, text_alpha=0.8)\n",
        "    # text_kwargs = dict(loc='upper left', stroke_alpha=0.35, strokewidth=4, stroke_foreground='k', text_foreground=f'{cls.text_color}', font_size=11, text_alpha=0.7)\n",
        "    # text_kwargs = dict(stroke_alpha=0.8, strokewidth=4, stroke_foreground='k', text_foreground=f'{cls.text_color}', font_size=10, text_alpha=0.75)\n",
        "    # text_kwargs = dict(stroke_alpha=0.8, strokewidth=5, stroke_foreground='w', text_foreground=f'#013220', font_size=11, text_alpha=0.75)\n",
        "\n",
        "    # font_prop = font_manager.FontProperties(family='Source Sans Pro', # 'Source Code Pro'\n",
        "    #                     #   size=10,\n",
        "    #                     weight='bold',\n",
        "    #                     #   style='italic',\n",
        "    #                     )\n",
        "    # text_kwargs['fontproperties'] = font_prop\n",
        "    text_kwargs = {}\n",
        "\n",
        "    ## Positioning kwargs:\n",
        "    text_kwargs |= dict(loc='upper right',\n",
        "                            # horizontalalignment='center', ## DOES NOTHING?\n",
        "                            #verticalalignment='center', ## BREAKS IT\n",
        "                            # multialignment='r', ## BREAKS IT\n",
        "                            # horizontalalignment='right',  \n",
        "                            # rotation=-45, #transform=a_curr_ax.transAxes,\n",
        "                            bbox_to_anchor=((1.0 + bbox_offset_magnitude[0]), (1.0 + bbox_offset_magnitude[1])), bbox_transform=a_curr_ax.transAxes, transform=a_fig.transFigure,\n",
        "                            # bbox_to_anchor=((1.0 + bbox_offset_magnitude), (1.0 + bbox_offset_magnitude)), bbox_transform=a_curr_ax.transAxes,                        \n",
        "                            ) # oriented in upper-right corner, at a diagonal angle\n",
        "\n",
        "    return text_kwargs\n",
        "\n",
        "\n",
        "# Create a figure and axis\n",
        "fig, ax = plt.subplots(1)\n",
        "\n",
        "# formated_text_list = [(\"wcorr: \", -0.754),\n",
        "#                         (\"$P_i$: \", 0.052), \n",
        "#                         (\"pearsonr: \", -0.76),\n",
        "#                     ]\n",
        "\n",
        "test_text: str = \"wcorr: -0.754\\n$P_i$: 0.052\\npearsonr: -0.76\"\n",
        "\n",
        "# stack_box = build_formatted_label_values_stack(formated_text_list)\n",
        "\n",
        "text_kwargs = _helper_build_text_kwargs_flat_top(a_curr_ax=ax)\n",
        "\n",
        "# anchored_box = AnchoredOffsetbox(child=stack_box, pad=0., frameon=False,**text_kwargs, borderpad=0.)\n",
        "\n",
        "anchored_custom_text = AnchoredCustomText(unformatted_text_block=test_text, pad=0., frameon=False, **text_kwargs, borderpad=0.)\n",
        "\n",
        "# Add the offset box to the axes\n",
        "ax.add_artist(anchored_custom_text)\n",
        "\n",
        "# Display the plot\n",
        "plt.show()"
      ]
    },
    {
      "cell_type": "code",
      "execution_count": null,
      "metadata": {},
      "outputs": [],
      "source": [
        "# new_test_text: str = \"wcorr: 0.943\\n$P_i$: 0.211\\npearsonr: 0.945\"\n",
        "\n",
        "new_test_text: str = \"wcorr: 0.943\\n$P_i$: 0.211\"\n",
        "\n",
        "anchored_custom_text.remove()\n",
        "# anchored_custom_text.update_text(new_test_text)\n",
        "\n",
        "anchored_custom_text = \n",
        "# anchored_custom_text.draw_idle()\n",
        "# Redraw the figure to update the display\n",
        "fig.canvas.draw()\n"
      ]
    },
    {
      "cell_type": "code",
      "execution_count": 28,
      "metadata": {},
      "outputs": [],
      "source": [
        "# fig = anchored_custom_text.axes.get_figure()\n",
        "anchored_custom_text.remove()\n",
        "fig.canvas.draw()"
      ]
    },
    {
      "cell_type": "code",
      "execution_count": 30,
      "metadata": {},
      "outputs": [
        {
          "data": {
            "text/plain": [
              "<neuropy.utils.matplotlib_helpers.AnchoredCustomText at 0x25342e5f4c0>"
            ]
          },
          "execution_count": 30,
          "metadata": {},
          "output_type": "execute_result"
        }
      ],
      "source": [
        "updated_anchored_custom_text = AnchoredCustomText(unformatted_text_block=new_test_text, pad=0., frameon=False, **text_kwargs, borderpad=0.)\n",
        "ax.add_artist(updated_anchored_custom_text)\n"
      ]
    },
    {
      "cell_type": "code",
      "execution_count": 25,
      "metadata": {},
      "outputs": [],
      "source": [
        "new_test_text_more_labels: str = \"wcorr: 0.943\\n$P_i$: 0.211\\npearsonr: 0.945\\nnew_label: 1.00\"\n",
        "anchored_custom_text.update_text(new_test_text_more_labels)\n",
        "# Redraw the figure to update the display\n",
        "fig.canvas.draw()\n"
      ]
    },
    {
      "cell_type": "code",
      "execution_count": null,
      "metadata": {},
      "outputs": [],
      "source": [
        "# anchored_custom_text.stack_box.remove()\n",
        "anchored_custom_text.stack_box.axes"
      ]
    },
    {
      "cell_type": "code",
      "execution_count": null,
      "metadata": {},
      "outputs": [],
      "source": [
        "anchored_custom_text.axes"
      ]
    },
    {
      "cell_type": "code",
      "execution_count": 26,
      "metadata": {},
      "outputs": [],
      "source": [
        "# anchored_custom_text.findobj(match=None, include_self=False)\n",
        "anchored_custom_text.patch.set_ec(\"none\")\n",
        "anchored_custom_text.set_alpha(0.4)\n"
      ]
    },
    {
      "cell_type": "code",
      "execution_count": 27,
      "metadata": {},
      "outputs": [
        {
          "ename": "NotImplementedError",
          "evalue": "cannot remove artist",
          "output_type": "error",
          "traceback": [
            "\u001b[1;31m---------------------------------------------------------------------------\u001b[0m",
            "\u001b[1;31mNotImplementedError\u001b[0m                       Traceback (most recent call last)",
            "Cell \u001b[1;32mIn[27], line 4\u001b[0m\n\u001b[0;32m      2\u001b[0m found_text_areas \u001b[38;5;241m=\u001b[39m anchored_custom_text\u001b[38;5;241m.\u001b[39mfindobj(match\u001b[38;5;241m=\u001b[39mTextArea, include_self\u001b[38;5;241m=\u001b[39m\u001b[38;5;28;01mFalse\u001b[39;00m)\n\u001b[0;32m      3\u001b[0m \u001b[38;5;28;01mfor\u001b[39;00m a_text_area \u001b[38;5;129;01min\u001b[39;00m found_text_areas:\n\u001b[1;32m----> 4\u001b[0m     \u001b[43ma_text_area\u001b[49m\u001b[38;5;241;43m.\u001b[39;49m\u001b[43mremove\u001b[49m\u001b[43m(\u001b[49m\u001b[43m)\u001b[49m\n\u001b[0;32m      5\u001b[0m     \u001b[38;5;66;03m# a_text_area._text.set_alpha(text_alpha)\u001b[39;00m\n",
            "File \u001b[1;32mk:\\FastSwap\\AppData\\VSCode\\yellow\\.venv_yellow\\lib\\site-packages\\matplotlib\\artist.py:257\u001b[0m, in \u001b[0;36mArtist.remove\u001b[1;34m(self)\u001b[0m\n\u001b[0;32m    254\u001b[0m         \u001b[38;5;28mself\u001b[39m\u001b[38;5;241m.\u001b[39mfigure \u001b[38;5;241m=\u001b[39m \u001b[38;5;28;01mNone\u001b[39;00m\n\u001b[0;32m    256\u001b[0m \u001b[38;5;28;01melse\u001b[39;00m:\n\u001b[1;32m--> 257\u001b[0m     \u001b[38;5;28;01mraise\u001b[39;00m \u001b[38;5;167;01mNotImplementedError\u001b[39;00m(\u001b[38;5;124m'\u001b[39m\u001b[38;5;124mcannot remove artist\u001b[39m\u001b[38;5;124m'\u001b[39m)\n",
            "\u001b[1;31mNotImplementedError\u001b[0m: cannot remove artist"
          ]
        }
      ],
      "source": [
        "\n",
        "\n",
        "text_alpha = 0.5\n",
        "found_text_areas = anchored_custom_text.findobj(match=TextArea, include_self=False)\n",
        "for a_text_area in found_text_areas:\n",
        "    a_text_area.remove()\n",
        "    # a_text_area._text.set_alpha(text_alpha)\n"
      ]
    },
    {
      "cell_type": "code",
      "execution_count": 11,
      "metadata": {},
      "outputs": [
        {
          "data": {
            "text/plain": [
              "[<matplotlib.offsetbox.HPacker at 0x253497a0f70>,\n",
              " <matplotlib.offsetbox.HPacker at 0x253497b81f0>,\n",
              " <matplotlib.offsetbox.HPacker at 0x253499296a0>,\n",
              " <matplotlib.offsetbox.HPacker at 0x25349929ca0>,\n",
              " <matplotlib.offsetbox.HPacker at 0x253498cd220>]"
            ]
          },
          "execution_count": 11,
          "metadata": {},
          "output_type": "execute_result"
        }
      ],
      "source": [
        "formatted_row_objs = anchored_custom_text.stack_box.get_children()\n",
        "formatted_row_objs"
      ]
    },
    {
      "cell_type": "code",
      "execution_count": 12,
      "metadata": {},
      "outputs": [
        {
          "data": {
            "text/plain": [
              "[<matplotlib.offsetbox.TextArea at 0x253498f4040>,\n",
              " <matplotlib.offsetbox.TextArea at 0x253498f4250>,\n",
              " <matplotlib.offsetbox.TextArea at 0x25349929130>,\n",
              " <matplotlib.offsetbox.TextArea at 0x253499292e0>,\n",
              " <matplotlib.offsetbox.TextArea at 0x253499294c0>,\n",
              " <matplotlib.offsetbox.TextArea at 0x25349929700>,\n",
              " <matplotlib.offsetbox.TextArea at 0x253499298e0>,\n",
              " <matplotlib.offsetbox.TextArea at 0x25349929ac0>,\n",
              " <matplotlib.offsetbox.TextArea at 0x25349929d00>,\n",
              " <matplotlib.offsetbox.TextArea at 0x25349929ee0>,\n",
              " <matplotlib.offsetbox.TextArea at 0x253498cd040>,\n",
              " <matplotlib.offsetbox.TextArea at 0x253498cd280>]"
            ]
          },
          "execution_count": 12,
          "metadata": {},
          "output_type": "execute_result"
        }
      ],
      "source": [
        "anchored_custom_text.stack_box.findobj(match=TextArea, include_self=False)"
      ]
    },
    {
      "cell_type": "code",
      "execution_count": 13,
      "metadata": {},
      "outputs": [
        {
          "data": {
            "text/plain": [
              "'0.943'"
            ]
          },
          "execution_count": 13,
          "metadata": {},
          "output_type": "execute_result"
        }
      ],
      "source": [
        "label_textArea, value_textArea = formatted_row_objs[0].get_children() # matplotlib.offsetbox.TextArea\n",
        "value_textArea.get_text()"
      ]
    },
    {
      "cell_type": "code",
      "execution_count": 14,
      "metadata": {},
      "outputs": [
        {
          "data": {
            "text/plain": [
              "<matplotlib.offsetbox.VPacker at 0x253497a0f40>"
            ]
          },
          "execution_count": 14,
          "metadata": {},
          "output_type": "execute_result"
        }
      ],
      "source": [
        "stack_box = anchored_custom_text.stack_box\n",
        "# stack_box.get_children()\n",
        "\n",
        "stack_box.set_children([text1, text3])\n"
      ]
    },
    {
      "cell_type": "code",
      "execution_count": null,
      "metadata": {},
      "outputs": [],
      "source": [
        "# Create a figure and axis\n",
        "fig, ax = plt.subplots()\n",
        "\n",
        "\n",
        "sweep_values = np.linspace(start=-1.0, stop=1.0, num=25)\n",
        "formated_text_list = [(\"val: \", v) for v in sweep_values]\n",
        "stack_box = VPacker(children=[build_label_value_formatted_text(a_label, a_value) for a_label, a_value in formated_text_list], align='right', pad=0, sep=2)\n",
        "\n",
        "text_kwargs = _helper_build_text_kwargs_flat_top(a_curr_ax=ax)\n",
        "anchored_box = AnchoredOffsetbox(child=stack_box, pad=0., frameon=False, **text_kwargs, borderpad=0.)\n",
        "\n",
        "# Add the offset box to the axes\n",
        "ax.add_artist(anchored_box)\n",
        "\n",
        "# Display the plot\n",
        "plt.show()"
      ]
    },
    {
      "cell_type": "code",
      "execution_count": null,
      "metadata": {},
      "outputs": [],
      "source": []
    }
  ],
  "metadata": {
    "kernelspec": {
      "display_name": "Python 3",
      "language": "python",
      "name": "python3"
    },
    "language_info": {
      "codemirror_mode": {
        "name": "ipython",
        "version": 3
      },
      "file_extension": ".py",
      "mimetype": "text/x-python",
      "name": "python",
      "nbconvert_exporter": "python",
      "pygments_lexer": "ipython3",
      "version": "3.9.13"
    }
  },
  "nbformat": 4,
  "nbformat_minor": 0
}
