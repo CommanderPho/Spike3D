{
 "cells": [
  {
   "cell_type": "code",
   "execution_count": 1,
   "id": "892be14c-dcec-436e-9474-8c07c848f2f5",
   "metadata": {},
   "outputs": [
    {
     "name": "stdout",
     "output_type": "stream",
     "text": [
      "Automatic pdb calling has been turned OFF\n"
     ]
    }
   ],
   "source": [
    "%config IPCompleter.use_jedi = False\n",
    "%pdb off\n",
    "%load_ext autoreload\n",
    "%autoreload 3\n",
    "\n",
    "# required to enable non-blocking interaction:\n",
    "%gui qt5\n",
    "\n",
    "import sys\n",
    "from copy import deepcopy\n",
    "from typing import Dict, List, Tuple, Optional, Callable, Union, Any\n",
    "from typing_extensions import TypeAlias\n",
    "from nptyping import NDArray\n",
    "import neuropy.utils.type_aliases as types\n",
    "from collections import defaultdict\n",
    "\n",
    "import numpy as np\n",
    "import pandas as pd\n",
    "\n",
    "# Set up numpy print options to only wrap at window width:\n",
    "np.set_printoptions(edgeitems=30, linewidth=100000, formatter=dict(float=lambda x: \"%g\" % x)) # this somehow fucked up and caused rounding of my values...\n",
    "\n",
    "\n",
    "# Plotting\n",
    "# import pylustrator # customization of figures\n",
    "import matplotlib\n",
    "import matplotlib as mpl\n",
    "import matplotlib.pyplot as plt\n",
    "_bak_rcParams = mpl.rcParams.copy()\n",
    "\n",
    "matplotlib.use('Qt5Agg')\n",
    "# %matplotlib inline\n",
    "# %matplotlib widget\n",
    "# %matplotlib auto\n",
    "\n",
    "# Switch to the desired interactivity mode\n",
    "plt.interactive(True)\n",
    "\n",
    "\n",
    "from pyphocorehelpers.indexing_helpers import get_bin_centers\n"
   ]
  },
  {
   "cell_type": "code",
   "execution_count": 2,
   "id": "fd1162f3",
   "metadata": {},
   "outputs": [],
   "source": [
    "import matplotlib.pyplot as plt\n",
    "from matplotlib.widgets import Button\n",
    "\n",
    "# Define the axis properties \n",
    "axis_properties = {\n",
    "    'is_bad_epoch': False,\n",
    "    'needs_review': True,\n",
    "    'is_excluded': False,\n",
    "    # ... Add other properties as needed.\n",
    "}\n",
    "\n",
    "# Function to toggle the properties and update the display\n",
    "def toggle_property(event, property_name):\n",
    "    axis_properties[property_name] = not axis_properties[property_name]\n",
    "    update_display(property_name, buttons[property_name])\n",
    "\n",
    "# Function to update the display/icons after each toggle\n",
    "def update_display(property_name, button):\n",
    "    # Here you could change the appearance of the button based on the state\n",
    "    # For example, change the facecolor of the button:\n",
    "    if axis_properties[property_name]:\n",
    "        button.color = 'green'\n",
    "    else:\n",
    "        button.color = 'red'\n",
    "    button.ax.figure.canvas.draw_idle()  # Redraw the button with new color\n",
    "\n",
    "# Create your main plot here with Matplotlib\n",
    "fig, ax = plt.subplots()\n",
    "\n",
    "# Define the position for buttons. This has to be determined manually.\n",
    "button_positions = {\n",
    "    'is_bad_epoch': [0.1, 0.05, 0.1, 0.075],\n",
    "    'needs_review': [0.25, 0.05, 0.1, 0.075],\n",
    "    'is_excluded': [0.4, 0.05, 0.1, 0.075],\n",
    "    # Define other positions as needed\n",
    "}\n",
    "\n",
    "buttons = {}  # Dictionary to hold buttons\n",
    "\n",
    "for prop in axis_properties:\n",
    "    button_ax = plt.axes(button_positions[prop])  # Define position for this button.\n",
    "    button = Button(button_ax, prop)\n",
    "    button.on_clicked(lambda event, prop=prop: toggle_property(event, prop))\n",
    "    buttons[prop] = button\n",
    "    update_display(prop, button)  # Initial update so buttons have the correct color\n",
    "\n",
    "# Display the plot\n",
    "plt.show()\n"
   ]
  },
  {
   "cell_type": "markdown",
   "id": "c2823601",
   "metadata": {},
   "source": [
    "## SpanSelector - interactive range selector"
   ]
  },
  {
   "cell_type": "code",
   "execution_count": 3,
   "id": "d7b24078",
   "metadata": {},
   "outputs": [],
   "source": [
    "import matplotlib.pyplot as plt\n",
    "import numpy as np\n",
    "\n",
    "from matplotlib.widgets import SpanSelector\n",
    "\n",
    "# Fixing random state for reproducibility\n",
    "np.random.seed(19680801)\n",
    "\n",
    "fig, (ax1, ax2) = plt.subplots(2, figsize=(8, 6))\n",
    "\n",
    "x = np.arange(0.0, 5.0, 0.01)\n",
    "y = np.sin(2 * np.pi * x) + 0.5 * np.random.randn(len(x))\n",
    "\n",
    "ax1.plot(x, y)\n",
    "ax1.set_ylim(-2, 2)\n",
    "ax1.set_title('Press left mouse button and drag '\n",
    "              'to select a region in the top graph')\n",
    "\n",
    "line2, = ax2.plot([], [])\n",
    "\n",
    "\n",
    "def onselect(xmin, xmax):\n",
    "    indmin, indmax = np.searchsorted(x, (xmin, xmax))\n",
    "    indmax = min(len(x) - 1, indmax)\n",
    "\n",
    "    region_x = x[indmin:indmax]\n",
    "    region_y = y[indmin:indmax]\n",
    "\n",
    "    if len(region_x) >= 2:\n",
    "        line2.set_data(region_x, region_y)\n",
    "        ax2.set_xlim(region_x[0], region_x[-1])\n",
    "        ax2.set_ylim(region_y.min(), region_y.max())\n",
    "        fig.canvas.draw_idle()\n",
    "\n",
    "\n",
    "span = SpanSelector(\n",
    "    ax1,\n",
    "    onselect,\n",
    "    \"horizontal\",\n",
    "    useblit=True,\n",
    "    props=dict(alpha=0.5, facecolor=\"tab:blue\"),\n",
    "    interactive=True,\n",
    "    drag_from_anywhere=True\n",
    ")\n",
    "# Set useblit=True on most backends for enhanced performance.\n",
    "\n",
    "\n",
    "plt.show()"
   ]
  },
  {
   "cell_type": "code",
   "execution_count": 8,
   "id": "b79db341",
   "metadata": {},
   "outputs": [],
   "source": [
    "import matplotlib.pyplot as plt\n",
    "import numpy as np\n",
    "\n",
    "from matplotlib.widgets import CheckButtons\n",
    "\n",
    "t = np.arange(0.0, 2.0, 0.01)\n",
    "s0 = np.sin(2*np.pi*t)\n",
    "s1 = np.sin(4*np.pi*t)\n",
    "s2 = np.sin(6*np.pi*t)\n",
    "\n",
    "fig, ax = plt.subplots()\n",
    "l0, = ax.plot(t, s0, visible=False, lw=2, color='black', label='1 Hz')\n",
    "l1, = ax.plot(t, s1, lw=2, color='red', label='2 Hz')\n",
    "l2, = ax.plot(t, s2, lw=2, color='green', label='3 Hz')\n",
    "\n",
    "lines_by_label = {l.get_label(): l for l in [l0, l1, l2]}\n",
    "line_colors = [l.get_color() for l in lines_by_label.values()]\n",
    "\n",
    "# Make checkbuttons with all plotted lines with correct visibility\n",
    "rax = ax.inset_axes([0.0, 0.0, 0.12, 0.90])\n",
    "check = CheckButtons(\n",
    "    ax=rax,\n",
    "    labels=lines_by_label.keys(),\n",
    "    actives=[l.get_visible() for l in lines_by_label.values()],\n",
    "    label_props={'color': line_colors},\n",
    "    frame_props={'edgecolor': line_colors},\n",
    "    check_props={'facecolor': line_colors},\n",
    ")\n",
    "\n",
    "\n",
    "def callback(label):\n",
    "    ln = lines_by_label[label]\n",
    "    ln.set_visible(not ln.get_visible())\n",
    "    ln.figure.canvas.draw_idle()\n",
    "\n",
    "check.on_clicked(callback)\n",
    "\n",
    "plt.show()"
   ]
  },
  {
   "cell_type": "code",
   "execution_count": 9,
   "id": "221b267a",
   "metadata": {},
   "outputs": [],
   "source": [
    "import matplotlib.pyplot as plt\n",
    "import numpy as np\n",
    "\n",
    "from matplotlib.widgets import CheckButtons\n",
    "\n",
    "t = np.arange(0.0, 2.0, 0.01)\n",
    "s0 = np.sin(2*np.pi*t)\n",
    "s1 = np.sin(4*np.pi*t)\n",
    "s2 = np.sin(6*np.pi*t)\n",
    "\n",
    "fig, ax = plt.subplots()\n",
    "l0, = ax.plot(t, s0, visible=False, lw=2, color='black', label='1 Hz')\n",
    "l1, = ax.plot(t, s1, lw=2, color='red', label='2 Hz')\n",
    "l2, = ax.plot(t, s2, lw=2, color='green', label='3 Hz')\n",
    "\n",
    "lines_by_label = {l.get_label(): l for l in [l0, l1, l2]}\n",
    "line_colors = [l.get_color() for l in lines_by_label.values()]\n",
    "\n",
    "# Make checkbuttons with all plotted lines with correct visibility\n",
    "# rax = ax.inset_axes([0.0, 0.0, 0.12, 0.2])\n",
    "# rax = fig.inset_axes([0.0, 0.0, 0.12, 0.2])\n",
    "\n",
    "# # Get the position of the ax in figure coordinates\n",
    "# ax_pos = ax.get_position()\n",
    "# print(\"Bottom-left corner (x0, y0):\", ax_pos.x0, ax_pos.y0)\n",
    "# print(\"Width and Height (width, height):\", ax_pos.width, ax_pos.height)\n",
    "\n",
    "# ## Get the figure from the axes:\n",
    "# a_fig = ax.get_figure()\n",
    "# ## Fill up to the right edge of the figure:\n",
    "# selection_rect_width = ax_pos.width + (1.0 - (ax_pos.x1)) * 0.75 # fill 75% of the remaining right margin with the box\n",
    "# (ax_pos.x0, ax_pos.y0), selection_rect_width, ax_pos.height, transform=a_fig.transFigure\n",
    "\n",
    "# rax = fig.get_axes([0.0, 0.0, 0.12, 0.2])\n",
    "\n",
    "# rax = ax.inset_axes([0.0, 0.0, 0.3, 0.12])\n",
    "# rax = ax.inset_axes([1.0, 0.0, 0.1, 0.12]) # outside right\n",
    "\n",
    "button_width = 0.2\n",
    "rax = ax.inset_axes([0.5 - (float(button_width)/2.0), 0.0, 0.2, 0.12], facecolor='k') # outside right\n",
    "# rax.set_alpha(0.2)\n",
    "rax.patch.set_alpha(0.2) # Make CheckButtons background fully transparent\n",
    "# rax.set_frame_on(False)\n",
    "# rax.patch.set_lines_visibility(False)\n",
    "# rax.patch.set_linewidth(None)\n",
    "\n",
    "check = CheckButtons(\n",
    "    ax=rax,\n",
    "    labels=lines_by_label.keys(),\n",
    "    actives=[l.get_visible() for l in lines_by_label.values()],\n",
    "    label_props={'color': line_colors},\n",
    "    frame_props={'edgecolor': line_colors, 'facecolor': (1.0, 0.5, 0.5, 0.2)},\n",
    "    check_props={'facecolor': line_colors},\n",
    "    # transform=fig.transFigure,\n",
    ")\n",
    "\n",
    "\n",
    "def callback(label):\n",
    "    ln = lines_by_label[label]\n",
    "    ln.set_visible(not ln.get_visible())\n",
    "    ln.figure.canvas.draw_idle()\n",
    "\n",
    "check.on_clicked(callback)\n",
    "\n",
    "plt.show()"
   ]
  },
  {
   "cell_type": "code",
   "execution_count": 10,
   "id": "9a631de4-2e06-4a8b-be5e-fcc633d45c4b",
   "metadata": {},
   "outputs": [
    {
     "name": "stdout",
     "output_type": "stream",
     "text": [
      "xbin_edges: np.shape: (101,)\n",
      "xbin_centers: np.shape: (100,)\n",
      "ybin_edges: np.shape: (16,)\n",
      "ybin_centers: np.shape: (15,)\n",
      "matrix: np.shape: (100, 15)\n"
     ]
    },
    {
     "data": {
      "text/plain": [
       "' the matrix is a [N_x x N_y] matrix, where the first axis corresponds to the x-value '"
      ]
     },
     "execution_count": 10,
     "metadata": {},
     "output_type": "execute_result"
    }
   ],
   "source": [
    "\"\"\"\n",
    "There should be one bin per center, meaning that there should be 1+num bins edges\n",
    "\"\"\"\n",
    "\n",
    "def debug_print_shapes(*args, **kwargs):\n",
    "    out_strings = []\n",
    "    for i, an_ordered_arg in enumerate(args):\n",
    "        out_strings.append(f'args[{i}]: np.shape: {np.shape(args[i])}')\n",
    "    for key, val in kwargs.items():\n",
    "        out_strings.append(f'{key}: np.shape: {np.shape(val)}')\n",
    "    out_string = '\\n'.join(out_strings)\n",
    "    print(out_string)\n",
    "    \n",
    "    \n",
    "# def test_simple_data():\n",
    "#     # Please note that the histogram does not follow the Cartesian convention where x values are on the abscissa and y values on the ordinate axis. Rather, x is histogrammed along the first dimension of the array (vertical), and y along the second dimension of the array (horizontal).\n",
    "#     raw_occupancy, xedges, yedges = np.histogram2d(x, y, bins=(xbin, ybin))\n",
    "    \n",
    "# def _check_bin_consistency(xbin_edges, ybin_edges, xbin_centers, ybin_centers):\n",
    "    \n",
    "    \n",
    "num_x_bins = 100\n",
    "num_y_bins = 15\n",
    "\n",
    "num_x_bin_edges = num_x_bins + 1\n",
    "num_y_bin_edges = num_y_bins + 1\n",
    "\n",
    "xbin_edges = np.linspace(75.0, 400.0, num=num_x_bin_edges) # Get the bin values\n",
    "ybin_edges = np.linspace(200.0, 240.0, num=num_y_bin_edges) # Get the bin values using fixed endpoints and a fixed number of bins.\n",
    "xbin_centers = get_bin_centers(xbin_edges)\n",
    "ybin_centers = get_bin_centers(ybin_edges)\n",
    "# print(f'xbin_edges: {xbin_edges}\\nxbin_centers: {xbin_centers}\\nybin_edges: {ybin_edges}\\nybin_centers: {ybin_centers}')\n",
    "\n",
    "# Build the data matrix with one entry for each bin\n",
    "matrix = np.zeros((len(xbin_centers), len(ybin_centers)))\n",
    "# Add details to make it possible to tell orientation:\n",
    "matrix[20, 10] = 1.0 # Here, the first index refers to the x-bin, and the second index refers to the y-bin.\n",
    "\n",
    "debug_print_shapes(xbin_edges=xbin_edges, xbin_centers=xbin_centers, ybin_edges=ybin_edges, ybin_centers=ybin_centers, matrix=matrix)\n",
    "\"\"\" the matrix is a [N_x x N_y] matrix, where the first axis corresponds to the x-value \"\"\""
   ]
  },
  {
   "cell_type": "code",
   "execution_count": 11,
   "id": "c399531c-4b8d-4a88-9f20-cdc3697c31e3",
   "metadata": {},
   "outputs": [
    {
     "name": "stdout",
     "output_type": "stream",
     "text": [
      "non_zero_point_xy: (141.625, 228.0)\n",
      "test_xedges: np.shape: (101,)\n",
      "test_yedges: np.shape: (16,)\n",
      "matrix2: np.shape: (100, 15)\n"
     ]
    },
    {
     "data": {
      "text/plain": [
       "\" When our matrix is generated by passing the specific xbin_edges and ybin_edges to the histogram2d function, everyting is consistent with the x-axis as the first dimension, as we'd expect.\""
      ]
     },
     "execution_count": 11,
     "metadata": {},
     "output_type": "execute_result"
    }
   ],
   "source": [
    "def build_test_data_histogram_matrix():\n",
    "    non_zero_point_xy = (xbin_centers[20], ybin_centers[10])\n",
    "    test_x = [xbin_centers[20]]\n",
    "    test_y = [ybin_centers[10]]\n",
    "    print(f'non_zero_point_xy: {non_zero_point_xy}')\n",
    "    matrix2, test_xedges, test_yedges = np.histogram2d(test_x, test_y, bins=(xbin_edges, ybin_edges))\n",
    "    debug_print_shapes(test_xedges=test_xedges, test_yedges=test_yedges, matrix2=matrix2)\n",
    "    return matrix2\n",
    "\n",
    "matrix2 = build_test_data_histogram_matrix()\n",
    "matrix2[20, 10] # using the same indexing scheme used for matrix, we can access the 1.0 element. That is to say that the x-axis is the first dimension, as we'd expect.\n",
    "\"\"\" When our matrix is generated by passing the specific xbin_edges and ybin_edges to the histogram2d function, everyting is consistent with the x-axis as the first dimension, as we'd expect.\"\"\""
   ]
  },
  {
   "cell_type": "code",
   "execution_count": 12,
   "id": "e4afe345-002d-460b-b183-86f0a5f51a3c",
   "metadata": {},
   "outputs": [
    {
     "name": "stdout",
     "output_type": "stream",
     "text": [
      "non_zero_point_xy: (141.625, 228.0)\n",
      "test_yedges: [227.5 227.567 227.633 227.7 227.767 227.833 227.9 227.967 228.033 228.1 228.167 228.233 228.3 228.367 228.433 228.5]\n",
      "test_xedges: np.shape: (101,)\n",
      "test_yedges: np.shape: (16,)\n",
      "matrix3: np.shape: (100, 15)\n"
     ]
    },
    {
     "data": {
      "text/plain": [
       "\" When we instead build the histogram using the num_x_bins and num_y_bins, we get the same np.shape of result and number of bins, but the bin values themselves don't match and the indexing does not work. :[ \""
      ]
     },
     "execution_count": 12,
     "metadata": {},
     "output_type": "execute_result"
    }
   ],
   "source": [
    "def build_test_data_histogram_matrix_num_bins():\n",
    "    non_zero_point_xy = (xbin_centers[20], ybin_centers[10])\n",
    "    test_x = [xbin_centers[20]]\n",
    "    test_y = [ybin_centers[10]]\n",
    "    print(f'non_zero_point_xy: {non_zero_point_xy}')\n",
    "    matrix3, test_xedges, test_yedges = np.histogram2d(test_x, test_y, bins=(num_x_bins, num_y_bins))\n",
    "    print(f'test_yedges: {test_yedges}')\n",
    "    \n",
    "    debug_print_shapes(test_xedges=test_xedges, test_yedges=test_yedges, matrix3=matrix3)\n",
    "    return matrix3\n",
    "\n",
    "matrix3 = build_test_data_histogram_matrix_num_bins()\n",
    "matrix3[20, 10] # using the same indexing scheme used for matrix, we can access the 1.0 element. That is to say that the x-axis is the first dimension, as we'd expect.\n",
    "\"\"\" When we instead build the histogram using the num_x_bins and num_y_bins, we get the same np.shape of result and number of bins, but the bin values themselves don't match and the indexing does not work. :[ \"\"\""
   ]
  },
  {
   "cell_type": "code",
   "execution_count": 13,
   "id": "a9250a01-9add-4614-9ec5-6d6e08a89797",
   "metadata": {},
   "outputs": [
    {
     "name": "stdout",
     "output_type": "stream",
     "text": [
      "max_2d_idx: (20, 10)\n"
     ]
    },
    {
     "data": {
      "text/plain": [
       "228.0"
      ]
     },
     "execution_count": 13,
     "metadata": {},
     "output_type": "execute_result"
    }
   ],
   "source": [
    "# Determine the point that lines up with the peak on the imshow matrix (which we know is artificially at the index [10, 10] of the matrix.\n",
    "\n",
    "lin_max_idx = np.argmax(matrix) # it returns \"1010\", which doesn't seem right to me...\n",
    "max_2d_idx = np.unravel_index(lin_max_idx, np.shape(matrix)) # correct, this returns (10, 10), which is expected.\n",
    "print(f'max_2d_idx: {max_2d_idx}') # returns the same index as would be used to set a value of the matrix ([20, 10])\n",
    "# To find how this relates to the specified xbins, we need to get the xbins at these corresponding values?\n",
    "# The actual (x and y values these bins correspond to is determined by using the same indexing convention as defined before.\n",
    "xbin_centers[max_2d_idx[0]]\n",
    "ybin_centers[max_2d_idx[1]]\n"
   ]
  },
  {
   "cell_type": "markdown",
   "id": "00fae685-67a3-4e0c-a41f-94deef24d064",
   "metadata": {
    "jp-MarkdownHeadingCollapsed": true,
    "tags": []
   },
   "source": [
    "# Testing and Exploration:"
   ]
  },
  {
   "cell_type": "code",
   "execution_count": 14,
   "id": "d98e4529-dce5-477d-b102-a649300c2932",
   "metadata": {},
   "outputs": [],
   "source": [
    "def test_plot_imshow(xbin, ybin, matrix):\n",
    "    \"\"\" fig, ax, im_out = test_plot_imshow(xbin, ybin, matrix) \"\"\"\n",
    "    fig, axs = plt.subplots(ncols=2, nrows=2, figsize=(15,15), clear=True)\n",
    "    # fig, axs = plt.subplots(ncols=2, nrows=2, figsize=(15,15), clear=True)\n",
    "    # plt.subplots_adjust(left=0.25, bottom=0.25)\n",
    "    variable_value = matrix\n",
    "    frame = 0\n",
    "    # main_plot_kwargs = {\n",
    "    #     'cmap': 'viridis',\n",
    "    #     'aspect':'auto',\n",
    "    # }\n",
    "    \n",
    "    main_plot_kwargs = {\n",
    "        'cmap': 'viridis',\n",
    "        # 'aspect':'auto',\n",
    "    }\n",
    "\n",
    "    # xmin, xmax, ymin, ymax = (active_one_step_decoder.active_time_window_centers[0], active_one_step_decoder.active_time_window_centers[-1], active_one_step_decoder.xbin[0], active_one_step_decoder.xbin[-1])\n",
    "    xmin, xmax, ymin, ymax = (xbin[0], xbin[-1], ybin[0], ybin[-1])\n",
    "    # xmin, xmax, ymin, ymax = (active_one_step_decoder.ybin[0], active_one_step_decoder.ybin[-1], active_one_step_decoder.xbin[0], active_one_step_decoder.xbin[-1]) # Reversed x and y axes, seems not good.\n",
    "    extent = (xmin, xmax, ymin, ymax)\n",
    "    \n",
    "    ax = axs[0,0]\n",
    "    im_out = ax.imshow(variable_value, extent=extent, **main_plot_kwargs, origin='lower')\n",
    "    ax.set_title(f'origin=lower \\nextent=(xmin, xmax, ymin, ymax): {extent}')\n",
    "    ax.set_xlabel('x')\n",
    "    ax.set_ylabel('y')\n",
    "    # ax.axis(\"off\")\n",
    "    \n",
    "    ax = axs[0,1]\n",
    "    im_out = ax.imshow(variable_value, extent=extent, **main_plot_kwargs, origin='upper')\n",
    "    ax.set_title(f'origin=upper \\nextent=(xmin, xmax, ymin, ymax): {extent}')\n",
    "    ax.set_xlabel('x')\n",
    "    ax.set_ylabel('y')\n",
    "    \n",
    "    \"\"\"\n",
    "    Note that changing the origin while keeping everything else the same doesn't flip the direction of the yaxis labels despite flipping the yaxis of the data.\n",
    "    \"\"\"\n",
    "    \n",
    "    y_first_extent = (ymin, ymax, xmin, xmax) # swapped the order of the extent axes.\n",
    "    \n",
    "    ax = axs[1,0]\n",
    "    im_out = ax.imshow(variable_value, extent=y_first_extent, **main_plot_kwargs, origin='lower')\n",
    "    ax.set_title(f'origin=lower \\nextent=(ymin, ymax, xmin, xmax): {y_first_extent}')\n",
    "    ax.set_xlabel('x')\n",
    "    ax.set_ylabel('y')\n",
    "    # ax.axis(\"off\")\n",
    "    \n",
    "    ax = axs[1,1]\n",
    "    im_out = ax.imshow(variable_value, extent=y_first_extent, **main_plot_kwargs, origin='upper')\n",
    "    ax.set_title(f'origin=upper \\nextent=(ymin, ymax, xmin, xmax): {y_first_extent}')\n",
    "    ax.set_xlabel('x')\n",
    "    ax.set_ylabel('y')\n",
    "    \n",
    "    # plt.title(f'debug_two_step: {variable_name}')\n",
    "    return fig, axs, im_out\n",
    "\n",
    "def test_add_point(test_point, ax):\n",
    "    \"\"\" line = test_add_point(test_point, ax) \"\"\"\n",
    "    line, = ax.plot(test_point[0], test_point[1], marker='d', markersize=40.0, linestyle='None', color='red')\n",
    "    return line\n",
    "\n",
    "def setup_stable_axes_limits(xbins, ybins, ax):\n",
    "    \" manually sets the axis data limits to disable autoscaling given the xbins/ybins \"\n",
    "    ax.set_xlim(left=xbins[0], right=xbins[-1])\n",
    "    ax.set_ylim(bottom=ybins[0], top=ybins[-1])\n",
    "    "
   ]
  },
  {
   "cell_type": "code",
   "execution_count": 15,
   "id": "a5bbf069-d055-4760-b675-57544b983914",
   "metadata": {},
   "outputs": [
    {
     "data": {
      "text/plain": [
       "398.375"
      ]
     },
     "execution_count": 15,
     "metadata": {},
     "output_type": "execute_result"
    }
   ],
   "source": [
    "xbin_centers[-1]"
   ]
  },
  {
   "cell_type": "code",
   "execution_count": 16,
   "id": "b8c4b0bb-fc1c-4d13-974a-5716365a2e83",
   "metadata": {},
   "outputs": [
    {
     "data": {
      "text/plain": [
       "Text(0, 0.5, 'row, first dimension of array')"
      ]
     },
     "execution_count": 16,
     "metadata": {},
     "output_type": "execute_result"
    }
   ],
   "source": [
    "plt.matshow(matrix)\n",
    "plt.title('How the matrix is actually represented by numpy in memory')\n",
    "plt.xlabel('column, second dimension of arr')\n",
    "plt.ylabel('row, first dimension of array')"
   ]
  },
  {
   "cell_type": "code",
   "execution_count": 17,
   "id": "daeb416e-c6fa-4a28-ae1c-34ec502c6188",
   "metadata": {},
   "outputs": [
    {
     "data": {
      "text/plain": [
       "Text(0.5, 0.98, 'Flipping the extents has no effect at all on the data, although the origin does.')"
      ]
     },
     "execution_count": 17,
     "metadata": {},
     "output_type": "execute_result"
    }
   ],
   "source": [
    "# Perform the plot:\n",
    "fig, ax, plot_im_out = test_plot_imshow(xbin_edges, ybin_edges, matrix)\n",
    "plt.suptitle('Flipping the extents has no effect at all on the data, although the origin does.')"
   ]
  },
  {
   "cell_type": "code",
   "execution_count": 18,
   "id": "09424c45-7aa6-4c49-bdd0-5cbf0673cb47",
   "metadata": {},
   "outputs": [
    {
     "data": {
      "text/plain": [
       "Text(0.5, 0.98, 'Plotting the test_point at the indicies into the matrix causes the view to mess up')"
      ]
     },
     "execution_count": 18,
     "metadata": {},
     "output_type": "execute_result"
    }
   ],
   "source": [
    "test_point = [20, 10]\n",
    "# Perform the plot:\n",
    "fig, axs, plot_im_out = test_plot_imshow(xbin_edges, ybin_edges, matrix)\n",
    "plot_point = test_add_point(test_point, axs[0][0])\n",
    "plot_point = test_add_point(test_point, axs[0][1])\n",
    "plot_point = test_add_point(test_point, axs[1][0])\n",
    "plot_point = test_add_point(test_point, axs[1][1])\n",
    "plt.suptitle('Plotting the test_point at the indicies into the matrix causes the view to mess up')"
   ]
  },
  {
   "cell_type": "code",
   "execution_count": 19,
   "id": "8b4a56c5-3100-4316-a220-136a50147c53",
   "metadata": {},
   "outputs": [
    {
     "data": {
      "text/plain": [
       "Text(0.5, 0.98, 'Changing the origin from lower to upper has no effect on the plotted test_points (by plot). at the indicies into the matrix causes the view to mess up')"
      ]
     },
     "execution_count": 19,
     "metadata": {},
     "output_type": "execute_result"
    }
   ],
   "source": [
    "test_point = [80.0, 210.0]\n",
    "# Perform the plot:\n",
    "fig, axs, plot_im_out = test_plot_imshow(xbin_edges, ybin_edges, matrix)\n",
    "plot_point = test_add_point(test_point, axs[0][0])\n",
    "plot_point = test_add_point(test_point, axs[0][1])\n",
    "plot_point = test_add_point(test_point, axs[1][0])\n",
    "plot_point = test_add_point(test_point, axs[1][1])\n",
    "plt.suptitle('Changing the origin from lower to upper has no effect on the plotted test_points (by plot). at the indicies into the matrix causes the view to mess up')"
   ]
  },
  {
   "cell_type": "markdown",
   "id": "c182566e-7e75-4500-bd9e-a930aba681bd",
   "metadata": {},
   "source": [
    "## The extent set by imshow DOES impact the effect of plotting points with plot(...) on the other hand!"
   ]
  },
  {
   "cell_type": "code",
   "execution_count": null,
   "id": "8e000af8-0bd0-41bc-b709-358daa2dbcee",
   "metadata": {},
   "outputs": [],
   "source": [
    "# test_point = [xbin[max_2d_idx[0]], ybin[max_2d_idx[1]]]\n",
    "# test_point = [xbin[max_2d_idx[1]], ybin[max_2d_idx[0]]] # IndexError: index 20 is out of bounds for axis 0 with size 15\n",
    "test_point = [ybin_edges[max_2d_idx[1]], xbin_edges[max_2d_idx[0]]]\n",
    "# Perform the plot:\n",
    "fig, axs, plot_im_out = test_plot_imshow(xbin_edges, ybin_edges, matrix)\n",
    "plot_point = test_add_point(test_point, axs[0][0])\n",
    "plot_point = test_add_point(test_point, axs[0][1])\n",
    "plot_point = test_add_point(test_point, axs[1][0])\n",
    "plot_point = test_add_point(test_point, axs[1][1])\n",
    "plt.suptitle('Changing the origin from lower to upper has no effect on the plotted test_points (by plot). at the indicies into the matrix causes the view to mess up')"
   ]
  },
  {
   "cell_type": "markdown",
   "id": "2d8f1333-a79a-45c9-b357-206a5c4ca0c4",
   "metadata": {},
   "source": [
    "## See that only the bottom left plot works!"
   ]
  },
  {
   "cell_type": "markdown",
   "id": "72b3693e-81dc-4ca7-a92e-3d522798766f",
   "metadata": {},
   "source": [
    "# Working Configuration:\n",
    "The only configuration that makes the points line up with the underlying heatmap requires:\n",
    "\n",
    "1. The origin must be set to `origin=lower`\n",
    "2. The extents passed to imshow must be set in the form: `y_first_extent = (ymin, ymax, xmin, xmax)`\n",
    "3. points passed into plot are specified as `plot(y_val, x_val)` instead of the customary `plot(x_val, y_val)`. This can be done by building them this way, or flipping the inputs to plot.\n",
    "4. you should NOT set 'aspect='auto'' if you want to preserve the original data shape.\n",
    "5. You need to reverse your calls to ax.set_xlabel and ax.set_ylabel, e.g.: ax.set_xlabel('ACTUALLY Y LABEL')\n",
    "\n",
    "# Note that despite the image being right, the xlabels and ylabels are now WRONG. They're flipped for some reason!\n",
    "\n",
    "# Disable autoscaling to get exactly the plot we want:\n",
    "ax.autoscale(enable=None, axis=\"x\", tight=True) # the tight=true disables margins (which I don't see why we'd need them)\n",
    "ax.autoscale(enable=None, axis=\"y\", tight=True) "
   ]
  },
  {
   "cell_type": "code",
   "execution_count": null,
   "id": "9742a8ed-adea-4e5e-80f3-e379fc7a27da",
   "metadata": {},
   "outputs": [],
   "source": [
    "setup_stable_axes_limits(xbin_edges, ybin_edges, ax[0,0]) # note that the data bounds should be from xbin, not xbin_centers, even though the data should have been computed only on xbin_centers"
   ]
  },
  {
   "cell_type": "markdown",
   "id": "777fd56f-8d28-48d4-9370-b41c6d23b5da",
   "metadata": {
    "tags": []
   },
   "source": [
    "# Final Working Plot"
   ]
  },
  {
   "cell_type": "code",
   "execution_count": null,
   "id": "0dd51073-474a-459c-a478-87e648c08487",
   "metadata": {},
   "outputs": [],
   "source": [
    "# The simple goal is to be able to plot a heatmap, for example one obtained from a 2D histogram of x and y data, and plot it with relevant points overlaying it.\n",
    "\n",
    "def final_x_vertical_plot_imshow(xbin_edges, ybin_edges, matrix):\n",
    "    \"\"\" Plots the matrix data in the 'x == vertical orientation'\n",
    "    \n",
    "    fig, ax, im_out = good_plot_imshow(xbin, ybin, matrix) \"\"\"\n",
    "    def setup_stable_axes_limits(xbins_edges, ybin_edges, ax):\n",
    "        \" manually sets the axis data limits to disable autoscaling given the xbins_edges/ybin_edges \"\n",
    "        # x == vertical orientation:\n",
    "        ax.set_xlim(left=ybin_edges[0], right=ybin_edges[-1])\n",
    "        ax.set_ylim(bottom=xbins_edges[0], top=xbins_edges[-1])\n",
    "        # x == horizontal orientation:\n",
    "        # ax.set_xlim(left=xbins_edges[0], right=xbins_edges[-1])\n",
    "        # ax.set_ylim(bottom=ybin_edges[0], top=ybin_edges[-1])\n",
    "\n",
    "    fig, axs = plt.subplots(ncols=1, nrows=1, figsize=(15,15), clear=True)\n",
    "    variable_value = matrix\n",
    "    \n",
    "    xmin, xmax, ymin, ymax = (xbin_edges[0], xbin_edges[-1], ybin_edges[0], ybin_edges[-1])\n",
    "    y_first_extent = (ymin, ymax, xmin, xmax) # swapped the order of the extent axes.\n",
    "    main_plot_kwargs = {\n",
    "        'cmap': 'viridis',\n",
    "        'origin':'lower',\n",
    "        'extent':y_first_extent,\n",
    "    }\n",
    "    \n",
    "    \"\"\"\n",
    "    Note that changing the origin while keeping everything else the same doesn't flip the direction of the yaxis labels despite flipping the yaxis of the data.\n",
    "    \"\"\"\n",
    "    ax = axs\n",
    "    im_out = ax.imshow(variable_value, **main_plot_kwargs)\n",
    "    ax.set_title(f'origin=lower \\nextent=(ymin, ymax, xmin, xmax): {y_first_extent}')\n",
    "    # Note that the xlabel and ylabel commands are for the opposite axis!\n",
    "    ax.set_xlabel('y')\n",
    "    ax.set_ylabel('x')\n",
    "    setup_stable_axes_limits(xbin_edges, ybin_edges, ax)\n",
    "    return fig, axs, im_out\n",
    "\n",
    "def final_x_vertical_add_point(test_point_x_y, ax):\n",
    "    \"\"\" Plots the data point/points in the 'x == vertical orientation':\n",
    "    line = good_add_point(test_point, test_point[0], ax) \"\"\"\n",
    "    line, = ax.plot(test_point_x_y[1], test_point_x_y[0], marker='d', markersize=40.0, linestyle='None', color='red', alpha=0.5)\n",
    "    return line\n"
   ]
  },
  {
   "cell_type": "markdown",
   "id": "a1fd59ea-e1ff-4493-a1c6-3ede9571b1dd",
   "metadata": {},
   "source": [
    "In common usage, the abscissa refers to the horizontal axis and the ordinate refers to the vertical axis of a standard two-dimensional graph. \n"
   ]
  },
  {
   "cell_type": "code",
   "execution_count": null,
   "id": "389636a6-1a42-4b9a-beaf-067801373cd8",
   "metadata": {},
   "outputs": [],
   "source": [
    "test_point = [xbin_centers[max_2d_idx[0]], ybin_centers[max_2d_idx[1]]] # why wouldn't this be x_bin center if it corresponds to an entry in the matrix with each point corresponding to a center?\n",
    "\n",
    "# Perform the plot:\n",
    "fig, axs, plot_im_out = final_x_vertical_plot_imshow(xbin_edges, ybin_edges, matrix)\n",
    "plot_point = final_x_vertical_add_point(test_point, axs)\n",
    "plt.suptitle('Final x == vertical axis Plot')\n"
   ]
  },
  {
   "cell_type": "markdown",
   "id": "c3a5313f-560f-4d18-a0f8-87a495d6d10c",
   "metadata": {},
   "source": [
    "# Attempt to convert data to typical x == horizontal axis plot:"
   ]
  },
  {
   "cell_type": "code",
   "execution_count": 20,
   "id": "c5e14328-5bf7-45e4-b89d-233ae8946edf",
   "metadata": {},
   "outputs": [],
   "source": [
    "def final_x_horizontal_plot_imshow(xbin_edges, ybin_edges, matrix):\n",
    "    \"\"\" Plots the matrix data in the 'x == horizontal orientation'\n",
    "    fig, ax, im_out = final_x_horizontal_plot_imshow(xbin, ybin, matrix) \"\"\"\n",
    "    def setup_stable_axes_limits(xbins_edges, ybin_edges, ax):\n",
    "        \" manually sets the axis data limits to disable autoscaling given the xbins_edges/ybin_edges \"\n",
    "        # x == horizontal orientation:\n",
    "        ax.set_xlim(left=xbins_edges[0], right=xbins_edges[-1])\n",
    "        ax.set_ylim(bottom=ybin_edges[0], top=ybin_edges[-1])\n",
    "\n",
    "    fig, axs = plt.subplots(ncols=1, nrows=1, figsize=(15,15), clear=True)\n",
    "    variable_value = matrix\n",
    "    \n",
    "    xmin, xmax, ymin, ymax = (xbin_edges[0], xbin_edges[-1], ybin_edges[0], ybin_edges[-1]) # the same for both orientations\n",
    "    x_first_extent = (xmin, xmax, ymin, ymax) # traditional order of the extant axes\n",
    "    # y_first_extent = (ymin, ymax, xmin, xmax) # swapped the order of the extent axes.\n",
    "    main_plot_kwargs = {\n",
    "        'cmap': 'viridis',\n",
    "        'origin':'lower',\n",
    "        'extent':x_first_extent,\n",
    "    }\n",
    "    \n",
    "    \"\"\"\n",
    "    Note that changing the origin while keeping everything else the same doesn't flip the direction of the yaxis labels despite flipping the yaxis of the data.\n",
    "    \"\"\"\n",
    "    ax = axs\n",
    "    im_out = ax.imshow(variable_value, **main_plot_kwargs)\n",
    "    # ax.set_title(f'origin=lower \\nextent=(ymin, ymax, xmin, xmax): {y_first_extent}')\n",
    "    # Note that the xlabel and ylabel commands are for the opposite axis!\n",
    "    ax.set_xlabel('x')\n",
    "    ax.set_ylabel('y')\n",
    "    setup_stable_axes_limits(xbin_edges, ybin_edges, ax)\n",
    "    return fig, axs, im_out\n",
    "\n",
    "def final_x_horizontal_add_point(test_point_x_y, ax):\n",
    "    \"\"\" Plots the data point/points in the 'x == horizontal orientation':\n",
    "    line = final_x_horizontal_add_point(test_point, test_point[0], ax) \"\"\"\n",
    "    line, = ax.plot(test_point_x_y[0], test_point_x_y[1], marker='d', markersize=40.0, linestyle='None', color='red', alpha=0.5)\n",
    "    return line\n",
    "\n"
   ]
  },
  {
   "cell_type": "code",
   "execution_count": 21,
   "id": "589d3f52-d41b-4e94-909a-f264f869ca2c",
   "metadata": {},
   "outputs": [
    {
     "data": {
      "text/plain": [
       "Text(0.5, 0.98, 'Final x == horizontal axis Plot')"
      ]
     },
     "execution_count": 21,
     "metadata": {},
     "output_type": "execute_result"
    }
   ],
   "source": [
    "# Either of these approaches work to format the output in a form that final_x_horizontal_* functions can use:\n",
    "# x_horizontal_matrix = np.swapaxes(matrix, 0, 1)\n",
    "x_horizontal_matrix = matrix.T\n",
    "\n",
    "# Perform the plot:\n",
    "fig, axs, plot_im_out = final_x_horizontal_plot_imshow(xbin_edges, ybin_edges, x_horizontal_matrix)\n",
    "plot_point = final_x_horizontal_add_point(test_point, axs)\n",
    "plt.suptitle('Final x == horizontal axis Plot')"
   ]
  },
  {
   "cell_type": "code",
   "execution_count": null,
   "id": "4bedb7ac-de88-436f-90ff-11a18b8ca093",
   "metadata": {},
   "outputs": [],
   "source": []
  }
 ],
 "metadata": {
  "kernelspec": {
   "display_name": ".venv_UV",
   "language": "python",
   "name": "python3"
  },
  "language_info": {
   "codemirror_mode": {
    "name": "ipython",
    "version": 3
   },
   "file_extension": ".py",
   "mimetype": "text/x-python",
   "name": "python",
   "nbconvert_exporter": "python",
   "pygments_lexer": "ipython3",
   "version": "3.9.13"
  }
 },
 "nbformat": 4,
 "nbformat_minor": 5
}
