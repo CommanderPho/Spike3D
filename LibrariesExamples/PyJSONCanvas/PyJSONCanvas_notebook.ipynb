{
 "cells": [
  {
   "cell_type": "code",
   "execution_count": 3,
   "id": "19b68c03",
   "metadata": {},
   "outputs": [
    {
     "name": "stdout",
     "output_type": "stream",
     "text": [
      "Automatic pdb calling has been turned OFF\n",
      "The autoreload extension is already loaded. To reload it, use:\n",
      "  %reload_ext autoreload\n"
     ]
    }
   ],
   "source": [
    "%config IPCompleter.use_jedi = False\n",
    "%pdb off\n",
    "%load_ext autoreload\n",
    "%autoreload 3\n",
    "# Jupyter-lab enable printing for any line on its own (instead of just the last one in the cell)\n",
    "from IPython.core.interactiveshell import InteractiveShell\n",
    "InteractiveShell.ast_node_interactivity = \"all\"\n",
    "from pathlib import Path\n",
    "import re\n",
    "from typing import Dict, List, Set, Tuple, Optional, Callable, Union, Any\n",
    "from typing_extensions import TypeAlias\n",
    "from nptyping import NDArray\n",
    "import shutil\n",
    "# from pyphocorehelpers.plotting.media_output_helpers import vertical_image_stack, horizontal_image_stack, image_grid # used in `_subfn_build_combined_output_images`\n",
    "from pyphocorehelpers.image_helpers import ImageHelpers\n",
    "import numpy as np\n",
    "import pandas as pd\n",
    "\n",
    "from copy import deepcopy\n",
    "import numpy as np\n",
    "from pyjsoncanvas import (\n",
    "    Canvas,\n",
    "    GenericNode,\n",
    "    TextNode,\n",
    "    FileNode,\n",
    "    LinkNode,\n",
    "    GroupNode,\n",
    "    GroupNodeBackgroundStyle,\n",
    "    Edge,\n",
    "    Color,\n",
    "\tNodeType,\n",
    ")\n",
    "\n",
    "from pyphocorehelpers.Filesystem.obsidian_canvas_helpers import ObsidianCanvasHelper\n",
    "from pyphocorehelpers.Filesystem.obsidian_canvas_helpers import *\n",
    "## Pho Programming Helpers:\n",
    "import inspect\n",
    "from pyphocorehelpers.print_helpers import DocumentationFilePrinter, TypePrintMode, print_keys_if_possible, debug_dump_object_member_shapes, print_value_overview_only, document_active_variables\n",
    "from pyphocorehelpers.programming_helpers import IPythonHelpers, PythonDictionaryDefinitionFormat, MemoryManagement, inspect_callable_arguments, get_arguments_as_optional_dict, GeneratedClassDefinitionType, CodeConversion"
   ]
  },
  {
   "cell_type": "markdown",
   "id": "fcd52d4b",
   "metadata": {},
   "source": [
    "# Multi sessions"
   ]
  },
  {
   "cell_type": "code",
   "execution_count": 4,
   "id": "62eeb421",
   "metadata": {},
   "outputs": [
    {
     "name": "stdout",
     "output_type": "stream",
     "text": [
      "Found folder: vvp01_two_2006-4-09_16-40-54\n",
      "\tsession_name: vvp01_two_2006-4-09_16-40-54\n",
      "Loaded 98 PNG images from '/Volumes/WD_BLACK 2/BlackFastSwap/pho/data/collected_outputs/figures/_temp_individual_posteriors/2025-06-03/vvp01_two_2006-4-09_16-40-54/laps/combined/multi'.\n",
      "creating new Canvas as none was provided!\n"
     ]
    },
    {
     "ename": "FileNotFoundError",
     "evalue": "[Errno 2] No such file or directory: '/Users/pho/repo/Pho Secondary Workspace/Spike3DEnv/Spike3DWorkEnv/Spike3D/LibrariesExamples/PyJSONCanvas/~/Dropbox (Personal)/Active/Kamran Diba Lab/Pho-Kamran-Meetings/2025-05-05 - Context Decoding over Time/PresentationSpecific/z__META\\\\__IMAGES/vvp01_two_2006-4-09_16-40-54-laps-combined-multi-p_x_given_n[000].png'",
     "output_type": "error",
     "traceback": [
      "\u001b[0;31m---------------------------------------------------------------------------\u001b[0m",
      "\u001b[0;31mFileNotFoundError\u001b[0m                         Traceback (most recent call last)",
      "Cell \u001b[0;32mIn[4], line 19\u001b[0m\n\u001b[1;32m     17\u001b[0m \u001b[38;5;66;03m# is_single_canvas = True\u001b[39;00m\n\u001b[1;32m     18\u001b[0m is_single_canvas \u001b[38;5;241m=\u001b[39m \u001b[38;5;28;01mFalse\u001b[39;00m\n\u001b[0;32m---> 19\u001b[0m added_groups_dict, write_modified_canvas_path \u001b[38;5;241m=\u001b[39m \u001b[43mObsidianCanvasHelper\u001b[49m\u001b[38;5;241;43m.\u001b[39;49m\u001b[43mbuild_canvas_for_exported_session_posteriors\u001b[49m\u001b[43m(\u001b[49m\u001b[43msessions_export_folder\u001b[49m\u001b[43m \u001b[49m\u001b[38;5;241;43m=\u001b[39;49m\u001b[43m \u001b[49m\u001b[43msessions_export_folder\u001b[49m\u001b[43m,\u001b[49m\n\u001b[1;32m     20\u001b[0m \u001b[43m                                                    \u001b[49m\u001b[43mintra_session_v_spacing\u001b[49m\u001b[43m \u001b[49m\u001b[38;5;241;43m=\u001b[39;49m\u001b[43m \u001b[49m\u001b[38;5;241;43m3000\u001b[39;49m\u001b[43m,\u001b[49m\u001b[43m \u001b[49m\u001b[43mintra_laps_and_pbes_v_spacing\u001b[49m\u001b[43m \u001b[49m\u001b[38;5;241;43m=\u001b[39;49m\u001b[43m \u001b[49m\u001b[38;5;241;43m1000\u001b[39;49m\u001b[43m,\u001b[49m\u001b[43m \u001b[49m\u001b[43mis_single_canvas\u001b[49m\u001b[43m \u001b[49m\u001b[38;5;241;43m=\u001b[39;49m\u001b[43m \u001b[49m\u001b[43mis_single_canvas\u001b[49m\u001b[43m,\u001b[49m\u001b[43m \u001b[49m\u001b[43mcommon_add_images_to_canvas_kwargs\u001b[49m\u001b[43m \u001b[49m\u001b[38;5;241;43m=\u001b[39;49m\u001b[43m \u001b[49m\u001b[38;5;28;43mdict\u001b[39;49m\u001b[43m(\u001b[49m\u001b[43mdebug_print\u001b[49m\u001b[38;5;241;43m=\u001b[39;49m\u001b[38;5;28;43;01mFalse\u001b[39;49;00m\u001b[43m,\u001b[49m\u001b[43m \u001b[49m\u001b[43mcanvas_image_node_scale\u001b[49m\u001b[38;5;241;43m=\u001b[39;49m\u001b[38;5;241;43m0.1\u001b[39;49m\u001b[43m)\u001b[49m\u001b[43m,\u001b[49m\u001b[43m \u001b[49m\u001b[43mimage_glob\u001b[49m\u001b[38;5;241;43m=\u001b[39;49m\u001b[38;5;124;43m\"\u001b[39;49m\u001b[38;5;124;43mp_x_given_n*.png\u001b[39;49m\u001b[38;5;124;43m\"\u001b[39;49m\u001b[43m,\u001b[49m\n\u001b[1;32m     21\u001b[0m \u001b[43m\t\t\t\t\t\t\t\t\t\t\t\t\t\u001b[49m\u001b[43mobsidian_vault_root_path\u001b[49m\u001b[43m \u001b[49m\u001b[38;5;241;43m=\u001b[39;49m\u001b[43m \u001b[49m\u001b[43mobsidian_vault_root_path\u001b[49m\u001b[43m,\u001b[49m\u001b[43m \u001b[49m\u001b[43mcanvas_folders_url\u001b[49m\u001b[38;5;241;43m=\u001b[39;49m\u001b[43mcanvas_folders_url\u001b[49m\u001b[43m,\u001b[49m\n\u001b[1;32m     22\u001b[0m \u001b[43m                                                \u001b[49m\u001b[43m)\u001b[49m\n",
      "File \u001b[0;32m~/repo/Pho Secondary Workspace/Spike3DEnv/Spike3DWorkEnv/pyPhoCoreHelpers/src/pyphocorehelpers/Filesystem/obsidian_canvas_helpers.py:379\u001b[0m, in \u001b[0;36mObsidianCanvasHelper.build_canvas_for_exported_session_posteriors\u001b[0;34m(cls, sessions_export_folder, intra_session_v_spacing, intra_laps_and_pbes_v_spacing, is_single_canvas, common_add_images_to_canvas_kwargs, image_glob, canvas_folders_url, obsidian_vault_root_path, export_session_folder_relative_path)\u001b[0m\n\u001b[1;32m    377\u001b[0m image_folder_path: Path \u001b[38;5;241m=\u001b[39m session_folder\u001b[38;5;241m.\u001b[39mjoinpath(\u001b[38;5;124mf\u001b[39m\u001b[38;5;124m'\u001b[39m\u001b[38;5;124mlaps/\u001b[39m\u001b[38;5;132;01m{\u001b[39;00mexport_session_folder_relative_path\u001b[38;5;132;01m}\u001b[39;00m\u001b[38;5;124m'\u001b[39m)\u001b[38;5;241m.\u001b[39mresolve()\n\u001b[1;32m    378\u001b[0m \u001b[38;5;28;01mtry\u001b[39;00m:\n\u001b[0;32m--> 379\u001b[0m     target_canvas, laps_group_node, _write_status \u001b[38;5;241m=\u001b[39m \u001b[38;5;28;43mcls\u001b[39;49m\u001b[38;5;241;43m.\u001b[39;49m\u001b[43madd_images_to_canvas\u001b[49m\u001b[43m(\u001b[49m\u001b[43mimage_folder_path\u001b[49m\u001b[38;5;241;43m=\u001b[39;49m\u001b[43mimage_folder_path\u001b[49m\u001b[43m,\u001b[49m\u001b[43m \u001b[49m\u001b[43mimage_glob\u001b[49m\u001b[38;5;241;43m=\u001b[39;49m\u001b[43mimage_glob\u001b[49m\u001b[43m,\u001b[49m\u001b[43m \u001b[49m\u001b[43mtarget_canvas\u001b[49m\u001b[38;5;241;43m=\u001b[39;49m\u001b[43mtarget_canvas\u001b[49m\u001b[43m,\u001b[49m\u001b[43m \u001b[49m\u001b[43mwrite_modified_canvas_path\u001b[49m\u001b[38;5;241;43m=\u001b[39;49m\u001b[43mwrite_modified_canvas_path\u001b[49m\u001b[43m,\u001b[49m\u001b[43m \u001b[49m\u001b[43moverride_write_mode\u001b[49m\u001b[38;5;241;43m=\u001b[39;49m\u001b[38;5;124;43m'\u001b[39;49m\u001b[38;5;124;43mw\u001b[39;49m\u001b[38;5;124;43m'\u001b[39;49m\u001b[43m,\u001b[49m\n\u001b[1;32m    380\u001b[0m \u001b[43m                                                                            \u001b[49m\u001b[43mimage_group_name\u001b[49m\u001b[38;5;241;43m=\u001b[39;49m\u001b[38;5;124;43mf\u001b[39;49m\u001b[38;5;124;43m'\u001b[39;49m\u001b[38;5;124;43mLaps - \u001b[39;49m\u001b[38;5;132;43;01m{\u001b[39;49;00m\u001b[43msession_name\u001b[49m\u001b[38;5;132;43;01m}\u001b[39;49;00m\u001b[38;5;124;43m'\u001b[39;49m\u001b[43m,\u001b[49m\u001b[43m \u001b[49m\u001b[43minitial_x\u001b[49m\u001b[43m \u001b[49m\u001b[38;5;241;43m=\u001b[39;49m\u001b[43m \u001b[49m\u001b[43minitial_x\u001b[49m\u001b[43m,\u001b[49m\u001b[43m \u001b[49m\u001b[43minitial_y\u001b[49m\u001b[43m \u001b[49m\u001b[38;5;241;43m=\u001b[39;49m\u001b[43m \u001b[49m\u001b[43minitial_y\u001b[49m\u001b[43m,\u001b[49m\u001b[43m \u001b[49m\u001b[38;5;241;43m*\u001b[39;49m\u001b[38;5;241;43m*\u001b[39;49m\u001b[43mcommon_add_images_to_canvas_kwargs\u001b[49m\u001b[43m)\u001b[49m\n\u001b[1;32m    381\u001b[0m     \u001b[38;5;28;01mif\u001b[39;00m laps_group_node \u001b[38;5;129;01mis\u001b[39;00m \u001b[38;5;129;01mnot\u001b[39;00m \u001b[38;5;28;01mNone\u001b[39;00m:\n\u001b[1;32m    382\u001b[0m         children_nodes\u001b[38;5;241m.\u001b[39mappend(laps_group_node)\n",
      "File \u001b[0;32m~/repo/Pho Secondary Workspace/Spike3DEnv/Spike3DWorkEnv/pyPhoCoreHelpers/src/pyphocorehelpers/Filesystem/obsidian_canvas_helpers.py:267\u001b[0m, in \u001b[0;36mObsidianCanvasHelper.add_images_to_canvas\u001b[0;34m(cls, image_folder_path, image_glob, target_canvas, write_modified_canvas_path, x_padding, canvas_image_node_scale, image_group_name, initial_x, initial_y, max_num_to_add, obsidian_vault_root_path, vault_relative_image_dir_filepath, override_write_mode, debug_print)\u001b[0m\n\u001b[1;32m    264\u001b[0m an_img_vault_filepath \u001b[38;5;241m=\u001b[39m obsidian_canvas_image_link_path\u001b[38;5;241m.\u001b[39mjoinpath(global_unique_image_filename)\n\u001b[1;32m    265\u001b[0m \u001b[38;5;66;03m# assert not vault_image_filepath.exists()\u001b[39;00m\n\u001b[1;32m    266\u001b[0m \u001b[38;5;66;03m# Copy the file\u001b[39;00m\n\u001b[0;32m--> 267\u001b[0m \u001b[43mshutil\u001b[49m\u001b[38;5;241;43m.\u001b[39;49m\u001b[43mcopy2\u001b[49m\u001b[43m(\u001b[49m\u001b[43man_img_path\u001b[49m\u001b[43m,\u001b[49m\u001b[43m \u001b[49m\u001b[43man_img_vault_filepath\u001b[49m\u001b[43m)\u001b[49m\n\u001b[1;32m    268\u001b[0m \u001b[38;5;28;01mif\u001b[39;00m debug_print:\n\u001b[1;32m    269\u001b[0m     \u001b[38;5;28mprint\u001b[39m(\u001b[38;5;124mf\u001b[39m\u001b[38;5;124m'\u001b[39m\u001b[38;5;124mcopying image from: \u001b[39m\u001b[38;5;124m\"\u001b[39m\u001b[38;5;132;01m{\u001b[39;00man_img_path\u001b[38;5;132;01m}\u001b[39;00m\u001b[38;5;124m\"\u001b[39m\u001b[38;5;124m to vault_image_filepath: \u001b[39m\u001b[38;5;124m\"\u001b[39m\u001b[38;5;132;01m{\u001b[39;00man_img_vault_filepath\u001b[38;5;132;01m}\u001b[39;00m\u001b[38;5;124m\"\u001b[39m\u001b[38;5;124m...\u001b[39m\u001b[38;5;124m'\u001b[39m)\n",
      "File \u001b[0;32m~/.pyenv/versions/3.9.13/lib/python3.9/shutil.py:444\u001b[0m, in \u001b[0;36mcopy2\u001b[0;34m(src, dst, follow_symlinks)\u001b[0m\n\u001b[1;32m    442\u001b[0m \u001b[38;5;28;01mif\u001b[39;00m os\u001b[38;5;241m.\u001b[39mpath\u001b[38;5;241m.\u001b[39misdir(dst):\n\u001b[1;32m    443\u001b[0m     dst \u001b[38;5;241m=\u001b[39m os\u001b[38;5;241m.\u001b[39mpath\u001b[38;5;241m.\u001b[39mjoin(dst, os\u001b[38;5;241m.\u001b[39mpath\u001b[38;5;241m.\u001b[39mbasename(src))\n\u001b[0;32m--> 444\u001b[0m \u001b[43mcopyfile\u001b[49m\u001b[43m(\u001b[49m\u001b[43msrc\u001b[49m\u001b[43m,\u001b[49m\u001b[43m \u001b[49m\u001b[43mdst\u001b[49m\u001b[43m,\u001b[49m\u001b[43m \u001b[49m\u001b[43mfollow_symlinks\u001b[49m\u001b[38;5;241;43m=\u001b[39;49m\u001b[43mfollow_symlinks\u001b[49m\u001b[43m)\u001b[49m\n\u001b[1;32m    445\u001b[0m copystat(src, dst, follow_symlinks\u001b[38;5;241m=\u001b[39mfollow_symlinks)\n\u001b[1;32m    446\u001b[0m \u001b[38;5;28;01mreturn\u001b[39;00m dst\n",
      "File \u001b[0;32m~/.pyenv/versions/3.9.13/lib/python3.9/shutil.py:266\u001b[0m, in \u001b[0;36mcopyfile\u001b[0;34m(src, dst, follow_symlinks)\u001b[0m\n\u001b[1;32m    264\u001b[0m \u001b[38;5;28;01mwith\u001b[39;00m \u001b[38;5;28mopen\u001b[39m(src, \u001b[38;5;124m'\u001b[39m\u001b[38;5;124mrb\u001b[39m\u001b[38;5;124m'\u001b[39m) \u001b[38;5;28;01mas\u001b[39;00m fsrc:\n\u001b[1;32m    265\u001b[0m     \u001b[38;5;28;01mtry\u001b[39;00m:\n\u001b[0;32m--> 266\u001b[0m         \u001b[38;5;28;01mwith\u001b[39;00m \u001b[38;5;28;43mopen\u001b[39;49m\u001b[43m(\u001b[49m\u001b[43mdst\u001b[49m\u001b[43m,\u001b[49m\u001b[43m \u001b[49m\u001b[38;5;124;43m'\u001b[39;49m\u001b[38;5;124;43mwb\u001b[39;49m\u001b[38;5;124;43m'\u001b[39;49m\u001b[43m)\u001b[49m \u001b[38;5;28;01mas\u001b[39;00m fdst:\n\u001b[1;32m    267\u001b[0m             \u001b[38;5;66;03m# macOS\u001b[39;00m\n\u001b[1;32m    268\u001b[0m             \u001b[38;5;28;01mif\u001b[39;00m _HAS_FCOPYFILE:\n\u001b[1;32m    269\u001b[0m                 \u001b[38;5;28;01mtry\u001b[39;00m:\n",
      "\u001b[0;31mFileNotFoundError\u001b[0m: [Errno 2] No such file or directory: '/Users/pho/repo/Pho Secondary Workspace/Spike3DEnv/Spike3DWorkEnv/Spike3D/LibrariesExamples/PyJSONCanvas/~/Dropbox (Personal)/Active/Kamran Diba Lab/Pho-Kamran-Meetings/2025-05-05 - Context Decoding over Time/PresentationSpecific/z__META\\\\__IMAGES/vvp01_two_2006-4-09_16-40-54-laps-combined-multi-p_x_given_n[000].png'"
     ]
    }
   ],
   "source": [
    "## Home/Apogee:\n",
    "# # sessions_export_folder = Path('K:/scratch/collected_outputs/2025-05-27')\n",
    "# sessions_export_folder = Path('K:/scratch/collected_outputs/figures/_temp_individual_posteriors/2025-06-02')\n",
    "# canvas_folders_url = Path(r\"D:/PhoGlobalObsidian2022/🌐🧠 Working Memory/Pho-Kamran Paper 2024/_programmatic_test\")\n",
    "# obsidian_vault_root_path = Path(r'D:\\PhoGlobalObsidian2022')\n",
    "\n",
    "# ## Lab/Linux:\n",
    "# sessions_export_folder = Path('/home/halechr/FastData/collected_outputs/2025-05-27').resolve()\n",
    "# canvas_folders_url = Path(r\"/home/halechr/cloud/Cryptomator/PhoGlobalObsidian2022/🌐🧠 Working Memory/Pho-Kamran Paper 2024/_programmatic_test\")\n",
    "\n",
    "\n",
    "## MacOS\n",
    "sessions_export_folder = Path('/Volumes/WD_BLACK 2/BlackFastSwap/pho/data/collected_outputs/figures/_temp_individual_posteriors/2025-06-03').resolve()\n",
    "canvas_folders_url = Path(\"~/Dropbox (Personal)/Active/Kamran Diba Lab/Pho-Kamran-Meetings/2025-05-05 - Context Decoding over Time/PresentationSpecific/Pho-Kamran Paper 2024/_programmatic_test\").resolve()\n",
    "obsidian_vault_root_path = Path('~/Dropbox (Personal)/Active/Kamran Diba Lab/Pho-Kamran-Meetings/2025-05-05 - Context Decoding over Time/PresentationSpecific').resolve()\n",
    "\n",
    "# is_single_canvas = True\n",
    "is_single_canvas = False\n",
    "added_groups_dict, write_modified_canvas_path = ObsidianCanvasHelper.build_canvas_for_exported_session_posteriors(sessions_export_folder = sessions_export_folder,\n",
    "                                                    intra_session_v_spacing = 3000, intra_laps_and_pbes_v_spacing = 1000, is_single_canvas = is_single_canvas, common_add_images_to_canvas_kwargs = dict(debug_print=False, canvas_image_node_scale=0.1), image_glob=\"p_x_given_n*.png\",\n",
    "\t\t\t\t\t\t\t\t\t\t\t\t\tobsidian_vault_root_path = obsidian_vault_root_path, canvas_folders_url=canvas_folders_url,\n",
    "                                                )"
   ]
  },
  {
   "cell_type": "markdown",
   "id": "f6c3ab91",
   "metadata": {},
   "source": [
    "## Existing Canvas Node Manipulation"
   ]
  },
  {
   "cell_type": "code",
   "execution_count": null,
   "id": "9d3cea68",
   "metadata": {},
   "outputs": [],
   "source": [
    "\n",
    "\n",
    "\n",
    "# existing_canvas_path: Path = Path('D:\\PhoGlobalObsidian2022\\🌐🧠 Working Memory\\Pho-Kamran Paper 2024\\_programmatic_test/ALL_SESSIONS.canvas') # Apogee\n",
    "# existing_canvas_path: Path = Path('/home/halechr/cloud/Cryptomator/PhoGlobalObsidian2022/🌐🧠 Working Memory/Pho-Kamran Paper 2024/_programmatic_test/ALL_SESSIONS.canvas').resolve()\n",
    "\n",
    "existing_canvas_path: Path = Path(r\"D:\\PhoGlobalObsidian2022\\🌐🧠 Working Memory\\Pho-Kamran Paper 2024\\Pho Kamran Paper 2024 Canvas_2025-05-30_Testing.canvas\") ## Apogee\n",
    "assert existing_canvas_path.exists()\n",
    "existing_canvas_path\n",
    "\n",
    "loaded_canvas: Canvas = ObsidianCanvasHelper.load(canvas_url=existing_canvas_path)\n",
    "loaded_canvas\n",
    "\n",
    "\n",
    "# loaded_canvas_nodes: List = loaded_canvas.nodes\n",
    "# Usage:\n",
    "loaded_canvas_nodes: Set[GenericNode] = set(sort_nodes_by_position_and_id(deepcopy(loaded_canvas.nodes)))\n",
    "\n",
    "# print_keys_if_possible(curr_key='loaded_canvas', curr_value=loaded_canvas, max_depth=5)\n",
    "\n",
    "# loaded_group_nodes: List[GroupNode] = [v for v in loaded_canvas_nodes if (v.type.value == NodeType.GROUP.value)]\n",
    "\n",
    "loaded_group_nodes: Set[GroupNode] = set([v for v in loaded_canvas_nodes if (v.type.value == NodeType.GROUP.value)])\n",
    "# loaded_group_nodes\n",
    "\n",
    "remaining_canvas_nodes = deepcopy(loaded_canvas_nodes)\n",
    "remaining_group_nodes = deepcopy(loaded_group_nodes)\n"
   ]
  },
  {
   "cell_type": "code",
   "execution_count": null,
   "id": "115b833f",
   "metadata": {},
   "outputs": [],
   "source": [
    "\n",
    "\n",
    "remaining_canvas_nodes = deepcopy(loaded_canvas_nodes)\n",
    "remaining_group_nodes = deepcopy(loaded_group_nodes)\n",
    "\n",
    "group_organized_node_hierarchy: Dict = {}\n",
    "\n",
    "\n",
    "# for a_group_node in remaining_group_nodes:\n",
    "a_group_node: GroupNode = remaining_group_nodes.pop()\n",
    "\n",
    "\n",
    "def recurrsively_find_nested_groups(a_group_node: GroupNode, remaining_canvas_nodes: Set[GenericNode]) -> Dict:\n",
    "    if len(remaining_canvas_nodes) == 0:\n",
    "        return {}\n",
    "    else:\n",
    "        _out_dict = {}\n",
    "        found_children_nodes = a_group_node.find_children(remaining_canvas_nodes)\n",
    "        ## find group nodes\n",
    "        curr_found_subgroup_nodes: Set[GroupNode] = set([v for v in found_children_nodes if (v.type.value == NodeType.GROUP.value)])\n",
    "        _out_dict.update({v:recurrsively_find_nested_groups(a_group_node=v, remaining_canvas_nodes=found_children_nodes) for v in found_children_nodes if (v.type.value == NodeType.GROUP.value)})\n",
    "\n",
    "        _out_dict[a_group_node] = found_group_children ## need to recurrsively search for group nodes and therefore children here\n",
    "        return _out_dict\n",
    "\n",
    "\n",
    "\n",
    "## OUTPUTS: group_organized_node_hierarchy"
   ]
  },
  {
   "cell_type": "code",
   "execution_count": null,
   "id": "67db8384",
   "metadata": {},
   "outputs": [],
   "source": [
    "## INPUTS: remaining_canvas_nodes, remaining_group_nodes\n",
    "# remaining_canvas_nodes = deepcopy(loaded_canvas_nodes)\n",
    "# remaining_group_nodes = deepcopy(loaded_group_nodes)\n",
    "\n",
    "group_organized_node_hierarchy: Dict = {}\n",
    "\n",
    "search_group_node_label: str = 'Introduction/Setup'\n",
    "found_group_node = Canvas.find_group_node_with_label(loaded_group_nodes=loaded_group_nodes, search_group_node_label=search_group_node_label)\n",
    "# remaining_canvas_nodes.remove(found_group_node)\n",
    "remaining_canvas_nodes = remaining_canvas_nodes.difference([found_group_node])\n",
    "\n",
    "found_children_nodes = found_group_node.find_children(remaining_canvas_nodes)\n",
    "remaining_canvas_nodes = remaining_canvas_nodes.difference(found_children_nodes)\n",
    "\n",
    "## OUTPUTS: found_group_node, found_children_nodes, \n",
    "## UPDATES: remaining_canvas_nodes, \n",
    "\n",
    "found_children_nodes"
   ]
  },
  {
   "cell_type": "code",
   "execution_count": null,
   "id": "b1f31443",
   "metadata": {},
   "outputs": [],
   "source": [
    "## Order by arrows/links\n",
    "found_children_nodes[1]"
   ]
  },
  {
   "cell_type": "code",
   "execution_count": null,
   "id": "6f557cdf",
   "metadata": {},
   "outputs": [],
   "source": [
    "## find group nodes\n",
    "curr_found_subgroup_nodes: Set[GroupNode] = set([v for v in found_children_nodes if (v.type.value == NodeType.GROUP.value)])\n",
    "curr_found_subgroup_nodes\n"
   ]
  },
  {
   "cell_type": "code",
   "execution_count": null,
   "id": "0de47031",
   "metadata": {},
   "outputs": [],
   "source": [
    "found_children_nodes"
   ]
  },
  {
   "cell_type": "code",
   "execution_count": null,
   "id": "d478dc3c",
   "metadata": {},
   "outputs": [],
   "source": [
    "remaining_canvas_nodes = remaining_canvas_nodes.difference(found_children_nodes)\n"
   ]
  },
  {
   "cell_type": "code",
   "execution_count": null,
   "id": "4e23e626",
   "metadata": {},
   "outputs": [],
   "source": [
    "\n",
    "loaded_text_nodes = [v for v in loaded_canvas_nodes if (v.type.value == NodeType.TEXT.value)]\n",
    "loaded_text_nodes\n",
    "\n",
    "# Loaded variable 'loaded_text_nodes' from kernel state\n",
    "\n",
    "loaded_text_nodes_df: pd.DataFrame = pd.DataFrame(loaded_text_nodes)\n",
    "## Add right-edge columns:\n",
    "loaded_text_nodes_df['x1'] = loaded_text_nodes_df['x'] + loaded_text_nodes_df['width']\n",
    "loaded_text_nodes_df['y1'] = loaded_text_nodes_df['y'] + loaded_text_nodes_df['height']\n",
    "\n",
    "# Sort by columns: 'x' (ascending), 'y' (ascending), 'id' (ascending)\n",
    "loaded_text_nodes_df = loaded_text_nodes_df.sort_values(['x', 'y', 'id'])\n",
    "loaded_text_nodes_df\n"
   ]
  },
  {
   "cell_type": "code",
   "execution_count": null,
   "id": "c31e94b6",
   "metadata": {},
   "outputs": [],
   "source": [
    "loaded_canvas_nodes"
   ]
  },
  {
   "cell_type": "code",
   "execution_count": null,
   "id": "6723dfa0",
   "metadata": {},
   "outputs": [],
   "source": [
    "loaded_canvas_nodes: List[GenericNode] = deepcopy(loaded_canvas.nodes)\n",
    "loaded_canvas_nodes\n"
   ]
  },
  {
   "cell_type": "code",
   "execution_count": null,
   "id": "5f817327",
   "metadata": {},
   "outputs": [],
   "source": [
    "loaded_canvas_nodes_df: pd.DataFrame = pd.DataFrame(loaded_canvas_nodes)\n",
    "loaded_canvas_nodes_df\n"
   ]
  },
  {
   "cell_type": "code",
   "execution_count": null,
   "id": "ccd2251f",
   "metadata": {},
   "outputs": [],
   "source": [
    "group_organized_node_hierarchy: Dict = {}\n",
    "\n",
    "\n",
    "a_group_node: GroupNode = loaded_group_nodes[0]\n",
    "\n",
    "a_group_node.find_children(loaded_group_nodes[1:])"
   ]
  },
  {
   "cell_type": "code",
   "execution_count": null,
   "id": "189f3e77",
   "metadata": {},
   "outputs": [],
   "source": [
    "loaded_canvas_nodes"
   ]
  },
  {
   "cell_type": "code",
   "execution_count": null,
   "id": "b4f35ce7",
   "metadata": {},
   "outputs": [],
   "source": [
    "loaded_canvas.validate()\n",
    "loaded_canvas.get_adjacent_nodes("
   ]
  },
  {
   "cell_type": "code",
   "execution_count": null,
   "id": "a5c3c63a",
   "metadata": {},
   "outputs": [],
   "source": [
    "v.to_dict()\n",
    "v.type.TEXT\n"
   ]
  },
  {
   "cell_type": "code",
   "execution_count": null,
   "id": "c86c73f4",
   "metadata": {},
   "outputs": [],
   "source": [
    "NodeType.TEXT"
   ]
  },
  {
   "cell_type": "code",
   "execution_count": null,
   "id": "3a844d14",
   "metadata": {},
   "outputs": [],
   "source": [
    "for v in loaded_canvas_nodes:\n",
    "    is_text_node: bool = (v.type.value == NodeType.TEXT.value)\n",
    "    \n",
    "    v    \n",
    "    print_keys_if_possible(curr_key='v', curr_value=v, max_depth=3)\n"
   ]
  },
  {
   "cell_type": "code",
   "execution_count": null,
   "id": "8dc069e5",
   "metadata": {},
   "outputs": [],
   "source": [
    "obsidian://open?vault=PhoGlobalObsidian2022&file=z__META%2F__IMAGES%2Fp_x_given_n%5B44%5D%202.png"
   ]
  },
  {
   "cell_type": "markdown",
   "id": "918111f5",
   "metadata": {},
   "source": [
    "# Retreval from Obsidian URL `obsidian://open?vault=PhoGlobalObsidian2022&file=z__META%2F__IMAGES%2Fp_x_given_n%5B44%5D%202.png`\n",
    "URL: `obsidian://open?vault=PhoGlobalObsidian2022&file=z__META%2F__IMAGES%2Fp_x_given_n%5B44%5D%202.png`"
   ]
  },
  {
   "cell_type": "code",
   "execution_count": null,
   "id": "f1d1e72e",
   "metadata": {},
   "outputs": [],
   "source": []
  },
  {
   "cell_type": "markdown",
   "id": "c9fbd979",
   "metadata": {},
   "source": [
    "# Pre-Classmethod Notebook version of `ObsidianCanvasHelper.build_canvas_for_exported_session_posteriors`"
   ]
  },
  {
   "cell_type": "code",
   "execution_count": null,
   "id": "d44002dc",
   "metadata": {},
   "outputs": [],
   "source": [
    "from pathlib import Path\n",
    "\n",
    "\n",
    "intra_session_v_spacing: int = 3000\n",
    "intra_laps_and_pbes_v_spacing: int = 1000\n",
    "# is_single_canvas: bool = True\n",
    "is_single_canvas: bool = False\n",
    "common_add_images_to_canvas_kwargs = dict(debug_print=False)\n",
    "\n",
    "## INPUTS: intra_session_v_spacing, intra_laps_and_pbes_v_spacing, is_single_canvas\n",
    "\n",
    "added_groups_dict = {}\n",
    "\n",
    "# image_glob=\"merged_*.png\"\n",
    "image_glob=\"p_x_given_n*.png\"\n",
    "\n",
    "canvas_folders_url = Path(r\"D:/PhoGlobalObsidian2022/🌐🧠 Working Memory/Pho-Kamran Paper 2024/_programmatic_test\") ## \n",
    "## INPUTS: canvas_folders_url\n",
    "\n",
    "# Path to the directory you want to iterate through\n",
    "base_path = Path('K:/scratch/collected_outputs/2025-05-21')\n",
    "\n",
    "\n",
    "\n",
    "# Create a new canvas\n",
    "if is_single_canvas:\n",
    "    print(f'creating new Canvas as none was provided!')\n",
    "    write_mode = 'x' # set write mode to create only so it doesn't overwrite an existing cnvas\n",
    "    target_canvas = Canvas(nodes=[], edges=[])\n",
    "    initial_x = 0\n",
    "    initial_y = 0    \n",
    "\n",
    "else:\n",
    "    target_canvas = None\n",
    "    initial_x = 0\n",
    "    initial_y = 0\n",
    "    \n",
    "\n",
    "# Iterate through only the directories (folders)\n",
    "for session_folder in [item for item in base_path.iterdir() if item.is_dir()]:\n",
    "    print(f\"Found folder: {session_folder.name}\")\n",
    "    session_name: str = session_folder.name.removesuffix('_weighted_position_posterior')\n",
    "    print(f'\\tsession_name: {session_name}')\n",
    "    \n",
    "\n",
    "    if not is_single_canvas:\n",
    "        # Do something with each folder\n",
    "        write_modified_canvas_path: Path = canvas_folders_url.joinpath(f'_programmatic_test_{session_name}.canvas')\n",
    "        # image_folder_path: Path = Path(r'C:/Users/pho/repos/Spike3DWorkEnv/Spike3D/output/collected_outputs/2025-05-21/gor01_two_2006-6-07_16-40-19_normal_computed_[1, 2]_5.0/ripple/psuedo2D_nan_filled/raw_rgba').resolve()\n",
    "        target_canvas = None ## start with a blank canvas each time\n",
    "        \n",
    "    else:\n",
    "        ## single_canvas mode: set no save URL so it doesn't write out to file\n",
    "        write_modified_canvas_path = None\n",
    "\n",
    "    image_folder_path: Path = session_folder.joinpath('laps/psuedo2D_nan_filled/raw_rgba').resolve()\n",
    "    target_canvas, laps_group_node, _write_status = ObsidianCanvasHelper.add_images_to_canvas(image_folder_path=image_folder_path, image_glob=image_glob, target_canvas=target_canvas, write_modified_canvas_path=write_modified_canvas_path, override_write_mode='w', image_group_name=f'Laps - {session_name}', initial_x = initial_x, initial_y = initial_y, **common_add_images_to_canvas_kwargs)\n",
    "    \n",
    "    ## use the existing canvas\n",
    "    initial_y = initial_y + intra_laps_and_pbes_v_spacing\n",
    "    image_folder_path: Path = session_folder.joinpath('ripple/psuedo2D_nan_filled/raw_rgba').resolve()\n",
    "    target_canvas, pbes_group_node, _write_status = ObsidianCanvasHelper.add_images_to_canvas(image_folder_path=image_folder_path, image_glob=image_glob, target_canvas=target_canvas, write_modified_canvas_path=write_modified_canvas_path, override_write_mode='w', image_group_name=f'PBEs - {session_name}', initial_x = initial_x, initial_y=initial_y, **common_add_images_to_canvas_kwargs)\n",
    "    \n",
    "    ## Build session group\n",
    "    group_node: GroupNode = ObsidianCanvasHelper.group_wrapping_nodes(children_nodes=(laps_group_node, pbes_group_node), group_name=f'{session_name}', group_padding=(100, 90))\n",
    "    target_canvas.add_node(group_node)\n",
    "    # added_groups_dict[session_name] = group_node\n",
    "    added_groups_dict[f'{session_name}'] = {'session': group_node, 'laps': laps_group_node, 'pbes': pbes_group_node}\n",
    "    \n",
    "    if is_single_canvas:\n",
    "        initial_x = 0\n",
    "        initial_y = initial_y + intra_session_v_spacing ## spacing of 5000 between sessions\n",
    "\n",
    "    else:\n",
    "        ## reset canvas so new one is created\n",
    "        target_canvas = None\n",
    "        ## re-zero\n",
    "        initial_x = 0\n",
    "        initial_y = 0    \n",
    "\n",
    "    # target_canvas, _write_status\n",
    "\n",
    "\n",
    "if is_single_canvas:\n",
    "    ## do final save\n",
    "    write_modified_canvas_path: Path = canvas_folders_url.joinpath(f'ALL_SESSIONS.canvas') ## session-specific canvas save URL\n",
    "    _write_status = ObsidianCanvasHelper.save(canvas=target_canvas, canvas_url=write_modified_canvas_path, write_mode='w')\n",
    "    print(f'Finished writing to \"{write_modified_canvas_path.as_posix()}\"')\n",
    "## OUTPUTS: added_groups_dict, write_modified_canvas_path\n",
    "\n",
    "\n"
   ]
  },
  {
   "cell_type": "code",
   "execution_count": null,
   "id": "ae3c66bb",
   "metadata": {},
   "outputs": [],
   "source": [
    "329\n",
    "389\n",
    "380\n"
   ]
  },
  {
   "cell_type": "code",
   "execution_count": null,
   "id": "f58c425e",
   "metadata": {},
   "outputs": [],
   "source": [
    "if is_single_canvas:\n",
    "    ## do final save\n",
    "    write_modified_canvas_path: Path = canvas_folders_url.joinpath(f'ALL_SESSIONS.canvas') ## session-specific canvas save URL\n",
    "    _write_status = ObsidianCanvasHelper.save(canvas=target_canvas, canvas_url=write_modified_canvas_path, write_mode='w')"
   ]
  },
  {
   "cell_type": "code",
   "execution_count": null,
   "id": "fc12b9fa",
   "metadata": {},
   "outputs": [],
   "source": [
    "\n",
    "\n",
    "laps_group_node.x, laps_group_node.y, laps_group_node.width, laps_group_node.height\n",
    "\n"
   ]
  },
  {
   "cell_type": "code",
   "execution_count": null,
   "id": "10ce05fe",
   "metadata": {},
   "outputs": [],
   "source": [
    "pbes_group_node"
   ]
  },
  {
   "cell_type": "code",
   "execution_count": null,
   "id": "8d165993",
   "metadata": {},
   "outputs": [],
   "source": [
    "# target_canvas.get_node()\n",
    "target_canvas.__dir__()\n"
   ]
  },
  {
   "cell_type": "code",
   "execution_count": null,
   "id": "99243a0b",
   "metadata": {},
   "outputs": [],
   "source": [
    "target_canvas.nodes"
   ]
  },
  {
   "cell_type": "markdown",
   "id": "cba48577",
   "metadata": {},
   "source": [
    "# Single Session Test of `ObsidianCanvasHelper.add_images_to_canvas`\n"
   ]
  },
  {
   "cell_type": "code",
   "execution_count": null,
   "id": "059d12bf",
   "metadata": {},
   "outputs": [],
   "source": [
    "canvas_url = Path(r\"D:/PhoGlobalObsidian2022/🌐🧠 Working Memory/Pho-Kamran Paper 2024/2025-05-15 - Pho Sorted Events.canvas\")\n",
    "write_modified_canvas_path: Path = canvas_url.with_name(f'_programmatic_test.canvas')\n",
    "loaded_canvas = ObsidianCanvasHelper.load(canvas_url=canvas_url)\n",
    "\n",
    "# image_folder_path: Path = Path(r'C:/Users/pho/repos/Spike3DWorkEnv/Spike3D/output/collected_outputs/2025-05-21/gor01_two_2006-6-07_16-40-19_normal_computed_[1, 2]_5.0/ripple/psuedo2D_nan_filled/raw_rgba').resolve()\n",
    "image_folder_path: Path = Path(r'C:/Users/pho/repos/Spike3DWorkEnv/Spike3D/output/collected_outputs/2025-05-21/gor01_two_2006-6-07_16-40-19_normal_computed_[1, 2]_5.0/laps/psuedo2D_nan_filled/raw_rgba').resolve()\n",
    "\n",
    "target_canvas, _write_status = ObsidianCanvasHelper.add_images_to_canvas(image_folder_path=image_folder_path, image_glob=\"p_x_given_n*.png\", target_canvas=None, write_modified_canvas_path=write_modified_canvas_path, override_write_mode='w', image_group_name='test')\n",
    "# target_canvas, _write_status = ObsidianCanvasHelper.add_images_to_canvas(image_folder_path=image_folder_path, image_glob=\"merged_*.png\", target_canvas=None, write_modified_canvas_path=write_modified_canvas_path, override_write_mode='w')\n",
    "# target_canvas, _write_status\n",
    "\n"
   ]
  },
  {
   "cell_type": "code",
   "execution_count": null,
   "id": "c1ba21ed",
   "metadata": {},
   "outputs": [],
   "source": [
    "canvas_url = Path(r\"D:/PhoGlobalObsidian2022/🌐🧠 Working Memory/Pho-Kamran Paper 2024/2025-05-15 - Pho Sorted Events.canvas\")\n",
    "canvas_url\n"
   ]
  },
  {
   "cell_type": "code",
   "execution_count": null,
   "id": "d69e2433",
   "metadata": {},
   "outputs": [],
   "source": [
    "\n",
    "## save the canvas back to a file\n",
    "test_modified_canvas_url: Path = canvas_url.with_name(f'_programmatic_test.canvas')\n",
    "test_modified_canvas_url\n",
    "\n",
    "## INPUTS: active_canvas\n",
    "# Save the canvas as JSON\n",
    "json_str = active_canvas.to_json()\n",
    "# Load JSON from a string\n",
    "with open(test_modified_canvas_url, 'w', encoding='utf-8') as f:\n",
    "    # canvas_json = json.load(f)\n",
    "\t_status_code = f.write(json_str)\n",
    "\tif _status_code:\n",
    "\t\tprint(f'writing error code: {_status_code}')"
   ]
  },
  {
   "cell_type": "markdown",
   "id": "69e719b7",
   "metadata": {},
   "source": [
    "# Testing from scratch"
   ]
  },
  {
   "cell_type": "code",
   "execution_count": null,
   "id": "541f5a7a",
   "metadata": {},
   "outputs": [],
   "source": [
    "\n",
    "from pyjsoncanvas import (\n",
    "    Canvas,\n",
    "    TextNode,\n",
    "    FileNode,\n",
    "    LinkNode,\n",
    "    GroupNode,\n",
    "    GroupNodeBackgroundStyle,\n",
    "    Edge,\n",
    "    Color,\n",
    ")\n",
    "\n",
    "# Create a new canvas\n",
    "canvas = Canvas(nodes=[], edges=[])\n",
    "\n",
    "# Add some nodes\n",
    "text_node = TextNode(x=100, y=100, width=200, height=100, text=\"Hello, world!\")\n",
    "canvas.add_node(text_node)\n",
    "\n",
    "file_node = FileNode(x=300, y=100, width=100, height=100, file=\"/path/to/file.png\")\n",
    "canvas.add_node(file_node)\n",
    "\n",
    "# Add an edge\n",
    "edge = Edge(\n",
    "    fromNode=text_node.id,\n",
    "    fromSide=\"bottom\",\n",
    "    toNode=file_node.id,\n",
    "    toSide=\"top\",\n",
    "    color=Color(\"#FF0000\"),\n",
    "    label=\"Edge 1\",\n",
    ")\n",
    "canvas.add_edge(edge)\n",
    "\n",
    "# Save the canvas as JSON\n",
    "json_str = canvas.to_json()\n",
    "\n",
    "# Load the canvas from JSON\n",
    "loaded_canvas = Canvas.from_json(json_str)\n",
    "\n",
    "# Get a node\n",
    "node = loaded_canvas.get_node(text_node.id)\n",
    "\n",
    "# Get connections for a node\n",
    "connections = loaded_canvas.get_connections(text_node.id)"
   ]
  },
  {
   "cell_type": "code",
   "execution_count": null,
   "id": "17f780d6",
   "metadata": {},
   "outputs": [],
   "source": []
  }
 ],
 "metadata": {
  "kernelspec": {
   "display_name": ".venv",
   "language": "python",
   "name": "python3"
  },
  "language_info": {
   "codemirror_mode": {
    "name": "ipython",
    "version": 3
   },
   "file_extension": ".py",
   "mimetype": "text/x-python",
   "name": "python",
   "nbconvert_exporter": "python",
   "pygments_lexer": "ipython3",
   "version": "3.9.13"
  }
 },
 "nbformat": 4,
 "nbformat_minor": 5
}
