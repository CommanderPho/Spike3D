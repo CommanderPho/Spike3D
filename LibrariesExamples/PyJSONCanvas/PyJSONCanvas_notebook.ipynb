{
 "cells": [
  {
   "cell_type": "code",
   "execution_count": null,
   "id": "19b68c03",
   "metadata": {},
   "outputs": [],
   "source": [
    "%config IPCompleter.use_jedi = False\n",
    "%pdb off\n",
    "%load_ext autoreload\n",
    "%autoreload 3\n",
    "from pathlib import Path\n",
    "import re\n",
    "from typing import Dict, List, Tuple, Optional, Callable, Union, Any\n",
    "from typing_extensions import TypeAlias\n",
    "from nptyping import NDArray\n",
    "from pathlib import Path\n",
    "import shutil\n",
    "from pathlib import Path\n",
    "# from pyphocorehelpers.plotting.media_output_helpers import vertical_image_stack, horizontal_image_stack, image_grid # used in `_subfn_build_combined_output_images`\n",
    "from pyphocorehelpers.image_helpers import ImageHelpers\n",
    "from copy import deepcopy\n",
    "import numpy as np\n",
    "from pyjsoncanvas import (\n",
    "    Canvas,\n",
    "    TextNode,\n",
    "    FileNode,\n",
    "    LinkNode,\n",
    "    GroupNode,\n",
    "    GroupNodeBackgroundStyle,\n",
    "    Edge,\n",
    "    Color,\n",
    ")\n",
    "\n",
    "from pyphocorehelpers.Filesystem.obsidian_canvas_helpers import ObsidianCanvasHelper\n"
   ]
  },
  {
   "cell_type": "markdown",
   "id": "fcd52d4b",
   "metadata": {},
   "source": [
    "# Multi sessions"
   ]
  },
  {
   "cell_type": "code",
   "execution_count": null,
   "id": "62eeb421",
   "metadata": {},
   "outputs": [],
   "source": [
    "## Home/Apogee:\n",
    "# sessions_export_folder = Path('K:/scratch/collected_outputs/2025-05-22')\n",
    "# canvas_folders_url = Path(r\"D:/PhoGlobalObsidian2022/🌐🧠 Working Memory/Pho-Kamran Paper 2024/_programmatic_test\")\n",
    "\n",
    "\n",
    "## Lab/Linux:\n",
    "sessions_export_folder = Path('/home/halechr/FastData/collected_outputs/2025-05-27').resolve()\n",
    "canvas_folders_url = Path(r\"/home/halechr/cloud/Cryptomator/PhoGlobalObsidian2022/🌐🧠 Working Memory/Pho-Kamran Paper 2024/_programmatic_test\")\n",
    "\n",
    "\n",
    "is_single_canvas = True\n",
    "# is_single_canvas = False\n",
    "added_groups_dict, write_modified_canvas_path = ObsidianCanvasHelper.build_canvas_for_exported_session_posteriors(sessions_export_folder = sessions_export_folder,\n",
    "                                                    intra_session_v_spacing = 3000, intra_laps_and_pbes_v_spacing = 1000, is_single_canvas = is_single_canvas, common_add_images_to_canvas_kwargs = dict(debug_print=False, canvas_image_node_scale=0.1), image_glob=\"p_x_given_n*.png\",\n",
    "                                                    canvas_folders_url=canvas_folders_url,\n",
    "                                                )"
   ]
  },
  {
   "cell_type": "markdown",
   "id": "f6c3ab91",
   "metadata": {},
   "source": [
    "## Existing Canvas Node Manipulation"
   ]
  },
  {
   "cell_type": "code",
   "execution_count": null,
   "id": "ab8f5ccd",
   "metadata": {},
   "outputs": [],
   "source": [
    "existing_canvas_path: Path = Path('/home/halechr/cloud/Cryptomator/PhoGlobalObsidian2022/🌐🧠 Working Memory/Pho-Kamran Paper 2024/_programmatic_test/ALL_SESSIONS.canvas').resolve()\n",
    "assert existing_canvas_path.exists()\n",
    "existing_canvas_path"
   ]
  },
  {
   "cell_type": "markdown",
   "id": "c9fbd979",
   "metadata": {},
   "source": [
    "# Pre-Classmethod Notebook version of `ObsidianCanvasHelper.build_canvas_for_exported_session_posteriors`"
   ]
  },
  {
   "cell_type": "code",
   "execution_count": null,
   "id": "d44002dc",
   "metadata": {},
   "outputs": [],
   "source": [
    "from pathlib import Path\n",
    "\n",
    "\n",
    "intra_session_v_spacing: int = 3000\n",
    "intra_laps_and_pbes_v_spacing: int = 1000\n",
    "# is_single_canvas: bool = True\n",
    "is_single_canvas: bool = False\n",
    "common_add_images_to_canvas_kwargs = dict(debug_print=False)\n",
    "\n",
    "## INPUTS: intra_session_v_spacing, intra_laps_and_pbes_v_spacing, is_single_canvas\n",
    "\n",
    "added_groups_dict = {}\n",
    "\n",
    "# image_glob=\"merged_*.png\"\n",
    "image_glob=\"p_x_given_n*.png\"\n",
    "\n",
    "canvas_folders_url = Path(r\"D:/PhoGlobalObsidian2022/🌐🧠 Working Memory/Pho-Kamran Paper 2024/_programmatic_test\") ## \n",
    "## INPUTS: canvas_folders_url\n",
    "\n",
    "# Path to the directory you want to iterate through\n",
    "base_path = Path('K:/scratch/collected_outputs/2025-05-21')\n",
    "\n",
    "\n",
    "\n",
    "# Create a new canvas\n",
    "if is_single_canvas:\n",
    "    print(f'creating new Canvas as none was provided!')\n",
    "    write_mode = 'x' # set write mode to create only so it doesn't overwrite an existing cnvas\n",
    "    target_canvas = Canvas(nodes=[], edges=[])\n",
    "    initial_x = 0\n",
    "    initial_y = 0    \n",
    "\n",
    "else:\n",
    "    target_canvas = None\n",
    "    initial_x = 0\n",
    "    initial_y = 0\n",
    "    \n",
    "\n",
    "# Iterate through only the directories (folders)\n",
    "for session_folder in [item for item in base_path.iterdir() if item.is_dir()]:\n",
    "    print(f\"Found folder: {session_folder.name}\")\n",
    "    session_name: str = session_folder.name.removesuffix('_weighted_position_posterior')\n",
    "    print(f'\\tsession_name: {session_name}')\n",
    "    \n",
    "\n",
    "    if not is_single_canvas:\n",
    "        # Do something with each folder\n",
    "        write_modified_canvas_path: Path = canvas_folders_url.joinpath(f'_programmatic_test_{session_name}.canvas')\n",
    "        # image_folder_path: Path = Path(r'C:/Users/pho/repos/Spike3DWorkEnv/Spike3D/output/collected_outputs/2025-05-21/gor01_two_2006-6-07_16-40-19_normal_computed_[1, 2]_5.0/ripple/psuedo2D_nan_filled/raw_rgba').resolve()\n",
    "        target_canvas = None ## start with a blank canvas each time\n",
    "        \n",
    "    else:\n",
    "        ## single_canvas mode: set no save URL so it doesn't write out to file\n",
    "        write_modified_canvas_path = None\n",
    "\n",
    "    image_folder_path: Path = session_folder.joinpath('laps/psuedo2D_nan_filled/raw_rgba').resolve()\n",
    "    target_canvas, laps_group_node, _write_status = ObsidianCanvasHelper.add_images_to_canvas(image_folder_path=image_folder_path, image_glob=image_glob, target_canvas=target_canvas, write_modified_canvas_path=write_modified_canvas_path, override_write_mode='w', image_group_name=f'Laps - {session_name}', initial_x = initial_x, initial_y = initial_y, **common_add_images_to_canvas_kwargs)\n",
    "    \n",
    "    ## use the existing canvas\n",
    "    initial_y = initial_y + intra_laps_and_pbes_v_spacing\n",
    "    image_folder_path: Path = session_folder.joinpath('ripple/psuedo2D_nan_filled/raw_rgba').resolve()\n",
    "    target_canvas, pbes_group_node, _write_status = ObsidianCanvasHelper.add_images_to_canvas(image_folder_path=image_folder_path, image_glob=image_glob, target_canvas=target_canvas, write_modified_canvas_path=write_modified_canvas_path, override_write_mode='w', image_group_name=f'PBEs - {session_name}', initial_x = initial_x, initial_y=initial_y, **common_add_images_to_canvas_kwargs)\n",
    "    \n",
    "    ## Build session group\n",
    "    group_node: GroupNode = ObsidianCanvasHelper.group_wrapping_nodes(children_nodes=(laps_group_node, pbes_group_node), group_name=f'{session_name}', group_padding=(100, 90))\n",
    "    target_canvas.add_node(group_node)\n",
    "    # added_groups_dict[session_name] = group_node\n",
    "    added_groups_dict[f'{session_name}'] = {'session': group_node, 'laps': laps_group_node, 'pbes': pbes_group_node}\n",
    "    \n",
    "    if is_single_canvas:\n",
    "        initial_x = 0\n",
    "        initial_y = initial_y + intra_session_v_spacing ## spacing of 5000 between sessions\n",
    "\n",
    "    else:\n",
    "        ## reset canvas so new one is created\n",
    "        target_canvas = None\n",
    "        ## re-zero\n",
    "        initial_x = 0\n",
    "        initial_y = 0    \n",
    "\n",
    "    # target_canvas, _write_status\n",
    "\n",
    "\n",
    "if is_single_canvas:\n",
    "    ## do final save\n",
    "    write_modified_canvas_path: Path = canvas_folders_url.joinpath(f'ALL_SESSIONS.canvas') ## session-specific canvas save URL\n",
    "    _write_status = ObsidianCanvasHelper.save(canvas=target_canvas, canvas_url=write_modified_canvas_path, write_mode='w')\n",
    "    print(f'Finished writing to \"{write_modified_canvas_path.as_posix()}\"')\n",
    "## OUTPUTS: added_groups_dict, write_modified_canvas_path\n",
    "\n",
    "\n"
   ]
  },
  {
   "cell_type": "code",
   "execution_count": null,
   "id": "ae3c66bb",
   "metadata": {},
   "outputs": [],
   "source": [
    "329\n",
    "389\n",
    "380\n"
   ]
  },
  {
   "cell_type": "code",
   "execution_count": null,
   "id": "f58c425e",
   "metadata": {},
   "outputs": [],
   "source": [
    "if is_single_canvas:\n",
    "    ## do final save\n",
    "    write_modified_canvas_path: Path = canvas_folders_url.joinpath(f'ALL_SESSIONS.canvas') ## session-specific canvas save URL\n",
    "    _write_status = ObsidianCanvasHelper.save(canvas=target_canvas, canvas_url=write_modified_canvas_path, write_mode='w')"
   ]
  },
  {
   "cell_type": "code",
   "execution_count": null,
   "id": "fc12b9fa",
   "metadata": {},
   "outputs": [],
   "source": [
    "\n",
    "\n",
    "laps_group_node.x, laps_group_node.y, laps_group_node.width, laps_group_node.height\n",
    "\n"
   ]
  },
  {
   "cell_type": "code",
   "execution_count": null,
   "id": "10ce05fe",
   "metadata": {},
   "outputs": [],
   "source": [
    "pbes_group_node"
   ]
  },
  {
   "cell_type": "code",
   "execution_count": null,
   "id": "8d165993",
   "metadata": {},
   "outputs": [],
   "source": [
    "# target_canvas.get_node()\n",
    "target_canvas.__dir__()\n"
   ]
  },
  {
   "cell_type": "code",
   "execution_count": null,
   "id": "99243a0b",
   "metadata": {},
   "outputs": [],
   "source": [
    "target_canvas.nodes"
   ]
  },
  {
   "cell_type": "markdown",
   "id": "cba48577",
   "metadata": {},
   "source": [
    "# Single Session Test of `ObsidianCanvasHelper.add_images_to_canvas`\n"
   ]
  },
  {
   "cell_type": "code",
   "execution_count": null,
   "id": "059d12bf",
   "metadata": {},
   "outputs": [],
   "source": [
    "canvas_url = Path(r\"D:/PhoGlobalObsidian2022/🌐🧠 Working Memory/Pho-Kamran Paper 2024/2025-05-15 - Pho Sorted Events.canvas\")\n",
    "write_modified_canvas_path: Path = canvas_url.with_name(f'_programmatic_test.canvas')\n",
    "loaded_canvas = ObsidianCanvasHelper.load(canvas_url=canvas_url)\n",
    "\n",
    "# image_folder_path: Path = Path(r'C:/Users/pho/repos/Spike3DWorkEnv/Spike3D/output/collected_outputs/2025-05-21/gor01_two_2006-6-07_16-40-19_normal_computed_[1, 2]_5.0/ripple/psuedo2D_nan_filled/raw_rgba').resolve()\n",
    "image_folder_path: Path = Path(r'C:/Users/pho/repos/Spike3DWorkEnv/Spike3D/output/collected_outputs/2025-05-21/gor01_two_2006-6-07_16-40-19_normal_computed_[1, 2]_5.0/laps/psuedo2D_nan_filled/raw_rgba').resolve()\n",
    "\n",
    "target_canvas, _write_status = ObsidianCanvasHelper.add_images_to_canvas(image_folder_path=image_folder_path, image_glob=\"p_x_given_n*.png\", target_canvas=None, write_modified_canvas_path=write_modified_canvas_path, override_write_mode='w', image_group_name='test')\n",
    "# target_canvas, _write_status = ObsidianCanvasHelper.add_images_to_canvas(image_folder_path=image_folder_path, image_glob=\"merged_*.png\", target_canvas=None, write_modified_canvas_path=write_modified_canvas_path, override_write_mode='w')\n",
    "# target_canvas, _write_status\n",
    "\n"
   ]
  },
  {
   "cell_type": "code",
   "execution_count": null,
   "id": "c1ba21ed",
   "metadata": {},
   "outputs": [],
   "source": [
    "canvas_url = Path(r\"D:/PhoGlobalObsidian2022/🌐🧠 Working Memory/Pho-Kamran Paper 2024/2025-05-15 - Pho Sorted Events.canvas\")\n",
    "canvas_url\n"
   ]
  },
  {
   "cell_type": "code",
   "execution_count": null,
   "id": "d69e2433",
   "metadata": {},
   "outputs": [],
   "source": [
    "\n",
    "## save the canvas back to a file\n",
    "test_modified_canvas_url: Path = canvas_url.with_name(f'_programmatic_test.canvas')\n",
    "test_modified_canvas_url\n",
    "\n",
    "## INPUTS: active_canvas\n",
    "# Save the canvas as JSON\n",
    "json_str = active_canvas.to_json()\n",
    "# Load JSON from a string\n",
    "with open(test_modified_canvas_url, 'w', encoding='utf-8') as f:\n",
    "    # canvas_json = json.load(f)\n",
    "\t_status_code = f.write(json_str)\n",
    "\tif _status_code:\n",
    "\t\tprint(f'writing error code: {_status_code}')"
   ]
  },
  {
   "cell_type": "markdown",
   "id": "69e719b7",
   "metadata": {},
   "source": [
    "# Testing from scratch"
   ]
  },
  {
   "cell_type": "code",
   "execution_count": null,
   "id": "541f5a7a",
   "metadata": {},
   "outputs": [],
   "source": [
    "\n",
    "from pyjsoncanvas import (\n",
    "    Canvas,\n",
    "    TextNode,\n",
    "    FileNode,\n",
    "    LinkNode,\n",
    "    GroupNode,\n",
    "    GroupNodeBackgroundStyle,\n",
    "    Edge,\n",
    "    Color,\n",
    ")\n",
    "\n",
    "# Create a new canvas\n",
    "canvas = Canvas(nodes=[], edges=[])\n",
    "\n",
    "# Add some nodes\n",
    "text_node = TextNode(x=100, y=100, width=200, height=100, text=\"Hello, world!\")\n",
    "canvas.add_node(text_node)\n",
    "\n",
    "file_node = FileNode(x=300, y=100, width=100, height=100, file=\"/path/to/file.png\")\n",
    "canvas.add_node(file_node)\n",
    "\n",
    "# Add an edge\n",
    "edge = Edge(\n",
    "    fromNode=text_node.id,\n",
    "    fromSide=\"bottom\",\n",
    "    toNode=file_node.id,\n",
    "    toSide=\"top\",\n",
    "    color=Color(\"#FF0000\"),\n",
    "    label=\"Edge 1\",\n",
    ")\n",
    "canvas.add_edge(edge)\n",
    "\n",
    "# Save the canvas as JSON\n",
    "json_str = canvas.to_json()\n",
    "\n",
    "# Load the canvas from JSON\n",
    "loaded_canvas = Canvas.from_json(json_str)\n",
    "\n",
    "# Get a node\n",
    "node = loaded_canvas.get_node(text_node.id)\n",
    "\n",
    "# Get connections for a node\n",
    "connections = loaded_canvas.get_connections(text_node.id)"
   ]
  },
  {
   "cell_type": "code",
   "execution_count": null,
   "id": "17f780d6",
   "metadata": {},
   "outputs": [],
   "source": []
  }
 ],
 "metadata": {
  "kernelspec": {
   "display_name": ".venv",
   "language": "python",
   "name": "python3"
  },
  "language_info": {
   "codemirror_mode": {
    "name": "ipython",
    "version": 3
   },
   "file_extension": ".py",
   "mimetype": "text/x-python",
   "name": "python",
   "nbconvert_exporter": "python",
   "pygments_lexer": "ipython3",
   "version": "3.9.13"
  }
 },
 "nbformat": 4,
 "nbformat_minor": 5
}
