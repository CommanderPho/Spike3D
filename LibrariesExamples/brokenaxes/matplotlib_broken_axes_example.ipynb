{
  "cells": [
    {
      "cell_type": "markdown",
      "metadata": {},
      "source": [
        "# 2024-04-01 - Custom broken axes for matplotlib axes using the `brokenaxes` library:\n",
        "\n",
        "Mainly `brokenaxes`\n"
      ]
    },
    {
      "cell_type": "code",
      "execution_count": 1,
      "metadata": {
        "collapsed": false,
        "notebookRunGroups": {
          "groupValue": "1"
        }
      },
      "outputs": [
        {
          "name": "stdout",
          "output_type": "stream",
          "text": [
            "Automatic pdb calling has been turned OFF\n"
          ]
        }
      ],
      "source": [
        "%config IPCompleter.use_jedi = False\n",
        "%pdb off\n",
        "%load_ext autoreload\n",
        "%autoreload 3\n",
        "# required to enable non-blocking interaction:\n",
        "%gui qt5\n",
        "\n",
        "from typing import Dict, List, Tuple, Optional, Callable, Union, Any\n",
        "from nptyping import NDArray\n",
        "\n",
        "import numpy as np\n",
        "import pandas as pd\n",
        "\n",
        "import matplotlib\n",
        "from matplotlib import font_manager\n",
        "import matplotlib.pyplot as plt\n",
        "from brokenaxes import brokenaxes ## Main brokenaxes import \n",
        "\n",
        "matplotlib.use('Qt5Agg')\n",
        "plt.switch_backend('Qt5Agg')\n",
        "plt.interactive(True)"
      ]
    },
    {
      "cell_type": "code",
      "execution_count": 2,
      "metadata": {
        "notebookRunGroups": {
          "groupValue": "1"
        }
      },
      "outputs": [
        {
          "data": {
            "text/plain": [
              "Text(0, 0.5, 'value')"
            ]
          },
          "execution_count": 2,
          "metadata": {},
          "output_type": "execute_result"
        }
      ],
      "source": [
        "fig = plt.figure(figsize=(5, 2))\n",
        "bax = brokenaxes(xlims=((0, .1), (.4, .7)), ylims=((-1, .7), (.79, 1)), hspace=.05)\n",
        "x = np.linspace(0, 1, 100)\n",
        "bax.plot(x, np.sin(10 * x), label='sin')\n",
        "bax.plot(x, np.cos(10 * x), label='cos')\n",
        "bax.legend(loc=3)\n",
        "bax.set_xlabel('time')\n",
        "bax.set_ylabel('value')"
      ]
    },
    {
      "cell_type": "code",
      "execution_count": null,
      "metadata": {},
      "outputs": [],
      "source": [
        "fig = plt.figure(figsize=(5, 2))\n",
        "bax = brokenaxes(xlims=((0, .1), (.4, .7)), ylims=((-1, .7), (.79, 1)), hspace=.05)\n",
        "x = np.linspace(0, 1, 100)\n",
        "bax.plot(x, np.sin(10 * x), label='sin')\n",
        "bax.plot(x, np.cos(10 * x), label='cos')\n",
        "bax.legend(loc=3)\n",
        "bax.set_xlabel('time')\n",
        "bax.set_ylabel('value')"
      ]
    },
    {
      "cell_type": "code",
      "execution_count": 4,
      "metadata": {},
      "outputs": [
        {
          "data": {
            "text/plain": [
              "<Axes: xlabel='time', ylabel='value'>"
            ]
          },
          "execution_count": 4,
          "metadata": {},
          "output_type": "execute_result"
        }
      ],
      "source": [
        "bax.big_ax"
      ]
    },
    {
      "cell_type": "code",
      "execution_count": null,
      "metadata": {},
      "outputs": [],
      "source": []
    }
  ],
  "metadata": {
    "kernelspec": {
      "display_name": "Python 3",
      "language": "python",
      "name": "python3"
    },
    "language_info": {
      "codemirror_mode": {
        "name": "ipython",
        "version": 3
      },
      "file_extension": ".py",
      "mimetype": "text/x-python",
      "name": "python",
      "nbconvert_exporter": "python",
      "pygments_lexer": "ipython3",
      "version": "3.9.13"
    }
  },
  "nbformat": 4,
  "nbformat_minor": 0
}
