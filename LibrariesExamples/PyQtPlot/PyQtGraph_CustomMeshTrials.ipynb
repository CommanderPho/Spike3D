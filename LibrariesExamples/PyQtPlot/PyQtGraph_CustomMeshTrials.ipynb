{
 "cells": [
  {
   "cell_type": "code",
   "execution_count": 1,
   "id": "30a600e4-4a10-4d21-acef-c417e9a42a94",
   "metadata": {},
   "outputs": [],
   "source": [
    "import pyphoplacecellanalysis\n",
    "import pyqtgraph as pg\n",
    "from pyqtgraph.Qt import QtCore, QtGui, QtWidgets\n",
    "import pyqtgraph.opengl as gl # for 3D raster plot\n",
    "\n",
    "import numpy as np\n",
    "\n",
    "from pyphocorehelpers.general_helpers import OrderedMeta\n",
    "from pyphocorehelpers.print_helpers import SimplePrintable, PrettyPrintable\n",
    "from pyphocorehelpers.geometry_helpers import find_ranges_in_window\n",
    "\n",
    "from pyphoplacecellanalysis.General.DataSeriesToSpatial import DataSeriesToSpatial\n",
    "\n",
    "\"\"\" This notebook was to test the ability to generate a single-mesh representation of disconnected rectangular boxes, as would be done if trying to render the epochs along a timeline in 3D. \n",
    "\n",
    "Ultimately did not get this working, but switched to Vedo and did have success getting the epochs plotted.\n",
    "\n",
    "\"\"\"\n",
    "\n",
    "def _build_cube_mesh_data():\n",
    "    vertexes = np.array([[1, 0, 0], #0\n",
    "                        [0, 0, 0], #1\n",
    "                        [0, 1, 0], #2\n",
    "                        [0, 0, 1], #3\n",
    "                        [1, 1, 0], #4\n",
    "                        [1, 1, 1], #5\n",
    "                        [0, 1, 1], #6\n",
    "                        [1, 0, 1]])#7\n",
    "    faces = np.array([[1,0,7], [1,3,7],\n",
    "                    [1,2,4], [1,0,4],\n",
    "                    [1,2,6], [1,3,6],\n",
    "                    [0,4,5], [0,7,5],\n",
    "                    [2,4,5], [2,6,5],\n",
    "                    [3,6,5], [3,7,5]])\n",
    "    colors = np.array([[1,0,0,1] for i in range(12)])\n",
    "    md = gl.MeshData(vertexes=vertexes, faces=faces, edges=None, vertexColors=None, faceColors=colors)\n",
    "    return md\n",
    "\n",
    "\n",
    "def _build_separated_test_rects_mesh_data():\n",
    "    vertexes = np.array([[1, 0, 0], #0\n",
    "                        [0, 0, 0], #1\n",
    "                        [0, 1, 0], #2\n",
    "                        [0, 0, 1], #3\n",
    "                        [1, 1, 0], #4\n",
    "                        [1, 1, 1], #5\n",
    "                        [0, 1, 1], #6\n",
    "                        [1, 0, 1]])#7\n",
    "\n",
    "    faces = np.array([[1,0,7], [1,3,7],\n",
    "                    [1,2,4], [1,0,4],\n",
    "                    [1,2,6], [1,3,6],\n",
    "                    [0,4,5], [0,7,5],\n",
    "                    [2,4,5], [2,6,5],\n",
    "                    [3,6,5], [3,7,5]])\n",
    "\n",
    "        \n",
    "    \n",
    "    shifted_verticies = vertexes.copy() + [3, 0, 0] # shift by x val of 3\n",
    "    shifted_faces = np.shape(vertexes)[0] + faces.copy() # advance the indicies by the number of verticies so they make sense when the lists are appended.\n",
    "\n",
    "    colors = np.array([[1,0,0,1] for i in range(12)])\n",
    "    md = gl.MeshData(vertexes=vertexes, faces=faces, edges=None, vertexColors=None, faceColors=colors)\n",
    "    return md"
   ]
  },
  {
   "cell_type": "code",
   "execution_count": 2,
   "id": "4f634669-592a-475f-80e2-dd7c85ceba0b",
   "metadata": {},
   "outputs": [
    {
     "name": "stdout",
     "output_type": "stream",
     "text": [
      "num_original_verticies: 8, num_original_faces: 12\n",
      "np.shape(merged_verticies): (16, 3), np.shape(merged_faces): (24, 3)\n"
     ]
    }
   ],
   "source": [
    "vertexes = np.array([[1, 0, 0], #0\n",
    "                    [0, 0, 0], #1\n",
    "                    [0, 1, 0], #2\n",
    "                    [0, 0, 1], #3\n",
    "                    [1, 1, 0], #4\n",
    "                    [1, 1, 1], #5\n",
    "                    [0, 1, 1], #6\n",
    "                    [1, 0, 1]])#7\n",
    "\n",
    "faces = np.array([[1,0,7], [1,3,7],\n",
    "                [1,2,4], [1,0,4],\n",
    "                [1,2,6], [1,3,6],\n",
    "                [0,4,5], [0,7,5],\n",
    "                [2,4,5], [2,6,5],\n",
    "                [3,6,5], [3,7,5]])\n",
    "\n",
    "num_original_verticies = np.shape(vertexes)[0]\n",
    "num_original_faces = np.shape(faces)[0]\n",
    "\n",
    "print(f'num_original_verticies: {num_original_verticies}, num_original_faces: {num_original_faces}')\n",
    "shifted_verticies = vertexes.copy() + [3, 0, 0] # shift by x val of 3\n",
    "shifted_faces = (num_original_verticies-1) + faces.copy() # advance the indicies by the number of verticies so they make sense when the lists are appended.\n",
    "\n",
    "merged_verticies = np.vstack((vertexes, shifted_verticies))\n",
    "merged_faces = np.vstack((faces, shifted_faces))\n",
    "print(f'np.shape(merged_verticies): {np.shape(merged_verticies)}, np.shape(merged_faces): {np.shape(merged_faces)}')\n",
    "\n",
    "num_merged_verticies = np.shape(merged_verticies)[0]\n",
    "num_merged_faces = np.shape(merged_faces)[0]\n",
    "\n",
    "merged_colors = np.array([[1,0,0,0.5] for i in range(num_merged_faces)])\n",
    "merged_vertex_colors = np.vstack((np.array([[0,1,0,0.5] for i in range(num_original_faces)]), np.array([[0,0,1,0.5] for i in range(num_original_faces)])))\n",
    "# colors = np.array([[1,0,0,1] for i in range(12)])\n",
    "# md = gl.MeshData(vertexes=vertexes, faces=faces, edges=None, vertexColors=None, faceColors=colors)\n",
    "\n",
    "md = gl.MeshData(vertexes=merged_verticies, faces=merged_faces, edges=None, vertexColors=merged_vertex_colors, faceColors=merged_colors)"
   ]
  },
  {
   "cell_type": "code",
   "execution_count": 3,
   "id": "ff57b864-abbc-4349-bbfb-0414481e739c",
   "metadata": {},
   "outputs": [
    {
     "data": {
      "text/plain": [
       "array([[1. , 0. , 0. , 0.5],\n",
       "       [1. , 0. , 0. , 0.5],\n",
       "       [1. , 0. , 0. , 0.5],\n",
       "       [1. , 0. , 0. , 0.5],\n",
       "       [1. , 0. , 0. , 0.5],\n",
       "       [1. , 0. , 0. , 0.5],\n",
       "       [1. , 0. , 0. , 0.5],\n",
       "       [1. , 0. , 0. , 0.5],\n",
       "       [1. , 0. , 0. , 0.5],\n",
       "       [1. , 0. , 0. , 0.5],\n",
       "       [1. , 0. , 0. , 0.5],\n",
       "       [1. , 0. , 0. , 0.5],\n",
       "       [1. , 0. , 0. , 0.5],\n",
       "       [1. , 0. , 0. , 0.5],\n",
       "       [1. , 0. , 0. , 0.5],\n",
       "       [1. , 0. , 0. , 0.5],\n",
       "       [1. , 0. , 0. , 0.5],\n",
       "       [1. , 0. , 0. , 0.5],\n",
       "       [1. , 0. , 0. , 0.5],\n",
       "       [1. , 0. , 0. , 0.5],\n",
       "       [1. , 0. , 0. , 0.5],\n",
       "       [1. , 0. , 0. , 0.5],\n",
       "       [1. , 0. , 0. , 0.5],\n",
       "       [1. , 0. , 0. , 0.5]])"
      ]
     },
     "execution_count": 3,
     "metadata": {},
     "output_type": "execute_result"
    }
   ],
   "source": [
    "merged_colors"
   ]
  },
  {
   "cell_type": "code",
   "execution_count": 7,
   "id": "4a3895be-b3d1-4f84-aaac-793c555abe8b",
   "metadata": {},
   "outputs": [
    {
     "name": "stderr",
     "output_type": "stream",
     "text": [
      "C:\\Users\\pho\\AppData\\Local\\Temp\\ipykernel_2368\\3208951805.py:29: DeprecationWarning: 'exec_' will be removed in the future. Use 'exec' instead.\n",
      "  app.exec_()\n",
      "c:\\Users\\pho\\repos\\Spike3DWorkEnv\\Spike3D\\.venv\\lib\\site-packages\\pyqtgraph\\opengl\\MeshData.py:218: RuntimeWarning: invalid value encountered in divide\n",
      "  norm /= (norm**2).sum()**0.5  ## and re-normalize\n"
     ]
    }
   ],
   "source": [
    "# app = QtGui.QApplication.instance()\n",
    "# if app is None:\n",
    "#     app = QtGui.QApplication([])\n",
    "\n",
    "app = pg.mkQApp()\n",
    "\n",
    "w = gl.GLViewWidget()\n",
    "w.opts['distance'] = 20\n",
    "w.show()\n",
    "w.setWindowTitle('pyqtgraph example: GLScatterPlotItem')\n",
    "\n",
    "g = gl.GLGridItem()\n",
    "w.addItem(g)\n",
    "\n",
    "# test_mesh_data = _build_separated_test_rects_mesh_data()\n",
    "test_mesh_data = md\n",
    "# test_mesh_data = _build_cube_mesh_data()\n",
    "# test_mesh = gl.GLMeshItem(vertexes=vertexes, faces=faces, faceColors=colors, drawEdges=True, edgeColor=(0, 0, 0, 1))\n",
    "test_mesh = gl.GLMeshItem(meshdata=test_mesh_data, smooth=True, drawEdges=True, edgeColor=(0, 0, 0, 1), draw=True)\n",
    "\n",
    "\n",
    "\n",
    "w.addItem(test_mesh)\n",
    "\n",
    "## Start Qt event loop unless running in interactive mode.\n",
    "if __name__ == '__main__':\n",
    "    import sys\n",
    "    if (sys.flags.interactive != 1) or not hasattr(QtCore, 'PYQT_VERSION'):\n",
    "        app.exec_()\n",
    "        # QtGui.QApplication.instance().exec_()\n",
    "        \n",
    "        "
   ]
  },
  {
   "cell_type": "code",
   "execution_count": null,
   "id": "6bf66dac-c3d9-45bc-b7b0-b023c22c1dfb",
   "metadata": {},
   "outputs": [],
   "source": []
  }
 ],
 "metadata": {
  "kernelspec": {
   "display_name": ".venv",
   "language": "python",
   "name": "python3"
  },
  "language_info": {
   "codemirror_mode": {
    "name": "ipython",
    "version": 3
   },
   "file_extension": ".py",
   "mimetype": "text/x-python",
   "name": "python",
   "nbconvert_exporter": "python",
   "pygments_lexer": "ipython3",
   "version": "3.9.13"
  }
 },
 "nbformat": 4,
 "nbformat_minor": 5
}
