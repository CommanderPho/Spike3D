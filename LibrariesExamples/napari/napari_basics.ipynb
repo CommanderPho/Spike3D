{
 "cells": [
  {
   "cell_type": "code",
   "execution_count": 2,
   "metadata": {},
   "outputs": [
    {
     "name": "stderr",
     "output_type": "stream",
     "text": [
      "napari.manifest -> 'napari-geoscience-viewer' could not be imported: Cannot find module 'napari_hdf5_netcdf_viewer' declared in entrypoint: 'napari_hdf5_netcdf_viewer:napari.yaml'\n"
     ]
    }
   ],
   "source": [
    "import napari\n",
    "import numpy as np\n",
    "from skimage import data\n",
    "\n",
    "hubble_image = data.hubble_deep_field()\n",
    "\n",
    "tracks_data = np.asarray([\n",
    "    [1, 0, 236, 0],\n",
    "    [1, 1, 236, 100],\n",
    "    [1, 2, 236, 200],\n",
    "    [1, 3, 236, 500],\n",
    "    [1, 4, 236, 1000],\n",
    "    [2, 0, 436, 0],\n",
    "    [2, 1, 436, 100],\n",
    "    [2, 2, 436, 200],\n",
    "    [2, 3, 436, 500],\n",
    "    [2, 4, 436, 1000],\n",
    "    [3, 0, 636, 0],\n",
    "    [3, 1, 636, 100],\n",
    "    [3, 2, 636, 200],\n",
    "    [3, 3, 636, 500],\n",
    "    [3, 4, 636, 1000]\n",
    "])\n",
    "track_confidence = np.array(5*[0.9] + 5*[0.3] + 5 * [0.1])\n",
    "properties = {\n",
    "    'time': tracks_data[:, 1],\n",
    "    'confidence': track_confidence\n",
    "}\n",
    "\n",
    "viewer = napari.view_image(hubble_image)\n",
    "viewer.add_tracks(tracks_data, properties=properties)\n",
    "napari.run()"
   ]
  },
  {
   "cell_type": "code",
   "execution_count": null,
   "metadata": {},
   "outputs": [],
   "source": [
    "# ID,T,(Z),Y,X\n"
   ]
  }
 ],
 "metadata": {
  "kernelspec": {
   "display_name": ".venv",
   "language": "python",
   "name": "python3"
  },
  "language_info": {
   "codemirror_mode": {
    "name": "ipython",
    "version": 3
   },
   "file_extension": ".py",
   "mimetype": "text/x-python",
   "name": "python",
   "nbconvert_exporter": "python",
   "pygments_lexer": "ipython3",
   "version": "3.9.13"
  },
  "orig_nbformat": 4
 },
 "nbformat": 4,
 "nbformat_minor": 2
}
