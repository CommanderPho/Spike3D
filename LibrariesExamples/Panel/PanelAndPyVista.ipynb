{
 "cells": [
  {
   "cell_type": "code",
   "execution_count": 1,
   "metadata": {},
   "outputs": [
    {
     "data": {
      "application/javascript": "(function(root) {\n  function now() {\n    return new Date();\n  }\n\n  var force = true;\n  var py_version = '3.2.2'.replace('rc', '-rc.').replace('.dev', '-dev.');\n  var is_dev = py_version.indexOf(\"+\") !== -1 || py_version.indexOf(\"-\") !== -1;\n  var reloading = false;\n  var Bokeh = root.Bokeh;\n  var bokeh_loaded = Bokeh != null && (Bokeh.version === py_version || (Bokeh.versions !== undefined && Bokeh.versions.has(py_version)));\n\n  if (typeof (root._bokeh_timeout) === \"undefined\" || force) {\n    root._bokeh_timeout = Date.now() + 5000;\n    root._bokeh_failed_load = false;\n  }\n\n  function run_callbacks() {\n    try {\n      root._bokeh_onload_callbacks.forEach(function(callback) {\n        if (callback != null)\n          callback();\n      });\n    } finally {\n      delete root._bokeh_onload_callbacks;\n    }\n    console.debug(\"Bokeh: all callbacks have finished\");\n  }\n\n  function load_libs(css_urls, js_urls, js_modules, js_exports, callback) {\n    if (css_urls == null) css_urls = [];\n    if (js_urls == null) js_urls = [];\n    if (js_modules == null) js_modules = [];\n    if (js_exports == null) js_exports = {};\n\n    root._bokeh_onload_callbacks.push(callback);\n\n    if (root._bokeh_is_loading > 0) {\n      console.debug(\"Bokeh: BokehJS is being loaded, scheduling callback at\", now());\n      return null;\n    }\n    if (js_urls.length === 0 && js_modules.length === 0 && Object.keys(js_exports).length === 0) {\n      run_callbacks();\n      return null;\n    }\n    if (!reloading) {\n      console.debug(\"Bokeh: BokehJS not loaded, scheduling load and callback at\", now());\n    }\n\n    function on_load() {\n      root._bokeh_is_loading--;\n      if (root._bokeh_is_loading === 0) {\n        console.debug(\"Bokeh: all BokehJS libraries/stylesheets loaded\");\n        run_callbacks()\n      }\n    }\n    window._bokeh_on_load = on_load\n\n    function on_error() {\n      console.error(\"failed to load \" + url);\n    }\n\n    var skip = [];\n    if (window.requirejs) {\n      window.requirejs.config({'packages': {}, 'paths': {'vtk': 'https://cdn.jsdelivr.net/npm/vtk.js@20.0.1/vtk', 'jspanel': 'https://cdn.jsdelivr.net/npm/jspanel4@4.12.0/dist/jspanel', 'jspanel-modal': 'https://cdn.jsdelivr.net/npm/jspanel4@4.12.0/dist/extensions/modal/jspanel.modal', 'jspanel-tooltip': 'https://cdn.jsdelivr.net/npm/jspanel4@4.12.0/dist/extensions/tooltip/jspanel.tooltip', 'jspanel-hint': 'https://cdn.jsdelivr.net/npm/jspanel4@4.12.0/dist/extensions/hint/jspanel.hint', 'jspanel-layout': 'https://cdn.jsdelivr.net/npm/jspanel4@4.12.0/dist/extensions/layout/jspanel.layout', 'jspanel-contextmenu': 'https://cdn.jsdelivr.net/npm/jspanel4@4.12.0/dist/extensions/contextmenu/jspanel.contextmenu', 'jspanel-dock': 'https://cdn.jsdelivr.net/npm/jspanel4@4.12.0/dist/extensions/dock/jspanel.dock', 'gridstack': 'https://cdn.jsdelivr.net/npm/gridstack@7.2.3/dist/gridstack-all', 'notyf': 'https://cdn.jsdelivr.net/npm/notyf@3/notyf.min'}, 'shim': {'vtk': {'exports': 'vtk'}, 'jspanel': {'exports': 'jsPanel'}, 'gridstack': {'exports': 'GridStack'}}});\n      require([\"vtk\"], function() {\n\ton_load()\n      })\n      require([\"jspanel\"], function(jsPanel) {\n\twindow.jsPanel = jsPanel\n\ton_load()\n      })\n      require([\"jspanel-modal\"], function() {\n\ton_load()\n      })\n      require([\"jspanel-tooltip\"], function() {\n\ton_load()\n      })\n      require([\"jspanel-hint\"], function() {\n\ton_load()\n      })\n      require([\"jspanel-layout\"], function() {\n\ton_load()\n      })\n      require([\"jspanel-contextmenu\"], function() {\n\ton_load()\n      })\n      require([\"jspanel-dock\"], function() {\n\ton_load()\n      })\n      require([\"gridstack\"], function(GridStack) {\n\twindow.GridStack = GridStack\n\ton_load()\n      })\n      require([\"notyf\"], function() {\n\ton_load()\n      })\n      root._bokeh_is_loading = css_urls.length + 10;\n    } else {\n      root._bokeh_is_loading = css_urls.length + js_urls.length + js_modules.length + Object.keys(js_exports).length;\n    }\n\n    var existing_stylesheets = []\n    var links = document.getElementsByTagName('link')\n    for (var i = 0; i < links.length; i++) {\n      var link = links[i]\n      if (link.href != null) {\n\texisting_stylesheets.push(link.href)\n      }\n    }\n    for (var i = 0; i < css_urls.length; i++) {\n      var url = css_urls[i];\n      if (existing_stylesheets.indexOf(url) !== -1) {\n\ton_load()\n\tcontinue;\n      }\n      const element = document.createElement(\"link\");\n      element.onload = on_load;\n      element.onerror = on_error;\n      element.rel = \"stylesheet\";\n      element.type = \"text/css\";\n      element.href = url;\n      console.debug(\"Bokeh: injecting link tag for BokehJS stylesheet: \", url);\n      document.body.appendChild(element);\n    }    if (((window['vtk'] !== undefined) && (!(window['vtk'] instanceof HTMLElement))) || window.requirejs) {\n      var urls = ['https://cdn.holoviz.org/panel/1.2.3/dist/bundled/abstractvtkplot/vtk.js@20.0.1/vtk.js'];\n      for (var i = 0; i < urls.length; i++) {\n        skip.push(urls[i])\n      }\n    }    if (((window['jsPanel'] !== undefined) && (!(window['jsPanel'] instanceof HTMLElement))) || window.requirejs) {\n      var urls = ['https://cdn.holoviz.org/panel/1.2.3/dist/bundled/floatpanel/jspanel4@4.12.0/dist/jspanel.js', 'https://cdn.holoviz.org/panel/1.2.3/dist/bundled/floatpanel/jspanel4@4.12.0/dist/extensions/modal/jspanel.modal.js', 'https://cdn.holoviz.org/panel/1.2.3/dist/bundled/floatpanel/jspanel4@4.12.0/dist/extensions/tooltip/jspanel.tooltip.js', 'https://cdn.holoviz.org/panel/1.2.3/dist/bundled/floatpanel/jspanel4@4.12.0/dist/extensions/hint/jspanel.hint.js', 'https://cdn.holoviz.org/panel/1.2.3/dist/bundled/floatpanel/jspanel4@4.12.0/dist/extensions/layout/jspanel.layout.js', 'https://cdn.holoviz.org/panel/1.2.3/dist/bundled/floatpanel/jspanel4@4.12.0/dist/extensions/contextmenu/jspanel.contextmenu.js', 'https://cdn.holoviz.org/panel/1.2.3/dist/bundled/floatpanel/jspanel4@4.12.0/dist/extensions/dock/jspanel.dock.js'];\n      for (var i = 0; i < urls.length; i++) {\n        skip.push(urls[i])\n      }\n    }    if (((window['GridStack'] !== undefined) && (!(window['GridStack'] instanceof HTMLElement))) || window.requirejs) {\n      var urls = ['https://cdn.holoviz.org/panel/1.2.3/dist/bundled/gridstack/gridstack@7.2.3/dist/gridstack-all.js'];\n      for (var i = 0; i < urls.length; i++) {\n        skip.push(urls[i])\n      }\n    }    if (((window['Notyf'] !== undefined) && (!(window['Notyf'] instanceof HTMLElement))) || window.requirejs) {\n      var urls = ['https://cdn.holoviz.org/panel/1.2.3/dist/bundled/notificationarea/notyf@3/notyf.min.js'];\n      for (var i = 0; i < urls.length; i++) {\n        skip.push(urls[i])\n      }\n    }    var existing_scripts = []\n    var scripts = document.getElementsByTagName('script')\n    for (var i = 0; i < scripts.length; i++) {\n      var script = scripts[i]\n      if (script.src != null) {\n\texisting_scripts.push(script.src)\n      }\n    }\n    for (var i = 0; i < js_urls.length; i++) {\n      var url = js_urls[i];\n      if (skip.indexOf(url) !== -1 || existing_scripts.indexOf(url) !== -1) {\n\tif (!window.requirejs) {\n\t  on_load();\n\t}\n\tcontinue;\n      }\n      var element = document.createElement('script');\n      element.onload = on_load;\n      element.onerror = on_error;\n      element.async = false;\n      element.src = url;\n      console.debug(\"Bokeh: injecting script tag for BokehJS library: \", url);\n      document.head.appendChild(element);\n    }\n    for (var i = 0; i < js_modules.length; i++) {\n      var url = js_modules[i];\n      if (skip.indexOf(url) !== -1 || existing_scripts.indexOf(url) !== -1) {\n\tif (!window.requirejs) {\n\t  on_load();\n\t}\n\tcontinue;\n      }\n      var element = document.createElement('script');\n      element.onload = on_load;\n      element.onerror = on_error;\n      element.async = false;\n      element.src = url;\n      element.type = \"module\";\n      console.debug(\"Bokeh: injecting script tag for BokehJS library: \", url);\n      document.head.appendChild(element);\n    }\n    for (const name in js_exports) {\n      var url = js_exports[name];\n      if (skip.indexOf(url) >= 0 || root[name] != null) {\n\tif (!window.requirejs) {\n\t  on_load();\n\t}\n\tcontinue;\n      }\n      var element = document.createElement('script');\n      element.onerror = on_error;\n      element.async = false;\n      element.type = \"module\";\n      console.debug(\"Bokeh: injecting script tag for BokehJS library: \", url);\n      element.textContent = `\n      import ${name} from \"${url}\"\n      window.${name} = ${name}\n      window._bokeh_on_load()\n      `\n      document.head.appendChild(element);\n    }\n    if (!js_urls.length && !js_modules.length) {\n      on_load()\n    }\n  };\n\n  function inject_raw_css(css) {\n    const element = document.createElement(\"style\");\n    element.appendChild(document.createTextNode(css));\n    document.body.appendChild(element);\n  }\n\n  var js_urls = [\"https://cdn.holoviz.org/panel/1.2.3/dist/bundled/abstractvtkplot/vtk.js@20.0.1/vtk.js\", \"https://cdn.bokeh.org/bokeh/release/bokeh-3.2.2.min.js\", \"https://cdn.bokeh.org/bokeh/release/bokeh-gl-3.2.2.min.js\", \"https://cdn.bokeh.org/bokeh/release/bokeh-widgets-3.2.2.min.js\", \"https://cdn.bokeh.org/bokeh/release/bokeh-tables-3.2.2.min.js\", \"https://cdn.holoviz.org/panel/1.2.3/dist/bundled/material-components-web@7.0.0/dist/material-components-web.min.js\", \"https://cdn.holoviz.org/panel/1.2.3/dist/panel.min.js\"];\n  var js_modules = [];\n  var js_exports = {};\n  var css_urls = [\"https://fonts.googleapis.com/css?family=Roboto:300,400,500\", \"https://fonts.googleapis.com/css?family=Material+Icons&display=block\"];\n  var inline_js = [    function(Bokeh) {\n      Bokeh.set_log_level(\"info\");\n    },\nfunction(Bokeh) {} // ensure no trailing comma for IE\n  ];\n\n  function run_inline_js() {\n    if ((root.Bokeh !== undefined) || (force === true)) {\n      for (var i = 0; i < inline_js.length; i++) {\n        inline_js[i].call(root, root.Bokeh);\n      }\n      // Cache old bokeh versions\n      if (Bokeh != undefined && !reloading) {\n\tvar NewBokeh = root.Bokeh;\n\tif (Bokeh.versions === undefined) {\n\t  Bokeh.versions = new Map();\n\t}\n\tif (NewBokeh.version !== Bokeh.version) {\n\t  Bokeh.versions.set(NewBokeh.version, NewBokeh)\n\t}\n\troot.Bokeh = Bokeh;\n      }} else if (Date.now() < root._bokeh_timeout) {\n      setTimeout(run_inline_js, 100);\n    } else if (!root._bokeh_failed_load) {\n      console.log(\"Bokeh: BokehJS failed to load within specified timeout.\");\n      root._bokeh_failed_load = true;\n    }\n    root._bokeh_is_initializing = false\n  }\n\n  function load_or_wait() {\n    // Implement a backoff loop that tries to ensure we do not load multiple\n    // versions of Bokeh and its dependencies at the same time.\n    // In recent versions we use the root._bokeh_is_initializing flag\n    // to determine whether there is an ongoing attempt to initialize\n    // bokeh, however for backward compatibility we also try to ensure\n    // that we do not start loading a newer (Panel>=1.0 and Bokeh>3) version\n    // before older versions are fully initialized.\n    if (root._bokeh_is_initializing && Date.now() > root._bokeh_timeout) {\n      root._bokeh_is_initializing = false;\n      root._bokeh_onload_callbacks = undefined;\n      console.log(\"Bokeh: BokehJS was loaded multiple times but one version failed to initialize.\");\n      load_or_wait();\n    } else if (root._bokeh_is_initializing || (typeof root._bokeh_is_initializing === \"undefined\" && root._bokeh_onload_callbacks !== undefined)) {\n      setTimeout(load_or_wait, 100);\n    } else {\n      Bokeh = root.Bokeh;\n      bokeh_loaded = Bokeh != null && (Bokeh.version === py_version || (Bokeh.versions !== undefined && Bokeh.versions.has(py_version)));\n      root._bokeh_is_initializing = true\n      root._bokeh_onload_callbacks = []\n      if (!reloading && (!bokeh_loaded || is_dev)) {\n\troot.Bokeh = undefined;\n      }\n      load_libs(css_urls, js_urls, js_modules, js_exports, function() {\n\tconsole.debug(\"Bokeh: BokehJS plotting callback run at\", now());\n\trun_inline_js();\n      });\n    }\n  }\n  // Give older versions of the autoload script a head-start to ensure\n  // they initialize before we start loading newer version.\n  setTimeout(load_or_wait, 100)\n}(window));",
      "application/vnd.holoviews_load.v0+json": ""
     },
     "metadata": {},
     "output_type": "display_data"
    },
    {
     "data": {
      "application/javascript": "\nif ((window.PyViz === undefined) || (window.PyViz instanceof HTMLElement)) {\n  window.PyViz = {comms: {}, comm_status:{}, kernels:{}, receivers: {}, plot_index: []}\n}\n\n\n    function JupyterCommManager() {\n    }\n\n    JupyterCommManager.prototype.register_target = function(plot_id, comm_id, msg_handler) {\n      if (window.comm_manager || ((window.Jupyter !== undefined) && (Jupyter.notebook.kernel != null))) {\n        var comm_manager = window.comm_manager || Jupyter.notebook.kernel.comm_manager;\n        comm_manager.register_target(comm_id, function(comm) {\n          comm.on_msg(msg_handler);\n        });\n      } else if ((plot_id in window.PyViz.kernels) && (window.PyViz.kernels[plot_id])) {\n        window.PyViz.kernels[plot_id].registerCommTarget(comm_id, function(comm) {\n          comm.onMsg = msg_handler;\n        });\n      } else if (typeof google != 'undefined' && google.colab.kernel != null) {\n        google.colab.kernel.comms.registerTarget(comm_id, (comm) => {\n          var messages = comm.messages[Symbol.asyncIterator]();\n          function processIteratorResult(result) {\n            var message = result.value;\n            console.log(message)\n            var content = {data: message.data, comm_id};\n            var buffers = []\n            for (var buffer of message.buffers || []) {\n              buffers.push(new DataView(buffer))\n            }\n            var metadata = message.metadata || {};\n            var msg = {content, buffers, metadata}\n            msg_handler(msg);\n            return messages.next().then(processIteratorResult);\n          }\n          return messages.next().then(processIteratorResult);\n        })\n      }\n    }\n\n    JupyterCommManager.prototype.get_client_comm = function(plot_id, comm_id, msg_handler) {\n      if (comm_id in window.PyViz.comms) {\n        return window.PyViz.comms[comm_id];\n      } else if (window.comm_manager || ((window.Jupyter !== undefined) && (Jupyter.notebook.kernel != null))) {\n        var comm_manager = window.comm_manager || Jupyter.notebook.kernel.comm_manager;\n        var comm = comm_manager.new_comm(comm_id, {}, {}, {}, comm_id);\n        if (msg_handler) {\n          comm.on_msg(msg_handler);\n        }\n      } else if ((plot_id in window.PyViz.kernels) && (window.PyViz.kernels[plot_id])) {\n        var comm = window.PyViz.kernels[plot_id].connectToComm(comm_id);\n        comm.open();\n        if (msg_handler) {\n          comm.onMsg = msg_handler;\n        }\n      } else if (typeof google != 'undefined' && google.colab.kernel != null) {\n        var comm_promise = google.colab.kernel.comms.open(comm_id)\n        comm_promise.then((comm) => {\n          window.PyViz.comms[comm_id] = comm;\n          if (msg_handler) {\n            var messages = comm.messages[Symbol.asyncIterator]();\n            function processIteratorResult(result) {\n              var message = result.value;\n              var content = {data: message.data};\n              var metadata = message.metadata || {comm_id};\n              var msg = {content, metadata}\n              msg_handler(msg);\n              return messages.next().then(processIteratorResult);\n            }\n            return messages.next().then(processIteratorResult);\n          }\n        }) \n        var sendClosure = (data, metadata, buffers, disposeOnDone) => {\n          return comm_promise.then((comm) => {\n            comm.send(data, metadata, buffers, disposeOnDone);\n          });\n        };\n        var comm = {\n          send: sendClosure\n        };\n      }\n      window.PyViz.comms[comm_id] = comm;\n      return comm;\n    }\n    window.PyViz.comm_manager = new JupyterCommManager();\n    \n\n\nvar JS_MIME_TYPE = 'application/javascript';\nvar HTML_MIME_TYPE = 'text/html';\nvar EXEC_MIME_TYPE = 'application/vnd.holoviews_exec.v0+json';\nvar CLASS_NAME = 'output';\n\n/**\n * Render data to the DOM node\n */\nfunction render(props, node) {\n  var div = document.createElement(\"div\");\n  var script = document.createElement(\"script\");\n  node.appendChild(div);\n  node.appendChild(script);\n}\n\n/**\n * Handle when a new output is added\n */\nfunction handle_add_output(event, handle) {\n  var output_area = handle.output_area;\n  var output = handle.output;\n  if ((output.data == undefined) || (!output.data.hasOwnProperty(EXEC_MIME_TYPE))) {\n    return\n  }\n  var id = output.metadata[EXEC_MIME_TYPE][\"id\"];\n  var toinsert = output_area.element.find(\".\" + CLASS_NAME.split(' ')[0]);\n  if (id !== undefined) {\n    var nchildren = toinsert.length;\n    var html_node = toinsert[nchildren-1].children[0];\n    html_node.innerHTML = output.data[HTML_MIME_TYPE];\n    var scripts = [];\n    var nodelist = html_node.querySelectorAll(\"script\");\n    for (var i in nodelist) {\n      if (nodelist.hasOwnProperty(i)) {\n        scripts.push(nodelist[i])\n      }\n    }\n\n    scripts.forEach( function (oldScript) {\n      var newScript = document.createElement(\"script\");\n      var attrs = [];\n      var nodemap = oldScript.attributes;\n      for (var j in nodemap) {\n        if (nodemap.hasOwnProperty(j)) {\n          attrs.push(nodemap[j])\n        }\n      }\n      attrs.forEach(function(attr) { newScript.setAttribute(attr.name, attr.value) });\n      newScript.appendChild(document.createTextNode(oldScript.innerHTML));\n      oldScript.parentNode.replaceChild(newScript, oldScript);\n    });\n    if (JS_MIME_TYPE in output.data) {\n      toinsert[nchildren-1].children[1].textContent = output.data[JS_MIME_TYPE];\n    }\n    output_area._hv_plot_id = id;\n    if ((window.Bokeh !== undefined) && (id in Bokeh.index)) {\n      window.PyViz.plot_index[id] = Bokeh.index[id];\n    } else {\n      window.PyViz.plot_index[id] = null;\n    }\n  } else if (output.metadata[EXEC_MIME_TYPE][\"server_id\"] !== undefined) {\n    var bk_div = document.createElement(\"div\");\n    bk_div.innerHTML = output.data[HTML_MIME_TYPE];\n    var script_attrs = bk_div.children[0].attributes;\n    for (var i = 0; i < script_attrs.length; i++) {\n      toinsert[toinsert.length - 1].childNodes[1].setAttribute(script_attrs[i].name, script_attrs[i].value);\n    }\n    // store reference to server id on output_area\n    output_area._bokeh_server_id = output.metadata[EXEC_MIME_TYPE][\"server_id\"];\n  }\n}\n\n/**\n * Handle when an output is cleared or removed\n */\nfunction handle_clear_output(event, handle) {\n  var id = handle.cell.output_area._hv_plot_id;\n  var server_id = handle.cell.output_area._bokeh_server_id;\n  if (((id === undefined) || !(id in PyViz.plot_index)) && (server_id !== undefined)) { return; }\n  var comm = window.PyViz.comm_manager.get_client_comm(\"hv-extension-comm\", \"hv-extension-comm\", function () {});\n  if (server_id !== null) {\n    comm.send({event_type: 'server_delete', 'id': server_id});\n    return;\n  } else if (comm !== null) {\n    comm.send({event_type: 'delete', 'id': id});\n  }\n  delete PyViz.plot_index[id];\n  if ((window.Bokeh !== undefined) & (id in window.Bokeh.index)) {\n    var doc = window.Bokeh.index[id].model.document\n    doc.clear();\n    const i = window.Bokeh.documents.indexOf(doc);\n    if (i > -1) {\n      window.Bokeh.documents.splice(i, 1);\n    }\n  }\n}\n\n/**\n * Handle kernel restart event\n */\nfunction handle_kernel_cleanup(event, handle) {\n  delete PyViz.comms[\"hv-extension-comm\"];\n  window.PyViz.plot_index = {}\n}\n\n/**\n * Handle update_display_data messages\n */\nfunction handle_update_output(event, handle) {\n  handle_clear_output(event, {cell: {output_area: handle.output_area}})\n  handle_add_output(event, handle)\n}\n\nfunction register_renderer(events, OutputArea) {\n  function append_mime(data, metadata, element) {\n    // create a DOM node to render to\n    var toinsert = this.create_output_subarea(\n    metadata,\n    CLASS_NAME,\n    EXEC_MIME_TYPE\n    );\n    this.keyboard_manager.register_events(toinsert);\n    // Render to node\n    var props = {data: data, metadata: metadata[EXEC_MIME_TYPE]};\n    render(props, toinsert[0]);\n    element.append(toinsert);\n    return toinsert\n  }\n\n  events.on('output_added.OutputArea', handle_add_output);\n  events.on('output_updated.OutputArea', handle_update_output);\n  events.on('clear_output.CodeCell', handle_clear_output);\n  events.on('delete.Cell', handle_clear_output);\n  events.on('kernel_ready.Kernel', handle_kernel_cleanup);\n\n  OutputArea.prototype.register_mime_type(EXEC_MIME_TYPE, append_mime, {\n    safe: true,\n    index: 0\n  });\n}\n\nif (window.Jupyter !== undefined) {\n  try {\n    var events = require('base/js/events');\n    var OutputArea = require('notebook/js/outputarea').OutputArea;\n    if (OutputArea.prototype.mime_types().indexOf(EXEC_MIME_TYPE) == -1) {\n      register_renderer(events, OutputArea);\n    }\n  } catch(err) {\n  }\n}\n",
      "application/vnd.holoviews_load.v0+json": ""
     },
     "metadata": {},
     "output_type": "display_data"
    },
    {
     "data": {
      "text/html": [
       "<style>*[data-root-id],\n",
       "*[data-root-id] > * {\n",
       "  box-sizing: border-box;\n",
       "  font-family: var(--jp-ui-font-family);\n",
       "  font-size: var(--jp-ui-font-size1);\n",
       "  color: var(--vscode-editor-foreground, var(--jp-ui-font-color1));\n",
       "}\n",
       "\n",
       "/* Override VSCode background color */\n",
       ".cell-output-ipywidget-background:has(\n",
       "    > .cell-output-ipywidget-background > .lm-Widget > *[data-root-id]\n",
       "  ),\n",
       ".cell-output-ipywidget-background:has(> .lm-Widget > *[data-root-id]) {\n",
       "  background-color: transparent !important;\n",
       "}\n",
       "</style>"
      ]
     },
     "metadata": {},
     "output_type": "display_data"
    },
    {
     "data": {
      "application/vnd.holoviews_exec.v0+json": "",
      "text/html": [
       "<div id='19589a47-1f72-47e4-9116-7c0b447e7251'>\n",
       "  <div id=\"e1797ef1-9883-4ddb-9933-eedf739cc629\" data-root-id=\"19589a47-1f72-47e4-9116-7c0b447e7251\" style=\"display: contents;\"></div>\n",
       "</div>\n",
       "<script type=\"application/javascript\">(function(root) {\n",
       "  var docs_json = {\"3d0e3d2a-83d2-42c5-b1c7-d08a842f78b0\":{\"version\":\"3.2.2\",\"title\":\"Bokeh Application\",\"roots\":[{\"type\":\"object\",\"name\":\"panel.models.browser.BrowserInfo\",\"id\":\"19589a47-1f72-47e4-9116-7c0b447e7251\"},{\"type\":\"object\",\"name\":\"panel.models.comm_manager.CommManager\",\"id\":\"52dbc9cd-4564-4479-b8b0-afb0450ee301\",\"attributes\":{\"plot_id\":\"19589a47-1f72-47e4-9116-7c0b447e7251\",\"comm_id\":\"df44159218c54f52b3b683d0abf31740\",\"client_comm_id\":\"1825cc8962554ce18e2dabc6a8e3dbd8\"}}],\"defs\":[{\"type\":\"model\",\"name\":\"ReactiveHTML1\"},{\"type\":\"model\",\"name\":\"FlexBox1\",\"properties\":[{\"name\":\"align_content\",\"kind\":\"Any\",\"default\":\"flex-start\"},{\"name\":\"align_items\",\"kind\":\"Any\",\"default\":\"flex-start\"},{\"name\":\"flex_direction\",\"kind\":\"Any\",\"default\":\"row\"},{\"name\":\"flex_wrap\",\"kind\":\"Any\",\"default\":\"wrap\"},{\"name\":\"justify_content\",\"kind\":\"Any\",\"default\":\"flex-start\"}]},{\"type\":\"model\",\"name\":\"FloatPanel1\",\"properties\":[{\"name\":\"config\",\"kind\":\"Any\",\"default\":{\"type\":\"map\"}},{\"name\":\"contained\",\"kind\":\"Any\",\"default\":true},{\"name\":\"position\",\"kind\":\"Any\",\"default\":\"right-top\"},{\"name\":\"offsetx\",\"kind\":\"Any\",\"default\":null},{\"name\":\"offsety\",\"kind\":\"Any\",\"default\":null},{\"name\":\"theme\",\"kind\":\"Any\",\"default\":\"primary\"},{\"name\":\"status\",\"kind\":\"Any\",\"default\":\"normalized\"}]},{\"type\":\"model\",\"name\":\"GridStack1\",\"properties\":[{\"name\":\"mode\",\"kind\":\"Any\",\"default\":\"warn\"},{\"name\":\"ncols\",\"kind\":\"Any\",\"default\":null},{\"name\":\"nrows\",\"kind\":\"Any\",\"default\":null},{\"name\":\"allow_resize\",\"kind\":\"Any\",\"default\":true},{\"name\":\"allow_drag\",\"kind\":\"Any\",\"default\":true},{\"name\":\"state\",\"kind\":\"Any\",\"default\":[]}]},{\"type\":\"model\",\"name\":\"drag1\",\"properties\":[{\"name\":\"slider_width\",\"kind\":\"Any\",\"default\":5},{\"name\":\"slider_color\",\"kind\":\"Any\",\"default\":\"black\"},{\"name\":\"value\",\"kind\":\"Any\",\"default\":50}]},{\"type\":\"model\",\"name\":\"click1\",\"properties\":[{\"name\":\"terminal_output\",\"kind\":\"Any\",\"default\":\"\"},{\"name\":\"debug_name\",\"kind\":\"Any\",\"default\":\"\"},{\"name\":\"clears\",\"kind\":\"Any\",\"default\":0}]},{\"type\":\"model\",\"name\":\"FastWrapper1\",\"properties\":[{\"name\":\"object\",\"kind\":\"Any\",\"default\":null},{\"name\":\"style\",\"kind\":\"Any\",\"default\":null}]},{\"type\":\"model\",\"name\":\"NotificationAreaBase1\",\"properties\":[{\"name\":\"js_events\",\"kind\":\"Any\",\"default\":{\"type\":\"map\"}},{\"name\":\"position\",\"kind\":\"Any\",\"default\":\"bottom-right\"},{\"name\":\"_clear\",\"kind\":\"Any\",\"default\":0}]},{\"type\":\"model\",\"name\":\"NotificationArea1\",\"properties\":[{\"name\":\"js_events\",\"kind\":\"Any\",\"default\":{\"type\":\"map\"}},{\"name\":\"notifications\",\"kind\":\"Any\",\"default\":[]},{\"name\":\"position\",\"kind\":\"Any\",\"default\":\"bottom-right\"},{\"name\":\"_clear\",\"kind\":\"Any\",\"default\":0},{\"name\":\"types\",\"kind\":\"Any\",\"default\":[{\"type\":\"map\",\"entries\":[[\"type\",\"warning\"],[\"background\",\"#ffc107\"],[\"icon\",{\"type\":\"map\",\"entries\":[[\"className\",\"fas fa-exclamation-triangle\"],[\"tagName\",\"i\"],[\"color\",\"white\"]]}]]},{\"type\":\"map\",\"entries\":[[\"type\",\"info\"],[\"background\",\"#007bff\"],[\"icon\",{\"type\":\"map\",\"entries\":[[\"className\",\"fas fa-info-circle\"],[\"tagName\",\"i\"],[\"color\",\"white\"]]}]]}]}]},{\"type\":\"model\",\"name\":\"Notification\",\"properties\":[{\"name\":\"background\",\"kind\":\"Any\",\"default\":null},{\"name\":\"duration\",\"kind\":\"Any\",\"default\":3000},{\"name\":\"icon\",\"kind\":\"Any\",\"default\":null},{\"name\":\"message\",\"kind\":\"Any\",\"default\":\"\"},{\"name\":\"notification_type\",\"kind\":\"Any\",\"default\":null},{\"name\":\"_destroyed\",\"kind\":\"Any\",\"default\":false}]},{\"type\":\"model\",\"name\":\"TemplateActions1\",\"properties\":[{\"name\":\"open_modal\",\"kind\":\"Any\",\"default\":0},{\"name\":\"close_modal\",\"kind\":\"Any\",\"default\":0}]},{\"type\":\"model\",\"name\":\"BootstrapTemplateActions1\",\"properties\":[{\"name\":\"open_modal\",\"kind\":\"Any\",\"default\":0},{\"name\":\"close_modal\",\"kind\":\"Any\",\"default\":0}]},{\"type\":\"model\",\"name\":\"MaterialTemplateActions1\",\"properties\":[{\"name\":\"open_modal\",\"kind\":\"Any\",\"default\":0},{\"name\":\"close_modal\",\"kind\":\"Any\",\"default\":0}]}]}};\n",
       "  var render_items = [{\"docid\":\"3d0e3d2a-83d2-42c5-b1c7-d08a842f78b0\",\"roots\":{\"19589a47-1f72-47e4-9116-7c0b447e7251\":\"e1797ef1-9883-4ddb-9933-eedf739cc629\"},\"root_ids\":[\"19589a47-1f72-47e4-9116-7c0b447e7251\"]}];\n",
       "  var docs = Object.values(docs_json)\n",
       "  if (!docs) {\n",
       "    return\n",
       "  }\n",
       "  const py_version = docs[0].version.replace('rc', '-rc.').replace('.dev', '-dev.')\n",
       "  const is_dev = py_version.indexOf(\"+\") !== -1 || py_version.indexOf(\"-\") !== -1\n",
       "  function embed_document(root) {\n",
       "    var Bokeh = get_bokeh(root)\n",
       "    Bokeh.embed.embed_items_notebook(docs_json, render_items);\n",
       "    for (const render_item of render_items) {\n",
       "      for (const root_id of render_item.root_ids) {\n",
       "\tconst id_el = document.getElementById(root_id)\n",
       "\tif (id_el.children.length && (id_el.children[0].className === 'bk-root')) {\n",
       "\t  const root_el = id_el.children[0]\n",
       "\t  root_el.id = root_el.id + '-rendered'\n",
       "\t}\n",
       "      }\n",
       "    }\n",
       "  }\n",
       "  function get_bokeh(root) {\n",
       "    if (root.Bokeh === undefined) {\n",
       "      return null\n",
       "    } else if (root.Bokeh.version !== py_version && !is_dev) {\n",
       "      if (root.Bokeh.versions === undefined || !root.Bokeh.versions.has(py_version)) {\n",
       "\treturn null\n",
       "      }\n",
       "      return root.Bokeh.versions.get(py_version);\n",
       "    } else if (root.Bokeh.version === py_version) {\n",
       "      return root.Bokeh\n",
       "    }\n",
       "    return null\n",
       "  }\n",
       "  function is_loaded(root) {\n",
       "    var Bokeh = get_bokeh(root)\n",
       "    return (Bokeh != null && Bokeh.Panel !== undefined && ( root['vtk'] !== undefined) && ( root['vtk'] !== undefined))\n",
       "  }\n",
       "  if (is_loaded(root)) {\n",
       "    embed_document(root);\n",
       "  } else {\n",
       "    var attempts = 0;\n",
       "    var timer = setInterval(function(root) {\n",
       "      if (is_loaded(root)) {\n",
       "        clearInterval(timer);\n",
       "        embed_document(root);\n",
       "      } else if (document.readyState == \"complete\") {\n",
       "        attempts++;\n",
       "        if (attempts > 200) {\n",
       "          clearInterval(timer);\n",
       "\t  var Bokeh = get_bokeh(root)\n",
       "\t  if (Bokeh == null || Bokeh.Panel == null) {\n",
       "            console.warn(\"Panel: ERROR: Unable to run Panel code because Bokeh or Panel library is missing\");\n",
       "\t  } else {\n",
       "\t    console.warn(\"Panel: WARNING: Attempting to render but not all required libraries could be resolved.\")\n",
       "\t    embed_document(root)\n",
       "\t  }\n",
       "        }\n",
       "      }\n",
       "    }, 25, root)\n",
       "  }\n",
       "})(window);</script>"
      ]
     },
     "metadata": {
      "application/vnd.holoviews_exec.v0+json": {
       "id": "19589a47-1f72-47e4-9116-7c0b447e7251"
      }
     },
     "output_type": "display_data"
    }
   ],
   "source": [
    "import panel as pn\n",
    "import pyvista as pv\n",
    "\n",
    "from pyvista import examples\n",
    "\n",
    "pn.extension('vtk', design='material', sizing_mode='stretch_width', template='material')\n",
    "\n",
    "pn.state.template.config.raw_css.append(\"\"\"\n",
    "#main {\n",
    "  padding: 0;\n",
    "}\"\"\")"
   ]
  },
  {
   "cell_type": "code",
   "execution_count": 2,
   "metadata": {},
   "outputs": [
    {
     "data": {
      "application/vnd.jupyter.widget-view+json": {
       "model_id": "2e50c3e8716144db8b45a462b5b599a3",
       "version_major": 2,
       "version_minor": 0
      },
      "text/plain": [
       "BokehModel(combine_events=True, render_bundle={'docs_json': {'cf0eb894-9e20-4c9a-bddc-f7292b7f13d1': {'version…"
      ]
     },
     "execution_count": 2,
     "metadata": {},
     "output_type": "execute_result"
    }
   ],
   "source": [
    "m = examples.download_st_helens().warp_by_scalar()\n",
    "\n",
    "# default camera position\n",
    "cpos = [\n",
    "    (567000.9232163235, 5119147.423216323, 6460.423216322832),\n",
    "    (562835.0, 5114981.5, 2294.5),\n",
    "    (-0.4082482904638299, -0.40824829046381844, 0.8164965809277649)\n",
    "]\n",
    "\n",
    "# pyvista plotter\n",
    "pl = pv.Plotter(notebook=True);\n",
    "actor = pl.add_mesh(m, smooth_shading=True, lighting=True)\n",
    "pl.camera_position = cpos #set camera position\n",
    "\n",
    "# save initial camera properties\n",
    "renderer = list(pl.ren_win.GetRenderers())[0]\n",
    "initial_camera = renderer.GetActiveCamera()\n",
    "initial_camera_pos = {\n",
    "    \"focalPoint\": initial_camera.GetFocalPoint(),\n",
    "    \"position\": initial_camera.GetPosition(),\n",
    "    \"viewUp\": initial_camera.GetViewUp()\n",
    "}\n",
    "\n",
    "# Panel creation using the VTK Scene created by the plotter pyvista\n",
    "orientation_widget = True\n",
    "enable_keybindings = True\n",
    "vtkpan = pn.pane.VTK(\n",
    "    pl.ren_win, margin=0, sizing_mode='stretch_both', orientation_widget=orientation_widget,\n",
    "    enable_keybindings=enable_keybindings, min_height=600\n",
    ")\n",
    "vtkpan"
   ]
  },
  {
   "cell_type": "code",
   "execution_count": 3,
   "metadata": {},
   "outputs": [
    {
     "data": {
      "application/vnd.jupyter.widget-view+json": {
       "model_id": "e6f1127a5df84fb2b662cee407e27b49",
       "version_major": 2,
       "version_minor": 0
      },
      "text/plain": [
       "BokehModel(combine_events=True, render_bundle={'docs_json': {'526f38bf-ca91-4589-8f9b-940ebeb69c34': {'version…"
      ]
     },
     "execution_count": 3,
     "metadata": {},
     "output_type": "execute_result"
    }
   ],
   "source": [
    "# Creation of a mapping between Custom name and the VTK object reference\n",
    "actor_ref = [\"None\", actor.__this__]\n",
    "actor_names = [\"None\", 'St Helen']\n",
    "actor_opts = {k:v for k,v in zip(actor_names, actor_ref)}\n",
    "\n",
    "options = {}\n",
    "actor_selection = pn.widgets.Select(value=None, options=actor_opts, margin=0, name=\"Actor Selection\")\n",
    "actor_selection"
   ]
  },
  {
   "cell_type": "code",
   "execution_count": 4,
   "metadata": {},
   "outputs": [
    {
     "data": {
      "application/vnd.jupyter.widget-view+json": {
       "model_id": "6ffd1ed216b24ac782e02da01a430644",
       "version_major": 2,
       "version_minor": 0
      },
      "text/plain": [
       "BokehModel(combine_events=True, render_bundle={'docs_json': {'7e1ce4f3-fdd8-481c-8dee-81be2e416ccf': {'version…"
      ]
     },
     "execution_count": 4,
     "metadata": {},
     "output_type": "execute_result"
    }
   ],
   "source": [
    "# Scene Layout\n",
    "color = ''.join(['#'] + ['{:02x}'.format(int(v*255)) for v in pl.background_color[:3]])\n",
    "bind_and_orient = pn.widgets.CheckBoxGroup(\n",
    "    value=['Orientation Widget', 'Key Bindings'], options=['Orientation Widget', 'Key Bindings']\n",
    ")\n",
    "reset_camera = pn.widgets.Button(name='Reset Camera')\n",
    "background_color = pn.widgets.ColorPicker(value=color, name='Background Color')\n",
    "scene_props = pn.WidgetBox(bind_and_orient, reset_camera, background_color, sizing_mode='stretch_width')\n",
    "\n",
    "# Light properties\n",
    "light_box_title = pn.widgets.StaticText(value='Light properties')\n",
    "light_type = pn.widgets.Select(value='HeadLight', options=['HeadLight', 'SceneLight', 'CameraLight'])\n",
    "light_intensity = pn.widgets.FloatSlider(start=0, end=1, value=1, name=\"Intensity\")\n",
    "light_props = pn.WidgetBox(light_box_title, light_type, light_intensity, sizing_mode='stretch_width')\n",
    "\n",
    "pn.Column(scene_props, light_props, max_width=320)"
   ]
  },
  {
   "cell_type": "code",
   "execution_count": 5,
   "metadata": {},
   "outputs": [
    {
     "data": {
      "application/vnd.jupyter.widget-view+json": {
       "model_id": "61dd7b314eb64d4694dd59b695855b69",
       "version_major": 2,
       "version_minor": 0
      },
      "text/plain": [
       "BokehModel(combine_events=True, render_bundle={'docs_json': {'8ff0ddd1-598a-4fd0-bac6-6cc20035d31c': {'version…"
      ]
     },
     "execution_count": 5,
     "metadata": {},
     "output_type": "execute_result"
    }
   ],
   "source": [
    "#layout actor props\n",
    "opacity = pn.widgets.FloatSlider(value=1, start=0, end=1, name='Opacity', disabled=True)\n",
    "lighting = pn.widgets.Toggle(value=True, name='Lighting', disabled=True)\n",
    "interpolation = pn.widgets.Select(value='Phong', options=['Flat','Phong'], name='Interpolation', disabled=True)\n",
    "edges = pn.widgets.Toggle(value=False, name='Show Edges', disabled=True)\n",
    "edges_color = pn.widgets.ColorPicker(value='#ffffff', name='Edges Color', disabled=True)\n",
    "representation = pn.widgets.Select(value='Surface', options=['Points','Wireframe','Surface'], name='Representation', disabled=True)\n",
    "frontface_culling = pn.widgets.Toggle(value=False, name='Frontface Culling', disabled=True)\n",
    "backface_culling = pn.widgets.Toggle(value=False, name='Backface Culling', disabled=True)\n",
    "ambient = pn.widgets.FloatSlider(value=0, start=-1, end=1, name='Ambient', disabled=True)\n",
    "diffuse = pn.widgets.FloatSlider(value=1, start=0, end=2, name='Diffuse', disabled=True)\n",
    "specular = pn.widgets.FloatSlider(value=0, start=0, end=10, name='Specular', disabled=True)\n",
    "specular_power = pn.widgets.FloatSlider(value=100, start=0, end=100, name='Specular Power', disabled=True)\n",
    "\n",
    "actor_props = pn.WidgetBox(\n",
    "    opacity, lighting, interpolation, edges, edges_color,\n",
    "    representation, frontface_culling, backface_culling,\n",
    "    ambient, diffuse, specular, specular_power\n",
    ")\n",
    "\n",
    "actor_props"
   ]
  },
  {
   "cell_type": "code",
   "execution_count": 7,
   "metadata": {},
   "outputs": [
    {
     "data": {
      "application/vnd.jupyter.widget-view+json": {
       "model_id": "995e8a0054af4f77a438735ccf94a296",
       "version_major": 2,
       "version_minor": 0
      },
      "text/plain": [
       "BokehModel(combine_events=True, render_bundle={'docs_json': {'5658404b-05ba-4e3e-ac72-d68243579e54': {'version…"
      ]
     },
     "execution_count": 7,
     "metadata": {},
     "output_type": "execute_result"
    }
   ],
   "source": [
    "epoch_idx_slider = pn.widgets.IntSlider(value=0, start=0, end=10, name=\"EpochIDX\", disabled=False)\n",
    "epoch_timebin_idx_slider = pn.widgets.IntSlider(value=0, start=0, end=10, name=\"TimebinIDX\", disabled=True)\n",
    "actor_props = pn.WidgetBox(\n",
    "    epoch_idx_slider, epoch_timebin_idx_slider\n",
    ")\n",
    "actor_props\n"
   ]
  },
  {
   "cell_type": "code",
   "execution_count": 6,
   "metadata": {},
   "outputs": [
    {
     "ename": "RuntimeError",
     "evalue": "Models must be owned by only a single document, LinearColorMapper(id='f077446f-1dc3-467c-97d5-a61086d7e9db', ...) is already in a doc",
     "output_type": "error",
     "traceback": [
      "\u001b[0;31m---------------------------------------------------------------------------\u001b[0m",
      "\u001b[0;31mRuntimeError\u001b[0m                              Traceback (most recent call last)",
      "File \u001b[0;32m~/repo/Pho Secondary Workspace/Spike3DEnv/Spike3DWorkEnv/Spike3D/.venv/lib/python3.9/site-packages/IPython/core/formatters.py:974\u001b[0m, in \u001b[0;36mMimeBundleFormatter.__call__\u001b[0;34m(self, obj, include, exclude)\u001b[0m\n\u001b[1;32m    971\u001b[0m     method \u001b[38;5;241m=\u001b[39m get_real_method(obj, \u001b[38;5;28mself\u001b[39m\u001b[38;5;241m.\u001b[39mprint_method)\n\u001b[1;32m    973\u001b[0m     \u001b[38;5;28;01mif\u001b[39;00m method \u001b[38;5;129;01mis\u001b[39;00m \u001b[38;5;129;01mnot\u001b[39;00m \u001b[38;5;28;01mNone\u001b[39;00m:\n\u001b[0;32m--> 974\u001b[0m         \u001b[38;5;28;01mreturn\u001b[39;00m \u001b[43mmethod\u001b[49m\u001b[43m(\u001b[49m\u001b[43minclude\u001b[49m\u001b[38;5;241;43m=\u001b[39;49m\u001b[43minclude\u001b[49m\u001b[43m,\u001b[49m\u001b[43m \u001b[49m\u001b[43mexclude\u001b[49m\u001b[38;5;241;43m=\u001b[39;49m\u001b[43mexclude\u001b[49m\u001b[43m)\u001b[49m\n\u001b[1;32m    975\u001b[0m     \u001b[38;5;28;01mreturn\u001b[39;00m \u001b[38;5;28;01mNone\u001b[39;00m\n\u001b[1;32m    976\u001b[0m \u001b[38;5;28;01melse\u001b[39;00m:\n",
      "File \u001b[0;32m~/repo/Pho Secondary Workspace/Spike3DEnv/Spike3DWorkEnv/Spike3D/.venv/lib/python3.9/site-packages/panel/viewable.py:771\u001b[0m, in \u001b[0;36mViewable._repr_mimebundle_\u001b[0;34m(self, include, exclude)\u001b[0m\n\u001b[1;32m    768\u001b[0m     loaded \u001b[38;5;241m=\u001b[39m hv\u001b[38;5;241m.\u001b[39mextension\u001b[38;5;241m.\u001b[39m_loaded\n\u001b[1;32m    770\u001b[0m \u001b[38;5;28;01mif\u001b[39;00m config\u001b[38;5;241m.\u001b[39mcomms \u001b[38;5;129;01min\u001b[39;00m (\u001b[38;5;124m'\u001b[39m\u001b[38;5;124mvscode\u001b[39m\u001b[38;5;124m'\u001b[39m, \u001b[38;5;124m'\u001b[39m\u001b[38;5;124mipywidgets\u001b[39m\u001b[38;5;124m'\u001b[39m):\n\u001b[0;32m--> 771\u001b[0m     widget \u001b[38;5;241m=\u001b[39m \u001b[43mipywidget\u001b[49m\u001b[43m(\u001b[49m\u001b[38;5;28;43mself\u001b[39;49m\u001b[43m)\u001b[49m\n\u001b[1;32m    772\u001b[0m     \u001b[38;5;28;01mif\u001b[39;00m \u001b[38;5;28mhasattr\u001b[39m(widget, \u001b[38;5;124m'\u001b[39m\u001b[38;5;124m_repr_mimebundle_\u001b[39m\u001b[38;5;124m'\u001b[39m):\n\u001b[1;32m    773\u001b[0m         \u001b[38;5;28;01mreturn\u001b[39;00m widget\u001b[38;5;241m.\u001b[39m_repr_mimebundle_(include\u001b[38;5;241m=\u001b[39minclude, exclude\u001b[38;5;241m=\u001b[39mexclude), {}\n",
      "File \u001b[0;32m~/repo/Pho Secondary Workspace/Spike3DEnv/Spike3DWorkEnv/Spike3D/.venv/lib/python3.9/site-packages/panel/io/notebook.py:516\u001b[0m, in \u001b[0;36mipywidget\u001b[0;34m(obj, doc, **kwargs)\u001b[0m\n\u001b[1;32m    514\u001b[0m doc \u001b[38;5;241m=\u001b[39m doc \u001b[38;5;28;01mif\u001b[39;00m doc \u001b[38;5;28;01melse\u001b[39;00m Document()\n\u001b[1;32m    515\u001b[0m model \u001b[38;5;241m=\u001b[39m panel(obj, \u001b[38;5;241m*\u001b[39m\u001b[38;5;241m*\u001b[39mkwargs)\u001b[38;5;241m.\u001b[39mget_root(doc\u001b[38;5;241m=\u001b[39mdoc)\n\u001b[0;32m--> 516\u001b[0m widget \u001b[38;5;241m=\u001b[39m \u001b[43mBokehModel\u001b[49m\u001b[43m(\u001b[49m\u001b[43mmodel\u001b[49m\u001b[43m,\u001b[49m\u001b[43m \u001b[49m\u001b[43mcombine_events\u001b[49m\u001b[38;5;241;43m=\u001b[39;49m\u001b[38;5;28;43;01mTrue\u001b[39;49;00m\u001b[43m)\u001b[49m\n\u001b[1;32m    517\u001b[0m \u001b[38;5;28;01mif\u001b[39;00m \u001b[38;5;28mhasattr\u001b[39m(widget, \u001b[38;5;124m'\u001b[39m\u001b[38;5;124m_view_count\u001b[39m\u001b[38;5;124m'\u001b[39m):\n\u001b[1;32m    518\u001b[0m     widget\u001b[38;5;241m.\u001b[39m_view_count \u001b[38;5;241m=\u001b[39m \u001b[38;5;241m0\u001b[39m\n",
      "File \u001b[0;32m~/repo/Pho Secondary Workspace/Spike3DEnv/Spike3DWorkEnv/Spike3D/.venv/lib/python3.9/site-packages/jupyter_bokeh/widgets.py:85\u001b[0m, in \u001b[0;36mBokehModel.__init__\u001b[0;34m(self, model, **kwargs)\u001b[0m\n\u001b[1;32m     83\u001b[0m \u001b[38;5;28;01mdef\u001b[39;00m \u001b[38;5;21m__init__\u001b[39m(\u001b[38;5;28mself\u001b[39m, model: LayoutDOM, \u001b[38;5;241m*\u001b[39m\u001b[38;5;241m*\u001b[39mkwargs: Any) \u001b[38;5;241m-\u001b[39m\u001b[38;5;241m>\u001b[39m \u001b[38;5;28;01mNone\u001b[39;00m:\n\u001b[1;32m     84\u001b[0m     \u001b[38;5;28;01massert\u001b[39;00m \u001b[38;5;28misinstance\u001b[39m(model, LayoutDOM)\n\u001b[0;32m---> 85\u001b[0m     \u001b[38;5;28;43mself\u001b[39;49m\u001b[38;5;241;43m.\u001b[39;49m\u001b[43mupdate_from_model\u001b[49m\u001b[43m(\u001b[49m\u001b[43mmodel\u001b[49m\u001b[43m)\u001b[49m\n\u001b[1;32m     86\u001b[0m     \u001b[38;5;28msuper\u001b[39m(BokehModel, \u001b[38;5;28mself\u001b[39m)\u001b[38;5;241m.\u001b[39m\u001b[38;5;21m__init__\u001b[39m(\u001b[38;5;241m*\u001b[39m\u001b[38;5;241m*\u001b[39mkwargs)\n\u001b[1;32m     87\u001b[0m     \u001b[38;5;28mself\u001b[39m\u001b[38;5;241m.\u001b[39mon_msg(\u001b[38;5;28mself\u001b[39m\u001b[38;5;241m.\u001b[39m_sync_model)\n",
      "File \u001b[0;32m~/repo/Pho Secondary Workspace/Spike3DEnv/Spike3DWorkEnv/Spike3D/.venv/lib/python3.9/site-packages/jupyter_bokeh/widgets.py:109\u001b[0m, in \u001b[0;36mBokehModel.update_from_model\u001b[0;34m(self, model)\u001b[0m\n\u001b[1;32m    107\u001b[0m \u001b[38;5;28;01mdef\u001b[39;00m \u001b[38;5;21mupdate_from_model\u001b[39m(\u001b[38;5;28mself\u001b[39m, model: Model) \u001b[38;5;241m-\u001b[39m\u001b[38;5;241m>\u001b[39m \u001b[38;5;28;01mNone\u001b[39;00m:\n\u001b[1;32m    108\u001b[0m     \u001b[38;5;28mself\u001b[39m\u001b[38;5;241m.\u001b[39m_model \u001b[38;5;241m=\u001b[39m model\n\u001b[0;32m--> 109\u001b[0m     \u001b[38;5;28mself\u001b[39m\u001b[38;5;241m.\u001b[39mrender_bundle \u001b[38;5;241m=\u001b[39m \u001b[38;5;28;43mself\u001b[39;49m\u001b[38;5;241;43m.\u001b[39;49m\u001b[43m_model_to_traits\u001b[49m\u001b[43m(\u001b[49m\u001b[43mmodel\u001b[49m\u001b[43m)\u001b[49m\n\u001b[1;32m    110\u001b[0m     \u001b[38;5;28mself\u001b[39m\u001b[38;5;241m.\u001b[39m_document\u001b[38;5;241m.\u001b[39mon_change_dispatch_to(\u001b[38;5;28mself\u001b[39m)\n",
      "File \u001b[0;32m~/repo/Pho Secondary Workspace/Spike3DEnv/Spike3DWorkEnv/Spike3D/.venv/lib/python3.9/site-packages/jupyter_bokeh/widgets.py:98\u001b[0m, in \u001b[0;36mBokehModel._model_to_traits\u001b[0;34m(cls, model)\u001b[0m\n\u001b[1;32m     96\u001b[0m \u001b[38;5;28;01mif\u001b[39;00m model\u001b[38;5;241m.\u001b[39mdocument \u001b[38;5;129;01mis\u001b[39;00m \u001b[38;5;28;01mNone\u001b[39;00m:\n\u001b[1;32m     97\u001b[0m     document \u001b[38;5;241m=\u001b[39m Document()\n\u001b[0;32m---> 98\u001b[0m     \u001b[43mdocument\u001b[49m\u001b[38;5;241;43m.\u001b[39;49m\u001b[43madd_root\u001b[49m\u001b[43m(\u001b[49m\u001b[43mmodel\u001b[49m\u001b[43m)\u001b[49m\n\u001b[1;32m     99\u001b[0m (docs_json, [render_item]) \u001b[38;5;241m=\u001b[39m standalone_docs_json_and_render_items([model], suppress_callback_warning\u001b[38;5;241m=\u001b[39m\u001b[38;5;28;01mTrue\u001b[39;00m)\n\u001b[1;32m    100\u001b[0m render_bundle \u001b[38;5;241m=\u001b[39m RenderBundle(\n\u001b[1;32m    101\u001b[0m     docs_json\u001b[38;5;241m=\u001b[39mdocs_json,\n\u001b[1;32m    102\u001b[0m     render_items\u001b[38;5;241m=\u001b[39m[render_item\u001b[38;5;241m.\u001b[39mto_json()],\n\u001b[1;32m    103\u001b[0m     div\u001b[38;5;241m=\u001b[39mdiv_for_render_item(render_item),\n\u001b[1;32m    104\u001b[0m )\n",
      "File \u001b[0;32m~/repo/Pho Secondary Workspace/Spike3DEnv/Spike3DWorkEnv/Spike3D/.venv/lib/python3.9/site-packages/bokeh/document/document.py:322\u001b[0m, in \u001b[0;36mDocument.add_root\u001b[0;34m(self, model, setter)\u001b[0m\n\u001b[1;32m    319\u001b[0m     \u001b[38;5;28;01mreturn\u001b[39;00m\n\u001b[1;32m    321\u001b[0m \u001b[38;5;28;01mwith\u001b[39;00m \u001b[38;5;28mself\u001b[39m\u001b[38;5;241m.\u001b[39mmodels\u001b[38;5;241m.\u001b[39mfreeze():\n\u001b[0;32m--> 322\u001b[0m     \u001b[38;5;28mself\u001b[39m\u001b[38;5;241m.\u001b[39m_roots\u001b[38;5;241m.\u001b[39mappend(model)\n\u001b[1;32m    324\u001b[0m \u001b[38;5;28mself\u001b[39m\u001b[38;5;241m.\u001b[39mcallbacks\u001b[38;5;241m.\u001b[39mtrigger_on_change(RootAddedEvent(\u001b[38;5;28mself\u001b[39m, model, setter))\n",
      "File \u001b[0;32m~/.pyenv/versions/3.9.13/lib/python3.9/contextlib.py:126\u001b[0m, in \u001b[0;36m_GeneratorContextManager.__exit__\u001b[0;34m(self, typ, value, traceback)\u001b[0m\n\u001b[1;32m    124\u001b[0m \u001b[38;5;28;01mif\u001b[39;00m typ \u001b[38;5;129;01mis\u001b[39;00m \u001b[38;5;28;01mNone\u001b[39;00m:\n\u001b[1;32m    125\u001b[0m     \u001b[38;5;28;01mtry\u001b[39;00m:\n\u001b[0;32m--> 126\u001b[0m         \u001b[38;5;28;43mnext\u001b[39;49m\u001b[43m(\u001b[49m\u001b[38;5;28;43mself\u001b[39;49m\u001b[38;5;241;43m.\u001b[39;49m\u001b[43mgen\u001b[49m\u001b[43m)\u001b[49m\n\u001b[1;32m    127\u001b[0m     \u001b[38;5;28;01mexcept\u001b[39;00m \u001b[38;5;167;01mStopIteration\u001b[39;00m:\n\u001b[1;32m    128\u001b[0m         \u001b[38;5;28;01mreturn\u001b[39;00m \u001b[38;5;28;01mFalse\u001b[39;00m\n",
      "File \u001b[0;32m~/repo/Pho Secondary Workspace/Spike3DEnv/Spike3DWorkEnv/Spike3D/.venv/lib/python3.9/site-packages/bokeh/document/models.py:135\u001b[0m, in \u001b[0;36mDocumentModelManager.freeze\u001b[0;34m(self)\u001b[0m\n\u001b[1;32m    133\u001b[0m \u001b[38;5;28mself\u001b[39m\u001b[38;5;241m.\u001b[39m_push_freeze()\n\u001b[1;32m    134\u001b[0m \u001b[38;5;28;01myield\u001b[39;00m\n\u001b[0;32m--> 135\u001b[0m \u001b[38;5;28;43mself\u001b[39;49m\u001b[38;5;241;43m.\u001b[39;49m\u001b[43m_pop_freeze\u001b[49m\u001b[43m(\u001b[49m\u001b[43m)\u001b[49m\n",
      "File \u001b[0;32m~/repo/Pho Secondary Workspace/Spike3DEnv/Spike3DWorkEnv/Spike3D/.venv/lib/python3.9/site-packages/bokeh/document/models.py:288\u001b[0m, in \u001b[0;36mDocumentModelManager._pop_freeze\u001b[0;34m(self)\u001b[0m\n\u001b[1;32m    286\u001b[0m \u001b[38;5;28mself\u001b[39m\u001b[38;5;241m.\u001b[39m_freeze_count \u001b[38;5;241m-\u001b[39m\u001b[38;5;241m=\u001b[39m \u001b[38;5;241m1\u001b[39m\n\u001b[1;32m    287\u001b[0m \u001b[38;5;28;01mif\u001b[39;00m \u001b[38;5;28mself\u001b[39m\u001b[38;5;241m.\u001b[39m_freeze_count \u001b[38;5;241m==\u001b[39m \u001b[38;5;241m0\u001b[39m:\n\u001b[0;32m--> 288\u001b[0m     \u001b[38;5;28;43mself\u001b[39;49m\u001b[38;5;241;43m.\u001b[39;49m\u001b[43mrecompute\u001b[49m\u001b[43m(\u001b[49m\u001b[43m)\u001b[49m\n",
      "File \u001b[0;32m~/repo/Pho Secondary Workspace/Spike3DEnv/Spike3DWorkEnv/Spike3D/.venv/lib/python3.9/site-packages/bokeh/document/models.py:235\u001b[0m, in \u001b[0;36mDocumentModelManager.recompute\u001b[0;34m(self)\u001b[0m\n\u001b[1;32m    232\u001b[0m     md\u001b[38;5;241m.\u001b[39m_detach_document()\n\u001b[1;32m    234\u001b[0m \u001b[38;5;28;01mfor\u001b[39;00m ma \u001b[38;5;129;01min\u001b[39;00m to_attach:\n\u001b[0;32m--> 235\u001b[0m     \u001b[43mma\u001b[49m\u001b[38;5;241;43m.\u001b[39;49m\u001b[43m_attach_document\u001b[49m\u001b[43m(\u001b[49m\u001b[43mdocument\u001b[49m\u001b[43m)\u001b[49m\n\u001b[1;32m    236\u001b[0m     \u001b[38;5;28mself\u001b[39m\u001b[38;5;241m.\u001b[39m_new_models\u001b[38;5;241m.\u001b[39madd(ma)\n\u001b[1;32m    238\u001b[0m \u001b[38;5;28mself\u001b[39m\u001b[38;5;241m.\u001b[39m_models \u001b[38;5;241m=\u001b[39m recomputed\n",
      "File \u001b[0;32m~/repo/Pho Secondary Workspace/Spike3DEnv/Spike3DWorkEnv/Spike3D/.venv/lib/python3.9/site-packages/bokeh/model/model.py:575\u001b[0m, in \u001b[0;36mModel._attach_document\u001b[0;34m(self, doc)\u001b[0m\n\u001b[1;32m    572\u001b[0m     \u001b[38;5;28;01mreturn\u001b[39;00m\n\u001b[1;32m    574\u001b[0m \u001b[38;5;28;01mif\u001b[39;00m \u001b[38;5;28mself\u001b[39m\u001b[38;5;241m.\u001b[39mdocument \u001b[38;5;129;01mis\u001b[39;00m \u001b[38;5;129;01mnot\u001b[39;00m \u001b[38;5;28;01mNone\u001b[39;00m:\n\u001b[0;32m--> 575\u001b[0m     \u001b[38;5;28;01mraise\u001b[39;00m \u001b[38;5;167;01mRuntimeError\u001b[39;00m(\u001b[38;5;124mf\u001b[39m\u001b[38;5;124m\"\u001b[39m\u001b[38;5;124mModels must be owned by only a single document, \u001b[39m\u001b[38;5;132;01m{\u001b[39;00m\u001b[38;5;28mself\u001b[39m\u001b[38;5;132;01m!r}\u001b[39;00m\u001b[38;5;124m is already in a doc\u001b[39m\u001b[38;5;124m\"\u001b[39m)\n\u001b[1;32m    577\u001b[0m doc\u001b[38;5;241m.\u001b[39mtheme\u001b[38;5;241m.\u001b[39mapply_to_model(\u001b[38;5;28mself\u001b[39m)\n\u001b[1;32m    578\u001b[0m \u001b[38;5;28mself\u001b[39m\u001b[38;5;241m.\u001b[39mdocument \u001b[38;5;241m=\u001b[39m doc\n",
      "\u001b[0;31mRuntimeError\u001b[0m: Models must be owned by only a single document, LinearColorMapper(id='f077446f-1dc3-467c-97d5-a61086d7e9db', ...) is already in a doc"
     ]
    },
    {
     "data": {
      "text/plain": [
       "Column(design=<class 'panel.theme.materi..., min_height=600, sizing_mode='stretch_width')\n",
       "    [0] Markdown(str, design=<class 'panel.theme.materi..., sizing_mode='stretch_width')\n",
       "    [1] Row(design=<class 'panel.theme.materi..., sizing_mode='stretch_width')\n",
       "        [0] VTKRenderWindowSynchronized(vtkCocoaRenderWindow, camera={'position': [567000.92321...}, color_mappers=[LinearColorMapper(id='f07...], design=<class 'panel.theme.materi..., enable_keybindings=True, margin=0, min_height=600, orientation_widget=True, sizing_mode='stretch_both')\n",
       "        [1] Column(design=<class 'panel.theme.materi..., sizing_mode='stretch_width')\n",
       "            [0] Select(design=<class 'panel.theme.materi..., margin=0, name='Actor Selection', options={'None': 'None', ...}, sizing_mode='stretch_width', value='None')\n",
       "            [1] Tabs(design=<class 'panel.theme.materi..., sizing_mode='stretch_width')\n",
       "                [0] Column(design=<class 'panel.theme.materi..., sizing_mode='stretch_width')\n",
       "                    [0] WidgetBox(design=<class 'panel.theme.materi..., sizing_mode='stretch_width')\n",
       "                        [0] CheckBoxGroup(design=<class 'panel.theme.materi..., options=['Orientation Widget', ...], sizing_mode='stretch_width', value=['Orientation Widget', ...])\n",
       "                        [1] Button(design=<class 'panel.theme.materi..., name='Reset Camera', sizing_mode='stretch_width')\n",
       "                        [2] ColorPicker(design=<class 'panel.theme.materi..., name='Background Color', sizing_mode='stretch_width', value='#4c4c4c')\n",
       "                    [1] WidgetBox(design=<class 'panel.theme.materi..., sizing_mode='stretch_width')\n",
       "                        [0] StaticText(design=<class 'panel.theme.materi..., sizing_mode='stretch_width', value='Light properties')\n",
       "                        [1] Select(design=<class 'panel.theme.materi..., options=['HeadLight', ...], sizing_mode='stretch_width', value='HeadLight')\n",
       "                        [2] FloatSlider(design=<class 'panel.theme.materi..., name='Intensity', sizing_mode='stretch_width', value=1)\n",
       "                [1] WidgetBox(design=<class 'panel.theme.materi..., sizing_mode='stretch_width')\n",
       "                    [0] FloatSlider(design=<class 'panel.theme.materi..., disabled=True, name='Opacity', sizing_mode='stretch_width', value=1)\n",
       "                    [1] Toggle(design=<class 'panel.theme.materi..., disabled=True, name='Lighting', sizing_mode='stretch_width', value=True)\n",
       "                    [2] Select(design=<class 'panel.theme.materi..., disabled=True, name='Interpolation', options=['Flat', 'Phong'], sizing_mode='stretch_width', value='Phong')\n",
       "                    [3] Toggle(design=<class 'panel.theme.materi..., disabled=True, name='Show Edges', sizing_mode='stretch_width')\n",
       "                    [4] ColorPicker(design=<class 'panel.theme.materi..., disabled=True, name='Edges Color', sizing_mode='stretch_width', value='#ffffff')\n",
       "                    [5] Select(design=<class 'panel.theme.materi..., disabled=True, name='Representation', options=['Points', 'Wireframe', ...], sizing_mode='stretch_width', value='Surface')\n",
       "                    [6] Toggle(design=<class 'panel.theme.materi..., disabled=True, name='Frontface Culling', sizing_mode='stretch_width')\n",
       "                    [7] Toggle(design=<class 'panel.theme.materi..., disabled=True, name='Backface Culling', sizing_mode='stretch_width')\n",
       "                    [8] FloatSlider(design=<class 'panel.theme.materi..., disabled=True, name='Ambient', sizing_mode='stretch_width', start=-1)\n",
       "                    [9] FloatSlider(design=<class 'panel.theme.materi..., disabled=True, end=2, name='Diffuse', sizing_mode='stretch_width', value=1)\n",
       "                    [10] FloatSlider(design=<class 'panel.theme.materi..., disabled=True, end=10, name='Specular', sizing_mode='stretch_width')\n",
       "                    [11] FloatSlider(design=<class 'panel.theme.materi..., disabled=True, end=100, name='Specular Power', sizing_mode='stretch_width', value=100)"
      ]
     },
     "execution_count": 6,
     "metadata": {},
     "output_type": "execute_result"
    }
   ],
   "source": [
    "#Linking\n",
    "light_type.jslink(vtkpan, code={'value':\"\"\"\n",
    "const light = target.renderer_el.getRenderer().getLights()[0]\n",
    "if (source.value == 'HeadLight')\n",
    "    light.setLightTypeToHeadLight()\n",
    "else if (source.value == 'CameraLight')\n",
    "    light.setLightTypeToCameraLight()\n",
    "else if (source.value == 'SceneLight')\n",
    "    light.setLightTypeToSceneLight()\n",
    "target.renderer_el.getRenderWindow().render()\n",
    "\"\"\"})\n",
    "\n",
    "light_intensity.jslink(vtkpan, code={'value':\"\"\"\n",
    "const light = target.renderer_el.getRenderer().getLights()[0]\n",
    "light.setIntensity(source.value)\n",
    "target.renderer_el.getRenderWindow().render()\n",
    "\"\"\"})\n",
    "\n",
    "\n",
    "bind_and_orient.jslink(vtkpan, code = {'active':\"\"\"\n",
    "target.orientation_widget = source.active.includes(0)\n",
    "target.enable_keybindings = source.active.includes(1)\n",
    "\"\"\"})\n",
    "\n",
    "reset_camera.js_on_click(args={'target': vtkpan, 'initial_camera':initial_camera_pos},\n",
    "                         code=\"target.camera = initial_camera\");\n",
    "\n",
    "background_color.jslink(vtkpan, code={'value':\"\"\"\n",
    "const hextoarr = (color) => {return [parseInt(color.slice(1,3),16)/255, parseInt(color.slice(3,5),16)/255, parseInt(color.slice(5,7),16)/255]}\n",
    "target.renderer_el.getRenderer().setBackground(hextoarr(source.color))\n",
    "target.renderer_el.getRenderWindow().render()\n",
    "\"\"\"});\n",
    "\n",
    "opacity.jscallback(args={\"target\":vtkpan, \"actor_selection\":actor_selection}, value=\"\"\"\n",
    "if (actor_selection.value!=\"None\"){\n",
    "    const actor = target.getActors(actor_selection.value)[0]\n",
    "    actor.getProperty().setOpacity(source.value)\n",
    "    target.renderer_el.getRenderWindow().render()\n",
    "}\n",
    "\"\"\")\n",
    "\n",
    "lighting.jscallback(args={\"target\":vtkpan, \"actor_selection\":actor_selection}, value=\"\"\"\n",
    "if (actor_selection.value!=\"None\"){\n",
    "    const actor = target.getActors(actor_selection.value)[0]\n",
    "    actor.getProperty().setLighting(source.active)\n",
    "    target.renderer_el.getRenderWindow().render()\n",
    "}\n",
    "\"\"\")\n",
    "\n",
    "edges.jscallback(args={\"target\":vtkpan, \"actor_selection\":actor_selection}, value=\"\"\"\n",
    "if (actor_selection.value!=\"None\"){\n",
    "    const actor = target.getActors(actor_selection.value)[0]\n",
    "    actor.getProperty().setEdgeVisibility(source.active)\n",
    "    target.renderer_el.getRenderWindow().render()\n",
    "}\n",
    "\"\"\")\n",
    "\n",
    "interpolation.jscallback(args={\"target\":vtkpan, \"actor_selection\":actor_selection}, value=\"\"\"\n",
    "if (actor_selection.value!=\"None\"){\n",
    "    const actor = target.getActors(actor_selection.value)[0]\n",
    "    if(source.value==\"Flat\"){\n",
    "        actor.getProperty().setInterpolationToFlat()\n",
    "    }else{\n",
    "        actor.getProperty().setInterpolationToPhong()\n",
    "    }\n",
    "    target.renderer_el.getRenderWindow().render()\n",
    "}\n",
    "\"\"\")\n",
    "\n",
    "edges_color.jscallback(args={\"target\":vtkpan, \"actor_selection\":actor_selection}, value=\"\"\"\n",
    "if (actor_selection.value!=\"None\"){\n",
    "    const hextoarr = (color) => {return [parseInt(color.slice(1,3),16)/255, parseInt(color.slice(3,5),16)/255, parseInt(color.slice(5,7),16)/255]}\n",
    "    const actor = target.getActors(actor_selection.value)[0]\n",
    "    actor.getProperty().setEdgeColor(hextoarr(source.color))\n",
    "    target.renderer_el.getRenderWindow().render()\n",
    "}\n",
    "\"\"\")\n",
    "\n",
    "representation.jscallback(args={\"target\":vtkpan, \"actor_selection\":actor_selection}, value=\"\"\"\n",
    "if (actor_selection.value!=\"None\"){\n",
    "    const actor = target.getActors(actor_selection.value)[0]\n",
    "    if(source.value==\"Points\"){\n",
    "        actor.getProperty().setRepresentationToPoints()\n",
    "    }else if(source.value==\"Wireframe\"){\n",
    "        actor.getProperty().setRepresentationToWireframe()\n",
    "    }else if(source.value==\"Surface\"){\n",
    "        actor.getProperty().setRepresentationToSurface()\n",
    "    }\n",
    "    target.renderer_el.getRenderWindow().render()\n",
    "}\n",
    "\"\"\")\n",
    "\n",
    "frontface_culling.jscallback(args={\"target\":vtkpan, \"actor_selection\":actor_selection}, value=\"\"\"\n",
    "if (actor_selection.value!=\"None\"){\n",
    "    const actor = target.getActors(actor_selection.value)[0]\n",
    "    actor.getProperty().setFrontfaceCulling(source.active)\n",
    "    target.renderer_el.getRenderWindow().render()\n",
    "}\n",
    "\"\"\")\n",
    "\n",
    "backface_culling.jscallback(args={\"target\":vtkpan, \"actor_selection\":actor_selection}, value=\"\"\"\n",
    "if (actor_selection.value!=\"None\"){\n",
    "    const actor = target.getActors(actor_selection.value)[0]\n",
    "    actor.getProperty().setBackfaceCulling(source.active)\n",
    "    target.renderer_el.getRenderWindow().render()\n",
    "}\n",
    "\"\"\")\n",
    "\n",
    "ambient.jscallback(args={\"target\":vtkpan, \"actor_selection\":actor_selection}, value=\"\"\"\n",
    "if (actor_selection.value!=\"None\"){\n",
    "    const actor = target.getActors(actor_selection.value)[0]\n",
    "    actor.getProperty().setAmbient(source.value)\n",
    "    target.renderer_el.getRenderWindow().render()\n",
    "}\n",
    "\"\"\")\n",
    "\n",
    "diffuse.jscallback(args={\"target\":vtkpan, \"actor_selection\":actor_selection}, value=\"\"\"\n",
    "if (actor_selection.value!=\"None\"){\n",
    "    const actor = target.getActors(actor_selection.value)[0]\n",
    "    actor.getProperty().setDiffuse(source.value)\n",
    "    target.renderer_el.getRenderWindow().render()\n",
    "}\n",
    "\"\"\")\n",
    "\n",
    "specular.jscallback(args={\"target\":vtkpan, \"actor_selection\":actor_selection}, value=\"\"\"\n",
    "if (actor_selection.value!=\"None\"){\n",
    "    const actor = target.getActors(actor_selection.value)[0]\n",
    "    actor.getProperty().setSpecular(source.value)\n",
    "    target.renderer_el.getRenderWindow().render()\n",
    "}\n",
    "\"\"\")\n",
    "\n",
    "specular_power.jscallback(args={\"target\":vtkpan, \"actor_selection\":actor_selection}, value=\"\"\"\n",
    "if (actor_selection.value!=\"None\"){\n",
    "    const actor = target.getActors(actor_selection.value)[0]\n",
    "    actor.getProperty().setSpecularPower(source.value)\n",
    "    target.renderer_el.getRenderWindow().render()\n",
    "}\n",
    "\"\"\")\n",
    "\n",
    "actor_selection.jslink(target=vtkpan, code = {'value' : \"\"\"\n",
    "if (source.value!=\"None\"){\n",
    "    const actor = target.getActors(source.value)[0]\n",
    "    target.outline.setInputData(actor.getMapper().getInputData())\n",
    "    target.renderer_el.getRenderer().addActor(target.outline_actor)\n",
    "    \n",
    "    //synchronize actor props and widgets values\n",
    "    const properties = actor.getProperty()\n",
    "    opacity.setv({value: properties.getOpacity()}, {silent: true})\n",
    "    lighting.setv({active: !!properties.getLighting()}, {silent: true})\n",
    "    edges.active = !!properties.getEdgeVisibility()\n",
    "    const actor_color = \"#\" + properties.getEdgeColor().map((c) => (\"0\" + Math.round(255*c).toString(16,2)).slice(-2)).join('')\n",
    "    edges_color.setv({color: actor_color}, {silent: true})\n",
    "    const interp_string = properties.getInterpolationAsString()\n",
    "    interpolation.setv({value: interp_string[0] + interp_string.slice(1).toLocaleLowerCase()}, {silent: true})\n",
    "    const repr_string = properties.getRepresentationAsString()\n",
    "    representation.setv({value: repr_string[0] + repr_string.slice(1).toLocaleLowerCase()}, {silent: true})\n",
    "    frontface_culling.setv({active: !!properties.getFrontfaceCulling()}, {silent: true})\n",
    "    backface_culling.setv({active: !!properties.getBackfaceCulling()}, {silent: true})\n",
    "    ambient.setv({value: properties.getAmbient()}, {silent: true})\n",
    "    diffuse.setv({value: properties.getDiffuse()}, {silent: true})\n",
    "    specular.setv({value: properties.getSpecular()}, {silent: true})\n",
    "    specular_power.setv({value: properties.getSpecularPower()}, {silent: true})\n",
    "    //enable widgets modifications\n",
    "    opacity.disabled = false\n",
    "    lighting.disabled = false\n",
    "    interpolation.disabled = false\n",
    "    edges.disabled = false\n",
    "    edges_color.disabled = false\n",
    "    representation.disabled = false\n",
    "    frontface_culling.disabled = false\n",
    "    backface_culling.disabled = false\n",
    "    ambient.disabled = false\n",
    "    diffuse.disabled = false\n",
    "    specular.disabled = false\n",
    "    specular_power.disabled = false\n",
    "} else {\n",
    "    target.renderer_el.getRenderer().removeActor(target.outline_actor)\n",
    "    opacity.disabled = true\n",
    "    lighting.disabled = true\n",
    "    interpolation.disabled = true\n",
    "    edges.disabled = true\n",
    "    edges_color.disabled = true\n",
    "    representation.disabled = true\n",
    "    frontface_culling.disabled = true\n",
    "    backface_culling.disabled = true\n",
    "    ambient.disabled = true\n",
    "    diffuse.disabled = true\n",
    "    specular.disabled = true\n",
    "    specular_power.disabled = true\n",
    "}\n",
    "target.renderer_el.getRenderWindow().render()\n",
    "\n",
    "\"\"\"}, args={\"opacity\":opacity, \"lighting\":lighting, \"interpolation\": interpolation, \"edges\": edges, \"edges_color\": edges_color,\n",
    "            \"representation\": representation, \"frontface_culling\": frontface_culling, \"backface_culling\": backface_culling,\n",
    "            \"ambient\": ambient, \"diffuse\": diffuse, \"specular\": specular, \"specular_power\": specular_power});\n",
    "\n",
    "pn.Column(\n",
    "    \"This example demonstrates the use of **VTK and pyvista** to display a *scene*\",\n",
    "    pn.Row(\n",
    "        vtkpan.servable(title='VTK - Mt. St Helens'),\n",
    "        pn.Column(\n",
    "            actor_selection,\n",
    "            pn.Tabs(\n",
    "                ('Scene controller', pn.Column(scene_props, light_props)),\n",
    "                ('Actor properties',actor_props)\n",
    "            )\n",
    "        ).servable(target='sidebar')\n",
    "    ), min_height=600\n",
    ")"
   ]
  },
  {
   "cell_type": "code",
   "execution_count": null,
   "metadata": {},
   "outputs": [],
   "source": []
  }
 ],
 "metadata": {
  "kernelspec": {
   "display_name": ".venv",
   "language": "python",
   "name": "python3"
  },
  "language_info": {
   "codemirror_mode": {
    "name": "ipython",
    "version": 3
   },
   "file_extension": ".py",
   "mimetype": "text/x-python",
   "name": "python",
   "nbconvert_exporter": "python",
   "pygments_lexer": "ipython3",
   "version": "3.9.13"
  }
 },
 "nbformat": 4,
 "nbformat_minor": 2
}
