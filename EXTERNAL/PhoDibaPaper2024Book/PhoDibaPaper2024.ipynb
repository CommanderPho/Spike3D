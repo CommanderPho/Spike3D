{
 "cells": [
  {
   "cell_type": "code",
   "execution_count": null,
   "metadata": {
    "notebookRunGroups": {
     "groupValue": "1"
    },
    "tags": [
     "remove-input",
     "run_main"
    ]
   },
   "outputs": [],
   "source": [
    "%config IPCompleter.use_jedi = False\n",
    "%pdb off\n",
    "%load_ext autoreload\n",
    "%autoreload 3\n",
    "\n",
    "# required to enable non-blocking interaction:\n",
    "%gui qt5\n",
    "\n",
    "import sys\n",
    "from copy import deepcopy\n",
    "from typing import Dict, List, Tuple, Optional, Callable, Union, Any\n",
    "from typing_extensions import TypeAlias\n",
    "from neuropy.utils.result_context import IdentifyingContext\n",
    "from nptyping import NDArray\n",
    "import neuropy.utils.type_aliases as types\n",
    "from collections import defaultdict\n",
    "from functools import partial\n",
    "\n",
    "import numpy as np\n",
    "import pandas as pd\n",
    "import re\n",
    "from pathlib import Path\n",
    "from datetime import datetime\n",
    "\n",
    "from neuropy.utils.indexing_helpers import PandasHelpers, NeuroPyDataframeAccessor, UniqueValuesReturnType\n",
    "from neuropy.utils.result_context import IdentifyingContext\n",
    "\n",
    "from neuropy.core.user_annotations import UserAnnotationsManager\n",
    "from pyphocorehelpers.indexing_helpers import partition_df\n",
    "# Set the maximum number of columns to display\n",
    "pd.set_option('display.max_columns', 100)\n",
    "\n",
    "import IPython\n",
    "from pyphocorehelpers.programming_helpers import IPythonHelpers\n",
    "from pyphocorehelpers.notebook_helpers import NotebookCellExecutionLogger\n",
    "from pyphocorehelpers.assertion_helpers import Assert\n",
    "\n",
    "# Jupyter-lab enable printing for any line on its own (instead of just the last one in the cell)\n",
    "from IPython.core.interactiveshell import InteractiveShell\n",
    "InteractiveShell.ast_node_interactivity = \"all\"\n",
    "\n",
    "_notebook_path:Path = Path(IPythonHelpers.try_find_notebook_filepath(IPython.extract_module_locals())).resolve() # Finds the path of THIS notebook\n",
    "\n",
    "# Plotting\n",
    "# import pylustrator # customization of figures\n",
    "import matplotlib\n",
    "import matplotlib as mpl\n",
    "import matplotlib.pyplot as plt\n",
    "_bak_rcParams = mpl.rcParams.copy()\n",
    "\n",
    "matplotlib.use('Qt5Agg')\n",
    "\n",
    "# Switch to the desired interactivity mode\n",
    "plt.interactive(True)\n",
    "\n",
    "import seaborn as sns\n",
    "\n",
    "import plotly.express as px\n",
    "import plotly.graph_objects as go\n",
    "from plotly.subplots import make_subplots\n",
    "import plotly.io as pio\n",
    "template: str = 'plotly_dark' # set plotl template\n",
    "pio.templates.default = template\n",
    "from pyphocorehelpers.plotting.media_output_helpers import fig_to_clipboard\n",
    "from pyphocorehelpers.Filesystem.path_helpers import file_uri_from_path, sanitize_filename_for_Windows\n",
    "from pyphocorehelpers.gui.Jupyter.simple_widgets import fullwidth_path_widget, simple_path_display_widget\n",
    "from pyphoplacecellanalysis.Pho2D.plotly.Extensions.plotly_helpers import plotly_helper_save_figures, _helper_build_figure, plotly_pre_post_delta_scatter, plot_across_sessions_scatter_results\n",
    "from pyphocorehelpers.assertion_helpers import Assert\n",
    "\n",
    "# from ..PendingNotebookCode import plot_across_sessions_scatter_results, plot_histograms, plot_stacked_histograms\n",
    "from pyphocorehelpers.Filesystem.path_helpers import find_first_extant_path\n",
    "from pyphoplacecellanalysis.SpecificResults.AcrossSessionResults import find_csv_files, find_HDF5_files, find_most_recent_files\n",
    "from pyphoplacecellanalysis.Pho2D.statistics_plotting_helpers import plot_histograms_across_sessions, plot_histograms, plot_stacked_histograms\n",
    "\n",
    "from pyphoplacecellanalysis.General.Pipeline.Stages.ComputationFunctions.MultiContextComputationFunctions.DirectionalPlacefieldGlobalComputationFunctions import DecoderDecodedEpochsResult\n",
    "from pyphoplacecellanalysis.SpecificResults.AcrossSessionResults import load_across_sessions_exported_files, _process_and_load_exported_file, _common_cleanup_operations\n",
    "\n",
    "from pyphocorehelpers.programming_helpers import metadata_attributes\n",
    "from pyphocorehelpers.function_helpers import function_attributes\n",
    "\n",
    "from pyphoplacecellanalysis.SpecificResults.AcrossSessionResults import AcrossSessionHelpers, build_session_t_delta, _new_process_csv_files\n",
    "from pyphoplacecellanalysis.SpecificResults.PhoDiba2023Paper import DataFrameFilter\n",
    "from pyphocorehelpers.plotting.media_output_helpers import figure_to_pil_image, vertical_image_stack, horizontal_image_stack, image_grid\n",
    "from neuropy.utils.indexing_helpers import flatten, NumpyHelpers, PandasHelpers\n",
    "from pyphoplacecellanalysis.SpecificResults.PhoDiba2023Paper import DataFrameFilter, InitialSelectionModeEnum\n",
    "\n",
    "debug_print: bool = True\n",
    "enable_neptune: bool = False\n",
    "\n",
    "_TODAY_DAY_ONLY_DATE: str = \"2025-06-10\"\n",
    "TODAY_DAY_DATE: str = f\"{_TODAY_DAY_ONLY_DATE}_Apogee\"\n",
    "# TODAY_DAY_DATE: str = f\"{_TODAY_DAY_ONLY_DATE}_GL\"\n",
    "# TODAY_DAY_DATE: str = f\"{_TODAY_DAY_ONLY_DATE}_Lab\"\n",
    "# TODAY_DAY_DATE: str = f\"{_TODAY_DAY_ONLY_DATE}_rMBP\"\n",
    "\n",
    "print(f'TODAY_DAY_DATE: {TODAY_DAY_DATE}')\n",
    "\n",
    "types.session_str: TypeAlias = str # a unique session identifier\n",
    "\n",
    "if enable_neptune:\n",
    "    import neptune # for logging progress and results\n",
    "    from neptune.types import File\n",
    "    from pyphoplacecellanalysis.General.Batch.NeptuneAiHelpers import Neptuner, AutoValueConvertingNeptuneRun, set_environment_variables \n",
    "\n",
    "    ## Gets the notebook filepath for Neptune:\n",
    "    import IPython\n",
    "    from pyphocorehelpers.programming_helpers import IPythonHelpers\n",
    "    notebook_filepath: str = IPythonHelpers.try_find_notebook_filepath(IPython.extract_module_locals())\n",
    "    assert Path(notebook_filepath).resolve().exists(), f\"found notebook filepath: '{notebook_filepath}' does not exist\"\n",
    "    # notebook_filepath\n",
    "\n",
    "    neptune_kwargs = {'project':\"commander.pho/PhoDibaLongShortAcrossSessions\",\n",
    "    'api_token':\"eyJhcGlfYWRkcmVzcyI6Imh0dHBzOi8vYXBwLm5lcHR1bmUuYWkiLCJhcGlfdXJsIjoiaHR0cHM6Ly9hcHAubmVwdHVuZS5haSIsImFwaV9rZXkiOiIxOGIxODU2My1lZTNhLTQ2ZWMtOTkzNS02ZTRmNzM5YmNjNjIifQ==\"}\n",
    "            \n",
    "    neptuner = Neptuner(project_name=neptune_kwargs['project'], api_token=neptune_kwargs['api_token'])\n",
    "\n",
    "\n",
    "    if neptuner.run is None:\n",
    "        neptuner.run = AutoValueConvertingNeptuneRun(project=neptuner.project_name, api_token=neptuner.api_token, dependencies=\"infer\", source_files=[notebook_filepath])\n",
    "        params = {\"TODAY_DAY_DATE\": TODAY_DAY_DATE, \"run_workstation\": \"Apogee\"}\n",
    "        neptuner.run[\"parameters\"] = params\n",
    "        neptuner.outputs = neptuner.run['outputs']\n",
    "        neptuner.figures = neptuner.outputs['figures']\n",
    "\n",
    "    neptuner_run: AutoValueConvertingNeptuneRun = neptuner.run\n",
    "    \n",
    "    # run = neptune.init_run(source_files=[\"**/*.dvc\"])\n",
    "\n",
    "    # # Pre-execution dataframe view:\n",
    "    # run[\"dataset/global_batch_run_progress_df\"].upload(File.as_html(global_batch_run.to_dataframe(expand_context=True, good_only=False))) # \"path/to/test_preds.csv\"\n",
    "\n",
    "else:\n",
    "    # no neptune:\n",
    "    neptuner = None    \n",
    "    neptuner_run = None\n",
    "\n",
    "\n",
    "\n",
    "known_bad_sessions: List[IdentifyingContext] = UserAnnotationsManager.get_hardcoded_bad_sessions()\n",
    "# bad_session_df: pd.DataFrame = pd.DataFrame.from_records([v.to_dict() for v in known_bad_sessions], columns=['format_name', 'animal', 'exper_name', 'session_name'])\n",
    "# bad_session_df\n",
    "\n",
    "known_bad_session_strs = [str(v.get_description()) for v in known_bad_sessions]\n",
    "# known_bad_session_strs"
   ]
  },
  {
   "cell_type": "markdown",
   "metadata": {},
   "source": [
    "# Graphics Imports"
   ]
  },
  {
   "cell_type": "code",
   "execution_count": null,
   "metadata": {
    "tags": [
     "run_main"
    ]
   },
   "outputs": [],
   "source": [
    "import matplotlib\n",
    "from neuropy.core.user_annotations import UserAnnotationsManager\n",
    "from pyphocorehelpers.DataStructure.RenderPlots.MatplotLibRenderPlots import MatplotlibRenderPlots\n",
    "from neuropy.utils.matplotlib_helpers import matplotlib_configuration_update, matplotlib_configuration\n",
    "# matplotlib.use('Qt5Agg')\n",
    "from pyphoplacecellanalysis.SpecificResults.AcrossSessionResults import AcrossSessionsResults, AcrossSessionTables, AcrossSessionsVisualizations\n",
    "from pyphoplacecellanalysis.SpecificResults.PhoDiba2023Paper import PaperFigureTwo\n",
    "\n",
    "def _save_matplotlib_fig(matplotlib_output_container: MatplotlibRenderPlots):\n",
    "    \"\"\" captures: neptuner_run\n",
    "    \n",
    "    \"\"\"\n",
    "    a_fig_context = matplotlib_output_container.context\n",
    "    assert len(matplotlib_output_container.saved_figures) == 1\n",
    "    a_saved_fig_path = matplotlib_output_container.saved_figures[0][0]\n",
    "    assert a_saved_fig_path.exists()\n",
    "\n",
    "    if neptuner_run is not None:\n",
    "        a_full_figure_path_key: str = a_fig_context.get_description(separator='/', include_property_names=True, key_value_separator=':') # .replace(' ', '_')\n",
    "        # a_full_figure_path_key: str = a_fig_context.get_description(separator=':', include_property_names=True, key_value_separator='|')\n",
    "        print(f'a_full_figure_path_key: \"{a_full_figure_path_key}\"')\n",
    "        # neptuner_run['outputs']['figures'][f\"{a_full_figure_path_key}\"].upload(a_fig)\n",
    "        neptuner_run['outputs']['figures'][f\"{a_full_figure_path_key}\"].upload(a_saved_fig_path.as_posix())\n",
    "        # neptuner.figures[f\"{a_full_figure_path_key}\"].upload(a_fig)\n",
    "        \n",
    "\n",
    "# %matplotlib inline\n",
    "\n",
    "\n",
    "# with matplotlib_configuration_update(is_interactive=False, backend='nbAgg'):\n",
    "# 'collected_outputs/across_session_result_long_short_recomputed_inst_firing_rate_2024-06-11_GL.pkl'"
   ]
  },
  {
   "cell_type": "code",
   "execution_count": null,
   "metadata": {
    "tags": [
     "run_main"
    ]
   },
   "outputs": [],
   "source": [
    "import plotly.io as pio\n",
    "import plotly.graph_objects as go\n",
    "from pyphoplacecellanalysis.Pho2D.plotly.plotly_templates import PlotlyHelpers\n",
    "from pyphoplacecellanalysis.Pho2D.statistics_plotting_helpers import plot_histograms_across_sessions, plot_stacked_histograms\n",
    "from pyphoplacecellanalysis.Pho2D.plotly.Extensions.plotly_helpers import plotly_helper_save_figures, _helper_build_figure, plotly_pre_post_delta_scatter, plot_across_sessions_scatter_results, add_copy_save_action_buttons\n",
    "from pyphoplacecellanalysis.Pho2D.plotly.plotly_templates import PlotlyHelpers\n",
    "from pyphoplacecellanalysis.Pho2D.plotly.Extensions.plotly_helpers import PlotlyFigureContainer\n",
    "\n",
    "# fig_size_kwargs = {'width': 1650, 'height': 480}\n",
    "resolution_multiplier = 1\n",
    "# fig_size_kwargs = {'width': resolution_multiplier*1650, 'height': resolution_multiplier*480}\n",
    " ## set up figure size\n",
    "fig_size_kwargs = {'width': (resolution_multiplier * 1800), 'height': (resolution_multiplier*480)}\n",
    "# fig_size_kwargs = {'width': (resolution_multiplier * 1080), 'height': resolution_multiplier*480}\n",
    "is_dark_mode, template = PlotlyHelpers.get_plotly_template(is_dark_mode=False)\n",
    "pio.templates.default = template\n",
    "\n",
    "# figure_export_path = Path(r'E:\\Dropbox (Personal)\\Active\\Kamran Diba Lab\\Presentations\\2024-05-30 - Pho iNAV Poster\\Figures').resolve()\n",
    "# figure_export_path = Path('/Users/pho/Dropbox (Personal)/Active/Kamran Diba Lab/Presentations/2024-05-30 - Pho iNAV Poster/Figures').resolve()\n",
    "\n",
    "# assert figure_export_path.exists()\n",
    "\n",
    "from PIL import Image\n",
    "\n",
    "from pyphocorehelpers.programming_helpers import copy_image_to_clipboard\n",
    "\n",
    "def save_plotly(a_fig, a_fig_context):\n",
    "    \"\"\" \n",
    "    captures: TODAY_DAY_DATE, figures_folder, neptuner_run\n",
    "    \"\"\"\n",
    "    fig_save_path: Path = figures_folder.joinpath('_'.join([TODAY_DAY_DATE, sanitize_filename_for_Windows(a_fig_context.get_description())])).resolve()\n",
    "    figure_out_paths = {'.html': fig_save_path.with_suffix('.html'), '.png': fig_save_path.with_suffix('.png')}\n",
    "    a_fig.write_html(figure_out_paths['.html'])\n",
    "    display(fullwidth_path_widget(figure_out_paths['.html'], file_name_label='.html'))\n",
    "    # print(file_uri_from_path(figure_out_paths['.html']))\n",
    "    a_fig.write_image(figure_out_paths['.png'])\n",
    "    # print(file_uri_from_path(figure_out_paths['.png']))\n",
    "    display(fullwidth_path_widget(figure_out_paths['.png'], file_name_label='.png'))\n",
    "\n",
    "    if neptuner_run is not None:\n",
    "        a_full_figure_path_key: str = a_fig_context.get_description(separator='/', include_property_names=True, key_value_separator=':') # .replace(' ', '_')\n",
    "        # a_full_figure_path_key: str = a_fig_context.get_description(separator=':', include_property_names=True, key_value_separator='|')\n",
    "        print(f'a_full_figure_path_key: \"{a_full_figure_path_key}\"')\n",
    "        # neptuner_run['outputs']['figures'][f\"{a_full_figure_path_key}\"].upload(a_fig)\n",
    "        neptuner_run['outputs']['figures'][f\"{a_full_figure_path_key}\"].upload(figure_out_paths['.html'].as_posix())\n",
    "        # neptuner.figures[f\"{a_full_figure_path_key}\"].upload(a_fig)\n",
    "        \n",
    "    return figure_out_paths\n"
   ]
  },
  {
   "cell_type": "markdown",
   "metadata": {},
   "source": [
    "# csv_files"
   ]
  },
  {
   "cell_type": "code",
   "execution_count": null,
   "metadata": {
    "notebookRunGroups": {
     "groupValue": "1"
    },
    "tags": [
     "remove-cell",
     "run_main"
    ]
   },
   "outputs": [],
   "source": [
    "## Load across session t_delta CSV, which contains the t_delta for each session:\n",
    "\n",
    "## INPUTS: known_bad_session_strs,\n",
    "\n",
    "# cuttoff_date = datetime(2024, 12, 6)\n",
    "# cuttoff_date = datetime(2025, 3, 20)\n",
    "# cuttoff_date = datetime(2025, 3, 27)\n",
    "# cuttoff_date = datetime(2025, 4, 17)\n",
    "cuttoff_date = datetime(2025, 6, 1)\n",
    "# cuttoff_date = datetime(2024, 11, 28, 14, 0, 0)\n",
    "\n",
    "# 2024-11-28 14:00:00\n",
    "# cuttoff_date = datetime(2024, 11, 24)\n",
    "# cuttoff_date = datetime(2025, 5, 1)\n",
    "# cuttoff_date = None\n"
   ]
  },
  {
   "cell_type": "code",
   "execution_count": null,
   "metadata": {
    "tags": [
     "run_main"
    ]
   },
   "outputs": [],
   "source": [
    "\n",
    "known_collected_outputs_paths = [Path(v).resolve() for v in ['/Users/pho/data/collected_outputs',\n",
    "                                                            '/Volumes/SwapSSD/Data/collected_outputs', r\"K:/scratch/collected_outputs\", '/Users/pho/Dropbox (University of Michigan)/MED-DibaLabDropbox/Data/Pho/Outputs/output/collected_outputs', r'C:/Users/pho/repos/Spike3DWorkEnv/Spike3D/output/collected_outputs',\n",
    "                                                            '/home/halechr/cloud/turbo/Data/Output/collected_outputs',\n",
    "                                                            '/home/halechr/cloud/turbo/Pho/Output/collected_outputs',\n",
    "                                                            '/home/halechr/FastData/collected_outputs/',\n",
    "                                                            ]]\n",
    "collected_outputs_directory = find_first_extant_path(known_collected_outputs_paths)\n",
    "assert collected_outputs_directory.exists(), f\"collected_outputs_directory: {collected_outputs_directory} does not exist! Is the right computer's config commented out above?\"\n",
    "# fullwidth_path_widget(scripts_output_path, file_name_label='Scripts Output Path:')\n",
    "print(f'collected_outputs_directory: {collected_outputs_directory}')\n",
    "\n",
    "\n",
    "# _active_folder_widget = fullwidth_path_widget(collected_outputs_directory)\n",
    "# display(_active_folder_widget)\n",
    "\n",
    "# Create a 'figures' subfolder if it doesn't exist\n",
    "figures_folder: Path = collected_outputs_directory.joinpath('figures').resolve()\n",
    "figures_folder.mkdir(parents=False, exist_ok=True)\n",
    "assert figures_folder.exists()\n",
    "print(f'\\tfigures_folder: {file_uri_from_path(figures_folder)}')\n",
    "\n",
    "# Create an output path for the across session collected results (like the aggregate CSVs built from the individual session CSVs)\n",
    "across_sessions_output_folder: Path = collected_outputs_directory.joinpath('../across_sessions').resolve()\n",
    "across_sessions_output_folder.mkdir(parents=False, exist_ok=True)\n",
    "assert across_sessions_output_folder.exists()\n",
    "print(f'\\tacross_sessions_output_folder: {file_uri_from_path(across_sessions_output_folder)}')\n",
    "\n",
    "\n",
    "# ## Find the files:\n",
    "# csv_files = find_csv_files(collected_outputs_directory)\n",
    "# h5_files = find_HDF5_files(collected_outputs_directory)\n",
    "\n",
    "# csv_sessions, most_recent_parsed_csv_files_df  = find_most_recent_files(found_session_export_paths=csv_files, cuttoff_date=cuttoff_date) # #TODO 2024-09-27 02:01: - [ ] Note `csv_sessions` is unused, replaced by `most_recent_parsed_csv_files_df`\n",
    "# h5_sessions, parsed_h5_files_df = find_most_recent_files(found_session_export_paths=h5_files)\n"
   ]
  },
  {
   "cell_type": "code",
   "execution_count": null,
   "metadata": {},
   "outputs": [],
   "source": [
    "from pyphoplacecellanalysis.SpecificResults.AcrossSessionResults import ExportValueNameCleaner\n",
    "\n",
    "\n",
    "new_name_list = ExportValueNameCleaner.clean_all(name_list=all_sessions_MultiMeasure_ripple_df['custom_replay_name'].unique().tolist())\n",
    "new_name_list"
   ]
  },
  {
   "cell_type": "code",
   "execution_count": null,
   "metadata": {
    "tags": [
     "run_main"
    ]
   },
   "outputs": [],
   "source": [
    "from pyphoplacecellanalysis.SpecificResults.AcrossSessionResults import load_across_sessions_exported_files\n",
    "from pyphoplacecellanalysis.SpecificResults.AcrossSessionResults import AcrossSessionHelpers\n",
    "\n",
    "final_sessions, sessions_t_delta_tuple, df_results, (most_recent_parsed_csv_files_df, all_parsed_csv_files_df, csv_files, csv_sessions), (most_recent_parsed_h5_files_df, all_parsed_h5_files_df, h5_files, h5_sessions), excluded_or_outdated_files_list = load_across_sessions_exported_files(collected_outputs_directory=collected_outputs_directory, cuttoff_date=cuttoff_date, debug_print=True)\n",
    "all_sessions_laps_df, all_sessions_ripple_df, all_sessions_laps_time_bin_df, all_sessions_ripple_time_bin_df, all_sessions_MultiMeasure_laps_df, all_sessions_MultiMeasure_ripple_df, all_sessions_all_scores_ripple_df, all_sessions_merged_complete_epoch_stats_df, *final_sessions_loaded_extra_dfs_list = df_results\n",
    "t_delta_df, t_delta_dict, (earliest_delta_aligned_t_start, latest_delta_aligned_t_end) = sessions_t_delta_tuple ## UNPACK\n",
    "# df_result_dfs_dict: Dict[str, pd.DataFrame] = {df.attrs.get('file_type', f'MISSING[{i}]'):df for i, df in enumerate(df_results)} ## use `df_results` as a dict, which is much better than how we currently unpack\n",
    "# final_sessions_loaded_extra_dfs_dict = {df.attrs.get('file_type', f'MISSING[{i}]'):df for i, df in enumerate(final_sessions_loaded_extra_dfs_list)}\n",
    "\n",
    "## 1.5mins"
   ]
  },
  {
   "cell_type": "markdown",
   "metadata": {},
   "source": [
    "```python\n",
    "failed to find proper 'is_user_annotated_epoch' and 'is_valid_epoch' columns for the epochs passed with error: Cannot mask with non-boolean array containing NA / NaN values. Skipping.\n",
    "WARNING: no `all_sessions_all_scores_df` to get \"is_valid_epoch\" and \"is_user_annotated_epoch\" from!\n",
    "\tSetting \"is_valid_epoch\" all to True and \"is_user_annotated_Epoch\" all to False.\n",
    "```"
   ]
  },
  {
   "cell_type": "code",
   "execution_count": null,
   "metadata": {},
   "outputs": [],
   "source": [
    "earliest_delta_aligned_t_start"
   ]
  },
  {
   "cell_type": "code",
   "execution_count": null,
   "metadata": {},
   "outputs": [],
   "source": [
    "# most_recent_parsed_csv_files_df # 2024-11-28 14:00:00\n",
    "most_recent_parsed_csv_files_df\n",
    "most_recent_parsed_csv_files_df[most_recent_parsed_csv_files_df['export_datetime'] >= cuttoff_date] # 305 "
   ]
  },
  {
   "cell_type": "code",
   "execution_count": null,
   "metadata": {},
   "outputs": [],
   "source": [
    "most_recent_parsed_csv_files_df.neuropy.constrain_columns[most_recent_parsed_csv_files_df['export_datetime'] >= cuttoff_date]"
   ]
  },
  {
   "cell_type": "code",
   "execution_count": null,
   "metadata": {},
   "outputs": [],
   "source": [
    "# all_parsed_csv_files_df\n",
    "all_parsed_csv_files_df[all_parsed_csv_files_df['export_datetime'] >= cuttoff_date] # 305 \n"
   ]
  },
  {
   "cell_type": "code",
   "execution_count": null,
   "metadata": {},
   "outputs": [],
   "source": [
    "all_parsed_csv_files_df = all_parsed_csv_files_df.sort_values(['export_datetime', 'session', 'custom_replay_name', 'file_type'], ascending=[False, True, True, True])\n",
    "all_parsed_csv_files_df = all_parsed_csv_files_df[all_parsed_csv_files_df['export_datetime'] >= cuttoff_date] # filter by cuttoff_date\n",
    "# _a_df = most_recent_parsed_csv_files_df[most_recent_parsed_csv_files_df['file_type'] == 'ripple_all_scores_merged_df']\n",
    "_a_df: pd.DataFrame = all_parsed_csv_files_df[all_parsed_csv_files_df['file_type'] == 'ripple_all_scores_merged_df']\n",
    "# Sort by columns: 'export_datetime' (descending), 'session' (ascending) and 2 other columns\n",
    "_a_df\n",
    "\n",
    "# _a_df['path'].to_list()\n",
    "# excluded_or_outdated_files_list"
   ]
  },
  {
   "cell_type": "code",
   "execution_count": null,
   "metadata": {},
   "outputs": [],
   "source": [
    "# Adjust column width to fit content\n",
    "# parsed_filtered_csv_files_df = deepcopy(most_recent_parsed_csv_files_df[most_recent_parsed_csv_files_df['file_type'] == 'ripple_all_scores_merged_df'])\n",
    "parsed_filtered_csv_files_df = deepcopy(all_parsed_csv_files_df[all_parsed_csv_files_df['file_type'] == 'ripple_all_scores_merged_df'])\n",
    "parsed_filtered_csv_files_df = parsed_filtered_csv_files_df[parsed_filtered_csv_files_df['export_datetime'] >= cuttoff_date] # filter by cuttoff_date\n",
    "parsed_filtered_csv_files_df = parsed_filtered_csv_files_df.drop_duplicates(subset=['export_datetime', 'session', 'custom_replay_name', 'file_type', 'path', '_comparable_custom_replay_name'], ignore_index=True)\n",
    "\n",
    "with pd.option_context('display.max_colwidth', None, 'display.max_rows', 100):\n",
    "    # display(most_recent_parsed_csv_files_df[most_recent_parsed_csv_files_df['file_type'] == 'ripple_all_scores_merged_df'])\n",
    "    display(parsed_filtered_csv_files_df)\n",
    "\n",
    "# The versions without the time suffix (only the day date) do not include the time_bin_size it seems _________________ #\n",
    "## '/home/halechr/FastData/collected_outputs/2024-11-26_GL-kdiba_gor01_one_2006-6-08_14-26-15__withNormalComputedReplays-qclu_[1, 2, 4, 6, 7, 9]-frateThresh_5.0-(ripple_all_scores_merged_df)_tbin-0.025.csv'\n",
    "\n",
    "# export_datetime\tsession\tcustom_replay_name\tfile_type\tdecoding_time_bin_size_str\tpath\t_comparable_custom_replay_name\n",
    "# 913\t2024-11-26 00:00:00\tkdiba_gor01_one_2006-6-08_14-26-15\twithNormalComputedReplays-qclu_[1, 2, 4, 6, 7, 9]-frateThresh_5.0\tripple_all_scores_merged_df\t\t/home/halechr/FastData/collected_outputs/2024-11-26_GL-kdiba_gor01_one_2006-6-08_14-26-15__withNormalComputedReplays-qclu_[1, 2, 4, 6, 7, 9]-frateThresh_5.0-(ripple_all_scores_merged_df)_tbin-0.025.csv\twithNormalComputedReplays-qclu-[1, 2, 4, 6, 7, 9]-frateThresh-5.0\n",
    "# 903\t2024-11-26 00:50:00\tkdiba_gor01_one_2006-6-08_14-26-15\twithNormalComputedReplays-qclu_[1, 2, 4, 6, 7, 9]-frateThresh_5.0\tripple_all_scores_merged_df\t0.025\t/home/halechr/FastData/collected_outputs/2024-11-26_1250AM-kdiba_gor01_one_2006-6-08_14-26-15__withNormalComputedReplays-qclu_[1, 2, 4, 6, 7, 9]-frateThresh_5.0-(ripple_all_scores_merged_df)_tbin-0.025.csv\twithNormalComputedReplays-qclu-[1, 2, 4, 6, 7, 9]-frateThresh-5.0\n",
    "# 909\t2024-11-26 00:50:00\tkdiba_gor01_one_2006-6-08_14-26-15\twithNormalComputedReplays-qclu_[1, 2, 4, 6, 7, 9]-frateThresh_5.0\tripple_all_scores_merged_df\t0.058\t/home/halechr/FastData/collected_outputs/2024-11-26_1250AM-kdiba_gor01_one_2006-6-08_14-26-15__withNormalComputedReplays-qclu_[1, 2, 4, 6, 7, 9]-frateThresh_5.0-(ripple_all_scores_merged_df)_tbin-0.058.csv\twithNormalComputedReplays-qclu-[1, 2, 4, 6, 7, 9]-frateThresh-5.0\n",
    "\n",
    "# '/home/halechr/FastData/collected_outputs/2024-11-26_GL-kdiba_gor01_one_2006-6-08_14-26-15__withNormalComputedReplays-qclu_[1, 2, 4, 6, 7, 9]-frateThresh_5.0-(ripple_all_scores_merged_df)_tbin-0.025.csv'\n",
    "# '/home/halechr/FastData/collected_outputs/2024-11-26_1250AM-kdiba_gor01_one_2006-6-08_14-26-15__withNormalComputedReplays-qclu_[1, 2, 4, 6, 7, 9]-frateThresh_5.0-(ripple_all_scores_merged_df)_tbin-0.025.csv'"
   ]
  },
  {
   "cell_type": "code",
   "execution_count": null,
   "metadata": {},
   "outputs": [],
   "source": [
    "all_sessions_MultiMeasure_ripple_df\n",
    "all_sessions_merged_complete_epoch_stats_df\n",
    "all_sessions_ripple_df\n",
    "all_sessions_all_scores_ripple_df"
   ]
  },
  {
   "cell_type": "code",
   "execution_count": null,
   "metadata": {},
   "outputs": [],
   "source": [
    "print(list(all_sessions_all_scores_ripple_df.columns))\n"
   ]
  },
  {
   "cell_type": "code",
   "execution_count": null,
   "metadata": {},
   "outputs": [],
   "source": [
    "all_sessions_all_scores_ripple_df['is_valid']"
   ]
  },
  {
   "cell_type": "code",
   "execution_count": null,
   "metadata": {},
   "outputs": [],
   "source": [
    "all_sessions_all_scores_ripple_df\n",
    "# all_sessions_all_scores_ripple_df['time_bin_size'].unique()\n",
    "original_n_rows: int = len(all_sessions_all_scores_ripple_df) # 3161 \n",
    "original_n_rows\n",
    "# ['longest_sequence_length_ratio_long_LR', 'longest_sequence_length_long_LR', 'longest_sequence_length_ratio_long_LR',]"
   ]
  },
  {
   "cell_type": "code",
   "execution_count": null,
   "metadata": {},
   "outputs": [],
   "source": [
    "all_sessions_all_scores_ripple_df[all_sessions_all_scores_ripple_df['time_bin_size'].notna()] # 1456 "
   ]
  },
  {
   "cell_type": "code",
   "execution_count": null,
   "metadata": {},
   "outputs": [],
   "source": [
    "all_sessions_all_scores_ripple_df[all_sessions_all_scores_ripple_df['time_bin_size'] == 0.025] ## just 934 rows out of 1456\n",
    "# .unique()\n"
   ]
  },
  {
   "cell_type": "code",
   "execution_count": null,
   "metadata": {},
   "outputs": [],
   "source": [
    "all_sessions_merged_complete_epoch_stats_df"
   ]
  },
  {
   "cell_type": "code",
   "execution_count": null,
   "metadata": {},
   "outputs": [],
   "source": [
    "## replace inf values with 0.0\n",
    "all_sessions_all_scores_ripple_df[['ratio_jump_valid_bins_long_LR', 'ratio_jump_valid_bins_long_RL', 'ratio_jump_valid_bins_short_LR', 'ratio_jump_valid_bins_short_RL']] = all_sessions_all_scores_ripple_df[['ratio_jump_valid_bins_long_LR', 'ratio_jump_valid_bins_long_RL', 'ratio_jump_valid_bins_short_LR', 'ratio_jump_valid_bins_short_RL']].replace(np.inf, 0.0)\n",
    "all_sessions_all_scores_ripple_df['best_overall_ratio_jump_valid_bins'] = np.nanmax(all_sessions_all_scores_ripple_df[['ratio_jump_valid_bins_long_LR', 'ratio_jump_valid_bins_long_RL', 'ratio_jump_valid_bins_short_LR', 'ratio_jump_valid_bins_short_RL']], axis=1) ## is this actually element-wise like I want it to be?\n",
    "all_sessions_all_scores_ripple_df['best_overall_ratio_jump_valid_bins'].notna().sum()"
   ]
  },
  {
   "cell_type": "code",
   "execution_count": null,
   "metadata": {},
   "outputs": [],
   "source": [
    "## Adds the best_overall_quantile columns in to ['all_sessions_all_scores_ripple_df', 'all_sessions_MultiMeasure_ripple_df']\n",
    "\n",
    "if all_sessions_merged_complete_epoch_stats_df is not None:\n",
    "    assert PandasHelpers.require_columns(all_sessions_merged_complete_epoch_stats_df, required_columns=['Long_BestDir_quantile', 'Short_BestDir_quantile'], print_missing_columns=True)\n",
    "    all_sessions_merged_complete_epoch_stats_df['best_overall_quantile'] = np.nanmax(all_sessions_merged_complete_epoch_stats_df[['Long_BestDir_quantile', 'Short_BestDir_quantile']], axis=1)\n",
    "    assert PandasHelpers.require_columns(all_sessions_merged_complete_epoch_stats_df, required_columns=['Long_BestDir_quantile', 'Short_BestDir_quantile', 'best_overall_quantile'], print_missing_columns=True)\n",
    "    all_sessions_merged_complete_epoch_stats_df = all_sessions_merged_complete_epoch_stats_df[all_sessions_merged_complete_epoch_stats_df['custom_replay_name'] != ''] # only non-blank values\n",
    "\n",
    "    ## Differences in format of 'session_name' for the two dataframes:\n",
    "    # all_sessions_all_scores_ripple_df['session_name']: 'kdiba_gor01_one_2006-6-08_14-26-15', ...\n",
    "    # all_sessions_merged_complete_epoch_stats_df['session_name']: 'kdiba-gor01-one-2006-6-08_14-26-15', ...\n",
    "\n",
    "    assert 'best_overall_quantile' in all_sessions_merged_complete_epoch_stats_df, f'all_sessions_merged_complete_epoch_stats_df is missing \"best_overall_quantile\"'\n",
    "\n",
    "    all_sessions_all_scores_ripple_df = AcrossSessionHelpers._subfn_perform_add_merged_complete_epoch_stats_df(a_paired_main_ripple_df=deepcopy(all_sessions_all_scores_ripple_df), an_all_sessions_merged_complete_epoch_stats_df=deepcopy(all_sessions_merged_complete_epoch_stats_df),\n",
    "                                                                                                            comparison_must_match_column_names = ['custom_replay_name', 'session_name', 'start', 'stop'], comparison_must_match_non_temporal_column_names = ['custom_replay_name', 'session_name'], desired_transfer_col_names = ['Long_BestDir_quantile', 'Short_BestDir_quantile', 'best_overall_quantile'])\n",
    "    all_sessions_MultiMeasure_ripple_df = AcrossSessionHelpers._subfn_perform_add_merged_complete_epoch_stats_df(a_paired_main_ripple_df=deepcopy(all_sessions_MultiMeasure_ripple_df), an_all_sessions_merged_complete_epoch_stats_df=deepcopy(all_sessions_merged_complete_epoch_stats_df),\n",
    "                                                                                                                comparison_must_match_column_names = ['custom_replay_name', 'session_name', 'start', 'stop'], comparison_must_match_non_temporal_column_names = ['custom_replay_name', 'session_name'], desired_transfer_col_names = ['Long_BestDir_quantile', 'Short_BestDir_quantile', 'best_overall_quantile'])\n",
    "    # all_sessions_ripple_df = AcrossSessionHelpers._subfn_perform_add_merged_complete_epoch_stats_df(a_paired_main_ripple_df=deepcopy(all_sessions_ripple_df), an_all_sessions_merged_complete_epoch_stats_df=deepcopy(all_sessions_merged_complete_epoch_stats_df))\n",
    "\n",
    "    print(f\"num non-na 'best_overall_quantile' rows for `all_sessions_all_scores_ripple_df`: {all_sessions_all_scores_ripple_df['best_overall_quantile'].notna().sum()}\") ## KeyError: 'best_overall_quantile', why is this happening? Isn't it being setup above?\n",
    "    print(f\"num non-na 'best_overall_quantile' rows for `all_sessions_MultiMeasure_ripple_df`: {all_sessions_MultiMeasure_ripple_df['best_overall_quantile'].notna().sum()}\")\n",
    "\n",
    "    assert PandasHelpers.require_columns(all_sessions_all_scores_ripple_df, required_columns=['Long_BestDir_quantile', 'Short_BestDir_quantile', 'best_overall_quantile'], print_missing_columns=True)\n",
    "    assert PandasHelpers.require_columns(all_sessions_MultiMeasure_ripple_df, required_columns=['Long_BestDir_quantile', 'Short_BestDir_quantile', 'best_overall_quantile'], print_missing_columns=True)\n",
    "\n",
    "    ## re-pack `df_results`\n",
    "    df_results = all_sessions_laps_df, all_sessions_ripple_df, all_sessions_laps_time_bin_df, all_sessions_ripple_time_bin_df, all_sessions_MultiMeasure_laps_df, all_sessions_MultiMeasure_ripple_df, all_sessions_all_scores_ripple_df, all_sessions_merged_complete_epoch_stats_df, *final_sessions_loaded_extra_dfs_list\n",
    "    df_result_dfs_dict: Dict[str, pd.DataFrame] = {df.attrs.get('file_type', f'MISSING[{i}]'):df for i, df in enumerate(df_results)} ## use `df_results` as a dict, which is much better than how we currently unpack\n",
    "    final_sessions_loaded_extra_dfs_dict = {df.attrs.get('file_type', f'MISSING[{i}]'):df for i, df in enumerate(final_sessions_loaded_extra_dfs_list)}\n",
    "    \n",
    "    ## INPUTS: final_sessions_loaded_extra_dfs_dict\n",
    "    \n",
    "    ## Adds the WCorrShuffle columns in to ['all_sessions_all_scores_ripple_df', 'all_sessions_MultiMeasure_ripple_df']\n",
    "    # df_result_dfs_dict\n",
    "    ripple_WCorrShuffle_df = final_sessions_loaded_extra_dfs_dict.get('ripple_WCorrShuffle_df', None)\n",
    "    if ripple_WCorrShuffle_df is not None:\n",
    "        assert PandasHelpers.require_columns(ripple_WCorrShuffle_df, required_columns=['wcorr_z_long', 'wcorr_z_short'], print_missing_columns=True)\n",
    "        # ripple_WCorrShuffle_df['custom_replay_name'].unique()\n",
    "\n",
    "        wcorr_shuffle_time_idx_column_names = ['custom_replay_name', 'session_name', 'start', 'stop', 'time_bin_size'] # , 'time_bin_size'\n",
    "        wcorr_shuffle_relevent_column_names = ['wcorr_z_long', 'wcorr_z_short', 'best_overall_wcorr_z'] # , 'n_unique_aclus'\n",
    "        comparison_must_match_non_temporal_column_names = ['custom_replay_name', 'session_name', 'time_bin_size']\n",
    "\n",
    "        if 'best_overall_wcorr_z' not in ripple_WCorrShuffle_df.columns:\n",
    "            ripple_WCorrShuffle_df['best_overall_wcorr_z'] = np.nanmax(np.abs(ripple_WCorrShuffle_df[['wcorr_z_long', 'wcorr_z_short']]), axis=1)\n",
    "\n",
    "        assert PandasHelpers.require_columns(ripple_WCorrShuffle_df, required_columns=wcorr_shuffle_relevent_column_names, print_missing_columns=True)\n",
    "\n",
    "        all_sessions_all_scores_ripple_df = AcrossSessionHelpers._subfn_perform_add_merged_complete_epoch_stats_df(a_paired_main_ripple_df=deepcopy(all_sessions_all_scores_ripple_df), an_all_sessions_merged_complete_epoch_stats_df=deepcopy(ripple_WCorrShuffle_df),\n",
    "                                                                                                                comparison_must_match_column_names = wcorr_shuffle_time_idx_column_names, comparison_must_match_non_temporal_column_names=comparison_must_match_non_temporal_column_names, desired_transfer_col_names=wcorr_shuffle_relevent_column_names,\n",
    "                                                                                                                )\n",
    "\n",
    "        all_sessions_MultiMeasure_ripple_df = AcrossSessionHelpers._subfn_perform_add_merged_complete_epoch_stats_df(a_paired_main_ripple_df=deepcopy(all_sessions_MultiMeasure_ripple_df), an_all_sessions_merged_complete_epoch_stats_df=deepcopy(ripple_WCorrShuffle_df),\n",
    "                                                                                                                comparison_must_match_column_names = wcorr_shuffle_time_idx_column_names, comparison_must_match_non_temporal_column_names=comparison_must_match_non_temporal_column_names, desired_transfer_col_names=wcorr_shuffle_relevent_column_names,\n",
    "                                                                                                                )\n",
    "\n",
    "\n",
    "        # all_sessions_all_scores_ripple_df\n",
    "        # all_sessions_MultiMeasure_ripple_df\n",
    "        print(f\"num non-na 'best_overall_wcorr_z' rows for `all_sessions_all_scores_ripple_df`: {all_sessions_all_scores_ripple_df['best_overall_wcorr_z'].notna().sum()}\")\n",
    "        print(f\"num non-na 'best_overall_wcorr_z' rows for `all_sessions_MultiMeasure_ripple_df`: {all_sessions_MultiMeasure_ripple_df['best_overall_wcorr_z'].notna().sum()}\")\n",
    "\n",
    "        assert PandasHelpers.require_columns(all_sessions_all_scores_ripple_df, required_columns=wcorr_shuffle_relevent_column_names, print_missing_columns=True)\n",
    "        assert PandasHelpers.require_columns(all_sessions_MultiMeasure_ripple_df, required_columns=wcorr_shuffle_relevent_column_names, print_missing_columns=True)\n",
    "\n",
    "        ## re-pack `df_results`\n",
    "        df_results = all_sessions_laps_df, all_sessions_ripple_df, all_sessions_laps_time_bin_df, all_sessions_ripple_time_bin_df, all_sessions_MultiMeasure_laps_df, all_sessions_MultiMeasure_ripple_df, all_sessions_all_scores_ripple_df, all_sessions_merged_complete_epoch_stats_df, *final_sessions_loaded_extra_dfs_list\n",
    "        df_result_dfs_dict: Dict[str, pd.DataFrame] = {df.attrs.get('file_type', f'MISSING[{i}]'):df for i, df in enumerate(df_results)} ## use `df_results` as a dict, which is much better than how we currently unpack\n",
    "        final_sessions_loaded_extra_dfs_dict = {df.attrs.get('file_type', f'MISSING[{i}]'):df for i, df in enumerate(final_sessions_loaded_extra_dfs_list)}\n"
   ]
  },
  {
   "cell_type": "code",
   "execution_count": null,
   "metadata": {},
   "outputs": [],
   "source": [
    "# all_sessions_all_scores_ripple_df[np.logical_not(all_sessions_all_scores_ripple_df['long_best_jump'].isnull())] ## only 133 events :[\n",
    "all_sessions_all_scores_ripple_df[np.logical_not(all_sessions_all_scores_ripple_df['short_best_jump'].isnull())] ## only 133 events :[ -- now 412 rows... -- now 3573 rows...\n",
    "# all_sessions_ripple_df[np.logical_not(all_sessions_ripple_df['short_best_jump'].isnull())] # no 'short_best_jump' col\n",
    "# all_sessions_merged_complete_epoch_stats_df[np.logical_not(all_sessions_merged_complete_epoch_stats_df['short_best_jump'].isnull())] # no 'short_best_jump' col\n",
    "# all_sessions_MultiMeasure_ripple_df"
   ]
  },
  {
   "cell_type": "code",
   "execution_count": null,
   "metadata": {},
   "outputs": [],
   "source": [
    "all_sessions_merged_complete_epoch_stats_df"
   ]
  },
  {
   "cell_type": "code",
   "execution_count": null,
   "metadata": {},
   "outputs": [],
   "source": [
    "from pyphoplacecellanalysis.SpecificResults.AcrossSessionResults import AcrossSessionHelpers\n",
    "\n",
    "'result_t_bin_idx', 'epoch_df_idx', 'parent_epoch_label', 'label'\n",
    "\n",
    "# epoch_idx_col_name: str = 'epoch_idx'\n",
    "# epoch_idx_col_name: str = 'label' # for 'all_sessions_all_scores_ripple_df', doesn't quite work\n",
    "epoch_idx_col_name: str = 'ripple_idx' # for 'all_sessions_MultiMeasure_ripple_df',\n",
    "\n",
    "\n",
    "\n",
    "an_epoch_time_bin_df = deepcopy(all_sessions_ripple_time_bin_df)\n",
    "# a_paired_epoch_stats_df = deepcopy(all_sessions_ripple_df)\n",
    "# a_paired_epoch_stats_df = deepcopy(all_sessions_all_scores_ripple_df)\n",
    "a_paired_epoch_stats_df = deepcopy(all_sessions_MultiMeasure_ripple_df)\n",
    "\n",
    "\n",
    "\n",
    "\n",
    "an_epoch_time_bin_df.set_index(['session_name', 'custom_replay_name', 'time_bin_size'], drop=False)\n",
    "\n",
    "# all_sessions_ripple_time_bin_df = all_sessions_ripple_time_bin_df.groupby(['session_name', 'custom_replay_name', 'time_bin_size']).count().reset_index()[['session_name', 'custom_replay_name', 'time_bin_size']]\n",
    "\n",
    "\n",
    "# df.groupby(['session_name', 'custom_replay_name', 'time_bin_size']).count().reset_index()[['session_name', 'custom_replay_name', 'time_bin_size']].drop_duplicates()\n",
    "\n",
    "['epoch_df_idx', 'parent_epoch_label', 'result_t_bin_idx'] ## all seem the same... are they?\n",
    "\n",
    "# df.groupby(['session_name', 'custom_replay_name', 'time_bin_size']).count().reset_index()[['session_name', 'custom_replay_name', 'time_bin_size', 'parent_epoch_label']] #.drop_duplicates()\n",
    "# df.groupby(['session_name', 'custom_replay_name', 'time_bin_size']).count().reset_index()[['session_name', 'custom_replay_name', 'time_bin_size', 'epoch_df_idx']]\n",
    "\n",
    "time_bin_epoch_complete_identifier_uniques_df = an_epoch_time_bin_df.groupby(['session_name', 'custom_replay_name', 'time_bin_size', 'parent_epoch_label']).count().reset_index()[['session_name', 'custom_replay_name', 'time_bin_size', 'parent_epoch_label']].drop_duplicates()\n",
    "\n",
    "epoch_complete_identifier_uniques_df = a_paired_epoch_stats_df.groupby(['session_name', 'custom_replay_name', 'time_bin_size', epoch_idx_col_name]).count().reset_index()[['session_name', 'custom_replay_name', 'time_bin_size', epoch_idx_col_name]].drop_duplicates()\n",
    "assert len(time_bin_epoch_complete_identifier_uniques_df) == len(epoch_complete_identifier_uniques_df), f\"epoch_complete_identifier_uniques: {len(epoch_complete_identifier_uniques_df)}, time_bin_epoch_complete_identifier_uniques: {len(time_bin_epoch_complete_identifier_uniques_df)}\""
   ]
  },
  {
   "cell_type": "code",
   "execution_count": null,
   "metadata": {
    "tags": [
     "slow"
    ]
   },
   "outputs": [],
   "source": [
    "from pyphoplacecellanalysis.SpecificResults.AcrossSessionResults import AcrossSessionHelpers\n",
    "\n",
    "desired_transfer_col_names = ['Long_BestDir_quantile', 'Short_BestDir_quantile', 'best_overall_quantile', 'wcorr_z_long', 'wcorr_z_short', 'best_overall_wcorr_z']\n",
    "\n",
    "comparison_must_match_column_names = ['session_name', 'custom_replay_name', 'time_bin_size', epoch_idx_col_name]\n",
    "an_epoch_time_bin_df = AcrossSessionHelpers._subfn_perform_add_stats_to_time_bins_df(a_paired_epoch_stats_df=deepcopy(all_sessions_MultiMeasure_ripple_df), an_epoch_time_bin_df=deepcopy(all_sessions_ripple_time_bin_df),\n",
    "                                                                                        comparison_must_match_column_names = comparison_must_match_column_names, comparison_must_match_non_temporal_column_names = comparison_must_match_column_names,\n",
    "                                                                                         desired_transfer_col_names = desired_transfer_col_names)\n",
    "\n",
    "an_epoch_time_bin_df\n",
    "\n",
    "# all_sessions_ripple_time_bin_df = an_epoch_time_bin_df ## assign\n",
    "\n",
    "## SLOW - took 18m for ~240203 rows\n",
    "an_epoch_time_bin_df.to_csv(Path('C:/Users/pho/repos/Spike3DWorkEnv/Spike3D/EXTERNAL/PhoDibaPaper2024Book/data').joinpath(f'2024-11-20_full_merged_stats_properties_all_sessions_ripple_time_bin_df.csv'))\n",
    "\n",
    "# Assert.same_length(all_sessions_ripple_time_bin_df, an_epoch_time_bin_df)\n",
    "# an_epoch_time_bin_df\n",
    "all_sessions_ripple_time_bin_df = an_epoch_time_bin_df ## assign\n",
    "\n",
    "assert PandasHelpers.require_columns(all_sessions_ripple_time_bin_df, required_columns=desired_transfer_col_names, print_missing_columns=True)\n",
    "\n",
    "## re-pack `df_results`\n",
    "df_results = all_sessions_laps_df, all_sessions_ripple_df, all_sessions_laps_time_bin_df, all_sessions_ripple_time_bin_df, all_sessions_MultiMeasure_laps_df, all_sessions_MultiMeasure_ripple_df, all_sessions_all_scores_ripple_df, all_sessions_merged_complete_epoch_stats_df, *final_sessions_loaded_extra_dfs_list\n",
    "df_result_dfs_dict: Dict[str, pd.DataFrame] = {df.attrs.get('file_type', f'MISSING[{i}]'):df for i, df in enumerate(df_results)} ## use `df_results` as a dict, which is much better than how we currently unpack\n",
    "final_sessions_loaded_extra_dfs_dict = {df.attrs.get('file_type', f'MISSING[{i}]'):df for i, df in enumerate(final_sessions_loaded_extra_dfs_list)}\n",
    "\n",
    "# all_sessions_ripple_time_bin_df\n",
    "all_sessions_ripple_time_bin_df"
   ]
  },
  {
   "cell_type": "code",
   "execution_count": null,
   "metadata": {},
   "outputs": [],
   "source": [
    "print(list(all_sessions_ripple_time_bin_df.columns))\n",
    "# 'result_t_bin_idx', 'epoch_df_idx', 'parent_epoch_label', 'label'\n",
    "['session_name', 'time_bin_size', 'custom_replay_name']"
   ]
  },
  {
   "cell_type": "code",
   "execution_count": null,
   "metadata": {},
   "outputs": [],
   "source": [
    "all_sessions_all_scores_ripple_df"
   ]
  },
  {
   "cell_type": "code",
   "execution_count": null,
   "metadata": {},
   "outputs": [],
   "source": [
    "most_recent_parsed_csv_files_df[most_recent_parsed_csv_files_df['file_type'] == 'ripple_WCorrShuffle_df']\n"
   ]
  },
  {
   "cell_type": "code",
   "execution_count": null,
   "metadata": {},
   "outputs": [],
   "source": [
    "all_sessions_all_scores_ripple_df['custom_replay_name'].unique()"
   ]
  },
  {
   "cell_type": "code",
   "execution_count": null,
   "metadata": {},
   "outputs": [],
   "source": [
    "assert 'best_overall_quantile' in all_sessions_all_scores_ripple_df\n",
    "\n",
    "['best_overall_quantile']\n",
    "all_sessions_all_scores_ripple_df['best_overall_quantile']"
   ]
  },
  {
   "cell_type": "code",
   "execution_count": null,
   "metadata": {},
   "outputs": [],
   "source": [
    "\"2024-11-15_GL-kdiba-gor01-one-2006-6-08_14-26-15__withNormalComputedReplays-frateThresh_5.0-qclu_[1, 2, 4, 6, 7, 9]-(merged_complete_epoch_stats_df).csv\"\n",
    "excluded_or_outdated_files_list"
   ]
  },
  {
   "cell_type": "code",
   "execution_count": null,
   "metadata": {},
   "outputs": [],
   "source": [
    "most_recent_parsed_csv_files_df"
   ]
  },
  {
   "cell_type": "code",
   "execution_count": null,
   "metadata": {},
   "outputs": [],
   "source": [
    "all_sessions_merged_complete_epoch_stats_relevant_df # 'Long_BestDir_quantile', 'Short_BestDir_quantile'"
   ]
  },
  {
   "cell_type": "code",
   "execution_count": null,
   "metadata": {},
   "outputs": [],
   "source": [
    "all_sessions_all_scores_ripple_df['custom_replay_name'].unique()"
   ]
  },
  {
   "cell_type": "code",
   "execution_count": null,
   "metadata": {},
   "outputs": [],
   "source": [
    "# INPUTS: sessions_t_delta_tuple\n",
    "t_delta_df, t_delta_dict, (earliest_delta_aligned_t_start, latest_delta_aligned_t_end) = sessions_t_delta_tuple ## UNPACK\n",
    "t_delta_dict"
   ]
  },
  {
   "cell_type": "code",
   "execution_count": null,
   "metadata": {},
   "outputs": [],
   "source": [
    "all_sessions_all_scores_ripple_df"
   ]
  },
  {
   "cell_type": "code",
   "execution_count": null,
   "metadata": {},
   "outputs": [],
   "source": [
    "all_sessions_MultiMeasure_ripple_df"
   ]
  },
  {
   "cell_type": "code",
   "execution_count": null,
   "metadata": {},
   "outputs": [],
   "source": [
    "most_recent_parsed_csv_files_df"
   ]
  },
  {
   "cell_type": "code",
   "execution_count": null,
   "metadata": {},
   "outputs": [],
   "source": [
    "most_recent_parsed_csv_files_df['custom_replay_name'].unique()"
   ]
  },
  {
   "cell_type": "code",
   "execution_count": null,
   "metadata": {},
   "outputs": [],
   "source": [
    "# all_sessions_MultiMeasure_laps_df\n",
    "all_columns = list(all_sessions_all_scores_ripple_df.columns)\n",
    "# all_columns\n",
    "bad_columns = [v for v in all_columns if ('.1' in v)]\n",
    "bad_columns # ['P_Long.1', 'P_Short.1', 'P_LR.1', 'P_RL.1']\n",
    "\n",
    "equiv_columns = [v.strip('.1') for v in bad_columns]\n",
    "equiv_columns # ['P_Long', 'P_Short', 'P_LR', 'P_RL']\n",
    "\n",
    "equiv_values = all_sessions_all_scores_ripple_df[equiv_columns]\n",
    "bad_values = all_sessions_all_scores_ripple_df[bad_columns]\n",
    "\n",
    "equiv_values\n",
    "bad_values\n",
    "does_row_have_bad_entry = np.any(np.isclose(equiv_values.to_numpy(), bad_values.to_numpy()), axis=1)\n",
    "does_row_have_bad_entry"
   ]
  },
  {
   "cell_type": "markdown",
   "metadata": {},
   "source": [
    "# h5_files"
   ]
  },
  {
   "cell_type": "code",
   "execution_count": null,
   "metadata": {
    "tags": [
     "remove-cell",
     "run_main"
    ]
   },
   "outputs": [],
   "source": [
    "from pyphoplacecellanalysis.SpecificResults.AcrossSessionResults import load_across_sessions_exported_h5_files\n",
    "\n",
    "## INPUTS: h5_sessions, session_dict, cuttoff_date, known_bad_session_strs\n",
    "parsed_h5_files_df, h5_contexts_paths_dict = load_across_sessions_exported_h5_files(collected_outputs_directory=collected_outputs_directory, cuttoff_date=cuttoff_date,\n",
    "                                                                                    known_bad_session_strs=known_bad_session_strs, debug_print=True)\n",
    "\n",
    "h5_contexts_paths_dict\n",
    "h5_session_contexts = list(h5_contexts_paths_dict.keys())\n",
    "included_h5_paths = list(h5_contexts_paths_dict.values())\n",
    "\n",
    "if neptuner_run is not None:\n",
    "    _neptuner_run_parameters = dict(parsed_h5_files_df=parsed_h5_files_df,\n",
    "                                       )\n",
    "    for k, v in _neptuner_run_parameters.items():\n",
    "        neptuner_run[f'parsed/{k}'] = v\n",
    "    _neptuner_run_parameters = {} # reset after writing\n",
    "\n",
    "parsed_h5_files_df\n",
    "# h5_contexts_paths_dict\n",
    "\n",
    "included_h5_paths\n"
   ]
  },
  {
   "cell_type": "code",
   "execution_count": null,
   "metadata": {},
   "outputs": [],
   "source": [
    "included_h5_paths"
   ]
  },
  {
   "cell_type": "code",
   "execution_count": null,
   "metadata": {},
   "outputs": [],
   "source": [
    "h5_contexts_paths_dict"
   ]
  },
  {
   "cell_type": "code",
   "execution_count": null,
   "metadata": {
    "tags": [
     "remove-cell"
    ]
   },
   "outputs": [],
   "source": [
    "from copy import deepcopy\n",
    "from pyphoplacecellanalysis.SpecificResults.AcrossSessionResults import AcrossSessionTables\n",
    "from pyphoplacecellanalysis.SpecificResults.AcrossSessionResults import AcrossSessionsVisualizations\n",
    "from pyphocorehelpers.indexing_helpers import reorder_columns, reorder_columns_relative\n",
    "\n",
    "included_session_contexts = deepcopy(h5_session_contexts)\n",
    "included_h5_paths = deepcopy(included_h5_paths)\n",
    "num_sessions = len(included_session_contexts)\n",
    "(neuron_identities_table, long_short_fr_indicies_analysis_table, neuron_replay_stats_table), output_path_dicts = AcrossSessionTables.build_and_save_all_combined_tables(included_session_contexts, included_h5_paths,\n",
    "                                                                                                                                                    override_output_parent_path=across_sessions_output_folder, output_path_suffix=f'{TODAY_DAY_DATE}',\n",
    "                                                                                                                                                    should_restore_native_column_types=True, include_csv=True, include_pkl=True)\n",
    "\n",
    "\n",
    "if neptuner_run is not None:\n",
    "    _neptuner_run_parameters = dict(neuron_identities_table=neuron_identities_table, long_short_fr_indicies_analysis_table=long_short_fr_indicies_analysis_table, neuron_replay_stats_table=neuron_replay_stats_table,\n",
    "                                       num_sessions=num_sessions)\n",
    "    for k, v in _neptuner_run_parameters.items():\n",
    "        neptuner_run[f'parsed/{k}'] = v\n",
    "    _neptuner_run_parameters = {} # reset after writing\n",
    "\n",
    "    for output_name, a_paths_dict in output_path_dicts.items():\n",
    "        for format_extension, an_output_path in a_paths_dict.items():\n",
    "            neptuner_run[f\"output_files/{format_extension}/{output_name}\"].upload(an_output_path.resolve().as_posix())\n",
    "\n",
    "\n",
    "# {'neuron_identities_table': {'.csv': WindowsPath('K:/scratch/across_sessions/2024-06-05_Apogee/neuron_identities_table.csv'),\n",
    "#   '.pkl': WindowsPath('K:/scratch/across_sessions/2024-06-05_Apogee/neuron_identities_table.pkl')},\n",
    "#  'long_short_fr_indicies_analysis_table': {'.csv': WindowsPath('K:/scratch/across_sessions/2024-06-05_Apogee/long_short_fr_indicies_analysis_table.csv'),\n",
    "#   '.pkl': WindowsPath('K:/scratch/across_sessions/2024-06-05_Apogee/long_short_fr_indicies_analysis_table.pkl')},\n",
    "#  'neuron_replay_stats_table': {'.csv': WindowsPath('K:/scratch/across_sessions/2024-06-05_Apogee/neuron_replay_stats_table.csv'),\n",
    "#   '.pkl': WindowsPath('K:/scratch/across_sessions/2024-06-05_Apogee/neuron_replay_stats_table.pkl')}}\n",
    "\n",
    "output_path_dicts\n",
    "\n",
    "## Move the \"height\" columns to the end\n",
    "neuron_replay_stats_table = reorder_columns_relative(neuron_replay_stats_table, column_names=['neuron_uid', 'format_name', 'animal', 'exper_name', 'session_name', 'neuron_type', 'aclu', 'session_uid', 'session_datetime'], relative_mode='start')\n",
    "\n",
    "neuron_replay_stats_table\n"
   ]
  },
  {
   "cell_type": "code",
   "execution_count": null,
   "metadata": {},
   "outputs": [],
   "source": [
    "parsed_h5_files_df['file_type'].unique()"
   ]
  },
  {
   "cell_type": "markdown",
   "metadata": {},
   "source": [
    "# 2024-11-26 - `decoded_posteriors` from HDF5 files"
   ]
  },
  {
   "cell_type": "code",
   "execution_count": null,
   "metadata": {
    "tags": [
     "run_main",
     "run-filtered-main"
    ]
   },
   "outputs": [],
   "source": [
    "from pyphoplacecellanalysis.SpecificResults.AcrossSessionResults import H5FileAggregator\n",
    "from pyphoplacecellanalysis.Pho2D.data_exporting import PosteriorExporting\n",
    "from neuropy.utils.result_context import DisplaySpecifyingIdentifyingContext\n",
    "from pyphoplacecellanalysis.Pho2D.data_exporting import LoadedPosteriorContainer\n",
    "from neuropy.utils.indexing_helpers import flatten, flatten_dict\n",
    "from pyphoplacecellanalysis.SpecificResults.AcrossSessionResults import AcrossSessionIdentityDataframeAccessor\n",
    "\n",
    "## INPUTS: parsed_h5_files_df\n",
    "decoded_posteriors_parsed_h5_files_df = parsed_h5_files_df[parsed_h5_files_df['file_type'] == 'decoded_posteriors']\n",
    "\n",
    "print(decoded_posteriors_parsed_h5_files_df['custom_replay_name'].unique())\n",
    "# matching_custom_replay_name_str: str = \"withNormalComputedReplays-frateThresh_5.0-qclu_[1, 2]\"\n",
    "# matching_custom_replay_name_str: str = \"withNormalComputedReplays-frateThresh_5.0-qclu_[1, 2, 4, 6, 7, 9]\"\n",
    "matching_custom_replay_name_str: str = 'withNormalComputedReplays-qclu_[1, 2, 4, 6, 7, 9]-frateThresh_5.0'\n",
    "decoded_posteriors_parsed_h5_files_df = decoded_posteriors_parsed_h5_files_df[decoded_posteriors_parsed_h5_files_df['custom_replay_name'] == matching_custom_replay_name_str]\n",
    "decoded_posteriors_parsed_h5_files_df\n",
    "decoded_posteriors_h5_files = [Path(v.as_posix()).resolve() for v in decoded_posteriors_parsed_h5_files_df['path'].to_list()]\n",
    "# decoded_posteriors_h5_files\n",
    "## OUTPUTS: decoded_posteriors_h5_files\n",
    "\n",
    "all_sessions_exported_posteriors_dict, all_sessions_exported_posteriors_data_only_dict = LoadedPosteriorContainer.load_batch_hdf5_exports(exported_posterior_data_h5_files=decoded_posteriors_h5_files)\n",
    "## OUTPUTS: all_sessions_exported_posteriors_dict, all_sessions_exported_posteriors_data_only_dict"
   ]
  },
  {
   "cell_type": "markdown",
   "metadata": {},
   "source": [
    "# 🚧🎯⌚ `first_spike_activity_data` loading and analysis - 2024-11-01"
   ]
  },
  {
   "cell_type": "code",
   "execution_count": null,
   "metadata": {},
   "outputs": [],
   "source": [
    "import pandas as pd\n",
    "from pathlib import Path\n",
    "from neuropy.core.neuron_identities import NeuronIdentityDataframeAccessor\n",
    "from neuropy.core.flattened_spiketrains import SpikesAccessor\n",
    "from pyphoplacecellanalysis.SpecificResults.PendingNotebookCode import CellsFirstSpikeTimes\n",
    "from neuropy.utils.result_context import IdentifyingContext\n",
    "\n",
    "\n",
    "first_spike_activity_parsed_h5_files_df = parsed_h5_files_df[parsed_h5_files_df['file_type'] == 'first_spike_activity_data']\n",
    "\n",
    "print(first_spike_activity_parsed_h5_files_df['custom_replay_name'].unique())\n",
    "\n",
    "# matching_custom_replay_name_str: str = \"withNormalComputedReplays-frateThresh_5.0-qclu_[1, 2]\"\n",
    "# matching_custom_replay_name_str: str = \"withNormalComputedReplays-frateThresh_5.0-qclu_[1, 2, 4, 6, 7, 9]\"\n",
    "matching_custom_replay_name_str: str = 'withNormalComputedReplays-qclu_[1, 2, 4, 6, 7, 9]-frateThresh_5.0'\n",
    "first_spike_activity_parsed_h5_files_df = first_spike_activity_parsed_h5_files_df[first_spike_activity_parsed_h5_files_df['custom_replay_name'] == matching_custom_replay_name_str]\n",
    "first_spike_activity_parsed_h5_files_df\n",
    "first_spike_activity_data_h5_files = [v.as_posix() for v in first_spike_activity_parsed_h5_files_df['path'].to_list()]\n",
    "first_spike_activity_data_h5_files\n",
    "\n",
    "test_obj: CellsFirstSpikeTimes = CellsFirstSpikeTimes.init_from_batch_hdf5_exports(first_spike_activity_data_h5_files=first_spike_activity_data_h5_files)\n",
    "test_obj\n",
    "# INPUTS: sessions_t_delta_tuple\n",
    "t_delta_df, t_delta_dict, (earliest_delta_aligned_t_start, latest_delta_aligned_t_end) = sessions_t_delta_tuple ## UNPACK\n",
    "# t_delta_dict\n",
    "# curr_session_t_delta = t_delta_dict.get(session_name, {}).get('t_delta', None)\n",
    "\n",
    "# test_obj.all_cells_first_spike_time_df\n",
    "# test_obj.first_spikes_dict\n",
    "# test_obj.all_cells_first_spike_time_df.session_name # \"kdiba-gor01-one-2006-6-08_14-26-15\"\n",
    "# IdentifyingContext.try_init_from_session_key(session_str=\"kdiba-gor01-one-2006-6-08_14-26-15\", separator='-').get_description(separator='_')\n",
    "\n",
    "test_obj.add_session_info(t_delta_dict=t_delta_dict)\n",
    "test_obj.post_init_cleanup()\n"
   ]
  },
  {
   "cell_type": "code",
   "execution_count": null,
   "metadata": {},
   "outputs": [],
   "source": [
    "post_initial_laps_all_cells_first_spike_time_df = deepcopy(test_obj.all_cells_first_spike_time_df[test_obj.all_cells_first_spike_time_df['lap_spike_lap'] > 4].reset_index(drop=True))\n",
    "post_initial_laps_all_cells_first_spike_time_df"
   ]
  },
  {
   "cell_type": "code",
   "execution_count": null,
   "metadata": {},
   "outputs": [],
   "source": [
    "from bokeh.plotting import figure, show, output_notebook\n",
    "from bokeh.models import ColumnDataSource, Span, HoverTool\n",
    "from bokeh.palettes import Category10\n",
    "import pandas as pd\n",
    "from copy import deepcopy\n",
    "\n",
    "# Enable Bokeh output in the Jupyter notebook\n",
    "output_notebook()"
   ]
  },
  {
   "cell_type": "code",
   "execution_count": null,
   "metadata": {},
   "outputs": [],
   "source": [
    "spike_width = 0.9\n",
    "spike_height = 0.8 # Height of the tick mark (can be adjusted)\n",
    "active_df: pd.DataFrame = deepcopy(post_initial_laps_all_cells_first_spike_time_df)\n",
    "# active_df: pd.DataFrame = deepcopy(test_obj.all_cells_first_spike_time_df)\n",
    "enable_aclu_horizontal_trace_lines: bool = False\n",
    "## INPUTS: spike_width: float, spike_height: float, active_df: pd.DataFrame\n",
    "\n",
    "# Data preparation (factorize for color)\n",
    "_temp_active_spikes_df = deepcopy(active_df)[['neuron_uid', 'first_spike_PBE', 'first_spike_lap', 'session_uid']]\n",
    "_temp_active_spikes_df['lap_spike_relative_first_spike'] = _temp_active_spikes_df['first_spike_PBE'] - _temp_active_spikes_df['first_spike_lap']\n",
    "_temp_active_spikes_df['aclu'], _ = pd.factorize(_temp_active_spikes_df['neuron_uid'])\n",
    "_temp_active_spikes_df['aclu'] = _temp_active_spikes_df['aclu'] + 1  # Optionally start aclu from 1\n",
    "\n",
    "# Add tick_top and tick_bottom columns for short tick representation\n",
    "\n",
    "_temp_active_spikes_df['tick_bottom'] = _temp_active_spikes_df['aclu'] - spike_height / 2\n",
    "_temp_active_spikes_df['tick_top'] = _temp_active_spikes_df['aclu'] + spike_height / 2\n",
    "_temp_active_spikes_df = _temp_active_spikes_df.dropna(subset=['lap_spike_relative_first_spike', 'tick_top', 'tick_bottom'])\n",
    "\n",
    "# Bokeh specific preparation\n",
    "source = ColumnDataSource(_temp_active_spikes_df)\n",
    "unique_sessions = _temp_active_spikes_df['session_uid'].unique()\n",
    "\n",
    "# Create a wider figure by setting the width to 3x the default\n",
    "p = figure(title=\"First PBE Spike Relative to First Lap Spike (t=0)\", \n",
    "           x_axis_label=\"First PBE Spike Time (seconds, relative to first lap spike)\", \n",
    "           y_axis_label=\"Cell ID\", \n",
    "           tools=\"pan,box_zoom,reset\",\n",
    "           width=1300)\n",
    "\n",
    "colors = Category10[len(unique_sessions)]\n",
    "\n",
    "# Iterate over sessions to create vertical tick \"spikes\" for each point\n",
    "for i, session in enumerate(unique_sessions):\n",
    "    session_data = _temp_active_spikes_df[_temp_active_spikes_df['session_uid'] == session]\n",
    "    session_source = ColumnDataSource(session_data)\n",
    "    # Remove rows with NaN values in critical columns\n",
    "    \n",
    "    # Render each spike as a very short vertical bar (like a tick mark)\n",
    "    _ = p.vbar(x='lap_spike_relative_first_spike', bottom='tick_bottom', \n",
    "           top='tick_top', width=spike_width, \n",
    "           source=session_source, color=colors[i], legend_label=f\"Session: {session}\")\n",
    "\n",
    "# Add a vertical line at x=0 to indicate the first lap spike event\n",
    "vline = Span(location=0, dimension='height', line_color='red', line_width=2, line_alpha=0.5)\n",
    "p.add_layout(vline)\n",
    "\n",
    "if enable_aclu_horizontal_trace_lines:\n",
    "    # Add grid lines at each aclu value\n",
    "    unique_aclus = _temp_active_spikes_df['aclu'].unique()\n",
    "    print(f'unique_aclus: {unique_aclus}')\n",
    "    for aclu_value in unique_aclus:\n",
    "        hline = Span(location=aclu_value, dimension='width', line_color='gray', line_width=1, line_dash='dotted')\n",
    "        p.add_layout(hline)\n",
    "\n",
    "# Add hover tool for interactivity\n",
    "hover = HoverTool(tooltips=[(\"Neuron\", \"@neuron_uid\"), (\"Session\", \"@session_uid\"), (\"Relative Spike Time\", \"@lap_spike_relative_first_spike\")])\n",
    "p.add_tools(hover)\n",
    "\n",
    "# Adjust legend properties\n",
    "p.legend.click_policy = \"hide\"\n",
    "p.legend.background_fill_alpha = 0.3  # Make the legend background more transparent\n",
    "p.add_layout(p.legend[0], 'right')  # Move the legend outside the plot area to the right\n",
    "\n",
    "# Show the plot inline in the Jupyter notebook\n",
    "show(p)\n"
   ]
  },
  {
   "cell_type": "code",
   "execution_count": null,
   "metadata": {},
   "outputs": [],
   "source": [
    "import altair as alt\n",
    "import pandas as pd\n",
    "from copy import deepcopy\n",
    "\n",
    "# Data preparation\n",
    "_temp_active_spikes_df = deepcopy(post_initial_laps_all_cells_first_spike_time_df)[['neuron_uid', 'first_spike_PBE', 'first_spike_lap', 'session_uid']]\n",
    "_temp_active_spikes_df['lap_spike_relative_first_spike'] = _temp_active_spikes_df['first_spike_PBE'] - _temp_active_spikes_df['first_spike_lap']\n",
    "_temp_active_spikes_df['aclu'], _ = pd.factorize(_temp_active_spikes_df['neuron_uid'])\n",
    "_temp_active_spikes_df['aclu'] = _temp_active_spikes_df['aclu'] + 1\n",
    "\n",
    "# Plotting\n",
    "chart = alt.Chart(_temp_active_spikes_df).mark_circle(size=60).encode(\n",
    "    x='lap_spike_relative_first_spike',\n",
    "    y='aclu',\n",
    "    color='session_uid:N',\n",
    "    tooltip=['neuron_uid', 'session_uid']\n",
    ").properties(\n",
    "    title='First PBE Spike Relative to First Lap Spike (t=0)'\n",
    ").interactive()\n",
    "\n",
    "chart.show()\n"
   ]
  },
  {
   "cell_type": "code",
   "execution_count": null,
   "metadata": {},
   "outputs": [],
   "source": [
    "\n",
    "_out = test_obj.plot_first_lap_spike_relative_first_PBE_spike_scatter_figure()\n"
   ]
  },
  {
   "cell_type": "code",
   "execution_count": null,
   "metadata": {},
   "outputs": [],
   "source": [
    "test_obj.all_cells_first_spike_time_df['first_spike_lap']\n",
    "\n"
   ]
  },
  {
   "cell_type": "code",
   "execution_count": null,
   "metadata": {},
   "outputs": [],
   "source": [
    "\n",
    "\n",
    "_out = test_obj.plot_first_lap_spike_relative_first_PBE_spike_scatter_figure()\n"
   ]
  },
  {
   "cell_type": "code",
   "execution_count": null,
   "metadata": {},
   "outputs": [],
   "source": [
    "# trimmed_result_tuples_dict\n",
    "# post_initial_laps_result_tuples_dict\n",
    "_accumulated_global_spikes_df"
   ]
  },
  {
   "cell_type": "code",
   "execution_count": null,
   "metadata": {},
   "outputs": [],
   "source": [
    "test_obj.global_spikes_df # session_uid: \"2024|11|05|kdiba-gor01-one-2006-6-08_14-26-15\""
   ]
  },
  {
   "cell_type": "code",
   "execution_count": null,
   "metadata": {},
   "outputs": [],
   "source": [
    "app, win, plots, plots_data = test_obj.plot_first_lap_spike_relative_first_PBE_spike_scatter_figure()\n"
   ]
  },
  {
   "cell_type": "markdown",
   "metadata": {},
   "source": [
    "# Across Session CSV Outputs"
   ]
  },
  {
   "cell_type": "code",
   "execution_count": null,
   "metadata": {
    "notebookRunGroups": {
     "groupValue": "1"
    },
    "tags": [
     "export",
     "CSV",
     "run_main"
    ]
   },
   "outputs": [],
   "source": [
    "## INPUTS: most_recent_parsed_csv_files_df, TODAY_DAY_DATE\n",
    "display(most_recent_parsed_csv_files_df)\n",
    "\n",
    "across_sessions_parsed_csv_files_path = across_sessions_output_folder.joinpath(f'{TODAY_DAY_DATE}_parsed_csv_files_df.csv').resolve()\n",
    "# most_recent_parsed_csv_files_df.to_clipboard(excel=True)\n",
    "most_recent_parsed_csv_files_df.to_csv(across_sessions_parsed_csv_files_path)\n",
    "display(fullwidth_path_widget(across_sessions_parsed_csv_files_path, file_name_label='across_sessions_parsed_csv_files_path:'))"
   ]
  },
  {
   "cell_type": "code",
   "execution_count": null,
   "metadata": {
    "notebookRunGroups": {
     "groupValue": "1"
    },
    "tags": [
     "export",
     "CSV"
    ]
   },
   "outputs": [],
   "source": [
    "from pyphoplacecellanalysis.SpecificResults.AcrossSessionResults import export_across_session_CSVs\n",
    "\n",
    "## INPUTS: df_results\n",
    "all_sessions_laps_df, all_sessions_ripple_df, all_sessions_laps_time_bin_df, all_sessions_ripple_time_bin_df, all_sessions_MultiMeasure_laps_df, all_sessions_MultiMeasure_ripple_df, all_sessions_all_scores_ripple_df, all_sessions_merged_complete_epoch_stats_df, *final_sessions_loaded_extra_dfs_list = df_results\n",
    "final_across_session_summary_CSVs_output_path = across_sessions_output_folder.resolve()\n",
    "display(fullwidth_path_widget(final_across_session_summary_CSVs_output_path, file_name_label='final_across_session_summary_CSVs_output_path:'))\n",
    "final_csv_export_paths = export_across_session_CSVs(final_output_path=final_across_session_summary_CSVs_output_path, TODAY_DAY_DATE=TODAY_DAY_DATE,\n",
    "                                                    all_sessions_laps_df=all_sessions_laps_df,  all_sessions_ripple_df=all_sessions_ripple_df,\n",
    "                                                    all_sessions_laps_time_bin_df=all_sessions_laps_time_bin_df, all_sessions_ripple_time_bin_df=all_sessions_ripple_time_bin_df, \n",
    "                                                    # all_sessions_simple_pearson_laps_df=all_sessions_simple_pearson_laps_df,  all_sessions_simple_pearson_ripple_df=all_sessions_simple_pearson_ripple_df,\n",
    "                                                    all_sessions_MultiMeasure_laps_df=all_sessions_MultiMeasure_laps_df,  all_sessions_MultiMeasure_ripple_df=all_sessions_MultiMeasure_ripple_df,\n",
    "                                                    all_sessions_all_scores_ripple_df=all_sessions_all_scores_ripple_df,  all_sessions_all_scores_laps_df=None,\n",
    "                                                )\n",
    "\n",
    "# final_csv_export_paths: {'AcrossSession_Laps_per-Epoch': WindowsPath('K:/scratch/across_sessions/2024-06-05_Apogee_AcrossSession_Laps_per-Epoch.csv'),\n",
    "#  'AcrossSession_Ripple_per-Epoch': WindowsPath('K:/scratch/across_sessions/2024-06-05_Apogee_AcrossSession_Ripple_per-Epoch.csv'),\n",
    "#  'AcrossSession_Laps_per-TimeBin': WindowsPath('K:/scratch/across_sessions/2024-06-05_Apogee_AcrossSession_Laps_per-TimeBin.csv'),\n",
    "#  'AcrossSession_Ripple_per-TimeBin': WindowsPath('K:/scratch/across_sessions/2024-06-05_Apogee_AcrossSession_Ripple_per-TimeBin.csv'),\n",
    "#  'AcrossSession_SimplePearson_Laps_per-Epoch': WindowsPath('K:/scratch/across_sessions/2024-06-05_Apogee_AcrossSession_SimplePearson_Laps_per-Epoch.csv'),\n",
    "#  'AcrossSession_SimplePearson_Ripple_per-Epoch': WindowsPath('K:/scratch/across_sessions/2024-06-05_Apogee_AcrossSession_SimplePearson_Ripple_per-Epoch.csv'),\n",
    "#  'AcrossSession_AllScores_Ripple_per-Epoch': WindowsPath('K:/scratch/across_sessions/2024-06-05_Apogee_AcrossSession_AllScores_Ripple_per-Epoch.csv')}\n",
    "\n",
    "if neptuner_run is not None:\n",
    "    _neptuner_run_parameters = dict(across_sessions_parsed_csv_files_path=across_sessions_parsed_csv_files_path.as_posix(), final_across_session_summary_CSVs_output_path=final_across_session_summary_CSVs_output_path.as_posix())\n",
    "    for k, v in _neptuner_run_parameters.items():\n",
    "        neptuner_run[f'output_files/{k}'] = v\n",
    "    _neptuner_run_parameters = {} # reset after writing\n",
    "\n",
    "    for k, v in final_csv_export_paths.items():\n",
    "        neptuner_run[f\"output_files/{k}\"].upload(v.resolve().as_posix())\n",
    "        \n",
    "    neptuner_run.sync()\n",
    "    \n",
    "final_csv_export_paths"
   ]
  },
  {
   "cell_type": "markdown",
   "metadata": {},
   "source": [
    "# 2024-03-02 - Get only the user-annotated ripples:"
   ]
  },
  {
   "cell_type": "code",
   "execution_count": null,
   "metadata": {},
   "outputs": [],
   "source": [
    "from pyphoplacecellanalysis.SpecificResults.AcrossSessionResults import _split_user_annotated_ripple_df\n",
    "\n",
    "## Bump\n",
    "# input_df = all_sessions_simple_pearson_ripple_df\n",
    "# input_df = all_sessions_all_scores_ripple_df\n",
    "\n",
    "all_sessions_all_scores_ripple_df, (valid_ripple_df, invalid_ripple_df), (user_approved_ripple_df, user_rejected_ripple_df) = _split_user_annotated_ripple_df(all_sessions_all_scores_ripple_df)\n",
    "\n",
    "## 2024-03-14 - 'is_valid_epoch' column\n",
    "# 'is_valid_epoch'\n",
    "## OUTPUTS: valid_ripple_df, invalid_ripple_df, user_approved_ripple_df, user_rejected_ripple_df, (user_annotated_epoch_unique_session_names, unannotated_session_names)\n",
    "user_approved_ripple_df"
   ]
  },
  {
   "cell_type": "markdown",
   "metadata": {},
   "source": [
    "### 2024-02-29 - 4pm - Filter the events for those meeting wcorr criteria:\n"
   ]
  },
  {
   "cell_type": "code",
   "execution_count": null,
   "metadata": {},
   "outputs": [],
   "source": [
    "# df: pd.DataFrame = deepcopy(all_sessions_user_annotated_ripple_df)\n",
    "df: pd.DataFrame = deepcopy(valid_ripple_df) # valid epochs, but not just those that the user approved\n",
    "# df: pd.DataFrame = deepcopy(user_approved_ripple_df)\n",
    "\n",
    "## INPUTS: df\n",
    "\n",
    "min_wcorr_threshold: float = 0.33\n",
    "min_wcorr_diff_threshold: float = 0.2\n",
    "\n",
    "# is_included_large_wcorr_diff = np.any((df[['wcorr_abs_diff']].abs() > min_wcorr_diff_threshold), axis=1)\n",
    "is_included_large_wcorr_diff = np.any((df[['wcorr_diff']].abs() > min_wcorr_diff_threshold), axis=1)\n",
    "is_included_high_wcorr = np.any((df[['long_best_wcorr', 'short_best_wcorr']].abs() > min_wcorr_threshold), axis=1)\n",
    "\n",
    "df = df[is_included_high_wcorr]\n",
    "df\n",
    "\n",
    "# wcorr_long_LR\n"
   ]
  },
  {
   "cell_type": "code",
   "execution_count": null,
   "metadata": {},
   "outputs": [],
   "source": [
    "all_sessions_all_scores_ripple_df.time_bin_size.unique() # does not seem to return NaNs"
   ]
  },
  {
   "cell_type": "code",
   "execution_count": null,
   "metadata": {},
   "outputs": [],
   "source": [
    "all_sessions_ripple_time_bin_df.time_bin_size.unique()"
   ]
  },
  {
   "cell_type": "code",
   "execution_count": null,
   "metadata": {},
   "outputs": [],
   "source": [
    "all_sessions_ripple_time_bin_df"
   ]
  },
  {
   "cell_type": "markdown",
   "metadata": {},
   "source": [
    "# 2024-03-28 - AcrossSessionTable (PhoDibaPaper2023 formats) .h5 and figure exports\n",
    "\n",
    "neuron_identities_table, long_short_fr_indicies_analysis_table, neuron_replay_stats_table: all tables of the same length, one entry per neuron"
   ]
  },
  {
   "cell_type": "code",
   "execution_count": null,
   "metadata": {
    "tags": [
     "remove-cell",
     "figures"
    ]
   },
   "outputs": [],
   "source": [
    "from pyphoplacecellanalysis.SpecificResults.AcrossSessionResults import AcrossSessionTables, AcrossSessionsResults, AcrossSessionsVisualizations\n",
    "from neuropy.utils.mixins.HDF5_representable import HDF_Converter\n",
    "from pyphoplacecellanalysis.General.Batch.runBatch import BatchResultDataframeAccessor\n",
    "\n",
    "# output_path_suffix: str = '2024-09-26'\n",
    "# output_path_suffix: str = '2024-10-22'\n",
    "output_path_suffix: str = '2025-04-17' \n",
    "# output_path_suffix: str = '2025-06-03'\n",
    "# output_path_suffix: str = '2024-10-04'\n",
    "# inst_fr_output_filename: str = f'across_session_result_long_short_recomputed_inst_firing_rate_{output_path_suffix}.pkl'\n",
    "# inst_fr_output_filename: str = f'across_session_result_long_short_recomputed_inst_firing_rate_{output_path_suffix}_0.0009.pkl' # single time bin size\n",
    "# inst_fr_output_filename: str = f'across_session_result_long_short_recomputed_inst_firing_rate_{output_path_suffix}_0.0015.pkl' # single time bin size\n",
    "# inst_fr_output_filename: str = f'across_session_result_long_short_recomputed_inst_firing_rate_{output_path_suffix}_0.0025.pkl' # single time bin size\n",
    "# inst_fr_output_filename: str = f'across_session_result_long_short_recomputed_inst_firing_rate_{output_path_suffix}_0.025.pkl' # single time bin size\n",
    "inst_fr_output_filename: str = f'across_session_result_long_short_recomputed_inst_firing_rate_{output_path_suffix}_1000.0.pkl' # single time bin size\n",
    "\n",
    "## INPUTS: included_session_contexts, included_h5_paths\n",
    "neuron_identities_table, long_short_fr_indicies_analysis_table, neuron_replay_stats_table = AcrossSessionTables.build_all_known_tables(included_session_contexts, included_h5_paths, should_restore_native_column_types=True)\n",
    "\n",
    "## different than load_all_combined_tables, which seems to work with `long_short_fr_indicies_analysis_table`\n",
    "# graphics_output_dict |= AcrossSessionsVisualizations.across_sessions_firing_rate_index_figure(long_short_fr_indicies_analysis_results=long_short_fr_indicies_analysis_table, num_sessions=num_sessions, save_figure=True)\n",
    "\n",
    "## Load all across-session tables from the pickles:\n",
    "output_path_suffix: str = f'{output_path_suffix}'\n",
    "neuron_identities_table, long_short_fr_indicies_analysis_table, neuron_replay_stats_table = AcrossSessionTables.load_all_combined_tables(override_output_parent_path=collected_outputs_directory, output_path_suffix=output_path_suffix) # output_path_suffix=f'2023-10-04-GL-Recomp'\n",
    "# num_sessions = len(neuron_replay_stats_table.session_uid.unique().to_numpy())\n",
    "# print(f'num_sessions: {num_sessions}')\n",
    "num_sessions: int = len(long_short_fr_indicies_analysis_table['session_uid'].unique())\n",
    "print(f'num_sessions: {num_sessions}')\n",
    "\n",
    "inst_fr_output_load_filepath: Path = collected_outputs_directory.joinpath(inst_fr_output_filename).resolve() # single time bin size # non-instantaneous version\n",
    "assert inst_fr_output_load_filepath.exists()\n",
    "# inst_fr_output_filename: str = inst_fr_output_load_filepath.name\n",
    "# across_session_inst_fr_computation, across_sessions_instantaneous_fr_dict, across_sessions_instantaneous_frs_list = AcrossSessionsResults.load_across_sessions_data(global_data_root_parent_path=global_data_root_parent_path, inst_fr_output_filename=inst_fr_output_filename)\n",
    "across_session_inst_fr_computation, across_sessions_instantaneous_fr_dict, across_sessions_instantaneous_frs_list = AcrossSessionsResults.load_across_sessions_data(global_data_root_parent_path=inst_fr_output_load_filepath.parent, inst_fr_output_filename=inst_fr_output_filename)\n",
    "\n",
    "graphics_output_dict = AcrossSessionsResults.post_compute_all_sessions_processing(global_data_root_parent_path=collected_outputs_directory, output_path_suffix=output_path_suffix, plotting_enabled=False, output_override_path=Path('../../output'), inst_fr_output_filename=inst_fr_output_filename)\n",
    "\n",
    "num_sessions = len(across_sessions_instantaneous_fr_dict)\n",
    "print(f'num_sessions: {num_sessions}')\n",
    "\n",
    "# Convert byte strings to regular strings\n",
    "neuron_replay_stats_table = neuron_replay_stats_table.applymap(lambda x: x.decode('utf-8') if isinstance(x, bytes) else x)\n",
    "neuron_replay_stats_table"
   ]
  },
  {
   "cell_type": "code",
   "execution_count": null,
   "metadata": {},
   "outputs": [],
   "source": [
    "across_session_inst_fr_computation"
   ]
  },
  {
   "cell_type": "markdown",
   "metadata": {},
   "source": [
    "### Figure Generation"
   ]
  },
  {
   "cell_type": "code",
   "execution_count": null,
   "metadata": {
    "tags": [
     "tiny-test",
     "test"
    ]
   },
   "outputs": [],
   "source": [
    "long_short_fr_indicies_analysis_table"
   ]
  },
  {
   "cell_type": "code",
   "execution_count": null,
   "metadata": {},
   "outputs": [],
   "source": [
    "neuron_identities_table"
   ]
  },
  {
   "cell_type": "code",
   "execution_count": null,
   "metadata": {},
   "outputs": [],
   "source": [
    "neuron_replay_stats_table"
   ]
  },
  {
   "cell_type": "code",
   "execution_count": null,
   "metadata": {},
   "outputs": [],
   "source": [
    "from pyphoplacecellanalysis.SpecificResults.PhoDiba2023Paper import pho_stats_bar_graph_t_tests\n",
    "\n",
    "LxC_Laps_T_result, SxC_Laps_T_result, LxC_Replay_T_result, SxC_Replay_T_result = pho_stats_bar_graph_t_tests(across_session_inst_fr_computation)\n",
    "\n",
    "# LxC_Laps_T_result: TtestResult(statistic=5.550057784140024, pvalue=4.394229331160663e-05, df=16)\n",
    "# SxC_Laps_T_result: TtestResult(statistic=-4.50982955925142, pvalue=0.001125880142367611, df=10)\n",
    "# LxC_Replay_T_result: TtestResult(statistic=-0.4086778656072959, pvalue=0.6881937588138113, df=16)\n",
    "# SxC_Replay_T_result: TtestResult(statistic=-3.551930809035679, pvalue=0.0052513298000637825, df=10)\n",
    "\n",
    "\n",
    "\n",
    "# LxC_Replay_T_result is NOT p<0.05 significant (pvalue=0.6882)\n",
    "# SxC_Replay_T_result IS NOT p<0.05 significant (pvalue=0.0052513298000637825)"
   ]
  },
  {
   "cell_type": "code",
   "execution_count": null,
   "metadata": {},
   "outputs": [],
   "source": [
    "from pyphoplacecellanalysis.SpecificResults.PhoDiba2023Paper import PaperFigureTwo\n",
    "from pyphoplacecellanalysis.SpecificResults.AcrossSessionResults import AcrossSessionsVisualizations\n",
    "\n",
    "# %matplotlib inline \n",
    "# %matplotlib qt5\n",
    "## Plotting:\n",
    "graphics_output_dict = {}\n",
    "\n",
    "matplotlib_configuration_update(is_interactive=True, backend='Qt5Agg')\n",
    "\n",
    "## 2023-10-04 - Run `AcrossSessionsVisualizations` corresponding to the PhoDibaPaper2023 figures for all sessions\n",
    "## Hacks the `PaperFigureTwo` and `InstantaneousSpikeRateGroupsComputation`\n",
    "global_multi_session_context, _out_aggregate_fig_2 = AcrossSessionsVisualizations.across_sessions_bar_graphs(across_session_inst_fr_computation, num_sessions=num_sessions, enable_tiny_point_labels=False, enable_hover_labels=False, enabled_point_connection_lines=True, save_figure=False)\n"
   ]
  },
  {
   "cell_type": "code",
   "execution_count": null,
   "metadata": {},
   "outputs": [],
   "source": [
    "plt.show()\n"
   ]
  },
  {
   "cell_type": "code",
   "execution_count": null,
   "metadata": {},
   "outputs": [],
   "source": [
    "across_session_inst_fr_computation.get_summary_dataframe()"
   ]
  },
  {
   "cell_type": "markdown",
   "metadata": {},
   "source": [
    "### 2024-09-10 - TODO: Filter out the datapoints from the bar plot corresponding to the novel vs. non-novel sessions"
   ]
  },
  {
   "cell_type": "code",
   "execution_count": null,
   "metadata": {},
   "outputs": [],
   "source": [
    "import re\n",
    "from typing import List, Tuple\n",
    "from pyphoplacecellanalysis.SpecificResults.AcrossSessionResults import ConciseSessionIdentifiers\n",
    "\n",
    "# `across_session_inst_fr_computation.Fig2_Replay_FR`\n",
    "\n",
    "novel_Fig2_Replay_FR = deepcopy(across_session_inst_fr_computation.Fig2_Replay_FR)\n",
    "non_novel_Fig2_Replay_FR = deepcopy(across_session_inst_fr_computation.Fig2_Replay_FR)\n",
    "\n",
    "# [0] and [1] both only use LxC_aclus\n",
    "LxC_aclus = deepcopy(across_session_inst_fr_computation.Fig2_Replay_FR[0].LxC_aclus.tolist()) # ['a0s0_109', 'a0s1_3', 'a0s1_29', 'a0s1_103', 'a0s3_90', 'a0s4_91', 'a0s4_95', 'a1s1_23', 'a1s2_25', 'a1s3_14', 'a1s3_30', 'a1s3_32', 'a2s0_8', 'a2s0_27', 'a2s1_27']\n",
    "_LxC_aclus_alt = deepcopy(across_session_inst_fr_computation.Fig2_Replay_FR[1].LxC_aclus.tolist()) # ['a0s0_109', 'a0s1_3', 'a0s1_29', 'a0s1_103', 'a0s3_90', 'a0s4_91', 'a0s4_95', 'a1s1_23', 'a1s2_25', 'a1s3_14', 'a1s3_30', 'a1s3_32', 'a2s0_8', 'a2s0_27', 'a2s1_27']\n",
    "assert _LxC_aclus_alt == LxC_aclus\n",
    "\n",
    "# [2] and [3] both only use SxC_aclus\n",
    "SxC_aclus = deepcopy(across_session_inst_fr_computation.Fig2_Replay_FR[2].SxC_aclus.tolist()) # ['a0s0_109', 'a0s1_3', 'a0s1_29', 'a0s1_103', 'a0s3_90', 'a0s4_91', 'a0s4_95', 'a1s1_23', 'a1s2_25', 'a1s3_14', 'a1s3_30', 'a1s3_32', 'a2s0_8', 'a2s0_27', 'a2s1_27']\n",
    "_SxC_aclus_alt = deepcopy(across_session_inst_fr_computation.Fig2_Replay_FR[3].SxC_aclus.tolist()) # ['a0s0_109', 'a0s1_3', 'a0s1_29', 'a0s1_103', 'a0s3_90', 'a0s4_91', 'a0s4_95', 'a1s1_23', 'a1s2_25', 'a1s3_14', 'a1s3_30', 'a1s3_32', 'a2s0_8', 'a2s0_27', 'a2s1_27']\n",
    "assert _SxC_aclus_alt == SxC_aclus\n",
    "\n",
    "parsed_LxC_aclus_df: pd.DataFrame = ConciseSessionIdentifiers.parse_concise_abbreviated_neuron_identifying_strings(LxC_aclus)\n",
    "# parsed_LxC_aclus_df\n",
    "\n",
    "parsed_SxC_aclus_df: pd.DataFrame = ConciseSessionIdentifiers.parse_concise_abbreviated_neuron_identifying_strings(SxC_aclus)\n",
    "# parsed_SxC_aclus_df\n",
    "\n",
    "# novel_LxC_indicies, non_novel_LxC_indicies = \n",
    "# partition_df(parsed_LxC_aclus_df, partitionColumn='is_session_novel')\n",
    "# partition_df(parsed_SxC_aclus_df, partitionColumn='is_session_novel')\n",
    "\n",
    "novel_LxC_indicies = np.where(parsed_LxC_aclus_df['is_session_novel'])[0]\n",
    "non_novel_LxC_indicies = np.where(np.logical_not(parsed_LxC_aclus_df['is_session_novel']))[0]\n",
    "\n",
    "(novel_LxC_indicies, non_novel_LxC_indicies)\n",
    "\n",
    "novel_SxC_indicies = np.where(parsed_SxC_aclus_df['is_session_novel'])[0]\n",
    "non_novel_SxC_indicies = np.where(np.logical_not(parsed_SxC_aclus_df['is_session_novel']))[0]\n",
    "\n",
    "(novel_SxC_indicies, non_novel_SxC_indicies)\n",
    "\n",
    "## OUTPUTS: (novel_LxC_indicies, non_novel_LxC_indicies), (novel_SxC_indicies, non_novel_SxC_indicies)\n",
    "curr_idx: int = 0\n",
    "novel_Fig2_Replay_FR[curr_idx].LxC_aclus = novel_Fig2_Replay_FR[curr_idx].LxC_aclus[novel_LxC_indicies]\n",
    "novel_Fig2_Replay_FR[curr_idx].values = novel_Fig2_Replay_FR[curr_idx].values[novel_LxC_indicies]\n",
    "curr_idx: int = 1\n",
    "novel_Fig2_Replay_FR[curr_idx].LxC_aclus = novel_Fig2_Replay_FR[curr_idx].LxC_aclus[novel_LxC_indicies]\n",
    "novel_Fig2_Replay_FR[curr_idx].values = novel_Fig2_Replay_FR[curr_idx].values[novel_LxC_indicies]\n",
    "curr_idx: int = 2\n",
    "novel_Fig2_Replay_FR[curr_idx].SxC_aclus = novel_Fig2_Replay_FR[curr_idx].SxC_aclus[novel_SxC_indicies]\n",
    "novel_Fig2_Replay_FR[curr_idx].values = novel_Fig2_Replay_FR[curr_idx].values[novel_SxC_indicies]\n",
    "curr_idx: int = 3\n",
    "novel_Fig2_Replay_FR[curr_idx].SxC_aclus = novel_Fig2_Replay_FR[curr_idx].SxC_aclus[novel_SxC_indicies]\n",
    "novel_Fig2_Replay_FR[curr_idx].values = novel_Fig2_Replay_FR[curr_idx].values[novel_SxC_indicies]\n",
    "\n",
    "across_session_inst_fr_computation.Fig2_Replay_FR = novel_Fig2_Replay_FR"
   ]
  },
  {
   "cell_type": "code",
   "execution_count": null,
   "metadata": {},
   "outputs": [],
   "source": [
    "global_multi_session_context, _out_aggregate_fig_2 = AcrossSessionsVisualizations.across_sessions_bar_graphs(across_session_inst_fr_computation, num_sessions=num_sessions, enable_tiny_point_labels=True, enable_hover_labels=False, save_figure=False)"
   ]
  },
  {
   "cell_type": "code",
   "execution_count": null,
   "metadata": {},
   "outputs": [],
   "source": [
    "## group by 'is_novel_exposure'\n",
    "## for `long_short_fr_indicies_analysis_table`\n",
    "is_novel_partitioned_dfs = dict(zip(*partition_df(long_short_fr_indicies_analysis_table, partitionColumn='is_novel_exposure')))\n",
    "novel_session_uids = is_novel_partitioned_dfs[True]['session_uid'].unique().tolist()\n",
    "non_novel_session_uids = is_novel_partitioned_dfs[False]['session_uid'].unique().tolist()\n",
    "## build dicts:\n",
    "novel_only_inst_fr_dict = {k:v for k, v in across_sessions_instantaneous_fr_dict.items() if k.get_description(separator='|') in novel_session_uids}\n",
    "non_novel_inst_fr_dict = {k:v for k, v in across_sessions_instantaneous_fr_dict.items() if k.get_description(separator='|') not in novel_session_uids}\n",
    "# novel_only_inst_fr_dict"
   ]
  },
  {
   "cell_type": "code",
   "execution_count": null,
   "metadata": {},
   "outputs": [],
   "source": [
    "# all\n",
    "# graphics_output_dict |= AcrossSessionsVisualizations.across_sessions_firing_rate_index_figure(long_short_fr_indicies_analysis_results=long_short_fr_indicies_analysis_table, num_sessions=num_sessions, save_figure=False)\n",
    "# split based on session novelty:\n",
    "graphics_output_dict |= AcrossSessionsVisualizations.across_sessions_firing_rate_index_figure(long_short_fr_indicies_analysis_results=is_novel_partitioned_dfs[True], num_sessions=len(novel_session_uids), save_figure=False)\n",
    "graphics_output_dict |= AcrossSessionsVisualizations.across_sessions_firing_rate_index_figure(long_short_fr_indicies_analysis_results=is_novel_partitioned_dfs[False], num_sessions=len(non_novel_session_uids), save_figure=False)\n"
   ]
  },
  {
   "cell_type": "code",
   "execution_count": null,
   "metadata": {},
   "outputs": [],
   "source": [
    "graphics_output_dict |= AcrossSessionsVisualizations.across_sessions_long_and_short_firing_rate_replays_v_laps_figure(neuron_replay_stats_table=neuron_replay_stats_table, num_sessions=num_sessions, save_figure=True)\n"
   ]
  },
  {
   "cell_type": "code",
   "execution_count": null,
   "metadata": {},
   "outputs": [],
   "source": [
    "## Aggregate across all of the sessions to build a new combined `InstantaneousSpikeRateGroupsComputation`, which can be used to plot the \"PaperFigureTwo\", bar plots for many sessions.\n",
    "global_multi_session_context = IdentifyingContext(format_name='kdiba', num_sessions=num_sessions) # some global context across all of the sessions, not sure what to put here.\n",
    "\n"
   ]
  },
  {
   "cell_type": "code",
   "execution_count": null,
   "metadata": {},
   "outputs": [],
   "source": [
    "_restore_previous_matplotlib_settings_callback = matplotlib_configuration_update(is_interactive=True, backend='Qt5Agg')\n",
    "# _restore_previous_matplotlib_settings_callback = matplotlib_configuration_update(is_interactive=False, backend='AGG')\n",
    "\n",
    "plt.show()\n"
   ]
  },
  {
   "cell_type": "code",
   "execution_count": null,
   "metadata": {},
   "outputs": [],
   "source": [
    "plt.close('all')    "
   ]
  },
  {
   "cell_type": "code",
   "execution_count": null,
   "metadata": {
    "tags": [
     "diagonal-histogram"
    ]
   },
   "outputs": [],
   "source": [
    "np.sqrt(2)"
   ]
  },
  {
   "cell_type": "code",
   "execution_count": null,
   "metadata": {
    "tags": [
     "diagonal-histogram"
    ]
   },
   "outputs": [],
   "source": [
    "\n",
    "# ax_histdiagonal.\n",
    "\n"
   ]
  },
  {
   "cell_type": "code",
   "execution_count": null,
   "metadata": {
    "tags": [
     "diagonal-histogram"
    ]
   },
   "outputs": [],
   "source": [
    "max_num_bins = np.max(diagonal_hist_artist[0])\n",
    "max_num_bins\n",
    "# diagonal_hist_artist[1]"
   ]
  },
  {
   "cell_type": "code",
   "execution_count": null,
   "metadata": {},
   "outputs": [],
   "source": [
    "\n",
    "matplotlib_configuration_update(is_interactive=True, backend='Qt5Agg')\n",
    "matplotlib_output_container: MatplotlibRenderPlots = AcrossSessionsVisualizations.across_sessions_firing_rate_index_figure(long_short_fr_indicies_analysis_results=long_short_fr_indicies_analysis_table, num_sessions=num_sessions, save_figure=False)"
   ]
  },
  {
   "cell_type": "code",
   "execution_count": null,
   "metadata": {},
   "outputs": [],
   "source": [
    "duplicates = long_short_fr_indicies_analysis_table[['x_frs_index', 'y_frs_index']].duplicated().sum()\n",
    "print(f\"Number of duplicate rows: {duplicates}\")\n"
   ]
  },
  {
   "cell_type": "code",
   "execution_count": null,
   "metadata": {},
   "outputs": [],
   "source": [
    "print(long_short_fr_indicies_analysis_table[['x_frs_index', 'y_frs_index']].std())\n"
   ]
  },
  {
   "cell_type": "code",
   "execution_count": null,
   "metadata": {},
   "outputs": [],
   "source": [
    "\n",
    "# long_short_fr_indicies_analysis_table[['x_frs_index']].corrwith(long_short_fr_indicies_analysis_table['y_frs_index']) # long_short_fr_indicies_analysis_table[['x_frs_index']].corrwith(long_short_fr_indicies_analysis_table['y_frs_index'])\n",
    "# Compute correlation and p-value\n",
    "df_cleaned: pd.DataFrame = long_short_fr_indicies_analysis_table[['x_frs_index', 'y_frs_index']].dropna()\n",
    "df_cleaned\n",
    "\n",
    "print(df_cleaned.shape)\n",
    "corr, p_value = pearsonr(df_cleaned['x_frs_index'], df_cleaned['y_frs_index'])\n",
    "print(f\"Correlation: {corr}, P-value: {p_value}\")\n",
    "# Correlation: 0.48548405144431905, P-value: 1.0243398539233502e-48\n",
    "\n"
   ]
  },
  {
   "cell_type": "code",
   "execution_count": null,
   "metadata": {
    "tags": [
     "remove-input"
    ]
   },
   "outputs": [],
   "source": [
    "plt.close('all')"
   ]
  },
  {
   "cell_type": "code",
   "execution_count": null,
   "metadata": {
    "tags": [
     "remove-input"
    ]
   },
   "outputs": [],
   "source": [
    "graphics_output_dict.saved_figures[0][0] #.plot_data['saved_figures']"
   ]
  },
  {
   "cell_type": "code",
   "execution_count": null,
   "metadata": {
    "tags": [
     "remove-input"
    ]
   },
   "outputs": [],
   "source": [
    "from pyphocorehelpers.plotting.media_output_helpers import fig_to_clipboard\n",
    "\n",
    "fig_to_clipboard(fig)\n"
   ]
  },
  {
   "cell_type": "code",
   "execution_count": null,
   "metadata": {
    "tags": [
     "remove-input"
    ]
   },
   "outputs": [],
   "source": [
    "# copy_image_to_clipboard(graphics_output_dict['figures'][0])\n",
    "fig_to_clipboard(matplotlib_output_container.figures[0])"
   ]
  },
  {
   "cell_type": "code",
   "execution_count": null,
   "metadata": {},
   "outputs": [],
   "source": [
    "matplotlib_configuration_update(is_interactive=True, backend='Qt5Agg')\n",
    "graphics_output_dict = AcrossSessionsVisualizations.across_sessions_long_and_short_firing_rate_replays_v_laps_figure(neuron_replay_stats_table=neuron_replay_stats_table, num_sessions=num_sessions)"
   ]
  },
  {
   "cell_type": "code",
   "execution_count": null,
   "metadata": {},
   "outputs": [],
   "source": [
    "_save_matplotlib_fig(graphics_output_dict)\n"
   ]
  },
  {
   "cell_type": "code",
   "execution_count": null,
   "metadata": {
    "tags": [
     "remove-input"
    ]
   },
   "outputs": [],
   "source": [
    "## Load the saved across-session results:\n",
    "# Outputs: across_session_inst_fr_computation, across_sessions_instantaneous_fr_dict, across_sessions_instantaneous_frs_list, neuron_identities_table, long_short_fr_indicies_analysis_table, neuron_replay_stats_table\n",
    "\n",
    "BATCH_DATE_TO_USE = f'2024-10-22'\n",
    "inst_fr_output_filename: str = f'across_session_result_long_short_recomputed_inst_firing_rate_{BATCH_DATE_TO_USE}.pkl'\n",
    "\n",
    "inst_fr_output_file = collected_outputs_directory.joinpath(inst_fr_output_filename).resolve()\n",
    "Assert.path_exists(inst_fr_output_file)\n",
    "\n",
    "across_session_inst_fr_computation, across_sessions_instantaneous_fr_dict, across_sessions_instantaneous_frs_list = AcrossSessionsResults.load_across_sessions_data(global_data_root_parent_path=collected_outputs_directory, inst_fr_output_filename=inst_fr_output_filename)\n",
    "# across_sessions_instantaneous_fr_dict = loadData(global_batch_result_inst_fr_file_path)\n",
    "num_sessions = len(across_sessions_instantaneous_fr_dict)\n",
    "print(f'num_sessions: {num_sessions}')\n",
    "\n",
    "## Load all across-session tables from the pickles:\n",
    "output_path_suffix: str = f'{BATCH_DATE_TO_USE}'\n",
    "neuron_identities_table, long_short_fr_indicies_analysis_table, neuron_replay_stats_table = AcrossSessionTables.load_all_combined_tables(override_output_parent_path=collected_outputs_directory, output_path_suffix=output_path_suffix) # output_path_suffix=f'2023-10-04-GL-Recomp'\n",
    "num_sessions = len(neuron_replay_stats_table.session_uid.unique().to_numpy())\n",
    "print(f'num_sessions: {num_sessions}')\n",
    "# neuron_replay_stats_table\n"
   ]
  },
  {
   "cell_type": "code",
   "execution_count": null,
   "metadata": {},
   "outputs": [],
   "source": [
    "neptuner.stop()"
   ]
  },
  {
   "cell_type": "markdown",
   "metadata": {},
   "source": [
    "## 2024-09-04 - Batch Output Files"
   ]
  },
  {
   "cell_type": "code",
   "execution_count": null,
   "metadata": {
    "tags": [
     "file_output",
     "run_main"
    ]
   },
   "outputs": [],
   "source": [
    "from neuropy.core.user_annotations import UserAnnotationsManager\n",
    "from pyphocorehelpers.Filesystem.metadata_helpers import FilesystemMetadata, get_file_metadata\n",
    "from pyphocorehelpers.Filesystem.path_helpers import discover_data_files, generate_copydict, copy_movedict, copy_file, save_copydict_to_text_file, read_copydict_from_text_file, invert_filedict\n",
    "from pyphoplacecellanalysis.General.Batch.runBatch import get_file_str_if_file_exists\n",
    "from pyphoplacecellanalysis.SpecificResults.AcrossSessionResults import check_output_h5_files, copy_files_in_filelist_to_dest\n",
    "from pyphoplacecellanalysis.General.Batch.runBatch import ConcreteSessionFolder, BackupMethods\n",
    "\n",
    "debug_print = False\n",
    "known_global_data_root_parent_paths = [Path(r'/nfs/turbo/umms-kdiba/Data'), Path(r'W:\\Data'), Path(r'/home/halechr/cloud/turbo/Data'), Path(r'/media/halechr/MAX/Data'), Path(r'/Volumes/MoverNew/data')] # , Path(r'/home/halechr/FastData'), Path(r'/home/halechr/turbo/Data'), Path(r'W:\\Data'), Path(r'/home/halechr/cloud/turbo/Data')\n",
    "global_data_root_parent_path = find_first_extant_path(known_global_data_root_parent_paths)\n",
    "assert global_data_root_parent_path.exists(), f\"global_data_root_parent_path: {global_data_root_parent_path} does not exist! Is the right computer's config commented out above?\"\n",
    "## Build Pickle Path:\n",
    "# Hardcoded included_session_contexts:\n",
    "included_session_contexts = UserAnnotationsManager.get_hardcoded_good_sessions()\n",
    "good_session_concrete_folders = ConcreteSessionFolder.build_concrete_session_folders(global_data_root_parent_path, included_session_contexts)\n",
    "\n",
    "# Output Paths:\n",
    "included_h5_paths = [get_file_str_if_file_exists(v.pipeline_results_h5) for v in good_session_concrete_folders]\n",
    "# copy_dict = ConcreteSessionFolder.build_backup_copydict(good_session_concrete_folders, backup_mode=BackupMethods.RenameInSourceDirectory, only_include_file_types=['local_pkl', 'global_pkl'])\n",
    "check_output_h5_files(included_h5_paths)\n",
    "\n",
    "## OUTPUTS: included_h5_paths, included_session_contexts, good_session_concrete_folders\n",
    "\n",
    "included_h5_paths\n",
    "\n",
    "# included_file_types_paths_dict = {'h5': included_h5_paths, 'recomputed_inst_fr_comps': []}\n",
    "# included_file_types_paths_dict['recomputed_inst_fr_comps'] = [get_file_path_if_file_exists(v.output_folder.joinpath(f'{RESULT_DATE_TO_USE}_recomputed_inst_fr_comps_0.0005.h5').resolve()) for v in good_session_concrete_folders]\n",
    "# included_file_types_paths_dict\n"
   ]
  },
  {
   "cell_type": "markdown",
   "metadata": {},
   "source": [
    "# Plotting via Plotly\n",
    "`!pip install kaleido==\"v0.1.0.post1\" `"
   ]
  },
  {
   "cell_type": "code",
   "execution_count": null,
   "metadata": {
    "tags": [
     "plotly-figure",
     "active-2024-10-23",
     "best",
     "run_main",
     "run_fat"
    ]
   },
   "outputs": [],
   "source": [
    "from functools import partial\n",
    "from pyphoplacecellanalysis.Pho2D.plotly.Extensions.plotly_helpers import add_copy_save_action_buttons\n",
    "from pyphoplacecellanalysis.Pho2D.plotly.Extensions.plotly_helpers import plotly_pre_post_delta_scatter\n",
    "from pyphoplacecellanalysis.SpecificResults.PhoDiba2023Paper import _perform_plot_pre_post_delta_scatter\n",
    "from neuropy.utils.result_context import DisplaySpecifyingIdentifyingContext\n",
    "from pyphoplacecellanalysis.Pho2D.plotly.Extensions.plotly_helpers import PlotlyFigureContainer\n",
    "\n",
    "## INPUTS: earliest_delta_aligned_t_start, latest_delta_aligned_t_end\n",
    "is_dark_mode, template = PlotlyHelpers.get_plotly_template(is_dark_mode=False)\n",
    "# should_save: bool = True\n",
    "should_save: bool = False\n",
    "\n",
    "\n",
    "_perform_plot_pre_post_delta_scatter = partial(\n",
    "    _perform_plot_pre_post_delta_scatter,\n",
    "    time_delta_tuple=(earliest_delta_aligned_t_start, 0.0, latest_delta_aligned_t_end),\n",
    "    fig_size_kwargs=fig_size_kwargs,\n",
    "    is_dark_mode=is_dark_mode,\n",
    "    save_plotly=save_plotly,\n",
    "    legend_groups_to_hide=['0.03', '0.044',],\n",
    ")\n",
    "\n",
    "_perform_plot_pre_post_delta_scatter_with_embedded_context = partial(\n",
    "    _perform_plot_pre_post_delta_scatter,\n",
    "    data_context=None,\n",
    ")\n",
    "\n",
    "## Set dataframe context metadata\n",
    "\n",
    "def _perform_update_df_context_metadata(data_context: IdentifyingContext, concatenated_ripple_df: pd.DataFrame):\n",
    "    \"\"\" sets the metadata in-place for the dataframe \"\"\"\n",
    "    if concatenated_ripple_df is None:\n",
    "        print(f'WARN: dataframe passed is None! Attempted context: {data_context}. Skipping.')\n",
    "        return\n",
    "    concatenated_ripple_df.attrs.update(**dict(data_context=deepcopy(data_context)))\n",
    "    \n",
    "\n",
    "_perform_update_df_context_metadata(data_context = IdentifyingContext(epochs_name='laps', data_grain='per_epoch', title_prefix=\"Lap Per Epoch\", dataframe_name='df'), concatenated_ripple_df=all_sessions_laps_df)\n",
    "_perform_update_df_context_metadata(data_context = IdentifyingContext(epochs_name='laps', data_grain='per_time_bin', title_prefix=\"Lap Individual Time Bins\", dataframe_name='time_bin_df'), concatenated_ripple_df=all_sessions_laps_time_bin_df)\n",
    "_perform_update_df_context_metadata(data_context = IdentifyingContext(epochs_name='PBE', data_grain='per_epoch', title_prefix=\"PBE Per Epoch\", dataframe_name='df'), concatenated_ripple_df = all_sessions_ripple_df)\n",
    "_perform_update_df_context_metadata(data_context = IdentifyingContext(epochs_name='PBE', data_grain='per_time_bin', title_prefix=\"PBE Individual Time Bins\", dataframe_name='time_bin_df'), concatenated_ripple_df = all_sessions_ripple_time_bin_df)\n",
    "_perform_update_df_context_metadata(data_context = IdentifyingContext(epochs_name='PBE', data_grain='per_epoch', dataframe_name='MultiMeasure_ripple_df', title_prefix=\"multiMeasure - PBE Per Epoch\"), concatenated_ripple_df = all_sessions_MultiMeasure_ripple_df)\n",
    "_perform_update_df_context_metadata(data_context = IdentifyingContext(epochs_name='PBE', data_grain='per_epoch', dataframe_name='all_scores_ripple_df', title_prefix=\"allScores - PBE Per Epoch\"), concatenated_ripple_df = all_sessions_all_scores_ripple_df)\n",
    "_perform_update_df_context_metadata(data_context = IdentifyingContext(epochs_name='laps', data_grain='per_epoch', dataframe_name='MultiMeasure_laps_df', title_prefix=\"multiMeasure - Lap Per Epoch\"), concatenated_ripple_df = all_sessions_MultiMeasure_laps_df)\n",
    "\n",
    "\n",
    "# all_sessions_MultiMeasure_ripple_df.attrs\n"
   ]
  },
  {
   "cell_type": "code",
   "execution_count": null,
   "metadata": {},
   "outputs": [],
   "source": [
    "all_sessions_laps_time_bin_df"
   ]
  },
  {
   "cell_type": "markdown",
   "metadata": {},
   "source": [
    "# Unfiltered"
   ]
  },
  {
   "cell_type": "code",
   "execution_count": null,
   "metadata": {
    "tags": [
     "plotly-figure"
    ]
   },
   "outputs": [],
   "source": [
    "\n",
    "\n",
    "# grainularity_desc: str = 'by-time-bin'\n",
    "# laps_df: pd.DataFrame = all_sessions_laps_time_bin_df\n",
    "# ripple_df: pd.DataFrame = all_sessions_ripple_time_bin_df\n",
    "# _laps_histogram_out, _ripple_histogram_out = _perform_plot_pre_post_delta_scatter(grainularity_desc='by-time-bin', laps_df=all_sessions_laps_time_bin_df, ripple_df=all_sessions_ripple_time_bin_df)\n",
    "\n",
    "# ==================================================================================================================== #\n",
    "# Produces all four hist/scatter/hist plotly figures with clear labels in one call                                     #\n",
    "# ==================================================================================================================== #\n",
    "\n",
    "# BEGIN CALL _________________________________________________________________________________________________________ #\n",
    "new_fig, new_fig_context, _extras_output_dict, figure_out_paths = _perform_plot_pre_post_delta_scatter(data_context=IdentifyingContext(epochs_name='laps', data_grain='per_epoch', title_prefix=\"Lap Per Epoch\", dataframe_name='df'), concatenated_ripple_df=deepcopy(all_sessions_laps_df))\n",
    "\n",
    "new_fig, new_fig_context, _extras_output_dict, figure_out_paths = _perform_plot_pre_post_delta_scatter(data_context=IdentifyingContext(epochs_name='laps', data_grain='per_time_bin', title_prefix=\"Lap Individual Time Bins\", dataframe_name='time_bin_df'), concatenated_ripple_df=deepcopy(all_sessions_laps_time_bin_df))\n",
    "\n",
    "new_fig, new_fig_context, _extras_output_dict, figure_out_paths = _perform_plot_pre_post_delta_scatter(data_context = IdentifyingContext(epochs_name='PBE', data_grain='per_epoch', title_prefix=\"PBE Per Epoch\", dataframe_name='df'), concatenated_ripple_df = deepcopy(all_sessions_ripple_df))\n",
    "\n",
    "new_fig, new_fig_context, _extras_output_dict, figure_out_paths = _perform_plot_pre_post_delta_scatter(data_context = IdentifyingContext(epochs_name='PBE', data_grain='per_time_bin', title_prefix=\"PBE Individual Time Bins\", dataframe_name='time_bin_df'), concatenated_ripple_df = deepcopy(all_sessions_ripple_time_bin_df))\n",
    "\n"
   ]
  },
  {
   "cell_type": "code",
   "execution_count": null,
   "metadata": {},
   "outputs": [],
   "source": [
    "all_sessions_all_scores_ripple_df # 3161 x 175 (good) vs. 24142 rows × 188 column (bad)"
   ]
  },
  {
   "cell_type": "code",
   "execution_count": null,
   "metadata": {},
   "outputs": [],
   "source": [
    "all_sessions_all_scores_ripple_df['long_best_continuous_seq_sort'].notna().sum() ## 412 good events, that seems very low\n"
   ]
  },
  {
   "cell_type": "markdown",
   "metadata": {},
   "source": [
    "# 🟢 Filtered (for specific qclus/firing_Hz/replays"
   ]
  },
  {
   "cell_type": "code",
   "execution_count": null,
   "metadata": {
    "tags": [
     "run-filtered-main"
    ]
   },
   "outputs": [],
   "source": [
    "from pyphoplacecellanalysis.SpecificResults.AcrossSessionResults import AcrossSessionIdentityDataframeAccessor\n",
    "\n",
    "# # df_results = [_add_animal_name_to_session_key(df=deepcopy(v)) for v in df_results]\n",
    "\n",
    "# df = df.across_session_identity.split_session_key_col_to_fmt_animal_exper_cols(session_key_col='session_name')\n",
    "# all_sessions_laps_time_bin_df\n",
    "\n",
    "# df_results = [_add_animal_name_to_session_key(df=deepcopy(v)) for v in df_results]\n",
    "\n",
    "# all_sessions_all_scores_ripple_df, all_sessions_MultiMeasure_ripple_df, all_sessions_ripple_df, all_sessions_ripple_time_bin_df, all_sessions_laps_df, all_sessions_laps_time_bin_df = [    \n",
    "#     df.across_session_identity.split_session_key_col_to_fmt_animal_exper_cols(session_key_col='session_name')\n",
    "#     for df in [all_sessions_all_scores_ripple_df, all_sessions_MultiMeasure_ripple_df, all_sessions_ripple_df, all_sessions_ripple_time_bin_df, all_sessions_laps_df, all_sessions_laps_time_bin_df]]\n",
    "\n",
    "\n",
    "all_sessions_all_scores_ripple_df = all_sessions_all_scores_ripple_df.across_session_identity.split_session_key_col_to_fmt_animal_exper_cols(session_key_col='session_name')\n",
    "\n",
    "all_sessions_all_scores_ripple_df\n",
    "# all_sessions_all_scores_ripple_df = _add_animal_name_to_session_key(df=deepcopy(all_sessions_all_scores_ripple_df))\n",
    "# all_sessions_MultiMeasure_ripple_df = _add_animal_name_to_session_key(df=deepcopy(all_sessions_MultiMeasure_ripple_df))\n",
    "# all_sessions_ripple_df = _add_animal_name_to_session_key(df=deepcopy(all_sessions_ripple_df))\n",
    "# all_sessions_ripple_time_bin_df = _add_animal_name_to_session_key(df=deepcopy(all_sessions_ripple_time_bin_df))\n",
    "# all_sessions_laps_df = _add_animal_name_to_session_key(df=deepcopy(all_sessions_laps_df))\n",
    "# all_sessions_laps_time_bin_df = _add_animal_name_to_session_key(df=deepcopy(all_sessions_laps_time_bin_df))\n",
    "# # # all_sessions_all_scores_ripple_df"
   ]
  },
  {
   "cell_type": "code",
   "execution_count": null,
   "metadata": {},
   "outputs": [],
   "source": [
    "df = deepcopy(all_sessions_all_scores_ripple_df)\n",
    "# all_sessions_all_scores_ripple_df['ratio_jump_valid_bins_long_LR'].notna()\n",
    "\n",
    "## sequentially decoded bins should be offsets of the posterior in the previous time-bin. Find maximal position offset difference of the two posteriors\n",
    "\n",
    "\n",
    "# df = df[df['best_overall_ratio_jump_valid_bins'] & (df['best_overall_ratio_jump_valid_bins'] >= 0.75)]\n",
    "df = df[(df['best_overall_ratio_jump_valid_bins'] >= 0.75)]\n",
    "df\n",
    "\n",
    "\n"
   ]
  },
  {
   "cell_type": "markdown",
   "metadata": {},
   "source": [
    "## Get filtered for a particular type of replay:"
   ]
  },
  {
   "cell_type": "code",
   "execution_count": null,
   "metadata": {},
   "outputs": [],
   "source": [
    "# all_sessions_all_scores_ripple_df['time_bin_size']\n",
    "\n",
    "all_sessions_all_scores_ripple_df\n",
    "# all_sessions_all_scores_ripple_df['best_overall_ratio_jump_valid_bins']\n",
    "\n",
    "# all_sessions_all_scores_ripple_df['long_best_continuous_seq_sort'].isna .sum()"
   ]
  },
  {
   "cell_type": "code",
   "execution_count": null,
   "metadata": {},
   "outputs": [],
   "source": [
    "_temp_df = deepcopy(all_sessions_all_scores_ripple_df.dropna(axis='index', subset=['overall_best_continuous_seq_sort'], inplace=False))\n",
    "\n",
    "_temp_df = _temp_df[_temp_df['overall_best_continuous_seq_sort'] > 0.95] # 274 rows \n",
    "_temp_df # 1049\n",
    "\n",
    "_temp_df['custom_replay_name'].unique() # ['']\n",
    "_temp_df['time_bin_size'].unique() # ['0.025']\n"
   ]
  },
  {
   "cell_type": "code",
   "execution_count": null,
   "metadata": {
    "tags": [
     "run-filtered-main",
     "run_main"
    ]
   },
   "outputs": [],
   "source": [
    "# pd.options.mode.copy_on_write = False\n",
    "# pd.options.mode.chained_assignment = 'raise'\n",
    "# pd.options.mode.chained_assignment = None\n",
    "from neuropy.utils.indexing_helpers import flatten, NumpyHelpers, PandasHelpers\n",
    "from pyphoplacecellanalysis.SpecificResults.PhoDiba2023Paper import DataFrameFilter\n",
    "\n",
    "\n",
    "# if 'has_high_overall_ratio_jump_valid_bins' not in all_sessions_all_scores_ripple_df.columns:\n",
    "## create the column if needed:\n",
    "# np.logical_and((df['custom_replay_name'].notna()), (df['time_bin_size'].isin(time_bin_sizes)))\n",
    "\n",
    "if ('long_best_continuous_seq_sort' in all_sessions_all_scores_ripple_df) and ('short_best_continuous_seq_sort' in all_sessions_all_scores_ripple_df):\n",
    "    all_sessions_all_scores_ripple_df['overall_best_continuous_seq_sort'] = all_sessions_all_scores_ripple_df[['long_best_continuous_seq_sort', 'short_best_continuous_seq_sort']].max(axis=1, skipna=True)\n",
    "else:\n",
    "    # raise NotImplementedError(f'missing \"long_best_continuous_seq_sort\" column')\n",
    "    print(f'missing \"long_best_continuous_seq_sort\" column')\n",
    "\n",
    "if 'best_overall_ratio_jump_valid_bins' in all_sessions_all_scores_ripple_df:\n",
    "    all_sessions_all_scores_ripple_df['best_overall_ratio_jump_valid_bins'] = all_sessions_all_scores_ripple_df['best_overall_ratio_jump_valid_bins'].fillna(0.0)\n",
    "    all_sessions_all_scores_ripple_df['has_high_overall_ratio_jump_valid_bins'] = np.logical_and((all_sessions_all_scores_ripple_df['best_overall_ratio_jump_valid_bins'].notna()), (all_sessions_all_scores_ripple_df['best_overall_ratio_jump_valid_bins'] >= 0.75))\n",
    "    # all_sessions_all_scores_ripple_df['has_high_overall_ratio_jump_valid_bins'].replace(np.nan, False) ## replace NaNs\n",
    "        \n",
    "    # all_sessions_all_scores_ripple_df['has_high_overall_ratio_jump_valid_bins'].dtype\n",
    "    assert all_sessions_all_scores_ripple_df['has_high_overall_ratio_jump_valid_bins'].isna().sum() == 0, f\"should have NO np.nan values!\"\n",
    "    # assert 'best_overall_ratio_jump_valid_bins' in all_sessions_MultiMeasure_ripple_df\n",
    "\n",
    "    _temp_filtered_all_sessions_all_scores_ripple_df = deepcopy(all_sessions_all_scores_ripple_df)[all_sessions_all_scores_ripple_df['has_high_overall_ratio_jump_valid_bins']]\n",
    "    _temp_filtered_all_sessions_all_scores_ripple_df\n",
    "\n",
    "\n",
    "min_wcorr_threshold: float = 0.7\n",
    "high_pearsonr_threshold: float = 0.9\n",
    "high_shuffle_score_threshold: float = 0.9\n",
    "high_shuffle_wcorr_z_score_threshold: float = 0.9\n",
    "# minimum_duration_event_threshold: float = 0.025 * 5 # at least 4 time bins\n",
    "minimum_duration_event_threshold: float = 0.058 * 5 # at least 4 time bins\n",
    "\n",
    "additional_filter_predicates = {\n",
    "    # 'high_wcorr': (lambda df: np.any((df[['long_best_wcorr', 'short_best_wcorr']].abs() > min_wcorr_threshold), axis=1)),\n",
    "    'user_selected': lambda df: np.all((df[['is_user_annotated_epoch', 'is_valid_epoch']]), axis=1),\n",
    "    # 'high_pearsonr_corr': (lambda df: np.any((df[['long_LR_pf_peak_x_pearsonr', 'long_RL_pf_peak_x_pearsonr', 'short_LR_pf_peak_x_pearsonr', 'short_RL_pf_peak_x_pearsonr']].abs() > high_pearsonr_threshold), axis=1)),\n",
    "\t'long_duration':  (lambda df: (df['duration'] >= minimum_duration_event_threshold)),\n",
    "}\n",
    "\n",
    "\n",
    "if 'best_overall_quantile' in all_sessions_all_scores_ripple_df:\n",
    "    assert 'best_overall_quantile' in all_sessions_all_scores_ripple_df\n",
    "    assert 'best_overall_quantile' in all_sessions_MultiMeasure_ripple_df\n",
    "\n",
    "    additional_filter_predicates.update({\n",
    "        'high_shuffle_percentile_score': (lambda df: (df['best_overall_quantile'].abs() > high_shuffle_score_threshold)),\n",
    "        'high_shuffle_wcorr_z_score': (lambda df: (df['best_overall_wcorr_z'].abs() > high_shuffle_wcorr_z_score_threshold)),\n",
    "    })\n",
    "\n",
    "\n",
    "if 'best_overall_ratio_jump_valid_bins' in all_sessions_all_scores_ripple_df:\n",
    "    additional_filter_predicates.update({\n",
    "        # 'good_jump': (lambda df: (df['overall_best_longest_sequence_length_ratio'].abs() > high_shuffle_score_threshold)),\n",
    "        # 'good_jump': (lambda df: (df['best_overall_ratio_jump_valid_bins'] >= 0.75)),\n",
    "        # 'good_jump': (lambda df: (df['has_high_overall_ratio_jump_valid_bins'] == True)), ## boolean\n",
    "    })\n",
    "    \n",
    "\n",
    "# 2024-12-16 - Fix ___________________________________________________________________________________________________ #\n",
    "filter_thresholds_dict = {'mseq_len_ignoring_intrusions': 5, #'mseq_len_ignoring_intrusions_and_repeats': 4,\n",
    "    'mseq_tcov': 0.35,\n",
    "}\n",
    "    \n",
    "additional_filter_predicates.update({\n",
    "    'high_main_seq_len': (lambda df: (NumpyHelpers.logical_and(*[(df[f'overall_best_{a_col_name}'] >= a_thresh) for a_col_name, a_thresh in filter_thresholds_dict.items()]))),\n",
    "    'low_main_seq_len': (lambda df: np.logical_not(NumpyHelpers.logical_and(*[(df[f'overall_best_{a_col_name}'] >= a_thresh) for a_col_name, a_thresh in filter_thresholds_dict.items()]))),})\n",
    "\n",
    "    \n",
    "# ['high_main_seq_len', 'low_main_seq_len']\n",
    "\n",
    "# 'high_shuffle_percentile_score': (lambda df: (df['best_overall_quantile'].abs() > high_shuffle_score_threshold)),\n",
    "#     'high_shuffle_wcorr_z_score': (lambda df: (df['best_overall_wcorr_z'].abs() > high_shuffle_wcorr_z_score_threshold)),\n",
    "# \t# 'good_jump': (lambda df: (df['overall_best_longest_sequence_length_ratio'].abs() > high_shuffle_score_threshold)),\n",
    "# \t# 'good_jump': (lambda df: (df['best_overall_ratio_jump_valid_bins'] >= 0.75)),\n",
    "#     # 'good_jump': (lambda df: (df['has_high_overall_ratio_jump_valid_bins'] == True)), ## boolean\n",
    "\n",
    "## ensure that the qclu is always before the frateThresh, reversing them if needed:\n",
    "replay_name: str = 'withNormalComputedReplays-qclu_[1, 2, 4, 6, 7, 9]-frateThresh_5.0'\n",
    "time_bin_size: float = 0.025\n",
    "# time_bin_size: float = 0.050\n",
    "# time_bin_size: Tuple[float] = (0.025, 0.058)\n",
    "\n",
    "\n",
    "# split_by_column: str = 'animal'\n",
    "split_by_kwargs: str = {\n",
    "    # 'color': 'session_name',\n",
    "    # 'color': 'animal',\n",
    "    # 'size': 'session_experience_rank', 'size_max': 10,\n",
    "    # 'size': 'duration', 'size_max': 10,\n",
    "}\n",
    "\n",
    "_build_filter_changed_plotly_plotting_callback_fn = DataFrameFilter._build_plot_callback(earliest_delta_aligned_t_start=earliest_delta_aligned_t_start, latest_delta_aligned_t_end=latest_delta_aligned_t_end, save_plotly=save_plotly,\n",
    "                                                                                          resolution_multiplier=resolution_multiplier,\n",
    "\t\t\t\t\t\t\t\t\t\t\t\t\t\t\t\t\t\t\t\t\t\t#   px_scatter_kwargs = {'symbol': 'session_name'},\n",
    "\t\t\t\t\t\t\t\t\t\t\t\t\t\t\t\t\t\t\t\t\t\t# px_scatter_kwargs = {'color': 'session_name', 'facet_row': 'time_bin_size'}, hist_kwargs = {'color': 'session_name', 'facet_row': 'time_bin_size'},\n",
    "\t\t\t\t\t\t\t\t\t\t\t\t\t\t\t\t\t\t\t\t\t\t# px_scatter_kwargs = {'color': 'session_name'}, hist_kwargs = {'color': 'session_name'}, ## Split by session_name\n",
    "                                            px_scatter_kwargs = {\n",
    "                                                # 'color': 'session_name',\n",
    "    \t\t\t\t\t\t\t\t\t\t    # 'size': 'session_experience_rank', 'size_max': 10,\n",
    "\t\t\t\t\t\t\t\t\t\t\t\t# 'size': 'duration', 'size_max': 10,\n",
    "                                                **split_by_kwargs,\n",
    "\t\t\t\t\t\t\t\t\t\t\t},\n",
    "\t\t\t\t\t\t\t\t\t\t\t hist_kwargs = {\n",
    "\t\t\t\t\t\t\t\t\t\t\t\t**split_by_kwargs,\n",
    "                                            }, ## Split by session_name\n",
    "\t\t\t\t\t\t\t\t\t\t\t\t\t\t\t\t\t\t\t\t\t\t  \n",
    ")\n",
    "\n",
    "df_filter: DataFrameFilter = DataFrameFilter(\n",
    "    # all_sessions_ripple_df=all_sessions_ripple_df,\n",
    "    # all_sessions_ripple_time_bin_df=all_sessions_ripple_time_bin_df,\n",
    "    # all_sessions_MultiMeasure_ripple_df=all_sessions_MultiMeasure_ripple_df,\n",
    "    # all_sessions_all_scores_ripple_df=all_sessions_all_scores_ripple_df,\n",
    "    # all_sessions_all_scores_ripple_df=_temp_filtered_all_sessions_all_scores_ripple_df,\n",
    "    # all_sessions_laps_df=all_sessions_laps_df,\n",
    "    # all_sessions_laps_time_bin_df=all_sessions_laps_time_bin_df,\n",
    "    # all_sessions_MultiMeasure_laps_df=all_sessions_MultiMeasure_laps_df,\n",
    "    \n",
    "\toriginal_df_dict=dict(\n",
    "        all_sessions_ripple_df=all_sessions_ripple_df,\n",
    "        all_sessions_ripple_time_bin_df=all_sessions_ripple_time_bin_df,\n",
    "        all_sessions_MultiMeasure_ripple_df=all_sessions_MultiMeasure_ripple_df,\n",
    "        all_sessions_all_scores_ripple_df=all_sessions_all_scores_ripple_df,\n",
    "        # all_sessions_all_scores_ripple_df=_temp_filtered_all_sessions_all_scores_ripple_df,\n",
    "        all_sessions_laps_df=all_sessions_laps_df,\n",
    "        all_sessions_laps_time_bin_df=all_sessions_laps_time_bin_df,\n",
    "        all_sessions_MultiMeasure_laps_df=all_sessions_MultiMeasure_laps_df,\n",
    "\t\t# all_sessions_nonPBE_endcap_df=all_sessions_nonPBE_endcap_df,\n",
    "\t\t# all_sessions_nonPBE_endcap_time_bin_df=all_sessions_nonPBE_endcap_time_bin_df, \n",
    "    ),\n",
    "\n",
    "    additional_filter_predicates=additional_filter_predicates,\n",
    "    on_filtered_dataframes_changed_callback_fns={'build_filter_changed_plotly_plotting_callback_fn': _build_filter_changed_plotly_plotting_callback_fn},\n",
    "    active_plot_df_name='filtered_all_sessions_all_scores_ripple_df',\n",
    "\t# hover_posterior_data=a_posterior_loader,\n",
    "    # hover_posterior_data=posterior_datasource,\n",
    ")\n",
    "\n",
    "# Set initial values: ________________________________________________________________________________________________ #\n",
    "df_filter.replay_name = replay_name # 'withNormalComputedReplays-frateThresh_5.0-qclu_[1, 2, 4, 6, 7, 8, 9]'\n",
    "df_filter.time_bin_size = time_bin_size\n",
    "df_filter.update_filters()\n",
    "df_filter.display()"
   ]
  },
  {
   "cell_type": "markdown",
   "metadata": {
    "tags": [
     "run-filtered-main",
     "run_main"
    ]
   },
   "source": [
    "# 2025-04-18 - Heuristic-filtered output histograms\n",
    "```python\n",
    "INPUTS: df_filter\n",
    "```"
   ]
  },
  {
   "cell_type": "code",
   "execution_count": null,
   "metadata": {},
   "outputs": [],
   "source": [
    "df_filter.active_plot_df"
   ]
  },
  {
   "cell_type": "markdown",
   "metadata": {},
   "source": [
    "# 2025-04-17 - TODO Histograms Matrices\n",
    "- get ['passes_heuristic'] column\n",
    "- plot participation and duration histograms for both, show no difference\n",
    "- is there a correlation between number of bins in an event and the abs(per-epoch-P_Short) of the event?"
   ]
  },
  {
   "cell_type": "code",
   "execution_count": null,
   "metadata": {},
   "outputs": [],
   "source": [
    "# ['high_main_seq_len', 'low_main_seq_len']\n",
    "## INPUTS: df_filter.active_plot_df\n",
    "is_high_main_seq_len = df_filter.additional_filter_predicates['high_main_seq_len'](df_filter.active_plot_df)\n",
    "is_low_main_seq_len = df_filter.additional_filter_predicates['low_main_seq_len'](df_filter.active_plot_df)\n",
    "\n",
    "test_df = deepcopy(df_filter.active_plot_df)\n",
    "test_df['is_high_main_seq_len'] = is_high_main_seq_len\n",
    "test_df['is_low_main_seq_len'] = is_low_main_seq_len\n",
    "test_df\n",
    "\n",
    "\n",
    "# test_df.pho.partition_df('is_high_main_seq_len')\n",
    "\n",
    "# test_df.plot.hist('is_high_main_seq_len')\n",
    "# ['duration']\n"
   ]
  },
  {
   "cell_type": "code",
   "execution_count": null,
   "metadata": {},
   "outputs": [],
   "source": [
    "print(list(test_df.columns))"
   ]
  },
  {
   "cell_type": "code",
   "execution_count": null,
   "metadata": {},
   "outputs": [],
   "source": [
    "import pandas as pd\n",
    "import matplotlib.pyplot as plt\n",
    "\n",
    "# Example: df with 'value' and 'group' columns\n",
    "hist_var_name: str = 'duration'\n",
    "# test_df[test_df['is_high_main_seq_len'] == True][hist_var_name].hist(alpha=0.5, label='trajectory')\n",
    "# test_df[test_df['is_high_main_seq_len'] == False][hist_var_name].hist(alpha=0.5, label='non-trajectory')\n",
    "plt.hist([test_df[test_df['is_high_main_seq_len'] == True][hist_var_name], test_df[test_df['is_high_main_seq_len'] == False][hist_var_name]], label=['trajectory', 'non-trajectory'], alpha=0.8, bins=25, density=True)\n",
    "plt.xlabel('duration')\n",
    "plt.ylabel('Density')\n",
    "plt.title(f'Distribution of {hist_var_name} Trajectory vs. non-Trajectory PBEs (~6 sessions)')\n",
    "plt.legend()\n",
    "plt.show()"
   ]
  },
  {
   "cell_type": "code",
   "execution_count": null,
   "metadata": {},
   "outputs": [],
   "source": []
  },
  {
   "cell_type": "code",
   "execution_count": null,
   "metadata": {},
   "outputs": [],
   "source": [
    "# test_df['magnitude_P_short'] = np.abs(test_df['P_Short']-0.5)\n",
    "test_df['magnitude_P_short'] = 2.0*(test_df['P_Short']-0.5)\n",
    "test_df\n",
    "\n",
    "fig = plt.figure(num='magnitude_P_short', clear=True)\n",
    "\n",
    "\n",
    "# plt.scatter(test_df['duration'], test_df['magnitude_P_short']) \n",
    "\n",
    "trajectory_df = test_df[test_df['is_high_main_seq_len'] == True]\n",
    "non_trajectory_df = test_df[test_df['is_high_main_seq_len'] == False]\n",
    "\n",
    "plt.scatter(trajectory_df['duration'], trajectory_df['magnitude_P_short'], label='trajectory', alpha=0.5)\n",
    "plt.scatter(non_trajectory_df['duration'], non_trajectory_df['magnitude_P_short'], label='non-trajectory', alpha=0.5)\n",
    "\n",
    "plt.xlabel('duration')\n",
    "plt.ylabel('magnitude_P_short')\n",
    "plt.title(f'Distribution of {hist_var_name} Trajectory vs. non-Trajectory PBEs (~6 sessions)')\n",
    "plt.legend()\n",
    "fig.show()"
   ]
  },
  {
   "cell_type": "code",
   "execution_count": null,
   "metadata": {},
   "outputs": [],
   "source": [
    "import pandas as pd\n",
    "import matplotlib.pyplot as plt\n",
    "\n",
    "# Example: df with 'value' and 'group' columns\n",
    "hist_var_name: str = 'duration'\n",
    "# test_df[test_df['is_high_main_seq_len'] == True][hist_var_name].hist(alpha=0.5, label='trajectory')\n",
    "# test_df[test_df['is_high_main_seq_len'] == False][hist_var_name].hist(alpha=0.5, label='non-trajectory')\n",
    "plt.hist([test_df[test_df['is_high_main_seq_len'] == True][hist_var_name], test_df[test_df['is_high_main_seq_len'] == False][hist_var_name]], label=['trajectory', 'non-trajectory'], alpha=0.8, bins=25)\n",
    "\n",
    "plt.legend()\n",
    "plt.show()"
   ]
  },
  {
   "cell_type": "code",
   "execution_count": null,
   "metadata": {},
   "outputs": [],
   "source": []
  },
  {
   "cell_type": "code",
   "execution_count": null,
   "metadata": {},
   "outputs": [],
   "source": [
    "is_high_main_seq_len"
   ]
  },
  {
   "cell_type": "code",
   "execution_count": null,
   "metadata": {},
   "outputs": [],
   "source": [
    "# df_filter.active_plot_df['label']\n",
    "# df_filter.active_plot_df.index\n",
    "# df_filter.selected_points\n",
    "# df_filter.hover_posterior_preview_figure_widget.update_layout(mini\n",
    "\t\t\t\t\t\t\t\t\t\t\t\t\t\t\t  \n",
    "# Set minimum width and height via CSS\n",
    "df_filter.hover_posterior_preview_figure_widget.layout.width = 600  # Minimum width\n",
    "df_filter.hover_posterior_preview_figure_widget.layout.height = 400  # Minimum height\n"
   ]
  },
  {
   "cell_type": "code",
   "execution_count": null,
   "metadata": {},
   "outputs": [],
   "source": [
    "# 292.623670976609,\n",
    "df_filter.selected_points"
   ]
  },
  {
   "cell_type": "code",
   "execution_count": null,
   "metadata": {},
   "outputs": [],
   "source": [
    "df_filter.figure_widget.get_state()"
   ]
  },
  {
   "cell_type": "code",
   "execution_count": null,
   "metadata": {},
   "outputs": [],
   "source": [
    "active_filter_predicates = {k:df_filter.additional_filter_predicates[k] for k in df_filter.active_filter_predicate_selector_widget.value}\n",
    "active_filter_predicates"
   ]
  },
  {
   "cell_type": "code",
   "execution_count": null,
   "metadata": {},
   "outputs": [],
   "source": [
    "active_filter_predicates['good_jump'](deepcopy(df_filter.all_sessions_all_scores_ripple_df))\n",
    "\n"
   ]
  },
  {
   "cell_type": "code",
   "execution_count": null,
   "metadata": {},
   "outputs": [],
   "source": [
    "# df_filter.all_sessions_all_scores_ripple_df[df_filter.all_sessions_all_scores_ripple_df['best_overall_ratio_jump_valid_bins']]\n",
    "df_filter.all_sessions_all_scores_ripple_df[df_filter.all_sessions_all_scores_ripple_df['best_overall_ratio_jump_valid_bins'] >= 0.75]\n"
   ]
  },
  {
   "cell_type": "code",
   "execution_count": null,
   "metadata": {},
   "outputs": [],
   "source": [
    "df_filter.filtered_all_sessions_all_scores_ripple_df['custom_replay_name'].unique()\n",
    "parts = 'withNormalComputedReplays-qclu_[1, 2, 4, 6, 7, 9]-frateThresh_5.0'.split('-')\n",
    "[v.split('_', maxsplit=1) for v in parts]"
   ]
  },
  {
   "cell_type": "code",
   "execution_count": null,
   "metadata": {},
   "outputs": [],
   "source": [
    "df_filter.active_plot_df.attrs\n",
    "\n",
    "# {v.split('_', maxsplit=1)[0]:v.split('_', maxsplit=1)[1] for v in parts}\n"
   ]
  },
  {
   "cell_type": "code",
   "execution_count": null,
   "metadata": {},
   "outputs": [],
   "source": [
    "# Saving the DataFrameFilter instance to an HDF5 file\n",
    "dataframe_filter_obj_out_path = Path(r'C:\\Users\\pho\\repos\\Spike3DWorkEnv\\Spike3D\\EXTERNAL\\PhoDibaPaper2024Book\\data').joinpath('dataframe_filter_data.hdf5')\n",
    "df_filter.save_to_hdf(dataframe_filter_obj_out_path)\n",
    "print(f'dataframe_filter_obj_out_path: \"{dataframe_filter_obj_out_path}\"')"
   ]
  },
  {
   "cell_type": "markdown",
   "metadata": {},
   "source": [
    "### 2024-11-15 - Next Steps after shuffles"
   ]
  },
  {
   "cell_type": "code",
   "execution_count": null,
   "metadata": {},
   "outputs": [],
   "source": [
    "# high_percentile_score_df: pd.DataFrame = deepcopy(all_sessions_merged_complete_epoch_stats_relevant_df[all_sessions_merged_complete_epoch_stats_relevant_df['best_overall_quantile'] >= 0.9]) ## TODO: make a filter okay? Handle NaNs\n",
    "# high_percentile_score_df: pd.DataFrame = deepcopy(df_filter.all_sessions_all_scores_ripple_df) # [df_filter.all_sessions_all_scores_ripple_df['best_overall_quantile'] >= 0.9] ## TODO: make a filter okay? Handle NaNs\n",
    "# high_percentile_score_df: pd.DataFrame = deepcopy(df_filter.all_sessions_all_scores_ripple_df)[df_filter.all_sessions_all_scores_ripple_df['best_overall_quantile'] >= 0.9] ## TODO: make a filter okay? Handle NaNs\n",
    "high_percentile_score_df: pd.DataFrame = deepcopy(df_filter.filtered_all_sessions_all_scores_ripple_df)[df_filter.filtered_all_sessions_all_scores_ripple_df['best_overall_quantile'] >= 0.9] ## TODO: make a filter okay? Handle NaNs\n",
    "high_percentile_score_df\n",
    "# df_filter.filtered_all_sessions_all_scores_ripple_df\n",
    "\n",
    "# high_percentile_score_df['start']\n"
   ]
  },
  {
   "cell_type": "code",
   "execution_count": null,
   "metadata": {},
   "outputs": [],
   "source": [
    "\n",
    "# new_fig, new_fig_context, _extras_output_dict, figure_out_paths = _perform_plot_pre_post_delta_scatter(data_context=IdentifyingContext(epochs_name='PBEs', data_grain='per_epoch', title_prefix=\"PBEs Per Epoch\", dataframe_name='df'),\n",
    "# \t\t\t\t\t\t\t\t\t\t\t\t\t\t\t\t\t\t\t\t\t\t\t\t\t    concatenated_ripple_df=deepcopy(high_percentile_score_df), variable_name='best_overall_quantile')\n",
    "new_fig, new_fig_context, _extras_output_dict, figure_out_paths = _perform_plot_pre_post_delta_scatter(data_context=IdentifyingContext(epochs_name='PBEs', data_grain='per_epoch', title_prefix=\"PBEs Per Epoch\", dataframe_name='df'),\n",
    "                                                                                                        concatenated_ripple_df=deepcopy(high_percentile_score_df), variable_name='P_Short')\n",
    "new_fig\n",
    "\n"
   ]
  },
  {
   "cell_type": "code",
   "execution_count": null,
   "metadata": {},
   "outputs": [],
   "source": [
    "## Sub-select for high-shuffle score events (0.9 or higher), use as a filter\n",
    "## Plot these bad boys on the scatter\n",
    "\n",
    "## Look at Long-like events on the filtered df that occur after delta, these should be the good examples of long-like after delta.\n",
    "## Confirm that I'm shuffling appropriately for the \n"
   ]
  },
  {
   "cell_type": "code",
   "execution_count": null,
   "metadata": {},
   "outputs": [],
   "source": [
    "# df_filter.all_sessions_MultiMeasure_ripple_df\n",
    "fig, new_fig_context, _extras_output_dict, figure_out_paths = _perform_plot_pre_post_delta_scatter_with_embedded_context(concatenated_ripple_df=deepcopy(df_filter.filtered_all_sessions_MultiMeasure_ripple_df), is_dark_mode=False, should_save=False)"
   ]
  },
  {
   "cell_type": "code",
   "execution_count": null,
   "metadata": {},
   "outputs": [],
   "source": [
    "fig, new_fig_context, _extras_output_dict, figure_out_paths = _perform_plot_pre_post_delta_scatter_with_embedded_context(concatenated_ripple_df=deepcopy(df_filter.filtered_all_sessions_MultiMeasure_ripple_df), is_dark_mode=False, should_save=should_save)\n"
   ]
  },
  {
   "cell_type": "code",
   "execution_count": null,
   "metadata": {},
   "outputs": [],
   "source": [
    "\n",
    "n_events: int = len(df_filter.filtered_all_sessions_MultiMeasure_ripple_df)\n",
    "df: pd.DataFrame = df_filter.filtered_all_sessions_MultiMeasure_ripple_df\n",
    "\n",
    "df.attrs.update(**dict(data_context = IdentifyingContext(epochs_name='PBE', data_grain='per_epoch', dataframe_name='MultiMeasure_ripple_df', filter='user-annotated', n_events=f'{n_events} events',\n",
    "                                            title_prefix=f\"<b>user-annotated FILTERED</b> MultiMeasure_ripple_df - <b>PBE</b> <i>Per <b>Epoch</b></i>\"),\n",
    "                        ))\n",
    "\n",
    "\n",
    "fig, new_fig_context, _extras_output_dict, figure_out_paths = _perform_plot_pre_post_delta_scatter_with_embedded_context(concatenated_ripple_df=deepcopy(df_filter.filtered_all_sessions_MultiMeasure_ripple_df), is_dark_mode=False, should_save=should_save)"
   ]
  },
  {
   "cell_type": "code",
   "execution_count": null,
   "metadata": {},
   "outputs": [],
   "source": [
    "min_wcorr_threshold: float = 0.7\n",
    "\n",
    "df_filter.additional_filter_predicates = {\n",
    "    'high_wcorr': (lambda df: np.any((df[['long_best_wcorr', 'short_best_wcorr']].abs() > min_wcorr_threshold), axis=1)),\n",
    "    # 'user_selected': lambda df: np.all((df[['is_user_annotated_epoch', 'is_valid_epoch']]), axis=1),\n",
    "}\n",
    "df_filter.update_filters()\n",
    "\n",
    "# df_filter.update_filtered_dataframes\n",
    "fig, new_fig_context, _extras_output_dict, figure_out_paths = _perform_plot_pre_post_delta_scatter(data_context = IdentifyingContext(epochs_name='PBE', data_grain='per_epoch', dataframe_name='MultiMeasure_ripple_df', filter='high-wcorr', title_prefix=\"<b>high-wcorr FILTERED</b> MultiMeasure_ripple_df - <b>PBE</b> <i>Per <b>Epoch</b></i>\"),\n",
    "                                                                                                concatenated_ripple_df = deepcopy(df_filter.filtered_all_sessions_MultiMeasure_ripple_df), is_dark_mode=False)"
   ]
  },
  {
   "cell_type": "code",
   "execution_count": null,
   "metadata": {
    "tags": [
     "run_figures_main",
     "plotly-figure"
    ]
   },
   "outputs": [],
   "source": [
    "df_filter.time_bin_size\n",
    "df_filter.replay_name\n",
    "\n",
    "filter_context = df_filter.filter_context # IdentifyingContext(time_bin_sizes=df_filter.time_bin_size, custom_suffix=df_filter.replay_name)\n",
    "filter_context\n",
    "\n",
    "_out_figs_dict = {}\n",
    "\n",
    "## INPUTS: df_filter\n",
    "\n",
    "# BEGIN CALL _________________________________________________________________________________________________________ #\n",
    "new_fig, new_fig_context, _extras_output_dict, figure_out_paths = _perform_plot_pre_post_delta_scatter(data_context=IdentifyingContext(epochs_name='laps', data_grain='per_epoch', title_prefix=\"FILTERED Lap Per Epoch\", dataframe_name='df', **filter_context.to_dict()), concatenated_ripple_df=deepcopy(df_filter.filtered_all_sessions_laps_df))\n",
    "_out_figs_dict[new_fig_context] = new_fig\n",
    "\n",
    "\n",
    "new_fig, new_fig_context, _extras_output_dict, figure_out_paths = _perform_plot_pre_post_delta_scatter(data_context=IdentifyingContext(epochs_name='laps', data_grain='per_time_bin', title_prefix=\"FILTERED Lap Individual Time Bins\", dataframe_name='time_bin_df', **filter_context.to_dict()), concatenated_ripple_df=deepcopy(df_filter.filtered_all_sessions_laps_time_bin_df))\n",
    "_out_figs_dict[new_fig_context] = new_fig\n",
    "\n",
    "\n",
    "new_fig, new_fig_context, _extras_output_dict, figure_out_paths = _perform_plot_pre_post_delta_scatter(data_context = IdentifyingContext(epochs_name='PBE', data_grain='per_epoch', title_prefix=\"FILTERED PBE Per Epoch\", dataframe_name='df', **filter_context.to_dict()), concatenated_ripple_df = deepcopy(df_filter.filtered_all_sessions_ripple_df))\n",
    "_out_figs_dict[new_fig_context] = new_fig\n",
    "\n",
    "new_fig, new_fig_context, _extras_output_dict, figure_out_paths = _perform_plot_pre_post_delta_scatter(data_context = IdentifyingContext(epochs_name='PBE', data_grain='per_time_bin', title_prefix=\"FILTERED PBE Individual Time Bins\", dataframe_name='time_bin_df', **filter_context.to_dict()), concatenated_ripple_df = deepcopy(df_filter.filtered_all_sessions_ripple_time_bin_df))\n",
    "_out_figs_dict[new_fig_context] = new_fig\n",
    "\n",
    "\n",
    "new_fig, new_fig_context, _extras_output_dict, figure_out_paths = _perform_plot_pre_post_delta_scatter(data_context = IdentifyingContext(epochs_name='PBE', data_grain='per_epoch', dataframe_name='all_scores_ripple_df', filter_status='filtered', title_prefix=\"FILTERED  - Filtered PBE Per Epoch\"),\n",
    "                                                                                                        concatenated_ripple_df = deepcopy(df_filter.filtered_all_sessions_all_scores_ripple_df))\n",
    "_out_figs_dict[new_fig_context] = new_fig\n",
    "\n",
    "# new_fig, new_fig_context, _extras_output_dict, figure_out_paths = _perform_plot_pre_post_delta_scatter(data_context = IdentifyingContext(epochs_name='PBE', data_grain='per_epoch', dataframe_name='all_scores_ripple_df', filter_status='filtered', title_prefix=\"filtered_all_sessions_all_scores_ripple_df - Filtered PBE Per Epoch\"),\n",
    "# \t\t\t\t\t\t\t\t\t\t\t\t\t\t\t\t\t\t\t\t\t\t\t\t\t\tconcatenated_ripple_df = deepcopy(df_filter.filtered_all_sessions_all_scores_ripple_df))\n",
    "# _out_figs_dict[new_fig_context] = new_fig\n",
    "\n",
    "\n",
    "\n",
    "# OUTPUTS: _out_figs_dict"
   ]
  },
  {
   "cell_type": "code",
   "execution_count": null,
   "metadata": {},
   "outputs": [],
   "source": [
    "## INPUTS: _out_figs_dict\n",
    "all_img_list = []\n",
    "laps_list = []\n",
    "PBEs_list = []\n",
    "\n",
    "for a_context, a_fig in _out_figs_dict.items():\n",
    "    fig_img = figure_to_pil_image(a_fig=a_fig)\n",
    "    epochs_name: str = a_context.epochs_name\n",
    "\n",
    "    if 'laps' in epochs_name:\n",
    "        laps_list.append(fig_img)\n",
    "        \n",
    "    if 'PBE' in epochs_name:\n",
    "        PBEs_list.append(fig_img)\n",
    "        \n",
    "    \n",
    "# all_img_list\n",
    "## OUTPUTS: laps_list, PBEs_list"
   ]
  },
  {
   "cell_type": "code",
   "execution_count": null,
   "metadata": {},
   "outputs": [],
   "source": [
    "\n",
    "PBEs_img = vertical_image_stack(PBEs_list)\n",
    "PBEs_img\n",
    "copy_image_to_clipboard(combined_all_img)\n"
   ]
  },
  {
   "cell_type": "code",
   "execution_count": null,
   "metadata": {},
   "outputs": [],
   "source": [
    "laps_img = vertical_image_stack(laps_list)\n",
    "laps_img\n",
    "copy_image_to_clipboard(laps_img)\n"
   ]
  },
  {
   "cell_type": "code",
   "execution_count": null,
   "metadata": {},
   "outputs": [],
   "source": [
    "# # combined_all_img = horizontal_image_stack([figure_to_pil_image(a_fig=a_fig) for a_fig in [fig_laps, fig_ripples]])\n",
    "# combined_all_img = vertical_image_stack([\n",
    "# \thorizontal_image_stack([fig_laps, fig_ripples]),\n",
    "# \t# horizontal_image_stack(PBEs_list)\n",
    "# ])\n",
    "# combined_all_img\n",
    "\n",
    "copy_image_to_clipboard(combined_all_img)"
   ]
  },
  {
   "cell_type": "code",
   "execution_count": null,
   "metadata": {
    "tags": [
     "by-session",
     "run_figures_main",
     "plotly-figure"
    ]
   },
   "outputs": [],
   "source": [
    "\n",
    "# Example usage:\n",
    "all_session_figures = plot_across_sessions_scatter_results(collected_outputs_directory, concatenated_laps_df=deepcopy(df_filter.filtered_all_sessions_laps_df), concatenated_ripple_df=deepcopy(df_filter.filtered_all_sessions_ripple_df),\n",
    "                                                           enabled_time_bin_sizes=df_filter.time_bin_size,\n",
    "                                                           earliest_delta_aligned_t_start=earliest_delta_aligned_t_start, latest_delta_aligned_t_end=latest_delta_aligned_t_end,\n",
    "                                                           laps_title_prefix=f\"FILTERED_Laps\", ripple_title_prefix=f\"FILTERED_Ripples\", save_figures=True, figure_save_extension=['.html','.png'], is_dark_mode=is_dark_mode)\n",
    "fig_laps, fig_ripples = all_session_figures[0]\n",
    "# fig_laps.update_layout(fig_size_kwargs)\n",
    "# fig_ripples.update_layout(fig_size_kwargs)\n",
    "\n",
    "fig = fig_ripples\n"
   ]
  },
  {
   "cell_type": "code",
   "execution_count": null,
   "metadata": {},
   "outputs": [],
   "source": [
    "df_filter.time_bin_size\n",
    "df_filter.replay_name\n",
    "\n",
    "filter_context = df_filter.filter_context # IdentifyingContext(time_bin_sizes=df_filter.time_bin_size, custom_suffix=df_filter.replay_name)\n",
    "filter_context\n",
    "\n",
    "footer_text: str = filter_context.get_description(separator='|', subset_excludelist=['time_bin_sizes'])\n",
    "\n",
    "print(f'footer_text: \"{footer_text}\"')\n",
    "\n",
    "# Add footer annotation\n",
    "fig = fig.update_layout(\n",
    "    annotations=[\n",
    "        dict(\n",
    "            text=footer_text,\n",
    "            **{'x': 0.5, 'y': -0.19, 'xref': 'paper', 'yref': 'paper', 'showarrow': False, 'font': {'size': 11, 'color': 'gray'}, 'textangle': 0, 'xanchor': 'center', 'yanchor': 'middle'},\n",
    "        )\n",
    "    ],\n",
    "    margin=dict(b=60)  # Increase bottom margin to accommodate the footer\n",
    ")\n",
    "\n",
    "\n",
    "# fig_laps.show()\n",
    "# fig_ripples.show()\n",
    "# fig_laps.write_html(f\"../output/{TODAY_DAY_DATE}_AcrossSession_fig_laps.html\")\n",
    "# fig_ripples.write_html(f\"../output/{TODAY_DAY_DATE}_AcrossSession_fig_ripples.html\")\n",
    "full_fig = fig.full_figure_for_development()\n",
    "full_fig.to_json(collected_outputs_directory.joinpath('figures/11-Sessions_filtered_ripples_marginal.json'))\n"
   ]
  },
  {
   "cell_type": "code",
   "execution_count": null,
   "metadata": {
    "tags": [
     "plotly-figure"
    ]
   },
   "outputs": [],
   "source": [
    "# variable_name = 'short_best_direction_change_bin_ratio'\n",
    "# variable_name = 'long_best_congruent_dir_bins_ratio'\n",
    "variable_name = 'short_best_wcorr'\n",
    "# 'color':'is_user_annotated_epoch'\n",
    "# 'color': 'is_user_annotated_epoch', \n",
    "px_scatter_kwargs = {'x': 'delta_aligned_start_t', 'y': variable_name, 'title': f\"'{variable_name}'\"} # , 'color': 'time_bin_size', 'range_y': [-1.0, 1.0], , 'labels': {'session_name': 'Session', 'time_bin_size': 'tbin_size', 'is_user_annotated_epoch':'user_sel'}\n",
    "# hist_kwargs = dict(color=\"time_bin_size\")\n",
    "hist_kwargs = dict(color=\"pre_post_delta_category\") # , histnorm='probability density'\n",
    "new_fig_ripples, figure_context = plotly_pre_post_delta_scatter(data_results_df=concatenated_ripple_df, out_scatter_fig=None, histogram_bins=histogram_bins,\n",
    "                        px_scatter_kwargs=px_scatter_kwargs, histogram_variable_name=variable_name, hist_kwargs=hist_kwargs, forced_range_y=None,\n",
    "                        time_delta_tuple=(earliest_delta_aligned_t_start, 0.0, latest_delta_aligned_t_end), is_dark_mode=is_dark_mode)\n",
    "_extras_output_dict = {}\n",
    "_extras_output_dict[\"y_mid_line\"] = new_fig_ripples.add_hline(y=0.0, line=dict(color=\"rgba(0.8,0.8,0.8,.75)\", width=2), row='all', col='all')\n",
    "new_fig_ripples.update_layout(fig_size_kwargs)\n",
    "new_fig_ripples.show()\n",
    "figure_out_paths = save_plotly(a_fig=new_fig_ripples, a_fig_context=figure_context)\n"
   ]
  },
  {
   "cell_type": "code",
   "execution_count": null,
   "metadata": {
    "tags": [
     "plotly-figure"
    ]
   },
   "outputs": [],
   "source": [
    "# variable_name = 'total_congruent_direction_change_diff'\n",
    "# variable_name = 'long_best_congruent_dir_bins_ratio'\n",
    "# variable_name = 'long_best_total_congruent_direction_change'\n",
    "variable_name = 'wcorr_diff'\n",
    "# variable_name = 'long_best_wcorr'\n",
    "# 'color':'is_user_annotated_epoch'\n",
    "# 'color': 'is_user_annotated_epoch', \n",
    "px_scatter_kwargs = {'x': 'delta_aligned_start_t', 'y': variable_name, 'color':\"is_user_annotated_epoch\", 'title': f\"'{variable_name}'\", 'labels': {'session_name': 'Session', 'time_bin_size': 'tbin_size', 'is_user_annotated_epoch':'user_sel'}} # , 'color': 'time_bin_size', 'range_y': [-1.0, 1.0], \n",
    "# hist_kwargs = dict(color=\"time_bin_size\")\n",
    "hist_kwargs = dict(color=\"is_user_annotated_epoch\") # , histnorm='probability density'\n",
    "new_fig_ripples, figure_context = plotly_pre_post_delta_scatter(data_results_df=concatenated_ripple_df, out_scatter_fig=None, histogram_bins=histogram_bins,\n",
    "                        px_scatter_kwargs=px_scatter_kwargs, histogram_variable_name=variable_name, hist_kwargs=hist_kwargs, forced_range_y=None,\n",
    "                        time_delta_tuple=(earliest_delta_aligned_t_start, 0.0, latest_delta_aligned_t_end), is_dark_mode=is_dark_mode)\n",
    "_extras_output_dict = {}\n",
    "_extras_output_dict[\"y_mid_line\"] = new_fig_ripples.add_hline(y=0.0, line=dict(color=\"rgba(0.8,0.8,0.8,.75)\", width=2), row='all', col='all')\n",
    "new_fig_ripples.update_layout(fig_size_kwargs)\n",
    "new_fig_ripples.show()\n",
    "\n",
    "figure_context = figure_context.adding_context_if_missing(num_sessions=num_sessions, plot_type='scatter+hist', comparison='pre-post-delta', variable_name=variable_name)\n",
    "figure_out_paths = save_plotly(a_fig=new_fig_ripples, a_fig_context=figure_context)\n"
   ]
  },
  {
   "cell_type": "markdown",
   "metadata": {},
   "source": [
    "## Stats Tests"
   ]
  },
  {
   "cell_type": "code",
   "execution_count": null,
   "metadata": {},
   "outputs": [],
   "source": [
    "from pyphoplacecellanalysis.Pho2D.statistics_plotting_helpers import _perform_stats_tests\n",
    "\n",
    "stats_variable_name: str = 'P_Short'\n",
    "# stats_variable_name: str = 'short_best_direction_change_bin_ratio'\n",
    "# stats_variable_name: str = 'short_best_wcorr'\n",
    "\n",
    "shuffle_results, p_value, f_value, (dof1, dof2), (variance1, variance2) = _perform_stats_tests(deepcopy(concatenated_ripple_df), stats_variable_name=stats_variable_name)\n"
   ]
  },
  {
   "cell_type": "code",
   "execution_count": null,
   "metadata": {},
   "outputs": [],
   "source": [
    "# Show that wcorr in both periods is higher than shuffles\n",
    "\n",
    "stats_variable_name: str = 'P_Short'\n",
    "stats_variable_name = 'short_best_wcorr'\n",
    "# stats_variable_name = 'long_best_wcorr'\n",
    "# stats_variable_name = 'long_best_wcorr'\n",
    "\n",
    "shuffle_results, p_value, f_value, (dof1, dof2), (variance1, variance2) = _perform_stats_tests(deepcopy(concatenated_ripple_df), stats_variable_name=stats_variable_name)\n",
    "\n",
    "\n",
    "# stats_variable_name: \"short_best_wcorr\" -- actual_diff_means: -0.00983910691641765\n",
    "# stats_variable_name: short_best_wcorr\n",
    "# Statistics=72308.00, p=0.73\n",
    "# Do not Reject Null Hypothesis (No significant difference between two samples)\n",
    "# Variance 1: 0.1395112660465373\n",
    "# Variance 2: 0.18436187114204847\n",
    "# Degree of freedom 1: 395\n",
    "# Degree of freedom 2: 359\n",
    "# F-statistic: 0.756725157877388\n",
    "# p-value: 0.003419223265796241\n",
    "\n",
    "# stats_variable_name: \"long_best_wcorr\" -- actual_diff_means: -0.0028337579937901397\n",
    "# stats_variable_name: long_best_wcorr\n",
    "# Statistics=71529.00, p=0.93\n",
    "# Do not Reject Null Hypothesis (No significant difference between two samples)\n",
    "# Variance 1: 0.1659575407149896\n",
    "# Variance 2: 0.20687539745971859\n",
    "# Degree of freedom 1: 395\n",
    "# Degree of freedom 2: 359\n",
    "# F-statistic: 0.8022101359215698\n",
    "# p-value: 0.016221081810852238"
   ]
  },
  {
   "cell_type": "code",
   "execution_count": null,
   "metadata": {},
   "outputs": [],
   "source": [
    "## User non-selected:\n",
    "scatter_title = f'user_approved_ripple_df Several Sessions {variable_name}'\n",
    "# variable_name = 'wcorr_abs_diff'\n",
    "px_scatter_kwargs = {'x': 'delta_aligned_start_t', 'y': variable_name, 'title': scatter_title, 'range_y': [0.0, 1.0], 'labels': {'session_name': 'Session', 'time_bin_size': 'tbin_size'}} # , 'color': 'time_bin_size'\n",
    "new_fig_ripples, figure_context = plotly_pre_post_delta_scatter(data_results_df=deepcopy(user_approved_ripple_df), out_scatter_fig=None, histogram_bins=histogram_bins,\n",
    "                        px_scatter_kwargs=px_scatter_kwargs, histogram_variable_name=variable_name, forced_range_y=None,\n",
    "                        time_delta_tuple=(earliest_delta_aligned_t_start, 0.0, latest_delta_aligned_t_end), is_dark_mode=is_dark_mode)\n",
    "_extras_output_dict[\"y_mid_line\"] = new_fig_ripples.add_hline(y=0.5, line=dict(color=\"rgba(0.8,0.8,0.8,.75)\", width=2), row='all', col='all')\n",
    "new_fig_ripples.update_layout(fig_size_kwargs)\n",
    "new_fig_ripples"
   ]
  },
  {
   "cell_type": "code",
   "execution_count": null,
   "metadata": {},
   "outputs": [],
   "source": [
    "# IDEA: The ones with clear replays (diagonal sequences in the decoded posteriors) are by definiition ambiguous, because there's not much difference between the long/short decoders.\n"
   ]
  },
  {
   "cell_type": "code",
   "execution_count": null,
   "metadata": {},
   "outputs": [],
   "source": [
    "## User non-selected:\n",
    "scatter_title = f'Non-selected Several Sessions {variable_name}'\n",
    "# variable_name = 'wcorr_abs_diff'\n",
    "px_scatter_kwargs = {'x': 'delta_aligned_start_t', 'y': variable_name, 'title': scatter_title, 'range_y': [0.0, 1.0], 'labels': {'session_name': 'Session', 'time_bin_size': 'tbin_size'}} # , 'color': 'time_bin_size'\n",
    "new_fig_ripples, figure_context = plotly_pre_post_delta_scatter(data_results_df=deepcopy(user_rejected_ripple_df), out_scatter_fig=None, histogram_bins=histogram_bins,\n",
    "                        px_scatter_kwargs=px_scatter_kwargs, histogram_variable_name=variable_name, forced_range_y=None,\n",
    "                        time_delta_tuple=(earliest_delta_aligned_t_start, 0.0, latest_delta_aligned_t_end))\n",
    "new_fig_ripples.update_layout(fig_size_kwargs)\n",
    "new_fig_ripples\n"
   ]
  },
  {
   "cell_type": "code",
   "execution_count": null,
   "metadata": {},
   "outputs": [],
   "source": [
    "# Laps test\n",
    "concatenated_ripple_df = deepcopy(all_sessions_MultiMeasure_laps_df)\n",
    "\n",
    "scatter_title = 'Several Sessions'\n",
    "variable_name = 'wcorr_abs_diff'\n",
    "px_scatter_kwargs = {'x': 'delta_aligned_start_t', 'y': variable_name, 'title': scatter_title, 'range_y': [0.0, 1.0], 'labels': {'session_name': 'Session', 'time_bin_size': 'tbin_size'}} \n",
    "new_fig_ripples, figure_context = plotly_pre_post_delta_scatter(data_results_df=deepcopy(concatenated_ripple_df), out_scatter_fig=None, histogram_bins=histogram_bins,\n",
    "                        px_scatter_kwargs=px_scatter_kwargs, histogram_variable_name=variable_name, forced_range_y=None,\n",
    "                        time_delta_tuple=(earliest_delta_aligned_t_start, 0.0, latest_delta_aligned_t_end))\n",
    "new_fig_ripples.update_layout(fig_size_kwargs)\n",
    "new_fig_ripples\n"
   ]
  },
  {
   "cell_type": "code",
   "execution_count": null,
   "metadata": {},
   "outputs": [],
   "source": [
    "num_unique_sessions: int = len(all_sessions_laps_df['session_name'].unique())\n",
    "num_unique_sessions\n"
   ]
  },
  {
   "cell_type": "code",
   "execution_count": null,
   "metadata": {},
   "outputs": [],
   "source": [
    "num_unique_sessions: int = len(all_sessions_ripple_df['session_name'].unique())\n",
    "num_unique_sessions"
   ]
  },
  {
   "cell_type": "markdown",
   "metadata": {},
   "source": [
    "# Plotting functions"
   ]
  },
  {
   "cell_type": "code",
   "execution_count": null,
   "metadata": {
    "tags": [
     "plotly-figure",
     "by-session"
    ]
   },
   "outputs": [],
   "source": [
    "from pyphoplacecellanalysis.General.Model.Configs.LongShortDisplayConfig import PlottingHelpers\n",
    "# from pyphoplacecellanalysis.SpecificResults.AcrossSessionResults import plot_across_sessions_scatter_results\n",
    "\n",
    "# Example usage:\n",
    "all_session_figures = plot_across_sessions_scatter_results(collected_outputs_directory, concatenated_laps_df=all_sessions_laps_df, concatenated_ripple_df=all_sessions_ripple_df,\n",
    "                                                           enabled_time_bin_sizes=[0.025], # 0.03, 0.10\n",
    "                                                           earliest_delta_aligned_t_start=earliest_delta_aligned_t_start, latest_delta_aligned_t_end=latest_delta_aligned_t_end,\n",
    "                                                           laps_title_prefix=f\"Laps\", ripple_title_prefix=f\"Ripples\", save_figures=False, figure_save_extension=['.html','.png'], is_dark_mode=is_dark_mode)\n",
    "fig_laps, fig_ripples = all_session_figures[0]\n",
    "# fig_laps.update_layout(fig_size_kwargs)\n",
    "# fig_ripples.update_layout(fig_size_kwargs)\n",
    "\n",
    "fig_laps.show()\n",
    "fig_ripples.show()\n",
    "# fig_laps.write_html(f\"../output/{TODAY_DAY_DATE}_AcrossSession_fig_laps.html\")\n",
    "# fig_ripples.write_html(f\"../output/{TODAY_DAY_DATE}_AcrossSession_fig_ripples.html\")\n"
   ]
  },
  {
   "cell_type": "code",
   "execution_count": null,
   "metadata": {},
   "outputs": [],
   "source": [
    "figure_context = figure_context.adding_context_if_missing(num_sessions=num_sessions, plot_type='scatter+hist', comparison='pre-post-delta', variable_name=variable_name)\n",
    "\n"
   ]
  },
  {
   "cell_type": "code",
   "execution_count": null,
   "metadata": {},
   "outputs": [],
   "source": [
    "fig_to_clipboard(fig_ripples)"
   ]
  },
  {
   "cell_type": "code",
   "execution_count": null,
   "metadata": {},
   "outputs": [],
   "source": [
    "\n",
    "## INPUTS: all_sessions_laps_time_bin_df"
   ]
  },
  {
   "cell_type": "code",
   "execution_count": null,
   "metadata": {
    "tags": [
     "plotly-figure"
    ]
   },
   "outputs": [],
   "source": [
    "## time_bin version:\n",
    "all_time_bin_session_figures = plot_across_sessions_scatter_results(collected_outputs_directory, concatenated_laps_df=all_sessions_laps_time_bin_df, concatenated_ripple_df=all_sessions_ripple_time_bin_df,\n",
    "                                                        #    enabled_time_bin_sizes=[0.03, 0.10],\n",
    "                                                           earliest_delta_aligned_t_start=earliest_delta_aligned_t_start, latest_delta_aligned_t_end=latest_delta_aligned_t_end,\n",
    "                                                           main_plot_mode='separate_row_per_session',\n",
    "                                                           laps_title_prefix=f\"Laps_per_time_bin\", ripple_title_prefix=f\"Ripples_per_time_bin\", save_figures=False, figure_save_extension=['.html','.png'], is_dark_mode=is_dark_mode)\n",
    "fig_time_bin_laps, fig_time_bin_ripples = all_time_bin_session_figures[0]\n",
    "fig_time_bin_laps.show()\n",
    "fig_time_bin_ripples.show()"
   ]
  },
  {
   "cell_type": "code",
   "execution_count": null,
   "metadata": {
    "tags": [
     "plotly-figure"
    ]
   },
   "outputs": [],
   "source": [
    "from pyphoplacecellanalysis.Pho2D.plotly.Extensions.plotly_helpers import plot_across_sessions_scatter_results\n",
    "\n",
    "## Test collapsed histograms-only results:\n",
    "histograms_only_all_time_bin_session_figures = plot_across_sessions_scatter_results(collected_outputs_directory, concatenated_laps_df=all_sessions_laps_time_bin_df, concatenated_ripple_df=all_sessions_ripple_time_bin_df,\n",
    "                                                        #    enabled_time_bin_sizes=[0.03, 0.10],\n",
    "                                                            # enabled_time_bin_sizes=[0.03, 0.058, 0.10], # [0.03 , 0.044, 0.058, 0.072, 0.086, 0.1]\n",
    "                                                           earliest_delta_aligned_t_start=earliest_delta_aligned_t_start, latest_delta_aligned_t_end=latest_delta_aligned_t_end,\n",
    "                                                           main_plot_mode='default',\n",
    "                                                           laps_title_prefix=f\"Laps_per_time_bin\", ripple_title_prefix=f\"Ripples_per_time_bin\", save_figures=False, figure_save_extension=['.html','.png'])\n",
    "histograms_only_fig_time_bin_laps, histograms_only_fig_time_bin_ripples = histograms_only_all_time_bin_session_figures[0]\n",
    "# histograms_only_fig_time_bin_laps.show()\n",
    "histograms_only_fig_time_bin_ripples.show()"
   ]
  },
  {
   "cell_type": "markdown",
   "metadata": {},
   "source": [
    "## 2025-03-26 Hand-filtered versions"
   ]
  },
  {
   "cell_type": "code",
   "execution_count": null,
   "metadata": {},
   "outputs": [],
   "source": [
    "from neuropy.utils.indexing_helpers import NeuroPyDataframeAccessor\n",
    "\n",
    "# end_kwargs = dict(trained_compute_epochs='laps')\n",
    "end_kwargs = dict(trained_compute_epochs='non_pbe')\n",
    "\n",
    "## INPUTS: all_sessions_laps_time_bin_df, all_sessions_ripple_time_bin_df\n",
    "filtered_all_sessions_laps_time_bin_df = deepcopy(all_sessions_laps_time_bin_df)\n",
    "filtered_all_sessions_laps_time_bin_df: pd.DataFrame = filtered_all_sessions_laps_time_bin_df.neuropy.constrain_df_cols(decoder_identifier='pseudo2D', masked_time_bin_fill_type='dropped', **end_kwargs) # long_RL=0, short_LR=0, short_RL=0, known_named_decoding_epochs_type='laps'\n",
    "filtered_all_sessions_laps_time_bin_df\n",
    "\n",
    "filtered_all_sessions_ripple_time_bin_df = deepcopy(all_sessions_ripple_time_bin_df)\n",
    "filtered_all_sessions_ripple_time_bin_df: pd.DataFrame = filtered_all_sessions_ripple_time_bin_df.neuropy.constrain_df_cols(decoder_identifier='pseudo2D', masked_time_bin_fill_type='dropped', **end_kwargs) # long_RL=0, short_LR=0, short_RL=0, known_named_decoding_epochs_type='laps'\n",
    "filtered_all_sessions_ripple_time_bin_df\n",
    "\n",
    "\n",
    "## OUTPUTS: filtered_all_sessions_laps_time_bin_df, filtered_all_sessions_ripple_time_bin_df"
   ]
  },
  {
   "cell_type": "code",
   "execution_count": null,
   "metadata": {},
   "outputs": [],
   "source": [
    "# filtered_all_sessions_laps_time_bin_df\n",
    "\n",
    "# filtered_all_sessions_laps_time_bin_df.plot.scatter(x='t', y='P_Short')\n",
    "\n",
    "filtered_all_sessions_laps_time_bin_df.dropna(how='index', subset=['delta_aligned_start_t'], inplace=False)\n",
    "# filtered_all_sessions_laps_time_bin_df.plot.scatter(x='delta_aligned_start_t', y='P_Short')"
   ]
  },
  {
   "cell_type": "code",
   "execution_count": null,
   "metadata": {},
   "outputs": [],
   "source": [
    "# filtered_all_sessions_ripple_time_bin_df = None\n",
    "## time_bin version:\n",
    "all_time_bin_session_figures = plot_across_sessions_scatter_results(collected_outputs_directory, concatenated_laps_df=filtered_all_sessions_laps_time_bin_df, concatenated_ripple_df=filtered_all_sessions_ripple_time_bin_df,\n",
    "                                                        #    enabled_time_bin_sizes=[0.03, 0.10],\n",
    "                                                           earliest_delta_aligned_t_start=earliest_delta_aligned_t_start, latest_delta_aligned_t_end=latest_delta_aligned_t_end,\n",
    "                                                           main_plot_mode='separate_row_per_session',\n",
    "                                                           laps_title_prefix=f\"Laps_per_time_bin\", ripple_title_prefix=f\"Ripples_per_time_bin\", save_figures=True, figure_save_extension=['.html','.png'], is_dark_mode=is_dark_mode)\n",
    "fig_time_bin_laps, fig_time_bin_ripples = all_time_bin_session_figures[0]\n",
    "fig_time_bin_laps.show()\n",
    "# fig_time_bin_ripples.show()"
   ]
  },
  {
   "cell_type": "code",
   "execution_count": null,
   "metadata": {},
   "outputs": [],
   "source": [
    "from pyphoplacecellanalysis.Pho2D.plotly.Extensions.plotly_helpers import plot_across_sessions_scatter_results\n",
    "\n",
    "## Test collapsed histograms-only results:\n",
    "histograms_only_all_time_bin_session_figures = plot_across_sessions_scatter_results(collected_outputs_directory, concatenated_laps_df=filtered_all_sessions_laps_time_bin_df, concatenated_ripple_df=filtered_all_sessions_ripple_time_bin_df,\n",
    "                                                        #    enabled_time_bin_sizes=[0.03, 0.10],\n",
    "                                                            # enabled_time_bin_sizes=[0.03, 0.058, 0.10], # [0.03 , 0.044, 0.058, 0.072, 0.086, 0.1]\n",
    "                                                           earliest_delta_aligned_t_start=earliest_delta_aligned_t_start, latest_delta_aligned_t_end=latest_delta_aligned_t_end,\n",
    "                                                           main_plot_mode='default',\n",
    "                                                           laps_title_prefix=f\"Laps_per_time_bin\", ripple_title_prefix=f\"Ripples_per_time_bin\", save_figures=False, figure_save_extension=['.html','.png'])\n",
    "histograms_only_fig_time_bin_laps, histograms_only_fig_time_bin_ripples = histograms_only_all_time_bin_session_figures[0]\n",
    "histograms_only_fig_time_bin_laps.show()\n",
    "histograms_only_fig_time_bin_ripples.show()"
   ]
  },
  {
   "cell_type": "markdown",
   "metadata": {},
   "source": [
    "# Matplotlib-based versions:"
   ]
  },
  {
   "cell_type": "code",
   "execution_count": null,
   "metadata": {
    "tags": [
     "matplotlib-figure",
     "run_main",
     "run_figures_main"
    ]
   },
   "outputs": [],
   "source": [
    "from pyphoplacecellanalysis.Pho2D.statistics_plotting_helpers import plot_histograms_across_sessions, plot_stacked_histograms\n",
    "from pyphoplacecellanalysis.SpecificResults.PhoDiba2023Paper import _perform_dual_hist_plot\n",
    "matplotlib.use('Qt5Agg')\n",
    "\n",
    "_perform_dual_hist_plot = partial(\n",
    "    _perform_dual_hist_plot,\n",
    "    # time_delta_tuple=(earliest_delta_aligned_t_start, 0.0, latest_delta_aligned_t_end),\n",
    "    # legend_groups_to_solo=[0.025, 0.058], legend_groups_to_hide=None,\n",
    "    legend_groups_to_solo=[0.050], legend_groups_to_hide=None,\n",
    "    # legend_groups_to_solo=None, legend_groups_to_hide=[0.03, 0.0444, 0.05],\n",
    ")\n",
    "\n"
   ]
  },
  {
   "attachments": {
    "image.png": {
     "image/png": "[encoded data removed]"
    }
   },
   "cell_type": "markdown",
   "metadata": {},
   "source": [
    "## 2024-09-27 - Really good Matplotlib plotting code\n",
    "![image.png](attachment:image.png)"
   ]
  },
  {
   "cell_type": "code",
   "execution_count": null,
   "metadata": {
    "tags": [
     "matplotlib-figure"
    ]
   },
   "outputs": [],
   "source": [
    "matplotlib.use('Qt5Agg')\n",
    "# grainularity_desc: str = 'by-time-bin'\n",
    "# laps_df: pd.DataFrame = all_sessions_laps_time_bin_df\n",
    "# ripple_df: pd.DataFrame = all_sessions_ripple_time_bin_df\n",
    "_out_figs_dict = {}\n",
    "_laps_histogram_out, _ripple_histogram_out = _perform_dual_hist_plot(grainularity_desc='by-time-bin', laps_df=all_sessions_laps_time_bin_df, ripple_df=all_sessions_ripple_time_bin_df,\n",
    "                                                                    #   legend_groups_to_solo=[0.025], legend_groups_to_hide=None,\n",
    "                                                                    #   legend_groups_to_solo=None, legend_groups_to_hide=[0.03, 0.0444, 0.05],\n",
    "                                                                    )\n",
    "\n",
    "_out_figs_dict[_laps_histogram_out.context.descriptor_str] = _laps_histogram_out.figures[0]\n",
    "_out_figs_dict[_ripple_histogram_out.context.descriptor_str] = _ripple_histogram_out.figures[0]\n",
    "\n",
    "# grainularity_desc: str = 'by-epoch'\n",
    "# laps_df: pd.DataFrame = all_sessions_laps_df\n",
    "# ripple_df: pd.DataFrame = all_sessions_ripple_df\n",
    "_laps_histogram_out, _ripple_histogram_out = _perform_dual_hist_plot(grainularity_desc='by-epoch', laps_df=all_sessions_laps_df, ripple_df=all_sessions_ripple_df)\n",
    "_out_figs_dict[_laps_histogram_out.context.descriptor_str] = _laps_histogram_out.figures[0]\n",
    "_out_figs_dict[_ripple_histogram_out.context.descriptor_str] = _ripple_histogram_out.figures[0]\n",
    "_out_figs_dict"
   ]
  },
  {
   "cell_type": "code",
   "execution_count": null,
   "metadata": {},
   "outputs": [],
   "source": [
    "\n",
    "# display(_laps_histogram_out)\n",
    "# display(_ripple_histogram_out)\n",
    "fig_to_clipboard(_laps_histogram_out.figures[0], bbox_inches='tight')\n"
   ]
  },
  {
   "cell_type": "code",
   "execution_count": null,
   "metadata": {},
   "outputs": [],
   "source": [
    "fig_to_clipboard(_ripple_histogram_out.figures[0], bbox_inches='tight')"
   ]
  },
  {
   "cell_type": "code",
   "execution_count": null,
   "metadata": {},
   "outputs": [],
   "source": [
    "\n",
    "fig_to_clipboard(_laps_histogram_out.figures[0], bbox_inches='tight')"
   ]
  },
  {
   "cell_type": "code",
   "execution_count": null,
   "metadata": {},
   "outputs": [],
   "source": [
    "fig_to_clipboard(_ripple_histogram_out.figures[0], bbox_inches='tight')"
   ]
  },
  {
   "cell_type": "code",
   "execution_count": null,
   "metadata": {},
   "outputs": [],
   "source": [
    "from pyphocorehelpers.plotting.media_output_helpers import figure_to_pil_image, vertical_image_stack, horizontal_image_stack, image_grid\n",
    "\n",
    "# fig_img = figure_to_pil_image(a_fig=_ripple_histogram_out.figures[0])\n",
    "# fig_img\n",
    "\n",
    "all_img_list = []\n",
    "laps_list = []\n",
    "PBEs_list = []\n",
    "\n",
    "for a_key, a_fig in _out_figs_dict.items():\n",
    "    fig_img = figure_to_pil_image(a_fig=a_fig)\n",
    "\n",
    "    if 'Laps' in a_key:\n",
    "        laps_list.append(fig_img)\n",
    "        \n",
    "    if 'PBEs' in a_key:\n",
    "        PBEs_list.append(fig_img)\n",
    "        \n",
    "    all_img_list.append(fig_img)\n",
    "    \n",
    "# all_img_list\n",
    "\n",
    "# vertical_image_stack(laps_list)\n",
    "combined_all_img = vertical_image_stack([\n",
    "    horizontal_image_stack(laps_list),\n",
    "    horizontal_image_stack(PBEs_list)\n",
    "])\n",
    "combined_all_img\n",
    "\n",
    "copy_image_to_clipboard(combined_all_img)"
   ]
  },
  {
   "cell_type": "markdown",
   "metadata": {},
   "source": [
    "# 2024-11-18 - Collecting wcorr results from session_data folders:"
   ]
  },
  {
   "cell_type": "code",
   "execution_count": null,
   "metadata": {},
   "outputs": [],
   "source": [
    "from pyphoplacecellanalysis.General.Batch.runBatch import get_file_path_if_file_exists\n",
    "# from pyphoplacecellanalysis.SpecificResults.AcrossSessionResults import copy_session_folder_files_to_target_dir\n",
    "from pyphocorehelpers.Filesystem.path_helpers import copy_movedict\n",
    "from neuropy.core.user_annotations import UserAnnotationsManager\n",
    "from pyphoplacecellanalysis.SpecificResults.AcrossSessionResults import AcrossSessionHelpers\n",
    "\n",
    "copy_dict, moved_files_dict_files = AcrossSessionHelpers._copy_exported_files_from_session_folder_to_collected_outputs(BATCH_DATE_TO_USE='2024-11-19', cuttoff_date=datetime(2024, 11, 16), target_dir=collected_outputs_directory, is_dry_run=True)\n",
    "# copy_dict, moved_files_dict_files = AcrossSessionHelpers._copy_exported_files_from_session_folder_to_collected_outputs(BATCH_DATE_TO_USE='2024-11-19', cuttoff_date=datetime(2024, 11, 16), target_dir=collected_outputs_directory, is_dry_run=False)\n",
    "copy_dict\n",
    "    "
   ]
  },
  {
   "cell_type": "code",
   "execution_count": null,
   "metadata": {},
   "outputs": [],
   "source": [
    "len(all_found_parsed_csv_files_df_dict[a_session_basedir])\n",
    "all_found_parsed_csv_files_df_dict[a_session_basedir]['_comparable_custom_replay_name'].unique()\n",
    "all_found_parsed_csv_files_df_dict[a_session_basedir]['custom_replay_name'].unique()\n",
    "len(all_found_parsed_csv_files_df_dict[a_session_basedir]['_comparable_custom_replay_name'].unique()), len(all_found_parsed_csv_files_df_dict[a_session_basedir]['custom_replay_name'].unique())\n",
    "all_found_parsed_csv_files_df_dict[a_session_basedir]['path'].unique()\n",
    "\n",
    "8, (7, 7) # compare_custom_replay_name_col_name: str = '_comparable_custom_replay_name' ## fewer total entries\n",
    "9, (7, 8) # compare_custom_replay_name_col_name: str = 'custom_replay_name'\n",
    "\n",
    "# \"2024-11-18_1210PM-kdiba_gor01_one_2006-6-09_1-22-43__withNormalComputedReplays-qclu_[1, 2, 4, 6, 7, 9]-frateThresh_1.0-(ripple_WCorrShuffle_df)_tbin-0.025.csv\" # \"-\" separator\n",
    "# \"2024-11-18_1210PM-kdiba_gor01_one_2006-6-09_1-22-43__withNormalComputedReplays_qclu_[1, 2, 4, 6, 7, 9]_frateThresh_1.0-(ripple_WCorrShuffle_df)_tbin-0.025.csv\" # \"_\" separator\n",
    "\n",
    "test_path: Path = Path('W:/Data/KDIBA/gor01/one/2006-6-09_1-22-43/output/2024-11-18_1020PM-kdiba_gor01_one_2006-6-09_1-22-43__withNormalComputedReplays_qclu_[1, 2, 4, 6, 7, 9]_frateThresh_1.0-(ripple_WCorrShuffle_df)_tbin-0.025.csv').resolve()\n",
    "test_path\n",
    "\n",
    "collected_outputs_directory.joinpath(test_path.name)"
   ]
  },
  {
   "cell_type": "code",
   "execution_count": null,
   "metadata": {},
   "outputs": [],
   "source": []
  },
  {
   "cell_type": "markdown",
   "metadata": {},
   "source": [
    "# 2025-03-17 - Collecting Final `FAT_CSV` Results"
   ]
  },
  {
   "cell_type": "code",
   "execution_count": null,
   "metadata": {
    "tags": [
     "run_fat"
    ]
   },
   "outputs": [],
   "source": [
    "from pyphoplacecellanalysis.SpecificResults.AcrossSessionResults import AcrossSessionIdentityDataframeAccessor\n",
    "from neuropy.utils.indexing_helpers import NeuroPyDataframeAccessor\n",
    "from pyphocorehelpers.indexing_helpers import PhoDataframeAccessor\n",
    "\n",
    "# # df_results = [_add_animal_name_to_session_key(df=deepcopy(v)) for v in df_results]\n",
    "\n",
    "\n",
    "most_recent_parsed_FAT_csv_files_df: pd.DataFrame = deepcopy(most_recent_parsed_csv_files_df[most_recent_parsed_csv_files_df['export_datetime'] >= cuttoff_date].pho.constrain_df_cols(file_type='FAT')) # , known_named_decoding_epochs_type='pbe')\n",
    "# Filter rows based on column: 'decoding_time_bin_size_str'\n",
    "most_recent_parsed_FAT_csv_files_df = most_recent_parsed_FAT_csv_files_df[most_recent_parsed_FAT_csv_files_df['decoding_time_bin_size_str'] == \"0.025\"]\n",
    "# Sort by column: 'export_datetime' (descending)\n",
    "most_recent_parsed_FAT_csv_files_df = most_recent_parsed_FAT_csv_files_df.sort_values(['export_datetime'], ascending=[False])\n",
    "print(f'================== Most Recent FAT .csv files:')\n",
    "most_recent_parsed_FAT_csv_files_df\n",
    "\n",
    "# df = df.across_session_identity.split_session_key_col_to_fmt_animal_exper_cols(session_key_col='session_name')\n",
    "# FAT_df: pd.DataFrame = deepcopy(all_sessions_laps_time_bin_df) ## UNCOMMENT THIS LINE WHEN NEED TO UPDATE\n",
    "# Initialize FAT_df only if it doesn't exist yet\n",
    "if 'FAT_df' not in locals() or FAT_df is None:\n",
    "    FAT_df = deepcopy(all_sessions_laps_time_bin_df)\n",
    "    print(\"FAT_df initialized from all_sessions_laps_time_bin_df\")\n",
    "else:\n",
    "    print(\"Using existing FAT_df\")\n",
    "    \n",
    "## when is 'custom_replay_name' set?\n",
    "\n",
    "# Always apply the transformation\n",
    "FAT_df = FAT_df.across_session_identity.split_session_key_col_to_fmt_animal_exper_cols(session_key_col='session_name')\n",
    "# FAT_df = FAT_df.across_session_identity.split_session_key_col_to_fmt_animal_exper_cols(session_key_col='session_name')\n",
    "\n",
    "## add a 'session_novelty_rank' that's inversely weighted with experience (newer experence == bigger numbers):\n",
    "max_experience_idx: int = np.nanmax(FAT_df['session_experience_rank'])\n",
    "FAT_df['session_novelty_rank'] = np.nanmax(FAT_df['session_experience_rank']) - FAT_df['session_experience_rank'].map(dict(zip(np.arange(max_experience_idx+1), reversed(np.arange(max_experience_idx+1))))) ## reverse \n",
    "\n",
    "print(f'================== FAT_df:')\n",
    "FAT_df"
   ]
  },
  {
   "cell_type": "code",
   "execution_count": null,
   "metadata": {},
   "outputs": [],
   "source": [
    "## has 'session_experience_rank', 'session_experience_orientation_rank', 'is_novel_exposure'\n",
    "num_ranks = np.nanmax(FAT_df['session_experience_rank']) \n",
    "dict(zip(np.arange(num_ranks+1), reversed(np.arange(num_ranks+1))))"
   ]
  },
  {
   "cell_type": "markdown",
   "metadata": {
    "tags": [
     "run_fat"
    ]
   },
   "source": [
    "unique_values_dict = FAT_df.neuropy.get_column_unique_values_dict(columns_include_subset=['known_named_decoding_epochs_type', 'trained_compute_epochs', 'masked_time_bin_fill_type', 'time_bin_size'])\n",
    "unique_values_dict"
   ]
  },
  {
   "cell_type": "code",
   "execution_count": null,
   "metadata": {},
   "outputs": [],
   "source": [
    "a_df_dict: Dict[str, pd.DataFrame] = FAT_df.pho.partition_df_dict(partitionColumn='known_named_decoding_epochs_type')\n",
    "list(a_df_dict.keys())\n",
    "\n",
    "a_df_dict: Dict[str, pd.DataFrame] = FAT_df.pho.partition_df_dict(partitionColumn='known_named_decoding_epochs_type')\n",
    "list(a_df_dict.keys())"
   ]
  },
  {
   "cell_type": "markdown",
   "metadata": {},
   "source": [
    "#### Extract required dataframes for `DataFrameFilter`"
   ]
  },
  {
   "cell_type": "code",
   "execution_count": null,
   "metadata": {
    "tags": [
     "run_fat"
    ]
   },
   "outputs": [],
   "source": [
    "all_sessions_ripple_df = deepcopy(FAT_df.pho.constrain_df_cols(data_grain='per_epoch', known_named_decoding_epochs_type='pbe')) # , decoder_identifier='pseudo2D', masked_time_bin_fill_type=['ignore'], trained_compute_epochs='laps'\n",
    "all_sessions_ripple_time_bin_df = deepcopy(FAT_df.pho.constrain_df_cols(data_grain='per_time_bin', known_named_decoding_epochs_type='pbe'))\n",
    "\n",
    "all_sessions_laps_df = deepcopy(FAT_df.pho.constrain_df_cols(data_grain='per_epoch', known_named_decoding_epochs_type='laps'))\n",
    "all_sessions_laps_time_bin_df = deepcopy(FAT_df.pho.constrain_df_cols(data_grain='per_time_bin', known_named_decoding_epochs_type='laps'))\n",
    "\n",
    "all_sessions_nonPBE_endcap_df = deepcopy(FAT_df.pho.constrain_df_cols(data_grain='per_epoch', known_named_decoding_epochs_type='non_pbe_endcaps')) # , decoder_identifier='pseudo2D', masked_time_bin_fill_type=['ignore'], trained_compute_epochs='laps'\n",
    "all_sessions_nonPBE_endcap_time_bin_df = deepcopy(FAT_df.pho.constrain_df_cols(data_grain='per_time_bin', known_named_decoding_epochs_type='non_pbe_endcaps'))\n",
    "\n",
    "\n",
    "_perform_update_df_context_metadata(data_context = IdentifyingContext(epochs_name='laps', data_grain='per_epoch', title_prefix=\"Lap Per Epoch\", dataframe_name='df'), concatenated_ripple_df=all_sessions_laps_df)\n",
    "_perform_update_df_context_metadata(data_context = IdentifyingContext(epochs_name='laps', data_grain='per_time_bin', title_prefix=\"Lap Individual Time Bins\", dataframe_name='time_bin_df'), concatenated_ripple_df=all_sessions_laps_time_bin_df)\n",
    "_perform_update_df_context_metadata(data_context = IdentifyingContext(epochs_name='PBE', data_grain='per_epoch', title_prefix=\"PBE Per Epoch\", dataframe_name='df'), concatenated_ripple_df = all_sessions_ripple_df)\n",
    "_perform_update_df_context_metadata(data_context = IdentifyingContext(epochs_name='PBE', data_grain='per_time_bin', title_prefix=\"PBE Individual Time Bins\", dataframe_name='time_bin_df'), concatenated_ripple_df = all_sessions_ripple_time_bin_df)\n",
    "_perform_update_df_context_metadata(data_context = IdentifyingContext(epochs_name='PBE', data_grain='per_epoch', dataframe_name='MultiMeasure_ripple_df', title_prefix=\"multiMeasure - PBE Per Epoch\"), concatenated_ripple_df = all_sessions_MultiMeasure_ripple_df)\n",
    "_perform_update_df_context_metadata(data_context = IdentifyingContext(epochs_name='PBE', data_grain='per_epoch', dataframe_name='all_scores_ripple_df', title_prefix=\"allScores - PBE Per Epoch\"), concatenated_ripple_df = all_sessions_all_scores_ripple_df)\n",
    "_perform_update_df_context_metadata(data_context = IdentifyingContext(epochs_name='laps', data_grain='per_epoch', dataframe_name='MultiMeasure_laps_df', title_prefix=\"multiMeasure - Lap Per Epoch\"), concatenated_ripple_df = all_sessions_MultiMeasure_laps_df)\n",
    "\n",
    "_perform_update_df_context_metadata(data_context = IdentifyingContext(epochs_name='non_pbe_endcaps', data_grain='per_epoch', title_prefix=\"ENDCAPs Per Epoch\", dataframe_name='df'), concatenated_ripple_df = all_sessions_nonPBE_endcap_df)\n",
    "_perform_update_df_context_metadata(data_context = IdentifyingContext(epochs_name='non_pbe_endcaps', data_grain='per_time_bin', title_prefix=\"ENDCAPs Individual Time Bins\", dataframe_name='time_bin_df'), concatenated_ripple_df = all_sessions_nonPBE_endcap_time_bin_df)\n",
    "\n",
    "_perform_update_df_context_metadata(data_context = IdentifyingContext(title_prefix=\"FAT df\", dataframe_name='FAT_df'), concatenated_ripple_df=FAT_df)\n",
    "\n",
    "\n",
    "\n",
    "\n",
    "## OUTPUTS: all_sessions_nonPBE_endcap_df, all_sessions_nonPBE_endcap_time_bin_df, "
   ]
  },
  {
   "cell_type": "code",
   "execution_count": null,
   "metadata": {},
   "outputs": [],
   "source": [
    "# all_sessions_nonPBE_endcap_df ## empty\n",
    "all_sessions_nonPBE_endcap_time_bin_df\n",
    "# all_sessions_nonPBE_endcap_time_bin_df['P_Short']"
   ]
  },
  {
   "cell_type": "markdown",
   "metadata": {},
   "source": [
    "# 2025-04-21 - ⚓🟢 Proper matching"
   ]
  },
  {
   "cell_type": "code",
   "execution_count": null,
   "metadata": {},
   "outputs": [],
   "source": [
    "## INPUTS: FAT_df, all_sessions_ripple_time_bin_df\n",
    "## INPUTS: all_sessions_all_scores_ripple_df, all_sessions_ripple_time_bin_df\n",
    "# FAT_df\n",
    "all_sessions_all_scores_ripple_df"
   ]
  },
  {
   "cell_type": "code",
   "execution_count": null,
   "metadata": {},
   "outputs": [],
   "source": [
    "print(list(all_sessions_ripple_df.columns))"
   ]
  },
  {
   "cell_type": "code",
   "execution_count": null,
   "metadata": {},
   "outputs": [],
   "source": [
    "## ULTIMATELY ADD TO THIS ONE: all_sessions_ripple_time_bin_df\n",
    "# all_sessions_ripple_time_bin_df\n",
    "\n",
    "time_bin_size = 0.025\n",
    "# time_bin_size = 0.05\n",
    "custom_replay_name = 'withNormalComputedReplays-qclu_[1, 2, 4, 6, 7, 8, 9]-frateThresh_5.0'\n",
    "# custom_replay_name = 'withNormalComputedReplays-qclu_[1, 2]-frateThresh_5.0'\n",
    "\n",
    "_common_filter_dict = dict(custom_replay_name=custom_replay_name, time_bin_size=time_bin_size, )\n",
    "_extended_common_filter_dict = dict(trained_compute_epochs='laps', masked_time_bin_fill_type='ignore', epochs_source='_withNormalComputedReplays')\n",
    "\n",
    "\n",
    "# _CONSTRAINED_FAT_df: pd.DataFrame = deepcopy(all_sessions_ripple_time_bin_df).pho.constrain_df_cols(custom_replay_name=custom_replay_name, time_bin_size=time_bin_size, **_extended_common_filter_dict)\n",
    "# _CONSTRAINED_FAT_df = _CONSTRAINED_FAT_df.dropna(axis=1, how='all', inplace=False)\n",
    "# _CONSTRAINED_FAT_df\n",
    "\n",
    "_CONSTRAINED_FAT_all_sessions_ripple_by_epoch_df: pd.DataFrame = deepcopy(all_sessions_ripple_df).pho.constrain_df_cols(**_common_filter_dict, **_extended_common_filter_dict)\n",
    "if 'duration' not in _CONSTRAINED_FAT_all_sessions_ripple_by_epoch_df:\n",
    "    _CONSTRAINED_FAT_all_sessions_ripple_by_epoch_df['duration'] = _CONSTRAINED_FAT_all_sessions_ripple_by_epoch_df['stop'] - _CONSTRAINED_FAT_all_sessions_ripple_by_epoch_df['start']\n",
    "_CONSTRAINED_FAT_all_sessions_ripple_by_epoch_df = _CONSTRAINED_FAT_all_sessions_ripple_by_epoch_df.dropna(axis=1, how='all', inplace=False)\n",
    "_CONSTRAINED_FAT_all_sessions_ripple_by_epoch_df\n",
    "\n",
    "\n",
    "_CONSTRAINED_FAT_all_sessions_ripple_time_bin_df: pd.DataFrame = deepcopy(all_sessions_ripple_time_bin_df).pho.constrain_df_cols(**_common_filter_dict, **_extended_common_filter_dict)\n",
    "_CONSTRAINED_FAT_all_sessions_ripple_time_bin_df = _CONSTRAINED_FAT_all_sessions_ripple_time_bin_df.dropna(axis=1, how='all', inplace=False)\n",
    "_CONSTRAINED_FAT_all_sessions_ripple_time_bin_df\n",
    "\n",
    "\n",
    "# _CONSTRAINED_FAT_df: pd.DataFrame = deepcopy(FAT_df).pho.constrain_df_cols(custom_replay_name='withNormalComputedReplays-qclu_[1, 2, 4, 6, 7, 8, 9]-frateThresh_5.0', time_bin_size=0.05, **_extended_common_filter_dict)\n",
    "# _CONSTRAINED_FAT_df = _CONSTRAINED_FAT_df.dropna(axis=1, how='all', inplace=False)\n",
    "# _CONSTRAINED_FAT_df\n",
    "\n",
    "_CONSTRAINED_all_sessions_ripple_by_epoch_df: pd.DataFrame = deepcopy(all_sessions_all_scores_ripple_df).pho.constrain_df_cols(**_common_filter_dict) # , **_extended_common_filter_dict\n",
    "_CONSTRAINED_all_sessions_ripple_by_epoch_df = _CONSTRAINED_all_sessions_ripple_by_epoch_df.dropna(axis=1, how='all', inplace=False)\n",
    "if 'duration' not in _CONSTRAINED_all_sessions_ripple_by_epoch_df:\n",
    "    _CONSTRAINED_all_sessions_ripple_by_epoch_df['duration'] = _CONSTRAINED_all_sessions_ripple_by_epoch_df['stop'] - _CONSTRAINED_all_sessions_ripple_by_epoch_df['start']\n",
    "_CONSTRAINED_all_sessions_ripple_by_epoch_df\n",
    "\n",
    "# _CONSTRAINED_all_sessions_ripple_time_bin_df: pd.DataFrame = deepcopy(all_sessions_all_scores_ripple_df).pho.constrain_df_cols(custom_replay_name=custom_replay_name, time_bin_size=time_bin_size) # , **_extended_common_filter_dict\n",
    "# _CONSTRAINED_all_sessions_ripple_time_bin_df = _CONSTRAINED_all_sessions_ripple_time_bin_df.dropna(axis=1, how='all', inplace=False)\n",
    "# _CONSTRAINED_all_sessions_ripple_time_bin_df\n",
    "\n",
    "\n",
    "## OUTPUTS: ['parent_epoch_label']\n",
    "\n"
   ]
  },
  {
   "cell_type": "markdown",
   "metadata": {},
   "source": [
    "### Enumerating Available Values"
   ]
  },
  {
   "cell_type": "code",
   "execution_count": null,
   "metadata": {},
   "outputs": [],
   "source": [
    "unique_values_dict = FAT_df.neuropy.get_column_unique_values_dict(columns_include_subset=['custom_replay_name', 'included_qclu_values', 'minimum_inclusion_fr_Hz', 'time_bin_size']) # , 'masked_time_bin_fill_type'\n",
    "unique_values_dict\n",
    "unique_values_dict = FAT_df.neuropy.get_flat_unique_values(columns_include_subset=['custom_replay_name', 'included_qclu_values', 'minimum_inclusion_fr_Hz', 'time_bin_size']) # , 'masked_time_bin_fill_type'\n",
    "unique_values_dict\n",
    "\n",
    "# {Context(custom_replay_name= 'withNormalComputedReplays-qclu_[1, 2, 4, 6, 7, 8, 9]-frateThresh_5.0', included_qclu_values= '[1, 2, 4, 6, 7, 8, 9]', minimum_inclusion_fr_Hz= 5.0, time_bin_size= 0.05): 2355955,\n",
    "#  Context(custom_replay_name= 'withNormalComputedReplays-qclu_[1, 2]-frateThresh_5.0', included_qclu_values= '[1, 2]', minimum_inclusion_fr_Hz= 5.0, time_bin_size= 0.05): 2291178,\n",
    "#  Context(custom_replay_name= 'withNormalComputedReplays-qclu_[1, 2, 4, 6, 7, 9]-frateThresh_5.0', included_qclu_values= '[1, 2, 4, 6, 7, 9]', minimum_inclusion_fr_Hz= 5.0, time_bin_size= 0.05): 998617,\n",
    "#  Context(custom_replay_name= 'withNormalComputedReplays-qclu_[1, 2, 4, 6, 7, 9]-frateThresh_5.0', included_qclu_values= '[1, 2, 4, 6, 7, 9]', minimum_inclusion_fr_Hz= 5.0, time_bin_size= 0.025): 633693}\n",
    "\n",
    "unique_values_dict = FAT_df.neuropy.get_hierarchical_counts(columns_include_subset=['custom_replay_name', 'included_qclu_values', 'minimum_inclusion_fr_Hz', 'time_bin_size']) # , 'masked_time_bin_fill_type'\n",
    "unique_values_dict\n",
    "\n",
    "\n",
    "# {'withNormalComputedReplays-qclu_[1, 2, 4, 6, 7, 8, 9]-frateThresh_5.0': {'[1, 2, 4, 6, 7, 8, 9]': {5.0: {0.025: 4573952}}},\n",
    "#  'withNormalComputedReplays-qclu_[1, 2, 4, 6, 7, 9]-frateThresh_5.0': {'[1, 2, 4, 6, 7, 9]': {5.0: {0.025: 1331618}}},\n",
    "#  'withNormalComputedReplays-qclu_[1, 2]-frateThresh_5.0': {'[1, 2]': {5.0: {0.025: 884945}}}}\n",
    "\n",
    "\n",
    "\n",
    "\n"
   ]
  },
  {
   "cell_type": "markdown",
   "metadata": {},
   "source": [
    "### Trying to combine the scores and the epochs"
   ]
  },
  {
   "cell_type": "code",
   "execution_count": null,
   "metadata": {},
   "outputs": [],
   "source": [
    "## look up the value of the ['start', 'stop', 'duration'] columns in `_CONSTRAINED_FAT_all_sessions_ripple_by_epoch_df` based on the _CONSTRAINED_FAT_all_sessions_ripple_by_epoch_df['label'] that matches `_CONSTRAINED_FAT_all_sessions_ripple_time_bin_df['parent_epoch_label']`. Add the ['start', 'stop', 'duration'] values to `_CONSTRAINED_FAT_all_sessions_ripple_time_bin_df` as columns ['parent_epoch_start', 'parent_epoch_stop', 'parent_epoch_duration'] \n",
    "# _CONSTRAINED_FAT_all_sessions_ripple_time_bin_df['parent_epoch_label'].map(_CONSTRAINED_FAT_all_sessions_ripple_by_epoch_df['label'])\n",
    "# Create a mapping dictionary from label to the required columns\n",
    "# epoch_mapping = _CONSTRAINED_FAT_all_sessions_ripple_by_epoch_df.set_index('label')[['start', 'stop', 'duration']].to_dict('index')\n",
    "epoch_mapping = _CONSTRAINED_FAT_all_sessions_ripple_by_epoch_df.set_index('label')[['session_name', 'start', 'stop', 'duration']].to_dict('index')\n",
    "\n",
    "# Add the parent epoch information to the time bin DataFrame\n",
    "_CONSTRAINED_FAT_all_sessions_ripple_time_bin_df['parent_epoch_start'] = _CONSTRAINED_FAT_all_sessions_ripple_time_bin_df['parent_epoch_label'].map(lambda x: epoch_mapping.get(x, {}).get('start'))\n",
    "_CONSTRAINED_FAT_all_sessions_ripple_time_bin_df['parent_epoch_stop'] = _CONSTRAINED_FAT_all_sessions_ripple_time_bin_df['parent_epoch_label'].map(lambda x: epoch_mapping.get(x, {}).get('stop'))\n",
    "_CONSTRAINED_FAT_all_sessions_ripple_time_bin_df['parent_epoch_duration'] = _CONSTRAINED_FAT_all_sessions_ripple_time_bin_df['parent_epoch_label'].map(lambda x: epoch_mapping.get(x, {}).get('duration'))\n",
    "_CONSTRAINED_FAT_all_sessions_ripple_time_bin_df\n",
    "\n"
   ]
  },
  {
   "cell_type": "code",
   "execution_count": null,
   "metadata": {},
   "outputs": [],
   "source": [
    "# Create a composite key in both DataFrames for mapping\n",
    "# First, ensure both DataFrames have the required columns\n",
    "# required_columns = ['custom_replay_name', 'session_name', 'label']\n",
    "required_columns = ['session_name', 'label']\n",
    "\n",
    "# Create a mapping dictionary using multiple columns as a composite key\n",
    "# First, create a tuple of the key columns for each row\n",
    "_CONSTRAINED_FAT_all_sessions_ripple_by_epoch_df['composite_key'] = _CONSTRAINED_FAT_all_sessions_ripple_by_epoch_df.apply(\n",
    "    lambda row: (row['session_name'], row['label']), axis=1\n",
    ")\n",
    "\n",
    "# _CONSTRAINED_FAT_all_sessions_ripple_by_epoch_df['composite_key'] = _CONSTRAINED_FAT_all_sessions_ripple_by_epoch_df.apply(\n",
    "#     lambda row: (row['custom_replay_name'], row['session_name'], row['label']), axis=1\n",
    "# )\n",
    "\n",
    "# Create the mapping dictionary\n",
    "epoch_mapping = dict(zip(\n",
    "    _CONSTRAINED_FAT_all_sessions_ripple_by_epoch_df['composite_key'],\n",
    "    _CONSTRAINED_FAT_all_sessions_ripple_by_epoch_df[['start', 'stop', 'duration']].to_dict('records')\n",
    "))\n",
    "\n",
    "# Create the same composite key in the target DataFrame\n",
    "# _CONSTRAINED_FAT_all_sessions_ripple_time_bin_df['composite_key'] = _CONSTRAINED_FAT_all_sessions_ripple_time_bin_df.apply(\n",
    "#     lambda row: (row['custom_replay_name'], row['session_name'], row['parent_epoch_label']), axis=1\n",
    "# )\n",
    "\n",
    "_CONSTRAINED_FAT_all_sessions_ripple_time_bin_df['composite_key'] = _CONSTRAINED_FAT_all_sessions_ripple_time_bin_df.apply(\n",
    "    lambda row: (row['session_name'], row['parent_epoch_label']), axis=1\n",
    ")\n",
    "\n",
    "# Map the values using the composite key\n",
    "_CONSTRAINED_FAT_all_sessions_ripple_time_bin_df['parent_epoch_start'] = _CONSTRAINED_FAT_all_sessions_ripple_time_bin_df['composite_key'].map(\n",
    "    lambda x: epoch_mapping.get(x, {}).get('start')\n",
    ")\n",
    "_CONSTRAINED_FAT_all_sessions_ripple_time_bin_df['parent_epoch_stop'] = _CONSTRAINED_FAT_all_sessions_ripple_time_bin_df['composite_key'].map(\n",
    "    lambda x: epoch_mapping.get(x, {}).get('stop')\n",
    ")\n",
    "_CONSTRAINED_FAT_all_sessions_ripple_time_bin_df['parent_epoch_duration'] = _CONSTRAINED_FAT_all_sessions_ripple_time_bin_df['composite_key'].map(\n",
    "    lambda x: epoch_mapping.get(x, {}).get('duration')\n",
    ")\n",
    "\n",
    "# Optionally, remove the temporary composite_key column\n",
    "_CONSTRAINED_FAT_all_sessions_ripple_time_bin_df.drop('composite_key', axis=1, inplace=True)\n",
    "_CONSTRAINED_FAT_all_sessions_ripple_by_epoch_df.drop('composite_key', axis=1, inplace=True)\n",
    "\n",
    "## OUTPUTS: _CONSTRAINED_FAT_all_sessions_ripple_time_bin_df\n",
    "_CONSTRAINED_FAT_all_sessions_ripple_time_bin_df\n",
    "_CONSTRAINED_FAT_all_sessions_ripple_by_epoch_df"
   ]
  },
  {
   "cell_type": "code",
   "execution_count": null,
   "metadata": {},
   "outputs": [],
   "source": [
    "_CONSTRAINED_FAT_all_sessions_ripple_time_bin_df"
   ]
  },
  {
   "cell_type": "code",
   "execution_count": null,
   "metadata": {},
   "outputs": [],
   "source": [
    "from neuropy.core.epoch import find_epochs_overlapping_other_epochs\n",
    "\n",
    "## INPUTS: _CONSTRAINED_FAT_all_sessions_ripple_time_bin_df, _CONSTRAINED_all_sessions_ripple_by_epoch_df, \n",
    "# _CONSTRAINED_FAT_df['parent_epoch_label']\n",
    "\n",
    "# continuous_time_binned_computation_epochs_df: pd.DataFrame = pd.DataFrame({'start': left_edges, 'stop': right_edges, 'label': np.arange(len(left_edges))})\n",
    "\n",
    "continuous_time_binned_computation_epochs_df: pd.DataFrame = _CONSTRAINED_FAT_all_sessions_ripple_time_bin_df[['start', 'stop', 'label']]\n",
    "\n",
    "_CONSTRAINED_FAT_all_sessions_ripple_time_bin_df['is_all_scores_epoch_included'] = False\n",
    "is_timebin_included: NDArray = find_epochs_overlapping_other_epochs(epochs_df=continuous_time_binned_computation_epochs_df, epochs_df_required_to_overlap=deepcopy(_CONSTRAINED_all_sessions_ripple_by_epoch_df))\n",
    "_CONSTRAINED_FAT_all_sessions_ripple_time_bin_df['is_all_scores_epoch_included'] = is_timebin_included"
   ]
  },
  {
   "cell_type": "code",
   "execution_count": null,
   "metadata": {},
   "outputs": [],
   "source": [
    "_CONSTRAINED_FAT_all_sessions_ripple_time_bin_df"
   ]
  },
  {
   "cell_type": "code",
   "execution_count": null,
   "metadata": {},
   "outputs": [],
   "source": [
    "np.sum(_CONSTRAINED_FAT_all_sessions_ripple_time_bin_df['is_all_scores_epoch_included'])"
   ]
  },
  {
   "cell_type": "markdown",
   "metadata": {},
   "source": [
    "### IDK, exploration?\n"
   ]
  },
  {
   "cell_type": "code",
   "execution_count": null,
   "metadata": {},
   "outputs": [],
   "source": [
    "from pyphocorehelpers.indexing_helpers import get_dict_subset\n",
    "\n",
    "# column_constraints = {'masked_time_bin_fill_type': 'ignore'}\n",
    "# matching_column_names = ['session_name', 'time_bin_size', 'trained_compute_epochs', 'format_name', 'animal', 'exper_name', 'epochs_source', 'included_qclu_values', 'minimum_inclusion_fr_Hz', 't_bin_center']  # ['start', 'stop']\n",
    "matching_column_names = ['session_name', 'format_name', 'animal', 'exper_name', 'included_qclu_values', 'minimum_inclusion_fr_Hz', 'result_t_bin_idx', 'epoch_df_idx']\n",
    "\n",
    "# matching_column_names\n",
    "# all_sessions_ripple_df\n",
    "# FAT_df\n",
    "\n",
    "# # all_sessions_all_scores_ripple_df\n",
    "# ## MATCH ON THIS ONE: all_sessions_ripple_df\n",
    "_CONSTRAINED_all_sessions_ripple_df = deepcopy(all_sessions_ripple_df).pho.constrain_df_cols(custom_replay_name='withNormalComputedReplays-qclu_[1, 2, 4, 6, 7, 8, 9]-frateThresh_5.0', time_bin_size=0.05, trained_compute_epochs='laps', masked_time_bin_fill_type='ignore', epochs_source='_withNormalComputedReplays')\n",
    "_CONSTRAINED_all_sessions_ripple_df['duration'] = _CONSTRAINED_all_sessions_ripple_df['stop'] - _CONSTRAINED_all_sessions_ripple_df['start']\n",
    "_CONSTRAINED_all_sessions_ripple_df\n",
    "\n",
    "_EPOCH_to_df_MAP = {tuple(get_dict_subset(an_epoch_tuple._asdict(), included_keys=matching_column_names, require_all_keys=True).values()):an_epoch_tuple.duration  for an_epoch_tuple in _CONSTRAINED_all_sessions_ripple_df.itertuples(name='EpochResultTuple')}\n",
    "# _EPOCH_to_df_MAP = {an_epoch_tuple.t_bin_center:an_epoch_tuple.duration  for an_epoch_tuple in EPOCH_VER_df.itertuples(name='EpochResultTuple')}\n",
    "_EPOCH_to_df_MAP\n",
    "\n",
    "# Performed 3 aggregations grouped on columns: 'animal', 'format_name' and 8 other columns\n",
    "# FAT_df = FAT_df.groupby(['animal', 'format_name', 'exper_name', 'epochs_source', 'session_name', 'time_bin_size', 'minimum_inclusion_fr_Hz', 'included_qclu_values', 'result_t_bin_idx', 'epoch_df_idx']).agg(start_first=('start', 'first'), stop_last=('stop', 'last'), t_count=('t', 'count')).reset_index()\n",
    "FAT_df\n",
    "\n",
    "# _CONSTRAINED_all_sessions_ripple_time_bin_df['parent_epoch_duration'] = \n",
    "# _CONSTRAINED_all_sessions_ripple_time_bin_df.applymap(lambda x: _EPOCH_to_df_MAP.get(x, None))\n",
    "# _CONSTRAINED_all_sessions_ripple_time_bin_df"
   ]
  },
  {
   "cell_type": "code",
   "execution_count": null,
   "metadata": {},
   "outputs": [],
   "source": [
    "type(_CONSTRAINED_all_sessions_ripple_time_bin_df)\n",
    "pd.__version__"
   ]
  },
  {
   "cell_type": "code",
   "execution_count": null,
   "metadata": {},
   "outputs": [],
   "source": [
    "all_sessions_all_scores_ripple_df"
   ]
  },
  {
   "cell_type": "code",
   "execution_count": null,
   "metadata": {},
   "outputs": [],
   "source": [
    "print(list(_CONSTRAINED_all_sessions_ripple_df.columns))\n",
    "\n",
    "['result_t_bin_idx', 'epoch_df_idx', 'parent_epoch_label', 'label']"
   ]
  },
  {
   "cell_type": "code",
   "execution_count": null,
   "metadata": {},
   "outputs": [],
   "source": [
    "from neuropy.utils.mixins.indexing_helpers import get_dict_subset\n",
    "\n",
    "### GET THE EPOCH version's data mapping\n",
    "## INPUTS: df_filter\n",
    "EPOCH_VER_df: pd.DataFrame = deepcopy(df_filter.active_plot_df)\n",
    "is_high_main_seq_len = df_filter.additional_filter_predicates['high_main_seq_len'](df_filter.active_plot_df)\n",
    "is_low_main_seq_len = df_filter.additional_filter_predicates['low_main_seq_len'](df_filter.active_plot_df)\n",
    "\n",
    "EPOCH_VER_df['is_high_main_seq_len'] = is_high_main_seq_len\n",
    "EPOCH_VER_df['is_low_main_seq_len'] = is_low_main_seq_len\n",
    "EPOCH_VER_df\n",
    "# get_dict_subset(a_dict: dict, subset_includelist=None, subset_excludelist=None)\n",
    "\n",
    "_EPOCH_to_df_MAP = {tuple(get_dict_subset(an_epoch_tuple._asdict(), subset_includelist=['session_name', 'time_bin_size', 'trained_compute_epochs', 'format_name', 'animal', 'exper_name', 'epochs_source', 'included_qclu_values', 'minimum_inclusion_fr_Hz', 'start', 'stop']).values()):an_epoch_tuple.duration  for an_epoch_tuple in EPOCH_VER_df.itertuples(name='EpochResultTuple')}\n",
    "# _EPOCH_to_df_MAP = {an_epoch_tuple.t_bin_center:an_epoch_tuple.duration  for an_epoch_tuple in EPOCH_VER_df.itertuples(name='EpochResultTuple')}\n",
    "_EPOCH_to_df_MAP\n",
    "\n",
    "\n",
    "# # all_sessions_ripple_df = deepcopy(FAT_df.pho.constrain_df_cols(data_grain='per_epoch', known_named_decoding_epochs_type='pbe')) # , decoder_identifier='pseudo2D', masked_time_bin_fill_type=['ignore'], trained_compute_epochs='laps'\n",
    "\n"
   ]
  },
  {
   "cell_type": "code",
   "execution_count": null,
   "metadata": {},
   "outputs": [],
   "source": [
    "unique_values_dict = FAT_df.neuropy.get_column_unique_values_dict(columns_include_subset=['custom_replay_name', 'included_qclu_values', 'minimum_inclusion_fr_Hz', 'time_bin_size']) # , 'masked_time_bin_fill_type'\n",
    "unique_values_dict"
   ]
  },
  {
   "cell_type": "code",
   "execution_count": null,
   "metadata": {},
   "outputs": [],
   "source": [
    "unique_values_dict = all_sessions_all_scores_ripple_df.neuropy.get_column_unique_values_dict(columns_include_subset=['custom_replay_name', 'time_bin_size']) # , 'masked_time_bin_fill_type', 'included_qclu_values', 'minimum_inclusion_fr_Hz'\n",
    "unique_values_dict"
   ]
  },
  {
   "cell_type": "code",
   "execution_count": null,
   "metadata": {},
   "outputs": [],
   "source": [
    "unique_values_dict = FAT_df.neuropy.get_column_unique_values_dict(columns_include_subset=['custom_replay_name', 'known_named_decoding_epochs_type', 'trained_compute_epochs', 'masked_time_bin_fill_type', 'time_bin_size'])\n",
    "unique_values_dict"
   ]
  },
  {
   "cell_type": "code",
   "execution_count": null,
   "metadata": {},
   "outputs": [],
   "source": []
  },
  {
   "cell_type": "markdown",
   "metadata": {},
   "source": [
    "# 2025-03-17 `DataFrameFilter` with FAT result"
   ]
  },
  {
   "cell_type": "code",
   "execution_count": null,
   "metadata": {},
   "outputs": [],
   "source": [
    "## Save out all final dfs to CSV\n",
    "## INPUTS: all_sessions_ripple_time_bin_df\n",
    "# export_path = Path(r'C:\\Users\\pho\\repos\\Spike3DWorkEnv\\Spike3D\\data\\FAT_df_result_CSVs')\n",
    "export_path = Path('data', 'FAT_df_result_CSVs').resolve()\n",
    "export_path.mkdir(parents=False, exist_ok=True)\n",
    "Assert.path_exists(export_path)\n",
    "\n",
    "all_sessions_laps_df.to_csv(f'{export_path}/all_sessions_laps_df.csv', index=True)\n",
    "all_sessions_laps_time_bin_df.to_csv(f'{export_path}/all_sessions_laps_time_bin_df.csv', index=True)\n",
    "all_sessions_ripple_df.to_csv(f'{export_path}/all_sessions_ripple_df.csv', index=True)\n",
    "all_sessions_ripple_time_bin_df.to_csv(f'{export_path}/all_sessions_ripple_time_bin_df.csv', index=True)\n",
    "FAT_df.to_csv(f'{export_path}/FAT_df.csv', index=True)"
   ]
  },
  {
   "cell_type": "code",
   "execution_count": null,
   "metadata": {
    "tags": [
     "run_fat"
    ]
   },
   "outputs": [],
   "source": [
    "# pd.options.mode.copy_on_write = False\n",
    "# pd.options.mode.chained_assignment = 'raise'\n",
    "# pd.options.mode.chained_assignment = None\n",
    "\n",
    "\n",
    "## INPUTS: all_sessions_ripple_df, all_sessions_ripple_time_bin_df, all_sessions_laps_df, all_sessions_laps_time_bin_df, all_sessions_nonPBE_endcap_df, all_sessions_nonPBE_endcap_time_bin_df, \n",
    "\n",
    "\n",
    "# main_title = 'Decoded likelihood that time bins during running occur on the the Short Track'\n",
    "main_title = 'Short-track Decoded Likelihood during Laps'\n",
    "\n",
    "additional_filter_predicates = {}\n",
    "\n",
    "## ensure that the qclu is always before the frateThresh, reversing them if needed:\n",
    "replay_name: str = 'withNormalComputedReplays-qclu_[1, 2, 4, 6, 7, 8, 9]-frateThresh_5.0'\n",
    "# time_bin_size: float = 0.050\n",
    "time_bin_size: float = 0.025\n",
    "# time_bin_size: Tuple[float] = (0.025, 0.058)\n",
    "# time_bin_size: Tuple[float] = (0.025, 0.050)\n",
    "\n",
    "\n",
    "# split_by_column: str = 'animal'\n",
    "split_by_kwargs: str = {\n",
    "    # 'color': 'session_name',\n",
    "    # 'color': 'animal',\n",
    "    # 'size': 'session_experience_rank', 'size_max': 10,\n",
    "    # 'size': 'duration', 'size_max': 10,\n",
    "}\n",
    "\n",
    "additional_fig_layout_kwargs = None\n",
    "_build_filter_changed_plotly_plotting_callback_fn = DataFrameFilter._build_plot_callback(earliest_delta_aligned_t_start=earliest_delta_aligned_t_start, latest_delta_aligned_t_end=latest_delta_aligned_t_end, save_plotly=save_plotly,\n",
    "                                                                                          resolution_multiplier=resolution_multiplier,\n",
    "\t\t\t\t\t\t\t\t\t\t\t\t\t\t\t\t\t\t\t\t\t\t#   px_scatter_kwargs = {'symbol': 'session_name'},\n",
    "\t\t\t\t\t\t\t\t\t\t\t\t\t\t\t\t\t\t\t\t\t\t# px_scatter_kwargs = {'color': 'session_name', 'facet_row': 'time_bin_size'}, hist_kwargs = {'color': 'session_name', 'facet_row': 'time_bin_size'},\n",
    "\t\t\t\t\t\t\t\t\t\t\t\t\t\t\t\t\t\t\t\t\t\t# px_scatter_kwargs = {'color': 'session_name'}, hist_kwargs = {'color': 'session_name'}, ## Split by session_name\n",
    "                                            px_scatter_kwargs = {\n",
    "                                                # 'color': 'session_name',\n",
    "    \t\t\t\t\t\t\t\t\t\t    # 'size': 'session_experience_rank', 'size_max': 10,\n",
    "\t\t\t\t\t\t\t\t\t\t\t\t# 'size': 'session_novelty_rank', 'size_max': 10,\n",
    "\t\t\t\t\t\t\t\t\t\t\t\t# 'size': 'duration', 'size_max': 10,\n",
    "\t\t\t\t\t\t\t\t\t\t\t\t# 'render_mode': 'webgl',  # Add WebGL rendering\n",
    "                                                **split_by_kwargs,\n",
    "\t\t\t\t\t\t\t\t\t\t\t},\n",
    "\t\t\t\t\t\t\t\t\t\t\t hist_kwargs = {\n",
    "\t\t\t\t\t\t\t\t\t\t\t\t**split_by_kwargs,\n",
    "                                            }, ## Split by session_name\n",
    "                                            additional_fig_layout_kwargs=additional_fig_layout_kwargs,\n",
    "\t\t\t\t\t\t\t\t\t\t\tis_publication_ready_figure=True, main_title=main_title,\n",
    ")\n",
    " \n",
    "df_filter: DataFrameFilter = DataFrameFilter(\n",
    "\toriginal_df_dict=dict(\n",
    "        all_sessions_ripple_df=all_sessions_ripple_df,\n",
    "        all_sessions_ripple_time_bin_df=all_sessions_ripple_time_bin_df,\n",
    "        all_sessions_laps_df=all_sessions_laps_df,\n",
    "        all_sessions_laps_time_bin_df=all_sessions_laps_time_bin_df,\n",
    "\t\t# all_sessions_nonPBE_endcap_df=all_sessions_nonPBE_endcap_df,\n",
    "\t\tall_sessions_nonPBE_endcap_time_bin_df=all_sessions_nonPBE_endcap_time_bin_df, \n",
    "    ),\n",
    "\t# original_df_dict=dict(\n",
    "    #     FAT_df=FAT_df, # FAT only mode\n",
    "    # ),\t\n",
    "    additional_filter_predicates=additional_filter_predicates,\n",
    "    on_filtered_dataframes_changed_callback_fns={'build_filter_changed_plotly_plotting_callback_fn': _build_filter_changed_plotly_plotting_callback_fn},\n",
    "    active_plot_df_name='filtered_all_sessions_laps_time_bin_df',\n",
    "\t# active_plot_df_name='filtered_FAT_df',\n",
    ")\n",
    "\n",
    "# , initial_selection_mode=InitialSelectionModeEnum\n",
    "\n",
    "# Add additional columns _____________________________________________________________________________________________ #\n",
    "# _a_time_bin_size_widget = df_filter.build_extra_selectMultiple_widget(a_name='time_bin_size', df_col_name='time_bin_size', a_widget_label='Time Bin Size:')\n",
    "\n",
    "_a_dropdown = df_filter.build_extra_dropdown_widget(a_name='trained_compute_epochs', df_col_name='trained_compute_epochs', a_widget_label='TrainedComputeEpochs :', custom_initial_selection='laps')\n",
    "_a_dropdown = df_filter.build_extra_dropdown_widget(a_name='decoder_identifier', df_col_name='decoder_identifier', a_widget_label='decoder_identifier:', custom_initial_selection='pseudo2D')\n",
    "_a_selectMultiple = df_filter.build_extra_selectMultiple_widget(a_name='masked_time_bin_fill_type', df_col_name='masked_time_bin_fill_type', a_widget_label='masked_time_bin_fill_type:', initial_selection_mode=InitialSelectionModeEnum.FIRST_SELECTED)\n",
    "# _a_selectMultiple_experience_index = df_filter.build_extra_selectMultiple_widget(a_name='session_experience_rank', df_col_name='session_experience_rank', a_widget_label='session_experience_rank:', initial_selection_mode=InitialSelectionModeEnum.ALL_SELECTED)\n",
    "\n",
    "# Set initial values: ________________________________________________________________________________________________ #\n",
    "df_filter.replay_name = replay_name # 'withNormalComputedReplays-frateThresh_5.0-qclu_[1, 2, 4, 6, 7, 9]'\n",
    "df_filter.time_bin_size = time_bin_size\n",
    "df_filter.update_filters()\n",
    "df_filter.display()"
   ]
  },
  {
   "cell_type": "code",
   "execution_count": null,
   "metadata": {},
   "outputs": [],
   "source": [
    "from pyphoplacecellanalysis.Pho2D.plotly.plotly_templates import text_sizes_px\n",
    "\n",
    "text_sizes_px"
   ]
  },
  {
   "cell_type": "code",
   "execution_count": null,
   "metadata": {},
   "outputs": [],
   "source": [
    "from pyphoplacecellanalysis.SpecificResults.PhoDiba2023Paper import DataFrameFilter\n",
    "\n",
    "## INPUTS: all_sessions_ripple_df, all_sessions_ripple_time_bin_df, all_sessions_laps_df, all_sessions_laps_time_bin_df, all_sessions_nonPBE_endcap_df, all_sessions_nonPBE_endcap_time_bin_df, \n",
    "\n",
    "\n",
    "# main_title = 'Decoded likelihood that time bins during running occur on the the Short Track'\n",
    "# main_title = 'Short-track Decoded Likelihood during Laps'\n",
    "main_title = 'Short-track Decoded Likelihood during PBEs'\n",
    "\n",
    "additional_filter_predicates = {}\n",
    "\n",
    "## ensure that the qclu is always before the frateThresh, reversing them if needed:\n",
    "replay_name: str = 'withNormalComputedReplays-qclu_[1, 2, 4, 6, 7, 8, 9]-frateThresh_5.0'\n",
    "# time_bin_size: float = 0.050\n",
    "time_bin_size: float = 0.025\n",
    "\n",
    "# split_by_column: str = 'animal'\n",
    "split_by_kwargs: str = {\n",
    "    # 'color': 'session_name',\n",
    "    # 'color': 'animal',\n",
    "    # 'size': 'session_experience_rank', 'size_max': 10,\n",
    "    # 'size': 'duration', 'size_max': 10,\n",
    "}\n",
    "\n",
    "additional_fig_layout_kwargs = None\n",
    "_build_filter_changed_plotly_plotting_callback_fn = DataFrameFilter._build_plot_callback(earliest_delta_aligned_t_start=earliest_delta_aligned_t_start, latest_delta_aligned_t_end=latest_delta_aligned_t_end, save_plotly=save_plotly,\n",
    "                                                                                          resolution_multiplier=resolution_multiplier,\n",
    "\t\t\t\t\t\t\t\t\t\t\t\t\t\t\t\t\t\t\t\t\t\t#   px_scatter_kwargs = {'symbol': 'session_name'},\n",
    "\t\t\t\t\t\t\t\t\t\t\t\t\t\t\t\t\t\t\t\t\t\t# px_scatter_kwargs = {'color': 'session_name', 'facet_row': 'time_bin_size'}, hist_kwargs = {'color': 'session_name', 'facet_row': 'time_bin_size'},\n",
    "\t\t\t\t\t\t\t\t\t\t\t\t\t\t\t\t\t\t\t\t\t\t# px_scatter_kwargs = {'color': 'session_name'}, hist_kwargs = {'color': 'session_name'}, ## Split by session_name\n",
    "                                            px_scatter_kwargs = {\n",
    "                                                # 'color': 'session_name',\n",
    "    \t\t\t\t\t\t\t\t\t\t    # 'size': 'session_experience_rank', 'size_max': 10,\n",
    "\t\t\t\t\t\t\t\t\t\t\t\t# 'size': 'session_novelty_rank', 'size_max': 10,\n",
    "\t\t\t\t\t\t\t\t\t\t\t\t# 'size': 'duration', 'size_max': 10,\n",
    "\t\t\t\t\t\t\t\t\t\t\t\t# 'render_mode': 'webgl',  # Add WebGL rendering\n",
    "                                                **split_by_kwargs,\n",
    "\t\t\t\t\t\t\t\t\t\t\t},\n",
    "\t\t\t\t\t\t\t\t\t\t\t hist_kwargs = {\n",
    "\t\t\t\t\t\t\t\t\t\t\t\t**split_by_kwargs,\n",
    "                                            }, ## Split by session_name\n",
    "                                            additional_fig_layout_kwargs=additional_fig_layout_kwargs,\n",
    "\t\t\t\t\t\t\t\t\t\t\tis_publication_ready_figure=True, main_title=main_title,\n",
    ")\n",
    " \n",
    "df_filter: DataFrameFilter = DataFrameFilter(\n",
    "\toriginal_df_dict=dict(\n",
    "        all_sessions_ripple_df=all_sessions_ripple_df,\n",
    "        all_sessions_ripple_time_bin_df=all_sessions_ripple_time_bin_df,\n",
    "        all_sessions_laps_df=all_sessions_laps_df,\n",
    "        all_sessions_laps_time_bin_df=all_sessions_laps_time_bin_df,\n",
    "\t\t# all_sessions_nonPBE_endcap_df=all_sessions_nonPBE_endcap_df,\n",
    "\t\tall_sessions_nonPBE_endcap_time_bin_df=all_sessions_nonPBE_endcap_time_bin_df, \n",
    "    ),\n",
    "\t# original_df_dict=dict(\n",
    "    #     FAT_df=FAT_df, # FAT only mode\n",
    "    # ),\t\n",
    "    additional_filter_predicates=additional_filter_predicates,\n",
    "    on_filtered_dataframes_changed_callback_fns={'build_filter_changed_plotly_plotting_callback_fn': _build_filter_changed_plotly_plotting_callback_fn},\n",
    "    # active_plot_df_name='filtered_all_sessions_laps_time_bin_df',\n",
    "\tactive_plot_df_name='filtered_all_sessions_ripple_time_bin_df',\n",
    ")\n",
    "\n",
    "# , initial_selection_mode=InitialSelectionModeEnum\n",
    "\n",
    "# Add additional columns _____________________________________________________________________________________________ #\n",
    "# _a_time_bin_size_widget = df_filter.build_extra_selectMultiple_widget(a_name='time_bin_size', df_col_name='time_bin_size', a_widget_label='Time Bin Size:')\n",
    "\n",
    "_a_dropdown = df_filter.build_extra_dropdown_widget(a_name='trained_compute_epochs', df_col_name='trained_compute_epochs', a_widget_label='TrainedComputeEpochs :', custom_initial_selection='laps')\n",
    "_a_dropdown = df_filter.build_extra_dropdown_widget(a_name='decoder_identifier', df_col_name='decoder_identifier', a_widget_label='decoder_identifier:', custom_initial_selection='pseudo2D')\n",
    "_a_selectMultiple = df_filter.build_extra_selectMultiple_widget(a_name='masked_time_bin_fill_type', df_col_name='masked_time_bin_fill_type', a_widget_label='masked_time_bin_fill_type:', initial_selection_mode=InitialSelectionModeEnum.FIRST_SELECTED)\n",
    "# _a_selectMultiple_experience_index = df_filter.build_extra_selectMultiple_widget(a_name='session_experience_rank', df_col_name='session_experience_rank', a_widget_label='session_experience_rank:', initial_selection_mode=InitialSelectionModeEnum.ALL_SELECTED)\n",
    "\n",
    "# Set initial values: ________________________________________________________________________________________________ #\n",
    "df_filter.replay_name = replay_name # 'withNormalComputedReplays-frateThresh_5.0-qclu_[1, 2, 4, 6, 7, 9]'\n",
    "df_filter.time_bin_size = time_bin_size\n",
    "df_filter.update_filters()\n",
    "df_filter.display()"
   ]
  },
  {
   "cell_type": "markdown",
   "metadata": {},
   "source": [
    "#### Remove excess info for publication figure"
   ]
  },
  {
   "cell_type": "code",
   "execution_count": null,
   "metadata": {},
   "outputs": [],
   "source": [
    "figures_parent_folder: Path = Path(r'E:/Dropbox (Personal)/Active/Kamran Diba Lab/Pho-Kamran-Meetings/2025-06-06 - EXPORTS FOR PUBLICATION').resolve()\n",
    "_out_paths = df_filter.export_for_publication(figures_parent_folder=figures_parent_folder, export_html=False)\n",
    "_out_paths\n",
    "\n"
   ]
  },
  {
   "cell_type": "code",
   "execution_count": null,
   "metadata": {},
   "outputs": [],
   "source": [
    "\n",
    "\n",
    "\n",
    "def export_for_publication(fig, figures_parent_folder: Path, export_pdf: bool=True, export_html: bool = False):\n",
    "    \"\"\" exports the figures for publication \n",
    "    \n",
    "    \n",
    "    figures_parent_folder: Path = Path(r'E:/Dropbox (Personal)/Active/Kamran Diba Lab/Pho-Kamran-Meetings/2025-06-06 - EXPORTS FOR PUBLICATION').resolve()\n",
    "    fig = df_filter.figure_widget\n",
    "\n",
    "    _out_paths = export_for_publication(fig=fig, figures_parent_folder=figures_parent_folder, export_html=False)\n",
    "    _out_paths\n",
    "\n",
    "    \"\"\"    \n",
    "    _out_paths = {}\n",
    "    if export_pdf:\n",
    "        image_save_path = figures_parent_folder.joinpath('ScatterOverTime.pdf')\n",
    "        fig.write_image(image_save_path)\n",
    "        _out_paths['pdf'] = image_save_path\n",
    "\n",
    "# png_bytes = pio.to_image(fig, format='png')\n",
    "# mime_type=\"image/png\"\n",
    "# data = deepcopy(png_bytes)\n",
    "\n",
    "    if export_html:\n",
    "        html_file_output = figures_parent_folder.joinpath('ScatterOverTime.html').resolve()\n",
    "        pio.write_html(fig, file=html_file_output, auto_open=True)\n",
    "        _out_paths['html'] = html_file_output\n",
    "    return _out_paths\n",
    "\n",
    "\n",
    "\n",
    "\n",
    "\n",
    "\n",
    "figures_parent_folder: Path = Path(r'E:/Dropbox (Personal)/Active/Kamran Diba Lab/Pho-Kamran-Meetings/2025-06-06 - EXPORTS FOR PUBLICATION').resolve()\n",
    "\n",
    "fig = df_filter.figure_widget\n",
    "\n",
    "_out_paths = export_for_publication(fig=fig, figures_parent_folder=figures_parent_folder, export_html=False)\n",
    "_out_paths\n",
    "             "
   ]
  },
  {
   "cell_type": "code",
   "execution_count": null,
   "metadata": {},
   "outputs": [],
   "source": [
    "\n",
    "\n",
    "\n",
    "def export_for_publication(df_filter, figures_parent_folder: Path, export_pdf: bool=True, export_html: bool = False):\n",
    "    \"\"\" exports the figures for publication \n",
    "    \n",
    "\n",
    "    figures_parent_folder: Path = Path(r'E:/Dropbox (Personal)/Active/Kamran Diba Lab/Pho-Kamran-Meetings/2025-06-06 - EXPORTS FOR PUBLICATION').resolve()\n",
    "    _out_paths = export_for_publication(df_filter=df_filter, figures_parent_folder=figures_parent_folder, export_html=False)\n",
    "    _out_paths\n",
    "\n",
    "    \n",
    "    \n",
    "    \"\"\"\n",
    "    filename: str = deepcopy(df_filter.filename)\n",
    "    filename = f\"ScatterOverTime_{filename}\"\n",
    "    \n",
    "\n",
    "    fig = df_filter.figure_widget\n",
    "\n",
    "\n",
    "    _out_paths = {}\n",
    "    if export_pdf:\n",
    "        image_save_path = figures_parent_folder.joinpath(f'{filename}.pdf')\n",
    "        fig.write_image(image_save_path)\n",
    "        _out_paths['pdf'] = image_save_path\n",
    "\n",
    "# png_bytes = pio.to_image(fig, format='png')\n",
    "# mime_type=\"image/png\"\n",
    "# data = deepcopy(png_bytes)\n",
    "\n",
    "    if export_html:\n",
    "        html_file_output = figures_parent_folder.joinpath(f'{filename}.html').resolve()\n",
    "        pio.write_html(fig, file=html_file_output, auto_open=True)\n",
    "        _out_paths['html'] = html_file_output\n",
    "    return _out_paths\n",
    "\n",
    "\n",
    "\n",
    "\n",
    "\n",
    "\n",
    "figures_parent_folder: Path = Path(r'E:/Dropbox (Personal)/Active/Kamran Diba Lab/Pho-Kamran-Meetings/2025-06-06 - EXPORTS FOR PUBLICATION').resolve()\n",
    "_out_paths = export_for_publication(df_filter=df_filter, figures_parent_folder=figures_parent_folder, export_html=False)\n",
    "_out_paths\n",
    "             "
   ]
  },
  {
   "cell_type": "code",
   "execution_count": null,
   "metadata": {},
   "outputs": [],
   "source": [
    "## Capture desired figure\n",
    "fig = df_filter.figure_widget\n",
    "\n",
    "\n"
   ]
  },
  {
   "cell_type": "code",
   "execution_count": null,
   "metadata": {},
   "outputs": [],
   "source": [
    "fig = df_filter.figure_widget\n",
    "fig.update_layout(\n",
    "    font_family=\"Ariel\",\n",
    "    font_color=\"blue\",\n",
    "    title_font_family=\"Ariel\",\n",
    "    title_font_color=\"red\",\n",
    "    legend_title_font_color=\"green\",\n",
    "\tfont_size=7,\n",
    ")\n"
   ]
  },
  {
   "cell_type": "code",
   "execution_count": null,
   "metadata": {},
   "outputs": [],
   "source": [
    "df_filter.active_plot_df[df_filter.active_plot_df['P_Short'].notna()]\n"
   ]
  },
  {
   "cell_type": "markdown",
   "metadata": {},
   "source": [
    "## Capture Finalized Figure Parameters to generate a figure for publication"
   ]
  },
  {
   "cell_type": "code",
   "execution_count": null,
   "metadata": {},
   "outputs": [],
   "source": [
    "[k.metadata.__dict__['default_args'][0] for k in df_filter.custom_dynamic_filter_widgets_list]\n",
    "# [{'desc': 'build_extra_dropdown_widget',\n",
    "#   'df_col_name': 'trained_compute_epochs',\n",
    "#   'name': 'trained_compute_epochs',\n",
    "#   'widget_name': 'trained_compute_epochs_widget'},\n",
    "#  {'desc': 'build_extra_dropdown_widget',\n",
    "#   'df_col_name': 'decoder_identifier',\n",
    "#   'name': 'decoder_identifier',\n",
    "#   'widget_name': 'decoder_identifier_widget'},\n",
    "#  {'desc': 'build_extra_selectMultiple_widget',\n",
    "#   'df_col_name': 'masked_time_bin_fill_type',\n",
    "#   'name': 'masked_time_bin_fill_type',\n",
    "#   'widget_name': 'masked_time_bin_fill_type_widget'}]\n",
    "\n",
    "# ['df_col_name']"
   ]
  },
  {
   "cell_type": "code",
   "execution_count": null,
   "metadata": {},
   "outputs": [],
   "source": [
    "from neuropy.utils.indexing_helpers import flatten, NumpyHelpers, PandasHelpers\n",
    "from pyphoplacecellanalysis.SpecificResults.PhoDiba2023Paper import DataFrameFilter, InitialSelectionModeEnum\n",
    "\n",
    "## INPUTS: all_sessions_ripple_df, all_sessions_ripple_time_bin_df, all_sessions_laps_df, all_sessions_laps_time_bin_df, all_sessions_nonPBE_endcap_df, all_sessions_nonPBE_endcap_time_bin_df, \n",
    "\n",
    "additional_filter_predicates = {}\n",
    "\n",
    "## ensure that the qclu is always before the frateThresh, reversing them if needed:\n",
    "replay_name: str = 'withNormalComputedReplays-qclu_[1, 2, 4, 6, 7, 8, 9]-frateThresh_5.0'\n",
    "time_bin_size: float = 0.025\n",
    "# time_bin_size: float = 0.050\n",
    "# time_bin_size: Tuple[float] = (0.025, 0.058)\n",
    "# time_bin_size: Tuple[float] = (0.025, 0.050)\n",
    "\n",
    "\n",
    "# split_by_column: str = 'animal'\n",
    "split_by_kwargs: str = {\n",
    "    # 'color': 'session_name',\n",
    "    # 'color': 'animal',\n",
    "    # 'size': 'session_experience_rank', 'size_max': 10,\n",
    "    # 'size': 'duration', 'size_max': 10,\n",
    "}\n",
    "\n",
    "_build_filter_changed_plotly_plotting_callback_fn = DataFrameFilter._build_plot_callback(earliest_delta_aligned_t_start=earliest_delta_aligned_t_start, latest_delta_aligned_t_end=latest_delta_aligned_t_end, save_plotly=save_plotly,\n",
    "                                                                                          resolution_multiplier=resolution_multiplier,\n",
    "\t\t\t\t\t\t\t\t\t\t\t\t\t\t\t\t\t\t\t\t\t\t#   px_scatter_kwargs = {'symbol': 'session_name'},\n",
    "\t\t\t\t\t\t\t\t\t\t\t\t\t\t\t\t\t\t\t\t\t\t# px_scatter_kwargs = {'color': 'session_name', 'facet_row': 'time_bin_size'}, hist_kwargs = {'color': 'session_name', 'facet_row': 'time_bin_size'},\n",
    "\t\t\t\t\t\t\t\t\t\t\t\t\t\t\t\t\t\t\t\t\t\t# px_scatter_kwargs = {'color': 'session_name'}, hist_kwargs = {'color': 'session_name'}, ## Split by session_name\n",
    "                                            px_scatter_kwargs = {\n",
    "                                                # 'color': 'session_name',\n",
    "    \t\t\t\t\t\t\t\t\t\t    # 'size': 'session_experience_rank', 'size_max': 10,\n",
    "\t\t\t\t\t\t\t\t\t\t\t\t# 'size': 'session_novelty_rank', 'size_max': 10,\n",
    "\t\t\t\t\t\t\t\t\t\t\t\t# 'size': 'duration', 'size_max': 10,\n",
    "\t\t\t\t\t\t\t\t\t\t\t\t'render_mode': 'webgl',  # Add WebGL rendering\n",
    "                                                **split_by_kwargs,\n",
    "\t\t\t\t\t\t\t\t\t\t\t},\n",
    "\t\t\t\t\t\t\t\t\t\t\t hist_kwargs = {\n",
    "\t\t\t\t\t\t\t\t\t\t\t\t**split_by_kwargs,\n",
    "                                            }, ## Split by session_name\n",
    "\t\t\t\t\t\t\t\t\t\t\t\t\t\t\t\t\t\t\t\t\t\t  \n",
    ")\n",
    " \n",
    "df_filter: DataFrameFilter = DataFrameFilter(\n",
    "\tis_figure_widget_mode = False, ## Disable the actual figure\n",
    "\toriginal_df_dict=dict(\n",
    "        FAT_df=FAT_df, # FAT only mode\n",
    "    ),\t\n",
    "    additional_filter_predicates=additional_filter_predicates,\n",
    "    on_filtered_dataframes_changed_callback_fns={'build_filter_changed_plotly_plotting_callback_fn': _build_filter_changed_plotly_plotting_callback_fn},\n",
    "    # active_plot_df_name='filtered_all_sessions_laps_time_bin_df',\n",
    "\tactive_plot_df_name='filtered_FAT_df',\n",
    ")\n",
    "\n",
    "\n",
    "# Add additional columns _____________________________________________________________________________________________ #\n",
    "_active_ctrl_fn = lambda *arg, **kwargs: df_filter.build_extra_dropdown_widget(*arg, **kwargs, initial_selection_mode=InitialSelectionModeEnum.FIRST_SELECTED)\n",
    "# _active_ctrl_fn = lambda *arg, **kwargs: df_filter.build_extra_selectMultiple_widget(*arg, **kwargs, initial_selection_mode=InitialSelectionModeEnum.FIRST_SELECTED)\n",
    "\n",
    "_a_dropdown = _active_ctrl_fn(a_name='trained_compute_epochs', df_col_name='trained_compute_epochs', a_widget_label='TrainedComputeEpochs :')\n",
    "_a_dropdown = _active_ctrl_fn(a_name='pfND_ndim', df_col_name='pfND_ndim', a_widget_label='pfND_ndim:')\n",
    "_a_dropdown = _active_ctrl_fn(a_name='decoder_identifier', df_col_name='decoder_identifier', a_widget_label='decoder_identifier:', custom_initial_selection='pseudo2D')\n",
    "_a_dropdown = _active_ctrl_fn(a_name='data_grain', df_col_name='data_grain', a_widget_label='data_grain:', custom_initial_selection='per_time_bin')\n",
    "# _a_dropdown = _active_ctrl_fn(a_name='masked_time_bin_fill_type', df_col_name='masked_time_bin_fill_type', a_widget_label='masked_time_bin_fill_type:')\n",
    "_a_dropdown = _active_ctrl_fn(a_name='known_named_decoding_epochs_type', df_col_name='known_named_decoding_epochs_type', a_widget_label='known_named_decoding_epochs_type:') # , initial_selection_mode=InitialSelectionModeEnum.FIRST_SELECTED\n",
    "\n",
    "_a_selectMultiple = df_filter.build_extra_selectMultiple_widget(a_name='masked_time_bin_fill_type', df_col_name='masked_time_bin_fill_type', a_widget_label='masked_time_bin_fill_type:', initial_selection_mode=InitialSelectionModeEnum.FIRST_SELECTED)\n",
    "\n",
    "\n",
    "# _a_selectMultiple_experience_index = df_filter.build_extra_selectMultiple_widget(a_name='session_experience_rank', df_col_name='session_experience_rank', a_widget_label='session_experience_rank:', initial_selection_mode=InitialSelectionModeEnum.ALL_SELECTED)\n",
    "\n",
    "\n",
    "# Set initial values: ________________________________________________________________________________________________ #\n",
    "df_filter.replay_name = replay_name # 'withNormalComputedReplays-frateThresh_5.0-qclu_[1, 2, 4, 6, 7, 9]'\n",
    "df_filter.time_bin_size = time_bin_size\n",
    "df_filter.update_filters()\n",
    "\n",
    "## ~25 sec\n",
    "df_filter.display()"
   ]
  },
  {
   "cell_type": "code",
   "execution_count": null,
   "metadata": {},
   "outputs": [],
   "source": [
    "df_filter.additional_filter_predicates"
   ]
  },
  {
   "cell_type": "code",
   "execution_count": null,
   "metadata": {},
   "outputs": [],
   "source": []
  },
  {
   "cell_type": "code",
   "execution_count": null,
   "metadata": {},
   "outputs": [],
   "source": []
  },
  {
   "cell_type": "code",
   "execution_count": null,
   "metadata": {},
   "outputs": [],
   "source": [
    "df_filter."
   ]
  },
  {
   "cell_type": "code",
   "execution_count": null,
   "metadata": {},
   "outputs": [],
   "source": [
    "df_filter"
   ]
  },
  {
   "cell_type": "markdown",
   "metadata": {},
   "source": [
    "# 2025-04-17 - Transition Matricies\n",
    "\n",
    "- get ['passes_heuristic'] column\n",
    "- plot participation and duration histograms for both, show no difference\n",
    "- is there a correlation between number of bins in an event and the abs(per-epoch-P_Short) of the event?\n",
    "\n",
    "If this fails, they're \n",
    "- If it's just duration, then you'd expect duration \n",
    "\n",
    "- Look at previous transition matrix stuff I did\n"
   ]
  },
  {
   "cell_type": "markdown",
   "metadata": {},
   "source": [
    "# on the Post-delta, it looks more uniform  because the neural activity remains more \"long-like\" than, Pre-delta never had short experience\n",
    "maybe quartiles for stats\n"
   ]
  },
  {
   "cell_type": "code",
   "execution_count": null,
   "metadata": {},
   "outputs": [],
   "source": [
    "- get ['passes_heuristic'] column\n",
    "- plot participation and duration histograms for both, show no difference"
   ]
  },
  {
   "cell_type": "code",
   "execution_count": null,
   "metadata": {},
   "outputs": [],
   "source": [
    "initial_selection = df_filter.set_initial_selection(a_widget=df_filter.time_bin_size_widget, initial_selection_mode=InitialSelectionModeEnum.FIRST_SELECTED)"
   ]
  },
  {
   "cell_type": "code",
   "execution_count": null,
   "metadata": {},
   "outputs": [],
   "source": [
    "df_filter.time_bin_size\n",
    "df_filter.time_bin_size_widget.options"
   ]
  },
  {
   "cell_type": "code",
   "execution_count": null,
   "metadata": {},
   "outputs": [],
   "source": [
    "\n",
    "\n",
    "\n",
    "initial_selection_mode = \n",
    "\n",
    "\n",
    "df_filter.time_bin_size = df_filter.time_bin_size_widget.options \n"
   ]
  },
  {
   "cell_type": "markdown",
   "metadata": {},
   "source": [
    "## TODO\n",
    "- [ ] decode the endcap only (non-lap, non-PBE) periods and show that histogram\n",
    "- [X] decode for 0.05\n",
    "- [X] No need to look at non-PBE-trained decoder anymore\n",
    "- [ ] \n"
   ]
  },
  {
   "cell_type": "code",
   "execution_count": null,
   "metadata": {},
   "outputs": [],
   "source": [
    "df_filter.additional_filter_predicates['trained_compute_epochs_widget'](df_filter.active_plot_df)"
   ]
  },
  {
   "cell_type": "code",
   "execution_count": null,
   "metadata": {},
   "outputs": [],
   "source": [
    "active_filter_predicates = {k:df_filter.additional_filter_predicates[k] for k in df_filter.active_filter_predicate_selector_widget.value}\n",
    "active_filter_predicates"
   ]
  },
  {
   "cell_type": "code",
   "execution_count": null,
   "metadata": {},
   "outputs": [],
   "source": [
    "enabled_filter_predicate_list = df_filter.active_filter_predicate_selector_widget.value\n",
    "enabled_filter_predicate_list\n",
    "\n"
   ]
  },
  {
   "cell_type": "code",
   "execution_count": null,
   "metadata": {},
   "outputs": [],
   "source": [
    "df_filter.active_filter_predicate_selector_widget.options_list\n",
    "# self.active_filter_predicate_selector_widget = CheckBoxListWidget(options_list=list(self.additional_filter_predicates.keys()))"
   ]
  },
  {
   "cell_type": "code",
   "execution_count": null,
   "metadata": {},
   "outputs": [],
   "source": [
    "# [v.__dict__ for v in df_filter.custom_dynamic_filter_widgets_list]\n",
    "\n",
    "[v.metadata.__dict__['default_args'][0] for v in df_filter.custom_dynamic_filter_widgets_list]"
   ]
  },
  {
   "cell_type": "markdown",
   "metadata": {},
   "source": [
    "# 2025-06-09 - Loading Across Session Tables for fig gen"
   ]
  },
  {
   "cell_type": "code",
   "execution_count": null,
   "metadata": {},
   "outputs": [],
   "source": [
    "from pyphoplacecellanalysis.SpecificResults.AcrossSessionResults import AcrossSessionTables, AcrossSessionsVisualizations\n",
    "\n",
    "# tables_load_path = Path(r'K:\\scratch\\across_sessions\\2024-09-26_Apogee').resolve()\n",
    "# override_output_parent_path = Path(r'K:\\scratch\\across_sessions').resolve()\n",
    "override_output_parent_path = Path(r'K:\\scratch\\collected_outputs').resolve()\n",
    "Assert.path_exists(override_output_parent_path)\n",
    "# output_path_suffix: str = '2024-09-26_Apogee'\n",
    "output_path_suffix: str = '2025-04-17'\n",
    "\n",
    "## Load all across-session tables from the pickles:\n",
    "output_path_suffix: str = f'{output_path_suffix}'\n",
    "neuron_identities_table, long_short_fr_indicies_analysis_table, neuron_replay_stats_table = AcrossSessionTables.load_all_combined_tables(override_output_parent_path=override_output_parent_path, output_path_suffix=output_path_suffix) # output_path_suffix=f'2023-10-04-GL-Recomp'\n",
    "num_sessions = len(neuron_replay_stats_table.session_uid.unique().to_numpy())\n",
    "print(f'num_sessions: {num_sessions}')\n",
    "\n",
    "## Combine all unique columns from the three loaded dataframes: [neuron_identities_table, long_short_fr_indicies_analysis_table, neuron_replay_stats_table], into a merged df `all_neuron_stats_table`\n",
    "all_neuron_stats_table: pd.DataFrame = deepcopy(neuron_identities_table)\n",
    "## All dataframes have the same number of rows and are uniquely indexed by their 'neuron_uid' column. Add the additional columns from `long_short_fr_indicies_analysis_table` to `all_neuron_stats_table`\n",
    "all_neuron_stats_table = pd.merge(all_neuron_stats_table, long_short_fr_indicies_analysis_table[['neuron_uid'] + [col for col in long_short_fr_indicies_analysis_table.columns if col not in all_neuron_stats_table.columns and col != 'neuron_uid']], on='neuron_uid')\n",
    "## merge in `neuron_replay_stats_table`'s columns\n",
    "all_neuron_stats_table = pd.merge(all_neuron_stats_table, neuron_replay_stats_table[['neuron_uid'] + [col for col in neuron_replay_stats_table.columns if col not in all_neuron_stats_table.columns and col != 'neuron_uid']], on='neuron_uid')\n",
    "all_neuron_stats_table\n",
    "\n",
    "## OUTPUTS: all_neuron_stats_table"
   ]
  },
  {
   "cell_type": "markdown",
   "metadata": {},
   "source": [
    "## 2025-06-10 - Single load combined tables output\n",
    "\n"
   ]
  },
  {
   "cell_type": "code",
   "execution_count": null,
   "metadata": {},
   "outputs": [],
   "source": [
    "from pyphoplacecellanalysis.SpecificResults.AcrossSessionResults import AcrossSessionsResults\n",
    "\n",
    "# load_path = Path(r'C:/Users/pho/repos/Spike3DWorkEnv/Spike3D/output/collected_outputs').resolve()\n",
    "load_path = Path(r'K:/scratch/collected_outputs/2025-06-10').resolve()\n",
    "# K:/scratch/collected_outputs/2025-06-10\n",
    "\n",
    "override_output_parent_path = deepcopy(load_path.parent)\n",
    "output_path_suffix = load_path.name\n",
    "\n",
    "Assert.path_exists(load_path)\n",
    "\n",
    "override_output_parent_path\n",
    "output_path_suffix\n"
   ]
  },
  {
   "cell_type": "code",
   "execution_count": null,
   "metadata": {},
   "outputs": [],
   "source": [
    "all_neuron_stats_table, all_loaded_csv_dfs = AcrossSessionsResults.load_all_neuron_identities_CSV(override_output_parent_path=override_output_parent_path, output_path_suffix=output_path_suffix)\n",
    "## OUTPUTS: all_neuron_stats_table\n",
    "all_neuron_stats_table"
   ]
  },
  {
   "cell_type": "code",
   "execution_count": null,
   "metadata": {},
   "outputs": [],
   "source": []
  },
  {
   "cell_type": "markdown",
   "metadata": {},
   "source": [
    "### Neuron Track Remapping"
   ]
  },
  {
   "cell_type": "code",
   "execution_count": null,
   "metadata": {},
   "outputs": [],
   "source": [
    "from pyphoplacecellanalysis.GUI.PyQtPlot.Widgets.ContainerBased.PhoContainerTool import GenericMatplotlibContainer\n",
    "from matplotlib.gridspec import GridSpec\n",
    "from neuropy.utils.matplotlib_helpers import build_or_reuse_figure, perform_update_title_subtitle\n",
    "from pyphoplacecellanalysis.Pho2D.track_shape_drawing import _plot_track_remapping_diagram\n",
    "\n",
    "\n",
    "_restore_previous_matplotlib_settings_callback = matplotlib_configuration_update(is_interactive=True, backend='Qt5Agg')\n",
    "\n",
    "\n",
    "## INPUTS: all_neuron_stats_table\n",
    "\n",
    "\n",
    "# ['track_membership'] # SHARED, LEFT_ONLY, RIGHT_ONLY\n",
    "# LR_only_column_names = ['long_LR_pf1D_peak', 'short_LR_pf1D_peak']\n",
    "# RL_only_column_names = ['long_RL_pf1D_peak', 'short_RL_pf1D_peak']\n",
    "\n",
    "LR_only_column_names = ['long_LR', 'short_LR']\n",
    "RL_only_column_names = ['long_RL', 'short_RL']\n",
    "\n",
    "long_short_any_column_names = ['long_pf_peak_x', 'short_pf_peak_x']\n",
    "\n",
    "# long_LR_pf2D_peak_x, \n",
    "\n",
    "# any_1D_column_names = ['long_LR_pf1D_peak', 'long_RL_pf1D_peak', 'short_LR_pf1D_peak', 'short_RL_pf1D_peak']\n",
    "\n",
    "\n",
    "# any_1D_column_names = ['long_LR_pf1D_peak', 'long_RL_pf1D_peak', 'short_LR_pf1D_peak', 'short_RL_pf1D_peak']\n",
    "\n",
    "decoder_name_suffix: str = 'pf1D_peak'\n",
    "# decoder_name_suffix: str = 'pf2D_peak_x'\n",
    "\n",
    "LR_only_column_names = [f\"{a_name}_{decoder_name_suffix}\" for a_name in LR_only_column_names]\n",
    "RL_only_column_names = [f\"{a_name}_{decoder_name_suffix}\" for a_name in RL_only_column_names]\n",
    "any_1D_column_names = [f\"{a_name}_{decoder_name_suffix}\" for a_name in ('long_LR', 'long_RL', 'short_LR', 'short_RL')]\n",
    "any_1D_column_names\n",
    "global_min_x: float = np.nanmin(all_neuron_stats_table[any_1D_column_names].min(axis='columns', skipna=True).values)\n",
    "global_max_x: float = np.nanmax(all_neuron_stats_table[any_1D_column_names].max(axis='columns', skipna=True).values)\n",
    "\n",
    "(global_min_x, global_max_x)\n",
    "\n",
    "from neuropy.core.user_annotations import UserAnnotationsManager\n",
    "\n",
    "_out_user_annotations_add_code_lines, loaded_configs = UserAnnotationsManager.batch_build_user_annotation_grid_bin_bounds_from_exported_position_info_mat_files(search_parent_path=Path(r'W:\\\\Data\\\\Kdiba'), print_user_annotations_lines_to_add=False, debug_print=False)\n",
    "# loaded_configs_dict = {v['session_context']:v for k, v in loaded_configs.items()}\n",
    "\n",
    "# per_session_loaded_configs_dict: Dict[IdentifyingContext, Dict] = {v['session_context']:v for k, v in loaded_configs.items()}\n",
    "per_session_uid_loaded_configs_dict: Dict[str, Dict] = {v['session_context'].get_description(separator='|'):v for k, v in loaded_configs.items()} # indexed by session_uid like 'kdiba|gor01|one|2006-6-07_11-26-53'\n",
    "# per_session_uid_loaded_configs_dict\n",
    "\n",
    "grid_bin_bounds_key_name: str = 'new_cm_grid_bin_bounds'\n",
    "# grid_bin_bounds_key_name: str = 'real_cm_grid_bin_bounds'\n",
    "# grid_bin_bounds_key_name: str = 'grid_bin_bounds'\n",
    "\n",
    "per_session_uid_loaded_grid_bin_bounds_cm_dict = {session_uid:deepcopy(a_session_config[grid_bin_bounds_key_name]) for session_uid, a_session_config in per_session_uid_loaded_configs_dict.items()}\n",
    "# per_session_uid_loaded_grid_bin_bounds_cm_dict\n",
    "grid_bin_bounds_col_names = ['grid_bin_bounds_' + part_name for part_name in ('x0', 'x1', 'y0', 'y1')] # ['grid_bin_bounds_x0', 'grid_bin_bounds_x1', 'grid_bin_bounds_y0', 'grid_bin_bounds_y1']\n",
    "print(grid_bin_bounds_col_names)\n",
    "session_loaded_grid_bin_bounds_cm_df: pd.DataFrame = pd.DataFrame([(session_uid, *deepcopy(a_session_config[grid_bin_bounds_key_name])) for session_uid, a_session_config in per_session_uid_loaded_configs_dict.items()], columns=['session_uid', *grid_bin_bounds_col_names])\n",
    "session_loaded_grid_bin_bounds_cm_df ## all the same for each session unfortunately\n",
    "\n",
    "\n",
    "\n",
    "## Add in the grid_bin_bounds from the configs to `all_neuron_stats_table`\n",
    "## INPUTS: per_session_uid_loaded_configs_dict, all_neuron_stats_table\n",
    "\n",
    "per_session_all_neuron_stats_table = all_neuron_stats_table.pho.partition_df_dict(partitionColumn='session_uid')\n",
    "# per_session_all_neuron_stats_table\n",
    "\n",
    "\n",
    "## Make a single figure for both LR/RL remapping cells:\n",
    "kwargs = dict(is_dark_mode=False, enable_interactivity=False, defer_render=True)\n",
    "fig = build_or_reuse_figure(fignum='Track Remapping', fig=kwargs.pop('fig', None), fig_idx=kwargs.pop('fig_idx', 0), figsize=kwargs.pop('figsize', (10, 4)), dpi=kwargs.pop('dpi', None), constrained_layout=True, clear=True) # , clear=True\n",
    "gs = GridSpec(2, 1, figure=fig)\n",
    "ax_LR = plt.subplot(gs[0])\n",
    "ax_RL = plt.subplot(gs[1])\n",
    "\n",
    "_fig_container: GenericMatplotlibContainer = GenericMatplotlibContainer(name='across-session-neuron-remapping-diagram')\n",
    "_fig_container.fig = fig\n",
    "_fig_container.plots.gs = gs\n",
    "_fig_container.axes = [ax_LR, ax_RL]\n",
    "# _fig_container.plots\n",
    "\n",
    "_extant_plot_container_LR = None\n",
    "_extant_plot_container_RL = None\n",
    "\n",
    "included_session_uids = None\n",
    "# included_session_uids = ['kdiba|gor01|two|2006-6-07_16-40-19']\n",
    "# included_session_uids = ['kdiba|gor01|one|2006-6-09_1-22-43']\n",
    "\n",
    "if included_session_uids is None:\n",
    "    included_session_uids = list(per_session_all_neuron_stats_table.keys())\n",
    "\n",
    "\n",
    "_fig_container.params.included_session_uids = deepcopy(included_session_uids)\n",
    "_fig_container.plots_data.per_session_all_neuron_stats_table = deepcopy(per_session_all_neuron_stats_table)\n",
    "_fig_container.plots_data.per_session_uid_loaded_configs_dict = deepcopy(per_session_uid_loaded_configs_dict)\n",
    "\n",
    "for session_uid, a_df in per_session_all_neuron_stats_table.items():\n",
    "    if session_uid in included_session_uids:\n",
    "        a_session_config = per_session_uid_loaded_configs_dict[session_uid]\n",
    "\n",
    "        grid_bin_bounds = deepcopy(a_session_config['new_cm_grid_bin_bounds'])\n",
    "\n",
    "        ## ['long_LR_pf1D_peak', 'long_RL_pf1D_peak', 'short_LR_pf1D_peak', 'short_RL_pf1D_peak']\n",
    "\n",
    "        LR_only_column_names = ['long_LR_pf1D_peak', 'short_LR_pf1D_peak']\n",
    "        RL_only_column_names = ['long_RL_pf1D_peak', 'short_RL_pf1D_peak']\n",
    "        \n",
    "        # INPUTS: any_1D_column_names\n",
    "\n",
    "        # neuron_id_col_name: str = 'aclu'\n",
    "        neuron_id_col_name: str = 'neuron_uid'\n",
    "        neuron_IDs_lists = [deepcopy(a_df[[neuron_id_col_name, a_column_name]]).dropna(axis=0, how='any')[neuron_id_col_name].to_numpy() for a_column_name in any_1D_column_names] # [A, B, C, D, ...]\n",
    "        # neuron_IDs_lists\n",
    "\n",
    "        # LR_only_decoder_aclu_MAX_peak_maps_df = deepcopy(a_df[LR_only_column_names]).dropna(axis=0, how='any')\n",
    "        # RL_only_decoder_aclu_MAX_peak_maps_df = deepcopy(a_df[RL_only_column_names]).dropna(axis=0, how='any')\n",
    "        \n",
    "        LR_only_decoder_aclu_MAX_peak_maps_df = deepcopy(a_df[LR_only_column_names]).dropna(axis=0, how='all')\n",
    "        RL_only_decoder_aclu_MAX_peak_maps_df = deepcopy(a_df[RL_only_column_names]).dropna(axis=0, how='all')\n",
    "\n",
    "        # fig_LR_RL, ax_LR, _outputs_tuple_LR = _plot_track_remapping_diagram(LR_only_decoder_aclu_MAX_peak_maps_df, grid_bin_bounds=grid_bin_bounds, long_column_name=LR_only_column_names[0], short_column_name=LR_only_column_names[1], ax=ax_LR, **kwargs)\n",
    "        # perform_update_title_subtitle(fig=fig_LR_RL, ax=ax_LR, title_string=None, subtitle_string=f\"LR Track Remapping - {len(LR_only_decoder_aclu_MAX_peak_maps_df)} aclus\")\n",
    "        # fig_LR_RL, ax_RL, _outputs_tuple_RL = _plot_track_remapping_diagram(RL_only_decoder_aclu_MAX_peak_maps_df, grid_bin_bounds=grid_bin_bounds, long_column_name=RL_only_column_names[0], short_column_name=RL_only_column_names[1], ax=ax_RL, **kwargs)\n",
    "        # perform_update_title_subtitle(fig=fig_LR_RL, ax=ax_RL, title_string=None, subtitle_string=f\"RL Track Remapping - {len(RL_only_decoder_aclu_MAX_peak_maps_df)} aclus\")\n",
    "        \n",
    "        fig_LR_RL, ax_LR, _extant_plot_container_LR = _plot_track_remapping_diagram(LR_only_decoder_aclu_MAX_peak_maps_df, grid_bin_bounds=grid_bin_bounds, long_column_name=LR_only_column_names[0], short_column_name=LR_only_column_names[1], ax=ax_LR, extant_plot_container=_extant_plot_container_LR, **kwargs)\n",
    "        perform_update_title_subtitle(fig=fig_LR_RL, ax=ax_LR, title_string=None, subtitle_string=f\"LR Track Remapping - {len(LR_only_decoder_aclu_MAX_peak_maps_df)} aclus\")\n",
    "        fig_LR_RL, ax_RL, _extant_plot_container_RL = _plot_track_remapping_diagram(RL_only_decoder_aclu_MAX_peak_maps_df, grid_bin_bounds=grid_bin_bounds, long_column_name=RL_only_column_names[0], short_column_name=RL_only_column_names[1], ax=ax_RL, extant_plot_container=_extant_plot_container_RL, **kwargs)\n",
    "        perform_update_title_subtitle(fig=fig_LR_RL, ax=ax_RL, title_string=None, subtitle_string=f\"RL Track Remapping - {len(RL_only_decoder_aclu_MAX_peak_maps_df)} aclus\")\n",
    "        \n",
    "\n",
    "\n"
   ]
  },
  {
   "cell_type": "code",
   "execution_count": null,
   "metadata": {},
   "outputs": [],
   "source": [
    "_restore_previous_matplotlib_settings_callback = matplotlib_configuration_update(is_interactive=True, backend='Qt5Agg')\n",
    "\n",
    "# with matplotlib_configuration(is_interactive=True, backend='Qt5Agg'):\n",
    "fig.show()\n",
    "    "
   ]
  },
  {
   "cell_type": "code",
   "execution_count": null,
   "metadata": {},
   "outputs": [],
   "source": [
    "# list(loaded_configs.values())[0]\n",
    "\n",
    "\n",
    "# Context(format_name= 'kdiba', animal= 'gor01', exper_name= 'one', session_name= '2006-6-07_11-26-53'): {'position_sampling_rate_Hz': 29.96976599553983,\n",
    "#   'microseconds_to_seconds_conversion_factor': 1e-06,\n",
    "#   'pix2cm': 287.7697841726619,\n",
    "#   'x_midpoint': 143.88489208633095,\n",
    "#   'x_unit_midpoint': 0.5,\n",
    "#   'loaded_track_limits': {'long_xlim': array([ 59.07738974, 228.69004399]),\n",
    "#    'long_unit_xlim': array([0.20529393, 0.7946979 ]),\n",
    "#    'short_xlim': array([ 94.01556371, 193.7565709 ]),\n",
    "#    'short_unit_xlim': array([0.32670408, 0.67330408]),\n",
    "#    'long_ylim': array([135.23924312, 144.19845184]),\n",
    "#    'long_unit_ylim': array([0.46995637, 0.50108962]),\n",
    "#    'short_ylim': array([135.81263248, 144.62849386]),\n",
    "#    'short_unit_ylim': array([0.4719489 , 0.50258402])},\n",
    "#   'first_valid_pos_time': 10.122145000030287,\n",
    "#   'last_valid_pos_time': 1978.0054719999898,\n",
    "#   'session_context': Context(format_name= 'kdiba', animal= 'gor01', exper_name= 'one', session_name= '2006-6-07_11-26-53'),\n",
    "#   'new_cm_grid_bin_bounds': [37.0773897438341,\n",
    "#    250.69004399129707,\n",
    "#    135.23924311831908,\n",
    "#    144.1984518410047],\n",
    "#   'new_unit_grid_bin_bounds': [0.12884392935982347,\n",
    "#    0.8711479028697573,\n",
    "#    0.46995636983615874,\n",
    "#    0.5010896201474913],\n",
    "#   'new_grid_bin_bounds': [0.12884392935982347,\n",
    "#    0.8711479028697573,\n",
    "#    0.46995636983615874,\n",
    "#    0.5010896201474913]},\n",
    "\n",
    "\n",
    "from pyphoplacecellanalysis.Pho2D.track_shape_drawing import _plot_track_remapping_diagram\n",
    "from pyphoplacecellanalysis.Pho2D.track_shape_drawing import plot_bidirectional_track_remapping_diagram\n",
    "\n",
    "\n",
    "collector = plot_bidirectional_track_remapping_diagram(track_templates, grid_bin_bounds=long_pf2D.config.grid_bin_bounds, active_context=curr_active_pipeline.build_display_context_for_session(display_fn_name='plot_bidirectional_track_remapping_diagram'))\n"
   ]
  },
  {
   "cell_type": "markdown",
   "metadata": {},
   "source": [
    "## Remainder of Figures"
   ]
  },
  {
   "cell_type": "code",
   "execution_count": null,
   "metadata": {},
   "outputs": [],
   "source": [
    "from neuropy.core.user_annotations import UserAnnotationsManager, SessionCellExclusivityRecord\n",
    "from neuropy.utils.result_context import IdentifyingContext\n",
    "from pyphoplacecellanalysis.SpecificResults.PhoDiba2023Paper import pho_stats_perform_diagonal_line_binomial_test, pho_stats_bar_graph_t_tests\n",
    "\n",
    "\n",
    "from pyphoplacecellanalysis.General.Mixins.ExportHelpers import FigureOutputLocation, ContextToPathMode, FileOutputManager # used in post_compute_all_sessions_processing\n",
    "from pyphoplacecellanalysis.SpecificResults.PhoDiba2023Paper import PaperFigureTwo # used in post_compute_all_sessions_processing"
   ]
  },
  {
   "cell_type": "code",
   "execution_count": null,
   "metadata": {},
   "outputs": [],
   "source": [
    "output_path_suffix"
   ]
  },
  {
   "cell_type": "code",
   "execution_count": null,
   "metadata": {},
   "outputs": [],
   "source": [
    "output_override_path = None\n",
    "plotting_enabled = True\n",
    "\n",
    "# 2023-10-04 - Load Saved across-sessions-data and testing Batch-computed inst_firing_rates:\n",
    "## Load the saved across-session results:\n",
    "# if inst_fr_output_filename is None:\n",
    "#     inst_fr_output_filename: str = f'across_session_result_long_short_recomputed_inst_firing_rate_{output_path_suffix}.pkl'\n",
    "across_session_inst_fr_computation, across_sessions_instantaneous_fr_dict, across_sessions_instantaneous_frs_list = AcrossSessionsResults.load_across_sessions_data(global_data_root_parent_path=global_data_root_parent_path, inst_fr_output_filename=inst_fr_output_filename) ## LOADING?!?!?\n",
    "# across_sessions_instantaneous_fr_dict = loadData(global_batch_result_inst_fr_file_path)\n",
    "# num_sessions = len(across_sessions_instantaneous_fr_dict)\n",
    "# print(f'num_sessions: {num_sessions}')\n",
    "\n",
    "## Load all across-session tables from the pickles:\n",
    "output_path_suffix: str = f'{output_path_suffix}'\n",
    "# neuron_identities_table, long_short_fr_indicies_analysis_table, neuron_replay_stats_table = AcrossSessionTables.load_all_combined_tables(override_output_parent_path=global_data_root_parent_path, output_path_suffix=output_path_suffix) # output_path_suffix=f'2023-10-04-GL-Recomp'\n",
    "# num_sessions = len(neuron_replay_stats_table.session_uid.unique().to_numpy())\n",
    "# print(f'num_sessions: {num_sessions}')\n",
    "\n",
    "\n",
    "## INPUTS: all_neuron_stats_table\n",
    "long_short_fr_indicies_analysis_table = deepcopy(all_neuron_stats_table)\n",
    "\n",
    "# Does its own additions to `long_short_fr_indicies_analysis_table` table based on the user labeled LxC/SxCs\n",
    "annotation_man = UserAnnotationsManager()\n",
    "# Hardcoded included_session_contexts:\n",
    "included_session_contexts = annotation_man.get_hardcoded_good_sessions()\n",
    "\n",
    "if output_override_path is None:\n",
    "    output_override_path = Path('output').resolve()\n",
    "    output_override_path.mkdir(parents=True, exist_ok=True)\n",
    "    \n",
    "\n",
    "LxC_uids = []\n",
    "SxC_uids = []\n",
    "\n",
    "for a_ctxt in included_session_contexts:\n",
    "    session_uid = a_ctxt.get_description(separator=\"|\", include_property_names=False)\n",
    "    session_cell_exclusivity: SessionCellExclusivityRecord = annotation_man.annotations[a_ctxt].get('session_cell_exclusivity', None)\n",
    "    LxC_uids.extend([f\"{session_uid}|{aclu}\" for aclu in session_cell_exclusivity.LxC])\n",
    "    SxC_uids.extend([f\"{session_uid}|{aclu}\" for aclu in session_cell_exclusivity.SxC])\n",
    "\n",
    "# [a_ctxt.get_description(separator=\"|\", include_property_names=False) for a_ctxt in included_session_contexts]\n",
    "\n",
    "if 'XxC_status' not in long_short_fr_indicies_analysis_table:\n",
    "    long_short_fr_indicies_analysis_table['XxC_status'] = 'Shared'\n",
    "    long_short_fr_indicies_analysis_table.loc[np.isin(long_short_fr_indicies_analysis_table.neuron_uid, LxC_uids), 'XxC_status'] = 'LxC'\n",
    "    long_short_fr_indicies_analysis_table.loc[np.isin(long_short_fr_indicies_analysis_table.neuron_uid, SxC_uids), 'XxC_status'] = 'SxC'\n",
    "\n",
    "## 2023-10-11 - Get the long peak location\n",
    "if 'long_pf_peak_x' not in long_short_fr_indicies_analysis_table:\n",
    "    long_short_fr_indicies_analysis_table['long_pf_peak_x'] = neuron_replay_stats_table['long_pf_peak_x']\n",
    "# long_short_fr_indicies_analysis_table\n",
    "\n",
    "# # long_short_fr_indicies_analysis_table_filename = 'output/2023-10-07_long_short_fr_indicies_analysis_table.csv'\n",
    "# long_short_fr_indicies_analysis_table_filename: Path = output_override_path.joinpath(f'{output_path_suffix}_long_short_fr_indicies_analysis_table.csv')\n",
    "# long_short_fr_indicies_analysis_table.to_csv(long_short_fr_indicies_analysis_table_filename)\n",
    "# print(f'saved: {long_short_fr_indicies_analysis_table_filename}')\n",
    "\n",
    "long_short_fr_indicies_analysis_table"
   ]
  },
  {
   "cell_type": "code",
   "execution_count": null,
   "metadata": {},
   "outputs": [],
   "source": [
    "\n",
    "# 2023-10-10 - Statistics for `across_sessions_bar_graphs`, analysing `across_session_inst_fr_computation`\n",
    "binom_test_chance_result = pho_stats_perform_diagonal_line_binomial_test(long_short_fr_indicies_analysis_table)\n",
    "print(f'binom_test_chance_result: {binom_test_chance_result}')\n"
   ]
  },
  {
   "cell_type": "code",
   "execution_count": null,
   "metadata": {},
   "outputs": [],
   "source": [
    "\n",
    "LxC_Laps_T_result, SxC_Laps_T_result, LxC_Replay_T_result, SxC_Replay_T_result = pho_stats_bar_graph_t_tests(across_session_inst_fr_computation)\n"
   ]
  },
  {
   "cell_type": "code",
   "execution_count": null,
   "metadata": {},
   "outputs": [],
   "source": [
    "\n",
    "\n",
    "## Plotting:\n",
    "graphics_output_dict = {}\n",
    "if plotting_enabled:\n",
    "    # matplotlib_configuration_update(is_interactive=True, backend='Qt5Agg')\n",
    "\n",
    "    long_short_fr_indicies_analysis_table.plot.scatter(x='long_pf_peak_x', y='x_frs_index', title='Pf Peak position vs. LapsFRI', ylabel='Lap FRI')\n",
    "    long_short_fr_indicies_analysis_table.plot.scatter(x='long_pf_peak_x', y='y_frs_index', title='Pf Peak position vs. ReplayFRI', ylabel='Replay FRI')\n",
    "\n",
    "    ## 2023-10-04 - Run `AcrossSessionsVisualizations` corresponding to the PhoDibaPaper2023 figures for all sessions\n",
    "    ## Hacks the `PaperFigureTwo` and `InstantaneousSpikeRateGroupsComputation`\n",
    "    global_multi_session_context, _out_aggregate_fig_2 = AcrossSessionsVisualizations.across_sessions_bar_graphs(across_session_inst_fr_computation, num_sessions, enable_tiny_point_labels=False, enable_hover_labels=False)\n",
    "\n",
    "    graphics_output_dict |= AcrossSessionsVisualizations.across_sessions_firing_rate_index_figure(long_short_fr_indicies_analysis_results=long_short_fr_indicies_analysis_table, num_sessions=num_sessions, save_figure=True)\n",
    "\n",
    "    graphics_output_dict |= AcrossSessionsVisualizations.across_sessions_long_and_short_firing_rate_replays_v_laps_figure(neuron_replay_stats_table=neuron_replay_stats_table, num_sessions=num_sessions, save_figure=True)\n",
    "\n",
    "\n",
    "    # ## Aggregate across all of the sessions to build a new combined `InstantaneousSpikeRateGroupsComputation`, which can be used to plot the \"PaperFigureTwo\", bar plots for many sessions.\n",
    "    # global_multi_session_context = IdentifyingContext(format_name='kdiba', num_sessions=num_sessions) # some global context across all of the sessions, not sure what to put here.\n",
    "\n"
   ]
  }
 ],
 "metadata": {
  "kernelspec": {
   "display_name": ".venv",
   "language": "python",
   "name": "python3"
  },
  "language_info": {
   "codemirror_mode": {
    "name": "ipython",
    "version": 3
   },
   "file_extension": ".py",
   "mimetype": "text/x-python",
   "name": "python",
   "nbconvert_exporter": "python",
   "pygments_lexer": "ipython3",
   "version": "3.9.13"
  }
 },
 "nbformat": 4,
 "nbformat_minor": 2
}
