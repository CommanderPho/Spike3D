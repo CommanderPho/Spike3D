{
 "cells": [
  {
   "cell_type": "code",
   "execution_count": 1,
   "id": "0498910e-e0f5-47f5-814b-2ffaa6dfdb89",
   "metadata": {},
   "outputs": [],
   "source": [
    "#!/usr/bin/env python3\n",
    "# -*- coding: utf-8 -*-\n",
    "\"\"\"\n",
    "@author: pho\n",
    "\"\"\"\n",
    "%load_ext autoreload\n",
    "%autoreload 2\n",
    "import sys\n",
    "import importlib\n",
    "import numpy as np\n",
    "import pandas as pd\n",
    "from pathlib import Path\n",
    "\n",
    "# NeuroPy (Diba Lab Python Repo) Loading\n",
    "from neuropy import core\n",
    "from neuropy.core.session.data_session_loader import DataSessionLoader\n",
    "from neuropy.core.session.dataSession import DataSession\n",
    "from neuropy.utils.debug_helpers import debug_print_placefield, debug_print_spike_counts, debug_print_subsession_neuron_differences\n",
    "# from neuropy.utils.mixins.time_slicing import verify_non_overlapping, add_PBE_identity"
   ]
  },
  {
   "cell_type": "markdown",
   "id": "a1b847b0-7a81-4153-82fa-748fd9bd6c14",
   "metadata": {},
   "source": [
    "## Bapun Format:"
   ]
  },
  {
   "cell_type": "code",
   "execution_count": 2,
   "id": "9565ff40-d05f-437f-82b2-7f215fd708a6",
   "metadata": {},
   "outputs": [],
   "source": [
    "## Load the Data Session:\n",
    "# basedir = '/media/share/data/Bapun/Day5TwoNovel' # Linux\n",
    "# basedir = Path('R:\\data\\Bapun\\Day5TwoNovel') # Windows\n",
    "basedir = Path('H:\\Data\\Bapun\\RatS\\Day5TwoNovel') # Windows\n"
   ]
  },
  {
   "cell_type": "code",
   "execution_count": null,
   "id": "d0e293e5",
   "metadata": {},
   "outputs": [],
   "source": [
    "\n",
    "sess = DataSessionLoader.bapun_data_session(basedir, debug_print=True)\n",
    "sess"
   ]
  },
  {
   "cell_type": "code",
   "execution_count": 4,
   "id": "927fb875",
   "metadata": {},
   "outputs": [
    {
     "name": "stdout",
     "output_type": "stream",
     "text": [
      "Computing loaded session pickle file results : \"H:/Data/Bapun/RatS/Day5TwoNovel/sess.pkl\"... done.\n"
     ]
    }
   ],
   "source": [
    "from pyphoplacecellanalysis.General.Pipeline.Stages.Loading import PipelineWithInputStage, PipelineWithLoadableStage, loadData, saveData\n",
    "\n",
    "\n",
    "curr_sess_pkl_path = basedir.joinpath('sess.pkl')\n",
    "\n",
    "sess = loadData(pkl_path=curr_sess_pkl_path)"
   ]
  },
  {
   "cell_type": "code",
   "execution_count": null,
   "id": "31c086af",
   "metadata": {},
   "outputs": [
    {
     "data": {
      "text/plain": [
       "neuropy.core.session.dataSession.DataSession"
      ]
     },
     "execution_count": 5,
     "metadata": {},
     "output_type": "execute_result"
    }
   ],
   "source": [
    "from pyphoplacecellanalysis.General.Pipeline.NeuropyPipeline import NeuropyPipeline\n",
    "\n",
    "# sess\n",
    "\n",
    "# Otherwise load failed, perform the fallback computation\n",
    "if debug_print:\n",
    "    print(f'Must reload/rebuild.')\n",
    "curr_active_pipeline = NeuropyPipeline.init_from_known_data_session_type(type_name, known_type_properties, override_basepath=Path(basepath), outputs_specifier=outputs_specifier, override_post_load_functions=post_load_functions, override_parameters_flat_keypaths_dict=override_parameters_flat_keypaths_dict)\n",
    "curr_active_pipeline.update_parameters(override_parameters_flat_keypaths_dict=override_parameters_flat_keypaths_dict)\n",
    "# Save reloaded pipeline out to pickle for future loading\n",
    "if not skip_save_on_initial_load:\n",
    "    saveData(finalized_loaded_sess_pickle_path, db=curr_active_pipeline) # 589 MB\n",
    "else:\n",
    "    if progress_print:\n",
    "        print('skip_save_on_initial_load is True so resultant pipeline will not be saved to the pickle file.')"
   ]
  },
  {
   "cell_type": "code",
   "execution_count": null,
   "id": "4030c795",
   "metadata": {},
   "outputs": [],
   "source": [
    "assert sess.is_resolved\n",
    "print(f'saving out to modern pickle: \"{curr_sess_pkl_path}\"')\n",
    "saveData(curr_sess_pkl_path, db=sess, safe_save=True) # (v_dict, str(curr_item_type.__module__), str(curr_item_type.__name__)))\n"
   ]
  },
  {
   "cell_type": "markdown",
   "id": "d4bca1e4-77d4-4a42-9883-57f0ff6431d4",
   "metadata": {},
   "source": [
    "## Show PBEs:"
   ]
  },
  {
   "cell_type": "code",
   "execution_count": 3,
   "id": "29ca4b21-bf56-4422-83fb-5198cc9b723b",
   "metadata": {},
   "outputs": [
    {
     "name": "stdout",
     "output_type": "stream",
     "text": [
      "pbe_only_spikes_df:           flat_spike_idx     t_seconds  aclu  unit_id  shank_id  \\\n",
      "354                  354      1.650067     0        0         2   \n",
      "355                  355      1.651167     6        6        13   \n",
      "356                  356      1.653400    89       89         0   \n",
      "357                  357      1.654233    51       51         8   \n",
      "358                  358      1.659933    67       67         8   \n",
      "...                  ...           ...   ...      ...       ...   \n",
      "16281424        16281424  42178.350900    15       15         6   \n",
      "16281425        16281425  42178.355067    67       67         8   \n",
      "16281426        16281426  42178.356133     4        4        10   \n",
      "16281427        16281427  42178.360967    66       66         0   \n",
      "16281428        16281428  42178.361900    81       81         9   \n",
      "\n",
      "          flattened_spike_linear_unit_spike_idx              neuron_type  \\\n",
      "354                                          19  NeuronType.CONTAMINATED   \n",
      "355                                          23  NeuronType.INTERNEURONS   \n",
      "356                                           8  NeuronType.CONTAMINATED   \n",
      "357                                          37  NeuronType.INTERNEURONS   \n",
      "358                                          10  NeuronType.INTERNEURONS   \n",
      "...                                         ...                      ...   \n",
      "16281424                                 544706  NeuronType.CONTAMINATED   \n",
      "16281425                                 951960  NeuronType.INTERNEURONS   \n",
      "16281426                                 648524  NeuronType.CONTAMINATED   \n",
      "16281427                                 253064  NeuronType.CONTAMINATED   \n",
      "16281428                                 753010  NeuronType.CONTAMINATED   \n",
      "\n",
      "                  x          y  lin_pos  speed  fragile_linear_neuron_IDX  \\\n",
      "354      -50.946354 -50.646282      NaN    0.0                          0   \n",
      "355      -50.946354 -50.646282      NaN    0.0                          6   \n",
      "356      -50.946354 -50.646282      NaN    0.0                         89   \n",
      "357      -50.946354 -50.646282      NaN    0.0                         51   \n",
      "358      -50.946354 -50.646282      NaN    0.0                         67   \n",
      "...             ...        ...      ...    ...                        ...   \n",
      "16281424 -45.350155  64.150757      NaN    0.0                         15   \n",
      "16281425 -45.350155  64.150757      NaN    0.0                         67   \n",
      "16281426 -45.350155  64.150757      NaN    0.0                          4   \n",
      "16281427 -45.350155  64.150757      NaN    0.0                         66   \n",
      "16281428 -45.350155  64.150757      NaN    0.0                         81   \n",
      "\n",
      "          neuron_IDX             t  PBE_id     scISI  \n",
      "354                0      1.650067       0  0.054833  \n",
      "355                6      1.651167       0  0.062367  \n",
      "356               89      1.653400       0  0.087067  \n",
      "357               51      1.654233       0  0.007467  \n",
      "358               67      1.659933       0  0.080700  \n",
      "...              ...           ...     ...       ...  \n",
      "16281424          15  42178.350900   10959  0.014167  \n",
      "16281425          67  42178.355067   10959  0.014467  \n",
      "16281426           4  42178.356133   10959  0.005767  \n",
      "16281427          66  42178.360967   10959  0.056433  \n",
      "16281428          81  42178.361900   10959  0.024067  \n",
      "\n",
      "[2537652 rows x 16 columns]\n",
      "sess.pbe: 10960 epochs\n",
      "array([[1.6470000e+00, 1.7870000e+00],\n",
      "       [3.7160000e+00, 3.9610000e+00],\n",
      "       [5.0530000e+00, 5.2650000e+00],\n",
      "       ...,\n",
      "       [4.2174974e+04, 4.2175086e+04],\n",
      "       [4.2176574e+04, 4.2176758e+04],\n",
      "       [4.2178219e+04, 4.2178366e+04]])\n",
      "\n"
     ]
    },
    {
     "data": {
      "text/plain": [
       "           start       stop  duration label\n",
       "0          1.647      1.787     0.140      \n",
       "1          3.716      3.961     0.245      \n",
       "2          5.053      5.265     0.212      \n",
       "3          6.974      7.138     0.164      \n",
       "4          7.342      7.483     0.141      \n",
       "...          ...        ...       ...   ...\n",
       "10955  42165.514  42165.632     0.118      \n",
       "10956  42174.822  42174.940     0.118      \n",
       "10957  42174.974  42175.086     0.112      \n",
       "10958  42176.574  42176.758     0.184      \n",
       "10959  42178.219  42178.366     0.147      \n",
       "\n",
       "[10960 rows x 4 columns]"
      ]
     },
     "execution_count": 3,
     "metadata": {},
     "output_type": "execute_result"
    }
   ],
   "source": [
    "# Here we look at the population burst events (PBEs):\n",
    "\n",
    "# get only the spikes that occur during PBEs:\n",
    "pbe_only_spikes_df = sess.spikes_df[(sess.spikes_df.PBE_id > -1)]\n",
    "print(f'pbe_only_spikes_df: {pbe_only_spikes_df }')\n",
    "print(f'sess.pbe: {sess.pbe}') #[10960 rows x 4 columns]\n",
    "sess.pbe"
   ]
  }
 ],
 "metadata": {
  "celltoolbar": "Tags",
  "kernelspec": {
   "display_name": ".venv_UV",
   "language": "python",
   "name": "python3"
  },
  "language_info": {
   "codemirror_mode": {
    "name": "ipython",
    "version": 3
   },
   "file_extension": ".py",
   "mimetype": "text/x-python",
   "name": "python",
   "nbconvert_exporter": "python",
   "pygments_lexer": "ipython3",
   "version": "3.9.13"
  },
  "scenes_data": {
   "active_scene": "Default Scene",
   "init_scene": "",
   "scenes": [
    "Default Scene"
   ]
  }
 },
 "nbformat": 4,
 "nbformat_minor": 5
}
