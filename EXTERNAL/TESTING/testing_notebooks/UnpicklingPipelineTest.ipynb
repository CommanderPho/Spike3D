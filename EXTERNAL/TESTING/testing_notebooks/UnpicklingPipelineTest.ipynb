{
 "cells": [
  {
   "attachments": {},
   "cell_type": "markdown",
   "id": "d80b4de9-1ce2-4b17-9150-d2b98eba5c07",
   "metadata": {},
   "source": [
    "Load Pickled data saved with:\n",
    "```python\n",
    "export_output_parent_dir = Path(basedir).joinpath('export') # R:\\data\\Hiro\\RoyMaze1\\export\\\n",
    "export_output_parent_dir.mkdir(exist_ok=True, parents=False) # Create the R:\\data\\Hiro\\RoyMaze1\\export\\ directory if it doesn't exist.\n",
    "print(f'export_output_parent_dir: {export_output_parent_dir}')\n",
    "from pyphoplacecellanalysis.General.Pipeline.Stages.Loading import loadData, saveData\n",
    "finalized_computation_results_out_pickle_test_file = export_output_parent_dir.joinpath('computation_results.pkl')\n",
    "print(f'finalized_computation_results_out_pickle_test_file: {str(finalized_computation_results_out_pickle_test_file)}')\n",
    "saveData(finalized_computation_results_out_pickle_test_file, db={'curr_active_pipeline': curr_active_pipeline}) # NeuropyPipeline WORKS!\n",
    "```\n",
    "Saving (file mode 'w+b') loaded session pickle file results to R:\\data\\KDIBA\\gor01\\one\\2006-6-07_11-26-53\\export\\computation_results.pkl... to_dict(...): ['_save_intermediate_spikes_maps', 'config', 'position_srate', 'ndim', '_included_thresh_neurons_indx', '_peak_frate_filter_function', 'ratemap', 'ratemap_spiketrains', 'ratemap_spiketrains_pos', '_filtered_pos_df', '_filtered_spikes_df', 'xbin', 'ybin', 'bin_info']\n",
    "to_dict(...): ['_save_intermediate_spikes_maps', 'config', 'position_srate', 'ndim', '_included_thresh_neurons_indx', '_peak_frate_filter_function', 'ratemap', 'ratemap_spiketrains', 'ratemap_spiketrains_pos', '_filtered_pos_df', '_filtered_spikes_df', 'xbin', 'ybin', 'bin_info']\n",
    "done."
   ]
  },
  {
   "cell_type": "code",
   "execution_count": 1,
   "id": "97308abe-a272-459c-bc5b-c5cddd6129dd",
   "metadata": {},
   "outputs": [
    {
     "ename": "ModuleNotFoundError",
     "evalue": "No module named 'neuropy'",
     "output_type": "error",
     "traceback": [
      "\u001b[1;31m---------------------------------------------------------------------------\u001b[0m",
      "\u001b[1;31mModuleNotFoundError\u001b[0m                       Traceback (most recent call last)",
      "Input \u001b[1;32mIn [1]\u001b[0m, in \u001b[0;36m<cell line: 10>\u001b[1;34m()\u001b[0m\n\u001b[0;32m      7\u001b[0m \u001b[38;5;28;01mimport\u001b[39;00m \u001b[38;5;21;01mnumpy\u001b[39;00m \u001b[38;5;28;01mas\u001b[39;00m \u001b[38;5;21;01mnp\u001b[39;00m\n\u001b[0;32m      8\u001b[0m \u001b[38;5;66;03m# import pickle_inspector # \"C:\\Users\\pho\\repos\\ExternalTesting\\pickle_inspector\"\u001b[39;00m\n\u001b[0;32m      9\u001b[0m \u001b[38;5;66;03m# from pyphocorehelpers.extras.pickle_inspector import pickle_inspector\u001b[39;00m\n\u001b[1;32m---> 10\u001b[0m \u001b[38;5;28;01mfrom\u001b[39;00m \u001b[38;5;21;01mneuropy\u001b[39;00m\u001b[38;5;21;01m.\u001b[39;00m\u001b[38;5;21;01mutils\u001b[39;00m\u001b[38;5;21;01m.\u001b[39;00m\u001b[38;5;21;01mmixins\u001b[39;00m\u001b[38;5;21;01m.\u001b[39;00m\u001b[38;5;21;01mprint_helpers\u001b[39;00m \u001b[38;5;28;01mimport\u001b[39;00m ProgressMessagePrinter\n\u001b[0;32m     11\u001b[0m \u001b[38;5;28;01mfrom\u001b[39;00m \u001b[38;5;21;01mpyphoplacecellanalysis\u001b[39;00m\u001b[38;5;21;01m.\u001b[39;00m\u001b[38;5;21;01mGeneral\u001b[39;00m\u001b[38;5;21;01m.\u001b[39;00m\u001b[38;5;21;01mPipeline\u001b[39;00m\u001b[38;5;21;01m.\u001b[39;00m\u001b[38;5;21;01mStages\u001b[39;00m\u001b[38;5;21;01m.\u001b[39;00m\u001b[38;5;21;01mLoading\u001b[39;00m \u001b[38;5;28;01mimport\u001b[39;00m loadData, saveData\n",
      "\u001b[1;31mModuleNotFoundError\u001b[0m: No module named 'neuropy'"
     ]
    }
   ],
   "source": [
    "from pathlib import Path\n",
    "# import pickle\n",
    "import dill as pickle # requires mamba install dill -c conda-forge\n",
    "import dill.detect\n",
    "from dill import Unpickler\n",
    "import pandas as pd\n",
    "import numpy as np\n",
    "# import pickle_inspector # \"C:\\Users\\pho\\repos\\ExternalTesting\\pickle_inspector\"\n",
    "# from pyphocorehelpers.extras.pickle_inspector import pickle_inspector\n",
    "from neuropy.utils.mixins.print_helpers import ProgressMessagePrinter\n",
    "from pyphoplacecellanalysis.General.Pipeline.Stages.Loading import loadData, saveData\n",
    "\n",
    "# finalized_computation_results_out_pickle_test_file = Path(r'R:\\data\\KDIBA\\gor01\\one\\2006-6-07_11-26-53\\export\\computation_results.pkl')\n",
    "# finalized_computation_results_out_pickle_test_file = Path(r'W:\\Data\\KDIBA\\gor01\\one\\2006-6-07_11-26-53\\export\\computation_results.pkl')\n",
    "\n",
    "# finalized_computation_results_out_pickle_test_file = Path(r\"C:\\Users\\pho\\repos\\PhoPy3DPositionAnalysis2021\\curr_active_pipeline\\K__stage\\output.pkl\")\n"
   ]
  },
  {
   "cell_type": "code",
   "execution_count": null,
   "id": "06b1fc77-35af-448f-8797-7c9dc64be839",
   "metadata": {},
   "outputs": [],
   "source": [
    "# Test the expected bad enum class:\n",
    "from pyphoplacecellanalysis.General.Pipeline.Stages.ComputationFunctions.EpochComputationFunctions import KnownFilterEpochs\n",
    "finalized_KnownFilterEpochs_out_pickle_test_file = Path(r\"C:\\Users\\pho\\repos\\PhoPy3DPositionAnalysis2021\\KnownFilterEpochs_output.pkl\")"
   ]
  },
  {
   "cell_type": "code",
   "execution_count": null,
   "id": "a54b2e6f-a6e0-49c1-a116-b569dee66084",
   "metadata": {},
   "outputs": [],
   "source": [
    "pkl_path = finalized_KnownFilterEpochs_out_pickle_test_file\n",
    "db = None\n",
    "with ProgressMessagePrinter(pkl_path, 'Loading', 'loaded session pickle file'):\n",
    "    with open(pkl_path, 'rb') as dbfile:\n",
    "        db = pickle.load(dbfile, pickle_module = PickleModule(UnpickleControlled, config))\n",
    "        if debug_print:\n",
    "            for keys in db:\n",
    "                print(keys, '=>', db[keys])\n",
    "        dbfile.close()\n",
    "        "
   ]
  },
  {
   "cell_type": "code",
   "execution_count": null,
   "id": "e86089a7-3a1d-443a-a2db-842d60218475",
   "metadata": {},
   "outputs": [],
   "source": [
    "KnownFilterEpochs."
   ]
  },
  {
   "cell_type": "code",
   "execution_count": null,
   "id": "2d77c740-9541-4299-8ddf-854393d30279",
   "metadata": {},
   "outputs": [],
   "source": [
    "pickle_inspector."
   ]
  },
  {
   "cell_type": "code",
   "execution_count": null,
   "id": "36016a19-6742-4971-bd0a-a343882c86b8",
   "metadata": {},
   "outputs": [],
   "source": [
    "from pyphocorehelpers.extras.pickle_inspector.pickle_inspector import (\n",
    "        is_pickle,\n",
    "        UnpickleConfig,\n",
    "        UnpickleControlled,\n",
    "        UnpickleInspector,\n",
    "        PickleModule,\n",
    "        BlockedException,\n",
    "        importlists\n",
    ")\n",
    "\n",
    "config = UnpickleConfig()\n",
    "# only allow  modules, classes and funcions in the includelist\n",
    "# the rest will be stubbed\n",
    "config.includelist = [\n",
    "        'torch._utils._rebuild_tensor_v2',\n",
    "        'torch.FloatStorage',\n",
    "        'torch.IntStorage',\n",
    "        'torch.LongStorage',\n",
    "        'numpy.core.multiarray.scalar',\n",
    "        'numpy.dtype',\n",
    "        'collections.OrderedDict',\n",
    "        '_codecs.encode'\n",
    "]\n",
    "# result = torch.load(finalized_computation_results_out_pickle_test_file, pickle_module = PickleModule(UnpickleControlled, config))\n",
    "# db = loadData(finalized_computation_results_out_pickle_test_file, debug_print=True, pickle_module = PickleModule(UnpickleControlled, config))\n",
    "pkl_path = finalized_computation_results_out_pickle_test_file\n",
    "db = None\n",
    "with ProgressMessagePrinter(pkl_path, 'Loading', 'loaded session pickle file'):\n",
    "    with open(pkl_path, 'rb') as dbfile:\n",
    "        db = pickle.load(dbfile, pickle_module = PickleModule(UnpickleControlled, config))\n",
    "        if debug_print:\n",
    "            for keys in db:\n",
    "                print(keys, '=>', db[keys])\n",
    "        dbfile.close()\n",
    "\n",
    "# loadData\n",
    "# # Use the state_dict as usual\n",
    "# state_dict = result.structure\n",
    "# # ...\n",
    "\n",
    "# # print import results\n",
    "# for c in result.imports:\n",
    "#     print(c)"
   ]
  },
  {
   "cell_type": "code",
   "execution_count": null,
   "id": "993cc1eb-9365-462a-9c1f-b1e075f67142",
   "metadata": {},
   "outputs": [],
   "source": [
    "from dill import detect\n",
    "dill.detect.trace(True)\n",
    "\n",
    "# with detect.trace():\n",
    "db = None\n",
    "with ProgressMessagePrinter(pkl_path, 'Loading', 'loaded session pickle file'):\n",
    "    with open(pkl_path, 'rb') as dbfile:\n",
    "        db = pickle.load(dbfile, fix_imports=True)\n",
    "        if debug_print:\n",
    "            for keys in db:\n",
    "                print(keys, '=>', db[keys])\n",
    "        dbfile.close()"
   ]
  },
  {
   "cell_type": "code",
   "execution_count": null,
   "id": "90810298-0f43-4f1a-b1af-bfa56991e81b",
   "metadata": {},
   "outputs": [],
   "source": [
    "import ast\n",
    "import pickle\n",
    "from fickling.pickle import Pickled\n",
    "\n",
    "with open(pkl_path, 'rb') as dbfile:\n",
    "    # db = pickle.load(dbfile)\n",
    "    print(ast.dump(Pickled.load(dbfile).ast, indent=4))\n",
    "    dbfile.close()"
   ]
  },
  {
   "cell_type": "code",
   "execution_count": null,
   "id": "c8424e3c-8410-46c4-b31c-97990673020c",
   "metadata": {},
   "outputs": [],
   "source": [
    "db = loadData(finalized_computation_results_out_pickle_test_file, debug_print=True, pickle_module = PickleModule(UnpickleControlled, config))\n",
    "db"
   ]
  },
  {
   "cell_type": "code",
   "execution_count": null,
   "id": "d4cb7678-8685-4467-9c91-43aa76dc012b",
   "metadata": {},
   "outputs": [],
   "source": [
    "\n",
    "all_types_list_path = r'C:\\Users\\pho\\repos\\PhoPy3DPositionAnalysis2021\\EXTERNAL\\DEVELOPER_NOTES\\2023-01-20 pickling errors\\pipeline_all_types.txt'\n",
    "with open(all_types_list_path) as file:\n",
    "    all_types_str = [line.rstrip() for line in file]\n",
    "all_types_str"
   ]
  },
  {
   "cell_type": "code",
   "execution_count": null,
   "id": "eb3d2e2b-9650-47fe-9532-39122541f8b7",
   "metadata": {},
   "outputs": [],
   "source": [
    "# list(db.keys())\n",
    "curr_active_pipeline = db['curr_active_pipeline']\n",
    "\n",
    "print(f'curr_active_pipeline.active_config_names: {curr_active_pipeline.active_config_names}')\n",
    "\n",
    "active_config_name = curr_active_pipeline.active_config_names[-1]\n",
    "print(f'\\t active_config_name: {active_config_name}')"
   ]
  },
  {
   "cell_type": "code",
   "execution_count": null,
   "id": "405e6c70-331a-4c94-8b30-bafb8909c6a4",
   "metadata": {},
   "outputs": [],
   "source": [
    "# Get relevant variables:\n",
    "# curr_active_pipeline is set above, and usable here\n",
    "sess = curr_active_pipeline.filtered_sessions[active_config_name] # DataSession\n",
    "\n",
    "active_computation_results = curr_active_pipeline.computation_results[active_config_name] # ComputationResult\n",
    "active_computed_data = curr_active_pipeline.computation_results[active_config_name].computed_data\n",
    "active_computation_config = curr_active_pipeline.computation_results[active_config_name].computation_config\n",
    "active_computation_errors = curr_active_pipeline.computation_results[active_config_name].accumulated_errors\n",
    "# print(f'active_computed_data.keys(): {list(active_computed_data.keys())}')\n",
    "# print(f'active_computation_errors: {active_computation_errors}')\n",
    "active_pf_1D = curr_active_pipeline.computation_results[active_config_name].computed_data['pf1D']\n",
    "active_pf_2D = curr_active_pipeline.computation_results[active_config_name].computed_data['pf2D']    \n",
    "active_pf_1D_dt = curr_active_pipeline.computation_results[active_config_name].computed_data.get('pf1D_dt', None)\n",
    "active_pf_2D_dt = curr_active_pipeline.computation_results[active_config_name].computed_data.get('pf2D_dt', None)\n",
    "active_firing_rate_trends = curr_active_pipeline.computation_results[active_config_name].computed_data.get('firing_rate_trends', None)\n",
    "active_one_step_decoder = curr_active_pipeline.computation_results[active_config_name].computed_data.get('pf2D_Decoder', None)\n",
    "active_two_step_decoder = curr_active_pipeline.computation_results[active_config_name].computed_data.get('pf2D_TwoStepDecoder', None)\n",
    "active_extended_stats = curr_active_pipeline.computation_results[active_config_name].computed_data.get('extended_stats', None)\n",
    "active_eloy_analysis = curr_active_pipeline.computation_results[active_config_name].computed_data.get('EloyAnalysis', None)\n",
    "active_simpler_pf_densities_analysis = curr_active_pipeline.computation_results[active_config_name].computed_data.get('SimplerNeuronMeetingThresholdFiringAnalysis', None)\n",
    "active_ratemap_peaks_analysis = curr_active_pipeline.computation_results[active_config_name].computed_data.get('RatemapPeaksAnalysis', None)\n",
    "active_peak_prominence_2d_results = curr_active_pipeline.computation_results[active_config_name].computed_data.get('RatemapPeaksAnalysis', {}).get('PeakProminence2D', None)\n",
    "active_measured_positions = curr_active_pipeline.computation_results[active_config_name].sess.position.to_dataframe()\n",
    "curr_spikes_df = sess.spikes_df\n",
    "\n",
    "curr_active_config = curr_active_pipeline.active_configs[active_config_name]\n",
    "curr_active_display_config = curr_active_config.plotting_config"
   ]
  },
  {
   "cell_type": "code",
   "execution_count": null,
   "id": "106860e2-3916-4eb7-8910-b22a50fab1ed",
   "metadata": {},
   "outputs": [],
   "source": [
    "sess.epochs"
   ]
  },
  {
   "cell_type": "code",
   "execution_count": null,
   "id": "509a9c90-2136-44be-aa76-f4f7636a50f4",
   "metadata": {},
   "outputs": [],
   "source": [
    "sess.config"
   ]
  },
  {
   "cell_type": "code",
   "execution_count": null,
   "id": "413bd847-0c32-4f9c-95c9-10d6092c8e5b",
   "metadata": {},
   "outputs": [],
   "source": [
    "sess.neurons"
   ]
  },
  {
   "cell_type": "code",
   "execution_count": null,
   "id": "25b6eb32-1ac5-4b63-b020-82e767144a17",
   "metadata": {},
   "outputs": [],
   "source": [
    "sess.paradigm"
   ]
  },
  {
   "cell_type": "code",
   "execution_count": null,
   "id": "d4214f0e-4ddd-4fb1-8143-b3c9c1f8aade",
   "metadata": {},
   "outputs": [],
   "source": [
    "sess.position"
   ]
  },
  {
   "attachments": {},
   "cell_type": "markdown",
   "id": "abc85d51-2fc9-4517-86e7-ae2a9c64f790",
   "metadata": {
    "jp-MarkdownHeadingCollapsed": true,
    "tags": []
   },
   "source": [
    "## Old, specific variable loading"
   ]
  },
  {
   "cell_type": "code",
   "execution_count": null,
   "id": "a8a76d6a-4c78-4721-b3e3-0a8e6ad80204",
   "metadata": {},
   "outputs": [],
   "source": [
    "active_computed_data = db['active_computed_data']\n",
    "print(list(active_computed_data.keys())) # ['pf1D', 'pf2D', 'pf1D_dt', 'pf2D_dt', 'pf2D_Decoder', 'pf2D_TwoStepDecoder', 'EloyAnalysis', 'SimplerNeuronMeetingThresholdFiringAnalysis', 'RatemapPeaksAnalysis', 'extended_stats', 'placefield_overlap', 'firing_rate_trends']"
   ]
  },
  {
   "cell_type": "code",
   "execution_count": null,
   "id": "3d2eea2c-6493-4ec6-afff-18ead502b4aa",
   "metadata": {},
   "outputs": [],
   "source": [
    "active_one_step_decoder = db['active_one_step_decoder'] # BayesianPlacemapPositionDecoder\n",
    "active_two_step_decoder = db['active_two_step_decoder'] # BayesianPlacemapPositionDecoder"
   ]
  },
  {
   "cell_type": "code",
   "execution_count": null,
   "id": "746ab647-69d1-488c-be44-8eb857aed902",
   "metadata": {},
   "outputs": [],
   "source": [
    "active_one_step_decoder.active_time_window_centers"
   ]
  },
  {
   "cell_type": "code",
   "execution_count": null,
   "id": "60f9160e-c280-40e4-b934-c3c4ac6dd0c9",
   "metadata": {},
   "outputs": [],
   "source": [
    "active_one_step_decoder"
   ]
  },
  {
   "cell_type": "code",
   "execution_count": null,
   "id": "604587d3-9be1-40c2-b73f-665bffcd6461",
   "metadata": {},
   "outputs": [],
   "source": []
  }
 ],
 "metadata": {
  "kernelspec": {
   "display_name": "Python [conda env:phoviz_ultimate]",
   "language": "python",
   "name": "conda-env-phoviz_ultimate-py"
  },
  "language_info": {
   "codemirror_mode": {
    "name": "ipython",
    "version": 3
   },
   "file_extension": ".py",
   "mimetype": "text/x-python",
   "name": "python",
   "nbconvert_exporter": "python",
   "pygments_lexer": "ipython3",
   "version": "3.11.0"
  }
 },
 "nbformat": 4,
 "nbformat_minor": 5
}
