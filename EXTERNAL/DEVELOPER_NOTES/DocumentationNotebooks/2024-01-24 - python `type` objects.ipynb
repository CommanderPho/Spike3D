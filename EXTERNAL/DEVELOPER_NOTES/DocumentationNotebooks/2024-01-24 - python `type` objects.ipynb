{
 "cells": [
  {
   "cell_type": "markdown",
   "metadata": {},
   "source": [
    "# Typehints with semantic menaings:\n",
    "\n",
    "\n",
    "The type object in Python contains information about the class it represents. Some of the information that can be accessed from a type object includes:\n",
    "\n",
    "Name of the Class:\n",
    "\n",
    "```python\n",
    "class_name = type_obj.__name__\n",
    "Module in which the Class was defined:\n",
    "\n",
    "module_name = type_obj.__module__\n",
    "Dictionary of Attributes and Methods:\n",
    "\n",
    "class_dict = type_obj.__dict__\n",
    "Base Classes (if any):\n",
    "\n",
    "base_classes = type_obj.__bases__\n",
    "These attributes provide details about the class, its structure, and its relationships with other classes. Here's a quick example:\n",
    "```"
   ]
  },
  {
   "cell_type": "markdown",
   "metadata": {},
   "source": [
    "## Accessing properties of type:"
   ]
  },
  {
   "cell_type": "code",
   "execution_count": 1,
   "metadata": {},
   "outputs": [],
   "source": [
    "type_obj = type(v)\n",
    "\n",
    "# Access information\n",
    "class_name = type_obj.__name__\n",
    "module_name = type_obj.__module__\n",
    "class_dict = type_obj.__dict__\n",
    "base_classes = type_obj.__bases__\n",
    "\n",
    "print(\"Class Name:\", class_name)\n",
    "print(\"Module Name:\", module_name)\n",
    "print(\"Class Dictionary:\", class_dict)\n",
    "print(\"Base Classes:\", base_classes)"
   ]
  }
 ],
 "metadata": {
  "kernelspec": {
   "display_name": ".venv_yellow",
   "language": "python",
   "name": "python3"
  },
  "language_info": {
   "codemirror_mode": {
    "name": "ipython",
    "version": 3
   },
   "file_extension": ".py",
   "mimetype": "text/x-python",
   "name": "python",
   "nbconvert_exporter": "python",
   "pygments_lexer": "ipython3",
   "version": "3.9.13"
  }
 },
 "nbformat": 4,
 "nbformat_minor": 2
}
