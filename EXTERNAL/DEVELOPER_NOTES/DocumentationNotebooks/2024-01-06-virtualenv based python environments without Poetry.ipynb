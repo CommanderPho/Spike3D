{
 "cells": [
  {
   "cell_type": "markdown",
   "metadata": {},
   "source": [
    "# \"2024-01-06-virtualenv based python environments without Poetry.ipynb\"\n"
   ]
  },
  {
   "cell_type": "code",
   "execution_count": null,
   "metadata": {},
   "outputs": [],
   "source": [
    "# Problem: Poetry only allows a single virtual environment for a given python version, making it difficult to test fixes related to dependences or backup existing environments\n",
    "\n",
    "# Solution: trying virtualenv (venv) raw"
   ]
  },
  {
   "cell_type": "code",
   "execution_count": null,
   "metadata": {
    "vscode": {
     "languageId": "powershell"
    }
   },
   "outputs": [],
   "source": [
    "cd C:\\Users\\pho\\repos\\Spike3DWorkEnv\\Spike3D\n",
    "poetry export --without-hashes --format=requirements.txt > requirements.txt\n"
   ]
  },
  {
   "cell_type": "code",
   "execution_count": null,
   "metadata": {
    "vscode": {
     "languageId": "powershell"
    }
   },
   "outputs": [],
   "source": [
    "pyenv exec python -m ensurepip --default-pip\n",
    "pyenv exec python -m pip install --upgrade pip\n",
    "pyenv exec python -m pip install virtualenv\n"
   ]
  },
  {
   "cell_type": "code",
   "execution_count": null,
   "metadata": {
    "vscode": {
     "languageId": "powershell"
    }
   },
   "outputs": [],
   "source": [
    "pyenv activate .venv_new\n",
    "pyenv exec pip install venv\n",
    "pyenv exec python -m venv .venv_new"
   ]
  },
  {
   "cell_type": "markdown",
   "metadata": {},
   "source": [
    "### Create new virtual environment (here named `.venv_new`)"
   ]
  },
  {
   "cell_type": "code",
   "execution_count": null,
   "metadata": {
    "vscode": {
     "languageId": "powershell"
    }
   },
   "outputs": [],
   "source": [
    "cd .\\repos\\Spike3DWorkEnv\\Spike3D\\\n",
    "pyenv exec virtualenv .venv_new"
   ]
  },
  {
   "cell_type": "markdown",
   "metadata": {},
   "source": [
    ">>>\n",
    "```created virtual environment CPython3.9.13.final.0-64 in 548ms\n",
    "  creator CPython3Windows(dest=C:\\Users\\pho\\repos\\Spike3DWorkEnv\\Spike3D\\.venv_new, clear=False, no_vcs_ignore=False, global=False)\n",
    "  seeder FromAppData(download=False, pip=bundle, setuptools=bundle, wheel=bundle, via=copy, app_data_dir=C:\\Users\\pho\\AppData\\Local\\pypa\\virtualenv)\n",
    "    added seed packages: pip==23.3.2, setuptools==69.0.3, wheel==0.42.0\n",
    "  activators BashActivator,BatchActivator,FishActivator,NushellActivator,PowerShellActivator,PythonActivator```"
   ]
  },
  {
   "cell_type": "markdown",
   "metadata": {},
   "source": [
    "### Activate the new environment and ensure pip is installed and up-to-date, finally install `requirements.txt`"
   ]
  },
  {
   "cell_type": "code",
   "execution_count": null,
   "metadata": {
    "vscode": {
     "languageId": "powershell"
    }
   },
   "outputs": [],
   "source": [
    "deactivate\n",
    ".venv_new\\Scripts\\activate\n",
    ".venv_new\\Scripts\\python -m ensurepip --default-pip \n",
    ".venv_new\\Scripts\\python -m pip install --upgrade pip\n",
    ".venv_new\\Scripts\\python -m pip install -r requirements.txt"
   ]
  },
  {
   "cell_type": "code",
   "execution_count": null,
   "metadata": {
    "vscode": {
     "languageId": "powershell"
    }
   },
   "outputs": [],
   "source": [
    "deactivate\n",
    ".venv\\Scripts\\activate\n",
    ".venv\\Scripts\\python -m ensurepip --default-pip \n",
    ".venv\\Scripts\\python -m pip install --upgrade pip"
   ]
  },
  {
   "cell_type": "markdown",
   "metadata": {},
   "source": [
    "### Install to new .venv_new:"
   ]
  },
  {
   "cell_type": "code",
   "execution_count": null,
   "metadata": {
    "vscode": {
     "languageId": "powershell"
    }
   },
   "outputs": [],
   "source": [
    "\n",
    ".venv_new\\Scripts\\python -m pip install -e C:\\Users\\pho\\repos\\Spike3DWorkEnv\\NeuroPy\n",
    ".venv_new\\Scripts\\python -m pip install -e C:\\Users\\pho\\repos\\Spike3DWorkEnv\\pyPhoCoreHelpers\n",
    ".venv_new\\Scripts\\python -m pip install -e C:\\Users\\pho\\repos\\Spike3DWorkEnv\\pyPhoPlaceCellAnalysis"
   ]
  },
  {
   "cell_type": "code",
   "execution_count": null,
   "metadata": {
    "vscode": {
     "languageId": "powershell"
    }
   },
   "outputs": [],
   "source": [
    "\n",
    "C:/Users/pho/repos/Spike3DWorkEnv/Spike3D/.venv_raw/Scripts/Activate.ps1\n",
    "\n",
    "\n",
    "cd C:/Users/pho/repos/Spike3DWorkEnv/Spike3D/\n",
    "\n",
    ".venv_raw\\Scripts\\python -m ensurepip --default-pip \n",
    ".venv_raw\\Scripts\\python -m pip install --upgrade pip\n",
    ".venv_raw\\Scripts\\python -m pip install -r requirements.txt\n",
    ".venv_raw\\Scripts\\python -m pip install -e C:\\Users\\pho\\repos\\Spike3DWorkEnv\\NeuroPy\n",
    ".venv_raw\\Scripts\\python -m pip install -e C:\\Users\\pho\\repos\\Spike3DWorkEnv\\pyPhoCoreHelpers\n",
    ".venv_raw\\Scripts\\python -m pip install -e C:\\Users\\pho\\repos\\Spike3DWorkEnv\\pyPhoPlaceCellAnalysis"
   ]
  },
  {
   "cell_type": "code",
   "execution_count": null,
   "metadata": {
    "vscode": {
     "languageId": "powershell"
    }
   },
   "outputs": [],
   "source": [
    "$envName = \".venv_vscode\"\n",
    "$RepoPath = \"C:\\Users\\pho\\repos\\Spike3DWorkEnv\\Spike3D\\\"\n",
    "\n",
    "cd $RepoPath\n",
    "pyenv exec virtualenv $envName"
   ]
  },
  {
   "cell_type": "code",
   "execution_count": null,
   "metadata": {
    "vscode": {
     "languageId": "powershell"
    }
   },
   "outputs": [],
   "source": [
    "param (\n",
    "    # $envName = \".venv_vscode\"\n",
    "    $envName = \".venv_red\"\n",
    ")\n",
    "\n",
    "\n",
    "$activateScript = if ($env:OS -eq \"Windows_NT\") {\n",
    "    \"$envName\\Scripts\\activate\"\n",
    "} else {\n",
    "    \"$envName/bin/activate\"\n",
    "}\n",
    "\n",
    "\n",
    "cd ./repos/Spike3DWorkEnv/Spike3D\n",
    "pyenv exec virtualenv $envName\n",
    "deactivate\n",
    "& $activateScript\n",
    "\n",
    "# Use the call operator (&) to execute the command with spaces\n",
    "& \"$envName\\Scripts\\python\" -m ensurepip --default-pip \n",
    "& \"$envName\\Scripts\\python\" -m pip install --upgrade pip\n",
    "\n",
    "cd ./repos/Spike3DWorkEnv/Spike3D\n",
    "\n",
    "& \"$envName\\Scripts\\python\" -m pip install -r requirements.txt\n",
    "\n",
    "# Full-path:\n",
    "# & \"$envName\\Scripts\\python\" -m pip install -r \"C:\\Users\\pho\\repos\\Spike3DWorkEnv\\Spike3D\\requirements.txt\"\n",
    "\n",
    "\n",
    "& \"$envName\\Scripts\\python\" -m pip install -e C:\\Users\\pho\\repos\\Spike3DWorkEnv\\NeuroPy\n",
    "& \"$envName\\Scripts\\python\" -m pip install -e C:\\Users\\pho\\repos\\Spike3DWorkEnv\\pyPhoCoreHelpers\n",
    "& \"$envName\\Scripts\\python\" -m pip install -e C:\\Users\\pho\\repos\\Spike3DWorkEnv\\pyPhoPlaceCellAnalysis\n"
   ]
  },
  {
   "cell_type": "markdown",
   "metadata": {},
   "source": [
    "### Be sure to add the directory to your `.gitignore` to prevent it from being checked-in"
   ]
  },
  {
   "cell_type": "code",
   "execution_count": null,
   "metadata": {
    "vscode": {
     "languageId": "powershell"
    }
   },
   "outputs": [],
   "source": [
    "code .gitignore"
   ]
  },
  {
   "cell_type": "markdown",
   "metadata": {},
   "source": [
    "## 2023-01-09 - Color Folders"
   ]
  },
  {
   "cell_type": "markdown",
   "metadata": {
    "vscode": {
     "languageId": "powershell"
    }
   },
   "source": [
    "## Windows Powershell"
   ]
  },
  {
   "cell_type": "code",
   "execution_count": null,
   "metadata": {
    "vscode": {
     "languageId": "powershell"
    }
   },
   "outputs": [],
   "source": [
    "param (\n",
    "    [string]$colorFolderColorName\n",
    ")\n",
    "\n",
    "if (-not $colorFolderColorName) {\n",
    "    $colorFolderColorName = Read-Host \"Enter a color name (like 'yellow') without quotes:\"\n",
    "}\n",
    "\n",
    "# Now you can use $colorFolderColorName in your script\n",
    "Write-Output \"Creating a new virtual-env with colorFolderColorName: $colorFolderColorName\"\n",
    "\n",
    "$envName = \".venv_$colorFolderColorName\";\n",
    "\n",
    "$envRelativeActivateScript = if ($env:OS -eq \"Windows_NT\") {\n",
    "    \"$envName\\Scripts\\activate\"\n",
    "} else {\n",
    "    \"$envName/bin/activate\"\n",
    "}\n",
    "$envRelativePython = if ($env:OS -eq \"Windows_NT\") {\n",
    "    \"$envName\\bin\\python\"\n",
    "} else {\n",
    "    \"$envName/bin/python\"\n",
    "}\n",
    "\n",
    "$fullEnvParentPath = if ($env:OS -eq \"Windows_NT\") {\n",
    "    \"K:\\FastSwap\\AppData\\VSCode\\$colorFolderColorName\"\n",
    "} else {\n",
    "    \"$HOME/Library/VSCode/$colorFolderColorName\"\n",
    "}\n",
    "\n",
    "# mkdir -p $fullEnvParentPath\n",
    "New-Item -ItemType Directory -Path $fullEnvParentPath -Force\n",
    "cd \"$fullEnvParentPath\"\n",
    "\n",
    "$fullEnvPath=\"$fullEnvParentPath\\$envName\"\n",
    "$fullActivateScriptPath=\"$fullEnvParentPath\\$envRelativeActivateScript\"\n",
    "$fullPythonPath=\"$fullEnvParentPath\\$envRelativePython\"\n",
    "\n",
    "Write-Host \"fullEnvParentPath: $fullEnvParentPath\"\n",
    "Write-Host \"fullEnvPath: $fullEnvPath\"\n",
    "Write-Host \"fullActivateScriptPath: $fullActivateScriptPath\"\n",
    "Write-Host \"fullPythonPath: $fullPythonPath\"\n",
    "\n",
    "# Begin Body:\n",
    "# cd \"K:\\FastSwap\\AppData\\VSCode\\$colorFolderColorName\"\n",
    "cd \"$fullEnvParentPath\"\n",
    "pyenv local 3.9.13\n",
    "pyenv exec virtualenv $envName\n",
    "deactivate\n",
    "& $envRelativeActivateScript\n",
    "\n",
    "\n",
    "$spike3d_repo_path=\"$HOME\\repos\\Spike3DWorkEnv\\Spike3D\"\n",
    "Write-Host \"Using spike3d_repo_path: $spike3d_repo_path...\"\n",
    "\n",
    "# symlink it\n",
    "if (!(Test-Path $spike3d_repo_path -PathType Container)) {\n",
    "    Write-Error \"The directory $spike3d_repo_path does not exist. You will need to finish setup by symlinking and registering the kernel\"\n",
    "    # You can choose to create the directory here if desired\n",
    "}\n",
    "else {\n",
    "\n",
    "    # Use the call operator (&) to execute the command with spaces\n",
    "    & \"$envName\\Scripts\\python\" -m ensurepip --default-pip \n",
    "    & \"$envName\\Scripts\\python\" -m pip install --upgrade pip\n",
    "\n",
    "    # Full-path:\n",
    "    & \"$envName\\Scripts\\python\" -m pip install -r \"C:\\Users\\pho\\repos\\Spike3DWorkEnv\\Spike3D\\requirements.txt\"\n",
    "    & \"$envName\\Scripts\\python\" -m pip install -e C:\\Users\\pho\\repos\\Spike3DWorkEnv\\NeuroPy\n",
    "    & \"$envName\\Scripts\\python\" -m pip install -e C:\\Users\\pho\\repos\\Spike3DWorkEnv\\pyPhoCoreHelpers\n",
    "    & \"$envName\\Scripts\\python\" -m pip install -e C:\\Users\\pho\\repos\\Spike3DWorkEnv\\pyPhoPlaceCellAnalysis\n",
    "\n",
    "    # Link the new env as a symlink:\n",
    "    $new_env_spike3D_folder_target=\"$spike3d_repo_path\\$envName\"\n",
    "    echo \"$new_env_spike3D_folder_target\"\n",
    "    New-Item -ItemType SymbolicLink -Path \"$new_env_spike3D_folder_target\" -Target \"$fullEnvPath\"\n",
    "    cd \"$new_env_spike3D_folder_target\"\n",
    "    echo \"$new_env_spike3D_folder_target\"\n",
    "\n",
    "    ipython kernel install --user --name=\"spike3d-$colorFolderColorName\"\n",
    "    & \"$fullActivateScriptPath\"\n",
    "\n",
    "    # Add to .gitignore:\n",
    "    Add-Content -Path \"$spike3d_repo_path\\.gitignore\" -Value \"$envName\"\n",
    "    Write-Host \"Completed successfully! done.\"\n",
    "}"
   ]
  },
  {
   "cell_type": "code",
   "execution_count": null,
   "metadata": {
    "vscode": {
     "languageId": "powershell"
    }
   },
   "outputs": [],
   "source": [
    "$spike3DDirectory = Split-Path -Parent (Split-Path -Parent $PSScriptRoot) # PSScriptRoot is the script path\n",
    "Write-Verbose \"spike3DDirectory: $spike3DDirectory\" # C:\\Users\\pho\\repos\\Spike3DWorkEnv\\Spike3D\n",
    "$repoParentDirectory = Split-Path -Parent $spike3DDirectory\n",
    "Write-Verbose \"repoParentDirectory: $repoParentDirectory\" #  C:\\Users\\pho\\repos\\Spike3DWorkEnv\n",
    "\n",
    "$directories = @(\n",
    "    \"$repoParentDirectory\\NeuroPy\",\n",
    "    \"$repoParentDirectory\\pyPhoCoreHelpers\",\n",
    "    \"$repoParentDirectory\\pyPhoPlaceCellAnalysis\",\n",
    "    \"$spike3DDirectory\"\n",
    ")\n",
    "\n",
    "# $directories = @(\n",
    "#     \"C:\\Users\\pho\\repos\\Spike3DWorkEnv\\NeuroPy\",\n",
    "#     \"C:\\Users\\pho\\repos\\Spike3DWorkEnv\\pyPhoCoreHelpers\",\n",
    "#     \"C:\\Users\\pho\\repos\\Spike3DWorkEnv\\pyPhoPlaceCellAnalysis\",\n",
    "#     \"C:\\Users\\pho\\repos\\Spike3DWorkEnv\\Spike3D\"\n",
    "# )\n",
    "\n",
    "\n",
    "$directory_poetry_export_commands = @(\n",
    "    @(\"poetry export --without-hashes --format=requirements.txt  > requirements.txt\"),\n",
    "    @(\"poetry export --without-hashes --format=requirements.txt  > requirements.txt\"),\n",
    "    @(\"poetry export --without-hashes --format=requirements.txt  > requirements.txt\"),\n",
    "    @(\"poetry export --without-hashes --format=requirements.txt  > requirements.txt\")\n",
    ")\n",
    "\n",
    "$directory_pyright_generate_typestubs_commands = @(\n",
    "    @(\"pyright --createstub neuropy\"),\n",
    "    @(\"pyright --createstub pyphocorehelpers\"),\n",
    "    @(\"pyright --createstub pyphoplacecellanalysis\"),\n",
    "    @(\"pyright --createstub neuropy\", \"pyright --createstub pyphocorehelpers\", \"pyright --createstub pyphoplacecellanalysis\")\n",
    ")\n",
    "\n",
    "\n",
    "function Export-RequirementsFromPoetry {\n",
    "    # param (\n",
    "    #     [string]$Name\n",
    "    # )\n",
    "    Write-Host \"Exporting requirements.txt from poetry repos...\"\n",
    "    for ($i = 0; $i -lt $directories.Length; $i++) {\n",
    "        $directory = $directories[$i]\n",
    "        $commands = $directory_poetry_export_commands[$i]\n",
    "        Set-Location $directory\n",
    "        Write-Host \"\\t for $directory\"\n",
    "        foreach ($command in $commands) {\n",
    "            Invoke-Expression $command\n",
    "        }\n",
    "        Write-Host \"done.\"\n",
    "    }\n",
    "}\n",
    "\n",
    "\n",
    "function Export-PyrightTypestubs {\n",
    "    # param (\n",
    "    #     [string]$Name\n",
    "    # )\n",
    "    Write-Host \"Exporting typestubs using PyRight...\"\n",
    "    for ($i = 0; $i -lt $directories.Length; $i++) {\n",
    "        $directory = $directories[$i]\n",
    "        $commands = $directory_pyright_generate_typestubs_commands[$i]\n",
    "        Set-Location $directory\n",
    "        Write-Host \"\\t for $directory\"\n",
    "        foreach ($command in $commands) {\n",
    "            Invoke-Expression $command\n",
    "        }\n",
    "        Write-Host \"done.\"\n",
    "    }\n",
    "}\n",
    "\n",
    "\n",
    "Export-RequirementsFromPoetry\n",
    "\n",
    "Export-PyrightTypestubs"
   ]
  },
  {
   "cell_type": "code",
   "execution_count": null,
   "metadata": {
    "vscode": {
     "languageId": "powershell"
    }
   },
   "outputs": [],
   "source": [
    "'poetry export --without-hashes --format=requirements.txt'"
   ]
  },
  {
   "cell_type": "markdown",
   "metadata": {},
   "source": [
    "### Linux"
   ]
  },
  {
   "cell_type": "code",
   "execution_count": null,
   "metadata": {
    "vscode": {
     "languageId": "shellscript"
    }
   },
   "outputs": [],
   "source": [
    "# colorFolderColorName=\"yellow\"\n",
    "colorFolderColorName=\"green\"\n",
    "envName=\".venv_$colorFolderColorName\"\n",
    "\n",
    "envRelativeActivateScript=\"$envName/bin/activate\"\n",
    "envRelativePython=\"$envName/bin/python\"\n",
    "fullEnvParentPath=$HOME/Library/VSCode/$colorFolderColorName\n",
    "\n",
    "mkdir -p $fullEnvParentPath\n",
    "cd \"$fullEnvParentPath\"\n",
    "\n",
    "fullEnvPath=\"$fullEnvParentPath/$envName\"\n",
    "fullActivateScriptPath=\"$fullEnvParentPath/$envRelativeActivateScript\"\n",
    "fullPythonPath=\"$fullEnvParentPath/$envRelativePython\"\n",
    "\n",
    "echo $fullEnvParentPath\n",
    "echo $fullEnvPath\n",
    "echo $fullActivateScriptPath\n",
    "echo $fullPythonPath\n",
    "\n",
    "\n",
    "## requires pyenv, not present on GL\n",
    "# pyenv local 3.9.13\n",
    "# pyenv exec virtualenv $envName\n",
    "\n",
    "python -m virtualenv $envName\n",
    "\n",
    "deactivate\n",
    "# source \"$activateScript\"\n",
    "source \"$fullActivateScriptPath\"\n",
    "\n",
    "# /home/halechr/Library/VSCode/yellow\n",
    "\n",
    "# Use the call operator (&) to execute the command with spaces\n",
    "\"$envName/bin/python\" -m ensurepip --default-pip \n",
    "\"$envName/bin/python\" -m pip install --upgrade pip\n",
    "\n",
    "# Full-path:\n",
    "\"$envName/bin/python\" -m pip install -r \"$HOME/repos/Spike3D/requirements.txt\"\n",
    "\n",
    "\"$envName/bin/python\" -m pip install -e \"$HOME/repos/NeuroPy\"\n",
    "\"$envName/bin/python\" -m pip install -e \"$HOME/repos/pyPhoCoreHelpers\"\n",
    "\"$envName/bin/python\" -m pip install -e \"$HOME/repos/pyPhoPlaceCellAnalysis\"\n",
    "\n",
    "echo $fullPythonPath\n",
    "\n",
    "# symlink it\n",
    "ln -s \"$fullEnvPath\" \"$HOME/repos/Spike3D/$envName\"\n",
    "cd \"$HOME/repos/Spike3D/$envName\"\n",
    "echo \"$HOME/repos/Spike3D/$envName\"\n",
    "\n",
    "ipython kernel install --user --name=\"spike3d-$colorFolderColorName\"\n",
    "\n",
    "# /home/halechr/Library/VSCode/green/.venv_green\n",
    "# /home/halechr/Library/VSCode/green/.venv_green/bin/python\n",
    "\n",
    "source /home/halechr/Library/VSCode/green/.venv_green/bin/activate"
   ]
  },
  {
   "cell_type": "code",
   "execution_count": null,
   "metadata": {
    "vscode": {
     "languageId": "shellscript"
    }
   },
   "outputs": [],
   "source": [
    "ipython kernel install --name=\"spike3d-green\""
   ]
  },
  {
   "cell_type": "code",
   "execution_count": null,
   "metadata": {
    "vscode": {
     "languageId": "powershell"
    }
   },
   "outputs": [],
   "source": [
    "K:\\FastSwap\\AppData\\VSCode\\red\\.venv_red\\Scripts\\python.exe\n",
    "\n",
    "K:\\FastSwap\\AppData\\VSCode\\red\\.venv_yellow\\Scripts\\python.exe\n",
    "\n",
    "\n",
    "ipython kernel install --user --name=\"spike3d-yellow\"\n"
   ]
  },
  {
   "cell_type": "markdown",
   "metadata": {},
   "source": [
    "## Register ipython kernel for jupyter:"
   ]
  },
  {
   "cell_type": "code",
   "execution_count": null,
   "metadata": {
    "vscode": {
     "languageId": "powershell"
    }
   },
   "outputs": [],
   "source": [
    "# poetry run ipython kernel install --user --name=spike3d-poetry\n",
    "ipython kernel install --user --name=\"spike3d-$colorFolderColorName\" # ipython kernel install --user --name=spike3d-yellow"
   ]
  },
  {
   "cell_type": "code",
   "execution_count": 1,
   "metadata": {},
   "outputs": [],
   "source": [
    "import os\n",
    "import subprocess\n",
    "import sys\n",
    "from pathlib import Path\n",
    "\n",
    "\n",
    "def create_virtualenv(env_name):\n",
    "    subprocess.run([\"pyenv\", \"exec\", \"virtualenv\", env_name])\n",
    "\n",
    "def activate_virtualenv(env_name):\n",
    "    activate_script = Path(env_name) / (\"Scripts\" if sys.platform == \"win32\" else \"bin\") / \"activate\"\n",
    "    subprocess.run([str(activate_script)])\n",
    "\n",
    "def install_requirements(env_name):\n",
    "    python_path = Path(env_name) / \"Scripts\" / \"python\"\n",
    "    subprocess.run([str(python_path), \"-m\", \"ensurepip\", \"--default-pip\"])\n",
    "    subprocess.run([str(python_path), \"-m\", \"pip\", \"install\", \"--upgrade\", \"pip\"])\n",
    "    subprocess.run([str(python_path), \"-m\", \"pip\", \"install\", \"-r\", \"requirements.txt\"])\n",
    "\n",
    "# if __name__ == \"__main__\":\n",
    "#     env_name = input(\"Enter the name of the environment: \") or \".venv_new\"\n",
    "\n",
    "#     create_virtualenv(env_name)\n",
    "#     activate_virtualenv(env_name)\n",
    "#     install_requirements(env_name)\n"
   ]
  },
  {
   "cell_type": "code",
   "execution_count": 2,
   "metadata": {},
   "outputs": [],
   "source": [
    "# env_name = input(\"Enter the name of the environment: \") or \".venv_vscode\"\n",
    "\n",
    "spike3D_repo_path: str = Path(r\"C:/Users/pho/repos/Spike3DWorkEnv/Spike3D/\").resolve()\n",
    "\n",
    "env_name: str = \".venv_vscode\"\n",
    "os.chdir(spike3D_repo_path)  # Change to the Spike3D directory\n"
   ]
  },
  {
   "cell_type": "code",
   "execution_count": null,
   "metadata": {},
   "outputs": [],
   "source": [
    "\n",
    "'poetry export --without-hashes --format=requirements.txt'\n"
   ]
  },
  {
   "cell_type": "code",
   "execution_count": null,
   "metadata": {},
   "outputs": [],
   "source": [
    "create_virtualenv(env_name)\n",
    "activate_virtualenv(env_name)\n",
    "install_requirements(env_name)"
   ]
  },
  {
   "cell_type": "code",
   "execution_count": null,
   "metadata": {},
   "outputs": [],
   "source": []
  }
 ],
 "metadata": {
  "kernelspec": {
   "display_name": ".venv",
   "language": "python",
   "name": "python3"
  },
  "language_info": {
   "codemirror_mode": {
    "name": "ipython",
    "version": 3
   },
   "file_extension": ".py",
   "mimetype": "text/x-python",
   "name": "python",
   "nbconvert_exporter": "python",
   "pygments_lexer": "ipython3",
   "version": "3.9.13"
  }
 },
 "nbformat": 4,
 "nbformat_minor": 2
}
