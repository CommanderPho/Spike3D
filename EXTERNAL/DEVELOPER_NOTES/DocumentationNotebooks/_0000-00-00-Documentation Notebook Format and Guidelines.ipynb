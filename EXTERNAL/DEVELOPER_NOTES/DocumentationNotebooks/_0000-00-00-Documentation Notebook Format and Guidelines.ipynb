{
 "cells": [
  {
   "cell_type": "markdown",
   "metadata": {},
   "source": [
    "# \"_0000-00-00-Documentation Notebook Format and Guidelines.ipynb\"\n",
    "\n",
    "Introducing new Documentation method using jupyter notebooks"
   ]
  },
  {
   "cell_type": "markdown",
   "metadata": {},
   "source": [
    "\n",
    "# Problem: I spend a lot of time debugging in notebook and don't want to throw aways the code when I'm done fixing the problem (because of how long it took to write).\n",
    "\n",
    "# Solution: Put them in a modularized documentation notebook! \n"
   ]
  },
  {
   "cell_type": "markdown",
   "metadata": {},
   "source": [
    "#TODO 2023-12-20 11:04: - [ ] Eventually make a VSCode extension that can easily factor out a section of an existing Jupyter Notebook (or highlighted cells) into an appropriately named Documentation Notebook\n"
   ]
  }
 ],
 "metadata": {
  "language_info": {
   "name": "python"
  }
 },
 "nbformat": 4,
 "nbformat_minor": 2
}
