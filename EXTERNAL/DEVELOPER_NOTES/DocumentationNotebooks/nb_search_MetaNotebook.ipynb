{
 "cells": [
  {
   "cell_type": "code",
   "execution_count": 2,
   "id": "d41f910b-b90c-4ba3-b15d-b12d28648082",
   "metadata": {
    "scrolled": true,
    "tags": []
   },
   "outputs": [
    {
     "name": "stderr",
     "output_type": "stream",
     "text": [
      "C:\\Users\\pho\\miniconda3\\lib\\site-packages\\nbformat\\__init__.py:92: MissingIDFieldWarning: Code cell is missing an id field, this will become a hard error in future nbformat versions. You may want to use `normalize()` on your notebooks before validations (available since nbformat 5.1.4). Previous versions of nbformat are fixing this issue transparently, and will stop doing so in the future.\n",
      "  validate(nb)\n"
     ]
    },
    {
     "data": {
      "text/html": [
       "<a href=\"C:\\Users\\pho\\repos\\PhoPy3DPositionAnalysis2021\\BatchGenerateOutupts-2022-12-16.ipynb\">C:\\Users\\pho\\repos\\PhoPy3DPositionAnalysis2021\\BatchGenerateOutupts-2022-12-16.ipynb</a>"
      ],
      "text/plain": [
       "<IPython.core.display.HTML object>"
      ]
     },
     "metadata": {},
     "output_type": "display_data"
    },
    {
     "data": {
      "text/html": [
       "<a href=\"C:\\Users\\pho\\repos\\PhoPy3DPositionAnalysis2021\\BatchGenerateOutupts-2022-12-17.ipynb\">C:\\Users\\pho\\repos\\PhoPy3DPositionAnalysis2021\\BatchGenerateOutupts-2022-12-17.ipynb</a>"
      ],
      "text/plain": [
       "<IPython.core.display.HTML object>"
      ]
     },
     "metadata": {},
     "output_type": "display_data"
    },
    {
     "data": {
      "text/html": [
       "<a href=\"C:\\Users\\pho\\repos\\PhoPy3DPositionAnalysis2021\\BatchGenerateOutupts-2022-12-18.ipynb\">C:\\Users\\pho\\repos\\PhoPy3DPositionAnalysis2021\\BatchGenerateOutupts-2022-12-18.ipynb</a>"
      ],
      "text/plain": [
       "<IPython.core.display.HTML object>"
      ]
     },
     "metadata": {},
     "output_type": "display_data"
    },
    {
     "data": {
      "text/html": [
       "<a href=\"C:\\Users\\pho\\repos\\PhoPy3DPositionAnalysis2021\\DOCUMENTATION_NOTEBOOK.ipynb\">C:\\Users\\pho\\repos\\PhoPy3DPositionAnalysis2021\\DOCUMENTATION_NOTEBOOK.ipynb</a>"
      ],
      "text/plain": [
       "<IPython.core.display.HTML object>"
      ]
     },
     "metadata": {},
     "output_type": "display_data"
    },
    {
     "data": {
      "text/html": [
       "<a href=\"C:\\Users\\pho\\repos\\PhoPy3DPositionAnalysis2021\\Jupyter_FlowchartPipeline.ipynb\">C:\\Users\\pho\\repos\\PhoPy3DPositionAnalysis2021\\Jupyter_FlowchartPipeline.ipynb</a>"
      ],
      "text/plain": [
       "<IPython.core.display.HTML object>"
      ]
     },
     "metadata": {},
     "output_type": "display_data"
    },
    {
     "data": {
      "text/html": [
       "<a href=\"C:\\Users\\pho\\repos\\PhoPy3DPositionAnalysis2021\\ModernNeuroPyNotebook.ipynb\">C:\\Users\\pho\\repos\\PhoPy3DPositionAnalysis2021\\ModernNeuroPyNotebook.ipynb</a>"
      ],
      "text/plain": [
       "<IPython.core.display.HTML object>"
      ]
     },
     "metadata": {},
     "output_type": "display_data"
    },
    {
     "data": {
      "text/html": [
       "<a href=\"C:\\Users\\pho\\repos\\PhoPy3DPositionAnalysis2021\\NeuropyPipeline_Visualizations.ipynb\">C:\\Users\\pho\\repos\\PhoPy3DPositionAnalysis2021\\NeuropyPipeline_Visualizations.ipynb</a>"
      ],
      "text/plain": [
       "<IPython.core.display.HTML object>"
      ]
     },
     "metadata": {},
     "output_type": "display_data"
    },
    {
     "data": {
      "text/html": [
       "<a href=\"C:\\Users\\pho\\repos\\PhoPy3DPositionAnalysis2021\\TestNeuropyPipeline240.ipynb\">C:\\Users\\pho\\repos\\PhoPy3DPositionAnalysis2021\\TestNeuropyPipeline240.ipynb</a>"
      ],
      "text/plain": [
       "<IPython.core.display.HTML object>"
      ]
     },
     "metadata": {},
     "output_type": "display_data"
    },
    {
     "data": {
      "text/html": [
       "<a href=\"C:\\Users\\pho\\repos\\PhoPy3DPositionAnalysis2021\\TestNeuropyPipeline241.ipynb\">C:\\Users\\pho\\repos\\PhoPy3DPositionAnalysis2021\\TestNeuropyPipeline241.ipynb</a>"
      ],
      "text/plain": [
       "<IPython.core.display.HTML object>"
      ]
     },
     "metadata": {},
     "output_type": "display_data"
    },
    {
     "data": {
      "text/html": [
       "<a href=\"C:\\Users\\pho\\repos\\PhoPy3DPositionAnalysis2021\\TestNeuropyPipeline254.ipynb\">C:\\Users\\pho\\repos\\PhoPy3DPositionAnalysis2021\\TestNeuropyPipeline254.ipynb</a>"
      ],
      "text/plain": [
       "<IPython.core.display.HTML object>"
      ]
     },
     "metadata": {},
     "output_type": "display_data"
    },
    {
     "data": {
      "text/html": [
       "<a href=\"C:\\Users\\pho\\repos\\PhoPy3DPositionAnalysis2021\\EXTERNAL\\TESTING\\OLD\\2021-09-30-PhoPy3DPositionAnalysis.ipynb\">C:\\Users\\pho\\repos\\PhoPy3DPositionAnalysis2021\\EXTERNAL\\TESTING\\OLD\\2021-09-30-PhoPy3DPositionAnalysis.ipynb</a>"
      ],
      "text/plain": [
       "<IPython.core.display.HTML object>"
      ]
     },
     "metadata": {},
     "output_type": "display_data"
    },
    {
     "data": {
      "text/html": [
       "<a href=\"C:\\Users\\pho\\repos\\PhoPy3DPositionAnalysis2021\\EXTERNAL\\TESTING\\OLD\\2021-10-02-PhoPy3DPositionAnalysis-ipygany.ipynb\">C:\\Users\\pho\\repos\\PhoPy3DPositionAnalysis2021\\EXTERNAL\\TESTING\\OLD\\2021-10-02-PhoPy3DPositionAnalysis-ipygany.ipynb</a>"
      ],
      "text/plain": [
       "<IPython.core.display.HTML object>"
      ]
     },
     "metadata": {},
     "output_type": "display_data"
    },
    {
     "data": {
      "text/html": [
       "<a href=\"C:\\Users\\pho\\repos\\PhoPy3DPositionAnalysis2021\\EXTERNAL\\TESTING\\OLD\\2021-11-01-PhoPy3DPositionAnalysis-ipygany.ipynb\">C:\\Users\\pho\\repos\\PhoPy3DPositionAnalysis2021\\EXTERNAL\\TESTING\\OLD\\2021-11-01-PhoPy3DPositionAnalysis-ipygany.ipynb</a>"
      ],
      "text/plain": [
       "<IPython.core.display.HTML object>"
      ]
     },
     "metadata": {},
     "output_type": "display_data"
    },
    {
     "data": {
      "text/html": [
       "<a href=\"C:\\Users\\pho\\repos\\PhoPy3DPositionAnalysis2021\\EXTERNAL\\TESTING\\OLD\\2021-11-10-PhoPy3DBapunPositionAnalysis.ipynb\">C:\\Users\\pho\\repos\\PhoPy3DPositionAnalysis2021\\EXTERNAL\\TESTING\\OLD\\2021-11-10-PhoPy3DBapunPositionAnalysis.ipynb</a>"
      ],
      "text/plain": [
       "<IPython.core.display.HTML object>"
      ]
     },
     "metadata": {},
     "output_type": "display_data"
    },
    {
     "data": {
      "text/html": [
       "<a href=\"C:\\Users\\pho\\repos\\PhoPy3DPositionAnalysis2021\\EXTERNAL\\TESTING\\OLD\\2021-11-12-PhoPy3DBapunPositionAnalysis.ipynb\">C:\\Users\\pho\\repos\\PhoPy3DPositionAnalysis2021\\EXTERNAL\\TESTING\\OLD\\2021-11-12-PhoPy3DBapunPositionAnalysis.ipynb</a>"
      ],
      "text/plain": [
       "<IPython.core.display.HTML object>"
      ]
     },
     "metadata": {},
     "output_type": "display_data"
    },
    {
     "data": {
      "text/html": [
       "<a href=\"C:\\Users\\pho\\repos\\PhoPy3DPositionAnalysis2021\\EXTERNAL\\TESTING\\OLD\\2021-11-15-PhoPy3DBapunPositionAnalysis.ipynb\">C:\\Users\\pho\\repos\\PhoPy3DPositionAnalysis2021\\EXTERNAL\\TESTING\\OLD\\2021-11-15-PhoPy3DBapunPositionAnalysis.ipynb</a>"
      ],
      "text/plain": [
       "<IPython.core.display.HTML object>"
      ]
     },
     "metadata": {},
     "output_type": "display_data"
    },
    {
     "data": {
      "text/html": [
       "<a href=\"C:\\Users\\pho\\repos\\PhoPy3DPositionAnalysis2021\\EXTERNAL\\TESTING\\OLD\\2021-11-22-PhoPy3DKamranPositionAnalysis.ipynb\">C:\\Users\\pho\\repos\\PhoPy3DPositionAnalysis2021\\EXTERNAL\\TESTING\\OLD\\2021-11-22-PhoPy3DKamranPositionAnalysis.ipynb</a>"
      ],
      "text/plain": [
       "<IPython.core.display.HTML object>"
      ]
     },
     "metadata": {},
     "output_type": "display_data"
    },
    {
     "data": {
      "text/html": [
       "<a href=\"C:\\Users\\pho\\repos\\PhoPy3DPositionAnalysis2021\\EXTERNAL\\TESTING\\OLD\\2021-11-26-PhoPy3DKamranPositionAnalysis.ipynb\">C:\\Users\\pho\\repos\\PhoPy3DPositionAnalysis2021\\EXTERNAL\\TESTING\\OLD\\2021-11-26-PhoPy3DKamranPositionAnalysis.ipynb</a>"
      ],
      "text/plain": [
       "<IPython.core.display.HTML object>"
      ]
     },
     "metadata": {},
     "output_type": "display_data"
    },
    {
     "data": {
      "text/html": [
       "<a href=\"C:\\Users\\pho\\repos\\PhoPy3DPositionAnalysis2021\\EXTERNAL\\TESTING\\OLD\\2021-11-28-PhoPy3DBapunPositionAnalysis.ipynb\">C:\\Users\\pho\\repos\\PhoPy3DPositionAnalysis2021\\EXTERNAL\\TESTING\\OLD\\2021-11-28-PhoPy3DBapunPositionAnalysis.ipynb</a>"
      ],
      "text/plain": [
       "<IPython.core.display.HTML object>"
      ]
     },
     "metadata": {},
     "output_type": "display_data"
    },
    {
     "data": {
      "text/html": [
       "<a href=\"C:\\Users\\pho\\repos\\PhoPy3DPositionAnalysis2021\\EXTERNAL\\TESTING\\OLD\\2021-11-29-PhoPy3DBapunPositionAnalysis.ipynb\">C:\\Users\\pho\\repos\\PhoPy3DPositionAnalysis2021\\EXTERNAL\\TESTING\\OLD\\2021-11-29-PhoPy3DBapunPositionAnalysis.ipynb</a>"
      ],
      "text/plain": [
       "<IPython.core.display.HTML object>"
      ]
     },
     "metadata": {},
     "output_type": "display_data"
    },
    {
     "data": {
      "text/html": [
       "<a href=\"C:\\Users\\pho\\repos\\PhoPy3DPositionAnalysis2021\\EXTERNAL\\TESTING\\OLD\\2021-11-30-PhoPy3DKamranPositionAnalysis.ipynb\">C:\\Users\\pho\\repos\\PhoPy3DPositionAnalysis2021\\EXTERNAL\\TESTING\\OLD\\2021-11-30-PhoPy3DKamranPositionAnalysis.ipynb</a>"
      ],
      "text/plain": [
       "<IPython.core.display.HTML object>"
      ]
     },
     "metadata": {},
     "output_type": "display_data"
    },
    {
     "data": {
      "text/html": [
       "<a href=\"C:\\Users\\pho\\repos\\PhoPy3DPositionAnalysis2021\\EXTERNAL\\TESTING\\OLD\\2021-12-06-PhoPy3DKamranPositionAnalysis.ipynb\">C:\\Users\\pho\\repos\\PhoPy3DPositionAnalysis2021\\EXTERNAL\\TESTING\\OLD\\2021-12-06-PhoPy3DKamranPositionAnalysis.ipynb</a>"
      ],
      "text/plain": [
       "<IPython.core.display.HTML object>"
      ]
     },
     "metadata": {},
     "output_type": "display_data"
    },
    {
     "data": {
      "text/html": [
       "<a href=\"C:\\Users\\pho\\repos\\PhoPy3DPositionAnalysis2021\\EXTERNAL\\TESTING\\OLD\\2021-12-07-PhoPy3DKamranPositionAnalysis.ipynb\">C:\\Users\\pho\\repos\\PhoPy3DPositionAnalysis2021\\EXTERNAL\\TESTING\\OLD\\2021-12-07-PhoPy3DKamranPositionAnalysis.ipynb</a>"
      ],
      "text/plain": [
       "<IPython.core.display.HTML object>"
      ]
     },
     "metadata": {},
     "output_type": "display_data"
    },
    {
     "data": {
      "text/html": [
       "<a href=\"C:\\Users\\pho\\repos\\PhoPy3DPositionAnalysis2021\\EXTERNAL\\TESTING\\OLD\\2021-12-09-PhoPy3DKamranPositionAnalysis.ipynb\">C:\\Users\\pho\\repos\\PhoPy3DPositionAnalysis2021\\EXTERNAL\\TESTING\\OLD\\2021-12-09-PhoPy3DKamranPositionAnalysis.ipynb</a>"
      ],
      "text/plain": [
       "<IPython.core.display.HTML object>"
      ]
     },
     "metadata": {},
     "output_type": "display_data"
    },
    {
     "data": {
      "text/html": [
       "<a href=\"C:\\Users\\pho\\repos\\PhoPy3DPositionAnalysis2021\\EXTERNAL\\TESTING\\OLD\\2021-12-11-PhoPy3DKamranPositionAnalysis.ipynb\">C:\\Users\\pho\\repos\\PhoPy3DPositionAnalysis2021\\EXTERNAL\\TESTING\\OLD\\2021-12-11-PhoPy3DKamranPositionAnalysis.ipynb</a>"
      ],
      "text/plain": [
       "<IPython.core.display.HTML object>"
      ]
     },
     "metadata": {},
     "output_type": "display_data"
    },
    {
     "data": {
      "text/html": [
       "<a href=\"C:\\Users\\pho\\repos\\PhoPy3DPositionAnalysis2021\\EXTERNAL\\TESTING\\OLD\\2021-12-14-PhoPy3DKamranPositionAnalysis.ipynb\">C:\\Users\\pho\\repos\\PhoPy3DPositionAnalysis2021\\EXTERNAL\\TESTING\\OLD\\2021-12-14-PhoPy3DKamranPositionAnalysis.ipynb</a>"
      ],
      "text/plain": [
       "<IPython.core.display.HTML object>"
      ]
     },
     "metadata": {},
     "output_type": "display_data"
    },
    {
     "data": {
      "text/html": [
       "<a href=\"C:\\Users\\pho\\repos\\PhoPy3DPositionAnalysis2021\\EXTERNAL\\TESTING\\OLD\\2021-12-20-PhoPy3DKamranPositionAnalysis.ipynb\">C:\\Users\\pho\\repos\\PhoPy3DPositionAnalysis2021\\EXTERNAL\\TESTING\\OLD\\2021-12-20-PhoPy3DKamranPositionAnalysis.ipynb</a>"
      ],
      "text/plain": [
       "<IPython.core.display.HTML object>"
      ]
     },
     "metadata": {},
     "output_type": "display_data"
    },
    {
     "data": {
      "text/html": [
       "<a href=\"C:\\Users\\pho\\repos\\PhoPy3DPositionAnalysis2021\\EXTERNAL\\TESTING\\OLD\\2021-12-21-PhoPy3DKamranPositionAnalysis.ipynb\">C:\\Users\\pho\\repos\\PhoPy3DPositionAnalysis2021\\EXTERNAL\\TESTING\\OLD\\2021-12-21-PhoPy3DKamranPositionAnalysis.ipynb</a>"
      ],
      "text/plain": [
       "<IPython.core.display.HTML object>"
      ]
     },
     "metadata": {},
     "output_type": "display_data"
    },
    {
     "data": {
      "text/html": [
       "<a href=\"C:\\Users\\pho\\repos\\PhoPy3DPositionAnalysis2021\\EXTERNAL\\TESTING\\OLD\\2021-12-22-PhoPy3DKamranPositionAnalysis.ipynb\">C:\\Users\\pho\\repos\\PhoPy3DPositionAnalysis2021\\EXTERNAL\\TESTING\\OLD\\2021-12-22-PhoPy3DKamranPositionAnalysis.ipynb</a>"
      ],
      "text/plain": [
       "<IPython.core.display.HTML object>"
      ]
     },
     "metadata": {},
     "output_type": "display_data"
    },
    {
     "data": {
      "text/html": [
       "<a href=\"C:\\Users\\pho\\repos\\PhoPy3DPositionAnalysis2021\\EXTERNAL\\TESTING\\OLD\\2021-12-23-PhoPy3DKamranPositionAnalysis.ipynb\">C:\\Users\\pho\\repos\\PhoPy3DPositionAnalysis2021\\EXTERNAL\\TESTING\\OLD\\2021-12-23-PhoPy3DKamranPositionAnalysis.ipynb</a>"
      ],
      "text/plain": [
       "<IPython.core.display.HTML object>"
      ]
     },
     "metadata": {},
     "output_type": "display_data"
    },
    {
     "data": {
      "text/html": [
       "<a href=\"C:\\Users\\pho\\repos\\PhoPy3DPositionAnalysis2021\\EXTERNAL\\TESTING\\OLD\\2021-12-24-PhoPy3DKamranPositionAnalysis.ipynb\">C:\\Users\\pho\\repos\\PhoPy3DPositionAnalysis2021\\EXTERNAL\\TESTING\\OLD\\2021-12-24-PhoPy3DKamranPositionAnalysis.ipynb</a>"
      ],
      "text/plain": [
       "<IPython.core.display.HTML object>"
      ]
     },
     "metadata": {},
     "output_type": "display_data"
    },
    {
     "data": {
      "text/html": [
       "<a href=\"C:\\Users\\pho\\repos\\PhoPy3DPositionAnalysis2021\\EXTERNAL\\TESTING\\OLD\\2021-12-27-PhoPy3DKamranPositionAnalysis.ipynb\">C:\\Users\\pho\\repos\\PhoPy3DPositionAnalysis2021\\EXTERNAL\\TESTING\\OLD\\2021-12-27-PhoPy3DKamranPositionAnalysis.ipynb</a>"
      ],
      "text/plain": [
       "<IPython.core.display.HTML object>"
      ]
     },
     "metadata": {},
     "output_type": "display_data"
    },
    {
     "data": {
      "text/html": [
       "<a href=\"C:\\Users\\pho\\repos\\PhoPy3DPositionAnalysis2021\\EXTERNAL\\TESTING\\OLD\\2021-12-29-PhoPy3DKamranPositionAnalysis.ipynb\">C:\\Users\\pho\\repos\\PhoPy3DPositionAnalysis2021\\EXTERNAL\\TESTING\\OLD\\2021-12-29-PhoPy3DKamranPositionAnalysis.ipynb</a>"
      ],
      "text/plain": [
       "<IPython.core.display.HTML object>"
      ]
     },
     "metadata": {},
     "output_type": "display_data"
    },
    {
     "data": {
      "text/html": [
       "<a href=\"C:\\Users\\pho\\repos\\PhoPy3DPositionAnalysis2021\\EXTERNAL\\TESTING\\OLD\\2021-12-30-PhoPy3DBapunPositionAnalysis.ipynb\">C:\\Users\\pho\\repos\\PhoPy3DPositionAnalysis2021\\EXTERNAL\\TESTING\\OLD\\2021-12-30-PhoPy3DBapunPositionAnalysis.ipynb</a>"
      ],
      "text/plain": [
       "<IPython.core.display.HTML object>"
      ]
     },
     "metadata": {},
     "output_type": "display_data"
    },
    {
     "data": {
      "text/html": [
       "<a href=\"C:\\Users\\pho\\repos\\PhoPy3DPositionAnalysis2021\\EXTERNAL\\TESTING\\OLD\\2021-12-30-PhoPy3DCommonPipeline.ipynb\">C:\\Users\\pho\\repos\\PhoPy3DPositionAnalysis2021\\EXTERNAL\\TESTING\\OLD\\2021-12-30-PhoPy3DCommonPipeline.ipynb</a>"
      ],
      "text/plain": [
       "<IPython.core.display.HTML object>"
      ]
     },
     "metadata": {},
     "output_type": "display_data"
    },
    {
     "data": {
      "text/html": [
       "<a href=\"C:\\Users\\pho\\repos\\PhoPy3DPositionAnalysis2021\\EXTERNAL\\TESTING\\OLD\\2022-01-05-PhoPy3DCommonPipeline.ipynb\">C:\\Users\\pho\\repos\\PhoPy3DPositionAnalysis2021\\EXTERNAL\\TESTING\\OLD\\2022-01-05-PhoPy3DCommonPipeline.ipynb</a>"
      ],
      "text/plain": [
       "<IPython.core.display.HTML object>"
      ]
     },
     "metadata": {},
     "output_type": "display_data"
    },
    {
     "data": {
      "text/html": [
       "<a href=\"C:\\Users\\pho\\repos\\PhoPy3DPositionAnalysis2021\\EXTERNAL\\TESTING\\OLD\\2022-01-06-PhoPy3DCommonPipeline.ipynb\">C:\\Users\\pho\\repos\\PhoPy3DPositionAnalysis2021\\EXTERNAL\\TESTING\\OLD\\2022-01-06-PhoPy3DCommonPipeline.ipynb</a>"
      ],
      "text/plain": [
       "<IPython.core.display.HTML object>"
      ]
     },
     "metadata": {},
     "output_type": "display_data"
    },
    {
     "data": {
      "text/html": [
       "<a href=\"C:\\Users\\pho\\repos\\PhoPy3DPositionAnalysis2021\\EXTERNAL\\TESTING\\OLD\\2022-01-07-PhoPy3DCommonPipeline.ipynb\">C:\\Users\\pho\\repos\\PhoPy3DPositionAnalysis2021\\EXTERNAL\\TESTING\\OLD\\2022-01-07-PhoPy3DCommonPipeline.ipynb</a>"
      ],
      "text/plain": [
       "<IPython.core.display.HTML object>"
      ]
     },
     "metadata": {},
     "output_type": "display_data"
    },
    {
     "data": {
      "text/html": [
       "<a href=\"C:\\Users\\pho\\repos\\PhoPy3DPositionAnalysis2021\\EXTERNAL\\TESTING\\OLD\\BatchGenerateOutupts-2022-12-07-lab.ipynb\">C:\\Users\\pho\\repos\\PhoPy3DPositionAnalysis2021\\EXTERNAL\\TESTING\\OLD\\BatchGenerateOutupts-2022-12-07-lab.ipynb</a>"
      ],
      "text/plain": [
       "<IPython.core.display.HTML object>"
      ]
     },
     "metadata": {},
     "output_type": "display_data"
    },
    {
     "data": {
      "text/html": [
       "<a href=\"C:\\Users\\pho\\repos\\PhoPy3DPositionAnalysis2021\\EXTERNAL\\TESTING\\OLD\\BatchGenerateOutupts-2022-12-07.ipynb\">C:\\Users\\pho\\repos\\PhoPy3DPositionAnalysis2021\\EXTERNAL\\TESTING\\OLD\\BatchGenerateOutupts-2022-12-07.ipynb</a>"
      ],
      "text/plain": [
       "<IPython.core.display.HTML object>"
      ]
     },
     "metadata": {},
     "output_type": "display_data"
    },
    {
     "data": {
      "text/html": [
       "<a href=\"C:\\Users\\pho\\repos\\PhoPy3DPositionAnalysis2021\\EXTERNAL\\TESTING\\OLD\\BatchGenerateOutupts-2022-12-08.ipynb\">C:\\Users\\pho\\repos\\PhoPy3DPositionAnalysis2021\\EXTERNAL\\TESTING\\OLD\\BatchGenerateOutupts-2022-12-08.ipynb</a>"
      ],
      "text/plain": [
       "<IPython.core.display.HTML object>"
      ]
     },
     "metadata": {},
     "output_type": "display_data"
    },
    {
     "data": {
      "text/html": [
       "<a href=\"C:\\Users\\pho\\repos\\PhoPy3DPositionAnalysis2021\\EXTERNAL\\TESTING\\OLD\\BatchGenerateOutupts-2022-12-09-home.ipynb\">C:\\Users\\pho\\repos\\PhoPy3DPositionAnalysis2021\\EXTERNAL\\TESTING\\OLD\\BatchGenerateOutupts-2022-12-09-home.ipynb</a>"
      ],
      "text/plain": [
       "<IPython.core.display.HTML object>"
      ]
     },
     "metadata": {},
     "output_type": "display_data"
    },
    {
     "data": {
      "text/html": [
       "<a href=\"C:\\Users\\pho\\repos\\PhoPy3DPositionAnalysis2021\\EXTERNAL\\TESTING\\OLD\\BatchGenerateOutupts-2022-12-09.ipynb\">C:\\Users\\pho\\repos\\PhoPy3DPositionAnalysis2021\\EXTERNAL\\TESTING\\OLD\\BatchGenerateOutupts-2022-12-09.ipynb</a>"
      ],
      "text/plain": [
       "<IPython.core.display.HTML object>"
      ]
     },
     "metadata": {},
     "output_type": "display_data"
    },
    {
     "data": {
      "text/html": [
       "<a href=\"C:\\Users\\pho\\repos\\PhoPy3DPositionAnalysis2021\\EXTERNAL\\TESTING\\OLD\\BatchGenerateOutupts-2022-12-10.ipynb\">C:\\Users\\pho\\repos\\PhoPy3DPositionAnalysis2021\\EXTERNAL\\TESTING\\OLD\\BatchGenerateOutupts-2022-12-10.ipynb</a>"
      ],
      "text/plain": [
       "<IPython.core.display.HTML object>"
      ]
     },
     "metadata": {},
     "output_type": "display_data"
    },
    {
     "data": {
      "text/html": [
       "<a href=\"C:\\Users\\pho\\repos\\PhoPy3DPositionAnalysis2021\\EXTERNAL\\TESTING\\OLD\\BatchGenerateOutupts-2022-12-13.ipynb\">C:\\Users\\pho\\repos\\PhoPy3DPositionAnalysis2021\\EXTERNAL\\TESTING\\OLD\\BatchGenerateOutupts-2022-12-13.ipynb</a>"
      ],
      "text/plain": [
       "<IPython.core.display.HTML object>"
      ]
     },
     "metadata": {},
     "output_type": "display_data"
    },
    {
     "data": {
      "text/html": [
       "<a href=\"C:\\Users\\pho\\repos\\PhoPy3DPositionAnalysis2021\\EXTERNAL\\TESTING\\OLD\\BatchGenerateOutupts-2022-12-14.ipynb\">C:\\Users\\pho\\repos\\PhoPy3DPositionAnalysis2021\\EXTERNAL\\TESTING\\OLD\\BatchGenerateOutupts-2022-12-14.ipynb</a>"
      ],
      "text/plain": [
       "<IPython.core.display.HTML object>"
      ]
     },
     "metadata": {},
     "output_type": "display_data"
    },
    {
     "data": {
      "text/html": [
       "<a href=\"C:\\Users\\pho\\repos\\PhoPy3DPositionAnalysis2021\\EXTERNAL\\TESTING\\OLD\\TestNeuropyPipeline10.ipynb\">C:\\Users\\pho\\repos\\PhoPy3DPositionAnalysis2021\\EXTERNAL\\TESTING\\OLD\\TestNeuropyPipeline10.ipynb</a>"
      ],
      "text/plain": [
       "<IPython.core.display.HTML object>"
      ]
     },
     "metadata": {},
     "output_type": "display_data"
    },
    {
     "data": {
      "text/html": [
       "<a href=\"C:\\Users\\pho\\repos\\PhoPy3DPositionAnalysis2021\\EXTERNAL\\TESTING\\OLD\\TestNeuropyPipeline100.ipynb\">C:\\Users\\pho\\repos\\PhoPy3DPositionAnalysis2021\\EXTERNAL\\TESTING\\OLD\\TestNeuropyPipeline100.ipynb</a>"
      ],
      "text/plain": [
       "<IPython.core.display.HTML object>"
      ]
     },
     "metadata": {},
     "output_type": "display_data"
    },
    {
     "data": {
      "text/html": [
       "<a href=\"C:\\Users\\pho\\repos\\PhoPy3DPositionAnalysis2021\\EXTERNAL\\TESTING\\OLD\\TestNeuropyPipeline101.ipynb\">C:\\Users\\pho\\repos\\PhoPy3DPositionAnalysis2021\\EXTERNAL\\TESTING\\OLD\\TestNeuropyPipeline101.ipynb</a>"
      ],
      "text/plain": [
       "<IPython.core.display.HTML object>"
      ]
     },
     "metadata": {},
     "output_type": "display_data"
    },
    {
     "data": {
      "text/html": [
       "<a href=\"C:\\Users\\pho\\repos\\PhoPy3DPositionAnalysis2021\\EXTERNAL\\TESTING\\OLD\\TestNeuropyPipeline103.ipynb\">C:\\Users\\pho\\repos\\PhoPy3DPositionAnalysis2021\\EXTERNAL\\TESTING\\OLD\\TestNeuropyPipeline103.ipynb</a>"
      ],
      "text/plain": [
       "<IPython.core.display.HTML object>"
      ]
     },
     "metadata": {},
     "output_type": "display_data"
    },
    {
     "data": {
      "text/html": [
       "<a href=\"C:\\Users\\pho\\repos\\PhoPy3DPositionAnalysis2021\\EXTERNAL\\TESTING\\OLD\\TestNeuropyPipeline104.ipynb\">C:\\Users\\pho\\repos\\PhoPy3DPositionAnalysis2021\\EXTERNAL\\TESTING\\OLD\\TestNeuropyPipeline104.ipynb</a>"
      ],
      "text/plain": [
       "<IPython.core.display.HTML object>"
      ]
     },
     "metadata": {},
     "output_type": "display_data"
    },
    {
     "data": {
      "text/html": [
       "<a href=\"C:\\Users\\pho\\repos\\PhoPy3DPositionAnalysis2021\\EXTERNAL\\TESTING\\OLD\\TestNeuropyPipeline105.ipynb\">C:\\Users\\pho\\repos\\PhoPy3DPositionAnalysis2021\\EXTERNAL\\TESTING\\OLD\\TestNeuropyPipeline105.ipynb</a>"
      ],
      "text/plain": [
       "<IPython.core.display.HTML object>"
      ]
     },
     "metadata": {},
     "output_type": "display_data"
    },
    {
     "data": {
      "text/html": [
       "<a href=\"C:\\Users\\pho\\repos\\PhoPy3DPositionAnalysis2021\\EXTERNAL\\TESTING\\OLD\\TestNeuropyPipeline106.ipynb\">C:\\Users\\pho\\repos\\PhoPy3DPositionAnalysis2021\\EXTERNAL\\TESTING\\OLD\\TestNeuropyPipeline106.ipynb</a>"
      ],
      "text/plain": [
       "<IPython.core.display.HTML object>"
      ]
     },
     "metadata": {},
     "output_type": "display_data"
    },
    {
     "data": {
      "text/html": [
       "<a href=\"C:\\Users\\pho\\repos\\PhoPy3DPositionAnalysis2021\\EXTERNAL\\TESTING\\OLD\\TestNeuropyPipeline107.ipynb\">C:\\Users\\pho\\repos\\PhoPy3DPositionAnalysis2021\\EXTERNAL\\TESTING\\OLD\\TestNeuropyPipeline107.ipynb</a>"
      ],
      "text/plain": [
       "<IPython.core.display.HTML object>"
      ]
     },
     "metadata": {},
     "output_type": "display_data"
    },
    {
     "data": {
      "text/html": [
       "<a href=\"C:\\Users\\pho\\repos\\PhoPy3DPositionAnalysis2021\\EXTERNAL\\TESTING\\OLD\\TestNeuropyPipeline108.ipynb\">C:\\Users\\pho\\repos\\PhoPy3DPositionAnalysis2021\\EXTERNAL\\TESTING\\OLD\\TestNeuropyPipeline108.ipynb</a>"
      ],
      "text/plain": [
       "<IPython.core.display.HTML object>"
      ]
     },
     "metadata": {},
     "output_type": "display_data"
    },
    {
     "data": {
      "text/html": [
       "<a href=\"C:\\Users\\pho\\repos\\PhoPy3DPositionAnalysis2021\\EXTERNAL\\TESTING\\OLD\\TestNeuropyPipeline109.ipynb\">C:\\Users\\pho\\repos\\PhoPy3DPositionAnalysis2021\\EXTERNAL\\TESTING\\OLD\\TestNeuropyPipeline109.ipynb</a>"
      ],
      "text/plain": [
       "<IPython.core.display.HTML object>"
      ]
     },
     "metadata": {},
     "output_type": "display_data"
    },
    {
     "data": {
      "text/html": [
       "<a href=\"C:\\Users\\pho\\repos\\PhoPy3DPositionAnalysis2021\\EXTERNAL\\TESTING\\OLD\\TestNeuropyPipeline11.ipynb\">C:\\Users\\pho\\repos\\PhoPy3DPositionAnalysis2021\\EXTERNAL\\TESTING\\OLD\\TestNeuropyPipeline11.ipynb</a>"
      ],
      "text/plain": [
       "<IPython.core.display.HTML object>"
      ]
     },
     "metadata": {},
     "output_type": "display_data"
    },
    {
     "data": {
      "text/html": [
       "<a href=\"C:\\Users\\pho\\repos\\PhoPy3DPositionAnalysis2021\\EXTERNAL\\TESTING\\OLD\\TestNeuropyPipeline110.ipynb\">C:\\Users\\pho\\repos\\PhoPy3DPositionAnalysis2021\\EXTERNAL\\TESTING\\OLD\\TestNeuropyPipeline110.ipynb</a>"
      ],
      "text/plain": [
       "<IPython.core.display.HTML object>"
      ]
     },
     "metadata": {},
     "output_type": "display_data"
    },
    {
     "data": {
      "text/html": [
       "<a href=\"C:\\Users\\pho\\repos\\PhoPy3DPositionAnalysis2021\\EXTERNAL\\TESTING\\OLD\\TestNeuropyPipeline111.ipynb\">C:\\Users\\pho\\repos\\PhoPy3DPositionAnalysis2021\\EXTERNAL\\TESTING\\OLD\\TestNeuropyPipeline111.ipynb</a>"
      ],
      "text/plain": [
       "<IPython.core.display.HTML object>"
      ]
     },
     "metadata": {},
     "output_type": "display_data"
    },
    {
     "data": {
      "text/html": [
       "<a href=\"C:\\Users\\pho\\repos\\PhoPy3DPositionAnalysis2021\\EXTERNAL\\TESTING\\OLD\\TestNeuropyPipeline112.ipynb\">C:\\Users\\pho\\repos\\PhoPy3DPositionAnalysis2021\\EXTERNAL\\TESTING\\OLD\\TestNeuropyPipeline112.ipynb</a>"
      ],
      "text/plain": [
       "<IPython.core.display.HTML object>"
      ]
     },
     "metadata": {},
     "output_type": "display_data"
    },
    {
     "data": {
      "text/html": [
       "<a href=\"C:\\Users\\pho\\repos\\PhoPy3DPositionAnalysis2021\\EXTERNAL\\TESTING\\OLD\\TestNeuropyPipeline113.ipynb\">C:\\Users\\pho\\repos\\PhoPy3DPositionAnalysis2021\\EXTERNAL\\TESTING\\OLD\\TestNeuropyPipeline113.ipynb</a>"
      ],
      "text/plain": [
       "<IPython.core.display.HTML object>"
      ]
     },
     "metadata": {},
     "output_type": "display_data"
    },
    {
     "data": {
      "text/html": [
       "<a href=\"C:\\Users\\pho\\repos\\PhoPy3DPositionAnalysis2021\\EXTERNAL\\TESTING\\OLD\\TestNeuropyPipeline114.ipynb\">C:\\Users\\pho\\repos\\PhoPy3DPositionAnalysis2021\\EXTERNAL\\TESTING\\OLD\\TestNeuropyPipeline114.ipynb</a>"
      ],
      "text/plain": [
       "<IPython.core.display.HTML object>"
      ]
     },
     "metadata": {},
     "output_type": "display_data"
    },
    {
     "data": {
      "text/html": [
       "<a href=\"C:\\Users\\pho\\repos\\PhoPy3DPositionAnalysis2021\\EXTERNAL\\TESTING\\OLD\\TestNeuropyPipeline115.ipynb\">C:\\Users\\pho\\repos\\PhoPy3DPositionAnalysis2021\\EXTERNAL\\TESTING\\OLD\\TestNeuropyPipeline115.ipynb</a>"
      ],
      "text/plain": [
       "<IPython.core.display.HTML object>"
      ]
     },
     "metadata": {},
     "output_type": "display_data"
    },
    {
     "data": {
      "text/html": [
       "<a href=\"C:\\Users\\pho\\repos\\PhoPy3DPositionAnalysis2021\\EXTERNAL\\TESTING\\OLD\\TestNeuropyPipeline116.ipynb\">C:\\Users\\pho\\repos\\PhoPy3DPositionAnalysis2021\\EXTERNAL\\TESTING\\OLD\\TestNeuropyPipeline116.ipynb</a>"
      ],
      "text/plain": [
       "<IPython.core.display.HTML object>"
      ]
     },
     "metadata": {},
     "output_type": "display_data"
    },
    {
     "data": {
      "text/html": [
       "<a href=\"C:\\Users\\pho\\repos\\PhoPy3DPositionAnalysis2021\\EXTERNAL\\TESTING\\OLD\\TestNeuropyPipeline117.ipynb\">C:\\Users\\pho\\repos\\PhoPy3DPositionAnalysis2021\\EXTERNAL\\TESTING\\OLD\\TestNeuropyPipeline117.ipynb</a>"
      ],
      "text/plain": [
       "<IPython.core.display.HTML object>"
      ]
     },
     "metadata": {},
     "output_type": "display_data"
    },
    {
     "data": {
      "text/html": [
       "<a href=\"C:\\Users\\pho\\repos\\PhoPy3DPositionAnalysis2021\\EXTERNAL\\TESTING\\OLD\\TestNeuropyPipeline118.ipynb\">C:\\Users\\pho\\repos\\PhoPy3DPositionAnalysis2021\\EXTERNAL\\TESTING\\OLD\\TestNeuropyPipeline118.ipynb</a>"
      ],
      "text/plain": [
       "<IPython.core.display.HTML object>"
      ]
     },
     "metadata": {},
     "output_type": "display_data"
    },
    {
     "data": {
      "text/html": [
       "<a href=\"C:\\Users\\pho\\repos\\PhoPy3DPositionAnalysis2021\\EXTERNAL\\TESTING\\OLD\\TestNeuropyPipeline119.ipynb\">C:\\Users\\pho\\repos\\PhoPy3DPositionAnalysis2021\\EXTERNAL\\TESTING\\OLD\\TestNeuropyPipeline119.ipynb</a>"
      ],
      "text/plain": [
       "<IPython.core.display.HTML object>"
      ]
     },
     "metadata": {},
     "output_type": "display_data"
    },
    {
     "data": {
      "text/html": [
       "<a href=\"C:\\Users\\pho\\repos\\PhoPy3DPositionAnalysis2021\\EXTERNAL\\TESTING\\OLD\\TestNeuropyPipeline12.ipynb\">C:\\Users\\pho\\repos\\PhoPy3DPositionAnalysis2021\\EXTERNAL\\TESTING\\OLD\\TestNeuropyPipeline12.ipynb</a>"
      ],
      "text/plain": [
       "<IPython.core.display.HTML object>"
      ]
     },
     "metadata": {},
     "output_type": "display_data"
    },
    {
     "data": {
      "text/html": [
       "<a href=\"C:\\Users\\pho\\repos\\PhoPy3DPositionAnalysis2021\\EXTERNAL\\TESTING\\OLD\\TestNeuropyPipeline120.ipynb\">C:\\Users\\pho\\repos\\PhoPy3DPositionAnalysis2021\\EXTERNAL\\TESTING\\OLD\\TestNeuropyPipeline120.ipynb</a>"
      ],
      "text/plain": [
       "<IPython.core.display.HTML object>"
      ]
     },
     "metadata": {},
     "output_type": "display_data"
    },
    {
     "data": {
      "text/html": [
       "<a href=\"C:\\Users\\pho\\repos\\PhoPy3DPositionAnalysis2021\\EXTERNAL\\TESTING\\OLD\\TestNeuropyPipeline121.ipynb\">C:\\Users\\pho\\repos\\PhoPy3DPositionAnalysis2021\\EXTERNAL\\TESTING\\OLD\\TestNeuropyPipeline121.ipynb</a>"
      ],
      "text/plain": [
       "<IPython.core.display.HTML object>"
      ]
     },
     "metadata": {},
     "output_type": "display_data"
    },
    {
     "data": {
      "text/html": [
       "<a href=\"C:\\Users\\pho\\repos\\PhoPy3DPositionAnalysis2021\\EXTERNAL\\TESTING\\OLD\\TestNeuropyPipeline122.ipynb\">C:\\Users\\pho\\repos\\PhoPy3DPositionAnalysis2021\\EXTERNAL\\TESTING\\OLD\\TestNeuropyPipeline122.ipynb</a>"
      ],
      "text/plain": [
       "<IPython.core.display.HTML object>"
      ]
     },
     "metadata": {},
     "output_type": "display_data"
    },
    {
     "data": {
      "text/html": [
       "<a href=\"C:\\Users\\pho\\repos\\PhoPy3DPositionAnalysis2021\\EXTERNAL\\TESTING\\OLD\\TestNeuropyPipeline123.ipynb\">C:\\Users\\pho\\repos\\PhoPy3DPositionAnalysis2021\\EXTERNAL\\TESTING\\OLD\\TestNeuropyPipeline123.ipynb</a>"
      ],
      "text/plain": [
       "<IPython.core.display.HTML object>"
      ]
     },
     "metadata": {},
     "output_type": "display_data"
    },
    {
     "data": {
      "text/html": [
       "<a href=\"C:\\Users\\pho\\repos\\PhoPy3DPositionAnalysis2021\\EXTERNAL\\TESTING\\OLD\\TestNeuropyPipeline124.ipynb\">C:\\Users\\pho\\repos\\PhoPy3DPositionAnalysis2021\\EXTERNAL\\TESTING\\OLD\\TestNeuropyPipeline124.ipynb</a>"
      ],
      "text/plain": [
       "<IPython.core.display.HTML object>"
      ]
     },
     "metadata": {},
     "output_type": "display_data"
    },
    {
     "data": {
      "text/html": [
       "<a href=\"C:\\Users\\pho\\repos\\PhoPy3DPositionAnalysis2021\\EXTERNAL\\TESTING\\OLD\\TestNeuropyPipeline125.ipynb\">C:\\Users\\pho\\repos\\PhoPy3DPositionAnalysis2021\\EXTERNAL\\TESTING\\OLD\\TestNeuropyPipeline125.ipynb</a>"
      ],
      "text/plain": [
       "<IPython.core.display.HTML object>"
      ]
     },
     "metadata": {},
     "output_type": "display_data"
    },
    {
     "data": {
      "text/html": [
       "<a href=\"C:\\Users\\pho\\repos\\PhoPy3DPositionAnalysis2021\\EXTERNAL\\TESTING\\OLD\\TestNeuropyPipeline126.ipynb\">C:\\Users\\pho\\repos\\PhoPy3DPositionAnalysis2021\\EXTERNAL\\TESTING\\OLD\\TestNeuropyPipeline126.ipynb</a>"
      ],
      "text/plain": [
       "<IPython.core.display.HTML object>"
      ]
     },
     "metadata": {},
     "output_type": "display_data"
    },
    {
     "data": {
      "text/html": [
       "<a href=\"C:\\Users\\pho\\repos\\PhoPy3DPositionAnalysis2021\\EXTERNAL\\TESTING\\OLD\\TestNeuropyPipeline127.ipynb\">C:\\Users\\pho\\repos\\PhoPy3DPositionAnalysis2021\\EXTERNAL\\TESTING\\OLD\\TestNeuropyPipeline127.ipynb</a>"
      ],
      "text/plain": [
       "<IPython.core.display.HTML object>"
      ]
     },
     "metadata": {},
     "output_type": "display_data"
    },
    {
     "data": {
      "text/html": [
       "<a href=\"C:\\Users\\pho\\repos\\PhoPy3DPositionAnalysis2021\\EXTERNAL\\TESTING\\OLD\\TestNeuropyPipeline128.ipynb\">C:\\Users\\pho\\repos\\PhoPy3DPositionAnalysis2021\\EXTERNAL\\TESTING\\OLD\\TestNeuropyPipeline128.ipynb</a>"
      ],
      "text/plain": [
       "<IPython.core.display.HTML object>"
      ]
     },
     "metadata": {},
     "output_type": "display_data"
    },
    {
     "data": {
      "text/html": [
       "<a href=\"C:\\Users\\pho\\repos\\PhoPy3DPositionAnalysis2021\\EXTERNAL\\TESTING\\OLD\\TestNeuropyPipeline129.ipynb\">C:\\Users\\pho\\repos\\PhoPy3DPositionAnalysis2021\\EXTERNAL\\TESTING\\OLD\\TestNeuropyPipeline129.ipynb</a>"
      ],
      "text/plain": [
       "<IPython.core.display.HTML object>"
      ]
     },
     "metadata": {},
     "output_type": "display_data"
    },
    {
     "data": {
      "text/html": [
       "<a href=\"C:\\Users\\pho\\repos\\PhoPy3DPositionAnalysis2021\\EXTERNAL\\TESTING\\OLD\\TestNeuropyPipeline13.ipynb\">C:\\Users\\pho\\repos\\PhoPy3DPositionAnalysis2021\\EXTERNAL\\TESTING\\OLD\\TestNeuropyPipeline13.ipynb</a>"
      ],
      "text/plain": [
       "<IPython.core.display.HTML object>"
      ]
     },
     "metadata": {},
     "output_type": "display_data"
    },
    {
     "data": {
      "text/html": [
       "<a href=\"C:\\Users\\pho\\repos\\PhoPy3DPositionAnalysis2021\\EXTERNAL\\TESTING\\OLD\\TestNeuropyPipeline130.ipynb\">C:\\Users\\pho\\repos\\PhoPy3DPositionAnalysis2021\\EXTERNAL\\TESTING\\OLD\\TestNeuropyPipeline130.ipynb</a>"
      ],
      "text/plain": [
       "<IPython.core.display.HTML object>"
      ]
     },
     "metadata": {},
     "output_type": "display_data"
    },
    {
     "data": {
      "text/html": [
       "<a href=\"C:\\Users\\pho\\repos\\PhoPy3DPositionAnalysis2021\\EXTERNAL\\TESTING\\OLD\\TestNeuropyPipeline131.ipynb\">C:\\Users\\pho\\repos\\PhoPy3DPositionAnalysis2021\\EXTERNAL\\TESTING\\OLD\\TestNeuropyPipeline131.ipynb</a>"
      ],
      "text/plain": [
       "<IPython.core.display.HTML object>"
      ]
     },
     "metadata": {},
     "output_type": "display_data"
    },
    {
     "data": {
      "text/html": [
       "<a href=\"C:\\Users\\pho\\repos\\PhoPy3DPositionAnalysis2021\\EXTERNAL\\TESTING\\OLD\\TestNeuropyPipeline132.ipynb\">C:\\Users\\pho\\repos\\PhoPy3DPositionAnalysis2021\\EXTERNAL\\TESTING\\OLD\\TestNeuropyPipeline132.ipynb</a>"
      ],
      "text/plain": [
       "<IPython.core.display.HTML object>"
      ]
     },
     "metadata": {},
     "output_type": "display_data"
    },
    {
     "data": {
      "text/html": [
       "<a href=\"C:\\Users\\pho\\repos\\PhoPy3DPositionAnalysis2021\\EXTERNAL\\TESTING\\OLD\\TestNeuropyPipeline133.ipynb\">C:\\Users\\pho\\repos\\PhoPy3DPositionAnalysis2021\\EXTERNAL\\TESTING\\OLD\\TestNeuropyPipeline133.ipynb</a>"
      ],
      "text/plain": [
       "<IPython.core.display.HTML object>"
      ]
     },
     "metadata": {},
     "output_type": "display_data"
    },
    {
     "data": {
      "text/html": [
       "<a href=\"C:\\Users\\pho\\repos\\PhoPy3DPositionAnalysis2021\\EXTERNAL\\TESTING\\OLD\\TestNeuropyPipeline134.ipynb\">C:\\Users\\pho\\repos\\PhoPy3DPositionAnalysis2021\\EXTERNAL\\TESTING\\OLD\\TestNeuropyPipeline134.ipynb</a>"
      ],
      "text/plain": [
       "<IPython.core.display.HTML object>"
      ]
     },
     "metadata": {},
     "output_type": "display_data"
    },
    {
     "data": {
      "text/html": [
       "<a href=\"C:\\Users\\pho\\repos\\PhoPy3DPositionAnalysis2021\\EXTERNAL\\TESTING\\OLD\\TestNeuropyPipeline135.ipynb\">C:\\Users\\pho\\repos\\PhoPy3DPositionAnalysis2021\\EXTERNAL\\TESTING\\OLD\\TestNeuropyPipeline135.ipynb</a>"
      ],
      "text/plain": [
       "<IPython.core.display.HTML object>"
      ]
     },
     "metadata": {},
     "output_type": "display_data"
    },
    {
     "data": {
      "text/html": [
       "<a href=\"C:\\Users\\pho\\repos\\PhoPy3DPositionAnalysis2021\\EXTERNAL\\TESTING\\OLD\\TestNeuropyPipeline136.ipynb\">C:\\Users\\pho\\repos\\PhoPy3DPositionAnalysis2021\\EXTERNAL\\TESTING\\OLD\\TestNeuropyPipeline136.ipynb</a>"
      ],
      "text/plain": [
       "<IPython.core.display.HTML object>"
      ]
     },
     "metadata": {},
     "output_type": "display_data"
    },
    {
     "data": {
      "text/html": [
       "<a href=\"C:\\Users\\pho\\repos\\PhoPy3DPositionAnalysis2021\\EXTERNAL\\TESTING\\OLD\\TestNeuropyPipeline136_Linux.ipynb\">C:\\Users\\pho\\repos\\PhoPy3DPositionAnalysis2021\\EXTERNAL\\TESTING\\OLD\\TestNeuropyPipeline136_Linux.ipynb</a>"
      ],
      "text/plain": [
       "<IPython.core.display.HTML object>"
      ]
     },
     "metadata": {},
     "output_type": "display_data"
    },
    {
     "data": {
      "text/html": [
       "<a href=\"C:\\Users\\pho\\repos\\PhoPy3DPositionAnalysis2021\\EXTERNAL\\TESTING\\OLD\\TestNeuropyPipeline137.ipynb\">C:\\Users\\pho\\repos\\PhoPy3DPositionAnalysis2021\\EXTERNAL\\TESTING\\OLD\\TestNeuropyPipeline137.ipynb</a>"
      ],
      "text/plain": [
       "<IPython.core.display.HTML object>"
      ]
     },
     "metadata": {},
     "output_type": "display_data"
    },
    {
     "data": {
      "text/html": [
       "<a href=\"C:\\Users\\pho\\repos\\PhoPy3DPositionAnalysis2021\\EXTERNAL\\TESTING\\OLD\\TestNeuropyPipeline138.ipynb\">C:\\Users\\pho\\repos\\PhoPy3DPositionAnalysis2021\\EXTERNAL\\TESTING\\OLD\\TestNeuropyPipeline138.ipynb</a>"
      ],
      "text/plain": [
       "<IPython.core.display.HTML object>"
      ]
     },
     "metadata": {},
     "output_type": "display_data"
    },
    {
     "data": {
      "text/html": [
       "<a href=\"C:\\Users\\pho\\repos\\PhoPy3DPositionAnalysis2021\\EXTERNAL\\TESTING\\OLD\\TestNeuropyPipeline139.ipynb\">C:\\Users\\pho\\repos\\PhoPy3DPositionAnalysis2021\\EXTERNAL\\TESTING\\OLD\\TestNeuropyPipeline139.ipynb</a>"
      ],
      "text/plain": [
       "<IPython.core.display.HTML object>"
      ]
     },
     "metadata": {},
     "output_type": "display_data"
    },
    {
     "data": {
      "text/html": [
       "<a href=\"C:\\Users\\pho\\repos\\PhoPy3DPositionAnalysis2021\\EXTERNAL\\TESTING\\OLD\\TestNeuropyPipeline14.ipynb\">C:\\Users\\pho\\repos\\PhoPy3DPositionAnalysis2021\\EXTERNAL\\TESTING\\OLD\\TestNeuropyPipeline14.ipynb</a>"
      ],
      "text/plain": [
       "<IPython.core.display.HTML object>"
      ]
     },
     "metadata": {},
     "output_type": "display_data"
    },
    {
     "data": {
      "text/html": [
       "<a href=\"C:\\Users\\pho\\repos\\PhoPy3DPositionAnalysis2021\\EXTERNAL\\TESTING\\OLD\\TestNeuropyPipeline140.ipynb\">C:\\Users\\pho\\repos\\PhoPy3DPositionAnalysis2021\\EXTERNAL\\TESTING\\OLD\\TestNeuropyPipeline140.ipynb</a>"
      ],
      "text/plain": [
       "<IPython.core.display.HTML object>"
      ]
     },
     "metadata": {},
     "output_type": "display_data"
    },
    {
     "data": {
      "text/html": [
       "<a href=\"C:\\Users\\pho\\repos\\PhoPy3DPositionAnalysis2021\\EXTERNAL\\TESTING\\OLD\\TestNeuropyPipeline141.ipynb\">C:\\Users\\pho\\repos\\PhoPy3DPositionAnalysis2021\\EXTERNAL\\TESTING\\OLD\\TestNeuropyPipeline141.ipynb</a>"
      ],
      "text/plain": [
       "<IPython.core.display.HTML object>"
      ]
     },
     "metadata": {},
     "output_type": "display_data"
    },
    {
     "data": {
      "text/html": [
       "<a href=\"C:\\Users\\pho\\repos\\PhoPy3DPositionAnalysis2021\\EXTERNAL\\TESTING\\OLD\\TestNeuropyPipeline142.ipynb\">C:\\Users\\pho\\repos\\PhoPy3DPositionAnalysis2021\\EXTERNAL\\TESTING\\OLD\\TestNeuropyPipeline142.ipynb</a>"
      ],
      "text/plain": [
       "<IPython.core.display.HTML object>"
      ]
     },
     "metadata": {},
     "output_type": "display_data"
    },
    {
     "data": {
      "text/html": [
       "<a href=\"C:\\Users\\pho\\repos\\PhoPy3DPositionAnalysis2021\\EXTERNAL\\TESTING\\OLD\\TestNeuropyPipeline143.ipynb\">C:\\Users\\pho\\repos\\PhoPy3DPositionAnalysis2021\\EXTERNAL\\TESTING\\OLD\\TestNeuropyPipeline143.ipynb</a>"
      ],
      "text/plain": [
       "<IPython.core.display.HTML object>"
      ]
     },
     "metadata": {},
     "output_type": "display_data"
    },
    {
     "data": {
      "text/html": [
       "<a href=\"C:\\Users\\pho\\repos\\PhoPy3DPositionAnalysis2021\\EXTERNAL\\TESTING\\OLD\\TestNeuropyPipeline144.ipynb\">C:\\Users\\pho\\repos\\PhoPy3DPositionAnalysis2021\\EXTERNAL\\TESTING\\OLD\\TestNeuropyPipeline144.ipynb</a>"
      ],
      "text/plain": [
       "<IPython.core.display.HTML object>"
      ]
     },
     "metadata": {},
     "output_type": "display_data"
    },
    {
     "data": {
      "text/html": [
       "<a href=\"C:\\Users\\pho\\repos\\PhoPy3DPositionAnalysis2021\\EXTERNAL\\TESTING\\OLD\\TestNeuropyPipeline145.ipynb\">C:\\Users\\pho\\repos\\PhoPy3DPositionAnalysis2021\\EXTERNAL\\TESTING\\OLD\\TestNeuropyPipeline145.ipynb</a>"
      ],
      "text/plain": [
       "<IPython.core.display.HTML object>"
      ]
     },
     "metadata": {},
     "output_type": "display_data"
    },
    {
     "data": {
      "text/html": [
       "<a href=\"C:\\Users\\pho\\repos\\PhoPy3DPositionAnalysis2021\\EXTERNAL\\TESTING\\OLD\\TestNeuropyPipeline146.ipynb\">C:\\Users\\pho\\repos\\PhoPy3DPositionAnalysis2021\\EXTERNAL\\TESTING\\OLD\\TestNeuropyPipeline146.ipynb</a>"
      ],
      "text/plain": [
       "<IPython.core.display.HTML object>"
      ]
     },
     "metadata": {},
     "output_type": "display_data"
    },
    {
     "data": {
      "text/html": [
       "<a href=\"C:\\Users\\pho\\repos\\PhoPy3DPositionAnalysis2021\\EXTERNAL\\TESTING\\OLD\\TestNeuropyPipeline147.ipynb\">C:\\Users\\pho\\repos\\PhoPy3DPositionAnalysis2021\\EXTERNAL\\TESTING\\OLD\\TestNeuropyPipeline147.ipynb</a>"
      ],
      "text/plain": [
       "<IPython.core.display.HTML object>"
      ]
     },
     "metadata": {},
     "output_type": "display_data"
    },
    {
     "data": {
      "text/html": [
       "<a href=\"C:\\Users\\pho\\repos\\PhoPy3DPositionAnalysis2021\\EXTERNAL\\TESTING\\OLD\\TestNeuropyPipeline148.ipynb\">C:\\Users\\pho\\repos\\PhoPy3DPositionAnalysis2021\\EXTERNAL\\TESTING\\OLD\\TestNeuropyPipeline148.ipynb</a>"
      ],
      "text/plain": [
       "<IPython.core.display.HTML object>"
      ]
     },
     "metadata": {},
     "output_type": "display_data"
    },
    {
     "data": {
      "text/html": [
       "<a href=\"C:\\Users\\pho\\repos\\PhoPy3DPositionAnalysis2021\\EXTERNAL\\TESTING\\OLD\\TestNeuropyPipeline149.ipynb\">C:\\Users\\pho\\repos\\PhoPy3DPositionAnalysis2021\\EXTERNAL\\TESTING\\OLD\\TestNeuropyPipeline149.ipynb</a>"
      ],
      "text/plain": [
       "<IPython.core.display.HTML object>"
      ]
     },
     "metadata": {},
     "output_type": "display_data"
    },
    {
     "data": {
      "text/html": [
       "<a href=\"C:\\Users\\pho\\repos\\PhoPy3DPositionAnalysis2021\\EXTERNAL\\TESTING\\OLD\\TestNeuropyPipeline15.ipynb\">C:\\Users\\pho\\repos\\PhoPy3DPositionAnalysis2021\\EXTERNAL\\TESTING\\OLD\\TestNeuropyPipeline15.ipynb</a>"
      ],
      "text/plain": [
       "<IPython.core.display.HTML object>"
      ]
     },
     "metadata": {},
     "output_type": "display_data"
    },
    {
     "data": {
      "text/html": [
       "<a href=\"C:\\Users\\pho\\repos\\PhoPy3DPositionAnalysis2021\\EXTERNAL\\TESTING\\OLD\\TestNeuropyPipeline150.ipynb\">C:\\Users\\pho\\repos\\PhoPy3DPositionAnalysis2021\\EXTERNAL\\TESTING\\OLD\\TestNeuropyPipeline150.ipynb</a>"
      ],
      "text/plain": [
       "<IPython.core.display.HTML object>"
      ]
     },
     "metadata": {},
     "output_type": "display_data"
    },
    {
     "data": {
      "text/html": [
       "<a href=\"C:\\Users\\pho\\repos\\PhoPy3DPositionAnalysis2021\\EXTERNAL\\TESTING\\OLD\\TestNeuropyPipeline151.ipynb\">C:\\Users\\pho\\repos\\PhoPy3DPositionAnalysis2021\\EXTERNAL\\TESTING\\OLD\\TestNeuropyPipeline151.ipynb</a>"
      ],
      "text/plain": [
       "<IPython.core.display.HTML object>"
      ]
     },
     "metadata": {},
     "output_type": "display_data"
    },
    {
     "data": {
      "text/html": [
       "<a href=\"C:\\Users\\pho\\repos\\PhoPy3DPositionAnalysis2021\\EXTERNAL\\TESTING\\OLD\\TestNeuropyPipeline152.ipynb\">C:\\Users\\pho\\repos\\PhoPy3DPositionAnalysis2021\\EXTERNAL\\TESTING\\OLD\\TestNeuropyPipeline152.ipynb</a>"
      ],
      "text/plain": [
       "<IPython.core.display.HTML object>"
      ]
     },
     "metadata": {},
     "output_type": "display_data"
    },
    {
     "data": {
      "text/html": [
       "<a href=\"C:\\Users\\pho\\repos\\PhoPy3DPositionAnalysis2021\\EXTERNAL\\TESTING\\OLD\\TestNeuropyPipeline153.ipynb\">C:\\Users\\pho\\repos\\PhoPy3DPositionAnalysis2021\\EXTERNAL\\TESTING\\OLD\\TestNeuropyPipeline153.ipynb</a>"
      ],
      "text/plain": [
       "<IPython.core.display.HTML object>"
      ]
     },
     "metadata": {},
     "output_type": "display_data"
    },
    {
     "data": {
      "text/html": [
       "<a href=\"C:\\Users\\pho\\repos\\PhoPy3DPositionAnalysis2021\\EXTERNAL\\TESTING\\OLD\\TestNeuropyPipeline154.ipynb\">C:\\Users\\pho\\repos\\PhoPy3DPositionAnalysis2021\\EXTERNAL\\TESTING\\OLD\\TestNeuropyPipeline154.ipynb</a>"
      ],
      "text/plain": [
       "<IPython.core.display.HTML object>"
      ]
     },
     "metadata": {},
     "output_type": "display_data"
    },
    {
     "data": {
      "text/html": [
       "<a href=\"C:\\Users\\pho\\repos\\PhoPy3DPositionAnalysis2021\\EXTERNAL\\TESTING\\OLD\\TestNeuropyPipeline155.ipynb\">C:\\Users\\pho\\repos\\PhoPy3DPositionAnalysis2021\\EXTERNAL\\TESTING\\OLD\\TestNeuropyPipeline155.ipynb</a>"
      ],
      "text/plain": [
       "<IPython.core.display.HTML object>"
      ]
     },
     "metadata": {},
     "output_type": "display_data"
    },
    {
     "data": {
      "text/html": [
       "<a href=\"C:\\Users\\pho\\repos\\PhoPy3DPositionAnalysis2021\\EXTERNAL\\TESTING\\OLD\\TestNeuropyPipeline156.ipynb\">C:\\Users\\pho\\repos\\PhoPy3DPositionAnalysis2021\\EXTERNAL\\TESTING\\OLD\\TestNeuropyPipeline156.ipynb</a>"
      ],
      "text/plain": [
       "<IPython.core.display.HTML object>"
      ]
     },
     "metadata": {},
     "output_type": "display_data"
    },
    {
     "data": {
      "text/html": [
       "<a href=\"C:\\Users\\pho\\repos\\PhoPy3DPositionAnalysis2021\\EXTERNAL\\TESTING\\OLD\\TestNeuropyPipeline157.ipynb\">C:\\Users\\pho\\repos\\PhoPy3DPositionAnalysis2021\\EXTERNAL\\TESTING\\OLD\\TestNeuropyPipeline157.ipynb</a>"
      ],
      "text/plain": [
       "<IPython.core.display.HTML object>"
      ]
     },
     "metadata": {},
     "output_type": "display_data"
    },
    {
     "data": {
      "text/html": [
       "<a href=\"C:\\Users\\pho\\repos\\PhoPy3DPositionAnalysis2021\\EXTERNAL\\TESTING\\OLD\\TestNeuropyPipeline158.ipynb\">C:\\Users\\pho\\repos\\PhoPy3DPositionAnalysis2021\\EXTERNAL\\TESTING\\OLD\\TestNeuropyPipeline158.ipynb</a>"
      ],
      "text/plain": [
       "<IPython.core.display.HTML object>"
      ]
     },
     "metadata": {},
     "output_type": "display_data"
    },
    {
     "data": {
      "text/html": [
       "<a href=\"C:\\Users\\pho\\repos\\PhoPy3DPositionAnalysis2021\\EXTERNAL\\TESTING\\OLD\\TestNeuropyPipeline159.ipynb\">C:\\Users\\pho\\repos\\PhoPy3DPositionAnalysis2021\\EXTERNAL\\TESTING\\OLD\\TestNeuropyPipeline159.ipynb</a>"
      ],
      "text/plain": [
       "<IPython.core.display.HTML object>"
      ]
     },
     "metadata": {},
     "output_type": "display_data"
    },
    {
     "data": {
      "text/html": [
       "<a href=\"C:\\Users\\pho\\repos\\PhoPy3DPositionAnalysis2021\\EXTERNAL\\TESTING\\OLD\\TestNeuropyPipeline16.ipynb\">C:\\Users\\pho\\repos\\PhoPy3DPositionAnalysis2021\\EXTERNAL\\TESTING\\OLD\\TestNeuropyPipeline16.ipynb</a>"
      ],
      "text/plain": [
       "<IPython.core.display.HTML object>"
      ]
     },
     "metadata": {},
     "output_type": "display_data"
    },
    {
     "data": {
      "text/html": [
       "<a href=\"C:\\Users\\pho\\repos\\PhoPy3DPositionAnalysis2021\\EXTERNAL\\TESTING\\OLD\\TestNeuropyPipeline160.ipynb\">C:\\Users\\pho\\repos\\PhoPy3DPositionAnalysis2021\\EXTERNAL\\TESTING\\OLD\\TestNeuropyPipeline160.ipynb</a>"
      ],
      "text/plain": [
       "<IPython.core.display.HTML object>"
      ]
     },
     "metadata": {},
     "output_type": "display_data"
    },
    {
     "data": {
      "text/html": [
       "<a href=\"C:\\Users\\pho\\repos\\PhoPy3DPositionAnalysis2021\\EXTERNAL\\TESTING\\OLD\\TestNeuropyPipeline161.ipynb\">C:\\Users\\pho\\repos\\PhoPy3DPositionAnalysis2021\\EXTERNAL\\TESTING\\OLD\\TestNeuropyPipeline161.ipynb</a>"
      ],
      "text/plain": [
       "<IPython.core.display.HTML object>"
      ]
     },
     "metadata": {},
     "output_type": "display_data"
    },
    {
     "data": {
      "text/html": [
       "<a href=\"C:\\Users\\pho\\repos\\PhoPy3DPositionAnalysis2021\\EXTERNAL\\TESTING\\OLD\\TestNeuropyPipeline162.ipynb\">C:\\Users\\pho\\repos\\PhoPy3DPositionAnalysis2021\\EXTERNAL\\TESTING\\OLD\\TestNeuropyPipeline162.ipynb</a>"
      ],
      "text/plain": [
       "<IPython.core.display.HTML object>"
      ]
     },
     "metadata": {},
     "output_type": "display_data"
    },
    {
     "data": {
      "text/html": [
       "<a href=\"C:\\Users\\pho\\repos\\PhoPy3DPositionAnalysis2021\\EXTERNAL\\TESTING\\OLD\\TestNeuropyPipeline163.ipynb\">C:\\Users\\pho\\repos\\PhoPy3DPositionAnalysis2021\\EXTERNAL\\TESTING\\OLD\\TestNeuropyPipeline163.ipynb</a>"
      ],
      "text/plain": [
       "<IPython.core.display.HTML object>"
      ]
     },
     "metadata": {},
     "output_type": "display_data"
    },
    {
     "data": {
      "text/html": [
       "<a href=\"C:\\Users\\pho\\repos\\PhoPy3DPositionAnalysis2021\\EXTERNAL\\TESTING\\OLD\\TestNeuropyPipeline164.ipynb\">C:\\Users\\pho\\repos\\PhoPy3DPositionAnalysis2021\\EXTERNAL\\TESTING\\OLD\\TestNeuropyPipeline164.ipynb</a>"
      ],
      "text/plain": [
       "<IPython.core.display.HTML object>"
      ]
     },
     "metadata": {},
     "output_type": "display_data"
    },
    {
     "data": {
      "text/html": [
       "<a href=\"C:\\Users\\pho\\repos\\PhoPy3DPositionAnalysis2021\\EXTERNAL\\TESTING\\OLD\\TestNeuropyPipeline165.ipynb\">C:\\Users\\pho\\repos\\PhoPy3DPositionAnalysis2021\\EXTERNAL\\TESTING\\OLD\\TestNeuropyPipeline165.ipynb</a>"
      ],
      "text/plain": [
       "<IPython.core.display.HTML object>"
      ]
     },
     "metadata": {},
     "output_type": "display_data"
    },
    {
     "data": {
      "text/html": [
       "<a href=\"C:\\Users\\pho\\repos\\PhoPy3DPositionAnalysis2021\\EXTERNAL\\TESTING\\OLD\\TestNeuropyPipeline166.ipynb\">C:\\Users\\pho\\repos\\PhoPy3DPositionAnalysis2021\\EXTERNAL\\TESTING\\OLD\\TestNeuropyPipeline166.ipynb</a>"
      ],
      "text/plain": [
       "<IPython.core.display.HTML object>"
      ]
     },
     "metadata": {},
     "output_type": "display_data"
    },
    {
     "data": {
      "text/html": [
       "<a href=\"C:\\Users\\pho\\repos\\PhoPy3DPositionAnalysis2021\\EXTERNAL\\TESTING\\OLD\\TestNeuropyPipeline167.ipynb\">C:\\Users\\pho\\repos\\PhoPy3DPositionAnalysis2021\\EXTERNAL\\TESTING\\OLD\\TestNeuropyPipeline167.ipynb</a>"
      ],
      "text/plain": [
       "<IPython.core.display.HTML object>"
      ]
     },
     "metadata": {},
     "output_type": "display_data"
    },
    {
     "data": {
      "text/html": [
       "<a href=\"C:\\Users\\pho\\repos\\PhoPy3DPositionAnalysis2021\\EXTERNAL\\TESTING\\OLD\\TestNeuropyPipeline168.ipynb\">C:\\Users\\pho\\repos\\PhoPy3DPositionAnalysis2021\\EXTERNAL\\TESTING\\OLD\\TestNeuropyPipeline168.ipynb</a>"
      ],
      "text/plain": [
       "<IPython.core.display.HTML object>"
      ]
     },
     "metadata": {},
     "output_type": "display_data"
    },
    {
     "data": {
      "text/html": [
       "<a href=\"C:\\Users\\pho\\repos\\PhoPy3DPositionAnalysis2021\\EXTERNAL\\TESTING\\OLD\\TestNeuropyPipeline169.ipynb\">C:\\Users\\pho\\repos\\PhoPy3DPositionAnalysis2021\\EXTERNAL\\TESTING\\OLD\\TestNeuropyPipeline169.ipynb</a>"
      ],
      "text/plain": [
       "<IPython.core.display.HTML object>"
      ]
     },
     "metadata": {},
     "output_type": "display_data"
    },
    {
     "data": {
      "text/html": [
       "<a href=\"C:\\Users\\pho\\repos\\PhoPy3DPositionAnalysis2021\\EXTERNAL\\TESTING\\OLD\\TestNeuropyPipeline17.ipynb\">C:\\Users\\pho\\repos\\PhoPy3DPositionAnalysis2021\\EXTERNAL\\TESTING\\OLD\\TestNeuropyPipeline17.ipynb</a>"
      ],
      "text/plain": [
       "<IPython.core.display.HTML object>"
      ]
     },
     "metadata": {},
     "output_type": "display_data"
    },
    {
     "data": {
      "text/html": [
       "<a href=\"C:\\Users\\pho\\repos\\PhoPy3DPositionAnalysis2021\\EXTERNAL\\TESTING\\OLD\\TestNeuropyPipeline170-Bapun.ipynb\">C:\\Users\\pho\\repos\\PhoPy3DPositionAnalysis2021\\EXTERNAL\\TESTING\\OLD\\TestNeuropyPipeline170-Bapun.ipynb</a>"
      ],
      "text/plain": [
       "<IPython.core.display.HTML object>"
      ]
     },
     "metadata": {},
     "output_type": "display_data"
    },
    {
     "data": {
      "text/html": [
       "<a href=\"C:\\Users\\pho\\repos\\PhoPy3DPositionAnalysis2021\\EXTERNAL\\TESTING\\OLD\\TestNeuropyPipeline170-Hiro.ipynb\">C:\\Users\\pho\\repos\\PhoPy3DPositionAnalysis2021\\EXTERNAL\\TESTING\\OLD\\TestNeuropyPipeline170-Hiro.ipynb</a>"
      ],
      "text/plain": [
       "<IPython.core.display.HTML object>"
      ]
     },
     "metadata": {},
     "output_type": "display_data"
    },
    {
     "data": {
      "text/html": [
       "<a href=\"C:\\Users\\pho\\repos\\PhoPy3DPositionAnalysis2021\\EXTERNAL\\TESTING\\OLD\\TestNeuropyPipeline170.ipynb\">C:\\Users\\pho\\repos\\PhoPy3DPositionAnalysis2021\\EXTERNAL\\TESTING\\OLD\\TestNeuropyPipeline170.ipynb</a>"
      ],
      "text/plain": [
       "<IPython.core.display.HTML object>"
      ]
     },
     "metadata": {},
     "output_type": "display_data"
    },
    {
     "data": {
      "text/html": [
       "<a href=\"C:\\Users\\pho\\repos\\PhoPy3DPositionAnalysis2021\\EXTERNAL\\TESTING\\OLD\\TestNeuropyPipeline171-Bapun.ipynb\">C:\\Users\\pho\\repos\\PhoPy3DPositionAnalysis2021\\EXTERNAL\\TESTING\\OLD\\TestNeuropyPipeline171-Bapun.ipynb</a>"
      ],
      "text/plain": [
       "<IPython.core.display.HTML object>"
      ]
     },
     "metadata": {},
     "output_type": "display_data"
    },
    {
     "data": {
      "text/html": [
       "<a href=\"C:\\Users\\pho\\repos\\PhoPy3DPositionAnalysis2021\\EXTERNAL\\TESTING\\OLD\\TestNeuropyPipeline171-Diba.ipynb\">C:\\Users\\pho\\repos\\PhoPy3DPositionAnalysis2021\\EXTERNAL\\TESTING\\OLD\\TestNeuropyPipeline171-Diba.ipynb</a>"
      ],
      "text/plain": [
       "<IPython.core.display.HTML object>"
      ]
     },
     "metadata": {},
     "output_type": "display_data"
    },
    {
     "data": {
      "text/html": [
       "<a href=\"C:\\Users\\pho\\repos\\PhoPy3DPositionAnalysis2021\\EXTERNAL\\TESTING\\OLD\\TestNeuropyPipeline172-Bapun.ipynb\">C:\\Users\\pho\\repos\\PhoPy3DPositionAnalysis2021\\EXTERNAL\\TESTING\\OLD\\TestNeuropyPipeline172-Bapun.ipynb</a>"
      ],
      "text/plain": [
       "<IPython.core.display.HTML object>"
      ]
     },
     "metadata": {},
     "output_type": "display_data"
    },
    {
     "data": {
      "text/html": [
       "<a href=\"C:\\Users\\pho\\repos\\PhoPy3DPositionAnalysis2021\\EXTERNAL\\TESTING\\OLD\\TestNeuropyPipeline172-Diba.ipynb\">C:\\Users\\pho\\repos\\PhoPy3DPositionAnalysis2021\\EXTERNAL\\TESTING\\OLD\\TestNeuropyPipeline172-Diba.ipynb</a>"
      ],
      "text/plain": [
       "<IPython.core.display.HTML object>"
      ]
     },
     "metadata": {},
     "output_type": "display_data"
    },
    {
     "data": {
      "text/html": [
       "<a href=\"C:\\Users\\pho\\repos\\PhoPy3DPositionAnalysis2021\\EXTERNAL\\TESTING\\OLD\\TestNeuropyPipeline172-Hiro.ipynb\">C:\\Users\\pho\\repos\\PhoPy3DPositionAnalysis2021\\EXTERNAL\\TESTING\\OLD\\TestNeuropyPipeline172-Hiro.ipynb</a>"
      ],
      "text/plain": [
       "<IPython.core.display.HTML object>"
      ]
     },
     "metadata": {},
     "output_type": "display_data"
    },
    {
     "data": {
      "text/html": [
       "<a href=\"C:\\Users\\pho\\repos\\PhoPy3DPositionAnalysis2021\\EXTERNAL\\TESTING\\OLD\\TestNeuropyPipeline173-BapunOpenField.ipynb\">C:\\Users\\pho\\repos\\PhoPy3DPositionAnalysis2021\\EXTERNAL\\TESTING\\OLD\\TestNeuropyPipeline173-BapunOpenField.ipynb</a>"
      ],
      "text/plain": [
       "<IPython.core.display.HTML object>"
      ]
     },
     "metadata": {},
     "output_type": "display_data"
    },
    {
     "data": {
      "text/html": [
       "<a href=\"C:\\Users\\pho\\repos\\PhoPy3DPositionAnalysis2021\\EXTERNAL\\TESTING\\OLD\\TestNeuropyPipeline174-BapunOpenField.ipynb\">C:\\Users\\pho\\repos\\PhoPy3DPositionAnalysis2021\\EXTERNAL\\TESTING\\OLD\\TestNeuropyPipeline174-BapunOpenField.ipynb</a>"
      ],
      "text/plain": [
       "<IPython.core.display.HTML object>"
      ]
     },
     "metadata": {},
     "output_type": "display_data"
    },
    {
     "data": {
      "text/html": [
       "<a href=\"C:\\Users\\pho\\repos\\PhoPy3DPositionAnalysis2021\\EXTERNAL\\TESTING\\OLD\\TestNeuropyPipeline175-BapunOpenField.ipynb\">C:\\Users\\pho\\repos\\PhoPy3DPositionAnalysis2021\\EXTERNAL\\TESTING\\OLD\\TestNeuropyPipeline175-BapunOpenField.ipynb</a>"
      ],
      "text/plain": [
       "<IPython.core.display.HTML object>"
      ]
     },
     "metadata": {},
     "output_type": "display_data"
    },
    {
     "data": {
      "text/html": [
       "<a href=\"C:\\Users\\pho\\repos\\PhoPy3DPositionAnalysis2021\\EXTERNAL\\TESTING\\OLD\\TestNeuropyPipeline176-BapunOpenField.ipynb\">C:\\Users\\pho\\repos\\PhoPy3DPositionAnalysis2021\\EXTERNAL\\TESTING\\OLD\\TestNeuropyPipeline176-BapunOpenField.ipynb</a>"
      ],
      "text/plain": [
       "<IPython.core.display.HTML object>"
      ]
     },
     "metadata": {},
     "output_type": "display_data"
    },
    {
     "data": {
      "text/html": [
       "<a href=\"C:\\Users\\pho\\repos\\PhoPy3DPositionAnalysis2021\\EXTERNAL\\TESTING\\OLD\\TestNeuropyPipeline177-BapunOpenField.ipynb\">C:\\Users\\pho\\repos\\PhoPy3DPositionAnalysis2021\\EXTERNAL\\TESTING\\OLD\\TestNeuropyPipeline177-BapunOpenField.ipynb</a>"
      ],
      "text/plain": [
       "<IPython.core.display.HTML object>"
      ]
     },
     "metadata": {},
     "output_type": "display_data"
    },
    {
     "data": {
      "text/html": [
       "<a href=\"C:\\Users\\pho\\repos\\PhoPy3DPositionAnalysis2021\\EXTERNAL\\TESTING\\OLD\\TestNeuropyPipeline178-BapunOpenField.ipynb\">C:\\Users\\pho\\repos\\PhoPy3DPositionAnalysis2021\\EXTERNAL\\TESTING\\OLD\\TestNeuropyPipeline178-BapunOpenField.ipynb</a>"
      ],
      "text/plain": [
       "<IPython.core.display.HTML object>"
      ]
     },
     "metadata": {},
     "output_type": "display_data"
    },
    {
     "data": {
      "text/html": [
       "<a href=\"C:\\Users\\pho\\repos\\PhoPy3DPositionAnalysis2021\\EXTERNAL\\TESTING\\OLD\\TestNeuropyPipeline179-BapunOpenField.ipynb\">C:\\Users\\pho\\repos\\PhoPy3DPositionAnalysis2021\\EXTERNAL\\TESTING\\OLD\\TestNeuropyPipeline179-BapunOpenField.ipynb</a>"
      ],
      "text/plain": [
       "<IPython.core.display.HTML object>"
      ]
     },
     "metadata": {},
     "output_type": "display_data"
    },
    {
     "data": {
      "text/html": [
       "<a href=\"C:\\Users\\pho\\repos\\PhoPy3DPositionAnalysis2021\\EXTERNAL\\TESTING\\OLD\\TestNeuropyPipeline18.ipynb\">C:\\Users\\pho\\repos\\PhoPy3DPositionAnalysis2021\\EXTERNAL\\TESTING\\OLD\\TestNeuropyPipeline18.ipynb</a>"
      ],
      "text/plain": [
       "<IPython.core.display.HTML object>"
      ]
     },
     "metadata": {},
     "output_type": "display_data"
    },
    {
     "data": {
      "text/html": [
       "<a href=\"C:\\Users\\pho\\repos\\PhoPy3DPositionAnalysis2021\\EXTERNAL\\TESTING\\OLD\\TestNeuropyPipeline180-BapunOpenField.ipynb\">C:\\Users\\pho\\repos\\PhoPy3DPositionAnalysis2021\\EXTERNAL\\TESTING\\OLD\\TestNeuropyPipeline180-BapunOpenField.ipynb</a>"
      ],
      "text/plain": [
       "<IPython.core.display.HTML object>"
      ]
     },
     "metadata": {},
     "output_type": "display_data"
    },
    {
     "data": {
      "text/html": [
       "<a href=\"C:\\Users\\pho\\repos\\PhoPy3DPositionAnalysis2021\\EXTERNAL\\TESTING\\OLD\\TestNeuropyPipeline181-BapunOpenField.ipynb\">C:\\Users\\pho\\repos\\PhoPy3DPositionAnalysis2021\\EXTERNAL\\TESTING\\OLD\\TestNeuropyPipeline181-BapunOpenField.ipynb</a>"
      ],
      "text/plain": [
       "<IPython.core.display.HTML object>"
      ]
     },
     "metadata": {},
     "output_type": "display_data"
    },
    {
     "data": {
      "text/html": [
       "<a href=\"C:\\Users\\pho\\repos\\PhoPy3DPositionAnalysis2021\\EXTERNAL\\TESTING\\OLD\\TestNeuropyPipeline182-BapunOpenField.ipynb\">C:\\Users\\pho\\repos\\PhoPy3DPositionAnalysis2021\\EXTERNAL\\TESTING\\OLD\\TestNeuropyPipeline182-BapunOpenField.ipynb</a>"
      ],
      "text/plain": [
       "<IPython.core.display.HTML object>"
      ]
     },
     "metadata": {},
     "output_type": "display_data"
    },
    {
     "data": {
      "text/html": [
       "<a href=\"C:\\Users\\pho\\repos\\PhoPy3DPositionAnalysis2021\\EXTERNAL\\TESTING\\OLD\\TestNeuropyPipeline183-BapunOpenField.ipynb\">C:\\Users\\pho\\repos\\PhoPy3DPositionAnalysis2021\\EXTERNAL\\TESTING\\OLD\\TestNeuropyPipeline183-BapunOpenField.ipynb</a>"
      ],
      "text/plain": [
       "<IPython.core.display.HTML object>"
      ]
     },
     "metadata": {},
     "output_type": "display_data"
    },
    {
     "data": {
      "text/html": [
       "<a href=\"C:\\Users\\pho\\repos\\PhoPy3DPositionAnalysis2021\\EXTERNAL\\TESTING\\OLD\\TestNeuropyPipeline184-BapunOpenField.ipynb\">C:\\Users\\pho\\repos\\PhoPy3DPositionAnalysis2021\\EXTERNAL\\TESTING\\OLD\\TestNeuropyPipeline184-BapunOpenField.ipynb</a>"
      ],
      "text/plain": [
       "<IPython.core.display.HTML object>"
      ]
     },
     "metadata": {},
     "output_type": "display_data"
    },
    {
     "data": {
      "text/html": [
       "<a href=\"C:\\Users\\pho\\repos\\PhoPy3DPositionAnalysis2021\\EXTERNAL\\TESTING\\OLD\\TestNeuropyPipeline185-BapunOpenField.ipynb\">C:\\Users\\pho\\repos\\PhoPy3DPositionAnalysis2021\\EXTERNAL\\TESTING\\OLD\\TestNeuropyPipeline185-BapunOpenField.ipynb</a>"
      ],
      "text/plain": [
       "<IPython.core.display.HTML object>"
      ]
     },
     "metadata": {},
     "output_type": "display_data"
    },
    {
     "data": {
      "text/html": [
       "<a href=\"C:\\Users\\pho\\repos\\PhoPy3DPositionAnalysis2021\\EXTERNAL\\TESTING\\OLD\\TestNeuropyPipeline186-BapunOpenField.ipynb\">C:\\Users\\pho\\repos\\PhoPy3DPositionAnalysis2021\\EXTERNAL\\TESTING\\OLD\\TestNeuropyPipeline186-BapunOpenField.ipynb</a>"
      ],
      "text/plain": [
       "<IPython.core.display.HTML object>"
      ]
     },
     "metadata": {},
     "output_type": "display_data"
    },
    {
     "data": {
      "text/html": [
       "<a href=\"C:\\Users\\pho\\repos\\PhoPy3DPositionAnalysis2021\\EXTERNAL\\TESTING\\OLD\\TestNeuropyPipeline187-BapunOpenField.ipynb\">C:\\Users\\pho\\repos\\PhoPy3DPositionAnalysis2021\\EXTERNAL\\TESTING\\OLD\\TestNeuropyPipeline187-BapunOpenField.ipynb</a>"
      ],
      "text/plain": [
       "<IPython.core.display.HTML object>"
      ]
     },
     "metadata": {},
     "output_type": "display_data"
    },
    {
     "data": {
      "text/html": [
       "<a href=\"C:\\Users\\pho\\repos\\PhoPy3DPositionAnalysis2021\\EXTERNAL\\TESTING\\OLD\\TestNeuropyPipeline188-BapunOpenField.ipynb\">C:\\Users\\pho\\repos\\PhoPy3DPositionAnalysis2021\\EXTERNAL\\TESTING\\OLD\\TestNeuropyPipeline188-BapunOpenField.ipynb</a>"
      ],
      "text/plain": [
       "<IPython.core.display.HTML object>"
      ]
     },
     "metadata": {},
     "output_type": "display_data"
    },
    {
     "data": {
      "text/html": [
       "<a href=\"C:\\Users\\pho\\repos\\PhoPy3DPositionAnalysis2021\\EXTERNAL\\TESTING\\OLD\\TestNeuropyPipeline189-BapunOpenField.ipynb\">C:\\Users\\pho\\repos\\PhoPy3DPositionAnalysis2021\\EXTERNAL\\TESTING\\OLD\\TestNeuropyPipeline189-BapunOpenField.ipynb</a>"
      ],
      "text/plain": [
       "<IPython.core.display.HTML object>"
      ]
     },
     "metadata": {},
     "output_type": "display_data"
    },
    {
     "data": {
      "text/html": [
       "<a href=\"C:\\Users\\pho\\repos\\PhoPy3DPositionAnalysis2021\\EXTERNAL\\TESTING\\OLD\\TestNeuropyPipeline189-PyCharm.ipynb\">C:\\Users\\pho\\repos\\PhoPy3DPositionAnalysis2021\\EXTERNAL\\TESTING\\OLD\\TestNeuropyPipeline189-PyCharm.ipynb</a>"
      ],
      "text/plain": [
       "<IPython.core.display.HTML object>"
      ]
     },
     "metadata": {},
     "output_type": "display_data"
    },
    {
     "data": {
      "text/html": [
       "<a href=\"C:\\Users\\pho\\repos\\PhoPy3DPositionAnalysis2021\\EXTERNAL\\TESTING\\OLD\\TestNeuropyPipeline19.ipynb\">C:\\Users\\pho\\repos\\PhoPy3DPositionAnalysis2021\\EXTERNAL\\TESTING\\OLD\\TestNeuropyPipeline19.ipynb</a>"
      ],
      "text/plain": [
       "<IPython.core.display.HTML object>"
      ]
     },
     "metadata": {},
     "output_type": "display_data"
    },
    {
     "data": {
      "text/html": [
       "<a href=\"C:\\Users\\pho\\repos\\PhoPy3DPositionAnalysis2021\\EXTERNAL\\TESTING\\OLD\\TestNeuropyPipeline190-BapunOpenField.ipynb\">C:\\Users\\pho\\repos\\PhoPy3DPositionAnalysis2021\\EXTERNAL\\TESTING\\OLD\\TestNeuropyPipeline190-BapunOpenField.ipynb</a>"
      ],
      "text/plain": [
       "<IPython.core.display.HTML object>"
      ]
     },
     "metadata": {},
     "output_type": "display_data"
    },
    {
     "data": {
      "text/html": [
       "<a href=\"C:\\Users\\pho\\repos\\PhoPy3DPositionAnalysis2021\\EXTERNAL\\TESTING\\OLD\\TestNeuropyPipeline191-BapunOpenField.ipynb\">C:\\Users\\pho\\repos\\PhoPy3DPositionAnalysis2021\\EXTERNAL\\TESTING\\OLD\\TestNeuropyPipeline191-BapunOpenField.ipynb</a>"
      ],
      "text/plain": [
       "<IPython.core.display.HTML object>"
      ]
     },
     "metadata": {},
     "output_type": "display_data"
    },
    {
     "data": {
      "text/html": [
       "<a href=\"C:\\Users\\pho\\repos\\PhoPy3DPositionAnalysis2021\\EXTERNAL\\TESTING\\OLD\\TestNeuropyPipeline192-BapunOpenField.ipynb\">C:\\Users\\pho\\repos\\PhoPy3DPositionAnalysis2021\\EXTERNAL\\TESTING\\OLD\\TestNeuropyPipeline192-BapunOpenField.ipynb</a>"
      ],
      "text/plain": [
       "<IPython.core.display.HTML object>"
      ]
     },
     "metadata": {},
     "output_type": "display_data"
    },
    {
     "data": {
      "text/html": [
       "<a href=\"C:\\Users\\pho\\repos\\PhoPy3DPositionAnalysis2021\\EXTERNAL\\TESTING\\OLD\\TestNeuropyPipeline193-BapunOpenField.ipynb\">C:\\Users\\pho\\repos\\PhoPy3DPositionAnalysis2021\\EXTERNAL\\TESTING\\OLD\\TestNeuropyPipeline193-BapunOpenField.ipynb</a>"
      ],
      "text/plain": [
       "<IPython.core.display.HTML object>"
      ]
     },
     "metadata": {},
     "output_type": "display_data"
    },
    {
     "data": {
      "text/html": [
       "<a href=\"C:\\Users\\pho\\repos\\PhoPy3DPositionAnalysis2021\\EXTERNAL\\TESTING\\OLD\\TestNeuropyPipeline194-BapunOpenField.ipynb\">C:\\Users\\pho\\repos\\PhoPy3DPositionAnalysis2021\\EXTERNAL\\TESTING\\OLD\\TestNeuropyPipeline194-BapunOpenField.ipynb</a>"
      ],
      "text/plain": [
       "<IPython.core.display.HTML object>"
      ]
     },
     "metadata": {},
     "output_type": "display_data"
    },
    {
     "data": {
      "text/html": [
       "<a href=\"C:\\Users\\pho\\repos\\PhoPy3DPositionAnalysis2021\\EXTERNAL\\TESTING\\OLD\\TestNeuropyPipeline195-BapunOpenField.ipynb\">C:\\Users\\pho\\repos\\PhoPy3DPositionAnalysis2021\\EXTERNAL\\TESTING\\OLD\\TestNeuropyPipeline195-BapunOpenField.ipynb</a>"
      ],
      "text/plain": [
       "<IPython.core.display.HTML object>"
      ]
     },
     "metadata": {},
     "output_type": "display_data"
    },
    {
     "data": {
      "text/html": [
       "<a href=\"C:\\Users\\pho\\repos\\PhoPy3DPositionAnalysis2021\\EXTERNAL\\TESTING\\OLD\\TestNeuropyPipeline196-BapunOpenField.ipynb\">C:\\Users\\pho\\repos\\PhoPy3DPositionAnalysis2021\\EXTERNAL\\TESTING\\OLD\\TestNeuropyPipeline196-BapunOpenField.ipynb</a>"
      ],
      "text/plain": [
       "<IPython.core.display.HTML object>"
      ]
     },
     "metadata": {},
     "output_type": "display_data"
    },
    {
     "data": {
      "text/html": [
       "<a href=\"C:\\Users\\pho\\repos\\PhoPy3DPositionAnalysis2021\\EXTERNAL\\TESTING\\OLD\\TestNeuropyPipeline197-BapunOpenField.ipynb\">C:\\Users\\pho\\repos\\PhoPy3DPositionAnalysis2021\\EXTERNAL\\TESTING\\OLD\\TestNeuropyPipeline197-BapunOpenField.ipynb</a>"
      ],
      "text/plain": [
       "<IPython.core.display.HTML object>"
      ]
     },
     "metadata": {},
     "output_type": "display_data"
    },
    {
     "data": {
      "text/html": [
       "<a href=\"C:\\Users\\pho\\repos\\PhoPy3DPositionAnalysis2021\\EXTERNAL\\TESTING\\OLD\\TestNeuropyPipeline198-BapunOpenField.ipynb\">C:\\Users\\pho\\repos\\PhoPy3DPositionAnalysis2021\\EXTERNAL\\TESTING\\OLD\\TestNeuropyPipeline198-BapunOpenField.ipynb</a>"
      ],
      "text/plain": [
       "<IPython.core.display.HTML object>"
      ]
     },
     "metadata": {},
     "output_type": "display_data"
    },
    {
     "data": {
      "text/html": [
       "<a href=\"C:\\Users\\pho\\repos\\PhoPy3DPositionAnalysis2021\\EXTERNAL\\TESTING\\OLD\\TestNeuropyPipeline198.ipynb\">C:\\Users\\pho\\repos\\PhoPy3DPositionAnalysis2021\\EXTERNAL\\TESTING\\OLD\\TestNeuropyPipeline198.ipynb</a>"
      ],
      "text/plain": [
       "<IPython.core.display.HTML object>"
      ]
     },
     "metadata": {},
     "output_type": "display_data"
    },
    {
     "data": {
      "text/html": [
       "<a href=\"C:\\Users\\pho\\repos\\PhoPy3DPositionAnalysis2021\\EXTERNAL\\TESTING\\OLD\\TestNeuropyPipeline199.ipynb\">C:\\Users\\pho\\repos\\PhoPy3DPositionAnalysis2021\\EXTERNAL\\TESTING\\OLD\\TestNeuropyPipeline199.ipynb</a>"
      ],
      "text/plain": [
       "<IPython.core.display.HTML object>"
      ]
     },
     "metadata": {},
     "output_type": "display_data"
    },
    {
     "data": {
      "text/html": [
       "<a href=\"C:\\Users\\pho\\repos\\PhoPy3DPositionAnalysis2021\\EXTERNAL\\TESTING\\OLD\\TestNeuropyPipeline2.ipynb\">C:\\Users\\pho\\repos\\PhoPy3DPositionAnalysis2021\\EXTERNAL\\TESTING\\OLD\\TestNeuropyPipeline2.ipynb</a>"
      ],
      "text/plain": [
       "<IPython.core.display.HTML object>"
      ]
     },
     "metadata": {},
     "output_type": "display_data"
    },
    {
     "data": {
      "text/html": [
       "<a href=\"C:\\Users\\pho\\repos\\PhoPy3DPositionAnalysis2021\\EXTERNAL\\TESTING\\OLD\\TestNeuropyPipeline20.ipynb\">C:\\Users\\pho\\repos\\PhoPy3DPositionAnalysis2021\\EXTERNAL\\TESTING\\OLD\\TestNeuropyPipeline20.ipynb</a>"
      ],
      "text/plain": [
       "<IPython.core.display.HTML object>"
      ]
     },
     "metadata": {},
     "output_type": "display_data"
    },
    {
     "data": {
      "text/html": [
       "<a href=\"C:\\Users\\pho\\repos\\PhoPy3DPositionAnalysis2021\\EXTERNAL\\TESTING\\OLD\\TestNeuropyPipeline200.ipynb\">C:\\Users\\pho\\repos\\PhoPy3DPositionAnalysis2021\\EXTERNAL\\TESTING\\OLD\\TestNeuropyPipeline200.ipynb</a>"
      ],
      "text/plain": [
       "<IPython.core.display.HTML object>"
      ]
     },
     "metadata": {},
     "output_type": "display_data"
    },
    {
     "data": {
      "text/html": [
       "<a href=\"C:\\Users\\pho\\repos\\PhoPy3DPositionAnalysis2021\\EXTERNAL\\TESTING\\OLD\\TestNeuropyPipeline201.ipynb\">C:\\Users\\pho\\repos\\PhoPy3DPositionAnalysis2021\\EXTERNAL\\TESTING\\OLD\\TestNeuropyPipeline201.ipynb</a>"
      ],
      "text/plain": [
       "<IPython.core.display.HTML object>"
      ]
     },
     "metadata": {},
     "output_type": "display_data"
    },
    {
     "data": {
      "text/html": [
       "<a href=\"C:\\Users\\pho\\repos\\PhoPy3DPositionAnalysis2021\\EXTERNAL\\TESTING\\OLD\\TestNeuropyPipeline202.ipynb\">C:\\Users\\pho\\repos\\PhoPy3DPositionAnalysis2021\\EXTERNAL\\TESTING\\OLD\\TestNeuropyPipeline202.ipynb</a>"
      ],
      "text/plain": [
       "<IPython.core.display.HTML object>"
      ]
     },
     "metadata": {},
     "output_type": "display_data"
    },
    {
     "data": {
      "text/html": [
       "<a href=\"C:\\Users\\pho\\repos\\PhoPy3DPositionAnalysis2021\\EXTERNAL\\TESTING\\OLD\\TestNeuropyPipeline203.ipynb\">C:\\Users\\pho\\repos\\PhoPy3DPositionAnalysis2021\\EXTERNAL\\TESTING\\OLD\\TestNeuropyPipeline203.ipynb</a>"
      ],
      "text/plain": [
       "<IPython.core.display.HTML object>"
      ]
     },
     "metadata": {},
     "output_type": "display_data"
    },
    {
     "data": {
      "text/html": [
       "<a href=\"C:\\Users\\pho\\repos\\PhoPy3DPositionAnalysis2021\\EXTERNAL\\TESTING\\OLD\\TestNeuropyPipeline204.ipynb\">C:\\Users\\pho\\repos\\PhoPy3DPositionAnalysis2021\\EXTERNAL\\TESTING\\OLD\\TestNeuropyPipeline204.ipynb</a>"
      ],
      "text/plain": [
       "<IPython.core.display.HTML object>"
      ]
     },
     "metadata": {},
     "output_type": "display_data"
    },
    {
     "data": {
      "text/html": [
       "<a href=\"C:\\Users\\pho\\repos\\PhoPy3DPositionAnalysis2021\\EXTERNAL\\TESTING\\OLD\\TestNeuropyPipeline205.ipynb\">C:\\Users\\pho\\repos\\PhoPy3DPositionAnalysis2021\\EXTERNAL\\TESTING\\OLD\\TestNeuropyPipeline205.ipynb</a>"
      ],
      "text/plain": [
       "<IPython.core.display.HTML object>"
      ]
     },
     "metadata": {},
     "output_type": "display_data"
    },
    {
     "data": {
      "text/html": [
       "<a href=\"C:\\Users\\pho\\repos\\PhoPy3DPositionAnalysis2021\\EXTERNAL\\TESTING\\OLD\\TestNeuropyPipeline206.ipynb\">C:\\Users\\pho\\repos\\PhoPy3DPositionAnalysis2021\\EXTERNAL\\TESTING\\OLD\\TestNeuropyPipeline206.ipynb</a>"
      ],
      "text/plain": [
       "<IPython.core.display.HTML object>"
      ]
     },
     "metadata": {},
     "output_type": "display_data"
    },
    {
     "data": {
      "text/html": [
       "<a href=\"C:\\Users\\pho\\repos\\PhoPy3DPositionAnalysis2021\\EXTERNAL\\TESTING\\OLD\\TestNeuropyPipeline207.ipynb\">C:\\Users\\pho\\repos\\PhoPy3DPositionAnalysis2021\\EXTERNAL\\TESTING\\OLD\\TestNeuropyPipeline207.ipynb</a>"
      ],
      "text/plain": [
       "<IPython.core.display.HTML object>"
      ]
     },
     "metadata": {},
     "output_type": "display_data"
    },
    {
     "data": {
      "text/html": [
       "<a href=\"C:\\Users\\pho\\repos\\PhoPy3DPositionAnalysis2021\\EXTERNAL\\TESTING\\OLD\\TestNeuropyPipeline208.ipynb\">C:\\Users\\pho\\repos\\PhoPy3DPositionAnalysis2021\\EXTERNAL\\TESTING\\OLD\\TestNeuropyPipeline208.ipynb</a>"
      ],
      "text/plain": [
       "<IPython.core.display.HTML object>"
      ]
     },
     "metadata": {},
     "output_type": "display_data"
    },
    {
     "data": {
      "text/html": [
       "<a href=\"C:\\Users\\pho\\repos\\PhoPy3DPositionAnalysis2021\\EXTERNAL\\TESTING\\OLD\\TestNeuropyPipeline209.ipynb\">C:\\Users\\pho\\repos\\PhoPy3DPositionAnalysis2021\\EXTERNAL\\TESTING\\OLD\\TestNeuropyPipeline209.ipynb</a>"
      ],
      "text/plain": [
       "<IPython.core.display.HTML object>"
      ]
     },
     "metadata": {},
     "output_type": "display_data"
    },
    {
     "data": {
      "text/html": [
       "<a href=\"C:\\Users\\pho\\repos\\PhoPy3DPositionAnalysis2021\\EXTERNAL\\TESTING\\OLD\\TestNeuropyPipeline21.ipynb\">C:\\Users\\pho\\repos\\PhoPy3DPositionAnalysis2021\\EXTERNAL\\TESTING\\OLD\\TestNeuropyPipeline21.ipynb</a>"
      ],
      "text/plain": [
       "<IPython.core.display.HTML object>"
      ]
     },
     "metadata": {},
     "output_type": "display_data"
    },
    {
     "data": {
      "text/html": [
       "<a href=\"C:\\Users\\pho\\repos\\PhoPy3DPositionAnalysis2021\\EXTERNAL\\TESTING\\OLD\\TestNeuropyPipeline210.ipynb\">C:\\Users\\pho\\repos\\PhoPy3DPositionAnalysis2021\\EXTERNAL\\TESTING\\OLD\\TestNeuropyPipeline210.ipynb</a>"
      ],
      "text/plain": [
       "<IPython.core.display.HTML object>"
      ]
     },
     "metadata": {},
     "output_type": "display_data"
    },
    {
     "data": {
      "text/html": [
       "<a href=\"C:\\Users\\pho\\repos\\PhoPy3DPositionAnalysis2021\\EXTERNAL\\TESTING\\OLD\\TestNeuropyPipeline211.ipynb\">C:\\Users\\pho\\repos\\PhoPy3DPositionAnalysis2021\\EXTERNAL\\TESTING\\OLD\\TestNeuropyPipeline211.ipynb</a>"
      ],
      "text/plain": [
       "<IPython.core.display.HTML object>"
      ]
     },
     "metadata": {},
     "output_type": "display_data"
    },
    {
     "data": {
      "text/html": [
       "<a href=\"C:\\Users\\pho\\repos\\PhoPy3DPositionAnalysis2021\\EXTERNAL\\TESTING\\OLD\\TestNeuropyPipeline212.ipynb\">C:\\Users\\pho\\repos\\PhoPy3DPositionAnalysis2021\\EXTERNAL\\TESTING\\OLD\\TestNeuropyPipeline212.ipynb</a>"
      ],
      "text/plain": [
       "<IPython.core.display.HTML object>"
      ]
     },
     "metadata": {},
     "output_type": "display_data"
    },
    {
     "data": {
      "text/html": [
       "<a href=\"C:\\Users\\pho\\repos\\PhoPy3DPositionAnalysis2021\\EXTERNAL\\TESTING\\OLD\\TestNeuropyPipeline214.ipynb\">C:\\Users\\pho\\repos\\PhoPy3DPositionAnalysis2021\\EXTERNAL\\TESTING\\OLD\\TestNeuropyPipeline214.ipynb</a>"
      ],
      "text/plain": [
       "<IPython.core.display.HTML object>"
      ]
     },
     "metadata": {},
     "output_type": "display_data"
    },
    {
     "data": {
      "text/html": [
       "<a href=\"C:\\Users\\pho\\repos\\PhoPy3DPositionAnalysis2021\\EXTERNAL\\TESTING\\OLD\\TestNeuropyPipeline215.ipynb\">C:\\Users\\pho\\repos\\PhoPy3DPositionAnalysis2021\\EXTERNAL\\TESTING\\OLD\\TestNeuropyPipeline215.ipynb</a>"
      ],
      "text/plain": [
       "<IPython.core.display.HTML object>"
      ]
     },
     "metadata": {},
     "output_type": "display_data"
    },
    {
     "data": {
      "text/html": [
       "<a href=\"C:\\Users\\pho\\repos\\PhoPy3DPositionAnalysis2021\\EXTERNAL\\TESTING\\OLD\\TestNeuropyPipeline216.ipynb\">C:\\Users\\pho\\repos\\PhoPy3DPositionAnalysis2021\\EXTERNAL\\TESTING\\OLD\\TestNeuropyPipeline216.ipynb</a>"
      ],
      "text/plain": [
       "<IPython.core.display.HTML object>"
      ]
     },
     "metadata": {},
     "output_type": "display_data"
    },
    {
     "data": {
      "text/html": [
       "<a href=\"C:\\Users\\pho\\repos\\PhoPy3DPositionAnalysis2021\\EXTERNAL\\TESTING\\OLD\\TestNeuropyPipeline217.ipynb\">C:\\Users\\pho\\repos\\PhoPy3DPositionAnalysis2021\\EXTERNAL\\TESTING\\OLD\\TestNeuropyPipeline217.ipynb</a>"
      ],
      "text/plain": [
       "<IPython.core.display.HTML object>"
      ]
     },
     "metadata": {},
     "output_type": "display_data"
    },
    {
     "data": {
      "text/html": [
       "<a href=\"C:\\Users\\pho\\repos\\PhoPy3DPositionAnalysis2021\\EXTERNAL\\TESTING\\OLD\\TestNeuropyPipeline218.ipynb\">C:\\Users\\pho\\repos\\PhoPy3DPositionAnalysis2021\\EXTERNAL\\TESTING\\OLD\\TestNeuropyPipeline218.ipynb</a>"
      ],
      "text/plain": [
       "<IPython.core.display.HTML object>"
      ]
     },
     "metadata": {},
     "output_type": "display_data"
    },
    {
     "data": {
      "text/html": [
       "<a href=\"C:\\Users\\pho\\repos\\PhoPy3DPositionAnalysis2021\\EXTERNAL\\TESTING\\OLD\\TestNeuropyPipeline219.ipynb\">C:\\Users\\pho\\repos\\PhoPy3DPositionAnalysis2021\\EXTERNAL\\TESTING\\OLD\\TestNeuropyPipeline219.ipynb</a>"
      ],
      "text/plain": [
       "<IPython.core.display.HTML object>"
      ]
     },
     "metadata": {},
     "output_type": "display_data"
    },
    {
     "data": {
      "text/html": [
       "<a href=\"C:\\Users\\pho\\repos\\PhoPy3DPositionAnalysis2021\\EXTERNAL\\TESTING\\OLD\\TestNeuropyPipeline22.ipynb\">C:\\Users\\pho\\repos\\PhoPy3DPositionAnalysis2021\\EXTERNAL\\TESTING\\OLD\\TestNeuropyPipeline22.ipynb</a>"
      ],
      "text/plain": [
       "<IPython.core.display.HTML object>"
      ]
     },
     "metadata": {},
     "output_type": "display_data"
    },
    {
     "data": {
      "text/html": [
       "<a href=\"C:\\Users\\pho\\repos\\PhoPy3DPositionAnalysis2021\\EXTERNAL\\TESTING\\OLD\\TestNeuropyPipeline220.ipynb\">C:\\Users\\pho\\repos\\PhoPy3DPositionAnalysis2021\\EXTERNAL\\TESTING\\OLD\\TestNeuropyPipeline220.ipynb</a>"
      ],
      "text/plain": [
       "<IPython.core.display.HTML object>"
      ]
     },
     "metadata": {},
     "output_type": "display_data"
    },
    {
     "data": {
      "text/html": [
       "<a href=\"C:\\Users\\pho\\repos\\PhoPy3DPositionAnalysis2021\\EXTERNAL\\TESTING\\OLD\\TestNeuropyPipeline221.ipynb\">C:\\Users\\pho\\repos\\PhoPy3DPositionAnalysis2021\\EXTERNAL\\TESTING\\OLD\\TestNeuropyPipeline221.ipynb</a>"
      ],
      "text/plain": [
       "<IPython.core.display.HTML object>"
      ]
     },
     "metadata": {},
     "output_type": "display_data"
    },
    {
     "data": {
      "text/html": [
       "<a href=\"C:\\Users\\pho\\repos\\PhoPy3DPositionAnalysis2021\\EXTERNAL\\TESTING\\OLD\\TestNeuropyPipeline222.ipynb\">C:\\Users\\pho\\repos\\PhoPy3DPositionAnalysis2021\\EXTERNAL\\TESTING\\OLD\\TestNeuropyPipeline222.ipynb</a>"
      ],
      "text/plain": [
       "<IPython.core.display.HTML object>"
      ]
     },
     "metadata": {},
     "output_type": "display_data"
    },
    {
     "data": {
      "text/html": [
       "<a href=\"C:\\Users\\pho\\repos\\PhoPy3DPositionAnalysis2021\\EXTERNAL\\TESTING\\OLD\\TestNeuropyPipeline223.ipynb\">C:\\Users\\pho\\repos\\PhoPy3DPositionAnalysis2021\\EXTERNAL\\TESTING\\OLD\\TestNeuropyPipeline223.ipynb</a>"
      ],
      "text/plain": [
       "<IPython.core.display.HTML object>"
      ]
     },
     "metadata": {},
     "output_type": "display_data"
    },
    {
     "data": {
      "text/html": [
       "<a href=\"C:\\Users\\pho\\repos\\PhoPy3DPositionAnalysis2021\\EXTERNAL\\TESTING\\OLD\\TestNeuropyPipeline224.ipynb\">C:\\Users\\pho\\repos\\PhoPy3DPositionAnalysis2021\\EXTERNAL\\TESTING\\OLD\\TestNeuropyPipeline224.ipynb</a>"
      ],
      "text/plain": [
       "<IPython.core.display.HTML object>"
      ]
     },
     "metadata": {},
     "output_type": "display_data"
    },
    {
     "data": {
      "text/html": [
       "<a href=\"C:\\Users\\pho\\repos\\PhoPy3DPositionAnalysis2021\\EXTERNAL\\TESTING\\OLD\\TestNeuropyPipeline225.ipynb\">C:\\Users\\pho\\repos\\PhoPy3DPositionAnalysis2021\\EXTERNAL\\TESTING\\OLD\\TestNeuropyPipeline225.ipynb</a>"
      ],
      "text/plain": [
       "<IPython.core.display.HTML object>"
      ]
     },
     "metadata": {},
     "output_type": "display_data"
    },
    {
     "data": {
      "text/html": [
       "<a href=\"C:\\Users\\pho\\repos\\PhoPy3DPositionAnalysis2021\\EXTERNAL\\TESTING\\OLD\\TestNeuropyPipeline226.ipynb\">C:\\Users\\pho\\repos\\PhoPy3DPositionAnalysis2021\\EXTERNAL\\TESTING\\OLD\\TestNeuropyPipeline226.ipynb</a>"
      ],
      "text/plain": [
       "<IPython.core.display.HTML object>"
      ]
     },
     "metadata": {},
     "output_type": "display_data"
    },
    {
     "data": {
      "text/html": [
       "<a href=\"C:\\Users\\pho\\repos\\PhoPy3DPositionAnalysis2021\\EXTERNAL\\TESTING\\OLD\\TestNeuropyPipeline227.ipynb\">C:\\Users\\pho\\repos\\PhoPy3DPositionAnalysis2021\\EXTERNAL\\TESTING\\OLD\\TestNeuropyPipeline227.ipynb</a>"
      ],
      "text/plain": [
       "<IPython.core.display.HTML object>"
      ]
     },
     "metadata": {},
     "output_type": "display_data"
    },
    {
     "data": {
      "text/html": [
       "<a href=\"C:\\Users\\pho\\repos\\PhoPy3DPositionAnalysis2021\\EXTERNAL\\TESTING\\OLD\\TestNeuropyPipeline228.ipynb\">C:\\Users\\pho\\repos\\PhoPy3DPositionAnalysis2021\\EXTERNAL\\TESTING\\OLD\\TestNeuropyPipeline228.ipynb</a>"
      ],
      "text/plain": [
       "<IPython.core.display.HTML object>"
      ]
     },
     "metadata": {},
     "output_type": "display_data"
    },
    {
     "data": {
      "text/html": [
       "<a href=\"C:\\Users\\pho\\repos\\PhoPy3DPositionAnalysis2021\\EXTERNAL\\TESTING\\OLD\\TestNeuropyPipeline229.ipynb\">C:\\Users\\pho\\repos\\PhoPy3DPositionAnalysis2021\\EXTERNAL\\TESTING\\OLD\\TestNeuropyPipeline229.ipynb</a>"
      ],
      "text/plain": [
       "<IPython.core.display.HTML object>"
      ]
     },
     "metadata": {},
     "output_type": "display_data"
    },
    {
     "data": {
      "text/html": [
       "<a href=\"C:\\Users\\pho\\repos\\PhoPy3DPositionAnalysis2021\\EXTERNAL\\TESTING\\OLD\\TestNeuropyPipeline23.ipynb\">C:\\Users\\pho\\repos\\PhoPy3DPositionAnalysis2021\\EXTERNAL\\TESTING\\OLD\\TestNeuropyPipeline23.ipynb</a>"
      ],
      "text/plain": [
       "<IPython.core.display.HTML object>"
      ]
     },
     "metadata": {},
     "output_type": "display_data"
    },
    {
     "data": {
      "text/html": [
       "<a href=\"C:\\Users\\pho\\repos\\PhoPy3DPositionAnalysis2021\\EXTERNAL\\TESTING\\OLD\\TestNeuropyPipeline230.ipynb\">C:\\Users\\pho\\repos\\PhoPy3DPositionAnalysis2021\\EXTERNAL\\TESTING\\OLD\\TestNeuropyPipeline230.ipynb</a>"
      ],
      "text/plain": [
       "<IPython.core.display.HTML object>"
      ]
     },
     "metadata": {},
     "output_type": "display_data"
    },
    {
     "data": {
      "text/html": [
       "<a href=\"C:\\Users\\pho\\repos\\PhoPy3DPositionAnalysis2021\\EXTERNAL\\TESTING\\OLD\\TestNeuropyPipeline231.ipynb\">C:\\Users\\pho\\repos\\PhoPy3DPositionAnalysis2021\\EXTERNAL\\TESTING\\OLD\\TestNeuropyPipeline231.ipynb</a>"
      ],
      "text/plain": [
       "<IPython.core.display.HTML object>"
      ]
     },
     "metadata": {},
     "output_type": "display_data"
    },
    {
     "data": {
      "text/html": [
       "<a href=\"C:\\Users\\pho\\repos\\PhoPy3DPositionAnalysis2021\\EXTERNAL\\TESTING\\OLD\\TestNeuropyPipeline232.ipynb\">C:\\Users\\pho\\repos\\PhoPy3DPositionAnalysis2021\\EXTERNAL\\TESTING\\OLD\\TestNeuropyPipeline232.ipynb</a>"
      ],
      "text/plain": [
       "<IPython.core.display.HTML object>"
      ]
     },
     "metadata": {},
     "output_type": "display_data"
    },
    {
     "data": {
      "text/html": [
       "<a href=\"C:\\Users\\pho\\repos\\PhoPy3DPositionAnalysis2021\\EXTERNAL\\TESTING\\OLD\\TestNeuropyPipeline233.ipynb\">C:\\Users\\pho\\repos\\PhoPy3DPositionAnalysis2021\\EXTERNAL\\TESTING\\OLD\\TestNeuropyPipeline233.ipynb</a>"
      ],
      "text/plain": [
       "<IPython.core.display.HTML object>"
      ]
     },
     "metadata": {},
     "output_type": "display_data"
    },
    {
     "data": {
      "text/html": [
       "<a href=\"C:\\Users\\pho\\repos\\PhoPy3DPositionAnalysis2021\\EXTERNAL\\TESTING\\OLD\\TestNeuropyPipeline234.ipynb\">C:\\Users\\pho\\repos\\PhoPy3DPositionAnalysis2021\\EXTERNAL\\TESTING\\OLD\\TestNeuropyPipeline234.ipynb</a>"
      ],
      "text/plain": [
       "<IPython.core.display.HTML object>"
      ]
     },
     "metadata": {},
     "output_type": "display_data"
    },
    {
     "data": {
      "text/html": [
       "<a href=\"C:\\Users\\pho\\repos\\PhoPy3DPositionAnalysis2021\\EXTERNAL\\TESTING\\OLD\\TestNeuropyPipeline235.ipynb\">C:\\Users\\pho\\repos\\PhoPy3DPositionAnalysis2021\\EXTERNAL\\TESTING\\OLD\\TestNeuropyPipeline235.ipynb</a>"
      ],
      "text/plain": [
       "<IPython.core.display.HTML object>"
      ]
     },
     "metadata": {},
     "output_type": "display_data"
    },
    {
     "data": {
      "text/html": [
       "<a href=\"C:\\Users\\pho\\repos\\PhoPy3DPositionAnalysis2021\\EXTERNAL\\TESTING\\OLD\\TestNeuropyPipeline236.ipynb\">C:\\Users\\pho\\repos\\PhoPy3DPositionAnalysis2021\\EXTERNAL\\TESTING\\OLD\\TestNeuropyPipeline236.ipynb</a>"
      ],
      "text/plain": [
       "<IPython.core.display.HTML object>"
      ]
     },
     "metadata": {},
     "output_type": "display_data"
    },
    {
     "data": {
      "text/html": [
       "<a href=\"C:\\Users\\pho\\repos\\PhoPy3DPositionAnalysis2021\\EXTERNAL\\TESTING\\OLD\\TestNeuropyPipeline237.ipynb\">C:\\Users\\pho\\repos\\PhoPy3DPositionAnalysis2021\\EXTERNAL\\TESTING\\OLD\\TestNeuropyPipeline237.ipynb</a>"
      ],
      "text/plain": [
       "<IPython.core.display.HTML object>"
      ]
     },
     "metadata": {},
     "output_type": "display_data"
    },
    {
     "data": {
      "text/html": [
       "<a href=\"C:\\Users\\pho\\repos\\PhoPy3DPositionAnalysis2021\\EXTERNAL\\TESTING\\OLD\\TestNeuropyPipeline238.ipynb\">C:\\Users\\pho\\repos\\PhoPy3DPositionAnalysis2021\\EXTERNAL\\TESTING\\OLD\\TestNeuropyPipeline238.ipynb</a>"
      ],
      "text/plain": [
       "<IPython.core.display.HTML object>"
      ]
     },
     "metadata": {},
     "output_type": "display_data"
    },
    {
     "data": {
      "text/html": [
       "<a href=\"C:\\Users\\pho\\repos\\PhoPy3DPositionAnalysis2021\\EXTERNAL\\TESTING\\OLD\\TestNeuropyPipeline239.ipynb\">C:\\Users\\pho\\repos\\PhoPy3DPositionAnalysis2021\\EXTERNAL\\TESTING\\OLD\\TestNeuropyPipeline239.ipynb</a>"
      ],
      "text/plain": [
       "<IPython.core.display.HTML object>"
      ]
     },
     "metadata": {},
     "output_type": "display_data"
    },
    {
     "data": {
      "text/html": [
       "<a href=\"C:\\Users\\pho\\repos\\PhoPy3DPositionAnalysis2021\\EXTERNAL\\TESTING\\OLD\\TestNeuropyPipeline24.ipynb\">C:\\Users\\pho\\repos\\PhoPy3DPositionAnalysis2021\\EXTERNAL\\TESTING\\OLD\\TestNeuropyPipeline24.ipynb</a>"
      ],
      "text/plain": [
       "<IPython.core.display.HTML object>"
      ]
     },
     "metadata": {},
     "output_type": "display_data"
    },
    {
     "data": {
      "text/html": [
       "<a href=\"C:\\Users\\pho\\repos\\PhoPy3DPositionAnalysis2021\\EXTERNAL\\TESTING\\OLD\\TestNeuropyPipeline241.ipynb\">C:\\Users\\pho\\repos\\PhoPy3DPositionAnalysis2021\\EXTERNAL\\TESTING\\OLD\\TestNeuropyPipeline241.ipynb</a>"
      ],
      "text/plain": [
       "<IPython.core.display.HTML object>"
      ]
     },
     "metadata": {},
     "output_type": "display_data"
    },
    {
     "data": {
      "text/html": [
       "<a href=\"C:\\Users\\pho\\repos\\PhoPy3DPositionAnalysis2021\\EXTERNAL\\TESTING\\OLD\\TestNeuropyPipeline242.ipynb\">C:\\Users\\pho\\repos\\PhoPy3DPositionAnalysis2021\\EXTERNAL\\TESTING\\OLD\\TestNeuropyPipeline242.ipynb</a>"
      ],
      "text/plain": [
       "<IPython.core.display.HTML object>"
      ]
     },
     "metadata": {},
     "output_type": "display_data"
    },
    {
     "data": {
      "text/html": [
       "<a href=\"C:\\Users\\pho\\repos\\PhoPy3DPositionAnalysis2021\\EXTERNAL\\TESTING\\OLD\\TestNeuropyPipeline243.ipynb\">C:\\Users\\pho\\repos\\PhoPy3DPositionAnalysis2021\\EXTERNAL\\TESTING\\OLD\\TestNeuropyPipeline243.ipynb</a>"
      ],
      "text/plain": [
       "<IPython.core.display.HTML object>"
      ]
     },
     "metadata": {},
     "output_type": "display_data"
    },
    {
     "data": {
      "text/html": [
       "<a href=\"C:\\Users\\pho\\repos\\PhoPy3DPositionAnalysis2021\\EXTERNAL\\TESTING\\OLD\\TestNeuropyPipeline244.ipynb\">C:\\Users\\pho\\repos\\PhoPy3DPositionAnalysis2021\\EXTERNAL\\TESTING\\OLD\\TestNeuropyPipeline244.ipynb</a>"
      ],
      "text/plain": [
       "<IPython.core.display.HTML object>"
      ]
     },
     "metadata": {},
     "output_type": "display_data"
    },
    {
     "data": {
      "text/html": [
       "<a href=\"C:\\Users\\pho\\repos\\PhoPy3DPositionAnalysis2021\\EXTERNAL\\TESTING\\OLD\\TestNeuropyPipeline245.ipynb\">C:\\Users\\pho\\repos\\PhoPy3DPositionAnalysis2021\\EXTERNAL\\TESTING\\OLD\\TestNeuropyPipeline245.ipynb</a>"
      ],
      "text/plain": [
       "<IPython.core.display.HTML object>"
      ]
     },
     "metadata": {},
     "output_type": "display_data"
    },
    {
     "data": {
      "text/html": [
       "<a href=\"C:\\Users\\pho\\repos\\PhoPy3DPositionAnalysis2021\\EXTERNAL\\TESTING\\OLD\\TestNeuropyPipeline246.ipynb\">C:\\Users\\pho\\repos\\PhoPy3DPositionAnalysis2021\\EXTERNAL\\TESTING\\OLD\\TestNeuropyPipeline246.ipynb</a>"
      ],
      "text/plain": [
       "<IPython.core.display.HTML object>"
      ]
     },
     "metadata": {},
     "output_type": "display_data"
    },
    {
     "data": {
      "text/html": [
       "<a href=\"C:\\Users\\pho\\repos\\PhoPy3DPositionAnalysis2021\\EXTERNAL\\TESTING\\OLD\\TestNeuropyPipeline247.ipynb\">C:\\Users\\pho\\repos\\PhoPy3DPositionAnalysis2021\\EXTERNAL\\TESTING\\OLD\\TestNeuropyPipeline247.ipynb</a>"
      ],
      "text/plain": [
       "<IPython.core.display.HTML object>"
      ]
     },
     "metadata": {},
     "output_type": "display_data"
    },
    {
     "data": {
      "text/html": [
       "<a href=\"C:\\Users\\pho\\repos\\PhoPy3DPositionAnalysis2021\\EXTERNAL\\TESTING\\OLD\\TestNeuropyPipeline248.ipynb\">C:\\Users\\pho\\repos\\PhoPy3DPositionAnalysis2021\\EXTERNAL\\TESTING\\OLD\\TestNeuropyPipeline248.ipynb</a>"
      ],
      "text/plain": [
       "<IPython.core.display.HTML object>"
      ]
     },
     "metadata": {},
     "output_type": "display_data"
    },
    {
     "data": {
      "text/html": [
       "<a href=\"C:\\Users\\pho\\repos\\PhoPy3DPositionAnalysis2021\\EXTERNAL\\TESTING\\OLD\\TestNeuropyPipeline249.ipynb\">C:\\Users\\pho\\repos\\PhoPy3DPositionAnalysis2021\\EXTERNAL\\TESTING\\OLD\\TestNeuropyPipeline249.ipynb</a>"
      ],
      "text/plain": [
       "<IPython.core.display.HTML object>"
      ]
     },
     "metadata": {},
     "output_type": "display_data"
    },
    {
     "data": {
      "text/html": [
       "<a href=\"C:\\Users\\pho\\repos\\PhoPy3DPositionAnalysis2021\\EXTERNAL\\TESTING\\OLD\\TestNeuropyPipeline25.ipynb\">C:\\Users\\pho\\repos\\PhoPy3DPositionAnalysis2021\\EXTERNAL\\TESTING\\OLD\\TestNeuropyPipeline25.ipynb</a>"
      ],
      "text/plain": [
       "<IPython.core.display.HTML object>"
      ]
     },
     "metadata": {},
     "output_type": "display_data"
    },
    {
     "data": {
      "text/html": [
       "<a href=\"C:\\Users\\pho\\repos\\PhoPy3DPositionAnalysis2021\\EXTERNAL\\TESTING\\OLD\\TestNeuropyPipeline250.ipynb\">C:\\Users\\pho\\repos\\PhoPy3DPositionAnalysis2021\\EXTERNAL\\TESTING\\OLD\\TestNeuropyPipeline250.ipynb</a>"
      ],
      "text/plain": [
       "<IPython.core.display.HTML object>"
      ]
     },
     "metadata": {},
     "output_type": "display_data"
    },
    {
     "data": {
      "text/html": [
       "<a href=\"C:\\Users\\pho\\repos\\PhoPy3DPositionAnalysis2021\\EXTERNAL\\TESTING\\OLD\\TestNeuropyPipeline251.ipynb\">C:\\Users\\pho\\repos\\PhoPy3DPositionAnalysis2021\\EXTERNAL\\TESTING\\OLD\\TestNeuropyPipeline251.ipynb</a>"
      ],
      "text/plain": [
       "<IPython.core.display.HTML object>"
      ]
     },
     "metadata": {},
     "output_type": "display_data"
    },
    {
     "data": {
      "text/html": [
       "<a href=\"C:\\Users\\pho\\repos\\PhoPy3DPositionAnalysis2021\\EXTERNAL\\TESTING\\OLD\\TestNeuropyPipeline252.ipynb\">C:\\Users\\pho\\repos\\PhoPy3DPositionAnalysis2021\\EXTERNAL\\TESTING\\OLD\\TestNeuropyPipeline252.ipynb</a>"
      ],
      "text/plain": [
       "<IPython.core.display.HTML object>"
      ]
     },
     "metadata": {},
     "output_type": "display_data"
    },
    {
     "data": {
      "text/html": [
       "<a href=\"C:\\Users\\pho\\repos\\PhoPy3DPositionAnalysis2021\\EXTERNAL\\TESTING\\OLD\\TestNeuropyPipeline253.ipynb\">C:\\Users\\pho\\repos\\PhoPy3DPositionAnalysis2021\\EXTERNAL\\TESTING\\OLD\\TestNeuropyPipeline253.ipynb</a>"
      ],
      "text/plain": [
       "<IPython.core.display.HTML object>"
      ]
     },
     "metadata": {},
     "output_type": "display_data"
    },
    {
     "data": {
      "text/html": [
       "<a href=\"C:\\Users\\pho\\repos\\PhoPy3DPositionAnalysis2021\\EXTERNAL\\TESTING\\OLD\\TestNeuropyPipeline26.ipynb\">C:\\Users\\pho\\repos\\PhoPy3DPositionAnalysis2021\\EXTERNAL\\TESTING\\OLD\\TestNeuropyPipeline26.ipynb</a>"
      ],
      "text/plain": [
       "<IPython.core.display.HTML object>"
      ]
     },
     "metadata": {},
     "output_type": "display_data"
    },
    {
     "data": {
      "text/html": [
       "<a href=\"C:\\Users\\pho\\repos\\PhoPy3DPositionAnalysis2021\\EXTERNAL\\TESTING\\OLD\\TestNeuropyPipeline27.ipynb\">C:\\Users\\pho\\repos\\PhoPy3DPositionAnalysis2021\\EXTERNAL\\TESTING\\OLD\\TestNeuropyPipeline27.ipynb</a>"
      ],
      "text/plain": [
       "<IPython.core.display.HTML object>"
      ]
     },
     "metadata": {},
     "output_type": "display_data"
    },
    {
     "data": {
      "text/html": [
       "<a href=\"C:\\Users\\pho\\repos\\PhoPy3DPositionAnalysis2021\\EXTERNAL\\TESTING\\OLD\\TestNeuropyPipeline28.ipynb\">C:\\Users\\pho\\repos\\PhoPy3DPositionAnalysis2021\\EXTERNAL\\TESTING\\OLD\\TestNeuropyPipeline28.ipynb</a>"
      ],
      "text/plain": [
       "<IPython.core.display.HTML object>"
      ]
     },
     "metadata": {},
     "output_type": "display_data"
    },
    {
     "data": {
      "text/html": [
       "<a href=\"C:\\Users\\pho\\repos\\PhoPy3DPositionAnalysis2021\\EXTERNAL\\TESTING\\OLD\\TestNeuropyPipeline29.ipynb\">C:\\Users\\pho\\repos\\PhoPy3DPositionAnalysis2021\\EXTERNAL\\TESTING\\OLD\\TestNeuropyPipeline29.ipynb</a>"
      ],
      "text/plain": [
       "<IPython.core.display.HTML object>"
      ]
     },
     "metadata": {},
     "output_type": "display_data"
    },
    {
     "data": {
      "text/html": [
       "<a href=\"C:\\Users\\pho\\repos\\PhoPy3DPositionAnalysis2021\\EXTERNAL\\TESTING\\OLD\\TestNeuropyPipeline3.ipynb\">C:\\Users\\pho\\repos\\PhoPy3DPositionAnalysis2021\\EXTERNAL\\TESTING\\OLD\\TestNeuropyPipeline3.ipynb</a>"
      ],
      "text/plain": [
       "<IPython.core.display.HTML object>"
      ]
     },
     "metadata": {},
     "output_type": "display_data"
    },
    {
     "data": {
      "text/html": [
       "<a href=\"C:\\Users\\pho\\repos\\PhoPy3DPositionAnalysis2021\\EXTERNAL\\TESTING\\OLD\\TestNeuropyPipeline30.ipynb\">C:\\Users\\pho\\repos\\PhoPy3DPositionAnalysis2021\\EXTERNAL\\TESTING\\OLD\\TestNeuropyPipeline30.ipynb</a>"
      ],
      "text/plain": [
       "<IPython.core.display.HTML object>"
      ]
     },
     "metadata": {},
     "output_type": "display_data"
    },
    {
     "data": {
      "text/html": [
       "<a href=\"C:\\Users\\pho\\repos\\PhoPy3DPositionAnalysis2021\\EXTERNAL\\TESTING\\OLD\\TestNeuropyPipeline31.ipynb\">C:\\Users\\pho\\repos\\PhoPy3DPositionAnalysis2021\\EXTERNAL\\TESTING\\OLD\\TestNeuropyPipeline31.ipynb</a>"
      ],
      "text/plain": [
       "<IPython.core.display.HTML object>"
      ]
     },
     "metadata": {},
     "output_type": "display_data"
    },
    {
     "data": {
      "text/html": [
       "<a href=\"C:\\Users\\pho\\repos\\PhoPy3DPositionAnalysis2021\\EXTERNAL\\TESTING\\OLD\\TestNeuropyPipeline32.ipynb\">C:\\Users\\pho\\repos\\PhoPy3DPositionAnalysis2021\\EXTERNAL\\TESTING\\OLD\\TestNeuropyPipeline32.ipynb</a>"
      ],
      "text/plain": [
       "<IPython.core.display.HTML object>"
      ]
     },
     "metadata": {},
     "output_type": "display_data"
    },
    {
     "data": {
      "text/html": [
       "<a href=\"C:\\Users\\pho\\repos\\PhoPy3DPositionAnalysis2021\\EXTERNAL\\TESTING\\OLD\\TestNeuropyPipeline33.ipynb\">C:\\Users\\pho\\repos\\PhoPy3DPositionAnalysis2021\\EXTERNAL\\TESTING\\OLD\\TestNeuropyPipeline33.ipynb</a>"
      ],
      "text/plain": [
       "<IPython.core.display.HTML object>"
      ]
     },
     "metadata": {},
     "output_type": "display_data"
    },
    {
     "data": {
      "text/html": [
       "<a href=\"C:\\Users\\pho\\repos\\PhoPy3DPositionAnalysis2021\\EXTERNAL\\TESTING\\OLD\\TestNeuropyPipeline34.ipynb\">C:\\Users\\pho\\repos\\PhoPy3DPositionAnalysis2021\\EXTERNAL\\TESTING\\OLD\\TestNeuropyPipeline34.ipynb</a>"
      ],
      "text/plain": [
       "<IPython.core.display.HTML object>"
      ]
     },
     "metadata": {},
     "output_type": "display_data"
    },
    {
     "data": {
      "text/html": [
       "<a href=\"C:\\Users\\pho\\repos\\PhoPy3DPositionAnalysis2021\\EXTERNAL\\TESTING\\OLD\\TestNeuropyPipeline35.ipynb\">C:\\Users\\pho\\repos\\PhoPy3DPositionAnalysis2021\\EXTERNAL\\TESTING\\OLD\\TestNeuropyPipeline35.ipynb</a>"
      ],
      "text/plain": [
       "<IPython.core.display.HTML object>"
      ]
     },
     "metadata": {},
     "output_type": "display_data"
    },
    {
     "data": {
      "text/html": [
       "<a href=\"C:\\Users\\pho\\repos\\PhoPy3DPositionAnalysis2021\\EXTERNAL\\TESTING\\OLD\\TestNeuropyPipeline36.ipynb\">C:\\Users\\pho\\repos\\PhoPy3DPositionAnalysis2021\\EXTERNAL\\TESTING\\OLD\\TestNeuropyPipeline36.ipynb</a>"
      ],
      "text/plain": [
       "<IPython.core.display.HTML object>"
      ]
     },
     "metadata": {},
     "output_type": "display_data"
    },
    {
     "data": {
      "text/html": [
       "<a href=\"C:\\Users\\pho\\repos\\PhoPy3DPositionAnalysis2021\\EXTERNAL\\TESTING\\OLD\\TestNeuropyPipeline37.ipynb\">C:\\Users\\pho\\repos\\PhoPy3DPositionAnalysis2021\\EXTERNAL\\TESTING\\OLD\\TestNeuropyPipeline37.ipynb</a>"
      ],
      "text/plain": [
       "<IPython.core.display.HTML object>"
      ]
     },
     "metadata": {},
     "output_type": "display_data"
    },
    {
     "data": {
      "text/html": [
       "<a href=\"C:\\Users\\pho\\repos\\PhoPy3DPositionAnalysis2021\\EXTERNAL\\TESTING\\OLD\\TestNeuropyPipeline38.ipynb\">C:\\Users\\pho\\repos\\PhoPy3DPositionAnalysis2021\\EXTERNAL\\TESTING\\OLD\\TestNeuropyPipeline38.ipynb</a>"
      ],
      "text/plain": [
       "<IPython.core.display.HTML object>"
      ]
     },
     "metadata": {},
     "output_type": "display_data"
    },
    {
     "data": {
      "text/html": [
       "<a href=\"C:\\Users\\pho\\repos\\PhoPy3DPositionAnalysis2021\\EXTERNAL\\TESTING\\OLD\\TestNeuropyPipeline39.ipynb\">C:\\Users\\pho\\repos\\PhoPy3DPositionAnalysis2021\\EXTERNAL\\TESTING\\OLD\\TestNeuropyPipeline39.ipynb</a>"
      ],
      "text/plain": [
       "<IPython.core.display.HTML object>"
      ]
     },
     "metadata": {},
     "output_type": "display_data"
    },
    {
     "data": {
      "text/html": [
       "<a href=\"C:\\Users\\pho\\repos\\PhoPy3DPositionAnalysis2021\\EXTERNAL\\TESTING\\OLD\\TestNeuropyPipeline4.ipynb\">C:\\Users\\pho\\repos\\PhoPy3DPositionAnalysis2021\\EXTERNAL\\TESTING\\OLD\\TestNeuropyPipeline4.ipynb</a>"
      ],
      "text/plain": [
       "<IPython.core.display.HTML object>"
      ]
     },
     "metadata": {},
     "output_type": "display_data"
    },
    {
     "data": {
      "text/html": [
       "<a href=\"C:\\Users\\pho\\repos\\PhoPy3DPositionAnalysis2021\\EXTERNAL\\TESTING\\OLD\\TestNeuropyPipeline40.ipynb\">C:\\Users\\pho\\repos\\PhoPy3DPositionAnalysis2021\\EXTERNAL\\TESTING\\OLD\\TestNeuropyPipeline40.ipynb</a>"
      ],
      "text/plain": [
       "<IPython.core.display.HTML object>"
      ]
     },
     "metadata": {},
     "output_type": "display_data"
    },
    {
     "data": {
      "text/html": [
       "<a href=\"C:\\Users\\pho\\repos\\PhoPy3DPositionAnalysis2021\\EXTERNAL\\TESTING\\OLD\\TestNeuropyPipeline41.ipynb\">C:\\Users\\pho\\repos\\PhoPy3DPositionAnalysis2021\\EXTERNAL\\TESTING\\OLD\\TestNeuropyPipeline41.ipynb</a>"
      ],
      "text/plain": [
       "<IPython.core.display.HTML object>"
      ]
     },
     "metadata": {},
     "output_type": "display_data"
    },
    {
     "data": {
      "text/html": [
       "<a href=\"C:\\Users\\pho\\repos\\PhoPy3DPositionAnalysis2021\\EXTERNAL\\TESTING\\OLD\\TestNeuropyPipeline42.ipynb\">C:\\Users\\pho\\repos\\PhoPy3DPositionAnalysis2021\\EXTERNAL\\TESTING\\OLD\\TestNeuropyPipeline42.ipynb</a>"
      ],
      "text/plain": [
       "<IPython.core.display.HTML object>"
      ]
     },
     "metadata": {},
     "output_type": "display_data"
    },
    {
     "data": {
      "text/html": [
       "<a href=\"C:\\Users\\pho\\repos\\PhoPy3DPositionAnalysis2021\\EXTERNAL\\TESTING\\OLD\\TestNeuropyPipeline43.ipynb\">C:\\Users\\pho\\repos\\PhoPy3DPositionAnalysis2021\\EXTERNAL\\TESTING\\OLD\\TestNeuropyPipeline43.ipynb</a>"
      ],
      "text/plain": [
       "<IPython.core.display.HTML object>"
      ]
     },
     "metadata": {},
     "output_type": "display_data"
    },
    {
     "data": {
      "text/html": [
       "<a href=\"C:\\Users\\pho\\repos\\PhoPy3DPositionAnalysis2021\\EXTERNAL\\TESTING\\OLD\\TestNeuropyPipeline44.ipynb\">C:\\Users\\pho\\repos\\PhoPy3DPositionAnalysis2021\\EXTERNAL\\TESTING\\OLD\\TestNeuropyPipeline44.ipynb</a>"
      ],
      "text/plain": [
       "<IPython.core.display.HTML object>"
      ]
     },
     "metadata": {},
     "output_type": "display_data"
    },
    {
     "data": {
      "text/html": [
       "<a href=\"C:\\Users\\pho\\repos\\PhoPy3DPositionAnalysis2021\\EXTERNAL\\TESTING\\OLD\\TestNeuropyPipeline45.ipynb\">C:\\Users\\pho\\repos\\PhoPy3DPositionAnalysis2021\\EXTERNAL\\TESTING\\OLD\\TestNeuropyPipeline45.ipynb</a>"
      ],
      "text/plain": [
       "<IPython.core.display.HTML object>"
      ]
     },
     "metadata": {},
     "output_type": "display_data"
    },
    {
     "data": {
      "text/html": [
       "<a href=\"C:\\Users\\pho\\repos\\PhoPy3DPositionAnalysis2021\\EXTERNAL\\TESTING\\OLD\\TestNeuropyPipeline46.ipynb\">C:\\Users\\pho\\repos\\PhoPy3DPositionAnalysis2021\\EXTERNAL\\TESTING\\OLD\\TestNeuropyPipeline46.ipynb</a>"
      ],
      "text/plain": [
       "<IPython.core.display.HTML object>"
      ]
     },
     "metadata": {},
     "output_type": "display_data"
    },
    {
     "data": {
      "text/html": [
       "<a href=\"C:\\Users\\pho\\repos\\PhoPy3DPositionAnalysis2021\\EXTERNAL\\TESTING\\OLD\\TestNeuropyPipeline47.ipynb\">C:\\Users\\pho\\repos\\PhoPy3DPositionAnalysis2021\\EXTERNAL\\TESTING\\OLD\\TestNeuropyPipeline47.ipynb</a>"
      ],
      "text/plain": [
       "<IPython.core.display.HTML object>"
      ]
     },
     "metadata": {},
     "output_type": "display_data"
    },
    {
     "data": {
      "text/html": [
       "<a href=\"C:\\Users\\pho\\repos\\PhoPy3DPositionAnalysis2021\\EXTERNAL\\TESTING\\OLD\\TestNeuropyPipeline48.ipynb\">C:\\Users\\pho\\repos\\PhoPy3DPositionAnalysis2021\\EXTERNAL\\TESTING\\OLD\\TestNeuropyPipeline48.ipynb</a>"
      ],
      "text/plain": [
       "<IPython.core.display.HTML object>"
      ]
     },
     "metadata": {},
     "output_type": "display_data"
    },
    {
     "data": {
      "text/html": [
       "<a href=\"C:\\Users\\pho\\repos\\PhoPy3DPositionAnalysis2021\\EXTERNAL\\TESTING\\OLD\\TestNeuropyPipeline49.ipynb\">C:\\Users\\pho\\repos\\PhoPy3DPositionAnalysis2021\\EXTERNAL\\TESTING\\OLD\\TestNeuropyPipeline49.ipynb</a>"
      ],
      "text/plain": [
       "<IPython.core.display.HTML object>"
      ]
     },
     "metadata": {},
     "output_type": "display_data"
    },
    {
     "data": {
      "text/html": [
       "<a href=\"C:\\Users\\pho\\repos\\PhoPy3DPositionAnalysis2021\\EXTERNAL\\TESTING\\OLD\\TestNeuropyPipeline5.ipynb\">C:\\Users\\pho\\repos\\PhoPy3DPositionAnalysis2021\\EXTERNAL\\TESTING\\OLD\\TestNeuropyPipeline5.ipynb</a>"
      ],
      "text/plain": [
       "<IPython.core.display.HTML object>"
      ]
     },
     "metadata": {},
     "output_type": "display_data"
    },
    {
     "data": {
      "text/html": [
       "<a href=\"C:\\Users\\pho\\repos\\PhoPy3DPositionAnalysis2021\\EXTERNAL\\TESTING\\OLD\\TestNeuropyPipeline50.ipynb\">C:\\Users\\pho\\repos\\PhoPy3DPositionAnalysis2021\\EXTERNAL\\TESTING\\OLD\\TestNeuropyPipeline50.ipynb</a>"
      ],
      "text/plain": [
       "<IPython.core.display.HTML object>"
      ]
     },
     "metadata": {},
     "output_type": "display_data"
    },
    {
     "data": {
      "text/html": [
       "<a href=\"C:\\Users\\pho\\repos\\PhoPy3DPositionAnalysis2021\\EXTERNAL\\TESTING\\OLD\\TestNeuropyPipeline51.ipynb\">C:\\Users\\pho\\repos\\PhoPy3DPositionAnalysis2021\\EXTERNAL\\TESTING\\OLD\\TestNeuropyPipeline51.ipynb</a>"
      ],
      "text/plain": [
       "<IPython.core.display.HTML object>"
      ]
     },
     "metadata": {},
     "output_type": "display_data"
    },
    {
     "data": {
      "text/html": [
       "<a href=\"C:\\Users\\pho\\repos\\PhoPy3DPositionAnalysis2021\\EXTERNAL\\TESTING\\OLD\\TestNeuropyPipeline52.ipynb\">C:\\Users\\pho\\repos\\PhoPy3DPositionAnalysis2021\\EXTERNAL\\TESTING\\OLD\\TestNeuropyPipeline52.ipynb</a>"
      ],
      "text/plain": [
       "<IPython.core.display.HTML object>"
      ]
     },
     "metadata": {},
     "output_type": "display_data"
    },
    {
     "data": {
      "text/html": [
       "<a href=\"C:\\Users\\pho\\repos\\PhoPy3DPositionAnalysis2021\\EXTERNAL\\TESTING\\OLD\\TestNeuropyPipeline53.ipynb\">C:\\Users\\pho\\repos\\PhoPy3DPositionAnalysis2021\\EXTERNAL\\TESTING\\OLD\\TestNeuropyPipeline53.ipynb</a>"
      ],
      "text/plain": [
       "<IPython.core.display.HTML object>"
      ]
     },
     "metadata": {},
     "output_type": "display_data"
    },
    {
     "data": {
      "text/html": [
       "<a href=\"C:\\Users\\pho\\repos\\PhoPy3DPositionAnalysis2021\\EXTERNAL\\TESTING\\OLD\\TestNeuropyPipeline54.ipynb\">C:\\Users\\pho\\repos\\PhoPy3DPositionAnalysis2021\\EXTERNAL\\TESTING\\OLD\\TestNeuropyPipeline54.ipynb</a>"
      ],
      "text/plain": [
       "<IPython.core.display.HTML object>"
      ]
     },
     "metadata": {},
     "output_type": "display_data"
    },
    {
     "data": {
      "text/html": [
       "<a href=\"C:\\Users\\pho\\repos\\PhoPy3DPositionAnalysis2021\\EXTERNAL\\TESTING\\OLD\\TestNeuropyPipeline55.ipynb\">C:\\Users\\pho\\repos\\PhoPy3DPositionAnalysis2021\\EXTERNAL\\TESTING\\OLD\\TestNeuropyPipeline55.ipynb</a>"
      ],
      "text/plain": [
       "<IPython.core.display.HTML object>"
      ]
     },
     "metadata": {},
     "output_type": "display_data"
    },
    {
     "data": {
      "text/html": [
       "<a href=\"C:\\Users\\pho\\repos\\PhoPy3DPositionAnalysis2021\\EXTERNAL\\TESTING\\OLD\\TestNeuropyPipeline56.ipynb\">C:\\Users\\pho\\repos\\PhoPy3DPositionAnalysis2021\\EXTERNAL\\TESTING\\OLD\\TestNeuropyPipeline56.ipynb</a>"
      ],
      "text/plain": [
       "<IPython.core.display.HTML object>"
      ]
     },
     "metadata": {},
     "output_type": "display_data"
    },
    {
     "data": {
      "text/html": [
       "<a href=\"C:\\Users\\pho\\repos\\PhoPy3DPositionAnalysis2021\\EXTERNAL\\TESTING\\OLD\\TestNeuropyPipeline57.ipynb\">C:\\Users\\pho\\repos\\PhoPy3DPositionAnalysis2021\\EXTERNAL\\TESTING\\OLD\\TestNeuropyPipeline57.ipynb</a>"
      ],
      "text/plain": [
       "<IPython.core.display.HTML object>"
      ]
     },
     "metadata": {},
     "output_type": "display_data"
    },
    {
     "data": {
      "text/html": [
       "<a href=\"C:\\Users\\pho\\repos\\PhoPy3DPositionAnalysis2021\\EXTERNAL\\TESTING\\OLD\\TestNeuropyPipeline58.ipynb\">C:\\Users\\pho\\repos\\PhoPy3DPositionAnalysis2021\\EXTERNAL\\TESTING\\OLD\\TestNeuropyPipeline58.ipynb</a>"
      ],
      "text/plain": [
       "<IPython.core.display.HTML object>"
      ]
     },
     "metadata": {},
     "output_type": "display_data"
    },
    {
     "data": {
      "text/html": [
       "<a href=\"C:\\Users\\pho\\repos\\PhoPy3DPositionAnalysis2021\\EXTERNAL\\TESTING\\OLD\\TestNeuropyPipeline59.ipynb\">C:\\Users\\pho\\repos\\PhoPy3DPositionAnalysis2021\\EXTERNAL\\TESTING\\OLD\\TestNeuropyPipeline59.ipynb</a>"
      ],
      "text/plain": [
       "<IPython.core.display.HTML object>"
      ]
     },
     "metadata": {},
     "output_type": "display_data"
    },
    {
     "data": {
      "text/html": [
       "<a href=\"C:\\Users\\pho\\repos\\PhoPy3DPositionAnalysis2021\\EXTERNAL\\TESTING\\OLD\\TestNeuropyPipeline6.ipynb\">C:\\Users\\pho\\repos\\PhoPy3DPositionAnalysis2021\\EXTERNAL\\TESTING\\OLD\\TestNeuropyPipeline6.ipynb</a>"
      ],
      "text/plain": [
       "<IPython.core.display.HTML object>"
      ]
     },
     "metadata": {},
     "output_type": "display_data"
    },
    {
     "data": {
      "text/html": [
       "<a href=\"C:\\Users\\pho\\repos\\PhoPy3DPositionAnalysis2021\\EXTERNAL\\TESTING\\OLD\\TestNeuropyPipeline60.ipynb\">C:\\Users\\pho\\repos\\PhoPy3DPositionAnalysis2021\\EXTERNAL\\TESTING\\OLD\\TestNeuropyPipeline60.ipynb</a>"
      ],
      "text/plain": [
       "<IPython.core.display.HTML object>"
      ]
     },
     "metadata": {},
     "output_type": "display_data"
    },
    {
     "data": {
      "text/html": [
       "<a href=\"C:\\Users\\pho\\repos\\PhoPy3DPositionAnalysis2021\\EXTERNAL\\TESTING\\OLD\\TestNeuropyPipeline61.ipynb\">C:\\Users\\pho\\repos\\PhoPy3DPositionAnalysis2021\\EXTERNAL\\TESTING\\OLD\\TestNeuropyPipeline61.ipynb</a>"
      ],
      "text/plain": [
       "<IPython.core.display.HTML object>"
      ]
     },
     "metadata": {},
     "output_type": "display_data"
    },
    {
     "data": {
      "text/html": [
       "<a href=\"C:\\Users\\pho\\repos\\PhoPy3DPositionAnalysis2021\\EXTERNAL\\TESTING\\OLD\\TestNeuropyPipeline62.ipynb\">C:\\Users\\pho\\repos\\PhoPy3DPositionAnalysis2021\\EXTERNAL\\TESTING\\OLD\\TestNeuropyPipeline62.ipynb</a>"
      ],
      "text/plain": [
       "<IPython.core.display.HTML object>"
      ]
     },
     "metadata": {},
     "output_type": "display_data"
    },
    {
     "data": {
      "text/html": [
       "<a href=\"C:\\Users\\pho\\repos\\PhoPy3DPositionAnalysis2021\\EXTERNAL\\TESTING\\OLD\\TestNeuropyPipeline63.ipynb\">C:\\Users\\pho\\repos\\PhoPy3DPositionAnalysis2021\\EXTERNAL\\TESTING\\OLD\\TestNeuropyPipeline63.ipynb</a>"
      ],
      "text/plain": [
       "<IPython.core.display.HTML object>"
      ]
     },
     "metadata": {},
     "output_type": "display_data"
    },
    {
     "data": {
      "text/html": [
       "<a href=\"C:\\Users\\pho\\repos\\PhoPy3DPositionAnalysis2021\\EXTERNAL\\TESTING\\OLD\\TestNeuropyPipeline64.ipynb\">C:\\Users\\pho\\repos\\PhoPy3DPositionAnalysis2021\\EXTERNAL\\TESTING\\OLD\\TestNeuropyPipeline64.ipynb</a>"
      ],
      "text/plain": [
       "<IPython.core.display.HTML object>"
      ]
     },
     "metadata": {},
     "output_type": "display_data"
    },
    {
     "data": {
      "text/html": [
       "<a href=\"C:\\Users\\pho\\repos\\PhoPy3DPositionAnalysis2021\\EXTERNAL\\TESTING\\OLD\\TestNeuropyPipeline65.ipynb\">C:\\Users\\pho\\repos\\PhoPy3DPositionAnalysis2021\\EXTERNAL\\TESTING\\OLD\\TestNeuropyPipeline65.ipynb</a>"
      ],
      "text/plain": [
       "<IPython.core.display.HTML object>"
      ]
     },
     "metadata": {},
     "output_type": "display_data"
    },
    {
     "data": {
      "text/html": [
       "<a href=\"C:\\Users\\pho\\repos\\PhoPy3DPositionAnalysis2021\\EXTERNAL\\TESTING\\OLD\\TestNeuropyPipeline66.ipynb\">C:\\Users\\pho\\repos\\PhoPy3DPositionAnalysis2021\\EXTERNAL\\TESTING\\OLD\\TestNeuropyPipeline66.ipynb</a>"
      ],
      "text/plain": [
       "<IPython.core.display.HTML object>"
      ]
     },
     "metadata": {},
     "output_type": "display_data"
    },
    {
     "data": {
      "text/html": [
       "<a href=\"C:\\Users\\pho\\repos\\PhoPy3DPositionAnalysis2021\\EXTERNAL\\TESTING\\OLD\\TestNeuropyPipeline67.ipynb\">C:\\Users\\pho\\repos\\PhoPy3DPositionAnalysis2021\\EXTERNAL\\TESTING\\OLD\\TestNeuropyPipeline67.ipynb</a>"
      ],
      "text/plain": [
       "<IPython.core.display.HTML object>"
      ]
     },
     "metadata": {},
     "output_type": "display_data"
    },
    {
     "data": {
      "text/html": [
       "<a href=\"C:\\Users\\pho\\repos\\PhoPy3DPositionAnalysis2021\\EXTERNAL\\TESTING\\OLD\\TestNeuropyPipeline68.ipynb\">C:\\Users\\pho\\repos\\PhoPy3DPositionAnalysis2021\\EXTERNAL\\TESTING\\OLD\\TestNeuropyPipeline68.ipynb</a>"
      ],
      "text/plain": [
       "<IPython.core.display.HTML object>"
      ]
     },
     "metadata": {},
     "output_type": "display_data"
    },
    {
     "data": {
      "text/html": [
       "<a href=\"C:\\Users\\pho\\repos\\PhoPy3DPositionAnalysis2021\\EXTERNAL\\TESTING\\OLD\\TestNeuropyPipeline69.ipynb\">C:\\Users\\pho\\repos\\PhoPy3DPositionAnalysis2021\\EXTERNAL\\TESTING\\OLD\\TestNeuropyPipeline69.ipynb</a>"
      ],
      "text/plain": [
       "<IPython.core.display.HTML object>"
      ]
     },
     "metadata": {},
     "output_type": "display_data"
    },
    {
     "data": {
      "text/html": [
       "<a href=\"C:\\Users\\pho\\repos\\PhoPy3DPositionAnalysis2021\\EXTERNAL\\TESTING\\OLD\\TestNeuropyPipeline7.ipynb\">C:\\Users\\pho\\repos\\PhoPy3DPositionAnalysis2021\\EXTERNAL\\TESTING\\OLD\\TestNeuropyPipeline7.ipynb</a>"
      ],
      "text/plain": [
       "<IPython.core.display.HTML object>"
      ]
     },
     "metadata": {},
     "output_type": "display_data"
    },
    {
     "data": {
      "text/html": [
       "<a href=\"C:\\Users\\pho\\repos\\PhoPy3DPositionAnalysis2021\\EXTERNAL\\TESTING\\OLD\\TestNeuropyPipeline70.ipynb\">C:\\Users\\pho\\repos\\PhoPy3DPositionAnalysis2021\\EXTERNAL\\TESTING\\OLD\\TestNeuropyPipeline70.ipynb</a>"
      ],
      "text/plain": [
       "<IPython.core.display.HTML object>"
      ]
     },
     "metadata": {},
     "output_type": "display_data"
    },
    {
     "data": {
      "text/html": [
       "<a href=\"C:\\Users\\pho\\repos\\PhoPy3DPositionAnalysis2021\\EXTERNAL\\TESTING\\OLD\\TestNeuropyPipeline71.ipynb\">C:\\Users\\pho\\repos\\PhoPy3DPositionAnalysis2021\\EXTERNAL\\TESTING\\OLD\\TestNeuropyPipeline71.ipynb</a>"
      ],
      "text/plain": [
       "<IPython.core.display.HTML object>"
      ]
     },
     "metadata": {},
     "output_type": "display_data"
    },
    {
     "data": {
      "text/html": [
       "<a href=\"C:\\Users\\pho\\repos\\PhoPy3DPositionAnalysis2021\\EXTERNAL\\TESTING\\OLD\\TestNeuropyPipeline72.ipynb\">C:\\Users\\pho\\repos\\PhoPy3DPositionAnalysis2021\\EXTERNAL\\TESTING\\OLD\\TestNeuropyPipeline72.ipynb</a>"
      ],
      "text/plain": [
       "<IPython.core.display.HTML object>"
      ]
     },
     "metadata": {},
     "output_type": "display_data"
    },
    {
     "data": {
      "text/html": [
       "<a href=\"C:\\Users\\pho\\repos\\PhoPy3DPositionAnalysis2021\\EXTERNAL\\TESTING\\OLD\\TestNeuropyPipeline73.ipynb\">C:\\Users\\pho\\repos\\PhoPy3DPositionAnalysis2021\\EXTERNAL\\TESTING\\OLD\\TestNeuropyPipeline73.ipynb</a>"
      ],
      "text/plain": [
       "<IPython.core.display.HTML object>"
      ]
     },
     "metadata": {},
     "output_type": "display_data"
    },
    {
     "data": {
      "text/html": [
       "<a href=\"C:\\Users\\pho\\repos\\PhoPy3DPositionAnalysis2021\\EXTERNAL\\TESTING\\OLD\\TestNeuropyPipeline74.ipynb\">C:\\Users\\pho\\repos\\PhoPy3DPositionAnalysis2021\\EXTERNAL\\TESTING\\OLD\\TestNeuropyPipeline74.ipynb</a>"
      ],
      "text/plain": [
       "<IPython.core.display.HTML object>"
      ]
     },
     "metadata": {},
     "output_type": "display_data"
    },
    {
     "data": {
      "text/html": [
       "<a href=\"C:\\Users\\pho\\repos\\PhoPy3DPositionAnalysis2021\\EXTERNAL\\TESTING\\OLD\\TestNeuropyPipeline75.ipynb\">C:\\Users\\pho\\repos\\PhoPy3DPositionAnalysis2021\\EXTERNAL\\TESTING\\OLD\\TestNeuropyPipeline75.ipynb</a>"
      ],
      "text/plain": [
       "<IPython.core.display.HTML object>"
      ]
     },
     "metadata": {},
     "output_type": "display_data"
    },
    {
     "data": {
      "text/html": [
       "<a href=\"C:\\Users\\pho\\repos\\PhoPy3DPositionAnalysis2021\\EXTERNAL\\TESTING\\OLD\\TestNeuropyPipeline76.ipynb\">C:\\Users\\pho\\repos\\PhoPy3DPositionAnalysis2021\\EXTERNAL\\TESTING\\OLD\\TestNeuropyPipeline76.ipynb</a>"
      ],
      "text/plain": [
       "<IPython.core.display.HTML object>"
      ]
     },
     "metadata": {},
     "output_type": "display_data"
    },
    {
     "data": {
      "text/html": [
       "<a href=\"C:\\Users\\pho\\repos\\PhoPy3DPositionAnalysis2021\\EXTERNAL\\TESTING\\OLD\\TestNeuropyPipeline77.ipynb\">C:\\Users\\pho\\repos\\PhoPy3DPositionAnalysis2021\\EXTERNAL\\TESTING\\OLD\\TestNeuropyPipeline77.ipynb</a>"
      ],
      "text/plain": [
       "<IPython.core.display.HTML object>"
      ]
     },
     "metadata": {},
     "output_type": "display_data"
    },
    {
     "data": {
      "text/html": [
       "<a href=\"C:\\Users\\pho\\repos\\PhoPy3DPositionAnalysis2021\\EXTERNAL\\TESTING\\OLD\\TestNeuropyPipeline78.ipynb\">C:\\Users\\pho\\repos\\PhoPy3DPositionAnalysis2021\\EXTERNAL\\TESTING\\OLD\\TestNeuropyPipeline78.ipynb</a>"
      ],
      "text/plain": [
       "<IPython.core.display.HTML object>"
      ]
     },
     "metadata": {},
     "output_type": "display_data"
    },
    {
     "data": {
      "text/html": [
       "<a href=\"C:\\Users\\pho\\repos\\PhoPy3DPositionAnalysis2021\\EXTERNAL\\TESTING\\OLD\\TestNeuropyPipeline8.ipynb\">C:\\Users\\pho\\repos\\PhoPy3DPositionAnalysis2021\\EXTERNAL\\TESTING\\OLD\\TestNeuropyPipeline8.ipynb</a>"
      ],
      "text/plain": [
       "<IPython.core.display.HTML object>"
      ]
     },
     "metadata": {},
     "output_type": "display_data"
    },
    {
     "data": {
      "text/html": [
       "<a href=\"C:\\Users\\pho\\repos\\PhoPy3DPositionAnalysis2021\\EXTERNAL\\TESTING\\OLD\\TestNeuropyPipeline80.ipynb\">C:\\Users\\pho\\repos\\PhoPy3DPositionAnalysis2021\\EXTERNAL\\TESTING\\OLD\\TestNeuropyPipeline80.ipynb</a>"
      ],
      "text/plain": [
       "<IPython.core.display.HTML object>"
      ]
     },
     "metadata": {},
     "output_type": "display_data"
    },
    {
     "data": {
      "text/html": [
       "<a href=\"C:\\Users\\pho\\repos\\PhoPy3DPositionAnalysis2021\\EXTERNAL\\TESTING\\OLD\\TestNeuropyPipeline81.ipynb\">C:\\Users\\pho\\repos\\PhoPy3DPositionAnalysis2021\\EXTERNAL\\TESTING\\OLD\\TestNeuropyPipeline81.ipynb</a>"
      ],
      "text/plain": [
       "<IPython.core.display.HTML object>"
      ]
     },
     "metadata": {},
     "output_type": "display_data"
    },
    {
     "data": {
      "text/html": [
       "<a href=\"C:\\Users\\pho\\repos\\PhoPy3DPositionAnalysis2021\\EXTERNAL\\TESTING\\OLD\\TestNeuropyPipeline82.ipynb\">C:\\Users\\pho\\repos\\PhoPy3DPositionAnalysis2021\\EXTERNAL\\TESTING\\OLD\\TestNeuropyPipeline82.ipynb</a>"
      ],
      "text/plain": [
       "<IPython.core.display.HTML object>"
      ]
     },
     "metadata": {},
     "output_type": "display_data"
    },
    {
     "data": {
      "text/html": [
       "<a href=\"C:\\Users\\pho\\repos\\PhoPy3DPositionAnalysis2021\\EXTERNAL\\TESTING\\OLD\\TestNeuropyPipeline83.ipynb\">C:\\Users\\pho\\repos\\PhoPy3DPositionAnalysis2021\\EXTERNAL\\TESTING\\OLD\\TestNeuropyPipeline83.ipynb</a>"
      ],
      "text/plain": [
       "<IPython.core.display.HTML object>"
      ]
     },
     "metadata": {},
     "output_type": "display_data"
    },
    {
     "data": {
      "text/html": [
       "<a href=\"C:\\Users\\pho\\repos\\PhoPy3DPositionAnalysis2021\\EXTERNAL\\TESTING\\OLD\\TestNeuropyPipeline84.ipynb\">C:\\Users\\pho\\repos\\PhoPy3DPositionAnalysis2021\\EXTERNAL\\TESTING\\OLD\\TestNeuropyPipeline84.ipynb</a>"
      ],
      "text/plain": [
       "<IPython.core.display.HTML object>"
      ]
     },
     "metadata": {},
     "output_type": "display_data"
    },
    {
     "data": {
      "text/html": [
       "<a href=\"C:\\Users\\pho\\repos\\PhoPy3DPositionAnalysis2021\\EXTERNAL\\TESTING\\OLD\\TestNeuropyPipeline85.ipynb\">C:\\Users\\pho\\repos\\PhoPy3DPositionAnalysis2021\\EXTERNAL\\TESTING\\OLD\\TestNeuropyPipeline85.ipynb</a>"
      ],
      "text/plain": [
       "<IPython.core.display.HTML object>"
      ]
     },
     "metadata": {},
     "output_type": "display_data"
    },
    {
     "data": {
      "text/html": [
       "<a href=\"C:\\Users\\pho\\repos\\PhoPy3DPositionAnalysis2021\\EXTERNAL\\TESTING\\OLD\\TestNeuropyPipeline86.ipynb\">C:\\Users\\pho\\repos\\PhoPy3DPositionAnalysis2021\\EXTERNAL\\TESTING\\OLD\\TestNeuropyPipeline86.ipynb</a>"
      ],
      "text/plain": [
       "<IPython.core.display.HTML object>"
      ]
     },
     "metadata": {},
     "output_type": "display_data"
    },
    {
     "data": {
      "text/html": [
       "<a href=\"C:\\Users\\pho\\repos\\PhoPy3DPositionAnalysis2021\\EXTERNAL\\TESTING\\OLD\\TestNeuropyPipeline87.ipynb\">C:\\Users\\pho\\repos\\PhoPy3DPositionAnalysis2021\\EXTERNAL\\TESTING\\OLD\\TestNeuropyPipeline87.ipynb</a>"
      ],
      "text/plain": [
       "<IPython.core.display.HTML object>"
      ]
     },
     "metadata": {},
     "output_type": "display_data"
    },
    {
     "data": {
      "text/html": [
       "<a href=\"C:\\Users\\pho\\repos\\PhoPy3DPositionAnalysis2021\\EXTERNAL\\TESTING\\OLD\\TestNeuropyPipeline88.ipynb\">C:\\Users\\pho\\repos\\PhoPy3DPositionAnalysis2021\\EXTERNAL\\TESTING\\OLD\\TestNeuropyPipeline88.ipynb</a>"
      ],
      "text/plain": [
       "<IPython.core.display.HTML object>"
      ]
     },
     "metadata": {},
     "output_type": "display_data"
    },
    {
     "data": {
      "text/html": [
       "<a href=\"C:\\Users\\pho\\repos\\PhoPy3DPositionAnalysis2021\\EXTERNAL\\TESTING\\OLD\\TestNeuropyPipeline89.ipynb\">C:\\Users\\pho\\repos\\PhoPy3DPositionAnalysis2021\\EXTERNAL\\TESTING\\OLD\\TestNeuropyPipeline89.ipynb</a>"
      ],
      "text/plain": [
       "<IPython.core.display.HTML object>"
      ]
     },
     "metadata": {},
     "output_type": "display_data"
    },
    {
     "data": {
      "text/html": [
       "<a href=\"C:\\Users\\pho\\repos\\PhoPy3DPositionAnalysis2021\\EXTERNAL\\TESTING\\OLD\\TestNeuropyPipeline9.ipynb\">C:\\Users\\pho\\repos\\PhoPy3DPositionAnalysis2021\\EXTERNAL\\TESTING\\OLD\\TestNeuropyPipeline9.ipynb</a>"
      ],
      "text/plain": [
       "<IPython.core.display.HTML object>"
      ]
     },
     "metadata": {},
     "output_type": "display_data"
    },
    {
     "data": {
      "text/html": [
       "<a href=\"C:\\Users\\pho\\repos\\PhoPy3DPositionAnalysis2021\\EXTERNAL\\TESTING\\OLD\\TestNeuropyPipeline90.ipynb\">C:\\Users\\pho\\repos\\PhoPy3DPositionAnalysis2021\\EXTERNAL\\TESTING\\OLD\\TestNeuropyPipeline90.ipynb</a>"
      ],
      "text/plain": [
       "<IPython.core.display.HTML object>"
      ]
     },
     "metadata": {},
     "output_type": "display_data"
    },
    {
     "data": {
      "text/html": [
       "<a href=\"C:\\Users\\pho\\repos\\PhoPy3DPositionAnalysis2021\\EXTERNAL\\TESTING\\OLD\\TestNeuropyPipeline91.ipynb\">C:\\Users\\pho\\repos\\PhoPy3DPositionAnalysis2021\\EXTERNAL\\TESTING\\OLD\\TestNeuropyPipeline91.ipynb</a>"
      ],
      "text/plain": [
       "<IPython.core.display.HTML object>"
      ]
     },
     "metadata": {},
     "output_type": "display_data"
    },
    {
     "data": {
      "text/html": [
       "<a href=\"C:\\Users\\pho\\repos\\PhoPy3DPositionAnalysis2021\\EXTERNAL\\TESTING\\OLD\\TestNeuropyPipeline92.ipynb\">C:\\Users\\pho\\repos\\PhoPy3DPositionAnalysis2021\\EXTERNAL\\TESTING\\OLD\\TestNeuropyPipeline92.ipynb</a>"
      ],
      "text/plain": [
       "<IPython.core.display.HTML object>"
      ]
     },
     "metadata": {},
     "output_type": "display_data"
    },
    {
     "data": {
      "text/html": [
       "<a href=\"C:\\Users\\pho\\repos\\PhoPy3DPositionAnalysis2021\\EXTERNAL\\TESTING\\OLD\\TestNeuropyPipeline93.ipynb\">C:\\Users\\pho\\repos\\PhoPy3DPositionAnalysis2021\\EXTERNAL\\TESTING\\OLD\\TestNeuropyPipeline93.ipynb</a>"
      ],
      "text/plain": [
       "<IPython.core.display.HTML object>"
      ]
     },
     "metadata": {},
     "output_type": "display_data"
    },
    {
     "data": {
      "text/html": [
       "<a href=\"C:\\Users\\pho\\repos\\PhoPy3DPositionAnalysis2021\\EXTERNAL\\TESTING\\OLD\\TestNeuropyPipeline94.ipynb\">C:\\Users\\pho\\repos\\PhoPy3DPositionAnalysis2021\\EXTERNAL\\TESTING\\OLD\\TestNeuropyPipeline94.ipynb</a>"
      ],
      "text/plain": [
       "<IPython.core.display.HTML object>"
      ]
     },
     "metadata": {},
     "output_type": "display_data"
    },
    {
     "data": {
      "text/html": [
       "<a href=\"C:\\Users\\pho\\repos\\PhoPy3DPositionAnalysis2021\\EXTERNAL\\TESTING\\OLD\\TestNeuropyPipeline95.ipynb\">C:\\Users\\pho\\repos\\PhoPy3DPositionAnalysis2021\\EXTERNAL\\TESTING\\OLD\\TestNeuropyPipeline95.ipynb</a>"
      ],
      "text/plain": [
       "<IPython.core.display.HTML object>"
      ]
     },
     "metadata": {},
     "output_type": "display_data"
    },
    {
     "data": {
      "text/html": [
       "<a href=\"C:\\Users\\pho\\repos\\PhoPy3DPositionAnalysis2021\\EXTERNAL\\TESTING\\OLD\\TestNeuropyPipeline96.ipynb\">C:\\Users\\pho\\repos\\PhoPy3DPositionAnalysis2021\\EXTERNAL\\TESTING\\OLD\\TestNeuropyPipeline96.ipynb</a>"
      ],
      "text/plain": [
       "<IPython.core.display.HTML object>"
      ]
     },
     "metadata": {},
     "output_type": "display_data"
    },
    {
     "data": {
      "text/html": [
       "<a href=\"C:\\Users\\pho\\repos\\PhoPy3DPositionAnalysis2021\\EXTERNAL\\TESTING\\OLD\\TestNeuropyPipeline97.ipynb\">C:\\Users\\pho\\repos\\PhoPy3DPositionAnalysis2021\\EXTERNAL\\TESTING\\OLD\\TestNeuropyPipeline97.ipynb</a>"
      ],
      "text/plain": [
       "<IPython.core.display.HTML object>"
      ]
     },
     "metadata": {},
     "output_type": "display_data"
    },
    {
     "data": {
      "text/html": [
       "<a href=\"C:\\Users\\pho\\repos\\PhoPy3DPositionAnalysis2021\\EXTERNAL\\TESTING\\OLD\\TestNeuropyPipeline98.ipynb\">C:\\Users\\pho\\repos\\PhoPy3DPositionAnalysis2021\\EXTERNAL\\TESTING\\OLD\\TestNeuropyPipeline98.ipynb</a>"
      ],
      "text/plain": [
       "<IPython.core.display.HTML object>"
      ]
     },
     "metadata": {},
     "output_type": "display_data"
    },
    {
     "data": {
      "text/html": [
       "<a href=\"C:\\Users\\pho\\repos\\PhoPy3DPositionAnalysis2021\\EXTERNAL\\TESTING\\OLD\\TestNeuropyPipeline99.ipynb\">C:\\Users\\pho\\repos\\PhoPy3DPositionAnalysis2021\\EXTERNAL\\TESTING\\OLD\\TestNeuropyPipeline99.ipynb</a>"
      ],
      "text/plain": [
       "<IPython.core.display.HTML object>"
      ]
     },
     "metadata": {},
     "output_type": "display_data"
    },
    {
     "data": {
      "text/html": [
       "<a href=\"C:\\Users\\pho\\repos\\PhoPy3DPositionAnalysis2021\\EXTERNAL\\TESTING\\OLD\\TestNeuropyPipleine.ipynb\">C:\\Users\\pho\\repos\\PhoPy3DPositionAnalysis2021\\EXTERNAL\\TESTING\\OLD\\TestNeuropyPipleine.ipynb</a>"
      ],
      "text/plain": [
       "<IPython.core.display.HTML object>"
      ]
     },
     "metadata": {},
     "output_type": "display_data"
    },
    {
     "data": {
      "text/html": [
       "<a href=\"C:\\Users\\pho\\repos\\PhoPy3DPositionAnalysis2021\\EXTERNAL\\TESTING\\OLD\\UnifiedSpikeRasterApp_SynchronizedWidgetsTesting.ipynb\">C:\\Users\\pho\\repos\\PhoPy3DPositionAnalysis2021\\EXTERNAL\\TESTING\\OLD\\UnifiedSpikeRasterApp_SynchronizedWidgetsTesting.ipynb</a>"
      ],
      "text/plain": [
       "<IPython.core.display.HTML object>"
      ]
     },
     "metadata": {},
     "output_type": "display_data"
    },
    {
     "data": {
      "text/html": [
       "<a href=\"C:\\Users\\pho\\repos\\PhoPy3DPositionAnalysis2021\\EXTERNAL\\TESTING\\OLD\\BatchGenerateOutupts-lab-baks\\BatchGenerateOutupts-2022-12-07-bak.ipynb\">C:\\Users\\pho\\repos\\PhoPy3DPositionAnalysis2021\\EXTERNAL\\TESTING\\OLD\\BatchGenerateOutupts-lab-baks\\BatchGenerateOutupts-2022-12-07-bak.ipynb</a>"
      ],
      "text/plain": [
       "<IPython.core.display.HTML object>"
      ]
     },
     "metadata": {},
     "output_type": "display_data"
    },
    {
     "data": {
      "text/html": [
       "<a href=\"C:\\Users\\pho\\repos\\PhoPy3DPositionAnalysis2021\\EXTERNAL\\TESTING\\testing_notebooks\\AdvancedDictionaryClassExploration.ipynb\">C:\\Users\\pho\\repos\\PhoPy3DPositionAnalysis2021\\EXTERNAL\\TESTING\\testing_notebooks\\AdvancedDictionaryClassExploration.ipynb</a>"
      ],
      "text/plain": [
       "<IPython.core.display.HTML object>"
      ]
     },
     "metadata": {},
     "output_type": "display_data"
    },
    {
     "data": {
      "text/html": [
       "<a href=\"C:\\Users\\pho\\repos\\PhoPy3DPositionAnalysis2021\\EXTERNAL\\TESTING\\testing_notebooks\\BapunDataSessionFolderLoadingTests.ipynb\">C:\\Users\\pho\\repos\\PhoPy3DPositionAnalysis2021\\EXTERNAL\\TESTING\\testing_notebooks\\BapunDataSessionFolderLoadingTests.ipynb</a>"
      ],
      "text/plain": [
       "<IPython.core.display.HTML object>"
      ]
     },
     "metadata": {},
     "output_type": "display_data"
    },
    {
     "data": {
      "text/html": [
       "<a href=\"C:\\Users\\pho\\repos\\PhoPy3DPositionAnalysis2021\\EXTERNAL\\TESTING\\testing_notebooks\\BatchGenerateOutupts-2022-12-15.ipynb\">C:\\Users\\pho\\repos\\PhoPy3DPositionAnalysis2021\\EXTERNAL\\TESTING\\testing_notebooks\\BatchGenerateOutupts-2022-12-15.ipynb</a>"
      ],
      "text/plain": [
       "<IPython.core.display.HTML object>"
      ]
     },
     "metadata": {},
     "output_type": "display_data"
    },
    {
     "data": {
      "text/html": [
       "<a href=\"C:\\Users\\pho\\repos\\PhoPy3DPositionAnalysis2021\\EXTERNAL\\TESTING\\testing_notebooks\\CustomColormapVariation.ipynb\">C:\\Users\\pho\\repos\\PhoPy3DPositionAnalysis2021\\EXTERNAL\\TESTING\\testing_notebooks\\CustomColormapVariation.ipynb</a>"
      ],
      "text/plain": [
       "<IPython.core.display.HTML object>"
      ]
     },
     "metadata": {},
     "output_type": "display_data"
    },
    {
     "data": {
      "text/html": [
       "<a href=\"C:\\Users\\pho\\repos\\PhoPy3DPositionAnalysis2021\\EXTERNAL\\TESTING\\testing_notebooks\\CustomExceptionStacktraceHandling.ipynb\">C:\\Users\\pho\\repos\\PhoPy3DPositionAnalysis2021\\EXTERNAL\\TESTING\\testing_notebooks\\CustomExceptionStacktraceHandling.ipynb</a>"
      ],
      "text/plain": [
       "<IPython.core.display.HTML object>"
      ]
     },
     "metadata": {},
     "output_type": "display_data"
    },
    {
     "data": {
      "text/html": [
       "<a href=\"C:\\Users\\pho\\repos\\PhoPy3DPositionAnalysis2021\\EXTERNAL\\TESTING\\testing_notebooks\\Custom_ComputationResults_DataTreeWidget.ipynb\">C:\\Users\\pho\\repos\\PhoPy3DPositionAnalysis2021\\EXTERNAL\\TESTING\\testing_notebooks\\Custom_ComputationResults_DataTreeWidget.ipynb</a>"
      ],
      "text/plain": [
       "<IPython.core.display.HTML object>"
      ]
     },
     "metadata": {},
     "output_type": "display_data"
    },
    {
     "data": {
      "text/html": [
       "<a href=\"C:\\Users\\pho\\repos\\PhoPy3DPositionAnalysis2021\\EXTERNAL\\TESTING\\testing_notebooks\\DibaDataLoading.ipynb\">C:\\Users\\pho\\repos\\PhoPy3DPositionAnalysis2021\\EXTERNAL\\TESTING\\testing_notebooks\\DibaDataLoading.ipynb</a>"
      ],
      "text/plain": [
       "<IPython.core.display.HTML object>"
      ]
     },
     "metadata": {},
     "output_type": "display_data"
    },
    {
     "data": {
      "text/html": [
       "<a href=\"C:\\Users\\pho\\repos\\PhoPy3DPositionAnalysis2021\\EXTERNAL\\TESTING\\testing_notebooks\\DynamicParametersTesting.ipynb\">C:\\Users\\pho\\repos\\PhoPy3DPositionAnalysis2021\\EXTERNAL\\TESTING\\testing_notebooks\\DynamicParametersTesting.ipynb</a>"
      ],
      "text/plain": [
       "<IPython.core.display.HTML object>"
      ]
     },
     "metadata": {},
     "output_type": "display_data"
    },
    {
     "data": {
      "text/html": [
       "<a href=\"C:\\Users\\pho\\repos\\PhoPy3DPositionAnalysis2021\\EXTERNAL\\TESTING\\testing_notebooks\\DynamicParameters_TestNotebook.ipynb\">C:\\Users\\pho\\repos\\PhoPy3DPositionAnalysis2021\\EXTERNAL\\TESTING\\testing_notebooks\\DynamicParameters_TestNotebook.ipynb</a>"
      ],
      "text/plain": [
       "<IPython.core.display.HTML object>"
      ]
     },
     "metadata": {},
     "output_type": "display_data"
    },
    {
     "data": {
      "text/html": [
       "<a href=\"C:\\Users\\pho\\repos\\PhoPy3DPositionAnalysis2021\\EXTERNAL\\TESTING\\testing_notebooks\\early_spikes_import_test.ipynb\">C:\\Users\\pho\\repos\\PhoPy3DPositionAnalysis2021\\EXTERNAL\\TESTING\\testing_notebooks\\early_spikes_import_test.ipynb</a>"
      ],
      "text/plain": [
       "<IPython.core.display.HTML object>"
      ]
     },
     "metadata": {},
     "output_type": "display_data"
    },
    {
     "data": {
      "text/html": [
       "<a href=\"C:\\Users\\pho\\repos\\PhoPy3DPositionAnalysis2021\\EXTERNAL\\TESTING\\testing_notebooks\\ForRach_2022-06-20-SessionFolderLoadingTests.ipynb\">C:\\Users\\pho\\repos\\PhoPy3DPositionAnalysis2021\\EXTERNAL\\TESTING\\testing_notebooks\\ForRach_2022-06-20-SessionFolderLoadingTests.ipynb</a>"
      ],
      "text/plain": [
       "<IPython.core.display.HTML object>"
      ]
     },
     "metadata": {},
     "output_type": "display_data"
    },
    {
     "data": {
      "text/html": [
       "<a href=\"C:\\Users\\pho\\repos\\PhoPy3DPositionAnalysis2021\\EXTERNAL\\TESTING\\testing_notebooks\\FunctionParameterInspectionConversionTesting.ipynb\">C:\\Users\\pho\\repos\\PhoPy3DPositionAnalysis2021\\EXTERNAL\\TESTING\\testing_notebooks\\FunctionParameterInspectionConversionTesting.ipynb</a>"
      ],
      "text/plain": [
       "<IPython.core.display.HTML object>"
      ]
     },
     "metadata": {},
     "output_type": "display_data"
    },
    {
     "data": {
      "text/html": [
       "<a href=\"C:\\Users\\pho\\repos\\PhoPy3DPositionAnalysis2021\\EXTERNAL\\TESTING\\testing_notebooks\\HiroDataLoading.ipynb\">C:\\Users\\pho\\repos\\PhoPy3DPositionAnalysis2021\\EXTERNAL\\TESTING\\testing_notebooks\\HiroDataLoading.ipynb</a>"
      ],
      "text/plain": [
       "<IPython.core.display.HTML object>"
      ]
     },
     "metadata": {},
     "output_type": "display_data"
    },
    {
     "data": {
      "text/html": [
       "<a href=\"C:\\Users\\pho\\repos\\PhoPy3DPositionAnalysis2021\\EXTERNAL\\TESTING\\testing_notebooks\\NatPlaceFieldPackageTesting.ipynb\">C:\\Users\\pho\\repos\\PhoPy3DPositionAnalysis2021\\EXTERNAL\\TESTING\\testing_notebooks\\NatPlaceFieldPackageTesting.ipynb</a>"
      ],
      "text/plain": [
       "<IPython.core.display.HTML object>"
      ]
     },
     "metadata": {},
     "output_type": "display_data"
    },
    {
     "data": {
      "text/html": [
       "<a href=\"C:\\Users\\pho\\repos\\PhoPy3DPositionAnalysis2021\\EXTERNAL\\TESTING\\testing_notebooks\\nb_search_MetaNotebook.ipynb\">C:\\Users\\pho\\repos\\PhoPy3DPositionAnalysis2021\\EXTERNAL\\TESTING\\testing_notebooks\\nb_search_MetaNotebook.ipynb</a>"
      ],
      "text/plain": [
       "<IPython.core.display.HTML object>"
      ]
     },
     "metadata": {},
     "output_type": "display_data"
    },
    {
     "data": {
      "text/html": [
       "<a href=\"C:\\Users\\pho\\repos\\PhoPy3DPositionAnalysis2021\\EXTERNAL\\TESTING\\testing_notebooks\\neuropy_bayesian_prob_debug.ipynb\">C:\\Users\\pho\\repos\\PhoPy3DPositionAnalysis2021\\EXTERNAL\\TESTING\\testing_notebooks\\neuropy_bayesian_prob_debug.ipynb</a>"
      ],
      "text/plain": [
       "<IPython.core.display.HTML object>"
      ]
     },
     "metadata": {},
     "output_type": "display_data"
    },
    {
     "data": {
      "text/html": [
       "<a href=\"C:\\Users\\pho\\repos\\PhoPy3DPositionAnalysis2021\\EXTERNAL\\TESTING\\testing_notebooks\\NumpyFileDiscoveryAndEnumeration.ipynb\">C:\\Users\\pho\\repos\\PhoPy3DPositionAnalysis2021\\EXTERNAL\\TESTING\\testing_notebooks\\NumpyFileDiscoveryAndEnumeration.ipynb</a>"
      ],
      "text/plain": [
       "<IPython.core.display.HTML object>"
      ]
     },
     "metadata": {},
     "output_type": "display_data"
    },
    {
     "data": {
      "text/html": [
       "<a href=\"C:\\Users\\pho\\repos\\PhoPy3DPositionAnalysis2021\\EXTERNAL\\TESTING\\testing_notebooks\\PanelAndParamsTesting.ipynb\">C:\\Users\\pho\\repos\\PhoPy3DPositionAnalysis2021\\EXTERNAL\\TESTING\\testing_notebooks\\PanelAndParamsTesting.ipynb</a>"
      ],
      "text/plain": [
       "<IPython.core.display.HTML object>"
      ]
     },
     "metadata": {},
     "output_type": "display_data"
    },
    {
     "data": {
      "text/html": [
       "<a href=\"C:\\Users\\pho\\repos\\PhoPy3DPositionAnalysis2021\\EXTERNAL\\TESTING\\testing_notebooks\\peak_prominence2d_testing.ipynb\">C:\\Users\\pho\\repos\\PhoPy3DPositionAnalysis2021\\EXTERNAL\\TESTING\\testing_notebooks\\peak_prominence2d_testing.ipynb</a>"
      ],
      "text/plain": [
       "<IPython.core.display.HTML object>"
      ]
     },
     "metadata": {},
     "output_type": "display_data"
    },
    {
     "data": {
      "text/html": [
       "<a href=\"C:\\Users\\pho\\repos\\PhoPy3DPositionAnalysis2021\\EXTERNAL\\TESTING\\testing_notebooks\\PhoLapsMatExportTesting.ipynb\">C:\\Users\\pho\\repos\\PhoPy3DPositionAnalysis2021\\EXTERNAL\\TESTING\\testing_notebooks\\PhoLapsMatExportTesting.ipynb</a>"
      ],
      "text/plain": [
       "<IPython.core.display.HTML object>"
      ]
     },
     "metadata": {},
     "output_type": "display_data"
    },
    {
     "data": {
      "text/html": [
       "<a href=\"C:\\Users\\pho\\repos\\PhoPy3DPositionAnalysis2021\\EXTERNAL\\TESTING\\testing_notebooks\\PhoMatFileBrowsingTesting.ipynb\">C:\\Users\\pho\\repos\\PhoPy3DPositionAnalysis2021\\EXTERNAL\\TESTING\\testing_notebooks\\PhoMatFileBrowsingTesting.ipynb</a>"
      ],
      "text/plain": [
       "<IPython.core.display.HTML object>"
      ]
     },
     "metadata": {},
     "output_type": "display_data"
    },
    {
     "data": {
      "text/html": [
       "<a href=\"C:\\Users\\pho\\repos\\PhoPy3DPositionAnalysis2021\\EXTERNAL\\TESTING\\testing_notebooks\\PhoSpikesLoadingTest.ipynb\">C:\\Users\\pho\\repos\\PhoPy3DPositionAnalysis2021\\EXTERNAL\\TESTING\\testing_notebooks\\PhoSpikesLoadingTest.ipynb</a>"
      ],
      "text/plain": [
       "<IPython.core.display.HTML object>"
      ]
     },
     "metadata": {},
     "output_type": "display_data"
    },
    {
     "data": {
      "text/html": [
       "<a href=\"C:\\Users\\pho\\repos\\PhoPy3DPositionAnalysis2021\\EXTERNAL\\TESTING\\testing_notebooks\\PyQt6GuiTesting.ipynb\">C:\\Users\\pho\\repos\\PhoPy3DPositionAnalysis2021\\EXTERNAL\\TESTING\\testing_notebooks\\PyQt6GuiTesting.ipynb</a>"
      ],
      "text/plain": [
       "<IPython.core.display.HTML object>"
      ]
     },
     "metadata": {},
     "output_type": "display_data"
    },
    {
     "data": {
      "text/html": [
       "<a href=\"C:\\Users\\pho\\repos\\PhoPy3DPositionAnalysis2021\\EXTERNAL\\TESTING\\testing_notebooks\\PyQt_MultiThreading_Testing.ipynb\">C:\\Users\\pho\\repos\\PhoPy3DPositionAnalysis2021\\EXTERNAL\\TESTING\\testing_notebooks\\PyQt_MultiThreading_Testing.ipynb</a>"
      ],
      "text/plain": [
       "<IPython.core.display.HTML object>"
      ]
     },
     "metadata": {},
     "output_type": "display_data"
    },
    {
     "data": {
      "text/html": [
       "<a href=\"C:\\Users\\pho\\repos\\PhoPy3DPositionAnalysis2021\\EXTERNAL\\TESTING\\testing_notebooks\\SessionFolderLoadingTests.ipynb\">C:\\Users\\pho\\repos\\PhoPy3DPositionAnalysis2021\\EXTERNAL\\TESTING\\testing_notebooks\\SessionFolderLoadingTests.ipynb</a>"
      ],
      "text/plain": [
       "<IPython.core.display.HTML object>"
      ]
     },
     "metadata": {},
     "output_type": "display_data"
    },
    {
     "data": {
      "text/html": [
       "<a href=\"C:\\Users\\pho\\repos\\PhoPy3DPositionAnalysis2021\\EXTERNAL\\TESTING\\testing_notebooks\\TestNeuropyPipeline_Test3DRaster.ipynb\">C:\\Users\\pho\\repos\\PhoPy3DPositionAnalysis2021\\EXTERNAL\\TESTING\\testing_notebooks\\TestNeuropyPipeline_Test3DRaster.ipynb</a>"
      ],
      "text/plain": [
       "<IPython.core.display.HTML object>"
      ]
     },
     "metadata": {},
     "output_type": "display_data"
    },
    {
     "data": {
      "text/html": [
       "<a href=\"C:\\Users\\pho\\repos\\PhoPy3DPositionAnalysis2021\\EXTERNAL\\TESTING\\testing_notebooks\\test_QtPlacefieldSelectionWidget.ipynb\">C:\\Users\\pho\\repos\\PhoPy3DPositionAnalysis2021\\EXTERNAL\\TESTING\\testing_notebooks\\test_QtPlacefieldSelectionWidget.ipynb</a>"
      ],
      "text/plain": [
       "<IPython.core.display.HTML object>"
      ]
     },
     "metadata": {},
     "output_type": "display_data"
    },
    {
     "data": {
      "text/html": [
       "<a href=\"C:\\Users\\pho\\repos\\PhoPy3DPositionAnalysis2021\\EXTERNAL\\TESTING\\testing_notebooks\\UnpicklingPipelineTest.ipynb\">C:\\Users\\pho\\repos\\PhoPy3DPositionAnalysis2021\\EXTERNAL\\TESTING\\testing_notebooks\\UnpicklingPipelineTest.ipynb</a>"
      ],
      "text/plain": [
       "<IPython.core.display.HTML object>"
      ]
     },
     "metadata": {},
     "output_type": "display_data"
    },
    {
     "data": {
      "text/html": [
       "<a href=\"C:\\Users\\pho\\repos\\PhoPy3DPositionAnalysis2021\\EXTERNAL\\TESTING\\testing_notebooks\\ZetaPyTesting.ipynb\">C:\\Users\\pho\\repos\\PhoPy3DPositionAnalysis2021\\EXTERNAL\\TESTING\\testing_notebooks\\ZetaPyTesting.ipynb</a>"
      ],
      "text/plain": [
       "<IPython.core.display.HTML object>"
      ]
     },
     "metadata": {},
     "output_type": "display_data"
    },
    {
     "data": {
      "text/html": [
       "<a href=\"C:\\Users\\pho\\repos\\PhoPy3DPositionAnalysis2021\\LibrariesExamples\\DibaRecordXmlLoading.ipynb\">C:\\Users\\pho\\repos\\PhoPy3DPositionAnalysis2021\\LibrariesExamples\\DibaRecordXmlLoading.ipynb</a>"
      ],
      "text/plain": [
       "<IPython.core.display.HTML object>"
      ]
     },
     "metadata": {},
     "output_type": "display_data"
    },
    {
     "data": {
      "text/html": [
       "<a href=\"C:\\Users\\pho\\repos\\PhoPy3DPositionAnalysis2021\\LibrariesExamples\\Evaluating alive-progress Library.ipynb\">C:\\Users\\pho\\repos\\PhoPy3DPositionAnalysis2021\\LibrariesExamples\\Evaluating alive-progress Library.ipynb</a>"
      ],
      "text/plain": [
       "<IPython.core.display.HTML object>"
      ]
     },
     "metadata": {},
     "output_type": "display_data"
    },
    {
     "data": {
      "text/html": [
       "<a href=\"C:\\Users\\pho\\repos\\PhoPy3DPositionAnalysis2021\\LibrariesExamples\\MultithreadingTesting.ipynb\">C:\\Users\\pho\\repos\\PhoPy3DPositionAnalysis2021\\LibrariesExamples\\MultithreadingTesting.ipynb</a>"
      ],
      "text/plain": [
       "<IPython.core.display.HTML object>"
      ]
     },
     "metadata": {},
     "output_type": "display_data"
    },
    {
     "data": {
      "text/html": [
       "<a href=\"C:\\Users\\pho\\repos\\PhoPy3DPositionAnalysis2021\\LibrariesExamples\\PyBursts.ipynb\">C:\\Users\\pho\\repos\\PhoPy3DPositionAnalysis2021\\LibrariesExamples\\PyBursts.ipynb</a>"
      ],
      "text/plain": [
       "<IPython.core.display.HTML object>"
      ]
     },
     "metadata": {},
     "output_type": "display_data"
    },
    {
     "data": {
      "text/html": [
       "<a href=\"C:\\Users\\pho\\repos\\PhoPy3DPositionAnalysis2021\\LibrariesExamples\\DearPyGUI\\DearPyGUI_Demo.ipynb\">C:\\Users\\pho\\repos\\PhoPy3DPositionAnalysis2021\\LibrariesExamples\\DearPyGUI\\DearPyGUI_Demo.ipynb</a>"
      ],
      "text/plain": [
       "<IPython.core.display.HTML object>"
      ]
     },
     "metadata": {},
     "output_type": "display_data"
    },
    {
     "data": {
      "text/html": [
       "<a href=\"C:\\Users\\pho\\repos\\PhoPy3DPositionAnalysis2021\\LibrariesExamples\\Matplotlib\\Matplotlib_Imshow_Guide.ipynb\">C:\\Users\\pho\\repos\\PhoPy3DPositionAnalysis2021\\LibrariesExamples\\Matplotlib\\Matplotlib_Imshow_Guide.ipynb</a>"
      ],
      "text/plain": [
       "<IPython.core.display.HTML object>"
      ]
     },
     "metadata": {},
     "output_type": "display_data"
    },
    {
     "data": {
      "text/html": [
       "<a href=\"C:\\Users\\pho\\repos\\PhoPy3DPositionAnalysis2021\\LibrariesExamples\\Param\\Promo.ipynb\">C:\\Users\\pho\\repos\\PhoPy3DPositionAnalysis2021\\LibrariesExamples\\Param\\Promo.ipynb</a>"
      ],
      "text/plain": [
       "<IPython.core.display.HTML object>"
      ]
     },
     "metadata": {},
     "output_type": "display_data"
    },
    {
     "data": {
      "text/html": [
       "<a href=\"C:\\Users\\pho\\repos\\PhoPy3DPositionAnalysis2021\\LibrariesExamples\\PyQtPlot\\PyQtGraph-Notebook.ipynb\">C:\\Users\\pho\\repos\\PhoPy3DPositionAnalysis2021\\LibrariesExamples\\PyQtPlot\\PyQtGraph-Notebook.ipynb</a>"
      ],
      "text/plain": [
       "<IPython.core.display.HTML object>"
      ]
     },
     "metadata": {},
     "output_type": "display_data"
    },
    {
     "data": {
      "text/html": [
       "<a href=\"C:\\Users\\pho\\repos\\PhoPy3DPositionAnalysis2021\\LibrariesExamples\\PyQtPlot\\PyQtGraph_CustomMeshTrials.ipynb\">C:\\Users\\pho\\repos\\PhoPy3DPositionAnalysis2021\\LibrariesExamples\\PyQtPlot\\PyQtGraph_CustomMeshTrials.ipynb</a>"
      ],
      "text/plain": [
       "<IPython.core.display.HTML object>"
      ]
     },
     "metadata": {},
     "output_type": "display_data"
    },
    {
     "data": {
      "text/html": [
       "<a href=\"C:\\Users\\pho\\repos\\PhoPy3DPositionAnalysis2021\\LibrariesExamples\\PyVista\\ghost-cells.ipynb\">C:\\Users\\pho\\repos\\PhoPy3DPositionAnalysis2021\\LibrariesExamples\\PyVista\\ghost-cells.ipynb</a>"
      ],
      "text/plain": [
       "<IPython.core.display.HTML object>"
      ]
     },
     "metadata": {},
     "output_type": "display_data"
    },
    {
     "data": {
      "text/html": [
       "<a href=\"C:\\Users\\pho\\repos\\PhoPy3DPositionAnalysis2021\\LibrariesExamples\\PyVista\\PyvistaQtMultiplotterTesting.ipynb\">C:\\Users\\pho\\repos\\PhoPy3DPositionAnalysis2021\\LibrariesExamples\\PyVista\\PyvistaQtMultiplotterTesting.ipynb</a>"
      ],
      "text/plain": [
       "<IPython.core.display.HTML object>"
      ]
     },
     "metadata": {},
     "output_type": "display_data"
    },
    {
     "data": {
      "text/html": [
       "<a href=\"C:\\Users\\pho\\repos\\PhoPy3DPositionAnalysis2021\\LibrariesExamples\\PyVista\\PyVistaTesting-DrawingPlanes.ipynb\">C:\\Users\\pho\\repos\\PhoPy3DPositionAnalysis2021\\LibrariesExamples\\PyVista\\PyVistaTesting-DrawingPlanes.ipynb</a>"
      ],
      "text/plain": [
       "<IPython.core.display.HTML object>"
      ]
     },
     "metadata": {},
     "output_type": "display_data"
    },
    {
     "data": {
      "text/html": [
       "<a href=\"C:\\Users\\pho\\repos\\PhoPy3DPositionAnalysis2021\\LibrariesExamples\\PyVista\\PyVistaTesting.ipynb\">C:\\Users\\pho\\repos\\PhoPy3DPositionAnalysis2021\\LibrariesExamples\\PyVista\\PyVistaTesting.ipynb</a>"
      ],
      "text/plain": [
       "<IPython.core.display.HTML object>"
      ]
     },
     "metadata": {},
     "output_type": "display_data"
    },
    {
     "data": {
      "text/html": [
       "<a href=\"C:\\Users\\pho\\repos\\PhoPy3DPositionAnalysis2021\\LibrariesExamples\\Vedo\\Untitled.ipynb\">C:\\Users\\pho\\repos\\PhoPy3DPositionAnalysis2021\\LibrariesExamples\\Vedo\\Untitled.ipynb</a>"
      ],
      "text/plain": [
       "<IPython.core.display.HTML object>"
      ]
     },
     "metadata": {},
     "output_type": "display_data"
    },
    {
     "data": {
      "text/html": [
       "<a href=\"C:\\Users\\pho\\repos\\PhoPy3DPositionAnalysis2021\\LibrariesExamples\\Vedo\\Vedo3DRasterPlotTestingNotebook.ipynb\">C:\\Users\\pho\\repos\\PhoPy3DPositionAnalysis2021\\LibrariesExamples\\Vedo\\Vedo3DRasterPlotTestingNotebook.ipynb</a>"
      ],
      "text/plain": [
       "<IPython.core.display.HTML object>"
      ]
     },
     "metadata": {},
     "output_type": "display_data"
    },
    {
     "data": {
      "text/html": [
       "<a href=\"C:\\Users\\pho\\repos\\PhoPy3DPositionAnalysis2021\\LibrariesExamples\\Vedo\\VedoQtWindow_VedoSpikeRasterTesting.ipynb\">C:\\Users\\pho\\repos\\PhoPy3DPositionAnalysis2021\\LibrariesExamples\\Vedo\\VedoQtWindow_VedoSpikeRasterTesting.ipynb</a>"
      ],
      "text/plain": [
       "<IPython.core.display.HTML object>"
      ]
     },
     "metadata": {},
     "output_type": "display_data"
    },
    {
     "data": {
      "text/html": [
       "<a href=\"C:\\Users\\pho\\repos\\PhoPy3DPositionAnalysis2021\\LibrariesExamples\\Vedo\\VedoTesting.ipynb\">C:\\Users\\pho\\repos\\PhoPy3DPositionAnalysis2021\\LibrariesExamples\\Vedo\\VedoTesting.ipynb</a>"
      ],
      "text/plain": [
       "<IPython.core.display.HTML object>"
      ]
     },
     "metadata": {},
     "output_type": "display_data"
    },
    {
     "data": {
      "text/html": [
       "<a href=\"C:\\Users\\pho\\repos\\PhoPy3DPositionAnalysis2021\\LibrariesExamples\\VtkGeneral\\Async_and_Concurrency.ipynb\">C:\\Users\\pho\\repos\\PhoPy3DPositionAnalysis2021\\LibrariesExamples\\VtkGeneral\\Async_and_Concurrency.ipynb</a>"
      ],
      "text/plain": [
       "<IPython.core.display.HTML object>"
      ]
     },
     "metadata": {},
     "output_type": "display_data"
    },
    {
     "data": {
      "text/html": [
       "<a href=\"C:\\Users\\pho\\repos\\PhoPy3DPositionAnalysis2021\\LibrariesExamples\\VtkGeneral\\Untitled1.ipynb\">C:\\Users\\pho\\repos\\PhoPy3DPositionAnalysis2021\\LibrariesExamples\\VtkGeneral\\Untitled1.ipynb</a>"
      ],
      "text/plain": [
       "<IPython.core.display.HTML object>"
      ]
     },
     "metadata": {},
     "output_type": "display_data"
    },
    {
     "data": {
      "text/html": [
       "<a href=\"C:\\Users\\pho\\repos\\PhoPy3DPositionAnalysis2021\\LibrariesExamples\\VtkGeneral\\VtkGenEx_3DText.ipynb\">C:\\Users\\pho\\repos\\PhoPy3DPositionAnalysis2021\\LibrariesExamples\\VtkGeneral\\VtkGenEx_3DText.ipynb</a>"
      ],
      "text/plain": [
       "<IPython.core.display.HTML object>"
      ]
     },
     "metadata": {},
     "output_type": "display_data"
    },
    {
     "data": {
      "text/html": [
       "<a href=\"C:\\Users\\pho\\repos\\PhoPy3DPositionAnalysis2021\\LibrariesExamples\\VtkGeneral\\VtkGenEx_HighlightPickedActor.ipynb\">C:\\Users\\pho\\repos\\PhoPy3DPositionAnalysis2021\\LibrariesExamples\\VtkGeneral\\VtkGenEx_HighlightPickedActor.ipynb</a>"
      ],
      "text/plain": [
       "<IPython.core.display.HTML object>"
      ]
     },
     "metadata": {},
     "output_type": "display_data"
    },
    {
     "data": {
      "text/html": [
       "<a href=\"C:\\Users\\pho\\repos\\PhoPy3DPositionAnalysis2021\\LibrariesExamples\\VtkGeneral\\VtkGenEx_MultiLine2DText.ipynb\">C:\\Users\\pho\\repos\\PhoPy3DPositionAnalysis2021\\LibrariesExamples\\VtkGeneral\\VtkGenEx_MultiLine2DText.ipynb</a>"
      ],
      "text/plain": [
       "<IPython.core.display.HTML object>"
      ]
     },
     "metadata": {},
     "output_type": "display_data"
    },
    {
     "data": {
      "text/html": [
       "<a href=\"C:\\Users\\pho\\repos\\PhoPy3DPositionAnalysis2021\\LibrariesExamples\\VtkGeneral\\VtkGenEx_SihouettePickedActor.ipynb\">C:\\Users\\pho\\repos\\PhoPy3DPositionAnalysis2021\\LibrariesExamples\\VtkGeneral\\VtkGenEx_SihouettePickedActor.ipynb</a>"
      ],
      "text/plain": [
       "<IPython.core.display.HTML object>"
      ]
     },
     "metadata": {},
     "output_type": "display_data"
    },
    {
     "data": {
      "text/html": [
       "<a href=\"C:\\Users\\pho\\repos\\PhoPy3DPositionAnalysis2021\\LibrariesExamples\\VtkGeneral\\VTKSlicer.ipynb\">C:\\Users\\pho\\repos\\PhoPy3DPositionAnalysis2021\\LibrariesExamples\\VtkGeneral\\VTKSlicer.ipynb</a>"
      ],
      "text/plain": [
       "<IPython.core.display.HTML object>"
      ]
     },
     "metadata": {},
     "output_type": "display_data"
    },
    {
     "data": {
      "text/html": [
       "<a href=\"C:\\Users\\pho\\repos\\PhoPy3DPositionAnalysis2021\\LibrariesExamples\\VtkGeneral\\VTKWarp.ipynb\">C:\\Users\\pho\\repos\\PhoPy3DPositionAnalysis2021\\LibrariesExamples\\VtkGeneral\\VTKWarp.ipynb</a>"
      ],
      "text/plain": [
       "<IPython.core.display.HTML object>"
      ]
     },
     "metadata": {},
     "output_type": "display_data"
    },
    {
     "data": {
      "text/html": [
       "<a href=\"C:\\Users\\pho\\repos\\PhoPy3DPositionAnalysis2021\\LibrariesExamples\\VtkGeneral\\broken\\Untitled.ipynb\">C:\\Users\\pho\\repos\\PhoPy3DPositionAnalysis2021\\LibrariesExamples\\VtkGeneral\\broken\\Untitled.ipynb</a>"
      ],
      "text/plain": [
       "<IPython.core.display.HTML object>"
      ]
     },
     "metadata": {},
     "output_type": "display_data"
    },
    {
     "data": {
      "text/html": [
       "<a href=\"C:\\Users\\pho\\repos\\PhoPy3DPositionAnalysis2021\\LibrariesExamples\\VtkGeneral\\broken\\VtkGenEx_SmoothGridInterpolation.ipynb\">C:\\Users\\pho\\repos\\PhoPy3DPositionAnalysis2021\\LibrariesExamples\\VtkGeneral\\broken\\VtkGenEx_SmoothGridInterpolation.ipynb</a>"
      ],
      "text/plain": [
       "<IPython.core.display.HTML object>"
      ]
     },
     "metadata": {},
     "output_type": "display_data"
    },
    {
     "data": {
      "text/html": [
       "<a href=\"C:\\Users\\pho\\repos\\PhoPy3DPositionAnalysis2021\\PhoPyPlaceCellReplayAnalysis\\Pho_BuzakiData.ipynb\">C:\\Users\\pho\\repos\\PhoPy3DPositionAnalysis2021\\PhoPyPlaceCellReplayAnalysis\\Pho_BuzakiData.ipynb</a>"
      ],
      "text/plain": [
       "<IPython.core.display.HTML object>"
      ]
     },
     "metadata": {},
     "output_type": "display_data"
    }
   ],
   "source": [
    "from pathlib import Path\n",
    "from nb_search import search_notebook, search_heading, headings_pprint\n",
    "\n",
    "pho_main_repo_path = Path(r'C:\\Users\\pho\\repos\\PhoPy3DPositionAnalysis2021')\n",
    " \n",
    "    \n",
    "files = search_notebook('x','code', pho_main_repo_path)"
   ]
  },
  {
   "cell_type": "code",
   "execution_count": 3,
   "id": "de0f753b-424e-4583-96a2-0843f2ad4762",
   "metadata": {},
   "outputs": [
    {
     "ename": "PermissionError",
     "evalue": "[Errno 13] Permission denied: 'C:\\\\Users\\\\pho\\\\repos\\\\PhoPy3DPositionAnalysis2021'",
     "output_type": "error",
     "traceback": [
      "\u001B[1;31m---------------------------------------------------------------------------\u001B[0m",
      "\u001B[1;31mAttributeError\u001B[0m                            Traceback (most recent call last)",
      "File \u001B[1;32m~\\miniconda3\\lib\\site-packages\\nbformat\\__init__.py:165\u001B[0m, in \u001B[0;36mread\u001B[1;34m(fp, as_version, capture_validation_error, **kwargs)\u001B[0m\n\u001B[0;32m    164\u001B[0m \u001B[38;5;28;01mtry\u001B[39;00m:\n\u001B[1;32m--> 165\u001B[0m     buf \u001B[38;5;241m=\u001B[39m \u001B[43mfp\u001B[49m\u001B[38;5;241;43m.\u001B[39;49m\u001B[43mread\u001B[49m()\n\u001B[0;32m    166\u001B[0m \u001B[38;5;28;01mexcept\u001B[39;00m \u001B[38;5;167;01mAttributeError\u001B[39;00m:\n",
      "\u001B[1;31mAttributeError\u001B[0m: 'WindowsPath' object has no attribute 'read'",
      "\nDuring handling of the above exception, another exception occurred:\n",
      "\u001B[1;31mPermissionError\u001B[0m                           Traceback (most recent call last)",
      "Input \u001B[1;32mIn [3]\u001B[0m, in \u001B[0;36m<cell line: 1>\u001B[1;34m()\u001B[0m\n\u001B[1;32m----> 1\u001B[0m \u001B[43mheadings_pprint\u001B[49m\u001B[43m(\u001B[49m\u001B[43mpho_main_repo_path\u001B[49m\u001B[43m)\u001B[49m\n",
      "File \u001B[1;32m~\\miniconda3\\lib\\site-packages\\nb_search\\__init__.py:327\u001B[0m, in \u001B[0;36mheadings_pprint\u001B[1;34m(file)\u001B[0m\n\u001B[0;32m    321\u001B[0m \u001B[38;5;28;01mdef\u001B[39;00m \u001B[38;5;21mheadings_pprint\u001B[39m(file):\n\u001B[0;32m    322\u001B[0m     \u001B[38;5;124;03m\"\"\"Produces an indented (based on heading level) \"pretty print\" of the headings in the file\u001B[39;00m\n\u001B[0;32m    323\u001B[0m \n\u001B[0;32m    324\u001B[0m \u001B[38;5;124;03m    Args:\u001B[39;00m\n\u001B[0;32m    325\u001B[0m \u001B[38;5;124;03m        file (str): The path to the file that you would like to have it's headings pretty printed.\u001B[39;00m\n\u001B[0;32m    326\u001B[0m \u001B[38;5;124;03m    \"\"\"\u001B[39;00m\n\u001B[1;32m--> 327\u001B[0m     List \u001B[38;5;241m=\u001B[39m \u001B[43mheading_list\u001B[49m\u001B[43m(\u001B[49m\u001B[43mfile\u001B[49m\u001B[43m)\u001B[49m\n\u001B[0;32m    328\u001B[0m     pretty_print_headings(List)\n",
      "File \u001B[1;32m~\\miniconda3\\lib\\site-packages\\nb_search\\__init__.py:155\u001B[0m, in \u001B[0;36mheading_list\u001B[1;34m(file)\u001B[0m\n\u001B[0;32m    149\u001B[0m \u001B[38;5;124;03m\"\"\" This function searches all the headings in the notebooks \u001B[39;00m\n\u001B[0;32m    150\u001B[0m \u001B[38;5;124;03min the directory and returns the notebooks that include the patter \u001B[39;00m\n\u001B[0;32m    151\u001B[0m \u001B[38;5;124;03minput in one or more of the markdown cells\"\"\"\u001B[39;00m\n\u001B[0;32m    153\u001B[0m heading_list \u001B[38;5;241m=\u001B[39m []\n\u001B[1;32m--> 155\u001B[0m nb \u001B[38;5;241m=\u001B[39m \u001B[43mnbformat\u001B[49m\u001B[38;5;241;43m.\u001B[39;49m\u001B[43mread\u001B[49m\u001B[43m(\u001B[49m\u001B[43mfile\u001B[49m\u001B[43m,\u001B[49m\u001B[43mas_version\u001B[49m\u001B[38;5;241;43m=\u001B[39;49m\u001B[38;5;241;43m4\u001B[39;49m\u001B[43m)\u001B[49m\n\u001B[0;32m    156\u001B[0m \u001B[38;5;28;01mfor\u001B[39;00m i \u001B[38;5;129;01min\u001B[39;00m nb[\u001B[38;5;124m'\u001B[39m\u001B[38;5;124mcells\u001B[39m\u001B[38;5;124m'\u001B[39m]:\n\u001B[0;32m    157\u001B[0m     \u001B[38;5;28;01mif\u001B[39;00m i[\u001B[38;5;124m'\u001B[39m\u001B[38;5;124mcell_type\u001B[39m\u001B[38;5;124m'\u001B[39m] \u001B[38;5;241m==\u001B[39m \u001B[38;5;124m'\u001B[39m\u001B[38;5;124mmarkdown\u001B[39m\u001B[38;5;124m'\u001B[39m:\n",
      "File \u001B[1;32m~\\miniconda3\\lib\\site-packages\\nbformat\\__init__.py:167\u001B[0m, in \u001B[0;36mread\u001B[1;34m(fp, as_version, capture_validation_error, **kwargs)\u001B[0m\n\u001B[0;32m    165\u001B[0m     buf \u001B[38;5;241m=\u001B[39m fp\u001B[38;5;241m.\u001B[39mread()\n\u001B[0;32m    166\u001B[0m \u001B[38;5;28;01mexcept\u001B[39;00m \u001B[38;5;167;01mAttributeError\u001B[39;00m:\n\u001B[1;32m--> 167\u001B[0m     \u001B[38;5;28;01mwith\u001B[39;00m \u001B[38;5;28;43mopen\u001B[39;49m\u001B[43m(\u001B[49m\u001B[43mfp\u001B[49m\u001B[43m,\u001B[49m\u001B[43m \u001B[49m\u001B[43mencoding\u001B[49m\u001B[38;5;241;43m=\u001B[39;49m\u001B[38;5;124;43m\"\u001B[39;49m\u001B[38;5;124;43mutf-8\u001B[39;49m\u001B[38;5;124;43m\"\u001B[39;49m\u001B[43m)\u001B[49m \u001B[38;5;28;01mas\u001B[39;00m f:\n\u001B[0;32m    168\u001B[0m         \u001B[38;5;28;01mreturn\u001B[39;00m reads(f\u001B[38;5;241m.\u001B[39mread(), as_version, capture_validation_error, \u001B[38;5;241m*\u001B[39m\u001B[38;5;241m*\u001B[39mkwargs)\n\u001B[0;32m    170\u001B[0m \u001B[38;5;28;01mreturn\u001B[39;00m reads(buf, as_version, capture_validation_error, \u001B[38;5;241m*\u001B[39m\u001B[38;5;241m*\u001B[39mkwargs)\n",
      "\u001B[1;31mPermissionError\u001B[0m: [Errno 13] Permission denied: 'C:\\\\Users\\\\pho\\\\repos\\\\PhoPy3DPositionAnalysis2021'"
     ]
    }
   ],
   "source": [
    "headings_pprint(pho_main_repo_path)"
   ]
  },
  {
   "cell_type": "code",
   "execution_count": null,
   "id": "8c8e9a45-35cb-4933-944f-f899fb4eb5c4",
   "metadata": {},
   "outputs": [],
   "source": []
  }
 ],
 "metadata": {
  "kernelspec": {
   "display_name": "Python [conda env:root] *",
   "language": "python",
   "name": "conda-root-py"
  },
  "language_info": {
   "codemirror_mode": {
    "name": "ipython",
    "version": 3
   },
   "file_extension": ".py",
   "mimetype": "text/x-python",
   "name": "python",
   "nbconvert_exporter": "python",
   "pygments_lexer": "ipython3",
   "version": "3.9.13"
  }
 },
 "nbformat": 4,
 "nbformat_minor": 5
}
