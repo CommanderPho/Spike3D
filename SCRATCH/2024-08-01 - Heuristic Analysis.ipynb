{
 "cells": [
  {
   "cell_type": "code",
   "execution_count": 1,
   "metadata": {
    "notebookRunGroups": {
     "groupValue": "1"
    },
    "tags": [
     "run-main"
    ]
   },
   "outputs": [
    {
     "name": "stdout",
     "output_type": "stream",
     "text": [
      "Automatic pdb calling has been turned OFF\n",
      "DAY_DATE_STR: 2025-06-16, DAY_DATE_TO_USE: 2025-06-16\n",
      "NOW_DATETIME: 2025-06-16_0405PM, NOW_DATETIME_TO_USE: 2025-06-16_0405PM\n",
      "global_data_root_parent_path changed to W:\\Data\n"
     ]
    }
   ],
   "source": [
    "%config IPCompleter.use_jedi = False\n",
    "# %xmode Verbose\n",
    "# %xmode context\n",
    "%pdb off\n",
    "# %load_ext viztracer\n",
    "# from viztracer import VizTracer\n",
    "%load_ext autoreload\n",
    "%autoreload 3\n",
    "import sys\n",
    "from pathlib import Path\n",
    "\n",
    "# required to enable non-blocking interaction:\n",
    "%gui qt5\n",
    "\n",
    "from copy import deepcopy\n",
    "# from numba import jit\n",
    "import numpy as np\n",
    "import pandas as pd\n",
    "pd.options.mode.chained_assignment = None  # default='warn'\n",
    "# pd.options.mode.dtype_backend = 'pyarrow' # use new pyarrow backend instead of numpy\n",
    "from attrs import define, field, fields, Factory\n",
    "import tables as tb\n",
    "from datetime import datetime, timedelta\n",
    "\n",
    "# Pho's Formatting Preferences\n",
    "import builtins\n",
    "\n",
    "import IPython\n",
    "from IPython.core.formatters import PlainTextFormatter\n",
    "from IPython import get_ipython\n",
    "\n",
    "from pyphocorehelpers.preferences_helpers import set_pho_preferences, set_pho_preferences_concise, set_pho_preferences_verbose\n",
    "set_pho_preferences_concise()\n",
    "# Jupyter-lab enable printing for any line on its own (instead of just the last one in the cell)\n",
    "from IPython.core.interactiveshell import InteractiveShell\n",
    "InteractiveShell.ast_node_interactivity = \"all\"\n",
    "\n",
    "# BEGIN PPRINT CUSTOMIZATION ___________________________________________________________________________________________ #\n",
    "\n",
    "\n",
    "## IPython pprint\n",
    "from pyphocorehelpers.pprint import wide_pprint, wide_pprint_ipython, wide_pprint_jupyter, MAX_LINE_LENGTH\n",
    "\n",
    "# Override default pprint\n",
    "builtins.pprint = wide_pprint\n",
    "\n",
    "text_formatter: PlainTextFormatter = IPython.get_ipython().display_formatter.formatters['text/plain']\n",
    "text_formatter.max_width = MAX_LINE_LENGTH\n",
    "text_formatter.for_type(object, wide_pprint_jupyter)\n",
    "\n",
    "import IPython\n",
    "from IPython.core.formatters import PlainTextFormatter\n",
    "from IPython import get_ipython\n",
    "from IPython.display import display\n",
    "# from pho_jupyter_preview_widget.display_helpers import array_repr_with_graphical_preview\n",
    "from pho_jupyter_preview_widget.ipython_helpers import PreviewWidgetMagics\n",
    "\n",
    "ip = get_ipython()\n",
    "\n",
    "# Register the magic\n",
    "ip.register_magics(PreviewWidgetMagics)\n",
    "\n",
    "# # from pyphocorehelpers.ipython_helpers import MyMagics\n",
    "# # %config_ndarray_preview width=500\n",
    "\n",
    "# # Register the custom display function for NumPy arrays\n",
    "# ip = array_repr_with_graphical_preview(ip=ip)\n",
    "\n",
    "\n",
    "\n",
    "# END PPRINT CUSTOMIZATION ___________________________________________________________________________________________ #\n",
    "\n",
    "from pyphocorehelpers.print_helpers import get_now_time_str, get_now_day_str\n",
    "\n",
    "## Pho's Custom Libraries:\n",
    "from pyphocorehelpers.Filesystem.path_helpers import find_first_extant_path, file_uri_from_path\n",
    "from pyphocorehelpers.Filesystem.open_in_system_file_manager import reveal_in_system_file_manager\n",
    "\n",
    "# NeuroPy (Diba Lab Python Repo) Loading\n",
    "# from neuropy import core\n",
    "from typing import Dict, List, Tuple, Optional, Callable, Union, Any\n",
    "from typing_extensions import TypeAlias\n",
    "from nptyping import NDArray\n",
    "import neuropy.utils.type_aliases as types\n",
    "\n",
    "from neuropy.analyses.placefields import PlacefieldComputationParameters\n",
    "from neuropy.core.epoch import NamedTimerange, Epoch\n",
    "from neuropy.core.ratemap import Ratemap\n",
    "from neuropy.core.session.Formats.BaseDataSessionFormats import DataSessionFormatRegistryHolder\n",
    "from neuropy.core.session.Formats.Specific.KDibaOldDataSessionFormat import KDibaOldDataSessionFormatRegisteredClass\n",
    "from neuropy.utils.matplotlib_helpers import matplotlib_file_only, matplotlib_configuration, matplotlib_configuration_update\n",
    "from neuropy.core.neuron_identities import NeuronIdentityTable, neuronTypesList, neuronTypesEnum\n",
    "from neuropy.utils.mixins.AttrsClassHelpers import AttrsBasedClassHelperMixin, serialized_field, serialized_attribute_field, non_serialized_field, custom_define\n",
    "from neuropy.utils.mixins.HDF5_representable import HDF_DeserializationMixin, post_deserialize, HDF_SerializationMixin, HDFMixin, HDF_Converter\n",
    "\n",
    "## For computation parameters:\n",
    "from neuropy.analyses.placefields import PlacefieldComputationParameters\n",
    "from neuropy.utils.dynamic_container import DynamicContainer\n",
    "from neuropy.utils.result_context import IdentifyingContext\n",
    "from neuropy.core.session.Formats.BaseDataSessionFormats import find_local_session_paths\n",
    "from neuropy.core.neurons import NeuronType\n",
    "from neuropy.core.user_annotations import UserAnnotationsManager\n",
    "from neuropy.core.position import Position\n",
    "from neuropy.core.session.dataSession import DataSession\n",
    "from neuropy.analyses.time_dependent_placefields import PfND_TimeDependent, PlacefieldSnapshot\n",
    "from neuropy.utils.debug_helpers import debug_print_placefield, debug_print_subsession_neuron_differences, debug_print_ratemap, debug_print_spike_counts, debug_plot_2d_binning, print_aligned_columns\n",
    "from neuropy.utils.debug_helpers import parameter_sweeps, _plot_parameter_sweep, compare_placefields_info\n",
    "from neuropy.utils.indexing_helpers import NumpyHelpers, union_of_arrays, intersection_of_arrays, find_desired_sort_indicies, paired_incremental_sorting\n",
    "from pyphocorehelpers.print_helpers import print_object_memory_usage, print_dataframe_memory_usage, print_value_overview_only, DocumentationFilePrinter, print_keys_if_possible, generate_html_string, document_active_variables\n",
    "\n",
    "## Pho Programming Helpers:\n",
    "import inspect\n",
    "from pyphocorehelpers.print_helpers import DocumentationFilePrinter, TypePrintMode, print_keys_if_possible, debug_dump_object_member_shapes, print_value_overview_only, document_active_variables\n",
    "from pyphocorehelpers.programming_helpers import IPythonHelpers, PythonDictionaryDefinitionFormat, MemoryManagement, inspect_callable_arguments, get_arguments_as_optional_dict, GeneratedClassDefinitionType, CodeConversion\n",
    "from pyphocorehelpers.gui.Qt.TopLevelWindowHelper import TopLevelWindowHelper, print_widget_hierarchy\n",
    "from pyphocorehelpers.indexing_helpers import reorder_columns, reorder_columns_relative, dict_to_full_array\n",
    "from pyphocorehelpers.programming_helpers import CodeConversion, SourceCodeParsing, GeneratedClassDefinitionType\n",
    "\n",
    "# doc_output_parent_folder: Path = Path('EXTERNAL/DEVELOPER_NOTES/DataStructureDocumentation').resolve() # ../.\n",
    "# print(f\"doc_output_parent_folder: {doc_output_parent_folder}\")\n",
    "# assert doc_output_parent_folder.exists()\n",
    "\n",
    "# pyPhoPlaceCellAnalysis:\n",
    "from pyphoplacecellanalysis.General.Pipeline.NeuropyPipeline import NeuropyPipeline # get_neuron_identities\n",
    "from pyphoplacecellanalysis.General.Mixins.ExportHelpers import export_pyqtgraph_plot\n",
    "from pyphoplacecellanalysis.General.Batch.NonInteractiveProcessing import batch_load_session, batch_extended_computations, batch_extended_programmatic_figures\n",
    "from pyphoplacecellanalysis.General.Pipeline.NeuropyPipeline import PipelineSavingScheme\n",
    "\n",
    "import pyphoplacecellanalysis.External.pyqtgraph as pg\n",
    "\n",
    "from pyphoplacecellanalysis.General.Batch.NonInteractiveProcessing import batch_perform_all_plots\n",
    "from pyphoplacecellanalysis.General.Pipeline.Stages.ComputationFunctions.MultiContextComputationFunctions.LongShortTrackComputations import JonathanFiringRateAnalysisResult\n",
    "from pyphoplacecellanalysis.General.Mixins.CrossComputationComparisonHelpers import _find_any_context_neurons\n",
    "from pyphoplacecellanalysis.General.Batch.runBatch import BatchSessionCompletionHandler # for `post_compute_validate(...)`\n",
    "from pyphoplacecellanalysis.Analysis.Decoder.reconstruction import BasePositionDecoder\n",
    "from pyphoplacecellanalysis.SpecificResults.AcrossSessionResults import AcrossSessionsResults\n",
    "from pyphoplacecellanalysis.General.Pipeline.Stages.ComputationFunctions.SpikeAnalysis import SpikeRateTrends # for `_perform_long_short_instantaneous_spike_rate_groups_analysis`\n",
    "from pyphoplacecellanalysis.General.Pipeline.Stages.ComputationFunctions.MultiContextComputationFunctions.LongShortTrackComputations import SingleBarResult, InstantaneousSpikeRateGroupsComputation, TruncationCheckingResults # for `BatchSessionCompletionHandler`, `AcrossSessionsAggregator`\n",
    "from pyphoplacecellanalysis.General.Mixins.CrossComputationComparisonHelpers import SplitPartitionMembership\n",
    "from pyphoplacecellanalysis.General.Pipeline.Stages.ComputationFunctions.MultiContextComputationFunctions.DirectionalPlacefieldGlobalComputationFunctions import DirectionalPlacefieldGlobalComputationFunctions, DirectionalLapsResult, TrackTemplates\n",
    "from pyphoplacecellanalysis.General.Pipeline.Stages.ComputationFunctions.MultiContextComputationFunctions.RankOrderComputations import RankOrderGlobalComputationFunctions\n",
    "from pyphoplacecellanalysis.General.Pipeline.Stages.ComputationFunctions.MultiContextComputationFunctions.DirectionalPlacefieldGlobalComputationFunctions import TrackTemplates\n",
    "from pyphoplacecellanalysis.General.Pipeline.Stages.ComputationFunctions.MultiContextComputationFunctions.RankOrderComputations import RankOrderComputationsContainer, RankOrderResult\n",
    "from pyphoplacecellanalysis.General.Pipeline.Stages.ComputationFunctions.MultiContextComputationFunctions.RankOrderComputations import RankOrderAnalyses\n",
    "\n",
    "\n",
    "# Plotting\n",
    "# import pylustrator # customization of figures\n",
    "import matplotlib\n",
    "import matplotlib as mpl\n",
    "import matplotlib.pyplot as plt\n",
    "_bak_rcParams = mpl.rcParams.copy()\n",
    "\n",
    "matplotlib.use('Qt5Agg')\n",
    "# %matplotlib inline\n",
    "# %matplotlib auto\n",
    "\n",
    "# _restore_previous_matplotlib_settings_callback = matplotlib_configuration_update(is_interactive=True, backend='Qt5Agg')\n",
    "_restore_previous_matplotlib_settings_callback = matplotlib_configuration_update(is_interactive=True, backend='Qt5Agg')\n",
    "\n",
    "from silx.gui import qt\n",
    "from silx.gui.plot import Plot2D, Plot1D\n",
    "from silx.gui.colors import Colormap\n",
    "from silx.gui.plot.items import ImageBase\n",
    "\n",
    "# import pylustrator # call `pylustrator.start()` before creating your first figure in code.\n",
    "from pyphoplacecellanalysis.Pho2D.matplotlib.visualize_heatmap import visualize_heatmap\n",
    "from pyphoplacecellanalysis.Pho2D.matplotlib.visualize_heatmap import visualize_heatmap_pyqtgraph # used in `plot_kourosh_activity_style_figure`\n",
    "from pyphoplacecellanalysis.General.Pipeline.Stages.DisplayFunctions.SpikeRasters import plot_multiple_raster_plot, plot_raster_plot\n",
    "from pyphoplacecellanalysis.General.Mixins.DataSeriesColorHelpers import UnitColoringMode, DataSeriesColorHelpers\n",
    "from pyphoplacecellanalysis.General.Pipeline.Stages.DisplayFunctions.SpikeRasters import _build_default_tick, build_scatter_plot_kwargs\n",
    "from pyphoplacecellanalysis.GUI.PyQtPlot.Widgets.Mixins.Render2DScrollWindowPlot import Render2DScrollWindowPlotMixin, ScatterItemData\n",
    "from pyphoplacecellanalysis.General.Batch.NonInteractiveProcessing import batch_extended_programmatic_figures, batch_programmatic_figures\n",
    "from pyphoplacecellanalysis.General.Pipeline.Stages.ComputationFunctions.SpikeAnalysis import SpikeRateTrends\n",
    "from pyphoplacecellanalysis.General.Mixins.SpikesRenderingBaseMixin import SpikeEmphasisState\n",
    "\n",
    "from pyphoplacecellanalysis.SpecificResults.PhoDiba2023Paper import PAPER_FIGURE_figure_1_add_replay_epoch_rasters, PAPER_FIGURE_figure_1_full, PAPER_FIGURE_figure_3, main_complete_figure_generations\n",
    "from pyphoplacecellanalysis.SpecificResults.fourthYearPresentation import *\n",
    "from pyphoplacecellanalysis.SpecificResults.PendingNotebookCode import SerializationHelper_AllCustomDecodingResults, SerializationHelper_CustomDecodingResults\n",
    "    \n",
    "# Jupyter Widget Interactive\n",
    "import ipywidgets as widgets\n",
    "from IPython.display import display, HTML\n",
    "from pyphocorehelpers.Filesystem.open_in_system_file_manager import reveal_in_system_file_manager\n",
    "from pyphoplacecellanalysis.GUI.IPyWidgets.pipeline_ipywidgets import interactive_pipeline_widget, interactive_pipeline_files\n",
    "from pyphocorehelpers.gui.Jupyter.simple_widgets import fullwidth_path_widget, render_colors\n",
    "\n",
    "from datetime import datetime, date, timedelta\n",
    "from pyphocorehelpers.print_helpers import get_now_day_str, get_now_rounded_time_str\n",
    "\n",
    "DAY_DATE_STR: str = date.today().strftime(\"%Y-%m-%d\")\n",
    "DAY_DATE_TO_USE = f'{DAY_DATE_STR}' # used for filenames throught the notebook\n",
    "print(f'DAY_DATE_STR: {DAY_DATE_STR}, DAY_DATE_TO_USE: {DAY_DATE_TO_USE}')\n",
    "\n",
    "NOW_DATETIME: str = get_now_rounded_time_str()\n",
    "NOW_DATETIME_TO_USE = f'{NOW_DATETIME}' # used for filenames throught the notebook\n",
    "print(f'NOW_DATETIME: {NOW_DATETIME}, NOW_DATETIME_TO_USE: {NOW_DATETIME_TO_USE}')\n",
    "\n",
    "\n",
    "from pyphocorehelpers.gui.Jupyter.simple_widgets import build_global_data_root_parent_path_selection_widget\n",
    "all_paths = [Path('/Volumes/SwapSSD/Data'), Path('/Users/pho/data'), Path(r'/media/MAX/Data'), Path(r'/media/halechr/MAX/Data'), Path(r'/home/halechr/FastData'), Path(r'W:\\Data'), Path(r'/home/halechr/cloud/turbo/Data'), Path(r'/Volumes/MoverNew/data'), Path(r'/home/halechr/turbo/Data')]\n",
    "global_data_root_parent_path = None\n",
    "def on_user_update_path_selection(new_path: Path):\n",
    "    global global_data_root_parent_path\n",
    "    new_global_data_root_parent_path = new_path.resolve()\n",
    "    global_data_root_parent_path = new_global_data_root_parent_path\n",
    "    print(f'global_data_root_parent_path changed to {global_data_root_parent_path}')\n",
    "    assert global_data_root_parent_path.exists(), f\"global_data_root_parent_path: {global_data_root_parent_path} does not exist! Is the right computer's config commented out above?\"\n",
    "            \n",
    "global_data_root_parent_path_widget = build_global_data_root_parent_path_selection_widget(all_paths, on_user_update_path_selection)\n",
    "global_data_root_parent_path_widget\n",
    "\n",
    "from pyphoplacecellanalysis.Analysis.Decoder.heuristic_replay_scoring import HeuristicReplayScoring, compute_local_peak_probabilities, get_peaks_mask, expand_peaks_mask, InversionCount, is_valid_sequence_index, SubsequencesPartitioningResult\n",
    "from pyphoplacecellanalysis.Analysis.Decoder.heuristic_replay_scoring import _compute_diffusion_value"
   ]
  },
  {
   "cell_type": "code",
   "execution_count": 2,
   "metadata": {
    "notebookRunGroups": {
     "groupValue": "1"
    },
    "tags": [
     "run-main"
    ]
   },
   "outputs": [
    {
     "name": "stdout",
     "output_type": "stream",
     "text": [
      "Computing loaded session pickle file results : \"W:/Data/KDIBA/gor01/one/2006-6-09_1-22-43/output/2025-06-16_AllCustomDecodingResults.pkl\"... done.\n",
      "xbin_centers: [2.43873 7.31618 12.1936 17.0711 21.9485 26.826 31.7035 36.5809 41.4584 46.3358 51.2133 56.0907 60.9682 65.8456 70.7231 75.6005 80.478 85.3554 90.2329 95.1104 99.9878 104.865 109.743 114.62 119.498 124.375 129.253 134.13 139.007 143.885 148.762 153.64 158.517 163.395 168.272 173.15 178.027 182.905 187.782 192.659 197.537 202.414 207.292 212.169 217.047 221.924 226.802 231.679 236.557 241.434 246.311 251.189 256.066 260.944 265.821 270.699 275.576 280.454 285.331]\n"
     ]
    }
   ],
   "source": [
    "import pyphoplacecellanalysis.External.pyqtgraph as pg\n",
    "from pyphoplacecellanalysis.External.pyqtgraph.Qt import QtGui, QtCore, QtWidgets\n",
    "# from pyphoplacecellanalysis.External.pyqtgraph.parametertree.parameterTypes.file import popupFilePicker\n",
    "from pyphoplacecellanalysis.External.pyqtgraph.widgets.FileDialog import FileDialog\n",
    "\n",
    "from silx.gui import qt\n",
    "from silx.gui.dialog.ImageFileDialog import ImageFileDialog\n",
    "from silx.gui.dialog.DataFileDialog import DataFileDialog\n",
    "import silx.io\n",
    "\n",
    "from pyphoplacecellanalysis.GUI.IPyWidgets.pipeline_ipywidgets import saveFile\n",
    "\n",
    "from pyphoplacecellanalysis.General.Pipeline.Stages.Loading import loadData\n",
    "\n",
    "from pyphoplacecellanalysis.Analysis.Decoder.reconstruction import DecodedFilterEpochsResult\n",
    "from pyphoplacecellanalysis.General.Pipeline.Stages.ComputationFunctions.MultiContextComputationFunctions.DirectionalPlacefieldGlobalComputationFunctions import DecoderDecodedEpochsResult\n",
    "from pyphoplacecellanalysis.GUI.Silx.EpochHeuristicPosteriorDebuggerWidget import EpochHeuristicDebugger\n",
    "\n",
    "# load_path = Path(r\"W:\\Data\\KDIBA\\gor01\\one\\2006-6-09_1-22-43\\output\\2024-02-13_CustomDecodingResults.pkl\").resolve()\n",
    "# load_path = Path(r\"W:\\Data\\KDIBA\\gor01\\one\\2006-6-09_1-22-43\\output\\2024-02-13_9pm_CustomDecodingResults.pkl\").resolve()\n",
    "# load_path = Path(r\"W:\\Data\\KDIBA\\gor01\\one\\2006-6-09_1-22-43\\output\\2024-02-14_CustomDecodingResults.pkl\").resolve()\n",
    "# load_path = Path(r\"W:\\Data\\KDIBA\\gor01\\one\\2006-6-08_14-26-15\\output\\2024-02-15_CustomDecodingResults.pkl\").resolve()\n",
    "# load_path = Path(\"/media/halechr/MAX/Data/KDIBA/gor01/one/2006-6-08_14-26-15/output/2024-02-15_CustomDecodingResults.pkl\").resolve()\n",
    "# load_path = Path(\"/Users/pho/data/KDIBA/gor01/one/2006-6-09_1-22-43/output/2024-02-16_CustomDecodingResults.pkl\").resolve()\n",
    "# load_path = Path(\"/Users/pho/data/KDIBA/gor01/one/2006-6-09_1-22-43/output/2024-02-14_CustomDecodingResults.pkl\").resolve()\n",
    "# load_path = Path(\"/Users/pho/data/KDIBA/gor01/one/2006-6-09_1-22-43/output/2024-04-25_CustomDecodingResults.pkl\").resolve()\n",
    "# load_path = Path(r\"W:\\Data\\KDIBA\\gor01\\one\\2006-6-09_1-22-43\\output\\2024-04-25_CustomDecodingResults.pkl\").resolve() # APOGEE\n",
    "# load_path = Path(r\"W:\\Data\\KDIBA\\gor01\\one\\2006-6-09_1-22-43\\output\\2024-04-28_CustomDecodingResults.pkl\").resolve()\n",
    "# load_path = Path(r\"W:\\Data\\KDIBA\\gor01\\two\\2006-6-09_22-24-40\\output\\2024-04-28_CustomDecodingResults.pkl\").resolve() # APOGEE\n",
    "# load_path = Path(r\"W:\\Data\\KDIBA\\gor01\\one\\2006-6-09_1-22-43\\output\\2024-04-28_CustomDecodingResults.pkl\").resolve()\n",
    "# load_path = Path('W:/Data/KDIBA/gor01/one/2006-6-09_1-22-43/output/2024-11-25_CustomDecodingResults.pkl').resolve()\n",
    "# load_path = Path(r\"W:\\Data\\KDIBA\\gor01\\one\\2006-6-08_14-26-15\\output\\2024-05-06_CustomDecodingResults.pkl\").resolve() # new relative format\n",
    "\n",
    "# load_path = Path('/media/halechr/MAX/Data/KDIBA/gor01/one/2006-6-08_14-26-15/output/2024-08-01_CustomDecodingResults.pkl').resolve() # LAB\n",
    "\n",
    "# load_path = Path('W:/Data/KDIBA/gor01/one/2006-6-09_1-22-43/output/2024-11-25_CustomDecodingResults.pkl').resolve()\n",
    "# directional_decoders_epochs_decode_result, xbin, xbin_centers =  SerializationHelper_CustomDecodingResults.load(load_path=load_path)\n",
    "\n",
    "\n",
    "# load_path = Path(\"W:/Data/KDIBA/gor01/one/2006-6-09_1-22-43/output/2024-11-25_AllCustomDecodingResults.pkl\")\n",
    "# load_path = Path(\"W:/Data/KDIBA/gor01/one/2006-6-09_1-22-43/output/2025-06-16_AllCustomDecodingResults.pkl\")\n",
    "\n",
    "load_path = Path(\"W:/Data/KDIBA/gor01/one/2006-6-09_1-22-43/output/2025-06-16_AllCustomDecodingResults.pkl\")\n",
    "\n",
    "\n",
    "track_templates, directional_decoders_epochs_decode_result, xbin, xbin_centers =  SerializationHelper_AllCustomDecodingResults.load(load_path=load_path)\n",
    "pos_bin_size = directional_decoders_epochs_decode_result.pos_bin_size\n"
   ]
  },
  {
   "cell_type": "code",
   "execution_count": 3,
   "metadata": {},
   "outputs": [
    {
     "data": {
      "text/plain": [
       "{'long_LR': 214.0, 'long_RL': 214.0, 'short_LR': 144.0, 'short_RL': 144.0}"
      ]
     },
     "execution_count": 3,
     "metadata": {},
     "output_type": "execute_result"
    },
    {
     "data": {
      "text/plain": [
       "DecodedFilterEpochsResult(decoding_time_bin_size: float,\n",
       "\tfilter_epochs: neuropy.core.epoch.Epoch,\n",
       "\tnum_filter_epochs: int,\n",
       "\tmost_likely_positions_list: list | shape (n_epochs),\n",
       "\tp_x_given_n_list: list | shape (n_epochs),\n",
       "\tmarginal_x_list: list | shape (n_epochs),\n",
       "\tmarginal_y_list: list | shape (n_epochs),\n",
       "\tmost_likely_position_indicies_list: list | shape (n_epochs),\n",
       "\tspkcount: list | shape (n_epochs),\n",
       "\tnbins: numpy.ndarray | shape (n_epochs),\n",
       "\ttime_bin_containers: list | shape (n_epochs),\n",
       "\ttime_bin_edges: list | shape (n_epochs),\n",
       "\tepoch_description_list: list | shape (n_epochs),\n",
       "\tpos_bin_edges: numpy.ndarray | shape (n_pos_bins+1)\n",
       ")"
      ]
     },
     "execution_count": 3,
     "metadata": {},
     "output_type": "execute_result"
    }
   ],
   "source": [
    "\n",
    "\n",
    "# epoch_type_selector_dict = {'laps': {'decoder_filter_epochs_decoder_result_dict': decoder_laps_filter_epochs_decoder_result_dict, #'decoder_laps_radon_transform_df_dict': decoder_laps_radon_transform_df_dict,\n",
    "#           'decoder_radon_transform_extras_dict': decoder_laps_radon_transform_extras_dict},\n",
    "# 'ripple': {'decoder_filter_epochs_decoder_result_dict': decoder_ripple_filter_epochs_decoder_result_dict, #'decoder_laps_radon_transform_df_dict': decoder_laps_radon_transform_df_dict,\n",
    "#           'decoder_radon_transform_extras_dict': decoder_ripple_radon_transform_extras_dict},\n",
    "# }\n",
    "\n",
    "from neuropy.utils.indexing_helpers import NumpyHelpers, PandasHelpers\n",
    "from pyphoplacecellanalysis.Pho2D.track_shape_drawing import get_track_length_dict\n",
    "\n",
    "max_ignore_bins: float = 9\n",
    "same_thresh_cm: float = 6\n",
    "# max_jump_distance_cm: float = 60\n",
    "max_jump_distance_cm: float = 260\n",
    "\n",
    "compute_all_heuristic_scores_kwargs = dict(max_ignore_bins=max_ignore_bins, same_thresh_cm=same_thresh_cm, max_jump_distance_cm=max_jump_distance_cm)\n",
    "\n",
    "# an_active_decoder_filter_epochs_decoder_result_dict = deepcopy(directional_decoders_epochs_decode_result.decoder_ripple_filter_epochs_decoder_result_dict) ## Ripple\n",
    "an_active_decoder_filter_epochs_decoder_result_dict = deepcopy(directional_decoders_epochs_decode_result.decoder_laps_filter_epochs_decoder_result_dict) ## Laps\n",
    "\n",
    "# a_decoded_filter_epochs_decoder_result_dict: Dict[str, DecodedFilterEpochsResult] = deepcopy(directional_decoders_epochs_decode_result.decoder_ripple_filter_epochs_decoder_result_dict)\n",
    "a_decoded_filter_epochs_decoder_result_dict: Dict[str, DecodedFilterEpochsResult] = deepcopy(an_active_decoder_filter_epochs_decoder_result_dict)\n",
    "\n",
    "## INPUTS: track_templates, a_decoded_filter_epochs_decoder_result_dict\n",
    "decoder_grid_bin_bounds_dict = {a_name:a_decoder.pf.config.grid_bin_bounds for a_name, a_decoder in track_templates.get_decoders_dict().items()}\n",
    "assert NumpyHelpers.all_allclose(list(decoder_grid_bin_bounds_dict.values())), f\"all decoders should have the same grid_bin_bounds (independent of whether they are built on long/short, etc but they do not! This violates following assumptions.\"\n",
    "grid_bin_bounds = list(decoder_grid_bin_bounds_dict.values())[0] # tuple\n",
    "actual_track_length_dict, idealized_track_length_dict = get_track_length_dict(grid_bin_bounds, grid_bin_bounds)\n",
    "# idealized_track_length_dict # {'long': 214.0, 'short': 144.0}\n",
    "decoder_track_length_dict = {a_name:idealized_track_length_dict[a_name.split('_', maxsplit=1)[0]] for a_name, a_result in a_decoded_filter_epochs_decoder_result_dict.items()} # \n",
    "decoder_track_length_dict # {'long_LR': 214.0, 'long_RL': 214.0, 'short_LR': 144.0, 'short_RL': 144.0}\n",
    "## OUTPUTS: decoder_track_length_dict\n",
    "        \n",
    "\n",
    "a_name: str = 'long_LR'\n",
    "a_decoder_decoded_epochs_result: DecodedFilterEpochsResult = deepcopy(directional_decoders_epochs_decode_result.decoder_laps_filter_epochs_decoder_result_dict[a_name])\n",
    "# a_decoder_decoded_epochs_result: DecodedFilterEpochsResult = deepcopy(directional_decoders_epochs_decode_result.decoder_ripple_filter_epochs_decoder_result_dict[a_name])\n",
    "# a_decoder_decoded_epochs_result: DecodedFilterEpochsResult = deepcopy(an_active_decoder_filter_epochs_decoder_result_dict[a_name])\n",
    "\n",
    "a_decoder_track_length: float = decoder_track_length_dict[a_name]\n",
    "a_decoder_decoded_epochs_result\n",
    "good_epochs_list = [12, 15, 28, 37]\n",
    "\n",
    "\n",
    "a_decoded_filter_epochs_decoder_result_dict, _out_new_scores, partition_result_dict = HeuristicReplayScoring.compute_all_heuristic_scores(track_templates=track_templates, a_decoded_filter_epochs_decoder_result_dict=a_decoded_filter_epochs_decoder_result_dict, **compute_all_heuristic_scores_kwargs)\n",
    "all_score_computations_fn_dict = HeuristicReplayScoring.build_all_score_computations_fn_dict()\n",
    "\n"
   ]
  },
  {
   "cell_type": "code",
   "execution_count": 4,
   "metadata": {},
   "outputs": [],
   "source": [
    "\n",
    "app = pg.mkQApp('Heuristic Analysis Explorer')\n"
   ]
  },
  {
   "cell_type": "markdown",
   "metadata": {},
   "source": [
    "## add custom bin_by_bin fn:"
   ]
  },
  {
   "cell_type": "code",
   "execution_count": 5,
   "metadata": {
    "tags": [
     "run-main"
    ]
   },
   "outputs": [
    {
     "data": {
      "text/plain": [
       "{'jump_cm_per_sec': <bound method HeuristicReplayScoring.bin_by_bin_position_jump_velocity of <class 'pyphoplacecellanalysis.Analysis.Decoder.heuristic_replay_scoring.HeuristicReplayScoring'>>,\n",
       " 'large_jump_excluding': <function __main__.bin_by_bin_large_jump_filtering_fn(a_result: pyphoplacecellanalysis.Analysis.Decoder.reconstruction.DecodedFilterEpochsResult, an_epoch_idx: int, a_decoder_track_length: float) -> Tuple[npndarray.NDArray, npndarray.NDArray]>}"
      ]
     },
     "execution_count": 5,
     "metadata": {},
     "output_type": "execute_result"
    }
   ],
   "source": [
    "from numpy import ma\n",
    "\n",
    "\n",
    "@function_attributes(short_name='large_jump_excluding', tags=['bin-by-bin', 'score', 'replay'], input_requires=[], output_provides=[], uses=[], used_by=[], creation_date='2024-11-25 11:39', related_items=[])\n",
    "def bin_by_bin_large_jump_filtering_fn(a_result: DecodedFilterEpochsResult, an_epoch_idx: int, a_decoder_track_length: float) -> Tuple[NDArray, NDArray]:\n",
    "    \"\"\"\n",
    "    \"\"\"\n",
    "    max_position_jump_distance_cm: float = 50.0\n",
    "    # max_position_jump_velocity_cm_per_sec: float = 0.3\n",
    "    \n",
    "    time_window_centers, bin_by_bin_jump_distance = HeuristicReplayScoring.bin_by_bin_position_jump_distance(a_result=a_result, an_epoch_idx=an_epoch_idx, a_decoder_track_length=a_decoder_track_length)\n",
    "    assert len(time_window_centers) == len(bin_by_bin_jump_distance)\n",
    "    ## convert to cm/sec (jump velocity) by dividing by time_bin_size\n",
    "    # bin_by_bin_jump_velocity = deepcopy(bin_by_bin_jump_distance) / time_window_centers\n",
    "    is_included_idx = (np.abs(bin_by_bin_jump_distance) <= max_position_jump_distance_cm)\n",
    "     \n",
    "    arr_masked = ma.masked_array(bin_by_bin_jump_distance, mask=np.logical_not(is_included_idx), fill_value=np.nan)\n",
    "    time_window_centers_arr_masked = ma.masked_array(time_window_centers, mask=np.logical_not(is_included_idx), fill_value=np.nan)\n",
    "\n",
    "    return time_window_centers_arr_masked, arr_masked\n",
    "\n",
    "\n",
    "all_bin_by_bin_computation_fn_dict = HeuristicReplayScoring.build_all_bin_by_bin_computation_fn_dict()\n",
    "all_bin_by_bin_computation_fn_dict.update({\n",
    "    'large_jump_excluding': bin_by_bin_large_jump_filtering_fn, \n",
    "})\n",
    "all_bin_by_bin_computation_fn_dict\n"
   ]
  },
  {
   "cell_type": "code",
   "execution_count": null,
   "metadata": {},
   "outputs": [],
   "source": [
    "dbgr.all_bin_by_bin_computation_fn_dict.update({\n",
    "'large_jump_excluding': bin_by_bin_large_jump_filtering_fn, \n",
    "})\n",
    "dbgr.programmatically_update_active_epoch(28)"
   ]
  },
  {
   "cell_type": "markdown",
   "metadata": {},
   "source": [
    "## Program Goal: Find the longest possible subsequence such that none of the following requirements are violated:\n",
    "1. the `candidate_subsequence` contains no intruding subsequence with length longer than `max_ignore_bins` bins  \n",
    "2. the total number of intruding subsequence time bins does not exceed `(len(candidate_subsequence)/2.0)` -- \"more sequence bins than intruding bins\"\n",
    "maxbridged"
   ]
  },
  {
   "attachments": {
    "image.png": {
     "image/png": "[encoded data removed]"
    }
   },
   "cell_type": "markdown",
   "metadata": {},
   "source": [
    "## 2024-05-03 Heuristic \n",
    "![image.png](attachment:image.png)"
   ]
  },
  {
   "cell_type": "code",
   "execution_count": 6,
   "metadata": {
    "notebookRunGroups": {
     "groupValue": "2"
    },
    "tags": [
     "run-main"
    ]
   },
   "outputs": [
    {
     "name": "stdout",
     "output_type": "stream",
     "text": [
      "n_global_xbin_pos_bins: 59\n",
      "n_tbins: 258, n_pos_bins: 59\n",
      "x_range: 287.7697841726619, img_height_scale: 4.877453969028168\n",
      "img_origin: (0.0, 0.0)\n",
      "img_scale: (1.0, 4.877453969028168)\n",
      "img_bounds: ((0, 258), (0.0, 287.7697841726619))\n",
      "curr_img_bounds: ((0.0, 258.0), (0.0, 287.7697841726619))\n",
      "curr_img_bounds: ((0.0, 258.0), (0.0, 287.7697841726619))\n",
      "WARN: self.disable_emit_changed = True\n",
      "WARN: self.disable_emit_changed = True\n",
      "n_global_xbin_pos_bins: 59\n",
      "n_tbins: 258, n_pos_bins: 59\n",
      "n_global_xbin_pos_bins: 59\n",
      "n_tbins: 258, n_pos_bins: 59\n",
      "x_range: 287.7697841726619, img_height_scale: 4.877453969028168\n",
      "img_origin: (0.0, 0.0)\n",
      "img_scale: (1.0, 4.877453969028168)\n",
      "img_bounds: ((0, 258), (0.0, 287.7697841726619))\n"
     ]
    },
    {
     "data": {
      "application/vnd.jupyter.widget-view+json": {
       "model_id": "7774c21e209046889c553aa5a1d42df1",
       "version_major": 2,
       "version_minor": 0
      },
      "text/plain": [
       "IntSlider(value=3, max=83)"
      ]
     },
     "metadata": {},
     "output_type": "display_data"
    }
   ],
   "source": [
    "from pyphoplacecellanalysis.GUI.Silx.EpochHeuristicPosteriorDebuggerWidget import EpochHeuristicDebugger\n",
    "from pyphoplacecellanalysis.GUI.Silx.EpochHeuristicPosteriorDebuggerWidget import PositionDerivativesContainer\n",
    "from pyphoplacecellanalysis.GUI.Qt.Widgets.ScrollBarWithSpinBox.ScrollBarWithSpinBox import ScrollBarWithSpinBox\n",
    "\n",
    "## INPUTS: a_decoder_decoded_epochs_result\n",
    "# initial_epoch_idx: int = 28 # 55, 12 is also good\n",
    "initial_epoch_idx: int = 3 # 55, 12 is also good\n",
    "dbgr: EpochHeuristicDebugger = EpochHeuristicDebugger.init_from_epoch_idx(a_decoder_decoded_epochs_result=a_decoder_decoded_epochs_result, active_epoch_idx=initial_epoch_idx,\n",
    "\t\t\t\t\t\t\t\t\tpos_bin_size=pos_bin_size, decoder_track_length=a_decoder_track_length, xbin=deepcopy(xbin), xbin_centers=deepcopy(xbin_centers),\n",
    "                                    all_bin_by_bin_computation_fn_dict = all_bin_by_bin_computation_fn_dict,\n",
    "\t\t\t\t\t\t\t\t\tuse_bin_units_instead_of_realworld=False, # **compute_all_heuristic_scores_kwargs,\n",
    "\t\t\t\t\t\t\t\t\t)\n",
    "\n",
    "slider = widgets.IntSlider(value=initial_epoch_idx, min=0, max=(a_decoder_decoded_epochs_result.num_filter_epochs-1))\n",
    "slider.observe(dbgr.on_slider_change, names='value')\n",
    "display(slider)"
   ]
  },
  {
   "cell_type": "code",
   "execution_count": null,
   "metadata": {},
   "outputs": [],
   "source": [
    "plot: Plot2D = dbgr.plot\n",
    "plot.resetZoom()"
   ]
  },
  {
   "cell_type": "code",
   "execution_count": null,
   "metadata": {},
   "outputs": [],
   "source": [
    "# dbgr.programmatic_plots_config_dict\n",
    "dbgr.programmatic_plots_dict\n"
   ]
  },
  {
   "cell_type": "code",
   "execution_count": null,
   "metadata": {},
   "outputs": [],
   "source": [
    "## INPUTS: dbgr, dbgr\n",
    "new_col_name: str = 'large_jump_excluding'\n",
    "dbgr.all_bin_by_bin_computation_fn_dict.update({\n",
    "'large_jump_excluding': bin_by_bin_large_jump_filtering_fn, \n",
    "})\n",
    "\n",
    "\n",
    "## Build a new plot if needed\n",
    "a_plot, a_plot_config_dict = EpochHeuristicDebugger._perform_initialize_new_plot_and_config_if_needed(dbgr=dbgr, a_plot_name=new_col_name)\n",
    "assert a_plot is not None\n",
    "assert a_plot_config_dict is not None\n",
    "\n",
    "dbgr.main_layout.addWidget(a_plot) ## add the plot to the main_layout\n",
    "\n",
    "# for a_plot_name, a_plot in dbgr.programmatic_plots_dict.items():\n",
    "#     dbgr.main_layout.addWidget(a_plot) ## add the plot to the main_layout\n"
   ]
  },
  {
   "cell_type": "code",
   "execution_count": null,
   "metadata": {},
   "outputs": [],
   "source": []
  },
  {
   "cell_type": "code",
   "execution_count": null,
   "metadata": {},
   "outputs": [],
   "source": []
  },
  {
   "cell_type": "code",
   "execution_count": null,
   "metadata": {},
   "outputs": [],
   "source": [
    "plot_position: Plot1D = dbgr.plot_position\n",
    "# plot_position.setXAxisAutoScale(flag=True)\n",
    "\n",
    "xmin, xmax = xbin[0], xbin[-1]\n",
    "(xmin, xmax)\n",
    "\n",
    "plot_position.getXAxis().setLimits(xmin, xmax)\n",
    "\n",
    "plot_position.getXAxis().getLimits()"
   ]
  },
  {
   "cell_type": "code",
   "execution_count": null,
   "metadata": {},
   "outputs": [],
   "source": [
    "243 - 129 # 114"
   ]
  },
  {
   "cell_type": "code",
   "execution_count": null,
   "metadata": {},
   "outputs": [],
   "source": [
    "from pyphoplacecellanalysis.Analysis.Decoder.reconstruction import SingleEpochDecodedResult\n",
    "\n",
    "active_single_epoch_result: SingleEpochDecodedResult = dbgr.active_single_epoch_result\n",
    "active_single_epoch_result\n",
    "\n",
    "active_single_epoch_result.epoch_info_tuple"
   ]
  },
  {
   "cell_type": "code",
   "execution_count": null,
   "metadata": {},
   "outputs": [],
   "source": [
    "epoch_start_time=149.959\n",
    "\n",
    "# dbgr.filter_epochs\n",
    "# dbgr.active_decoder_decoded_epochs_result.get_result_for_epoch_at_time(epoch_start_time=epoch_start_time)\n",
    "\n",
    "# filtered_v = deepcopy(dbgr.active_decoder_decoded_epochs_result).filtered_by_epoch_times(included_epoch_start_times=np.atleast_1d(epoch_start_time)) # should only have 1 epoch remaining\n",
    "# assert len(filtered_v.filter_epochs) == 1, f\"len(filtered_v.filter_epochs): {len(filtered_v.filter_epochs)}\"\n",
    "# _out_epoch_result = filtered_v.get_result_for_epoch(active_epoch_idx=0) # 0 to indicate the first (and only) remaining epoch\n",
    "# _out_epoch_result.epoch_info_tuple # EpochTuple(Index=28, start=149.95935746072792, stop=150.25439218967222, label=28, duration=0.2950347289443016, score=0.21180153240310493, velocity=731.810983943322, intercept=110046.67878251396, speed=731.810983943322, wcorr=-0.3284489944870443, P_decoder=0.2557134631770172, pearsonr=-0.5097636509078233, travel=0.14539664079005754, coverage=0.45614035087719296, jump=0.0025033377837116156, max_jump=114.1625134951574, sequential_correlation=2127831.2413223204, monotonicity_score=2127831.2413223204, laplacian_smoothness=2127831.2413223204, longest_sequence_length=4, longest_sequence_length_ratio=0.2222222222222222, direction_change_bin_ratio=0.47058823529411764, congruent_dir_bins_ratio=0.5294117647058824, total_congruent_direction_change=266.3791981553672, total_variation=528.9529791942293, integral_second_derivative=84280.58068604024, stddev_of_diff=44.75058200479833, is_user_annotated_epoch=True, is_valid_epoch=True, session_name='2006-6-09_1-22-43', delta_aligned_start_t=-879.357251301175, pre_post_delta_category='pre-delta', maze_id=0)\n",
    "# # _out_epoch_result.epoch_data_index\n",
    "\n",
    "# epoch_time_to_index_map = deepcopy(dbgr.active_decoder_decoded_epochs_result).filter_epochs.epochs.find_epoch_times_to_data_indicies_map(epoch_times=[epoch_start_time, ])\n",
    "epoch_time_to_index_map = dbgr.find_epoch_times_to_data_indicies_map(epoch_times=[epoch_start_time, ])\n",
    "if len(epoch_time_to_index_map) > 0:\n",
    "    found_idxs = list(epoch_time_to_index_map.values())\n",
    "    a_found_idx: int = found_idxs[0]\n",
    "    print(f'epoch_start_time: {epoch_start_time}\\na_found_idx: {a_found_idx}')\n",
    "    # slider.value = a_found_idx\n",
    "    # dbgr.update_active_epoch_data(active_epoch_idx=a_found_idx)\n",
    "    # active_epoch_scrollbar_ctrl_widget: ScrollBarWithSpinBox = dbgr.ui['ctrls_widget']\n",
    "    # active_epoch_scrollbar_ctrl_widget.setValue(28)\n",
    "    # active_epoch_scrollbar_ctrl_widget.emitChanged()\n",
    "    dbgr.programmatically_update_active_epoch(active_epoch_idx=a_found_idx)\n",
    "\n",
    "# epoch_time_to_index_map\n"
   ]
  },
  {
   "cell_type": "code",
   "execution_count": null,
   "metadata": {},
   "outputs": [],
   "source": [
    "\n",
    "\n"
   ]
  },
  {
   "cell_type": "code",
   "execution_count": null,
   "metadata": {},
   "outputs": [],
   "source": [
    "slider.value = 28\n",
    "dbgr.update_active_epoch_data(active_epoch_idx=28)\n"
   ]
  },
  {
   "cell_type": "code",
   "execution_count": null,
   "metadata": {},
   "outputs": [],
   "source": [
    "dbgr.plot.mask()\n",
    "\n",
    "\n",
    "## INPUTS: debgr\n",
    "img_data = dbgr.plot.getActiveImage() # ImageData\n",
    "curr_posterior: NDArray = deepcopy(img_data.getData())\n",
    "curr_selection_mask: NDArray = deepcopy(dbgr.plot.getSelectionMask())\n",
    "assert np.shape(curr_posterior) == np.shape(curr_selection_mask)\n",
    "curr_selection_indicies = np.where(curr_selection_mask == 1)\n",
    "len(curr_selection_indicies[0])\n",
    "curr_selection_indicies"
   ]
  },
  {
   "cell_type": "code",
   "execution_count": null,
   "metadata": {},
   "outputs": [],
   "source": [
    "source_selection_mask = deepcopy(curr_selection_mask)\n",
    "source_selection_indicies = deepcopy(np.where(source_selection_mask == 1))\n",
    "source_selection_values = deepcopy(curr_posterior[source_selection_indicies])\n",
    "# source_selection_values.shape\n",
    "# source_selection_mask\n",
    "source_selection_indicies\n",
    "source_selection_values\n"
   ]
  },
  {
   "cell_type": "code",
   "execution_count": null,
   "metadata": {},
   "outputs": [],
   "source": [
    "source_selection_values"
   ]
  },
  {
   "cell_type": "code",
   "execution_count": null,
   "metadata": {},
   "outputs": [],
   "source": [
    "dest_selection_mask = deepcopy(curr_selection_mask)\n",
    "dest_selection_indicies = deepcopy(curr_selection_indicies)\n",
    "dest_original_selection_values = deepcopy(curr_posterior[dest_selection_indicies]) # the values that will be overwritten with the source\n",
    "\n",
    "dest_selection_indicies\n",
    "dest_original_selection_values"
   ]
  },
  {
   "cell_type": "code",
   "execution_count": null,
   "metadata": {},
   "outputs": [],
   "source": [
    "from attrs import asdict\n",
    "longest_sequence_length, longest_sequence_length_ratio, direction_change_bin_ratio, congruent_dir_bins_ratio, total_congruent_direction_change, total_variation, integral_second_derivative, stddev_of_diff, position_derivatives_df = dbgr.heuristic_scores\n",
    "\n",
    "heuristic_scores_dict = asdict(dbgr.heuristic_scores, filter=lambda a, v: a.name not in ['position_derivatives_df'])\n",
    "# heuristic_scores_dict\n",
    "# longest_sequence_length\n",
    "\n",
    "df = pd.DataFrame(list(heuristic_scores_dict.values()), index=heuristic_scores_dict.keys(), columns=['Values'])\n",
    "print(df)\n"
   ]
  },
  {
   "cell_type": "code",
   "execution_count": null,
   "metadata": {},
   "outputs": [],
   "source": [
    "from pyphocorehelpers.gui.Qt.pandas_model import SimplePandasModel\n",
    "\n",
    "## INPUTS: df\n",
    "\n",
    "# Update the table:\n",
    "table_id_name: str = 'combined_epoch_stats'\n",
    "dbgr.ui.models_dict[table_id_name] = SimplePandasModel(df.copy())\n",
    "\n",
    "# Update the view's model:\n",
    "view = dbgr.ui.views_dict[table_id_name]\n",
    "view.setModel(dbgr.ui.models_dict[table_id_name])\n",
    "# Adjust the column widths to fit the contents\n",
    "view.resizeColumnsToContents()\n"
   ]
  },
  {
   "cell_type": "code",
   "execution_count": null,
   "metadata": {},
   "outputs": [],
   "source": [
    "tables_tab_widget = dbgr.ui.tables_tab_widget\n",
    "tables_tab_widget.setMinimumHeight(500)\n"
   ]
  },
  {
   "cell_type": "code",
   "execution_count": null,
   "metadata": {},
   "outputs": [],
   "source": [
    "## overwrite\n",
    "assert np.shape(dest_original_selection_values) == np.shape(source_selection_values)\n",
    "modified_posterior = deepcopy(curr_posterior)\n",
    "modified_posterior[dest_selection_indicies] = 0.666 # source_selection_values.copy()\n",
    "# modified_posterior\n",
    "\n",
    "# img_data.setData(modified_posterior)\n",
    "\n",
    "# curr_posterior - modified_posterior"
   ]
  },
  {
   "cell_type": "code",
   "execution_count": null,
   "metadata": {},
   "outputs": [],
   "source": [
    "# dbgr.plot.addImage(modified_posterior)\n",
    "prev_img = dbgr.plot.getImage('p_x_given_n') # ImageBase\n",
    "prev_img.setData(modified_posterior)\n",
    "# dbgr.plot.setActiveImage('p_x_given_n')"
   ]
  },
  {
   "cell_type": "code",
   "execution_count": null,
   "metadata": {},
   "outputs": [],
   "source": [
    "dbgr.plot.removeImage()"
   ]
  },
  {
   "cell_type": "code",
   "execution_count": null,
   "metadata": {},
   "outputs": [],
   "source": [
    "## Use the selection mask as the \"clone\" source\n",
    "# curr_posterior\n",
    "mask_tools = dbgr.plot.getMaskToolsDockWidget()\n",
    "# mask_tools.getSelectionMask()\n",
    "# mask_tools.\n"
   ]
  },
  {
   "cell_type": "code",
   "execution_count": null,
   "metadata": {},
   "outputs": [],
   "source": [
    "## Tries to display the plot2D posterior heatmap as a 3D surface plot for easier visualization, but it doesn't work\n",
    "\n",
    "from silx.gui import qt\n",
    "from silx.gui.plot3d.SceneWindow import SceneWindow\n",
    "from silx.gui.plot3d import SceneWidget\n",
    "\n",
    "## INPUTS: plot2D\n",
    "\n",
    "plot2D = dbgr.plot\n",
    "\n",
    "# Extract image data from the existing Plot2D instance\n",
    "item = plot2D.getActiveImage()\n",
    "if item is None:\n",
    "    raise ValueError(\"No active image in the provided Plot2D instance\")\n",
    "image_data = item.getData(copy=False)\n",
    "\n",
    "# Create a surface plot from the image data\n",
    "x = np.arange(image_data.shape[1])\n",
    "y = np.arange(image_data.shape[0])\n",
    "x, y = np.meshgrid(x, y)\n",
    "z = image_data\n",
    "\n",
    "# Create and set up the 3D plot window\n",
    "# Create a SceneWindow widget\n",
    "plot3DWindow = SceneWindow()\n",
    "\n",
    "# Get the SceneWidget contained in the window and set its colors\n",
    "plot3D = plot3DWindow.getSceneWidget()\n",
    "plot3D.setBackgroundColor((0.8, 0.8, 0.8, 1.0))\n",
    "plot3D.setForegroundColor((1.0, 1.0, 1.0, 1.0))\n",
    "plot3D.setTextColor((0.1, 0.1, 0.1, 1.0))\n",
    "\n",
    "# plot3D = plot3DWindow.sceneWidget()\n",
    "plot3D.add\n",
    "plot3D.addSurface(x, y, z)\n",
    "\n",
    "# Show the 3D plot window\n",
    "plot3DWindow.show()"
   ]
  },
  {
   "cell_type": "code",
   "execution_count": null,
   "metadata": {},
   "outputs": [],
   "source": [
    "from pyphoplacecellanalysis.GUI.Silx.silx_helpers import ContinuousImageMask, ContinuousMaskToolsWidget, ContinuousMaskToolsDockWidget, getMaskToolsDockWidget\n",
    "\n",
    "# dbgr.plot.getMaskToolsDockWidget = getMaskToolsDockWidget\n",
    "\n",
    "## Adds a new mask bar at the bottom of the widget:\n",
    "\n",
    "# if mask is None:\n",
    "#     if self.__useMaskButton.isChecked():\n",
    "#         mask = self.__plot.getMaskToolsDockWidget().getSelectionMask()\n",
    "\n",
    "\n",
    "new_maskToolsWidget: ContinuousMaskToolsWidget = ContinuousMaskToolsWidget(\n",
    "    plot=dbgr.plot, parent=dbgr.main_widget,\n",
    ")\n",
    "\n",
    "\n",
    "new_maskToolsWidget\n",
    "\n",
    "dbgr.main_layout.addWidget(new_maskToolsWidget)\n",
    "\n",
    "# getMaskToolsDockWidget"
   ]
  },
  {
   "cell_type": "code",
   "execution_count": null,
   "metadata": {},
   "outputs": [],
   "source": [
    "new_maskToolsWidget.pencilSetting.setVisible(True)"
   ]
  },
  {
   "cell_type": "code",
   "execution_count": null,
   "metadata": {},
   "outputs": [],
   "source": [
    "new_maskToolsWidget._drawingMode"
   ]
  },
  {
   "cell_type": "code",
   "execution_count": null,
   "metadata": {},
   "outputs": [],
   "source": [
    "new_maskToolsWidget._updateDrawingModeWidgets()"
   ]
  },
  {
   "cell_type": "code",
   "execution_count": null,
   "metadata": {},
   "outputs": [],
   "source": [
    "new_maskToolsWidget.plot"
   ]
  },
  {
   "cell_type": "code",
   "execution_count": null,
   "metadata": {},
   "outputs": [],
   "source": [
    "new_maskToolsWidget._activePencilMode() # setInteractiveMode"
   ]
  },
  {
   "cell_type": "code",
   "execution_count": null,
   "metadata": {},
   "outputs": [],
   "source": [
    "new_maskToolsWidget.clearMask()"
   ]
  },
  {
   "cell_type": "code",
   "execution_count": null,
   "metadata": {},
   "outputs": [],
   "source": [
    "_out = getMaskToolsDockWidget(dbgr.plot.) # dbgr.plot.getMaskToolsDockWidget()\n",
    "_out"
   ]
  },
  {
   "cell_type": "code",
   "execution_count": null,
   "metadata": {},
   "outputs": [],
   "source": [
    "_out"
   ]
  },
  {
   "cell_type": "code",
   "execution_count": null,
   "metadata": {},
   "outputs": [],
   "source": [
    "from pyphoplacecellanalysis.Analysis.Decoder.heuristic_replay_scoring import HeuristicScoresTuple\n",
    "\n",
    "active_heuristic_scores:HeuristicScoresTuple = deepcopy(dbgr.heuristic_scores)\n",
    "\n",
    "position_derivatives_df: pd.DataFrame = deepcopy(dbgr.heuristic_scores.position_derivatives_df)\n",
    "longest_sequence_length = dbgr.heuristic_scores.longest_sequence_length\n",
    "\n",
    "position_derivatives_df"
   ]
  },
  {
   "cell_type": "code",
   "execution_count": null,
   "metadata": {},
   "outputs": [],
   "source": [
    "# active_heuristic_scores\n",
    "\n",
    "dbgr.active_decoder_decoded_epochs_result.filter_epochs"
   ]
  },
  {
   "cell_type": "code",
   "execution_count": null,
   "metadata": {},
   "outputs": [],
   "source": [
    "filter_epochs_df = deepcopy(dbgr.active_decoder_decoded_epochs_result.filter_epochs)\n",
    "filter_epochs_df['original_index'] = filter_epochs_df.index\n",
    "# longest_sequence_length_ratio\n",
    "active_heuristic_sort_measure = 'longest_sequence_length_ratio'\n",
    "# active_heuristic_sort_measure = 'longest_sequence_length'\n",
    "\n",
    "\n",
    "filter_epochs_df.sort_values(by=[active_heuristic_sort_measure, 'start', 'stop'], ascending=[False, True, True], inplace=True)\n",
    "filter_epochs_df.reset_index(drop=True, inplace=True)\n",
    "filter_epochs_df\n",
    "\n",
    "original_indices_first_5 = filter_epochs_df['original_index'].head(5).tolist()\n",
    "print(original_indices_first_5)\n",
    "\n",
    "# [325, 222, 261, 14, 73]\n"
   ]
  },
  {
   "cell_type": "code",
   "execution_count": null,
   "metadata": {},
   "outputs": [],
   "source": [
    "ui_dict = dbgr._build_utility_controls(main_layout=dbgr.main_layout)"
   ]
  },
  {
   "cell_type": "code",
   "execution_count": null,
   "metadata": {},
   "outputs": [],
   "source": [
    "# a_plot: Plot1D = dbgr.plot_position\n",
    "a_plot: Plot1D = dbgr.plot_velocity\n",
    "# a_plot\n",
    "# a_plot.set"
   ]
  },
  {
   "cell_type": "code",
   "execution_count": null,
   "metadata": {},
   "outputs": [],
   "source": [
    "a_curve = dbgr.plot_velocity.getCurve(\"Velocity\")\n"
   ]
  },
  {
   "cell_type": "code",
   "execution_count": null,
   "metadata": {},
   "outputs": [],
   "source": [
    "k = 'Position'\n",
    "# k = \"Velocity\"\n",
    "a_plot: Plot1D = dbgr.position_plots_dict[k]\n",
    "a_curve = a_plot.getCurve(k)\n",
    "# a_curve.getSymbol() # 'o'\n",
    "# a_curve.getSymbolSize() # 6.0\n",
    "# a_curve.setSymbol('o')\n",
    "# a_curve.setSymbolSize(6.0)"
   ]
  },
  {
   "cell_type": "code",
   "execution_count": null,
   "metadata": {},
   "outputs": [],
   "source": [
    "\n",
    "_plot_toolbars = [a_plot.toolBar(), a_plot.getOutputToolBar(), a_plot.getInteractiveModeToolBar()]\n",
    "for a_toolbar in _plot_toolbars:\n",
    "\ta_plot.removeToolBar(a_toolbar)\n",
    "# a_plot.removeToolBarBreak()\n"
   ]
  },
  {
   "cell_type": "code",
   "execution_count": null,
   "metadata": {},
   "outputs": [],
   "source": [
    "# a_plot.getItems()\n",
    "a_plot.get"
   ]
  },
  {
   "cell_type": "code",
   "execution_count": null,
   "metadata": {},
   "outputs": [],
   "source": [
    "\n",
    "a_plot.removeToolBar(a_plot.toolBar())\n"
   ]
  },
  {
   "cell_type": "code",
   "execution_count": null,
   "metadata": {},
   "outputs": [],
   "source": [
    "current_baseline = numpy.zeros_like(edges)\n",
    "a_curve.getBaseline"
   ]
  },
  {
   "cell_type": "code",
   "execution_count": null,
   "metadata": {},
   "outputs": [],
   "source": [
    "# Draw stems manually\n",
    "x = deepcopy(dbgr.position_derivatives._curve_vel_t)\n",
    "y = deepcopy(dbgr.position_derivatives.vel)\n",
    "\n",
    "_temp_curves = []\n",
    "for i, xi, yi in zip(np.arange(len(x)), x, y):\n",
    "\tprint(f'i: {i}, xi: {xi}, yi: {yi}')\n",
    "\t# _temp_curves.append(a_plot.addCurve([xi, xi], [0, yi], color='black', linestyle='-', linewidth=5))\n",
    "    "
   ]
  },
  {
   "cell_type": "code",
   "execution_count": null,
   "metadata": {},
   "outputs": [],
   "source": [
    "for v in _temp_curves:\n",
    "\tv.remove()\n"
   ]
  },
  {
   "cell_type": "code",
   "execution_count": null,
   "metadata": {},
   "outputs": [],
   "source": [
    ", symbol='+', symbolSize=5"
   ]
  },
  {
   "cell_type": "code",
   "execution_count": null,
   "metadata": {},
   "outputs": [],
   "source": [
    "main_plot: Plot2D = dbgr.plot\n",
    "an_ax = main_plot.getYAxis()\n"
   ]
  },
  {
   "cell_type": "code",
   "execution_count": null,
   "metadata": {},
   "outputs": [],
   "source": [
    "a_plot.toolBar().hide()\n",
    "a_plot.\n"
   ]
  },
  {
   "cell_type": "code",
   "execution_count": null,
   "metadata": {},
   "outputs": [],
   "source": [
    "from functools import partial\n",
    "from pyphocorehelpers.print_helpers import DocumentationFilePrinter\n",
    "from silx.gui.plot.stats.stats import StatBase\n",
    "from silx.gui.utils import concurrent\n",
    "\n",
    "from pyphoplacecellanalysis.GUI.Silx.silx_helpers import DebugPrinterStat, DispersionImageStat\n",
    "\n",
    "    \n"
   ]
  },
  {
   "cell_type": "code",
   "execution_count": null,
   "metadata": {},
   "outputs": [],
   "source": [
    "\n",
    "for a_plot_name, a_plot in dbgr.position_plots_dict.items():\n",
    "\tstats = [\n",
    "\t\t('sum', np.sum),\n",
    "\t\t# Integral(),\n",
    "\t\t# (COM(), '{0:.2f}'),\n",
    "\t\t# DebugPrinterStat(),\n",
    "\t]\n",
    "\ta_plot.getStatsWidget().setStats(stats)\n",
    "\t# a_plot.getStatsWidget().setUpdateMode(options.update_mode)\n",
    "\ta_plot.getStatsWidget().setDisplayOnlyActiveItem(False)\n",
    "\ta_plot.getStatsWidget().parent().setVisible(True)\n",
    "\t\n"
   ]
  },
  {
   "cell_type": "code",
   "execution_count": null,
   "metadata": {},
   "outputs": [],
   "source": [
    "a_plot = dbgr.plot\n",
    "\n",
    "stats = [\n",
    "\t# ('sum', np.sum),\n",
    "\t# Integral(),\n",
    "\t# (COM(), '{0:.2f}'),\n",
    "\t# DebugPrinterStat(),\n",
    "\t(DispersionImageStat(), '{0:.2f}'),\n",
    "]\n",
    "\n",
    "a_plot.getStatsWidget().setStats(stats)\n",
    "# a_plot.getStatsWidget().setUpdateMode(options.update_mode)\n",
    "a_plot.getStatsWidget().setDisplayOnlyActiveItem(False)\n",
    "a_plot.getStatsWidget().parent().setVisible(True)\n",
    "\n"
   ]
  },
  {
   "cell_type": "code",
   "execution_count": null,
   "metadata": {},
   "outputs": [],
   "source": [
    "a_plot.setXAxisAutoScale(flag=False)\n",
    "a_plot.setYAxisAutoScale(flag=True)\n",
    "a_plot.resetZoom()\n"
   ]
  },
  {
   "cell_type": "code",
   "execution_count": null,
   "metadata": {},
   "outputs": [],
   "source": [
    "a_plot.getXAxis().setLimits(*x_range)"
   ]
  },
  {
   "cell_type": "code",
   "execution_count": null,
   "metadata": {},
   "outputs": [],
   "source": [
    "a_plot.getActiveCurveStyle()._linestyle"
   ]
  },
  {
   "cell_type": "code",
   "execution_count": null,
   "metadata": {},
   "outputs": [],
   "source": [
    "a_plot.setGraphGrid(which=True) # good\n",
    "a_plot.setActiveCurve('Velocity')\n",
    "\n",
    "# a_plot.setActiveCurveSelectionMode('none')\n",
    "# a_plot.setActiveCurveSelectionMode('legacy')\n",
    "# a_plot.setActiveCurve('Position')"
   ]
  },
  {
   "cell_type": "code",
   "execution_count": null,
   "metadata": {},
   "outputs": [],
   "source": [
    "from silx.gui.plot.items.curve import Curve\n",
    "\n",
    "a_curve: Curve = a_plot.getCurve(\"Position\") # silx.gui.plot.items.curve.Curve\n",
    "a_curve.getCurrentStyle() # silx.gui.plot.items.curve.CurveStyle\n",
    "print_keys_if_possible('a_plot.getCurrentStyle()', a_curve.getCurrentStyle())"
   ]
  },
  {
   "cell_type": "code",
   "execution_count": null,
   "metadata": {},
   "outputs": [],
   "source": [
    "a_curve.getCurrentStyle().__dict__"
   ]
  },
  {
   "cell_type": "code",
   "execution_count": null,
   "metadata": {},
   "outputs": [],
   "source": [
    "a_curve.getLineStyle()"
   ]
  },
  {
   "cell_type": "code",
   "execution_count": null,
   "metadata": {},
   "outputs": [],
   "source": [
    "a_curve.__dict__"
   ]
  },
  {
   "cell_type": "code",
   "execution_count": null,
   "metadata": {},
   "outputs": [],
   "source": [
    "# a_plot.setLineStyle(\n",
    "a_curve.getSupportedLineStyles()"
   ]
  },
  {
   "cell_type": "code",
   "execution_count": null,
   "metadata": {},
   "outputs": [],
   "source": [
    "from pyphoplacecellanalysis.Analysis.Decoder.heuristic_replay_scoring import HeuristicScoresTuple, HeuristicReplayScoring\n",
    "\n",
    "dbgr.heuristic_scores = HeuristicReplayScoring.compute_pho_heuristic_replay_scores(a_result=a_decoder_decoded_epochs_result, an_epoch_idx=dbgr.active_single_epoch_result.epoch_data_index, debug_print=False)"
   ]
  },
  {
   "cell_type": "code",
   "execution_count": null,
   "metadata": {},
   "outputs": [],
   "source": [
    "from pyphoplacecellanalysis.Analysis.Decoder.heuristic_replay_scoring import HeuristicScoresTuple, HeuristicReplayScoring\n",
    "\n",
    "HeuristicReplayScoring.bin_wise_continuous_sequence_sort_score_fn(a_result=a_decoder_decoded_epochs_result, an_epoch_idx=dbgr.active_single_epoch_result.epoch_data_index, a_decoder_track_length=170.0, same_thresh=4)"
   ]
  },
  {
   "cell_type": "code",
   "execution_count": null,
   "metadata": {},
   "outputs": [],
   "source": [
    "dbgr.heuristic_scores"
   ]
  },
  {
   "cell_type": "code",
   "execution_count": null,
   "metadata": {},
   "outputs": [],
   "source": [
    "# _curve_x = time_bin_centers\n",
    "_curve_x = np.arange(len(max_path)) + 0.5 # move forward by a half bin\n",
    "\n",
    "_max_path_Curve = dbgr.plot.addCurve(x=_curve_x, y=max_path, color='r', symbol='s', legend='max_path', replace=True, )\n",
    "_max_path_Curve\n"
   ]
  },
  {
   "cell_type": "code",
   "execution_count": null,
   "metadata": {},
   "outputs": [],
   "source": [
    "# def _my_split_list_fn(lst, accum, i, v):\n",
    "\n",
    "\n",
    "\n",
    "from pyphoplacecellanalysis.Analysis.Decoder.heuristic_replay_scoring import partition_subsequences_ignoring_same_positions\n",
    "\n",
    "lst1 = [0, 3.80542, -3.80542, -19.0271, 0, -19.0271]\n",
    "list_parts1, list_split_indicies1 = partition_subsequences_ignoring_same_positions(lst=lst1) # [[0, 3.80542, -3.80542, 0, -19.0271]]\n",
    "list_parts1\n",
    "list_split_indicies1\n",
    "\n",
    "lst2 = [0, 3.80542, 5.0, -3.80542, -19.0271, 0, -19.0271]\n",
    "list_parts2, list_split_indicies2 = partition_subsequences_ignoring_same_positions(lst=lst2) # [[0, 3.80542, -3.80542], [-19.0271, 0, -19.0271]]\n",
    "list_parts2\n",
    "list_split_indicies2\n",
    "\n",
    "# lst1 = [0, 3.80542, -3.80542, -19.0271, 0, -19.0271]\n",
    "# partition_subsequences(lst=lst1) # [[0, 3.80542, -3.80542, 0, -19.0271]]\n",
    "\n",
    "# lst2 = [0, 3.80542, 5.0, -3.80542, -19.0271, 0, -19.0271]\n",
    "# partition_subsequences(lst=lst2) # [[0, 3.80542, -3.80542], [-19.0271, 0, -19.0271]]\n"
   ]
  },
  {
   "cell_type": "code",
   "execution_count": null,
   "metadata": {},
   "outputs": [],
   "source": [
    "np.ang"
   ]
  },
  {
   "cell_type": "code",
   "execution_count": null,
   "metadata": {},
   "outputs": [],
   "source": [
    "from rdp import rdp\n",
    "\n",
    "max_path = np.nanargmax(dbgr.p_x_given_n_masked, axis=0) # returns the x-bins that maximize the path\n",
    "_curve_x = np.arange(len(max_path)) + 0.5 # move forward by a half bin\n",
    "# _curve_y = np.arange(len(max_path)) + 0.5 # move forward by a half bin\n",
    "# assert len(max_path) == len(time_bin_centers)\n",
    "# _curve_x = time_bin_centers\n",
    "\n",
    "# print(nfx)\n",
    "points = np.column_stack([_curve_x, max_path])\n",
    "print(\"points.shape:\", points.shape)\n",
    "points_after_rdp = rdp(points, epsilon=1)\n",
    "\n",
    "# Graph\n",
    "plt.figure(num='rdp trajectory fit', clear=True)\n",
    "plt.plot(points_after_rdp[:, 0], points_after_rdp[:, 1], color=\"red\", label=\"after RDP\")\n",
    "plt.plot(\n",
    "    points[:, 0], points[:, 1], color=\"black\", label=\"before\", alpha=0.7, linewidth=1\n",
    ")\n",
    "plt.xlabel(\"time (s)\")\n",
    "plt.ylabel(\"Close\")\n",
    "plt.legend()\n",
    "plt.show()"
   ]
  },
  {
   "cell_type": "code",
   "execution_count": null,
   "metadata": {},
   "outputs": [],
   "source": [
    "from pyphoplacecellanalysis.Analysis.Decoder.heuristic_replay_scoring import _compute_total_variation, _compute_integral_second_derivative, _compute_stddev_of_diff\n",
    "\n",
    "max_path = np.nanargmax(dbgr.p_x_given_n_masked, axis=0) # returns the x-bins that maximize the path\n",
    "\n",
    "_compute_total_variation(max_path)\n",
    "_compute_integral_second_derivative(max_path)\n",
    "_compute_stddev_of_diff(max_path)\n"
   ]
  },
  {
   "cell_type": "code",
   "execution_count": null,
   "metadata": {},
   "outputs": [],
   "source": []
  },
  {
   "cell_type": "code",
   "execution_count": null,
   "metadata": {},
   "outputs": [],
   "source": []
  },
  {
   "cell_type": "code",
   "execution_count": null,
   "metadata": {},
   "outputs": [],
   "source": [
    "# change_angles = np.degrees(np.arctan2(np.diff(max_path), time_bin_size))\n",
    "change_angles = np.degrees(np.arctan2(np.diff(max_path), 1))\n",
    "change_angles\n",
    "\n",
    "\n"
   ]
  },
  {
   "cell_type": "code",
   "execution_count": null,
   "metadata": {},
   "outputs": [],
   "source": [
    "import numpy\n",
    "from silx.gui import qt\n",
    "from silx.gui.fit import FitWidget\n",
    "from silx.math.fit.functions import sum_gauss\n",
    "\n",
    "# x = numpy.arange(2000).astype(numpy.float)\n",
    "# constant_bg = 3.14\n",
    "\n",
    "# # gaussian parameters: height, position, fwhm\n",
    "# p = numpy.array([1000, 100., 30.0,\n",
    "#                  500, 300., 25.,\n",
    "#                  1700, 500., 35.,\n",
    "#                  750, 700., 30.0,\n",
    "#                  1234, 900., 29.5,\n",
    "#                  302, 1100., 30.5,\n",
    "#                  75, 1300., 75.])\n",
    "# y = sum_gauss(x, *p) + constant_bg\n",
    "\n",
    "x = _curve_x\n",
    "y = max_path\n",
    "\n",
    "# a = qt.QApplication([])\n",
    "\n",
    "w = FitWidget()\n",
    "w.setData(x=x, y=y)\n",
    "w.show()"
   ]
  },
  {
   "cell_type": "code",
   "execution_count": null,
   "metadata": {},
   "outputs": [],
   "source": [
    "## INPUTS: active_captured_single_epoch_result"
   ]
  },
  {
   "cell_type": "code",
   "execution_count": null,
   "metadata": {},
   "outputs": [],
   "source": [
    "# *position_relative\": mapped between the ends of the track, 0.0 to 1.0\n",
    "most_likely_position_relative: NDArray = (np.squeeze(active_captured_single_epoch_result.most_likely_position_indicies) / float(active_captured_single_epoch_result.n_xbins-1))\n",
    "most_likely_position_relative\n",
    "\n",
    "plt.hlines([0], colors='k', xmin=active_captured_single_epoch_result.time_bin_edges[0], xmax=active_captured_single_epoch_result.time_bin_edges[-1])\n",
    "plt.step(active_captured_single_epoch_result.time_bin_container.centers[1:], np.diff(most_likely_position_relative))\n",
    "plt.scatter(active_captured_single_epoch_result.time_bin_container.centers, most_likely_position_relative, color='r')\n"
   ]
  },
  {
   "cell_type": "code",
   "execution_count": null,
   "metadata": {},
   "outputs": [],
   "source": [
    "from pyphoplacecellanalysis.Analysis.Decoder.heuristic_replay_scoring import HeuristicReplayScoring\n",
    "\n",
    "# HeuristicReplayScoring.bin_wise_track_coverage_score_fn(a_result=a_decoder_decoded_epochs_result, an_epoch_idx=active_captured_single_epoch_result.epoch_data_index, a_decoder_track_length=170.0)\n",
    "_out_new_scores = HeuristicReplayScoring.compute_pho_heuristic_replay_scores(a_result=a_decoder_decoded_epochs_result, an_epoch_idx=active_captured_single_epoch_result.epoch_data_index, debug_print=True)\n",
    "# np.diff(active_captured_single_epoch_result.most_likely_position_indicies)\n",
    "_out_new_scores"
   ]
  },
  {
   "cell_type": "markdown",
   "metadata": {},
   "source": [
    "# 2024-05-05 - `BasicBinnedImageRenderingWindow` to render posteriors"
   ]
  },
  {
   "cell_type": "code",
   "execution_count": null,
   "metadata": {},
   "outputs": [],
   "source": [
    "from pyphoplacecellanalysis.GUI.PyQtPlot.BinnedImageRenderingWindow import BasicBinnedImageRenderingWindow, LayoutScrollability\n",
    "\n",
    "# a posterior:\n",
    "xbin_labels = [str(v) for v in xbin_centers]\n",
    "a_posterior = dbgr.active_single_epoch_result.p_x_given_n_list[dbgr.active_epoch_idx]\n",
    "active_time_window_centers = deepcopy(dbgr.active_single_epoch_result.time_window_centers[dbgr.active_epoch_idx])\n",
    "\n",
    "\n",
    "out = BasicBinnedImageRenderingWindow(a_posterior, active_time_window_centers, xbin_labels, name='posterior', title=f\"Posterior for epoch[{dbgr.active_epoch_idx}]\", variable_label='Avg Velocity', scrollability_mode=LayoutScrollability.SCROLLABLE)\n",
    "# out.add_data(row=1, col=0, matrix=active_eloy_analysis.pf_overlapDensity_2D, xbins=active_pf_2D_dt.xbin_labels, ybins=active_pf_2D_dt.ybin_labels, name='pf_overlapDensity', title='pf overlapDensity metric', variable_label='pf overlapDensity')\n",
    "# out.add_data(row=2, col=0, matrix=active_pf_2D.ratemap.occupancy, xbins=active_pf_2D.xbin, ybins=active_pf_2D.ybin, name='occupancy_seconds', title='Seconds Occupancy', variable_label='seconds')"
   ]
  },
  {
   "cell_type": "markdown",
   "metadata": {},
   "source": [
    "# ⌚ 2024-05-06 - Old Jupyter slider with PIL.Image"
   ]
  },
  {
   "cell_type": "code",
   "execution_count": null,
   "metadata": {},
   "outputs": [],
   "source": [
    "def _get_posterior_images(p_x_given_n):\n",
    "    \"\"\" previews some processed posterior images \"\"\"\n",
    "    from PIL import Image\n",
    "    \n",
    "    img_plot_kwargs = dict(desired_width=None, desired_height=400, skip_img_normalization=False)\n",
    "    posterior_image = get_array_as_image(p_x_given_n, **img_plot_kwargs).transpose(Image.FLIP_TOP_BOTTOM)\n",
    "    # posterior_image\n",
    "\n",
    "    # Define 8x8 blur filter kernel\n",
    "    # blur_kernel = np.ones((8, 8)) #/ 64\n",
    "    # blur_kernel = np.ones((8, 1)) # smear only along the y-axis\n",
    "    blur_kernel = np.ones((1, 3)) # smear only along the x-axis\n",
    "    blur_kernel = blur_kernel / np.sum(blur_kernel)\n",
    "\n",
    "    # Apply blur to a 2D matrix\n",
    "    blurred_matrix = convolve2d(p_x_given_n, blur_kernel, mode='same', boundary='fill') # 'wrap'\n",
    "    blurred_image = get_array_as_image(blurred_matrix, **img_plot_kwargs).transpose(Image.FLIP_TOP_BOTTOM)\n",
    "    # blurred_image\n",
    "\n",
    "    # Display them side by side\n",
    "    # display(posterior_image, blurred_image)\n",
    "\n",
    "    # Concatenate the images horizontally\n",
    "    h_border = 4\n",
    "    concatenated_image = Image.new('RGB', ((posterior_image.width + h_border + blurred_image.width), max(posterior_image.height, blurred_image.height)))\n",
    "    concatenated_image.paste(posterior_image, (0, 0))\n",
    "    concatenated_image.paste(blurred_image, ((posterior_image.width + h_border), 0))\n",
    "    # Display the concatenated image\n",
    "    display(concatenated_image)\n",
    "\n",
    "    # display(widgets.HBox([display(posterior_image), display(blurred_image)]))\n",
    "\n",
    "# _get_posterior_images(p_x_given_n=p_x_given_n)\n",
    "_get_posterior_images(p_x_given_n=p_x_given_n_masked)"
   ]
  },
  {
   "cell_type": "code",
   "execution_count": null,
   "metadata": {},
   "outputs": [],
   "source": [
    "import ipywidgets as widgets\n",
    "from IPython.display import display, Image, clear_output\n",
    "\n",
    "## Interactive update.\n",
    "\n",
    "active_captured_single_epoch_result: SingleEpochDecodedResult = a_decoder_decoded_epochs_result.get_result_for_epoch(active_epoch_idx=12)\n",
    "\n",
    "def on_slider_change(change):\n",
    "    clear_output(wait=True)  # Clear previous output\n",
    "    print(\"Slider value:\", change.new)\n",
    "    active_captured_single_epoch_result = a_decoder_decoded_epochs_result.get_result_for_epoch(active_epoch_idx=change.new)\n",
    "    posterior_image = active_captured_single_epoch_result.get_posterior_as_image(desired_height=200, skip_img_normalization=False)\n",
    "    # display(posterior_image)\n",
    "    \n",
    "    # Apply blur to a 2D matrix\n",
    "    blurred_matrix = convolve2d(active_captured_single_epoch_result.p_x_given_n, blur_kernel, mode='same', boundary='fill') # 'wrap'\n",
    "    blurred_image = get_array_as_image(blurred_matrix, desired_height=200)\n",
    "    # display(widgets.HBox([Image(posterior_image), Image(blurred_image)]))\n",
    "    display(posterior_image, blurred_image)\n",
    "\n",
    "slider = widgets.IntSlider(value=12, min=0, max=(a_decoder_decoded_epochs_result.num_filter_epochs-1))\n",
    "slider.observe(on_slider_change, names='value')\n",
    "out = widgets.Output()\n",
    "display(slider, out)\n",
    "# display(slider)\n",
    "\n",
    "# looking good epochs: 12, 146, \n"
   ]
  },
  {
   "cell_type": "markdown",
   "metadata": {},
   "source": [
    "# 2024-04-25 - Interactive Posterior Constructor"
   ]
  },
  {
   "cell_type": "code",
   "execution_count": null,
   "metadata": {},
   "outputs": [],
   "source": [
    "import sys\n",
    "from PyQt5.QtWidgets import (QApplication, QMainWindow, QWidget, QVBoxLayout, \n",
    "                             QPushButton, QLabel, QGridLayout, QMessageBox)\n",
    "from PyQt5.QtCore import Qt\n",
    "from PyQt5.QtGui import QPainter, QColor, QBrush\n",
    "\n",
    "class WeightPainter(QMainWindow):\n",
    "    def __init__(self, n=5, m=5):\n",
    "        super().__init__()\n",
    "        self.n = n  # Rows\n",
    "        self.m = m  # Columns\n",
    "        self.weights = [[0.0 for _ in range(self.m)] for _ in range(self.n)]\n",
    "        self.current_tool = None\n",
    "        self.init_ui()\n",
    "\n",
    "    def init_ui(self):\n",
    "        self.central_widget = QWidget()\n",
    "        self.setCentralWidget(self.central_widget)\n",
    "\n",
    "        self.layout = QVBoxLayout()\n",
    "        self.buttons_layout = QGridLayout()\n",
    "        self.grid_layout = QGridLayout()\n",
    "        self.layout.addLayout(self.buttons_layout)\n",
    "        self.layout.addLayout(self.grid_layout)\n",
    "        self.central_widget.setLayout(self.layout)\n",
    "\n",
    "        # Add buttons\n",
    "        self.paint_button = QPushButton('Paint Weights', self)\n",
    "        self.erase_button = QPushButton('Erase Weights', self)\n",
    "        self.buttons_layout.addWidget(self.paint_button, 0, 0)\n",
    "        self.buttons_layout.addWidget(self.erase_button, 0, 1)\n",
    "\n",
    "        # Connect buttons to methods\n",
    "        self.paint_button.clicked.connect(lambda: self.select_tool('paint'))\n",
    "        self.erase_button.clicked.connect(lambda: self.select_tool('erase'))\n",
    "\n",
    "        # Create labels for the matrix\n",
    "        self.labels = [[QLabel('0.00', self) for _ in range(self.m)] for _ in range(self.n)]\n",
    "        for i in range(self.n):\n",
    "            for j in range(self.m):\n",
    "                label = self.labels[i][j]\n",
    "                label.setStyleSheet(\"QLabel { background-color: white; }\")\n",
    "                label.setAlignment(Qt.AlignCenter)\n",
    "                self.grid_layout.addWidget(label, i, j)\n",
    "\n",
    "        # Click event\n",
    "        for row in self.labels:\n",
    "            for label in row:\n",
    "                label.mousePressEvent = self.cell_clicked\n",
    "\n",
    "        # Window settings\n",
    "        self.setGeometry(300, 300, 350, 250)\n",
    "        self.setWindowTitle('Weight Painter')\n",
    "        self.show()\n",
    "\n",
    "    def select_tool(self, tool):\n",
    "        self.current_tool = tool\n",
    "        if tool == 'paint':\n",
    "            self.paint_button.setEnabled(False)\n",
    "            self.erase_button.setEnabled(True)\n",
    "        elif tool == 'erase':\n",
    "            self.paint_button.setEnabled(True)\n",
    "            self.erase_button.setEnabled(False)\n",
    "\n",
    "    def cell_clicked(self, event):\n",
    "        if self.current_tool is None:\n",
    "            QMessageBox.information(self, 'No tool selected',\n",
    "                                    \"Please select a tool before editing the weights.\")\n",
    "            return\n",
    "        \n",
    "        label = event.widget()\n",
    "        i, j = self.get_label_position(label)\n",
    "        if self.current_tool == 'paint':\n",
    "            self.weights[i][j] += 0.1  # Increment weight\n",
    "        elif self.current_tool == 'erase':\n",
    "            self.weights[i][j] -= 0.1  # Decrement weight\n",
    "            if self.weights[i][j] < 0:\n",
    "                self.weights[i][j] = 0  # Prevent negative weights\n",
    "\n",
    "        self.renormalize_column(j)\n",
    "        self.update_labels()\n",
    "\n",
    "    def get_label_position(self, label):\n",
    "        for i, row in enumerate(self.labels):\n",
    "            if label in row:\n",
    "                return i, row.index(label)\n",
    "\n",
    "    def renormalize_column(self, column):\n",
    "        column_sum = sum(self.weights[i][column] for i in range(self.n))\n",
    "        if column_sum == 0:\n",
    "            return  # Avoid division by zero\n",
    "        for i in range(self.n):\n",
    "            self.weights[i][column] /= column_sum\n",
    "\n",
    "    def update_labels(self):\n",
    "        for i in range(self.n):\n",
    "            for j in range(self.m):\n",
    "                self.labels[i][j].setText(f\"{self.weights[i][j]:.2f}\")\n",
    "\n",
    "# def main():\n",
    "#     app = QApplication(sys.argv)\n",
    "#     ex = WeightPainter()\n",
    "#     sys.exit(app.exec_())\n",
    "\n",
    "# if __name__ == '__main__':\n",
    "#     main()\n",
    "                \n",
    "ex = WeightPainter()\n",
    "ex.show()\n",
    "ex"
   ]
  },
  {
   "cell_type": "code",
   "execution_count": null,
   "metadata": {},
   "outputs": [],
   "source": [
    "ex.show()"
   ]
  },
  {
   "cell_type": "markdown",
   "metadata": {},
   "source": [
    "# 2024-07-30 - Postition/Velocity/Accel Plotter"
   ]
  },
  {
   "cell_type": "code",
   "execution_count": null,
   "metadata": {},
   "outputs": [],
   "source": [
    "## Get from debugger:\n",
    "\n",
    "# print(\"Slider value:\", change.new)\n",
    "active_epoch_idx: int = int(change.new)\n",
    "print(f'epoch[{active_epoch_idx}]')\n",
    "\n",
    "# Data Update ________________________________________________________________________________________________________ #\n",
    "# active_captured_single_epoch_result = a_decoder_decoded_epochs_result.get_result_for_epoch(active_epoch_idx=active_epoch_idx) \n",
    "# self.p_x_given_n_masked = _get_epoch_posterior(active_epoch_idx=active_epoch_idx)\n",
    "\n",
    "time_bin_size: float = self.active_decoder_decoded_epochs_result.decoding_time_bin_size\n",
    "self.active_single_epoch_result: SingleEpochDecodedResult = self.active_decoder_decoded_epochs_result.get_result_for_epoch(active_epoch_idx=active_epoch_idx)\n",
    "\n",
    "time_bin_centers = deepcopy(self.active_single_epoch_result.time_bin_container.centers)\n",
    "t_start, t_end = self.active_single_epoch_result.time_bin_edges[0], self.active_single_epoch_result.time_bin_edges[-1]\n",
    "\n",
    "p_x_given_n = deepcopy(self.active_single_epoch_result.p_x_given_n)\n",
    "most_likely_positions = deepcopy(self.active_single_epoch_result.most_likely_positions)\n",
    "most_likely_positionIndicies = deepcopy(self.active_single_epoch_result.most_likely_position_indicies)\n",
    "\n",
    "## Convert from a probability matrix to a cost matrix by computing (1.0 - P), so the most probable have the lowest values\n",
    "costs_matrix = 1.0 - deepcopy(p_x_given_n)\n",
    "# costs_matrix\n",
    "uniform_diffusion_prob: float = _compute_diffusion_value(p_x_given_n) # single bin diffusion probability\n",
    "print(f'uniform_diffusion_prob: {uniform_diffusion_prob}')\n",
    "is_higher_than_diffusion = (p_x_given_n > uniform_diffusion_prob)\n",
    "\n",
    "self.p_x_given_n_masked = ma.masked_array(p_x_given_n, mask=np.logical_not(is_higher_than_diffusion), fill_value=np.nan)\n",
    "\n",
    "\n",
    "self.heuristic_scores = HeuristicReplayScoring.compute_pho_heuristic_replay_scores(a_result=self.active_decoder_decoded_epochs_result, an_epoch_idx=self.active_single_epoch_result.epoch_data_index, debug_print=False)\n",
    "# longest_sequence_length, longest_sequence_length_ratio, direction_change_bin_ratio, congruent_dir_bins_ratio, total_congruent_direction_change, total_variation, integral_second_derivative, stddev_of_diff, position_derivatives_df = self.heuristic_scores\n",
    "# np.diff(active_captured_single_epoch_result.most_likely_position_indicies)\n",
    "# print(f'heuristic_scores: {astuple(self.heuristic_scores)[:-1]}')\n",
    "print(f\"heuristic_scores: {asdict(self.heuristic_scores, filter=(lambda an_attr, attr_value: an_attr.name not in ['position_derivatives_df']))}\")\n",
    "\n",
    "# Plottings __________________________________________________________________________________________________________ #\n",
    "prev_img: ImageBase = self.plot.getImage('p_x_given_n')\n",
    "prev_img.setData(self.p_x_given_n_masked)\n",
    "# prev_img._setYLabel(f'epoch[{active_epoch_idx}: x (bin)')\n",
    "\n",
    "max_path = np.nanargmax(self.p_x_given_n_masked, axis=0) # returns the x-bins that maximize the path\n",
    "assert len(max_path) == len(time_bin_centers)\n",
    "# _curve_x = time_bin_centers\n",
    "_curve_x = np.arange(len(max_path)) + 0.5 # move forward by a half bin\n",
    "\n",
    "# a_track_length: float = 170.0\n",
    "# effectively_same_location_size = 0.1 * a_track_length # 10% of the track length\n",
    "# effectively_same_location_num_bins: int = np.rint(effectively_same_location_size)\n",
    "effectively_same_location_num_bins: int = 4\n",
    "_max_path_Curve = self.plot.addCurve(x=_curve_x, y=max_path, color='r', symbol='s', legend='max_path', replace=True, yerror=effectively_same_location_num_bins)\n",
    "\n"
   ]
  },
  {
   "cell_type": "code",
   "execution_count": null,
   "metadata": {},
   "outputs": [],
   "source": [
    "from silx.gui.plot import Plot1D\n",
    "from silx.gui.plot.StackView import StackView\n",
    "from silx.gui import qt\n",
    "\n",
    "x = np.linspace(0, 10, 100)\n",
    "position = np.sin(x)\n",
    "velocity = np.cos(x)\n",
    "acceleration = -np.sin(x)\n",
    "\n",
    "# Create the Plot1D widgets\n",
    "plot_position = Plot1D()\n",
    "plot_velocity = Plot1D()\n",
    "plot_acceleration = Plot1D()\n",
    "\n",
    "# Add data to the plots\n",
    "plot_position.addCurve(x, position, legend=\"Position\", replace=True)\n",
    "plot_velocity.addCurve(x, velocity, legend=\"Velocity\", replace=True)\n",
    "plot_acceleration.addCurve(x, acceleration, legend=\"Acceleration\", replace=True)\n",
    "\n",
    "# Create a main widget and set a vertical layout\n",
    "main_widget = qt.QWidget()\n",
    "layout = qt.QVBoxLayout()\n",
    "main_widget.setLayout(layout)\n",
    "\n",
    "# Add the plots to the layout\n",
    "layout.addWidget(plot_position)\n",
    "layout.addWidget(plot_velocity)\n",
    "layout.addWidget(plot_acceleration)\n",
    "\n",
    "# Show the main widget\n",
    "main_widget.show()"
   ]
  },
  {
   "cell_type": "code",
   "execution_count": null,
   "metadata": {},
   "outputs": [],
   "source": [
    "vel = np.diff(dbgr.active_most_likely_position_indicies)\n",
    "accel = np.diff(vel)\n",
    "\n",
    "accel"
   ]
  },
  {
   "cell_type": "code",
   "execution_count": null,
   "metadata": {},
   "outputs": [],
   "source": [
    "np.array([], dtype='int64')"
   ]
  },
  {
   "cell_type": "markdown",
   "metadata": {},
   "source": [
    "# 2024-11-25 - ComputerVisionComputations"
   ]
  },
  {
   "cell_type": "code",
   "execution_count": null,
   "metadata": {},
   "outputs": [],
   "source": [
    "from PIL import Image\n",
    "from pyphoplacecellanalysis.Analysis.Decoder.computer_vision import ComputerVisionComputations\n",
    "\n",
    "# Visualization ______________________________________________________________________________________________________ #\n",
    "from pyphoplacecellanalysis.GUI.PyQtPlot.BinnedImageRenderingWindow import BasicBinnedImageRenderingWindow, LayoutScrollability\n",
    "\n",
    "%config_ndarray_preview width=None\n",
    "%config_ndarray_preview height=500\n",
    "\n",
    "def upsample_image(img: NDArray, n_repeats=(4, 4)) -> NDArray:\n",
    "    \"\"\" each pixel value is repeated n_repeats times. \"\"\"\n",
    "    # Repeat each element twice in both directions\n",
    "    upsampled_image = np.repeat(np.repeat(img, repeats=n_repeats[0], axis=0), repeats=n_repeats[1], axis=1)\n",
    "    # np.shape(img)\n",
    "    # np.shape(upsampled_image)\n",
    "    return upsampled_image\n",
    "\n",
    "\n",
    "img: NDArray = deepcopy(dbgr.p_x_given_n_masked.filled(0.0))\n",
    "upsampled_image = upsample_image(img=img, n_repeats=(4, 4))\n",
    "upsampled_image\n",
    "\n",
    "# img_obj = Image.fromarray(img, mode=\"L\")\n",
    "# img_obj"
   ]
  },
  {
   "cell_type": "code",
   "execution_count": null,
   "metadata": {},
   "outputs": [],
   "source": [
    "display(img_obj)"
   ]
  },
  {
   "cell_type": "code",
   "execution_count": null,
   "metadata": {},
   "outputs": [],
   "source": [
    "\n",
    "fig, ax = ComputerVisionComputations.imshow(img=img, xbin_edges=dbgr.xbin)\n",
    "\n",
    "# display(img)\n"
   ]
  },
  {
   "cell_type": "code",
   "execution_count": null,
   "metadata": {},
   "outputs": [],
   "source": [
    "# out = ComputerVisionComputations.plot_pyqtgraph(img)\n",
    "%config_ndarray_preview width=None\n",
    "%config_ndarray_preview height=400\n",
    "\n",
    "out = ComputerVisionComputations.run_interactive(img)\n",
    "out"
   ]
  },
  {
   "cell_type": "code",
   "execution_count": null,
   "metadata": {},
   "outputs": [],
   "source": [
    "type(out)\n"
   ]
  },
  {
   "cell_type": "code",
   "execution_count": null,
   "metadata": {},
   "outputs": [],
   "source": [
    "fig, ax = ComputerVisionComputations.imshow(img=out, xbin_edges=dbgr.xbin)"
   ]
  }
 ],
 "metadata": {
  "kernelspec": {
   "display_name": ".venv_UV",
   "language": "python",
   "name": "python3"
  },
  "language_info": {
   "codemirror_mode": {
    "name": "ipython",
    "version": 3
   },
   "file_extension": ".py",
   "mimetype": "text/x-python",
   "name": "python",
   "nbconvert_exporter": "python",
   "pygments_lexer": "ipython3",
   "version": "3.9.13"
  },
  "orig_nbformat": 4
 },
 "nbformat": 4,
 "nbformat_minor": 2
}
