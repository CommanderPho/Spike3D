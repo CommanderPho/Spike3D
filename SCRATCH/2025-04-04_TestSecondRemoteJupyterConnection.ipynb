{
 "cells": [
  {
   "cell_type": "markdown",
   "metadata": {},
   "source": [
    "## Get variable from notebook"
   ]
  },
  {
   "cell_type": "code",
   "execution_count": null,
   "metadata": {},
   "outputs": [],
   "source": [
    "from jupyter_client import BlockingKernelClient\n",
    "import json\n",
    "from jupyter_core.paths import jupyter_runtime_dir\n",
    "import os\n",
    "import glob\n",
    "\n",
    "# Find the connection file\n",
    "connection_files = glob.glob(os.path.join(jupyter_runtime_dir(), 'kernel-*.json'))\n",
    "latest_connection_file = max(connection_files, key=os.path.getctime)\n",
    "\n",
    "# Connect to the kernel\n",
    "client = BlockingKernelClient()\n",
    "client.load_connection_file(latest_connection_file)\n",
    "client.start_channels()\n",
    "\n",
    "# Get the value of a variable (replace 'my_variable' with your actual variable name)\n",
    "variable_name = 'my_variable'\n",
    "msg_id = client.execute(f\"print({variable_name})\")\n",
    "\n",
    "# Get the response\n",
    "while True:\n",
    "    try:\n",
    "        msg = client.get_iopub_msg(timeout=10)\n",
    "        if msg['msg_type'] == 'stream' and msg['parent_header']['msg_id'] == msg_id:\n",
    "            print(f\"Value of {variable_name}: {msg['content']['text'].strip()}\")\n",
    "            break\n",
    "    except:\n",
    "        print(f\"Couldn't retrieve {variable_name}\")\n",
    "        break\n",
    "\n",
    "client.stop_channels()\n"
   ]
  },
  {
   "cell_type": "markdown",
   "metadata": {},
   "source": [
    "# From `connection_info` dict"
   ]
  },
  {
   "cell_type": "code",
   "execution_count": 2,
   "metadata": {},
   "outputs": [
    {
     "name": "stdout",
     "output_type": "stream",
     "text": [
      "Value of t_delta: 1211.5580800310709\n"
     ]
    }
   ],
   "source": [
    "from jupyter_client import BlockingKernelClient\n",
    "\n",
    "# Connection info dictionary (you already have this)\n",
    "connection_info = {\n",
    "    \"key\": \"8d669f8c-24d6-4d50-b32c-d3cae7ae7b0d\",\n",
    "    \"signature_scheme\": \"hmac-sha256\",\n",
    "    \"transport\": \"tcp\",\n",
    "    \"ip\": \"127.0.0.1\",\n",
    "    \"hb_port\": 9005,\n",
    "    \"control_port\": 9006,\n",
    "    \"shell_port\": 9007,\n",
    "    \"stdin_port\": 9008,\n",
    "    \"iopub_port\": 9009,\n",
    "    \"kernel_name\": \"spike3d-2025\"\n",
    "}\n",
    "\n",
    "# Create a client and connect directly with the connection info\n",
    "client = BlockingKernelClient()\n",
    "\n",
    "# Set connection parameters directly from the dictionary\n",
    "client.session.key = connection_info['key'].encode()\n",
    "client.session.signature_scheme = connection_info['signature_scheme']\n",
    "\n",
    "# Set connection addresses\n",
    "client.transport = connection_info['transport']\n",
    "client.ip = connection_info['ip']\n",
    "\n",
    "# Set individual port numbers\n",
    "client.hb_port = connection_info['hb_port']\n",
    "client.control_port = connection_info['control_port']\n",
    "client.shell_port = connection_info['shell_port']\n",
    "client.stdin_port = connection_info['stdin_port']\n",
    "client.iopub_port = connection_info['iopub_port']\n",
    "\n",
    "# Start the channels\n",
    "client.start_channels()\n",
    "\n",
    "# Now you can execute code and get the value of a variable\n",
    "variable_name = 't_delta'  # replace with your variable name\n",
    "msg_id = client.execute(f\"print({variable_name})\")\n",
    "\n",
    "# Retrieve the output\n",
    "while True:\n",
    "    try:\n",
    "        msg = client.get_iopub_msg(timeout=10)\n",
    "        if msg['msg_type'] == 'stream' and msg['parent_header']['msg_id'] == msg_id:\n",
    "            print(f\"Value of {variable_name}: {msg['content']['text'].strip()}\")\n",
    "            break\n",
    "        elif msg['msg_type'] == 'error' and msg['parent_header']['msg_id'] == msg_id:\n",
    "            print(f\"Error: {msg['content']['evalue']}\")\n",
    "            break\n",
    "    except Exception as e:\n",
    "        print(f\"Exception while retrieving variable: {e}\")\n",
    "        break\n",
    "\n",
    "# Don't forget to close the connection when done\n",
    "client.stop_channels()\n"
   ]
  },
  {
   "cell_type": "code",
   "execution_count": null,
   "metadata": {},
   "outputs": [],
   "source": [
    "# For getting arbitrary results:\n",
    "result_code = \"\"\"\n",
    "import pandas as pd\n",
    "# Your custom code here\n",
    "result = df.head()  # example operation\n",
    "result  # will be captured as display data\n",
    "\"\"\"\n",
    "\n",
    "msg_id = client.execute(result_code)\n",
    "\n",
    "# Get the results, including display data\n",
    "while True:\n",
    "    try:\n",
    "        msg = client.get_iopub_msg(timeout=10)\n",
    "        if msg['parent_header'].get('msg_id') == msg_id:\n",
    "            # Check for different message types\n",
    "            if msg['msg_type'] == 'execute_result':\n",
    "                print(\"Result:\", msg['content']['data'].get('text/plain', ''))\n",
    "                break\n",
    "            elif msg['msg_type'] == 'error':\n",
    "                print(f\"Error: {msg['content']['evalue']}\")\n",
    "                break\n",
    "    except Exception as e:\n",
    "        print(f\"Exception: {e}\")\n",
    "        break\n"
   ]
  }
 ],
 "metadata": {
  "kernelspec": {
   "display_name": ".venv",
   "language": "python",
   "name": "python3"
  },
  "language_info": {
   "codemirror_mode": {
    "name": "ipython",
    "version": 3
   },
   "file_extension": ".py",
   "mimetype": "text/x-python",
   "name": "python",
   "nbconvert_exporter": "python",
   "pygments_lexer": "ipython3",
   "version": "3.9.13"
  }
 },
 "nbformat": 4,
 "nbformat_minor": 2
}
