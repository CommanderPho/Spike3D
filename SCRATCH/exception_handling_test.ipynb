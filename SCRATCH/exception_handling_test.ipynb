{
 "cells": [
  {
   "cell_type": "code",
   "execution_count": 1,
   "metadata": {},
   "outputs": [
    {
     "name": "stdout",
     "output_type": "stream",
     "text": [
      "Caught an exception:  An exception occured\n"
     ]
    }
   ],
   "source": [
    "def function1():\n",
    "    raise Exception('An exception occured')\n",
    "\n",
    "def function2():\n",
    "    function1()\n",
    "\n",
    "try:\n",
    "    function2()\n",
    "except Exception as e:\n",
    "    print(\"Caught an exception: \", str(e))"
   ]
  },
  {
   "cell_type": "code",
   "execution_count": 7,
   "metadata": {},
   "outputs": [
    {
     "name": "stdout",
     "output_type": "stream",
     "text": [
      "Caught a ValueError:  'nonexistent_key'\n"
     ]
    }
   ],
   "source": [
    "def lowest_function(dictionary):\n",
    "    return dictionary['nonexistent_key']\n",
    "\n",
    "def middle_function(dictionary):\n",
    "    return lowest_function(dictionary)\n",
    "\n",
    "def highest_function(dictionary):\n",
    "\ttry:\n",
    "\t\tmiddle_function(dictionary)\n",
    "\t# except ValueError as e: # does not work because err is of type `KeyError` not `ValueError`\n",
    "\t# except (ValueError, KeyError) as e: # does work\n",
    "\t# except BaseException as e: # does work\n",
    "\texcept Exception as e: # does work\n",
    "\t\tprint(\"Caught a ValueError: \", str(e))\n",
    "\n",
    "dictionary = {'key': 'value'}\n",
    "highest_function(dictionary)\n",
    "\n",
    "# KeyError: 'nonexistent_key'"
   ]
  },
  {
   "cell_type": "code",
   "execution_count": null,
   "metadata": {},
   "outputs": [],
   "source": []
  }
 ],
 "metadata": {
  "kernelspec": {
   "display_name": ".venv_yellow",
   "language": "python",
   "name": "python3"
  },
  "language_info": {
   "codemirror_mode": {
    "name": "ipython",
    "version": 3
   },
   "file_extension": ".py",
   "mimetype": "text/x-python",
   "name": "python",
   "nbconvert_exporter": "python",
   "pygments_lexer": "ipython3",
   "version": "3.9.13"
  }
 },
 "nbformat": 4,
 "nbformat_minor": 2
}
