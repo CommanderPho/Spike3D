{
 "cells": [
  {
   "cell_type": "code",
   "execution_count": 1,
   "metadata": {},
   "outputs": [
    {
     "name": "stdout",
     "output_type": "stream",
     "text": [
      "Automatic pdb calling has been turned OFF\n"
     ]
    }
   ],
   "source": [
    "%config IPCompleter.use_jedi = False\n",
    "%pdb off\n",
    "# %load_ext viztracer\n",
    "# from viztracer import VizTracer\n",
    "%load_ext autoreload\n",
    "%autoreload 3\n",
    "import sys\n",
    "from pathlib import Path\n",
    "\n",
    "# required to enable non-blocking interaction:\n",
    "%gui qt5\n",
    "\n",
    "from copy import deepcopy\n",
    "from numba import jit\n",
    "import numpy as np\n",
    "import pandas as pd\n",
    "pd.options.mode.chained_assignment = None  # default='warn'\n",
    "# pd.options.mode.dtype_backend = 'pyarrow' # use new pyarrow backend instead of numpy\n",
    "from attrs import define, field, fields, Factory\n",
    "import tables as tb\n",
    "from datetime import datetime, timedelta\n",
    "\n",
    "# Pho's Formatting Preferences\n",
    "from pyphocorehelpers.preferences_helpers import set_pho_preferences, set_pho_preferences_concise, set_pho_preferences_verbose\n",
    "set_pho_preferences_concise()\n",
    "\n",
    "## Pho's Custom Libraries:\n",
    "from pyphocorehelpers.Filesystem.path_helpers import find_first_extant_path\n",
    "from pyphocorehelpers.Filesystem.open_in_system_file_manager import reveal_in_system_file_manager\n",
    "\n",
    "# Jupyter Widget Interactive\n",
    "import ipywidgets as widgets\n",
    "from IPython.display import display\n",
    "# from pyphoplacecellanalysis.GUI.IPyWidgets.pipeline_ipywidgets import interactive_pipeline_widget, fullwidth_path_widget, interactive_pipeline_files\n",
    "\n",
    "from pyphocorehelpers.gui.Jupyter.JupyterImageNavigatorWidget import ImageNavigator, ContextSidebar, build_context_images_navigator_widget\n",
    "from pyphoplacecellanalysis.SpecificResults.PendingNotebookCode import ProgrammaticDisplayFunctionTestingFolderImageLoading\n",
    "from pyphocorehelpers.indexing_helpers import partition_df_dict, partition\n",
    "from typing import Dict, List, Tuple, Optional, Callable, Union, Any, NewType\n",
    "from typing_extensions import TypeAlias\n",
    "from nptyping import NDArray\n",
    "import neuropy.utils.type_aliases as types\n",
    "\n",
    "ContextDescStr = NewType('ContextDescStr', str) # like '2023-07-11_kdiba_gor01_one'\n",
    "ImageNameStr = NewType('ImageNameStr', str) # like '2006-6-07_11-26-53/kdiba_gor01_one_2006-6-07_11-26-53_maze1__display_1d_placefield_validations.pdf'\n",
    "\n",
    "import ipywidgets as widgets\n",
    "from traitlets import HasTraits, observe, Any"
   ]
  },
  {
   "cell_type": "markdown",
   "metadata": {},
   "source": [
    "# Load Data"
   ]
  },
  {
   "cell_type": "code",
   "execution_count": null,
   "metadata": {},
   "outputs": [],
   "source": [
    "\n",
    "\n",
    "# in_path = Path(r'C:\\Users\\pho\\repos\\Spike3DWorkEnv\\Spike3D\\EXTERNAL\\PhoDibaPaper2024Book\\data\\programmatic_display_function_image_paths.csv').resolve()\n",
    "in_path: Path = Path('/home/halechr/repos/Spike3D/data/programmatic_display_function_image_paths.csv').resolve()\n",
    "programmatic_display_function_outputs_df: pd.DataFrame = pd.read_csv(in_path)\n",
    "sidebar, context_tabs_dict, _final_out_dict_dict = ProgrammaticDisplayFunctionTestingFolderImageLoading.build_ProgrammaticDisplayFunctionTesting_browsing_widget(programmatic_display_function_outputs_df=programmatic_display_function_outputs_df)\n",
    "sidebar.display()\n",
    "\n",
    "## OUTPUTS: _final_out_dict_dict"
   ]
  },
  {
   "cell_type": "markdown",
   "metadata": {},
   "source": [
    "# Main Sessions Image Browsing Widget"
   ]
  },
  {
   "cell_type": "code",
   "execution_count": null,
   "metadata": {},
   "outputs": [],
   "source": [
    "## INPUTS: _final_out_dict_dict: Dict[ContextDescStr, Dict[ImageNameStr, Dict[datetime, Path]]]\n",
    "context_tabs_dict = {curr_context_desc_str:build_context_images_navigator_widget(curr_context_images_dict, curr_context_desc_str=curr_context_desc_str, max_num_widget_debug=2) for curr_context_desc_str, curr_context_images_dict in list(_final_out_dict_dict.items())}\n",
    "sidebar = ContextSidebar(context_tabs_dict)\n",
    "sidebar.display()\n"
   ]
  },
  {
   "cell_type": "code",
   "execution_count": null,
   "metadata": {},
   "outputs": [],
   "source": [
    "_final_out_dict_dict"
   ]
  },
  {
   "cell_type": "markdown",
   "metadata": {},
   "source": [
    "# Simple Widget Examples"
   ]
  },
  {
   "cell_type": "code",
   "execution_count": null,
   "metadata": {},
   "outputs": [],
   "source": [
    "import ipywidgets as widgets\n",
    "from IPython.display import display\n",
    "from PIL import Image as PILImage\n",
    "from io import BytesIO\n",
    "from typing import Dict\n",
    "from datetime import datetime\n",
    "\n",
    "class ImageNavigator:\n",
    "    def __init__(self, image_dict: Dict[datetime, PILImage], image_title: str):\n",
    "        self.image_dict = image_dict\n",
    "        self.image_title = image_title\n",
    "        self.keys = list(image_dict.keys())\n",
    "        self.current_index = 0\n",
    "\n",
    "        # Widgets\n",
    "        self.title_label = widgets.Label(value=self.image_title)\n",
    "        self.image_display = widgets.Image()\n",
    "        self.date_label = widgets.Label(value=str(self.keys[self.current_index]))\n",
    "\n",
    "        self.left_button = widgets.Button(description=\"←\", layout=widgets.Layout(width='50px'))\n",
    "        self.right_button = widgets.Button(description=\"→\", layout=widgets.Layout(width='50px'))\n",
    "\n",
    "        # Set up event listeners for the buttons\n",
    "        self.left_button.on_click(self.on_left_click)\n",
    "        self.right_button.on_click(self.on_right_click)\n",
    "\n",
    "        # Initial display setup\n",
    "        self.update_image()\n",
    "\n",
    "        # Layout\n",
    "        self.controls = widgets.HBox([self.left_button, self.date_label, self.right_button])\n",
    "        self.vbox = widgets.VBox([self.title_label, self.image_display, self.controls])\n",
    "\n",
    "    def update_image(self):\n",
    "        \"\"\"Updates the image display and the date label based on the current index.\"\"\"\n",
    "        current_key = self.keys[self.current_index]\n",
    "        img = self.image_dict[current_key]\n",
    "\n",
    "        # Convert PIL image to bytes for display in ipywidgets.Image\n",
    "        with BytesIO() as output:\n",
    "            img.save(output, format=\"PNG\")\n",
    "            img_data = output.getvalue()\n",
    "\n",
    "        # Update the image widget and date label\n",
    "        self.image_display.value = img_data\n",
    "        self.date_label.value = str(current_key)\n",
    "\n",
    "    def on_left_click(self, _):\n",
    "        \"\"\"Handle left button click: go to the previous image.\"\"\"\n",
    "        self.current_index = (self.current_index - 1) % len(self.keys)\n",
    "        self.update_image()\n",
    "\n",
    "    def on_right_click(self, _):\n",
    "        \"\"\"Handle right button click: go to the next image.\"\"\"\n",
    "        self.current_index = (self.current_index + 1) % len(self.keys)\n",
    "        self.update_image()\n",
    "\n",
    "    def display(self):\n",
    "        \"\"\"Display the widget.\"\"\"\n",
    "        display(self.vbox)\n",
    "\n",
    "# Example usage with placeholder images\n",
    "from PIL import Image, ImageDraw\n",
    "\n",
    "def create_placeholder_image(text):\n",
    "    img = Image.new('RGB', (200, 200), color='gray')\n",
    "    d = ImageDraw.Draw(img)\n",
    "    d.text((10, 90), text, fill=(255, 255, 255))\n",
    "    return img\n",
    "\n",
    "image_dict = {\n",
    "    datetime(2023, 4, 11): create_placeholder_image(\"2023-04-11\"),\n",
    "    datetime(2023, 5, 12): create_placeholder_image(\"2023-05-12\"),\n",
    "    datetime(2023, 6, 13): create_placeholder_image(\"2023-06-13\")\n",
    "}\n",
    "\n",
    "navigator = ImageNavigator(image_dict, \"Image Navigator\")\n",
    "navigator.display()\n"
   ]
  },
  {
   "cell_type": "code",
   "execution_count": null,
   "metadata": {},
   "outputs": [],
   "source": [
    "\n",
    "# Create some placeholder widgets of varying sizes\n",
    "widget1 = widgets.Button(description=\"Widget 1\", layout=widgets.Layout(width='150px', height='100px'))\n",
    "widget2 = widgets.Button(description=\"Widget 2\", layout=widgets.Layout(width='200px', height='150px'))\n",
    "widget3 = widgets.Button(description=\"Widget 3\", layout=widgets.Layout(width='100px', height='200px'))\n",
    "widget4 = widgets.Button(description=\"Widget 4\", layout=widgets.Layout(width='250px', height='150px'))\n",
    "widget5 = widgets.Button(description=\"Widget 5\", layout=widgets.Layout(width='100px', height='100px'))\n",
    "widget6 = widgets.Button(description=\"Widget 6\", layout=widgets.Layout(width='150px', height='200px'))\n",
    "\n",
    "# Define a GridBox layout with a varying number of columns\n",
    "grid = widgets.GridBox(\n",
    "    [widget1, widget2, widget3, widget4, widget5, widget6],\n",
    "    layout=widgets.Layout(grid_template_columns=\"repeat(3, 200px)\", grid_gap=\"10px\")\n",
    ")\n",
    "\n",
    "# Display the grid\n",
    "display(grid)\n",
    "\n",
    "# _pipeline_jupyter_widget = interactive_pipeline_widget(curr_active_pipeline=curr_active_pipeline)\n",
    "# display(_pipeline_jupyter_widget)\n",
    "# _pipeline_jupyter_widget"
   ]
  },
  {
   "cell_type": "code",
   "execution_count": null,
   "metadata": {},
   "outputs": [],
   "source": [
    "# <i class=\"fa-solid fa-clone\"></i>\n",
    "# form_item_layout = ipywidgets.Layout(\n",
    "#     display='flex',\n",
    "#     flex_flow='row',\n",
    "#     justify_content='space-between'\n",
    "# )\n",
    "\n",
    "icons = ['clock-rotate-left', 'folder-tree', 'rev', 'file-import', 'file-export', 'upload', 'download', 'file-zipper', 'box-archive', 'message', 'road', 'file-arrow-up', 'file-arrow-down']\n",
    "rendering_icons = ['vector-square', 'draw-polygon', 'object-group']\n",
    "\n",
    "button = widgets.Button(\n",
    "    description='Click me',\n",
    "    layout=widgets.Layout(flex='0 1 auto', width='auto', margin='0px'),\n",
    "    disabled=False,\n",
    "    button_style='', # 'success', 'info', 'warning', 'danger' or ''\n",
    "    tooltip='Click me',\n",
    "    icon='check' # (FontAwesome names without the `fa-` prefix)\n",
    ")\n",
    "secondary_button = widgets.Button(\n",
    "    description='',\n",
    "    layout=widgets.Layout(flex='0 1 auto', width='auto', margin='0px'), # means it won't grow beyond its content's width, can shrink if needed, and its basis is auto.\n",
    "    disabled=False,\n",
    "    button_style='info', # 'success', 'info', 'warning', 'danger' or ''\n",
    "    tooltip='Click me',\n",
    "    icon='clone' # (FontAwesome names without the `fa-` prefix)\n",
    ")\n",
    "another_button = widgets.Button(description='', layout=widgets.Layout(flex='0 1 auto', width='auto', margin='0px'), disabled=False, button_style='info', tooltip='Click me', icon='clone')\n",
    "\n",
    "# widgets.HBox([button, secondary_button])\n",
    "\n",
    "items_auto = [button, secondary_button, another_button]\n",
    "box_layout = widgets.Layout(display='flex', flex_flow='row', align_items='stretch', width='70%')\n",
    "box_auto = widgets.Box(children=items_auto, layout=box_layout)\n",
    "box_auto"
   ]
  },
  {
   "cell_type": "code",
   "execution_count": 1,
   "metadata": {},
   "outputs": [
    {
     "name": "stdout",
     "output_type": "stream",
     "text": [
      "Value changed to: ()\n"
     ]
    },
    {
     "data": {
      "application/vnd.jupyter.widget-view+json": {
       "model_id": "94c08bcb47e344b6b47763177b7f4672",
       "version_major": 2,
       "version_minor": 0
      },
      "text/plain": [
       "CheckBoxListWidget(children=(Checkbox(value=False, description='high_wcorr', layout=Layout(height='auto', marg…"
      ]
     },
     "execution_count": 1,
     "metadata": {},
     "output_type": "execute_result"
    },
    {
     "name": "stdout",
     "output_type": "stream",
     "text": [
      "Value changed to: ('high_wcorr',)\n",
      "Value changed to: ('high_wcorr', 'high_shuffle_percentile_score')\n",
      "Value changed to: ('high_wcorr', 'high_shuffle_percentile_score', 'long_duration')\n"
     ]
    }
   ],
   "source": [
    "import ipywidgets as widgets\n",
    "import traitlets\n",
    "from pyphocorehelpers.gui.Jupyter.simple_widgets import CheckBoxListWidget\n",
    "\n",
    "options_list = ['high_wcorr', 'user_selected', 'high_pearsonr_corr', 'high_shuffle_percentile_score', 'high_shuffle_wcorr_z_score', 'good_jump', 'long_duration']\n",
    "chk_box_list_widget = CheckBoxListWidget(options_list=options_list)\n",
    "chk_box_list_widget\n"
   ]
  },
  {
   "cell_type": "code",
   "execution_count": 2,
   "metadata": {},
   "outputs": [
    {
     "data": {
      "text/plain": [
       "()"
      ]
     },
     "execution_count": 2,
     "metadata": {},
     "output_type": "execute_result"
    }
   ],
   "source": [
    "chk_box_list_widget.value"
   ]
  },
  {
   "cell_type": "code",
   "execution_count": null,
   "metadata": {},
   "outputs": [],
   "source": []
  }
 ],
 "metadata": {
  "kernelspec": {
   "display_name": ".venv",
   "language": "python",
   "name": "python3"
  },
  "language_info": {
   "codemirror_mode": {
    "name": "ipython",
    "version": 3
   },
   "file_extension": ".py",
   "mimetype": "text/x-python",
   "name": "python",
   "nbconvert_exporter": "python",
   "pygments_lexer": "ipython3",
   "version": "3.9.13"
  },
  "orig_nbformat": 4
 },
 "nbformat": 4,
 "nbformat_minor": 2
}
