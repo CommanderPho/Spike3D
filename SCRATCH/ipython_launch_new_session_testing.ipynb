{
 "cells": [
  {
   "cell_type": "markdown",
   "metadata": {},
   "source": [
    "# Tried to explore different way to launch a separate ipython session so that if it crashes the original jupyter kernel doesn't crash.\n",
    "\t- This would be useful for the visualizations\n",
    "\n",
    "2023-08-28 - Not working anywhere\n",
    "`poetry add jupyter_client zmq`"
   ]
  },
  {
   "cell_type": "code",
   "execution_count": null,
   "metadata": {},
   "outputs": [],
   "source": [
    "import subprocess\n",
    "\n",
    "def launch_new_ipython_instance():\n",
    "    subprocess.Popen([\"ipython\"], stdout=subprocess.PIPE, stderr=subprocess.PIPE)\n",
    "\n",
    "# Launch the new IPython instance\n",
    "launch_new_ipython_instance()\n"
   ]
  },
  {
   "cell_type": "code",
   "execution_count": null,
   "metadata": {},
   "outputs": [],
   "source": [
    "from attrs import define, field, Factory\n",
    "from jupyter_client import KernelManager\n",
    "import uuid\n",
    "\n",
    "@define(slots=False)\n",
    "class IPythonKernelInstance:\n",
    "    def __init__(self):\n",
    "        self.kernel_manager = KernelManager()\n",
    "        self.kernel_manager.start_kernel()\n",
    "        self.kernel_client = self.kernel_manager.client()\n",
    "        self.kernel_client.start_channels()\n",
    "        \n",
    "    def execute(self, code: str):\n",
    "        msg_id = uuid.uuid4().hex\n",
    "        self.kernel_client.execute(code, msg_id)\n",
    "        return self._get_execute_reply(msg_id)\n",
    "        \n",
    "    def _get_execute_reply(self, msg_id):\n",
    "        while True:\n",
    "            msg = self.kernel_client.get_iopub_msg(timeout=1)\n",
    "            if msg['msg_type'] == 'execute_result' and msg['parent_header']['msg_id'] == msg_id:\n",
    "                return msg['content']['data']\n",
    "\n",
    "# Create new IPython Kernel Instance\n",
    "ipy_instance = IPythonKernelInstance()\n",
    "\n",
    "# Execute code and get result\n",
    "result = ipy_instance.execute(\"2 + 2\")\n",
    "print(\"Result:\", result['text/plain'])\n"
   ]
  },
  {
   "cell_type": "markdown",
   "metadata": {},
   "source": []
  },
  {
   "cell_type": "code",
   "execution_count": 1,
   "metadata": {},
   "outputs": [],
   "source": [
    "from IPython.core.interactiveshell import InteractiveShell\n",
    "InteractiveShell.ast_node_interactivity = \"all\""
   ]
  },
  {
   "cell_type": "code",
   "execution_count": 2,
   "metadata": {},
   "outputs": [
    {
     "ename": "NameError",
     "evalue": "name 'get_config' is not defined",
     "output_type": "error",
     "traceback": [
      "\u001b[1;31m---------------------------------------------------------------------------\u001b[0m",
      "\u001b[1;31mNameError\u001b[0m                                 Traceback (most recent call last)",
      "\u001b[1;32mc:\\Users\\pho\\repos\\Spike3DWorkEnv\\Spike3D\\SCRATCH\\ipython_launch_new_session_testing.ipynb Cell 6\u001b[0m line \u001b[0;36m1\n\u001b[1;32m----> <a href='vscode-notebook-cell:/c%3A/Users/pho/repos/Spike3DWorkEnv/Spike3D/SCRATCH/ipython_launch_new_session_testing.ipynb#W3sZmlsZQ%3D%3D?line=0'>1</a>\u001b[0m c \u001b[39m=\u001b[39m get_config()\n",
      "\u001b[1;31mNameError\u001b[0m: name 'get_config' is not defined"
     ]
    }
   ],
   "source": [
    "c = get_config()"
   ]
  },
  {
   "cell_type": "code",
   "execution_count": null,
   "metadata": {},
   "outputs": [],
   "source": []
  }
 ],
 "metadata": {
  "kernelspec": {
   "display_name": "spike3d-poetry",
   "language": "python",
   "name": "spike3d-poetry"
  },
  "language_info": {
   "codemirror_mode": {
    "name": "ipython",
    "version": 3
   },
   "file_extension": ".py",
   "mimetype": "text/x-python",
   "name": "python",
   "nbconvert_exporter": "python",
   "pygments_lexer": "ipython3",
   "version": "3.9.13"
  },
  "orig_nbformat": 4
 },
 "nbformat": 4,
 "nbformat_minor": 2
}
