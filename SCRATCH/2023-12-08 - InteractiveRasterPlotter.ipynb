{
 "cells": [
  {
   "cell_type": "code",
   "execution_count": 3,
   "metadata": {
    "notebookRunGroups": {
     "groupValue": "1"
    }
   },
   "outputs": [
    {
     "name": "stdout",
     "output_type": "stream",
     "text": [
      "Automatic pdb calling has been turned OFF\n",
      "The viztracer extension is already loaded. To reload it, use:\n",
      "  %reload_ext viztracer\n",
      "The autoreload extension is already loaded. To reload it, use:\n",
      "  %reload_ext autoreload\n"
     ]
    },
    {
     "data": {
      "text/plain": [
       "<pyphoplacecellanalysis.GUI.IPyWidgets.InteractiveRasterBuilderWidget.InteractiveRasterBuilderWidget at 0x7f0798534d60>"
      ]
     },
     "execution_count": 3,
     "metadata": {},
     "output_type": "execute_result"
    },
    {
     "data": {
      "application/vnd.jupyter.widget-view+json": {
       "model_id": "d04bb95866904bc58d84c743374e85e5",
       "version_major": 2,
       "version_minor": 0
      },
      "image/png": "[encoded data removed]",
      "text/html": [
       "\n",
       "            <div style=\"display: inline-block;\">\n",
       "                <div class=\"jupyter-widgets widget-label\" style=\"text-align: center;\">\n",
       "                    Figure\n",
       "                </div>\n",
       "                <img src='data:image/png;base64,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' width=500.0/>\n",
       "            </div>\n",
       "        "
      ],
      "text/plain": [
       "Canvas(toolbar=Toolbar(toolitems=[('Home', 'Reset original view', 'home', 'home'), ('Back', 'Back to previous …"
      ]
     },
     "metadata": {},
     "output_type": "display_data"
    },
    {
     "name": "stderr",
     "output_type": "stream",
     "text": [
      "Traceback (most recent call last):\n",
      "  File \"/home/halechr/repos/Spike3D/.venv/lib/python3.9/site-packages/matplotlib/cbook.py\", line 298, in process\n",
      "    func(*args, **kwargs)\n",
      "  File \"/home/halechr/repos/pyPhoPlaceCellAnalysis/src/pyphoplacecellanalysis/GUI/IPyWidgets/InteractiveRasterBuilderWidget.py\", line 211, in on_click\n",
      "    self.update_plot({'type': 'change', 'name': 'value', 'new': (event.xdata, event.ydata)})\n",
      "  File \"/home/halechr/repos/pyPhoPlaceCellAnalysis/src/pyphoplacecellanalysis/GUI/IPyWidgets/InteractiveRasterBuilderWidget.py\", line 270, in update_plot\n",
      "    self.update_metrics()\n",
      "  File \"/home/halechr/repos/pyPhoPlaceCellAnalysis/src/pyphoplacecellanalysis/GUI/IPyWidgets/InteractiveRasterBuilderWidget.py\", line 250, in update_metrics\n",
      "    a_metric_obj.last_value = a_metric_obj.calculate_fn(self.spikes_df, shared_aclus_only_neuron_IDs=self.shared_aclus_only_neuron_IDs, active_aclu_to_fragile_linear_neuron_IDX_dict=self.active_aclu_to_fragile_linear_neuron_IDX_dict, long_pf_peak_ranks=self.long_pf_peak_ranks, epoch_id=self.epoch_id)\n",
      "  File \"/home/halechr/repos/pyPhoPlaceCellAnalysis/src/pyphoplacecellanalysis/GUI/IPyWidgets/InteractiveRasterBuilderWidget.py\", line 59, in calculate_spearman_correlation\n",
      "    epoch_spikes_active_aclus = np.array(list(epoch_ranked_aclus_dict[epoch_id].keys())) # get the actual aclus instead of the indicies here.\n",
      "KeyError: 0\n",
      "Traceback (most recent call last):\n",
      "  File \"/home/halechr/repos/Spike3D/.venv/lib/python3.9/site-packages/matplotlib/cbook.py\", line 298, in process\n",
      "    func(*args, **kwargs)\n",
      "  File \"/home/halechr/repos/pyPhoPlaceCellAnalysis/src/pyphoplacecellanalysis/GUI/IPyWidgets/InteractiveRasterBuilderWidget.py\", line 211, in on_click\n",
      "    self.update_plot({'type': 'change', 'name': 'value', 'new': (event.xdata, event.ydata)})\n",
      "  File \"/home/halechr/repos/pyPhoPlaceCellAnalysis/src/pyphoplacecellanalysis/GUI/IPyWidgets/InteractiveRasterBuilderWidget.py\", line 270, in update_plot\n",
      "    self.update_metrics()\n",
      "  File \"/home/halechr/repos/pyPhoPlaceCellAnalysis/src/pyphoplacecellanalysis/GUI/IPyWidgets/InteractiveRasterBuilderWidget.py\", line 250, in update_metrics\n",
      "    a_metric_obj.last_value = a_metric_obj.calculate_fn(self.spikes_df, shared_aclus_only_neuron_IDs=self.shared_aclus_only_neuron_IDs, active_aclu_to_fragile_linear_neuron_IDX_dict=self.active_aclu_to_fragile_linear_neuron_IDX_dict, long_pf_peak_ranks=self.long_pf_peak_ranks, epoch_id=self.epoch_id)\n",
      "  File \"/home/halechr/repos/pyPhoPlaceCellAnalysis/src/pyphoplacecellanalysis/GUI/IPyWidgets/InteractiveRasterBuilderWidget.py\", line 59, in calculate_spearman_correlation\n",
      "    epoch_spikes_active_aclus = np.array(list(epoch_ranked_aclus_dict[epoch_id].keys())) # get the actual aclus instead of the indicies here.\n",
      "KeyError: 0\n",
      "Traceback (most recent call last):\n",
      "  File \"/home/halechr/repos/Spike3D/.venv/lib/python3.9/site-packages/matplotlib/cbook.py\", line 298, in process\n",
      "    func(*args, **kwargs)\n",
      "  File \"/home/halechr/repos/pyPhoPlaceCellAnalysis/src/pyphoplacecellanalysis/GUI/IPyWidgets/InteractiveRasterBuilderWidget.py\", line 211, in on_click\n",
      "    self.update_plot({'type': 'change', 'name': 'value', 'new': (event.xdata, event.ydata)})\n",
      "  File \"/home/halechr/repos/pyPhoPlaceCellAnalysis/src/pyphoplacecellanalysis/GUI/IPyWidgets/InteractiveRasterBuilderWidget.py\", line 270, in update_plot\n",
      "    self.update_metrics()\n",
      "  File \"/home/halechr/repos/pyPhoPlaceCellAnalysis/src/pyphoplacecellanalysis/GUI/IPyWidgets/InteractiveRasterBuilderWidget.py\", line 250, in update_metrics\n",
      "    a_metric_obj.last_value = a_metric_obj.calculate_fn(self.spikes_df, shared_aclus_only_neuron_IDs=self.shared_aclus_only_neuron_IDs, active_aclu_to_fragile_linear_neuron_IDX_dict=self.active_aclu_to_fragile_linear_neuron_IDX_dict, long_pf_peak_ranks=self.long_pf_peak_ranks, epoch_id=self.epoch_id)\n",
      "  File \"/home/halechr/repos/pyPhoPlaceCellAnalysis/src/pyphoplacecellanalysis/GUI/IPyWidgets/InteractiveRasterBuilderWidget.py\", line 59, in calculate_spearman_correlation\n",
      "    epoch_spikes_active_aclus = np.array(list(epoch_ranked_aclus_dict[epoch_id].keys())) # get the actual aclus instead of the indicies here.\n",
      "KeyError: 0\n"
     ]
    }
   ],
   "source": [
    "%config IPCompleter.use_jedi = False\n",
    "%pdb off\n",
    "%load_ext viztracer\n",
    "from viztracer import VizTracer\n",
    "%load_ext autoreload\n",
    "%autoreload 3\n",
    "import sys\n",
    "from typing import Dict, List, Tuple, Optional\n",
    "from pathlib import Path\n",
    "\n",
    "# required to enable non-blocking interaction:\n",
    "%gui qt5\n",
    "\n",
    "import matplotlib.pyplot as plt\n",
    "from nptyping.ndarray import NDArray\n",
    "import numpy as np\n",
    "import pandas as pd\n",
    "import ipywidgets as widgets\n",
    "from IPython.display import display\n",
    "import scipy\n",
    "import scipy.stats\n",
    "\n",
    "%matplotlib widget\n",
    "import matplotlib.patches as patches\n",
    "from matplotlib.widgets import Button\n",
    "\n",
    "from neuropy.core.user_annotations import metadata_attributes, function_attributes\n",
    "\n",
    "from pyphoplacecellanalysis.General.Pipeline.Stages.ComputationFunctions.MultiContextComputationFunctions.RankOrderComputations import RankOrderAnalyses\n",
    "from pyphoplacecellanalysis.GUI.IPyWidgets.InteractiveRasterBuilderWidget import InteractiveRasterBuilderWidget, Metric\n",
    "\n",
    "\n",
    "@function_attributes(short_name=None, tags=['spearman', 'rank-order'], input_requires=[], output_provides=[], uses=[], used_by=[], creation_date='2023-12-08 12:33', related_items=[])\n",
    "def calculate_spearman_correlation(spikes_df, shared_aclus_only_neuron_IDs, active_aclu_to_fragile_linear_neuron_IDX_dict, long_pf_peak_ranks, epoch_id:int=0, rank_alignment: str = 'first'):\n",
    "    \"\"\" \n",
    "    Used to compute the spearman rank-order correlation from \n",
    "    \n",
    "    History copied from `pyphoplacecellanalysis.General.Pipeline.Stages.ComputationFunctions.MultiContextComputationFunctions.RankOrderComputations.RankOrderAnalyses.compute_shuffled_rankorder_analyses`\n",
    "        On 2023-12-08 \n",
    "    \n",
    "    \"\"\"\n",
    "    if len(spikes_df) < 2:\n",
    "        return None\n",
    "\n",
    "    output_dict = {}\n",
    "\n",
    "    epoch_ranked_aclus_dict, epoch_ranked_fragile_linear_neuron_IDX_dict, epoch_selected_spikes_fragile_linear_neuron_IDX_dict, selected_spikes_only_df = RankOrderAnalyses.select_and_rank_spikes(spikes_df, active_aclu_to_fragile_linear_neuron_IDX_dict, rank_alignment, time_variable_name_override='t')\n",
    "\n",
    "    ## TODO: might need to get the specific aclus that are active in the epoch and limit to the intersection of those and the current decoder:\n",
    "    epoch_spikes_active_aclus = np.array(list(epoch_ranked_aclus_dict[epoch_id].keys())) # get the actual aclus instead of the indicies here.\n",
    "    epoch_spikes_active_ranks = np.array(list(epoch_ranked_aclus_dict[epoch_id].values()))\n",
    "    ## 2. Now get the template aclus to filter the epoch_active_aclus by (note there are way more `epoch_active_aclus` (like 81) than template ones.\n",
    "    # shared_aclus_only_neuron_IDs # (for now). In the future the `template_aclus` might be template-specific instead of shared:\n",
    "    template_aclus: NDArray = shared_aclus_only_neuron_IDs\n",
    "    is_epoch_aclu_included_in_template: NDArray[np.bool_] = np.isin(epoch_spikes_active_aclus, template_aclus) # a bool array indicating whether each aclu active in the epoch (spikes_df) is included in the template.\n",
    "\n",
    "\n",
    "    # BEGIN 2023-11-22 NEW Implementation: _______________________________________________________________________________ #\n",
    "\n",
    "    # Chop the template down to the active spikes AND chop the active spikes down to the template:\n",
    "    actually_included_epoch_aclus = epoch_spikes_active_aclus[is_epoch_aclu_included_in_template] # note this must be strictly smaller than the template aclus, AND strictly less than the epoch_active_aclus.\n",
    "    actually_included_epoch_ranks = epoch_spikes_active_ranks[is_epoch_aclu_included_in_template]\n",
    "\n",
    "    assert np.shape(long_pf_peak_ranks) == np.shape(shared_aclus_only_neuron_IDs)\n",
    "    \n",
    "    # Chop the other direction:\n",
    "    is_template_aclu_actually_active_in_epoch: NDArray = np.isin(template_aclus, actually_included_epoch_aclus) # a bool array indicating whether each aclu in the template is active in  in the epoch (spikes_df). Used for indexing into the template peak_ranks (`long_pf_peak_ranks`, `short_pf_peak_ranks`)\n",
    "    template_epoch_actually_included_aclus: NDArray = np.array(template_aclus)[is_template_aclu_actually_active_in_epoch] ## `actually_included_template_aclus`: the final aclus for this template actually active in this epoch\n",
    "    epoch_active_long_pf_peak_ranks = np.array(long_pf_peak_ranks)[is_template_aclu_actually_active_in_epoch]\n",
    "\n",
    "    # END NEW:\n",
    "\n",
    "    # 4. Final step is getting the actual indicies into the template aclus (the template-relative neuronIDXs):\n",
    "    _template_aclu_list = list(template_aclus) # convert to a temporary basic python list so that `.index(aclu)` works in the next line.\n",
    "    template_epoch_neuron_IDXs: NDArray[int] = np.array([_template_aclu_list.index(aclu) for aclu in actually_included_epoch_aclus]) # should be the appropriate neuronIDXs in the template-relative array\n",
    "\n",
    "    epoch_ranked_fragile_linear_neuron_IDXs_array = epoch_ranked_fragile_linear_neuron_IDX_dict[epoch_id]\n",
    "    epoch_neuron_IDX_ranks = np.squeeze(epoch_ranked_fragile_linear_neuron_IDXs_array[is_epoch_aclu_included_in_template,1]) # the ranks just for this epoch, just for this template\n",
    "    \n",
    "    # FINAL NOTE: `actually_included_template_aclus`, `template_epoch_neuron_IDXs` contain the actual IDX and aclus for this template active during this epoch\n",
    "\n",
    "    # Note that now (after boolean slicing), both `epoch_neuron_IDXs` and `epoch_neuron_IDX_ranks` can be LESS than the `shared_aclus_only_neuron_IDs`. They are indexed?\n",
    "    # Instead of `epoch_neuron_IDXs`, use `template_epoch_neuron_IDXs` to the get neuron_IDXs relative to this template:`\n",
    "    assert np.size(template_epoch_neuron_IDXs) == np.size(epoch_neuron_IDX_ranks), f\"{np.size(epoch_neuron_IDX_ranks)} and len(template_epoch_neuron_IDXs): {np.size(template_epoch_neuron_IDXs)}\"\n",
    "\n",
    "    #TODO 2023-11-22 08:35: - [ ] keep da' indicies we actually use for this template/epoch. They're needed in the RankOrderRastersDebugger.\n",
    "    output_dict[epoch_id] = (template_epoch_neuron_IDXs, template_epoch_actually_included_aclus, epoch_neuron_IDX_ranks) # might need multiple for each templates if they aren't clipped to shared.\n",
    "\n",
    "    ## EPOCH SPECIFIC:\n",
    "    long_spearmanr_rank_stats_results = []\n",
    "    short_spearmanr_rank_stats_results = []\n",
    "\n",
    "    # The \"real\" result for this epoch:\n",
    "    active_epoch_aclu_long_ranks = epoch_active_long_pf_peak_ranks\n",
    "    real_long_rank_stats = scipy.stats.spearmanr(active_epoch_aclu_long_ranks, actually_included_epoch_ranks)\n",
    "    real_long_result_corr_value = real_long_rank_stats.statistic\n",
    "\n",
    "    return real_long_result_corr_value #, output_dict\n",
    "\n",
    "# Usage\n",
    "plot = InteractiveRasterBuilderWidget()\n",
    "# display(plot)\n",
    "plot"
   ]
  },
  {
   "cell_type": "code",
   "execution_count": 2,
   "metadata": {
    "notebookRunGroups": {
     "groupValue": "1"
    }
   },
   "outputs": [
    {
     "ename": "AttributeError",
     "evalue": "'InteractiveRasterBuilderWidget' object has no attribute 'correlation_text'",
     "output_type": "error",
     "traceback": [
      "\u001b[0;31m---------------------------------------------------------------------------\u001b[0m",
      "\u001b[0;31mAttributeError\u001b[0m                            Traceback (most recent call last)",
      "Cell \u001b[0;32mIn[2], line 1\u001b[0m\n\u001b[0;32m----> 1\u001b[0m \u001b[38;5;28mtype\u001b[39m(\u001b[43mplot\u001b[49m\u001b[38;5;241;43m.\u001b[39;49m\u001b[43mcorrelation_text\u001b[49m)\n",
      "\u001b[0;31mAttributeError\u001b[0m: 'InteractiveRasterBuilderWidget' object has no attribute 'correlation_text'"
     ]
    }
   ],
   "source": []
  },
  {
   "cell_type": "markdown",
   "metadata": {},
   "source": [
    "write a python script that generates an interactive raster plot with 10 rows (each corresponding to a different neuron) where you can click anywhere to add a \"spike\". Each row should be a different color, and 100ms should be shown.\n",
    "Use a pd.DataFrame named `spikes_df` with the columns ['t', 'aclu'] where 'aclu' refers to the neuron_id instead of `spike_data` to hold the spikes.\n",
    "I'd like to use `np.spearman` to compute the rank-order value of the spike data each time the plot is updated and display that value as a label on the plot"
   ]
  },
  {
   "cell_type": "markdown",
   "metadata": {},
   "source": [
    "great, can you suggest a modification that highlights the currently hovered row with a faint highlight of the spike color, to make it easier to see what unit spikes will be created for?"
   ]
  }
 ],
 "metadata": {
  "kernelspec": {
   "display_name": ".venv",
   "language": "python",
   "name": "python3"
  },
  "language_info": {
   "codemirror_mode": {
    "name": "ipython",
    "version": 3
   },
   "file_extension": ".py",
   "mimetype": "text/x-python",
   "name": "python",
   "nbconvert_exporter": "python",
   "pygments_lexer": "ipython3",
   "version": "3.9.13"
  }
 },
 "nbformat": 4,
 "nbformat_minor": 2
}
