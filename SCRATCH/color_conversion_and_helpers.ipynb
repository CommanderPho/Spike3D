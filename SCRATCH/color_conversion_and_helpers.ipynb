{
 "cells": [
  {
   "cell_type": "code",
   "execution_count": 16,
   "metadata": {},
   "outputs": [
    {
     "name": "stdout",
     "output_type": "stream",
     "text": [
      "Automatic pdb calling has been turned OFF\n",
      "The autoreload extension is already loaded. To reload it, use:\n",
      "  %reload_ext autoreload\n"
     ]
    }
   ],
   "source": [
    "%config IPCompleter.use_jedi = False\n",
    "%pdb off\n",
    "%load_ext autoreload\n",
    "%autoreload 3\n",
    "\n",
    "from typing import Any, Dict, List, Optional,  OrderedDict, Union\n",
    "from copy import deepcopy\n",
    "import numpy as np\n",
    "import pandas as pd\n",
    "from neuropy.utils.mixins.enum_helpers import StringLiteralComparableEnum\n",
    "from pyphocorehelpers.programming_helpers import metadata_attributes\n",
    "from pyphocorehelpers.function_helpers import function_attributes\n",
    "import pyphoplacecellanalysis.External.pyqtgraph as pg\n",
    "from qtpy import QtGui # for QColor\n",
    "from qtpy.QtGui import QColor, QBrush, QPen\n",
    "\n",
    "import colorsys\n",
    "import tkinter as tk\n",
    "from tkinter import simpledialog\n",
    "from webcolors import hex_to_rgb\n",
    "\n",
    "from pyphocorehelpers.gui.Qt.color_helpers import ColormapHelpers, ColorFormatConverter, build_adjusted_color, debug_print_color, adjust_saturation, calculate_hsv_shift\n",
    "    "
   ]
  },
  {
   "cell_type": "code",
   "execution_count": 2,
   "metadata": {},
   "outputs": [
    {
     "name": "stdout",
     "output_type": "stream",
     "text": [
      "HSV Shift: Hue: -0.001, Saturation: -0.098, Value: -0.200\n"
     ]
    }
   ],
   "source": [
    "\n",
    "def hex_to_hsv(hex_color):\n",
    "    r, g, b = hex_to_rgb(hex_color)\n",
    "    return colorsys.rgb_to_hsv(r / 255.0, g / 255.0, b / 255.0)\n",
    "\n",
    "def calculate_hsv_shift(bg_color, border_color):\n",
    "    hsv1 = hex_to_hsv(bg_color)\n",
    "    hsv2 = hex_to_hsv(border_color)\n",
    "    \n",
    "    shift = tuple(hsv2[i] - hsv1[i] for i in range(3))\n",
    "    return shift\n",
    "\n",
    "def interactive_hsv_tool():\n",
    "    root = tk.Tk()\n",
    "    root.withdraw()\n",
    "    \n",
    "    bg_color = simpledialog.askstring(\"Input\", \"Enter background color (hex):\")\n",
    "    border_color = simpledialog.askstring(\"Input\", \"Enter border color (hex):\")\n",
    "    \n",
    "    if bg_color and border_color:\n",
    "        shift = calculate_hsv_shift(bg_color, border_color)\n",
    "        print(f\"HSV Shift: Hue: {shift[0]:.3f}, Saturation: {shift[1]:.3f}, Value: {shift[2]:.3f}\")\n",
    "    else:\n",
    "        print(\"Invalid input.\")\n",
    "\n",
    "if __name__ == \"__main__\":\n",
    "    interactive_hsv_tool()\n"
   ]
  },
  {
   "cell_type": "code",
   "execution_count": 9,
   "metadata": {},
   "outputs": [
    {
     "data": {
      "text/plain": [
       "array([-2.22222222e-04,  1.03150988e-02, -2.62745098e-01,  0.00000000e+00])"
      ]
     },
     "execution_count": 9,
     "metadata": {},
     "output_type": "execute_result"
    }
   ],
   "source": [
    "colorA = '#1f02c2' \n",
    "colorB = '#13007f'\n",
    "\n",
    "if isinstance(colorA, str):\n",
    "    colorA = QtGui.QColor(colorA)\n",
    "if isinstance(colorB, str):\n",
    "    colorB = QtGui.QColor(colorB)\n",
    "    \n",
    "hsvA = np.array(colorA.getHsvF()) # (0.6918333333333333, 0.9896849011978333, 0.7607843137254902, 1.0)\n",
    "hsvB = np.array(colorB.getHsvF()) # (0.6918333333333333, 0.9896849011978333, 0.7607843137254902, 1.0)\n"
   ]
  },
  {
   "cell_type": "code",
   "execution_count": 22,
   "metadata": {},
   "outputs": [
    {
     "name": "stdout",
     "output_type": "stream",
     "text": [
      "rgbaF: (0.12156862745098039, 0.00784313725490196, 0.7607843137254902, 1.0), HexARgb: #1f02c2\n",
      "rgbaF: (0.07450980392156863, 0.0, 0.4980392156862745, 1.0), HexARgb: #13007f\n",
      "hsvA: [0.69183333 0.9896849  0.76078431 1.        ]\n",
      "hsvB: [0.69161111 1.         0.49803922 1.        ]\n"
     ]
    },
    {
     "data": {
      "text/plain": [
       "{'hue_shift': -0.00022222222222223476,\n",
       " 'saturation_scale': 1.0104226090442343,\n",
       " 'value_scale': 0.654639175257732,\n",
       " 'alpha_scale': 1.0}"
      ]
     },
     "execution_count": 22,
     "metadata": {},
     "output_type": "execute_result"
    }
   ],
   "source": [
    "hsv_diff = calculate_hsv_shift(colorA='#1f02c2' , colorB='#13007f', debug_print=True) # hsvB - hsvA\n",
    "hsv_diff\n",
    "hsv_diff\n",
    "\n",
    "{'hue_shift': -0.00022222222222223476, 'saturation_scale': 1.0104226090442343, 'value_scale': 0.654639175257732, 'alpha_scale': 1.0}"
   ]
  },
  {
   "cell_type": "code",
   "execution_count": 26,
   "metadata": {},
   "outputs": [
    {
     "name": "stdout",
     "output_type": "stream",
     "text": [
      "{'hue_shift': 0.0, 'saturation_scale': 1.0, 'value_scale': 0.6666666666666666, 'alpha_scale': 1.0}\n"
     ]
    },
    {
     "name": "stderr",
     "output_type": "stream",
     "text": [
      "C:\\Users\\pho\\repos\\Spike3DWorkEnv\\pyPhoCoreHelpers\\src\\pyphocorehelpers\\gui\\Qt\\color_helpers.py:70: RuntimeWarning: invalid value encountered in double_scalars\n",
      "  \"\"\"\n"
     ]
    }
   ],
   "source": [
    "hsv_diff = calculate_hsv_shift(colorA='#fff' , colorB='#aaa') # hsvB - hsvA\n",
    "print(hsv_diff)\n"
   ]
  },
  {
   "cell_type": "code",
   "execution_count": null,
   "metadata": {},
   "outputs": [],
   "source": [
    "\n",
    "ColorFormatConverter.qColor_to_hexstring(build_adjusted_color(colorA, **hsv_diff), include_alpha=False) # '#13007fff'\n",
    "\n",
    "\n"
   ]
  }
 ],
 "metadata": {
  "kernelspec": {
   "display_name": ".venv",
   "language": "python",
   "name": "python3"
  },
  "language_info": {
   "codemirror_mode": {
    "name": "ipython",
    "version": 3
   },
   "file_extension": ".py",
   "mimetype": "text/x-python",
   "name": "python",
   "nbconvert_exporter": "python",
   "pygments_lexer": "ipython3",
   "version": "3.9.13"
  }
 },
 "nbformat": 4,
 "nbformat_minor": 2
}
