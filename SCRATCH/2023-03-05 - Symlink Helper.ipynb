{
 "cells": [
  {
   "cell_type": "code",
   "execution_count": 1,
   "metadata": {
    "notebookRunGroups": {
     "groupValue": "1"
    }
   },
   "outputs": [],
   "source": [
    "# Symlinkers\n",
    "import sys\n",
    "import os\n",
    "import shutil\n",
    "from typing import List, Dict, Optional, Tuple\n",
    "from pathlib import Path\n",
    "from typing import Dict, Optional, Tuple\n",
    "from attrs import define, field, Factory\n",
    "from pyphocorehelpers.Filesystem.symbolic_link_helpers import SymlinkManager\n",
    "from pyphocorehelpers.Filesystem.symbolic_link_helpers import make_specific_items_local\n",
    "\n",
    "# _venv_symlinker = SymlinkManager(\n",
    "#     alternative_destination_directories={\n",
    "#         'pypoetry': Path(r'K:\\FastSwap\\Environments\\pypoetry\\pypoetry\\Cache\\virtualenvs\\spike3d-UP7QTzFM-py3.9'),\n",
    "#         'original': Path(r'K:\\FastSwap\\Environments\\.venv_original')\n",
    "#     },\n",
    "#     target_symlink_location=Path(r'C:\\Users\\pho\\repos\\Spike3DWorkEnv\\Spike3D\\.venv')\n",
    "# )\n",
    "# _venv_symlinker\n",
    "\n",
    "# _venv_symlinker.current_symlink_target()"
   ]
  },
  {
   "cell_type": "code",
   "execution_count": null,
   "metadata": {},
   "outputs": [],
   "source": [
    "_venv_symlinker"
   ]
  },
  {
   "cell_type": "code",
   "execution_count": null,
   "metadata": {},
   "outputs": [],
   "source": [
    "## Copy\n",
    "real_folder = Path(r\"C:\\Users\\pho\\.pyenv\\pyenv-win\\versions\\3.9.13new\").resolve()\n",
    "destination_storage_parent_folder = Path(r'K:\\FastSwap\\Environments\\pyenv\\versions').resolve()\n",
    "\n",
    "_new_pyenv_symlinker = SymlinkManager.version_real_folder(real_folder, destination_storage_parent_folder=destination_storage_parent_folder, override_destination_storage_name='3.9.13new')\n",
    "_new_pyenv_symlinker"
   ]
  },
  {
   "cell_type": "code",
   "execution_count": null,
   "metadata": {},
   "outputs": [],
   "source": [
    "## FastSwap a data directory on a spinning disk to a faster SSD\n",
    "\n",
    "a_slow_path: Path = Path('/media/halechr/MAX/Data')\n",
    "a_fastswapped_path: Path = Path('/media/halechr/FedoraSSD/FastData')\n",
    "# a_fastswapped_path: Path = Path('/media/halechr/FedoraSSD/media/halechr/FedoraSSD/FastData')\n",
    "\n"
   ]
  },
  {
   "cell_type": "code",
   "execution_count": 2,
   "metadata": {
    "notebookRunGroups": {
     "groupValue": "1"
    }
   },
   "outputs": [],
   "source": [
    "## Specific Animal Folder to copy:\n",
    "a_slow_path: Path = Path('/media/halechr/MAX/Data')\n",
    "a_fastswapped_path: Path = Path('/media/halechr/FedoraSSD/FastData')\n",
    "\n",
    "try:\n",
    "    os.symlink(a_slow_path, a_fastswapped_path) # make a symlink at '/media/halechr/FedoraSSD/FastData'\n",
    "except FileExistsError:\n",
    "    pass\n",
    "\n",
    "## The .pkl files should be copied, the rest should be symlinked.\n",
    "\n",
    "# 'loadedSessPickle.pkl'\n",
    "# 'output/global_computation_results.pkl'"
   ]
  },
  {
   "cell_type": "code",
   "execution_count": null,
   "metadata": {},
   "outputs": [],
   "source": [
    "sym_man = SymlinkManager(target_symlink_location=a_fastswapped_path, alternative_destination_directories={'MAX_data': a_slow_path})\n",
    "sym_man\n",
    "\n",
    "sym_man.establish_symlink("
   ]
  },
  {
   "cell_type": "code",
   "execution_count": 6,
   "metadata": {
    "notebookRunGroups": {
     "groupValue": "1"
    }
   },
   "outputs": [
    {
     "name": "stdout",
     "output_type": "stream",
     "text": [
      "existing_symlink_folder_path: /media/halechr/FedoraSSD/FastData\n",
      ">> a_symlink_path: /media/halechr/FedoraSSD/FastData/KDIBA/gor01/one/2006-6-07_11-26-53/output/global_computation_results.pkl\n",
      "/media/halechr/FedoraSSD/FastData/KDIBA/gor01/one/2006-6-07_11-26-53/output/global_computation_results.pkl is not a symlink.\n",
      "found symlink ancestor: /media/halechr/FedoraSSD/FastData/KDIBA/gor01.\n",
      "relative_to_symlink_ancestor: one/2006-6-07_11-26-53/output\n",
      "num_paths_to_partial_localize: 3\n",
      "ancestor_paths_to_resolve: [PosixPath('/media/halechr/FedoraSSD/FastData/KDIBA/gor01'), PosixPath('/media/halechr/FedoraSSD/FastData/KDIBA/gor01/one'), PosixPath('/media/halechr/FedoraSSD/FastData/KDIBA/gor01/one/2006-6-07_11-26-53'), PosixPath('/media/halechr/FedoraSSD/FastData/KDIBA/gor01/one/2006-6-07_11-26-53/output')]\n",
      "Will create directory: /media/halechr/FedoraSSD/FastData/KDIBA/gor01\n",
      "\t Will create symlinks in /media/halechr/FedoraSSD/FastData/KDIBA/gor01/two\t->\t/media/halechr/MAX/Data/KDIBA/gor01/two\n",
      "\t Will create symlinks in /media/halechr/FedoraSSD/FastData/KDIBA/gor01/one\t->\t/media/halechr/MAX/Data/KDIBA/gor01/one\n",
      "Will create directory: /media/halechr/FedoraSSD/FastData/KDIBA/gor01/one\n",
      "\t Will create symlinks in /media/halechr/FedoraSSD/FastData/KDIBA/gor01/one/2006-6-13_14-42-6\t->\t/media/halechr/MAX/Data/KDIBA/gor01/one/2006-6-13_14-42-6\n",
      "\t Will create symlinks in /media/halechr/FedoraSSD/FastData/KDIBA/gor01/one/AApairsZ2.mat\t->\t/media/halechr/MAX/Data/KDIBA/gor01/one/AApairsZ2.mat\n",
      "\t Will create symlinks in /media/halechr/FedoraSSD/FastData/KDIBA/gor01/one/96.xml\t->\t/media/halechr/MAX/Data/KDIBA/gor01/one/96.xml\n",
      "\t Will create symlinks in /media/halechr/FedoraSSD/FastData/KDIBA/gor01/one/2006-6-07_11-26-53\t->\t/media/halechr/MAX/Data/KDIBA/gor01/one/2006-6-07_11-26-53\n",
      "\t Will create symlinks in /media/halechr/FedoraSSD/FastData/KDIBA/gor01/one/IIDataMat_Export_ToPython_2021_11_23.m\t->\t/media/halechr/MAX/Data/KDIBA/gor01/one/IIDataMat_Export_ToPython_2021_11_23.m\n",
      "\t Will create symlinks in /media/halechr/FedoraSSD/FastData/KDIBA/gor01/one/2006-6-08_14-26-15\t->\t/media/halechr/MAX/Data/KDIBA/gor01/one/2006-6-08_14-26-15\n",
      "\t Will create symlinks in /media/halechr/FedoraSSD/FastData/KDIBA/gor01/one/positionthresh.m\t->\t/media/halechr/MAX/Data/KDIBA/gor01/one/positionthresh.m\n",
      "\t Will create symlinks in /media/halechr/FedoraSSD/FastData/KDIBA/gor01/one/2006-6-09_3-23-37\t->\t/media/halechr/MAX/Data/KDIBA/gor01/one/2006-6-09_3-23-37\n",
      "\t Will create symlinks in /media/halechr/FedoraSSD/FastData/KDIBA/gor01/one/clu1dsaveIII.m\t->\t/media/halechr/MAX/Data/KDIBA/gor01/one/clu1dsaveIII.m\n",
      "\t Will create symlinks in /media/halechr/FedoraSSD/FastData/KDIBA/gor01/one/cellpairs.mat\t->\t/media/halechr/MAX/Data/KDIBA/gor01/one/cellpairs.mat\n",
      "\t Will create symlinks in /media/halechr/FedoraSSD/FastData/KDIBA/gor01/one/PFPlot.m\t->\t/media/halechr/MAX/Data/KDIBA/gor01/one/PFPlot.m\n",
      "\t Will create symlinks in /media/halechr/FedoraSSD/FastData/KDIBA/gor01/one/binpos.m\t->\t/media/halechr/MAX/Data/KDIBA/gor01/one/binpos.m\n",
      "\t Will create symlinks in /media/halechr/FedoraSSD/FastData/KDIBA/gor01/one/2006-6-09_1-22-43\t->\t/media/halechr/MAX/Data/KDIBA/gor01/one/2006-6-09_1-22-43\n",
      "\t Will create symlinks in /media/halechr/FedoraSSD/FastData/KDIBA/gor01/one/redopairs.mat\t->\t/media/halechr/MAX/Data/KDIBA/gor01/one/redopairs.mat\n",
      "\t Will create symlinks in /media/halechr/FedoraSSD/FastData/KDIBA/gor01/one/replay.mat\t->\t/media/halechr/MAX/Data/KDIBA/gor01/one/replay.mat\n",
      "\t Will create symlinks in /media/halechr/FedoraSSD/FastData/KDIBA/gor01/one/INdata.mat\t->\t/media/halechr/MAX/Data/KDIBA/gor01/one/INdata.mat\n",
      "\t Will create symlinks in /media/halechr/FedoraSSD/FastData/KDIBA/gor01/one/rotation.mat\t->\t/media/halechr/MAX/Data/KDIBA/gor01/one/rotation.mat\n",
      "\t Will create symlinks in /media/halechr/FedoraSSD/FastData/KDIBA/gor01/one/PFClassic.m\t->\t/media/halechr/MAX/Data/KDIBA/gor01/one/PFClassic.m\n",
      "\t Will create symlinks in /media/halechr/FedoraSSD/FastData/KDIBA/gor01/one/SetXRange.m\t->\t/media/halechr/MAX/Data/KDIBA/gor01/one/SetXRange.m\n",
      "\t Will create symlinks in /media/halechr/FedoraSSD/FastData/KDIBA/gor01/one/IIdata.mat\t->\t/media/halechr/MAX/Data/KDIBA/gor01/one/IIdata.mat\n",
      "\t Will create symlinks in /media/halechr/FedoraSSD/FastData/KDIBA/gor01/one/ESpairs.mat\t->\t/media/halechr/MAX/Data/KDIBA/gor01/one/ESpairs.mat\n",
      "\t Will create symlinks in /media/halechr/FedoraSSD/FastData/KDIBA/gor01/one/xyt2whl.m\t->\t/media/halechr/MAX/Data/KDIBA/gor01/one/xyt2whl.m\n",
      "\t Will create symlinks in /media/halechr/FedoraSSD/FastData/KDIBA/gor01/one/PF1D.m\t->\t/media/halechr/MAX/Data/KDIBA/gor01/one/PF1D.m\n",
      "\t Will create symlinks in /media/halechr/FedoraSSD/FastData/KDIBA/gor01/one/KDpairs.mat\t->\t/media/halechr/MAX/Data/KDIBA/gor01/one/KDpairs.mat\n",
      "\t Will create symlinks in /media/halechr/FedoraSSD/FastData/KDIBA/gor01/one/redoconv.mat\t->\t/media/halechr/MAX/Data/KDIBA/gor01/one/redoconv.mat\n",
      "\t Will create symlinks in /media/halechr/FedoraSSD/FastData/KDIBA/gor01/one/2006-6-12_15-55-31\t->\t/media/halechr/MAX/Data/KDIBA/gor01/one/2006-6-12_15-55-31\n",
      "Will create directory: /media/halechr/FedoraSSD/FastData/KDIBA/gor01/one/2006-6-07_11-26-53\n",
      "\t Will create symlinks in /media/halechr/FedoraSSD/FastData/KDIBA/gor01/one/2006-6-07_11-26-53/2006-6-07_11-26-53.spk.7\t->\t/media/halechr/MAX/Data/KDIBA/gor01/one/2006-6-07_11-26-53/2006-6-07_11-26-53.spk.7\n",
      "\t Will create symlinks in /media/halechr/FedoraSSD/FastData/KDIBA/gor01/one/2006-6-07_11-26-53/Events.Nev\t->\t/media/halechr/MAX/Data/KDIBA/gor01/one/2006-6-07_11-26-53/Events.Nev\n",
      "\t Will create symlinks in /media/halechr/FedoraSSD/FastData/KDIBA/gor01/one/2006-6-07_11-26-53/ripple_detector.pkl\t->\t/media/halechr/MAX/Data/KDIBA/gor01/one/2006-6-07_11-26-53/ripple_detector.pkl\n",
      "\t Will create symlinks in /media/halechr/FedoraSSD/FastData/KDIBA/gor01/one/2006-6-07_11-26-53/2006-6-07_11-26-53all.1.res\t->\t/media/halechr/MAX/Data/KDIBA/gor01/one/2006-6-07_11-26-53/2006-6-07_11-26-53all.1.res\n",
      "\t Will create symlinks in /media/halechr/FedoraSSD/FastData/KDIBA/gor01/one/2006-6-07_11-26-53/2006-6-07_11-26-53.res.5\t->\t/media/halechr/MAX/Data/KDIBA/gor01/one/2006-6-07_11-26-53/2006-6-07_11-26-53.res.5\n",
      "\t Will create symlinks in /media/halechr/FedoraSSD/FastData/KDIBA/gor01/one/2006-6-07_11-26-53/2006-6-07_11-26-53.clu.4\t->\t/media/halechr/MAX/Data/KDIBA/gor01/one/2006-6-07_11-26-53/2006-6-07_11-26-53.clu.4\n",
      "\t Will create symlinks in /media/halechr/FedoraSSD/FastData/KDIBA/gor01/one/2006-6-07_11-26-53/2006-6-07_11-26-53.21.clu\t->\t/media/halechr/MAX/Data/KDIBA/gor01/one/2006-6-07_11-26-53/2006-6-07_11-26-53.21.clu\n",
      "\t Will create symlinks in /media/halechr/FedoraSSD/FastData/KDIBA/gor01/one/2006-6-07_11-26-53/2006-6-07_11-26-53.spikeII.mat\t->\t/media/halechr/MAX/Data/KDIBA/gor01/one/2006-6-07_11-26-53/2006-6-07_11-26-53.spikeII.mat\n",
      "\t Will create symlinks in /media/halechr/FedoraSSD/FastData/KDIBA/gor01/one/2006-6-07_11-26-53/2006-6-07_11-26-53.fet.9\t->\t/media/halechr/MAX/Data/KDIBA/gor01/one/2006-6-07_11-26-53/2006-6-07_11-26-53.fet.9\n",
      "\t Will create symlinks in /media/halechr/FedoraSSD/FastData/KDIBA/gor01/one/2006-6-07_11-26-53/loadedSessPickle.pkl\t->\t/media/halechr/MAX/Data/KDIBA/gor01/one/2006-6-07_11-26-53/loadedSessPickle.pkl\n",
      "\t Will create symlinks in /media/halechr/FedoraSSD/FastData/KDIBA/gor01/one/2006-6-07_11-26-53/2006-6-07_11-26-53.fet.xml\t->\t/media/halechr/MAX/Data/KDIBA/gor01/one/2006-6-07_11-26-53/2006-6-07_11-26-53.fet.xml\n",
      "\t Will create symlinks in /media/halechr/FedoraSSD/FastData/KDIBA/gor01/one/2006-6-07_11-26-53/2006-6-07_11-26-53.res.9\t->\t/media/halechr/MAX/Data/KDIBA/gor01/one/2006-6-07_11-26-53/2006-6-07_11-26-53.res.9\n",
      "\t Will create symlinks in /media/halechr/FedoraSSD/FastData/KDIBA/gor01/one/2006-6-07_11-26-53/2006-6-07_11-26-53.clu.12\t->\t/media/halechr/MAX/Data/KDIBA/gor01/one/2006-6-07_11-26-53/2006-6-07_11-26-53.clu.12\n",
      "\t Will create symlinks in /media/halechr/FedoraSSD/FastData/KDIBA/gor01/one/2006-6-07_11-26-53/2006-6-07_11-26-53.spk.11\t->\t/media/halechr/MAX/Data/KDIBA/gor01/one/2006-6-07_11-26-53/2006-6-07_11-26-53.spk.11\n",
      "\t Will create symlinks in /media/halechr/FedoraSSD/FastData/KDIBA/gor01/one/2006-6-07_11-26-53/20230502172950-loadedSessPickle.pkl\t->\t/media/halechr/MAX/Data/KDIBA/gor01/one/2006-6-07_11-26-53/20230502172950-loadedSessPickle.pkl\n",
      "\t Will create symlinks in /media/halechr/FedoraSSD/FastData/KDIBA/gor01/one/2006-6-07_11-26-53/Misc files\t->\t/media/halechr/MAX/Data/KDIBA/gor01/one/2006-6-07_11-26-53/Misc files\n",
      "\t Will create symlinks in /media/halechr/FedoraSSD/FastData/KDIBA/gor01/one/2006-6-07_11-26-53/2006-6-07_11-26-53.22.clu\t->\t/media/halechr/MAX/Data/KDIBA/gor01/one/2006-6-07_11-26-53/2006-6-07_11-26-53.22.clu\n",
      "\t Will create symlinks in /media/halechr/FedoraSSD/FastData/KDIBA/gor01/one/2006-6-07_11-26-53/2006-6-07_11-26-53.epochs_info.mat\t->\t/media/halechr/MAX/Data/KDIBA/gor01/one/2006-6-07_11-26-53/2006-6-07_11-26-53.epochs_info.mat\n",
      "\t Will create symlinks in /media/halechr/FedoraSSD/FastData/KDIBA/gor01/one/2006-6-07_11-26-53/2006-6-07_11-26-53.position_info.mat\t->\t/media/halechr/MAX/Data/KDIBA/gor01/one/2006-6-07_11-26-53/2006-6-07_11-26-53.position_info.mat\n",
      "\t Will create symlinks in /media/halechr/FedoraSSD/FastData/KDIBA/gor01/one/2006-6-07_11-26-53/2006-6-07_11-26-53.clu.2\t->\t/media/halechr/MAX/Data/KDIBA/gor01/one/2006-6-07_11-26-53/2006-6-07_11-26-53.clu.2\n",
      "\t Will create symlinks in /media/halechr/FedoraSSD/FastData/KDIBA/gor01/one/2006-6-07_11-26-53/20230502175815-loadedSessPickle.pkl\t->\t/media/halechr/MAX/Data/KDIBA/gor01/one/2006-6-07_11-26-53/20230502175815-loadedSessPickle.pkl\n",
      "\t Will create symlinks in /media/halechr/FedoraSSD/FastData/KDIBA/gor01/one/2006-6-07_11-26-53/ripple_df.pkl\t->\t/media/halechr/MAX/Data/KDIBA/gor01/one/2006-6-07_11-26-53/ripple_df.pkl\n",
      "\t Will create symlinks in /media/halechr/FedoraSSD/FastData/KDIBA/gor01/one/2006-6-07_11-26-53/2006-6-07_11-26-53.res.1\t->\t/media/halechr/MAX/Data/KDIBA/gor01/one/2006-6-07_11-26-53/2006-6-07_11-26-53.res.1\n",
      "\t Will create symlinks in /media/halechr/FedoraSSD/FastData/KDIBA/gor01/one/2006-6-07_11-26-53/2006-6-07_11-26-53.clu.5\t->\t/media/halechr/MAX/Data/KDIBA/gor01/one/2006-6-07_11-26-53/2006-6-07_11-26-53.clu.5\n",
      "\t Will create symlinks in /media/halechr/FedoraSSD/FastData/KDIBA/gor01/one/2006-6-07_11-26-53/2006-6-07_11-26-53.spk.1\t->\t/media/halechr/MAX/Data/KDIBA/gor01/one/2006-6-07_11-26-53/2006-6-07_11-26-53.spk.1\n",
      "\t Will create symlinks in /media/halechr/FedoraSSD/FastData/KDIBA/gor01/one/2006-6-07_11-26-53/2006-6-07_11-26-53.11.clu\t->\t/media/halechr/MAX/Data/KDIBA/gor01/one/2006-6-07_11-26-53/2006-6-07_11-26-53.11.clu\n",
      "\t Will create symlinks in /media/halechr/FedoraSSD/FastData/KDIBA/gor01/one/2006-6-07_11-26-53/2006-6-07_11-26-53.Bur.evt\t->\t/media/halechr/MAX/Data/KDIBA/gor01/one/2006-6-07_11-26-53/2006-6-07_11-26-53.Bur.evt\n",
      "\t Will create symlinks in /media/halechr/FedoraSSD/FastData/KDIBA/gor01/one/2006-6-07_11-26-53/2006-6-07_11-26-53.theta.1\t->\t/media/halechr/MAX/Data/KDIBA/gor01/one/2006-6-07_11-26-53/2006-6-07_11-26-53.theta.1\n",
      "\t Will create symlinks in /media/halechr/FedoraSSD/FastData/KDIBA/gor01/one/2006-6-07_11-26-53/2006-6-07_11-26-53.clu.8\t->\t/media/halechr/MAX/Data/KDIBA/gor01/one/2006-6-07_11-26-53/2006-6-07_11-26-53.clu.8\n",
      "\t Will create symlinks in /media/halechr/FedoraSSD/FastData/KDIBA/gor01/one/2006-6-07_11-26-53/pred_ripples.csv\t->\t/media/halechr/MAX/Data/KDIBA/gor01/one/2006-6-07_11-26-53/pred_ripples.csv\n",
      "\t Will create symlinks in /media/halechr/FedoraSSD/FastData/KDIBA/gor01/one/2006-6-07_11-26-53/2006-6-07_11-26-53.mua.npy\t->\t/media/halechr/MAX/Data/KDIBA/gor01/one/2006-6-07_11-26-53/2006-6-07_11-26-53.mua.npy\n",
      "\t Will create symlinks in /media/halechr/FedoraSSD/FastData/KDIBA/gor01/one/2006-6-07_11-26-53/2006-6-07_11-26-53.fet.6\t->\t/media/halechr/MAX/Data/KDIBA/gor01/one/2006-6-07_11-26-53/2006-6-07_11-26-53.fet.6\n",
      "\t Will create symlinks in /media/halechr/FedoraSSD/FastData/KDIBA/gor01/one/2006-6-07_11-26-53/2006-6-07_11-26-53.clu.1\t->\t/media/halechr/MAX/Data/KDIBA/gor01/one/2006-6-07_11-26-53/2006-6-07_11-26-53.clu.1\n",
      "\t Will create symlinks in /media/halechr/FedoraSSD/FastData/KDIBA/gor01/one/2006-6-07_11-26-53/2006-6-07_11-26-53.theta\t->\t/media/halechr/MAX/Data/KDIBA/gor01/one/2006-6-07_11-26-53/2006-6-07_11-26-53.theta\n",
      "\t Will create symlinks in /media/halechr/FedoraSSD/FastData/KDIBA/gor01/one/2006-6-07_11-26-53/2006-6-07_11-26-53.12.res\t->\t/media/halechr/MAX/Data/KDIBA/gor01/one/2006-6-07_11-26-53/2006-6-07_11-26-53.12.res\n",
      "\t Will create symlinks in /media/halechr/FedoraSSD/FastData/KDIBA/gor01/one/2006-6-07_11-26-53/2006-6-07_11-26-53.clu.9\t->\t/media/halechr/MAX/Data/KDIBA/gor01/one/2006-6-07_11-26-53/2006-6-07_11-26-53.clu.9\n",
      "\t Will create symlinks in /media/halechr/FedoraSSD/FastData/KDIBA/gor01/one/2006-6-07_11-26-53/backup-20230616211705-loadedSessPickle.pkl.bak\t->\t/media/halechr/MAX/Data/KDIBA/gor01/one/2006-6-07_11-26-53/backup-20230616211705-loadedSessPickle.pkl.bak\n",
      "\t Will create symlinks in /media/halechr/FedoraSSD/FastData/KDIBA/gor01/one/2006-6-07_11-26-53/VT1.Nvt\t->\t/media/halechr/MAX/Data/KDIBA/gor01/one/2006-6-07_11-26-53/VT1.Nvt\n",
      "\t Will create symlinks in /media/halechr/FedoraSSD/FastData/KDIBA/gor01/one/2006-6-07_11-26-53/2006-6-07_11-26-53.fet.8\t->\t/media/halechr/MAX/Data/KDIBA/gor01/one/2006-6-07_11-26-53/2006-6-07_11-26-53.fet.8\n",
      "\t Will create symlinks in /media/halechr/FedoraSSD/FastData/KDIBA/gor01/one/2006-6-07_11-26-53/2006-6-07_11-26-53.fet.11\t->\t/media/halechr/MAX/Data/KDIBA/gor01/one/2006-6-07_11-26-53/2006-6-07_11-26-53.fet.11\n",
      "\t Will create symlinks in /media/halechr/FedoraSSD/FastData/KDIBA/gor01/one/2006-6-07_11-26-53/2006-6-07_11-26-53IN.5.clu\t->\t/media/halechr/MAX/Data/KDIBA/gor01/one/2006-6-07_11-26-53/2006-6-07_11-26-53IN.5.clu\n",
      "\t Will create symlinks in /media/halechr/FedoraSSD/FastData/KDIBA/gor01/one/2006-6-07_11-26-53/2006-6-07_11-26-53.res.10\t->\t/media/halechr/MAX/Data/KDIBA/gor01/one/2006-6-07_11-26-53/2006-6-07_11-26-53.res.10\n",
      "\t Will create symlinks in /media/halechr/FedoraSSD/FastData/KDIBA/gor01/one/2006-6-07_11-26-53/2006-6-07_11-26-53.clu.10\t->\t/media/halechr/MAX/Data/KDIBA/gor01/one/2006-6-07_11-26-53/2006-6-07_11-26-53.clu.10\n",
      "\t Will create symlinks in /media/halechr/FedoraSSD/FastData/KDIBA/gor01/one/2006-6-07_11-26-53/backup-20230707215205-loadedSessPickle.pkl.bak\t->\t/media/halechr/MAX/Data/KDIBA/gor01/one/2006-6-07_11-26-53/backup-20230707215205-loadedSessPickle.pkl.bak\n",
      "\t Will create symlinks in /media/halechr/FedoraSSD/FastData/KDIBA/gor01/one/2006-6-07_11-26-53/2006-6-07_11-26-53.clu.7\t->\t/media/halechr/MAX/Data/KDIBA/gor01/one/2006-6-07_11-26-53/2006-6-07_11-26-53.clu.7\n",
      "\t Will create symlinks in /media/halechr/FedoraSSD/FastData/KDIBA/gor01/one/2006-6-07_11-26-53/MakeTrajectoryFile.m~\t->\t/media/halechr/MAX/Data/KDIBA/gor01/one/2006-6-07_11-26-53/MakeTrajectoryFile.m~\n",
      "\t Will create symlinks in /media/halechr/FedoraSSD/FastData/KDIBA/gor01/one/2006-6-07_11-26-53/2006-6-07_11-26-53.interpolated_spike_positions.npy\t->\t/media/halechr/MAX/Data/KDIBA/gor01/one/2006-6-07_11-26-53/2006-6-07_11-26-53.interpolated_spike_positions.npy\n",
      "\t Will create symlinks in /media/halechr/FedoraSSD/FastData/KDIBA/gor01/one/2006-6-07_11-26-53/2006-6-07_11-26-53.nrs\t->\t/media/halechr/MAX/Data/KDIBA/gor01/one/2006-6-07_11-26-53/2006-6-07_11-26-53.nrs\n",
      "\t Will create symlinks in /media/halechr/FedoraSSD/FastData/KDIBA/gor01/one/2006-6-07_11-26-53/2006-6-07_11-26-53.spk.5\t->\t/media/halechr/MAX/Data/KDIBA/gor01/one/2006-6-07_11-26-53/2006-6-07_11-26-53.spk.5\n",
      "\t Will create symlinks in /media/halechr/FedoraSSD/FastData/KDIBA/gor01/one/2006-6-07_11-26-53/2006-6-07_11-26-53.whl\t->\t/media/halechr/MAX/Data/KDIBA/gor01/one/2006-6-07_11-26-53/2006-6-07_11-26-53.whl\n",
      "\t Will create symlinks in /media/halechr/FedoraSSD/FastData/KDIBA/gor01/one/2006-6-07_11-26-53/2006-6-07_11-26-53all.1.clu\t->\t/media/halechr/MAX/Data/KDIBA/gor01/one/2006-6-07_11-26-53/2006-6-07_11-26-53all.1.clu\n",
      "\t Will create symlinks in /media/halechr/FedoraSSD/FastData/KDIBA/gor01/one/2006-6-07_11-26-53/2006-6-07_11-26-53IN.5.res\t->\t/media/halechr/MAX/Data/KDIBA/gor01/one/2006-6-07_11-26-53/2006-6-07_11-26-53IN.5.res\n",
      "\t Will create symlinks in /media/halechr/FedoraSSD/FastData/KDIBA/gor01/one/2006-6-07_11-26-53/20230502180314-loadedSessPickle.pkl\t->\t/media/halechr/MAX/Data/KDIBA/gor01/one/2006-6-07_11-26-53/20230502180314-loadedSessPickle.pkl\n",
      "\t Will create symlinks in /media/halechr/FedoraSSD/FastData/KDIBA/gor01/one/2006-6-07_11-26-53/2006-6-07_11-26-53.clu.11\t->\t/media/halechr/MAX/Data/KDIBA/gor01/one/2006-6-07_11-26-53/2006-6-07_11-26-53.clu.11\n",
      "\t Will create symlinks in /media/halechr/FedoraSSD/FastData/KDIBA/gor01/one/2006-6-07_11-26-53/2006-6-07_11-26-53all.4.res\t->\t/media/halechr/MAX/Data/KDIBA/gor01/one/2006-6-07_11-26-53/2006-6-07_11-26-53all.4.res\n",
      "\t Will create symlinks in /media/halechr/FedoraSSD/FastData/KDIBA/gor01/one/2006-6-07_11-26-53/2006-6-07_11-26-53.fet.3\t->\t/media/halechr/MAX/Data/KDIBA/gor01/one/2006-6-07_11-26-53/2006-6-07_11-26-53.fet.3\n",
      "\t Will create symlinks in /media/halechr/FedoraSSD/FastData/KDIBA/gor01/one/2006-6-07_11-26-53/2006-6-07_11-26-53all.2.res\t->\t/media/halechr/MAX/Data/KDIBA/gor01/one/2006-6-07_11-26-53/2006-6-07_11-26-53all.2.res\n",
      "\t Will create symlinks in /media/halechr/FedoraSSD/FastData/KDIBA/gor01/one/2006-6-07_11-26-53/2006-6-07_11-26-53.12.clu\t->\t/media/halechr/MAX/Data/KDIBA/gor01/one/2006-6-07_11-26-53/2006-6-07_11-26-53.12.clu\n",
      "\t Will create symlinks in /media/halechr/FedoraSSD/FastData/KDIBA/gor01/one/2006-6-07_11-26-53/2006-6-07_11-26-53.spk.4\t->\t/media/halechr/MAX/Data/KDIBA/gor01/one/2006-6-07_11-26-53/2006-6-07_11-26-53.spk.4\n",
      "\t Will create symlinks in /media/halechr/FedoraSSD/FastData/KDIBA/gor01/one/2006-6-07_11-26-53/2006-6-07_11-26-53.xml\t->\t/media/halechr/MAX/Data/KDIBA/gor01/one/2006-6-07_11-26-53/2006-6-07_11-26-53.xml\n",
      "\t Will create symlinks in /media/halechr/FedoraSSD/FastData/KDIBA/gor01/one/2006-6-07_11-26-53/2006-6-07_11-26-53.spk.8\t->\t/media/halechr/MAX/Data/KDIBA/gor01/one/2006-6-07_11-26-53/2006-6-07_11-26-53.spk.8\n",
      "\t Will create symlinks in /media/halechr/FedoraSSD/FastData/KDIBA/gor01/one/2006-6-07_11-26-53/2006-6-07_11-26-53.fet.10\t->\t/media/halechr/MAX/Data/KDIBA/gor01/one/2006-6-07_11-26-53/2006-6-07_11-26-53.fet.10\n",
      "\t Will create symlinks in /media/halechr/FedoraSSD/FastData/KDIBA/gor01/one/2006-6-07_11-26-53/2006-6-07_11-26-53.pbe.npy\t->\t/media/halechr/MAX/Data/KDIBA/gor01/one/2006-6-07_11-26-53/2006-6-07_11-26-53.pbe.npy\n",
      "\t Will create symlinks in /media/halechr/FedoraSSD/FastData/KDIBA/gor01/one/2006-6-07_11-26-53/2006-6-07_11-26-53.spk.3\t->\t/media/halechr/MAX/Data/KDIBA/gor01/one/2006-6-07_11-26-53/2006-6-07_11-26-53.spk.3\n",
      "\t Will create symlinks in /media/halechr/FedoraSSD/FastData/KDIBA/gor01/one/2006-6-07_11-26-53/2006-6-07_11-26-53.spk.6\t->\t/media/halechr/MAX/Data/KDIBA/gor01/one/2006-6-07_11-26-53/2006-6-07_11-26-53.spk.6\n",
      "\t Will create symlinks in /media/halechr/FedoraSSD/FastData/KDIBA/gor01/one/2006-6-07_11-26-53/2006-6-07_11-26-53.rpl.evt\t->\t/media/halechr/MAX/Data/KDIBA/gor01/one/2006-6-07_11-26-53/2006-6-07_11-26-53.rpl.evt\n",
      "\t Will create symlinks in /media/halechr/FedoraSSD/FastData/KDIBA/gor01/one/2006-6-07_11-26-53/2006-6-07_11-26-53.res.8\t->\t/media/halechr/MAX/Data/KDIBA/gor01/one/2006-6-07_11-26-53/2006-6-07_11-26-53.res.8\n",
      "\t Will create symlinks in /media/halechr/FedoraSSD/FastData/KDIBA/gor01/one/2006-6-07_11-26-53/2006-6-07_11-26-53all.3.clu\t->\t/media/halechr/MAX/Data/KDIBA/gor01/one/2006-6-07_11-26-53/2006-6-07_11-26-53all.3.clu\n",
      "\t Will create symlinks in /media/halechr/FedoraSSD/FastData/KDIBA/gor01/one/2006-6-07_11-26-53/PhPPlot.m\t->\t/media/halechr/MAX/Data/KDIBA/gor01/one/2006-6-07_11-26-53/PhPPlot.m\n",
      "\t Will create symlinks in /media/halechr/FedoraSSD/FastData/KDIBA/gor01/one/2006-6-07_11-26-53/2006-6-07_11-26-53all.4.clu\t->\t/media/halechr/MAX/Data/KDIBA/gor01/one/2006-6-07_11-26-53/2006-6-07_11-26-53all.4.clu\n",
      "\t Will create symlinks in /media/halechr/FedoraSSD/FastData/KDIBA/gor01/one/2006-6-07_11-26-53/2006-6-07_11-26-53all.2.clu\t->\t/media/halechr/MAX/Data/KDIBA/gor01/one/2006-6-07_11-26-53/2006-6-07_11-26-53all.2.clu\n",
      "\t Will create symlinks in /media/halechr/FedoraSSD/FastData/KDIBA/gor01/one/2006-6-07_11-26-53/2006-6-07_11-26-53.res.12\t->\t/media/halechr/MAX/Data/KDIBA/gor01/one/2006-6-07_11-26-53/2006-6-07_11-26-53.res.12\n",
      "\t Will create symlinks in /media/halechr/FedoraSSD/FastData/KDIBA/gor01/one/2006-6-07_11-26-53/backup-20230601091228-loadedSessPickle.pkl.bak\t->\t/media/halechr/MAX/Data/KDIBA/gor01/one/2006-6-07_11-26-53/backup-20230601091228-loadedSessPickle.pkl.bak\n",
      "\t Will create symlinks in /media/halechr/FedoraSSD/FastData/KDIBA/gor01/one/2006-6-07_11-26-53/RippleDatabase.mat\t->\t/media/halechr/MAX/Data/KDIBA/gor01/one/2006-6-07_11-26-53/RippleDatabase.mat\n",
      "\t Will create symlinks in /media/halechr/FedoraSSD/FastData/KDIBA/gor01/one/2006-6-07_11-26-53/2006-6-07_11-26-53.res.4\t->\t/media/halechr/MAX/Data/KDIBA/gor01/one/2006-6-07_11-26-53/2006-6-07_11-26-53.res.4\n",
      "\t Will create symlinks in /media/halechr/FedoraSSD/FastData/KDIBA/gor01/one/2006-6-07_11-26-53/backup-20230502182603-loadedSessPickle.pkl.bak\t->\t/media/halechr/MAX/Data/KDIBA/gor01/one/2006-6-07_11-26-53/backup-20230502182603-loadedSessPickle.pkl.bak\n",
      "\t Will create symlinks in /media/halechr/FedoraSSD/FastData/KDIBA/gor01/one/2006-6-07_11-26-53/2006-6-07_11-26-53.fet.7\t->\t/media/halechr/MAX/Data/KDIBA/gor01/one/2006-6-07_11-26-53/2006-6-07_11-26-53.fet.7\n",
      "\t Will create symlinks in /media/halechr/FedoraSSD/FastData/KDIBA/gor01/one/2006-6-07_11-26-53/2006-6-07_11-26-53.res.3\t->\t/media/halechr/MAX/Data/KDIBA/gor01/one/2006-6-07_11-26-53/2006-6-07_11-26-53.res.3\n",
      "\t Will create symlinks in /media/halechr/FedoraSSD/FastData/KDIBA/gor01/one/2006-6-07_11-26-53/2006-6-07_11-26-53.clu.3\t->\t/media/halechr/MAX/Data/KDIBA/gor01/one/2006-6-07_11-26-53/2006-6-07_11-26-53.clu.3\n",
      "\t Will create symlinks in /media/halechr/FedoraSSD/FastData/KDIBA/gor01/one/2006-6-07_11-26-53/2006-6-07_11-26-53.res.7\t->\t/media/halechr/MAX/Data/KDIBA/gor01/one/2006-6-07_11-26-53/2006-6-07_11-26-53.res.7\n",
      "\t Will create symlinks in /media/halechr/FedoraSSD/FastData/KDIBA/gor01/one/2006-6-07_11-26-53/20230502174059-loadedSessPickle.pkl\t->\t/media/halechr/MAX/Data/KDIBA/gor01/one/2006-6-07_11-26-53/20230502174059-loadedSessPickle.pkl\n",
      "\t Will create symlinks in /media/halechr/FedoraSSD/FastData/KDIBA/gor01/one/2006-6-07_11-26-53/2006-6-07_11-26-53.spk.2\t->\t/media/halechr/MAX/Data/KDIBA/gor01/one/2006-6-07_11-26-53/2006-6-07_11-26-53.spk.2\n",
      "\t Will create symlinks in /media/halechr/FedoraSSD/FastData/KDIBA/gor01/one/2006-6-07_11-26-53/2006-6-07_11-26-53.seq.evt\t->\t/media/halechr/MAX/Data/KDIBA/gor01/one/2006-6-07_11-26-53/2006-6-07_11-26-53.seq.evt\n",
      "\t Will create symlinks in /media/halechr/FedoraSSD/FastData/KDIBA/gor01/one/2006-6-07_11-26-53/2006-6-07_11-26-53.spk.9\t->\t/media/halechr/MAX/Data/KDIBA/gor01/one/2006-6-07_11-26-53/2006-6-07_11-26-53.spk.9\n",
      "\t Will create symlinks in /media/halechr/FedoraSSD/FastData/KDIBA/gor01/one/2006-6-07_11-26-53/2006-6-07_11-26-53.replay_info.mat\t->\t/media/halechr/MAX/Data/KDIBA/gor01/one/2006-6-07_11-26-53/2006-6-07_11-26-53.replay_info.mat\n",
      "\t Will create symlinks in /media/halechr/FedoraSSD/FastData/KDIBA/gor01/one/2006-6-07_11-26-53/20230502175334-loadedSessPickle.pkl\t->\t/media/halechr/MAX/Data/KDIBA/gor01/one/2006-6-07_11-26-53/20230502175334-loadedSessPickle.pkl\n",
      "\t Will create symlinks in /media/halechr/FedoraSSD/FastData/KDIBA/gor01/one/2006-6-07_11-26-53/2006-6-07_11-26-53.spk.12\t->\t/media/halechr/MAX/Data/KDIBA/gor01/one/2006-6-07_11-26-53/2006-6-07_11-26-53.spk.12\n",
      "\t Will create symlinks in /media/halechr/FedoraSSD/FastData/KDIBA/gor01/one/2006-6-07_11-26-53/2006-6-07_11-26-53.fet.1\t->\t/media/halechr/MAX/Data/KDIBA/gor01/one/2006-6-07_11-26-53/2006-6-07_11-26-53.fet.1\n",
      "\t Will create symlinks in /media/halechr/FedoraSSD/FastData/KDIBA/gor01/one/2006-6-07_11-26-53/2006-6-07_11-26-53.fet.4\t->\t/media/halechr/MAX/Data/KDIBA/gor01/one/2006-6-07_11-26-53/2006-6-07_11-26-53.fet.4\n",
      "\t Will create symlinks in /media/halechr/FedoraSSD/FastData/KDIBA/gor01/one/2006-6-07_11-26-53/2006-6-07_11-26-53.fet.5\t->\t/media/halechr/MAX/Data/KDIBA/gor01/one/2006-6-07_11-26-53/2006-6-07_11-26-53.fet.5\n",
      "\t Will create symlinks in /media/halechr/FedoraSSD/FastData/KDIBA/gor01/one/2006-6-07_11-26-53/2006-6-07_11-26-53.fet.2\t->\t/media/halechr/MAX/Data/KDIBA/gor01/one/2006-6-07_11-26-53/2006-6-07_11-26-53.fet.2\n",
      "\t Will create symlinks in /media/halechr/FedoraSSD/FastData/KDIBA/gor01/one/2006-6-07_11-26-53/2006-6-07_11-26-53.clu.6\t->\t/media/halechr/MAX/Data/KDIBA/gor01/one/2006-6-07_11-26-53/2006-6-07_11-26-53.clu.6\n",
      "\t Will create symlinks in /media/halechr/FedoraSSD/FastData/KDIBA/gor01/one/2006-6-07_11-26-53/2006-6-07_11-26-53.spikes.mat\t->\t/media/halechr/MAX/Data/KDIBA/gor01/one/2006-6-07_11-26-53/2006-6-07_11-26-53.spikes.mat\n",
      "\t Will create symlinks in /media/halechr/FedoraSSD/FastData/KDIBA/gor01/one/2006-6-07_11-26-53/output\t->\t/media/halechr/MAX/Data/KDIBA/gor01/one/2006-6-07_11-26-53/output\n",
      "\t Will create symlinks in /media/halechr/FedoraSSD/FastData/KDIBA/gor01/one/2006-6-07_11-26-53/2006-6-07_11-26-53.swr.evt\t->\t/media/halechr/MAX/Data/KDIBA/gor01/one/2006-6-07_11-26-53/2006-6-07_11-26-53.swr.evt\n",
      "\t Will create symlinks in /media/halechr/FedoraSSD/FastData/KDIBA/gor01/one/2006-6-07_11-26-53/2006-6-07_11-26-53.eeg\t->\t/media/halechr/MAX/Data/KDIBA/gor01/one/2006-6-07_11-26-53/2006-6-07_11-26-53.eeg\n",
      "\t Will create symlinks in /media/halechr/FedoraSSD/FastData/KDIBA/gor01/one/2006-6-07_11-26-53/2006-6-07_11-26-53.laps_info.mat\t->\t/media/halechr/MAX/Data/KDIBA/gor01/one/2006-6-07_11-26-53/2006-6-07_11-26-53.laps_info.mat\n",
      "\t Will create symlinks in /media/halechr/FedoraSSD/FastData/KDIBA/gor01/one/2006-6-07_11-26-53/2006-6-07_11-26-53.res.6\t->\t/media/halechr/MAX/Data/KDIBA/gor01/one/2006-6-07_11-26-53/2006-6-07_11-26-53.res.6\n",
      "\t Will create symlinks in /media/halechr/FedoraSSD/FastData/KDIBA/gor01/one/2006-6-07_11-26-53/2006-6-07_11-26-53.NeuronQuality.mat\t->\t/media/halechr/MAX/Data/KDIBA/gor01/one/2006-6-07_11-26-53/2006-6-07_11-26-53.NeuronQuality.mat\n",
      "\t Will create symlinks in /media/halechr/FedoraSSD/FastData/KDIBA/gor01/one/2006-6-07_11-26-53/20230502172849-loadedSessPickle.pkl\t->\t/media/halechr/MAX/Data/KDIBA/gor01/one/2006-6-07_11-26-53/20230502172849-loadedSessPickle.pkl\n",
      "\t Will create symlinks in /media/halechr/FedoraSSD/FastData/KDIBA/gor01/one/2006-6-07_11-26-53/2006-6-07_11-26-53.res.2\t->\t/media/halechr/MAX/Data/KDIBA/gor01/one/2006-6-07_11-26-53/2006-6-07_11-26-53.res.2\n",
      "\t Will create symlinks in /media/halechr/FedoraSSD/FastData/KDIBA/gor01/one/2006-6-07_11-26-53/2006-6-07_11-26-53.11.res\t->\t/media/halechr/MAX/Data/KDIBA/gor01/one/2006-6-07_11-26-53/2006-6-07_11-26-53.11.res\n",
      "\t Will create symlinks in /media/halechr/FedoraSSD/FastData/KDIBA/gor01/one/2006-6-07_11-26-53/2006-6-07_11-26-53all.3.res\t->\t/media/halechr/MAX/Data/KDIBA/gor01/one/2006-6-07_11-26-53/2006-6-07_11-26-53all.3.res\n",
      "\t Will create symlinks in /media/halechr/FedoraSSD/FastData/KDIBA/gor01/one/2006-6-07_11-26-53/2006-6-07_11-26-53.position.npy\t->\t/media/halechr/MAX/Data/KDIBA/gor01/one/2006-6-07_11-26-53/2006-6-07_11-26-53.position.npy\n",
      "\t Will create symlinks in /media/halechr/FedoraSSD/FastData/KDIBA/gor01/one/2006-6-07_11-26-53/2006-6-07_11-26-53.21.res\t->\t/media/halechr/MAX/Data/KDIBA/gor01/one/2006-6-07_11-26-53/2006-6-07_11-26-53.21.res\n",
      "\t Will create symlinks in /media/halechr/FedoraSSD/FastData/KDIBA/gor01/one/2006-6-07_11-26-53/2006-6-07_11-26-53.fet.12\t->\t/media/halechr/MAX/Data/KDIBA/gor01/one/2006-6-07_11-26-53/2006-6-07_11-26-53.fet.12\n",
      "\t Will create symlinks in /media/halechr/FedoraSSD/FastData/KDIBA/gor01/one/2006-6-07_11-26-53/2006-6-07_11-26-53.res.11\t->\t/media/halechr/MAX/Data/KDIBA/gor01/one/2006-6-07_11-26-53/2006-6-07_11-26-53.res.11\n",
      "\t Will create symlinks in /media/halechr/FedoraSSD/FastData/KDIBA/gor01/one/2006-6-07_11-26-53/2006-6-07_11-26-53.bst.evt\t->\t/media/halechr/MAX/Data/KDIBA/gor01/one/2006-6-07_11-26-53/2006-6-07_11-26-53.bst.evt\n",
      "\t Will create symlinks in /media/halechr/FedoraSSD/FastData/KDIBA/gor01/one/2006-6-07_11-26-53/2006-6-07_11-26-53.spk.10\t->\t/media/halechr/MAX/Data/KDIBA/gor01/one/2006-6-07_11-26-53/2006-6-07_11-26-53.spk.10\n",
      "\t Will create symlinks in /media/halechr/FedoraSSD/FastData/KDIBA/gor01/one/2006-6-07_11-26-53/2006-6-07_11-26-53.22.res\t->\t/media/halechr/MAX/Data/KDIBA/gor01/one/2006-6-07_11-26-53/2006-6-07_11-26-53.22.res\n",
      "\t Will create symlinks in /media/halechr/FedoraSSD/FastData/KDIBA/gor01/one/2006-6-07_11-26-53/2006-6-07_11-26-53vt.mat\t->\t/media/halechr/MAX/Data/KDIBA/gor01/one/2006-6-07_11-26-53/2006-6-07_11-26-53vt.mat\n",
      "Will create directory: /media/halechr/FedoraSSD/FastData/KDIBA/gor01/one/2006-6-07_11-26-53/output\n",
      "\t Will create symlinks in /media/halechr/FedoraSSD/FastData/KDIBA/gor01/one/2006-6-07_11-26-53/output/leave_one_out_results.pkl\t->\t/media/halechr/MAX/Data/KDIBA/gor01/one/2006-6-07_11-26-53/output/leave_one_out_results.pkl\n",
      "\t Will create symlinks in /media/halechr/FedoraSSD/FastData/KDIBA/gor01/one/2006-6-07_11-26-53/output/global_computation_results.pkl\t->\t/media/halechr/MAX/Data/KDIBA/gor01/one/2006-6-07_11-26-53/output/global_computation_results.pkl\n",
      "\t Will create symlinks in /media/halechr/FedoraSSD/FastData/KDIBA/gor01/one/2006-6-07_11-26-53/output/leave_one_out_results_long_2D.pkl\t->\t/media/halechr/MAX/Data/KDIBA/gor01/one/2006-6-07_11-26-53/output/leave_one_out_results_long_2D.pkl\n",
      "\t Will create symlinks in /media/halechr/FedoraSSD/FastData/KDIBA/gor01/one/2006-6-07_11-26-53/output/leave_one_out_surprise_results_long.pkl\t->\t/media/halechr/MAX/Data/KDIBA/gor01/one/2006-6-07_11-26-53/output/leave_one_out_surprise_results_long.pkl\n",
      "\t Will create symlinks in /media/halechr/FedoraSSD/FastData/KDIBA/gor01/one/2006-6-07_11-26-53/output/leave_one_out_surprise_results.pkl\t->\t/media/halechr/MAX/Data/KDIBA/gor01/one/2006-6-07_11-26-53/output/leave_one_out_surprise_results.pkl\n",
      "\t Will create symlinks in /media/halechr/FedoraSSD/FastData/KDIBA/gor01/one/2006-6-07_11-26-53/output/leave_one_out_results_short.pkl\t->\t/media/halechr/MAX/Data/KDIBA/gor01/one/2006-6-07_11-26-53/output/leave_one_out_results_short.pkl\n",
      "\t Will create symlinks in /media/halechr/FedoraSSD/FastData/KDIBA/gor01/one/2006-6-07_11-26-53/output/leave_one_out_results_long.pkl\t->\t/media/halechr/MAX/Data/KDIBA/gor01/one/2006-6-07_11-26-53/output/leave_one_out_results_long.pkl\n",
      "\t Will create symlinks in /media/halechr/FedoraSSD/FastData/KDIBA/gor01/one/2006-6-07_11-26-53/output/leave_one_out_results_short_2D.pkl\t->\t/media/halechr/MAX/Data/KDIBA/gor01/one/2006-6-07_11-26-53/output/leave_one_out_results_short_2D.pkl\n",
      "\t Will create symlinks in /media/halechr/FedoraSSD/FastData/KDIBA/gor01/one/2006-6-07_11-26-53/output/leave_one_out_surprise_results_short.pkl\t->\t/media/halechr/MAX/Data/KDIBA/gor01/one/2006-6-07_11-26-53/output/leave_one_out_surprise_results_short.pkl\n",
      "Copy file /media/halechr/MAX/Data/KDIBA/gor01/one/2006-6-07_11-26-53/output/global_computation_results.pkl to /media/halechr/FedoraSSD/FastData/KDIBA/gor01/one/2006-6-07_11-26-53/output/global_computation_results.pkl\n",
      ">> a_symlink_path: /media/halechr/FedoraSSD/FastData/KDIBA/gor01/one/2006-6-07_11-26-53/loadedSessPickle.pkl\n",
      "Copy file /media/halechr/MAX/Data/KDIBA/gor01/one/2006-6-07_11-26-53/loadedSessPickle.pkl to /media/halechr/FedoraSSD/FastData/KDIBA/gor01/one/2006-6-07_11-26-53/loadedSessPickle.pkl\n"
     ]
    },
    {
     "data": {
      "text/plain": [
       "{PosixPath('/media/halechr/FedoraSSD/FastData/KDIBA/gor01/one/2006-6-07_11-26-53/output/global_computation_results.pkl'): True,\n",
       " PosixPath('/media/halechr/FedoraSSD/FastData/KDIBA/gor01/one/2006-6-07_11-26-53/loadedSessPickle.pkl'): True}"
      ]
     },
     "execution_count": 6,
     "metadata": {},
     "output_type": "execute_result"
    }
   ],
   "source": [
    "## Start by mirroring the whole directory structure as symlinks. Localize only the .pkl files should be copied\n",
    "\n",
    "\n",
    "\n",
    "\n",
    "# a_symlink_path: Path = Path('/media/halechr/FedoraSSD/FastData/KDIBA/pin01/one')\n",
    "a_symlink_path: Path = Path('/media/halechr/FedoraSSD/FastData')\n",
    "print(f'existing_symlink_folder_path: {a_symlink_path}')\n",
    "assert a_symlink_path.exists()\n",
    "desired_local_folder_paths: List[Path] = [Path(v) for v in [\n",
    "    # '/media/halechr/FedoraSSD/FastData/KDIBA/vvp01/one/2006-4-18_13-6-1/output/global_computation_results.pkl', '/media/halechr/FedoraSSD/FastData/KDIBA/vvp01/one/2006-4-18_13-6-1/loadedSessPickle.pkl',\n",
    "    '/media/halechr/FedoraSSD/FastData/KDIBA/gor01/one/2006-6-07_11-26-53/output/global_computation_results.pkl', '/media/halechr/FedoraSSD/FastData/KDIBA/gor01/one/2006-6-07_11-26-53/loadedSessPickle.pkl',\n",
    "    #'/media/halechr/FedoraSSD/FastData/KDIBA/vvp01/one/2006-4-18_13-6-1/output/global_computation_results.pkl', '/media/halechr/FedoraSSD/FastData/KDIBA/vvp01/one/2006-4-18_13-6-1/loadedSessPickle.pkl',\n",
    "\t\t\t\t\t\t\t\t\t\t\t\t\t\t\t]]\n",
    "make_specific_items_local(a_symlink_path, desired_local_folder_paths=desired_local_folder_paths, dryrun=False)\n",
    "\n"
   ]
  },
  {
   "cell_type": "code",
   "execution_count": null,
   "metadata": {},
   "outputs": [],
   "source": [
    "'pyenv which python'\n",
    "C:\\Users\\pho\\.pyenv\\pyenv-win\\versions\\3.9.13\\python.exe\n"
   ]
  },
  {
   "cell_type": "code",
   "execution_count": null,
   "metadata": {},
   "outputs": [],
   "source": [
    "# Windows:\n",
    "'echo %PYENV_ROOT%\\versions\\'\n",
    "\n",
    "# Linux:\n",
    "echo \"$PYENV_ROOT/versions/\" "
   ]
  }
 ],
 "metadata": {
  "kernelspec": {
   "display_name": ".venv",
   "language": "python",
   "name": "python3"
  },
  "language_info": {
   "codemirror_mode": {
    "name": "ipython",
    "version": 3
   },
   "file_extension": ".py",
   "mimetype": "text/x-python",
   "name": "python",
   "nbconvert_exporter": "python",
   "pygments_lexer": "ipython3",
   "version": "3.9.13"
  }
 },
 "nbformat": 4,
 "nbformat_minor": 2
}
