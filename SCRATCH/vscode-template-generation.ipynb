{
 "cells": [
  {
   "cell_type": "code",
   "execution_count": 1,
   "metadata": {},
   "outputs": [
    {
     "name": "stdout",
     "output_type": "stream",
     "text": [
      "\"📍\": {\"scope\": \"python\", \"prefix\": \"emo\", \"body\": [\"📍$1\"]},\n",
      "\"📍\": {\"scope\": \"python\", \"prefix\": \"emo\", \"body\": [\"📍$1\"]},\n",
      "\"📍\": {\"scope\": \"python\", \"prefix\": \"emo\", \"body\": [\"📍$1\"]},\n",
      "\"🎯\": {\"scope\": \"python\", \"prefix\": \"emo\", \"body\": [\"🎯$1\"]},\n",
      "\"🎯\": {\"scope\": \"python\", \"prefix\": \"emo\", \"body\": [\"🎯$1\"]},\n",
      "\"🎯\": {\"scope\": \"python\", \"prefix\": \"emo\", \"body\": [\"🎯$1\"]},\n",
      "\"📌\": {\"scope\": \"python\", \"prefix\": \"emo\", \"body\": [\"📌$1\"]},\n",
      "\"📌\": {\"scope\": \"python\", \"prefix\": \"emo\", \"body\": [\"📌$1\"]},\n",
      "\"📌\": {\"scope\": \"python\", \"prefix\": \"emo\", \"body\": [\"📌$1\"]},\n"
     ]
    },
    {
     "data": {
      "text/plain": [
       "'{\"📍\": {\"scope\": \"python\", \"prefix\": \"emo\", \"body\": [\"📍$1\"]}, \"🎯\": {\"scope\": \"python\", \"prefix\": \"emo\", \"body\": [\"🎯$1\"]}, \"📌\": {\"scope\": \"python\", \"prefix\": \"emo\", \"body\": [\"📌$1\"]}}'"
      ]
     },
     "execution_count": 1,
     "metadata": {},
     "output_type": "execute_result"
    }
   ],
   "source": [
    "def generate_snippets(emoji_list, prefix, scope):\n",
    "    \"\"\" supposed to generate emoji snippets like:\n",
    "        ```markdown\n",
    "            \"bullseye 🎯\": {\n",
    "                \"scope\": \"python\",\n",
    "                \"prefix\": \"emo\",\n",
    "                \"body\": [\"🎯$1\"]\n",
    "            },\n",
    "        ```\n",
    "    \"\"\"\n",
    "    code_snippets = {}\n",
    "    for emoji in emoji_list:\n",
    "        snippet_name = emoji.strip()\n",
    "        snippet_entry = {\n",
    "            \"scope\": scope,\n",
    "            \"prefix\": prefix,\n",
    "            \"body\": [f\"{emoji}$1\"]\n",
    "        }\n",
    "        code_snippets[snippet_name] = snippet_entry\n",
    "    return code_snippets\n",
    "\n",
    "# Example usage:\n",
    "emoji_list = \"📍🎯📌\"\n",
    "prefix = \"emo\"\n",
    "scope = \"python\"\n",
    "snippets = generate_snippets(emoji_list, prefix, scope)\n",
    "\n",
    "\n",
    "formatted_snippets = str(snippets).replace(\"'\", '\"')\n",
    "\n",
    "# Output the generated snippets\n",
    "string_arr = []\n",
    "for name, entry in snippets.items():\n",
    "    for k, v in entry.items():\n",
    "        string_item: str = f'\"{name}\": {entry},'.replace(\"'\", '\"')\n",
    "        print(string_item)\n",
    "        string_arr.append(string_item)\n",
    "\n",
    "    # string_item: str = f'\"{name}\": {entry},'.replace(\"'\", '\"')\n",
    "    # print(string_item)\n",
    "    # string_arr.append(string_item)\n",
    "\n",
    "'\\n'.join(string_arr)\n",
    "# You can copy and paste the output into your VSCode .code-snippets file.\n",
    "formatted_snippets"
   ]
  },
  {
   "cell_type": "code",
   "execution_count": null,
   "metadata": {},
   "outputs": [],
   "source": [
    "print(formatted_snippets)"
   ]
  },
  {
   "cell_type": "code",
   "execution_count": null,
   "metadata": {},
   "outputs": [],
   "source": [
    "a_snippet_dict = snippets['📍']\n",
    "a_snippet_dict."
   ]
  },
  {
   "cell_type": "code",
   "execution_count": null,
   "metadata": {},
   "outputs": [],
   "source": [
    "import re\n",
    "\n",
    "def extract_assigned_variables(code_snippet):\n",
    "    # Use regular expressions to find all variable assignments\n",
    "    pattern = r'\\b(\\w+)\\s*=\\s*'\n",
    "    matches = re.findall(pattern, code_snippet)\n",
    "\n",
    "    return matches\n",
    "\n",
    "# Example usage:\n",
    "python_snippet_example = \"\"\"\n",
    "replay_fig_odd, replay_ax_odd = RankOrderAnalyses._plot_ripple_events_shuffle_analysis(odd_ripple_evts_long_short_z_score_diff_values, global_replays, suffix_str='_odd')\n",
    "replay_fig_even, replay_ax_even = RankOrderAnalyses._plot_ripple_events_shuffle_analysis(even_ripple_evts_long_short_z_score_diff_values, global_replays, suffix_str='_even')\n",
    "_display_replay_z_score_diff_outputs = RankOrderAnalyses._perform_plot_z_score_diff(global_replays.labels.astype(float), even_ripple_evts_long_short_z_score_diff_values[1:], odd_ripple_evts_long_short_z_score_diff_values[1:], variable_name='Ripple')\n",
    "_display_replay_z_score_raw_outputs = RankOrderAnalyses._perform_plot_z_score_raw(global_replays.labels.astype(float), odd_ripple_evts_long_z_score_values[1:], even_ripple_evts_long_z_score_values[1:], odd_ripple_evts_short_z_score_values[1:], even_ripple_evts_short_z_score_values[1:], variable_name='Ripple')\n",
    "\"\"\"\n",
    "\n",
    "result = extract_assigned_variables(python_snippet_example)\n",
    "print(result) # ['replay_ax_odd', 'suffix_str', 'replay_ax_even', 'suffix_str', '_display_replay_z_score_diff_outputs', 'variable_name', '_display_replay_z_score_raw_outputs', 'variable_name']\n"
   ]
  },
  {
   "cell_type": "code",
   "execution_count": 4,
   "metadata": {},
   "outputs": [
    {
     "name": "stdout",
     "output_type": "stream",
     "text": [
      "Copied \"\"\",\n",
      "\"rank_order_results = curr_active_pipeline.global_computation_results.computed_data.get('RankOrder', None)\",\n",
      "\"if rank_order_results is not None:\",\n",
      "\"    minimum_inclusion_fr_Hz: float = rank_order_results.minimum_inclusion_fr_Hz\",\n",
      "\"    included_qclu_values: List[int] = rank_order_results.included_qclu_values\",\n",
      "\"else:        \",\n",
      "\"    ## get from parameters:\",\n",
      "\"    minimum_inclusion_fr_Hz: float = curr_active_pipeline.global_computation_results.computation_config.rank_order_shuffle_analysis.minimum_inclusion_fr_Hz\",\n",
      "\"    included_qclu_values: List[int] = curr_active_pipeline.global_computation_results.computation_config.rank_order_shuffle_analysis.included_qclu_values\",\n",
      "\"\"\" to clipboard!\n",
      "\"\",\n",
      "\"rank_order_results = curr_active_pipeline.global_computation_results.computed_data.get('RankOrder', None)\",\n",
      "\"if rank_order_results is not None:\",\n",
      "\"    minimum_inclusion_fr_Hz: float = rank_order_results.minimum_inclusion_fr_Hz\",\n",
      "\"    included_qclu_values: List[int] = rank_order_results.included_qclu_values\",\n",
      "\"else:        \",\n",
      "\"    ## get from parameters:\",\n",
      "\"    minimum_inclusion_fr_Hz: float = curr_active_pipeline.global_computation_results.computation_config.rank_order_shuffle_analysis.minimum_inclusion_fr_Hz\",\n",
      "\"    included_qclu_values: List[int] = curr_active_pipeline.global_computation_results.computation_config.rank_order_shuffle_analysis.included_qclu_values\",\n",
      "\"\",\n"
     ]
    },
    {
     "data": {
      "text/plain": [
       "'\"\",\\n\"rank_order_results = curr_active_pipeline.global_computation_results.computed_data.get(\\'RankOrder\\', None)\",\\n\"if rank_order_results is not None:\",\\n\"    minimum_inclusion_fr_Hz: float = rank_order_results.minimum_inclusion_fr_Hz\",\\n\"    included_qclu_values: List[int] = rank_order_results.included_qclu_values\",\\n\"else:        \",\\n\"    ## get from parameters:\",\\n\"    minimum_inclusion_fr_Hz: float = curr_active_pipeline.global_computation_results.computation_config.rank_order_shuffle_analysis.minimum_inclusion_fr_Hz\",\\n\"    included_qclu_values: List[int] = curr_active_pipeline.global_computation_results.computation_config.rank_order_shuffle_analysis.included_qclu_values\",\\n\"\"'"
      ]
     },
     "execution_count": 4,
     "metadata": {},
     "output_type": "execute_result"
    }
   ],
   "source": [
    "from pyphocorehelpers.programming_helpers import VSCodeSnippets\n",
    "\n",
    "\n",
    "python_snippet_example = \"\"\"\n",
    "rank_order_results = curr_active_pipeline.global_computation_results.computed_data.get('RankOrder', None)\n",
    "if rank_order_results is not None:\n",
    "    minimum_inclusion_fr_Hz: float = rank_order_results.minimum_inclusion_fr_Hz\n",
    "    included_qclu_values: List[int] = rank_order_results.included_qclu_values\n",
    "else:        \n",
    "    ## get from parameters:\n",
    "    minimum_inclusion_fr_Hz: float = curr_active_pipeline.global_computation_results.computation_config.rank_order_shuffle_analysis.minimum_inclusion_fr_Hz\n",
    "    included_qclu_values: List[int] = curr_active_pipeline.global_computation_results.computation_config.rank_order_shuffle_analysis.included_qclu_values\n",
    "\n",
    "\"\"\"\n",
    "\n",
    "# \"## Document `${1:ClassName}`\",\n",
    "# \"doc_printer = DocumentationFilePrinter(doc_output_parent_folder=doc_output_parent_folder, doc_name='${1:ClassName}')\",\n",
    "# \"doc_printer.save_documentation('${1:ClassName}', ${2:a_ClassName_instance}, non_expanded_item_keys=['_reverse_cellID_index_map'])\"\n",
    "\n",
    "VSCodeSnippets.build_multiline_snippet(python_snippet_example=python_snippet_example)\n",
    "\n",
    "# print(snippet_lines)\n",
    "\n",
    "# snippet_flat_string"
   ]
  },
  {
   "cell_type": "markdown",
   "metadata": {},
   "source": [
    "## 2024-10-09 - Use `Resources\\Templates\\vscode_snippet_template.json.j2` to build the entire snippet template instead of just the code body\n",
    "- [ ] #TODO 2024-10-09 11:53: - [ ] Implement"
   ]
  },
  {
   "cell_type": "markdown",
   "metadata": {},
   "source": [
    "currently `VSCodeSnippets.build_multiline_snippet(python_snippet_example=python_snippet_example)` just builds the multi-line body\n",
    "```json\n",
    "\t\"Rank-Order Results or Parameters\": {\n",
    "\t\"scope\": \"python\",\n",
    "\t\"prefix\": \"@RANKORDERPARAMS\",\n",
    "\t\"body\": [\n",
    "\t\t\"rank_order_results = curr_active_pipeline.global_computation_results.computed_data.get('RankOrder', None)\",\n",
    "\t\t\"if rank_order_results is not None:\",\n",
    "\t\t\"    minimum_inclusion_fr_Hz: float = rank_order_results.minimum_inclusion_fr_Hz\",\n",
    "\t\t\"    included_qclu_values: List[int] = rank_order_results.included_qclu_values\",\n",
    "\t\t\"else:        \",\n",
    "\t\t\"    ## get from parameters:\",\n",
    "\t\t\"    minimum_inclusion_fr_Hz: float = curr_active_pipeline.global_computation_results.computation_config.rank_order_shuffle_analysis.minimum_inclusion_fr_Hz\",\n",
    "\t\t\"    included_qclu_values: List[int] = curr_active_pipeline.global_computation_results.computation_config.rank_order_shuffle_analysis.included_qclu_values\",\n",
    "\t\t\"$1\",\n",
    "\t],\n",
    "\t\"description\": \"imports the rank-order results ore the `global_computation_results.computation_config.rank_order_shuffle_analysis` params\"\n",
    "\t},\n",
    "```"
   ]
  },
  {
   "cell_type": "markdown",
   "metadata": {},
   "source": [
    "# Resume Previous"
   ]
  },
  {
   "cell_type": "code",
   "execution_count": 4,
   "metadata": {},
   "outputs": [
    {
     "name": "stdout",
     "output_type": "stream",
     "text": [
      "Copied \"\" \",\n",
      "\"from __future__ import annotations # prevents having to specify types for typehinting as strings\",\n",
      "\"from typing import TYPE_CHECKING\",\n",
      "\"\",\n",
      "\"if TYPE_CHECKING:\",\n",
      "\"    ## typehinting only imports here\",\n",
      "\"    \"\" to clipboard!\n",
      "\" \",\n",
      "\"from __future__ import annotations # prevents having to specify types for typehinting as strings\",\n",
      "\"from typing import TYPE_CHECKING\",\n",
      "\"\",\n",
      "\"if TYPE_CHECKING:\",\n",
      "\"    ## typehinting only imports here\",\n",
      "\"    \",\n"
     ]
    },
    {
     "data": {
      "text/plain": [
       "'\" \",\\n\"from __future__ import annotations # prevents having to specify types for typehinting as strings\",\\n\"from typing import TYPE_CHECKING\",\\n\"\",\\n\"if TYPE_CHECKING:\",\\n\"    ## typehinting only imports here\",\\n\"    \"'"
      ]
     },
     "execution_count": 4,
     "metadata": {},
     "output_type": "execute_result"
    }
   ],
   "source": [
    "python_snippet_example = \"\"\" \n",
    "from __future__ import annotations # prevents having to specify types for typehinting as strings\n",
    "from typing import TYPE_CHECKING\n",
    "\n",
    "if TYPE_CHECKING:\n",
    "    ## typehinting only imports here\n",
    "    \n",
    "\"\"\"\n",
    "VSCodeSnippets.build_multiline_snippet(python_snippet_example=python_snippet_example)\n",
    "\n"
   ]
  },
  {
   "cell_type": "code",
   "execution_count": null,
   "metadata": {},
   "outputs": [],
   "source": [
    "from pathlib import Path\n",
    "doc_output_parent_folder = Path('../EXTERNAL/DEVELOPER_NOTES/DataStructureDocumentation').resolve() # ../.\n",
    "print(f\"doc_output_parent_folder: {doc_output_parent_folder}\")\n",
    "doc_output_parent_folder.exists()"
   ]
  },
  {
   "cell_type": "code",
   "execution_count": null,
   "metadata": {},
   "outputs": [],
   "source": [
    "from ansi2html import Ansi2HTMLConverter # used by DocumentationFilePrinter to build html document from ansi-color coded version\n",
    "from pyphocorehelpers.print_helpers import DocumentationFilePrinter\n",
    "\n",
    "doc_output_parent_folder = Path('../../EXTERNAL/DEVELOPER_NOTES/DataStructureDocumentation').resolve()\n",
    "\n",
    "\n",
    "## Document `ClassName`\n",
    "doc_printer = DocumentationFilePrinter(doc_output_parent_folder=doc_output_parent_folder, doc_name='ClassName')\n",
    "doc_printer.save_documentation('ClassName', a_ClassName_instance, non_expanded_item_keys=['_reverse_cellID_index_map'])\n",
    "\n"
   ]
  },
  {
   "cell_type": "markdown",
   "metadata": {},
   "source": [
    "# Pydoc"
   ]
  },
  {
   "cell_type": "code",
   "execution_count": null,
   "metadata": {},
   "outputs": [],
   "source": [
    "import pydoc\n",
    "\n",
    "# Replace 'your_library_name' with the actual library name\n",
    "library_name = 'neuropy'\n",
    "import neuropy\n",
    "\n",
    "functions = [name for name, obj in pydoc.allmethods(neuropy) if callable(obj)]\n",
    "\n",
    "for function in functions:\n",
    "    print(function)\n"
   ]
  },
  {
   "cell_type": "code",
   "execution_count": null,
   "metadata": {},
   "outputs": [],
   "source": [
    "import inspect\n",
    "\n",
    "# Replace 'your_library_name' with the actual library name\n",
    "library_name = 'neuropy'\n",
    "functions = [name for name, obj in inspect.getmembers(library_name) if inspect.isfunction(obj)]\n",
    "\n",
    "for function in functions:\n",
    "    print(function)\n"
   ]
  },
  {
   "cell_type": "code",
   "execution_count": null,
   "metadata": {},
   "outputs": [],
   "source": [
    "\"\"\"\n",
    "odd_outputs = compute_shuffled_rankorder_analyses(global_spikes_df, deepcopy(global_laps), odd_shuffle_helper, rank_alignment=rank_alignment, debug_print=False)\n",
    "even_outputs = compute_shuffled_rankorder_analyses(global_spikes_df, deepcopy(global_laps), even_shuffle_helper, rank_alignment=rank_alignment, debug_print=False)\n",
    "\n",
    "# Unwrap\n",
    "odd_laps_epoch_ranked_aclus_stats_dict, odd_laps_epoch_selected_spikes_fragile_linear_neuron_IDX_dict, (odd_laps_long_z_score_values, odd_laps_short_z_score_values, odd_laps_long_short_z_score_diff_values) = odd_outputs\n",
    "even_laps_epoch_ranked_aclus_stats_dict, even_laps_epoch_selected_spikes_fragile_linear_neuron_IDX_dict, (even_laps_long_z_score_values, even_laps_short_z_score_values, even_laps_long_short_z_score_diff_values) = even_outputs\n",
    "\n",
    "\"\"\""
   ]
  },
  {
   "cell_type": "code",
   "execution_count": null,
   "metadata": {},
   "outputs": [],
   "source": [
    "# input_code = \"\"\"\n",
    "# with VizTracer(output_file=f\"viztracer_$CURRENT_YEAR-$CURRENT_MONTH-$CURRENT_DATE $CURRENT_HOUR:$CURRENT_MINUTE-${1:purpose}.json\", min_duration=200, tracer_entries=3000000, ignore_frozen=True) as tracer:\n",
    "# \t${2:The code to run.}\n",
    "# \"\"\"\n",
    "\n",
    "# replace '\"' in each output line by its escaped version '\\\"' \n",
    "# 'with VizTracer(output_file=f\"vizt.json\") as tracer:'.replace('\"', '\\\"')\n",
    "\n",
    "print('with VizTracer(output_file=f\"viztracer_$CURRENT_YEAR-$CURRENT_MONTH-$CURRENT_DATE $CURRENT_HOUR:$CURRENT_MINUTE-${1:purpose}.json\", min_duration=200, tracer_entries=3000000, ignore_frozen=True) as tracer:'.replace('\"', '\\\\\"')) # with VizTracer(output_file=f\\\"vizt.json\\\") as tracer:\n",
    "\n",
    "\n",
    "# 'with VizTracer(output_file=f\"viztracer_$CURRENT_YEAR-$CURRENT_MONTH-$CURRENT_DATE $CURRENT_HOUR:$CURRENT_MINUTE-${1:purpose}.json\", min_duration=200, tracer_entries=3000000, ignore_frozen=True) as tracer:'.replace('\"', '\\\"')\n",
    "\n"
   ]
  },
  {
   "cell_type": "markdown",
   "metadata": {},
   "source": [
    "# Multiple Independent VSCode Instances using `--user-data-dir`"
   ]
  },
  {
   "cell_type": "code",
   "execution_count": null,
   "metadata": {},
   "outputs": [],
   "source": [
    "`Developer: Open User Data Folder`\n",
    "\n",
    "`C:\\Users\\pho\\AppData\\Roaming\\Code`\n",
    "\n"
   ]
  },
  {
   "cell_type": "code",
   "execution_count": null,
   "metadata": {},
   "outputs": [],
   "source": [
    "code --user-data-dir=\"K:\\FastSwap\\AppData\\CodeBlue\"\n"
   ]
  }
 ],
 "metadata": {
  "kernelspec": {
   "display_name": ".venv",
   "language": "python",
   "name": "python3"
  },
  "language_info": {
   "codemirror_mode": {
    "name": "ipython",
    "version": 3
   },
   "file_extension": ".py",
   "mimetype": "text/x-python",
   "name": "python",
   "nbconvert_exporter": "python",
   "pygments_lexer": "ipython3",
   "version": "3.9.13"
  }
 },
 "nbformat": 4,
 "nbformat_minor": 2
}
