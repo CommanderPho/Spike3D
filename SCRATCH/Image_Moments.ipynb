{
 "cells": [
  {
   "cell_type": "markdown",
   "metadata": {},
   "source": [
    "## Moments\n",
    "\n",
    "Python implementation of Image Moments, validated with opencv.\n",
    "\n",
    "    * Raw moments\n",
    "    * Central Moments: translation invariance\n",
    "    * Scale Invariants\n",
    "    * Hu Moments: rotation invariant\n",
    "    \n",
    "#### Applications:\n",
    "    * blob detection, centroids,\n",
    "    * Image intensity rotation angles\n",
    "    * countour matching\n",
    "\n",
    "https://en.wikipedia.org/wiki/Image_moment\n",
    "\n",
    "https://github.com/opencv/opencv/blob/master/modules/imgproc/src/moments.cpp\n",
    "\n",
    "#### match contours:\n",
    "https://github.com/opencv/opencv/blob/master/imgproc/src/matchcontours.cpp\n",
    "#### features:\n",
    "https://github.com/opencv/opencv/blob/master/modules/features2d/src/blobdetector.cpp\n",
    "\n",
    "https://github.com/opencv/opencv/blob/master/modules/features2d/src/evaluation.cpp\n",
    "#### camera tracking\n",
    "https://github.com/opencv/opencv/blob/master/modules/video/src/camshift.cpp\n",
    "#### demo\n",
    "https://github.com/opencv/opencv/blob/master/samples/cpp/tutorial_code/ShapeDescriptors/moments_demo.cpp\n",
    "#### contour centroids\n",
    "https://docs.opencv.org/3.4.12/d0/d49/tutorial_moments.html\n",
    "\n",
    "#### match rotation and translation in brain images. \n",
    "https://content.iospress.com/articles/bio-medical-materials-and-engineering/bme1426\n",
    "\n"
   ]
  },
  {
   "cell_type": "code",
   "execution_count": 1,
   "metadata": {},
   "outputs": [
    {
     "name": "stdout",
     "output_type": "stream",
     "text": [
      "Automatic pdb calling has been turned OFF\n"
     ]
    }
   ],
   "source": [
    "%config IPCompleter.use_jedi = False\n",
    "# %xmode Verbose\n",
    "# %xmode context\n",
    "%pdb off\n",
    "# %load_ext viztracer\n",
    "# from viztracer import VizTracer\n",
    "%load_ext autoreload\n",
    "%autoreload 3\n",
    "from copy import deepcopy\n",
    "import cv2\n",
    "from PIL import Image\n",
    "import numpy as np\n",
    "import matplotlib.pyplot as plt\n",
    "from pathlib import Path\n",
    "from pyphoplacecellanalysis.Analysis.Decoder.computer_vision import ComputerVisionComputations"
   ]
  },
  {
   "cell_type": "code",
   "execution_count": null,
   "metadata": {},
   "outputs": [],
   "source": [
    "images_parent_path = Path(r'E:\\Dropbox (Personal)\\Active\\Kamran Diba Lab\\Pho-Kamran-Meetings\\2024-08-20 - Finalizing Transition Matrix\\_temp_individual_posteriors\\2024-08-28\\laps\\long_LR\\greyscale').resolve()\n",
    "assert images_parent_path.exists()\n",
    "\n",
    "active_image_path = Path(r\"E:\\Dropbox (Personal)\\Active\\Kamran Diba Lab\\Pho-Kamran-Meetings\\2024-08-20 - Finalizing Transition Matrix\\_temp_individual_posteriors\\2024-08-28\\laps\\long_LR\\greyscale\\p_x_given_n[6].png\")\n",
    "pimg = Image.open(active_image_path)\n",
    "img = np.array(pimg)\n",
    "r = deepcopy(img)\n"
   ]
  },
  {
   "cell_type": "code",
   "execution_count": 2,
   "metadata": {},
   "outputs": [
    {
     "name": "stdout",
     "output_type": "stream",
     "text": [
      "type(img): <class 'numpy.ndarray'>\n",
      "np.shape(img): (57, 23)\n",
      "img.dtype: uint8\n"
     ]
    },
    {
     "data": {
      "image/png": "[encoded data removed]",
      "text/plain": [
       "<Figure size 640x480 with 1 Axes>"
      ]
     },
     "metadata": {},
     "output_type": "display_data"
    }
   ],
   "source": [
    "lap_path = r\"E:\\Dropbox (Personal)\\Active\\Kamran Diba Lab\\Pho-Kamran-Meetings\\2024-08-20 - Finalizing Transition Matrix\\_temp_individual_posteriors\\2024-08-28\\laps\\long_LR\\greyscale\\p_x_given_n[6].png\"\n",
    "\n",
    "replay_paths = [\n",
    "\tr\"E:\\Dropbox (Personal)\\Active\\Kamran Diba Lab\\Pho-Kamran-Meetings\\2024-08-20 - Finalizing Transition Matrix\\_temp_individual_posteriors\\2024-08-28\\ripple\\long_LR\\greyscale\\p_x_given_n[70].png\",\n",
    "\tr\"E:\\Dropbox (Personal)\\Active\\Kamran Diba Lab\\Pho-Kamran-Meetings\\2024-08-20 - Finalizing Transition Matrix\\_temp_individual_posteriors\\2024-08-28\\ripple\\long_LR\\greyscale\\p_x_given_n[72].png\",\n",
    "\tr\"E:\\Dropbox (Personal)\\Active\\Kamran Diba Lab\\Pho-Kamran-Meetings\\2024-08-20 - Finalizing Transition Matrix\\_temp_individual_posteriors\\2024-08-28\\ripple\\long_LR\\greyscale\\p_x_given_n[136].png\",\n",
    "]\n",
    "\n",
    "lap_img = ComputerVisionComputations.load_image(lap_path)\n",
    "replay_imgs = [ComputerVisionComputations.load_image(p) for p in replay_paths]\n",
    "\n",
    "ComputerVisionComputations.imshow(lap_img)\n",
    "ComputerVisionComputations.debug_print_img_info(lap_img)\n",
    "\n"
   ]
  },
  {
   "cell_type": "code",
   "execution_count": null,
   "metadata": {},
   "outputs": [],
   "source": [
    "lap_bw_top_values_mask, lap_masked_img = ComputerVisionComputations.top_N_values_binarization(lap_img, top_n=3, non_included_index_value=0)\n",
    "ComputerVisionComputations.imshow(lap_bw_top_values_mask)\n",
    "# ComputerVisionComputations.imshow(lap_masked_img)\n"
   ]
  },
  {
   "cell_type": "code",
   "execution_count": null,
   "metadata": {},
   "outputs": [],
   "source": [
    "\n",
    "replay_bw_top_values_masks = []\n",
    "for img in replay_imgs:\n",
    "\tbw_top_values_mask, masked_img = ComputerVisionComputations.top_N_values_binarization(img, top_n=3, non_included_index_value=0)\n",
    "\treplay_bw_top_values_masks.append(bw_top_values_mask)\n",
    "\tComputerVisionComputations.imshow(bw_top_values_mask)\n",
    "\t\n",
    "\n",
    "# plt.figure(); plt.imshow(bw_top_values_mask)\n",
    "# plt.figure(); plt.imshow(masked_img)\n",
    "\n",
    "\n",
    "\n",
    "\n"
   ]
  },
  {
   "cell_type": "code",
   "execution_count": null,
   "metadata": {},
   "outputs": [],
   "source": [
    "\n",
    "ComputerVisionComputations.imshow(replay_imgs[0])\n",
    "ComputerVisionComputations.imshow(replay_imgs[1])\n",
    "ComputerVisionComputations.imshow(replay_imgs[2])\n",
    "\n"
   ]
  },
  {
   "cell_type": "code",
   "execution_count": null,
   "metadata": {},
   "outputs": [],
   "source": [
    "np.shape(replay_imgs[0])"
   ]
  },
  {
   "cell_type": "code",
   "execution_count": null,
   "metadata": {},
   "outputs": [],
   "source": [
    "# import io\n",
    "# import requests\n",
    "# url = \"https://i.guim.co.uk/img/media/abea6c172005fdb1bdb58ec414cac103cc17fbcf/0_0_3200_2133/master/3200.jpg?width=1920&quality=85&auto=format&fit=max&s=85ad7aacebff455b845b05c43dbbd8c6\"\n",
    "# req = requests.get(url)\n",
    "# print (req)\n",
    "# pimg = Image.open(io.BytesIO(req.content))\n",
    "# img = np.array(pimg)\n",
    "# r = img[:,:,0] # just the red component of the image"
   ]
  },
  {
   "cell_type": "code",
   "execution_count": null,
   "metadata": {},
   "outputs": [],
   "source": [
    "moments, hu_moments, *extras = ComputerVisionComputations.image_moments(lap_img)\n",
    "moments"
   ]
  },
  {
   "cell_type": "code",
   "execution_count": null,
   "metadata": {},
   "outputs": [],
   "source": [
    "print(img.shape) # (1280, 1920, 3)\n",
    "print(r.shape) # (1280, 1920)\n",
    "plt.imshow(img)\n",
    "plt.show()"
   ]
  },
  {
   "cell_type": "markdown",
   "metadata": {},
   "source": [
    "## OpenCV moments on Intensity, per channel"
   ]
  },
  {
   "cell_type": "code",
   "execution_count": null,
   "metadata": {},
   "outputs": [],
   "source": [
    "moments = cv2.moments(r)\n",
    "# m_ij: raw moments\n",
    "# mu_ij: central moments, translation invariant\n",
    "# nu_ij: scale invariants\n",
    "hu_moments = cv2.HuMoments(moments)\n",
    "# hu moments, rotation invariant"
   ]
  },
  {
   "cell_type": "code",
   "execution_count": null,
   "metadata": {},
   "outputs": [],
   "source": [
    "moments"
   ]
  },
  {
   "cell_type": "markdown",
   "metadata": {},
   "source": [
    "## Raw Moments\n",
    "\n",
    "\n",
    "$ M_{ij} = \\sum_x \\sum_y x^iy^j I(x,y) $ with pixel intensities   $ I(x,y)$\n",
    "\n",
    "$ M_{00} = \\sum_x \\sum_y I(x,y) \\text{ : Itensities}$\n",
    "\n",
    "$ M_{11} = \\sum_x \\sum_y xy I(x,y) \\text{ : Itensities . Positions}$\n",
    "\n",
    "$ M_{20} = \\sum_x \\sum_y x^2 I(x,y) \\text{ }$\n",
    "\n",
    "    ... "
   ]
  },
  {
   "cell_type": "code",
   "execution_count": null,
   "metadata": {},
   "outputs": [],
   "source": [
    "## Moments returned in xy\n",
    "def moment_raw(r, i, j):\n",
    "    _x = np.arange(r.shape[0])**j\n",
    "    _y = np.arange(r.shape[1])**i\n",
    "    _XX, _YY = np.meshgrid(_y, _x)\n",
    "    return (_XX*_YY*r).sum()\n",
    "\n",
    "def centroid(M00,M10,M01):\n",
    "    return M10/(M00 + 1e-5), M01/(M00 + 1e-5)"
   ]
  },
  {
   "cell_type": "code",
   "execution_count": null,
   "metadata": {},
   "outputs": [],
   "source": [
    "print(\"Area\", np.prod(np.asarray(r.shape)))"
   ]
  },
  {
   "cell_type": "code",
   "execution_count": null,
   "metadata": {},
   "outputs": [],
   "source": [
    "M00 = moment_raw(r, 0,0)\n",
    "M10 = moment_raw(r, 1,0)\n",
    "M01 = moment_raw(r, 0,1)\n",
    "M11 = moment_raw(r, 1,1)\n",
    "M20 = moment_raw(r, 2,0)\n",
    "M02 = moment_raw(r, 0,2)\n",
    "M21 = moment_raw(r, 2,1)\n",
    "M12 = moment_raw(r, 1,2)\n",
    "M30 = moment_raw(r, 3,0)\n",
    "M03 = moment_raw(r, 0,3)\n",
    "x_, y_ = centroid(M00, M10, M01)\n",
    "\n",
    "M00, M11, M10"
   ]
  },
  {
   "cell_type": "markdown",
   "metadata": {},
   "source": [
    "### central moments\n",
    "    translationally invariant\n",
    "\n",
    "$ \\mu_{pq} = \\sum_x \\sum_y (x - \\bar{x})^p (y - \\bar{y})^q f(x,y) $"
   ]
  },
  {
   "cell_type": "code",
   "execution_count": null,
   "metadata": {},
   "outputs": [],
   "source": [
    "mu00 = M00 \n",
    "mu01 = 0\n",
    "mu10 = 0\n",
    "mu11 = M11 - x_* M01 # = M11 - y_* M10\n",
    "mu20 = M20 - x_ * M10\n",
    "mu02 = M02 - y_ * M01\n",
    "mu21 = M21 - 2*x_ * M11 - y_ * M20 + 2 * x_**2 * M01\n",
    "mu12 = M12 - 2*y_ * M11 - x_ * M02 + 2 * y_**2 * M10\n",
    "\n",
    "mu30 = M30 - 3*x_ * M20 + 2 * x_**2 * M10\n",
    "mu03 = M03 - 3*y_ * M02 + 2 * y_**2 * M01\n",
    "\n",
    "mu11, mu20, mu02, mu21, mu12, mu30, mu03"
   ]
  },
  {
   "cell_type": "code",
   "execution_count": null,
   "metadata": {},
   "outputs": [],
   "source": [
    "imflip = np.array(pimg.transpose(Image.FLIP_LEFT_RIGHT))\n",
    "plt.imshow(imflip)\n",
    "plt.show()\n",
    "if np.ndim(imflip) > 2:\n",
    "\timflip = imflip[:,:, 0]\n",
    "flipmoments = cv2.moments(imflip)\n",
    "print(\"mu20 = flipmu20 (%.1f = %.1f)\"%(flipmoments[\"mu20\"], moments[\"mu20\"]))\n",
    "print(\"mu21 = flipmu21 (%.1f = %.1f)\"%(flipmoments[\"mu21\"], moments[\"mu21\"]))\n",
    "print(\"...\\n central moments are translationally invariant\")\n"
   ]
  },
  {
   "cell_type": "markdown",
   "metadata": {},
   "source": [
    "### Image Orientation Covariance Matrix from second order central moments\n",
    "    from wikipedia\n",
    "\n",
    "$ \\mu'_{20} = \\frac{\\mu_{20}}{\\mu_{00}} = \\frac{M_{20}}{M_{00}} - \\bar{x}^2$\n",
    "\n",
    "$ \\mu'_{02} = \\frac{\\mu_{02}}{\\mu_{00}} = \\frac{M_{02}}{M_{00}} - \\bar{y}^2$\n",
    "\n",
    "$ \\mu'_{11} = \\frac{\\mu_{11}}{\\mu_{00}} = \\frac{M_{11}}{M_{00}} - \\bar{x}\\bar{y}$\n",
    "\n",
    "$ \\text{cov}[I(x,y)] = \\begin{bmatrix} \\mu'_{20} & \\mu'_{11} \\\\\\mu'_{11} & \\mu'_{02}   \\end{bmatrix}$ \n",
    "\n",
    "    eigenvectors major and minor axis of intensity\n",
    "    angle to nearest eigenvector\n",
    "    \n",
    "$\\Theta = \\frac{1}{2}\\text{arctan}\\left(\\frac{2\\mu'_{11}} {\\mu'_{20} - \\mu_{02}}\\right) $\n",
    "\n",
    "    eigenvalues\n",
    "$\\lambda_i = \\frac{\\mu'_{20} + \\mu'_{02}}{2} \\pm \\frac{\\sqrt{4\\mu'_{11}*2 +(\\mu'_{20} - \\mu_{02})^2}}{2}$"
   ]
  },
  {
   "cell_type": "code",
   "execution_count": null,
   "metadata": {},
   "outputs": [],
   "source": [
    "# mu00 == m00\n",
    "mup_20 = mu20/mu00 - x_**2\n",
    "mup_02 = mu02/mu00 - y_**2\n",
    "mup_11 = mu11/mu00 - x_*y_\n",
    "\n",
    "theta = np.arctan(2*mup_11/(mup_20 - mup_02))/2\n",
    "print(\"intensity orientation %.3f deg, centroid (%.2f, %.2f)\"%((theta*180/np.pi), x_, y_))\n",
    "\n",
    "cov_Ixy = np.array([[mup_20, mup_11],[mup_11, mup_02]])\n",
    "cov_Ixy"
   ]
  },
  {
   "cell_type": "code",
   "execution_count": null,
   "metadata": {},
   "outputs": [],
   "source": [
    "ComputerVisionComputations.intensity_orientation(img, moments)"
   ]
  },
  {
   "cell_type": "code",
   "execution_count": null,
   "metadata": {},
   "outputs": [],
   "source": [
    "imrot = np.array(pimg.transpose(Image.ROTATE_90))\n",
    "if np.ndim(imrot) > 2:\n",
    "\timrot = imrot[:,:, 0]\n",
    "rm = cv2.moments(imrot)\n",
    "ComputerVisionComputations.intensity_orientation(imrot, rm)"
   ]
  },
  {
   "cell_type": "markdown",
   "metadata": {},
   "source": [
    "## scale invariants\n",
    "\n",
    "$ \\eta_{ij} = \\frac{\\mu_{ij}}{\\mu{00}^{(1 + \\frac{i+j}{2})}}$"
   ]
  },
  {
   "cell_type": "code",
   "execution_count": null,
   "metadata": {},
   "outputs": [],
   "source": [
    "# mu13, ... are set to 1 for convenience - not computed or used\n",
    "mus = np.array([[mu00, mu01, mu02, mu03],[mu10,mu11,mu12, 1],[mu20,mu21, 1, 1],[mu30,1, 1, 1]])\n",
    "for i, _mu in enumerate(mus):\n",
    "    for j, _muu in enumerate(_mu):\n",
    "        if i + j <= 3:\n",
    "            print(\"mu%d%d\\t\"%(i, j),_muu)"
   ]
  },
  {
   "cell_type": "code",
   "execution_count": null,
   "metadata": {},
   "outputs": [],
   "source": [
    "nus = lambda i, j, mus: mus[i,j]/ (mus[0,0]**(1 + (i+j)/2))\n",
    "\n",
    "for ij in [(2,0), (1,1), (0,2), (3,0), (2,1), (1,2), (0, 3)]:\n",
    "    print(\"nu%d%d\\t\"%(ij[0], ij[1]), nus(*ij, mus))"
   ]
  },
  {
   "cell_type": "code",
   "execution_count": null,
   "metadata": {},
   "outputs": [],
   "source": [
    "imgsz = np.array(pimg.resize(tuple(np.array(pimg.size)//2), resample=Image.LANCZOS))\n",
    "if np.ndim(imgsz) > 2:\n",
    "\timgsz = imgsz[:,:, 0]\n",
    "szmoments = cv2.moments(imgsz)\n",
    "for k in szmoments:\n",
    "    if \"nu\" in k:\n",
    "        print(k, szmoments[k])\n",
    "print(\"\\nresized image have the same scale invariant moments \")"
   ]
  },
  {
   "cell_type": "markdown",
   "metadata": {},
   "source": [
    "### rotation invariants Hu moments\n",
    "    based on scale invariants, neither independent nor complete? (Flusser 2000)\n",
    "\n",
    "$ I_1 = \\eta_{20} + \\eta_{02}$      **moment of inertia**\n",
    "\n",
    "$ I_2 = (\\eta_{20} - \\eta_{02})^2 + 4\\eta_{11}^2 $\n",
    "\n",
    "$ I_3 = (\\eta_{30} - 3\\eta_{12})^2 +(3\\eta_{21} - \\eta_{03})^2 $\n",
    "\n",
    "$ I_4 = (\\eta_{30} + \\eta_{12})^2 +(\\eta_{21} - \\eta_{03})^2 $\n",
    "\n",
    "$ I_5 = (\\eta_{30} - 3\\eta_{12})(\\eta_{30} +\\eta_{12}) [(\\eta_{30} + \\eta_{12})^2  - 3(\\eta_{21} - \\eta_{03})^2] + (3\\eta_{21} - \\eta_{03})(\\eta_{21} +\\eta_{02}) [3(\\eta_{30} + \\eta_{12})^2  - (\\eta_{21} - \\eta_{03})^2]$\n",
    "\n",
    "$ I_6 = (\\eta_{20} - \\eta_{02})[(\\eta_{30} + \\eta_{12})^2-(\\eta_{21} + \\eta_{03})^2] + 4\\eta_{11}(\\eta_{30} + \\eta_{12})(\\eta_{21} + \\eta_{03}) $\n",
    "\n",
    "$ I_7 = (3\\eta_{21}-\\eta_{03})(\\eta_{30} + \\eta_{12})[(\\eta_{30} + \\eta_{12})^2-3(\\eta_{21}+\\eta_{03})^2]-(\\eta_{30} - 3\\eta_{12})(\\eta_{21} +\\eta_{03})[3(\\eta_{30} + \\eta_{12})^2 - (\\eta_{21}+\\eta_{03})^2]$    **skew invariant**"
   ]
  },
  {
   "cell_type": "code",
   "execution_count": null,
   "metadata": {},
   "outputs": [],
   "source": [
    "hu_moments = cv2.HuMoments(moments)\n",
    "rot_hu_moments = cv2.HuMoments(rm)\n",
    "resz_hu_moments = cv2.HuMoments(szmoments)"
   ]
  },
  {
   "cell_type": "code",
   "execution_count": null,
   "metadata": {},
   "outputs": [],
   "source": [
    "print(hu_moments)\n",
    "print(\"hu moments (image) = hu moments (rotated image)\")\n",
    "print(rot_hu_moments)\n",
    "print(\"hu moments (image) = hu moments (scaled image)\")\n",
    "print(resz_hu_moments)"
   ]
  },
  {
   "cell_type": "markdown",
   "metadata": {},
   "source": [
    "# SIFT"
   ]
  },
  {
   "cell_type": "code",
   "execution_count": null,
   "metadata": {},
   "outputs": [],
   "source": [
    "from skimage import data, img_as_float\n",
    "# from skimage.metrics import structural_similarity as ssim\n",
    "# from skimage.metrics import mean_squared_error\n",
    "from skimage import color\n",
    "from skimage.filters import meijering, sato, frangi, hessian\n",
    "from skimage import transform\n",
    "from skimage.color import rgb2gray\n",
    "from skimage.feature import match_descriptors, plot_matches, SIFT\n",
    "from skimage import exposure\n",
    "\n",
    "## INPUTS: lap_img, replay_imgs\n",
    "\n",
    "descriptor_extractor = SIFT()\n",
    "\n",
    "img = img_as_float(deepcopy(lap_img))\n",
    "# Equalization\n",
    "img_eq = exposure.equalize_hist(img)\n",
    "# Adaptive Equalization\n",
    "img_adapteq = exposure.equalize_adapthist(img, clip_limit=0.03)\n",
    "\n",
    "ComputerVisionComputations.imshow(img_adapteq)\n",
    "\n",
    "descriptor_extractor.detect_and_extract(img_adapteq)\n",
    "\n",
    "keypoints1 = descriptor_extractor.keypoints\n",
    "descriptors1 = descriptor_extractor.descriptors\n",
    "\n",
    "descriptor_extractor.detect_and_extract(replay_imgs[0])\n",
    "keypoints2 = descriptor_extractor.keypoints\n",
    "descriptors2 = descriptor_extractor.descriptors\n",
    "\n",
    "descriptor_extractor.detect_and_extract(replay_imgs[1])\n",
    "keypoints3 = descriptor_extractor.keypoints\n",
    "descriptors3 = descriptor_extractor.descriptors\n",
    "\n",
    "matches12 = match_descriptors(\n",
    "    descriptors1, descriptors2, max_ratio=0.6, cross_check=True\n",
    ")\n",
    "matches13 = match_descriptors(\n",
    "    descriptors1, descriptors3, max_ratio=0.6, cross_check=True\n",
    ")\n",
    "fig, ax = plt.subplots(nrows=2, ncols=2, figsize=(11, 8))\n",
    "\n",
    "plt.gray()\n",
    "\n",
    "plot_matches(ax[0, 0], lap_img, replay_imgs[0], keypoints1, keypoints2, matches12)\n",
    "ax[0, 0].axis('off')\n",
    "ax[0, 0].set_title(\"Original Image vs. Flipped Image\\n\" \"(all keypoints and matches)\")\n",
    "\n",
    "plot_matches(ax[1, 0], lap_img, replay_imgs[1], keypoints1, keypoints3, matches13)\n",
    "ax[1, 0].axis('off')\n",
    "ax[1, 0].set_title(\n",
    "    \"Original Image vs. Transformed Image\\n\" \"(all keypoints and matches)\"\n",
    ")\n",
    "\n",
    "plot_matches(\n",
    "    ax[0, 1], lap_img, replay_imgs[0], keypoints1, keypoints2, matches12[::15], only_matches=True\n",
    ")\n",
    "ax[0, 1].axis('off')\n",
    "ax[0, 1].set_title(\n",
    "    \"Original Image vs. Flipped Image\\n\" \"(subset of matches for visibility)\"\n",
    ")\n",
    "\n",
    "plot_matches(\n",
    "    ax[1, 1], lap_img, replay_imgs[1], keypoints1, keypoints3, matches13[::15], only_matches=True\n",
    ")\n",
    "ax[1, 1].axis('off')\n",
    "ax[1, 1].set_title(\n",
    "    \"Original Image vs. Transformed Image\\n\" \"(subset of matches for visibility)\"\n",
    ")\n",
    "\n",
    "plt.tight_layout()\n",
    "plt.show()"
   ]
  },
  {
   "cell_type": "code",
   "execution_count": 28,
   "metadata": {},
   "outputs": [
    {
     "data": {
      "text/plain": [
       "(<Figure size 640x480 with 1 Axes>,\n",
       " <matplotlib.image.AxesImage at 0x1dc767168b0>)"
      ]
     },
     "execution_count": 28,
     "metadata": {},
     "output_type": "execute_result"
    },
    {
     "data": {
      "image/png": "[encoded data removed]",
      "text/plain": [
       "<Figure size 640x480 with 1 Axes>"
      ]
     },
     "metadata": {},
     "output_type": "display_data"
    },
    {
     "data": {
      "image/png": "[encoded data removed]",
      "text/plain": [
       "<Figure size 640x480 with 1 Axes>"
      ]
     },
     "metadata": {},
     "output_type": "display_data"
    },
    {
     "data": {
      "image/png": "[encoded data removed]",
      "text/plain": [
       "<Figure size 640x480 with 1 Axes>"
      ]
     },
     "metadata": {},
     "output_type": "display_data"
    },
    {
     "data": {
      "image/png": "[encoded data removed]",
      "text/plain": [
       "<Figure size 640x480 with 1 Axes>"
      ]
     },
     "metadata": {},
     "output_type": "display_data"
    }
   ],
   "source": [
    "from skimage.filters import gaussian\n",
    "from skimage.segmentation import active_contour\n",
    "from skimage.filters import try_all_threshold\n",
    "from skimage.filters import threshold_otsu, threshold_li\n",
    "from skimage import color, morphology\n",
    "\n",
    "# img = deepcopy(lap_img)\n",
    "\n",
    "# img = deepcopy(replay_imgs[0])\n",
    "img = deepcopy(replay_imgs[1])\n",
    "# Equalization\n",
    "img = exposure.equalize_hist(img)\n",
    "# Adaptive Equalization\n",
    "# img_adapteq = exposure.equalize_adapthist(img, clip_limit=0.03)\n",
    "ComputerVisionComputations.imshow(img)\n",
    "\n",
    "# ## remove small disconnected artifacts\n",
    "# footprint = morphology.disk(1)\n",
    "# detected_noise_im = morphology.white_tophat(img, footprint)\n",
    "# img = (img - detected_noise_im)\n",
    "\n",
    "ComputerVisionComputations.imshow(img)\n",
    "\n",
    "blurred_img = gaussian(img, sigma=1, preserve_range=False)\n",
    "\n",
    "ComputerVisionComputations.imshow(blurred_img)\n",
    "\n",
    "# threshold\n",
    "# thresh = threshold_otsu(blurred_img)\n",
    "thresh = threshold_li(blurred_img)\n",
    "bw_blurred_img = blurred_img > thresh\n",
    "\n",
    "ComputerVisionComputations.imshow(bw_blurred_img)\n",
    "\n",
    "\n",
    "\n",
    "\n",
    "# fig, ax = try_all_threshold(blurred_img, figsize=(10, 8), verbose=False)\n",
    "# plt.show()\n"
   ]
  },
  {
   "cell_type": "code",
   "execution_count": null,
   "metadata": {},
   "outputs": [],
   "source": [
    "r = np.linspace(136, 50, 100)\n",
    "c = np.linspace(5, 424, 100)\n",
    "init = np.array([r, c]).T\n",
    "\n",
    "# display(img)\n",
    "# Here we initialize a straight line between two points, (5, 136) and (424, 50), and require that the spline has its end points there by giving the boundary condition boundary_condition=’fixed’.\n",
    "snake = active_contour(\n",
    "    blurred_img,\n",
    "    init,\n",
    "    # boundary_condition='fixed', # Can be one of 'periodic', 'free', 'fixed'\n",
    "    boundary_condition='free', # Can be one of 'periodic', 'free', 'fixed'\n",
    "    alpha=0.1,\n",
    "    beta=1.0,\n",
    "    w_line=5, # negative values would search for dark lines on light backgrounds\n",
    "    w_edge=10,\n",
    "    gamma=0.1,\n",
    ")\n",
    "\n",
    "fig, ax = plt.subplots(figsize=(9, 5))\n",
    "ax.imshow(img, cmap=plt.cm.gray)\n",
    "ax.plot(init[:, 1], init[:, 0], '--r', lw=3)\n",
    "ax.plot(snake[:, 1], snake[:, 0], '-b', lw=3)\n",
    "ax.set_xticks([]), ax.set_yticks([])\n",
    "ax.axis([0, img.shape[1], img.shape[0], 0])\n",
    "\n",
    "plt.show()"
   ]
  },
  {
   "cell_type": "markdown",
   "metadata": {},
   "source": [
    "# Corner/Edge Detection"
   ]
  },
  {
   "cell_type": "code",
   "execution_count": null,
   "metadata": {},
   "outputs": [],
   "source": [
    "import numpy as np\n",
    "import cv2 as cv\n",
    " \n",
    "# filename = 'chessboard2.jpg'\n",
    "filename = lap_path\n",
    "img = cv.imread(filename)\n",
    "gray = cv.cvtColor(img, cv.COLOR_BGR2GRAY)\n",
    " \n",
    "# find Harris corners\n",
    "gray = np.float32(gray)\n",
    "dst = cv.cornerHarris(gray,2,3,0.04)\n",
    "dst = cv.dilate(dst,None)\n",
    "ret, dst = cv.threshold(dst,0.01*dst.max(),255,0)\n",
    "dst = np.uint8(dst)\n",
    " \n",
    "# find centroids\n",
    "ret, labels, stats, centroids = cv.connectedComponentsWithStats(dst)\n",
    " \n",
    "# define the criteria to stop and refine the corners\n",
    "criteria = (cv.TERM_CRITERIA_EPS + cv.TERM_CRITERIA_MAX_ITER, 100, 0.001)\n",
    "corners = cv.cornerSubPix(gray,np.float32(centroids),(5,5),(-1,-1),criteria)\n",
    " \n",
    "# Now draw them\n",
    "res = np.hstack((centroids,corners))\n",
    "res = np.int0(res)\n",
    "img[res[:,1],res[:,0]]=[0,0,255]\n",
    "img[res[:,3],res[:,2]] = [0,255,0]\n",
    "\n",
    "\n",
    "# cv.imshow('img', img)\n",
    "# k = cv.waitKey(0)\n"
   ]
  },
  {
   "cell_type": "code",
   "execution_count": null,
   "metadata": {},
   "outputs": [],
   "source": [
    "import cv2 as cv\n",
    "\n",
    "\n",
    "## INPUTS: lap_img\n",
    "print(lap_img.shape) # (1280, 1920, 3)\n",
    "# print(r.shape) # (1280, 1920)\n",
    "# plt.imshow(img)\n",
    "# plt.show()\n",
    "\n",
    "# gray = deepcopy(r)\n",
    "\n",
    "# gray = cv.cvtColor(lap_img, cv.COLOR_BGR2GRAY)\n",
    "gray = deepcopy(lap_img)\n",
    "gray = np.float32(gray)\n",
    "dst = cv.cornerHarris(gray,2,3,0.04)\n",
    " \n",
    "#result is dilated for marking the corners, not important\n",
    "dst = cv.dilate(dst,None)\n",
    " \n",
    "# Threshold for an optimal value, it may vary depending on the image.\n",
    "img[dst>0.01*dst.max()] = [0,0,255]\n",
    " \n",
    "cv.imshow('dst',img)"
   ]
  }
 ],
 "metadata": {
  "kernelspec": {
   "display_name": "Python 3",
   "language": "python",
   "name": "python3"
  },
  "language_info": {
   "codemirror_mode": {
    "name": "ipython",
    "version": 3
   },
   "file_extension": ".py",
   "mimetype": "text/x-python",
   "name": "python",
   "nbconvert_exporter": "python",
   "pygments_lexer": "ipython3",
   "version": "3.9.13"
  }
 },
 "nbformat": 4,
 "nbformat_minor": 4
}
