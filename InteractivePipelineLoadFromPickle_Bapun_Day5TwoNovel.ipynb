{
 "cells": [
  {
   "cell_type": "markdown",
   "id": "5a45f3f6",
   "metadata": {
    "tags": [
     "all"
    ]
   },
   "source": [
    "# 0️⃣ InteractivePipelineLoadFromPickle (Independent Load-only Visualization Notebook) - Imports"
   ]
  },
  {
   "cell_type": "code",
   "execution_count": 1,
   "id": "initial_id",
   "metadata": {
    "ExecuteTime": {
     "end_time": "2025-01-07T11:34:16.396240Z",
     "start_time": "2025-01-07T11:34:09.057603Z"
    },
    "collapsed": true,
    "notebookRunGroups": {
     "groupValue": "1"
    },
    "tags": [
     "run-group-0",
     "all",
     "pho-run-2024",
     "run-load",
     "run-main",
     "run-fresh-load"
    ]
   },
   "outputs": [
    {
     "name": "stdout",
     "output_type": "stream",
     "text": [
      "Automatic pdb calling has been turned OFF\n",
      "doc_output_parent_folder: C:\\Users\\pho\\repos\\Spike3DWorkEnv\\Spike3D\\EXTERNAL\\DEVELOPER_NOTES\\DataStructureDocumentation\n"
     ]
    },
    {
     "name": "stderr",
     "output_type": "stream",
     "text": [
      "c:\\Users\\pho\\repos\\Spike3DWorkEnv\\Spike3D\\.venv\\lib\\site-packages\\hdf5storage\\utilities.py:44: UserWarning: pkg_resources is deprecated as an API. See https://setuptools.pypa.io/en/latest/pkg_resources.html. The pkg_resources package is slated for removal as early as 2025-11-30. Refrain from using this package or pin to Setuptools<81.\n",
      "  from pkg_resources import parse_version\n"
     ]
    },
    {
     "name": "stdout",
     "output_type": "stream",
     "text": [
      "field.name: \"merged_directional_placefields\", variable_name: \"merged_directional_placefields\"\n",
      "field.name: \"rank_order_shuffle_analysis\", variable_name: \"rank_order_shuffle_analysis\"\n",
      "field.name: \"directional_decoders_decode_continuous\", variable_name: \"directional_decoders_decode_continuous\"\n",
      "field.name: \"directional_decoders_evaluate_epochs\", variable_name: \"directional_decoders_evaluate_epochs\"\n",
      "field.name: \"directional_decoders_epoch_heuristic_scoring\", variable_name: \"directional_decoders_epoch_heuristic_scoring\"\n",
      "field.name: \"directional_train_test_split\", variable_name: \"directional_train_test_split\"\n",
      "field.name: \"long_short_decoding_analyses\", variable_name: \"long_short_decoding_analyses\"\n",
      "field.name: \"long_short_rate_remapping\", variable_name: \"long_short_rate_remapping\"\n",
      "field.name: \"long_short_inst_spike_rate_groups\", variable_name: \"long_short_inst_spike_rate_groups\"\n",
      "field.name: \"wcorr_shuffle_analysis\", variable_name: \"wcorr_shuffle_analysis\"\n",
      "field.name: \"non_pbe_epochs_results\", variable_name: \"non_pbe_epochs_results\"\n",
      "field.name: \"position_decoding\", variable_name: \"position_decoding\"\n",
      "field.name: \"perform_specific_epochs_decoding\", variable_name: \"perform_specific_epochs_decoding\"\n",
      "field.name: \"DEP_ratemap_peaks\", variable_name: \"DEP_ratemap_peaks\"\n",
      "field.name: \"ratemap_peaks_prominence2d\", variable_name: \"ratemap_peaks_prominence2d\"\n",
      "DAY_DATE_STR: 2025-09-29, DAY_DATE_TO_USE: 2025-09-29\n",
      "NOW_DATETIME: 2025-09-29_0120AM, NOW_DATETIME_TO_USE: 2025-09-29_0120AM\n",
      "global_data_root_parent_path changed to H:\\Data\n"
     ]
    },
    {
     "data": {
      "application/vnd.jupyter.widget-view+json": {
       "model_id": "14ae3103fb4345f6936c0b57aaf891ae",
       "version_major": 2,
       "version_minor": 0
      },
      "text/plain": [
       "ToggleButtons(description='Data Root:', layout=Layout(width='auto'), options=(WindowsPath('H:/Data'), WindowsPath('W:/Data')), style=ToggleButtonsStyle(button_width='max-content'), tooltip='global_data_root_parent_path', value=WindowsPath('H:/Data'))"
      ]
     },
     "execution_count": 1,
     "metadata": {},
     "output_type": "execute_result"
    }
   ],
   "source": [
    "%config IPCompleter.use_jedi = False\n",
    "# %xmode Verbose\n",
    "# %xmode context\n",
    "%pdb off\n",
    "%load_ext autoreload\n",
    "%autoreload 3\n",
    "# # !pip install viztracer\n",
    "# %load_ext viztracer\n",
    "# from viztracer import VizTracer\n",
    "\n",
    "# %load_ext memory_profiler\n",
    "\n",
    "import sys\n",
    "from pathlib import Path\n",
    "\n",
    "# required to enable non-blocking interaction:\n",
    "%gui qt5\n",
    "\n",
    "import importlib\n",
    "from copy import deepcopy\n",
    "from numba import jit\n",
    "import numpy as np\n",
    "import pandas as pd\n",
    "pd.options.mode.chained_assignment = None  # default='warn'\n",
    "# pd.options.mode.dtype_backend = 'pyarrow' # use new pyarrow backend instead of numpy\n",
    "from attrs import define, field, fields, Factory, make_class\n",
    "import tables as tb\n",
    "from datetime import datetime, timedelta\n",
    "\n",
    "# Pho's Formatting Preferences\n",
    "import builtins\n",
    "\n",
    "import IPython\n",
    "from IPython.core.formatters import PlainTextFormatter\n",
    "from IPython import get_ipython\n",
    "\n",
    "from pyphocorehelpers.preferences_helpers import set_pho_preferences, set_pho_preferences_concise, set_pho_preferences_verbose\n",
    "set_pho_preferences_concise()\n",
    "# Jupyter-lab enable printing for any line on its own (instead of just the last one in the cell)\n",
    "from IPython.core.interactiveshell import InteractiveShell\n",
    "InteractiveShell.ast_node_interactivity = \"all\"\n",
    "\n",
    "# BEGIN PPRINT CUSTOMIZATION ___________________________________________________________________________________________ #\n",
    "\n",
    "## IPython pprint\n",
    "from pyphocorehelpers.pprint import wide_pprint, wide_pprint_ipython, wide_pprint_jupyter, MAX_LINE_LENGTH\n",
    "# Override default pprint\n",
    "builtins.pprint = wide_pprint\n",
    "\n",
    "ip = get_ipython()\n",
    "\n",
    "from pyphocorehelpers.ipython_helpers import CustomFormatterMagics\n",
    "\n",
    "# Register the magic\n",
    "get_ipython().register_magics(CustomFormatterMagics)\n",
    "\n",
    "text_formatter: PlainTextFormatter = ip.display_formatter.formatters['text/plain']\n",
    "text_formatter.max_width = MAX_LINE_LENGTH\n",
    "text_formatter.for_type(object, wide_pprint_jupyter)\n",
    "\n",
    "\n",
    "# END PPRINT CUSTOMIZATION ___________________________________________________________________________________________ #\n",
    "\n",
    "from pyphocorehelpers.print_helpers import get_now_time_str, get_now_day_str\n",
    "from pyphocorehelpers.indexing_helpers import get_dict_subset\n",
    "\n",
    "## Pho's Custom Libraries:\n",
    "from pyphocorehelpers.Filesystem.path_helpers import find_first_extant_path, file_uri_from_path\n",
    "from pyphocorehelpers.Filesystem.open_in_system_file_manager import reveal_in_system_file_manager\n",
    "import pyphocorehelpers.programming_helpers as programming_helpers\n",
    "\n",
    "# NeuroPy (Diba Lab Python Repo) Loading\n",
    "# from neuropy import core\n",
    "from typing import Dict, List, Tuple, Optional, Callable, Union, Any\n",
    "from typing_extensions import TypeAlias\n",
    "from nptyping import NDArray\n",
    "import neuropy.utils.type_aliases as types\n",
    "\n",
    "from neuropy.analyses.placefields import PlacefieldComputationParameters\n",
    "from neuropy.core.epoch import NamedTimerange, Epoch\n",
    "from neuropy.core.ratemap import Ratemap\n",
    "from neuropy.core.session.Formats.BaseDataSessionFormats import DataSessionFormatRegistryHolder, DataSessionFormatBaseRegisteredClass\n",
    "from neuropy.core.session.Formats.BaseDataSessionFormats import HardcodedProcessingParameters\n",
    "# from neuropy.core.session.Formats.Specific.KDibaOldDataSessionFormat import KDibaOldDataSessionFormatRegisteredClass\n",
    "# from neuropy.core.session.Formats.Specific.BapunDataSessionFormat import BapunDataSessionFormatRegisteredClass\n",
    "# from neuropy.core.session.Formats.Specific.RachelDataSessionFormat import RachelDataSessionFormat\n",
    "from neuropy.core.session.Formats.Specific.BapunDataSessionFormat import BapunDataSessionFormatRegisteredClass\n",
    "\n",
    "from neuropy.utils.matplotlib_helpers import matplotlib_file_only, matplotlib_configuration, matplotlib_configuration_update\n",
    "from neuropy.core.neuron_identities import NeuronIdentityTable, neuronTypesList, neuronTypesEnum\n",
    "from neuropy.utils.mixins.AttrsClassHelpers import AttrsBasedClassHelperMixin, serialized_field, serialized_attribute_field, non_serialized_field, custom_define\n",
    "from neuropy.utils.mixins.HDF5_representable import HDF_DeserializationMixin, post_deserialize, HDF_SerializationMixin, HDFMixin, HDF_Converter\n",
    "\n",
    "## For computation parameters:\n",
    "from neuropy.analyses.placefields import PlacefieldComputationParameters\n",
    "from neuropy.utils.dynamic_container import DynamicContainer\n",
    "from neuropy.utils.result_context import IdentifyingContext\n",
    "from neuropy.core.session.Formats.BaseDataSessionFormats import find_local_session_paths\n",
    "from neuropy.core.user_annotations import UserAnnotationsManager\n",
    "\n",
    "from pyphocorehelpers.print_helpers import print_object_memory_usage, print_dataframe_memory_usage, print_value_overview_only, DocumentationFilePrinter, print_keys_if_possible, generate_html_string, document_active_variables\n",
    "from pyphocorehelpers.programming_helpers import metadata_attributes\n",
    "from pyphocorehelpers.function_helpers import function_attributes\n",
    "## Pho Programming Helpers:\n",
    "from pyphocorehelpers.print_helpers import DocumentationFilePrinter, TypePrintMode, print_keys_if_possible, debug_dump_object_member_shapes, print_value_overview_only, document_active_variables\n",
    "from pyphocorehelpers.programming_helpers import IPythonHelpers, PythonDictionaryDefinitionFormat, MemoryManagement, inspect_callable_arguments, get_arguments_as_optional_dict, GeneratedClassDefinitionType, CodeConversion\n",
    "from pyphocorehelpers.notebook_helpers import NotebookCellExecutionLogger\n",
    "from pyphocorehelpers.gui.Qt.TopLevelWindowHelper import TopLevelWindowHelper, print_widget_hierarchy\n",
    "from pyphocorehelpers.indexing_helpers import reorder_columns, reorder_columns_relative, dict_to_full_array\n",
    "from pyphocorehelpers.DataStructure.RenderPlots.MatplotLibRenderPlots import MatplotlibRenderPlots\n",
    "\n",
    "doc_output_parent_folder: Path = Path('EXTERNAL/DEVELOPER_NOTES/DataStructureDocumentation').resolve() # ../.\n",
    "print(f\"doc_output_parent_folder: {doc_output_parent_folder}\")\n",
    "assert doc_output_parent_folder.exists()\n",
    "\n",
    "_notebook_path:Path = Path(IPythonHelpers.try_find_notebook_filepath(IPython.extract_module_locals())).resolve() # Finds the path of THIS notebook\n",
    "# _notebook_execution_logger: NotebookCellExecutionLogger = NotebookCellExecutionLogger(notebook_path=_notebook_path, enable_logging_to_file=False) # Builds a logger that records info about this notebook\n",
    "\n",
    "# pyPhoPlaceCellAnalysis:\n",
    "from pyphoplacecellanalysis.General.Pipeline.NeuropyPipeline import NeuropyPipeline # get_neuron_identities\n",
    "from pyphoplacecellanalysis.General.Mixins.ExportHelpers import export_pyqtgraph_plot\n",
    "from pyphoplacecellanalysis.General.Batch.NonInteractiveProcessing import batch_load_session, batch_extended_computations, batch_evaluate_required_computations\n",
    "from pyphoplacecellanalysis.General.Pipeline.NeuropyPipeline import PipelineSavingScheme # used in perform_pipeline_save\n",
    "from pyphoplacecellanalysis.GUI.IPyWidgets.pipeline_ipywidgets import PipelineJupyterHelpers, CustomProcessingPhases\n",
    "from pyphocorehelpers.assertion_helpers import Assert\n",
    "\n",
    "import pyphoplacecellanalysis.External.pyqtgraph as pg\n",
    "\n",
    "from pyphocorehelpers.exception_helpers import ExceptionPrintingContext, CapturedException\n",
    "from pyphoplacecellanalysis.General.Batch.NonInteractiveProcessing import batch_perform_all_plots\n",
    "from pyphoplacecellanalysis.General.Pipeline.Stages.ComputationFunctions.MultiContextComputationFunctions.LongShortTrackComputations import JonathanFiringRateAnalysisResult\n",
    "from pyphoplacecellanalysis.General.Mixins.CrossComputationComparisonHelpers import _find_any_context_neurons\n",
    "from pyphoplacecellanalysis.General.Batch.runBatch import BatchSessionCompletionHandler # for `post_compute_validate(...)`\n",
    "from pyphoplacecellanalysis.Analysis.Decoder.reconstruction import BasePositionDecoder\n",
    "from pyphoplacecellanalysis.SpecificResults.AcrossSessionResults import AcrossSessionsResults\n",
    "from pyphoplacecellanalysis.General.Pipeline.Stages.ComputationFunctions.SpikeAnalysis import SpikeRateTrends # for `_perform_long_short_instantaneous_spike_rate_groups_analysis`\n",
    "from pyphoplacecellanalysis.General.Pipeline.Stages.ComputationFunctions.MultiContextComputationFunctions.LongShortTrackComputations import SingleBarResult, InstantaneousSpikeRateGroupsComputation, TruncationCheckingResults # for `BatchSessionCompletionHandler`, `AcrossSessionsAggregator`\n",
    "from pyphoplacecellanalysis.General.Mixins.CrossComputationComparisonHelpers import SplitPartitionMembership\n",
    "from pyphoplacecellanalysis.General.Pipeline.Stages.ComputationFunctions.MultiContextComputationFunctions.DirectionalPlacefieldGlobalComputationFunctions import DirectionalPlacefieldGlobalComputationFunctions, DirectionalLapsResult, TrackTemplates, DecoderDecodedEpochsResult\n",
    "from pyphoplacecellanalysis.General.Pipeline.Stages.ComputationFunctions.MultiContextComputationFunctions.RankOrderComputations import RankOrderGlobalComputationFunctions,  RankOrderComputationsContainer, RankOrderResult, RankOrderAnalyses\n",
    "from pyphoplacecellanalysis.General.Pipeline.Stages.ComputationFunctions.MultiContextComputationFunctions.DirectionalPlacefieldGlobalComputationFunctions import TrackTemplates\n",
    "from pyphoplacecellanalysis.General.Pipeline.Stages.ComputationFunctions.ComputationFunctionRegistryHolder import ComputationFunctionRegistryHolder, computation_precidence_specifying_function, global_function\n",
    "from pyphoplacecellanalysis.General.Pipeline.Stages.ComputationFunctions.MultiContextComputationFunctions.SequenceBasedComputations import WCorrShuffle, SequenceBasedComputationsContainer\n",
    "from neuropy.utils.mixins.binning_helpers import transition_matrix\n",
    "from pyphoplacecellanalysis.Analysis.Decoder.transition_matrix import TransitionMatrixComputations\n",
    "from pyphoplacecellanalysis.General.Pipeline.Stages.ComputationFunctions.MultiContextComputationFunctions.DirectionalPlacefieldGlobalComputationFunctions import TrackTemplates, get_proper_global_spikes_df\n",
    "from pyphocorehelpers.Filesystem.path_helpers import set_posix_windows\n",
    "from pyphoplacecellanalysis.Analysis.Decoder.reconstruction import BasePositionDecoder, DecodedFilterEpochsResult, SingleEpochDecodedResult\n",
    "\n",
    "from pyphocorehelpers.assertion_helpers import Assert\n",
    "\n",
    "# Plotting\n",
    "# import pylustrator # customization of figures\n",
    "import matplotlib\n",
    "import matplotlib as mpl\n",
    "import matplotlib.pyplot as plt\n",
    "_bak_rcParams = mpl.rcParams.copy()\n",
    "\n",
    "matplotlib.use('Qt5Agg')\n",
    "# %matplotlib inline\n",
    "# %matplotlib auto\n",
    "\n",
    "# _restore_previous_matplotlib_settings_callback = matplotlib_configuration_update(is_interactive=True, backend='Qt5Agg')\n",
    "_restore_previous_matplotlib_settings_callback = matplotlib_configuration_update(is_interactive=True, backend='Qt5Agg')\n",
    "\n",
    "import seaborn as sns\n",
    "\n",
    "# import pylustrator # call `pylustrator.start()` before creating your first figure in code.\n",
    "from pyphoplacecellanalysis.Pho2D.matplotlib.visualize_heatmap import visualize_heatmap, visualize_heatmap_pyqtgraph # used in `plot_kourosh_activity_style_figure`\n",
    "from pyphoplacecellanalysis.General.Pipeline.Stages.DisplayFunctions.SpikeRasters import plot_multiple_raster_plot, plot_raster_plot\n",
    "from pyphoplacecellanalysis.General.Mixins.DataSeriesColorHelpers import UnitColoringMode, DataSeriesColorHelpers\n",
    "from pyphoplacecellanalysis.General.Pipeline.Stages.DisplayFunctions.SpikeRasters import _build_default_tick, build_scatter_plot_kwargs\n",
    "from pyphoplacecellanalysis.GUI.PyQtPlot.Widgets.Mixins.Render2DScrollWindowPlot import Render2DScrollWindowPlotMixin, ScatterItemData\n",
    "from pyphoplacecellanalysis.General.Pipeline.Stages.ComputationFunctions.SpikeAnalysis import SpikeRateTrends\n",
    "from pyphoplacecellanalysis.General.Mixins.SpikesRenderingBaseMixin import SpikeEmphasisState\n",
    "from pyphoplacecellanalysis.General.Model.SpecificComputationParameterTypes import ComputationKWargParameters\n",
    "from pyphoplacecellanalysis.SpecificResults.PhoDiba2023Paper import PAPER_FIGURE_figure_1_add_replay_epoch_rasters, PAPER_FIGURE_figure_1_full, PAPER_FIGURE_figure_3, main_complete_figure_generations\n",
    "# from pyphoplacecellanalysis.SpecificResults.fourthYearPresentation import *\n",
    "\n",
    "# Jupyter Widget Interactive\n",
    "import ipywidgets as widgets\n",
    "from IPython.display import display, HTML\n",
    "from pyphocorehelpers.Filesystem.open_in_system_file_manager import reveal_in_system_file_manager\n",
    "from pyphoplacecellanalysis.GUI.IPyWidgets.pipeline_ipywidgets import interactive_pipeline_widget, interactive_pipeline_files\n",
    "from pyphocorehelpers.gui.Jupyter.simple_widgets import fullwidth_path_widget, render_colors\n",
    "\n",
    "from datetime import datetime, date, timedelta\n",
    "from pyphocorehelpers.print_helpers import get_now_day_str, get_now_rounded_time_str\n",
    "\n",
    "\n",
    "known_data_session_type_properties_dict = DataSessionFormatRegistryHolder.get_registry_known_data_session_type_dict()\n",
    "active_data_session_types_registered_classes_dict = DataSessionFormatRegistryHolder.get_registry_data_session_type_class_name_dict()\n",
    "\n",
    "DAY_DATE_STR: str = date.today().strftime(\"%Y-%m-%d\")\n",
    "DAY_DATE_TO_USE = f'{DAY_DATE_STR}' # used for filenames throught the notebook\n",
    "print(f'DAY_DATE_STR: {DAY_DATE_STR}, DAY_DATE_TO_USE: {DAY_DATE_TO_USE}')\n",
    "\n",
    "NOW_DATETIME: str = get_now_rounded_time_str()\n",
    "NOW_DATETIME_TO_USE = f'{NOW_DATETIME}' # used for filenames throught the notebook\n",
    "print(f'NOW_DATETIME: {NOW_DATETIME}, NOW_DATETIME_TO_USE: {NOW_DATETIME_TO_USE}')\n",
    "\n",
    "def get_global_variable(var_name):\n",
    "    \"\"\" used by `PipelineJupyterHelpers._build_pipeline_custom_processing_mode_selector_widget(...)` to update the notebook's variables \"\"\"\n",
    "    return globals()[var_name]\n",
    "    \n",
    "def update_global_variable(var_name, value):\n",
    "    \"\"\" used by `PipelineJupyterHelpers._build_pipeline_custom_processing_mode_selector_widget(...)` to update the notebook's variables \"\"\"\n",
    "    globals()[var_name] = value\n",
    "\n",
    "from pyphocorehelpers.gui.Jupyter.simple_widgets import build_global_data_root_parent_path_selection_widget\n",
    "all_paths = [Path(r'/home/halechr/FastData'), Path('/Volumes/SwapSSD/Data'), Path('/Users/pho/data'), Path(r'/media/halechr/MAX/Data'), Path(r'H:\\Data'), Path(r'W:\\Data'), Path(r'/home/halechr/cloud/turbo/Data'), Path(r'/Volumes/MoverNew/data'), Path(r'/home/halechr/turbo/Data'), Path(r'/Users/pho/cloud/turbo/Data')] # Path('/Volumes/FedoraSSD/FastData'), \n",
    "global_data_root_parent_path = None\n",
    "def on_user_update_path_selection(new_path: Path):\n",
    "    global global_data_root_parent_path\n",
    "    new_global_data_root_parent_path = new_path.resolve()\n",
    "    global_data_root_parent_path = new_global_data_root_parent_path\n",
    "    print(f'global_data_root_parent_path changed to {global_data_root_parent_path}')\n",
    "    assert global_data_root_parent_path.exists(), f\"global_data_root_parent_path: {global_data_root_parent_path} does not exist! Is the right computer's config commented out above?\"\n",
    "            \n",
    "global_data_root_parent_path_widget = build_global_data_root_parent_path_selection_widget(all_paths, on_user_update_path_selection)\n",
    "global_data_root_parent_path_widget"
   ]
  },
  {
   "cell_type": "markdown",
   "id": "30db844b",
   "metadata": {
    "tags": [
     "all"
    ]
   },
   "source": [
    "# 0️⃣ Load Pipeline"
   ]
  },
  {
   "cell_type": "code",
   "execution_count": 2,
   "id": "7f07773d",
   "metadata": {
    "notebookRunGroups": {
     "groupValue": "1"
    },
    "tags": [
     "run-group-0",
     "all",
     "run-load",
     "run-main",
     "run-fresh-load"
    ]
   },
   "outputs": [
    {
     "name": "stdout",
     "output_type": "stream",
     "text": [
      "basedir: H:\\Data\\Bapun\\RatS\\Day5TwoNovel\n"
     ]
    },
    {
     "data": {
      "application/vnd.jupyter.widget-view+json": {
       "model_id": "f073d8219c4a4e90a475844db46e54fd",
       "version_major": 2,
       "version_minor": 0
      },
      "text/plain": [
       "VBox(children=(ToggleButtons(description='CustomProcessingPhases:', options=('clean_run', 'continued_run', 'final_run'), style=ToggleButtonsStyle(description_width='initial'), tooltips=('Select clean_run', 'Select continued_run', 'Select final_run'), value='clean_run'), Label(value='Empty')))"
      ]
     },
     "metadata": {},
     "output_type": "display_data"
    },
    {
     "name": "stdout",
     "output_type": "stream",
     "text": [
      "saving_mode: PipelineSavingScheme.SKIP_SAVING, force_reload: False\n"
     ]
    }
   ],
   "source": [
    "# ==================================================================================================================== #\n",
    "# Load Data                                                                                                            #\n",
    "# ==================================================================================================================== #\n",
    "\n",
    "# ==================================================================================================================== #\n",
    "# BAPUN data format                                                                                                    #\n",
    "# ==================================================================================================================== #\n",
    "active_data_mode_name = 'bapun'\n",
    "local_session_root_parent_context = IdentifyingContext(format_name=active_data_mode_name) # , animal_name='', configuration_name='one', session_name=a_sess.session_name\n",
    "local_session_root_parent_path = global_data_root_parent_path.joinpath('Bapun')\n",
    "\n",
    "# [*] - indicates bad or session with a problem\n",
    "# 0, 1, 2, 3, 4, 5, 6, 7, [8], [9], 10, 11, [12], 13, 14, [15], [16], 17, \n",
    "# curr_context = IdentifyingContext(format_name='bapun',animal='RatN', session_name='Day4OpenField') # ,exper_name='one' -- This is the one with the 2 behaviors ('roam', 'sprinkle') in the same open field box\n",
    "curr_context = IdentifyingContext(format_name='bapun',animal='RatS', session_name='Day5TwoNovel') # ,exper_name='one' -- this one has the 2 maze shapes: [\"N\", \"U\"]\n",
    "# Create a dictionary with the parameters to override\n",
    "override_parameters = {\n",
    "    'preprocessing.laps.use_direction_dependent_laps': False\n",
    "}\n",
    "\n",
    "local_session_parent_path: Path = local_session_root_parent_path.joinpath(curr_context.animal) # 'gor01', 'one' - probably not needed anymore\n",
    "basedir: Path = local_session_parent_path.joinpath(curr_context.session_name) #.resolve()\n",
    "\n",
    "# basedir: Path = Path('/media/halechr/MAX/Data/Rachel/cho/cho_241117_2_merged') # DO NOT `.resolve()``\n",
    "# basedir: Path = Path(r'H:\\Data\\Bapun\\RatS\\Day5TwoNovel')\n",
    "print(f'basedir: {str(basedir)}')\n",
    "Assert.path_exists(basedir)\n",
    "\n",
    "epoch_name_includelist = None\n",
    "active_computation_functions_name_includelist = ['pf_computation', 'pfdt_computation', 'position_decoding']\n",
    "\n",
    "# Read if possible:\n",
    "saving_mode = PipelineSavingScheme.SKIP_SAVING\n",
    "force_reload = False\n",
    "\n",
    "# # Force write:\n",
    "# saving_mode = PipelineSavingScheme.TEMP_THEN_OVERWRITE\n",
    "# saving_mode = PipelineSavingScheme.OVERWRITE_IN_PLACE\n",
    "# force_reload = True\n",
    "\n",
    "selector, on_value_change = PipelineJupyterHelpers._build_pipeline_custom_processing_mode_selector_widget(update_global_variable_fn=update_global_variable, debug_print=False, enable_full_view=True)\n",
    "# selector.value = 'clean_run'\n",
    "selector.value = 'continued_run'\n",
    "# selector.value = 'final_run'\n",
    "on_value_change(dict(new=selector.value)) ## do update manually so the workspace variables reflect the set values\n",
    "## TODO: if loading is not possible, we need to change the `saving_mode` so that the new results are properly saved.\n",
    "print(f\"saving_mode: {saving_mode}, force_reload: {force_reload}\")"
   ]
  },
  {
   "cell_type": "markdown",
   "id": "33267230",
   "metadata": {},
   "source": [
    "# Resume"
   ]
  },
  {
   "cell_type": "code",
   "execution_count": 3,
   "id": "cf21a4df",
   "metadata": {
    "tags": [
     "run-group-0",
     "run-load",
     "run-main",
     "active-2025-01-16",
     "run-fresh-load"
    ]
   },
   "outputs": [
    {
     "data": {
      "text/plain": [
       "['lap_direction_determination',\n",
       " 'pf_computation',\n",
       " 'pfdt_computation',\n",
       " 'position_decoding',\n",
       " 'firing_rate_trends',\n",
       " 'extended_stats',\n",
       " 'long_short_decoding_analyses',\n",
       " 'jonathan_firing_rate_analysis',\n",
       " 'long_short_fr_indicies_analyses',\n",
       " 'long_short_post_decoding',\n",
       " 'long_short_inst_spike_rate_groups',\n",
       " 'long_short_endcap_analysis',\n",
       " 'split_to_directional_laps',\n",
       " 'merged_directional_placefields',\n",
       " 'directional_decoders_decode_continuous',\n",
       " 'directional_decoders_evaluate_epochs',\n",
       " 'directional_decoders_epoch_heuristic_scoring',\n",
       " 'non_PBE_epochs_results',\n",
       " 'generalized_specific_epochs_decoding']"
      ]
     },
     "metadata": {},
     "output_type": "display_data"
    },
    {
     "data": {
      "application/javascript": "(function(root) {\n  function now() {\n    return new Date();\n  }\n\n  var force = true;\n  var py_version = '3.2.2'.replace('rc', '-rc.').replace('.dev', '-dev.');\n  var is_dev = py_version.indexOf(\"+\") !== -1 || py_version.indexOf(\"-\") !== -1;\n  var reloading = false;\n  var Bokeh = root.Bokeh;\n  var bokeh_loaded = Bokeh != null && (Bokeh.version === py_version || (Bokeh.versions !== undefined && Bokeh.versions.has(py_version)));\n\n  if (typeof (root._bokeh_timeout) === \"undefined\" || force) {\n    root._bokeh_timeout = Date.now() + 5000;\n    root._bokeh_failed_load = false;\n  }\n\n  function run_callbacks() {\n    try {\n      root._bokeh_onload_callbacks.forEach(function(callback) {\n        if (callback != null)\n          callback();\n      });\n    } finally {\n      delete root._bokeh_onload_callbacks;\n    }\n    console.debug(\"Bokeh: all callbacks have finished\");\n  }\n\n  function load_libs(css_urls, js_urls, js_modules, js_exports, callback) {\n    if (css_urls == null) css_urls = [];\n    if (js_urls == null) js_urls = [];\n    if (js_modules == null) js_modules = [];\n    if (js_exports == null) js_exports = {};\n\n    root._bokeh_onload_callbacks.push(callback);\n\n    if (root._bokeh_is_loading > 0) {\n      console.debug(\"Bokeh: BokehJS is being loaded, scheduling callback at\", now());\n      return null;\n    }\n    if (js_urls.length === 0 && js_modules.length === 0 && Object.keys(js_exports).length === 0) {\n      run_callbacks();\n      return null;\n    }\n    if (!reloading) {\n      console.debug(\"Bokeh: BokehJS not loaded, scheduling load and callback at\", now());\n    }\n\n    function on_load() {\n      root._bokeh_is_loading--;\n      if (root._bokeh_is_loading === 0) {\n        console.debug(\"Bokeh: all BokehJS libraries/stylesheets loaded\");\n        run_callbacks()\n      }\n    }\n    window._bokeh_on_load = on_load\n\n    function on_error() {\n      console.error(\"failed to load \" + url);\n    }\n\n    var skip = [];\n    if (window.requirejs) {\n      window.requirejs.config({'packages': {}, 'paths': {'jspanel': 'https://cdn.jsdelivr.net/npm/jspanel4@4.12.0/dist/jspanel', 'jspanel-modal': 'https://cdn.jsdelivr.net/npm/jspanel4@4.12.0/dist/extensions/modal/jspanel.modal', 'jspanel-tooltip': 'https://cdn.jsdelivr.net/npm/jspanel4@4.12.0/dist/extensions/tooltip/jspanel.tooltip', 'jspanel-hint': 'https://cdn.jsdelivr.net/npm/jspanel4@4.12.0/dist/extensions/hint/jspanel.hint', 'jspanel-layout': 'https://cdn.jsdelivr.net/npm/jspanel4@4.12.0/dist/extensions/layout/jspanel.layout', 'jspanel-contextmenu': 'https://cdn.jsdelivr.net/npm/jspanel4@4.12.0/dist/extensions/contextmenu/jspanel.contextmenu', 'jspanel-dock': 'https://cdn.jsdelivr.net/npm/jspanel4@4.12.0/dist/extensions/dock/jspanel.dock', 'gridstack': 'https://cdn.jsdelivr.net/npm/gridstack@7.2.3/dist/gridstack-all', 'notyf': 'https://cdn.jsdelivr.net/npm/notyf@3/notyf.min'}, 'shim': {'jspanel': {'exports': 'jsPanel'}, 'gridstack': {'exports': 'GridStack'}}});\n      require([\"jspanel\"], function(jsPanel) {\n\twindow.jsPanel = jsPanel\n\ton_load()\n      })\n      require([\"jspanel-modal\"], function() {\n\ton_load()\n      })\n      require([\"jspanel-tooltip\"], function() {\n\ton_load()\n      })\n      require([\"jspanel-hint\"], function() {\n\ton_load()\n      })\n      require([\"jspanel-layout\"], function() {\n\ton_load()\n      })\n      require([\"jspanel-contextmenu\"], function() {\n\ton_load()\n      })\n      require([\"jspanel-dock\"], function() {\n\ton_load()\n      })\n      require([\"gridstack\"], function(GridStack) {\n\twindow.GridStack = GridStack\n\ton_load()\n      })\n      require([\"notyf\"], function() {\n\ton_load()\n      })\n      root._bokeh_is_loading = css_urls.length + 9;\n    } else {\n      root._bokeh_is_loading = css_urls.length + js_urls.length + js_modules.length + Object.keys(js_exports).length;\n    }\n\n    var existing_stylesheets = []\n    var links = document.getElementsByTagName('link')\n    for (var i = 0; i < links.length; i++) {\n      var link = links[i]\n      if (link.href != null) {\n\texisting_stylesheets.push(link.href)\n      }\n    }\n    for (var i = 0; i < css_urls.length; i++) {\n      var url = css_urls[i];\n      if (existing_stylesheets.indexOf(url) !== -1) {\n\ton_load()\n\tcontinue;\n      }\n      const element = document.createElement(\"link\");\n      element.onload = on_load;\n      element.onerror = on_error;\n      element.rel = \"stylesheet\";\n      element.type = \"text/css\";\n      element.href = url;\n      console.debug(\"Bokeh: injecting link tag for BokehJS stylesheet: \", url);\n      document.body.appendChild(element);\n    }    if (((window['jsPanel'] !== undefined) && (!(window['jsPanel'] instanceof HTMLElement))) || window.requirejs) {\n      var urls = ['https://cdn.holoviz.org/panel/1.2.3/dist/bundled/floatpanel/jspanel4@4.12.0/dist/jspanel.js', 'https://cdn.holoviz.org/panel/1.2.3/dist/bundled/floatpanel/jspanel4@4.12.0/dist/extensions/modal/jspanel.modal.js', 'https://cdn.holoviz.org/panel/1.2.3/dist/bundled/floatpanel/jspanel4@4.12.0/dist/extensions/tooltip/jspanel.tooltip.js', 'https://cdn.holoviz.org/panel/1.2.3/dist/bundled/floatpanel/jspanel4@4.12.0/dist/extensions/hint/jspanel.hint.js', 'https://cdn.holoviz.org/panel/1.2.3/dist/bundled/floatpanel/jspanel4@4.12.0/dist/extensions/layout/jspanel.layout.js', 'https://cdn.holoviz.org/panel/1.2.3/dist/bundled/floatpanel/jspanel4@4.12.0/dist/extensions/contextmenu/jspanel.contextmenu.js', 'https://cdn.holoviz.org/panel/1.2.3/dist/bundled/floatpanel/jspanel4@4.12.0/dist/extensions/dock/jspanel.dock.js'];\n      for (var i = 0; i < urls.length; i++) {\n        skip.push(urls[i])\n      }\n    }    if (((window['GridStack'] !== undefined) && (!(window['GridStack'] instanceof HTMLElement))) || window.requirejs) {\n      var urls = ['https://cdn.holoviz.org/panel/1.2.3/dist/bundled/gridstack/gridstack@7.2.3/dist/gridstack-all.js'];\n      for (var i = 0; i < urls.length; i++) {\n        skip.push(urls[i])\n      }\n    }    if (((window['Notyf'] !== undefined) && (!(window['Notyf'] instanceof HTMLElement))) || window.requirejs) {\n      var urls = ['https://cdn.holoviz.org/panel/1.2.3/dist/bundled/notificationarea/notyf@3/notyf.min.js'];\n      for (var i = 0; i < urls.length; i++) {\n        skip.push(urls[i])\n      }\n    }    var existing_scripts = []\n    var scripts = document.getElementsByTagName('script')\n    for (var i = 0; i < scripts.length; i++) {\n      var script = scripts[i]\n      if (script.src != null) {\n\texisting_scripts.push(script.src)\n      }\n    }\n    for (var i = 0; i < js_urls.length; i++) {\n      var url = js_urls[i];\n      if (skip.indexOf(url) !== -1 || existing_scripts.indexOf(url) !== -1) {\n\tif (!window.requirejs) {\n\t  on_load();\n\t}\n\tcontinue;\n      }\n      var element = document.createElement('script');\n      element.onload = on_load;\n      element.onerror = on_error;\n      element.async = false;\n      element.src = url;\n      console.debug(\"Bokeh: injecting script tag for BokehJS library: \", url);\n      document.head.appendChild(element);\n    }\n    for (var i = 0; i < js_modules.length; i++) {\n      var url = js_modules[i];\n      if (skip.indexOf(url) !== -1 || existing_scripts.indexOf(url) !== -1) {\n\tif (!window.requirejs) {\n\t  on_load();\n\t}\n\tcontinue;\n      }\n      var element = document.createElement('script');\n      element.onload = on_load;\n      element.onerror = on_error;\n      element.async = false;\n      element.src = url;\n      element.type = \"module\";\n      console.debug(\"Bokeh: injecting script tag for BokehJS library: \", url);\n      document.head.appendChild(element);\n    }\n    for (const name in js_exports) {\n      var url = js_exports[name];\n      if (skip.indexOf(url) >= 0 || root[name] != null) {\n\tif (!window.requirejs) {\n\t  on_load();\n\t}\n\tcontinue;\n      }\n      var element = document.createElement('script');\n      element.onerror = on_error;\n      element.async = false;\n      element.type = \"module\";\n      console.debug(\"Bokeh: injecting script tag for BokehJS library: \", url);\n      element.textContent = `\n      import ${name} from \"${url}\"\n      window.${name} = ${name}\n      window._bokeh_on_load()\n      `\n      document.head.appendChild(element);\n    }\n    if (!js_urls.length && !js_modules.length) {\n      on_load()\n    }\n  };\n\n  function inject_raw_css(css) {\n    const element = document.createElement(\"style\");\n    element.appendChild(document.createTextNode(css));\n    document.body.appendChild(element);\n  }\n\n  var js_urls = [\"https://cdn.bokeh.org/bokeh/release/bokeh-3.2.2.min.js\", \"https://cdn.bokeh.org/bokeh/release/bokeh-gl-3.2.2.min.js\", \"https://cdn.bokeh.org/bokeh/release/bokeh-widgets-3.2.2.min.js\", \"https://cdn.bokeh.org/bokeh/release/bokeh-tables-3.2.2.min.js\", \"https://cdn.holoviz.org/panel/1.2.3/dist/panel.min.js\"];\n  var js_modules = [];\n  var js_exports = {};\n  var css_urls = [];\n  var inline_js = [    function(Bokeh) {\n      Bokeh.set_log_level(\"info\");\n    },\nfunction(Bokeh) {} // ensure no trailing comma for IE\n  ];\n\n  function run_inline_js() {\n    if ((root.Bokeh !== undefined) || (force === true)) {\n      for (var i = 0; i < inline_js.length; i++) {\n        inline_js[i].call(root, root.Bokeh);\n      }\n      // Cache old bokeh versions\n      if (Bokeh != undefined && !reloading) {\n\tvar NewBokeh = root.Bokeh;\n\tif (Bokeh.versions === undefined) {\n\t  Bokeh.versions = new Map();\n\t}\n\tif (NewBokeh.version !== Bokeh.version) {\n\t  Bokeh.versions.set(NewBokeh.version, NewBokeh)\n\t}\n\troot.Bokeh = Bokeh;\n      }} else if (Date.now() < root._bokeh_timeout) {\n      setTimeout(run_inline_js, 100);\n    } else if (!root._bokeh_failed_load) {\n      console.log(\"Bokeh: BokehJS failed to load within specified timeout.\");\n      root._bokeh_failed_load = true;\n    }\n    root._bokeh_is_initializing = false\n  }\n\n  function load_or_wait() {\n    // Implement a backoff loop that tries to ensure we do not load multiple\n    // versions of Bokeh and its dependencies at the same time.\n    // In recent versions we use the root._bokeh_is_initializing flag\n    // to determine whether there is an ongoing attempt to initialize\n    // bokeh, however for backward compatibility we also try to ensure\n    // that we do not start loading a newer (Panel>=1.0 and Bokeh>3) version\n    // before older versions are fully initialized.\n    if (root._bokeh_is_initializing && Date.now() > root._bokeh_timeout) {\n      root._bokeh_is_initializing = false;\n      root._bokeh_onload_callbacks = undefined;\n      console.log(\"Bokeh: BokehJS was loaded multiple times but one version failed to initialize.\");\n      load_or_wait();\n    } else if (root._bokeh_is_initializing || (typeof root._bokeh_is_initializing === \"undefined\" && root._bokeh_onload_callbacks !== undefined)) {\n      setTimeout(load_or_wait, 100);\n    } else {\n      Bokeh = root.Bokeh;\n      bokeh_loaded = Bokeh != null && (Bokeh.version === py_version || (Bokeh.versions !== undefined && Bokeh.versions.has(py_version)));\n      root._bokeh_is_initializing = true\n      root._bokeh_onload_callbacks = []\n      if (!reloading && (!bokeh_loaded || is_dev)) {\n\troot.Bokeh = undefined;\n      }\n      load_libs(css_urls, js_urls, js_modules, js_exports, function() {\n\tconsole.debug(\"Bokeh: BokehJS plotting callback run at\", now());\n\trun_inline_js();\n      });\n    }\n  }\n  // Give older versions of the autoload script a head-start to ensure\n  // they initialize before we start loading newer version.\n  setTimeout(load_or_wait, 100)\n}(window));",
      "application/vnd.holoviews_load.v0+json": ""
     },
     "metadata": {},
     "output_type": "display_data"
    },
    {
     "data": {
      "application/javascript": "\nif ((window.PyViz === undefined) || (window.PyViz instanceof HTMLElement)) {\n  window.PyViz = {comms: {}, comm_status:{}, kernels:{}, receivers: {}, plot_index: []}\n}\n\n\n    function JupyterCommManager() {\n    }\n\n    JupyterCommManager.prototype.register_target = function(plot_id, comm_id, msg_handler) {\n      if (window.comm_manager || ((window.Jupyter !== undefined) && (Jupyter.notebook.kernel != null))) {\n        var comm_manager = window.comm_manager || Jupyter.notebook.kernel.comm_manager;\n        comm_manager.register_target(comm_id, function(comm) {\n          comm.on_msg(msg_handler);\n        });\n      } else if ((plot_id in window.PyViz.kernels) && (window.PyViz.kernels[plot_id])) {\n        window.PyViz.kernels[plot_id].registerCommTarget(comm_id, function(comm) {\n          comm.onMsg = msg_handler;\n        });\n      } else if (typeof google != 'undefined' && google.colab.kernel != null) {\n        google.colab.kernel.comms.registerTarget(comm_id, (comm) => {\n          var messages = comm.messages[Symbol.asyncIterator]();\n          function processIteratorResult(result) {\n            var message = result.value;\n            console.log(message)\n            var content = {data: message.data, comm_id};\n            var buffers = []\n            for (var buffer of message.buffers || []) {\n              buffers.push(new DataView(buffer))\n            }\n            var metadata = message.metadata || {};\n            var msg = {content, buffers, metadata}\n            msg_handler(msg);\n            return messages.next().then(processIteratorResult);\n          }\n          return messages.next().then(processIteratorResult);\n        })\n      }\n    }\n\n    JupyterCommManager.prototype.get_client_comm = function(plot_id, comm_id, msg_handler) {\n      if (comm_id in window.PyViz.comms) {\n        return window.PyViz.comms[comm_id];\n      } else if (window.comm_manager || ((window.Jupyter !== undefined) && (Jupyter.notebook.kernel != null))) {\n        var comm_manager = window.comm_manager || Jupyter.notebook.kernel.comm_manager;\n        var comm = comm_manager.new_comm(comm_id, {}, {}, {}, comm_id);\n        if (msg_handler) {\n          comm.on_msg(msg_handler);\n        }\n      } else if ((plot_id in window.PyViz.kernels) && (window.PyViz.kernels[plot_id])) {\n        var comm = window.PyViz.kernels[plot_id].connectToComm(comm_id);\n        comm.open();\n        if (msg_handler) {\n          comm.onMsg = msg_handler;\n        }\n      } else if (typeof google != 'undefined' && google.colab.kernel != null) {\n        var comm_promise = google.colab.kernel.comms.open(comm_id)\n        comm_promise.then((comm) => {\n          window.PyViz.comms[comm_id] = comm;\n          if (msg_handler) {\n            var messages = comm.messages[Symbol.asyncIterator]();\n            function processIteratorResult(result) {\n              var message = result.value;\n              var content = {data: message.data};\n              var metadata = message.metadata || {comm_id};\n              var msg = {content, metadata}\n              msg_handler(msg);\n              return messages.next().then(processIteratorResult);\n            }\n            return messages.next().then(processIteratorResult);\n          }\n        }) \n        var sendClosure = (data, metadata, buffers, disposeOnDone) => {\n          return comm_promise.then((comm) => {\n            comm.send(data, metadata, buffers, disposeOnDone);\n          });\n        };\n        var comm = {\n          send: sendClosure\n        };\n      }\n      window.PyViz.comms[comm_id] = comm;\n      return comm;\n    }\n    window.PyViz.comm_manager = new JupyterCommManager();\n    \n\n\nvar JS_MIME_TYPE = 'application/javascript';\nvar HTML_MIME_TYPE = 'text/html';\nvar EXEC_MIME_TYPE = 'application/vnd.holoviews_exec.v0+json';\nvar CLASS_NAME = 'output';\n\n/**\n * Render data to the DOM node\n */\nfunction render(props, node) {\n  var div = document.createElement(\"div\");\n  var script = document.createElement(\"script\");\n  node.appendChild(div);\n  node.appendChild(script);\n}\n\n/**\n * Handle when a new output is added\n */\nfunction handle_add_output(event, handle) {\n  var output_area = handle.output_area;\n  var output = handle.output;\n  if ((output.data == undefined) || (!output.data.hasOwnProperty(EXEC_MIME_TYPE))) {\n    return\n  }\n  var id = output.metadata[EXEC_MIME_TYPE][\"id\"];\n  var toinsert = output_area.element.find(\".\" + CLASS_NAME.split(' ')[0]);\n  if (id !== undefined) {\n    var nchildren = toinsert.length;\n    var html_node = toinsert[nchildren-1].children[0];\n    html_node.innerHTML = output.data[HTML_MIME_TYPE];\n    var scripts = [];\n    var nodelist = html_node.querySelectorAll(\"script\");\n    for (var i in nodelist) {\n      if (nodelist.hasOwnProperty(i)) {\n        scripts.push(nodelist[i])\n      }\n    }\n\n    scripts.forEach( function (oldScript) {\n      var newScript = document.createElement(\"script\");\n      var attrs = [];\n      var nodemap = oldScript.attributes;\n      for (var j in nodemap) {\n        if (nodemap.hasOwnProperty(j)) {\n          attrs.push(nodemap[j])\n        }\n      }\n      attrs.forEach(function(attr) { newScript.setAttribute(attr.name, attr.value) });\n      newScript.appendChild(document.createTextNode(oldScript.innerHTML));\n      oldScript.parentNode.replaceChild(newScript, oldScript);\n    });\n    if (JS_MIME_TYPE in output.data) {\n      toinsert[nchildren-1].children[1].textContent = output.data[JS_MIME_TYPE];\n    }\n    output_area._hv_plot_id = id;\n    if ((window.Bokeh !== undefined) && (id in Bokeh.index)) {\n      window.PyViz.plot_index[id] = Bokeh.index[id];\n    } else {\n      window.PyViz.plot_index[id] = null;\n    }\n  } else if (output.metadata[EXEC_MIME_TYPE][\"server_id\"] !== undefined) {\n    var bk_div = document.createElement(\"div\");\n    bk_div.innerHTML = output.data[HTML_MIME_TYPE];\n    var script_attrs = bk_div.children[0].attributes;\n    for (var i = 0; i < script_attrs.length; i++) {\n      toinsert[toinsert.length - 1].childNodes[1].setAttribute(script_attrs[i].name, script_attrs[i].value);\n    }\n    // store reference to server id on output_area\n    output_area._bokeh_server_id = output.metadata[EXEC_MIME_TYPE][\"server_id\"];\n  }\n}\n\n/**\n * Handle when an output is cleared or removed\n */\nfunction handle_clear_output(event, handle) {\n  var id = handle.cell.output_area._hv_plot_id;\n  var server_id = handle.cell.output_area._bokeh_server_id;\n  if (((id === undefined) || !(id in PyViz.plot_index)) && (server_id !== undefined)) { return; }\n  var comm = window.PyViz.comm_manager.get_client_comm(\"hv-extension-comm\", \"hv-extension-comm\", function () {});\n  if (server_id !== null) {\n    comm.send({event_type: 'server_delete', 'id': server_id});\n    return;\n  } else if (comm !== null) {\n    comm.send({event_type: 'delete', 'id': id});\n  }\n  delete PyViz.plot_index[id];\n  if ((window.Bokeh !== undefined) & (id in window.Bokeh.index)) {\n    var doc = window.Bokeh.index[id].model.document\n    doc.clear();\n    const i = window.Bokeh.documents.indexOf(doc);\n    if (i > -1) {\n      window.Bokeh.documents.splice(i, 1);\n    }\n  }\n}\n\n/**\n * Handle kernel restart event\n */\nfunction handle_kernel_cleanup(event, handle) {\n  delete PyViz.comms[\"hv-extension-comm\"];\n  window.PyViz.plot_index = {}\n}\n\n/**\n * Handle update_display_data messages\n */\nfunction handle_update_output(event, handle) {\n  handle_clear_output(event, {cell: {output_area: handle.output_area}})\n  handle_add_output(event, handle)\n}\n\nfunction register_renderer(events, OutputArea) {\n  function append_mime(data, metadata, element) {\n    // create a DOM node to render to\n    var toinsert = this.create_output_subarea(\n    metadata,\n    CLASS_NAME,\n    EXEC_MIME_TYPE\n    );\n    this.keyboard_manager.register_events(toinsert);\n    // Render to node\n    var props = {data: data, metadata: metadata[EXEC_MIME_TYPE]};\n    render(props, toinsert[0]);\n    element.append(toinsert);\n    return toinsert\n  }\n\n  events.on('output_added.OutputArea', handle_add_output);\n  events.on('output_updated.OutputArea', handle_update_output);\n  events.on('clear_output.CodeCell', handle_clear_output);\n  events.on('delete.Cell', handle_clear_output);\n  events.on('kernel_ready.Kernel', handle_kernel_cleanup);\n\n  OutputArea.prototype.register_mime_type(EXEC_MIME_TYPE, append_mime, {\n    safe: true,\n    index: 0\n  });\n}\n\nif (window.Jupyter !== undefined) {\n  try {\n    var events = require('base/js/events');\n    var OutputArea = require('notebook/js/outputarea').OutputArea;\n    if (OutputArea.prototype.mime_types().indexOf(EXEC_MIME_TYPE) == -1) {\n      register_renderer(events, OutputArea);\n    }\n  } catch(err) {\n  }\n}\n",
      "application/vnd.holoviews_load.v0+json": ""
     },
     "metadata": {},
     "output_type": "display_data"
    },
    {
     "data": {
      "text/html": [
       "<style>*[data-root-id],\n",
       "*[data-root-id] > * {\n",
       "  box-sizing: border-box;\n",
       "  font-family: var(--jp-ui-font-family);\n",
       "  font-size: var(--jp-ui-font-size1);\n",
       "  color: var(--vscode-editor-foreground, var(--jp-ui-font-color1));\n",
       "}\n",
       "\n",
       "/* Override VSCode background color */\n",
       ".cell-output-ipywidget-background:has(\n",
       "    > .cell-output-ipywidget-background > .lm-Widget > *[data-root-id]\n",
       "  ),\n",
       ".cell-output-ipywidget-background:has(> .lm-Widget > *[data-root-id]) {\n",
       "  background-color: transparent !important;\n",
       "}\n",
       "</style>"
      ]
     },
     "metadata": {},
     "output_type": "display_data"
    },
    {
     "data": {
      "application/vnd.holoviews_exec.v0+json": "",
      "text/html": [
       "<div id='a3db1d2b-edfe-4b63-ad18-94d2d3b5aae9'>\n",
       "  <div id=\"de10d6e3-200d-4f57-a03b-1cc166fdfea4\" data-root-id=\"a3db1d2b-edfe-4b63-ad18-94d2d3b5aae9\" style=\"display: contents;\"></div>\n",
       "</div>\n",
       "<script type=\"application/javascript\">(function(root) {\n",
       "  var docs_json = {\"524185f9-b6b1-4b0f-81c3-33b80c56f160\":{\"version\":\"3.2.2\",\"title\":\"Bokeh Application\",\"roots\":[{\"type\":\"object\",\"name\":\"panel.models.browser.BrowserInfo\",\"id\":\"a3db1d2b-edfe-4b63-ad18-94d2d3b5aae9\"},{\"type\":\"object\",\"name\":\"panel.models.comm_manager.CommManager\",\"id\":\"d75d15b0-6baa-443b-85b4-0b42969c7b17\",\"attributes\":{\"plot_id\":\"a3db1d2b-edfe-4b63-ad18-94d2d3b5aae9\",\"comm_id\":\"9ab5cdbfd331472aac4b1b97837c77b9\",\"client_comm_id\":\"31f5af32714e4cb2a256afe2106e444a\"}}],\"defs\":[{\"type\":\"model\",\"name\":\"ReactiveHTML1\"},{\"type\":\"model\",\"name\":\"FlexBox1\",\"properties\":[{\"name\":\"align_content\",\"kind\":\"Any\",\"default\":\"flex-start\"},{\"name\":\"align_items\",\"kind\":\"Any\",\"default\":\"flex-start\"},{\"name\":\"flex_direction\",\"kind\":\"Any\",\"default\":\"row\"},{\"name\":\"flex_wrap\",\"kind\":\"Any\",\"default\":\"wrap\"},{\"name\":\"justify_content\",\"kind\":\"Any\",\"default\":\"flex-start\"}]},{\"type\":\"model\",\"name\":\"FloatPanel1\",\"properties\":[{\"name\":\"config\",\"kind\":\"Any\",\"default\":{\"type\":\"map\"}},{\"name\":\"contained\",\"kind\":\"Any\",\"default\":true},{\"name\":\"position\",\"kind\":\"Any\",\"default\":\"right-top\"},{\"name\":\"offsetx\",\"kind\":\"Any\",\"default\":null},{\"name\":\"offsety\",\"kind\":\"Any\",\"default\":null},{\"name\":\"theme\",\"kind\":\"Any\",\"default\":\"primary\"},{\"name\":\"status\",\"kind\":\"Any\",\"default\":\"normalized\"}]},{\"type\":\"model\",\"name\":\"GridStack1\",\"properties\":[{\"name\":\"mode\",\"kind\":\"Any\",\"default\":\"warn\"},{\"name\":\"ncols\",\"kind\":\"Any\",\"default\":null},{\"name\":\"nrows\",\"kind\":\"Any\",\"default\":null},{\"name\":\"allow_resize\",\"kind\":\"Any\",\"default\":true},{\"name\":\"allow_drag\",\"kind\":\"Any\",\"default\":true},{\"name\":\"state\",\"kind\":\"Any\",\"default\":[]}]},{\"type\":\"model\",\"name\":\"drag1\",\"properties\":[{\"name\":\"slider_width\",\"kind\":\"Any\",\"default\":5},{\"name\":\"slider_color\",\"kind\":\"Any\",\"default\":\"black\"},{\"name\":\"value\",\"kind\":\"Any\",\"default\":50}]},{\"type\":\"model\",\"name\":\"click1\",\"properties\":[{\"name\":\"terminal_output\",\"kind\":\"Any\",\"default\":\"\"},{\"name\":\"debug_name\",\"kind\":\"Any\",\"default\":\"\"},{\"name\":\"clears\",\"kind\":\"Any\",\"default\":0}]},{\"type\":\"model\",\"name\":\"FastWrapper1\",\"properties\":[{\"name\":\"object\",\"kind\":\"Any\",\"default\":null},{\"name\":\"style\",\"kind\":\"Any\",\"default\":null}]},{\"type\":\"model\",\"name\":\"NotificationAreaBase1\",\"properties\":[{\"name\":\"js_events\",\"kind\":\"Any\",\"default\":{\"type\":\"map\"}},{\"name\":\"position\",\"kind\":\"Any\",\"default\":\"bottom-right\"},{\"name\":\"_clear\",\"kind\":\"Any\",\"default\":0}]},{\"type\":\"model\",\"name\":\"NotificationArea1\",\"properties\":[{\"name\":\"js_events\",\"kind\":\"Any\",\"default\":{\"type\":\"map\"}},{\"name\":\"notifications\",\"kind\":\"Any\",\"default\":[]},{\"name\":\"position\",\"kind\":\"Any\",\"default\":\"bottom-right\"},{\"name\":\"_clear\",\"kind\":\"Any\",\"default\":0},{\"name\":\"types\",\"kind\":\"Any\",\"default\":[{\"type\":\"map\",\"entries\":[[\"type\",\"warning\"],[\"background\",\"#ffc107\"],[\"icon\",{\"type\":\"map\",\"entries\":[[\"className\",\"fas fa-exclamation-triangle\"],[\"tagName\",\"i\"],[\"color\",\"white\"]]}]]},{\"type\":\"map\",\"entries\":[[\"type\",\"info\"],[\"background\",\"#007bff\"],[\"icon\",{\"type\":\"map\",\"entries\":[[\"className\",\"fas fa-info-circle\"],[\"tagName\",\"i\"],[\"color\",\"white\"]]}]]}]}]},{\"type\":\"model\",\"name\":\"Notification\",\"properties\":[{\"name\":\"background\",\"kind\":\"Any\",\"default\":null},{\"name\":\"duration\",\"kind\":\"Any\",\"default\":3000},{\"name\":\"icon\",\"kind\":\"Any\",\"default\":null},{\"name\":\"message\",\"kind\":\"Any\",\"default\":\"\"},{\"name\":\"notification_type\",\"kind\":\"Any\",\"default\":null},{\"name\":\"_destroyed\",\"kind\":\"Any\",\"default\":false}]},{\"type\":\"model\",\"name\":\"TemplateActions1\",\"properties\":[{\"name\":\"open_modal\",\"kind\":\"Any\",\"default\":0},{\"name\":\"close_modal\",\"kind\":\"Any\",\"default\":0}]},{\"type\":\"model\",\"name\":\"BootstrapTemplateActions1\",\"properties\":[{\"name\":\"open_modal\",\"kind\":\"Any\",\"default\":0},{\"name\":\"close_modal\",\"kind\":\"Any\",\"default\":0}]},{\"type\":\"model\",\"name\":\"MaterialTemplateActions1\",\"properties\":[{\"name\":\"open_modal\",\"kind\":\"Any\",\"default\":0},{\"name\":\"close_modal\",\"kind\":\"Any\",\"default\":0}]}]}};\n",
       "  var render_items = [{\"docid\":\"524185f9-b6b1-4b0f-81c3-33b80c56f160\",\"roots\":{\"a3db1d2b-edfe-4b63-ad18-94d2d3b5aae9\":\"de10d6e3-200d-4f57-a03b-1cc166fdfea4\"},\"root_ids\":[\"a3db1d2b-edfe-4b63-ad18-94d2d3b5aae9\"]}];\n",
       "  var docs = Object.values(docs_json)\n",
       "  if (!docs) {\n",
       "    return\n",
       "  }\n",
       "  const py_version = docs[0].version.replace('rc', '-rc.').replace('.dev', '-dev.')\n",
       "  const is_dev = py_version.indexOf(\"+\") !== -1 || py_version.indexOf(\"-\") !== -1\n",
       "  function embed_document(root) {\n",
       "    var Bokeh = get_bokeh(root)\n",
       "    Bokeh.embed.embed_items_notebook(docs_json, render_items);\n",
       "    for (const render_item of render_items) {\n",
       "      for (const root_id of render_item.root_ids) {\n",
       "\tconst id_el = document.getElementById(root_id)\n",
       "\tif (id_el.children.length && (id_el.children[0].className === 'bk-root')) {\n",
       "\t  const root_el = id_el.children[0]\n",
       "\t  root_el.id = root_el.id + '-rendered'\n",
       "\t}\n",
       "      }\n",
       "    }\n",
       "  }\n",
       "  function get_bokeh(root) {\n",
       "    if (root.Bokeh === undefined) {\n",
       "      return null\n",
       "    } else if (root.Bokeh.version !== py_version && !is_dev) {\n",
       "      if (root.Bokeh.versions === undefined || !root.Bokeh.versions.has(py_version)) {\n",
       "\treturn null\n",
       "      }\n",
       "      return root.Bokeh.versions.get(py_version);\n",
       "    } else if (root.Bokeh.version === py_version) {\n",
       "      return root.Bokeh\n",
       "    }\n",
       "    return null\n",
       "  }\n",
       "  function is_loaded(root) {\n",
       "    var Bokeh = get_bokeh(root)\n",
       "    return (Bokeh != null && Bokeh.Panel !== undefined)\n",
       "  }\n",
       "  if (is_loaded(root)) {\n",
       "    embed_document(root);\n",
       "  } else {\n",
       "    var attempts = 0;\n",
       "    var timer = setInterval(function(root) {\n",
       "      if (is_loaded(root)) {\n",
       "        clearInterval(timer);\n",
       "        embed_document(root);\n",
       "      } else if (document.readyState == \"complete\") {\n",
       "        attempts++;\n",
       "        if (attempts > 200) {\n",
       "          clearInterval(timer);\n",
       "\t  var Bokeh = get_bokeh(root)\n",
       "\t  if (Bokeh == null || Bokeh.Panel == null) {\n",
       "            console.warn(\"Panel: ERROR: Unable to run Panel code because Bokeh or Panel library is missing\");\n",
       "\t  } else {\n",
       "\t    console.warn(\"Panel: WARNING: Attempting to render but not all required libraries could be resolved.\")\n",
       "\t    embed_document(root)\n",
       "\t  }\n",
       "        }\n",
       "      }\n",
       "    }, 25, root)\n",
       "  }\n",
       "})(window);</script>"
      ]
     },
     "metadata": {
      "application/vnd.holoviews_exec.v0+json": {
       "id": "a3db1d2b-edfe-4b63-ad18-94d2d3b5aae9"
      }
     },
     "output_type": "display_data"
    },
    {
     "data": {
      "application/javascript": "(function(root) {\n  function now() {\n    return new Date();\n  }\n\n  var force = true;\n  var py_version = '3.2.2'.replace('rc', '-rc.').replace('.dev', '-dev.');\n  var is_dev = py_version.indexOf(\"+\") !== -1 || py_version.indexOf(\"-\") !== -1;\n  var reloading = true;\n  var Bokeh = root.Bokeh;\n  var bokeh_loaded = Bokeh != null && (Bokeh.version === py_version || (Bokeh.versions !== undefined && Bokeh.versions.has(py_version)));\n\n  if (typeof (root._bokeh_timeout) === \"undefined\" || force) {\n    root._bokeh_timeout = Date.now() + 5000;\n    root._bokeh_failed_load = false;\n  }\n\n  function run_callbacks() {\n    try {\n      root._bokeh_onload_callbacks.forEach(function(callback) {\n        if (callback != null)\n          callback();\n      });\n    } finally {\n      delete root._bokeh_onload_callbacks;\n    }\n    console.debug(\"Bokeh: all callbacks have finished\");\n  }\n\n  function load_libs(css_urls, js_urls, js_modules, js_exports, callback) {\n    if (css_urls == null) css_urls = [];\n    if (js_urls == null) js_urls = [];\n    if (js_modules == null) js_modules = [];\n    if (js_exports == null) js_exports = {};\n\n    root._bokeh_onload_callbacks.push(callback);\n\n    if (root._bokeh_is_loading > 0) {\n      console.debug(\"Bokeh: BokehJS is being loaded, scheduling callback at\", now());\n      return null;\n    }\n    if (js_urls.length === 0 && js_modules.length === 0 && Object.keys(js_exports).length === 0) {\n      run_callbacks();\n      return null;\n    }\n    if (!reloading) {\n      console.debug(\"Bokeh: BokehJS not loaded, scheduling load and callback at\", now());\n    }\n\n    function on_load() {\n      root._bokeh_is_loading--;\n      if (root._bokeh_is_loading === 0) {\n        console.debug(\"Bokeh: all BokehJS libraries/stylesheets loaded\");\n        run_callbacks()\n      }\n    }\n    window._bokeh_on_load = on_load\n\n    function on_error() {\n      console.error(\"failed to load \" + url);\n    }\n\n    var skip = [];\n    if (window.requirejs) {\n      window.requirejs.config({'packages': {}, 'paths': {'tabulator': 'https://cdn.jsdelivr.net/npm/tabulator-tables@5.5.0/dist/js/tabulator', 'moment': 'https://cdn.jsdelivr.net/npm/luxon/build/global/luxon.min', 'jspanel': 'https://cdn.jsdelivr.net/npm/jspanel4@4.12.0/dist/jspanel', 'jspanel-modal': 'https://cdn.jsdelivr.net/npm/jspanel4@4.12.0/dist/extensions/modal/jspanel.modal', 'jspanel-tooltip': 'https://cdn.jsdelivr.net/npm/jspanel4@4.12.0/dist/extensions/tooltip/jspanel.tooltip', 'jspanel-hint': 'https://cdn.jsdelivr.net/npm/jspanel4@4.12.0/dist/extensions/hint/jspanel.hint', 'jspanel-layout': 'https://cdn.jsdelivr.net/npm/jspanel4@4.12.0/dist/extensions/layout/jspanel.layout', 'jspanel-contextmenu': 'https://cdn.jsdelivr.net/npm/jspanel4@4.12.0/dist/extensions/contextmenu/jspanel.contextmenu', 'jspanel-dock': 'https://cdn.jsdelivr.net/npm/jspanel4@4.12.0/dist/extensions/dock/jspanel.dock', 'gridstack': 'https://cdn.jsdelivr.net/npm/gridstack@7.2.3/dist/gridstack-all', 'notyf': 'https://cdn.jsdelivr.net/npm/notyf@3/notyf.min'}, 'shim': {'jspanel': {'exports': 'jsPanel'}, 'gridstack': {'exports': 'GridStack'}}});\n      require([\"tabulator\"], function(Tabulator) {\n\twindow.Tabulator = Tabulator\n\ton_load()\n      })\n      require([\"moment\"], function(moment) {\n\twindow.moment = moment\n\ton_load()\n      })\n      require([\"jspanel\"], function(jsPanel) {\n\twindow.jsPanel = jsPanel\n\ton_load()\n      })\n      require([\"jspanel-modal\"], function() {\n\ton_load()\n      })\n      require([\"jspanel-tooltip\"], function() {\n\ton_load()\n      })\n      require([\"jspanel-hint\"], function() {\n\ton_load()\n      })\n      require([\"jspanel-layout\"], function() {\n\ton_load()\n      })\n      require([\"jspanel-contextmenu\"], function() {\n\ton_load()\n      })\n      require([\"jspanel-dock\"], function() {\n\ton_load()\n      })\n      require([\"gridstack\"], function(GridStack) {\n\twindow.GridStack = GridStack\n\ton_load()\n      })\n      require([\"notyf\"], function() {\n\ton_load()\n      })\n      root._bokeh_is_loading = css_urls.length + 11;\n    } else {\n      root._bokeh_is_loading = css_urls.length + js_urls.length + js_modules.length + Object.keys(js_exports).length;\n    }\n\n    var existing_stylesheets = []\n    var links = document.getElementsByTagName('link')\n    for (var i = 0; i < links.length; i++) {\n      var link = links[i]\n      if (link.href != null) {\n\texisting_stylesheets.push(link.href)\n      }\n    }\n    for (var i = 0; i < css_urls.length; i++) {\n      var url = css_urls[i];\n      if (existing_stylesheets.indexOf(url) !== -1) {\n\ton_load()\n\tcontinue;\n      }\n      const element = document.createElement(\"link\");\n      element.onload = on_load;\n      element.onerror = on_error;\n      element.rel = \"stylesheet\";\n      element.type = \"text/css\";\n      element.href = url;\n      console.debug(\"Bokeh: injecting link tag for BokehJS stylesheet: \", url);\n      document.body.appendChild(element);\n    }    if (((window['Tabulator'] !== undefined) && (!(window['Tabulator'] instanceof HTMLElement))) || window.requirejs) {\n      var urls = ['https://cdn.holoviz.org/panel/1.2.3/dist/bundled/datatabulator/tabulator-tables@5.5.0/dist/js/tabulator.js'];\n      for (var i = 0; i < urls.length; i++) {\n        skip.push(urls[i])\n      }\n    }    if (((window['moment'] !== undefined) && (!(window['moment'] instanceof HTMLElement))) || window.requirejs) {\n      var urls = ['https://cdn.holoviz.org/panel/1.2.3/dist/bundled/datatabulator/luxon/build/global/luxon.min.js'];\n      for (var i = 0; i < urls.length; i++) {\n        skip.push(urls[i])\n      }\n    }    if (((window['jsPanel'] !== undefined) && (!(window['jsPanel'] instanceof HTMLElement))) || window.requirejs) {\n      var urls = ['https://cdn.holoviz.org/panel/1.2.3/dist/bundled/floatpanel/jspanel4@4.12.0/dist/jspanel.js', 'https://cdn.holoviz.org/panel/1.2.3/dist/bundled/floatpanel/jspanel4@4.12.0/dist/extensions/modal/jspanel.modal.js', 'https://cdn.holoviz.org/panel/1.2.3/dist/bundled/floatpanel/jspanel4@4.12.0/dist/extensions/tooltip/jspanel.tooltip.js', 'https://cdn.holoviz.org/panel/1.2.3/dist/bundled/floatpanel/jspanel4@4.12.0/dist/extensions/hint/jspanel.hint.js', 'https://cdn.holoviz.org/panel/1.2.3/dist/bundled/floatpanel/jspanel4@4.12.0/dist/extensions/layout/jspanel.layout.js', 'https://cdn.holoviz.org/panel/1.2.3/dist/bundled/floatpanel/jspanel4@4.12.0/dist/extensions/contextmenu/jspanel.contextmenu.js', 'https://cdn.holoviz.org/panel/1.2.3/dist/bundled/floatpanel/jspanel4@4.12.0/dist/extensions/dock/jspanel.dock.js'];\n      for (var i = 0; i < urls.length; i++) {\n        skip.push(urls[i])\n      }\n    }    if (((window['GridStack'] !== undefined) && (!(window['GridStack'] instanceof HTMLElement))) || window.requirejs) {\n      var urls = ['https://cdn.holoviz.org/panel/1.2.3/dist/bundled/gridstack/gridstack@7.2.3/dist/gridstack-all.js'];\n      for (var i = 0; i < urls.length; i++) {\n        skip.push(urls[i])\n      }\n    }    if (((window['Notyf'] !== undefined) && (!(window['Notyf'] instanceof HTMLElement))) || window.requirejs) {\n      var urls = ['https://cdn.holoviz.org/panel/1.2.3/dist/bundled/notificationarea/notyf@3/notyf.min.js'];\n      for (var i = 0; i < urls.length; i++) {\n        skip.push(urls[i])\n      }\n    }    var existing_scripts = []\n    var scripts = document.getElementsByTagName('script')\n    for (var i = 0; i < scripts.length; i++) {\n      var script = scripts[i]\n      if (script.src != null) {\n\texisting_scripts.push(script.src)\n      }\n    }\n    for (var i = 0; i < js_urls.length; i++) {\n      var url = js_urls[i];\n      if (skip.indexOf(url) !== -1 || existing_scripts.indexOf(url) !== -1) {\n\tif (!window.requirejs) {\n\t  on_load();\n\t}\n\tcontinue;\n      }\n      var element = document.createElement('script');\n      element.onload = on_load;\n      element.onerror = on_error;\n      element.async = false;\n      element.src = url;\n      console.debug(\"Bokeh: injecting script tag for BokehJS library: \", url);\n      document.head.appendChild(element);\n    }\n    for (var i = 0; i < js_modules.length; i++) {\n      var url = js_modules[i];\n      if (skip.indexOf(url) !== -1 || existing_scripts.indexOf(url) !== -1) {\n\tif (!window.requirejs) {\n\t  on_load();\n\t}\n\tcontinue;\n      }\n      var element = document.createElement('script');\n      element.onload = on_load;\n      element.onerror = on_error;\n      element.async = false;\n      element.src = url;\n      element.type = \"module\";\n      console.debug(\"Bokeh: injecting script tag for BokehJS library: \", url);\n      document.head.appendChild(element);\n    }\n    for (const name in js_exports) {\n      var url = js_exports[name];\n      if (skip.indexOf(url) >= 0 || root[name] != null) {\n\tif (!window.requirejs) {\n\t  on_load();\n\t}\n\tcontinue;\n      }\n      var element = document.createElement('script');\n      element.onerror = on_error;\n      element.async = false;\n      element.type = \"module\";\n      console.debug(\"Bokeh: injecting script tag for BokehJS library: \", url);\n      element.textContent = `\n      import ${name} from \"${url}\"\n      window.${name} = ${name}\n      window._bokeh_on_load()\n      `\n      document.head.appendChild(element);\n    }\n    if (!js_urls.length && !js_modules.length) {\n      on_load()\n    }\n  };\n\n  function inject_raw_css(css) {\n    const element = document.createElement(\"style\");\n    element.appendChild(document.createTextNode(css));\n    document.body.appendChild(element);\n  }\n\n  var js_urls = [\"https://cdn.holoviz.org/panel/1.2.3/dist/bundled/datatabulator/tabulator-tables@5.5.0/dist/js/tabulator.js\", \"https://cdn.holoviz.org/panel/1.2.3/dist/bundled/datatabulator/luxon/build/global/luxon.min.js\"];\n  var js_modules = [];\n  var js_exports = {};\n  var css_urls = [\"https://cdn.holoviz.org/panel/1.2.3/dist/bundled/datatabulator/tabulator-tables@5.5.0/dist/css/tabulator_simple.min.css\"];\n  var inline_js = [    function(Bokeh) {\n      inject_raw_css(\".tabulator{position:relative;border:1px solid #999;font-size:14px;text-align:left;overflow:hidden;-webkit-transform:translateZ(0);-moz-transform:translateZ(0);-ms-transform:translateZ(0);-o-transform:translateZ(0);transform:translateZ(0)}.tabulator[tabulator-layout=fitDataFill] .tabulator-tableholder .tabulator-table{min-width:100%}.tabulator[tabulator-layout=fitDataTable]{display:inline-block}.tabulator.tabulator-block-select{user-select:none}.tabulator .tabulator-header{position:relative;box-sizing:border-box;width:100%;border-bottom:1px solid #999;background-color:#fff;color:#555;font-weight:700;white-space:nowrap;overflow:hidden;-moz-user-select:none;-khtml-user-select:none;-webkit-user-select:none;-o-user-select:none}.tabulator .tabulator-header.tabulator-header-hidden{display:none}.tabulator .tabulator-header .tabulator-header-contents{position:relative;overflow:hidden}.tabulator .tabulator-header .tabulator-header-contents .tabulator-headers{display:inline-block}.tabulator .tabulator-header .tabulator-col{display:inline-flex;position:relative;box-sizing:border-box;flex-direction:column;justify-content:flex-start;border-right:1px solid #ddd;background:#fff;text-align:left;vertical-align:bottom;overflow:hidden}.tabulator .tabulator-header .tabulator-col.tabulator-moving{position:absolute;border:1px solid #999;background:#e6e6e6;pointer-events:none}.tabulator .tabulator-header .tabulator-col .tabulator-col-content{box-sizing:border-box;position:relative;padding:4px}.tabulator .tabulator-header .tabulator-col .tabulator-col-content .tabulator-header-popup-button{padding:0 8px}.tabulator .tabulator-header .tabulator-col .tabulator-col-content .tabulator-header-popup-button:hover{cursor:pointer;opacity:.6}.tabulator .tabulator-header .tabulator-col .tabulator-col-content .tabulator-col-title-holder{position:relative}.tabulator .tabulator-header .tabulator-col .tabulator-col-content .tabulator-col-title{box-sizing:border-box;width:100%;white-space:nowrap;overflow:hidden;text-overflow:ellipsis;vertical-align:bottom}.tabulator .tabulator-header .tabulator-col .tabulator-col-content .tabulator-col-title.tabulator-col-title-wrap{white-space:normal;text-overflow:clip}.tabulator .tabulator-header .tabulator-col .tabulator-col-content .tabulator-col-title .tabulator-title-editor{box-sizing:border-box;width:100%;border:1px solid #999;padding:1px;background:#fff}.tabulator .tabulator-header .tabulator-col .tabulator-col-content .tabulator-col-title .tabulator-header-popup-button+.tabulator-title-editor{width:calc(100% - 22px)}.tabulator .tabulator-header .tabulator-col .tabulator-col-content .tabulator-col-sorter{display:flex;align-items:center;position:absolute;top:0;bottom:0;right:4px}.tabulator .tabulator-header .tabulator-col .tabulator-col-content .tabulator-col-sorter .tabulator-arrow{width:0;height:0;border-left:6px solid transparent;border-right:6px solid transparent;border-bottom:6px solid #bbb}.tabulator .tabulator-header .tabulator-col.tabulator-col-group .tabulator-col-group-cols{position:relative;display:flex;border-top:1px solid #ddd;overflow:hidden;margin-right:-1px}.tabulator .tabulator-header .tabulator-col .tabulator-header-filter{position:relative;box-sizing:border-box;margin-top:2px;width:100%;text-align:center}.tabulator .tabulator-header .tabulator-col .tabulator-header-filter textarea{height:auto!important}.tabulator .tabulator-header .tabulator-col .tabulator-header-filter svg{margin-top:3px}.tabulator .tabulator-header .tabulator-col .tabulator-header-filter input::-ms-clear{width:0;height:0}.tabulator .tabulator-header .tabulator-col.tabulator-sortable .tabulator-col-title{padding-right:25px}@media (hover:hover) and (pointer:fine){.tabulator .tabulator-header .tabulator-col.tabulator-sortable.tabulator-col-sorter-element:hover{cursor:pointer;background-color:#e6e6e6}}.tabulator .tabulator-header .tabulator-col.tabulator-sortable[aria-sort=none] .tabulator-col-content .tabulator-col-sorter{color:#bbb}@media (hover:hover) and (pointer:fine){.tabulator .tabulator-header .tabulator-col.tabulator-sortable[aria-sort=none] .tabulator-col-content .tabulator-col-sorter.tabulator-col-sorter-element .tabulator-arrow:hover{cursor:pointer;border-bottom:6px solid #555}}.tabulator .tabulator-header .tabulator-col.tabulator-sortable[aria-sort=none] .tabulator-col-content .tabulator-col-sorter .tabulator-arrow{border-top:none;border-bottom:6px solid #bbb}.tabulator .tabulator-header .tabulator-col.tabulator-sortable[aria-sort=ascending] .tabulator-col-content .tabulator-col-sorter{color:#666}@media (hover:hover) and (pointer:fine){.tabulator .tabulator-header .tabulator-col.tabulator-sortable[aria-sort=ascending] .tabulator-col-content .tabulator-col-sorter.tabulator-col-sorter-element .tabulator-arrow:hover{cursor:pointer;border-bottom:6px solid #555}}.tabulator .tabulator-header .tabulator-col.tabulator-sortable[aria-sort=ascending] .tabulator-col-content .tabulator-col-sorter .tabulator-arrow{border-top:none;border-bottom:6px solid #666}.tabulator .tabulator-header .tabulator-col.tabulator-sortable[aria-sort=descending] .tabulator-col-content .tabulator-col-sorter{color:#666}@media (hover:hover) and (pointer:fine){.tabulator .tabulator-header .tabulator-col.tabulator-sortable[aria-sort=descending] .tabulator-col-content .tabulator-col-sorter.tabulator-col-sorter-element .tabulator-arrow:hover{cursor:pointer;border-top:6px solid #555}}.tabulator .tabulator-header .tabulator-col.tabulator-sortable[aria-sort=descending] .tabulator-col-content .tabulator-col-sorter .tabulator-arrow{border-bottom:none;border-top:6px solid #666;color:#666}.tabulator .tabulator-header .tabulator-col.tabulator-col-vertical .tabulator-col-content .tabulator-col-title{writing-mode:vertical-rl;text-orientation:mixed;display:flex;align-items:center;justify-content:center}.tabulator .tabulator-header .tabulator-col.tabulator-col-vertical.tabulator-col-vertical-flip .tabulator-col-title{transform:rotate(180deg)}.tabulator .tabulator-header .tabulator-col.tabulator-col-vertical.tabulator-sortable .tabulator-col-title{padding-right:0;padding-top:20px}.tabulator .tabulator-header .tabulator-col.tabulator-col-vertical.tabulator-sortable.tabulator-col-vertical-flip .tabulator-col-title{padding-right:0;padding-bottom:20px}.tabulator .tabulator-header .tabulator-col.tabulator-col-vertical.tabulator-sortable .tabulator-col-sorter{justify-content:center;left:0;right:0;top:4px;bottom:auto}.tabulator .tabulator-header .tabulator-frozen{position:sticky;left:0;z-index:10}.tabulator .tabulator-header .tabulator-frozen.tabulator-frozen-left{border-right:2px solid #ddd}.tabulator .tabulator-header .tabulator-frozen.tabulator-frozen-right{border-left:2px solid #ddd}.tabulator .tabulator-header .tabulator-calcs-holder{box-sizing:border-box;background:#fff!important;border-top:1px solid #ddd;border-bottom:1px solid #ddd}.tabulator .tabulator-header .tabulator-calcs-holder .tabulator-row{background:#fff!important}.tabulator .tabulator-header .tabulator-calcs-holder .tabulator-row .tabulator-col-resize-handle,.tabulator .tabulator-header .tabulator-frozen-rows-holder:empty{display:none}.tabulator .tabulator-tableholder{position:relative;width:100%;white-space:nowrap;overflow:auto;-webkit-overflow-scrolling:touch}.tabulator .tabulator-tableholder:focus{outline:none}.tabulator .tabulator-tableholder .tabulator-placeholder{box-sizing:border-box;display:flex;align-items:center;justify-content:center;width:100%}.tabulator .tabulator-tableholder .tabulator-placeholder[tabulator-render-mode=virtual]{min-height:100%;min-width:100%}.tabulator .tabulator-tableholder .tabulator-placeholder .tabulator-placeholder-contents{display:inline-block;text-align:center;padding:10px;color:#ccc;font-weight:700;font-size:20px;white-space:normal}.tabulator .tabulator-tableholder .tabulator-table{position:relative;display:inline-block;background-color:#fff;white-space:nowrap;overflow:visible;color:#333}.tabulator .tabulator-tableholder .tabulator-table .tabulator-row.tabulator-calcs{font-weight:700;background:#f2f2f2!important}.tabulator .tabulator-tableholder .tabulator-table .tabulator-row.tabulator-calcs.tabulator-calcs-top{border-bottom:2px solid #ddd}.tabulator .tabulator-tableholder .tabulator-table .tabulator-row.tabulator-calcs.tabulator-calcs-bottom{border-top:2px solid #ddd}.tabulator .tabulator-footer{border-top:1px solid #999;background-color:#fff;color:#555;font-weight:700;white-space:nowrap;user-select:none;-moz-user-select:none;-khtml-user-select:none;-webkit-user-select:none;-o-user-select:none}.tabulator .tabulator-footer .tabulator-footer-contents{display:flex;flex-direction:row;align-items:center;justify-content:space-between;padding:5px 10px}.tabulator .tabulator-footer .tabulator-footer-contents:empty{display:none}.tabulator .tabulator-footer .tabulator-calcs-holder{box-sizing:border-box;width:100%;text-align:left;background:#fff!important;border-bottom:1px solid #ddd;border-top:1px solid #ddd;overflow:hidden}.tabulator .tabulator-footer .tabulator-calcs-holder .tabulator-row{display:inline-block;background:#fff!important}.tabulator .tabulator-footer .tabulator-calcs-holder .tabulator-row .tabulator-col-resize-handle{display:none}.tabulator .tabulator-footer .tabulator-calcs-holder:only-child{margin-bottom:-5px;border-bottom:none}.tabulator .tabulator-footer>*+.tabulator-page-counter{margin-left:10px}.tabulator .tabulator-footer .tabulator-page-counter{font-weight:400}.tabulator .tabulator-footer .tabulator-paginator{flex:1;text-align:right;color:#555;font-family:inherit;font-weight:inherit;font-size:inherit}.tabulator .tabulator-footer .tabulator-page-size{display:inline-block;margin:0 5px;padding:2px 5px;border:1px solid #aaa;border-radius:3px}.tabulator .tabulator-footer .tabulator-pages{margin:0 7px}.tabulator .tabulator-footer .tabulator-page{display:inline-block;margin:0 2px;padding:2px 5px;border:1px solid #aaa;border-radius:3px;background:hsla(0,0%,100%,.2)}.tabulator .tabulator-footer .tabulator-page.active{color:#d00}.tabulator .tabulator-footer .tabulator-page:disabled{opacity:.5}@media (hover:hover) and (pointer:fine){.tabulator .tabulator-footer .tabulator-page:not(.disabled):hover{cursor:pointer;background:rgba(0,0,0,.2);color:#fff}}.tabulator .tabulator-col-resize-handle{position:relative;display:inline-block;width:6px;margin-left:-3px;margin-right:-3px;z-index:10;vertical-align:middle}@media (hover:hover) and (pointer:fine){.tabulator .tabulator-col-resize-handle:hover{cursor:ew-resize}}.tabulator .tabulator-col-resize-handle:last-of-type{width:3px;margin-right:0}.tabulator .tabulator-alert{position:absolute;display:flex;align-items:center;top:0;left:0;z-index:100;height:100%;width:100%;background:rgba(0,0,0,.4);text-align:center}.tabulator .tabulator-alert .tabulator-alert-msg{display:inline-block;margin:0 auto;padding:10px 20px;border-radius:10px;background:#fff;font-weight:700;font-size:16px}.tabulator .tabulator-alert .tabulator-alert-msg.tabulator-alert-state-msg{border:4px solid #333;color:#000}.tabulator .tabulator-alert .tabulator-alert-msg.tabulator-alert-state-error{border:4px solid #d00;color:#590000}.tabulator-row{position:relative;box-sizing:border-box;min-height:22px}.tabulator-row,.tabulator-row.tabulator-row-even{background-color:#fff}@media (hover:hover) and (pointer:fine){.tabulator-row.tabulator-selectable:hover{background-color:#bbb;cursor:pointer}}.tabulator-row.tabulator-selected{background-color:#9abcea}@media (hover:hover) and (pointer:fine){.tabulator-row.tabulator-selected:hover{background-color:#769bcc;cursor:pointer}}.tabulator-row.tabulator-row-moving{border:1px solid #000;background:#fff}.tabulator-row.tabulator-moving{position:absolute;border-top:1px solid #ddd;border-bottom:1px solid #ddd;pointer-events:none;z-index:15}.tabulator-row .tabulator-row-resize-handle{position:absolute;right:0;bottom:0;left:0;height:5px}.tabulator-row .tabulator-row-resize-handle.prev{top:0;bottom:auto}@media (hover:hover) and (pointer:fine){.tabulator-row .tabulator-row-resize-handle:hover{cursor:ns-resize}}.tabulator-row .tabulator-responsive-collapse{box-sizing:border-box;padding:5px;border-top:1px solid #ddd;border-bottom:1px solid #ddd}.tabulator-row .tabulator-responsive-collapse:empty{display:none}.tabulator-row .tabulator-responsive-collapse table{font-size:14px}.tabulator-row .tabulator-responsive-collapse table tr td{position:relative}.tabulator-row .tabulator-responsive-collapse table tr td:first-of-type{padding-right:10px}.tabulator-row .tabulator-cell{display:inline-block;position:relative;box-sizing:border-box;padding:4px;border-right:1px solid #ddd;vertical-align:middle;white-space:nowrap;overflow:hidden;text-overflow:ellipsis}.tabulator-row .tabulator-cell.tabulator-frozen{display:inline-block;position:sticky;left:0;background-color:inherit;z-index:10}.tabulator-row .tabulator-cell.tabulator-frozen.tabulator-frozen-left{border-right:2px solid #ddd}.tabulator-row .tabulator-cell.tabulator-frozen.tabulator-frozen-right{border-left:2px solid #ddd}.tabulator-row .tabulator-cell.tabulator-editing{border:1px solid #1d68cd;outline:none;padding:0}.tabulator-row .tabulator-cell.tabulator-editing input,.tabulator-row .tabulator-cell.tabulator-editing select{border:1px;background:transparent;outline:none}.tabulator-row .tabulator-cell.tabulator-validation-fail{border:1px solid #d00}.tabulator-row .tabulator-cell.tabulator-validation-fail input,.tabulator-row .tabulator-cell.tabulator-validation-fail select{border:1px;background:transparent;color:#d00}.tabulator-row .tabulator-cell.tabulator-row-handle{display:inline-flex;align-items:center;justify-content:center;-moz-user-select:none;-khtml-user-select:none;-webkit-user-select:none;-o-user-select:none}.tabulator-row .tabulator-cell.tabulator-row-handle .tabulator-row-handle-box{width:80%}.tabulator-row .tabulator-cell.tabulator-row-handle .tabulator-row-handle-box .tabulator-row-handle-bar{width:100%;height:3px;margin-top:2px;background:#666}.tabulator-row .tabulator-cell .tabulator-data-tree-branch{display:inline-block;vertical-align:middle;height:9px;width:7px;margin-top:-9px;margin-right:5px;border-bottom-left-radius:1px;border-left:2px solid #ddd;border-bottom:2px solid #ddd}.tabulator-row .tabulator-cell .tabulator-data-tree-control{display:inline-flex;justify-content:center;align-items:center;vertical-align:middle;height:11px;width:11px;margin-right:5px;border:1px solid #333;border-radius:2px;background:rgba(0,0,0,.1);overflow:hidden}@media (hover:hover) and (pointer:fine){.tabulator-row .tabulator-cell .tabulator-data-tree-control:hover{cursor:pointer;background:rgba(0,0,0,.2)}}.tabulator-row .tabulator-cell .tabulator-data-tree-control .tabulator-data-tree-control-collapse{display:inline-block;position:relative;height:7px;width:1px;background:transparent}.tabulator-row .tabulator-cell .tabulator-data-tree-control .tabulator-data-tree-control-collapse:after{position:absolute;content:\\\"\\\";left:-3px;top:3px;height:1px;width:7px;background:#333}.tabulator-row .tabulator-cell .tabulator-data-tree-control .tabulator-data-tree-control-expand{display:inline-block;position:relative;height:7px;width:1px;background:#333}.tabulator-row .tabulator-cell .tabulator-data-tree-control .tabulator-data-tree-control-expand:after{position:absolute;content:\\\"\\\";left:-3px;top:3px;height:1px;width:7px;background:#333}.tabulator-row .tabulator-cell .tabulator-responsive-collapse-toggle{display:inline-flex;align-items:center;justify-content:center;-moz-user-select:none;-khtml-user-select:none;-webkit-user-select:none;-o-user-select:none;height:15px;width:15px;border-radius:20px;background:#666;color:#fff;font-weight:700;font-size:1.1em}@media (hover:hover) and (pointer:fine){.tabulator-row .tabulator-cell .tabulator-responsive-collapse-toggle:hover{opacity:.7;cursor:pointer}}.tabulator-row .tabulator-cell .tabulator-responsive-collapse-toggle.open .tabulator-responsive-collapse-toggle-close{display:initial}.tabulator-row .tabulator-cell .tabulator-responsive-collapse-toggle.open .tabulator-responsive-collapse-toggle-open{display:none}.tabulator-row .tabulator-cell .tabulator-responsive-collapse-toggle svg{stroke:#fff}.tabulator-row .tabulator-cell .tabulator-responsive-collapse-toggle .tabulator-responsive-collapse-toggle-close{display:none}.tabulator-row .tabulator-cell .tabulator-traffic-light{display:inline-block;height:14px;width:14px;border-radius:14px}.tabulator-row.tabulator-group{box-sizing:border-box;border-bottom:1px solid #999;border-right:1px solid #ddd;border-top:1px solid #999;padding:5px 5px 5px 10px;background:#ccc;font-weight:700;min-width:100%}@media (hover:hover) and (pointer:fine){.tabulator-row.tabulator-group:hover{cursor:pointer;background-color:rgba(0,0,0,.1)}}.tabulator-row.tabulator-group.tabulator-group-visible .tabulator-arrow{margin-right:10px;border-left:6px solid transparent;border-right:6px solid transparent;border-top:6px solid #666;border-bottom:0}.tabulator-row.tabulator-group.tabulator-group-level-1{padding-left:30px}.tabulator-row.tabulator-group.tabulator-group-level-2{padding-left:50px}.tabulator-row.tabulator-group.tabulator-group-level-3{padding-left:70px}.tabulator-row.tabulator-group.tabulator-group-level-4{padding-left:90px}.tabulator-row.tabulator-group.tabulator-group-level-5{padding-left:110px}.tabulator-row.tabulator-group .tabulator-group-toggle{display:inline-block}.tabulator-row.tabulator-group .tabulator-arrow{display:inline-block;width:0;height:0;margin-right:16px;border-top:6px solid transparent;border-bottom:6px solid transparent;border-right:0;border-left:6px solid #666;vertical-align:middle}.tabulator-row.tabulator-group span{margin-left:10px;color:#d00}.tabulator-popup-container{position:absolute;display:inline-block;box-sizing:border-box;background:#fff;border:1px solid #ddd;box-shadow:0 0 5px 0 rgba(0,0,0,.2);font-size:14px;overflow-y:auto;-webkit-overflow-scrolling:touch;z-index:10000}.tabulator-popup{padding:5px;border-radius:3px}.tabulator-tooltip{max-width:Min(500px,100%);padding:3px 5px;border-radius:2px;box-shadow:none;font-size:12px;pointer-events:none}.tabulator-menu .tabulator-menu-item{position:relative;box-sizing:border-box;padding:5px 10px;user-select:none}.tabulator-menu .tabulator-menu-item.tabulator-menu-item-disabled{opacity:.5}@media (hover:hover) and (pointer:fine){.tabulator-menu .tabulator-menu-item:not(.tabulator-menu-item-disabled):hover{cursor:pointer;background:#fff}}.tabulator-menu .tabulator-menu-item.tabulator-menu-item-submenu{padding-right:25px}.tabulator-menu .tabulator-menu-item.tabulator-menu-item-submenu:after{display:inline-block;position:absolute;top:calc(5px + .4em);right:10px;height:7px;width:7px;content:\\\"\\\";border-color:#ddd;border-style:solid;border-width:1px 1px 0 0;vertical-align:top;transform:rotate(45deg)}.tabulator-menu .tabulator-menu-separator{border-top:1px solid #ddd}.tabulator-edit-list{max-height:200px;font-size:14px;overflow-y:auto;-webkit-overflow-scrolling:touch}.tabulator-edit-list .tabulator-edit-list-item{padding:4px;color:#333;outline:none}.tabulator-edit-list .tabulator-edit-list-item.active{color:#fff;background:#1d68cd}.tabulator-edit-list .tabulator-edit-list-item.active.focused{outline:1px solid hsla(0,0%,100%,.5)}.tabulator-edit-list .tabulator-edit-list-item.focused{outline:1px solid #1d68cd}@media (hover:hover) and (pointer:fine){.tabulator-edit-list .tabulator-edit-list-item:hover{cursor:pointer;color:#fff;background:#1d68cd}}.tabulator-edit-list .tabulator-edit-list-placeholder{padding:4px;color:#333;text-align:center}.tabulator-edit-list .tabulator-edit-list-group{border-bottom:1px solid #ddd;padding:6px 4px 4px;color:#333;font-weight:700}.tabulator-edit-list .tabulator-edit-list-group.tabulator-edit-list-group-level-2,.tabulator-edit-list .tabulator-edit-list-item.tabulator-edit-list-group-level-2{padding-left:12px}.tabulator-edit-list .tabulator-edit-list-group.tabulator-edit-list-group-level-3,.tabulator-edit-list .tabulator-edit-list-item.tabulator-edit-list-group-level-3{padding-left:20px}.tabulator-edit-list .tabulator-edit-list-group.tabulator-edit-list-group-level-4,.tabulator-edit-list .tabulator-edit-list-item.tabulator-edit-list-group-level-4{padding-left:28px}.tabulator-edit-list .tabulator-edit-list-group.tabulator-edit-list-group-level-5,.tabulator-edit-list .tabulator-edit-list-item.tabulator-edit-list-group-level-5{padding-left:36px}.tabulator.tabulator-ltr{direction:ltr}.tabulator.tabulator-rtl{text-align:initial;direction:rtl}.tabulator.tabulator-rtl .tabulator-header .tabulator-col{text-align:initial;border-left:1px solid #ddd;border-right:initial}.tabulator.tabulator-rtl .tabulator-header .tabulator-col.tabulator-col-group .tabulator-col-group-cols{margin-right:0;margin-left:-1px}.tabulator.tabulator-rtl .tabulator-header .tabulator-col.tabulator-sortable .tabulator-col-title{padding-right:0;padding-left:25px}.tabulator.tabulator-rtl .tabulator-header .tabulator-col .tabulator-col-content .tabulator-col-sorter{left:8px;right:auto}.tabulator.tabulator-rtl .tabulator-row .tabulator-cell{border-right:initial;border-left:1px solid #ddd}.tabulator.tabulator-rtl .tabulator-row .tabulator-cell .tabulator-data-tree-branch{margin-right:0;margin-left:5px;border-bottom-left-radius:0;border-bottom-right-radius:1px;border-left:initial;border-right:2px solid #ddd}.tabulator.tabulator-rtl .tabulator-row .tabulator-cell .tabulator-data-tree-control{margin-right:0;margin-left:5px}.tabulator.tabulator-rtl .tabulator-row .tabulator-cell.tabulator-frozen.tabulator-frozen-left{border-left:2px solid #ddd}.tabulator.tabulator-rtl .tabulator-row .tabulator-cell.tabulator-frozen.tabulator-frozen-right{border-right:2px solid #ddd}.tabulator.tabulator-rtl .tabulator-row .tabulator-col-resize-handle:last-of-type{width:3px;margin-left:0;margin-right:-3px}.tabulator.tabulator-rtl .tabulator-footer .tabulator-calcs-holder{text-align:initial}.tabulator-print-fullscreen{position:absolute;top:0;bottom:0;left:0;right:0;z-index:10000}body.tabulator-print-fullscreen-hide>:not(.tabulator-print-fullscreen){display:none!important}.tabulator-print-table{border-collapse:collapse}.tabulator-print-table .tabulator-data-tree-branch{display:inline-block;vertical-align:middle;height:9px;width:7px;margin-top:-9px;margin-right:5px;border-bottom-left-radius:1px;border-left:2px solid #ddd;border-bottom:2px solid #ddd}.tabulator-print-table .tabulator-print-table-group{box-sizing:border-box;border-bottom:1px solid #999;border-right:1px solid #ddd;border-top:1px solid #999;padding:5px 5px 5px 10px;background:#ccc;font-weight:700;min-width:100%}@media (hover:hover) and (pointer:fine){.tabulator-print-table .tabulator-print-table-group:hover{cursor:pointer;background-color:rgba(0,0,0,.1)}}.tabulator-print-table .tabulator-print-table-group.tabulator-group-visible .tabulator-arrow{margin-right:10px;border-left:6px solid transparent;border-right:6px solid transparent;border-top:6px solid #666;border-bottom:0}.tabulator-print-table .tabulator-print-table-group.tabulator-group-level-1 td{padding-left:30px!important}.tabulator-print-table .tabulator-print-table-group.tabulator-group-level-2 td{padding-left:50px!important}.tabulator-print-table .tabulator-print-table-group.tabulator-group-level-3 td{padding-left:70px!important}.tabulator-print-table .tabulator-print-table-group.tabulator-group-level-4 td{padding-left:90px!important}.tabulator-print-table .tabulator-print-table-group.tabulator-group-level-5 td{padding-left:110px!important}.tabulator-print-table .tabulator-print-table-group .tabulator-group-toggle{display:inline-block}.tabulator-print-table .tabulator-print-table-group .tabulator-arrow{display:inline-block;width:0;height:0;margin-right:16px;border-top:6px solid transparent;border-bottom:6px solid transparent;border-right:0;border-left:6px solid #666;vertical-align:middle}.tabulator-print-table .tabulator-print-table-group span{color:#d00}.tabulator-print-table .tabulator-data-tree-control{display:inline-flex;justify-content:center;align-items:center;vertical-align:middle;height:11px;width:11px;margin-right:5px;border:1px solid #333;border-radius:2px;background:rgba(0,0,0,.1);overflow:hidden}@media (hover:hover) and (pointer:fine){.tabulator-print-table .tabulator-data-tree-control:hover{cursor:pointer;background:rgba(0,0,0,.2)}}.tabulator-print-table .tabulator-data-tree-control .tabulator-data-tree-control-collapse{display:inline-block;position:relative;height:7px;width:1px;background:transparent}.tabulator-print-table .tabulator-data-tree-control .tabulator-data-tree-control-collapse:after{position:absolute;content:\\\"\\\";left:-3px;top:3px;height:1px;width:7px;background:#333}.tabulator-print-table .tabulator-data-tree-control .tabulator-data-tree-control-expand{display:inline-block;position:relative;height:7px;width:1px;background:#333}.tabulator-print-table .tabulator-data-tree-control .tabulator-data-tree-control-expand:after{position:absolute;content:\\\"\\\";left:-3px;top:3px;height:1px;width:7px;background:#333}.tabulator{border:none;background-color:#fff}.tabulator .tabulator-header .tabulator-calcs-holder{background:#f2f2f2!important;border-bottom:1px solid #999}.tabulator .tabulator-header .tabulator-calcs-holder .tabulator-row{background:#f2f2f2!important}.tabulator .tabulator-tableholder .tabulator-placeholder span{color:#000}.tabulator .tabulator-footer .tabulator-calcs-holder{background:#f2f2f2!important;border-bottom:1px solid #fff}.tabulator .tabulator-footer .tabulator-calcs-holder .tabulator-row{background:#f2f2f2!important}.tabulator-row{border-bottom:1px solid #ddd}.tabulator-row .tabulator-cell:last-of-type{border-right:none}.tabulator-row.tabulator-group span{color:#666}.tabulator-print-table .tabulator-print-table-group span{margin-left:10px;color:#666}\\n/*# sourceMappingURL=tabulator_simple.min.css.map */\");\n    },    function(Bokeh) {\n      Bokeh.set_log_level(\"info\");\n    },\nfunction(Bokeh) {} // ensure no trailing comma for IE\n  ];\n\n  function run_inline_js() {\n    if ((root.Bokeh !== undefined) || (force === true)) {\n      for (var i = 0; i < inline_js.length; i++) {\n        inline_js[i].call(root, root.Bokeh);\n      }\n      // Cache old bokeh versions\n      if (Bokeh != undefined && !reloading) {\n\tvar NewBokeh = root.Bokeh;\n\tif (Bokeh.versions === undefined) {\n\t  Bokeh.versions = new Map();\n\t}\n\tif (NewBokeh.version !== Bokeh.version) {\n\t  Bokeh.versions.set(NewBokeh.version, NewBokeh)\n\t}\n\troot.Bokeh = Bokeh;\n      }} else if (Date.now() < root._bokeh_timeout) {\n      setTimeout(run_inline_js, 100);\n    } else if (!root._bokeh_failed_load) {\n      console.log(\"Bokeh: BokehJS failed to load within specified timeout.\");\n      root._bokeh_failed_load = true;\n    }\n    root._bokeh_is_initializing = false\n  }\n\n  function load_or_wait() {\n    // Implement a backoff loop that tries to ensure we do not load multiple\n    // versions of Bokeh and its dependencies at the same time.\n    // In recent versions we use the root._bokeh_is_initializing flag\n    // to determine whether there is an ongoing attempt to initialize\n    // bokeh, however for backward compatibility we also try to ensure\n    // that we do not start loading a newer (Panel>=1.0 and Bokeh>3) version\n    // before older versions are fully initialized.\n    if (root._bokeh_is_initializing && Date.now() > root._bokeh_timeout) {\n      root._bokeh_is_initializing = false;\n      root._bokeh_onload_callbacks = undefined;\n      console.log(\"Bokeh: BokehJS was loaded multiple times but one version failed to initialize.\");\n      load_or_wait();\n    } else if (root._bokeh_is_initializing || (typeof root._bokeh_is_initializing === \"undefined\" && root._bokeh_onload_callbacks !== undefined)) {\n      setTimeout(load_or_wait, 100);\n    } else {\n      Bokeh = root.Bokeh;\n      bokeh_loaded = Bokeh != null && (Bokeh.version === py_version || (Bokeh.versions !== undefined && Bokeh.versions.has(py_version)));\n      root._bokeh_is_initializing = true\n      root._bokeh_onload_callbacks = []\n      if (!reloading && (!bokeh_loaded || is_dev)) {\n\troot.Bokeh = undefined;\n      }\n      load_libs(css_urls, js_urls, js_modules, js_exports, function() {\n\tconsole.debug(\"Bokeh: BokehJS plotting callback run at\", now());\n\trun_inline_js();\n      });\n    }\n  }\n  // Give older versions of the autoload script a head-start to ensure\n  // they initialize before we start loading newer version.\n  setTimeout(load_or_wait, 100)\n}(window));",
      "application/vnd.holoviews_load.v0+json": ""
     },
     "metadata": {},
     "output_type": "display_data"
    },
    {
     "data": {
      "application/javascript": "\nif ((window.PyViz === undefined) || (window.PyViz instanceof HTMLElement)) {\n  window.PyViz = {comms: {}, comm_status:{}, kernels:{}, receivers: {}, plot_index: []}\n}\n\n\n    function JupyterCommManager() {\n    }\n\n    JupyterCommManager.prototype.register_target = function(plot_id, comm_id, msg_handler) {\n      if (window.comm_manager || ((window.Jupyter !== undefined) && (Jupyter.notebook.kernel != null))) {\n        var comm_manager = window.comm_manager || Jupyter.notebook.kernel.comm_manager;\n        comm_manager.register_target(comm_id, function(comm) {\n          comm.on_msg(msg_handler);\n        });\n      } else if ((plot_id in window.PyViz.kernels) && (window.PyViz.kernels[plot_id])) {\n        window.PyViz.kernels[plot_id].registerCommTarget(comm_id, function(comm) {\n          comm.onMsg = msg_handler;\n        });\n      } else if (typeof google != 'undefined' && google.colab.kernel != null) {\n        google.colab.kernel.comms.registerTarget(comm_id, (comm) => {\n          var messages = comm.messages[Symbol.asyncIterator]();\n          function processIteratorResult(result) {\n            var message = result.value;\n            console.log(message)\n            var content = {data: message.data, comm_id};\n            var buffers = []\n            for (var buffer of message.buffers || []) {\n              buffers.push(new DataView(buffer))\n            }\n            var metadata = message.metadata || {};\n            var msg = {content, buffers, metadata}\n            msg_handler(msg);\n            return messages.next().then(processIteratorResult);\n          }\n          return messages.next().then(processIteratorResult);\n        })\n      }\n    }\n\n    JupyterCommManager.prototype.get_client_comm = function(plot_id, comm_id, msg_handler) {\n      if (comm_id in window.PyViz.comms) {\n        return window.PyViz.comms[comm_id];\n      } else if (window.comm_manager || ((window.Jupyter !== undefined) && (Jupyter.notebook.kernel != null))) {\n        var comm_manager = window.comm_manager || Jupyter.notebook.kernel.comm_manager;\n        var comm = comm_manager.new_comm(comm_id, {}, {}, {}, comm_id);\n        if (msg_handler) {\n          comm.on_msg(msg_handler);\n        }\n      } else if ((plot_id in window.PyViz.kernels) && (window.PyViz.kernels[plot_id])) {\n        var comm = window.PyViz.kernels[plot_id].connectToComm(comm_id);\n        comm.open();\n        if (msg_handler) {\n          comm.onMsg = msg_handler;\n        }\n      } else if (typeof google != 'undefined' && google.colab.kernel != null) {\n        var comm_promise = google.colab.kernel.comms.open(comm_id)\n        comm_promise.then((comm) => {\n          window.PyViz.comms[comm_id] = comm;\n          if (msg_handler) {\n            var messages = comm.messages[Symbol.asyncIterator]();\n            function processIteratorResult(result) {\n              var message = result.value;\n              var content = {data: message.data};\n              var metadata = message.metadata || {comm_id};\n              var msg = {content, metadata}\n              msg_handler(msg);\n              return messages.next().then(processIteratorResult);\n            }\n            return messages.next().then(processIteratorResult);\n          }\n        }) \n        var sendClosure = (data, metadata, buffers, disposeOnDone) => {\n          return comm_promise.then((comm) => {\n            comm.send(data, metadata, buffers, disposeOnDone);\n          });\n        };\n        var comm = {\n          send: sendClosure\n        };\n      }\n      window.PyViz.comms[comm_id] = comm;\n      return comm;\n    }\n    window.PyViz.comm_manager = new JupyterCommManager();\n    \n\n\nvar JS_MIME_TYPE = 'application/javascript';\nvar HTML_MIME_TYPE = 'text/html';\nvar EXEC_MIME_TYPE = 'application/vnd.holoviews_exec.v0+json';\nvar CLASS_NAME = 'output';\n\n/**\n * Render data to the DOM node\n */\nfunction render(props, node) {\n  var div = document.createElement(\"div\");\n  var script = document.createElement(\"script\");\n  node.appendChild(div);\n  node.appendChild(script);\n}\n\n/**\n * Handle when a new output is added\n */\nfunction handle_add_output(event, handle) {\n  var output_area = handle.output_area;\n  var output = handle.output;\n  if ((output.data == undefined) || (!output.data.hasOwnProperty(EXEC_MIME_TYPE))) {\n    return\n  }\n  var id = output.metadata[EXEC_MIME_TYPE][\"id\"];\n  var toinsert = output_area.element.find(\".\" + CLASS_NAME.split(' ')[0]);\n  if (id !== undefined) {\n    var nchildren = toinsert.length;\n    var html_node = toinsert[nchildren-1].children[0];\n    html_node.innerHTML = output.data[HTML_MIME_TYPE];\n    var scripts = [];\n    var nodelist = html_node.querySelectorAll(\"script\");\n    for (var i in nodelist) {\n      if (nodelist.hasOwnProperty(i)) {\n        scripts.push(nodelist[i])\n      }\n    }\n\n    scripts.forEach( function (oldScript) {\n      var newScript = document.createElement(\"script\");\n      var attrs = [];\n      var nodemap = oldScript.attributes;\n      for (var j in nodemap) {\n        if (nodemap.hasOwnProperty(j)) {\n          attrs.push(nodemap[j])\n        }\n      }\n      attrs.forEach(function(attr) { newScript.setAttribute(attr.name, attr.value) });\n      newScript.appendChild(document.createTextNode(oldScript.innerHTML));\n      oldScript.parentNode.replaceChild(newScript, oldScript);\n    });\n    if (JS_MIME_TYPE in output.data) {\n      toinsert[nchildren-1].children[1].textContent = output.data[JS_MIME_TYPE];\n    }\n    output_area._hv_plot_id = id;\n    if ((window.Bokeh !== undefined) && (id in Bokeh.index)) {\n      window.PyViz.plot_index[id] = Bokeh.index[id];\n    } else {\n      window.PyViz.plot_index[id] = null;\n    }\n  } else if (output.metadata[EXEC_MIME_TYPE][\"server_id\"] !== undefined) {\n    var bk_div = document.createElement(\"div\");\n    bk_div.innerHTML = output.data[HTML_MIME_TYPE];\n    var script_attrs = bk_div.children[0].attributes;\n    for (var i = 0; i < script_attrs.length; i++) {\n      toinsert[toinsert.length - 1].childNodes[1].setAttribute(script_attrs[i].name, script_attrs[i].value);\n    }\n    // store reference to server id on output_area\n    output_area._bokeh_server_id = output.metadata[EXEC_MIME_TYPE][\"server_id\"];\n  }\n}\n\n/**\n * Handle when an output is cleared or removed\n */\nfunction handle_clear_output(event, handle) {\n  var id = handle.cell.output_area._hv_plot_id;\n  var server_id = handle.cell.output_area._bokeh_server_id;\n  if (((id === undefined) || !(id in PyViz.plot_index)) && (server_id !== undefined)) { return; }\n  var comm = window.PyViz.comm_manager.get_client_comm(\"hv-extension-comm\", \"hv-extension-comm\", function () {});\n  if (server_id !== null) {\n    comm.send({event_type: 'server_delete', 'id': server_id});\n    return;\n  } else if (comm !== null) {\n    comm.send({event_type: 'delete', 'id': id});\n  }\n  delete PyViz.plot_index[id];\n  if ((window.Bokeh !== undefined) & (id in window.Bokeh.index)) {\n    var doc = window.Bokeh.index[id].model.document\n    doc.clear();\n    const i = window.Bokeh.documents.indexOf(doc);\n    if (i > -1) {\n      window.Bokeh.documents.splice(i, 1);\n    }\n  }\n}\n\n/**\n * Handle kernel restart event\n */\nfunction handle_kernel_cleanup(event, handle) {\n  delete PyViz.comms[\"hv-extension-comm\"];\n  window.PyViz.plot_index = {}\n}\n\n/**\n * Handle update_display_data messages\n */\nfunction handle_update_output(event, handle) {\n  handle_clear_output(event, {cell: {output_area: handle.output_area}})\n  handle_add_output(event, handle)\n}\n\nfunction register_renderer(events, OutputArea) {\n  function append_mime(data, metadata, element) {\n    // create a DOM node to render to\n    var toinsert = this.create_output_subarea(\n    metadata,\n    CLASS_NAME,\n    EXEC_MIME_TYPE\n    );\n    this.keyboard_manager.register_events(toinsert);\n    // Render to node\n    var props = {data: data, metadata: metadata[EXEC_MIME_TYPE]};\n    render(props, toinsert[0]);\n    element.append(toinsert);\n    return toinsert\n  }\n\n  events.on('output_added.OutputArea', handle_add_output);\n  events.on('output_updated.OutputArea', handle_update_output);\n  events.on('clear_output.CodeCell', handle_clear_output);\n  events.on('delete.Cell', handle_clear_output);\n  events.on('kernel_ready.Kernel', handle_kernel_cleanup);\n\n  OutputArea.prototype.register_mime_type(EXEC_MIME_TYPE, append_mime, {\n    safe: true,\n    index: 0\n  });\n}\n\nif (window.Jupyter !== undefined) {\n  try {\n    var events = require('base/js/events');\n    var OutputArea = require('notebook/js/outputarea').OutputArea;\n    if (OutputArea.prototype.mime_types().indexOf(EXEC_MIME_TYPE) == -1) {\n      register_renderer(events, OutputArea);\n    }\n  } catch(err) {\n  }\n}\n",
      "application/vnd.holoviews_load.v0+json": ""
     },
     "metadata": {},
     "output_type": "display_data"
    },
    {
     "data": {
      "text/html": [
       "<style>*[data-root-id],\n",
       "*[data-root-id] > * {\n",
       "  box-sizing: border-box;\n",
       "  font-family: var(--jp-ui-font-family);\n",
       "  font-size: var(--jp-ui-font-size1);\n",
       "  color: var(--vscode-editor-foreground, var(--jp-ui-font-color1));\n",
       "}\n",
       "\n",
       "/* Override VSCode background color */\n",
       ".cell-output-ipywidget-background:has(\n",
       "    > .cell-output-ipywidget-background > .lm-Widget > *[data-root-id]\n",
       "  ),\n",
       ".cell-output-ipywidget-background:has(> .lm-Widget > *[data-root-id]) {\n",
       "  background-color: transparent !important;\n",
       "}\n",
       "</style>"
      ]
     },
     "metadata": {},
     "output_type": "display_data"
    },
    {
     "data": {
      "application/javascript": "(function(root) {\n  function now() {\n    return new Date();\n  }\n\n  var force = true;\n  var py_version = '3.2.2'.replace('rc', '-rc.').replace('.dev', '-dev.');\n  var is_dev = py_version.indexOf(\"+\") !== -1 || py_version.indexOf(\"-\") !== -1;\n  var reloading = true;\n  var Bokeh = root.Bokeh;\n  var bokeh_loaded = Bokeh != null && (Bokeh.version === py_version || (Bokeh.versions !== undefined && Bokeh.versions.has(py_version)));\n\n  if (typeof (root._bokeh_timeout) === \"undefined\" || force) {\n    root._bokeh_timeout = Date.now() + 5000;\n    root._bokeh_failed_load = false;\n  }\n\n  function run_callbacks() {\n    try {\n      root._bokeh_onload_callbacks.forEach(function(callback) {\n        if (callback != null)\n          callback();\n      });\n    } finally {\n      delete root._bokeh_onload_callbacks;\n    }\n    console.debug(\"Bokeh: all callbacks have finished\");\n  }\n\n  function load_libs(css_urls, js_urls, js_modules, js_exports, callback) {\n    if (css_urls == null) css_urls = [];\n    if (js_urls == null) js_urls = [];\n    if (js_modules == null) js_modules = [];\n    if (js_exports == null) js_exports = {};\n\n    root._bokeh_onload_callbacks.push(callback);\n\n    if (root._bokeh_is_loading > 0) {\n      console.debug(\"Bokeh: BokehJS is being loaded, scheduling callback at\", now());\n      return null;\n    }\n    if (js_urls.length === 0 && js_modules.length === 0 && Object.keys(js_exports).length === 0) {\n      run_callbacks();\n      return null;\n    }\n    if (!reloading) {\n      console.debug(\"Bokeh: BokehJS not loaded, scheduling load and callback at\", now());\n    }\n\n    function on_load() {\n      root._bokeh_is_loading--;\n      if (root._bokeh_is_loading === 0) {\n        console.debug(\"Bokeh: all BokehJS libraries/stylesheets loaded\");\n        run_callbacks()\n      }\n    }\n    window._bokeh_on_load = on_load\n\n    function on_error() {\n      console.error(\"failed to load \" + url);\n    }\n\n    var skip = [];\n    if (window.requirejs) {\n      window.requirejs.config({'packages': {}, 'paths': {'tabulator': 'https://cdn.jsdelivr.net/npm/tabulator-tables@5.5.0/dist/js/tabulator', 'moment': 'https://cdn.jsdelivr.net/npm/luxon/build/global/luxon.min', 'jspanel': 'https://cdn.jsdelivr.net/npm/jspanel4@4.12.0/dist/jspanel', 'jspanel-modal': 'https://cdn.jsdelivr.net/npm/jspanel4@4.12.0/dist/extensions/modal/jspanel.modal', 'jspanel-tooltip': 'https://cdn.jsdelivr.net/npm/jspanel4@4.12.0/dist/extensions/tooltip/jspanel.tooltip', 'jspanel-hint': 'https://cdn.jsdelivr.net/npm/jspanel4@4.12.0/dist/extensions/hint/jspanel.hint', 'jspanel-layout': 'https://cdn.jsdelivr.net/npm/jspanel4@4.12.0/dist/extensions/layout/jspanel.layout', 'jspanel-contextmenu': 'https://cdn.jsdelivr.net/npm/jspanel4@4.12.0/dist/extensions/contextmenu/jspanel.contextmenu', 'jspanel-dock': 'https://cdn.jsdelivr.net/npm/jspanel4@4.12.0/dist/extensions/dock/jspanel.dock', 'gridstack': 'https://cdn.jsdelivr.net/npm/gridstack@7.2.3/dist/gridstack-all', 'notyf': 'https://cdn.jsdelivr.net/npm/notyf@3/notyf.min'}, 'shim': {'jspanel': {'exports': 'jsPanel'}, 'gridstack': {'exports': 'GridStack'}}});\n      require([\"tabulator\"], function(Tabulator) {\n\twindow.Tabulator = Tabulator\n\ton_load()\n      })\n      require([\"moment\"], function(moment) {\n\twindow.moment = moment\n\ton_load()\n      })\n      require([\"jspanel\"], function(jsPanel) {\n\twindow.jsPanel = jsPanel\n\ton_load()\n      })\n      require([\"jspanel-modal\"], function() {\n\ton_load()\n      })\n      require([\"jspanel-tooltip\"], function() {\n\ton_load()\n      })\n      require([\"jspanel-hint\"], function() {\n\ton_load()\n      })\n      require([\"jspanel-layout\"], function() {\n\ton_load()\n      })\n      require([\"jspanel-contextmenu\"], function() {\n\ton_load()\n      })\n      require([\"jspanel-dock\"], function() {\n\ton_load()\n      })\n      require([\"gridstack\"], function(GridStack) {\n\twindow.GridStack = GridStack\n\ton_load()\n      })\n      require([\"notyf\"], function() {\n\ton_load()\n      })\n      root._bokeh_is_loading = css_urls.length + 11;\n    } else {\n      root._bokeh_is_loading = css_urls.length + js_urls.length + js_modules.length + Object.keys(js_exports).length;\n    }\n\n    var existing_stylesheets = []\n    var links = document.getElementsByTagName('link')\n    for (var i = 0; i < links.length; i++) {\n      var link = links[i]\n      if (link.href != null) {\n\texisting_stylesheets.push(link.href)\n      }\n    }\n    for (var i = 0; i < css_urls.length; i++) {\n      var url = css_urls[i];\n      if (existing_stylesheets.indexOf(url) !== -1) {\n\ton_load()\n\tcontinue;\n      }\n      const element = document.createElement(\"link\");\n      element.onload = on_load;\n      element.onerror = on_error;\n      element.rel = \"stylesheet\";\n      element.type = \"text/css\";\n      element.href = url;\n      console.debug(\"Bokeh: injecting link tag for BokehJS stylesheet: \", url);\n      document.body.appendChild(element);\n    }    if (((window['Tabulator'] !== undefined) && (!(window['Tabulator'] instanceof HTMLElement))) || window.requirejs) {\n      var urls = ['https://cdn.holoviz.org/panel/1.2.3/dist/bundled/datatabulator/tabulator-tables@5.5.0/dist/js/tabulator.js'];\n      for (var i = 0; i < urls.length; i++) {\n        skip.push(urls[i])\n      }\n    }    if (((window['moment'] !== undefined) && (!(window['moment'] instanceof HTMLElement))) || window.requirejs) {\n      var urls = ['https://cdn.holoviz.org/panel/1.2.3/dist/bundled/datatabulator/luxon/build/global/luxon.min.js'];\n      for (var i = 0; i < urls.length; i++) {\n        skip.push(urls[i])\n      }\n    }    if (((window['jsPanel'] !== undefined) && (!(window['jsPanel'] instanceof HTMLElement))) || window.requirejs) {\n      var urls = ['https://cdn.holoviz.org/panel/1.2.3/dist/bundled/floatpanel/jspanel4@4.12.0/dist/jspanel.js', 'https://cdn.holoviz.org/panel/1.2.3/dist/bundled/floatpanel/jspanel4@4.12.0/dist/extensions/modal/jspanel.modal.js', 'https://cdn.holoviz.org/panel/1.2.3/dist/bundled/floatpanel/jspanel4@4.12.0/dist/extensions/tooltip/jspanel.tooltip.js', 'https://cdn.holoviz.org/panel/1.2.3/dist/bundled/floatpanel/jspanel4@4.12.0/dist/extensions/hint/jspanel.hint.js', 'https://cdn.holoviz.org/panel/1.2.3/dist/bundled/floatpanel/jspanel4@4.12.0/dist/extensions/layout/jspanel.layout.js', 'https://cdn.holoviz.org/panel/1.2.3/dist/bundled/floatpanel/jspanel4@4.12.0/dist/extensions/contextmenu/jspanel.contextmenu.js', 'https://cdn.holoviz.org/panel/1.2.3/dist/bundled/floatpanel/jspanel4@4.12.0/dist/extensions/dock/jspanel.dock.js'];\n      for (var i = 0; i < urls.length; i++) {\n        skip.push(urls[i])\n      }\n    }    if (((window['GridStack'] !== undefined) && (!(window['GridStack'] instanceof HTMLElement))) || window.requirejs) {\n      var urls = ['https://cdn.holoviz.org/panel/1.2.3/dist/bundled/gridstack/gridstack@7.2.3/dist/gridstack-all.js'];\n      for (var i = 0; i < urls.length; i++) {\n        skip.push(urls[i])\n      }\n    }    if (((window['Notyf'] !== undefined) && (!(window['Notyf'] instanceof HTMLElement))) || window.requirejs) {\n      var urls = ['https://cdn.holoviz.org/panel/1.2.3/dist/bundled/notificationarea/notyf@3/notyf.min.js'];\n      for (var i = 0; i < urls.length; i++) {\n        skip.push(urls[i])\n      }\n    }    var existing_scripts = []\n    var scripts = document.getElementsByTagName('script')\n    for (var i = 0; i < scripts.length; i++) {\n      var script = scripts[i]\n      if (script.src != null) {\n\texisting_scripts.push(script.src)\n      }\n    }\n    for (var i = 0; i < js_urls.length; i++) {\n      var url = js_urls[i];\n      if (skip.indexOf(url) !== -1 || existing_scripts.indexOf(url) !== -1) {\n\tif (!window.requirejs) {\n\t  on_load();\n\t}\n\tcontinue;\n      }\n      var element = document.createElement('script');\n      element.onload = on_load;\n      element.onerror = on_error;\n      element.async = false;\n      element.src = url;\n      console.debug(\"Bokeh: injecting script tag for BokehJS library: \", url);\n      document.head.appendChild(element);\n    }\n    for (var i = 0; i < js_modules.length; i++) {\n      var url = js_modules[i];\n      if (skip.indexOf(url) !== -1 || existing_scripts.indexOf(url) !== -1) {\n\tif (!window.requirejs) {\n\t  on_load();\n\t}\n\tcontinue;\n      }\n      var element = document.createElement('script');\n      element.onload = on_load;\n      element.onerror = on_error;\n      element.async = false;\n      element.src = url;\n      element.type = \"module\";\n      console.debug(\"Bokeh: injecting script tag for BokehJS library: \", url);\n      document.head.appendChild(element);\n    }\n    for (const name in js_exports) {\n      var url = js_exports[name];\n      if (skip.indexOf(url) >= 0 || root[name] != null) {\n\tif (!window.requirejs) {\n\t  on_load();\n\t}\n\tcontinue;\n      }\n      var element = document.createElement('script');\n      element.onerror = on_error;\n      element.async = false;\n      element.type = \"module\";\n      console.debug(\"Bokeh: injecting script tag for BokehJS library: \", url);\n      element.textContent = `\n      import ${name} from \"${url}\"\n      window.${name} = ${name}\n      window._bokeh_on_load()\n      `\n      document.head.appendChild(element);\n    }\n    if (!js_urls.length && !js_modules.length) {\n      on_load()\n    }\n  };\n\n  function inject_raw_css(css) {\n    const element = document.createElement(\"style\");\n    element.appendChild(document.createTextNode(css));\n    document.body.appendChild(element);\n  }\n\n  var js_urls = [\"https://cdn.holoviz.org/panel/1.2.3/dist/bundled/datatabulator/tabulator-tables@5.5.0/dist/js/tabulator.js\", \"https://cdn.holoviz.org/panel/1.2.3/dist/bundled/datatabulator/luxon/build/global/luxon.min.js\"];\n  var js_modules = [];\n  var js_exports = {};\n  var css_urls = [\"https://cdn.holoviz.org/panel/1.2.3/dist/bundled/datatabulator/tabulator-tables@5.5.0/dist/css/tabulator_simple.min.css\"];\n  var inline_js = [    function(Bokeh) {\n      inject_raw_css(\".tabulator{position:relative;border:1px solid #999;font-size:14px;text-align:left;overflow:hidden;-webkit-transform:translateZ(0);-moz-transform:translateZ(0);-ms-transform:translateZ(0);-o-transform:translateZ(0);transform:translateZ(0)}.tabulator[tabulator-layout=fitDataFill] .tabulator-tableholder .tabulator-table{min-width:100%}.tabulator[tabulator-layout=fitDataTable]{display:inline-block}.tabulator.tabulator-block-select{user-select:none}.tabulator .tabulator-header{position:relative;box-sizing:border-box;width:100%;border-bottom:1px solid #999;background-color:#fff;color:#555;font-weight:700;white-space:nowrap;overflow:hidden;-moz-user-select:none;-khtml-user-select:none;-webkit-user-select:none;-o-user-select:none}.tabulator .tabulator-header.tabulator-header-hidden{display:none}.tabulator .tabulator-header .tabulator-header-contents{position:relative;overflow:hidden}.tabulator .tabulator-header .tabulator-header-contents .tabulator-headers{display:inline-block}.tabulator .tabulator-header .tabulator-col{display:inline-flex;position:relative;box-sizing:border-box;flex-direction:column;justify-content:flex-start;border-right:1px solid #ddd;background:#fff;text-align:left;vertical-align:bottom;overflow:hidden}.tabulator .tabulator-header .tabulator-col.tabulator-moving{position:absolute;border:1px solid #999;background:#e6e6e6;pointer-events:none}.tabulator .tabulator-header .tabulator-col .tabulator-col-content{box-sizing:border-box;position:relative;padding:4px}.tabulator .tabulator-header .tabulator-col .tabulator-col-content .tabulator-header-popup-button{padding:0 8px}.tabulator .tabulator-header .tabulator-col .tabulator-col-content .tabulator-header-popup-button:hover{cursor:pointer;opacity:.6}.tabulator .tabulator-header .tabulator-col .tabulator-col-content .tabulator-col-title-holder{position:relative}.tabulator .tabulator-header .tabulator-col .tabulator-col-content .tabulator-col-title{box-sizing:border-box;width:100%;white-space:nowrap;overflow:hidden;text-overflow:ellipsis;vertical-align:bottom}.tabulator .tabulator-header .tabulator-col .tabulator-col-content .tabulator-col-title.tabulator-col-title-wrap{white-space:normal;text-overflow:clip}.tabulator .tabulator-header .tabulator-col .tabulator-col-content .tabulator-col-title .tabulator-title-editor{box-sizing:border-box;width:100%;border:1px solid #999;padding:1px;background:#fff}.tabulator .tabulator-header .tabulator-col .tabulator-col-content .tabulator-col-title .tabulator-header-popup-button+.tabulator-title-editor{width:calc(100% - 22px)}.tabulator .tabulator-header .tabulator-col .tabulator-col-content .tabulator-col-sorter{display:flex;align-items:center;position:absolute;top:0;bottom:0;right:4px}.tabulator .tabulator-header .tabulator-col .tabulator-col-content .tabulator-col-sorter .tabulator-arrow{width:0;height:0;border-left:6px solid transparent;border-right:6px solid transparent;border-bottom:6px solid #bbb}.tabulator .tabulator-header .tabulator-col.tabulator-col-group .tabulator-col-group-cols{position:relative;display:flex;border-top:1px solid #ddd;overflow:hidden;margin-right:-1px}.tabulator .tabulator-header .tabulator-col .tabulator-header-filter{position:relative;box-sizing:border-box;margin-top:2px;width:100%;text-align:center}.tabulator .tabulator-header .tabulator-col .tabulator-header-filter textarea{height:auto!important}.tabulator .tabulator-header .tabulator-col .tabulator-header-filter svg{margin-top:3px}.tabulator .tabulator-header .tabulator-col .tabulator-header-filter input::-ms-clear{width:0;height:0}.tabulator .tabulator-header .tabulator-col.tabulator-sortable .tabulator-col-title{padding-right:25px}@media (hover:hover) and (pointer:fine){.tabulator .tabulator-header .tabulator-col.tabulator-sortable.tabulator-col-sorter-element:hover{cursor:pointer;background-color:#e6e6e6}}.tabulator .tabulator-header .tabulator-col.tabulator-sortable[aria-sort=none] .tabulator-col-content .tabulator-col-sorter{color:#bbb}@media (hover:hover) and (pointer:fine){.tabulator .tabulator-header .tabulator-col.tabulator-sortable[aria-sort=none] .tabulator-col-content .tabulator-col-sorter.tabulator-col-sorter-element .tabulator-arrow:hover{cursor:pointer;border-bottom:6px solid #555}}.tabulator .tabulator-header .tabulator-col.tabulator-sortable[aria-sort=none] .tabulator-col-content .tabulator-col-sorter .tabulator-arrow{border-top:none;border-bottom:6px solid #bbb}.tabulator .tabulator-header .tabulator-col.tabulator-sortable[aria-sort=ascending] .tabulator-col-content .tabulator-col-sorter{color:#666}@media (hover:hover) and (pointer:fine){.tabulator .tabulator-header .tabulator-col.tabulator-sortable[aria-sort=ascending] .tabulator-col-content .tabulator-col-sorter.tabulator-col-sorter-element .tabulator-arrow:hover{cursor:pointer;border-bottom:6px solid #555}}.tabulator .tabulator-header .tabulator-col.tabulator-sortable[aria-sort=ascending] .tabulator-col-content .tabulator-col-sorter .tabulator-arrow{border-top:none;border-bottom:6px solid #666}.tabulator .tabulator-header .tabulator-col.tabulator-sortable[aria-sort=descending] .tabulator-col-content .tabulator-col-sorter{color:#666}@media (hover:hover) and (pointer:fine){.tabulator .tabulator-header .tabulator-col.tabulator-sortable[aria-sort=descending] .tabulator-col-content .tabulator-col-sorter.tabulator-col-sorter-element .tabulator-arrow:hover{cursor:pointer;border-top:6px solid #555}}.tabulator .tabulator-header .tabulator-col.tabulator-sortable[aria-sort=descending] .tabulator-col-content .tabulator-col-sorter .tabulator-arrow{border-bottom:none;border-top:6px solid #666;color:#666}.tabulator .tabulator-header .tabulator-col.tabulator-col-vertical .tabulator-col-content .tabulator-col-title{writing-mode:vertical-rl;text-orientation:mixed;display:flex;align-items:center;justify-content:center}.tabulator .tabulator-header .tabulator-col.tabulator-col-vertical.tabulator-col-vertical-flip .tabulator-col-title{transform:rotate(180deg)}.tabulator .tabulator-header .tabulator-col.tabulator-col-vertical.tabulator-sortable .tabulator-col-title{padding-right:0;padding-top:20px}.tabulator .tabulator-header .tabulator-col.tabulator-col-vertical.tabulator-sortable.tabulator-col-vertical-flip .tabulator-col-title{padding-right:0;padding-bottom:20px}.tabulator .tabulator-header .tabulator-col.tabulator-col-vertical.tabulator-sortable .tabulator-col-sorter{justify-content:center;left:0;right:0;top:4px;bottom:auto}.tabulator .tabulator-header .tabulator-frozen{position:sticky;left:0;z-index:10}.tabulator .tabulator-header .tabulator-frozen.tabulator-frozen-left{border-right:2px solid #ddd}.tabulator .tabulator-header .tabulator-frozen.tabulator-frozen-right{border-left:2px solid #ddd}.tabulator .tabulator-header .tabulator-calcs-holder{box-sizing:border-box;background:#fff!important;border-top:1px solid #ddd;border-bottom:1px solid #ddd}.tabulator .tabulator-header .tabulator-calcs-holder .tabulator-row{background:#fff!important}.tabulator .tabulator-header .tabulator-calcs-holder .tabulator-row .tabulator-col-resize-handle,.tabulator .tabulator-header .tabulator-frozen-rows-holder:empty{display:none}.tabulator .tabulator-tableholder{position:relative;width:100%;white-space:nowrap;overflow:auto;-webkit-overflow-scrolling:touch}.tabulator .tabulator-tableholder:focus{outline:none}.tabulator .tabulator-tableholder .tabulator-placeholder{box-sizing:border-box;display:flex;align-items:center;justify-content:center;width:100%}.tabulator .tabulator-tableholder .tabulator-placeholder[tabulator-render-mode=virtual]{min-height:100%;min-width:100%}.tabulator .tabulator-tableholder .tabulator-placeholder .tabulator-placeholder-contents{display:inline-block;text-align:center;padding:10px;color:#ccc;font-weight:700;font-size:20px;white-space:normal}.tabulator .tabulator-tableholder .tabulator-table{position:relative;display:inline-block;background-color:#fff;white-space:nowrap;overflow:visible;color:#333}.tabulator .tabulator-tableholder .tabulator-table .tabulator-row.tabulator-calcs{font-weight:700;background:#f2f2f2!important}.tabulator .tabulator-tableholder .tabulator-table .tabulator-row.tabulator-calcs.tabulator-calcs-top{border-bottom:2px solid #ddd}.tabulator .tabulator-tableholder .tabulator-table .tabulator-row.tabulator-calcs.tabulator-calcs-bottom{border-top:2px solid #ddd}.tabulator .tabulator-footer{border-top:1px solid #999;background-color:#fff;color:#555;font-weight:700;white-space:nowrap;user-select:none;-moz-user-select:none;-khtml-user-select:none;-webkit-user-select:none;-o-user-select:none}.tabulator .tabulator-footer .tabulator-footer-contents{display:flex;flex-direction:row;align-items:center;justify-content:space-between;padding:5px 10px}.tabulator .tabulator-footer .tabulator-footer-contents:empty{display:none}.tabulator .tabulator-footer .tabulator-calcs-holder{box-sizing:border-box;width:100%;text-align:left;background:#fff!important;border-bottom:1px solid #ddd;border-top:1px solid #ddd;overflow:hidden}.tabulator .tabulator-footer .tabulator-calcs-holder .tabulator-row{display:inline-block;background:#fff!important}.tabulator .tabulator-footer .tabulator-calcs-holder .tabulator-row .tabulator-col-resize-handle{display:none}.tabulator .tabulator-footer .tabulator-calcs-holder:only-child{margin-bottom:-5px;border-bottom:none}.tabulator .tabulator-footer>*+.tabulator-page-counter{margin-left:10px}.tabulator .tabulator-footer .tabulator-page-counter{font-weight:400}.tabulator .tabulator-footer .tabulator-paginator{flex:1;text-align:right;color:#555;font-family:inherit;font-weight:inherit;font-size:inherit}.tabulator .tabulator-footer .tabulator-page-size{display:inline-block;margin:0 5px;padding:2px 5px;border:1px solid #aaa;border-radius:3px}.tabulator .tabulator-footer .tabulator-pages{margin:0 7px}.tabulator .tabulator-footer .tabulator-page{display:inline-block;margin:0 2px;padding:2px 5px;border:1px solid #aaa;border-radius:3px;background:hsla(0,0%,100%,.2)}.tabulator .tabulator-footer .tabulator-page.active{color:#d00}.tabulator .tabulator-footer .tabulator-page:disabled{opacity:.5}@media (hover:hover) and (pointer:fine){.tabulator .tabulator-footer .tabulator-page:not(.disabled):hover{cursor:pointer;background:rgba(0,0,0,.2);color:#fff}}.tabulator .tabulator-col-resize-handle{position:relative;display:inline-block;width:6px;margin-left:-3px;margin-right:-3px;z-index:10;vertical-align:middle}@media (hover:hover) and (pointer:fine){.tabulator .tabulator-col-resize-handle:hover{cursor:ew-resize}}.tabulator .tabulator-col-resize-handle:last-of-type{width:3px;margin-right:0}.tabulator .tabulator-alert{position:absolute;display:flex;align-items:center;top:0;left:0;z-index:100;height:100%;width:100%;background:rgba(0,0,0,.4);text-align:center}.tabulator .tabulator-alert .tabulator-alert-msg{display:inline-block;margin:0 auto;padding:10px 20px;border-radius:10px;background:#fff;font-weight:700;font-size:16px}.tabulator .tabulator-alert .tabulator-alert-msg.tabulator-alert-state-msg{border:4px solid #333;color:#000}.tabulator .tabulator-alert .tabulator-alert-msg.tabulator-alert-state-error{border:4px solid #d00;color:#590000}.tabulator-row{position:relative;box-sizing:border-box;min-height:22px}.tabulator-row,.tabulator-row.tabulator-row-even{background-color:#fff}@media (hover:hover) and (pointer:fine){.tabulator-row.tabulator-selectable:hover{background-color:#bbb;cursor:pointer}}.tabulator-row.tabulator-selected{background-color:#9abcea}@media (hover:hover) and (pointer:fine){.tabulator-row.tabulator-selected:hover{background-color:#769bcc;cursor:pointer}}.tabulator-row.tabulator-row-moving{border:1px solid #000;background:#fff}.tabulator-row.tabulator-moving{position:absolute;border-top:1px solid #ddd;border-bottom:1px solid #ddd;pointer-events:none;z-index:15}.tabulator-row .tabulator-row-resize-handle{position:absolute;right:0;bottom:0;left:0;height:5px}.tabulator-row .tabulator-row-resize-handle.prev{top:0;bottom:auto}@media (hover:hover) and (pointer:fine){.tabulator-row .tabulator-row-resize-handle:hover{cursor:ns-resize}}.tabulator-row .tabulator-responsive-collapse{box-sizing:border-box;padding:5px;border-top:1px solid #ddd;border-bottom:1px solid #ddd}.tabulator-row .tabulator-responsive-collapse:empty{display:none}.tabulator-row .tabulator-responsive-collapse table{font-size:14px}.tabulator-row .tabulator-responsive-collapse table tr td{position:relative}.tabulator-row .tabulator-responsive-collapse table tr td:first-of-type{padding-right:10px}.tabulator-row .tabulator-cell{display:inline-block;position:relative;box-sizing:border-box;padding:4px;border-right:1px solid #ddd;vertical-align:middle;white-space:nowrap;overflow:hidden;text-overflow:ellipsis}.tabulator-row .tabulator-cell.tabulator-frozen{display:inline-block;position:sticky;left:0;background-color:inherit;z-index:10}.tabulator-row .tabulator-cell.tabulator-frozen.tabulator-frozen-left{border-right:2px solid #ddd}.tabulator-row .tabulator-cell.tabulator-frozen.tabulator-frozen-right{border-left:2px solid #ddd}.tabulator-row .tabulator-cell.tabulator-editing{border:1px solid #1d68cd;outline:none;padding:0}.tabulator-row .tabulator-cell.tabulator-editing input,.tabulator-row .tabulator-cell.tabulator-editing select{border:1px;background:transparent;outline:none}.tabulator-row .tabulator-cell.tabulator-validation-fail{border:1px solid #d00}.tabulator-row .tabulator-cell.tabulator-validation-fail input,.tabulator-row .tabulator-cell.tabulator-validation-fail select{border:1px;background:transparent;color:#d00}.tabulator-row .tabulator-cell.tabulator-row-handle{display:inline-flex;align-items:center;justify-content:center;-moz-user-select:none;-khtml-user-select:none;-webkit-user-select:none;-o-user-select:none}.tabulator-row .tabulator-cell.tabulator-row-handle .tabulator-row-handle-box{width:80%}.tabulator-row .tabulator-cell.tabulator-row-handle .tabulator-row-handle-box .tabulator-row-handle-bar{width:100%;height:3px;margin-top:2px;background:#666}.tabulator-row .tabulator-cell .tabulator-data-tree-branch{display:inline-block;vertical-align:middle;height:9px;width:7px;margin-top:-9px;margin-right:5px;border-bottom-left-radius:1px;border-left:2px solid #ddd;border-bottom:2px solid #ddd}.tabulator-row .tabulator-cell .tabulator-data-tree-control{display:inline-flex;justify-content:center;align-items:center;vertical-align:middle;height:11px;width:11px;margin-right:5px;border:1px solid #333;border-radius:2px;background:rgba(0,0,0,.1);overflow:hidden}@media (hover:hover) and (pointer:fine){.tabulator-row .tabulator-cell .tabulator-data-tree-control:hover{cursor:pointer;background:rgba(0,0,0,.2)}}.tabulator-row .tabulator-cell .tabulator-data-tree-control .tabulator-data-tree-control-collapse{display:inline-block;position:relative;height:7px;width:1px;background:transparent}.tabulator-row .tabulator-cell .tabulator-data-tree-control .tabulator-data-tree-control-collapse:after{position:absolute;content:\\\"\\\";left:-3px;top:3px;height:1px;width:7px;background:#333}.tabulator-row .tabulator-cell .tabulator-data-tree-control .tabulator-data-tree-control-expand{display:inline-block;position:relative;height:7px;width:1px;background:#333}.tabulator-row .tabulator-cell .tabulator-data-tree-control .tabulator-data-tree-control-expand:after{position:absolute;content:\\\"\\\";left:-3px;top:3px;height:1px;width:7px;background:#333}.tabulator-row .tabulator-cell .tabulator-responsive-collapse-toggle{display:inline-flex;align-items:center;justify-content:center;-moz-user-select:none;-khtml-user-select:none;-webkit-user-select:none;-o-user-select:none;height:15px;width:15px;border-radius:20px;background:#666;color:#fff;font-weight:700;font-size:1.1em}@media (hover:hover) and (pointer:fine){.tabulator-row .tabulator-cell .tabulator-responsive-collapse-toggle:hover{opacity:.7;cursor:pointer}}.tabulator-row .tabulator-cell .tabulator-responsive-collapse-toggle.open .tabulator-responsive-collapse-toggle-close{display:initial}.tabulator-row .tabulator-cell .tabulator-responsive-collapse-toggle.open .tabulator-responsive-collapse-toggle-open{display:none}.tabulator-row .tabulator-cell .tabulator-responsive-collapse-toggle svg{stroke:#fff}.tabulator-row .tabulator-cell .tabulator-responsive-collapse-toggle .tabulator-responsive-collapse-toggle-close{display:none}.tabulator-row .tabulator-cell .tabulator-traffic-light{display:inline-block;height:14px;width:14px;border-radius:14px}.tabulator-row.tabulator-group{box-sizing:border-box;border-bottom:1px solid #999;border-right:1px solid #ddd;border-top:1px solid #999;padding:5px 5px 5px 10px;background:#ccc;font-weight:700;min-width:100%}@media (hover:hover) and (pointer:fine){.tabulator-row.tabulator-group:hover{cursor:pointer;background-color:rgba(0,0,0,.1)}}.tabulator-row.tabulator-group.tabulator-group-visible .tabulator-arrow{margin-right:10px;border-left:6px solid transparent;border-right:6px solid transparent;border-top:6px solid #666;border-bottom:0}.tabulator-row.tabulator-group.tabulator-group-level-1{padding-left:30px}.tabulator-row.tabulator-group.tabulator-group-level-2{padding-left:50px}.tabulator-row.tabulator-group.tabulator-group-level-3{padding-left:70px}.tabulator-row.tabulator-group.tabulator-group-level-4{padding-left:90px}.tabulator-row.tabulator-group.tabulator-group-level-5{padding-left:110px}.tabulator-row.tabulator-group .tabulator-group-toggle{display:inline-block}.tabulator-row.tabulator-group .tabulator-arrow{display:inline-block;width:0;height:0;margin-right:16px;border-top:6px solid transparent;border-bottom:6px solid transparent;border-right:0;border-left:6px solid #666;vertical-align:middle}.tabulator-row.tabulator-group span{margin-left:10px;color:#d00}.tabulator-popup-container{position:absolute;display:inline-block;box-sizing:border-box;background:#fff;border:1px solid #ddd;box-shadow:0 0 5px 0 rgba(0,0,0,.2);font-size:14px;overflow-y:auto;-webkit-overflow-scrolling:touch;z-index:10000}.tabulator-popup{padding:5px;border-radius:3px}.tabulator-tooltip{max-width:Min(500px,100%);padding:3px 5px;border-radius:2px;box-shadow:none;font-size:12px;pointer-events:none}.tabulator-menu .tabulator-menu-item{position:relative;box-sizing:border-box;padding:5px 10px;user-select:none}.tabulator-menu .tabulator-menu-item.tabulator-menu-item-disabled{opacity:.5}@media (hover:hover) and (pointer:fine){.tabulator-menu .tabulator-menu-item:not(.tabulator-menu-item-disabled):hover{cursor:pointer;background:#fff}}.tabulator-menu .tabulator-menu-item.tabulator-menu-item-submenu{padding-right:25px}.tabulator-menu .tabulator-menu-item.tabulator-menu-item-submenu:after{display:inline-block;position:absolute;top:calc(5px + .4em);right:10px;height:7px;width:7px;content:\\\"\\\";border-color:#ddd;border-style:solid;border-width:1px 1px 0 0;vertical-align:top;transform:rotate(45deg)}.tabulator-menu .tabulator-menu-separator{border-top:1px solid #ddd}.tabulator-edit-list{max-height:200px;font-size:14px;overflow-y:auto;-webkit-overflow-scrolling:touch}.tabulator-edit-list .tabulator-edit-list-item{padding:4px;color:#333;outline:none}.tabulator-edit-list .tabulator-edit-list-item.active{color:#fff;background:#1d68cd}.tabulator-edit-list .tabulator-edit-list-item.active.focused{outline:1px solid hsla(0,0%,100%,.5)}.tabulator-edit-list .tabulator-edit-list-item.focused{outline:1px solid #1d68cd}@media (hover:hover) and (pointer:fine){.tabulator-edit-list .tabulator-edit-list-item:hover{cursor:pointer;color:#fff;background:#1d68cd}}.tabulator-edit-list .tabulator-edit-list-placeholder{padding:4px;color:#333;text-align:center}.tabulator-edit-list .tabulator-edit-list-group{border-bottom:1px solid #ddd;padding:6px 4px 4px;color:#333;font-weight:700}.tabulator-edit-list .tabulator-edit-list-group.tabulator-edit-list-group-level-2,.tabulator-edit-list .tabulator-edit-list-item.tabulator-edit-list-group-level-2{padding-left:12px}.tabulator-edit-list .tabulator-edit-list-group.tabulator-edit-list-group-level-3,.tabulator-edit-list .tabulator-edit-list-item.tabulator-edit-list-group-level-3{padding-left:20px}.tabulator-edit-list .tabulator-edit-list-group.tabulator-edit-list-group-level-4,.tabulator-edit-list .tabulator-edit-list-item.tabulator-edit-list-group-level-4{padding-left:28px}.tabulator-edit-list .tabulator-edit-list-group.tabulator-edit-list-group-level-5,.tabulator-edit-list .tabulator-edit-list-item.tabulator-edit-list-group-level-5{padding-left:36px}.tabulator.tabulator-ltr{direction:ltr}.tabulator.tabulator-rtl{text-align:initial;direction:rtl}.tabulator.tabulator-rtl .tabulator-header .tabulator-col{text-align:initial;border-left:1px solid #ddd;border-right:initial}.tabulator.tabulator-rtl .tabulator-header .tabulator-col.tabulator-col-group .tabulator-col-group-cols{margin-right:0;margin-left:-1px}.tabulator.tabulator-rtl .tabulator-header .tabulator-col.tabulator-sortable .tabulator-col-title{padding-right:0;padding-left:25px}.tabulator.tabulator-rtl .tabulator-header .tabulator-col .tabulator-col-content .tabulator-col-sorter{left:8px;right:auto}.tabulator.tabulator-rtl .tabulator-row .tabulator-cell{border-right:initial;border-left:1px solid #ddd}.tabulator.tabulator-rtl .tabulator-row .tabulator-cell .tabulator-data-tree-branch{margin-right:0;margin-left:5px;border-bottom-left-radius:0;border-bottom-right-radius:1px;border-left:initial;border-right:2px solid #ddd}.tabulator.tabulator-rtl .tabulator-row .tabulator-cell .tabulator-data-tree-control{margin-right:0;margin-left:5px}.tabulator.tabulator-rtl .tabulator-row .tabulator-cell.tabulator-frozen.tabulator-frozen-left{border-left:2px solid #ddd}.tabulator.tabulator-rtl .tabulator-row .tabulator-cell.tabulator-frozen.tabulator-frozen-right{border-right:2px solid #ddd}.tabulator.tabulator-rtl .tabulator-row .tabulator-col-resize-handle:last-of-type{width:3px;margin-left:0;margin-right:-3px}.tabulator.tabulator-rtl .tabulator-footer .tabulator-calcs-holder{text-align:initial}.tabulator-print-fullscreen{position:absolute;top:0;bottom:0;left:0;right:0;z-index:10000}body.tabulator-print-fullscreen-hide>:not(.tabulator-print-fullscreen){display:none!important}.tabulator-print-table{border-collapse:collapse}.tabulator-print-table .tabulator-data-tree-branch{display:inline-block;vertical-align:middle;height:9px;width:7px;margin-top:-9px;margin-right:5px;border-bottom-left-radius:1px;border-left:2px solid #ddd;border-bottom:2px solid #ddd}.tabulator-print-table .tabulator-print-table-group{box-sizing:border-box;border-bottom:1px solid #999;border-right:1px solid #ddd;border-top:1px solid #999;padding:5px 5px 5px 10px;background:#ccc;font-weight:700;min-width:100%}@media (hover:hover) and (pointer:fine){.tabulator-print-table .tabulator-print-table-group:hover{cursor:pointer;background-color:rgba(0,0,0,.1)}}.tabulator-print-table .tabulator-print-table-group.tabulator-group-visible .tabulator-arrow{margin-right:10px;border-left:6px solid transparent;border-right:6px solid transparent;border-top:6px solid #666;border-bottom:0}.tabulator-print-table .tabulator-print-table-group.tabulator-group-level-1 td{padding-left:30px!important}.tabulator-print-table .tabulator-print-table-group.tabulator-group-level-2 td{padding-left:50px!important}.tabulator-print-table .tabulator-print-table-group.tabulator-group-level-3 td{padding-left:70px!important}.tabulator-print-table .tabulator-print-table-group.tabulator-group-level-4 td{padding-left:90px!important}.tabulator-print-table .tabulator-print-table-group.tabulator-group-level-5 td{padding-left:110px!important}.tabulator-print-table .tabulator-print-table-group .tabulator-group-toggle{display:inline-block}.tabulator-print-table .tabulator-print-table-group .tabulator-arrow{display:inline-block;width:0;height:0;margin-right:16px;border-top:6px solid transparent;border-bottom:6px solid transparent;border-right:0;border-left:6px solid #666;vertical-align:middle}.tabulator-print-table .tabulator-print-table-group span{color:#d00}.tabulator-print-table .tabulator-data-tree-control{display:inline-flex;justify-content:center;align-items:center;vertical-align:middle;height:11px;width:11px;margin-right:5px;border:1px solid #333;border-radius:2px;background:rgba(0,0,0,.1);overflow:hidden}@media (hover:hover) and (pointer:fine){.tabulator-print-table .tabulator-data-tree-control:hover{cursor:pointer;background:rgba(0,0,0,.2)}}.tabulator-print-table .tabulator-data-tree-control .tabulator-data-tree-control-collapse{display:inline-block;position:relative;height:7px;width:1px;background:transparent}.tabulator-print-table .tabulator-data-tree-control .tabulator-data-tree-control-collapse:after{position:absolute;content:\\\"\\\";left:-3px;top:3px;height:1px;width:7px;background:#333}.tabulator-print-table .tabulator-data-tree-control .tabulator-data-tree-control-expand{display:inline-block;position:relative;height:7px;width:1px;background:#333}.tabulator-print-table .tabulator-data-tree-control .tabulator-data-tree-control-expand:after{position:absolute;content:\\\"\\\";left:-3px;top:3px;height:1px;width:7px;background:#333}.tabulator{border:none;background-color:#fff}.tabulator .tabulator-header .tabulator-calcs-holder{background:#f2f2f2!important;border-bottom:1px solid #999}.tabulator .tabulator-header .tabulator-calcs-holder .tabulator-row{background:#f2f2f2!important}.tabulator .tabulator-tableholder .tabulator-placeholder span{color:#000}.tabulator .tabulator-footer .tabulator-calcs-holder{background:#f2f2f2!important;border-bottom:1px solid #fff}.tabulator .tabulator-footer .tabulator-calcs-holder .tabulator-row{background:#f2f2f2!important}.tabulator-row{border-bottom:1px solid #ddd}.tabulator-row .tabulator-cell:last-of-type{border-right:none}.tabulator-row.tabulator-group span{color:#666}.tabulator-print-table .tabulator-print-table-group span{margin-left:10px;color:#666}\\n/*# sourceMappingURL=tabulator_simple.min.css.map */\");\n    },    function(Bokeh) {\n      Bokeh.set_log_level(\"info\");\n    },\nfunction(Bokeh) {} // ensure no trailing comma for IE\n  ];\n\n  function run_inline_js() {\n    if ((root.Bokeh !== undefined) || (force === true)) {\n      for (var i = 0; i < inline_js.length; i++) {\n        inline_js[i].call(root, root.Bokeh);\n      }\n      // Cache old bokeh versions\n      if (Bokeh != undefined && !reloading) {\n\tvar NewBokeh = root.Bokeh;\n\tif (Bokeh.versions === undefined) {\n\t  Bokeh.versions = new Map();\n\t}\n\tif (NewBokeh.version !== Bokeh.version) {\n\t  Bokeh.versions.set(NewBokeh.version, NewBokeh)\n\t}\n\troot.Bokeh = Bokeh;\n      }} else if (Date.now() < root._bokeh_timeout) {\n      setTimeout(run_inline_js, 100);\n    } else if (!root._bokeh_failed_load) {\n      console.log(\"Bokeh: BokehJS failed to load within specified timeout.\");\n      root._bokeh_failed_load = true;\n    }\n    root._bokeh_is_initializing = false\n  }\n\n  function load_or_wait() {\n    // Implement a backoff loop that tries to ensure we do not load multiple\n    // versions of Bokeh and its dependencies at the same time.\n    // In recent versions we use the root._bokeh_is_initializing flag\n    // to determine whether there is an ongoing attempt to initialize\n    // bokeh, however for backward compatibility we also try to ensure\n    // that we do not start loading a newer (Panel>=1.0 and Bokeh>3) version\n    // before older versions are fully initialized.\n    if (root._bokeh_is_initializing && Date.now() > root._bokeh_timeout) {\n      root._bokeh_is_initializing = false;\n      root._bokeh_onload_callbacks = undefined;\n      console.log(\"Bokeh: BokehJS was loaded multiple times but one version failed to initialize.\");\n      load_or_wait();\n    } else if (root._bokeh_is_initializing || (typeof root._bokeh_is_initializing === \"undefined\" && root._bokeh_onload_callbacks !== undefined)) {\n      setTimeout(load_or_wait, 100);\n    } else {\n      Bokeh = root.Bokeh;\n      bokeh_loaded = Bokeh != null && (Bokeh.version === py_version || (Bokeh.versions !== undefined && Bokeh.versions.has(py_version)));\n      root._bokeh_is_initializing = true\n      root._bokeh_onload_callbacks = []\n      if (!reloading && (!bokeh_loaded || is_dev)) {\n\troot.Bokeh = undefined;\n      }\n      load_libs(css_urls, js_urls, js_modules, js_exports, function() {\n\tconsole.debug(\"Bokeh: BokehJS plotting callback run at\", now());\n\trun_inline_js();\n      });\n    }\n  }\n  // Give older versions of the autoload script a head-start to ensure\n  // they initialize before we start loading newer version.\n  setTimeout(load_or_wait, 100)\n}(window));",
      "application/vnd.holoviews_load.v0+json": ""
     },
     "metadata": {},
     "output_type": "display_data"
    },
    {
     "data": {
      "application/javascript": "\nif ((window.PyViz === undefined) || (window.PyViz instanceof HTMLElement)) {\n  window.PyViz = {comms: {}, comm_status:{}, kernels:{}, receivers: {}, plot_index: []}\n}\n\n\n    function JupyterCommManager() {\n    }\n\n    JupyterCommManager.prototype.register_target = function(plot_id, comm_id, msg_handler) {\n      if (window.comm_manager || ((window.Jupyter !== undefined) && (Jupyter.notebook.kernel != null))) {\n        var comm_manager = window.comm_manager || Jupyter.notebook.kernel.comm_manager;\n        comm_manager.register_target(comm_id, function(comm) {\n          comm.on_msg(msg_handler);\n        });\n      } else if ((plot_id in window.PyViz.kernels) && (window.PyViz.kernels[plot_id])) {\n        window.PyViz.kernels[plot_id].registerCommTarget(comm_id, function(comm) {\n          comm.onMsg = msg_handler;\n        });\n      } else if (typeof google != 'undefined' && google.colab.kernel != null) {\n        google.colab.kernel.comms.registerTarget(comm_id, (comm) => {\n          var messages = comm.messages[Symbol.asyncIterator]();\n          function processIteratorResult(result) {\n            var message = result.value;\n            console.log(message)\n            var content = {data: message.data, comm_id};\n            var buffers = []\n            for (var buffer of message.buffers || []) {\n              buffers.push(new DataView(buffer))\n            }\n            var metadata = message.metadata || {};\n            var msg = {content, buffers, metadata}\n            msg_handler(msg);\n            return messages.next().then(processIteratorResult);\n          }\n          return messages.next().then(processIteratorResult);\n        })\n      }\n    }\n\n    JupyterCommManager.prototype.get_client_comm = function(plot_id, comm_id, msg_handler) {\n      if (comm_id in window.PyViz.comms) {\n        return window.PyViz.comms[comm_id];\n      } else if (window.comm_manager || ((window.Jupyter !== undefined) && (Jupyter.notebook.kernel != null))) {\n        var comm_manager = window.comm_manager || Jupyter.notebook.kernel.comm_manager;\n        var comm = comm_manager.new_comm(comm_id, {}, {}, {}, comm_id);\n        if (msg_handler) {\n          comm.on_msg(msg_handler);\n        }\n      } else if ((plot_id in window.PyViz.kernels) && (window.PyViz.kernels[plot_id])) {\n        var comm = window.PyViz.kernels[plot_id].connectToComm(comm_id);\n        comm.open();\n        if (msg_handler) {\n          comm.onMsg = msg_handler;\n        }\n      } else if (typeof google != 'undefined' && google.colab.kernel != null) {\n        var comm_promise = google.colab.kernel.comms.open(comm_id)\n        comm_promise.then((comm) => {\n          window.PyViz.comms[comm_id] = comm;\n          if (msg_handler) {\n            var messages = comm.messages[Symbol.asyncIterator]();\n            function processIteratorResult(result) {\n              var message = result.value;\n              var content = {data: message.data};\n              var metadata = message.metadata || {comm_id};\n              var msg = {content, metadata}\n              msg_handler(msg);\n              return messages.next().then(processIteratorResult);\n            }\n            return messages.next().then(processIteratorResult);\n          }\n        }) \n        var sendClosure = (data, metadata, buffers, disposeOnDone) => {\n          return comm_promise.then((comm) => {\n            comm.send(data, metadata, buffers, disposeOnDone);\n          });\n        };\n        var comm = {\n          send: sendClosure\n        };\n      }\n      window.PyViz.comms[comm_id] = comm;\n      return comm;\n    }\n    window.PyViz.comm_manager = new JupyterCommManager();\n    \n\n\nvar JS_MIME_TYPE = 'application/javascript';\nvar HTML_MIME_TYPE = 'text/html';\nvar EXEC_MIME_TYPE = 'application/vnd.holoviews_exec.v0+json';\nvar CLASS_NAME = 'output';\n\n/**\n * Render data to the DOM node\n */\nfunction render(props, node) {\n  var div = document.createElement(\"div\");\n  var script = document.createElement(\"script\");\n  node.appendChild(div);\n  node.appendChild(script);\n}\n\n/**\n * Handle when a new output is added\n */\nfunction handle_add_output(event, handle) {\n  var output_area = handle.output_area;\n  var output = handle.output;\n  if ((output.data == undefined) || (!output.data.hasOwnProperty(EXEC_MIME_TYPE))) {\n    return\n  }\n  var id = output.metadata[EXEC_MIME_TYPE][\"id\"];\n  var toinsert = output_area.element.find(\".\" + CLASS_NAME.split(' ')[0]);\n  if (id !== undefined) {\n    var nchildren = toinsert.length;\n    var html_node = toinsert[nchildren-1].children[0];\n    html_node.innerHTML = output.data[HTML_MIME_TYPE];\n    var scripts = [];\n    var nodelist = html_node.querySelectorAll(\"script\");\n    for (var i in nodelist) {\n      if (nodelist.hasOwnProperty(i)) {\n        scripts.push(nodelist[i])\n      }\n    }\n\n    scripts.forEach( function (oldScript) {\n      var newScript = document.createElement(\"script\");\n      var attrs = [];\n      var nodemap = oldScript.attributes;\n      for (var j in nodemap) {\n        if (nodemap.hasOwnProperty(j)) {\n          attrs.push(nodemap[j])\n        }\n      }\n      attrs.forEach(function(attr) { newScript.setAttribute(attr.name, attr.value) });\n      newScript.appendChild(document.createTextNode(oldScript.innerHTML));\n      oldScript.parentNode.replaceChild(newScript, oldScript);\n    });\n    if (JS_MIME_TYPE in output.data) {\n      toinsert[nchildren-1].children[1].textContent = output.data[JS_MIME_TYPE];\n    }\n    output_area._hv_plot_id = id;\n    if ((window.Bokeh !== undefined) && (id in Bokeh.index)) {\n      window.PyViz.plot_index[id] = Bokeh.index[id];\n    } else {\n      window.PyViz.plot_index[id] = null;\n    }\n  } else if (output.metadata[EXEC_MIME_TYPE][\"server_id\"] !== undefined) {\n    var bk_div = document.createElement(\"div\");\n    bk_div.innerHTML = output.data[HTML_MIME_TYPE];\n    var script_attrs = bk_div.children[0].attributes;\n    for (var i = 0; i < script_attrs.length; i++) {\n      toinsert[toinsert.length - 1].childNodes[1].setAttribute(script_attrs[i].name, script_attrs[i].value);\n    }\n    // store reference to server id on output_area\n    output_area._bokeh_server_id = output.metadata[EXEC_MIME_TYPE][\"server_id\"];\n  }\n}\n\n/**\n * Handle when an output is cleared or removed\n */\nfunction handle_clear_output(event, handle) {\n  var id = handle.cell.output_area._hv_plot_id;\n  var server_id = handle.cell.output_area._bokeh_server_id;\n  if (((id === undefined) || !(id in PyViz.plot_index)) && (server_id !== undefined)) { return; }\n  var comm = window.PyViz.comm_manager.get_client_comm(\"hv-extension-comm\", \"hv-extension-comm\", function () {});\n  if (server_id !== null) {\n    comm.send({event_type: 'server_delete', 'id': server_id});\n    return;\n  } else if (comm !== null) {\n    comm.send({event_type: 'delete', 'id': id});\n  }\n  delete PyViz.plot_index[id];\n  if ((window.Bokeh !== undefined) & (id in window.Bokeh.index)) {\n    var doc = window.Bokeh.index[id].model.document\n    doc.clear();\n    const i = window.Bokeh.documents.indexOf(doc);\n    if (i > -1) {\n      window.Bokeh.documents.splice(i, 1);\n    }\n  }\n}\n\n/**\n * Handle kernel restart event\n */\nfunction handle_kernel_cleanup(event, handle) {\n  delete PyViz.comms[\"hv-extension-comm\"];\n  window.PyViz.plot_index = {}\n}\n\n/**\n * Handle update_display_data messages\n */\nfunction handle_update_output(event, handle) {\n  handle_clear_output(event, {cell: {output_area: handle.output_area}})\n  handle_add_output(event, handle)\n}\n\nfunction register_renderer(events, OutputArea) {\n  function append_mime(data, metadata, element) {\n    // create a DOM node to render to\n    var toinsert = this.create_output_subarea(\n    metadata,\n    CLASS_NAME,\n    EXEC_MIME_TYPE\n    );\n    this.keyboard_manager.register_events(toinsert);\n    // Render to node\n    var props = {data: data, metadata: metadata[EXEC_MIME_TYPE]};\n    render(props, toinsert[0]);\n    element.append(toinsert);\n    return toinsert\n  }\n\n  events.on('output_added.OutputArea', handle_add_output);\n  events.on('output_updated.OutputArea', handle_update_output);\n  events.on('clear_output.CodeCell', handle_clear_output);\n  events.on('delete.Cell', handle_clear_output);\n  events.on('kernel_ready.Kernel', handle_kernel_cleanup);\n\n  OutputArea.prototype.register_mime_type(EXEC_MIME_TYPE, append_mime, {\n    safe: true,\n    index: 0\n  });\n}\n\nif (window.Jupyter !== undefined) {\n  try {\n    var events = require('base/js/events');\n    var OutputArea = require('notebook/js/outputarea').OutputArea;\n    if (OutputArea.prototype.mime_types().indexOf(EXEC_MIME_TYPE) == -1) {\n      register_renderer(events, OutputArea);\n    }\n  } catch(err) {\n  }\n}\n",
      "application/vnd.holoviews_load.v0+json": ""
     },
     "metadata": {},
     "output_type": "display_data"
    },
    {
     "data": {
      "text/html": [
       "<style>*[data-root-id],\n",
       "*[data-root-id] > * {\n",
       "  box-sizing: border-box;\n",
       "  font-family: var(--jp-ui-font-family);\n",
       "  font-size: var(--jp-ui-font-size1);\n",
       "  color: var(--vscode-editor-foreground, var(--jp-ui-font-color1));\n",
       "}\n",
       "\n",
       "/* Override VSCode background color */\n",
       ".cell-output-ipywidget-background:has(\n",
       "    > .cell-output-ipywidget-background > .lm-Widget > *[data-root-id]\n",
       "  ),\n",
       ".cell-output-ipywidget-background:has(> .lm-Widget > *[data-root-id]) {\n",
       "  background-color: transparent !important;\n",
       "}\n",
       "</style>"
      ]
     },
     "metadata": {},
     "output_type": "display_data"
    },
    {
     "data": {
      "application/javascript": "(function(root) {\n  function now() {\n    return new Date();\n  }\n\n  var force = true;\n  var py_version = '3.2.2'.replace('rc', '-rc.').replace('.dev', '-dev.');\n  var is_dev = py_version.indexOf(\"+\") !== -1 || py_version.indexOf(\"-\") !== -1;\n  var reloading = true;\n  var Bokeh = root.Bokeh;\n  var bokeh_loaded = Bokeh != null && (Bokeh.version === py_version || (Bokeh.versions !== undefined && Bokeh.versions.has(py_version)));\n\n  if (typeof (root._bokeh_timeout) === \"undefined\" || force) {\n    root._bokeh_timeout = Date.now() + 5000;\n    root._bokeh_failed_load = false;\n  }\n\n  function run_callbacks() {\n    try {\n      root._bokeh_onload_callbacks.forEach(function(callback) {\n        if (callback != null)\n          callback();\n      });\n    } finally {\n      delete root._bokeh_onload_callbacks;\n    }\n    console.debug(\"Bokeh: all callbacks have finished\");\n  }\n\n  function load_libs(css_urls, js_urls, js_modules, js_exports, callback) {\n    if (css_urls == null) css_urls = [];\n    if (js_urls == null) js_urls = [];\n    if (js_modules == null) js_modules = [];\n    if (js_exports == null) js_exports = {};\n\n    root._bokeh_onload_callbacks.push(callback);\n\n    if (root._bokeh_is_loading > 0) {\n      console.debug(\"Bokeh: BokehJS is being loaded, scheduling callback at\", now());\n      return null;\n    }\n    if (js_urls.length === 0 && js_modules.length === 0 && Object.keys(js_exports).length === 0) {\n      run_callbacks();\n      return null;\n    }\n    if (!reloading) {\n      console.debug(\"Bokeh: BokehJS not loaded, scheduling load and callback at\", now());\n    }\n\n    function on_load() {\n      root._bokeh_is_loading--;\n      if (root._bokeh_is_loading === 0) {\n        console.debug(\"Bokeh: all BokehJS libraries/stylesheets loaded\");\n        run_callbacks()\n      }\n    }\n    window._bokeh_on_load = on_load\n\n    function on_error() {\n      console.error(\"failed to load \" + url);\n    }\n\n    var skip = [];\n    if (window.requirejs) {\n      window.requirejs.config({'packages': {}, 'paths': {'tabulator': 'https://cdn.jsdelivr.net/npm/tabulator-tables@5.5.0/dist/js/tabulator', 'moment': 'https://cdn.jsdelivr.net/npm/luxon/build/global/luxon.min', 'jspanel': 'https://cdn.jsdelivr.net/npm/jspanel4@4.12.0/dist/jspanel', 'jspanel-modal': 'https://cdn.jsdelivr.net/npm/jspanel4@4.12.0/dist/extensions/modal/jspanel.modal', 'jspanel-tooltip': 'https://cdn.jsdelivr.net/npm/jspanel4@4.12.0/dist/extensions/tooltip/jspanel.tooltip', 'jspanel-hint': 'https://cdn.jsdelivr.net/npm/jspanel4@4.12.0/dist/extensions/hint/jspanel.hint', 'jspanel-layout': 'https://cdn.jsdelivr.net/npm/jspanel4@4.12.0/dist/extensions/layout/jspanel.layout', 'jspanel-contextmenu': 'https://cdn.jsdelivr.net/npm/jspanel4@4.12.0/dist/extensions/contextmenu/jspanel.contextmenu', 'jspanel-dock': 'https://cdn.jsdelivr.net/npm/jspanel4@4.12.0/dist/extensions/dock/jspanel.dock', 'gridstack': 'https://cdn.jsdelivr.net/npm/gridstack@7.2.3/dist/gridstack-all', 'notyf': 'https://cdn.jsdelivr.net/npm/notyf@3/notyf.min'}, 'shim': {'jspanel': {'exports': 'jsPanel'}, 'gridstack': {'exports': 'GridStack'}}});\n      require([\"tabulator\"], function(Tabulator) {\n\twindow.Tabulator = Tabulator\n\ton_load()\n      })\n      require([\"moment\"], function(moment) {\n\twindow.moment = moment\n\ton_load()\n      })\n      require([\"jspanel\"], function(jsPanel) {\n\twindow.jsPanel = jsPanel\n\ton_load()\n      })\n      require([\"jspanel-modal\"], function() {\n\ton_load()\n      })\n      require([\"jspanel-tooltip\"], function() {\n\ton_load()\n      })\n      require([\"jspanel-hint\"], function() {\n\ton_load()\n      })\n      require([\"jspanel-layout\"], function() {\n\ton_load()\n      })\n      require([\"jspanel-contextmenu\"], function() {\n\ton_load()\n      })\n      require([\"jspanel-dock\"], function() {\n\ton_load()\n      })\n      require([\"gridstack\"], function(GridStack) {\n\twindow.GridStack = GridStack\n\ton_load()\n      })\n      require([\"notyf\"], function() {\n\ton_load()\n      })\n      root._bokeh_is_loading = css_urls.length + 11;\n    } else {\n      root._bokeh_is_loading = css_urls.length + js_urls.length + js_modules.length + Object.keys(js_exports).length;\n    }\n\n    var existing_stylesheets = []\n    var links = document.getElementsByTagName('link')\n    for (var i = 0; i < links.length; i++) {\n      var link = links[i]\n      if (link.href != null) {\n\texisting_stylesheets.push(link.href)\n      }\n    }\n    for (var i = 0; i < css_urls.length; i++) {\n      var url = css_urls[i];\n      if (existing_stylesheets.indexOf(url) !== -1) {\n\ton_load()\n\tcontinue;\n      }\n      const element = document.createElement(\"link\");\n      element.onload = on_load;\n      element.onerror = on_error;\n      element.rel = \"stylesheet\";\n      element.type = \"text/css\";\n      element.href = url;\n      console.debug(\"Bokeh: injecting link tag for BokehJS stylesheet: \", url);\n      document.body.appendChild(element);\n    }    if (((window['Tabulator'] !== undefined) && (!(window['Tabulator'] instanceof HTMLElement))) || window.requirejs) {\n      var urls = ['https://cdn.holoviz.org/panel/1.2.3/dist/bundled/datatabulator/tabulator-tables@5.5.0/dist/js/tabulator.js'];\n      for (var i = 0; i < urls.length; i++) {\n        skip.push(urls[i])\n      }\n    }    if (((window['moment'] !== undefined) && (!(window['moment'] instanceof HTMLElement))) || window.requirejs) {\n      var urls = ['https://cdn.holoviz.org/panel/1.2.3/dist/bundled/datatabulator/luxon/build/global/luxon.min.js'];\n      for (var i = 0; i < urls.length; i++) {\n        skip.push(urls[i])\n      }\n    }    if (((window['jsPanel'] !== undefined) && (!(window['jsPanel'] instanceof HTMLElement))) || window.requirejs) {\n      var urls = ['https://cdn.holoviz.org/panel/1.2.3/dist/bundled/floatpanel/jspanel4@4.12.0/dist/jspanel.js', 'https://cdn.holoviz.org/panel/1.2.3/dist/bundled/floatpanel/jspanel4@4.12.0/dist/extensions/modal/jspanel.modal.js', 'https://cdn.holoviz.org/panel/1.2.3/dist/bundled/floatpanel/jspanel4@4.12.0/dist/extensions/tooltip/jspanel.tooltip.js', 'https://cdn.holoviz.org/panel/1.2.3/dist/bundled/floatpanel/jspanel4@4.12.0/dist/extensions/hint/jspanel.hint.js', 'https://cdn.holoviz.org/panel/1.2.3/dist/bundled/floatpanel/jspanel4@4.12.0/dist/extensions/layout/jspanel.layout.js', 'https://cdn.holoviz.org/panel/1.2.3/dist/bundled/floatpanel/jspanel4@4.12.0/dist/extensions/contextmenu/jspanel.contextmenu.js', 'https://cdn.holoviz.org/panel/1.2.3/dist/bundled/floatpanel/jspanel4@4.12.0/dist/extensions/dock/jspanel.dock.js'];\n      for (var i = 0; i < urls.length; i++) {\n        skip.push(urls[i])\n      }\n    }    if (((window['GridStack'] !== undefined) && (!(window['GridStack'] instanceof HTMLElement))) || window.requirejs) {\n      var urls = ['https://cdn.holoviz.org/panel/1.2.3/dist/bundled/gridstack/gridstack@7.2.3/dist/gridstack-all.js'];\n      for (var i = 0; i < urls.length; i++) {\n        skip.push(urls[i])\n      }\n    }    if (((window['Notyf'] !== undefined) && (!(window['Notyf'] instanceof HTMLElement))) || window.requirejs) {\n      var urls = ['https://cdn.holoviz.org/panel/1.2.3/dist/bundled/notificationarea/notyf@3/notyf.min.js'];\n      for (var i = 0; i < urls.length; i++) {\n        skip.push(urls[i])\n      }\n    }    var existing_scripts = []\n    var scripts = document.getElementsByTagName('script')\n    for (var i = 0; i < scripts.length; i++) {\n      var script = scripts[i]\n      if (script.src != null) {\n\texisting_scripts.push(script.src)\n      }\n    }\n    for (var i = 0; i < js_urls.length; i++) {\n      var url = js_urls[i];\n      if (skip.indexOf(url) !== -1 || existing_scripts.indexOf(url) !== -1) {\n\tif (!window.requirejs) {\n\t  on_load();\n\t}\n\tcontinue;\n      }\n      var element = document.createElement('script');\n      element.onload = on_load;\n      element.onerror = on_error;\n      element.async = false;\n      element.src = url;\n      console.debug(\"Bokeh: injecting script tag for BokehJS library: \", url);\n      document.head.appendChild(element);\n    }\n    for (var i = 0; i < js_modules.length; i++) {\n      var url = js_modules[i];\n      if (skip.indexOf(url) !== -1 || existing_scripts.indexOf(url) !== -1) {\n\tif (!window.requirejs) {\n\t  on_load();\n\t}\n\tcontinue;\n      }\n      var element = document.createElement('script');\n      element.onload = on_load;\n      element.onerror = on_error;\n      element.async = false;\n      element.src = url;\n      element.type = \"module\";\n      console.debug(\"Bokeh: injecting script tag for BokehJS library: \", url);\n      document.head.appendChild(element);\n    }\n    for (const name in js_exports) {\n      var url = js_exports[name];\n      if (skip.indexOf(url) >= 0 || root[name] != null) {\n\tif (!window.requirejs) {\n\t  on_load();\n\t}\n\tcontinue;\n      }\n      var element = document.createElement('script');\n      element.onerror = on_error;\n      element.async = false;\n      element.type = \"module\";\n      console.debug(\"Bokeh: injecting script tag for BokehJS library: \", url);\n      element.textContent = `\n      import ${name} from \"${url}\"\n      window.${name} = ${name}\n      window._bokeh_on_load()\n      `\n      document.head.appendChild(element);\n    }\n    if (!js_urls.length && !js_modules.length) {\n      on_load()\n    }\n  };\n\n  function inject_raw_css(css) {\n    const element = document.createElement(\"style\");\n    element.appendChild(document.createTextNode(css));\n    document.body.appendChild(element);\n  }\n\n  var js_urls = [\"https://cdn.holoviz.org/panel/1.2.3/dist/bundled/datatabulator/tabulator-tables@5.5.0/dist/js/tabulator.js\", \"https://cdn.holoviz.org/panel/1.2.3/dist/bundled/datatabulator/luxon/build/global/luxon.min.js\"];\n  var js_modules = [];\n  var js_exports = {};\n  var css_urls = [\"https://cdn.holoviz.org/panel/1.2.3/dist/bundled/datatabulator/tabulator-tables@5.5.0/dist/css/tabulator_simple.min.css\"];\n  var inline_js = [    function(Bokeh) {\n      inject_raw_css(\".tabulator{position:relative;border:1px solid #999;font-size:14px;text-align:left;overflow:hidden;-webkit-transform:translateZ(0);-moz-transform:translateZ(0);-ms-transform:translateZ(0);-o-transform:translateZ(0);transform:translateZ(0)}.tabulator[tabulator-layout=fitDataFill] .tabulator-tableholder .tabulator-table{min-width:100%}.tabulator[tabulator-layout=fitDataTable]{display:inline-block}.tabulator.tabulator-block-select{user-select:none}.tabulator .tabulator-header{position:relative;box-sizing:border-box;width:100%;border-bottom:1px solid #999;background-color:#fff;color:#555;font-weight:700;white-space:nowrap;overflow:hidden;-moz-user-select:none;-khtml-user-select:none;-webkit-user-select:none;-o-user-select:none}.tabulator .tabulator-header.tabulator-header-hidden{display:none}.tabulator .tabulator-header .tabulator-header-contents{position:relative;overflow:hidden}.tabulator .tabulator-header .tabulator-header-contents .tabulator-headers{display:inline-block}.tabulator .tabulator-header .tabulator-col{display:inline-flex;position:relative;box-sizing:border-box;flex-direction:column;justify-content:flex-start;border-right:1px solid #ddd;background:#fff;text-align:left;vertical-align:bottom;overflow:hidden}.tabulator .tabulator-header .tabulator-col.tabulator-moving{position:absolute;border:1px solid #999;background:#e6e6e6;pointer-events:none}.tabulator .tabulator-header .tabulator-col .tabulator-col-content{box-sizing:border-box;position:relative;padding:4px}.tabulator .tabulator-header .tabulator-col .tabulator-col-content .tabulator-header-popup-button{padding:0 8px}.tabulator .tabulator-header .tabulator-col .tabulator-col-content .tabulator-header-popup-button:hover{cursor:pointer;opacity:.6}.tabulator .tabulator-header .tabulator-col .tabulator-col-content .tabulator-col-title-holder{position:relative}.tabulator .tabulator-header .tabulator-col .tabulator-col-content .tabulator-col-title{box-sizing:border-box;width:100%;white-space:nowrap;overflow:hidden;text-overflow:ellipsis;vertical-align:bottom}.tabulator .tabulator-header .tabulator-col .tabulator-col-content .tabulator-col-title.tabulator-col-title-wrap{white-space:normal;text-overflow:clip}.tabulator .tabulator-header .tabulator-col .tabulator-col-content .tabulator-col-title .tabulator-title-editor{box-sizing:border-box;width:100%;border:1px solid #999;padding:1px;background:#fff}.tabulator .tabulator-header .tabulator-col .tabulator-col-content .tabulator-col-title .tabulator-header-popup-button+.tabulator-title-editor{width:calc(100% - 22px)}.tabulator .tabulator-header .tabulator-col .tabulator-col-content .tabulator-col-sorter{display:flex;align-items:center;position:absolute;top:0;bottom:0;right:4px}.tabulator .tabulator-header .tabulator-col .tabulator-col-content .tabulator-col-sorter .tabulator-arrow{width:0;height:0;border-left:6px solid transparent;border-right:6px solid transparent;border-bottom:6px solid #bbb}.tabulator .tabulator-header .tabulator-col.tabulator-col-group .tabulator-col-group-cols{position:relative;display:flex;border-top:1px solid #ddd;overflow:hidden;margin-right:-1px}.tabulator .tabulator-header .tabulator-col .tabulator-header-filter{position:relative;box-sizing:border-box;margin-top:2px;width:100%;text-align:center}.tabulator .tabulator-header .tabulator-col .tabulator-header-filter textarea{height:auto!important}.tabulator .tabulator-header .tabulator-col .tabulator-header-filter svg{margin-top:3px}.tabulator .tabulator-header .tabulator-col .tabulator-header-filter input::-ms-clear{width:0;height:0}.tabulator .tabulator-header .tabulator-col.tabulator-sortable .tabulator-col-title{padding-right:25px}@media (hover:hover) and (pointer:fine){.tabulator .tabulator-header .tabulator-col.tabulator-sortable.tabulator-col-sorter-element:hover{cursor:pointer;background-color:#e6e6e6}}.tabulator .tabulator-header .tabulator-col.tabulator-sortable[aria-sort=none] .tabulator-col-content .tabulator-col-sorter{color:#bbb}@media (hover:hover) and (pointer:fine){.tabulator .tabulator-header .tabulator-col.tabulator-sortable[aria-sort=none] .tabulator-col-content .tabulator-col-sorter.tabulator-col-sorter-element .tabulator-arrow:hover{cursor:pointer;border-bottom:6px solid #555}}.tabulator .tabulator-header .tabulator-col.tabulator-sortable[aria-sort=none] .tabulator-col-content .tabulator-col-sorter .tabulator-arrow{border-top:none;border-bottom:6px solid #bbb}.tabulator .tabulator-header .tabulator-col.tabulator-sortable[aria-sort=ascending] .tabulator-col-content .tabulator-col-sorter{color:#666}@media (hover:hover) and (pointer:fine){.tabulator .tabulator-header .tabulator-col.tabulator-sortable[aria-sort=ascending] .tabulator-col-content .tabulator-col-sorter.tabulator-col-sorter-element .tabulator-arrow:hover{cursor:pointer;border-bottom:6px solid #555}}.tabulator .tabulator-header .tabulator-col.tabulator-sortable[aria-sort=ascending] .tabulator-col-content .tabulator-col-sorter .tabulator-arrow{border-top:none;border-bottom:6px solid #666}.tabulator .tabulator-header .tabulator-col.tabulator-sortable[aria-sort=descending] .tabulator-col-content .tabulator-col-sorter{color:#666}@media (hover:hover) and (pointer:fine){.tabulator .tabulator-header .tabulator-col.tabulator-sortable[aria-sort=descending] .tabulator-col-content .tabulator-col-sorter.tabulator-col-sorter-element .tabulator-arrow:hover{cursor:pointer;border-top:6px solid #555}}.tabulator .tabulator-header .tabulator-col.tabulator-sortable[aria-sort=descending] .tabulator-col-content .tabulator-col-sorter .tabulator-arrow{border-bottom:none;border-top:6px solid #666;color:#666}.tabulator .tabulator-header .tabulator-col.tabulator-col-vertical .tabulator-col-content .tabulator-col-title{writing-mode:vertical-rl;text-orientation:mixed;display:flex;align-items:center;justify-content:center}.tabulator .tabulator-header .tabulator-col.tabulator-col-vertical.tabulator-col-vertical-flip .tabulator-col-title{transform:rotate(180deg)}.tabulator .tabulator-header .tabulator-col.tabulator-col-vertical.tabulator-sortable .tabulator-col-title{padding-right:0;padding-top:20px}.tabulator .tabulator-header .tabulator-col.tabulator-col-vertical.tabulator-sortable.tabulator-col-vertical-flip .tabulator-col-title{padding-right:0;padding-bottom:20px}.tabulator .tabulator-header .tabulator-col.tabulator-col-vertical.tabulator-sortable .tabulator-col-sorter{justify-content:center;left:0;right:0;top:4px;bottom:auto}.tabulator .tabulator-header .tabulator-frozen{position:sticky;left:0;z-index:10}.tabulator .tabulator-header .tabulator-frozen.tabulator-frozen-left{border-right:2px solid #ddd}.tabulator .tabulator-header .tabulator-frozen.tabulator-frozen-right{border-left:2px solid #ddd}.tabulator .tabulator-header .tabulator-calcs-holder{box-sizing:border-box;background:#fff!important;border-top:1px solid #ddd;border-bottom:1px solid #ddd}.tabulator .tabulator-header .tabulator-calcs-holder .tabulator-row{background:#fff!important}.tabulator .tabulator-header .tabulator-calcs-holder .tabulator-row .tabulator-col-resize-handle,.tabulator .tabulator-header .tabulator-frozen-rows-holder:empty{display:none}.tabulator .tabulator-tableholder{position:relative;width:100%;white-space:nowrap;overflow:auto;-webkit-overflow-scrolling:touch}.tabulator .tabulator-tableholder:focus{outline:none}.tabulator .tabulator-tableholder .tabulator-placeholder{box-sizing:border-box;display:flex;align-items:center;justify-content:center;width:100%}.tabulator .tabulator-tableholder .tabulator-placeholder[tabulator-render-mode=virtual]{min-height:100%;min-width:100%}.tabulator .tabulator-tableholder .tabulator-placeholder .tabulator-placeholder-contents{display:inline-block;text-align:center;padding:10px;color:#ccc;font-weight:700;font-size:20px;white-space:normal}.tabulator .tabulator-tableholder .tabulator-table{position:relative;display:inline-block;background-color:#fff;white-space:nowrap;overflow:visible;color:#333}.tabulator .tabulator-tableholder .tabulator-table .tabulator-row.tabulator-calcs{font-weight:700;background:#f2f2f2!important}.tabulator .tabulator-tableholder .tabulator-table .tabulator-row.tabulator-calcs.tabulator-calcs-top{border-bottom:2px solid #ddd}.tabulator .tabulator-tableholder .tabulator-table .tabulator-row.tabulator-calcs.tabulator-calcs-bottom{border-top:2px solid #ddd}.tabulator .tabulator-footer{border-top:1px solid #999;background-color:#fff;color:#555;font-weight:700;white-space:nowrap;user-select:none;-moz-user-select:none;-khtml-user-select:none;-webkit-user-select:none;-o-user-select:none}.tabulator .tabulator-footer .tabulator-footer-contents{display:flex;flex-direction:row;align-items:center;justify-content:space-between;padding:5px 10px}.tabulator .tabulator-footer .tabulator-footer-contents:empty{display:none}.tabulator .tabulator-footer .tabulator-calcs-holder{box-sizing:border-box;width:100%;text-align:left;background:#fff!important;border-bottom:1px solid #ddd;border-top:1px solid #ddd;overflow:hidden}.tabulator .tabulator-footer .tabulator-calcs-holder .tabulator-row{display:inline-block;background:#fff!important}.tabulator .tabulator-footer .tabulator-calcs-holder .tabulator-row .tabulator-col-resize-handle{display:none}.tabulator .tabulator-footer .tabulator-calcs-holder:only-child{margin-bottom:-5px;border-bottom:none}.tabulator .tabulator-footer>*+.tabulator-page-counter{margin-left:10px}.tabulator .tabulator-footer .tabulator-page-counter{font-weight:400}.tabulator .tabulator-footer .tabulator-paginator{flex:1;text-align:right;color:#555;font-family:inherit;font-weight:inherit;font-size:inherit}.tabulator .tabulator-footer .tabulator-page-size{display:inline-block;margin:0 5px;padding:2px 5px;border:1px solid #aaa;border-radius:3px}.tabulator .tabulator-footer .tabulator-pages{margin:0 7px}.tabulator .tabulator-footer .tabulator-page{display:inline-block;margin:0 2px;padding:2px 5px;border:1px solid #aaa;border-radius:3px;background:hsla(0,0%,100%,.2)}.tabulator .tabulator-footer .tabulator-page.active{color:#d00}.tabulator .tabulator-footer .tabulator-page:disabled{opacity:.5}@media (hover:hover) and (pointer:fine){.tabulator .tabulator-footer .tabulator-page:not(.disabled):hover{cursor:pointer;background:rgba(0,0,0,.2);color:#fff}}.tabulator .tabulator-col-resize-handle{position:relative;display:inline-block;width:6px;margin-left:-3px;margin-right:-3px;z-index:10;vertical-align:middle}@media (hover:hover) and (pointer:fine){.tabulator .tabulator-col-resize-handle:hover{cursor:ew-resize}}.tabulator .tabulator-col-resize-handle:last-of-type{width:3px;margin-right:0}.tabulator .tabulator-alert{position:absolute;display:flex;align-items:center;top:0;left:0;z-index:100;height:100%;width:100%;background:rgba(0,0,0,.4);text-align:center}.tabulator .tabulator-alert .tabulator-alert-msg{display:inline-block;margin:0 auto;padding:10px 20px;border-radius:10px;background:#fff;font-weight:700;font-size:16px}.tabulator .tabulator-alert .tabulator-alert-msg.tabulator-alert-state-msg{border:4px solid #333;color:#000}.tabulator .tabulator-alert .tabulator-alert-msg.tabulator-alert-state-error{border:4px solid #d00;color:#590000}.tabulator-row{position:relative;box-sizing:border-box;min-height:22px}.tabulator-row,.tabulator-row.tabulator-row-even{background-color:#fff}@media (hover:hover) and (pointer:fine){.tabulator-row.tabulator-selectable:hover{background-color:#bbb;cursor:pointer}}.tabulator-row.tabulator-selected{background-color:#9abcea}@media (hover:hover) and (pointer:fine){.tabulator-row.tabulator-selected:hover{background-color:#769bcc;cursor:pointer}}.tabulator-row.tabulator-row-moving{border:1px solid #000;background:#fff}.tabulator-row.tabulator-moving{position:absolute;border-top:1px solid #ddd;border-bottom:1px solid #ddd;pointer-events:none;z-index:15}.tabulator-row .tabulator-row-resize-handle{position:absolute;right:0;bottom:0;left:0;height:5px}.tabulator-row .tabulator-row-resize-handle.prev{top:0;bottom:auto}@media (hover:hover) and (pointer:fine){.tabulator-row .tabulator-row-resize-handle:hover{cursor:ns-resize}}.tabulator-row .tabulator-responsive-collapse{box-sizing:border-box;padding:5px;border-top:1px solid #ddd;border-bottom:1px solid #ddd}.tabulator-row .tabulator-responsive-collapse:empty{display:none}.tabulator-row .tabulator-responsive-collapse table{font-size:14px}.tabulator-row .tabulator-responsive-collapse table tr td{position:relative}.tabulator-row .tabulator-responsive-collapse table tr td:first-of-type{padding-right:10px}.tabulator-row .tabulator-cell{display:inline-block;position:relative;box-sizing:border-box;padding:4px;border-right:1px solid #ddd;vertical-align:middle;white-space:nowrap;overflow:hidden;text-overflow:ellipsis}.tabulator-row .tabulator-cell.tabulator-frozen{display:inline-block;position:sticky;left:0;background-color:inherit;z-index:10}.tabulator-row .tabulator-cell.tabulator-frozen.tabulator-frozen-left{border-right:2px solid #ddd}.tabulator-row .tabulator-cell.tabulator-frozen.tabulator-frozen-right{border-left:2px solid #ddd}.tabulator-row .tabulator-cell.tabulator-editing{border:1px solid #1d68cd;outline:none;padding:0}.tabulator-row .tabulator-cell.tabulator-editing input,.tabulator-row .tabulator-cell.tabulator-editing select{border:1px;background:transparent;outline:none}.tabulator-row .tabulator-cell.tabulator-validation-fail{border:1px solid #d00}.tabulator-row .tabulator-cell.tabulator-validation-fail input,.tabulator-row .tabulator-cell.tabulator-validation-fail select{border:1px;background:transparent;color:#d00}.tabulator-row .tabulator-cell.tabulator-row-handle{display:inline-flex;align-items:center;justify-content:center;-moz-user-select:none;-khtml-user-select:none;-webkit-user-select:none;-o-user-select:none}.tabulator-row .tabulator-cell.tabulator-row-handle .tabulator-row-handle-box{width:80%}.tabulator-row .tabulator-cell.tabulator-row-handle .tabulator-row-handle-box .tabulator-row-handle-bar{width:100%;height:3px;margin-top:2px;background:#666}.tabulator-row .tabulator-cell .tabulator-data-tree-branch{display:inline-block;vertical-align:middle;height:9px;width:7px;margin-top:-9px;margin-right:5px;border-bottom-left-radius:1px;border-left:2px solid #ddd;border-bottom:2px solid #ddd}.tabulator-row .tabulator-cell .tabulator-data-tree-control{display:inline-flex;justify-content:center;align-items:center;vertical-align:middle;height:11px;width:11px;margin-right:5px;border:1px solid #333;border-radius:2px;background:rgba(0,0,0,.1);overflow:hidden}@media (hover:hover) and (pointer:fine){.tabulator-row .tabulator-cell .tabulator-data-tree-control:hover{cursor:pointer;background:rgba(0,0,0,.2)}}.tabulator-row .tabulator-cell .tabulator-data-tree-control .tabulator-data-tree-control-collapse{display:inline-block;position:relative;height:7px;width:1px;background:transparent}.tabulator-row .tabulator-cell .tabulator-data-tree-control .tabulator-data-tree-control-collapse:after{position:absolute;content:\\\"\\\";left:-3px;top:3px;height:1px;width:7px;background:#333}.tabulator-row .tabulator-cell .tabulator-data-tree-control .tabulator-data-tree-control-expand{display:inline-block;position:relative;height:7px;width:1px;background:#333}.tabulator-row .tabulator-cell .tabulator-data-tree-control .tabulator-data-tree-control-expand:after{position:absolute;content:\\\"\\\";left:-3px;top:3px;height:1px;width:7px;background:#333}.tabulator-row .tabulator-cell .tabulator-responsive-collapse-toggle{display:inline-flex;align-items:center;justify-content:center;-moz-user-select:none;-khtml-user-select:none;-webkit-user-select:none;-o-user-select:none;height:15px;width:15px;border-radius:20px;background:#666;color:#fff;font-weight:700;font-size:1.1em}@media (hover:hover) and (pointer:fine){.tabulator-row .tabulator-cell .tabulator-responsive-collapse-toggle:hover{opacity:.7;cursor:pointer}}.tabulator-row .tabulator-cell .tabulator-responsive-collapse-toggle.open .tabulator-responsive-collapse-toggle-close{display:initial}.tabulator-row .tabulator-cell .tabulator-responsive-collapse-toggle.open .tabulator-responsive-collapse-toggle-open{display:none}.tabulator-row .tabulator-cell .tabulator-responsive-collapse-toggle svg{stroke:#fff}.tabulator-row .tabulator-cell .tabulator-responsive-collapse-toggle .tabulator-responsive-collapse-toggle-close{display:none}.tabulator-row .tabulator-cell .tabulator-traffic-light{display:inline-block;height:14px;width:14px;border-radius:14px}.tabulator-row.tabulator-group{box-sizing:border-box;border-bottom:1px solid #999;border-right:1px solid #ddd;border-top:1px solid #999;padding:5px 5px 5px 10px;background:#ccc;font-weight:700;min-width:100%}@media (hover:hover) and (pointer:fine){.tabulator-row.tabulator-group:hover{cursor:pointer;background-color:rgba(0,0,0,.1)}}.tabulator-row.tabulator-group.tabulator-group-visible .tabulator-arrow{margin-right:10px;border-left:6px solid transparent;border-right:6px solid transparent;border-top:6px solid #666;border-bottom:0}.tabulator-row.tabulator-group.tabulator-group-level-1{padding-left:30px}.tabulator-row.tabulator-group.tabulator-group-level-2{padding-left:50px}.tabulator-row.tabulator-group.tabulator-group-level-3{padding-left:70px}.tabulator-row.tabulator-group.tabulator-group-level-4{padding-left:90px}.tabulator-row.tabulator-group.tabulator-group-level-5{padding-left:110px}.tabulator-row.tabulator-group .tabulator-group-toggle{display:inline-block}.tabulator-row.tabulator-group .tabulator-arrow{display:inline-block;width:0;height:0;margin-right:16px;border-top:6px solid transparent;border-bottom:6px solid transparent;border-right:0;border-left:6px solid #666;vertical-align:middle}.tabulator-row.tabulator-group span{margin-left:10px;color:#d00}.tabulator-popup-container{position:absolute;display:inline-block;box-sizing:border-box;background:#fff;border:1px solid #ddd;box-shadow:0 0 5px 0 rgba(0,0,0,.2);font-size:14px;overflow-y:auto;-webkit-overflow-scrolling:touch;z-index:10000}.tabulator-popup{padding:5px;border-radius:3px}.tabulator-tooltip{max-width:Min(500px,100%);padding:3px 5px;border-radius:2px;box-shadow:none;font-size:12px;pointer-events:none}.tabulator-menu .tabulator-menu-item{position:relative;box-sizing:border-box;padding:5px 10px;user-select:none}.tabulator-menu .tabulator-menu-item.tabulator-menu-item-disabled{opacity:.5}@media (hover:hover) and (pointer:fine){.tabulator-menu .tabulator-menu-item:not(.tabulator-menu-item-disabled):hover{cursor:pointer;background:#fff}}.tabulator-menu .tabulator-menu-item.tabulator-menu-item-submenu{padding-right:25px}.tabulator-menu .tabulator-menu-item.tabulator-menu-item-submenu:after{display:inline-block;position:absolute;top:calc(5px + .4em);right:10px;height:7px;width:7px;content:\\\"\\\";border-color:#ddd;border-style:solid;border-width:1px 1px 0 0;vertical-align:top;transform:rotate(45deg)}.tabulator-menu .tabulator-menu-separator{border-top:1px solid #ddd}.tabulator-edit-list{max-height:200px;font-size:14px;overflow-y:auto;-webkit-overflow-scrolling:touch}.tabulator-edit-list .tabulator-edit-list-item{padding:4px;color:#333;outline:none}.tabulator-edit-list .tabulator-edit-list-item.active{color:#fff;background:#1d68cd}.tabulator-edit-list .tabulator-edit-list-item.active.focused{outline:1px solid hsla(0,0%,100%,.5)}.tabulator-edit-list .tabulator-edit-list-item.focused{outline:1px solid #1d68cd}@media (hover:hover) and (pointer:fine){.tabulator-edit-list .tabulator-edit-list-item:hover{cursor:pointer;color:#fff;background:#1d68cd}}.tabulator-edit-list .tabulator-edit-list-placeholder{padding:4px;color:#333;text-align:center}.tabulator-edit-list .tabulator-edit-list-group{border-bottom:1px solid #ddd;padding:6px 4px 4px;color:#333;font-weight:700}.tabulator-edit-list .tabulator-edit-list-group.tabulator-edit-list-group-level-2,.tabulator-edit-list .tabulator-edit-list-item.tabulator-edit-list-group-level-2{padding-left:12px}.tabulator-edit-list .tabulator-edit-list-group.tabulator-edit-list-group-level-3,.tabulator-edit-list .tabulator-edit-list-item.tabulator-edit-list-group-level-3{padding-left:20px}.tabulator-edit-list .tabulator-edit-list-group.tabulator-edit-list-group-level-4,.tabulator-edit-list .tabulator-edit-list-item.tabulator-edit-list-group-level-4{padding-left:28px}.tabulator-edit-list .tabulator-edit-list-group.tabulator-edit-list-group-level-5,.tabulator-edit-list .tabulator-edit-list-item.tabulator-edit-list-group-level-5{padding-left:36px}.tabulator.tabulator-ltr{direction:ltr}.tabulator.tabulator-rtl{text-align:initial;direction:rtl}.tabulator.tabulator-rtl .tabulator-header .tabulator-col{text-align:initial;border-left:1px solid #ddd;border-right:initial}.tabulator.tabulator-rtl .tabulator-header .tabulator-col.tabulator-col-group .tabulator-col-group-cols{margin-right:0;margin-left:-1px}.tabulator.tabulator-rtl .tabulator-header .tabulator-col.tabulator-sortable .tabulator-col-title{padding-right:0;padding-left:25px}.tabulator.tabulator-rtl .tabulator-header .tabulator-col .tabulator-col-content .tabulator-col-sorter{left:8px;right:auto}.tabulator.tabulator-rtl .tabulator-row .tabulator-cell{border-right:initial;border-left:1px solid #ddd}.tabulator.tabulator-rtl .tabulator-row .tabulator-cell .tabulator-data-tree-branch{margin-right:0;margin-left:5px;border-bottom-left-radius:0;border-bottom-right-radius:1px;border-left:initial;border-right:2px solid #ddd}.tabulator.tabulator-rtl .tabulator-row .tabulator-cell .tabulator-data-tree-control{margin-right:0;margin-left:5px}.tabulator.tabulator-rtl .tabulator-row .tabulator-cell.tabulator-frozen.tabulator-frozen-left{border-left:2px solid #ddd}.tabulator.tabulator-rtl .tabulator-row .tabulator-cell.tabulator-frozen.tabulator-frozen-right{border-right:2px solid #ddd}.tabulator.tabulator-rtl .tabulator-row .tabulator-col-resize-handle:last-of-type{width:3px;margin-left:0;margin-right:-3px}.tabulator.tabulator-rtl .tabulator-footer .tabulator-calcs-holder{text-align:initial}.tabulator-print-fullscreen{position:absolute;top:0;bottom:0;left:0;right:0;z-index:10000}body.tabulator-print-fullscreen-hide>:not(.tabulator-print-fullscreen){display:none!important}.tabulator-print-table{border-collapse:collapse}.tabulator-print-table .tabulator-data-tree-branch{display:inline-block;vertical-align:middle;height:9px;width:7px;margin-top:-9px;margin-right:5px;border-bottom-left-radius:1px;border-left:2px solid #ddd;border-bottom:2px solid #ddd}.tabulator-print-table .tabulator-print-table-group{box-sizing:border-box;border-bottom:1px solid #999;border-right:1px solid #ddd;border-top:1px solid #999;padding:5px 5px 5px 10px;background:#ccc;font-weight:700;min-width:100%}@media (hover:hover) and (pointer:fine){.tabulator-print-table .tabulator-print-table-group:hover{cursor:pointer;background-color:rgba(0,0,0,.1)}}.tabulator-print-table .tabulator-print-table-group.tabulator-group-visible .tabulator-arrow{margin-right:10px;border-left:6px solid transparent;border-right:6px solid transparent;border-top:6px solid #666;border-bottom:0}.tabulator-print-table .tabulator-print-table-group.tabulator-group-level-1 td{padding-left:30px!important}.tabulator-print-table .tabulator-print-table-group.tabulator-group-level-2 td{padding-left:50px!important}.tabulator-print-table .tabulator-print-table-group.tabulator-group-level-3 td{padding-left:70px!important}.tabulator-print-table .tabulator-print-table-group.tabulator-group-level-4 td{padding-left:90px!important}.tabulator-print-table .tabulator-print-table-group.tabulator-group-level-5 td{padding-left:110px!important}.tabulator-print-table .tabulator-print-table-group .tabulator-group-toggle{display:inline-block}.tabulator-print-table .tabulator-print-table-group .tabulator-arrow{display:inline-block;width:0;height:0;margin-right:16px;border-top:6px solid transparent;border-bottom:6px solid transparent;border-right:0;border-left:6px solid #666;vertical-align:middle}.tabulator-print-table .tabulator-print-table-group span{color:#d00}.tabulator-print-table .tabulator-data-tree-control{display:inline-flex;justify-content:center;align-items:center;vertical-align:middle;height:11px;width:11px;margin-right:5px;border:1px solid #333;border-radius:2px;background:rgba(0,0,0,.1);overflow:hidden}@media (hover:hover) and (pointer:fine){.tabulator-print-table .tabulator-data-tree-control:hover{cursor:pointer;background:rgba(0,0,0,.2)}}.tabulator-print-table .tabulator-data-tree-control .tabulator-data-tree-control-collapse{display:inline-block;position:relative;height:7px;width:1px;background:transparent}.tabulator-print-table .tabulator-data-tree-control .tabulator-data-tree-control-collapse:after{position:absolute;content:\\\"\\\";left:-3px;top:3px;height:1px;width:7px;background:#333}.tabulator-print-table .tabulator-data-tree-control .tabulator-data-tree-control-expand{display:inline-block;position:relative;height:7px;width:1px;background:#333}.tabulator-print-table .tabulator-data-tree-control .tabulator-data-tree-control-expand:after{position:absolute;content:\\\"\\\";left:-3px;top:3px;height:1px;width:7px;background:#333}.tabulator{border:none;background-color:#fff}.tabulator .tabulator-header .tabulator-calcs-holder{background:#f2f2f2!important;border-bottom:1px solid #999}.tabulator .tabulator-header .tabulator-calcs-holder .tabulator-row{background:#f2f2f2!important}.tabulator .tabulator-tableholder .tabulator-placeholder span{color:#000}.tabulator .tabulator-footer .tabulator-calcs-holder{background:#f2f2f2!important;border-bottom:1px solid #fff}.tabulator .tabulator-footer .tabulator-calcs-holder .tabulator-row{background:#f2f2f2!important}.tabulator-row{border-bottom:1px solid #ddd}.tabulator-row .tabulator-cell:last-of-type{border-right:none}.tabulator-row.tabulator-group span{color:#666}.tabulator-print-table .tabulator-print-table-group span{margin-left:10px;color:#666}\\n/*# sourceMappingURL=tabulator_simple.min.css.map */\");\n    },    function(Bokeh) {\n      Bokeh.set_log_level(\"info\");\n    },\nfunction(Bokeh) {} // ensure no trailing comma for IE\n  ];\n\n  function run_inline_js() {\n    if ((root.Bokeh !== undefined) || (force === true)) {\n      for (var i = 0; i < inline_js.length; i++) {\n        inline_js[i].call(root, root.Bokeh);\n      }\n      // Cache old bokeh versions\n      if (Bokeh != undefined && !reloading) {\n\tvar NewBokeh = root.Bokeh;\n\tif (Bokeh.versions === undefined) {\n\t  Bokeh.versions = new Map();\n\t}\n\tif (NewBokeh.version !== Bokeh.version) {\n\t  Bokeh.versions.set(NewBokeh.version, NewBokeh)\n\t}\n\troot.Bokeh = Bokeh;\n      }} else if (Date.now() < root._bokeh_timeout) {\n      setTimeout(run_inline_js, 100);\n    } else if (!root._bokeh_failed_load) {\n      console.log(\"Bokeh: BokehJS failed to load within specified timeout.\");\n      root._bokeh_failed_load = true;\n    }\n    root._bokeh_is_initializing = false\n  }\n\n  function load_or_wait() {\n    // Implement a backoff loop that tries to ensure we do not load multiple\n    // versions of Bokeh and its dependencies at the same time.\n    // In recent versions we use the root._bokeh_is_initializing flag\n    // to determine whether there is an ongoing attempt to initialize\n    // bokeh, however for backward compatibility we also try to ensure\n    // that we do not start loading a newer (Panel>=1.0 and Bokeh>3) version\n    // before older versions are fully initialized.\n    if (root._bokeh_is_initializing && Date.now() > root._bokeh_timeout) {\n      root._bokeh_is_initializing = false;\n      root._bokeh_onload_callbacks = undefined;\n      console.log(\"Bokeh: BokehJS was loaded multiple times but one version failed to initialize.\");\n      load_or_wait();\n    } else if (root._bokeh_is_initializing || (typeof root._bokeh_is_initializing === \"undefined\" && root._bokeh_onload_callbacks !== undefined)) {\n      setTimeout(load_or_wait, 100);\n    } else {\n      Bokeh = root.Bokeh;\n      bokeh_loaded = Bokeh != null && (Bokeh.version === py_version || (Bokeh.versions !== undefined && Bokeh.versions.has(py_version)));\n      root._bokeh_is_initializing = true\n      root._bokeh_onload_callbacks = []\n      if (!reloading && (!bokeh_loaded || is_dev)) {\n\troot.Bokeh = undefined;\n      }\n      load_libs(css_urls, js_urls, js_modules, js_exports, function() {\n\tconsole.debug(\"Bokeh: BokehJS plotting callback run at\", now());\n\trun_inline_js();\n      });\n    }\n  }\n  // Give older versions of the autoload script a head-start to ensure\n  // they initialize before we start loading newer version.\n  setTimeout(load_or_wait, 100)\n}(window));",
      "application/vnd.holoviews_load.v0+json": ""
     },
     "metadata": {},
     "output_type": "display_data"
    },
    {
     "data": {
      "application/javascript": "\nif ((window.PyViz === undefined) || (window.PyViz instanceof HTMLElement)) {\n  window.PyViz = {comms: {}, comm_status:{}, kernels:{}, receivers: {}, plot_index: []}\n}\n\n\n    function JupyterCommManager() {\n    }\n\n    JupyterCommManager.prototype.register_target = function(plot_id, comm_id, msg_handler) {\n      if (window.comm_manager || ((window.Jupyter !== undefined) && (Jupyter.notebook.kernel != null))) {\n        var comm_manager = window.comm_manager || Jupyter.notebook.kernel.comm_manager;\n        comm_manager.register_target(comm_id, function(comm) {\n          comm.on_msg(msg_handler);\n        });\n      } else if ((plot_id in window.PyViz.kernels) && (window.PyViz.kernels[plot_id])) {\n        window.PyViz.kernels[plot_id].registerCommTarget(comm_id, function(comm) {\n          comm.onMsg = msg_handler;\n        });\n      } else if (typeof google != 'undefined' && google.colab.kernel != null) {\n        google.colab.kernel.comms.registerTarget(comm_id, (comm) => {\n          var messages = comm.messages[Symbol.asyncIterator]();\n          function processIteratorResult(result) {\n            var message = result.value;\n            console.log(message)\n            var content = {data: message.data, comm_id};\n            var buffers = []\n            for (var buffer of message.buffers || []) {\n              buffers.push(new DataView(buffer))\n            }\n            var metadata = message.metadata || {};\n            var msg = {content, buffers, metadata}\n            msg_handler(msg);\n            return messages.next().then(processIteratorResult);\n          }\n          return messages.next().then(processIteratorResult);\n        })\n      }\n    }\n\n    JupyterCommManager.prototype.get_client_comm = function(plot_id, comm_id, msg_handler) {\n      if (comm_id in window.PyViz.comms) {\n        return window.PyViz.comms[comm_id];\n      } else if (window.comm_manager || ((window.Jupyter !== undefined) && (Jupyter.notebook.kernel != null))) {\n        var comm_manager = window.comm_manager || Jupyter.notebook.kernel.comm_manager;\n        var comm = comm_manager.new_comm(comm_id, {}, {}, {}, comm_id);\n        if (msg_handler) {\n          comm.on_msg(msg_handler);\n        }\n      } else if ((plot_id in window.PyViz.kernels) && (window.PyViz.kernels[plot_id])) {\n        var comm = window.PyViz.kernels[plot_id].connectToComm(comm_id);\n        comm.open();\n        if (msg_handler) {\n          comm.onMsg = msg_handler;\n        }\n      } else if (typeof google != 'undefined' && google.colab.kernel != null) {\n        var comm_promise = google.colab.kernel.comms.open(comm_id)\n        comm_promise.then((comm) => {\n          window.PyViz.comms[comm_id] = comm;\n          if (msg_handler) {\n            var messages = comm.messages[Symbol.asyncIterator]();\n            function processIteratorResult(result) {\n              var message = result.value;\n              var content = {data: message.data};\n              var metadata = message.metadata || {comm_id};\n              var msg = {content, metadata}\n              msg_handler(msg);\n              return messages.next().then(processIteratorResult);\n            }\n            return messages.next().then(processIteratorResult);\n          }\n        }) \n        var sendClosure = (data, metadata, buffers, disposeOnDone) => {\n          return comm_promise.then((comm) => {\n            comm.send(data, metadata, buffers, disposeOnDone);\n          });\n        };\n        var comm = {\n          send: sendClosure\n        };\n      }\n      window.PyViz.comms[comm_id] = comm;\n      return comm;\n    }\n    window.PyViz.comm_manager = new JupyterCommManager();\n    \n\n\nvar JS_MIME_TYPE = 'application/javascript';\nvar HTML_MIME_TYPE = 'text/html';\nvar EXEC_MIME_TYPE = 'application/vnd.holoviews_exec.v0+json';\nvar CLASS_NAME = 'output';\n\n/**\n * Render data to the DOM node\n */\nfunction render(props, node) {\n  var div = document.createElement(\"div\");\n  var script = document.createElement(\"script\");\n  node.appendChild(div);\n  node.appendChild(script);\n}\n\n/**\n * Handle when a new output is added\n */\nfunction handle_add_output(event, handle) {\n  var output_area = handle.output_area;\n  var output = handle.output;\n  if ((output.data == undefined) || (!output.data.hasOwnProperty(EXEC_MIME_TYPE))) {\n    return\n  }\n  var id = output.metadata[EXEC_MIME_TYPE][\"id\"];\n  var toinsert = output_area.element.find(\".\" + CLASS_NAME.split(' ')[0]);\n  if (id !== undefined) {\n    var nchildren = toinsert.length;\n    var html_node = toinsert[nchildren-1].children[0];\n    html_node.innerHTML = output.data[HTML_MIME_TYPE];\n    var scripts = [];\n    var nodelist = html_node.querySelectorAll(\"script\");\n    for (var i in nodelist) {\n      if (nodelist.hasOwnProperty(i)) {\n        scripts.push(nodelist[i])\n      }\n    }\n\n    scripts.forEach( function (oldScript) {\n      var newScript = document.createElement(\"script\");\n      var attrs = [];\n      var nodemap = oldScript.attributes;\n      for (var j in nodemap) {\n        if (nodemap.hasOwnProperty(j)) {\n          attrs.push(nodemap[j])\n        }\n      }\n      attrs.forEach(function(attr) { newScript.setAttribute(attr.name, attr.value) });\n      newScript.appendChild(document.createTextNode(oldScript.innerHTML));\n      oldScript.parentNode.replaceChild(newScript, oldScript);\n    });\n    if (JS_MIME_TYPE in output.data) {\n      toinsert[nchildren-1].children[1].textContent = output.data[JS_MIME_TYPE];\n    }\n    output_area._hv_plot_id = id;\n    if ((window.Bokeh !== undefined) && (id in Bokeh.index)) {\n      window.PyViz.plot_index[id] = Bokeh.index[id];\n    } else {\n      window.PyViz.plot_index[id] = null;\n    }\n  } else if (output.metadata[EXEC_MIME_TYPE][\"server_id\"] !== undefined) {\n    var bk_div = document.createElement(\"div\");\n    bk_div.innerHTML = output.data[HTML_MIME_TYPE];\n    var script_attrs = bk_div.children[0].attributes;\n    for (var i = 0; i < script_attrs.length; i++) {\n      toinsert[toinsert.length - 1].childNodes[1].setAttribute(script_attrs[i].name, script_attrs[i].value);\n    }\n    // store reference to server id on output_area\n    output_area._bokeh_server_id = output.metadata[EXEC_MIME_TYPE][\"server_id\"];\n  }\n}\n\n/**\n * Handle when an output is cleared or removed\n */\nfunction handle_clear_output(event, handle) {\n  var id = handle.cell.output_area._hv_plot_id;\n  var server_id = handle.cell.output_area._bokeh_server_id;\n  if (((id === undefined) || !(id in PyViz.plot_index)) && (server_id !== undefined)) { return; }\n  var comm = window.PyViz.comm_manager.get_client_comm(\"hv-extension-comm\", \"hv-extension-comm\", function () {});\n  if (server_id !== null) {\n    comm.send({event_type: 'server_delete', 'id': server_id});\n    return;\n  } else if (comm !== null) {\n    comm.send({event_type: 'delete', 'id': id});\n  }\n  delete PyViz.plot_index[id];\n  if ((window.Bokeh !== undefined) & (id in window.Bokeh.index)) {\n    var doc = window.Bokeh.index[id].model.document\n    doc.clear();\n    const i = window.Bokeh.documents.indexOf(doc);\n    if (i > -1) {\n      window.Bokeh.documents.splice(i, 1);\n    }\n  }\n}\n\n/**\n * Handle kernel restart event\n */\nfunction handle_kernel_cleanup(event, handle) {\n  delete PyViz.comms[\"hv-extension-comm\"];\n  window.PyViz.plot_index = {}\n}\n\n/**\n * Handle update_display_data messages\n */\nfunction handle_update_output(event, handle) {\n  handle_clear_output(event, {cell: {output_area: handle.output_area}})\n  handle_add_output(event, handle)\n}\n\nfunction register_renderer(events, OutputArea) {\n  function append_mime(data, metadata, element) {\n    // create a DOM node to render to\n    var toinsert = this.create_output_subarea(\n    metadata,\n    CLASS_NAME,\n    EXEC_MIME_TYPE\n    );\n    this.keyboard_manager.register_events(toinsert);\n    // Render to node\n    var props = {data: data, metadata: metadata[EXEC_MIME_TYPE]};\n    render(props, toinsert[0]);\n    element.append(toinsert);\n    return toinsert\n  }\n\n  events.on('output_added.OutputArea', handle_add_output);\n  events.on('output_updated.OutputArea', handle_update_output);\n  events.on('clear_output.CodeCell', handle_clear_output);\n  events.on('delete.Cell', handle_clear_output);\n  events.on('kernel_ready.Kernel', handle_kernel_cleanup);\n\n  OutputArea.prototype.register_mime_type(EXEC_MIME_TYPE, append_mime, {\n    safe: true,\n    index: 0\n  });\n}\n\nif (window.Jupyter !== undefined) {\n  try {\n    var events = require('base/js/events');\n    var OutputArea = require('notebook/js/outputarea').OutputArea;\n    if (OutputArea.prototype.mime_types().indexOf(EXEC_MIME_TYPE) == -1) {\n      register_renderer(events, OutputArea);\n    }\n  } catch(err) {\n  }\n}\n",
      "application/vnd.holoviews_load.v0+json": ""
     },
     "metadata": {},
     "output_type": "display_data"
    },
    {
     "data": {
      "text/html": [
       "<style>*[data-root-id],\n",
       "*[data-root-id] > * {\n",
       "  box-sizing: border-box;\n",
       "  font-family: var(--jp-ui-font-family);\n",
       "  font-size: var(--jp-ui-font-size1);\n",
       "  color: var(--vscode-editor-foreground, var(--jp-ui-font-color1));\n",
       "}\n",
       "\n",
       "/* Override VSCode background color */\n",
       ".cell-output-ipywidget-background:has(\n",
       "    > .cell-output-ipywidget-background > .lm-Widget > *[data-root-id]\n",
       "  ),\n",
       ".cell-output-ipywidget-background:has(> .lm-Widget > *[data-root-id]) {\n",
       "  background-color: transparent !important;\n",
       "}\n",
       "</style>"
      ]
     },
     "metadata": {},
     "output_type": "display_data"
    },
    {
     "data": {
      "application/vnd.jupyter.widget-view+json": {
       "model_id": "92951aab24f6425490f5ec8248103228",
       "version_major": 2,
       "version_minor": 0
      },
      "text/plain": [
       "Column\n",
       "    [0] Tabulator(disabled=True, height=400, page_size=10, pagination='local', show_index=False, sorters=[{'field': 'Modification D...], value=              ...)\n",
       "    [1] Tabulator(disabled=True, height=400, page_size=10, pagination='local', show_index=False, sorters=[{'field': 'Modification D...], value=              ...)\n",
       "    [2] Column(margin=(10, 0))\n",
       "        [0] HTML(str)\n",
       "        [1] Row\n",
       "            [0] IntInput(end=100, name='Min FR (Hz)', start=0, value=2, width=150)\n",
       "            [1] TextInput(name='QClu Values', placeholder='Enter as list: [1, ..., value='[1, 2, 4, 6, 7, 8, 9]')\n",
       "    [3] Row\n",
       "        [0] Button(button_type='success', name='Save')\n",
       "        [1] Button(button_type='primary', disabled=True, name='Load')\n",
       "        [2] Button(button_type='warning', name='Compute')\n",
       "        [3] Button(button_type='primary', name='Compute New')"
      ]
     },
     "metadata": {},
     "output_type": "display_data"
    }
   ],
   "source": [
    "from pyphoplacecellanalysis.GUI.IPyWidgets.pipeline_ipywidgets import PipelineJupyterHelpers, CustomProcessingPhases, PipelinePickleFileSelectorWidget\n",
    "\n",
    "# ## INPUTS: basedir\n",
    "# active_session_pickle_file_widget = PipelinePickleFileSelectorWidget(directory=basedir)\n",
    "\n",
    "extended_computations_include_includelist_phase_dict: Dict[str, CustomProcessingPhases] = CustomProcessingPhases.get_extended_computations_include_includelist_phase_dict()\n",
    "\n",
    "current_phase: CustomProcessingPhases = CustomProcessingPhases[selector.value]  # Assuming selector.value is an instance of CustomProcessingPhases\n",
    "extended_computations_include_includelist: List[str] = [key for key, value in extended_computations_include_includelist_phase_dict.items() if value <= current_phase]\n",
    "display(extended_computations_include_includelist)\n",
    "force_recompute_override_computations_includelist = None\n",
    "# force_recompute_override_computations_includelist = ['split_to_directional_laps', 'merged_directional_placefields', 'rank_order_shuffle_analysis', 'directional_decoders_decode_continuous'] # \n",
    "\n",
    "# ## INPUTS: basedir\n",
    "active_session_pickle_file_widget = PipelinePickleFileSelectorWidget(directory=basedir, on_update_global_variable_callback=update_global_variable, on_get_global_variable_callback=get_global_variable)\n",
    "\n",
    "_subfn_load, _subfn_save, _subfn_compute, _subfn_compute_new = active_session_pickle_file_widget._build_load_save_callbacks(global_data_root_parent_path=global_data_root_parent_path, active_data_mode_name=active_data_mode_name, basedir=basedir, saving_mode=saving_mode, force_reload=force_reload,\n",
    "                                                             extended_computations_include_includelist=extended_computations_include_includelist, force_recompute_override_computations_includelist=force_recompute_override_computations_includelist)\n",
    "\n",
    "\n",
    "# Display the widget\n",
    "display(active_session_pickle_file_widget.servable())\n",
    "# active_session_pickle_file_widget.local_file_browser_widget.servable()\n",
    "# active_session_pickle_file_widget.global_file_browser_widget.servable()\n",
    "# display(active_session_pickle_file_widget.local_file_browser_widget.servable())\n",
    "# display(active_session_pickle_file_widget.global_file_browser_widget.servable())\n",
    "\n",
    "# OUTPUTS: active_session_pickle_file_widget, widget.active_local_pkl, widget.active_global_pkl\n",
    "\n",
    "if selector.value == 'clean_run':\n",
    "    ## handle a clean run specially, this will create the pkls and not load them\n",
    "    print(f'clean run!')\n",
    "    default_selected_local_file_name: str = 'loadedSessPickle.pkl'\n",
    "    default_selected_global_file_name: str = 'global_computation_results.pkl'\n",
    "    # active_session_pickle_file_widget.is_compute_button_disabled = False # enable the compute button always during a clean run\n",
    "    # active_session_pickle_file_widget.is_load_button_disabled = True\n",
    "    \n",
    "    new_default_local_pkl_file: Path = active_session_pickle_file_widget.directory.joinpath(default_selected_local_file_name).resolve()\n",
    "    print(f'new_default_local_pkl_file: {new_default_local_pkl_file}')\n",
    "\n",
    "    active_session_pickle_file_widget.selected_local_pkl_files = [new_default_local_pkl_file]\n",
    "    active_session_pickle_file_widget.selected_global_pkl_files = []\n",
    "    active_session_pickle_file_widget._update_load_save_button_disabled_state()\n",
    "    print(f'active_session_pickle_file_widget.is_load_button_disabled: {active_session_pickle_file_widget.is_load_button_disabled}')\n",
    "    print(f'active_session_pickle_file_widget.is_compute_button_disabled: {active_session_pickle_file_widget.is_compute_button_disabled}')\n",
    "    print(f'active_local_pkl: \"{active_session_pickle_file_widget.active_local_pkl}\"')\n",
    "    print(f'active_global_pkl: \"{active_session_pickle_file_widget.active_global_pkl}\"')\n",
    "    active_session_pickle_file_widget.load_button.disabled = False\n",
    "    active_session_pickle_file_widget.compute_button.disabled = False\n",
    "else:\n",
    "    # not `clean_run` mode, continuing processing which might include loading from pickles\n",
    "    ## try selecting the first\n",
    "    did_find_valid_selection: bool = active_session_pickle_file_widget.try_select_first_valid_files()\n",
    "\n",
    "    ## Set default local comp pkl:\n",
    "    default_selected_local_file_name: str = 'loadedSessPickle.pkl'\n",
    "    if not active_session_pickle_file_widget.is_local_file_names_list_empty:\n",
    "        default_local_section_indicies = [active_session_pickle_file_widget.local_file_browser_widget._data['File Name'].tolist().index(default_selected_local_file_name)]\n",
    "        active_session_pickle_file_widget.local_file_browser_widget.selection = default_local_section_indicies\n",
    "\n",
    "    ## Set default global computation pkl:\n",
    "    default_selected_global_file_name: str = 'global_computation_results.pkl'\n",
    "    if not active_session_pickle_file_widget.is_global_file_names_list_empty:\n",
    "        default_global_section_indicies = [active_session_pickle_file_widget.global_file_browser_widget._data['File Name'].tolist().index(default_selected_global_file_name)]\n",
    "        active_session_pickle_file_widget.global_file_browser_widget.selection = default_global_section_indicies\n",
    "\n"
   ]
  },
  {
   "cell_type": "code",
   "execution_count": null,
   "id": "222b1147",
   "metadata": {
    "tags": [
     "run-main"
    ]
   },
   "outputs": [],
   "source": [
    "did_find_valid_selection: bool = active_session_pickle_file_widget.try_select_first_valid_files()\n",
    "did_find_valid_selection\n"
   ]
  },
  {
   "cell_type": "code",
   "execution_count": null,
   "id": "26ac0930",
   "metadata": {},
   "outputs": [],
   "source": [
    "if did_find_valid_selection:\n",
    "    _subfn_load()\n",
    "    \n"
   ]
  },
  {
   "cell_type": "code",
   "execution_count": null,
   "id": "669bb69c",
   "metadata": {
    "tags": [
     "run-main"
    ]
   },
   "outputs": [],
   "source": [
    "if did_find_valid_selection:\n",
    "    curr_active_pipeline, custom_suffix, proposed_load_pkl_path = active_session_pickle_file_widget.on_load_local(global_data_root_parent_path=global_data_root_parent_path, active_data_mode_name=active_data_mode_name, basedir=basedir, saving_mode=saving_mode, force_reload=force_reload)\n",
    "    print(f'on_load_local(...) complete. workspace variables updated: curr_active_pipeline, custom_suffix, proposed_load_pkl_path')\n",
    "    "
   ]
  },
  {
   "cell_type": "code",
   "execution_count": null,
   "id": "cd8a538a",
   "metadata": {},
   "outputs": [],
   "source": [
    "if did_find_valid_selection:\n",
    "    skip_global_load = False\n",
    "    curr_active_pipeline = active_session_pickle_file_widget.on_load_global(curr_active_pipeline=curr_active_pipeline, basedir=basedir, extended_computations_include_includelist=extended_computations_include_includelist, force_recompute_override_computations_includelist=force_recompute_override_computations_includelist,\n",
    "                                skip_global_load=skip_global_load, force_reload=False, override_global_computation_results_pickle_path=active_session_pickle_file_widget.active_global_pkl)\n",
    "    # Update the global variable after loading global\n",
    "    print(f'on_load_global(...) complete. workspace variables updated: curr_active_pipeline, custom_suffix, proposed_load_pkl_path')\n"
   ]
  },
  {
   "cell_type": "markdown",
   "id": "b2d280d3",
   "metadata": {},
   "source": [
    "## Manual Recomputations:"
   ]
  },
  {
   "cell_type": "code",
   "execution_count": 4,
   "id": "73fd6416",
   "metadata": {
    "tags": [
     "run-main",
     "active-2025-09-21",
     "run-fresh-load"
    ]
   },
   "outputs": [
    {
     "name": "stdout",
     "output_type": "stream",
     "text": [
      "active_data_session_types_registered_classes_dict: {'bapun': <class 'neuropy.core.session.Formats.Specific.BapunDataSessionFormat.BapunDataSessionFormatRegisteredClass'>, 'kdiba': <class 'neuropy.core.session.Formats.Specific.KDibaOldDataSessionFormat.KDibaOldDataSessionFormatRegisteredClass'>}\n",
      "force_reload: False\n",
      "Computing loaded session pickle file results : \"H:/Data/Bapun/RatS/Day5TwoNovel/loadedSessPickle.pkl\"... \tdone.\n",
      "\tdone.\n",
      "\tdone.\n",
      "\tdone.\n",
      "\tdone.\n",
      "\tdone.\n",
      "\tdone.\n",
      "\tdone.\n",
      "\tdone.\n",
      "\tdone.\n",
      "\tdone.\n",
      "\tdone.\n",
      "\tdone.\n",
      "\tdone.\n",
      "\tdone.\n",
      "\tdone.\n",
      "build_logger(full_logger_string=\"2025-09-29_01-09-14.Apogee.bapun.RatS.Day5TwoNovel\", file_logging_dir: None):\n",
      "done.\n",
      "Loading pickled pipeline success: H:\\Data\\Bapun\\RatS\\Day5TwoNovel\\loadedSessPickle.pkl.\n"
     ]
    },
    {
     "name": "stderr",
     "output_type": "stream",
     "text": [
      "WARNING: SpikesAccessor.set_time_variable_name(new_time_variable_name: t_seconds) has been called. Be careful!\n",
      "\t time variable changed from 't_rel_seconds' to 't_seconds'.\n"
     ]
    },
    {
     "name": "stdout",
     "output_type": "stream",
     "text": [
      "\t time variable changed!\n",
      "properties already present in pickled version. No need to save.\n",
      "pipeline load success!\n"
     ]
    }
   ],
   "source": [
    "### Bapun Open-Field Experiment (2022-08-09 Analysis)\n",
    "from neuropy.core.session.SessionSelectionAndFiltering import build_custom_epochs_filters # used particularly to build Bapun-style filters\n",
    "\n",
    "active_data_mode_name = 'bapun'\n",
    "# active_data_mode_name = 'rachel'\n",
    "print(f'active_data_session_types_registered_classes_dict: {active_data_session_types_registered_classes_dict}')\n",
    "active_data_mode_registered_class = active_data_session_types_registered_classes_dict[active_data_mode_name]\n",
    "active_data_mode_type_properties = known_data_session_type_properties_dict[active_data_mode_name]\n",
    "\n",
    "\n",
    "# basedir = Path('/media/halechr/MAX/Data/Rachel/Cho_241117_Session2').resolve()\n",
    "## INPUTS: basedir \n",
    "\n",
    "force_reload = force_reload #True\n",
    "print(f'force_reload: {force_reload}')\n",
    "curr_active_pipeline = NeuropyPipeline.try_init_from_saved_pickle_or_reload_if_needed(active_data_mode_name, active_data_mode_type_properties, override_basepath=Path(basedir), force_reload=force_reload) # , override_parameters_flat_keypaths_dict=override_parameters\n",
    "\n",
    "# _test_session = RachelDataSessionFormat.build_session(Path(r'R:\\data\\Rachel\\merged_M1_20211123_raw_phy'))\n",
    "# _test_session, loaded_file_record_list = RachelDataSessionFormat.load_session(_test_session)\n",
    "# _test_session\n",
    "\n",
    "## ~20m"
   ]
  },
  {
   "cell_type": "markdown",
   "id": "f42da889",
   "metadata": {},
   "source": [
    "##### Old not needed anymore manual comps"
   ]
  },
  {
   "cell_type": "code",
   "execution_count": null,
   "id": "621607ef",
   "metadata": {},
   "outputs": [],
   "source": [
    "curr_epoch_names: List[str] = curr_active_pipeline.sess.epochs.to_dataframe()['label'].to_list()\n",
    "print(f'curr_epoch_names: {curr_epoch_names}')"
   ]
  },
  {
   "cell_type": "code",
   "execution_count": null,
   "id": "a686d53e",
   "metadata": {
    "tags": [
     "run-main"
    ]
   },
   "outputs": [],
   "source": [
    "from neuropy.core.session.SessionSelectionAndFiltering import build_custom_epochs_filters\n",
    "\n",
    "# epoch_name_includelist = ['pre', 'maze1', 'post1', 'maze2', 'post2']\n",
    "# epoch_name_includelist = ['pre', 'roam', 'sprinkle', 'post']\n",
    "# epoch_name_includelist = ['roam', 'sprinkle']\n",
    "\n",
    "# active_session_filter_configurations = build_custom_epochs_filters(curr_active_pipeline.sess, epoch_name_includelist=['pre', 'maze1', 'post1', 'maze2', 'post2']) ## ALL possible epochs\n",
    "\n",
    "# active_session_filter_configurations = build_custom_epochs_filters(curr_active_pipeline.sess, epoch_name_includelist=['maze1', 'maze2', 'maze_GLOBAL']) ## ALL possible epochs\n",
    "active_session_filter_configurations = build_custom_epochs_filters(curr_active_pipeline.sess, epoch_name_includelist=['maze1', 'maze2', 'maze_GLOBAL']) ## ALL possible epochs\n",
    "\n",
    "# active_session_filter_configurations = active_data_mode_registered_class.build_default_filter_functions(sess=curr_active_pipeline.sess)\n",
    "# active_session_filter_configurations = build_custom_epochs_filters(curr_active_pipeline.sess, epoch_name_includelist=['pre', 'roam', 'maze', 'sprinkle', 'post']) ## ALL possible epochs\n",
    "# active_session_filter_configurations = build_custom_epochs_filters(curr_active_pipeline.sess, epoch_name_includelist=['pre', 'roam', 'sprinkle', 'post']) ## ALL possible epochs\n",
    "\n",
    "\n",
    "# active_session_filter_configurations = active_data_mode_registered_class.build_default_filter_functions(sess=curr_active_pipeline.sess, epoch_name_includelist=epoch_name_includelist) # build_filters_pyramidal_epochs(sess=curr_kdiba_pipeline.sess)\n",
    "# active_session_filter_configurations = build_custom_epochs_filters(curr_active_pipeline.sess, epoch_name_includelist=['maze','sprinkle'])\n",
    "# active_session_filter_configurations = build_custom_epochs_filters(curr_active_pipeline.sess, epoch_name_includelist=['maze', 'sprinkle'])\n",
    "# active_session_filter_configurations = build_custom_epochs_filters(curr_active_pipeline.sess, epoch_name_includelist=['roam', 'sprinkle']) # , 'maze'\n",
    "\n",
    "# active_session_filter_configurations = active_data_mode_registered_class.build_filters_pyramidal_epochs(curr_active_pipeline.sess, epoch_name_includelist=['maze','sprinkle'])\n",
    "# active_session_filter_configurations\n"
   ]
  },
  {
   "cell_type": "code",
   "execution_count": null,
   "id": "04689045",
   "metadata": {
    "tags": [
     "run-main"
    ]
   },
   "outputs": [],
   "source": [
    "curr_active_pipeline.filter_sessions(active_session_filter_configurations)\n"
   ]
  },
  {
   "cell_type": "code",
   "execution_count": null,
   "id": "7e5d068e",
   "metadata": {
    "tags": [
     "run-main"
    ]
   },
   "outputs": [],
   "source": [
    "active_session_computation_configs = active_data_mode_registered_class.build_active_computation_configs(sess=curr_active_pipeline.sess, time_bin_size=0.5)\n",
    "active_session_computation_configs"
   ]
  },
  {
   "cell_type": "code",
   "execution_count": null,
   "id": "0f59b426",
   "metadata": {},
   "outputs": [],
   "source": [
    "active_session_computation_configs[0].pf_params.computation_epochs"
   ]
  },
  {
   "cell_type": "code",
   "execution_count": null,
   "id": "47bcaaac",
   "metadata": {},
   "outputs": [],
   "source": [
    "# grid_bin_bounds=(((-83.33747881216672, 110.15967332926644), (-94.89955475226206, 97.07387994733473)))\n",
    "\n",
    "\n",
    "bapun_open_field_grid_bin_bounds = (((-120.0, 120.0), (-120.0, 120.0)))\n",
    "curr_active_pipeline.get_all_parameters()\n",
    "# curr_active_pipeline.update_parameters(grid_bin_bounds = (((-120.0, 120.0), (-120.0, 120.0))))\n",
    "curr_active_pipeline.sess.config.grid_bin_bounds = (((-120.0, 120.0), (-120.0, 120.0)))\n",
    "\n",
    "\n",
    "# override_parameters_flat_keypaths_dict = {'grid_bin_bounds': (((-120.0, 120.0), (-120.0, 120.0))), # 'rank_order_shuffle_analysis.minimum_inclusion_fr_Hz': minimum_inclusion_fr_Hz,\n",
    "# \t\t\t\t\t\t\t\t\t\t#   'sess.config.preprocessing_parameters.laps.use_direction_dependent_laps': False, # lap_estimation_parameters\n",
    "#                                         }\n",
    "\n",
    "# curr_active_pipeline.update_parameters(override_parameters_flat_keypaths_dict=override_parameters_flat_keypaths_dict) # should already be updated, but try it again anyway.\n"
   ]
  },
  {
   "cell_type": "code",
   "execution_count": null,
   "id": "76553c4f",
   "metadata": {},
   "outputs": [],
   "source": [
    "from neuropy.core.epoch import Epoch, EpochsAccessor, ensure_dataframe, ensure_Epoch\n",
    "\n",
    "\n",
    "# ==================================================================================================================================================================================================================================================================================== #\n",
    "# Update computation_epochs to be only the maze ones                                                                                                                                                                                                                                   #\n",
    "# ==================================================================================================================================================================================================================================================================================== #\n",
    "\n",
    "## activity_only_epochs_df:\n",
    "epochs_df = ensure_dataframe(deepcopy(curr_active_pipeline.sess.epochs))\n",
    "# activity_only_epochs_df: pd.DataFrame = epochs_df[epochs_df['label'].isin(['maze1', 'maze2', 'maze_GLOBAL'])]\n",
    "\n",
    "activity_only_epochs_df: pd.DataFrame = epochs_df[epochs_df['label'].isin(['maze1', 'maze2'])].epochs.get_non_overlapping_df()\n",
    "activity_only_epochs: Epoch = ensure_Epoch(activity_only_epochs_df, metadata=curr_active_pipeline.sess.epochs.metadata)\n",
    "\n",
    "## GLobal only ('maze_GLOBAL')\n",
    "epochs_df = ensure_dataframe(deepcopy(curr_active_pipeline.sess.epochs))\n",
    "global_activity_only_epochs_df: pd.DataFrame = epochs_df[epochs_df['label'].isin(['maze_GLOBAL'])].epochs.get_non_overlapping_df()\n",
    "global_activity_only_epoch: Epoch = ensure_Epoch(global_activity_only_epochs_df, metadata=curr_active_pipeline.sess.epochs.metadata)\n",
    "\n",
    "## OUTPUTS: activity_only_epochs, global_activity_only_epoch\n",
    "\n",
    "## OUTPUTS: activity_only_epoch\n",
    "\n",
    "\n",
    "# active_session_computation_configs[0].pf_params.computation_epochs = deepcopy(curr_active_pipeline.filtered_sessions['maze'].epochs)\n",
    "# active_session_computation_configs[0].pf_params.computation_epochs = deepcopy(curr_active_pipeline.sess.epochs)\n",
    "# active_session_computation_configs[0].pf_params.computation_epochs = deepcopy(curr_active_pipeline.sess.epochs) ## prev\n",
    "active_session_computation_configs[0].pf_params.computation_epochs = deepcopy(activity_only_epochs)\n",
    "\n",
    "global_only_sess_comp_config = deepcopy(active_session_computation_configs[0])\n",
    "global_only_sess_comp_config.pf_params.computation_epochs = deepcopy(global_activity_only_epoch)\n",
    "if len(active_session_computation_configs) < 2:\n",
    "    active_session_computation_configs.append(global_only_sess_comp_config)\n",
    "else:\n",
    "    active_session_computation_configs[1] = global_only_sess_comp_config\n",
    "\n",
    "# active_session_computation_configs[0].pf_params.computation_epochs = deepcopy(bapun_epochs)\n",
    "# active_session_computation_configs[1].pf_params.computation_epochs = deepcopy(curr_active_pipeline.filtered_sessions['maze'].epochs.to_dataframe())\n",
    "active_session_computation_configs\n",
    "# active_session_computation_configs[0].pf_params.computation_epochs\n",
    "\n",
    "#    start   stop     label  duration\n",
    "# 0      0   7407       pre      7407\n",
    "# 1   7423  11483      maze      4060\n",
    "# 3  10186  11483  sprinkle      1297\n",
    "# 2  11497  25987      post     14490\n",
    "\n",
    "# [4 rows x 4 columns]\n",
    "\n",
    "## UPDATES: active_session_computation_configs\n"
   ]
  },
  {
   "cell_type": "code",
   "execution_count": null,
   "id": "ed3d8497",
   "metadata": {
    "tags": [
     "run-main"
    ]
   },
   "outputs": [],
   "source": [
    "active_session_computation_configs[0].pf_params.linearization_method = \"umap\"\n",
    "\n",
    "for an_epoch_name, a_sess in curr_active_pipeline.filtered_sessions.items():\n",
    "    ## forcibly compute the linearized position so it doesn't fallback to \"isomap\" method which eats all the memory\n",
    "    a_pos_df: pd.DataFrame = a_sess.position.compute_linearized_position(method='umap')\n",
    "    \n"
   ]
  },
  {
   "cell_type": "code",
   "execution_count": null,
   "id": "7cb73824",
   "metadata": {},
   "outputs": [],
   "source": [
    "# activity_only_epoch_names: List[str] = ['maze1', 'maze2', 'maze_GLOBAL']\n",
    "# active_computation_functions_name_includelist\n",
    "activity_only_epoch_names: List[str] = active_session_computation_configs[0].pf_params.computation_epochs.labels.tolist() ## should be same as config\n",
    "activity_only_epoch_names\n",
    "\n",
    "# # Create non-overlapping version\n",
    "# non_overlapping_epochs = ensure_Epoch(active_session_computation_configs[0].pf_params.computation_epochs.epochs.get_non_overlapping_df())\n",
    "# active_session_computation_configs[0].pf_params.computation_epochs = non_overlapping_epochs\n"
   ]
  },
  {
   "cell_type": "code",
   "execution_count": null,
   "id": "ce66ac27",
   "metadata": {},
   "outputs": [],
   "source": [
    "from pyphoplacecellanalysis.General.Pipeline.NeuropyPipeline import NeuropyPipeline\n",
    "from pyphoplacecellanalysis.General.Batch.NonInteractiveProcessing import batch_extended_computations\n",
    "\n",
    "curr_active_pipeline.reload_default_computation_functions()\n",
    "    \n",
    "active_computation_functions_name_includelist = ['pf_computation',\n",
    "                                                'pfdt_computation',\n",
    "                                                'position_decoding',\n",
    "                                                #  'position_decoding_two_step',\n",
    "                                                #  'extended_pf_peak_information',\n",
    "                                                ] # 'ratemap_peaks_prominence2d'\n",
    "\n",
    "\n",
    "## Loops through all configs\n",
    "for i, a_config in enumerate(active_session_computation_configs):\n",
    "    active_epoch_names: List[str] = a_config.pf_params.computation_epochs.labels.tolist() ## should be same as config\n",
    "    print(f'i: {i}, active_epoch_names: {active_epoch_names}') # (activity_only_epoch_names)\n",
    "\n",
    "    # curr_active_pipeline.perform_computations(active_session_computation_configs[0], computation_functions_name_excludelist=['_perform_spike_burst_detection_computation', '_perform_velocity_vs_pf_density_computation', '_perform_velocity_vs_pf_simplified_count_density_computation']) # SpikeAnalysisComputations._perform_spike_burst_detection_computation\n",
    "    # curr_active_pipeline.perform_computations(active_session_computation_configs[0], computation_functions_name_includelist=active_computation_functions_name_includelist, enabled_filter_names=activity_only_epoch_names, overwrite_extant_results=True, fail_on_exception=False, debug_print=True) # SpikeAnalysisComputations._perform_spike_burst_detection_computation\n",
    "    curr_active_pipeline.perform_computations(a_config, computation_functions_name_includelist=active_computation_functions_name_includelist, enabled_filter_names=active_epoch_names, overwrite_extant_results=False, fail_on_exception=False, debug_print=True) # SpikeAnalysisComputations._perform_spike_burst_detection_computation\n",
    "\n"
   ]
  },
  {
   "cell_type": "code",
   "execution_count": null,
   "id": "e7dd9449",
   "metadata": {},
   "outputs": [],
   "source": [
    "curr_active_pipeline.active_completed_computation_result_names"
   ]
  },
  {
   "cell_type": "code",
   "execution_count": null,
   "id": "e3bc1838",
   "metadata": {},
   "outputs": [],
   "source": [
    "# curr_active_pipeline.perform_computations(active_session_computation_configs[0], computation_functions_name_includelist=active_computation_functions_name_includelist, enabled_filter_names=['maze1', 'maze2'], overwrite_extant_results=False, fail_on_exception=False, debug_print=True)"
   ]
  },
  {
   "cell_type": "code",
   "execution_count": null,
   "id": "9491af66",
   "metadata": {
    "tags": [
     "run-main"
    ]
   },
   "outputs": [],
   "source": [
    "# curr_active_pipeline.computation_results['maze'].accumulated_errors\n",
    "curr_active_pipeline.clear_all_failed_computations()"
   ]
  },
  {
   "cell_type": "code",
   "execution_count": null,
   "id": "f831df11",
   "metadata": {
    "tags": [
     "run-main"
    ]
   },
   "outputs": [],
   "source": [
    "curr_active_pipeline.prepare_for_display(root_output_dir=r'Output', should_smooth_maze=True) # TODO: pass a display config\n",
    "# curr_active_pipeline.prepare_for_display(root_output_dir=r'W:\\Data\\Output', should_smooth_maze=True) # TODO: pass a display config"
   ]
  },
  {
   "cell_type": "code",
   "execution_count": null,
   "id": "c1e45325",
   "metadata": {},
   "outputs": [],
   "source": [
    "curr_active_pipeline.pickle_path\n",
    "curr_active_pipeline.global_computation_results_pickle_path\n",
    "curr_active_pipeline.get_output_path()"
   ]
  },
  {
   "cell_type": "code",
   "execution_count": null,
   "id": "09507ee4",
   "metadata": {
    "tags": [
     "run-main"
    ]
   },
   "outputs": [],
   "source": [
    "_out = curr_active_pipeline.save_pipeline(saving_mode=PipelineSavingScheme.TEMP_THEN_OVERWRITE)\n",
    "# _out = curr_active_pipeline.save_pipeline(saving_mode=PipelineSavingScheme.OVERWRITE_IN_PLACE)\n",
    "# _out = curr_active_pipeline.save_pipeline(saving_mode=PipelineSavingScheme.TEMP_THEN_OVERWRITE, active_pickle_filename='loadedSessPickle_2025-02-26.pkl')\n"
   ]
  },
  {
   "cell_type": "code",
   "execution_count": null,
   "id": "fa4608e0",
   "metadata": {
    "tags": [
     "run-main"
    ]
   },
   "outputs": [],
   "source": [
    "_out = curr_active_pipeline.save_global_computation_results()#save_pipeline(saving_mode=PipelineSavingScheme.TEMP_THEN_OVERWRITE, active_pickle_filename='loadedSessPickle_2025-02-27.pkl')"
   ]
  },
  {
   "cell_type": "code",
   "execution_count": null,
   "id": "4797a9de",
   "metadata": {
    "tags": [
     "run-main"
    ]
   },
   "outputs": [],
   "source": [
    "# include_includelist = ['pre', 'maze1', 'post1', 'maze2', 'post2', 'maze',]\n",
    "include_includelist = ['roam', 'sprinkle']\n",
    "# include_includelist = curr_active_pipeline.filtered_session_names\n",
    "include_includelist"
   ]
  },
  {
   "cell_type": "code",
   "execution_count": null,
   "id": "d0d3cb87",
   "metadata": {},
   "outputs": [],
   "source": [
    "curr_active_pipeline.filtered_session_names"
   ]
  },
  {
   "cell_type": "code",
   "execution_count": null,
   "id": "9f9a01f5",
   "metadata": {},
   "outputs": [],
   "source": [
    "include_includelist = curr_active_pipeline.filtered_session_names\n",
    "print(f'include_includelist: {include_includelist}')"
   ]
  },
  {
   "cell_type": "code",
   "execution_count": null,
   "id": "dc61d93f",
   "metadata": {
    "tags": [
     "run-main"
    ]
   },
   "outputs": [],
   "source": [
    "## Setup Computation Functions to be executed:\n",
    "# includelist Mode:\n",
    "computation_functions_name_includelist=['_perform_baseline_placefield_computation', '_perform_time_dependent_placefield_computation', '_perform_extended_statistics_computation',\n",
    "                                '_perform_position_decoding_computation', \n",
    "                                '_perform_firing_rate_trends_computation',\n",
    "                                '_perform_pf_find_ratemap_peaks_computation',\n",
    "                                # '_perform_time_dependent_pf_sequential_surprise_computation'\n",
    "                                '_perform_two_step_position_decoding_computation',\n",
    "                                # '_perform_recursive_latent_placefield_decoding'\n",
    "                            ]  # '_perform_pf_find_ratemap_peaks_peak_prominence2d_computation'\n",
    "computation_functions_name_excludelist=None\n",
    "\n",
    "batch_extended_computations(curr_active_pipeline, included_computation_filter_names=computation_functions_name_includelist, include_includelist=include_includelist,\n",
    "                            include_global_functions=True, fail_on_exception=False, progress_print=True, debug_print=False)\n"
   ]
  },
  {
   "cell_type": "markdown",
   "id": "9845bf16",
   "metadata": {},
   "source": [
    "## NEW BATCH COMPUTE ALL"
   ]
  },
  {
   "cell_type": "code",
   "execution_count": 5,
   "id": "3c088e73",
   "metadata": {
    "tags": [
     "run-main",
     "run-load",
     "run-fresh-load",
     "active-2025-09-21"
    ]
   },
   "outputs": [
    {
     "name": "stdout",
     "output_type": "stream",
     "text": [
      "hardcoded_params.decoder_building_session_names: ['maze1', 'maze2', 'maze_GLOBAL']\n",
      "hardcoded_params.non_global_activity_session_names: ['maze1', 'maze2']\n",
      "active_data_session_types_registered_classes_dict: {'bapun': <class 'neuropy.core.session.Formats.Specific.BapunDataSessionFormat.BapunDataSessionFormatRegisteredClass'>, 'kdiba': <class 'neuropy.core.session.Formats.Specific.KDibaOldDataSessionFormat.KDibaOldDataSessionFormatRegisteredClass'>}\n",
      "WARN: already fixedup session epochs.\n",
      "curr_epoch_names: ['pre', 'maze_GLOBAL', 'maze1', 'post1', 'maze2', 'post2']\n",
      "computing linearized position for session using method=\"umap\"...\n"
     ]
    },
    {
     "name": "stderr",
     "output_type": "stream",
     "text": [
      "c:\\Users\\pho\\repos\\Spike3DWorkEnv\\Spike3D\\.venv\\lib\\site-packages\\umap\\umap_.py:1952: UserWarning: n_jobs value 1 overridden to 1 by setting random_state. Use no seed for parallelism.\n",
      "  warn(\n"
     ]
    },
    {
     "name": "stdout",
     "output_type": "stream",
     "text": [
      "estimating the laps from the linear position...\n",
      "estimating the maze_id to laps...\n"
     ]
    },
    {
     "name": "stderr",
     "output_type": "stream",
     "text": [
      "c:\\Users\\pho\\repos\\Spike3DWorkEnv\\Spike3D\\.venv\\lib\\site-packages\\umap\\umap_.py:1952: UserWarning: n_jobs value 1 overridden to 1 by setting random_state. Use no seed for parallelism.\n",
      "  warn(\n",
      "c:\\Users\\pho\\repos\\Spike3DWorkEnv\\Spike3D\\.venv\\lib\\site-packages\\umap\\umap_.py:1952: UserWarning: n_jobs value 1 overridden to 1 by setting random_state. Use no seed for parallelism.\n",
      "  warn(\n",
      "c:\\Users\\pho\\repos\\Spike3DWorkEnv\\Spike3D\\.venv\\lib\\site-packages\\umap\\umap_.py:1952: UserWarning: n_jobs value 1 overridden to 1 by setting random_state. Use no seed for parallelism.\n",
      "  warn(\n"
     ]
    },
    {
     "name": "stdout",
     "output_type": "stream",
     "text": [
      "i: 0, active_epoch_names: ['maze1', 'maze2']\n",
      "updating computation_results...\n",
      "done.\n",
      "Performing perform_action_for_all_contexts with action EvaluationActions.EVALUATE_COMPUTATIONS on filtered_session with filter named \"maze1\"...\n",
      "curr_active_computation_params.pf_params.computation_epochs: 1 epochs\n",
      "array([[11070, 13970]])\n",
      "\n",
      "WARNING: skipping computation because overwrite_extant_results=False and `active_computation_results[maze1]` already exists and is non-None\n",
      "\t TODO: this will prevent recomputation even when the excludelist/includelist or computation function definitions change. Rework so that this is smarter.\n",
      "updating computation_results...\n",
      "done.\n",
      "Performing perform_action_for_all_contexts with action EvaluationActions.EVALUATE_COMPUTATIONS on filtered_session with filter named \"maze2\"...\n",
      "curr_active_computation_params.pf_params.computation_epochs: 1 epochs\n",
      "array([[20756, 24004]])\n",
      "\n",
      "WARNING: skipping computation because overwrite_extant_results=False and `active_computation_results[maze2]` already exists and is non-None\n",
      "\t TODO: this will prevent recomputation even when the excludelist/includelist or computation function definitions change. Rework so that this is smarter.\n",
      "updating computation_results...\n",
      "done.\n",
      "i: 1, active_epoch_names: ['maze_GLOBAL']\n",
      "Performing perform_action_for_all_contexts with action EvaluationActions.EVALUATE_COMPUTATIONS on filtered_session with filter named \"maze_GLOBAL\"...\n",
      "curr_active_computation_params.pf_params.computation_epochs: 1 epochs\n",
      "array([[0, 42305]])\n",
      "\n",
      "WARNING: skipping computation because overwrite_extant_results=False and `active_computation_results[maze_GLOBAL]` already exists and is non-None\n",
      "\t TODO: this will prevent recomputation even when the excludelist/includelist or computation function definitions change. Rework so that this is smarter.\n",
      "updating computation_results...\n",
      "done.\n",
      "updating computation_results...\n",
      "done.\n",
      "updating computation_results...\n",
      "done.\n",
      "\tcompute done!\n",
      "included_epochs: ['maze_GLOBAL', 'maze1', 'maze2']\n",
      "skipped adding global Epoch as we already had one!\n"
     ]
    }
   ],
   "source": [
    "from pyphoplacecellanalysis.SpecificResults.PendingNotebookCode import final_process_bapun_all_comps\n",
    "\n",
    "# try:\n",
    "curr_active_pipeline = final_process_bapun_all_comps(curr_active_pipeline=curr_active_pipeline, posthoc_save=False)\n",
    "# except Exception as e:\n",
    "#     print(f'exception: {e}')\n",
    "#     # raise e\n",
    "#     pass    \n",
    "\n",
    "## 9m\n"
   ]
  },
  {
   "cell_type": "code",
   "execution_count": null,
   "id": "cb40af9d",
   "metadata": {},
   "outputs": [],
   "source": [
    "curr_active_pipeline.rerun_failed_computations()\n",
    "curr_active_pipeline.get_failed_computations()"
   ]
  },
  {
   "cell_type": "code",
   "execution_count": null,
   "id": "436c4192",
   "metadata": {},
   "outputs": [],
   "source": [
    "\n"
   ]
  },
  {
   "cell_type": "markdown",
   "id": "75e7a902",
   "metadata": {},
   "source": [
    "# 2025-09-08 - Concatenate Movement Sessions"
   ]
  },
  {
   "cell_type": "markdown",
   "id": "50a30303",
   "metadata": {},
   "source": [
    "## Decode across both movement sessions"
   ]
  },
  {
   "cell_type": "code",
   "execution_count": null,
   "id": "8d09a604",
   "metadata": {},
   "outputs": [],
   "source": [
    "list(curr_active_pipeline.filtered_sessions.keys())\n"
   ]
  },
  {
   "cell_type": "code",
   "execution_count": 6,
   "id": "06cf3625",
   "metadata": {
    "tags": [
     "run-fresh-load",
     "active-2025-09-21"
    ]
   },
   "outputs": [
    {
     "name": "stdout",
     "output_type": "stream",
     "text": [
      "self will be re-binned to match target_pf...\n",
      "done.\n",
      "k: maze2: did_update_bins: True\n"
     ]
    }
   ],
   "source": [
    "from neuropy.core.session.Formats.Specific.BapunDataSessionFormat import BapunDataSessionFormatRegisteredClass\n",
    "from neuropy.core.epoch import Epoch, ensure_dataframe, ensure_Epoch, EpochsAccessor\n",
    "from pyphoplacecellanalysis.SpecificResults.PendingNotebookCode import build_contextual_pf2D_decoder, decode_using_contextual_pf2D_decoder\n",
    "from pyphoplacecellanalysis.SpecificResults.PendingNotebookCode import decode_using_contextual_pf2D_decoder\n",
    "from pyphoplacecellanalysis.Analysis.Decoder.reconstruction import DecodedFilterEpochsResult, SingleEpochDecodedResult\n",
    "from pyphoplacecellanalysis.Analysis.Decoder.context_dependent import GenericDecoderDictDecodedEpochsDictResult\n",
    "\n",
    "## Build the merged decoder `contextual_pf2D`\n",
    "# ACTUALLY BUILD THE PSEUDO 2D: ______________________________________________________________________________________________________________________________________________________________________________________________________________________________________________________ #\n",
    "hardcoded_params: HardcodedProcessingParameters = BapunDataSessionFormatRegisteredClass._get_session_specific_parameters(session_context=curr_active_pipeline.get_session_context())\n",
    "epochs_to_create_global_from_names = hardcoded_params.non_global_activity_session_names # ['maze1', 'maze2'] or ['roam', 'sprinkle']\n",
    "pf2D_Decoder_dict, contextual_pf2D, contextual_pf2D_Decoder = build_contextual_pf2D_decoder(curr_active_pipeline, epochs_to_create_global_from_names=epochs_to_create_global_from_names)\n"
   ]
  },
  {
   "cell_type": "code",
   "execution_count": 129,
   "id": "5cd0885b",
   "metadata": {},
   "outputs": [
    {
     "name": "stdout",
     "output_type": "stream",
     "text": [
      "self will be re-binned to match target_pf...\n",
      "done.\n",
      "self will be re-binned to match target_one_step_decoder...\n",
      "WARN: not using safe time binning!\n",
      "k: maze2: did_update_bins: True\n"
     ]
    }
   ],
   "source": [
    "\n",
    "pf2D_Decoder_dict = {k:deepcopy(curr_active_pipeline.computation_results[k].computed_data.pf2D_Decoder) for k in epochs_to_create_global_from_names}\n",
    "a_decoder = None\n",
    "for k, v in pf2D_Decoder_dict.items():\n",
    "    if a_decoder is None:\n",
    "        a_decoder = v\n",
    "    else:\n",
    "        v, did_update_bins = v.conform_to_position_bins(a_decoder)\n",
    "        print(f'k: {k}: did_update_bins: {did_update_bins}')\n",
    "        \n"
   ]
  },
  {
   "cell_type": "code",
   "execution_count": null,
   "id": "e6d1aaef",
   "metadata": {},
   "outputs": [],
   "source": [
    "\n",
    "# epochs_to_decode_names = ['maze_any']\n",
    "# epochs_df = ensure_dataframe(curr_active_pipeline.sess.epochs)\n",
    "# epochs_df = epochs_df.epochs.adding_concatenated_epoch(epochs_to_create_global_from_names=['pre', 'roam', 'sprinkle', 'post'], created_epoch_name='maze_any')\n",
    "# global_only_epoch: Epoch = ensure_Epoch(epochs_df[(epochs_df['label'] == 'maze_any')])\n",
    "# global_only_epoch\n",
    "\n",
    "## Combine the non-directional PDFs and renormalize to get the directional PDF:\n",
    "# Inputs: long_LR_pf1D, long_RL_pf1D\n",
    "# long_directional_decoder_dict = dict(zip(long_directional_decoder_names, [deepcopy(long_LR_pf1D), deepcopy(long_RL_pf1D)]))\n",
    "## INPUTS: pf2D_Decoder_dict\n",
    "contextual_pf2D_dict = {k:deepcopy(v.pf) for k, v in pf2D_Decoder_dict.items()}\n",
    "a_pf = None\n",
    "for k, v in contextual_pf2D_dict.items():\n",
    "    if a_pf is None:\n",
    "        a_pf = v\n",
    "    else:\n",
    "        v, did_update_bins = v.conform_to_position_bins(a_pf)\n",
    "        print(f'k: {k}: did_update_bins: {did_update_bins}')\n",
    "\n",
    "contextual_pf2D: PfND = PfND.build_merged_directional_placefields(contextual_pf2D_dict, debug_print=False)\n",
    "contextual_pf2D_Decoder: BasePositionDecoder = BasePositionDecoder(contextual_pf2D, setup_on_init=True, post_load_on_init=True, debug_print=False)\n",
    "# return (contextual_pf2D_dict, contextual_pf2D, contextual_pf2D_Decoder)\n",
    "## OUTPUTS: contextual_pf2D_dict, contextual_pf2D, contextual_pf2D_Decoder\n",
    "\n",
    "# 2m 35.5s\n",
    "return pf2D_Decoder_dict, contextual_pf2D, contextual_pf2D_Decoder"
   ]
  },
  {
   "cell_type": "code",
   "execution_count": 128,
   "id": "8892d465",
   "metadata": {},
   "outputs": [
    {
     "data": {
      "text/plain": [
       "{'maze1': BayesianPlacemapPositionDecoder(pf=PfND(config=<PlacefieldComputationParameters: {'speed_thresh': 10.0, 'grid_bin': (2.7399917105077347, 2.9674559900021107), 'grid_bin_bounds': (None, None), 'smooth': (2.0, 2.0), 'frate_thresh': 1.0, 'is_directional': False};>, position_srate=59.999976362569846, setup_on_init=True, compute_on_init=True, _save_intermediate_spikes_maps=True, _included_thresh_neurons_indx=None, _peak_frate_filter_function=None, _ratemap=<Ratemap: {'_filename': None, '_metadata': None, 'spikes_maps': array([[[0, 0, 0, ..., 0, 0, 0],\n",
       "         [0, 0, 0, ..., 0, 0, 0],\n",
       "         [0, 0, 0, ..., 0, 0, 0],\n",
       "         ...,\n",
       "         [0, 0, 0, ..., 0, 0, 0],\n",
       "         [0, 0, 0, ..., 0, 0, 0],\n",
       "         [0, 0, 0, ..., 0, 0, 0]],\n",
       " \n",
       "        [[0, 0, 0, ..., 0, 0, 0],\n",
       "         [0, 0, 0, ..., 0, 0, 0],\n",
       "         [0, 0, 0, ..., 0, 0, 0],\n",
       "         ...,\n",
       "         [0, 0, 0, ..., 0, 0, 0],\n",
       "         [0, 0, 0, ..., 0, 0, 0],\n",
       "         [0, 0, 0, ..., 0, 0, 0]],\n",
       " \n",
       "        [[0, 0, 0, ..., 0, 0, 0],\n",
       "         [0, 0, 0, ..., 0, 0, 0],\n",
       "         [0, 0, 0, ..., 0, 0, 0],\n",
       "         ...,\n",
       "         [0, 0, 0, ..., 0, 0, 0],\n",
       "         [0, 0, 0, ..., 0, 0, 0],\n",
       "         [0, 0, 0, ..., 0, 0, 0]],\n",
       " \n",
       "        ...,\n",
       " \n",
       "        [[0, 0, 0, ..., 0, 0, 0],\n",
       "         [0, 0, 0, ..., 0, 0, 0],\n",
       "         [0, 0, 0, ..., 0, 0, 0],\n",
       "         ...,\n",
       "         [0, 0, 0, ..., 0, 0, 0],\n",
       "         [0, 0, 0, ..., 0, 0, 0],\n",
       "         [0, 0, 0, ..., 0, 0, 0]],\n",
       " \n",
       "        [[0, 0, 0, ..., 0, 0, 0],\n",
       "         [0, 0, 0, ..., 0, 0, 0],\n",
       "         [0, 0, 0, ..., 0, 0, 0],\n",
       "         ...,\n",
       "         [0, 0, 0, ..., 0, 0, 0],\n",
       "         [0, 0, 0, ..., 0, 0, 0],\n",
       "         [0, 0, 0, ..., 0, 0, 0]],\n",
       " \n",
       "        [[0, 0, 0, ..., 0, 0, 0],\n",
       "         [0, 0, 0, ..., 0, 0, 0],\n",
       "         [0, 0, 0, ..., 0, 0, 0],\n",
       "         ...,\n",
       "         [0, 0, 0, ..., 0, 0, 0],\n",
       "         [0, 0, 0, ..., 0, 0, 0],\n",
       "         [0, 0, 0, ..., 0, 0, 0]]]), 'tuning_curves': array([[[0.00811158, 0.0165273, 0.0358633, ..., 0.155738, 0.0921957, 0.0589851],\n",
       "         [0.013039, 0.0249216, 0.0505226, ..., 0.167781, 0.105659, 0.0722549],\n",
       "         [0.0225359, 0.0407415, 0.0776198, ..., 0.186307, 0.127982, 0.0951035],\n",
       "         ...,\n",
       "         [0.0859271, 0.134732, 0.219606, ..., 0, 0, 0],\n",
       "         [0.056408, 0.091234, 0.154352, ..., 0, 0, 0],\n",
       "         [0.0381973, 0.063901, 0.112645, ..., 0, 0, 0]],\n",
       " \n",
       "        [[0.0054028, 0.0108721, 0.0238995, ..., 0.0422508, 0.027852, 0.0202481],\n",
       "         [0.00893718, 0.0170705, 0.0349956, ..., 0.0546974, 0.0409899, 0.0333537],\n",
       "         [0.0149445, 0.0274439, 0.0531285, ..., 0.0792785, 0.0668593, 0.0591396],\n",
       "         ...,\n",
       "         [0.0208523, 0.022359, 0.0276974, ..., 0, 0, 0],\n",
       "         [0.00843713, 0.0109212, 0.0168833, ..., 0, 0, 0],\n",
       "         [0.00386172, 0.00626086, 0.011578, ..., 0, 0, 0]],\n",
       " \n",
       "        [[0.00669102, 0.0118833, 0.0231644, ..., 0.0602464, 0.0606208, 0.0634562],\n",
       "         [0.0101451, 0.0176742, 0.0333, ..., 0.109665, 0.12734, 0.140915],\n",
       "         [0.015512, 0.0266407, 0.0488314, ..., 0.219342, 0.276443, 0.314805],\n",
       "         ...,\n",
       "         [0.0810287, 0.0864307, 0.0996694, ..., 0, 0, 0],\n",
       "         [0.0474322, 0.054847, 0.0723673, ..., 0, 0, 0],\n",
       "         [0.0283201, 0.0369317, 0.0569888, ..., 0, 0, 0]],\n",
       " \n",
       "        ...,\n",
       " \n",
       "        [[0.0259526, 0.0522511, 0.112211, ..., 0.136824, 0.085489, 0.0583001],\n",
       "         [0.032954, 0.0652182, 0.136124, ..., 0.160599, 0.106407, 0.077977],\n",
       "         [0.0424813, 0.0827945, 0.168202, ..., 0.205116, 0.146789, 0.11675],\n",
       "         ...,\n",
       "         [0.0679296, 0.0822365, 0.108371, ..., 0, 0, 0],\n",
       "         [0.0327672, 0.0428366, 0.0630254, ..., 0, 0, 0],\n",
       "         [0.0167107, 0.0244724, 0.0413599, ..., 0, 0, 0]],\n",
       " \n",
       "        [[0.0333512, 0.0653188, 0.136277, ..., 0.0646709, 0.0381574, 0.0257057],\n",
       "         [0.0452147, 0.0828781, 0.16385, ..., 0.0825373, 0.0557182, 0.0417899],\n",
       "         [0.0760621, 0.124113, 0.220967, ..., 0.119025, 0.0909704, 0.0737975],\n",
       "         ...,\n",
       "         [0.0321273, 0.0742734, 0.182127, ..., 0, 0, 0],\n",
       "         [0.0245166, 0.0612142, 0.1575, ..., 0, 0, 0],\n",
       "         [0.0193947, 0.05081, 0.134974, ..., 0, 0, 0]],\n",
       " \n",
       "        [[0.00089461, 0.00147742, 0.00241033, ..., 0.00270715, 0.0031701, 0.00356034],\n",
       "         [0.00182055, 0.00291479, 0.00461445, ..., 0.00560693, 0.00703167, 0.00807342],\n",
       "         [0.00376742, 0.00588642, 0.00908867, ..., 0.0117874, 0.0153637, 0.0178631],\n",
       "         ...,\n",
       "         [0.00274582, 0.00333402, 0.00421028, ..., 0, 0, 0],\n",
       "         [0.000796097, 0.000951046, 0.00118545, ..., 0, 0, 0],\n",
       "         [0.000214936, 0.000252349, 0.000309853, ..., 0, 0, 0]]]), 'unsmoothed_tuning_maps': array([[[0, 0, 0, ..., 0, 0, 0],\n",
       "         [0, 0, 0, ..., 0, 0, 0],\n",
       "         [0, 0, 0, ..., 0, 0, 0],\n",
       "         ...,\n",
       "         [0, 0, 0, ..., 0, 0, 0],\n",
       "         [0, 0, 0, ..., 0, 0, 0],\n",
       "         [0, 0, 0, ..., 0, 0, 0]],\n",
       " \n",
       "        [[0, 0, 0, ..., 0, 0, 0],\n",
       "         [0, 0, 0, ..., 0, 0, 0],\n",
       "         [0, 0, 0, ..., 0, 0, 0],\n",
       "         ...,\n",
       "         [0, 0, 0, ..., 0, 0, 0],\n",
       "         [0, 0, 0, ..., 0, 0, 0],\n",
       "         [0, 0, 0, ..., 0, 0, 0]],\n",
       " \n",
       "        [[0, 0, 0, ..., 0, 0, 0],\n",
       "         [0, 0, 0, ..., 0, 0, 0],\n",
       "         [0, 0, 0, ..., 0, 0, 0],\n",
       "         ...,\n",
       "         [0, 0, 0, ..., 0, 0, 0],\n",
       "         [0, 0, 0, ..., 0, 0, 0],\n",
       "         [0, 0, 0, ..., 0, 0, 0]],\n",
       " \n",
       "        ...,\n",
       " \n",
       "        [[0, 0, 0, ..., 0, 0, 0],\n",
       "         [0, 0, 0, ..., 0, 0, 0],\n",
       "         [0, 0, 0, ..., 0, 0, 0],\n",
       "         ...,\n",
       "         [0, 0, 0, ..., 0, 0, 0],\n",
       "         [0, 0, 0, ..., 0, 0, 0],\n",
       "         [0, 0, 0, ..., 0, 0, 0]],\n",
       " \n",
       "        [[0, 0, 0, ..., 0, 0, 0],\n",
       "         [0, 0, 0, ..., 0, 0, 0],\n",
       "         [0, 0, 0, ..., 0, 0, 0],\n",
       "         ...,\n",
       "         [0, 0, 0, ..., 0, 0, 0],\n",
       "         [0, 0, 0, ..., 0, 0, 0],\n",
       "         [0, 0, 0, ..., 0, 0, 0]],\n",
       " \n",
       "        [[0, 0, 0, ..., 0, 0, 0],\n",
       "         [0, 0, 0, ..., 0, 0, 0],\n",
       "         [0, 0, 0, ..., 0, 0, 0],\n",
       "         ...,\n",
       "         [0, 0, 0, ..., 0, 0, 0],\n",
       "         [0, 0, 0, ..., 0, 0, 0],\n",
       "         [0, 0, 0, ..., 0, 0, 0]]]), '_neuron_ids': [1, 3, 11, 13, 14, 28, 34, 37, 38, 39, 41, 42, 43, 44, 47, 48, 53, 54, 55, 56, 57, 58, 61, 64, 65, 68, 70, 75, 77, 80, 87, 91, 93, 95, 107], '_neuron_extended_ids': [NeuronExtendedIdentity(shank=1, cluster=111, aclu=1, qclu=111), NeuronExtendedIdentity(shank=1, cluster=111, aclu=3, qclu=111), NeuronExtendedIdentity(shank=1, cluster=111, aclu=11, qclu=111), NeuronExtendedIdentity(shank=1, cluster=111, aclu=13, qclu=111), NeuronExtendedIdentity(shank=1, cluster=111, aclu=14, qclu=111), NeuronExtendedIdentity(shank=1, cluster=111, aclu=28, qclu=111), NeuronExtendedIdentity(shank=1, cluster=111, aclu=34, qclu=111), NeuronExtendedIdentity(shank=1, cluster=111, aclu=37, qclu=111), NeuronExtendedIdentity(shank=1, cluster=111, aclu=38, qclu=111), NeuronExtendedIdentity(shank=1, cluster=111, aclu=39, qclu=111), NeuronExtendedIdentity(shank=1, cluster=111, aclu=41, qclu=111), NeuronExtendedIdentity(shank=1, cluster=111, aclu=42, qclu=111), NeuronExtendedIdentity(shank=1, cluster=111, aclu=43, qclu=111), NeuronExtendedIdentity(shank=1, cluster=111, aclu=44, qclu=111), NeuronExtendedIdentity(shank=1, cluster=111, aclu=47, qclu=111), NeuronExtendedIdentity(shank=1, cluster=111, aclu=48, qclu=111), NeuronExtendedIdentity(shank=1, cluster=111, aclu=53, qclu=111), NeuronExtendedIdentity(shank=1, cluster=111, aclu=54, qclu=111), NeuronExtendedIdentity(shank=1, cluster=111, aclu=55, qclu=111), NeuronExtendedIdentity(shank=1, cluster=111, aclu=56, qclu=111), NeuronExtendedIdentity(shank=1, cluster=111, aclu=57, qclu=111), NeuronExtendedIdentity(shank=1, cluster=111, aclu=58, qclu=111), NeuronExtendedIdentity(shank=1, cluster=111, aclu=61, qclu=111), NeuronExtendedIdentity(shank=1, cluster=111, aclu=64, qclu=111), NeuronExtendedIdentity(shank=1, cluster=111, aclu=65, qclu=111), NeuronExtendedIdentity(shank=1, cluster=111, aclu=68, qclu=111), NeuronExtendedIdentity(shank=1, cluster=111, aclu=70, qclu=111), NeuronExtendedIdentity(shank=1, cluster=111, aclu=75, qclu=111), NeuronExtendedIdentity(shank=1, cluster=111, aclu=77, qclu=111), NeuronExtendedIdentity(shank=1, cluster=111, aclu=80, qclu=111), NeuronExtendedIdentity(shank=1, cluster=111, aclu=87, qclu=111), NeuronExtendedIdentity(shank=1, cluster=111, aclu=91, qclu=111), NeuronExtendedIdentity(shank=1, cluster=111, aclu=93, qclu=111), NeuronExtendedIdentity(shank=1, cluster=111, aclu=95, qclu=111), NeuronExtendedIdentity(shank=1, cluster=111, aclu=107, qclu=111)], 'xbin': array([-82.9936, -80.2536, -77.5136, -74.7736, -72.0336, -69.2936, -66.5536, -63.8137, -61.0737, -58.3337, -55.5937, -52.8537, -50.1137, -47.3737, -44.6337, -41.8937, -39.1537, -36.4137, -33.6737, -30.9338, -28.1938, -25.4538, -22.7138, -19.9738, -17.2338, -14.4938, -11.7538, -9.01382, -6.27383, -3.53384, -0.793843, 1.94615, 4.68614, 7.42613, 10.1661, 12.9061, 15.6461, 18.3861, 21.1261, 23.8661, 26.6061, 29.3461, 32.0861, 34.826, 37.566, 40.306, 43.046, 45.786, 48.526, 51.266, 54.006, 56.746, 59.486, 62.226, 64.966, 67.7059, 70.4459, 73.1859, 75.9259, 78.6659, 81.4059, 84.1459, 86.8859, 89.6259]), 'ybin': array([-82.2546, -79.2872, -76.3197, -73.3523, -70.3848, -67.4173, -64.4499, -61.4824, -58.515, -55.5475, -52.5801, -49.6126, -46.6451, -43.6777, -40.7102, -37.7428, -34.7753, -31.8079, -28.8404, -25.873, -22.9055, -19.938, -16.9706, -14.0031, -11.0357, -8.06822, -5.10076, -2.13331, 0.834148, 3.8016, 6.76906, 9.73652, 12.704, 15.6714, 18.6389, 21.6063, 24.5738, 27.5413, 30.5087, 33.4762, 36.4436, 39.4111, 42.3785, 45.346, 48.3134, 51.2809, 54.2484, 57.2158, 60.1833, 63.1507, 66.1182, 69.0856, 72.0531, 75.0205, 77.988, 80.9555, 83.9229, 86.8904, 89.8578, 92.8253, 95.7927, 98.7602, 101.728, 104.695]), 'zbin': None, 'occupancy': array([[0, 0, 0, ..., 0, 0, 0],\n",
       "        [0, 0, 0, ..., 0.3, 0, 0],\n",
       "        [0, 0, 0, ..., 0.516667, 0.2, 0],\n",
       "        ...,\n",
       "        [0, 0, 0.4, ..., 0, 0, 0],\n",
       "        [0, 0, 0, ..., 0, 0, 0],\n",
       "        [0, 0, 0, ..., 0, 0, 0]])};>, _ratemap_spiketrains=[array([11070.2, 11082.9, 11082.9, ..., 13922.8, 13936.2, 13947.8]), array([11083.1, 11088.3, 11088.3, ..., 13918, 13928.4, 13955.1]), array([11086.8, 11097, 11105.9, ..., 13961.3, 13961.3, 13961.5]), array([11071.3, 11071.6, 11071.8, ..., 13956.4, 13956.6, 13960.1]), array([11088.5, 11088.5, 11140.7, 11140.7, 11140.8, 11150, 11150, 11151, 11151, 11151, 11151.2, 11151.2, 11153.3, 11153.4, 11153.4, 11245.3, 11245.3, 11245.3, 11245.3, 11245.3, 11245.4, 11246.7, 11256.7, 11301.6, 11301.6, 11302, 11496.7, 11503.8, 11686.8, 11689.6, 11689.8, 11689.8, 11692.3, 11692.3, 11692.5, 11692.5, 11715.8, 11715.8, 11742.9, 11742.9, 11801.2, 11801.3, 11801.4, 11801.5, 11801.5, 11801.5, 11801.6, 11801.7, 11801.7, 11801.7, 11833.5, 11833.5, 11833.5, 11868.5, 11890.2, 11904.5, 11904.8, 11906.5, 11906.8, 11906.8, 11906.8, 11906.9, 11906.9, 11907, 11907, 11907, 11907, 11907, 11907.1, 11907.1, 11907.2, 11907.2, 11907.2, 11907.3, 11907.3, 11907.4, 11907.4, 11907.4, 11907.7, 11907.7, 11908.1, 11908.1, 11908.2, 11908.2, 11908.3, 11908.3, 11908.3, 11908.6, 11908.6, 11908.6, 11909.1, 11909.1, 11909.1, 11909.1, 11909.1, 11909.2, 11909.2, 11909.2, 11909.2, 11909.3, 11909.3, 11909.3, 11909.3, 11909.3, 11909.4, 11909.4, 11909.4, 11909.6, 11909.6, 11909.6, 11909.7, 11909.7, 11909.8, 11909.8, 11909.8, 11909.9, 11910, 11910, 11910.4, 11910.4, 11910.4, 11910.8, 11910.8, 11910.8, 11911.2, 11911.2, 11911.3, 11911.3, 11911.3, 11911.5, 11911.5, 11911.5, 11911.5, 11911.6, 11911.6, 11911.6, 11912, 11921.8, 11921.8, 11921.9, 11932, 11932, 11932, 11934.9, 11934.9, 11934.9, 11936.5, 11940.7, 11941.1, 11941.3, 11941.3, 11941.9, 11941.9, 11941.9, 11942, 11942, 11942.1, 11942.1, 11942.1, 11942.1, 11942.1, 11942.2, 11942.2, 11942.2, 11942.3, 11942.3, 11942.5, 11942.5, 11942.6, 11942.6, 11947.2, 11947.2, 11974.8, 12010.3, 12025.3, 12025.3, 12025.3, 12040.4, 12040.4, 12040.4, 12040.4, 12076.1, 12146.6, 12153.1, 12154.7, 12154.7, 12173, 12176.2, 12176.2, 12224.2, 12224.2, 12226.5, 12226.5, 12228, 12228.1, 12228.1, 12228.2, 12228.2, 12228.4, 12228.4, 12228.4, 12228.4, 12228.6, 12228.6, 12228.7, 12228.7, 12259.4, 12259.4, 12293.7, 12312.1, 12317.7, 12317.7, 12317.7, 12317.7, 12323.2, 12323.2, 12362.5, 12362.6, 12367.4, 12368.5, 12368.5, 12368.5, 12368.5, 12368.5, 12369.2, 12369.2, 12369.2, 12369.6, 12369.6, 12369.6, 12369.6, 12369.6, 12369.7, 12369.7, 12369.7, 12369.7, 12370.3, 12370.3, 12373.1, 12373.1, 12376.1, 12390.6, 12390.7, 12390.7, 12427.8, 12427.8, 12435.4, 12435.4, 12436.2, 12436.2, 12436.5, 12453.8, 12457.5, 12457.5, 12464.5, 12497.7, 12497.7, 12498.5, 12513.8, 12513.8, 12545, 12559.3, 12559.3, 12586.1, 12586.1, 12586.2, 12588.2, 12588.2, 12588.3, 12621, 12621, 12625.2, 12625.4, 12625.7, 12625.7, 12636, 12636, 12640.2, 12641.3, 12641.4, 12647.7, 12647.7, 12666.7, 12667, 12667, 12667.1, 12667.2, 12667.3, 12667.3, 12667.4, 12667.4, 12667.4, 12667.4, 12667.5, 12668.6, 12668.6, 12669, 12669, 12669, 12669.1, 12669.1, 12669.1, 12669.2, 12669.3, 12669.4, 12669.4, 12674.2, 12674.3, 12674.3, 12674.5, 12674.7, 12676.7, 12677, 12677, 12681, 12682.4, 12682.4, 12682.6, 12682.6, 12682.8, 12682.8, 12778.2, 12781.3, 12785.3, 12787.1, 12787.2, 12787.4, 12787.4, 12787.6, 12787.6, 12787.9, 12787.9, 12788, 12788, 12790.6, 12790.6, 12791, 12791, 12791, 12791, 12791, 12791.1, 12791.1, 12791.1, 12791.1, 12791.2, 12791.2, 12799.9, 12799.9, 12799.9, 12799.9, 12802.3, 12802.3, 12802.7, 12802.7, 12803.4, 12803.4, 12804.7, 12804.7, 12804.7, 12805.1, 12819.4, 12828.5, 12839.8, 12839.8, 12840.3, 12840.3, 12840.3, 12840.3, 12842.8, 12849.5, 12849.6, 12872.1, 12872.1, 12891.2, 12891.3, 12902.6, 12913.5, 12921.4, 12921.8, 12921.8, 12922.3, 12922.3, 12922.9, 12922.9, 12923.6, 12923.6, 12923.6, 12923.6, 12923.6, 12923.6, 12923.7, 12923.7, 12925.5, 12925.5, 12925.6, 12925.6, 12925.7, 12925.7, 12925.8, 12925.9, 12925.9, 13040.9, 13098.4, 13108.4, 13132.4, 13133, 13133, 13133.2, 13133.2, 13138.4, 13138.4, 13138.6, 13157.1, 13163.3, 13166.2, 13176.1, 13178.8, 13186.2, 13187.1, 13189.8, 13190.3, 13190.3, 13194.9, 13194.9, 13195.1, 13195.2, 13195.2, 13198.7, 13199.2, 13199.2, 13199.2, 13200.7, 13202.3, 13202.4, 13202.4, 13207, 13207.1, 13207.2, 13207.3, 13207.3, 13207.6, 13207.6, 13207.8, 13207.8, 13224.9, 13239.4, 13239.4, 13252.8, 13253.3, 13253.3, 13253.7, 13254, 13254.2, 13254.2, 13254.2, 13254.2, 13254.4, 13254.5, 13254.5, 13254.6, 13282.3, 13282.4, 13292, 13312.5, 13312.5, 13314.9, 13315.8, 13320.1, 13320.1, 13320.1, 13323.8, 13323.8, 13342.3, 13342.3, 13342.3, 13344.4, 13354.3, 13354.3, 13360.2, 13364, 13364, 13368.8, 13368.8, 13385.9, 13385.9, 13403.2, 13403.2, 13403.3, 13403.3, 13403.3, 13403.3, 13403.3, 13403.4, 13403.4, 13403.4, 13403.8, 13409.6, 13409.6, 13409.6, 13409.7, 13411.2, 13411.2, 13411.6, 13411.6, 13412.2, 13412.2, 13412.2, 13413.4, 13415.1, 13417.6, 13417.6, 13421.1, 13423.3, 13423.7, 13423.7, 13423.7, 13423.8, 13423.8, 13423.9, 13423.9, 13423.9, 13424.5, 13424.6, 13424.6, 13424.6, 13424.6, 13424.6, 13424.7, 13424.7, 13424.8, 13425.1, 13425.1, 13425.1, 13425.3, 13425.3, 13425.3, 13425.5, 13425.5, 13425.5, 13425.6, 13425.6, 13451.8, 13458.3, 13458.7, 13458.8, 13459, 13459, 13459, 13459.2, 13459.2, 13459.3, 13459.7, 13459.7, 13460.6, 13460.6, 13461, 13461, 13461, 13461, 13461, 13461.1, 13461.1, 13461.2, 13461.2, 13461.2, 13461.3, 13461.3, 13461.3, 13461.5, 13461.5, 13461.5, 13461.5, 13461.6, 13461.6, 13461.9, 13462, 13462.2, 13462.2, 13462.2, 13462.2, 13477.5, 13482.3, 13483.4, 13498.6, 13519, 13519.6, 13519.8, 13519.8, 13519.8, 13519.8, 13521, 13521, 13531, 13531, 13531.2, 13531.2, 13531.7, 13532.7, 13539, 13540, 13546.3, 13546.3, 13624.8, 13624.8, 13624.8, 13650.1, 13650.1, 13650.1, 13679.6, 13685.6, 13685.6, 13796, 13796.5, 13796.5, 13796.6, 13797, 13797, 13797.1, 13797.1, 13797.2, 13797.2, 13797.2, 13797.3, 13797.3, 13797.3, 13822.3, 13822.7, 13822.7, 13829.5, 13829.5, 13834.6, 13838.2, 13838.2, 13838.2, 13838.2, 13838.6, 13838.6, 13838.8, 13838.8, 13838.8, 13857.7, 13862.4, 13872.7, 13872.7, 13884.8, 13928.5, 13928.5, 13955]), array([11137.1, 11137.1, 11170.5, 11170.5, 11220.8, 11221.3, 11235.2, 11235.3, 11235.3, 11304.1, 11304.2, 11326.5, 11398, 11401, 11402.3, 11402.3, 11404.1, 11404.1, 11406.1, 11406.3, 11407.2, 11407.2, 11409.3, 11411.3, 11412.8, 11412.9, 11413.3, 11415.1, 11415.3, 11415.3, 11415.4, 11421.1, 11421.1, 11424.8, 11424.8, 11425.3, 11425.4, 11426.2, 11426.2, 11426.4, 11426.8, 11426.8, 11428.8, 11429, 11429.1, 11429.2, 11429.3, 11430, 11430, 11430.6, 11430.8, 11433.2, 11434.2, 11434.2, 11434.9, 11434.9, 11435.2, 11440, 11441.9, 11442.5, 11443.2, 11444.4, 11444.6, 11444.7, 11447.7, 11448.1, 11448.6, 11448.8, 11449.3, 11449.6, 11449.8, 11467.3, 11467.4, 11467.9, 11468.4, 11468.8, 11469.1, 11469.4, 11469.8, 11470.9, 11471.6, 11472, 11472, 11472.4, 11472.4, 11490.3, 11490.3, 11511.7, 11511.8, 11597.7, 11613.7, 11613.7, 11696.6, 11721.6, 11722.8, 11723.3, 11723.4, 11723.5, 11724.1, 11724.7, 11724.8, 11724.8, 11725.1, 11725.1, 11726.5, 11726.5, 11728.9, 11728.9, 11746.8, 11750.6, 11773.2, 11774.3, 11776.7, 11776.7, 11776.7, 11778.7, 11781, 11781.7, 11782.8, 11784.4, 11792.1, 11792.1, 11825.6, 11917.2, 11918, 11919, 11919, 11919.4, 11919.5, 11919.8, 11920.4, 11920.6, 11920.6, 11921.5, 11921.5, 11922.4, 11922.4, 11922.8, 11923, 11924.4, 11924.4, 11924.6, 11925.1, 11926, 11926.1, 11926.2, 11926.7, 11927.7, 11927.7, 11927.8, 11930.6, 11930.9, 11931.6, 11950.4, 11951.3, 11953.6, 11954.4, 11954.5, 11954.5, 11954.6, 11955.4, 11958.6, 11958.6, 11962.6, 11965.5, 11965.5, 11965.6, 11965.8, 11965.9, 11966, 11966.6, 11971.3, 11976.1, 11981, 11984, 11984, 11984.3, 11984.6, 11984.9, 11985.3, 11985.9, 11992.1, 11992.1, 11994.2, 11998, 12007.2, 12011.5, 12031.6, 12035, 12036, 12049.2, 12074.4, 12086, 12086.3, 12087.1, 12089, 12089.8, 12091, 12091.2, 12091.6, 12091.9, 12092.2, 12094.1, 12097.7, 12098.9, 12103.4, 12106.6, 12183.1, 12185.6, 12191.1, 12191.1, 12199.6, 12199.7, 12212.7, 12212.8, 12213.3, 12234.2, 12235.4, 12309.7, 12318.2, 12333.8, 12357.6, 12357.6, 12441.3, 12466.4, 12466.4, 12538.2, 12539.3, 12560.6, 12627.9, 12629.4, 12629.4, 12660.7, 12703.4, 12703.9, 12717.4, 12718.5, 12718.5, 12719.1, 12719.9, 12720, 12720, 12720.6, 12729.3, 12755.1, 12774.1, 12774.3, 12774.6, 12776.8, 12776.8, 12777.4, 12778, 12778.4, 12778.4, 12779, 12779.6, 12816.2, 12841.9, 12849.9, 12859.8, 12902.2, 12902.2, 12921.1, 12924.9, 12933.8, 12934.1, 12934.2, 12934.3, 12935.1, 12935.1, 12935.4, 12935.8, 12937, 12940, 12940, 12941.8, 12942.2, 12942.2, 12942.4, 12943.8, 12945.1, 12947.2, 12947.2, 12947.2, 12948.5, 12948.9, 12949.2, 12949.2, 12951.2, 12951.9, 12951.9, 12955, 12955.5, 12956.2, 12956.2, 12957, 12957.2, 12957.7, 12959.1, 12959.1, 12960.5, 12960.6, 12960.8, 12961, 12961.5, 12961.5, 12961.8, 12969.8, 12972.5, 12973.1, 12973.7, 12974.3, 12974.8, 12975.1, 12975.1, 12975.8, 12976.8, 12977.1, 12977.2, 12978, 12978.6, 12980.4, 12980.4, 12982.3, 12983, 12983, 12983.7, 12983.7, 12985.7, 12986.2, 12986.7, 12993.4, 12996.7, 12997.5, 12997.5, 13001.7, 13002.1, 13004.2, 13018.2, 13030.9, 13034.4, 13046.8, 13050, 13050.1, 13050.3, 13054.1, 13055.3, 13055.3, 13055.7, 13056.5, 13058.1, 13058.1, 13061.8, 13062.4, 13062.4, 13063.7, 13065.6, 13071.1, 13071.8, 13074.7, 13074.7, 13074.9, 13075.9, 13076.5, 13077.4, 13143.9, 13143.9, 13145.4, 13211.2, 13211.5, 13211.8, 13211.8, 13212.9, 13213.9, 13214, 13214.7, 13216.6, 13216.6, 13217.4, 13217.5, 13219.4, 13219.4, 13219.8, 13220, 13220, 13220.5, 13220.5, 13220.5, 13220.8, 13221.6, 13221.8, 13222.3, 13222.7, 13223.6, 13223.9, 13225.2, 13225.4, 13225.5, 13225.9, 13228.9, 13229.3, 13229.7, 13229.7, 13230.8, 13230.8, 13231, 13232.4, 13232.4, 13237.2, 13237.5, 13238.3, 13238.3, 13238.6, 13262.3, 13316.8, 13323.8, 13324.3, 13338.9, 13357.8, 13357.8, 13384.8, 13386, 13386.3, 13414.9, 13422.4, 13451.8, 13451.8, 13466.2, 13466.6, 13466.6, 13466.7, 13466.7, 13466.7, 13467, 13467.4, 13468, 13468.3, 13468.5, 13468.6, 13469.3, 13469.6, 13469.8, 13469.9, 13471.2, 13471.3, 13471.6, 13472.1, 13472.1, 13472.4, 13472.4, 13474.5, 13477.6, 13478.9, 13480.3, 13481.4, 13481.5, 13483.1, 13494.7, 13496.7, 13496.8, 13499, 13502.8, 13502.8, 13503.3, 13504, 13505.5, 13505.5, 13505.8, 13506.7, 13506.7, 13507, 13510.6, 13514.1, 13514.9, 13515.5, 13522, 13552, 13552.2, 13552.2, 13552.4, 13556.9, 13556.9, 13559.6, 13560.5, 13560.5, 13560.8, 13561, 13564.9, 13565, 13567.2, 13567.7, 13568, 13568, 13569.1, 13569.3, 13569.4, 13569.6, 13570.1, 13570.7, 13570.7, 13570.9, 13576.4, 13585.1, 13585.2, 13586.4, 13586.7, 13594.4, 13594.5, 13594.7, 13595.2, 13599.3, 13599.3, 13609, 13609.2, 13609.3, 13609.5, 13609.7, 13609.7, 13609.9, 13610.7, 13611.5, 13612.5, 13612.9, 13613, 13614.1, 13614.5, 13618.3, 13618.3, 13619.2, 13620.7, 13620.9, 13621.1, 13621.2, 13621.3, 13621.4, 13621.7, 13622.3, 13623.7, 13624, 13625.1, 13625.1, 13625.8, 13627.6, 13627.6, 13628.3, 13629, 13629.1, 13635.1, 13635.8, 13636.2, 13636.3, 13636.3, 13642.9, 13642.9, 13643.5, 13643.6, 13644, 13646.8, 13647, 13648.6, 13649.2, 13651, 13651, 13652.8, 13653, 13654.8, 13654.8, 13656.1, 13659.2, 13662.9, 13664.5, 13668.6, 13671.7, 13672.2, 13672.4, 13672.8, 13673.4, 13677.4, 13677.4, 13681, 13681, 13681.3, 13681.5, 13681.5, 13681.5, 13681.8, 13684.3, 13684.3, 13685.9, 13689.5, 13691.4, 13691.8, 13691.9, 13691.9, 13692.2, 13692.8, 13692.8, 13692.9, 13692.9, 13692.9, 13693.1, 13694.5, 13694.5, 13694.5, 13695, 13695.5, 13695.5, 13695.7, 13695.7, 13695.7, 13699, 13699, 13700.1, 13700.2, 13701.3, 13701.7, 13702, 13702.2, 13702.2, 13702.2, 13702.5, 13703.6, 13706.9, 13706.9, 13706.9, 13710.9, 13711, 13711.3, 13711.3, 13711.7, 13711.8, 13712.3, 13712.8, 13712.8, 13713.3, 13731.9, 13753.2, 13753.3, 13753.4, 13753.4, 13753.7, 13755.5, 13757.2, 13757.3, 13759.2, 13759.2, 13759.3, 13760.6, 13760.7, 13761.1, 13783.9, 13783.9, 13784.8, 13784.9, 13785.2, 13785.3, 13785.8, 13785.8, 13785.9, 13787.2, 13803.4, 13841.8, 13841.8, 13862.1, 13906.4]), array([11085.8, 11089.7, 11089.7, ..., 13928.6, 13928.6, 13928.6]), array([11095.6, 11142.8, 11215.4, 11356.7, 11356.8, 11356.8, 11356.8, 11356.8, 11357, 11357, 11357, 11357.2, 11357.2, 11357.2, 11357.2, 11357.9, 11357.9, 11358.2, 11358.3, 11358.3, 11358.3, 11414.4, 11757, 12152.1, 12210.4, 12210.6, 12276.2, 12276.2, 12388.1, 12651.3, 12721.7, 12721.7, 13070, 13109.2, 13109.2, 13384.3, 13384.9, 13418.9, 13451.8, 13451.8]), array([11070.9, 11071, 11071.2, ..., 13960.9, 13961, 13961.4]), array([11117.7, 11130, 11130, 11216.9, 11244.4, 11247.2, 11489.5, 11496, 11502.3, 11588.1, 11592.7, 11699.6, 11704.3, 11704.6, 11704.6, 11704.9, 11755.6, 11800.1, 11842.9, 11842.9, 11851.7, 11851.7, 11862.5, 11874, 11916.5, 11935.5, 11935.5, 11935.5, 11935.8, 11935.8, 11935.9, 11936.1, 11936.1, 11936.1, 11936.1, 11936.2, 11936.4, 11936.6, 11936.6, 11936.8, 11937.4, 11937.5, 11938.2, 11938.7, 11938.9, 11938.9, 11939.4, 11939.5, 11939.6, 11939.6, 11939.7, 11939.8, 11939.8, 11939.9, 11939.9, 11940, 11940.1, 11940.8, 11943.4, 11943.4, 11963.1, 11963.1, 11973.7, 11973.7, 12015.6, 12026.1, 12028.2, 12041.1, 12041.2, 12053.5, 12063.3, 12063.4, 12073.8, 12073.8, 12073.8, 12132, 12132, 12132, 12132.1, 12132.1, 12149.2, 12166, 12166, 12197.9, 12197.9, 12200.9, 12225, 12226, 12226, 12232.2, 12234.8, 12234.8, 12286.5, 12323.1, 12323.1, 12323.1, 12357.6, 12390.7, 12444.4, 12561.6, 12561.6, 12621, 12621.1, 12621.1, 12655.5, 12683, 12683.1, 12683.1, 12683.4, 12683.4, 12683.5, 12683.5, 12683.5, 12683.5, 12683.5, 12683.6, 12683.6, 12683.7, 12683.8, 12683.8, 12683.8, 12683.9, 12683.9, 12694.2, 12694.8, 12698, 12698.2, 12698.5, 12698.5, 12698.5, 12698.5, 12698.5, 12698.7, 12772.4, 12772.4, 12772.5, 12772.5, 12772.6, 12772.8, 12773.1, 12773.2, 12785.1, 12785.4, 12807.7, 12807.7, 12837.6, 12839.8, 12839.8, 12842.6, 12842.6, 12858.9, 12858.9, 12862.7, 12863.8, 12863.8, 12871.1, 12871.1, 12873.5, 12891.3, 12891.3, 12913.5, 12923.3, 12924.3, 12924.3, 12925.1, 12956.4, 12956.4, 12968.1, 12968.1, 12981.2, 13001.3, 13002.6, 13002.6, 13003.4, 13015.2, 13016.2, 13042.3, 13049.3, 13050.4, 13131.2, 13131.2, 13131.3, 13132.2, 13132.3, 13132.3, 13133.5, 13134.2, 13134.5, 13134.6, 13135.7, 13137.4, 13137.4, 13137.4, 13158.3, 13158.5, 13158.9, 13159, 13160.6, 13160.6, 13160.8, 13160.8, 13161.2, 13163.2, 13163.4, 13163.4, 13163.7, 13170.6, 13176.7, 13177.8, 13180.1, 13180.7, 13182.7, 13187.7, 13188.4, 13196.1, 13196.5, 13197.2, 13197.3, 13199.7, 13204.1, 13204.1, 13204.3, 13204.4, 13204.9, 13205, 13205, 13205, 13205, 13205.1, 13205.1, 13205.5, 13205.5, 13205.8, 13205.9, 13206.1, 13206.2, 13210.2, 13239.2, 13239.7, 13240.1, 13240.3, 13240.4, 13240.4, 13240.5, 13240.5, 13240.6, 13240.6, 13240.7, 13240.7, 13240.7, 13240.7, 13240.7, 13240.9, 13241, 13241, 13241.1, 13242.4, 13242.5, 13242.8, 13243, 13243.1, 13243.5, 13243.5, 13243.6, 13244.3, 13244.3, 13244.6, 13244.8, 13244.9, 13245, 13245, 13245.3, 13245.3, 13245.7, 13246, 13246.7, 13246.8, 13247, 13247, 13247.1, 13247.3, 13247.4, 13247.5, 13247.8, 13248, 13248, 13248.1, 13248.3, 13248.4, 13248.9, 13249.2, 13249.4, 13249.5, 13250.2, 13250.5, 13251.2, 13251.5, 13251.7, 13251.8, 13320, 13325.1, 13325.6, 13325.7, 13385.9, 13410.7, 13411.7, 13451.8, 13464.1, 13464.3, 13464.4, 13464.4, 13464.5, 13464.5, 13464.6, 13464.6, 13473, 13477.4, 13484.7, 13485.1, 13485.3, 13485.5, 13485.7, 13485.8, 13485.8, 13485.8, 13485.9, 13486, 13486.1, 13486.4, 13486.5, 13486.8, 13486.9, 13486.9, 13487, 13487.6, 13490.2, 13490.6, 13490.9, 13498.5, 13509.4, 13509.4, 13509.4, 13510.2, 13515.2, 13516.3, 13517.1, 13517.6, 13518.1, 13518.5, 13518.5, 13524.4, 13524.4, 13529, 13529.3, 13534, 13534.1, 13534.2, 13537.7, 13540.2, 13546.6, 13647.4, 13647.4, 13655.7, 13685.5, 13685.5, 13685.5, 13725.2, 13782, 13782.4, 13782.4, 13782.6, 13782.7, 13782.7, 13789.7, 13794.1, 13796, 13796.2, 13802.4, 13802.4, 13823.5, 13834.7, 13834.7, 13856.7, 13856.9, 13856.9, 13871.5, 13872.8, 13872.8, 13872.8, 13884.7, 13905.1, 13905.1, 13928.6, 13928.6, 13947.1]), array([11137.4, 11137.4, 11137.4, 11137.4, 11137.4, 11137.4, 11137.5, 11137.6, 11137.6, 11150, 11150.1, 11308.9, 11324.1, 11344.3, 11357, 11426.9, 11427.1, 11427.4, 11428, 11428.6, 11448.4, 11454.4, 11455.5, 11471.7, 11491.3, 11511.6, 11511.7, 11511.7, 11511.7, 11511.7, 11516.8, 11538.2, 11617.7, 11634.5, 11652.9, 11662, 11662, 11662, 11723.6, 11742.7, 11765.4, 11771, 11794.5, 11826.8, 11833.5, 11850.6, 11874, 11889.6, 11966.6, 11966.8, 12034.5, 12045.5, 12045.5, 12071.8, 12076.9, 12091.2, 12134.8, 12134.8, 12152.8, 12152.8, 12154.7, 12166, 12173.1, 12173.4, 12173.4, 12199, 12263.6, 12316.9, 12316.9, 12316.9, 12326.8, 12368.9, 12368.9, 12388.1, 12388.1, 12390.6, 12427.8, 12428.8, 12523.6, 12523.6, 12538, 12538.1, 12541.3, 12621, 12629.5, 12632.7, 12655.5, 12691.5, 12691.5, 12703.6, 12703.6, 12711.3, 12807.7, 12807.7, 12816.1, 12848.1, 12891.3, 13002.3, 13050.4, 13061.1, 13069.8, 13069.8, 13106.7, 13147.3, 13194, 13219.9, 13293.3, 13312.8, 13314.7, 13314.7, 13314.9, 13320, 13320, 13321.8, 13323.6, 13323.8, 13323.9, 13326.9, 13330.8, 13357.5, 13366.9, 13366.9, 13366.9, 13385.7, 13385.9, 13409.5, 13409.5, 13409.5, 13409.6, 13414.8, 13420.4, 13420.7, 13433.3, 13446.3, 13451.8, 13451.8, 13451.8, 13451.8, 13501.4, 13521.3, 13521.3, 13521.7, 13521.7, 13521.8, 13522, 13522, 13551.2, 13551.4, 13551.5, 13551.9, 13552, 13552.3, 13552.4, 13552.5, 13552.6, 13552.9, 13553.1, 13553.2, 13553.4, 13553.4, 13553.8, 13554, 13554, 13554, 13554.1, 13554.2, 13554.3, 13554.8, 13555, 13555.1, 13555.4, 13556.1, 13556.3, 13556.4, 13556.6, 13557.6, 13558, 13558.9, 13559.7, 13559.8, 13560.3, 13560.4, 13562.5, 13562.8, 13563.5, 13563.8, 13564.6, 13564.9, 13565.3, 13576.4, 13606.6, 13608.3, 13608.5, 13608.5, 13608.5, 13608.6, 13611.5, 13611.6, 13617.5, 13620.7, 13620.7, 13621.5, 13622, 13622.3, 13622.6, 13622.8, 13622.9, 13623.4, 13623.7, 13624.2, 13624.8, 13625.6, 13625.8, 13628.9, 13648.3, 13654.9, 13661.7, 13682.9, 13695, 13700.2, 13706, 13706, 13707, 13712.2, 13715.2, 13716, 13716.7, 13716.7, 13716.9, 13717, 13717.2, 13718.1, 13726, 13739.8, 13748.1, 13749.1, 13760, 13777.2, 13777.2, 13777.5, 13777.6, 13777.6, 13777.6, 13777.7, 13777.7, 13777.8, 13803.4, 13836.3, 13845.4, 13845.5, 13845.5, 13846.1, 13846.1, 13846.6, 13846.6, 13846.8, 13846.8, 13846.8, 13850.5, 13857.7, 13872, 13872, 13913.7, 13928.6, 13928.6, 13947.7, 13947.8]), array([11076.3, 11076.4, 11076.4, ..., 13956, 13956.1, 13956.1]), array([11075.7, 11075.7, 11077.9, ..., 13955.9, 13955.9, 13955.9]), array([11072.4, 11072.4, 11073.7, ..., 13900.3, 13900.3, 13902.2]), array([11077.9, 11082.1, 11099.4, ..., 13952.5, 13954, 13961.5]), array([11086.3, 11104.6, 11125.7, ..., 13935.9, 13940.7, 13947.8]), array([11085.6, 11090.2, 11090.4, ..., 13961.1, 13961.1, 13961.3]), array([11090.5, 11111.3, 11133.3, ..., 13957.2, 13957.2, 13960.1]), array([11071.3, 11076.5, 11076.5, ..., 13952.5, 13956, 13959.3]), array([11089.6, 11095.8, 11135.8, 11139, 11139, 11139, 11139.4, 11139.5, 11139.5, 11139.5, 11139.6, 11139.6, 11139.7, 11140.4, 11142.4, 11145.4, 11148.6, 11154.8, 11154.8, 11155, 11155.1, 11155.1, 11155.1, 11155.2, 11155.2, 11155.3, 11157.7, 11161.8, 11163.3, 11165.3, 11165.3, 11165.5, 11165.5, 11165.5, 11165.5, 11165.6, 11165.7, 11165.7, 11166, 11166.4, 11166.5, 11166.5, 11166.6, 11166.6, 11166.6, 11166.6, 11166.8, 11166.9, 11167, 11167.1, 11167.1, 11167.2, 11170.8, 11170.8, 11170.9, 11171.2, 11171.2, 11171.6, 11171.6, 11171.8, 11172, 11172.6, 11172.7, 11172.9, 11173.3, 11173.4, 11173.5, 11173.6, 11174, 11174, 11174.1, 11174.2, 11174.8, 11174.8, 11249, 11251.8, 11251.9, 11252, 11252.3, 11252.3, 11252.3, 11252.4, 11252.4, 11252.4, 11252.4, 11252.5, 11252.5, 11252.6, 11252.6, 11252.7, 11252.8, 11268.3, 11269.3, 11270.5, 11276.9, 11276.9, 11278.2, 11278.7, 11278.8, 11278.8, 11279.4, 11284.9, 11285.5, 11285.7, 11285.7, 11286.1, 11286.7, 11297.6, 11298.3, 11298.5, 11298.8, 11299.4, 11299.4, 11299.5, 11299.5, 11299.6, 11300, 11423.6, 11480.1, 11490.6, 11505.8, 11506.3, 11506.3, 11506.7, 11506.7, 11506.7, 11506.8, 11508, 11508, 11508.1, 11508.3, 11508.3, 11508.3, 11508.3, 11508.4, 11508.5, 11508.5, 11508.5, 11508.5, 11508.7, 11508.7, 11508.8, 11509, 11509, 11511.8, 11523.1, 11533.1, 11560.4, 11570.9, 11572.1, 11573.5, 11575.3, 11578.7, 11581.4, 11585.1, 11591.5, 11591.5, 11592, 11592, 11594, 11602.2, 11602.8, 11602.8, 11605.3, 11606.1, 11610.8, 11610.8, 11614.8, 11617.6, 11621.9, 11623.7, 11625.3, 11634.2, 11636, 11638.4, 11650.6, 11662.6, 11668.6, 11672, 11672.9, 11679, 11679.1, 11679.1, 11679.3, 11679.3, 11679.4, 11679.4, 11679.5, 11679.6, 11679.7, 11679.8, 11679.9, 11680.1, 11680.2, 11680.2, 11680.5, 11680.6, 11680.8, 11682.7, 11683.4, 11683.4, 11683.4, 11683.4, 11683.6, 11683.6, 11683.7, 11683.7, 11683.7, 11683.8, 11683.8, 11683.9, 11684.2, 11684.3, 11684.4, 11684.4, 11684.7, 11707.8, 11742.9, 11748.2, 11750.9, 11788.6, 11790.3, 11802.4, 11802.6, 11802.7, 11802.8, 11802.9, 11802.9, 11803, 11803.1, 11803.2, 11803.2, 11803.3, 11807.4, 11810.5, 11825.6, 11826.7, 11829.2, 11843.5, 11850.9, 11861.5, 11873.4, 11876.3, 11876.3, 11877.9, 11879.1, 11879.9, 11879.9, 11879.9, 11881.7, 11881.9, 11897.8, 11901.1, 11901.5, 11901.6, 11901.6, 11901.7, 11901.8, 11901.8, 11901.8, 11902, 11932.1, 11932.1, 11974.8, 12004.1, 12005.3, 12005.3, 12010.3, 12010.3, 12016.1, 12017.2, 12017.2, 12026.1, 12076, 12107.5, 12127.1, 12154.8, 12154.8, 12155.2, 12176.3, 12176.3, 12194.1, 12194.1, 12229.8, 12229.9, 12229.9, 12230, 12230, 12230.1, 12230.1, 12230.1, 12230.2, 12230.3, 12230.4, 12230.4, 12230.4, 12230.4, 12230.4, 12230.5, 12230.6, 12230.7, 12230.7, 12230.8, 12230.8, 12230.9, 12236.1, 12240, 12240, 12252.4, 12259.3, 12259.9, 12259.9, 12260, 12268.2, 12268.2, 12268.2, 12309.5, 12315.3, 12315.3, 12315.3, 12324.2, 12340.3, 12340.3, 12340.3, 12366.3, 12366.3, 12366.5, 12390.6, 12452.8, 12453.7, 12457, 12457.4, 12457.4, 12473, 12487.7, 12487.7, 12489.2, 12495.7, 12496.8, 12497.1, 12498.2, 12498.2, 12535.4, 12542.9, 12544.8, 12544.9, 12544.9, 12554.3, 12560.1, 12560.9, 12562, 12568.3, 12573.5, 12574.6, 12574.6, 12576.3, 12582.2, 12588.1, 12588.1, 12589.6, 12593.6, 12598.7, 12599.8, 12599.9, 12601.2, 12601.3, 12614.5, 12614.6, 12619.6, 12620.9, 12621.5, 12663.1, 12663.8, 12664, 12664, 12664.3, 12664.3, 12664.4, 12664.5, 12664.5, 12664.6, 12664.7, 12664.7, 12664.8, 12664.9, 12664.9, 12665, 12676.5, 12690.8, 12706.7, 12723.8, 12725.6, 12791.1, 12792.1, 12792.7, 12793.6, 12793.7, 12793.8, 12793.8, 12793.9, 12793.9, 12793.9, 12794, 12794.2, 12815.4, 12816.4, 12824.4, 12837.2, 12841.4, 12841.6, 12841.6, 12841.6, 12856.9, 12862, 12870.3, 12872.3, 12873.2, 12873.6, 12875.1, 12875.1, 12875.1, 12875.9, 12891.2, 12902.8, 12902.8, 12912.6, 12914.5, 12914.8, 12915.1, 12915.2, 12915.2, 12918, 12918.3, 12918.3, 12918.6, 12918.9, 12918.9, 12919.9, 12920.1, 12920.2, 12920.3, 12920.3, 12920.3, 12920.4, 12920.4, 13061.2, 13108.4, 13150.9, 13166.3, 13166.3, 13184.7, 13184.7, 13202.5, 13202.5, 13234.6, 13256, 13256, 13256.2, 13256.2, 13256.3, 13256.3, 13256.3, 13256.4, 13256.4, 13256.6, 13256.7, 13256.9, 13256.9, 13257.1, 13262, 13263.8, 13276.8, 13279, 13282.2, 13282.3, 13290.8, 13290.8, 13290.8, 13318.4, 13318.4, 13318.4, 13344.3, 13347.9, 13347.9, 13348.4, 13394.2, 13412.8, 13423.2, 13429, 13439.9, 13441.8, 13441.8, 13451.8, 13452.4, 13452.7, 13452.8, 13452.8, 13453.1, 13453.1, 13453.4, 13453.5, 13453.6, 13453.6, 13453.7, 13454.9, 13477.9, 13513.4, 13525.4, 13525.4, 13525.5, 13548.4, 13616, 13628.8, 13649.9, 13754.4, 13767.6, 13798.6, 13798.7, 13798.9, 13799, 13799, 13799.1, 13799.2, 13799.4, 13799.4, 13799.5, 13799.6, 13799.6, 13815.1, 13822.6, 13822.7, 13832.6, 13834.2, 13859.8, 13872.6, 13887.7, 13898.6, 13928.4, 13934.7, 13956.1, 13956.1, 13961.2, 13961.5]), array([11080.3, 11089.6, 11099.6, ..., 13956, 13956, 13956]), array([11082.7, 11083, 11083.3, 11083.9, 11133.2, 11138.1, 11244.4, 11267.7, 11269.4, 11302, 11302.5, 11302.5, 11302.5, 11302.6, 11303, 11303.1, 11319.4, 11341.8, 11349.5, 11357.8, 11367.7, 11367.8, 11409, 11417.5, 11417.7, 11423.5, 11463.7, 11463.7, 11463.7, 11464, 11464.1, 11464.2, 11464.2, 11464.2, 11464.2, 11464.3, 11464.5, 11464.6, 11464.8, 11464.8, 11465, 11465, 11465.1, 11471.7, 11481, 11481.6, 11483.5, 11488.5, 11488.6, 11488.6, 11488.6, 11491.3, 11493.4, 11494.9, 11495, 11501.6, 11502, 11502.1, 11502.7, 11502.8, 11502.8, 11502.9, 11504.9, 11505.7, 11505.7, 11511.8, 11581.5, 11581.5, 11588.9, 11595.9, 11617.7, 11617.7, 11625.4, 11634.3, 11646.3, 11655.6, 11668.7, 11668.7, 11686.5, 11686.5, 11686.6, 11686.6, 11686.9, 11686.9, 11686.9, 11686.9, 11686.9, 11686.9, 11687.2, 11687.2, 11687.4, 11687.4, 11687.5, 11687.5, 11687.6, 11687.7, 11687.7, 11687.8, 11687.8, 11687.9, 11688, 11688.2, 11688.2, 11688.3, 11688.3, 11688.4, 11688.4, 11688.5, 11688.6, 11688.6, 11688.7, 11688.7, 11688.7, 11688.8, 11688.9, 11689, 11689, 11689.1, 11689.2, 11689.2, 11689.3, 11689.3, 11689.3, 11689.5, 11689.5, 11689.6, 11690.5, 11690.5, 11690.5, 11691, 11693.6, 11693.6, 11693.6, 11693.6, 11693.8, 11693.8, 11694, 11697, 11700.4, 11700.4, 11701.5, 11701.8, 11701.8, 11701.9, 11701.9, 11702, 11702, 11702, 11702.1, 11702.1, 11702.2, 11702.2, 11702.2, 11702.2, 11702.3, 11702.9, 11702.9, 11703, 11703.1, 11703.1, 11703.2, 11703.2, 11703.2, 11703.2, 11703.4, 11703.5, 11703.5, 11703.9, 11704, 11704, 11704.1, 11704.3, 11704.3, 11705, 11705.1, 11705.1, 11708.7, 11708.7, 11710.4, 11710.9, 11710.9, 11711.5, 11712.4, 11712.9, 11712.9, 11713, 11713, 11713.3, 11713.3, 11732, 11758.4, 11799.1, 11799.1, 11799.3, 11799.3, 11799.4, 11799.5, 11799.6, 11799.6, 11800.3, 11800.7, 11800.7, 11800.7, 11800.9, 11800.9, 11800.9, 11801, 11801.1, 11810.6, 11826.8, 11829.3, 11843.7, 11850.5, 11868.5, 11870.6, 11874, 11890.2, 11897.8, 11902.6, 11902.7, 11904.5, 11905.8, 11906.1, 11906.1, 11906.3, 11906.3, 11906.3, 11906.3, 11906.4, 11906.4, 11906.4, 11906.5, 11906.5, 11906.6, 11906.6, 11906.6, 11906.7, 11906.9, 11907.1, 11907.1, 11907.1, 11907.1, 11907.1, 11907.2, 11907.2, 11907.4, 11907.4, 11907.4, 11907.7, 11908.1, 11908.2, 11908.2, 11908.2, 11908.2, 11908.3, 11908.3, 11908.3, 11908.3, 11908.4, 11908.4, 11908.4, 11908.5, 11908.5, 11908.6, 11908.6, 11909.7, 11910.5, 11910.7, 11910.8, 11910.8, 11915.5, 11932, 11935.9, 11940.7, 11940.7, 11941.5, 11943.4, 11994.3, 12053.5, 12061.1, 12070.7, 12076.1, 12095.8, 12095.8, 12096.9, 12146.6, 12146.6, 12152.6, 12169.6, 12176.2, 12179.5, 12218.3, 12225.4, 12225.9, 12226.2, 12226.5, 12226.5, 12227.5, 12228, 12228, 12228.7, 12259.3, 12259.4, 12323.2, 12323.2, 12324.2, 12362.5, 12406.6, 12407.3, 12409.6, 12418.9, 12497.7, 12513.8, 12541.3, 12589.8, 12589.8, 12601.4, 12621, 12632.7, 12656.4, 12664.9, 12665.3, 12666.9, 12667, 12667.1, 12667.1, 12667.2, 12667.2, 12667.2, 12667.3, 12667.4, 12667.4, 12667.4, 12667.4, 12667.5, 12667.5, 12667.7, 12667.8, 12667.8, 12667.9, 12668, 12668.1, 12668.1, 12668.2, 12668.2, 12668.4, 12668.7, 12668.7, 12669, 12673.3, 12674.2, 12674.2, 12674.2, 12676.8, 12677, 12678.1, 12681, 12682.4, 12682.4, 12682.8, 12682.8, 12682.8, 12682.8, 12682.8, 12682.9, 12683, 12683.1, 12683.2, 12683.3, 12683.4, 12698, 12773.9, 12781.3, 12781.9, 12785.2, 12785.3, 12785.5, 12785.6, 12785.6, 12786.7, 12786.7, 12787.4, 12788.8, 12807.6, 12828.5, 12839.8, 12839.8, 12849.5, 12858.8, 12871.1, 12878.1, 12878.1, 12878.1, 12878.2, 12891.3, 12913.5, 12913.5, 12921.6, 12922.1, 12922.1, 12922.1, 12922.1, 12922.1, 12922.1, 12922.2, 12922.2, 12922.2, 12922.2, 12922.3, 12922.3, 12922.4, 12922.4, 12922.5, 12922.5, 12922.6, 12922.6, 12922.6, 12922.7, 12922.7, 12922.7, 12922.9, 12923, 12923, 12923.2, 12923.3, 12923.4, 12923.4, 12923.5, 12924.6, 12925, 12925.4, 12925.5, 12925.5, 12925.6, 12925.6, 12925.6, 12925.6, 12925.8, 12926.8, 12926.8, 12926.8, 12926.8, 12926.9, 12926.9, 12926.9, 12926.9, 12927, 12927, 12927.1, 12927.2, 12927.2, 12927.3, 13037.3, 13040.9, 13040.9, 13070, 13089.7, 13098.4, 13130, 13130.5, 13132.4, 13132.4, 13132.8, 13132.8, 13132.9, 13133, 13133, 13133, 13135.1, 13138, 13138, 13155.9, 13158, 13160.2, 13160.2, 13160.3, 13160.3, 13160.3, 13161.2, 13163.3, 13163.3, 13163.3, 13166.2, 13166.3, 13169.5, 13170.1, 13170.1, 13170.1, 13170.1, 13176, 13178.8, 13184.6, 13184.6, 13184.6, 13184.7, 13186.1, 13189.6, 13189.8, 13192.4, 13192.4, 13192.4, 13198.2, 13198.9, 13200.7, 13200.7, 13200.8, 13201.3, 13209, 13209, 13224.8, 13224.9, 13233.6, 13240.7, 13252.5, 13253, 13253, 13253.3, 13254.5, 13291.9, 13291.9, 13312.6, 13325.2, 13368.8, 13368.8, 13373.4, 13373.4, 13410.8, 13411.7, 13421.1, 13451.8, 13458.3, 13458.6, 13458.6, 13458.8, 13458.8, 13458.8, 13458.8, 13458.8, 13458.9, 13458.9, 13458.9, 13459, 13459, 13459.1, 13459.2, 13459.3, 13459.4, 13459.5, 13459.5, 13459.5, 13459.6, 13459.6, 13459.7, 13459.9, 13460.1, 13460.2, 13460.3, 13460.3, 13460.3, 13460.4, 13460.4, 13460.7, 13462.1, 13463.4, 13463.7, 13463.8, 13463.9, 13463.9, 13464, 13464, 13464, 13464.2, 13464.3, 13464.4, 13465.6, 13476, 13483.4, 13483.4, 13486.2, 13490.7, 13491.2, 13491.2, 13491.2, 13514.8, 13516.9, 13521, 13523, 13525.1, 13528.4, 13531.1, 13531.1, 13537, 13537.8, 13537.8, 13537.8, 13537.8, 13538.6, 13538.6, 13538.7, 13545, 13545, 13546.1, 13546.4, 13565.3, 13624.8, 13624.8, 13650.1, 13685.6, 13685.6, 13782.1, 13782.3, 13796, 13797, 13834.6, 13857.7, 13857.7, 13884.8, 13884.8, 13884.8, 13928.5, 13928.5, 13955.9, 13956]), array([11070.2, 11070.4, 11070.5, ..., 13960.8, 13960.9, 13960.9]), array([11077.4, 11077.4, 11133.8, ..., 13956, 13956, 13956.1]), array([11090, 11090.1, 11090.5, ..., 13956, 13956, 13956]), array([11134, 11175.2, 11232.7, 11232.7, 11233, 11322.3, 11323.1, 11346.8, 11346.8, 11363.9, 11379.9, 11392.9, 11392.9, 11430.1, 11597, 11597, 11625.4, 11676.7, 11699.4, 11745.2, 11745.2, 11885.5, 11938.5, 11981, 12032.8, 12099.5, 12150.3, 12153.1, 12173.2, 12299.2, 12498.6, 12544.3, 12544.3, 12544.4, 12567.2, 12627.9, 12631.8, 12631.8, 12645.7, 12816.5, 12817.4, 12817.4, 12837.4, 12902.9, 12958.4, 13012.4, 13045.3, 13130.6, 13130.6, 13147.4, 13276.8, 13314.7, 13315.1, 13315.1, 13315.2, 13323.5, 13323.8, 13408.4, 13420.6, 13451.8, 13451.8, 13457.6, 13559.4, 13560.3, 13560.4, 13561.5, 13561.5, 13561.5, 13575.1, 13685.5, 13685.6, 13717.6, 13765.7, 13767.1, 13767.7, 13767.8, 13769.3, 13777.6, 13777.7, 13777.7, 13777.8, 13784.5, 13784.5, 13784.5, 13785, 13785, 13785.2, 13785.2, 13789.9, 13789.9, 13794.8, 13803.3, 13803.3, 13803.3, 13819.5, 13829.8, 13829.8, 13836.3, 13836.3, 13845.5, 13845.5, 13846.1, 13846.1, 13846.9, 13854.5, 13857.8, 13857.9, 13873, 13873.1, 13873.1, 13909.8, 13909.8, 13921.8, 13921.8, 13921.9, 13932.1, 13944.3, 13947.7, 13947.8, 13955.8, 13955.8, 13955.8, 13955.9, 13955.9, 13956.2, 13956.2, 13956.3, 13956.3, 13956.3, 13956.4, 13956.6]), array([11080.3, 11088.6, 11089.8, ..., 13961.5, 13961.5, 13961.5]), array([11070.7, 11070.7, 11080.3, ..., 13961.5, 13961.5, 13961.5]), array([11076.5, 11098.8, 11099.4, ..., 13947.3, 13947.4, 13953.9]), array([11115, 11146.5, 11150.4, 11150.5, 11151.8, 11159.1, 11159.1, 11159.1, 11159.2, 11159.2, 11159.2, 11189.4, 11246.5, 11247.2, 11269.6, 11270.4, 11284.2, 11306.9, 11317, 11319.9, 11328.3, 11328.3, 11362.4, 11362.4, 11409, 11409.1, 11409.3, 11409.6, 11409.6, 11409.6, 11409.6, 11409.7, 11409.7, 11409.7, 11409.7, 11410.1, 11410.4, 11411, 11411.6, 11417.7, 11421.2, 11423.3, 11423.4, 11426.3, 11426.3, 11426.4, 11426.8, 11426.8, 11426.8, 11428, 11428, 11428, 11437, 11449.4, 11464.3, 11497.9, 11503.8, 11508, 11517, 11535.2, 11558.9, 11558.9, 11573.8, 11573.8, 11574.4, 11574.4, 11574.4, 11575.8, 11575.8, 11575.8, 11588.5, 11600.4, 11600.4, 11600.4, 11650.6, 11652.9, 11655.5, 11662.6, 11664.1, 11664.1, 11664.1, 11686.8, 11688, 11691.6, 11704.2, 11708.9, 11723.6, 11731.5, 11733.8, 11764.4, 11783.2, 11792.4, 11793.3, 11795.3, 11802.7, 11861.4, 11861.5, 11861.7, 11863.5, 11863.5, 11868.4, 11868.5, 11870.6, 11889.6, 11897.9, 11903, 11906.8, 11907.8, 11907.8, 11911.5, 11932, 11932, 11932.1, 11942.2, 11942.2, 11942.8, 11943.6, 11943.7, 11943.8, 11945.1, 11963.3, 11963.3, 11974.7, 12001.4, 12024, 12026, 12073.6, 12091.1, 12095.4, 12149.3, 12154.7, 12176.2, 12193.9, 12199.1, 12209.1, 12219.9, 12224.6, 12240.1, 12268.9, 12290.5, 12290.5, 12290.5, 12291.2, 12291.2, 12293.7, 12315.3, 12324.2, 12376.1, 12385.9, 12388.1, 12388.2, 12388.3, 12390.6, 12415.1, 12431, 12453.8, 12453.8, 12457.5, 12498.4, 12505.1, 12559.3, 12559.6, 12595.7, 12631.3, 12632.7, 12641.1, 12656.2, 12665.6, 12682.7, 12700.5, 12703.5, 12710.2, 12748.7, 12754, 12755.1, 12787.6, 12802.3, 12804.2, 12816.1, 12816.1, 12816.1, 12819.9, 12837.5, 12848.1, 12856.9, 12873.2, 12873.2, 12873.3, 12873.3, 12873.3, 12874.8, 12874.8, 12874.8, 12891.3, 12927.6, 12927.7, 12949, 12955.8, 12990.8, 13002, 13019.3, 13029.3, 13037.2, 13040.4, 13040.9, 13085.3, 13116.8, 13117.3, 13127.8, 13176.1, 13204.7, 13223, 13243.3, 13254.9, 13279.5, 13292, 13319.6, 13319.6, 13319.6, 13319.7, 13319.7, 13319.7, 13364.7, 13372.2, 13372.3, 13372.3, 13372.4, 13372.4, 13418.7, 13418.7, 13418.7, 13418.7, 13418.7, 13418.7, 13433.3, 13451.8, 13451.8, 13457.3, 13457.5, 13459.1, 13476.3, 13541.5, 13545.8, 13551.5, 13552, 13552.2, 13552.3, 13552.7, 13552.9, 13553.3, 13554.3, 13555.9, 13557, 13557, 13559, 13562.1, 13562.7, 13563.8, 13563.8, 13563.9, 13563.9, 13563.9, 13564, 13564, 13564.1, 13564.2, 13564.2, 13564.2, 13564.3, 13564.4, 13564.6, 13564.8, 13568, 13568.1, 13568.1, 13568.2, 13568.2, 13568.2, 13568.8, 13568.8, 13568.8, 13568.9, 13569, 13569, 13569.2, 13569.2, 13598.5, 13601.1, 13614, 13622, 13622.3, 13622.6, 13622.7, 13622.8, 13623.5, 13623.7, 13624.1, 13624.1, 13648.2, 13679.6, 13679.6, 13682.6, 13682.6, 13682.6, 13682.6, 13683, 13706.1, 13775.4, 13780.2, 13797.1, 13797.3, 13805, 13873, 13913.6, 13913.7, 13928.4]), array([11090.1, 11133.6, 11157.6, ..., 13902.4, 13947.8, 13948.8]), array([11099.5, 11117.7, 11117.7, ..., 13957.6, 13957.6, 13957.6]), array([11076.9, 11102.4, 11117.7, ..., 13961.5, 13961.5, 13961.5]), array([11081.5, 11132.2, 11149.9, ..., 13956, 13958.9, 13959.6]), array([11137.4, 11137.4, 11137.9, 11174.9, 11175, 11251.2, 11251.6, 11251.7, 11251.7, 11251.8, 11252, 11303.8, 11309.5, 11309.9, 11310.3, 11356.4, 11356.5, 11357.4, 11357.7, 11357.8, 11362.6, 11362.6, 11381.7, 11385.7, 11505.5, 11505.8, 11505.8, 11516.9, 11662.6, 11716, 11737.6, 11738, 11802.4, 11802.4, 11859.1, 11991.7, 12070.6, 12127.5, 12173, 12197.4, 12209.4, 12229.7, 12229.7, 12273.4, 12273.4, 12324.2, 12388.1, 12388.1, 12505.3, 12513.8, 12538.1, 12538.4, 12559.3, 12656.4, 12666, 12706.7, 12706.8, 12740.6, 12778.2, 12778.2, 12789.2, 12792, 12792.1, 12792.2, 12792.5, 12824, 12828.5, 12841.6, 12920.7, 12958.4, 13036.3, 13061.1, 13061.1, 13071.9, 13084, 13084.3, 13084.5, 13088.6, 13104.1, 13104.4, 13104.4, 13104.9, 13105.1, 13108.4, 13162.5, 13243.7, 13247.7, 13255.3, 13255.7, 13255.7, 13255.9, 13276.8, 13276.9, 13276.9, 13282.3, 13292, 13422.1, 13451.8, 13454.5, 13470.8, 13498.6, 13498.6, 13516.4, 13564, 13564, 13564, 13564.1, 13564.1, 13564.1, 13564.2, 13564.4, 13564.4, 13564.5, 13564.6, 13564.7, 13564.8, 13564.8, 13564.9, 13565, 13566.6, 13566.6, 13566.7, 13566.9, 13566.9, 13567, 13567, 13567, 13567.2, 13567.3, 13567.3, 13567.4, 13568.1, 13568.1, 13568.2, 13568.2, 13568.6, 13568.6, 13568.7, 13568.9, 13569, 13569, 13569.2, 13569.2, 13569.4, 13588, 13608.6, 13611.5, 13611.6, 13613.2, 13614, 13614, 13616, 13621.6, 13621.9, 13621.9, 13622, 13622.2, 13622.4, 13622.6, 13622.7, 13623, 13623.4, 13623.7, 13623.8, 13625.6, 13625.8, 13625.8, 13625.8, 13625.8, 13649.9, 13649.9, 13676, 13679.6, 13685.6, 13797.9, 13798.4, 13859.7, 13881.5, 13905.7, 13922, 13937])], _ratemap_spiketrains_pos=[[array([-50.9464, -71.4273, -71.4637, ..., -58.0045, -56.987, -56.582]), array([-50.6463, -41.8795, -41.8655, ..., 84.9541, 84.5091, 84.4692])], [array([-72.2778, -66.9412, -66.8813, ..., -58.0588, -60.387, -56.7157]), array([-41.6086, -61.1997, -61.1883, ..., 84.2321, 82.6842, 84.8869])], [array([-78.3876, -56.3189, -64.6948, ..., -76.5529, -76.534, -75.9634]), array([-54.3317, -68.9781, -43.4855, ..., 82.3475, 82.3893, 83.2536])], [array([-50.9464, -50.9464, -50.9464, ..., -54.0901, -54.1441, -70.3397]), array([-50.6463, -50.6463, -50.6463, ..., 86.3295, 86.2653, 85.9239])], [array([-65.2276, -65.2021, -67.6329, -67.5805, -66.5215, -62.2526, -62.2473, -59.9952, -59.9393, -59.8978, -58.0816, -58.0565, -58.3437, -57.5343, -57.5449, -64.8413, -64.8546, -64.8691, -64.8854, -64.9071, -65.5837, -64.9782, -61.6842, -66.3594, -66.399, -65.2432, -62.6829, -65.3424, -65.5502, -64.4463, -64.4461, -64.4636, -64.1016, -64.2494, -62.8584, -62.8294, -55.9849, -55.9593, 83.3524, 83.3539, -62.9299, -65.4667, -67.6543, -68.0052, -68.0432, -68.5191, -68.543, -68.5372, -68.4754, -68.4298, -60.2264, -60.2433, -60.2612, -78.3399, -76.2887, -66.9679, -66.4739, -65.2236, -64.8888, -64.8456, -64.7993, -63.9686, -63.9694, -63.9572, -63.9544, -63.9548, -63.9552, -64.0656, -64.1718, -64.149, -64.2021, -64.231, -64.2627, -64.7367, -64.7746, -64.9466, -64.9504, -64.9562, -63.8528, -63.8439, -63.1343, -63.1292, -63.5554, -63.5754, -63.917, -63.9065, -63.8911, -63.5698, -63.5484, -63.4262, -62.6165, -62.6624, -63.5529, -63.6036, -63.7217, -64.4397, -64.4877, -64.566, -64.678, -64.8181, -64.8102, -64.6571, -64.4931, -64.459, -64.3876, -64.3706, -64.3749, -64.533, -64.5391, -64.5463, -64.7291, -64.7319, -64.9392, -64.9444, -64.9498, -64.9901, -64.7578, -64.7518, -63.603, -63.5758, -63.5391, -63.4769, -63.5043, -63.5251, -63.8178, -63.8121, -63.5298, -63.5338, -63.5395, -63.7167, -63.7296, -63.754, -63.7754, -63.9345, -63.9403, -63.9493, -63.6925, -72.9456, -72.9142, -72.7716, -71.7889, -71.7666, -71.7422, -76.2106, -76.1757, -76.1335, -62.7268, -64.5194, -64.1968, -64.343, -64.3601, -66.4698, -66.5087, -66.5212, -66.2039, -66.1829, -65.4401, -65.4198, -65.3986, -65.3353, -65.2918, -64.9087, -64.8744, -64.6445, -64.1167, -64.1301, -65.6986, -65.715, -66.0707, -66.0969, -14.1864, -14.0442, 7.51152, 6.61108, 8.45235, 8.43779, 8.40191, 9.93051, 9.91823, 9.91473, 9.84978, 10.1063, 18.3503, 13.7831, 13.7098, 13.7087, 18.2595, 12.0863, 12.0732, -27.8482, -27.925, -50.078, -50.1387, -63.6446, -64.3505, -64.3519, -64.6334, -64.6624, -64.9097, -64.8878, -64.9462, -64.9575, -64.702, -64.7109, -65.0194, -65.0399, -51.249, -51.25, -51.629, -54.9364, -56.3322, -56.3336, -56.3346, -56.3364, -54.2039, -54.2003, -52.807, -52.8147, -60.8977, -55.6039, -55.5544, -55.5161, -55.472, -55.4461, -54.1987, -54.1965, -54.1927, -54.1364, -54.1359, -54.1353, -54.1345, -54.134, -54.1571, -54.1585, -54.1596, -54.1618, -54.225, -54.2282, -54.0211, -54.0331, -53.6921, -50.8689, -50.8691, -50.8694, -57.2996, -57.2605, -59.8268, -59.8779, -59.0005, -58.9748, -58.9396, -59.1444, -59.6125, -59.6877, -66.7998, -67.7965, -67.8309, -66.8494, -71.96, -71.9527, -62.8713, -66.3231, -66.2779, -64.9525, -64.9509, -64.8465, -61.8647, -61.8683, -61.8719, -64.2533, -64.2448, -63.7813, -63.3291, -61.1298, -61.0863, -54.5675, -54.5724, -55.139, -55.1407, -55.1403, -52.2409, -52.2396, -66.5607, -65.7312, -65.7452, -65.9947, -65.9475, -65.3208, -65.284, -65.2495, -65.2639, -65.2665, -65.2696, -65.2733, -63.9126, -63.8942, -64.5139, -64.4828, -64.4396, -63.488, -63.4608, -63.4224, -63.2981, -63.4002, -64.1487, -64.1486, -68.7796, -68.7345, -68.4113, -68.099, -68.9216, -72.8607, -72.8968, -72.8936, -74.3832, -74.3924, -74.3771, -74.39, -74.3966, -74.9842, -74.9952, -67.6155, -65.7262, -74.4533, -59.5302, -59.6111, -59.4903, -59.4938, -60.6364, -60.7085, -63.6536, -63.785, -64.5084, -64.5459, -63.6393, -63.4563, -62.345, -62.3567, -62.417, -62.4372, -62.4879, -63.0319, -63.0512, -63.1084, -63.1314, -63.4193, -63.426, -61.5157, -61.4685, -61.4161, -61.3115, -54.0839, -54.0852, -54.04, -54.0396, -53.3875, -53.3804, -55.662, -55.6372, -55.5761, -54.641, -58.1159, -67.4845, -69.4919, -69.464, -69.2764, -69.2262, -69.2184, -69.2095, -69.0988, -68.3632, -68.3614, -71.3498, -71.3519, -78.9086, -78.9109, -63.8702, -62.7229, -66.6206, -66.114, -66.1221, -65.7586, -65.7069, -64.6094, -64.5969, -63.3229, -63.2894, -63.217, -63.17, -62.9973, -62.9738, -62.6372, -62.6308, -62.2858, -62.2844, -62.2076, -62.1983, -62.1845, -62.1884, -62.2109, -62.239, -62.2419, 8.95331, 82.9447, 60.8485, -52.9316, -55.2467, -55.3106, -59.2707, -59.4364, -66.5558, -66.5633, -67.2826, -70.7192, -64.7345, -64.8622, -67.3462, -67.6218, -68.456, -68.8395, -71.3558, -68.7915, -68.7735, -70.1002, -70.0955, -70.637, -70.6471, -70.6694, -68.6203, -68.1279, -68.1545, -68.1767, -66.7125, -68.3254, -68.4204, -68.4753, -58.5786, -59.7117, -61.1165, -61.2533, -61.3622, -64.5791, -64.5334, -64.0668, -64.0685, -74.5801, -79.2027, -79.1944, -61.9599, -64.5427, -64.6134, -65.0843, -64.2165, -64.8853, -64.8991, -64.9086, -64.9125, -64.8866, -64.558, -64.5453, -64.229, -66.4104, -66.4114, -69.3316, -51.9823, -51.9973, -51.7859, -51.9346, -52.4588, -52.4597, -52.4603, -52.5254, -52.5251, -56.172, -56.1819, -56.1951, -55.096, -52.9515, -52.9235, -53.6185, -54.8464, -54.8459, -51.7838, -51.7834, -51.9692, -51.9844, -60.0154, -59.9973, -59.9512, -59.9201, -59.9025, -59.8737, -59.8364, -59.225, -59.2067, -59.1751, -57.0305, -53.5848, -53.5876, -53.589, -53.5907, -53.6467, -53.6459, -53.6448, -53.6387, -53.6675, -53.6676, -53.6678, -53.8032, -53.835, -54.0885, -54.0883, -54.1506, -54.1388, -54.1228, -54.1229, -54.1229, -54.0159, -54.011, -53.9938, -53.9928, -53.991, -56.9792, -58.5569, -58.5877, -58.6366, -58.7446, -58.8495, -58.9335, -58.9245, -58.812, -57.3095, -57.2575, -57.225, -55.7588, -55.7356, -55.7423, -57.0276, -57.0566, -57.3812, -57.4324, -57.516, -76.084, -66.7678, -65.8774, -65.935, -65.2292, -65.2015, -65.1752, -65.0491, -65.059, -65.1021, -64.3718, -64.3157, -63.5318, -63.5311, -62.9695, -62.9656, -62.9175, -62.9142, -62.9069, -62.8034, -62.7993, -62.7218, -62.7432, -62.771, -63.5062, -63.5271, -63.557, -63.8865, -63.8861, -63.8832, -63.8829, -63.8744, -63.8741, -63.7226, -63.8074, -64.7375, -64.71, -64.6596, -64.625, -69.2313, -70.7684, -71.1671, -68.6533, -67.536, -68.9251, -69.6532, -69.8108, -69.8317, -69.8637, -73.183, -73.1809, -66.3957, -66.4117, -66.3899, -66.397, -66.7068, -66.5082, -63.2377, -64.0266, -60.6984, -60.6931, 31.3161, 31.319, 31.3225, 11.4872, 11.4796, 11.4844, 15.6984, 17.0572, 17.0549, -77.1461, -68.6819, -68.5861, -66.3862, -66.5055, -66.8764, -67.095, -67.0984, -66.8129, -66.7983, -66.7496, -66.5652, -66.5573, -66.543, -62.1954, -62.2413, -62.2454, -62.3303, -62.3379, -66.4871, -61.4843, -61.3225, -61.2812, -61.236, -58.1454, -58.098, -56.8197, -56.8221, -56.8294, -56.9706, -58.5883, -57.2492, -57.2535, -57.0742, -60.5117, -60.5292, -56.8534]), array([-62.611, -62.6396, 77.7258, 77.7893, 80.8547, 91.5184, 91.4753, 88.267, 88.2522, 88.2387, 87.2941, 87.2871, 86.9521, 87.6208, 87.6668, -40.3329, -40.3022, -40.2691, -40.2317, -40.1849, -37.6819, -28.1516, 90.7647, 24.8916, 24.486, -1.08417, -47.269, -43.1641, 7.89124, -44.1397, -44.2516, -44.2257, -45.2739, -45.1902, -43.9974, -43.9652, -47.1662, -47.1297, -65.2083, -65.2006, -45.0522, -45.0907, -44.0092, -44.2548, -44.2536, -43.9579, -43.0737, -43.0342, -42.9943, -42.9739, 91.1579, 91.1741, 91.195, 87.4606, 84.1203, 26.3407, 24.0711, 2.67936, -7.06981, -7.28995, -7.53659, -14.1858, -14.277, -14.6177, -14.7723, -14.8646, -14.9535, -16.3253, -17.971, -18.097, -19.686, -19.7413, -19.8017, -21.8668, -21.9007, -22.5861, -22.5728, -22.561, -28.3212, -28.3165, -30.7518, -30.8265, -32.831, -32.8911, -34.1668, -34.1763, -34.1902, -33.0298, -33.0462, -33.1607, -37.7867, -37.8187, -38.4409, -38.4763, -38.5588, -38.9405, -38.9572, -38.9846, -39.0265, -38.7759, -38.7639, -38.7505, -38.6383, -38.5956, -38.4943, -38.4106, -38.3083, -36.3337, -36.3144, -36.2914, -36.0201, -36.0104, -35.8404, -35.8346, -35.8284, -35.582, -35.177, -35.1687, -33.2333, -33.2564, -33.2877, -32.4544, -32.4169, -32.3705, -33.3606, -33.3513, -32.7513, -32.711, -32.6531, -31.613, -31.5829, -31.5425, -31.5071, -31.7517, -31.7833, -31.8307, -35.4521, -66.9883, -67.0103, -67.0565, -69.4942, -69.4897, -69.4856, -53.6612, -53.6011, -53.528, -50.0612, -49.17, -49.2132, -49.2478, -49.2537, -44.8196, -44.7245, -44.6972, -43.9565, -43.897, -42.9359, -42.9224, -42.9083, -42.8573, -42.8217, -42.8614, -42.8403, -42.6738, -42.6744, -42.7016, -42.9477, -42.9551, -43.4293, -43.4375, 22.5038, 22.6067, 76.5722, 80.9146, 55.9116, 55.9079, 55.8987, 56.4766, 56.4483, 56.4236, 56.2497, 59.1635, 81.0034, 80.7379, 80.2596, 80.2557, 80.7645, 81.1082, 81.1136, -0.51788, -0.700395, -36.049, -36.1262, -42.1631, -42.4058, -42.4349, -42.7514, -42.7952, -42.9692, -42.9889, -42.7188, -42.6541, -39.9832, -39.9187, -37.8726, -37.8119, 89.1023, 89.0975, 89.7528, 88.0395, 87.3399, 87.3418, 87.3432, 87.3457, 87.1944, 87.1757, 89.235, 89.2262, 83.9533, 87.3619, 87.35, 87.3406, 87.3296, 87.3231, 87.5847, 87.5857, 87.5886, 87.4883, 87.4874, 87.4861, 87.4846, 87.4837, 87.4222, 87.4203, 87.4172, 87.412, 87.4562, 87.46, 87.5769, 87.5857, 86.9992, 90.8574, 90.8567, 90.8556, 88.1491, 88.16, 88.3127, 88.3284, 86.6269, 86.6377, 86.8765, 85.5689, 87.1803, 87.1616, 99.099, 84.3996, 84.3812, 83.8778, 94.6386, 94.6296, 90.6845, 85.4763, 85.4861, 90.4494, 90.4556, 90.5113, 89.7142, 89.7062, 89.6982, 86.6651, 86.6633, 89.4229, 89.2295, 88.7179, 88.7061, 88.0151, 88.0136, 87.7132, 87.6548, 87.655, 87.0834, 87.0829, 27.6383, 17.3214, 17.0435, 11.8049, 8.36644, 2.33481, 1.81358, 0.818052, -0.667853, -0.853645, -1.10545, -3.42601, -36.0235, -36.1054, -39.5577, -39.566, -39.5683, -39.3079, -39.305, -39.3009, -40.3214, -40.5203, -41.2541, -41.2819, -40.749, -40.727, -40.5049, -40.1387, -41.0963, -38.996, -38.8925, -38.9011, -34.858, -33.649, -33.6176, -33.4012, -33.4048, -33.4372, -33.4389, -72.1067, -72.074, -49.9489, -45.7458, -45.6507, -45.4101, -45.4071, -44.7533, -44.6783, -42.4842, -42.3445, -40.4599, -40.2817, -24.9309, -25.2318, -25.619, -25.6298, -25.6844, -25.7019, -25.7462, -26.3071, -26.3353, -26.4218, -26.4582, -26.3838, -26.2801, 89.6321, 89.6037, 89.5704, 89.5043, 87.7004, 87.6969, 87.7245, 87.722, 87.9461, 87.9566, 87.932, 87.9317, 87.931, 88.0018, 86.3963, 94.2791, 93.3483, 93.3488, 94.2812, 94.2459, 94.2363, 94.2208, 93.4796, 93.4062, 93.4089, 93.7274, 93.7261, 88.9136, 88.9177, 91.5362, 90.9563, 52.8285, 29.9851, 29.8286, 4.67438, 4.23182, -21.0615, -21.1774, -37.7474, -37.7908, -37.8848, -37.9468, -38.1966, -38.2338, -38.9734, -39.0118, -38.1433, -38.1536, -38.3645, -38.3911, -38.4964, -38.5, -38.5364, -38.3619, -38.3605, 82.9476, -65.0704, -73.0796, -41.5813, -45.8798, -45.9221, -46.1405, -46.1571, -58.026, -58.0429, -58.4359, -65.483, -49.0863, -47.1573, -46.4662, -46.7347, -46.264, -45.6069, -45.0216, -42.8916, -42.8766, -44.8763, -44.8807, -45.2853, -45.2928, -45.3048, -43.3521, -42.5319, -42.5462, -42.5581, -41.7374, -42.5091, -42.5518, -42.5774, -44.8311, -43.823, -42.5732, -42.4515, -42.3546, -42.0566, -42.1494, -42.8191, -42.824, -68.132, -61.5838, -61.6002, -48.7238, -46.4435, -46.4134, -45.15, -44.1693, -44.0794, -44.1368, -44.1837, -44.2253, -45.076, -45.5649, -45.5614, -44.7795, 101.342, 101.341, 99.4698, 88.477, 88.4824, 88.7836, 88.6033, 88.7976, 88.7966, 88.7959, 88.7161, 88.7169, 87.9608, 87.9671, 87.9755, 87.5357, 87.6581, 87.6552, 87.8374, 87.5787, 87.5795, 90.0348, 90.0411, 88.6617, 88.657, 86.4694, 86.4693, 86.469, 86.4688, 86.4687, 86.4686, 86.4683, 86.4649, 86.4648, 86.4646, 86.4524, 88.5318, 88.5316, 88.5314, 88.5311, 88.3438, 88.3434, 88.396, 88.3983, 88.3207, 88.3207, 88.3207, 88.3195, 88.3139, 88.1738, 88.1736, 88.1869, 88.1781, 88.1623, 88.1617, 88.1611, 88.1906, 88.1904, 88.1986, 88.2008, 88.2047, 87.4985, 87.0264, 87.0149, 86.9972, 86.9646, 86.9183, 86.7698, 86.7621, 86.6982, 87.0481, 87.0591, 87.0653, 87.3243, 87.3331, 87.3538, 87.5987, 87.6101, 87.7497, 87.7746, 87.8166, 82.233, 31.768, 16.7828, 10.6033, 0.936638, 0.824811, 0.632157, -6.02743, -6.1444, -8.521, -26.9162, -27.1187, -41.5118, -41.5588, -42.4628, -42.4701, -42.5608, -42.5671, -42.5808, -42.776, -42.7837, -42.9297, -42.9456, -42.9551, -43.0628, -43.0661, -43.0718, -42.8488, -42.8301, -42.685, -42.6695, -42.2514, -42.2359, -39.9047, -39.8604, -41.0619, -41.0893, -41.1623, -41.2124, -69.897, -69.0303, -66.1324, -70.0797, -50.9029, -45.0686, -44.583, -44.4931, -44.4811, -44.4629, -44.3499, -44.3495, -47.6488, -47.6685, -48.3627, -48.3801, -47.4032, -46.856, -42.2185, -42.0585, -48.9022, -48.8993, 68.4162, 68.4189, 68.4198, 77.4209, 77.4379, 77.4426, 81.6153, 80.7228, 80.72, -54.5697, -51.6638, -51.6207, -48.5005, -44.8474, -44.6829, -45.4655, -45.5337, -45.7061, -45.7001, -45.6801, -45.6357, -45.6358, -45.6361, 90.7545, 90.7713, 90.775, 90.9596, 90.9525, 80.4004, 86.1503, 86.1519, 86.1523, 86.1528, 86.1829, 86.1834, 86.148, 86.154, 86.1709, 85.46, 85.2673, 86.0693, 86.0544, 87.3251, 82.7282, 82.7245, 84.8402])], [array([-66.2022, -66.2261, -74.6245, -74.6996, -62.2914, -66.3388, -73.0677, -74.0469, -74.0644, -55.5314, -55.0245, 80.0991, 17.2137, 20.007, 9.699, 9.69176, 13.8179, 13.8339, 8.9397, 12.5062, 11.6769, 11.1716, 22.4029, 26.9661, 26.7987, 26.4076, 25.7699, 20.1373, 19.0211, 19.0153, 19.5499, -2.54414, -2.52328, 7.34536, 7.31649, 7.60022, 7.72948, 15.7361, 15.8826, 20.396, 22.2505, 22.3032, 27.0432, 27.3232, 27.3604, 27.459, 27.4611, 23.8836, 23.7892, 20.4069, 21.3114, 20.5702, 14.6497, 14.5557, 18.4338, 18.582, 19.5058, -1.73623, 2.84877, 2.40708, 1.57941, 6.88582, 7.99879, 8.0296, 2.92236, 7.96673, 8.8534, 13.1777, 16.6675, 19.8656, 21.3141, -63.3232, -63.5826, -64.4734, -60.3249, -59.2252, -61.0719, -64.0049, -65.2623, -68.5581, -69.3604, -68.3955, -68.3949, -69.2198, -69.2884, -57.9915, -57.9806, -61.6952, -61.7283, -62.2804, -61.8493, -61.8289, -63.3777, 11.8168, 14.8708, 14.9087, 14.9678, 15.1472, 15.0882, 16.0782, 16.7072, 16.7327, 16.814, 16.8529, 16.9822, 16.9646, 9.15877, 9.14637, 81.669, 79.5118, 6.32178, 8.70189, 10.8631, 10.9151, 11.04, 8.69103, 6.45086, 14.005, 16.356, 17.7599, 13.432, 13.4376, -63.0004, -65.4201, -68.6437, -69.0265, -69.0773, -70.3045, -70.3882, -71.0883, -72.1398, -72.7667, -73.101, -73.1568, -73.4496, -73.3091, -73.3312, -74.6417, -74.6794, -75.335, -75.3362, -75.404, -75.1444, -75.2108, -75.4151, -75.4406, -74.5404, -73.2228, -73.2997, -74.7678, -80.5965, -79.9917, -71.3163, 13.0477, 13.5243, 12.327, 13.0834, 13.8213, 13.885, 13.9145, 20.7521, 22.9789, 23.0124, 20.7304, 20.7245, 20.7242, 20.7248, 21.0645, 21.0229, 21.4847, 26.6394, 8.12042, 7.66916, 12.8434, 14.0582, 14.1178, 14.7096, 16.0115, 17.9779, 18.0421, 17.7911, 8.32755, 8.45457, 15.7634, 19.6086, 16.2528, 6.14802, 10.1644, 10.5925, 10.5099, 17.0687, 10.0007, 12.3924, 15.7609, 19.7093, 17.2455, 20.9116, 22.5939, 22.5523, 22.63, 22.6754, 23.6989, 22.1048, 21.6668, 19.9334, 19.5482, 20.2161, 18.4995, 13.9814, 17.4045, 17.6525, 9.14312, 9.14228, -3.65006, -3.0574, -1.45644, -61.0479, -60.643, -55.3013, -56.3774, -53.6166, -54.4262, -54.3939, -52.3151, -66.4254, -66.4244, -62.3588, -62.4802, -64.8742, -53.5054, -52.5839, -52.6498, -53.0042, 21.5251, 21.7058, 80.5308, 83.9322, 83.9092, 83.6504, 84.963, 84.7236, 84.6603, 84.3007, 75.7043, 21.6665, -61.829, -63.3488, -66.9623, -68.7069, -68.6396, -68.6472, -67.8569, -67.2617, -67.2636, -67.641, -69.6504, -54.6043, -69.1323, -68.3681, -70.2586, -64.5272, -64.5025, -66.8469, -62.3131, 3.46874, 7.95758, 9.27223, 10.0415, 14.5459, 14.5278, 15.2612, 17.7875, 16.4807, 17.4823, 17.4634, 17.5631, 16.8852, 16.924, 17.8307, 18.2188, 18.7929, 16.9587, 16.9893, 16.9965, 17.206, 16.9626, 17.2165, 17.2213, 22.8163, 25.3497, 25.3444, 17.0186, 16.7881, 16.3941, 16.4289, 16.5425, 16.3435, 17.0349, 16.6977, 16.6993, 14.5623, 13.2891, 12.5824, 11.4529, 9.27361, 9.32839, 13.7416, 9.61264, 5.47147, 6.17934, 8.78407, 11.3504, 14.511, 16.268, 16.2354, 16.4216, 19.2374, 18.1273, 15.0345, 14.9956, 11.965, 10.7364, 10.7639, 12.9218, 12.4878, 12.4553, 7.12545, 7.11707, 4.38122, 2.0146, 12.8005, 4.19594, 5.99647, 8.39973, 8.41855, 8.37214, 8.39909, 8.65527, 13.5405, 7.15966, 8.80929, 6.25729, 6.6746, 6.67415, 6.63358, 12.3505, 12.7565, 12.7582, 15.5305, 16.3527, 12.231, 12.2407, 11.0194, 11.0077, 10.9976, 11.0547, 12.7232, 9.1921, 14.8237, 14.3466, 14.3458, 14.4102, 15.6979, 15.4449, 14.7357, -74.9641, -74.9105, -73.2696, -65.1254, -67.1686, -68.2501, -68.299, -72.4298, -73.9175, -73.838, -73.9826, -75.3019, -75.3074, -75.2185, -75.1847, -75.762, -75.7418, -75.628, -75.5233, -75.5, -75.4213, -75.4229, -75.4242, -75.3568, -75.4118, -75.5301, -75.5111, -75.6316, -75.5553, -75.4518, -73.435, -74.4286, -75.2823, -74.6886, -70.6461, -70.4787, -70.6195, -70.6479, -70.693, -70.6934, -70.7111, -70.605, -70.6249, -80.2074, -80.1152, -80.6789, -80.6611, -80.2388, -60.3826, -52.1769, -52.5251, -52.5218, -53.4578, -53.221, -53.2205, -51.1744, -52.1245, -52.5513, -53.8173, -54.1158, -76.0869, -76.0755, -66.3504, -66.7204, -66.766, -66.8178, -66.8467, -66.863, -70.1774, -71.2934, -72.1168, -73.6765, -73.2789, -73.3821, -71.2469, -71.4133, -71.7909, -72.1913, -66.9772, -67.4691, -67.5202, -71.8547, -71.8389, -71.0469, -71.1225, -70.9803, -69.2383, -69.2817, -69.7552, -70.2929, -70.3394, -68.8462, -61.9072, -68.6245, -69.8051, -68.6421, -70.1875, -70.1886, -70.1871, -73.6468, -77.3284, -77.3731, -77.6725, -72.9602, -72.8713, -71.323, -73.5158, -70.3239, -71.7107, -73.6376, -72.7128, 14.5282, 18.3248, 18.4131, 19.2297, 32.883, 32.8748, 27.9126, 28.2768, 28.2763, 27.8232, 27.5676, 34.5549, 34.8151, 31.0318, 31.2104, 31.2005, 31.2246, 32.81, 31.8214, 31.9925, 32.2719, 29.1428, 19.1203, 18.8521, 15.7083, 11.772, 7.58752, 8.18135, 13.9562, 14.4392, -3.57314, -3.75231, -4.78051, -5.18329, -2.58335, -2.59331, 23.1801, 25.8402, 26.2727, 26.5115, 25.9475, 25.6319, 24.0373, 25.1736, 28.8773, 27.4853, 27.4697, 27.4222, 27.3177, 27.6343, 26.985, 26.989, 27.0499, 26.7307, 26.6446, 26.6932, 26.7041, 26.7125, 26.7795, 27.1748, 29.5516, 31.6217, 31.5316, 31.0556, 31.0648, 31.0283, 26.0994, 26.0877, 26.1779, 25.6877, 25.673, 12.4432, 12.3127, 12.4707, 12.4622, 12.4639, 10.4276, 10.442, 10.5275, 10.586, 10.2646, 11.6206, 11.5471, 11.5348, 11.5425, 11.5496, 11.5538, 11.4977, 11.5285, 17.0438, 16.9138, 15.9275, 16.3125, 16.4068, 13.5009, 14.354, 14.9408, 15.1092, 15.0307, 15.9954, 15.7619, 14.1722, 14.1855, 15.3446, 15.3435, 15.3901, 15.3854, 15.3895, 15.4395, 16.533, 17.8494, 17.852, 16.8568, 16.5868, 18.5398, 17.9741, 18.1882, 18.1379, 18.3836, 18.5544, 18.5552, 18.4731, 18.444, 18.3972, 18.4161, 19.0532, 19.0553, 19.0582, 19.058, 19.0916, 19.1153, 19.368, 19.3849, 19.4038, 17.8761, 17.8785, 17.7845, 17.8125, 18.0187, 18.1751, 18.0044, 18.0457, 18.0531, 18.0653, 19.6184, 17.4387, 17.2589, 17.2472, 17.2373, 17.5159, 17.5151, 17.5395, 17.548, 17.5493, 17.5507, 18.3182, 19.5213, 19.5664, 19.5608, 82.8449, 79.491, 80.1609, 80.844, 80.8839, 83.3188, 86.8256, 85.5432, 85.9989, 86.9945, 86.9929, 86.9679, 89.0666, 89.0683, 87.9167, -62.7665, -62.8364, -71.1885, -71.2423, -72.1591, -72.0941, -70.5891, -70.603, -70.8593, -70.057, -60.7075, -52.4106, -52.4074, -58.4754, -57.1688]), array([0.353476, 0.687448, 61.9752, 62.0287, -54.3782, -52.8045, -68.6601, -69.208, -69.2139, -42.7891, -41.5794, -64.0551, 67.6038, 79.5553, 81.7719, 81.8998, 83.6462, 83.7195, 85.3642, 82.2399, 81.3133, 81.2121, 75.2132, 76.7936, 78.4702, 78.3006, 77.9875, 80.4582, 79.0207, 78.7012, 78.8743, 62.8699, 62.7592, 54.2634, 54.2722, 52.9623, 53.189, 55.2236, 55.1973, 56.7024, 58.9442, 58.9141, 52.3713, 52.8836, 53.0396, 53.7037, 53.8474, 66.6864, 66.8154, 71.859, 76.2002, 76.6661, 77.6915, 77.6372, 79.0105, 79.125, 79.8463, 72.5761, 79.633, 79.8247, 69.2379, 60.674, 59.9123, 59.8745, 56.8628, 55.144, 56.8602, 52.9031, 56.6754, 58.6683, 58.4472, -64.2226, -64.2674, -65.3374, -69.276, -70.8519, -71.5997, -68.5096, -66.7502, -71.061, -70.143, -69.7827, -69.785, -69.6299, -69.636, -51.6664, -51.4642, 95.2472, 96.0094, 89.6231, 89.4684, 89.5053, -42.4268, 57.5511, 62.6558, 62.6587, 62.5178, 62.3793, 61.9005, 62.651, 63.7304, 63.7524, 66.3338, 66.4645, 77.6456, 77.7147, 81.8832, 81.8823, -64.775, -63.5984, 60.0301, 69.5672, 84.1776, 84.1865, 84.2005, 83.3233, 82.1715, 78.8323, 82.8654, 82.6419, 79.1838, 79.0181, 93.1982, -50.8233, -51.2669, -58.8511, -58.9133, -60.2095, -60.1643, -60.548, -61.9793, -62.6097, -62.7696, -66.4593, -66.2786, -67.5438, -67.5521, -67.559, -67.2488, -67.3183, -67.329, -67.2944, -67.6549, -68.9792, -68.9691, -68.7922, -68.946, -71.0833, -71.0932, -71.0865, -65.4575, -65.0461, -69.9488, 56.5969, 55.2814, 65.0486, 60.7805, 60.4252, 60.3813, 60.6275, 69.8481, 78.956, 78.9562, 80.2032, 79.8707, 79.8726, 79.8735, 80.47, 80.5671, 80.6003, 72.6999, 67.9631, 76.1677, 80.1854, 80.9234, 80.9238, 81.5798, 81.8836, 81.325, 81.0506, 80.352, 81.7428, 81.8914, 81.8174, 81.4227, 80.941, 77.9135, 55.5561, 56.2965, 56.6151, 57.0659, 59.1858, 75.6105, 77.0681, 81.2329, 78.0684, 78.2217, 81.2823, 80.7502, 80.1189, 79.758, 79.602, 81.127, 82.1912, 83.0574, 81.3874, 81.6598, 80.7295, 81.368, 82.7044, 82.5497, 56.9884, 56.9874, 54.7621, 55.2866, 60.797, 94.8659, 93.995, 88.0641, 87.2836, 88.5577, 88.402, 88.4087, 89.4369, 99.2296, 99.2299, 89.9448, 90.5471, 86.359, 88.4104, 88.6569, 88.6597, 88.2894, 50.4477, 48.7929, -59.7829, -58.7118, -58.7078, -58.4266, -56.9987, -56.9792, -56.9217, -56.8704, -66.4114, 47.8364, -59.197, -63.5509, -66.268, -71.3214, -71.0742, -71.717, -72.4617, -71.6092, -71.6072, -71.4627, -71.0209, 87.9655, 93.1079, 93.4212, 94.8233, 92.3609, 92.3534, 65.8977, -37.7185, 48.2508, 59.8109, 62.8238, 64.3479, 79.6135, 79.6867, 81.4974, 82.7074, 86.5573, 84.0794, 84.052, 84.143, 84.7401, 84.7322, 83.8301, 74.0066, 74.1181, 80.1438, 80.1943, 80.221, 81.2396, 81.1859, 81.1259, 81.1172, 77.4677, 78.6799, 78.7039, 82.8542, 84.6335, 83.8458, 83.8881, 83.517, 83.5335, 81.9987, 81.0302, 81.0421, 82.8399, 83.152, 83.7675, 83.3408, 80.5558, 80.5474, 76.9994, 53.1468, 65.6757, 64.331, 66.6537, 69.7385, 71.4324, 71.9354, 71.9882, 72.8139, 70.7214, 70.4394, 70.0002, 76.3568, 77.0683, 84.0452, 84.0494, 82.8963, 82.86, 82.8507, 79.7732, 79.7514, 74.0699, 74.5123, 81.2297, 61.1613, 67.7633, 70.6874, 70.6916, 62.5091, 62.3684, 62.1792, 53.418, 67.0598, 84.18, 80.6187, 80.9268, 80.9249, 80.8322, 81.8698, 81.7285, 81.7212, 78.8841, 75.5053, 79.5912, 79.5789, 82.2846, 82.5884, 82.5693, 81.5521, 81.6844, 82.828, 81.7591, 81.4889, 81.4882, 81.4346, 75.4553, 76.6212, 76.3887, -62.8782, -63.0838, -69.9456, -54.9269, -55.6298, -55.7151, -55.7718, -65.2725, -65.8468, -65.9137, -67.1484, -68.1338, -68.0956, -67.8182, -67.8262, -68.1111, -68.098, -67.9052, -67.8325, -67.7901, -67.6718, -67.6709, -67.6705, -67.628, -67.5695, -67.6565, -67.5958, -67.6386, -68.0969, -68.0148, -70.0024, -70.1232, -69.3695, -68.5138, -69.3115, -68.9383, -69.152, -69.1591, -68.7826, -68.7834, -68.8179, -69.112, -69.0779, -58.1242, -57.8874, -58.6716, -58.7067, -59.5398, 94.4535, 88.3764, 88.7167, 88.7283, 88.0943, 87.9107, 87.9112, 89.0621, 88.6142, 88.4837, 88.3665, 88.1923, 82.2329, 82.2331, -56.8948, -56.2896, -56.2384, -56.9999, -57.3956, -57.4622, -60.3241, -65.101, -67.5232, -64.2869, -63.9216, -65.0806, -68.0006, -69.018, -69.2943, -68.2072, -70.881, -70.7471, -71.138, -70.2384, -70.1751, -68.3024, -68.2949, -69.2341, -69.8828, -69.7963, -69.7175, -69.5666, -69.653, -65.2015, -60.1178, -66.2444, -65.7996, -69.8641, -65.7317, -65.7322, -65.7401, -63.1172, -63.9093, -63.9396, -64.7002, -69.0519, -69.0794, -68.8674, -66.1416, -68.6604, -68.027, -62.1253, -44.1768, 57.143, 57.9852, 58.0245, 58.2393, 54.0915, 54.0886, 50.1823, 51.7237, 51.9836, 53.2365, 55.5999, 64.0749, 63.9683, 66.5621, 66.0852, 66.0113, 66.014, 66.8992, 66.6626, 66.6704, 66.726, 66.3502, 71.5671, 71.472, 70.8138, 82.7017, 63.1613, 63.0313, 63.0433, 62.5435, 73.0229, 72.9606, 70.4713, 69.6873, 72.3801, 72.3875, 58.1085, 58.7793, 59.5471, 61.059, 64.9071, 65.336, 69.9534, 72.2128, 75.3894, 74.0072, 74.7473, 74.9552, 75.1865, 75.9192, 75.4368, 75.4381, 75.4556, 75.1769, 75.1333, 75.0857, 75.084, 75.0981, 75.1081, 74.5216, 71.7438, 70.0589, 69.1059, 68.0593, 68.0523, 68.0195, 75.5982, 75.5881, 74.997, 74.7738, 74.7677, 64.6359, 64.71, 64.668, 64.6649, 64.6664, 71.1152, 71.107, 70.9655, 70.8033, 71.379, 77.6219, 77.5484, 77.4867, 77.4733, 77.4551, 77.4551, 77.3639, 77.3581, 81.2652, 81.1621, 80.7241, 81.0142, 81.0475, 81.8308, 81.7012, 81.5966, 81.3186, 81.3268, 81.4965, 81.0056, 82.1905, 82.1688, 81.7697, 81.7702, 81.9097, 81.8056, 81.8019, 81.7713, 82.1184, 80.5399, 80.5402, 80.7219, 80.6684, 81.0199, 80.7835, 81.3817, 81.4108, 81.1938, 81.1189, 81.1531, 81.3685, 81.3735, 81.3447, 81.073, 80.9121, 80.9174, 80.9216, 80.8928, 80.7355, 80.7355, 80.758, 80.7487, 80.737, 80.9287, 80.9263, 80.7165, 80.741, 80.9544, 80.8659, 80.6495, 80.7152, 80.7072, 80.6918, 80.1388, 82.1087, 80.4917, 80.4843, 80.4727, 80.2843, 80.2854, 80.2307, 80.2259, 80.2346, 80.2327, 80.37, 78.1736, 78.2438, 78.297, -56.5814, -56.511, -57.3106, -58.1444, -58.1958, -57.7675, -57.4617, -54.2182, -54.4914, -55.3718, -55.3714, -55.3661, -58.2135, -58.2128, -56.596, -51.7555, -51.7683, -63.0737, -64.5244, -66.8854, -67.0381, -67.2614, -67.2594, -67.6365, -69.3637, 94.5084, 88.165, 88.1588, 85.369, 85.917])], [array([-75.1154, -74.7037, -74.7246, ..., -60.6698, -60.681, -60.6865]), array([-51.2154, -62.8443, -62.8111, ..., 82.6542, 82.6432, 82.6375])], [array([-70.504, -75.4939, -59.7375, 61.9569, 62.5238, 62.4599, 62.4264, 62.3892, 60.6956, 60.5966, 60.4739, 58.0956, 58.0283, 57.9973, 57.9587, 56.6086, 56.6342, 56.5576, 56.5215, 56.5082, 56.4819, 23.5821, 84.7727, 13.8212, -5.45111, -6.64912, -51.9627, -51.964, -50.8292, -52.3204, 85.1411, 85.1216, 9.14471, 60.6961, 60.7034, -50.8477, -51.0965, -54.0841, -76.087, -76.0863]), array([-65.1733, 87.1233, -54.0845, -67.6733, -68.6195, -68.6601, -68.6779, -68.7044, -68.7448, -68.7278, -68.7067, -68.5485, -68.5722, -68.5805, -68.5925, -68.0354, -68.0219, -67.5662, -67.7084, -67.712, -67.7132, 80.1969, -54.3992, 80.7752, 53.7153, 54.3381, 86.1346, 86.1432, 91.0161, 86.1941, -57.2618, -57.2238, 82.9804, -72.7431, -72.7447, 88.9564, 88.9776, 88.1852, 82.2329, 82.2329])], [array([-50.9464, -50.9464, -50.9464, ..., -74.4519, -74.9735, -76.1998]), array([-50.6463, -50.6463, -50.6463, ..., 82.1398, 82.2558, 83.0568])], [array([-67.4702, -51.1356, -51.1509, -64.5459, -58.5284, -63.6025, -57.8899, -61.1242, -71.2381, -63.2326, -61.6484, -64.6534, -64.0197, -64.5738, -64.5729, -61.2783, 84.6859, -58.4945, -78.414, -78.4558, -76.1841, -76.1855, -77.836, -77.6884, -68.7536, -68.3547, -68.3194, -68.2815, -67.1165, -67.1079, -66.1925, -65.2166, -65.2028, -65.1686, -65.1555, -64.584, -63.7764, -62.8037, -63.7704, -66.1763, -64.9877, -65.1912, -64.3886, -64.6039, -64.5353, -64.5343, -64.5498, -64.5519, -64.5193, -64.5308, -64.5346, -64.5554, -64.5744, -64.5432, -64.5384, -64.5413, -64.5429, -64.4398, -64.8303, -64.8221, 20.6701, 20.6697, 7.06899, 7.0884, 11.7235, 7.5866, 8.68351, 9.10684, 9.07116, 12.4873, 13.0855, 13.0856, 9.97055, 9.97224, 9.97501, 15.6263, 15.6294, 15.6313, 15.6345, 15.6356, 13.8758, 16.0003, 15.9877, 9.10329, 9.10578, 9.15324, -39.4179, -44.8021, -44.888, -66.6835, -60.8933, -60.8908, -52.4691, -54.6576, -54.6668, -54.6605, -54.4912, -50.8701, -51.734, -64.8675, -64.8706, -64.1975, -64.1921, -64.1839, -52.6098, -74.0343, -71.1371, -70.9904, -64.857, -64.7793, -63.7832, -63.7297, -63.6902, -63.6642, -63.6331, -63.3763, -63.2592, -62.9985, -61.7926, -61.6457, -61.4645, -60.7426, -60.7305, -41.9119, -47.3278, -51.2087, -50.4662, -49.1483, -49.124, -48.9793, -48.8651, -48.8255, -49.1349, -40.7485, -41.7491, -43.199, -43.666, -46.0481, -50.3909, -55.6197, -56.4026, -79.3976, -72.7254, -54.5012, -54.5034, -68.0231, -69.2136, -69.1964, -69.1103, -69.1088, -70.1338, -70.2195, -70.2687, -70.2828, -70.2877, -71.5026, -71.5001, -71.1994, -78.9188, -78.9221, -62.7651, -63.7769, -64.6233, -64.582, -62.3295, 16.7985, 16.811, 12.5005, 12.5043, 13.2884, 8.35339, 8.44405, 8.4449, 8.56452, 11.5402, 12.2777, 8.81125, 6.63746, 6.667, -46.7792, -47.0932, -49.9967, -54.3998, -53.6376, -53.5255, -64.8335, -65.4443, -66.1551, -66.0884, -62.5042, -71.1114, -70.9762, -70.6204, -76.07, -73.0848, -66.8343, -66.3412, -62.5779, -62.9182, -63.9214, -64.0852, -64.7437, -64.7728, -64.7608, -64.7608, -64.8055, -66.2418, -67.5815, -68.959, -66.6285, -69.042, -66.617, -68.7323, -72.1898, -69.4783, -70.1305, -70.3731, -70.5171, -66.8803, -66.3085, -66.345, -66.453, -66.4937, -62.8315, -62.6729, -62.6204, -62.6001, -62.4307, -62.3392, -62.2425, -62.1652, -62.1582, -61.7947, -58.7619, -59.3034, -59.1745, -72.6902, -79.4667, -75.9672, -73.2643, -73.0305, -72.9059, -72.8195, -72.1424, -72.0609, -70.7494, -70.1525, -68.4749, -68.3817, -68.3104, -68.2217, -68.1838, -66.958, -66.4999, -66.2878, -64.9593, -59.3782, -58.3314, -58.5597, -57.7875, -57.4913, -57.1876, -57.1923, -57.3982, -57.9134, -57.9172, -58.1273, -58.0822, -58.0819, -58.1742, -58.1874, -58.2177, -58.2142, -58.3576, -58.5433, -58.6884, -58.6951, -58.6826, -58.6873, -58.6886, -58.7504, -58.7576, -58.7601, -58.7833, -58.8082, -58.8211, -58.852, -58.8525, -58.8452, -58.8261, -58.8855, -59.3879, -59.9044, -60.8611, -60.9189, -60.9011, -60.9848, -61.0059, -60.9719, -52.441, -52.5872, -52.6013, -52.6031, -52.0559, -53.5968, -53.6125, -76.0835, -65.3665, -65.965, -66.2206, -66.27, -66.2405, -66.1949, -65.9332, -65.481, -72.742, -69.2274, -76.5719, -77.6519, -75.7033, -73.9045, -71.5798, -71.1488, -70.7919, -70.5027, -69.16, -68.453, -67.787, -65.6297, -64.4752, -61.8097, -61.7151, -61.7447, -61.677, -57.3679, -58.5636, -61.0616, -60.5897, -68.67, -73.0583, -73.1674, -73.3414, -73.7529, -74.1509, -72.9546, -72.7642, -74.2105, -71.1799, -69.9642, -69.7183, -74.2067, -74.2287, -71.176, -70.0392, -66.2246, -66.2234, -66.211, -69.2238, -64.4708, -60.7112, 11.4689, 11.4859, 15.8748, 17.0837, 17.0817, 17.0795, 81.6443, -27.8478, -40.1379, -40.7044, -45.0971, -46.1601, -47.8483, -69.7164, -72.3501, -76.5228, -74.1786, -61.5989, -61.607, -62.6401, -66.4802, -66.5175, -57.2873, -57.2145, -57.2098, -57.3674, -57.2654, -57.2691, -57.2716, -56.9716, -56.6183, -56.6238, -60.6389, -60.6636, -56.3382]), array([-44.6184, -48.8592, -48.8653, -54.5108, -43.7002, -32.5642, -43.6301, -45.2845, -42.2193, 90.4008, 89.2266, -45.0702, -43.2325, -42.695, -42.695, -48.0951, -55.8303, -45.7769, 85.713, 85.7146, 86.03, 86.0301, 86.1194, 84.7727, -47.196, -47.5083, -47.4802, -47.45, -46.8932, -46.9016, -47.2403, -47.9167, -47.9609, -48.0671, -48.1191, -49.3267, -50.3147, -49.3549, -49.5873, -50.9578, -49.2589, -49.346, -49.1789, -48.6399, -48.634, -48.6334, -48.3588, -48.3935, -48.4268, -48.407, -48.3955, -48.3861, -48.3828, -48.3598, -48.3604, -48.3652, -48.3694, -49.07, -40.5257, -40.5335, 80.1302, 80.1269, 76.3743, 76.3605, 84.2099, 56.5382, 56.3485, 56.4702, 56.4883, 55.5767, 55.9674, 55.961, 59.2119, 59.2063, 59.1967, 80.7856, 80.7853, 80.7851, 80.7817, 80.775, 81.1939, 81.5526, 81.5385, 56.8608, 56.8605, 56.9949, -17.8492, -28.8757, -29.0548, 83.8081, 94.0996, 94.1083, 86.0758, 87.59, 87.594, 87.5966, 88.3791, 90.8529, 91.0324, 86.5934, 86.5929, 86.6345, 86.6303, 86.6243, 88.5758, -36.8041, -37.9072, -37.9105, -39.0312, -39.1232, -40.1946, -40.2326, -40.2606, -40.2791, -40.3011, -40.4834, -40.5496, -40.8456, -42.3466, -42.4679, -42.6315, -43.7603, -43.8923, -55.2416, -53.0298, -50.4902, -50.3302, -50.1203, -50.1112, -50.0272, -49.9639, -49.9456, -49.855, -20.4972, -22.2214, -24.251, -24.8255, -28.6751, -36.9134, -42.9491, -45.0988, -52.6472, -49.162, 88.3075, 88.3064, 95.3072, 93.4101, 93.4197, 93.6223, 93.6034, 95.4229, 95.2244, 94.3789, 94.3332, 94.3278, 93.8923, 93.8905, 93.4907, 88.9314, 88.9372, 90.724, -34.4159, -40.6428, -40.416, -38.2817, 84.4173, 84.4349, 54.8857, 54.8771, 83.3271, 62.5241, 62.3871, 62.3879, 62.3909, 55.2985, 54.517, 82.8896, 81.0784, 80.8794, -31.8126, -32.2611, -36.4585, -43.4136, -42.4362, -42.3124, -41.8699, -45.5723, -49.2583, -49.3396, -54.582, -56.7085, -56.8239, -57.038, -55.3064, -51.6165, -48.911, -48.91, -47.5986, -46.9978, -45.8743, -45.8193, -45.8947, -49.0026, -49.0743, -49.0705, -48.9707, -45.953, -46.5038, -46.0905, -46.7621, -46.3333, -46.1541, -46.7168, -49.6449, -44.6337, -44.2142, -43.6704, -43.8336, -42.5231, -42.0132, -42.0651, -42.2455, -41.944, -40.7946, -40.7829, -40.7088, -40.722, -40.967, -41.2028, -41.5015, -44.783, -44.7929, -44.6388, -44.803, -44.2825, -44.6529, -42.2178, -61.0629, -62.6089, -56.5229, -55.9581, -56.0294, -56.0504, -55.569, -55.4696, -54.2835, -54.0251, -53.5657, -53.4959, -53.4352, -53.2831, -53.1819, -52.317, -51.9352, -51.7785, -51.0378, -50.7431, -50.7393, -51.6302, -52.1235, -51.9461, -51.5115, -51.4863, -51.6531, -51.6507, -51.6478, -51.5173, -51.616, -51.6206, -51.5819, -51.5919, -51.6102, -51.6134, -51.5254, -51.4901, -51.5697, -51.5721, -51.5494, -51.5556, -51.5592, -51.4878, -51.4867, -51.531, -51.521, -51.523, -51.5284, -51.5282, -51.5563, -51.5379, -51.5239, -51.4865, -52.2496, -52.527, -52.4563, -52.3024, -52.333, -52.3387, -52.3583, -52.3889, 88.8181, 88.628, 88.6243, 88.6239, 88.6352, 88.5282, 88.4444, 82.233, -43.728, -44.1053, -44.2614, -44.1713, -43.8491, -43.7705, -43.3279, -42.9118, -67.9076, -69.9047, -58.2032, -59.605, -58.4995, -54.7133, -52.4875, -52.2451, -52.0443, -51.8816, -51.3614, -51.3732, -50.9627, -46.7055, -46.2388, -45.9872, -46.0398, -46.0766, -45.9942, -46.2853, -51.1224, -50.1047, -49.6568, -70.0977, -67.8684, -67.8001, -67.6773, -66.669, -64.023, -67.9387, -66.6221, -63.6584, -56.8991, -56.9184, -56.8181, -48.8015, -48.9162, -43.6807, -44.4413, -46.9699, -46.97, -46.979, -46.5835, -42.6127, -49.0597, 77.5373, 77.5399, 80.6658, 80.7276, 80.7277, 80.7272, -65.8776, -0.168144, -20.2829, -21.4332, -28.1525, -29.3423, -32.5122, -69.1254, -67.3864, -53.8845, -51.7976, 92.0152, 92.0114, 90.6167, 80.3256, 80.2048, 85.8227, 85.7394, 85.734, 86.0773, 86.0138, 86.0011, 85.9926, 87.4494, 85.589, 85.5886, 82.6778, 82.6589, 84.8048])], [array([-65.7941, -65.8235, -65.8503, -65.8791, -65.9095, -65.9389, -66.4386, -66.4394, -66.4304, -62.1825, -62.1788, 15.6074, 83.7556, 65.9085, 59.8811, 23.272, 24.2531, 25.6327, 26.1161, 27.066, 7.35441, 15.324, 13.0202, -69.0578, -58.2393, -61.9997, -61.9363, -61.8985, -61.81, -61.7606, -60.3522, -81.0298, -62.1854, -62.1716, -77.1145, -76.7685, -76.7658, -76.7602, 15.008, 83.1701, 30.2253, 11.3374, 16.0804, -63.0787, -60.207, -76.0133, -77.6829, -76.2593, 26.6397, 24.8929, 11.1431, 10.0107, 10.2213, 9.01547, 10.0515, 22.5668, 15.5593, 15.5567, 13.7962, 13.798, 13.7194, 15.9914, 18.2605, 17.8808, 17.8733, 9.11153, -51.3194, -56.3409, -56.339, -56.3377, -52.6627, -54.2292, -54.2552, -50.8294, -50.8295, -50.868, -57.2088, -54.0267, -61.2128, -61.1954, -62.4408, -62.4111, -62.1969, -64.2281, -52.7516, -53.5617, -52.6103, -42.3372, -42.3391, 21.392, 21.417, 52.5572, -54.501, -54.5024, -54.5492, -68.4859, -78.915, 8.36995, 6.66512, 13.6018, 9.26154, 9.21047, 59.1387, -73.4327, -69.3728, -75.575, -69.1506, -51.6916, -51.782, -51.7689, -51.7856, -52.4424, -52.4436, -52.5554, -52.5295, -52.525, -52.5249, -52.6563, -52.9523, -53.2264, -56.2533, -56.2522, -56.246, -51.7468, -52.0583, -53.4873, -53.4925, -53.5027, -53.5889, -53.8148, -54.1207, -54.1119, -60.1926, -77.174, -76.0842, -76.0835, -76.0824, -76.0766, -70.4553, -73.0301, -73.0272, -72.8707, -72.8669, -72.8625, -72.7149, -72.7108, 3.38709, 5.24729, 4.94384, 12.4624, 14.333, 18.5076, 19.6787, 20.104, 21.3357, 25.2278, 27.2039, 28.1017, 29.1529, 29.3763, 30.923, 30.9045, 30.8504, 30.8555, 30.5855, 30.4973, 30.4649, 31.0118, 32.0698, 32.4217, 33.3744, 32.2487, 32.0978, 32.0495, 32.5299, 30.8696, 30.5173, 29.2218, 27.6069, 27.7227, 28.1384, 28.2799, 29.6241, 30.6156, 30.7921, 30.2386, 33.3212, 34.9454, 34.3875, 11.7779, 4.56763, 15.4521, 17.9644, 18.0658, 18.2462, 19.16, 28.7748, 28.0423, 27.2023, 26.7111, 26.6992, 26.8254, 28.3051, 29.322, 30.5904, 31.4589, 31.5316, 31.1118, 31.6416, 31.5341, 31.3607, 31.0653, 31.0406, 25.8248, 11.4745, 16.3445, 16.3646, 17.7911, 19.0683, 17.8238, 17.4615, 17.4414, 17.2301, 17.6211, 13.7217, 12.052, 11.5327, 11.5258, 11.556, 11.52, 11.743, 23.6672, 83.6087, 84.8839, 83.6966, 71.6412, 87.7448, 47.3617, 47.2968, 41.3687, 38.7082, 38.5714, 37.8789, 36.5286, 35.6223, 35.2171, -60.7161, -65.6321, -52.9874, -53.1452, -53.2185, -52.1592, -52.1528, -51.8113, -51.8033, -51.6919, -51.6646, -51.6585, -51.8414, -56.9661, -57.1012, -57.102, -57.5446, -60.6495, -60.663, -56.5546, -56.5589]), array([9.3095, 9.51542, 9.70309, 9.8274, 9.94011, 10.0494, 13.4907, 13.6436, 14.0562, 90.9427, 90.9124, 55.0927, -66.663, -76.7626, -68.5093, 58.3613, 57.6807, 56.7224, 53.298, 52.5836, 58.953, 51.1766, 45.6277, -69.7959, -50.8075, 94.3459, 94.6675, 94.7593, 94.9675, 95.0731, 94.544, 88.3887, 89.5479, 88.0873, 84.2245, 84.6305, 84.6285, 84.6244, 62.5593, -65.3368, 25.1381, 50.6891, 62.3375, 93.4973, 91.1517, 86.0208, 84.7778, 84.2569, 72.702, 68.7032, 55.8455, 56.1468, 56.1146, 59.9669, 59.1747, 80.6413, 80.7361, 80.7357, 80.8478, 80.844, 80.2871, 81.5431, 80.7238, 80.8375, 80.8421, 57.0908, 88.9772, 87.371, 87.371, 87.3719, 85.6499, 87.5004, 87.5197, 91.0153, 91.0148, 90.861, 88.1663, 87.2767, 94.5207, 94.5496, 89.7208, 89.8018, 90.6197, 86.6566, 88.6615, 88.3029, 88.5753, -55.694, -55.6964, 48.6736, 48.7072, -16.7073, 88.3076, 88.3069, 87.9816, 93.4536, 88.9248, 62.3455, 80.9043, 81.1168, 82.919, 83.0142, -75.2592, -71.6531, -43.6584, -67.9005, 98.6134, 88.6167, 88.8024, 88.8191, 88.7841, 88.8164, 88.8151, 88.6747, 88.7053, 88.7172, 88.7175, 88.6122, 88.4809, 87.9046, 87.7193, 87.7124, 87.6997, 88.7297, 88.6345, 88.5096, 88.5062, 88.5005, 88.5314, 88.3603, 88.1687, 88.1687, 94.3948, 80.7591, 82.233, 82.233, 82.233, 82.2331, -66.076, -44.3189, -44.3183, -44.2918, -44.3006, -44.3255, -44.2117, -44.1936, 48.4157, 51.8722, 50.938, 57.1543, 57.1459, 58.0848, 57.7282, 57.3828, 57.4959, 59.5669, 60.2924, 60.6221, 61.0081, 61.0901, 60.4514, 59.6026, 59.4567, 59.4316, 59.0744, 58.3571, 58.2346, 55.4089, 55.2859, 55.6495, 56.439, 53.8389, 53.3455, 53.4712, 54.102, 51.8895, 51.236, 51.9655, 49.4886, 49.5589, 49.6768, 50.1727, 69.3613, 67.1078, 64.3368, 63.812, 64.1358, 63.9875, 64.0785, 82.6888, 57.3716, 55.7235, 56.9568, 56.9346, 56.8952, 56.3091, 75.3932, 75.1388, 75.4844, 75.1751, 75.1716, 75.0859, 73.567, 72.0356, 71.0201, 70.6037, 70.6693, 70.1532, 70.023, 68.7839, 68.232, 68.0939, 68.014, 74.8369, 77.5762, 80.9588, 80.7811, 80.6727, 80.8884, 80.7765, 80.7471, 80.7403, 80.4679, 80.2569, 54.6764, 48.1799, 52.0464, 52.0046, 50.7439, 50.8104, 53.2051, 42.3037, -65.79, -53.5342, -58.203, -56.7988, -56.4026, -6.77008, -6.67211, 6.72148, 10.7513, 11.0744, 12.9831, 16.0867, 17.8354, 18.6449, 94.3387, 86.0733, 86.635, 86.6378, 86.6495, 86.5048, 86.5094, 86.7588, 86.7646, 86.846, 86.8659, 86.8704, 86.0782, 85.4549, 86.575, 86.5724, 85.5447, 82.6697, 82.6594, 84.5069, 84.501])], [array([-44.2683, -44.3089, -44.6256, ..., -54.6994, -54.6343, -54.6026]), array([-45.5453, -45.4916, -45.0726, ..., 85.5703, 85.5923, 85.6031])], [array([-43.4069, -43.3904, -46.4474, ..., -54.9677, -54.9581, -54.9464]), array([-45.5985, -45.6259, -43.3742, ..., 85.4793, 85.4826, 85.4866])], [array([-51.1394, -51.1837, -44.556, ..., -53.1112, -53.1105, -53.1562]), array([-50.3027, -50.2239, -44.843, ..., 86.4392, 86.4391, 86.3613])], [array([-46.3576, -69.3389, -64.6505, ..., -58.9596, -58.0908, -75.9481]), array([-43.2376, -45.6439, -43.2256, ..., 82.809, 83.9943, 83.1519])], [array([-75.3567, -64.1526, -49.1932, ..., -57.3982, -59.7332, -56.5636]), array([-57.6935, -42.2591, -54.9197, ..., 84.3277, 83.0786, 84.4945])], [array([-74.9268, -63.3317, -62.423, ..., -76.0236, -76.0957, -76.5017]), array([-49.726, -60.5871, -59.599, ..., 82.4769, 82.4235, 82.2845])], [array([-60.4548, -68.5057, -64.956, ..., -54.4187, -54.4294, -70.1641]), array([-60.1612, -44.9797, -38.8861, ..., 85.9392, 85.9264, 85.9123])], [array([-50.9464, -44.7559, -44.8255, ..., -58.9033, -54.6895, -63.1336]), array([-50.6463, -44.9003, -44.8082, ..., 82.8095, 85.5736, 84.3508])], [array([-73.8363, -65.8315, -65.1751, -67.285, -67.2728, -67.2022, -67.5426, -68.0179, -68.056, -68.0641, -67.5298, -67.5185, -68.3835, -67.5633, -76.8664, -63.826, -59.9156, -60.6659, -60.7812, -61.6432, -61.6341, -61.6154, -61.6046, -62.6559, -62.8126, -63.8966, -60.0363, -61.0683, -67.6513, -74.165, -74.095, -73.2096, -73.1723, -73.1412, -73.0901, -72.5111, -71.9471, -71.7634, -70.6165, -71.0195, -70.9258, -70.8708, -69.6097, -69.5667, -69.5183, -69.4842, -68.6115, -67.492, -67.0732, -66.9403, -66.8545, -66.8204, -76.9017, -76.9427, -76.9777, -77.4779, -77.5284, -74.7353, -74.6299, -74.8871, -75.8239, -74.2903, -74.4807, -75.2267, -76.4126, -75.3089, -75.1831, -73.6119, -68.5417, -68.1684, -67.8028, -66.3498, -66.8059, -66.8162, -55.5992, -65.7359, -65.9512, -66.0001, -66.237, -66.191, -66.1115, -65.9695, -65.9749, -65.9943, -66.1292, -66.3831, -67.0507, -67.4423, -67.6104, -67.2815, -67.1389, -70.5545, -69.6472, -76.8947, -75.9876, -75.97, -69.2396, -67.4566, -67.2813, -67.2738, -66.4732, -58.0159, -61.7573, -62.0031, -62.0178, -62.6069, -67.2605, -78.92, -72.4153, -71.6162, -69.591, -68.2157, -68.2214, -68.5557, -68.6214, -69.4126, -66.8082, 5.85048, -56.4039, -58.9087, -65.0155, -65.3446, -65.5328, -66.1314, -66.0782, -65.987, -66.5959, -65.0987, -65.0274, -64.2548, -64.3733, -64.3543, -64.3486, -64.6076, -64.6762, -64.6672, -64.699, -64.9239, -65.159, -66.6403, -66.8937, -66.9606, -66.7125, -67.3101, -61.6885, -62.8375, -75.1766, -74.8537, -57.6815, -57.3645, -61.5454, -60.2283, -60.8034, -61.8603, -62.3311, -62.4213, -62.4442, -62.4607, -62.4699, -61.9345, -61.6822, -61.9123, -61.9235, -61.7092, -61.7375, -61.8582, -61.8935, -62.3729, -62.1997, -64.0381, -63.2705, -63.0541, -62.3355, -62.1174, -62.1683, -76.8919, -76.4792, -77.5505, -76.3037, -72.7258, -62.1766, -63.8591, -64.1013, -65.6471, -65.7537, -65.8354, -65.7924, -65.9999, -66.4073, -66.41, -66.6564, -66.3768, -66.5231, -66.8148, -66.8202, -66.3467, -66.0384, -67.4268, -74.4474, -73.9994, -73.9305, -73.9114, -73.882, -73.678, -73.6934, -73.7086, -73.7383, -73.7515, -73.8442, -73.8815, -73.989, -72.5178, -70.5609, -69.3669, -69.2596, -67.0249, -57.2431, 83.3527, 82.5593, 81.462, 12.8108, 12.6069, -65.153, -65.6924, -66.0037, -65.9349, -65.8929, -65.9465, -66.3123, -66.2462, -66.2323, -66.4631, -66.574, -60.5999, -60.1876, -63.0016, -63.0719, -63.2799, -78.388, -76.0597, -77.6885, -77.9612, -75.0322, -75.0325, -75.3027, -73.2798, -72.4839, -72.4288, -72.266, -70.4807, -70.1879, -63.398, -62.1669, -62.911, -64.3546, -64.3863, -64.391, -64.4157, -64.1979, -64.1487, -64.9314, -71.6444, -71.6191, 7.5536, 15.0635, 15.9452, 15.9612, 6.4994, 6.53863, 12.5722, 15.1352, 15.1542, 7.60326, 10.0835, 19.7529, 15.5861, 13.7014, 13.7031, 13.6583, 12.059, 12.0512, 8.80784, 8.81032, -64.8045, -65.7383, -65.7439, -66.0804, -66.0811, -66.3574, -66.4044, -66.4479, -66.3366, -66.3261, -66.3013, -66.298, -66.2942, -66.4328, -66.4859, -66.8027, -66.919, -67.11, -67.0784, -67.09, -67.5266, -66.9086, -60.6106, -70.9788, -70.9828, -53.0568, -51.2421, -51.3174, -51.3181, -51.3228, -51.9518, -51.9537, -51.9564, -54.9136, -56.3803, -56.4388, -56.5324, -53.4581, -52.952, -52.9316, -52.8836, -57.6677, -57.6952, -58.7332, -50.8677, -58.3591, -58.6812, -57.6844, -58.8011, -59.0407, -68.1361, -60.5482, -60.5425, -65.0039, -61.9156, -65.4411, -67.165, -67.0586, -66.957, -62.3966, -62.3433, -62.7465, -62.7522, -62.7571, -62.5006, -65.2309, -64.6614, -64.9856, -65.6902, -65.263, -66.2567, -66.2604, -65.182, -63.8536, -62.4547, -62.4301, -61.7229, -61.8266, -61.504, -61.6617, -61.6776, -62.9889, -62.9065, -61.2039, -61.218, -65.7559, -64.2835, -64.159, -55.2517, -60.9935, -60.4614, -60.3599, -61.667, -61.7891, -63.29, -64.572, -64.8072, -64.9881, -66.0032, -66.1801, -66.5605, -66.884, -66.9579, -67.5391, -73.608, -42.1637, 43.5149, 80.0868, 76.1052, -63.0596, -65.2952, -66.3691, -66.9009, -66.7535, -65.8441, -65.8034, -65.5345, -65.4026, -65.1359, -65.1672, -66.8579, -54.0982, -54.7877, -62.7624, -68.0194, -69.1835, -69.1618, -69.1596, -69.1589, -71.3995, -70.3455, -72.0939, -71.3503, -71.1832, -71.2219, -71.1017, -71.1024, -71.1031, -71.0508, -78.89, -63.8596, -63.8514, -66.1677, -62.7048, -62.7046, -63.9295, -64.2286, -64.2783, -62.4121, -63.3314, -63.3145, -63.281, -65.6349, -65.7419, -65.074, -65.0153, -64.9578, -64.9205, -64.9174, -64.9081, -64.8789, -64.9488, 13.6048, 60.8339, -74.4659, -64.8969, -64.9096, -66.5226, -66.509, -68.9114, -68.8199, -78.1675, -65.173, -65.1822, -65.7254, -65.7686, -65.5767, -65.5549, -65.4886, -65.6133, -65.674, -66.2292, -66.1878, -67.1184, -66.9836, -67.4656, -60.5538, -60.1554, -66.6362, -66.2592, -66.4041, -66.4053, -69.4878, -69.4863, -69.4851, -51.7886, -51.7956, -51.8019, -55.032, -61.0001, -61.0045, -60.7705, -63.4506, -53.6459, -54.1356, -59.2755, -60.9745, -66.7746, -66.7897, -76.0835, -71.1088, -68.3629, -67.7331, -67.6604, -67.1784, -66.8468, -67.7526, -67.6178, -66.7332, -66.4616, -66.5816, -67.5933, -69.2194, -70.4008, -72.6311, -72.6227, -72.5993, -46.126, 27.3152, 25.8448, 11.55, 86.5757, 72.4599, -66.5724, -66.2396, -65.5388, -65.1732, -65.2143, -65.9788, -66.6751, -66.6007, -66.9506, -66.9833, -67.0557, -66.9857, -67.4547, -62.1843, -62.2296, -61.8815, -65.772, -57.6142, -57.2312, -58.3536, -52.7842, -60.3639, -56.973, -54.536, -54.5136, -76.2387, -75.9512]), array([-63.903, -67.1679, -23.4609, 57.695, 57.8071, 58.6573, 64.7624, 65.2534, 65.3444, 65.4332, 66.7643, 67.0222, 68.4151, 73.8879, 88.8454, 94.0673, 95.0199, 90.5725, 90.4896, 86.2328, 86.1523, 86.0355, 85.5181, 83.9672, 83.7553, 83.0485, 95.068, 95.3708, 101.551, 84.816, 84.7189, 83.4897, 83.438, 83.3948, 83.3239, 82.52, 81.7371, 81.4821, 79.89, 75.8832, 74.9224, 74.3888, 71.5006, 71.4659, 71.4312, 71.4158, 71.1187, 70.1766, 69.9849, 69.2751, 68.9449, 67.813, 63.9736, 64.1466, 64.7399, 64.5768, 64.6593, 65.8743, 66.0036, 67.2739, 70.2186, 72.0925, 73.8326, 73.9733, 72.5332, 71.6425, 71.5406, 70.267, 66.9436, 66.8509, 66.7093, 66.6738, 60.1064, 60.0614, -38.1807, 0.827975, 6.8394, 10.8678, 21.0975, 21.9404, 22.7673, 25.1363, 25.3126, 25.9673, 28.0455, 30.6111, 32.792, 33.7484, 35.6153, 38.7762, 44.6641, 97.2293, 98.9735, 92.1119, 86.012, 85.9465, 84.1695, 83.8637, 83.4155, 83.4423, 81.7484, 85.6478, 81.2845, 81.0589, 81.0454, 80.5048, 80.4913, 83.469, 81.2176, 80.6624, 78.5277, 72.3973, 72.4151, 74.8117, 75.5426, 78.1225, 74.0848, 51.0909, -73.4618, -51.1742, -14.8057, 5.12249, 6.18626, 25.7805, 26.2237, 27.1688, 30.9757, 42.449, 42.4971, 42.3666, 41.9444, 42.0345, 42.0862, 42.3357, 42.8931, 43.9752, 44.5087, 45.243, 45.9936, 49.4576, 50.1992, 50.8813, 56.2932, 57.1984, 96.0628, 92.4623, 92.0381, 92.5768, 88.5015, 88.439, 88.619, 88.1805, 88.3406, 88.3855, 87.6695, 89.8201, 89.8074, 89.9987, 89.999, 89.6351, 90.2924, 88.9818, 89.0185, 89.476, 89.69, 89.4491, 89.4174, 88.8787, 89.6617, 88.1943, 88.0614, 87.6744, 87.9643, 88.206, 87.9243, 83.8321, 84.4186, 84.2561, 85.1916, 83.8204, 87.6675, 85.5618, 85.3455, 82.7405, 81.9713, 79.8568, 79.5615, 77.6889, 76.3938, 76.387, 75.1506, 72.4232, 67.4643, 65.3369, 65.1381, 65.5409, 64.6023, 64.5816, 58.5147, 58.4382, 58.4466, 58.4489, 58.4525, 58.3977, 58.4194, 58.442, 58.4685, 58.4843, 58.4449, 58.4131, 58.5131, 61.0234, 62.0056, 62.2804, 62.2694, 61.4668, -39.9329, -65.2064, -65.3578, -65.7899, 81.2004, 81.0078, -18.3884, -10.213, -3.26284, 5.22743, 12.1449, 13.1916, 19.8635, 21.6162, 27.2192, 32.4988, 33.1909, 94.4883, 94.3441, 93.2028, 93.4712, 94.1474, 85.8311, 86.0233, 86.1114, 84.5211, 85.3894, 85.3701, 85.1297, 87.2127, 86.3757, 86.3177, 86.1385, 86.023, 86.1324, 92.9543, 87.7321, 81.9542, 81.1505, 81.1278, 81.1116, 80.5927, 80.5938, 80.4432, 79.7745, -69.4975, -69.502, 76.5293, 81.5037, 79.9617, 79.971, 80.8916, 80.8944, 82.9096, 81.6419, 81.6639, 56.5272, 59.1871, 81.531, 81.2292, 80.3051, 80.3391, 80.4202, 81.1302, 81.1341, 56.986, 56.9497, -14.767, -9.66997, -9.35996, -3.22886, -2.82791, 2.25133, 2.6035, 2.91596, 9.02084, 9.34814, 13.7323, 14.0913, 14.6821, 18.1094, 18.494, 20.1777, 25.4824, 31.1587, 31.6224, 34.5531, 38.2582, 43.6809, 94.1172, 94.4741, 94.4682, 87.9934, 89.1358, 88.771, 88.7678, 88.7449, 85.0872, 85.0868, 85.0862, 88.0555, 87.6319, 87.7055, 87.775, 86.2482, 89.1533, 89.1648, 89.1897, 86.3756, 86.3361, 84.8467, 90.8623, 86.1733, 85.8012, 87.948, 87.1918, 87.2281, 100.692, 89.4849, 89.3953, 89.4232, 89.7082, 85.4174, 86.3303, 83.913, 83.9144, 90.7467, 90.3578, 90.9089, 90.8987, 90.8898, 90.923, 86.0315, 86.5753, 86.5712, 85.7084, 88.3986, 88.7095, 88.7094, 86.9901, 86.7736, 90.1321, 90.1216, 89.4474, 89.9518, 89.9198, 88.5513, 88.5177, 85.8603, 85.9974, 89.4779, 89.4619, 91.1967, 86.4782, 86.497, 87.0409, 84.6374, 82.8346, 82.7195, 80.1028, 79.9386, 77.6164, 75.411, 74.9544, 74.5868, 73.5132, 73.3759, 73.2231, 73.3929, 73.47, 73.7837, -39.3108, -55.4755, 6.64092, -63.698, -73.7182, -26.3475, -16.2628, 1.76075, 29.5149, 29.6086, 29.8888, 29.8555, 29.6498, 29.8279, 30.562, 32.6376, 40.982, 88.1129, 87.9121, 87.0249, 95.3154, 93.4307, 93.2939, 93.2803, 93.2756, 99.1287, 94.3383, 94.9334, 93.7133, 93.5878, 93.5118, 93.587, 93.5834, 93.581, 93.5303, 88.8813, 91.5467, 91.5444, 91.839, 90.6363, 90.6842, 88.1784, 87.8214, 87.7878, 90.7009, 90.5419, 90.5132, 89.8055, 85.6613, 85.4204, 85.3708, 85.3722, 85.3759, 85.4177, 85.4155, 85.4102, 85.4071, 85.4899, 81.1372, -73.0762, -71.5778, -47.3875, -47.3636, -46.4967, -46.5071, -42.8377, -42.808, -60.0096, -15.8653, -15.6522, -10.7029, -10.2652, -5.40251, -5.27508, -4.71685, 1.14274, 1.47983, 13.3476, 15.0219, 26.3139, 28.1704, 38.9963, 94.7893, 94.7317, 102.72, 101.738, 101.353, 101.351, 100.398, 100.389, 100.382, 89.4087, 89.3819, 89.3584, 87.5592, 85.4443, 85.4594, 85.4169, 85.3515, 88.3666, 88.1924, 88.188, 90.4255, 80.5771, 80.5682, 82.233, 80.1959, 77.9426, 76.2912, 75.9902, 71.1583, 68.8957, 67.0553, 65.3919, 64.7179, 64.7482, 63.9926, 51.4411, -69.8647, -68.7951, -49.0876, -49.0731, -49.0734, -30.5434, 75.5853, 74.9159, 77.3898, -57.5291, -78.2083, -3.27919, 2.79478, 9.20837, 11.3781, 11.4165, 13.2331, 17.2446, 23.3084, 26.4854, 27.6722, 33.2977, 36.1966, 96.9108, 90.6908, 90.7569, 86.1503, 80.3792, 85.4718, 86.1306, 85.461, 87.0136, 82.6386, 85.413, 85.6258, 85.6346, 82.3139, 83.1976])], [array([-56.1267, -73.8936, -64.9021, ..., -54.7269, -54.7157, -54.6852]), array([-59.7903, -63.857, -41.9284, ..., 85.561, 85.5648, 85.5751])], [array([-71.2634, -71.6505, -73.5336, -74.8908, -64.7537, -66.7198, -58.5392, -61.7353, -69.799, -65.2515, -63.266, -63.1653, -63.0807, -63.478, -62.6915, -62.1167, 82.9198, 67.383, 62.7906, 56.5972, 71.3373, 71.4934, 20.5724, 4.89147, 2.60389, 5.71397, -35.5756, -35.6993, -35.845, -40.2242, -42.4711, -44.5504, -44.6629, -44.7449, -44.8386, -46.2378, -48.3723, -51.9879, -54.4537, -54.9819, -57.9539, -58.0465, -58.4415, -69.0668, -49.2971, -53.1411, -49.6221, -52.9249, -54.8619, -55.0214, -55.264, -58.2377, -58.2503, -58.2546, -58.2591, -67.4173, -69.2845, -69.5941, -69.8523, -69.0094, -68.9507, -68.7038, -64.0127, -65.106, -65.1058, -61.6606, -61.8309, -61.8265, -62.5472, -62.0816, -62.1874, -62.1854, -62.9851, -62.2268, -76.4607, -77.3858, -77.6886, -77.7139, -65.5142, -65.523, -65.6913, -65.6895, -65.2603, -65.2556, -65.2441, -65.2215, -65.2075, -65.1947, -65.0061, -64.8182, -64.7795, -64.7017, -65.1366, -64.6905, -63.9828, -63.8605, -63.8939, -63.8831, -63.7404, -64.0365, -63.1983, -63.637, -63.7059, -63.805, -63.798, -64.1624, -64.1626, -64.4112, -64.4586, -64.4367, -63.6909, -63.6397, -63.5212, -63.5803, -63.4874, -63.4214, -63.5519, -63.469, -63.5456, -63.3631, -63.7377, -63.9474, -64.0064, -64.3621, -64.3317, -64.4079, -64.3731, -64.4163, -64.4796, -64.9875, -74.0605, -74.0804, -74.1112, -74.133, -74.1138, -74.0928, -74.2182, -63.704, -64.0704, -64.0947, -64.246, -65.4021, -65.3996, -65.3928, -65.2799, -65.2716, -65.2636, -65.2283, -64.9678, -64.5958, -64.448, -64.3934, -64.362, -64.382, -64.1258, -61.6511, -61.6559, -61.695, -61.8931, -62.2957, -63.3249, -63.335, -63.349, -63.356, -63.2828, -62.5517, -62.4939, -63.3215, -63.2381, -63.2601, -63.269, -63.7863, -63.8662, -59.9522, -59.3705, -58.8586, -55.5354, -55.5197, -56.8954, -54.7243, -54.7674, -61.8152, -66.9429, -66.798, -66.7916, -66.7869, -66.7841, -60.1276, -59.7662, -0.1005, 85.3496, -35.6264, -35.906, -41.2359, -41.6323, -44.1601, -47.3829, -47.7677, -48.0313, -59.5942, -54.1527, -54.2809, -54.4353, -56.9514, -57.0647, -57.1602, -57.4231, -60.1971, -60.2275, -63.078, -63.3266, -78.5474, -76.0116, -78.3191, -77.8109, -77.6648, -76.2891, -63.3442, -66.0442, -66.5356, -66.9688, -66.0386, -66.2489, -66.2441, -66.1946, -66.0804, -65.9246, -65.7092, -65.6517, -65.554, -65.4039, -65.3398, -65.3035, -65.23, -65.2239, -65.1715, -65.0118, -64.0051, -64.3097, -64.3003, -64.259, -64.2346, -64.1397, -64.3718, -64.4718, -64.9476, -64.957, -64.9749, -63.8963, -63.1263, -63.6569, -63.6991, -63.7486, -63.8028, -63.8781, -63.8032, -63.6804, -63.549, -63.4401, -63.6601, -63.5919, -63.5333, -63.5156, -63.3821, -63.0881, -64.744, -62.6515, -63.2696, -63.5211, -63.5297, -69.384, -71.7941, -66.1855, -64.5292, -64.538, -65.0284, -65.1844, 15.8944, 12.4742, 11.9161, 9.54548, 10.1098, 21.9745, 21.9732, 21.9043, 18.3322, 18.348, 13.759, 18.3052, 12.0841, 18.9873, 3.58525, -41.1328, -44.0905, -45.5823, -50.0827, -50.2831, -57.6877, -63.7699, -63.8323, -64.9124, -51.2432, -51.2497, -54.1975, -54.1932, -53.4868, -52.7864, -52.1694, -52.2552, -51.6619, -51.3081, -67.8338, -71.9474, -62.201, -61.9589, -61.9693, -62.7754, -64.237, -53.5611, -52.6287, -67.0762, -67.5191, -65.7116, -65.7496, -65.9506, -65.96, -65.9464, -65.9386, -65.93, -65.2935, -65.2794, -65.2784, -65.2763, -65.2742, -65.2764, -65.3195, -64.7634, -64.5865, -64.6044, -64.7595, -64.2183, -64.1023, -63.9167, -63.9059, -63.9617, -64.2726, -63.7269, -63.7322, -64.4378, -67.9596, -68.7844, -68.7643, -68.7393, -72.8444, -72.8873, -71.7045, -74.3877, -74.197, -74.1852, -74.7412, -74.7466, -74.7635, -74.7836, -74.8158, -75.003, -74.99, -73.5958, -67.6606, -65.1882, -64.084, -51.1092, -61.4864, -65.7346, -69.9776, -74.8812, -74.5663, -72.2754, -71.4366, -71.3103, -61.5969, -61.4803, -59.5096, -64.2067, -54.4979, -67.4845, -69.5018, -69.4619, -68.363, -70.0849, -71.5137, -71.1248, -71.1082, -71.0984, -71.0915, -78.9121, -62.7243, -62.727, -66.4406, -65.8934, -65.8895, -65.9069, -65.9267, -65.9584, -65.9655, -65.99, -66.0016, -66.0176, -66.0535, -65.9557, -65.8363, -65.2263, -65.1152, -65.1103, -65.2879, -65.3304, -65.3652, -65.3878, -65.0301, -64.9388, -64.8707, -64.6011, -64.2794, -64.0075, -63.5138, -63.57, -63.9039, -63.8217, -63.7079, -62.6623, -62.3034, -62.2896, -62.2824, -62.2805, -62.2723, -62.2533, -62.236, -62.218, -62.2105, -64.0578, -64.1636, -64.3438, -64.3298, -64.2871, -64.1207, -64.0434, -63.9366, -63.393, -63.3695, -63.3147, -63.3608, -63.3857, -63.444, 9.80808, 9.0039, 8.95403, 9.23042, 50.2241, 82.9447, -28.3237, -32.1752, -53.0213, -52.9041, -53.0633, -53.1892, -54.5299, -54.6196, -55.125, -55.3728, -61.0266, -67.5731, -67.4568, -76.4031, -75.5253, -62.0181, -61.7944, -61.1958, -61.2814, -61.3705, -64.7176, -64.7332, -64.7351, -64.7429, -64.8665, -64.8763, -66.8459, -66.3712, -66.3609, -66.3367, -66.3123, -67.4522, -67.6214, -66.5191, -66.5301, -66.5528, -66.525, -68.1036, -72.2792, -71.3321, -69.1266, -69.0328, -68.9804, -67.08, -68.6131, -66.879, -66.9012, -66.9219, -67.3352, -67.619, -67.7938, -74.6543, -74.6158, -76.544, -68.9261, -60.6056, -62.5118, -62.5357, -64.6804, -64.4541, -69.3366, -69.3352, -51.8101, -52.5896, -51.7842, -51.7845, -53.6319, -53.6527, -53.6324, -53.6186, -54.1601, -76.0835, -66.7661, -65.8457, -65.8535, -65.8768, -65.8808, -65.8857, -65.9122, -65.9619, -66.0102, -65.9987, -65.9968, -65.6775, -65.607, -65.1576, -65.0983, -64.6892, -64.438, -64.7934, -64.7928, -64.7902, -64.9594, -64.8733, -64.2029, -64.3451, -63.9417, -63.8483, -63.5787, -63.626, -63.6573, -63.745, -63.7508, -63.2491, -64.8863, -65.1384, -64.8037, -65.0409, -65.0991, -65.1019, -65.1066, -65.111, -65.248, -65.5528, -65.8565, -66.0913, -61.7934, -69.4001, -71.1249, -71.3029, -67.5525, -61.0214, -60.9179, -60.9983, -61.0421, -71.3619, -72.9334, -73.1825, -72.4419, -72.9118, -71.2966, -66.4345, -66.397, -74.1011, -67.8267, -67.6589, -67.5645, -67.4675, -63.4299, -63.384, -63.36, -55.2358, -55.2816, -60.6707, -60.639, 34.3386, 31.3224, 31.3574, 11.4796, 17.0631, 17.06, -31.9141, -37.5351, -77.3753, -66.1629, -66.4871, -56.9668, -56.965, -57.0769, -57.1026, -57.1103, -60.5271, -60.6054, -54.9631, -54.6598]), array([-42.5615, -41.5644, -40.5661, -38.9507, -38.967, 31.6845, -43.7192, 93.7101, 98.5157, -0.978359, -26.4041, -26.9251, -27.3629, -32.7493, -43.0822, -45.1735, -66.9344, -72.0305, -61.056, -68.3503, -64.9604, -64.984, 77.0467, 65.1283, 62.9756, 50.3358, -13.3379, -13.5198, -13.7401, -20.53, -25.0494, -27.3207, -27.5088, -27.6623, -27.848, -30.6497, -33.5001, -39.1459, -42.2664, -43.0351, -44.7261, -44.7461, -45.319, -69.7975, -71.0702, -67.0931, -61.4539, -57.4727, -54.6452, -54.5083, -54.312, -50.8164, -50.8476, -50.8641, -50.869, -44.0432, -42.9347, -42.8335, -41.1474, -40.928, -40.9378, -40.9604, -43.566, -17.5201, -17.1134, 96.0946, 88.3976, 88.3994, 89.5516, 89.4791, 89.5638, 89.5478, 87.7355, 87.9784, 83.0718, 84.7029, 84.317, 84.3282, 17.019, 16.8137, 13.4614, 12.9489, 3.84102, 3.60581, 3.14148, 2.791, 2.52796, 2.12151, -9.91393, -11.6798, -17.0835, -17.8198, -21.1355, -23.2996, -26.7589, -28.082, -29.1077, -31.3264, -33.0684, -35.4241, -40.097, -42.0215, -41.9845, -41.9175, -41.9439, -42.4059, -42.4383, -42.3628, -42.3353, -42.3367, -42.8599, -42.939, -42.9973, -43.236, -43.283, -43.3636, -43.3612, -43.395, -43.3256, -43.6138, -43.3708, -43.2971, -43.2802, -44.0374, -44.034, -44.17, -42.1755, -42.1239, -42.0609, -40.9242, -41.0026, -41.0249, -41.0617, -41.1135, -41.535, -41.5268, -41.2726, -44.4071, -44.3265, -44.3509, -43.2789, -44.6304, -44.6688, -44.7214, -44.642, -44.5955, -44.5575, -44.4665, -43.571, -43.1197, -42.9732, -42.873, -42.7383, -42.6413, -42.4135, -44.9939, -44.9319, -44.5032, -44.2961, -43.9976, -43.4451, -43.454, -43.4708, -43.5015, -43.6724, -43.2871, -43.2701, -44.1741, -44.1004, -44.0062, -44.094, -43.7457, -43.5855, -49.8644, -50.4925, -50.8934, -42.7631, -42.7635, -44.603, -42.9906, -42.9913, -42.4822, -43.9656, -43.3353, -43.3266, -43.32, -43.3158, -43.8147, -43.8262, 70.2365, -54.515, -11.6862, -12.074, -22.4123, -22.8559, -26.6929, -30.7555, -31.4419, -31.903, -45.4018, -41.8513, -41.911, -41.9712, -43.7688, -43.8783, -43.9613, -44.0965, -44.3856, 94.2846, 93.4946, 94.2146, 85.7804, 86.0207, 87.413, 86.0492, 84.7946, 84.1189, 92.9428, 68.4093, 63.9486, 26.3394, 21.4012, 18.1535, 18.1347, 13.6067, 12.9691, 12.222, 10.9121, 10.1686, 8.79403, 6.039, 5.02283, 4.34242, 0.189442, -0.0652089, -1.31618, -6.44842, -12.4971, -16.9464, -17.1833, -17.4629, -17.622, -18.1483, -20.179, -20.8548, -22.5826, -22.5601, -22.5385, -28.1516, -30.885, -33.1543, -33.3213, -33.5398, -33.7252, -34.1988, -34.2452, -34.3343, -34.4305, -34.4564, -33.8475, -33.7429, -33.7462, -33.6585, -33.2197, -33.6482, -35.9734, -35.1372, -32.6538, -32.3795, -32.3596, -47.3092, -69.4953, -47.2505, -49.1644, -49.1476, -48.3475, -40.242, 82.05, 55.5819, 56.0519, 58.0775, 59.1621, 82.4642, 82.4632, 82.2471, 80.9168, 80.9925, 80.7435, 81.4233, 81.109, 81.1051, 58.2031, -20.128, -27.7836, -30.6991, -36.055, -36.3264, -38.9903, -42.1823, -42.192, -38.4671, 89.1302, 89.099, 87.1644, 87.1513, 86.2837, 89.2588, 95.052, 93.0426, 93.7693, 92.5876, 84.3797, 94.6231, 90.6175, 89.7301, 89.7369, 86.7608, 86.6602, 88.303, 88.5437, 73.5933, 70.4763, 17.8626, 16.9675, 12.8681, 12.6125, 8.31706, 7.65871, 7.24534, 1.98488, -2.05807, -2.7443, -2.99287, -3.30097, -3.7114, -6.08282, -12.2612, -15.9271, -16.3413, -20.6098, -25.0779, -25.7451, -26.81, -28.2679, -28.8607, -33.285, -38.0108, -38.1475, -39.5684, -40.1807, -40.7513, -40.7416, -40.7294, -38.9863, -38.9087, -38.3743, -34.8471, -33.2705, -33.2477, -33.3658, -33.3839, -33.4222, -33.4343, -33.4426, -33.5546, -34.8166, -37.1876, -37.7393, -38.7387, -39.8767, -50.6516, -54.439, -72.0792, -66.5683, -50.1697, -50.0068, -49.2821, -49.1943, -49.1939, -45.896, -45.836, -45.3994, -28.552, 88.309, 94.2792, 93.3482, 93.3488, 93.4066, 95.6719, 93.9288, 93.6243, 93.6195, 93.6188, 93.6191, 88.9197, 90.9177, 90.861, 40.6436, 18.6443, 18.3047, 17.7722, 17.1503, 15.8229, 15.3885, 13.8783, 12.7734, 12.1897, 11.2879, 7.19786, 5.37027, 0.530839, -1.65781, -2.22331, -5.9504, -6.32116, -6.81996, -7.26533, -13.495, -14.1383, -14.9184, -20.0845, -22.7649, -24.7301, -32.6738, -33.5526, -36.2857, -36.6637, -36.9894, -37.5005, -38.2414, -38.1189, -38.168, -38.2944, -38.3023, -38.3223, -38.3361, -38.3471, -38.5361, -36.6342, -36.4561, -36.1327, -36.1227, -36.1298, -36.2141, -36.2544, -36.3092, -36.4643, -36.4575, -36.4283, -36.4753, -36.4966, -36.498, 82.5867, 82.9624, 82.9477, 82.8978, -14.2303, -65.071, 0.16691, -6.30284, -41.6548, -41.5593, -44.1625, -44.3312, -45.2431, -45.2878, -45.7992, -45.9632, -52.7541, -58.4098, -58.3824, -66.5697, -59.8639, -47.6054, -47.4867, -47.2763, -47.3162, -47.3682, -45.7181, -49.0836, -49.0875, -49.1032, -47.1792, -47.2405, -45.9605, -46.895, -46.9108, -46.9475, -46.9848, -46.4614, -46.7333, -46.619, -46.6041, -46.5708, -46.4973, -46.3221, -45.7885, -45.0019, -43.0851, -42.9926, -42.9402, -42.1029, -42.918, -41.7704, -41.7765, -41.7822, -42.2392, -41.6145, -41.7805, -68.0954, -68.108, -65.3248, -53.6569, -52.0021, -48.4173, -48.3895, -46.3554, -45.504, 99.4993, 99.4914, 88.4855, 88.6274, 90.0295, 90.0461, 88.2218, 88.2012, 88.3989, 88.4352, 88.1867, 82.233, 31.5741, 17.3079, 17.1239, 12.0525, 11.666, 11.3261, 10.867, 10.3978, 7.45672, 6.711, 6.28409, 3.19541, 2.8048, -1.12965, -6.63506, -12.5706, -14.0451, -18.9737, -19.724, -20.306, -22.7288, -24.6388, -27.5141, -32.3295, -37.2747, -37.6736, -39.73, -40.0162, -40.2256, -40.6687, -40.7837, -41.9654, -40.6933, -42.0134, -42.3423, -43.0481, -43.3731, -43.4, -43.4472, -43.4907, -43.6533, -43.8454, -44.0369, -44.1849, -52.4481, -70.3741, -66.127, -66.15, -49.8144, -50.197, -49.9242, -49.9467, -49.9567, -68.1462, -66.6293, -44.3498, -44.2007, -49.081, -44.0156, -47.7714, -47.8877, -51.2467, -46.7, -46.6673, -46.6516, -46.618, -43.0232, -42.838, -42.7413, -54.9839, -54.9458, -49.3961, -49.0218, 64.0911, 68.4198, 68.3711, 77.4378, 80.7271, 80.7248, -7.00975, -15.1788, -54.8965, -45.0206, 80.4006, 85.4556, 85.4536, 87.3225, 87.2978, 87.2908, 82.725, 82.7003, 85.4809, 85.5837])], [array([-50.9464, -50.9464, -50.9464, ..., -74.0449, -74.3388, -74.5089]), array([-50.6463, -50.6463, -50.6463, ..., 82.1203, 82.1439, 82.1445])], [array([-47.2625, -47.2623, -64.2759, ..., -54.7103, -54.6696, -54.6455]), array([-42.3162, -42.2605, -36.737, ..., 85.5666, 85.5804, 85.5885])], [array([-70.3647, -64.9555, -60.9601, ..., -54.7063, -54.6989, -54.6889]), array([-61.55, -60.3935, -59.7154, ..., 85.5679, 85.5705, 85.5738])], [array([-65.2605, -66.2032, -74.8613, -74.8255, -71.2401, 84.2256, 83.5554, 67.5842, 67.7557, 67.5769, 71.0677, 32.4541, 32.0314, 22.8014, -61.7596, -61.7605, -62.995, -60.4566, -64.3665, 82.6626, 82.6644, -81.0119, -64.4424, 12.8512, 10.0693, 17.4968, 13.8586, 13.7827, 18.2574, -51.4402, -66.8313, -62.7074, -62.7081, -62.7093, -65.8462, -53.5112, -53.2983, -53.3003, -51.974, -54.7933, -55.4025, -55.4111, -68.0214, -63.7287, 16.7848, 13.2243, 6.29458, -33.6065, -33.7758, -73.5082, -66.6327, -51.764, -51.8213, -51.822, -51.8316, -52.5303, -52.5249, -53.5441, -54.1029, -76.0895, -76.0843, -67.7883, 28.2148, 28.0946, 28.2795, 30.2637, 30.2245, 30.1865, 11.9756, 17.0719, 17.0548, 19.3457, 76.7294, 74.4347, 72.8183, 73.1101, 74.1716, 38.4261, 36.1106, 36.0271, 33.5277, -68.7372, -68.9133, -68.9821, -71.6921, -71.7264, -72.2799, -72.2732, -69.638, -69.6269, -70.8736, -60.5648, -60.576, -60.5902, -60.5993, -62.5035, -62.5229, -65.6007, -65.6494, -53.0485, -53.3563, -52.1564, -52.1538, -51.6999, -57.987, -56.9102, -56.9023, -57.3108, -57.3166, -57.3173, -57.5385, -57.5385, -58.105, -58.1044, -58.1008, -59.4845, -55.7003, -56.5547, -56.5591, -55.155, -55.132, -55.1096, -55.0686, -54.9462, -54.3871, -54.38, -54.1137, -54.1071, -54.0933, -54.0888, -54.1426]), array([-34.9334, 47.5648, -59.4579, -59.5557, -65.1765, -66.3088, -66.4456, -81.314, -81.2236, -66.3427, -77.7175, 20.2831, 21.2111, 67.5259, 89.119, 89.1299, 87.7267, 94.4305, -44.9758, -65.9322, -65.9392, 82.0767, -48.823, 80.1934, 56.0189, 82.2749, 81.024, 80.7361, 80.7048, 89.9528, 83.8982, 90.7908, 90.7917, 90.7931, 85.9095, 88.4091, 88.3782, 88.3777, 86.7708, 87.9105, 87.7331, 87.7305, 95.311, 91.5278, 81.1238, 55.1734, 80.5992, -8.39292, -8.61831, -71.6303, 102.722, 88.8254, 88.7149, 88.7143, 88.7048, 88.7029, 88.7172, 88.4995, 88.1738, 82.2329, 82.233, 45.3756, 51.9693, 49.6551, 50.3195, 61.2968, 61.3435, 61.3887, 82.7613, 80.7072, 80.7199, 51.3095, -71.244, -77.728, -78.4494, -78.7012, -78.3355, 11.4666, 16.8974, 17.0592, 22.3152, -60.8837, -60.9384, -60.9685, -65.3585, -65.415, -66.2193, -66.2952, -68.9211, -68.9182, -62.5168, 94.7107, 94.6997, 94.6623, 91.6963, 91.0357, 91.0707, 86.0635, 86.0787, 86.6282, 86.6925, 86.5068, 86.5087, 86.9042, 86.6243, 85.3908, 85.3817, 85.8588, 85.8388, 85.8363, 85.3625, 85.3621, 84.6549, 84.6565, 84.6674, 83.4477, 87.5095, 84.5068, 84.5008, 85.4159, 85.4237, 85.4312, 85.4451, 85.4866, 85.6906, 85.6938, 85.8458, 85.861, 85.8942, 86.3311, 86.2672])], [array([-55.6422, -64.6283, -74.0465, ..., -75.9495, -75.95, -75.9494]), array([-59.6479, -63.2811, -62.7024, ..., 83.104, 83.0881, 83.0675])], [array([-50.9464, -50.9464, -55.8861, ..., -75.9518, -75.9498, -75.9483]), array([-50.6463, -50.6463, -59.7056, ..., 83.205, 83.1812, 83.1453])], [array([-44.7403, -60.4917, -64.6558, ..., -56.4232, -56.436, -58.2042]), array([-44.9209, -42.6093, -43.2401, ..., 84.6877, 84.6702, 83.8601])], [array([-66.9553, -60.2402, -58.6446, -59.3508, -52.8055, -60.4321, -60.4415, -60.4524, -60.456, -60.433, -60.4258, -60.3, -65.8544, -63.5857, -70.0059, -76.7737, -56.8363, -2.43942, 84.7365, 84.2474, 78.807, 78.5781, 63.1648, 63.1602, 20.5782, 20.919, 22.2928, 23.9526, 24.2179, 24.4024, 24.4524, 24.5387, 25.3229, 25.4927, 25.6139, 27.6249, 27.8559, 27.3558, 27.8896, 2.27268, -1.31452, 6.29317, 6.4155, 18.9565, 19.2339, 20.3834, 22.2306, 22.266, 22.5419, 26.1111, 26.1516, 26.2095, 17.0419, 18.3279, -45.1958, -64.3534, -65.3692, -65.1919, -60.3244, -78.8202, -73.9671, -74.0722, -60.0838, -60.0669, -61.6101, -61.5893, -61.5513, -59.8087, -59.7862, -59.7896, -62.735, -62.1955, -62.1934, -62.1914, -76.8911, -77.1179, -77.3765, -76.4391, -75.6842, -75.6824, -75.679, -65.2861, -63.1659, -66.2437, -63.4313, -55.7276, 15.0245, 0.883528, -5.92198, 45.136, 17.6188, 15.2082, 18.3359, 15.0632, -66.0195, -77.672, -77.6826, -77.7146, -77.9875, -77.9881, -78.5546, -78.3173, -77.8257, -76.3203, -63.3335, -65.8856, -64.7383, -63.5505, -63.4785, -63.8132, -71.7585, -71.7272, -71.5304, -64.9656, -64.9255, -64.5356, -61.1592, -59.424, -59.1637, -42.011, 20.755, 20.7549, 7.47793, 14.5849, 17.5292, 7.56725, 9.99556, 22.5411, 22.3896, 13.8428, 13.7101, 12.0774, 8.58112, 9.11311, -3.16488, 5.67989, -35.6582, -71.0717, -52.0943, -52.5341, -52.5165, -52.4615, -51.9799, -51.979, -51.6274, -56.4079, -53.4703, -53.677, -50.7945, -50.8297, -50.8305, -50.8329, -50.8689, -51.8225, -56.2687, -59.1104, -59.1744, -59.9247, -66.9469, -64.5724, -66.1943, -64.9949, -60.7583, -53.1315, -53.5571, -55.1264, -52.6592, -67.967, -74.7378, -37.8877, 21.337, 43.3961, 65.6872, 21.1185, 21.6504, -60.779, -54.089, -55.0407, -54.5774, -54.5806, -54.5857, -54.7004, -68.0217, -68.4859, -71.3943, -71.1637, -71.1593, -71.1536, -71.1285, -71.1187, -71.0909, -71.0899, -71.0891, -78.9136, -61.7223, -61.8288, 17.1575, 16.2319, 9.767, 8.44646, 12.76, 6.17017, 9.80078, 9.05947, 8.97017, 36.3554, 62.8332, 55.8699, 4.57729, -67.3528, -65.7708, -75.7268, -57.5694, -64.247, -66.2364, -69.3223, -52.383, -52.3851, -52.3859, -52.3865, -52.3893, -52.39, -55.92, -53.1821, -53.1838, -53.2213, -53.2237, -53.2311, -54.1, -54.1009, -54.1012, -54.1013, -54.1017, -54.1017, -60.3163, -76.0872, -76.0869, -67.3941, -67.7872, -65.1311, -69.3141, -62.9779, -60.5323, 5.55981, 14.4319, 16.7758, 18.6543, 22.893, 25.2966, 28.2269, 30.3445, 31.5362, 32.9371, 32.9106, 28.2672, 26.6309, 30.269, 30.2278, 30.1806, 30.2539, 30.0179, 29.942, 29.9451, 29.9111, 29.6623, 29.6282, 29.5907, 29.5264, 30.0555, 31.2603, 33.0748, 34.5143, 31.1587, 31.3541, 31.415, 31.5878, 31.4535, 31.4179, 32.0214, 32.0486, 32.1315, 32.8016, 32.865, 32.8759, 32.3964, 32.3465, -1.99934, -4.03119, 26.9229, 28.3393, 29.2318, 30.6465, 30.8548, 31.5082, 31.451, 31.6231, 31.4718, 31.4703, 11.4837, 15.7871, 15.7143, 18.4869, 18.5094, 18.5371, 18.5654, 17.9121, 17.4011, 57.3292, -2.68321, -67.0986, -66.6307, -60.121, -57.2959, -57.5446, -57.5446, -60.3778]), array([-46.7597, 94.3408, 86.7356, 87.4531, 86.6064, 94.6007, 94.5992, 94.5975, 94.6143, 94.6501, 94.6609, -54.6977, -25.2021, -32.5806, 97.8917, 92.5008, 87.5029, 39.0915, -67.4139, -66.9769, -68.2587, -68.5168, -64.6669, -64.6738, 77.0466, 76.7924, 75.3211, 72.2896, 72.3015, 72.3806, 72.4165, 72.4786, 72.5554, 72.6443, 72.7355, 73.0338, 71.6031, 72.9759, 78.3913, 62.6972, 60.27, 50.2754, 50.0015, 55.458, 55.544, 56.673, 58.9556, 58.9354, 58.7779, 53.4117, 53.4663, 53.5093, 75.5779, 57.8451, -28.5681, -45.7314, -43.2096, 42.3281, 94.6228, 87.4577, 92.1717, 92.2147, 88.3675, 88.371, 88.4439, 88.445, 88.4478, 88.1501, 88.1956, 88.2732, 89.8167, 89.0826, 89.1193, 89.1547, 83.8306, 84.2305, 84.6865, 84.3892, 83.8365, 83.8352, 83.8327, 5.09256, -40.894, -46.5982, -44.1409, -42.662, 62.5742, 75.5311, 68.1327, -2.79684, 82.8076, 78.1419, 62.0962, 63.4328, -3.17313, 86.1105, 86.1111, 86.1128, 86.1276, 86.1276, 87.6801, 87.4077, 86.0646, 84.3148, 92.9405, 53.18, -7.89486, -28.1572, -28.1106, -31.4551, -69.4881, -69.4847, -69.498, -42.8834, -42.8718, -39.4592, -40.6155, -41.444, -41.9146, -21.9522, 80.1344, 80.1347, 76.6118, 81.2033, 65.2402, 56.5553, 59.2549, 80.8166, 82.8505, 81.1928, 80.2606, 81.1117, 57.0293, 57.0401, 57.7973, 51.3655, -13.6504, 94.3676, 85.0562, 88.6568, 88.6662, 88.6957, 89.0413, 89.0418, 89.7516, 87.674, 86.2628, 86.9818, 91.1544, 91.014, 91.0107, 91.0011, 90.8577, 89.4595, 87.3972, 85.5901, 85.5502, 87.0764, 84.0558, 91.7366, 85.504, 86.1396, 92.5222, 88.426, 88.3042, 87.6257, 88.4953, 67.3122, -33.3583, -15.0799, 48.5721, 7.15033, -50.4543, 47.836, 47.8737, -44.6073, 87.6655, 88.4679, 87.9733, 87.9724, 87.9709, 87.6744, 95.3103, 93.4536, 99.1094, 93.5484, 93.5441, 93.5386, 93.5189, 93.5141, 93.5613, 93.5652, 93.569, 88.9223, -39.2724, -41.5918, 81.3813, 83.7777, 55.4933, 62.368, 53.8892, 54.9439, 82.589, 82.9779, 82.9495, 15.113, -40.3544, -27.5378, 51.3003, -46.4468, -41.0099, -67.6991, -51.4565, -42.1789, 101.62, 99.4142, 88.8848, 88.8825, 88.8816, 88.8809, 88.8776, 88.8768, 87.631, 88.666, 88.6643, 88.6272, 88.6248, 88.6176, 88.1722, 88.1698, 88.1688, 88.1697, 88.1728, 88.1723, 94.3598, 82.2329, 82.2329, 45.6041, 45.3851, -2.03506, -70.321, -45.897, -49.4261, 51.126, 57.1438, 57.4819, 58.2311, 58.8625, 59.5921, 60.6681, 57.3479, 54.3709, 54.2218, 54.2213, 52.5006, 70.45, 68.179, 63.8827, 63.7239, 63.4498, 63.4521, 63.3272, 62.8391, 62.6654, 62.3333, 62.2877, 62.2377, 62.1519, 62.1366, 63.0667, 64.0826, 64.0095, 66.0051, 65.979, 65.9654, 65.9534, 65.9781, 65.9701, 66.2436, 66.241, 66.2336, 66.4729, 66.517, 66.6536, 66.9136, 66.8882, 73.585, 76.1673, 75.1717, 73.5024, 72.1169, 70.9932, 70.8933, 70.58, 70.1252, 70.0584, 69.0583, 69.0594, 77.5839, 81.7049, 81.6281, 80.6401, 80.6304, 80.6185, 80.6064, 80.6458, 80.6488, -28.5758, 41.4165, -45.5363, -45.6228, 93.9313, 85.9097, 85.5418, 85.5444, 82.6659])], [array([-66.3668, -64.3809, -60.3569, ..., -53.1873, -56.5858, -56.8741]), array([-60.6534, -37.6079, 95.3779, ..., 86.3462, 84.464, 84.0672])], [array([-64.573, -67.47, -67.4707, ..., -54.4234, -54.4224, -54.4217]), array([-42.6914, -44.6148, -44.6276, ..., 86.4429, 86.4664, 86.481])], [array([-47.6892, -64.0644, -67.47, ..., -75.9518, -75.9501, -75.9482]), array([-44.3327, -40.3465, -44.6148, ..., 83.2055, 83.1849, 83.1479])], [array([-67.9292, -61.0932, -62.285, ..., -54.6967, -60.6922, -66.4067]), array([-51.3107, -41.8606, 91.7645, ..., 85.5712, 83.0406, 83.2669])], [array([-65.7428, -65.7967, -66.6666, -67.0491, -66.7916, -64.9398, -65.1111, -65.2484, -65.4402, -65.9216, -65.8455, -57.6553, 20.4382, 22.4681, 26.7096, 63.2996, 63.2973, 57.418, 56.6566, 56.5815, 63.6737, 63.7137, 70.9335, 70.7508, -65.0959, -65.0476, -65.018, -60.2855, -76.4661, -54.1109, 20.769, 23.9508, -64.9126, -64.9979, -77.3197, 5.34514, 9.64938, 15.8007, 18.1877, 8.9995, -2.28748, -64.8834, -64.7543, -51.6634, -51.691, -53.5052, -50.8297, -50.8299, -64.7421, -71.9349, -62.4065, -62.2286, -66.1706, -52.628, -66.7526, 43.482, 43.4729, 70.1497, -67.5261, -67.5134, -64.4647, -66.2792, -65.7569, -64.9223, -65.9756, -62.7267, -67.4771, -69.1645, -66.7819, 16.7859, 10.5386, 13.5954, 13.6017, 14.7969, 21.8351, 25.2692, 25.9612, 45.2665, 72.519, 70.2384, 69.8683, 67.4223, 65.0729, 60.8394, -65.5701, -57.5055, -58.7964, -64.5443, -64.7232, -64.6681, -64.7884, -66.6443, -66.6163, -66.5987, -66.4082, -69.327, -54.1229, -76.0873, -67.384, -67.0863, -68.6478, -68.639, -73.1683, 29.9423, 29.9538, 29.9436, 29.7148, 29.7022, 29.6887, 29.5303, 30.7092, 30.7905, 31.8865, 33.4501, 33.8522, 34.5269, 34.5272, 34.8794, 34.8914, 31.1291, 31.2362, 31.0545, 31.4098, 31.4013, 31.0316, 30.9907, 31.0033, 31.0192, 30.3749, 30.4453, 30.6427, 31.4448, 31.5429, 31.5614, 31.5816, 31.3253, 31.3504, 31.508, 32.5176, 32.8415, 32.8741, 32.6795, 32.6346, 31.9703, 13.8118, 19.1838, 28.7342, 28.0095, 27.0763, 26.9231, 26.9246, 27.3094, 27.1934, 27.7268, 27.772, 28.3684, 28.7488, 29.7395, 30.8309, 30.9376, 31.5416, 31.1278, 31.6323, 31.5885, 31.0674, 31.0369, 31.0303, 31.0382, 31.0347, 11.5602, 11.5572, 12.0477, 15.543, 17.0456, -64.5157, -66.2179, -57.5793, -58.1096, -57.0968, -58.0858, -57.626]), array([8.84696, 9.32776, 24.5992, 56.5139, 52.281, -21.9531, -7.44704, -4.44627, -2.24557, 2.61837, 9.20155, -44.0544, 50.8685, 46.2283, 36.4359, -64.9778, -65.7164, -69.1282, -68.5977, -68.4094, -64.9155, -64.9537, -77.6529, -56.423, -24.5087, -15.9508, -15.621, 94.5522, 84.409, -47.4886, 49.2788, 40.5972, -20.4697, -19.7367, 86.0915, 75.2595, 58.0907, 81.1074, 80.7934, 56.919, 56.7302, -17.6986, -16.944, 87.058, 87.0856, 86.315, 91.0139, 91.0132, 91.9341, 94.6078, 89.8146, 90.301, 85.5091, 88.5451, 54.8567, 6.69332, 6.71058, -65.871, -71.9177, -71.8911, -28.6779, -19.0465, -17.2786, -15.2997, -6.34217, 88.2426, 94.2698, 93.3111, 81.2327, 81.1253, 82.5163, 81.0952, 81.1163, 81.2866, 47.191, 40.1923, 37.0793, -2.37952, -69.8173, -71.9819, -71.8373, -72.321, -73.6404, -73.0805, -49.3012, -51.7307, -51.5171, -32.4585, -25.8649, -25.6575, -21.7493, 102.715, 102.729, 102.713, 101.346, 99.4421, 88.217, 82.2329, 61.3189, -70.4362, -70.078, -70.0793, -68.0596, 62.8556, 62.7867, 62.7261, 62.4034, 62.3865, 62.3685, 62.0682, 62.3958, 62.4436, 63.5763, 64.1676, 64.2492, 63.824, 63.9083, 64.0242, 63.9549, 66.8129, 66.824, 66.6566, 66.718, 66.7113, 66.756, 66.7252, 66.67, 66.56, 66.4457, 66.3493, 66.221, 65.9723, 65.9643, 65.9666, 65.9561, 66.11, 66.1508, 66.1392, 66.3185, 66.4965, 66.7019, 66.9734, 66.9771, 66.6496, 65.8993, 56.3449, 75.3928, 75.1152, 75.5079, 75.1713, 75.1662, 75.5864, 74.9367, 74.1817, 74.1862, 73.4521, 72.6545, 71.509, 70.9047, 70.8536, 70.6695, 70.145, 70.0531, 69.388, 68.0923, 68.0313, 68.0271, 68.0135, 68.0087, 77.4033, 77.3991, 81.8246, 81.6452, 80.705, -35.2236, -13.2939, 85.4667, 85.6583, 85.5565, 84.7121, 84.0421])]], ndim=2, xbin=array([-82.9936, -80.2536, -77.5136, -74.7736, -72.0336, -69.2936, -66.5536, -63.8137, -61.0737, -58.3337, -55.5937, -52.8537, -50.1137, -47.3737, -44.6337, -41.8937, -39.1537, -36.4137, -33.6737, -30.9338, -28.1938, -25.4538, -22.7138, -19.9738, -17.2338, -14.4938, -11.7538, -9.01382, -6.27383, -3.53384, -0.793843, 1.94615, 4.68614, 7.42613, 10.1661, 12.9061, 15.6461, 18.3861, 21.1261, 23.8661, 26.6061, 29.3461, 32.0861, 34.826, 37.566, 40.306, 43.046, 45.786, 48.526, 51.266, 54.006, 56.746, 59.486, 62.226, 64.966, 67.7059, 70.4459, 73.1859, 75.9259, 78.6659, 81.4059, 84.1459, 86.8859, 89.6259]), ybin=array([-82.2546, -79.2872, -76.3197, -73.3523, -70.3848, -67.4173, -64.4499, -61.4824, -58.515, -55.5475, -52.5801, -49.6126, -46.6451, -43.6777, -40.7102, -37.7428, -34.7753, -31.8079, -28.8404, -25.873, -22.9055, -19.938, -16.9706, -14.0031, -11.0357, -8.06822, -5.10076, -2.13331, 0.834148, 3.8016, 6.76906, 9.73652, 12.704, 15.6714, 18.6389, 21.6063, 24.5738, 27.5413, 30.5087, 33.4762, 36.4436, 39.4111, 42.3785, 45.346, 48.3134, 51.2809, 54.2484, 57.2158, 60.1833, 63.1507, 66.1182, 69.0856, 72.0531, 75.0205, 77.988, 80.9555, 83.9229, 86.8904, 89.8578, 92.8253, 95.7927, 98.7602, 101.728, 104.695]), zbin=None, bin_info={'mode': 'bin_size', 'xstep': 2.7399917105077347, 'xnum_bins': 64, 'ystep': 2.9674559900021107, 'ynum_bins': 64}), neuron_IDXs=array([ 0,  1,  2,  3,  4,  5,  6,  7,  8,  9, 10, 11, 12, 13, 14, 15, 16, 17, 18, 19, 20, 21, 22, 23, 24, 25, 26, 27, 28, 29, 30, 31, 32, 33, 34]), neuron_IDs=array([  1,   3,  11,  13,  14,  28,  34,  37,  38,  39,  41,  42,  43,  44,  47,  48,  53,  54,  55,  56,  57,  58,  61,  64,  65,  68,  70,  75,  77,  80,  87,  91,  93,  95, 107]), setup_on_init=True, post_load_on_init=False, debug_print=False, time_bin_size=0.5, spikes_df=         flat_spike_idx     t_seconds  aclu  unit_id  shank_id  flattened_spike_linear_unit_spike_idx           neuron_type          x          y     lin_pos     speed  fragile_linear_neuron_IDX  neuron_IDX             t  PBE_id     scISI  shank  qclu  cluster binned_time\n",
       " 4831100         4831100  11070.156333    61       61         4                                  16820  NeuronType.PYRAMIDAL -50.946354 -50.646282  134.480939  0.000000                         61          61  11070.156333      -1  0.190567      1   111      111           1\n",
       " 4831118         4831118  11070.205967     1        1         6                                  22363  NeuronType.PYRAMIDAL -50.946354 -50.646282  134.480939  0.000000                          1           1  11070.205967      -1  1.394300      1   111      111           1\n",
       " 4831237         4831237  11070.371667    61       61         4                                  16821  NeuronType.PYRAMIDAL -50.946354 -50.646282  134.480939  0.000000                         61          61  11070.371667      -1  0.215333      1   111      111           1\n",
       " 4831318         4831318  11070.501267    61       61         4                                  16822  NeuronType.PYRAMIDAL -50.946354 -50.646282  134.480939  0.000000                         61          61  11070.501267      -1  0.129600      1   111      111           1\n",
       " 4831337         4831337  11070.529133    61       61         4                                  16823  NeuronType.PYRAMIDAL -50.946354 -50.646282  134.480939  0.000000                         61          61  11070.529133      -1  0.027867      1   111      111           1\n",
       " 4831342         4831342  11070.545100    61       61         4                                  16824  NeuronType.PYRAMIDAL -50.946354 -50.646282  134.480939  0.000000                         61          61  11070.545100      -1  0.015967      1   111      111           1\n",
       " ...                 ...           ...   ...      ...       ...                                    ...                   ...        ...        ...         ...       ...                        ...         ...           ...     ...       ...    ...   ...      ...         ...\n",
       " 6067665         6067665  13961.506933    47       47         4                                  31058  NeuronType.PYRAMIDAL -75.948073  83.151857  -77.783285  4.366008                         47          47  13961.506933      -1  7.475233      1   111      111        5783\n",
       " 6067667         6067667  13961.507767    93       93         3                                  19059  NeuronType.PYRAMIDAL -75.948191  83.147933  -77.783029  4.384861                         93          93  13961.507767      -1  0.008367      1   111      111        5783\n",
       " 6067668         6067668  13961.508333    75       75        13                                   4428  NeuronType.PYRAMIDAL -75.948272  83.145265  -77.782855  4.397682                         75          75  13961.508333      -1  0.008067      1   111      111        5783\n",
       " 6067677         6067677  13961.517100    70       70         6                                  37924  NeuronType.PYRAMIDAL -75.949517  83.103987  -77.780165  4.596023                         70          70  13961.517100      -1  0.125000      1   111      111        5783\n",
       " 6067680         6067680  13961.520467    70       70         6                                  37925  NeuronType.PYRAMIDAL -75.949996  83.088135  -77.779132  4.672192                         70          70  13961.520467      -1  0.003367      1   111      111        5783\n",
       " 6067686         6067686  13961.526367    70       70         6                                  37926  NeuronType.PYRAMIDAL -75.949369  83.067544  -77.776988  4.280541                         70          70  13961.526367      -1  0.005900      1   111      111        5783\n",
       " \n",
       " [102139 rows x 20 columns], time_binning_container=BinningContainer(\n",
       "     edges=shape=(5784,) - [11070.2, 11070.7, ..., 13961.7],\n",
       "     centers=shape=(5783,) - [11070.4, 11070.9, ..., 13961.4],\n",
       "     edge_info=BinningInfo(variable_extents=(11070.156333333332, 13961.526366666667), step=0.5, num_bins=5784, bin_indicies=shape=(5784,)),\n",
       "     center_info=BinningInfo(variable_extents=(11070.156333333332, 13961.526366666667), step=0.5, num_bins=5783, bin_indicies=shape=(5783,))\n",
       " ), unit_specific_time_binned_spike_counts=array([[1, 0, 0, ..., 0, 0, 0],\n",
       "        [0, 0, 0, ..., 0, 0, 0],\n",
       "        [0, 0, 0, ..., 0, 0, 0],\n",
       "        ...,\n",
       "        [0, 0, 0, ..., 0, 0, 0],\n",
       "        [0, 0, 0, ..., 0, 0, 0],\n",
       "        [0, 0, 0, ..., 0, 0, 0]], dtype=int64), total_spike_counts_per_window=array([ 1,  2,  5, ...,  5,  9, 10], dtype=int64), flat_p_x_given_n=array([[2.97353e-06, 1.33744e-09, 1.28264e-05, ..., 1.91922e-09, 2.49826e-16, 2.43435e-59],\n",
       "        [2.33476e-05, 1.57335e-07, 8.53276e-05, ..., 1.62421e-07, 2.62689e-13, 9.88185e-52],\n",
       "        [4.00627e-05, 4.32057e-06, 0.000126565, ..., 3.7392e-06, 8.66498e-11, 6.66358e-44],\n",
       "        ...,\n",
       "        [0, 0, 0, ..., 0, 0, 0],\n",
       "        [0, 0, 0, ..., 0, 0, 0],\n",
       "        [0, 0, 0, ..., 0, 0, 0]]), p_x_given_n=array([[[2.97353e-06, 1.33744e-09, 1.28264e-05, ..., 1.91922e-09, 2.49826e-16, 2.43435e-59],\n",
       "         [2.33476e-05, 1.57335e-07, 8.53276e-05, ..., 1.62421e-07, 2.62689e-13, 9.88185e-52],\n",
       "         [4.00627e-05, 4.32057e-06, 0.000126565, ..., 3.7392e-06, 8.66498e-11, 6.66358e-44],\n",
       "         ...,\n",
       "         [2.41278e-05, 3.7552e-07, 0.0973956, ..., 2.88677e-05, 3.41257e-07, 5.45674e-29],\n",
       "         [2.63876e-06, 1.22123e-08, 0.0396438, ..., 1.55824e-06, 8.67937e-09, 8.28398e-31],\n",
       "         [3.12337e-07, 6.3523e-10, 0.0136407, ..., 1.33163e-07, 4.16341e-10, 3.45807e-32]],\n",
       " \n",
       "        [[5.39864e-06, 2.63855e-09, 1.54501e-05, ..., 4.3001e-09, 2.12726e-15, 2.64708e-56],\n",
       "         [3.07241e-05, 1.96596e-07, 8.16383e-05, ..., 2.77268e-07, 1.55362e-12, 5.34895e-49],\n",
       "         [3.96614e-05, 3.65073e-06, 9.71011e-05, ..., 4.79172e-06, 3.50196e-10, 1.26671e-41],\n",
       "         ...,\n",
       "         [3.45014e-05, 1.52621e-06, 0.0573778, ..., 6.5418e-05, 3.83957e-06, 1.02883e-25],\n",
       "         [4.50764e-06, 8.11049e-08, 0.0245303, ..., 5.52261e-06, 2.23703e-07, 9.03675e-27],\n",
       "         [6.68465e-07, 6.65787e-09, 0.00913748, ..., 7.63125e-07, 2.15818e-08, 1.36202e-27]],\n",
       " \n",
       "        [[1.74862e-05, 1.08548e-08, 2.38934e-05, ..., 1.28618e-08, 3.01994e-14, 7.33093e-53],\n",
       "         [5.69768e-05, 3.74254e-07, 8.76891e-05, ..., 5.46804e-07, 1.26348e-11, 6.93029e-46],\n",
       "         [4.49915e-05, 3.5183e-06, 7.32215e-05, ..., 6.19583e-06, 1.65123e-09, 5.17822e-39],\n",
       "         ...,\n",
       "         [4.29645e-05, 6.74927e-06, 0.0188441, ..., 0.000190718, 7.37798e-05, 7.62743e-22],\n",
       "         [6.74507e-06, 5.6437e-07, 0.00828239, ..., 2.70735e-05, 9.42467e-06, 2.59278e-22],\n",
       "         [1.26294e-06, 6.98481e-08, 0.00328765, ..., 6.20553e-06, 1.78212e-06, 1.07293e-22]],\n",
       " \n",
       "        ...,\n",
       " \n",
       "        [[4.58665e-05, 5.30072e-07, 0.000375397, ..., 4.08769e-05, 6.63068e-09, 1.08131e-38],\n",
       "         [0.000702502, 3.4268e-05, 0.000994661, ..., 0.00016328, 1.61627e-07, 2.45953e-35],\n",
       "         [0.00595881, 0.00162379, 0.00182565, ..., 0.000486889, 3.20456e-06, 2.02943e-31],\n",
       "         ...,\n",
       "         [0, 0, 0, ..., 0, 0, 0],\n",
       "         [0, 0, 0, ..., 0, 0, 0],\n",
       "         [0, 0, 0, ..., 0, 0, 0]],\n",
       " \n",
       "        [[7.01044e-05, 1.40932e-07, 0.000103617, ..., 1.56637e-06, 2.0616e-10, 4.89849e-46],\n",
       "         [0.00130821, 1.47844e-05, 0.000454327, ..., 1.05129e-05, 9.87552e-09, 7.31097e-42],\n",
       "         [0.0130924, 0.00103598, 0.00141078, ..., 6.18612e-05, 4.60128e-07, 7.07157e-37],\n",
       "         ...,\n",
       "         [0, 0, 0, ..., 0, 0, 0],\n",
       "         [0, 0, 0, ..., 0, 0, 0],\n",
       "         [0, 0, 0, ..., 0, 0, 0]],\n",
       " \n",
       "        [[5.84636e-05, 2.89797e-08, 2.68741e-05, ..., 5.39371e-08, 5.237e-12, 3.79115e-53],\n",
       "         [0.00128026, 4.61408e-06, 0.000186953, ..., 6.51166e-07, 5.21769e-10, 6.70737e-48],\n",
       "         [0.0151433, 0.000455657, 0.000915277, ..., 8.04494e-06, 6.07563e-08, 1.22328e-41],\n",
       "         ...,\n",
       "         [0, 0, 0, ..., 0, 0, 0],\n",
       "         [0, 0, 0, ..., 0, 0, 0],\n",
       "         [0, 0, 0, ..., 0, 0, 0]]]), most_likely_position_flat_indicies=array([3909, 3660,   59, ...,   55,  624,  367], dtype=int64), most_likely_position_indicies=None, marginal=DynamicContainer({'x': DynamicContainer({'p_x_given_n': array([[0.0215045, 0.0173407, 0.452, ..., 0.156761, 0.0317436, 1.35695e-16],\n",
       "        [0.0108713, 0.0254401, 0.263853, ..., 0.134861, 0.0428768, 1.09888e-11],\n",
       "        [0.00397282, 0.0244735, 0.0867252, ..., 0.0966644, 0.0523761, 9.45773e-07],\n",
       "        ...,\n",
       "        [0.0355051, 0.112187, 0.0074639, ..., 0.00411059, 0.000116249, 1.93452e-22],\n",
       "        [0.0723583, 0.0679979, 0.00600057, ..., 0.00163131, 5.05453e-05, 2.83929e-25],\n",
       "        [0.0907278, 0.0369711, 0.00500959, ..., 0.0010037, 2.73032e-05, 4.07594e-27]]), 'most_likely_positions_1D': array([88.2559, 77.2959, -81.6236, ..., -81.6236, -56.9637, -67.9236]), 'revised_most_likely_positions_1D': array([88.2559, 77.2959, -81.6236, ..., -81.6236, -56.9637, -67.9236])}), 'y': DynamicContainer({'p_x_given_n': array([[0.0213254, 3.94078e-05, 0.0111687, ..., 0.00191992, 4.13648e-07, 8.11076e-29],\n",
       "        [0.0368558, 0.000388352, 0.0227018, ..., 0.00390051, 3.09173e-06, 3.13767e-26],\n",
       "        [0.070809, 0.00581213, 0.0276524, ..., 0.00713159, 2.94553e-05, 4.16754e-23],\n",
       "        ...,\n",
       "        [0.00493871, 0.000151332, 0.178901, ..., 0.00606774, 0.0179839, 6.37485e-16],\n",
       "        [0.000697353, 9.39126e-06, 0.0748181, ..., 0.00124709, 0.00449575, 1.52008e-16],\n",
       "        [7.63094e-05, 1.43596e-06, 0.0270702, ..., 0.000432163, 0.00165777, 7.31643e-17]]), 'most_likely_positions_1D': array([-71.8685, -62.9662, 94.309, ..., 82.4392, 88.3741, 73.5368]), 'revised_most_likely_positions_1D': array([-71.8685, -62.9662, 94.309, ..., 82.4392, 88.3741, 73.5368])})}), most_likely_positions=array([[88.2559, -71.8685],\n",
       "        [77.2959, -62.9662],\n",
       "        [-81.6236, 94.309],\n",
       "        ...,\n",
       "        [-81.6236, 82.4392],\n",
       "        [-56.9637, 88.3741],\n",
       "        [-67.9236, 73.5368]]), revised_most_likely_positions=array([[88.2559, -71.8685],\n",
       "        [77.2959, -62.9662],\n",
       "        [-81.6236, 94.309],\n",
       "        ...,\n",
       "        [-81.6236, 82.4392],\n",
       "        [-56.9637, 88.3741],\n",
       "        [-67.9236, 73.5368]])),\n",
       " 'maze2': BayesianPlacemapPositionDecoder(pf=PfND(config=<PlacefieldComputationParameters: {'speed_thresh': 10.0, 'grid_bin': (2.7399917105077347, 2.9674559900021107), 'grid_bin_bounds': (None, None), 'smooth': (2.0, 2.0), 'frate_thresh': 1.0, 'is_directional': False};>, position_srate=59.9999763625698, setup_on_init=True, compute_on_init=True, _save_intermediate_spikes_maps=True, _included_thresh_neurons_indx=None, _peak_frate_filter_function=None, _ratemap=<Ratemap: {'_filename': None, '_metadata': None, 'spikes_maps': array([[[0, 0, 0, ..., 0, 0, 0],\n",
       "         [0, 0, 0, ..., 0, 0, 0],\n",
       "         [0, 0, 0, ..., 0, 0, 0],\n",
       "         ...,\n",
       "         [0, 0, 0, ..., 1, 1, 0],\n",
       "         [0, 0, 0, ..., 3, 0, 0],\n",
       "         [0, 0, 0, ..., 0, 0, 0]],\n",
       " \n",
       "        [[0, 0, 0, ..., 0, 0, 0],\n",
       "         [0, 0, 0, ..., 0, 0, 0],\n",
       "         [0, 0, 0, ..., 0, 0, 0],\n",
       "         ...,\n",
       "         [0, 0, 0, ..., 0, 0, 0],\n",
       "         [0, 0, 0, ..., 0, 0, 0],\n",
       "         [0, 0, 0, ..., 0, 0, 0]],\n",
       " \n",
       "        [[0, 0, 0, ..., 0, 0, 0],\n",
       "         [0, 0, 0, ..., 0, 0, 0],\n",
       "         [0, 0, 0, ..., 0, 0, 0],\n",
       "         ...,\n",
       "         [0, 0, 0, ..., 0, 0, 0],\n",
       "         [0, 0, 0, ..., 0, 0, 0],\n",
       "         [0, 0, 0, ..., 0, 0, 0]],\n",
       " \n",
       "        ...,\n",
       " \n",
       "        [[0, 0, 0, ..., 0, 0, 0],\n",
       "         [0, 0, 0, ..., 0, 0, 0],\n",
       "         [0, 0, 0, ..., 0, 0, 0],\n",
       "         ...,\n",
       "         [0, 0, 0, ..., 0, 0, 0],\n",
       "         [0, 0, 0, ..., 0, 0, 0],\n",
       "         [0, 0, 0, ..., 0, 0, 0]],\n",
       " \n",
       "        [[0, 0, 0, ..., 0, 0, 0],\n",
       "         [0, 0, 0, ..., 0, 0, 0],\n",
       "         [0, 0, 0, ..., 0, 0, 0],\n",
       "         ...,\n",
       "         [0, 0, 0, ..., 0, 0, 0],\n",
       "         [0, 0, 0, ..., 0, 0, 0],\n",
       "         [0, 0, 0, ..., 0, 0, 0]],\n",
       " \n",
       "        [[0, 0, 0, ..., 0, 0, 0],\n",
       "         [0, 0, 0, ..., 0, 0, 0],\n",
       "         [0, 0, 0, ..., 0, 0, 0],\n",
       "         ...,\n",
       "         [0, 0, 0, ..., 9, 8, 0],\n",
       "         [0, 0, 0, ..., 30, 1, 0],\n",
       "         [0, 0, 0, ..., 1, 0, 0]]]), 'tuning_curves': array([[[2.95239e-09, 2.44187e-08, 1.43673e-07, ..., 0.00437153, 0.00218412, 0.00132119],\n",
       "         [8.64188e-08, 6.13016e-07, 3.26418e-06, ..., 0.0101874, 0.00589126, 0.0040035],\n",
       "         [5.35752e-07, 3.7677e-06, 1.99338e-05, ..., 0.025264, 0.0162366, 0.0117939],\n",
       "         ...,\n",
       "         [2.22044e-08, 9.56025e-07, 5.98321e-06, ..., 0.776528, 0.701467, 0.62577],\n",
       "         [0, 2.17001e-07, 1.41502e-06, ..., 0.64406, 0.587806, 0.525746],\n",
       "         [0, 4.92829e-08, 3.21365e-07, ..., 0.540605, 0.497933, 0.446921]],\n",
       " \n",
       "        [[2.95239e-09, 2.44187e-08, 1.31461e-07, ..., 0.0510095, 0.019602, 0.0078037],\n",
       "         [4.04443e-07, 2.32941e-06, 1.1148e-05, ..., 0.105878, 0.0440019, 0.0193166],\n",
       "         [2.72025e-06, 1.54475e-05, 7.3386e-05, ..., 0.234461, 0.104898, 0.0498752],\n",
       "         ...,\n",
       "         [1.22e-07, 5.37185e-07, 2.12461e-06, ..., 0.0606287, 0.0467859, 0.0375874],\n",
       "         [1.87092e-08, 8.238e-08, 3.25819e-07, ..., 0.0334949, 0.0244285, 0.0187682],\n",
       "         [0, 0, 0, ..., 0.0192908, 0.0132417, 0.00971759]],\n",
       " \n",
       "        [[0, 0, 0, ..., 0.00385317, 0.00331914, 0.00285561],\n",
       "         [0, 0, 0, ..., 0.0126641, 0.0111392, 0.00960963],\n",
       "         [0, 0, 0, ..., 0.0392684, 0.0346549, 0.0298337],\n",
       "         ...,\n",
       "         [0, 0, 0, ..., 0.0859982, 0.0667408, 0.0541907],\n",
       "         [0, 0, 0, ..., 0.0464148, 0.0341707, 0.0264516],\n",
       "         [0, 0, 0, ..., 0.0259308, 0.0181977, 0.0134467]],\n",
       " \n",
       "        ...,\n",
       " \n",
       "        [[0, 0, 0, ..., 5.34595e-06, 1.71362e-06, 5.06105e-07],\n",
       "         [0, 0, 0, ..., 2.78349e-05, 8.92059e-06, 2.65578e-06],\n",
       "         [0, 0, 0, ..., 0.000123087, 3.93514e-05, 1.17378e-05],\n",
       "         ...,\n",
       "         [0, 0, 0, ..., 0.0683571, 0.0576061, 0.0493432],\n",
       "         [0, 0, 0, ..., 0.0309296, 0.0257488, 0.0217634],\n",
       "         [0, 0, 0, ..., 0.0149487, 0.0120923, 0.00995453]],\n",
       " \n",
       "        [[1.77143e-08, 1.15512e-07, 6.23254e-07, ..., 0.0244643, 0.00626653, 0.00190915],\n",
       "         [6.66584e-07, 3.1797e-06, 1.3661e-05, ..., 0.030598, 0.0099671, 0.00435516],\n",
       "         [4.66138e-06, 2.13098e-05, 8.85183e-05, ..., 0.0450579, 0.019812, 0.01133],\n",
       "         ...,\n",
       "         [2.22044e-08, 1.81428e-06, 1.54896e-05, ..., 0.812252, 0.854379, 0.871203],\n",
       "         [0, 4.34002e-07, 3.81861e-06, ..., 0.425258, 0.442215, 0.446799],\n",
       "         [0, 9.85658e-08, 8.6724e-07, ..., 0.229469, 0.235387, 0.235635]],\n",
       " \n",
       "        [[1.18096e-08, 8.21746e-08, 4.49194e-07, ..., 0.0024008, 0.000991544, 0.000485713],\n",
       "         [7.70079e-08, 5.35846e-07, 2.92911e-06, ..., 0.0053113, 0.00257334, 0.00143444],\n",
       "         [3.91079e-07, 2.72125e-06, 1.48753e-05, ..., 0.012589, 0.00687655, 0.00414392],\n",
       "         ...,\n",
       "         [1.22024e-06, 5.44011e-06, 2.17617e-05, ..., 6.88421, 6.90898, 6.59656],\n",
       "         [1.49674e-07, 6.5904e-07, 2.60655e-06, ..., 6.47673, 6.47652, 6.14788],\n",
       "         [0, 0, 0, ..., 6.07462, 6.05011, 5.71373]]]), 'unsmoothed_tuning_maps': array([[[0, 0, 0, ..., 0, 0, 0],\n",
       "         [0, 0, 0, ..., 0, 0, 0],\n",
       "         [0, 0, 0, ..., 0, 0, 0],\n",
       "         ...,\n",
       "         [0, 0, 0, ..., 2.85714, 1.62162, 0],\n",
       "         [0, 0, 0, ..., 1.62162, 0, 0],\n",
       "         [0, 0, 0, ..., 0, 0, 0]],\n",
       " \n",
       "        [[0, 0, 0, ..., 0, 0, 0],\n",
       "         [0, 0, 0, ..., 0, 0, 0],\n",
       "         [0, 0, 0, ..., 0, 0, 0],\n",
       "         ...,\n",
       "         [0, 0, 0, ..., 0, 0, 0],\n",
       "         [0, 0, 0, ..., 0, 0, 0],\n",
       "         [0, 0, 0, ..., 0, 0, 0]],\n",
       " \n",
       "        [[0, 0, 0, ..., 0, 0, 0],\n",
       "         [0, 0, 0, ..., 0, 0, 0],\n",
       "         [0, 0, 0, ..., 0, 0, 0],\n",
       "         ...,\n",
       "         [0, 0, 0, ..., 0, 0, 0],\n",
       "         [0, 0, 0, ..., 0, 0, 0],\n",
       "         [0, 0, 0, ..., 0, 0, 0]],\n",
       " \n",
       "        ...,\n",
       " \n",
       "        [[0, 0, 0, ..., 0, 0, 0],\n",
       "         [0, 0, 0, ..., 0, 0, 0],\n",
       "         [0, 0, 0, ..., 0, 0, 0],\n",
       "         ...,\n",
       "         [0, 0, 0, ..., 0, 0, 0],\n",
       "         [0, 0, 0, ..., 0, 0, 0],\n",
       "         [0, 0, 0, ..., 0, 0, 0]],\n",
       " \n",
       "        [[0, 0, 0, ..., 0, 0, 0],\n",
       "         [0, 0, 0, ..., 0, 0, 0],\n",
       "         [0, 0, 0, ..., 0, 0, 0],\n",
       "         ...,\n",
       "         [0, 0, 0, ..., 0, 0, 0],\n",
       "         [0, 0, 0, ..., 0, 0, 0],\n",
       "         [0, 0, 0, ..., 0, 0, 0]],\n",
       " \n",
       "        [[0, 0, 0, ..., 0, 0, 0],\n",
       "         [0, 0, 0, ..., 0, 0, 0],\n",
       "         [0, 0, 0, ..., 0, 0, 0],\n",
       "         ...,\n",
       "         [0, 0, 0, ..., 25.7143, 12.973, 0],\n",
       "         [0, 0, 0, ..., 16.2162, 6, 0],\n",
       "         [0, 0, 0, ..., 15, 0, 0]]]), '_neuron_ids': [1, 3, 11, 13, 20, 27, 38, 42, 43, 44, 47, 48, 54, 55, 56, 57, 58, 61, 62, 63, 64, 65, 68, 70, 75, 80, 87, 91, 93, 95], '_neuron_extended_ids': [NeuronExtendedIdentity(shank=1, cluster=111, aclu=1, qclu=111), NeuronExtendedIdentity(shank=1, cluster=111, aclu=3, qclu=111), NeuronExtendedIdentity(shank=1, cluster=111, aclu=11, qclu=111), NeuronExtendedIdentity(shank=1, cluster=111, aclu=13, qclu=111), NeuronExtendedIdentity(shank=1, cluster=111, aclu=20, qclu=111), NeuronExtendedIdentity(shank=1, cluster=111, aclu=27, qclu=111), NeuronExtendedIdentity(shank=1, cluster=111, aclu=38, qclu=111), NeuronExtendedIdentity(shank=1, cluster=111, aclu=42, qclu=111), NeuronExtendedIdentity(shank=1, cluster=111, aclu=43, qclu=111), NeuronExtendedIdentity(shank=1, cluster=111, aclu=44, qclu=111), NeuronExtendedIdentity(shank=1, cluster=111, aclu=47, qclu=111), NeuronExtendedIdentity(shank=1, cluster=111, aclu=48, qclu=111), NeuronExtendedIdentity(shank=1, cluster=111, aclu=54, qclu=111), NeuronExtendedIdentity(shank=1, cluster=111, aclu=55, qclu=111), NeuronExtendedIdentity(shank=1, cluster=111, aclu=56, qclu=111), NeuronExtendedIdentity(shank=1, cluster=111, aclu=57, qclu=111), NeuronExtendedIdentity(shank=1, cluster=111, aclu=58, qclu=111), NeuronExtendedIdentity(shank=1, cluster=111, aclu=61, qclu=111), NeuronExtendedIdentity(shank=1, cluster=111, aclu=62, qclu=111), NeuronExtendedIdentity(shank=1, cluster=111, aclu=63, qclu=111), NeuronExtendedIdentity(shank=1, cluster=111, aclu=64, qclu=111), NeuronExtendedIdentity(shank=1, cluster=111, aclu=65, qclu=111), NeuronExtendedIdentity(shank=1, cluster=111, aclu=68, qclu=111), NeuronExtendedIdentity(shank=1, cluster=111, aclu=70, qclu=111), NeuronExtendedIdentity(shank=1, cluster=111, aclu=75, qclu=111), NeuronExtendedIdentity(shank=1, cluster=111, aclu=80, qclu=111), NeuronExtendedIdentity(shank=1, cluster=111, aclu=87, qclu=111), NeuronExtendedIdentity(shank=1, cluster=111, aclu=91, qclu=111), NeuronExtendedIdentity(shank=1, cluster=111, aclu=93, qclu=111), NeuronExtendedIdentity(shank=1, cluster=111, aclu=95, qclu=111)], 'xbin': array([-75.4162, -72.6762, -69.9362, -67.1962, -64.4562, -61.7162, -58.9762, -56.2362, -53.4962, -50.7562, -48.0162, -45.2762, -42.5363, -39.7963, -37.0563, -34.3163, -31.5763, -28.8363, -26.0963, -23.3563, -20.6163, -17.8763, -15.1363, -12.3963, -9.65636, -6.91636, -4.17637, -1.43638, 1.30361, 4.0436, 6.78359, 9.52359, 12.2636, 15.0036, 17.7436, 20.4836, 23.2235, 25.9635, 28.7035, 31.4435, 34.1835, 36.9235, 39.6635, 42.4035, 45.1435, 47.8835, 50.6235, 53.3635, 56.1034, 58.8434, 61.5834, 64.3234, 67.0634, 69.8034, 72.5434]), 'ybin': array([-62.3339, -59.3664, -56.3989, -53.4315, -50.464, -47.4966, -44.5291, -41.5617, -38.5942, -35.6268, -32.6593, -29.6918, -26.7244, -23.7569, -20.7895, -17.822, -14.8546, -11.8871, -8.91965, -5.9522, -2.98474, -0.0172848, 2.95017, 5.91763, 8.88508, 11.8525, 14.82, 17.7875, 20.7549, 23.7224, 26.6898, 29.6573, 32.6247, 35.5922, 38.5596, 41.5271, 44.4946, 47.462, 50.4295, 53.3969, 56.3644, 59.3318, 62.2993, 65.2667, 68.2342, 71.2017, 74.1691, 77.1366, 80.104, 83.0715, 86.0389, 89.0064]), 'zbin': None, 'occupancy': array([[0, 0, 0, ..., 0, 0, 0],\n",
       "        [0, 0, 0, ..., 0, 0, 0],\n",
       "        [0, 0, 0, ..., 0, 0, 0],\n",
       "        ...,\n",
       "        [0, 0, 0, ..., 0.35, 0.616667, 0],\n",
       "        [0, 0, 0, ..., 1.85, 0.166667, 0],\n",
       "        [0, 0, 0, ..., 0.0666667, 0, 0]])};>, _ratemap_spiketrains=[array([20760.3, 20760.4, 20761, ..., 23980.8, 24001.7, 24001.7]), array([20762.7, 20780.7, 20780.7, ..., 24001.7, 24001.7, 24003.6]), array([20757.9, 20759.5, 20761.3, ..., 23967.2, 23967.5, 24003.8]), array([20763.3, 20768.1, 20768.2, ..., 24001.7, 24003.6, 24003.6]), array([20795.4, 20795.4, 20795.5, 20834.9, 20850.5, 20865.1, 20865.3, 20865.4, 20865.4, 20868.2, 20913.9, 20913.9, 20913.9, 20913.9, 20913.9, 20923, 20931.1, 20931.1, 20997.3, 21003.4, 21003.5, 21003.5, 21056.4, 21056.4, 21056.4, 21225.9, 21239.7, 21239.7, 21249, 21249.1, 21447.5, 21515.1, 21590, 21590, 21590.2, 21590.2, 21590.2, 21590.4, 21590.4, 21590.4, 21603.5, 21603.6, 21614.8, 21634.9, 21634.9, 21686.3, 21686.3, 21689.3, 21695.8, 21695.8, 21698.3, 21698.3, 21698.3, 21703.5, 21703.5, 21711.3, 21719.4, 21719.4, 21719.4, 21719.4, 21772.3, 21772.3, 21772.7, 21772.8, 21773.2, 21773.2, 21773.3, 21773.3, 21780.3, 21780.5, 21780.6, 21780.6, 21780.9, 21781, 21781, 21781, 21798.4, 21853.7, 21853.9, 21854, 21854, 21854.1, 21854.1, 21854.2, 21854.5, 21859.4, 21867.7, 21889.1, 21889.1, 21889.1, 21889.7, 21889.7, 21889.7, 21889.7, 21895.7, 21895.7, 21901.1, 21910.3, 21912.4, 21912.4, 21912.4, 21914.6, 21914.6, 21914.7, 21914.7, 21916.5, 21918.4, 21918.4, 21919.4, 21921.2, 21921.3, 21921.3, 21922.1, 21922.3, 21922.3, 21922.3, 21922.3, 21922.4, 21923.1, 21923.1, 21923.1, 21923.2, 21923.2, 21923.2, 21923.2, 21923.3, 21923.3, 21923.3, 21923.4, 21923.5, 21923.5, 21923.6, 21923.6, 21923.6, 21923.6, 21923.7, 21923.7, 21923.7, 21923.7, 21923.7, 21923.7, 21923.8, 21923.8, 21923.8, 21923.8, 21923.9, 21923.9, 21924, 21924, 21924.1, 21924.3, 21952.6, 21990.9, 22011.3, 22011.5, 22011.5, 22011.8, 22011.9, 22012, 22017.5, 22017.5, 22017.5, 22037.9, 22037.9, 22037.9, 22038, 22038, 22038.1, 22038.1, 22038.1, 22038.1, 22038.1, 22038.3, 22038.3, 22038.3, 22038.4, 22038.4, 22038.4, 22038.4, 22038.4, 22038.5, 22038.5, 22038.5, 22038.5, 22038.6, 22038.6, 22038.6, 22038.6, 22038.7, 22038.7, 22038.8, 22038.8, 22038.8, 22038.9, 22038.9, 22039, 22039.1, 22039.2, 22039.2, 22039.3, 22039.3, 22039.4, 22039.5, 22039.5, 22039.5, 22039.6, 22039.6, 22039.6, 22039.7, 22039.7, 22062.4, 22099.2, 22101.3, 22101.5, 22101.6, 22101.8, 22115, 22128.6, 22128.6, 22128.9, 22129.4, 22129.4, 22132.6, 22132.7, 22132.7, 22133.2, 22133.5, 22133.5, 22133.5, 22133.6, 22133.6, 22133.6, 22133.6, 22133.6, 22133.7, 22133.7, 22133.7, 22133.7, 22133.8, 22133.8, 22133.8, 22133.9, 22133.9, 22133.9, 22133.9, 22134, 22134, 22134.1, 22134.1, 22134.1, 22134.1, 22134.3, 22134.4, 22134.4, 22134.4, 22134.4, 22134.4, 22134.4, 22134.5, 22134.5, 22134.5, 22134.5, 22134.5, 22134.7, 22134.7, 22134.7, 22134.8, 22134.9, 22134.9, 22135, 22135, 22160.5, 22161, 22161.1, 22161.1, 22161.1, 22161.2, 22161.3, 22161.6, 22174.2, 22185.4, 22186.6, 22186.6, 22187.1, 22187.2, 22187.2, 22187.2, 22187.4, 22187.4, 22187.8, 22187.8, 22187.9, 22187.9, 22187.9, 22188, 22188, 22188, 22188, 22188.1, 22188.1, 22188.2, 22188.3, 22188.3, 22188.4, 22188.4, 22188.7, 22188.7, 22190.7, 22190.7, 22190.7, 22190.8, 22190.8, 22190.8, 22192.3, 22192.3, 22192.4, 22192.4, 22192.4, 22192.5, 22192.5, 22192.5, 22192.7, 22192.7, 22192.7, 22192.7, 22192.8, 22192.8, 22192.8, 22192.8, 22193, 22193, 22193, 22193.1, 22193.1, 22193.1, 22193.2, 22193.2, 22193.2, 22193.4, 22193.5, 22193.5, 22193.6, 22193.8, 22193.8, 22194.8, 22195, 22195, 22195.1, 22195.1, 22195.1, 22195.1, 22195.2, 22195.4, 22195.4, 22195.4, 22195.5, 22195.6, 22201.2, 22201.2, 22201.4, 22201.4, 22204.7, 22204.9, 22206.1, 22206.6, 22206.6, 22206.8, 22206.8, 22206.9, 22206.9, 22207.4, 22207.5, 22207.6, 22207.6, 22207.6, 22207.6, 22207.6, 22207.8, 22208, 22208.5, 22208.5, 22208.5, 22208.5, 22208.5, 22208.5, 22219.2, 22223.6, 22224, 22224.5, 22224.6, 22224.7, 22224.7, 22224.7, 22224.8, 22224.9, 22224.9, 22224.9, 22225.1, 22225.1, 22225.1, 22225.2, 22225.3, 22225.3, 22225.3, 22225.4, 22225.4, 22225.4, 22225.5, 22225.5, 22225.5, 22225.5, 22225.5, 22225.6, 22225.6, 22225.6, 22225.6, 22225.7, 22225.7, 22225.9, 22225.9, 22225.9, 22274.3, 22276.9, 22276.9, 22285.6, 22285.6, 22285.6, 22297.6, 22297.6, 22308.7, 22321.6, 22321.6, 22321.6, 22321.7, 22328.1, 22399.2, 22399.7, 22399.7, 22399.7, 22404.6, 22404.7, 22404.7, 22409.5, 22409.5, 22409.5, 22409.5, 22419.8, 22419.8, 22419.9, 22419.9, 22425.3, 22425.3, 22425.3, 22428.6, 22428.6, 22430.5, 22430.5, 22430.5, 22430.5, 22430.6, 22439, 22439, 22439, 22445.6, 22447.3, 22477, 22480.3, 22485.4, 22485.5, 22485.5, 22487.4, 22503.1, 22503.1, 22525.2, 22525.2, 22525.2, 22538.9, 22538.9, 22548.2, 22548.2, 22548.2, 22548.2, 22556.6, 22556.6, 22556.6, 22556.6, 22562.7, 22564.9, 22564.9, 22568.3, 22572.4, 22572.4, 22572.4, 22572.4, 22580.4, 22580.4, 22580.4, 22580.4, 22623.2, 22623.2, 22623.2, 22623.2, 22626.7, 22626.7, 22626.7, 22663.6, 22663.6, 22675.6, 22675.6, 22675.6, 22675.6, 22680.6, 22680.6, 22680.6, 22688.7, 22704.1, 22746.6, 22746.6, 22746.6, 22746.6, 22747.3, 22747.8, 22747.8, 22747.8, 22747.8, 22776.4, 22776.8, 22784.3, 22789.3, 22789.3, 22789.4, 22789.4, 22789.4, 22789.4, 22799.7, 22800.4, 22800.4, 22811.3, 22811.3, 22811.3, 22811.3, 22811.5, 22811.5, 22811.5, 22811.5, 22813.9, 22813.9, 22825.1, 22825.1, 22825.1, 22825.2, 22832.2, 22832.2, 22832.2, 22832.2, 22832.2, 22884, 22884, 22894.7, 22894.7, 22894.7, 22894.7, 22894.7, 22894.7, 22895.5, 22895.5, 22895.5, 22895.5, 22895.5, 22895.5, 22900.7, 22900.7, 22909.7, 22909.7, 22909.7, 22949.2, 22949.2, 22965.8, 22975.5, 22982.5, 22987.9, 22987.9, 22987.9, 22987.9, 23003.3, 23041.3, 23047.9, 23047.9, 23055.9, 23056.6, 23057.8, 23076.9, 23087.4, 23087.5, 23088.1, 23088.1, 23088.1, 23093.3, 23106.2, 23106.2, 23106.2, 23106.2, 23106.2, 23155.1, 23155.1, 23181.1, 23181.1, 23181.1, 23181.1, 23181.1, 23193.1, 23193.1, 23193.1, 23262.6, 23262.6, 23286.2, 23286.2, 23286.2, 23286.3, 23286.3, 23290.9, 23290.9, 23294.2, 23310.7, 23311, 23311.1, 23311.9, 23311.9, 23312.7, 23312.8, 23312.8, 23312.8, 23321, 23321, 23321, 23321, 23321.1, 23321.1, 23321.1, 23321.2, 23321.3, 23321.3, 23321.3, 23321.3, 23321.3, 23321.4, 23321.4, 23321.4, 23321.5, 23321.5, 23321.5, 23321.5, 23321.6, 23321.6, 23321.6, 23321.7, 23321.7, 23321.7, 23321.7, 23412.6, 23412.6, 23412.6, 23412.6, 23415.8, 23429.6, 23437.1, 23437.1, 23437.1, 23437.1, 23437.1, 23480.7, 23480.7, 23480.8, 23480.8, 23495.3, 23495.3, 23495.3, 23495.3, 23515.8, 23515.8, 23515.8, 23521.9, 23522.1, 23522.1, 23568.3, 23568.3, 23569.7, 23574.5, 23574.5, 23575.2, 23575.2, 23575.3, 23575.3, 23575.3, 23575.3, 23575.4, 23575.4, 23575.4, 23575.5, 23575.6, 23575.6, 23575.6, 23575.6, 23575.7, 23575.7, 23575.7, 23575.7, 23575.8, 23575.8, 23575.8, 23575.8, 23575.9, 23576.3, 23576.3, 23576.3, 23576.5, 23576.5, 23576.6, 23576.6, 23576.6, 23576.7, 23576.7, 23576.7, 23576.7, 23576.7, 23576.7, 23576.8, 23576.8, 23576.8, 23576.9, 23576.9, 23576.9, 23577, 23577.1, 23577.1, 23577.1, 23577.1, 23577.1, 23577.2, 23577.2, 23577.2, 23577.3, 23577.3, 23577.3, 23577.4, 23577.4, 23577.5, 23577.5, 23577.6, 23582.7, 23582.7, 23582.8, 23582.8, 23582.8, 23582.9, 23582.9, 23583, 23583, 23583, 23583, 23583.2, 23583.2, 23583.4, 23587.1, 23587.1, 23587.1, 23587.2, 23587.2, 23587.2, 23587.3, 23587.3, 23587.3, 23587.4, 23587.4, 23587.4, 23587.4, 23641.1, 23641.1, 23646.2, 23646.2, 23646.2, 23646.2, 23646.3, 23646.4, 23646.4, 23646.4, 23647.2, 23659, 23665.5, 23665.5, 23665.5, 23665.5, 23670.5, 23706.1, 23706.1, 23711.6, 23719, 23719, 23719, 23719, 23727.8, 23730.7, 23737.2, 23740.1, 23740.2, 23752.6, 23752.6, 23752.6, 23770, 23770, 23770, 23770, 23771.2, 23771.2, 23801.7, 23805.9, 23925, 23925, 23925, 23933.8, 23934.1, 23934.2, 23934.2, 23934.3, 23934.3, 23934.3, 23934.4, 23952, 23952, 23952.1, 23952.1, 23952.1, 23952.2, 23952.2, 23952.4, 23952.4, 23952.4, 23952.4, 23952.6, 23952.6, 23952.6, 23952.6, 23953, 23953, 23953.2, 23953.2, 23953.2, 23953.2, 23953.3, 23953.3, 23953.3, 23953.3, 23953.4, 23953.4, 23953.4, 23953.4, 23953.5, 23953.5, 23953.6, 23953.6, 23953.6, 23973.2]), array([20803.5, 20816.1, 20884.7, 20913.7, 20913.7, 20913.7, 20913.7, 20923.2, 20923.2, 20923.2, 20973.4, 20973.5, 20973.5, 20973.5, 20973.5, 20973.8, 20973.8, 20973.8, 20973.9, 20973.9, 20973.9, 20974.1, 20974.1, 20974.1, 20974.1, 20974.2, 21003.6, 21003.6, 21003.6, 21003.7, 21003.7, 21003.7, 21003.7, 21056.2, 21056.2, 21056.2, 21056.2, 21056.2, 21056.2, 21056.2, 21142.3, 21142.3, 21142.3, 21142.3, 21142.3, 21142.4, 21159, 21177.5, 21178.2, 21178.2, 21180.5, 21180.5, 21201.4, 21201.9, 21201.9, 21201.9, 21201.9, 21201.9, 21202.6, 21202.7, 21202.7, 21203, 21203, 21203.1, 21203.1, 21203.1, 21203.1, 21203.1, 21203.2, 21203.2, 21203.2, 21203.2, 21203.2, 21203.3, 21203.3, 21203.3, 21203.4, 21206.6, 21206.6, 21206.6, 21206.6, 21206.8, 21206.8, 21206.9, 21207, 21207, 21207, 21207.1, 21207.1, 21207.1, 21207.1, 21207.2, 21207.2, 21207.2, 21207.2, 21207.2, 21207.3, 21207.4, 21207.4, 21207.5, 21207.5, 21207.5, 21207.5, 21207.5, 21207.7, 21207.7, 21207.7, 21207.7, 21207.7, 21220, 21220, 21220.1, 21220.1, 21221.1, 21234.5, 21234.5, 21234.5, 21234.5, 21306.6, 21309.2, 21309.2, 21309.2, 21309.4, 21309.4, 21309.4, 21309.6, 21346.5, 21368.8, 21374.7, 21374.7, 21374.7, 21374.7, 21400.1, 21424.9, 21443.3, 21529.3, 21555.3, 21555.3, 21555.3, 21555.3, 21555.3, 21555.4, 21556, 21559.2, 21603.3, 21666.4, 21694, 21694, 21694, 21694, 21743.8, 21755.7, 21755.7, 21755.7, 21755.9, 21755.9, 21755.9, 21756.3, 21756.3, 21756.3, 21756.3, 21756.3, 21757.1, 21757.1, 21757.1, 21757.3, 21757.3, 21757.3, 21757.7, 21757.7, 21757.7, 21757.7, 21757.7, 21761.5, 21761.5, 21761.5, 21761.6, 21761.6, 21761.6, 21764.4, 21764.5, 21764.5, 21764.7, 21764.7, 21764.7, 21764.9, 21764.9, 21765.2, 21765.2, 21765.2, 21765.2, 21765.2, 21765.3, 21765.3, 21765.5, 21765.5, 21765.5, 21765.5, 21765.5, 21765.5, 21765.6, 21765.7, 21765.7, 21765.7, 21765.7, 21765.7, 21765.8, 21765.8, 21766.4, 21766.5, 21766.5, 21848.9, 21850.7, 21850.9, 21850.9, 21850.9, 21851, 21851, 21851, 21851, 21851.1, 21851.1, 21851.1, 21851.1, 21894.6, 21894.6, 21894.6, 21894.6, 21894.6, 21894.6, 21895.8, 21901, 21901, 21901.1, 22045.2, 22045.3, 22049.4, 22049.7, 22049.9, 22049.9, 22049.9, 22051.4, 22156.6, 22172.4, 22172.4, 22172.4, 22172.5, 22242.4, 22288.7, 22306.4, 22326.7, 22326.7, 22326.7, 22399.8, 22410.6, 22410.6, 22410.6, 22410.6, 22410.6, 22410.6, 22421.1, 22421.1, 22421.1, 22421.1, 22421.1, 22427.8, 22427.8, 22427.8, 22427.8, 22438.7, 22438.7, 22438.7, 22438.8, 22438.8, 22438.8, 22438.8, 22452.6, 22485.2, 22485.2, 22485.2, 22485.2, 22485.2, 22485.2, 22485.3, 22539.8, 22539.8, 22542, 22542.9, 22542.9, 22542.9, 22542.9, 22558.2, 22558.2, 22558.2, 22558.2, 22560.1, 22579.2, 22579.3, 22579.3, 22579.3, 22616.3, 22616.3, 22616.3, 22616.4, 22623.2, 22625, 22642.3, 22645, 22651.4, 22651.4, 22651.4, 22651.4, 22651.4, 22692.2, 22692.2, 22692.2, 22692.2, 22692.2, 22692.2, 22742.8, 22742.8, 22742.8, 22742.8, 22742.9, 22742.9, 22747.3, 22763, 22763, 22769.7, 22769.7, 22769.7, 22769.7, 22769.7, 22769.8, 22787.3, 22787.3, 22787.3, 22787.3, 22787.4, 22787.4, 22789.9, 22790.4, 22794.5, 22802, 22818.7, 22886.9, 22898.2, 22912.1, 22912.1, 22912.1, 22912.1, 22912.1, 22912.1, 22957.3, 22957.3, 22957.4, 23023.3, 23035.2, 23048.7, 23048.7, 23048.7, 23048.7, 23048.7, 23048.7, 23070.2, 23093, 23147.8, 23147.9, 23206.2, 23206.2, 23206.2, 23206.2, 23206.3, 23206.3, 23206.3, 23227, 23227, 23227.1, 23227.1, 23227.1, 23259.7, 23280.1, 23380.9, 23381.5, 23385.2, 23385.5, 23386.5, 23490, 23532.4, 23581.7, 23595.6, 23639.1, 23639.1, 23639.1, 23639.2, 23693.7, 23693.7, 23693.7, 23693.7, 23693.7, 23706.6, 23707.2, 23707.3, 23707.3, 23707.3, 23708.4, 23725.8, 23725.8, 23737.4, 23737.4, 23737.4, 23737.4, 23737.4, 23742.8, 23771.6, 23771.7, 23774.5, 23774.5, 23774.5, 23838.9, 23865.6, 23884.8, 23884.8, 23884.9, 23884.9, 23884.9, 23885.3, 23885.3, 23885.3, 23885.3, 23885.3, 23885.4, 23885.4, 23885.4, 23885.6, 23885.6, 23885.6, 23885.7, 23885.7, 23885.7, 23885.8, 23893.4, 23961.5, 23961.5, 23961.8, 23961.9, 23961.9, 23962.1, 23962.1, 23962.2, 23962.6, 23962.6, 23962.6, 23962.6, 23962.7, 23962.7, 23964, 23980.6]), array([20756.6, 20757.9, 20757.9, ..., 24003.6, 24003.9, 24004]), array([20756.2, 20756.2, 20756.2, ..., 24003.7, 24003.7, 24003.8]), array([20756.1, 20756.2, 20756.2, ..., 23998.9, 24001.8, 24002.2]), array([20756, 20756, 20756, 20758.7, 20758.9, 20762.1, 20762.2, 20762.2, 20763.9, 20763.9, 20763.9, 20763.9, 20766.6, 20766.8, 20766.8, 20766.8, 20767.1, 20769.4, 20769.5, 20769.7, 20771.4, 20771.4, 20775.2, 20775.2, 20775.2, 20778.4, 20778.4, 20778.8, 20778.8, 20785, 20795.1, 20795.2, 20795.7, 20795.7, 20795.8, 20795.9, 20796.1, 20796.1, 20796.2, 20796.2, 20796.2, 20796.2, 20796.3, 20796.3, 20796.3, 20796.3, 20796.5, 20796.5, 20804.4, 20806.4, 20809.1, 20809.1, 20809.1, 20812.7, 20812.7, 20812.8, 20815.9, 20816.8, 20816.8, 20816.8, 20826.5, 20873.3, 20873.4, 20877.3, 20877.3, 20877.4, 20877.4, 20885.2, 20885.3, 20888.9, 20888.9, 20889.3, 20904.4, 20918.9, 20923.2, 20928.3, 20949.2, 20949.2, 20950.6, 20963.2, 20963.2, 20967.3, 20967.3, 20996.5, 20996.5, 21003.5, 21003.5, 21006.1, 21006.1, 21006.2, 21014.9, 21014.9, 21015.7, 21015.8, 21017.5, 21021.7, 21021.9, 21021.9, 21022, 21022, 21022, 21022.2, 21022.2, 21022.3, 21022.5, 21022.5, 21022.5, 21029.7, 21042, 21046.5, 21053.5, 21053.5, 21067.6, 21075.6, 21075.6, 21081, 21085.9, 21085.9, 21085.9, 21093.9, 21144.3, 21148, 21151.4, 21159.4, 21159.4, 21165, 21179.9, 21232.6, 21232.6, 21232.6, 21234.2, 21236.2, 21248.5, 21248.6, 21254.7, 21273.4, 21320, 21320.8, 21320.8, 21321, 21321, 21321.1, 21321.1, 21321.2, 21321.4, 21321.5, 21328.5, 21329.1, 21338, 21343.3, 21343.4, 21347.5, 21347.5, 21347.5, 21347.5, 21347.5, 21350.7, 21356.6, 21356.7, 21356.7, 21356.7, 21356.7, 21356.7, 21356.7, 21359, 21359.9, 21359.9, 21369.4, 21372.5, 21372.5, 21372.5, 21372.5, 21382.8, 21387.3, 21387.4, 21387.4, 21387.4, 21395.9, 21402.3, 21402.4, 21402.4, 21402.4, 21404.3, 21409.8, 21409.8, 21441.3, 21441.3, 21441.4, 21447.4, 21447.5, 21460.6, 21465.1, 21465.1, 21480.8, 21480.8, 21486.8, 21486.8, 21492.6, 21511.6, 21511.6, 21511.6, 21511.7, 21515.4, 21515.4, 21515.4, 21515.4, 21515.4, 21531.5, 21535.1, 21540.4, 21552.1, 21552.1, 21555.8, 21555.8, 21558.5, 21558.5, 21558.5, 21558.5, 21558.5, 21558.5, 21562.2, 21574.1, 21574.3, 21574.3, 21574.3, 21574.3, 21574.3, 21587.2, 21589.6, 21589.6, 21589.6, 21589.6, 21589.6, 21590, 21590, 21590.1, 21590.1, 21590.1, 21590.1, 21590.2, 21590.2, 21591.4, 21591.4, 21591.4, 21614.8, 21614.8, 21634.9, 21640.5, 21640.5, 21640.5, 21640.5, 21660.8, 21660.8, 21661, 21661, 21661.1, 21661.1, 21661.2, 21661.6, 21661.6, 21661.7, 21662.1, 21662.1, 21662.4, 21662.4, 21662.5, 21668, 21686.3, 21686.3, 21686.3, 21698.3, 21698.3, 21698.3, 21703.5, 21703.5, 21711.3, 21753.8, 21772.7, 21772.9, 21773, 21773.3, 21773.7, 21776.5, 21776.5, 21776.6, 21776.6, 21776.6, 21776.7, 21776.7, 21777.3, 21777.3, 21777.3, 21780.3, 21818.1, 21818.6, 21820.7, 21821.1, 21821.2, 21821.3, 21844.7, 21847.5, 21847.6, 21853.2, 21853.2, 21853.2, 21853.7, 21854.1, 21854.1, 21854.3, 21854.4, 21854.4, 21854.4, 21854.4, 21854.5, 21854.6, 21854.6, 21854.7, 21854.8, 21854.8, 21854.8, 21865.3, 21865.3, 21889.1, 21889.7, 21889.7, 21912.4, 21912.4, 21912.5, 21919.4, 21923.4, 21944.3, 21944.3, 21955.4, 21992.2, 22011.2, 22011.8, 22011.9, 22011.9, 22012, 22012.2, 22012.2, 22012.3, 22012.4, 22012.4, 22012.4, 22012.6, 22017.5, 22030.1, 22033.1, 22033.1, 22079.8, 22080.6, 22091.9, 22091.9, 22091.9, 22099.1, 22101.4, 22101.6, 22101.8, 22101.9, 22102, 22102, 22106.9, 22128.6, 22133.3, 22142.2, 22142.2, 22142.7, 22142.8, 22142.8, 22142.8, 22142.8, 22142.8, 22142.8, 22142.8, 22142.9, 22150.2, 22161.6, 22161.6, 22161.7, 22161.9, 22161.9, 22162.1, 22162.1, 22162.1, 22174.2, 22189, 22189.6, 22201.3, 22208, 22208.8, 22230.6, 22230.6, 22230.6, 22276.9, 22285.6, 22297.6, 22297.7, 22297.7, 22308.7, 22308.7, 22323.6, 22360.6, 22362.2, 22362.2, 22362.2, 22362.2, 22389.1, 22399.3, 22399.7, 22399.7, 22404.7, 22404.7, 22409, 22409.5, 22409.5, 22410.6, 22410.6, 22419.9, 22419.9, 22427.8, 22428.2, 22428.2, 22428.2, 22428.2, 22439.1, 22439.1, 22439.3, 22439.3, 22439.3, 22439.3, 22503.1, 22503.8, 22525.2, 22525.2, 22528.2, 22528.2, 22528.2, 22538.9, 22538.9, 22539.1, 22539.8, 22539.8, 22539.8, 22548.2, 22548.2, 22548.2, 22556.6, 22556.6, 22556.6, 22564.5, 22564.6, 22564.6, 22564.6, 22564.6, 22564.6, 22564.9, 22566.4, 22566.4, 22566.4, 22568.3, 22572.4, 22580.4, 22580.4, 22605.9, 22605.9, 22605.9, 22605.9, 22605.9, 22606, 22606, 22606, 22626.7, 22626.7, 22627.3, 22627.3, 22637.8, 22645, 22665.8, 22675.6, 22680.6, 22680.6, 22688.8, 22692.4, 22692.4, 22692.4, 22692.5, 22692.5, 22692.5, 22716.1, 22725.2, 22738.3, 22738.3, 22738.3, 22740.4, 22743.2, 22743.2, 22745.5, 22745.6, 22745.6, 22745.7, 22776.3, 22776.8, 22776.8, 22776.8, 22776.9, 22784, 22789.3, 22790.9, 22808.9, 22810.8, 22812, 22812, 22812, 22812, 22812.3, 22812.3, 22813.8, 22813.8, 22818.6, 22818.6, 22825.1, 22825.1, 22832.2, 22832.2, 22873.1, 22880.6, 22884, 22884, 22888.4, 22894.7, 22894.7, 22895.9, 22898.2, 22900.7, 22909.7, 22909.7, 22913.3, 22931.9, 22931.9, 22931.9, 22932, 22932, 22932, 22949.2, 22982.3, 22982.3, 22982.3, 22982.4, 22982.4, 22982.4, 22982.4, 22987.9, 22987.9, 23003.3, 23048.7, 23057.1, 23075.4, 23079.3, 23079.4, 23079.4, 23079.4, 23079.4, 23079.4, 23087.8, 23087.8, 23087.8, 23087.8, 23087.8, 23088.1, 23093.4, 23095.9, 23095.9, 23095.9, 23104.7, 23104.7, 23106.2, 23106.2, 23106.2, 23107.5, 23120.3, 23135.9, 23156.1, 23174.1, 23181.1, 23181.1, 23193.1, 23206.3, 23227.2, 23227.2, 23227.2, 23227.2, 23238.6, 23271.4, 23272.7, 23272.8, 23272.8, 23273.1, 23273.1, 23273.5, 23273.8, 23274.2, 23274.2, 23274.2, 23283.8, 23286.1, 23286.4, 23286.4, 23286.4, 23286.4, 23286.5, 23286.5, 23286.5, 23286.7, 23286.8, 23290.9, 23290.9, 23290.9, 23294.3, 23296.7, 23299.7, 23321.2, 23321.4, 23334.7, 23350.9, 23371.6, 23379.8, 23380.3, 23380.6, 23412.6, 23437.1, 23437.1, 23447.9, 23448, 23448, 23480.7, 23480.7, 23490, 23493.1, 23495.2, 23495.3, 23496.1, 23515.8, 23515.8, 23515.8, 23521.3, 23521.6, 23521.7, 23521.9, 23521.9, 23521.9, 23522.1, 23522.3, 23547.9, 23549.4, 23568.2, 23568.3, 23570.5, 23577.7, 23583.4, 23583.9, 23583.9, 23585.3, 23585.3, 23585.7, 23585.7, 23585.7, 23586.1, 23586.4, 23586.4, 23606.4, 23606.4, 23606.4, 23633.4, 23639.1, 23647.1, 23647.4, 23656, 23656, 23662, 23662.1, 23662.1, 23663.9, 23664, 23664, 23664, 23664.2, 23665.5, 23670.7, 23670.7, 23694, 23694, 23694.1, 23694.1, 23694.1, 23696.2, 23700.3, 23701.8, 23701.8, 23707.1, 23707.4, 23707.4, 23708, 23708, 23708, 23708.2, 23708.2, 23708.2, 23709.3, 23719, 23725.8, 23725.8, 23727.8, 23731.2, 23731.2, 23740.1, 23740.2, 23744.5, 23744.5, 23744.6, 23746.2, 23746.3, 23752.6, 23770, 23770.8, 23770.8, 23772.3, 23772.3, 23772.3, 23800, 23800, 23801.7, 23801.7, 23809.5, 23831.2, 23835.5, 23835.5, 23835.5, 23837.1, 23837.1, 23847, 23847, 23847.2, 23847.2, 23861.4, 23862.2, 23895.1, 23909.2, 23909.6, 23909.6, 23910.7, 23910.8, 23910.8, 23910.9, 23910.9, 23911.3, 23925, 23927, 23929.8, 23934.2, 23934.3, 23934.4, 23936, 23947.7, 23947.7, 23948.5, 23980.8, 24002, 24002, 24002, 24002, 24002]), array([20762, 20763.3, 20763.3, ..., 23997.2, 24003.5, 24003.5]), array([20759.6, 20825.9, 20825.9, ..., 23965.1, 23965.1, 24003.7]), array([20757.5, 20761.7, 20762.7, ..., 24003.6, 24003.6, 24003.7]), array([20758.9, 20759.1, 20761.5, ..., 23975.3, 23983.7, 24001.7]), array([20759.2, 20759.4, 20759.6, ..., 23975.8, 23983.7, 23988.5]), array([20761.6, 20768.4, 20772.9, ..., 24003.7, 24003.7, 24003.8]), array([20834.9, 20879.9, 20879.9, 20880, 20976.9, 21012.9, 21116, 21122.9, 21130.5, 21134.6, 21146.6, 21150.3, 21150.4, 21207.1, 21208.7, 21209, 21209.1, 21265.7, 21308.4, 21308.8, 21346.4, 21371.8, 21420.9, 21424.9, 21427.1, 21428.3, 21428.4, 21428.7, 21447.5, 21479.4, 21479.4, 21480.9, 21484.6, 21517.3, 21517.3, 21517.3, 21555.8, 21568.6, 21580.9, 21585, 21585.3, 21585.3, 21585.8, 21586.1, 21586.5, 21587.2, 21593.5, 21593.6, 21643.4, 21643.4, 21654.2, 21686.2, 21783.1, 21783.2, 21809.6, 21816.1, 21847.1, 21847.1, 21849.2, 21864.3, 21880.5, 21884.5, 21884.5, 21887, 21935.5, 21963.9, 21992.2, 22002.6, 22002.6, 22002.6, 22002.7, 22002.7, 22002.8, 22002.8, 22003, 22003.2, 22003.3, 22003.5, 22003.9, 22004.4, 22004.4, 22004.5, 22004.5, 22004.5, 22004.5, 22004.6, 22015, 22045.2, 22048.5, 22048.6, 22056.8, 22057.4, 22086.6, 22243.8, 22254.1, 22254.1, 22269.3, 22306.4, 22323.7, 22326.7, 22341.3, 22375.1, 22376.8, 22376.8, 22403.5, 22403.5, 22425.3, 22469.5, 22529.2, 22533.2, 22533.2, 22533.2, 22569, 22583.4, 22583.4, 22583.4, 22583.5, 22583.5, 22583.5, 22583.8, 22624.5, 22624.5, 22624.5, 22624.5, 22624.5, 22624.5, 22631.8, 22637.3, 22637.3, 22637.3, 22637.4, 22665.2, 22665.2, 22666.3, 22677.8, 22681.1, 22688.3, 22704.1, 22810.1, 22812, 22812.4, 22823.5, 22873.2, 22873.2, 22873.2, 22875.5, 22875.5, 22875.5, 22875.5, 22932.6, 22957.1, 22957.2, 22957.2, 22957.2, 22957.2, 22960.3, 22960.4, 23048.7, 23052.3, 23052.3, 23052.3, 23079, 23088.7, 23103.9, 23103.9, 23103.9, 23104.5, 23147.4, 23147.4, 23147.4, 23147.4, 23147.5, 23159, 23181.4, 23181.4, 23258.4, 23259.5, 23259.5, 23275.8, 23275.8, 23275.8, 23367.4, 23383.1, 23383.1, 23383.1, 23383.1, 23397.7, 23398.5, 23398.9, 23398.9, 23399, 23399.1, 23399.4, 23399.4, 23412, 23412, 23429.5, 23556.8, 23590.3, 23595.3, 23614.9, 23616, 23616, 23620.5, 23633.4, 23657.1, 23661.5, 23662.4, 23677.7, 23677.7, 23677.7, 23716.3, 23730.7, 23743.3, 23766.4, 23766.4, 23839.2, 23839.6, 23839.7, 23839.9, 23839.9, 23840.3, 23840.3, 23840.4, 23840.4, 23840.4, 23840.4, 23840.5, 23840.5, 23840.6, 23840.7, 23840.7, 23840.7, 23840.8, 23840.8, 23840.8, 23841.1, 23841.2, 23841.3, 23841.3, 23841.4, 23841.4, 23841.5, 23842, 23842, 23842.1, 23842.1, 23842.5, 23842.5, 23842.6, 23842.6, 23842.6, 23842.8, 23843.7, 23844.1, 23844.1, 23844.1, 23844.1, 23844.2, 23844.3, 23844.4, 23844.4, 23844.4, 23844.6, 23845.8, 23845.8, 23845.8, 23845.9, 23845.9, 23845.9, 23846, 23846, 23846.1, 23846.2, 23846.2, 23846.2, 23847.4, 23847.5, 23847.5, 23847.5, 23847.5, 23847.6, 23905.2, 23905.2, 23968.2, 23969, 23969.1, 23969.2, 23969.2, 23969.2, 23969.3, 23969.3, 23969.4, 23969.4, 23969.4, 23969.5, 23969.5, 23969.6, 23970.3, 23970.6, 23970.6, 23970.7, 23970.7, 23970.8, 23970.8, 23970.8, 23970.8, 23970.9, 23970.9, 23970.9, 23971, 23971, 23971, 23971.1, 23971.1, 23971.1, 23971.2, 23971.2, 23971.4, 23971.4, 23971.5, 23971.6, 23972.3, 23972.3, 23972.3, 23972.3, 23972.3, 23972.4, 23972.5, 23972.8, 23972.8, 23972.8, 23972.9, 23973, 23973.5, 23973.5, 23973.5, 23973.5, 23973.5, 23973.5, 23973.6]), array([20758.6, 20758.8, 20759.5, ..., 23999.9, 24000, 24003.2]), array([20756.5, 20757.2, 20759.2, ..., 24001.7, 24003.5, 24003.6]), array([20756.1, 20757, 20758.8, ..., 24000.9, 24003.2, 24003.2]), array([20760, 20760.1, 20760.1, 20760.2, 20760.2, 20775.5, 20775.5, 20834.9, 20834.9, 20839.3, 20839.4, 20839.4, 20880.8, 20885.2, 20895.1, 20969.2, 20969.3, 20970.1, 20977.6, 20989.2, 20989.2, 21003.5, 21050.2, 21057.7, 21068.6, 21083.4, 21083.4, 21083.4, 21083.4, 21098, 21098, 21098, 21098, 21153.8, 21153.8, 21153.8, 21153.8, 21159.4, 21171.2, 21206.3, 21210.2, 21210.4, 21210.4, 21210.9, 21210.9, 21212, 21212, 21213.2, 21213.2, 21214.4, 21214.4, 21225.9, 21225.9, 21225.9, 21232.5, 21234.6, 21248.4, 21254.6, 21265.6, 21265.7, 21265.7, 21265.7, 21265.7, 21265.7, 21268.3, 21311.1, 21330.8, 21334.7, 21334.7, 21364.9, 21364.9, 21364.9, 21374.7, 21375.8, 21403.4, 21403.4, 21403.4, 21403.4, 21403.5, 21410.1, 21424.8, 21425, 21430.4, 21479.4, 21479.4, 21479.4, 21486.8, 21492.8, 21507, 21507.1, 21515.1, 21515.1, 21529.3, 21540.5, 21540.5, 21552.1, 21555.7, 21555.7, 21555.8, 21555.8, 21555.8, 21555.8, 21574.1, 21595.6, 21595.6, 21595.6, 21601.2, 21601.2, 21603.4, 21604.8, 21609.2, 21609.2, 21617.6, 21634.7, 21654.1, 21654.1, 21654.1, 21654.2, 21654.2, 21654.2, 21654.2, 21689.3, 21689.3, 21721.3, 21762.3, 21762.3, 21784.3, 21784.3, 21784.3, 21792.1, 21809.6, 21809.6, 21809.6, 21814.5, 21815.7, 21815.7, 21815.7, 21815.9, 21815.9, 21816.2, 21816.2, 21816.2, 21816.3, 21816.3, 21816.3, 21816.3, 21816.3, 21816.3, 21816.3, 21816.3, 21816.3, 21821.6, 21821.6, 21821.8, 21821.8, 21822.3, 21822.3, 21822.6, 21822.6, 21822.6, 21823.1, 21823.2, 21823.3, 21823.3, 21823.3, 21823.3, 21823.3, 21823.4, 21823.4, 21823.6, 21823.6, 21884.5, 21884.5, 21884.5, 21884.5, 21884.6, 21889.1, 21889.1, 21889.1, 21889.1, 21936.4, 21963.9, 21963.9, 21963.9, 21964, 21964, 21991.6, 21992.2, 21992.2, 21992.2, 21997.9, 22002.3, 22002.3, 22002.3, 22002.3, 22002.4, 22002.4, 22002.4, 22002.5, 22002.5, 22002.5, 22002.6, 22002.6, 22002.6, 22002.6, 22002.6, 22002.8, 22003, 22003, 22003, 22003, 22003, 22003.1, 22003.1, 22003.1, 22003.1, 22003.1, 22003.1, 22003.2, 22003.2, 22003.2, 22003.3, 22003.8, 22003.8, 22003.9, 22003.9, 22004.1, 22004.1, 22004.1, 22004.1, 22004.1, 22004.2, 22004.2, 22004.2, 22004.3, 22004.3, 22004.5, 22004.5, 22004.5, 22004.5, 22017.7, 22017.7, 22017.7, 22017.7, 22049.1, 22050, 22050, 22050.7, 22050.8, 22050.8, 22058, 22059.5, 22059.5, 22059.5, 22062.4, 22086.6, 22092.5, 22092.5, 22092.5, 22092.5, 22092.6, 22092.6, 22093, 22093, 22093.1, 22093.1, 22093.1, 22093.1, 22094.9, 22095.1, 22095.1, 22095.1, 22095.5, 22095.5, 22095.6, 22121.6, 22130.2, 22140.5, 22140.5, 22176.8, 22189.7, 22189.7, 22244.5, 22244.8, 22254.1, 22254.1, 22254.1, 22254.1, 22254.1, 22274.3, 22274.3, 22274.3, 22297.4, 22306.4, 22306.4, 22306.4, 22306.4, 22306.4, 22306.4, 22306.4, 22306.4, 22306.4, 22309.7, 22323.6, 22323.7, 22323.7, 22323.7, 22327.9, 22331.4, 22371.1, 22393.1, 22403.5, 22403.5, 22404.7, 22409.2, 22409.2, 22409.2, 22419.9, 22420.7, 22420.7, 22425.3, 22425.3, 22451, 22451, 22451, 22464.7, 22469.5, 22469.5, 22471.7, 22471.7, 22471.7, 22471.7, 22471.7, 22471.7, 22471.7, 22502, 22502, 22502, 22502, 22502.1, 22505.1, 22520.8, 22520.8, 22520.8, 22520.8, 22527.9, 22529.3, 22533.2, 22533.3, 22533.3, 22543, 22548.2, 22559, 22559, 22559, 22562.5, 22562.5, 22562.5, 22568.1, 22568.1, 22568.1, 22568.2, 22568.2, 22568.2, 22568.2, 22568.2, 22568.3, 22568.6, 22568.7, 22568.7, 22568.8, 22569.2, 22569.2, 22569.2, 22573.2, 22573.3, 22573.3, 22573.3, 22573.3, 22573.3, 22573.4, 22579.4, 22579.4, 22579.4, 22579.4, 22580.8, 22580.8, 22583.4, 22583.5, 22583.5, 22583.5, 22583.5, 22583.5, 22583.5, 22583.5, 22583.5, 22583.6, 22583.6, 22583.6, 22603, 22605.6, 22605.6, 22605.6, 22605.6, 22605.7, 22605.8, 22605.8, 22616.7, 22616.7, 22622.6, 22622.6, 22622.6, 22622.6, 22622.6, 22622.6, 22622.6, 22622.6, 22622.8, 22622.8, 22622.8, 22622.8, 22623.1, 22623.2, 22623.2, 22623.2, 22624.5, 22647.4, 22647.9, 22647.9, 22647.9, 22648.7, 22651.4, 22658.9, 22666.2, 22666.3, 22677, 22677, 22680.9, 22680.9, 22680.9, 22681.1, 22688.5, 22688.5, 22688.5, 22688.6, 22688.6, 22688.6, 22688.6, 22688.6, 22688.7, 22688.7, 22688.7, 22688.7, 22697.2, 22700.2, 22721, 22721, 22742.1, 22742.7, 22742.7, 22742.7, 22747.3, 22747.3, 22765.8, 22765.8, 22765.8, 22765.8, 22765.9, 22765.9, 22765.9, 22768.6, 22776.4, 22776.4, 22776.4, 22776.4, 22776.4, 22776.5, 22776.5, 22799.7, 22800.4, 22800.4, 22800.4, 22800.5, 22800.7, 22800.7, 22800.7, 22810.1, 22810.1, 22812.4, 22813.3, 22813.8, 22822.5, 22823.5, 22823.5, 22843, 22843, 22873.1, 22873.2, 22873.2, 22875.5, 22888.8, 22888.8, 22895.1, 22895.8, 22895.9, 22895.9, 22895.9, 22895.9, 22895.9, 22895.9, 22897.5, 22900.7, 22910.2, 22910.2, 22910.2, 22910.2, 22916.7, 22916.7, 22916.7, 22916.7, 22920.1, 22957, 22957, 22957, 22957.2, 22957.2, 22957.2, 22960.3, 22960.3, 22960.3, 22960.3, 22960.3, 22960.4, 22960.4, 23047.9, 23047.9, 23052.3, 23054.9, 23054.9, 23056.6, 23056.6, 23056.7, 23056.7, 23056.7, 23056.7, 23056.8, 23067.7, 23070.2, 23077.6, 23077.6, 23077.6, 23092.9, 23092.9, 23103.9, 23103.9, 23103.9, 23106.2, 23107.5, 23107.5, 23107.5, 23107.5, 23120.3, 23144.5, 23144.5, 23144.6, 23147.5, 23147.5, 23147.5, 23147.9, 23155.1, 23155.1, 23155.1, 23155.1, 23155.1, 23159, 23159, 23159, 23159, 23159, 23180.6, 23180.6, 23180.6, 23180.6, 23181.5, 23181.5, 23181.5, 23241.9, 23258.9, 23258.9, 23258.9, 23259.4, 23259.5, 23259.5, 23259.5, 23259.5, 23259.5, 23307.5, 23318.3, 23318.3, 23325.9, 23328.8, 23328.8, 23328.8, 23328.8, 23328.9, 23334.6, 23363.8, 23363.8, 23363.8, 23363.8, 23382.3, 23382.4, 23382.4, 23383.4, 23383.4, 23383.4, 23383.7, 23383.7, 23384.1, 23384.1, 23384.1, 23384.1, 23384.2, 23384.2, 23384.2, 23384.2, 23384.2, 23385, 23385, 23385, 23385.4, 23385.4, 23385.4, 23385.4, 23385.5, 23385.5, 23386.8, 23395.2, 23397.1, 23397.1, 23399.4, 23399.4, 23399.4, 23399.4, 23411.9, 23411.9, 23412, 23419.7, 23429.5, 23429.6, 23429.6, 23459.7, 23524.8, 23526.8, 23526.8, 23535.6, 23535.6, 23535.6, 23535.6, 23539.3, 23547.3, 23556.7, 23556.8, 23556.8, 23556.8, 23566.4, 23566.4, 23566.4, 23569.8, 23584.9, 23584.9, 23596.5, 23607, 23616, 23616, 23616, 23622.8, 23622.9, 23622.9, 23622.9, 23622.9, 23622.9, 23623, 23623, 23623.4, 23623.4, 23633.4, 23638.9, 23645.2, 23647.2, 23647.2, 23656.2, 23662, 23669.9, 23669.9, 23669.9, 23669.9, 23669.9, 23669.9, 23669.9, 23670, 23670.5, 23677.7, 23683, 23693.7, 23706, 23706, 23706, 23707.6, 23707.6, 23707.7, 23707.7, 23712.3, 23712.3, 23716, 23716.1, 23716.3, 23716.3, 23716.3, 23716.3, 23716.3, 23716.3, 23716.4, 23716.4, 23725.8, 23729, 23729, 23729, 23730.7, 23730.7, 23730.7, 23730.7, 23730.8, 23730.8, 23730.8, 23730.8, 23736.6, 23736.6, 23743.4, 23743.5, 23743.5, 23766.1, 23766.1, 23766.4, 23766.4, 23766.4, 23766.4, 23766.4, 23766.9, 23770.3, 23770.3, 23771.6, 23771.6, 23771.6, 23771.8, 23771.8, 23771.8, 23771.8, 23772.9, 23772.9, 23772.9, 23777.1, 23793, 23793, 23793, 23805.9, 23837.9, 23840.3, 23840.3, 23840.3, 23840.3, 23840.4, 23840.4, 23840.4, 23840.4, 23840.4, 23840.5, 23840.6, 23840.6, 23840.6, 23840.6, 23840.7, 23840.7, 23840.7, 23840.8, 23840.8, 23840.8, 23840.9, 23840.9, 23840.9, 23841.2, 23841.2, 23841.2, 23841.2, 23841.3, 23841.3, 23841.3, 23841.5, 23841.5, 23841.5, 23841.6, 23841.6, 23841.6, 23841.9, 23841.9, 23842, 23842, 23842, 23842.1, 23842.2, 23842.2, 23842.2, 23842.5, 23842.5, 23842.6, 23842.6, 23842.6, 23843.7, 23843.7, 23844.1, 23844.1, 23844.1, 23844.1, 23844.2, 23844.4, 23844.4, 23844.4, 23844.7, 23844.7, 23845.2, 23845.8, 23845.8, 23845.8, 23845.9, 23845.9, 23846, 23846.1, 23846.1, 23846.1, 23846.2, 23846.2, 23846.2, 23846.2, 23846.4, 23846.4, 23846.5, 23846.5, 23846.6, 23846.6, 23847.3, 23847.3, 23847.4, 23847.4, 23847.4, 23849.1, 23869.1, 23882.8, 23898.1, 23898.3, 23898.3, 23898.3, 23898.3, 23900.6, 23900.6, 23905.2, 23905.2, 23905.2, 23905.2, 23905.3, 23905.3, 23908.6, 23913, 23929.5, 23929.5, 23941.2, 23941.2, 23941.3, 23941.3, 23950.1, 23950.1, 23969, 23969, 23969, 23969.2, 23969.2, 23969.2, 23969.2, 23969.2, 23969.2, 23969.3, 23969.3, 23969.3, 23969.4, 23970.3, 23970.3, 23970.3, 23970.8, 23970.8, 23970.8, 23970.8, 23970.8, 23970.9, 23971, 23971, 23971, 23971, 23971.1, 23971.1, 23971.1, 23971.2, 23971.2, 23971.4, 23971.4, 23971.4, 23971.5, 23971.5, 23971.5, 23971.5, 23971.5, 23971.7, 23971.7, 23971.9, 23971.9, 23971.9, 23972, 23972, 23972, 23972.4, 23972.4, 23972.5, 23972.5, 23972.6, 23972.6, 23972.8, 23972.8, 23972.9, 23972.9, 23973, 23973, 23973, 23973.1, 23973.6, 23973.8, 23973.8, 23973.8, 23980.8, 23983.7, 24001.7, 24001.7, 24001.7, 24001.7, 24001.8]), array([20758.4, 20761.1, 20761.1, ..., 23983.7, 24001.8, 24001.8]), array([20920.1, 20920.1, 20997.7, 21003.5, 21003.5, 21003.5, 21165.5, 21172.3, 21180.4, 21248.5, 21255.4, 21255.4, 21372.2, 21395.7, 21395.8, 21395.8, 21396, 21396.1, 21396.5, 21396.6, 21397, 21399.7, 21400.5, 21401.3, 21404.5, 21404.8, 21404.8, 21404.8, 21404.9, 21405.1, 21405.1, 21405.3, 21405.3, 21405.4, 21405.4, 21405.4, 21405.6, 21405.7, 21406, 21406.6, 21406.8, 21406.9, 21406.9, 21407.3, 21408.5, 21408.5, 21409, 21409.1, 21409.2, 21409.6, 21409.7, 21409.9, 21410.2, 21412.6, 21412.7, 21412.9, 21417.8, 21419.9, 21420.3, 21420.3, 21420.4, 21420.4, 21420.8, 21421.3, 21421.3, 21427, 21427.4, 21427.5, 21427.8, 21428.3, 21428.3, 21428.3, 21438.1, 21438.1, 21438.8, 21441.4, 21441.5, 21441.5, 21443.6, 21445.5, 21445.6, 21445.6, 21445.6, 21445.6, 21445.7, 21445.7, 21445.9, 21446, 21446, 21446, 21448.8, 21450.3, 21450.3, 21454.1, 21454.5, 21454.6, 21454.6, 21454.7, 21454.7, 21454.8, 21454.8, 21458, 21458.3, 21458.4, 21458.4, 21458.8, 21458.8, 21458.8, 21458.9, 21458.9, 21458.9, 21459, 21459, 21461.6, 21464.5, 21464.5, 21465.6, 21470.8, 21471.9, 21471.9, 21473.4, 21480.5, 21481.7, 21488, 21489.5, 21490.4, 21490.4, 21490.4, 21490.5, 21490.6, 21490.6, 21490.6, 21498.6, 21498.7, 21498.7, 21499.2, 21499.3, 21499.3, 21499.5, 21499.5, 21499.5, 21507.3, 21507.3, 21507.3, 21507.7, 21508.4, 21508.5, 21508.5, 21508.9, 21508.9, 21509, 21509, 21509, 21509.3, 21509.4, 21509.4, 21510.2, 21510.2, 21510.7, 21510.8, 21511.2, 21511.2, 21511.2, 21511.5, 21511.5, 21511.5, 21511.8, 21511.8, 21514.2, 21514.2, 21516.3, 21516.5, 21516.6, 21518, 21518, 21519, 21522.1, 21522.1, 21522.5, 21522.6, 21522.6, 21522.6, 21524.4, 21524.5, 21524.5, 21526.2, 21547.4, 21550.1, 21550.1, 21550.7, 21553.1, 21553.1, 21553.8, 21553.8, 21558.3, 21559.2, 21564.1, 21583.1, 21583.1, 21583.3, 21584.5, 21584.5, 21663, 21687.1, 21719.5, 21729.3, 21862.1, 21862.2, 21862.2, 21862.9, 21863.1, 21864.6, 21864.6, 21864.6, 21883.3, 21883.6, 21883.6, 21885.2, 21886.3, 21889.1, 21899, 21899, 21900.8, 21931.1, 21964.8, 22041.4, 22041.4, 22041.4, 22041.4, 22062.4, 22115, 22115, 22115.5, 22115.5, 22115.5, 22136.9, 22183.4, 22188.6, 22212.4, 22213.1, 22213.8, 22213.8, 22213.8, 22215.3, 22215.3, 22215.3, 22215.3, 22252.8, 22297.4, 22311.9, 22362, 22399.2, 22399.2, 22406.4, 22409, 22425.5, 22425.6, 22432.8, 22432.8, 22432.8, 22432.8, 22439.1, 22439.1, 22439.1, 22487.2, 22496.1, 22512.1, 22525.2, 22525.4, 22525.4, 22541.9, 22568.3, 22573.5, 22579.1, 22579.1, 22598.2, 22609, 22631.8, 22648.7, 22648.7, 22680.6, 22686.4, 22686.4, 22742.1, 22742.1, 22746.2, 22746.6, 22761.8, 22779.9, 22779.9, 22779.9, 22802.3, 22802.4, 22802.4, 22802.5, 22811.4, 22811.6, 22811.6, 22811.6, 22812, 22900.7, 22914.9, 22914.9, 22914.9, 22914.9, 22915.2, 22982.2, 22982.2, 23019.9, 23023.4, 23023.5, 23057.1, 23087.6, 23088.1, 23106.2, 23121.2, 23174.8, 23180.8, 23317.3, 23418.9, 23459.3, 23485.5, 23488.9, 23488.9, 23526.7, 23533.9, 23536.7, 23536.7, 23544.3, 23544.6, 23544.6, 23552.9, 23552.9, 23622.1, 23633.4, 23647.3, 23647.3, 23656.3, 23656.3, 23662, 23663.9, 23666.7, 23673.1, 23679.2, 23713.9, 23731.8, 23731.9, 23737.6, 23737.6, 23737.6, 23771.4, 23774.4, 23774.6, 23777.1, 23895.1, 23895.3, 23978.6, 23978.6, 23978.6]), array([20756, 20756, 20756, ..., 24003.7, 24003.7, 24003.7]), array([20759.3, 20762.4, 20765.1, ..., 23988.5, 23995.9, 24003.6]), array([20761.8, 20762.3, 20765.9, 20779, 20779, 20790.5, 20801.6, 20831.4, 20838.3, 20838.3, 20838.5, 20838.5, 20838.5, 20838.5, 20838.6, 20838.6, 20838.8, 20838.8, 20839.1, 20840.9, 20841, 20882.2, 20918.3, 20918.3, 20923.2, 20930.6, 20947.1, 20966.7, 20966.8, 20966.8, 20966.8, 20966.8, 20966.9, 20966.9, 20966.9, 20966.9, 20967.1, 21005.7, 21029.7, 21035.8, 21035.8, 21054.7, 21056.2, 21056.2, 21058.1, 21062.8, 21080.3, 21081, 21088.9, 21101, 21101.1, 21101.5, 21101.5, 21102.3, 21103.1, 21103.1, 21112.8, 21113.3, 21114, 21114, 21114.2, 21114.3, 21114.3, 21141.9, 21165.5, 21165.5, 21191.7, 21208.7, 21209.2, 21220.5, 21221.8, 21241.5, 21297.9, 21297.9, 21342.9, 21346.7, 21347.4, 21354.9, 21374.7, 21374.7, 21386.6, 21387.3, 21409.9, 21410.9, 21411, 21411, 21411, 21411.6, 21415.9, 21436.5, 21479.2, 21492.5, 21513, 21517, 21527.4, 21555.3, 21555.3, 21555.3, 21555.4, 21555.4, 21578.6, 21614.8, 21686.1, 21691.7, 21694, 21694, 21807.3, 21807.3, 21807.3, 21807.4, 21807.4, 21807.4, 21807.4, 21807.5, 21807.5, 21807.5, 21807.5, 21807.6, 21810.4, 21815.1, 21870.6, 21891.7, 21891.8, 21894.6, 21900.8, 21901.1, 21901.1, 21906.5, 21906.9, 21906.9, 21907.4, 21907.5, 21907.5, 21907.6, 21907.7, 21907.8, 21907.9, 21908.4, 21926.8, 21936.7, 21938, 21938, 21940.9, 21955.6, 21955.6, 21988.3, 21989.9, 21990.8, 22001.3, 22001.9, 22012, 22031.1, 22039.6, 22076.9, 22083.7, 22090.1, 22090.1, 22116, 22121.8, 22124.9, 22125.5, 22147.6, 22147.6, 22157.4, 22157.4, 22170.4, 22170.8, 22172.2, 22243.6, 22243.6, 22243.8, 22253.2, 22253.2, 22253.2, 22253.2, 22326.7, 22355.3, 22371.2, 22427.8, 22428.7, 22438.8, 22438.8, 22521, 22521, 22556.3, 22556.3, 22616.2, 22616.2, 22616.3, 22631.8, 22631.8, 22637.1, 22670.7, 22687.5, 22697.3, 22697.3, 22704.1, 22714.5, 22740.9, 22740.9, 22741, 22741, 22741, 22767.6, 22769.7, 22772.5, 22787.4, 22787.7, 22789.9, 22789.9, 22794.4, 22794.4, 22800.3, 22802.3, 22811, 22839.3, 22894.5, 22909.4, 22909.4, 22909.4, 22914.7, 22915.2, 22931.6, 22940.9, 22984.2, 23010.8, 23017.6, 23048.7, 23054.8, 23054.9, 23054.9, 23104.4, 23104.5, 23104.9, 23107.5, 23121.2, 23206.2, 23227.1, 23261.4, 23262.8, 23262.8, 23262.8, 23262.8, 23289, 23294.3, 23313.6, 23317.1, 23324.7, 23325, 23325.3, 23340.7, 23350.6, 23370.2, 23388.5, 23390.3, 23390.3, 23390.4, 23390.4, 23391.9, 23399.2, 23426.1, 23455.3, 23455.6, 23455.6, 23455.8, 23456.3, 23456.5, 23456.8, 23456.8, 23457.3, 23457.4, 23461, 23461.6, 23461.8, 23461.9, 23461.9, 23462.4, 23463.4, 23463.5, 23464.9, 23480.7, 23480.7, 23506.8, 23512.9, 23529, 23540.2, 23590.7, 23639.1, 23639.9, 23659.9, 23693.7, 23693.7, 23701.8, 23701.8, 23701.8, 23709, 23710.2, 23710.2, 23728.3, 23728.3, 23729.1, 23737.4, 23738.6, 23740.9, 23743.3, 23743.6, 23743.6, 23743.6, 23769.6, 23773.1, 23773.1, 23789, 23882.7, 23888.4, 23888.4, 23896, 23914.2, 23914.2, 23930.1, 23966.6, 23980.7]), array([20761.5, 20761.6, 20763.3, 20764.3, 20765.9, 20766, 20772.4, 20793.9, 20804, 20808.5, 20817, 20819.1, 20824, 20837.5, 20837.7, 20837.7, 20837.8, 20838, 20838.2, 20838.2, 20838.5, 20840.8, 20840.8, 20841, 20841, 20841.1, 20841.2, 20841.4, 20841.5, 20841.5, 20841.5, 20841.8, 20841.9, 20856.1, 20859.5, 20859.6, 20872.7, 20872.7, 20872.7, 20885.2, 20885.2, 20888.9, 20895.1, 20895.2, 20920, 20920, 20920, 20920, 20920, 20923.2, 20930.5, 20953.5, 20960.7, 20997.7, 20997.8, 20997.8, 20997.8, 20997.8, 20997.9, 21006.7, 21016.6, 21020.9, 21023.6, 21026.5, 21026.5, 21026.5, 21051.4, 21052.8, 21054.5, 21056.9, 21068.2, 21073, 21089, 21093.9, 21098.1, 21112, 21112.1, 21112.1, 21112.4, 21112.5, 21112.5, 21113.3, 21144.3, 21147.3, 21151.4, 21159.4, 21159.4, 21165, 21210.5, 21210.8, 21210.8, 21214.7, 21223.8, 21225.4, 21234.2, 21236.2, 21239, 21239, 21239.7, 21244.7, 21255.4, 21255.4, 21255.4, 21255.4, 21267.8, 21273.4, 21289.4, 21316.1, 21319.9, 21323, 21326.4, 21326.4, 21329.4, 21334.9, 21334.9, 21334.9, 21334.9, 21334.9, 21344.8, 21347.4, 21354.9, 21372.2, 21380.8, 21380.8, 21380.8, 21380.8, 21380.8, 21380.8, 21394.2, 21394.7, 21395.7, 21396.4, 21396.4, 21402.4, 21402.4, 21403.4, 21405.9, 21406.7, 21408.5, 21412.1, 21424.8, 21434.1, 21460.6, 21486.8, 21492.6, 21493.6, 21493.6, 21495.8, 21516.8, 21517.3, 21536.3, 21556.9, 21557.9, 21558.3, 21558.3, 21558.4, 21558.4, 21558.4, 21558.5, 21558.5, 21558.5, 21586.2, 21586.6, 21588.1, 21588.2, 21588.2, 21588.2, 21588.6, 21590.8, 21591.8, 21597.8, 21603.3, 21603.5, 21661.9, 21670.5, 21678, 21687, 21687.1, 21696.9, 21696.9, 21699.3, 21703.5, 21709.4, 21709.4, 21709.5, 21719.5, 21729.3, 21732.6, 21751.6, 21751.6, 21771.2, 21772, 21772.2, 21772.3, 21772.4, 21772.4, 21772.7, 21772.7, 21772.8, 21773.7, 21776, 21779.1, 21779.7, 21795.4, 21795.4, 21806.9, 21806.9, 21807.5, 21810.1, 21816.2, 21834.5, 21842.8, 21853.1, 21853.1, 21853.7, 21865.2, 21865.2, 21865.3, 21872, 21873.6, 21888.9, 21889.2, 21889.2, 21889.7, 21891.7, 21891.7, 21900.8, 21900.8, 21900.9, 21902.5, 21906, 21906, 21906.1, 21906.3, 21906.4, 21906.5, 21906.7, 21909.5, 21909.6, 21909.6, 21909.7, 21909.8, 21910.1, 21914.7, 21924.9, 21929.6, 21944.2, 21944.2, 21944.2, 21944.2, 21944.2, 21960.4, 21964, 21964.6, 21964.7, 21980.3, 21980.4, 21991.5, 21993.3, 22007.9, 22009.9, 22010.1, 22010.9, 22012.9, 22017.4, 22017.6, 22017.6, 22017.6, 22017.7, 22017.7, 22028.6, 22030.1, 22036.9, 22037, 22037.1, 22039.9, 22040.1, 22041.6, 22042.5, 22068.3, 22090.1, 22090.6, 22099, 22099.1, 22100.4, 22122, 22122.5, 22123.9, 22124, 22130.7, 22130.8, 22131.3, 22143.3, 22143.7, 22143.7, 22178.2, 22178.3, 22178.4, 22178.4, 22185, 22185.1, 22216.3, 22216.5, 22235.4, 22252.7, 22252.8, 22266.8, 22269, 22277, 22281.8, 22288.7, 22290.4, 22306.8, 22309, 22312.1, 22312.1, 22312.3, 22323.7, 22361.8, 22361.9, 22361.9, 22361.9, 22361.9, 22362.1, 22362.1, 22362.2, 22362.2, 22393.1, 22399.2, 22404.7, 22409, 22409.1, 22409.5, 22414.9, 22420.4, 22422.6, 22425.1, 22425.1, 22425.3, 22425.5, 22425.6, 22427.8, 22429.7, 22429.7, 22429.7, 22432.7, 22432.8, 22446.1, 22447.4, 22451, 22464.2, 22464.2, 22464.2, 22468.9, 22469, 22469.5, 22469.5, 22472.8, 22477, 22489.1, 22500.8, 22502, 22502.9, 22503.1, 22512.4, 22520.2, 22520.5, 22521, 22528.1, 22536.5, 22545, 22549.2, 22564.9, 22568.1, 22572.4, 22573.6, 22573.8, 22573.8, 22577.9, 22577.9, 22580.4, 22580.7, 22583.9, 22600.9, 22603.7, 22605.9, 22611.5, 22623.3, 22623.3, 22636.4, 22636.9, 22636.9, 22636.9, 22636.9, 22637, 22637.6, 22637.7, 22637.7, 22646.2, 22648.8, 22651.7, 22688.6, 22688.6, 22694.5, 22710.5, 22716.1, 22716.1, 22724.4, 22740.7, 22742.1, 22742.1, 22742.3, 22742.3, 22742.3, 22742.8, 22743, 22745.6, 22745.7, 22765.8, 22765.8, 22766.1, 22766.1, 22769.8, 22776.4, 22776.9, 22779.6, 22779.8, 22779.8, 22779.9, 22779.9, 22780.1, 22780.1, 22780.2, 22783.9, 22789.8, 22789.8, 22789.8, 22803, 22806.9, 22807.5, 22810.1, 22811.5, 22812.2, 22818.7, 22818.7, 22822.8, 22827.3, 22857, 22865.2, 22867.9, 22867.9, 22873.1, 22873.2, 22884, 22888.4, 22894.5, 22895.7, 22895.7, 22898.2, 22902.7, 22909.2, 22912.1, 22912.1, 22914.8, 22915.2, 22931.8, 22931.9, 22931.9, 22937.7, 22937.9, 22945.7, 22956.7, 22960.2, 22960.2, 22960.2, 22982.2, 22982.2, 22982.2, 22982.2, 23010.5, 23017.4, 23017.4, 23017.5, 23020, 23048.7, 23048.7, 23055.7, 23055.7, 23055.9, 23055.9, 23055.9, 23075.3, 23075.4, 23087.5, 23087.6, 23087.7, 23087.7, 23087.7, 23088.1, 23093.5, 23102, 23105.5, 23107.5, 23121.2, 23144.6, 23144.7, 23156.1, 23158.9, 23158.9, 23158.9, 23158.9, 23162.9, 23174.7, 23174.8, 23174.8, 23174.8, 23174.8, 23193.1, 23225.1, 23236.9, 23241, 23241.2, 23241.2, 23242.2, 23259, 23259.3, 23259.3, 23259.3, 23259.3, 23259.7, 23262.6, 23270.9, 23270.9, 23285.2, 23285.6, 23291.5, 23309.1, 23313.3, 23313.4, 23313.5, 23313.6, 23313.6, 23313.7, 23314.8, 23314.8, 23314.8, 23320.3, 23328.7, 23331.2, 23331.2, 23340.2, 23347.7, 23363.2, 23369.4, 23369.9, 23373, 23415.7, 23419, 23423.2, 23423.2, 23423.2, 23423.2, 23429.6, 23435.3, 23447.8, 23447.9, 23447.9, 23480.8, 23490.7, 23504.7, 23505.4, 23505.4, 23505.4, 23515.7, 23521, 23521.3, 23521.4, 23526.6, 23526.6, 23526.8, 23556.8, 23556.8, 23566.1, 23569.5, 23569.8, 23573.5, 23595.6, 23595.6, 23606.2, 23616.2, 23616.2, 23616.2, 23616.2, 23630.6, 23633.4, 23639.1, 23639.8, 23639.8, 23644.4, 23647.3, 23647.3, 23656.3, 23656.3, 23656.3, 23659.9, 23661.3, 23661.4, 23661.4, 23662, 23670.1, 23670.1, 23670.1, 23673.1, 23679.2, 23680.5, 23681.8, 23681.8, 23693.1, 23693.7, 23696.2, 23701.4, 23702.1, 23702.3, 23709, 23709, 23713.8, 23713.8, 23713.8, 23713.9, 23714, 23714, 23714, 23716.4, 23716.4, 23725.8, 23725.8, 23727.8, 23731, 23731.8, 23731.8, 23731.8, 23731.9, 23734.7, 23740, 23740.2, 23740.3, 23746.2, 23746.2, 23763.1, 23763.4, 23766.5, 23766.5, 23770, 23774.6, 23774.6, 23777.1, 23777.1, 23777.2, 23777.2, 23777.2, 23785.8, 23786.9, 23790.5, 23829.8, 23829.8, 23830.9, 23830.9, 23830.9, 23830.9, 23841.6, 23841.6, 23845.9, 23861.7, 23905.1, 23908.3, 23933.4, 23972, 23978.5, 23978.6, 24001.7, 24001.9, 24003.5]), array([20762.4, 20762.4, 20821, ..., 23987.7, 23995.4, 23995.5]), array([20756.5, 20756.6, 20756.6, ..., 23994.5, 23994.6, 24003.5]), array([20764.6, 20764.6, 20765.4, ..., 24003.7, 24003.7, 24003.7])], _ratemap_spiketrains_pos=[[array([-43.7756, -45.3347, -54.1795, ..., -50.2597, -45.3502, -45.3502]), array([-33.1726, -29.5718, -16.4077, ..., 70.8117, 64.1508, 64.1508])], [array([-55.3875, -52.8673, -52.8419, ..., -45.3502, -45.3502, -45.3502]), array([9.15477, 27.8924, 27.8782, ..., 64.1508, 64.1508, 64.1508])], [array([-25.9877, -34.0833, -55.5579, ..., 9.91846, 6.80505, -45.3502]), array([-42.853, -38.2427, -7.16349, ..., -46.9004, -48.7598, 64.1508])], [array([-55.556, -55.2084, -56.5007, ..., -45.3502, -45.3502, -45.3502]), array([15.6918, 37.4155, 36.9867, ..., 64.1508, 64.1508, 64.1508])], [array([46.3196, 46.4794, 49.8791, 44.2104, 50.1842, 46.7161, 47.0088, 47.166, 47.141, 50.1479, -50.3897, -50.3878, -50.3852, -50.3822, -50.3805, -50.8764, -50.8076, -50.8095, -56.3465, -46.2109, -46.1838, -46.1426, 54.3973, 54.3967, 54.3888, -49.7842, -53.1702, -53.1802, -52.5509, -52.9209, 56.0318, 50.9666, 52.3316, 52.3693, 53.0132, 53.007, 53.0005, 52.9479, 52.9587, 52.9714, -50.604, -50.5872, -52.7813, -49.5821, -49.5817, -54.7394, -54.754, -53.1237, -54.6615, -54.7458, -52.5786, -52.5896, -52.598, -50.4065, -50.4135, -51.2699, -53.0418, -53.0411, -53.0399, -53.0362, 46.4696, 46.4709, 49.4482, 51.1219, 54.6617, 54.7191, 55.4105, 55.4603, 51.933, 51.8658, 52.0628, 52.0761, 52.9474, 53.0469, 53.0474, 53.0477, -46.4412, 51.4384, 52.0579, 52.5877, 52.9435, 53.2626, 53.2968, 53.9389, 53.0038, 44.4104, 42.7974, 53.1833, 53.1875, 53.1897, 53.1181, 53.1158, 53.113, 53.1094, 53.5201, 53.5133, 54.1137, 54.5972, 49.9343, 49.9292, 49.922, 49.7512, 49.7534, 49.7553, 49.7584, 50.2286, 49.984, 49.9772, 54.2342, 52.8059, 52.6422, 52.5996, 53.2916, 52.9261, 52.8998, 52.5415, 52.5148, 51.8799, 54.0918, 54.1143, 54.1193, 53.6991, 53.64, 53.4545, 53.309, 52.5424, 52.5126, 52.4998, 52.4609, 52.6731, 52.7162, 53.25, 53.3504, 53.4511, 53.6241, 53.9681, 54.005, 54.0202, 54.0185, 54.0071, 53.9816, 53.9326, 53.5193, 53.4746, 53.3842, 53.3477, 53.1862, 52.5009, 52.4933, 53.5287, 53.1911, -74.5896, -55.3757, 55.1348, 55.3186, 55.244, 54.1846, 54.0695, 53.9327, 44.794, 44.7975, 44.8014, 53.542, 53.5436, 53.5468, 53.6557, 53.6482, 53.608, 53.4134, 53.3851, 53.342, 53.2808, 52.6096, 52.5825, 52.5578, 52.7652, 52.7727, 52.7917, 52.8299, 53.0344, 53.3289, 53.3221, 53.3047, 53.2709, 53.0143, 52.9942, 52.91, 52.8167, 52.8079, 53.0674, 53.2446, 53.3124, 53.4282, 54.0589, 54.1058, 53.4663, 53.6335, 53.9486, 54.5107, 54.7607, 54.9522, 55.4976, 55.4481, 55.4401, 55.4297, 55.2951, 55.288, 55.27, 55.1569, 55.1496, -50.0596, 50.6808, 54.3269, 53.0993, 53.0428, 53.2575, 47.3983, 48.5667, 48.5695, 48.6539, 48.7001, 48.705, 52.3317, 52.602, 52.6075, 52.3973, 52.6617, 52.6035, 52.5739, 53.0262, 53.0842, 53.1646, 53.1428, 53.1303, 53.0499, 53.0467, 53.055, 53.0669, 53.2842, 53.2977, 53.2991, 53.2949, 53.2859, 53.2702, 53.2841, 53.4947, 53.5262, 53.534, 53.518, 53.5531, 53.7459, 54.0114, 54.0665, 54.0845, 54.1699, 54.1681, 54.1702, 54.1759, 54.196, 54.3105, 54.3242, 54.321, 54.3085, 53.934, 53.8816, 53.831, 53.8956, 53.7544, 53.76, 53.6863, 53.6769, 53.2673, 55.8501, 56.3, 56.3239, 56.5523, 56.6465, 54.7584, 52.9426, 59.9431, 56.6026, 52.4548, 52.514, 52.6743, 53.5913, 53.6522, 53.6893, 54.5654, 54.5962, 56.3715, 56.4437, 58.321, 58.3693, 58.4921, 59.8248, 59.8638, 59.9352, 60.152, 60.9394, 60.9646, 61.1483, 61.2903, 61.2873, 61.3045, 61.3139, 61.3028, 61.3031, 57.536, 57.1629, 56.7576, 55.0708, 54.7117, 53.0697, 51.6187, 51.6037, 51.3905, 51.3854, 51.3531, 51.4397, 51.4682, 51.506, 52.8656, 52.8989, 52.9072, 52.9024, 52.7727, 52.7101, 52.6728, 52.6077, 52.7132, 52.8184, 52.8837, 53.1814, 53.1843, 53.1919, 53.6293, 53.6394, 53.6279, 53.6302, 53.5002, 53.5342, 54.6763, 55.1884, 55.1763, 62.0659, 61.4613, 61.0684, 59.4891, 59.402, 59.3136, 59.0978, 58.4472, 56.6235, 55.822, 55.0792, 54.9314, 53.9938, 56.288, 55.8423, 53.6046, 53.6027, 57.7956, 54.8954, 48.3242, 50.027, 50.0401, 50.108, 50.1094, 50.626, 50.6483, 49.1397, 47.9092, 47.843, 47.8416, 47.8373, 47.8258, 47.8145, 48.5141, 51.5674, 50.8551, 50.9545, 51.4455, 51.5324, 51.7129, 51.8916, 52.4737, 51.1529, 52.3947, 53.8958, 53.8672, 52.9012, 52.8725, 52.8547, 53.0208, 53.3696, 53.3683, 53.3661, 53.2172, 53.2182, 53.2198, 53.0933, 53.2342, 53.2544, 53.306, 53.8712, 54.0156, 54.1725, 53.9379, 53.8556, 53.7816, 53.7106, 53.6417, 53.3842, 53.379, 53.4, 53.4332, 53.4803, 53.4496, 53.426, 53.4367, 53.4622, -48.394, -49.0962, -49.1023, -48.5063, -48.5226, -48.5447, -50.3079, -50.3131, -49.0442, -49.1496, -49.1484, -49.1437, -49.1394, -51.7067, -46.8667, -46.82, -46.8207, -46.8213, -42.0005, -41.9861, -41.9806, -41.7624, -41.7628, -41.7628, -41.7202, -42.2467, -42.2468, -42.247, -42.2472, -42.3339, -42.3345, -42.3346, -42.3863, -42.3866, -42.4168, -42.4169, -42.417, -42.4171, -42.419, -42.458, -42.4583, -42.4586, -47.7336, -47.6774, -64.7539, -64.7008, -64.5633, -64.5622, -64.559, -64.2997, -53.855, -53.8579, -50.8406, -50.8387, -50.8415, -50.6925, -50.6749, -51.1753, -51.1749, -51.1742, -51.1685, -51.1327, -51.1348, -51.1405, -51.139, -51.1563, -50.7314, -50.7319, -50.8327, -50.8392, -50.8401, -50.8414, -50.8425, -51.2691, -51.2687, -51.2678, -51.2674, -42.7947, -42.7951, -42.7953, -42.7956, -42.938, -42.9384, -42.9393, -43.1458, -43.1432, -42.2004, -42.2006, -42.2007, -42.2008, -42.213, -42.2131, -42.2131, -42.2481, -42.442, -42.0143, -42.0139, -42.0133, -42.0129, -42.0179, -42.0087, -42.0082, -42.0079, -42.0078, -42.8317, -42.7673, -42.8416, -42.8943, -42.8946, -42.8962, -42.8963, -42.8965, -42.8967, -42.3564, -42.3548, -42.3548, -42.331, -42.331, -42.3309, -42.3309, -42.3306, -42.3306, -42.3306, -42.3306, -42.3253, -42.3253, -42.3896, -42.3899, -42.3901, -42.3909, -42.6015, -42.6029, -42.6046, -42.6072, -42.6155, -42.0511, -42.0335, -41.6431, -41.6434, -41.644, -41.6445, -41.6451, -41.6489, -41.7149, -41.7116, -41.7076, -41.6991, -41.6959, -41.6952, -41.4907, -41.4913, -41.3609, -41.3669, -41.3795, -41.2688, -41.2772, -41.5178, -40.8845, -40.6296, -40.5766, -40.5735, -40.5711, -40.5517, -41.6536, -42.0289, -42.4988, -42.5006, -42.1104, -42.1089, -42.1062, -42.1522, -41.9568, -41.9687, -42.2184, -42.2229, -42.2255, -42.5695, -52.6242, -52.6251, -52.6257, -52.6263, -52.6251, -66.4062, -66.4105, -50.5196, -50.5247, -50.528, -50.5297, -50.5326, -51.2737, -51.2715, -51.2701, -54.3633, -54.3557, 52.0704, 52.1812, 52.2465, 52.3279, 52.4926, 44.656, 44.6695, 44.5628, 52.354, 51.856, 51.5629, 52.9255, 53.0189, 54.9291, 54.7329, 54.7352, 54.7363, 53.5033, 53.3604, 53.3158, 53.2568, 52.2955, 52.1979, 52.0815, 52.0341, 52.136, 52.1929, 52.2444, 52.2684, 52.3011, 52.6372, 52.704, 52.7317, 52.981, 52.9833, 52.9796, 52.9679, 52.8588, 52.8217, 52.7782, 52.4085, 52.4265, 52.4567, 52.4809, -53.1019, -53.1039, -53.1068, -53.1105, -53.1727, -41.7346, -43.5896, -43.5851, -43.5715, -43.5665, -43.5647, -42.3373, -42.3356, -42.3356, -42.3172, -41.9707, -41.9707, -41.9708, -41.9709, 11.8765, 11.8765, 11.8774, 52.7474, 53.3976, 53.3791, 44.7887, 44.7852, 44.7814, 50.5528, 50.5503, 51.7221, 51.7128, 51.2844, 51.2569, 51.2058, 51.1832, 51.5511, 51.6754, 51.7562, 52.481, 52.4708, 52.4471, 52.4181, 52.3434, 52.127, 52.1305, 52.1492, 52.3232, 52.4081, 52.4046, 52.3836, 52.3554, 52.1493, 53.7716, 53.6396, 53.5617, 52.7881, 52.7175, 52.4908, 52.482, 52.4832, 52.6461, 52.6633, 52.6843, 52.7027, 52.7028, 52.7046, 52.9465, 53.0227, 53.1313, 53.1971, 53.289, 53.2865, 53.0228, 53.0258, 53.0392, 53.095, 53.0747, 53.0621, 52.9821, 53.0277, 53.094, 54.0474, 54.1044, 54.24, 54.3549, 54.374, 54.3368, 54.3288, 53.5545, 63.4516, 63.4604, 63.5033, 63.4993, 63.5133, 63.4761, 62.894, 62.6721, 62.1481, 62.0588, 60.7536, 54.1447, 54.0708, 53.3522, 50.9909, 50.9039, 50.4444, 50.2793, 49.6804, 49.5744, 49.4859, 49.5498, 49.7837, 51.4872, 51.8196, 51.9411, 52.3375, -42.9015, -42.8989, -42.7639, -42.7636, -42.7634, -42.7629, -42.8159, -42.8156, -42.8149, -42.8146, -42.8028, -42.5624, -42.6337, -42.6345, -42.6359, -42.6358, -42.4703, -42.4062, -42.4061, -42.4206, -42.2174, -42.2174, -42.2175, -42.2176, -42.162, -42.1762, -42.1226, -42.1229, -42.1233, -41.8629, -41.8661, -41.8655, -41.929, -41.9289, -41.9286, -41.9282, -41.947, -41.9463, -42.0095, -42.1273, 61.7995, 61.7796, 61.7386, 53.5209, 53.4709, 53.6641, 53.6104, 52.9838, 52.9483, 52.8942, 53.0127, 50.8411, 50.8835, 51.8303, 51.9108, 52.0545, 52.4183, 52.4146, 52.2421, 52.3094, 52.3258, 52.368, 52.6243, 52.6968, 52.7387, 52.7126, 53.3381, 53.3719, 53.2578, 53.2213, 53.2117, 53.1883, 53.1255, 53.1221, 53.1181, 53.1219, 53.0991, 53.093, 53.0959, 53.1, 53.0512, 53.0405, 53.0714, 53.0652, 53.0577, -41.781]), array([-17.9293, -17.7066, -10.3905, 71.2653, 81.6376, 74.3849, 75.4516, 75.7051, 75.7605, 83.8361, 67.0922, 67.0994, 67.1089, 67.1204, 67.1266, 66.903, 65.7952, 65.7935, 77.6373, 62.9696, 62.961, 62.9409, 82.6574, 82.6588, 82.6871, 71.1393, 58.7541, 58.7433, 59.7548, 59.5707, 83.5024, 84.5737, 38.6756, 38.5334, 33.6294, 33.6103, 33.5905, 34.0206, 34.0042, 33.9451, 71.9661, 71.9586, 69.77, 64.8705, 64.8514, 57.4124, 57.4036, 58.022, 56.6842, 56.6783, 57.9357, 57.9342, 57.9331, 59.0093, 59.0168, 59.1596, 57.6665, 57.6644, 57.6611, 57.6507, -19.561, -19.4371, -10.5557, -6.62495, 4.92887, 5.12341, 7.51486, 7.47492, 7.54107, 9.91239, 11.098, 11.1122, 8.27473, 6.60898, 6.58569, 6.56959, 78.6697, -4.14007, 4.74983, 8.34369, 9.76408, 10.9681, 11.0775, 13.5175, 29.8271, 76.2176, 72.9688, 81.5215, 81.5195, 81.5184, 81.5955, 81.5963, 81.5973, 81.5984, 81.5904, 81.5847, 81.593, 66.4919, 61.9826, 61.9782, 61.972, 62.2471, 62.2487, 62.2501, 62.2524, 63.0714, 63.423, 63.4493, 66.8436, 63.0828, 62.2161, 62.0591, 63.4799, 62.5787, 62.4226, 60.7583, 60.6684, 59.4345, 63.2461, 63.0929, 62.8955, 60.7763, 60.5286, 59.7317, 59.1762, 55.7654, 55.3429, 55.203, 54.9165, 51.74, 51.6122, 48.7773, 48.1917, 47.8376, 47.2247, 45.5056, 45.1211, 44.3346, 44.1649, 43.7226, 43.3256, 42.81, 40.8585, 40.5413, 39.3997, 39.0132, 37.9293, 35.6839, 35.6159, 30.701, 22.3151, 60.6009, 59.6478, 8.74339, 8.61261, 8.35222, 9.69835, 10.1057, 12.2382, 75.398, 75.3967, 75.399, 60.4362, 60.4211, 60.3914, 59.1553, 59.0992, 58.9434, 57.2865, 57.1474, 56.9418, 56.7578, 54.1709, 54.1325, 54.0747, 52.2868, 52.2197, 52.0495, 51.8912, 50.9302, 48.3298, 48.2331, 48.0352, 47.8656, 45.8754, 45.7753, 45.374, 44.8192, 44.5791, 42.2508, 41.2786, 40.9079, 40.2329, 34.7297, 33.7436, 28.0262, 23.2834, 22.2846, 21.4113, 21.3606, 21.3889, 21.2533, 21.2573, 21.262, 21.2681, 21.3468, 21.351, 21.3615, 21.4277, 21.432, 70.8104, -5.36999, 3.8715, 13.5333, 13.6512, 15.262, 78.9926, 66.9997, 67.0013, 66.8222, 66.7431, 66.7375, 60.0012, 60.0342, 60.0315, 55.4657, 57.9196, 57.9881, 58.0229, 56.1206, 55.8243, 55.435, 55.1088, 54.5911, 52.1391, 51.8809, 51.3091, 50.8375, 47.0635, 46.9151, 46.6655, 46.0578, 45.7196, 42.9978, 42.8368, 41.3596, 41.0353, 40.7489, 40.8104, 40.8417, 40.8583, 43.0552, 42.7564, 42.6842, 42.4442, 42.4203, 42.3453, 42.3248, 42.3131, 42.3048, 42.3099, 42.3813, 42.419, 41.7278, 41.1728, 40.0517, 36.7635, 31.3114, 31.1159, 27.7796, 27.492, -3.03112, 9.50218, 10.8549, 10.9566, 11.5486, 12.207, 14.4426, 16.2149, 74.2062, 61.7023, 59.9996, 59.9675, 53.9344, 52.8307, 52.712, 52.6223, 50.7756, 50.6545, 47.5821, 47.5952, 47.6236, 47.6286, 47.609, 47.4441, 47.4317, 47.4091, 47.3141, 46.8961, 46.8952, 46.8004, 46.6245, 46.6196, 46.6959, 46.7113, 47.288, 47.2781, 51.4508, 51.4278, 51.3723, 50.1979, 49.7132, 48.05, 49.6139, 49.6952, 50.2315, 50.235, 50.2353, 50.4685, 50.5002, 50.5084, 48.2656, 47.8057, 47.4458, 46.9269, 44.6832, 44.3345, 44.1416, 43.8031, 40.797, 40.0472, 39.414, 36.8292, 36.6869, 36.3522, 33.8815, 33.6861, 33.5534, 30.6563, 28.0971, 27.8267, 23.0072, 19.1621, 19.156, 21.4137, 22.4379, 22.5839, 22.4042, 22.4161, 22.4282, 22.3935, 22.9276, 24.6428, 24.5856, 23.1885, 22.6465, 19.0849, 11.7853, 11.6066, 8.15679, 8.1766, 15.6927, 12.1739, 14.3716, 17.1312, 17.0915, 17.5993, 17.6801, 17.8334, 17.8346, 21.3069, 22.7849, 22.8549, 22.8836, 22.8982, 22.9165, 22.929, 24.8742, 27.1717, 37.1784, 37.2266, 37.6738, 37.8278, 38.298, 38.8855, 62.1997, 62.6643, 60.012, 56.6289, 56.6001, 54.0776, 53.9183, 53.6862, 50.5737, 49.0194, 49.0083, 48.9911, 45.4762, 45.4014, 45.2878, 45.0406, 43.9038, 43.882, 43.6371, 42.7871, 42.6923, 42.9264, 43.1964, 43.2157, 43.2115, 43.1402, 43.0516, 42.2345, 42.1653, 42.0055, 41.8994, 39.7574, 39.1948, 33.879, 33.4663, 33.2645, 63.3936, 63.2451, 63.2395, 64.2072, 64.1635, 64.1379, 61.7235, 61.721, 62.1705, 64.1576, 64.1585, 64.1441, 64.1292, 59.9113, 63.0929, 63.0876, 63.0781, 63.0714, 65.6947, 65.6681, 65.648, 65.5663, 65.5666, 65.5676, 65.554, 64.8331, 64.8331, 64.8332, 64.8332, 64.8598, 64.86, 64.86, 64.8759, 64.876, 64.8853, 64.8853, 64.8853, 64.8854, 64.8859, 65.1454, 65.1449, 65.1445, 64, 63.9342, 62.7213, 62.475, 62.0129, 62.0102, 62.0089, 62.0442, 68.9255, 68.9256, 65.2857, 65.2837, 65.2817, 64.0596, 64.0609, 64.346, 64.3464, 64.3475, 64.3501, 65.2037, 65.2043, 65.2111, 65.2176, 65.1849, 65.2834, 65.2835, 65.2786, 65.2997, 65.298, 65.2958, 65.2936, 65.3629, 65.3621, 65.3618, 65.3617, 63.2496, 63.25, 63.2502, 63.2505, 63.4066, 63.407, 63.408, 63.2183, 63.2185, 64.2578, 64.2572, 64.2569, 64.2566, 64.1887, 64.1888, 64.1888, 64.2019, 64.7307, 64.3057, 64.3062, 64.3067, 64.3071, 64.308, 64.3168, 64.3168, 64.3167, 64.3166, 62.6439, 62.6747, 62.7013, 62.3808, 62.3801, 62.3755, 62.3751, 62.3746, 62.374, 63.5563, 63.5578, 63.5579, 63.5808, 63.5808, 63.5808, 63.5808, 63.5811, 63.5811, 63.5811, 63.5812, 63.5862, 63.5862, 63.4004, 63.3998, 63.3993, 63.3977, 62.314, 62.3127, 62.3111, 62.3094, 62.3041, 65.8025, 65.8205, 65.2757, 65.2756, 65.2754, 65.2753, 65.2751, 65.2739, 65.2925, 65.294, 65.2955, 65.2994, 65.3013, 65.3022, 65.2762, 65.2764, 65.6538, 65.6524, 65.6494, 66.2681, 66.2591, 66.669, 68.5942, 65.8467, 67.1368, 67.144, 67.1496, 67.2163, 64.902, 67.3069, 65.0384, 65.0359, 65.3405, 65.25, 65.0785, 66.6083, 62.5618, 62.5493, 62.0868, 62.0785, 62.0737, 64.9438, 59.9092, 59.9091, 59.9086, 59.908, 59.9058, 61.8991, 61.9012, 65.1742, 65.1393, 65.1167, 65.1053, 65.086, 64.0207, 64.0224, 64.0235, 59.6255, 59.6282, 4.42696, 5.38148, 5.89566, 6.5314, 7.8835, 75.017, 75.0038, 75.7683, 62.5694, 60.8182, 59.766, 57.1095, 57.1278, 57.2012, 56.9225, 56.8771, 56.7855, 61.8682, 61.4621, 61.3227, 61.1419, 59.005, 58.9406, 58.8503, 58.0264, 57.9098, 57.8471, 57.7675, 57.7151, 57.6055, 56.0072, 55.7563, 55.6528, 53.8137, 53.5004, 52.4355, 51.0022, 48.7875, 48.6069, 48.4563, 44.9883, 44.6708, 44.1472, 43.7472, 60.904, 60.9012, 60.8959, 60.8865, 60.7597, 65.5415, 63.123, 63.128, 63.1409, 63.1458, 63.1485, 64.9942, 64.9948, 64.995, 65.0051, 64.2033, 64.203, 64.2026, 64.2024, -44.4186, -44.416, -44.4156, 9.94674, 15.2112, 15.4668, 73.4464, 73.4617, 75.1101, 70.7082, 70.732, 59.0159, 58.9958, 58.8532, 58.8477, 58.8411, 58.8381, 57.4392, 57.1292, 56.8793, 54.0033, 53.8529, 53.5803, 53.3745, 53.1777, 51.9004, 51.7963, 51.5876, 50.3415, 48.7175, 48.5652, 48.0765, 47.651, 44.9389, 45.9248, 46.1656, 46.3078, 47.1198, 47.1266, 47.6665, 47.6691, 47.6631, 46.9741, 46.8932, 46.7507, 46.4439, 46.2387, 46.1098, 44.1861, 43.8806, 43.4125, 42.9759, 41.8613, 41.688, 38.1701, 37.9558, 37.7366, 37.0977, 36.948, 36.9525, 37.6535, 37.7675, 37.9235, 38.9844, 38.9371, 38.7098, 38.4972, 38.438, 37.3984, 37.3305, 32.8404, 17.061, 17.088, 17.5985, 17.6097, 17.6446, 17.8342, 18.2503, 18.3284, 18.4387, 18.4511, 18.7234, 19.4059, 19.3416, 16.7131, 26.9553, 26.8344, 25.9983, 25.6771, 24.4283, 24.1516, 21.3287, 21.2575, 21.0409, 20.2035, 20.0081, 19.9364, 19.649, 64.1221, 64.1132, 64.2323, 64.2326, 64.2327, 64.2331, 64.1965, 64.1961, 64.195, 64.1943, 64.198, 64.2009, 64.1684, 64.1678, 64.1663, 64.1655, 64.25, 63.1047, 63.1045, 63.0987, 63.8343, 63.8343, 63.8341, 63.834, 63.8059, 63.8033, 63.7773, 63.741, 63.7409, 64.2895, 64.2812, 64.2851, 64.0597, 64.0598, 64.0601, 64.061, 64.0477, 64.0489, 62.8881, 62.1279, 0.343313, 0.33514, 0.316022, 2.00315, 7.42884, 9.48025, 9.94014, 12.8438, 13.0071, 14.456, 15.4096, 61.259, 61.2497, 61.2256, 61.19, 61.1179, 61.004, 60.9769, 58.4403, 57.0502, 56.8871, 56.4664, 54.0254, 53.513, 52.7168, 52.3907, 50.1436, 50.1295, 51.0092, 51.1236, 51.1564, 51.2358, 51.0285, 50.9866, 50.9316, 50.8894, 49.4527, 49.2241, 49.0791, 48.8793, 48.2665, 46.5246, 45.957, 45.8561, 45.6889, -44.1274])], [array([53.0954, 53.3069, -50.1065, -50.367, -50.3697, -50.3704, -50.3736, -50.845, -50.843, -50.8415, 7.25433, 7.24744, 7.24715, 7.24676, 7.24638, 7.22914, 7.22886, 7.22858, 6.99471, 7.00683, 7.02201, 8.01483, 8.02483, 8.03779, 8.05681, 7.09963, -46.032, -46.0324, -46.0334, -46.0445, -46.0462, -46.0475, -46.0454, 54.3772, 54.3764, 54.375, 54.3724, 54.371, 54.3705, 54.3703, 52.3656, 52.3659, 52.3662, 52.3666, 52.3669, 52.3693, 54.377, -41.1032, -41.1657, -41.1718, -45.4282, -45.4291, 34.415, 37.0343, 37.054, 37.0817, 37.1063, 37.1451, 40.9832, 40.1008, 39.9745, 34.1194, 34.0367, 33.8878, 33.4198, 33.1156, 33.0221, 32.6598, 31.5181, 31.4758, 31.2865, 31.2214, 31.1163, 30.2201, 30.0343, 30.0365, 30.0946, 14.0328, 14.1424, 14.1833, 14.2328, 17.0311, 17.0685, 17.1887, 18.1905, 18.3138, 18.369, 20.0173, 20.2117, 20.2662, 20.4517, 21.3646, 21.4551, 21.508, 21.5678, 21.6468, 22.9998, 23.0731, 23.1012, 22.7851, 22.7381, 22.6255, 22.5631, 22.5293, 22.5078, 22.5164, 22.5629, 22.6949, 22.6989, -19.3003, -19.2739, -19.1397, -19.0919, -14.6722, -54.4021, -54.4309, -54.4446, -54.4728, -22.4066, -1.73099, -1.56457, -1.34897, 2.06206, 2.19577, 2.25841, 1.03064, 52.6098, 58.4979, 56.3078, 56.3092, 56.3097, 56.3132, 52.1448, 63.2315, 52.0359, 60.3966, 59.6049, 59.5998, 59.5817, 59.581, 59.58, 59.5794, 59.4931, 59.3174, -50.729, -14.418, -54.1464, -54.1301, -54.1192, -54.0399, -67.5673, 21.4103, 21.4102, 21.4121, 22.255, 22.2572, 22.2597, 18.9022, 18.6789, 18.5631, 18.2507, 18.0929, 14.6367, 14.651, 14.6833, 15.1739, 15.1857, 15.1932, 15.4663, 15.468, 15.4693, 15.475, 15.4761, 12.7634, 12.8034, 12.8271, 13.5539, 13.6087, 13.6542, 4.67089, 5.03932, 5.05982, 6.7754, 6.79634, 6.81179, 9.39828, 9.44874, 10.8699, 10.8604, 10.855, 10.8561, 10.8629, 11.4064, 11.4443, 11.9005, 11.9071, 11.913, 11.9266, 11.9478, 11.968, 12.1476, 11.8634, 11.8496, 11.8155, 11.7894, 11.7501, 11.7107, 11.6848, 12.7377, 13.0573, 13.0922, -3.33913, 29.1026, 30.1347, 30.0808, 29.9547, 29.4237, 29.3973, 29.3605, 29.2772, 27.3843, 27.3442, 27.2647, 27.2529, 54.261, 54.2589, 54.2543, 54.2503, 54.2492, 54.2598, 53.4131, 54.0925, 54.0917, 54.0902, 40.3534, 40.9617, 9.37099, 11.795, 12.0421, 12.0371, 12.0342, 18.3643, 45.5901, 59.729, 59.7233, 59.7212, 59.8257, 44.6644, -48.603, -49.886, -52.3473, -52.2679, -52.1942, -46.8412, -41.7686, -41.762, -41.7604, -41.758, -41.7543, -41.7522, -42.2661, -42.2663, -42.2664, -42.2665, -42.2666, -42.3737, -42.3738, -42.3739, -42.3742, -42.4396, -42.4402, -42.4405, -42.441, -42.4412, -42.4443, -42.447, -47.3759, -64.5671, -64.5559, -64.5543, -64.5531, -64.5516, -64.5454, -64.5353, -50.8883, -50.8896, -51.0744, -51.1081, -51.1018, -51.0967, -51.0941, -51.2155, -51.227, -51.2289, -51.2306, -51.2375, -51.2612, -51.2823, -51.2833, -51.2848, -42.5126, -42.5134, -42.5158, -42.5163, -42.798, -42.8705, -43.0463, -43.0577, -43.0853, -43.0853, -43.0853, -43.0854, -43.0854, -42.263, -42.2631, -42.2632, -42.2632, -42.2632, -42.2633, -42.0136, -42.0143, -42.0149, -42.016, -42.0319, -42.0324, -42.0175, -42.9109, -42.9039, -42.0498, -42.0528, -42.0542, -42.0557, -42.0593, -42.0986, -42.8266, -42.8269, -42.8271, -42.8273, -42.8323, -42.8325, -42.9145, -42.9307, -43.0664, -42.3513, -42.2959, -41.4812, -41.6402, -41.4279, -41.4281, -41.4284, -41.4285, -41.4285, -41.4282, -41.3082, -41.3049, -41.2906, -42.172, -42.5764, -42.6612, -42.6657, -42.6668, -42.668, -42.6697, -42.6706, -42.4447, -42.5018, -56.5007, -56.503, -50.0586, -50.0611, -50.0631, -50.0656, -50.1179, -50.1238, -50.1333, -50.9776, -50.9757, -50.9723, -50.97, -50.9685, -54.591, 38.338, 28.7287, 10.1133, 4.27251, 3.68436, 7.09998, -41.9092, 53.6568, 63.2308, -49.7411, -42.94, -42.9419, -42.943, -42.9454, -41.9983, -41.9988, -41.9993, -41.9997, -42.001, -42.4097, -42.4107, -42.4112, -42.4119, -42.4119, -42.4114, -42.1828, -42.1827, -42.1304, -42.1298, -42.1293, -42.1288, -42.128, -42.1159, -41.9342, -41.9412, -41.9391, -41.9388, -41.9385, -56.319, 62.6202, 49.3619, 49.1612, 46.1903, 46.0386, 45.9316, 41.181, 41.1619, 41.146, 41.1361, 41.1298, 40.2937, 40.2178, 39.7974, 35.6234, 35.5253, 35.3369, 34.414, 33.8704, 33.7939, 31.5399, 37.4464, 43.4547, 43.3666, 42.4197, 42.067, 42.0697, 42.3036, 42.3213, 42.762, 42.4891, 42.5019, 42.4874, 42.4637, 42.3637, 42.3594, 47.5959, -50.0484]), array([80.7674, 85.273, 71.7436, 67.0628, 67.0149, 67.0008, 66.9422, 66.9177, 66.9186, 66.9193, -41.232, -41.2115, -41.2106, -41.2094, -41.2083, -41.1569, -41.156, -41.1552, -41.4966, -41.5433, -41.6017, -43.5422, -43.6469, -43.7599, -43.9257, -45.5218, 62.9483, 62.9415, 62.9394, 62.9182, 62.9157, 62.9151, 62.9262, 82.5981, 82.595, 82.5929, 82.589, 82.5868, 82.579, 82.5643, 78.5083, 78.5078, 78.5071, 78.506, 78.5054, 78.4996, 79.478, 61.8759, 61.7445, 61.7443, 62.6964, 62.6844, -36.5529, -39.0861, -39.183, -39.2346, -39.2803, -39.3526, -42.1063, -43.8955, -44.0721, -48.6038, -48.6481, -48.728, -48.9521, -49.0817, -49.1209, -49.2782, -49.7242, -49.748, -49.8449, -49.8777, -49.9305, -50.3959, -50.3313, -50.3245, -50.2902, -46.6957, -46.9348, -47.0183, -47.1195, -51.2943, -51.3023, -51.328, -51.7179, -51.7067, -51.7017, -51.3617, -51.2974, -51.2804, -51.2307, -51.7365, -51.7708, -51.7847, -51.7918, -51.8011, -52.3648, -52.3902, -52.3989, -52.5981, -52.6132, -52.6584, -52.6763, -52.6852, -52.7022, -52.702, -52.7005, -52.6387, -52.6308, -56.6816, -56.6746, -56.6864, -56.6965, -56.4007, 57.6015, 57.5941, 57.591, 57.5846, -41.6312, -48.8622, -48.8962, -48.9403, -49.6877, -49.6975, -49.7021, -52.3939, 78.5049, 75.7715, 77.7267, 77.7261, 77.726, 77.7272, 82.4983, 79.4566, 81.9401, 75.8464, 80.8059, 80.805, 80.7936, 80.7926, 80.7908, 80.7877, 80.6986, 80.5633, 72.3513, -51.9282, 57.6248, 57.5826, 57.5545, 57.4672, 68.4095, -40.5216, -40.5202, -40.5266, -43.2123, -43.354, -43.4825, -51.1441, -51.3048, -51.3904, -51.6238, -51.7502, -55.1362, -55.1176, -55.1012, -55.0732, -55.0666, -55.0598, -54.5118, -54.527, -54.5442, -54.5907, -54.5981, -57.8213, -57.8574, -57.8788, -58.1895, -58.2095, -58.2261, -49.0366, -51.6514, -51.7463, -55.3803, -55.4838, -55.5602, -57.5216, -57.521, -58.1442, -58.1564, -58.1636, -58.1751, -58.1825, -58.1886, -58.1905, -58.2584, -58.2663, -58.2742, -58.2969, -58.3446, -58.3951, -58.8817, -59.1485, -59.1497, -59.1612, -59.1812, -59.2053, -59.2237, -59.2538, -57.805, -57.7349, -57.7306, -46.3581, -37.1691, -40.5244, -40.8996, -41.3811, -43.4251, -43.5166, -43.6439, -43.8552, -45.3694, -45.3613, -45.3705, -45.3746, 80.8742, 80.8707, 80.8589, 80.8568, 80.8544, 80.8521, 81.4393, 81.6215, 81.6225, 81.6242, -37.6653, -38.9965, -56.483, -57.8134, -59.3243, -59.3665, -59.3904, -53.833, -29.9042, 73.7243, 73.7247, 73.7262, 73.7747, -42.1232, 63.3462, 62.5478, 59.496, 59.4891, 59.4839, 63.0228, 65.5776, 65.5802, 65.5802, 65.5802, 65.5762, 65.5686, 64.839, 64.8391, 64.8391, 64.8391, 64.8392, 64.8721, 64.8721, 64.8721, 64.8722, 65.1728, 65.1719, 65.1714, 65.1706, 65.1703, 65.1657, 65.1618, 63.5705, 62.0057, 61.9982, 61.9959, 61.994, 61.9917, 61.9845, 61.9773, 64.2589, 64.2563, 64.3459, 64.3898, 64.3913, 64.3936, 64.3968, 65.2323, 65.1944, 65.1881, 65.1825, 65.1668, 65.3511, 65.3522, 65.3529, 65.3539, 62.9404, 62.9412, 62.9439, 62.9444, 63.2531, 63.3326, 63.5271, 63.5239, 63.5163, 63.5163, 63.5163, 63.5163, 63.5162, 64.2075, 64.2075, 64.2075, 64.2075, 64.2075, 64.2075, 64.3099, 64.3102, 64.3104, 64.3108, 64.3291, 64.3304, 64.3073, 63.0876, 63.0871, 64.3558, 64.3524, 64.3469, 64.3405, 64.3129, 64.2209, 62.5774, 62.5765, 62.5761, 62.5754, 62.561, 62.5604, 62.3224, 62.2752, 61.8814, 63.5612, 63.6407, 66.3876, 65.2741, 65.437, 65.437, 65.437, 65.437, 65.437, 65.4372, 65.9083, 65.916, 65.9317, 65.1081, 65.0651, 64.7962, 64.7895, 64.7878, 64.786, 64.7835, 64.7821, 67.1966, 65.0023, 57.9656, 57.9718, 62.9929, 62.9772, 62.9591, 62.9478, 62.874, 62.8696, 62.8624, 62.2811, 62.2877, 62.2999, 62.308, 62.3137, 59.8484, -43.7848, -35.8508, -45.1605, -59.3816, -59.1206, -56.6191, 64.4393, 76.6498, 17.3305, 70.4768, 64.0742, 64.0718, 64.0707, 64.0691, 62.759, 62.7594, 62.7597, 62.7599, 62.7608, 63.0996, 63.0971, 63.0972, 63.0963, 63.0909, 63.0717, 63.8123, 63.8124, 63.7818, 63.7822, 63.7824, 63.7826, 63.7827, 63.7367, 64.0468, 64.0385, 64.0481, 64.0486, 64.0492, 26.267, 2.96986, -37.0375, -37.0944, -37.6759, -37.7386, -37.7751, -42.8179, -42.8663, -42.9063, -42.926, -42.9356, -43.8317, -43.8888, -44.1618, -46.1026, -46.1578, -46.2636, -46.8009, -47.0724, -47.111, -49.2027, -31.7288, -32.8399, -33.1082, -38.495, -39.8143, -39.8735, -40.1648, -40.1635, -40.3354, -40.2268, -40.2114, -40.2047, -40.2043, -40.1536, -40.1528, -40.1515, 70.9049])], [array([-25.9967, -25.9874, -25.9873, ..., -45.3502, -45.3502, -45.3502]), array([-42.8314, -42.8538, -42.8541, ..., 64.1508, 64.1508, 64.1508])], [array([-25.9993, -25.9993, -25.9992, ..., -45.3502, -45.3502, -45.3502]), array([-42.825, -42.8251, -42.8254, ..., 64.1508, 64.1508, 64.1508])], [array([-25.9998, -25.9997, -25.9992, ..., -52.7811, -45.3502, -45.3502]), array([-42.824, -42.8241, -42.8253, ..., 64.9761, 64.1508, 64.1508])], [array([-27.472, -27.4719, -27.4719, -25.9816, -25.9808, -55.567, -55.3666, -55.3162, -55.8445, -55.841, -55.8208, -55.8048, -57.9163, -58.1969, -58.156, -58.0695, -57.4904, -55.3201, -55.2101, -53.0651, -55.3005, -55.2849, -55.0198, -54.923, -54.8271, -56.8339, -56.8419, -57.6444, -57.5468, -54.1322, 37.5076, 40.6989, 52.9129, 52.9635, 53.4303, 53.0803, 52.3155, 52.3739, 52.6243, 52.6605, 52.7154, 52.8102, 52.8961, 52.9029, 53.033, 53.1684, 53.1375, 53.1138, 54.8219, 54.2556, 53.2566, 53.2558, 53.2402, 45.7279, 45.7335, 45.7558, 52.9363, 55.1644, 55.1748, 55.1895, 51.8975, 48.9577, 52.6694, 53.0801, 53.1017, 52.977, 52.9425, -50.0412, -49.9642, -49.968, -49.9831, -49.8238, -50.2058, -50.5397, -50.8416, -50.8288, -44.3172, -44.2435, -41.769, -64.7, -64.7037, -64.5625, -64.5993, -56.9201, -56.9206, -46.119, -46.075, -46.1532, -46.1479, -46.1446, 45.6222, 46.7541, 50.8198, 50.8233, 51.0498, 53.3184, 53.5236, 53.5756, 53.8546, 53.8593, 53.8438, 53.5601, 53.579, 54.092, 53.3832, 53.3696, 53.3564, 44.0101, 53.4325, 53.9623, 54.2902, 54.2817, 55.6923, 59.5553, 59.532, 59.5133, 56.6887, 56.6807, 56.6969, 56.5812, 52.7874, 53.4065, 53.7952, 54.3099, 54.2808, 53.819, -45.5841, -54.5088, -54.5083, -54.5076, -54.3836, -52.4122, -51.8008, -51.777, -49.4113, -51.1347, 52.1981, 53.1607, 53.1341, 52.5067, 52.521, 53.2967, 53.3641, 53.5203, 53.424, 52.8281, 44.036, 43.949, 51.0817, 52.1704, 52.161, 52.6106, 52.6117, 52.6084, 52.6095, 52.6138, 54.2786, 55.0123, 54.9882, 54.9669, 54.955, 54.9556, 54.958, 54.9559, 54.6576, 54.6476, 54.5419, 58.3608, 56.3658, 56.3717, 56.3813, 56.3852, 57.4833, 62.7512, 62.7771, 62.8084, 62.8422, 53.1406, 51.6914, 51.6629, 51.6467, 51.6393, 51.5294, 51.5488, 51.5058, 51.9992, 51.9959, 51.9927, 56.2992, 56.096, 52.5425, 56.2332, 56.2366, 56.5851, 56.5636, 58.2779, 58.2724, 57.5764, 51.3818, 51.3759, 51.3668, 51.365, 50.9252, 50.9257, 50.9278, 50.9289, 50.9348, 59.9709, 59.6201, 59.7923, 59.7282, 59.7378, 59.5169, 59.507, 59.3899, 59.3867, 59.3855, 59.383, 59.3649, 59.359, 59.7283, 61.8489, 61.8263, 61.8228, 61.8182, 61.8154, 61.8089, 62.1955, 52.371, 52.4048, 52.4322, 52.6101, 52.6423, 52.2302, 52.2228, 52.6622, 52.7191, 52.7779, 52.857, 53.0094, 53.0001, 53.4018, 53.4285, 53.606, -52.8099, -52.7874, -49.5854, -51.5373, -51.5121, -51.4533, -51.4139, -57.313, -57.2867, -57.3922, -57.3874, -55.6664, -55.5433, -53.8631, -54.4331, -54.4128, -54.0275, -54.1246, -54.1221, -54.1011, -54.0857, -54.0357, -24.0069, -54.7303, -54.7527, -54.8319, -52.5855, -52.5944, -52.6231, -50.4109, -50.4507, -51.2688, -22.9458, 49.5033, 52.8413, 53.7695, 55.5897, 57.6357, 55.4442, 55.6217, 57.4916, 57.5517, 57.6313, 59.4993, 59.5576, 62.5897, 62.5967, 62.6037, 51.9183, -55.083, -54.5594, -64.5609, -63.3589, -63.1343, -63.0175, -61.7593, -40.7358, -39.7869, 44.9692, 45.0316, 45.0767, 51.4701, 53.5411, 53.5734, 53.9959, 53.7242, 53.6927, 53.4425, 53.4028, 53.2945, 52.9309, 52.9069, 52.128, 52.1251, 52.1526, 52.189, 53.3227, 53.3168, 53.1873, 53.1197, 53.1103, 49.9352, 49.9225, 49.911, 54.2034, 52.3479, -50.2266, -50.2427, -73.2459, -55.141, 53.4942, 54.7676, 53.9115, 53.8973, 54.1087, 53.8189, 53.7841, 53.7015, 53.3712, 53.0992, 53.0873, 52.5817, 44.7952, 60.4788, 66.317, 66.3127, -58.6019, -59.3179, -59.0592, -58.9869, -58.8846, 48.2063, 53.878, 52.8722, 53.179, 53.2729, 52.7687, 52.7114, 44.1959, 48.5577, 52.5887, 62.8666, 62.8753, 61.0917, 61.1063, 61.1141, 61.1199, 61.1089, 61.0978, 61.0956, 61.0976, 61.1011, 63.2608, 53.2764, 53.1604, 52.5747, 52.6074, 52.6211, 52.3344, 52.3461, 52.3924, 59.9402, 60.8637, 60.3866, 53.8248, 50.5886, 52.4712, 58.2089, 58.278, 58.3444, -49.1028, -48.5661, -50.3126, -50.3218, -50.3308, -49.0038, -49.0144, -55.9227, -48.443, -49.6624, -49.6591, -49.6555, -49.6416, -49.0441, -46.7228, -46.8202, -46.8208, -41.9779, -41.9816, -41.7333, -41.7444, -41.7184, -41.7486, -41.7494, -42.2469, -42.247, -42.3746, -42.38, -42.38, -42.3801, -42.3802, -42.4664, -42.4668, -42.4818, -42.483, -42.4835, -42.4842, -53.8666, -53.6745, -50.8378, -50.8417, -51.0802, -51.0882, -51.1054, -50.6773, -50.661, -50.9276, -50.8923, -50.8994, -50.9069, -51.1753, -51.1731, -51.1603, -51.1378, -51.141, -51.1404, -50.7085, -50.7101, -50.7104, -50.7114, -50.7118, -50.7125, -50.7317, -50.814, -50.8133, -50.813, -50.8337, -50.8416, -51.2686, -51.2677, -42.717, -42.7172, -42.7174, -42.7177, -42.7181, -42.7198, -42.72, -42.7202, -42.9386, -42.9391, -42.9624, -42.9627, -43.0269, -43.0578, -43.1078, -42.2011, -42.2131, -42.2131, -42.2486, -42.2642, -42.2642, -42.2643, -42.2643, -42.2643, -42.2643, -41.8587, -41.8371, -42.027, -42.0261, -42.0253, -42.0025, -42.0069, -42.006, -42.0153, -42.0083, -42.0077, -42.0162, -42.8829, -42.761, -42.7614, -42.7674, -42.7678, -42.8295, -42.8948, -42.9485, -42.3362, -42.3321, -42.3294, -42.3294, -42.3294, -42.3293, -42.3289, -42.3288, -42.3256, -42.3255, -42.2961, -42.296, -42.3903, -42.3906, -42.5906, -42.612, -41.232, -43.0811, -42.0835, -42.0391, -41.5208, -41.6441, -41.6453, -41.7026, -41.6403, -41.491, -41.3771, -41.3855, -41.4213, -41.5486, -41.5487, -41.5487, -41.5481, -41.548, -41.5482, -41.273, -40.7062, -40.6948, -40.6403, -40.6369, -40.6326, -40.622, -40.6223, -40.5699, -40.5656, -41.6529, -42.6648, -42.1076, -42.2096, -42.1897, -42.1924, -42.1929, -42.1924, -42.19, -42.1846, -42.0413, -42.0438, -42.0504, -42.057, -42.0612, -42.226, -42.5887, -43.1574, -43.1586, -43.1601, -52.6933, -52.6951, -52.6262, -52.6256, -52.6246, -52.5023, -54.8784, -57.9371, -66.2679, -50.8817, -50.5239, -50.5309, -51.2705, -50.133, -50.9106, -50.9092, -50.9077, -50.9063, -51.2925, -56.6059, -56.0703, -56.5021, -56.5207, -55.5472, -55.5689, -57.8022, -55.1922, -55.0494, -55.0089, -54.9619, 26.532, 51.4305, 52.845, 52.8786, 52.9254, 52.9336, 53.4943, 53.4895, 53.4722, 52.9839, 52.7722, 44.6347, 44.6352, 44.6585, 44.598, 50.3439, 55.8295, 51.941, 52.5968, -50.2963, -35.4592, 61.2605, 46.1307, 39.2931, 34.634, -53.1043, -43.5817, -43.5651, -50.8049, -50.8053, -50.8081, -42.3356, -42.3353, -41.9093, -41.9451, -41.9695, -41.9707, -41.981, 11.8764, 11.8765, 11.8772, 45.0723, 49.4273, 50.9198, 52.2895, 52.6235, 52.6472, 53.3632, 52.0426, 59.3503, 57.6948, 44.7974, 44.7877, 44.7691, 53.0969, 53.3494, 53.5318, 53.5042, 54.3621, 54.2593, 53.7548, 53.8771, 53.9448, 52.8253, 53.4365, 53.4184, -49.0755, -49.0268, -49.0272, -42.525, -42.9429, -42.8188, -42.7925, -42.6278, -42.6312, -42.6444, -42.6468, -42.6473, -42.5981, -42.5923, -42.6024, -42.6046, -42.608, -42.6363, -42.5214, -42.52, -42.0336, -42.0341, -42.0345, -42.0351, -42.0357, -42.2593, -42.7645, -42.8777, -42.8778, -42.411, -42.4119, -42.4139, -42.4085, -42.4086, -42.4086, -42.4098, -42.4099, -42.4099, -42.424, -42.2176, -42.1823, -42.1823, -42.1622, -42.1929, -42.192, -42.1228, -42.1234, -42.1085, -42.1077, -42.1076, -42.1331, -42.133, -41.8658, -41.9283, -41.9452, -41.9476, -41.9527, -41.9542, -41.9556, -42.0024, -42.0023, -42.0087, -42.0078, -41.6772, -56.4474, -60.0794, -60.1431, -60.2134, -61.7026, -61.7287, -39.9756, -39.9781, -40.3389, -40.36, 39.7566, 50.4807, 2.84564, -55.8446, -56.5633, -56.5404, -56.208, -56.1898, -56.1902, -56.2184, -56.219, -53.9946, 61.8006, 62.6491, 62.6137, 53.1096, 52.8503, 53.0165, 44.7725, 35.9681, 35.9531, 37.5391, -50.1476, -45.3502, -45.3502, -45.3502, -45.3502, -45.3502]), array([-39.2774, -39.2776, -39.2777, -42.8676, -42.8696, 8.30783, 8.57719, 8.67319, 26.1904, 26.3051, 26.5285, 26.709, 41.2653, 41.4421, 41.4429, 41.446, 42.699, 39.5998, 39.4817, 36.4971, 40.3343, 40.3276, 43.1205, 42.9869, 42.8546, 47.7051, 47.787, 46.4921, 46.3906, 6.64738, -28.9103, -24.9132, -1.18722, -0.851305, 7.66075, 13.716, 14.538, 14.9446, 15.9578, 16.0424, 16.1711, 16.661, 17.5447, 17.589, 18.13, 18.9134, 24.634, 24.846, 81.1367, 81.6975, 84.2344, 84.2438, 84.2916, 76.2141, 76.2177, 76.2196, 84.988, 83.427, 83.4459, 83.4737, 82.792, 66.5255, 65.894, 9.66918, 9.58905, 9.01575, 8.96215, 71.336, 71.2985, 70.5545, 70.5771, 70.5194, 66.1663, 67.0677, 66.9193, 63.401, 62.7372, 62.7228, 64.2885, 18.839, 18.838, 30.9767, 30.9965, 77.9719, 77.9591, 62.8473, 62.873, 62.708, 62.7135, 62.7128, -19.4478, -17.854, -3.84736, -3.85621, -4.01999, -0.837186, 6.29469, 6.67477, 11.0923, 11.2717, 11.4805, 13.9923, 14.0029, 15.4235, 19.5922, 19.7673, 19.9758, 75.9929, 81.4743, 83.2665, 82.8222, 82.8233, 80.6241, 80.0294, 80.0176, 79.954, 80.99, 80.9875, 81.0359, 81.5905, 78.6836, 79.5908, 79.6933, 79.6287, 79.6134, 77.4794, 62.6641, 57.9843, 57.9996, 58.0222, 58.0771, 59.6391, 60.2116, 60.2216, 62.1536, 58.5952, 4.40897, 9.08311, 9.18536, 11.658, 12.4325, 15.1119, 15.2627, 18.4202, 27.1259, 31.2749, 76.1816, 76.0584, 77.4005, 79.0512, 79.0509, 78.3931, 78.3942, 78.3921, 78.3845, 78.3836, 78.773, 78.251, 78.2543, 78.2566, 78.2632, 78.2753, 78.2804, 78.2984, 78.5252, 79.5587, 79.4736, 75.8364, 78.0259, 78.0279, 78.0316, 78.0332, 79.8953, 77.9351, 77.9429, 77.9522, 77.9624, 88.8314, 82.1175, 82.1186, 82.12, 82.1215, 81.9293, 87.0201, 86.969, 81.7366, 81.7466, 81.7596, 83.6826, 83.5607, 80.5804, 81.3814, 81.3891, 81.2975, 81.3232, 79.8868, 79.8876, 82.3652, 85.0337, 85.0301, 85.0165, 85.01, 84.493, 84.4929, 84.4925, 84.4923, 84.4908, 76.8531, 77.4571, 77.489, 80.6097, 80.6118, 80.6678, 80.6728, 80.5621, 80.5577, 80.5551, 80.5525, 80.5513, 80.5503, 79.268, 79.696, 79.6332, 79.6287, 79.6227, 79.6202, 79.6159, 82.9974, 51.4353, 51.2384, 51.0795, 50.4041, 50.3032, 40.0529, 39.9516, 37.2429, 36.9587, 36.6528, 36.2355, 33.6178, 33.5892, 11.2294, 11.2228, 11.3268, 69.7471, 69.7651, 64.8342, 64.0497, 64.0413, 64.0169, 63.9925, 5.31402, 5.37458, 5.36825, 5.33491, 4.61755, 4.58581, 4.32621, 4.47579, 4.46903, 4.55855, 4.39335, 4.40244, 4.49441, 4.50062, 4.4964, -55.063, 57.416, 57.4044, 57.3583, 57.9348, 57.9336, 57.9064, 59.014, 59.0196, 59.1615, -41.9252, -10.4303, -2.25555, 1.55319, 7.40852, 8.70738, 2.00747, 2.04843, 2.43144, 2.42646, 2.41985, 3.07133, 3.13187, 3.15542, 3.13718, 3.10994, 7.56207, -13.7725, -12.9807, -14.801, -17.3462, -17.7075, -17.922, 55.0034, -27.6656, -28.8492, -19.7261, -19.6138, -19.5326, -3.48717, 11.814, 11.9292, 17.6608, 20.4021, 20.6365, 23.4667, 23.9867, 25.1087, 30.6957, 30.9458, 37.9756, 41.5329, 41.8651, 42.1364, 81.1615, 81.1575, 81.5196, 81.595, 81.5981, 61.9834, 61.9723, 61.9624, 66.6898, 53.569, 70.7341, 70.7156, 59.1324, 59.3188, 5.57837, 8.3291, 10.7898, 10.8578, 12.6802, 16.7915, 17.0224, 20.3184, 24.3102, 26.2982, 26.5037, 35.6836, 75.3975, 62.7091, 67.944, 67.9955, 58.6194, 58.2098, 5.35043, 5.31495, 5.26477, -9.15814, 10.0943, 13.9242, 16.1154, 20.76, 23.9685, 24.1769, 75.4712, 67.0073, 56.0577, 6.49308, 6.48016, 8.02344, 7.99357, 7.97741, 7.96552, 7.94563, 7.95283, 7.95186, 7.92841, 7.91867, 4.73153, 16.2379, 16.1459, 17.1089, 25.1375, 25.4503, 34.6019, 34.7782, 35.1325, 74.2075, 46.4482, 45.7334, 8.89093, 29.0679, 43.4459, -4.27284, -4.25397, -4.23584, 63.239, 64.1132, 61.7212, 61.7169, 61.7125, 62.2263, 62.2554, 57.8923, 63.1655, 62.2627, 62.2604, 62.2578, 62.2479, 64.5207, 63.138, 63.0841, 63.0763, 65.6524, 65.6476, 65.6183, 65.5617, 65.5534, 65.5531, 65.5539, 64.8331, 64.8332, 64.8723, 64.874, 64.874, 64.874, 64.8741, 65.1328, 65.1322, 65.1099, 65.108, 65.1073, 65.1064, 68.9312, 69.0949, 65.2844, 65.2816, 65.2746, 65.2762, 65.2797, 64.0607, 64.0619, 64.0647, 64.2383, 64.2286, 64.2313, 64.3459, 64.349, 64.3513, 65.2051, 65.206, 65.2122, 65.2797, 65.2799, 65.28, 65.2801, 65.2802, 65.2803, 65.2835, 65.2979, 65.2992, 65.3014, 65.2784, 65.2954, 65.362, 65.3618, 64.2892, 64.2892, 64.2892, 64.2891, 64.2891, 64.2888, 64.2888, 64.2888, 63.4072, 63.4077, 63.4333, 63.4336, 63.5325, 63.5239, 63.2322, 64.2554, 64.1888, 64.1888, 64.202, 64.2079, 64.2079, 64.2079, 64.2079, 64.2079, 64.2079, 63.6252, 63.7915, 64.2955, 64.2963, 64.297, 64.3094, 64.314, 64.3138, 64.2842, 64.2808, 64.2805, 64.2983, 62.6964, 62.6798, 62.6794, 62.6745, 62.6742, 62.6891, 62.3796, 62.2237, 63.5758, 63.5797, 63.5823, 63.5823, 63.5823, 63.5823, 63.5828, 63.5828, 63.586, 63.586, 63.6421, 63.6417, 63.399, 63.3982, 62.3429, 62.3064, 67.2678, 64.342, 65.7687, 65.8148, 66.3254, 65.2754, 65.275, 65.2846, 65.2743, 65.2763, 65.65, 65.648, 65.4505, 66.8269, 66.8274, 66.8279, 66.821, 66.8188, 66.8161, 66.2638, 65.8285, 65.8406, 65.8981, 65.901, 65.9046, 65.9043, 65.9017, 67.1525, 67.1662, 64.9034, 64.7907, 65.1659, 66.6269, 66.5454, 66.5515, 66.5547, 66.5608, 66.5647, 66.5678, 62.4151, 62.4106, 62.3982, 62.386, 62.3783, 62.0727, 64.9272, 64.4359, 64.4349, 64.4336, 59.827, 59.83, 59.9081, 59.9066, 59.9049, 60.0425, 68.9329, 74.3267, 61.8021, 64.6958, 65.145, 65.097, 64.0232, 62.8626, 62.5206, 62.5275, 62.536, 62.5445, 61.2154, 31.3883, 7.25813, 7.32756, 7.30199, 7.03684, 7.05576, 9.98988, 10.8679, 10.0157, 10.0245, 10.0333, -33.3327, 0.00847898, 10.2137, 10.665, 13.5416, 13.7348, 16.5794, 16.8639, 17.2667, 27.041, 34.128, 75.0421, 75.038, 75.0146, 75.7521, 76.5264, 75.996, 58.6446, 56.2404, 71.076, -35.3243, -1.61331, -20.1173, -29.9511, -36.2096, 60.9007, 63.1313, 63.1478, 62.5106, 62.5118, 62.5137, 64.9948, 64.995, 64.4388, 64.3016, 64.2077, 64.203, 64.1637, -44.4193, -44.416, -44.4158, -18.2061, -7.58911, -1.35867, 6.96405, 8.64385, 8.83371, 14.2056, 28.3024, 78.3334, 82.2232, 73.4094, 73.4506, 75.1606, 31.2632, 16.51, 16.0792, 15.9659, 24.1449, 24.1618, 24.1521, 24.1549, 24.1558, 25.6073, 26.8512, 26.8718, 64.0007, 64.0342, 64.0414, 61.8058, 64.0708, 64.2055, 64.1863, 64.2531, 64.2486, 64.1637, 64.1428, 64.1399, 64.1393, 64.1485, 64.1479, 64.1475, 64.1729, 64.1659, 64.2308, 64.2307, 62.7808, 62.7811, 62.7813, 62.7817, 62.7821, 62.9197, 62.4625, 62.2492, 62.2491, 63.103, 63.0929, 63.0946, 63.0312, 63.0316, 63.032, 63.0497, 63.0501, 63.0514, 63.0681, 63.8341, 63.8125, 63.8126, 63.8058, 63.7844, 63.7832, 63.741, 63.7409, 63.7481, 63.748, 63.7479, 63.7414, 63.741, 64.2819, 64.0608, 64.0622, 64.0613, 64.0701, 64.0691, 64.068, 62.9153, 62.9152, 62.8886, 62.8898, 64.1514, 49.7871, 49.2149, 49.2202, 49.2284, 52.4523, 52.4274, -49.1222, -49.1692, -49.9525, -49.9587, -27.416, -1.53997, -42.367, 31.8019, 34.9582, 35.0054, 34.9038, 34.8326, 34.8307, 34.7686, 34.7669, 33.2085, 0.344375, -0.200816, 0.589749, 12.3009, 14.1266, 15.5081, 74.573, 65.964, 65.9825, 64.0466, 70.8522, 64.1508, 64.1508, 64.1508, 64.1508, 64.1508])], [array([-57.3391, -55.5178, -55.5271, ..., -50.4797, -45.3502, -45.3502]), array([6.81422, 17.1704, 17.2352, ..., 65.519, 64.1508, 64.1508])], [array([-35.2186, 47.6125, 47.6667, ..., 51.5079, 51.5155, -45.3502]), array([-38.3552, 77.4738, 77.5131, ..., -34.4632, -34.4742, 64.1508])], [array([-25.9905, -57.8419, -55.3846, ..., -45.3502, -45.3502, -45.3502]), array([-42.8462, 3.69332, 9.1671, ..., 64.1508, 64.1508, 64.1508])], [array([-25.9803, -25.9789, -57.4965, ..., -56.6846, -50.529, -45.3502]), array([-42.8708, -42.8743, -0.402288, ..., 8.4694, 71.8323, 64.1508])], [array([-25.9788, -30.7604, -38.1832, ..., -56.7263, -50.5321, -49.0709]), array([-42.8746, -40.3805, -37.2016, ..., 26.9234, 71.8292, 67.7879])], [array([-57.8523, -58.2416, -57.2436, ..., -45.3502, -45.3502, -45.3502]), array([3.59256, 38.5767, 40.483, ..., 64.1508, 64.1508, 64.1508])], [array([44.2061, 35.2895, 34.9539, 30.021, -7.46074, -49.9163, 59.4586, 62.6368, 51.7148, 51.9503, 53.8251, 53.7295, 53.7296, 20.0592, 13.4146, 2.58703, -0.997438, -48.8619, -17.2214, -9.53847, 52.6529, 56.1447, 58.3332, 63.2027, 63.8781, 59.554, 59.6526, 61.3063, 56.0287, 59.1291, 59.1363, 56.6168, 57.8667, 52.7592, 52.7607, 52.7564, 59.498, 61.132, 63.1327, 68.0757, 69.8228, 69.8366, 68.4422, 63.3073, 63.3885, 61.6141, 21.431, 16.5096, -53.5983, -53.5884, -64.075, -54.7111, 22.2084, 17.6738, -62.2779, -61.0136, -54.6516, -54.6201, -2.13508, 53.6215, 42.5628, 51.161, 51.1509, 54.6832, 10.1164, -65.3332, -55.1501, -37.9345, -38.0651, -38.1299, -39.5377, -39.6243, -41.3698, -41.3948, -41.5713, -41.7204, -41.7554, -42.8382, -46.1008, -47.169, -47.1526, -47.1138, -47.0816, -46.9375, -46.8168, -45.2738, 44.2326, 40.3114, 4.88555, 3.59774, -2.14266, -22.1229, -54.8282, 16.4657, -50.3949, -50.3973, -48.386, -49.8618, -57.7938, -52.2261, -55.3554, -49.0396, -48.7488, -48.7859, -41.8199, -41.8234, -42.3339, -64.8753, -51.0755, -50.7586, -50.7502, -50.7472, -50.8519, -51.2482, -51.2489, -51.2491, -51.2521, -51.2536, -51.2538, -51.2292, -42.8481, -42.8483, -42.8485, -42.8492, -42.8495, -42.8499, -43.0009, -43.0246, -43.0248, -43.0248, -43.0249, -43.1262, -43.1011, -43.0903, -42.2066, -42.2152, -42.2462, -42.4195, -42.3335, -42.3294, -42.3285, -42.2873, -41.2391, -41.2374, -41.2301, -41.1685, -41.1628, -41.1603, -41.159, -41.52, -41.2856, -41.286, -41.2864, -41.2867, -41.2885, -41.3134, -41.2923, -42.665, -42.1321, -42.1321, -42.132, -42.1585, -42.5669, -52.8361, -52.8341, -52.8389, -52.8679, -56.5043, -56.5045, -56.5049, -56.5051, -56.5028, -66.186, -50.678, -50.68, -54.8525, -54.5939, -54.594, -48.6226, -48.3889, -48.1385, 60.1171, -5.50029, -5.54094, -5.56577, -5.60568, -67.0541, -60.1874, -57.8551, -57.8998, -58.5803, -59.3051, -61.3467, -61.9365, -53.2398, -53.2468, -41.7335, 55.2085, -29.0659, -49.4976, -44.592, -44.5662, -44.5721, -42.5588, -42.5089, -42.5015, -42.6303, -42.6288, -42.4692, -42.4692, -42.4692, -42.5696, -42.1777, -42.1277, -41.9398, -41.9398, -56.7612, -54.9859, -54.5026, -53.6969, -53.706, -54.1488, -54.0158, -52.4652, -52.316, -52.2282, -52.1239, -51.75, -50.2527, -50.0096, -49.3993, -49.4543, -49.6645, -50.1626, -50.3021, -50.6858, -51.9964, -52.0598, -52.0317, -52.0479, -52.2341, -52.1234, -51.775, -52.4062, -52.261, -51.7113, -51.7784, -51.5818, -51.5757, -51.5728, -51.5717, -51.6391, -51.9046, -42.818, -33.5487, -33.4677, -33.3578, -33.3601, -33.4326, -33.9543, -33.9327, -33.9301, -33.9275, -33.2473, -27.4022, -27.52, -27.5585, -27.7525, -27.9783, -28.1576, -29.0885, -29.4419, -31.0062, -32.5754, -33.4076, -33.996, -41.2041, -41.5549, -41.5871, -41.599, -41.6021, -41.6004, -49.9035, -49.9074, -4.4995, -39.9939, -42.8078, -46.1461, -46.3546, -46.6699, -48.0397, -48.1406, -48.3128, -49.1513, -49.266, -49.4173, -50.1904, -50.2079, -54.658, -53.7779, -53.5673, -53.4072, -53.3525, -52.8681, -52.8429, -52.791, -52.7364, -51.9276, -51.8118, -51.5681, -51.3448, -49.6252, -49.0812, -48.6112, -48.4493, -48.2294, -47.3694, -47.2097, -46.9917, -46.7727, -46.6758, -45.6247, -42.0761, -42.0273, -41.9372, -41.891, -41.8065, -41.6959, -41.3789, -40.4417, -40.3627, -40.3113, -40.1875, -40.4521, -43.5758, -43.7102, -43.8478, -43.9156, -44.013, -44.1469, -44.8486]), array([71.0304, -35.8567, -36.1296, -39.9021, -44.4612, -18.5963, 78.7044, 75.2366, 79.6551, 80.2995, 78.3541, 79.7739, 79.7629, -51.3476, -45.997, -48.0125, -47.5143, 64.9684, -45.7252, -50.3255, 78.4382, 79.3661, 80.0764, 79.4458, 79.9314, 82.6437, 82.7537, 82.4893, 83.5021, 79.2608, 79.2669, 81.4902, 80.6223, 83.5124, 83.5151, 83.5212, 80.704, 79.0999, 79.6407, 83.6626, 80.9797, 80.9213, 79.8085, 80.8067, 83.2853, 82.4621, -43.2519, -46.0492, 62.3735, 62.3739, 53.659, 57.3385, -42.5715, -44.2573, 25.4447, -19.2949, 0.629018, 0.355076, -51.4956, 81.4336, 70.1009, 80.4156, 80.3865, 80.8601, -43.2603, 65.1491, 59.3526, -41.9246, -42.0331, -42.0869, -43.0107, -43.0385, -44.1067, -44.1635, -45.9669, -45.0884, -44.7169, -43.4773, -39.8248, -40.021, -39.9414, -39.8956, -39.8922, -39.9006, -39.9468, -40.2067, 75.8773, -37.5781, -49.6038, -49.4857, -47.2109, -44.8081, 62.0687, -43.1231, 71.0894, 71.081, 62.4533, 62.5568, 58.8976, 59.486, 60.0012, 62.5199, 64.5087, 64.3316, 65.7753, 65.7783, 64.8598, 63.1256, 65.3197, 63.9882, 63.9936, 63.997, 65.2699, 65.3659, 65.3662, 65.3662, 65.3673, 65.3675, 65.3675, 65.3666, 63.3081, 63.3083, 63.3085, 63.3093, 63.3096, 63.3101, 63.5397, 63.5331, 63.5331, 63.5331, 63.533, 63.2089, 63.227, 63.2078, 64.226, 64.1896, 64.2012, 64.7236, 63.5783, 63.5822, 63.5832, 63.6114, 67.2554, 67.2579, 67.2469, 67.1195, 67.1246, 67.1268, 67.1279, 66.82, 65.8549, 65.856, 65.8569, 65.8578, 65.8622, 65.8483, 65.8395, 64.7905, 65.3686, 65.3677, 65.366, 66.57, 61.7121, 59.7572, 59.7653, 59.7792, 59.6891, 57.9189, 57.9188, 57.9173, 57.9155, 57.9077, 61.7805, 64.4699, 64.4665, 60.1094, 59.9289, 59.9271, -16.7478, -17.1142, -17.5344, -3.08777, -59.6756, -59.6737, -59.6695, -59.6618, -5.11153, -9.57094, -12.0012, -12.1701, -14.1351, -15.8395, -17.0769, -16.8556, 60.4176, 60.4111, 65.5441, 79.778, -39.2697, 70.4509, 63.7826, 63.8565, 63.8707, 64.2433, 61.8163, 64.2357, 64.1779, 64.155, 63.1621, 63.1623, 63.1628, 64.0395, 63.803, 63.7339, 64.0881, 64.0877, 11.7617, -2.89355, -5.76851, -11.7714, -11.917, -17.5599, -17.8027, -20.4754, -20.7015, -20.8361, -20.9993, -21.6391, -23.9775, -24.4067, -27.1486, -27.3138, -28.1436, -28.4545, -28.538, -28.8912, -30.6248, -31.7717, -32.2161, -32.2981, -33.1779, -33.3263, -34.0813, -36.2812, -36.3909, -36.6071, -36.5227, -38.0061, -38.0139, -38.0202, -38.0369, -38.0618, -37.4958, -28.7709, -37.5937, -37.6952, -38.0255, -38.1255, -38.6736, -41.9889, -43.2967, -43.4556, -43.6164, -45.5199, -43.0845, -43.3136, -43.4318, -44.3089, -44.5764, -44.8135, -45.481, -45.5517, -45.8646, -46.0745, -46.0708, -46.0711, -50.1716, -49.888, -49.8266, -49.7942, -49.4774, -49.4296, 71.0455, 71.0493, -47.2479, -30.3264, -28.0867, -27.1532, -27.2955, -27.6412, -29.4634, -29.7613, -30.088, -31.1906, -31.5858, -32.0879, -33.2952, -33.6968, -36.8146, -35.9683, -35.7374, -35.6071, -35.5768, -35.9319, -35.9722, -36.0501, -36.1382, -37.2881, -37.4354, -37.7245, -37.9199, -39.1247, -39.4097, -39.7058, -39.8294, -40.0165, -40.676, -40.8865, -41.684, -41.9283, -42.0072, -42.5342, -44.4416, -44.4583, -44.4891, -44.505, -44.5339, -44.5718, -44.6804, -45.0016, -45.0287, -45.0463, -45.0887, -44.8942, -43.0918, -43.0143, -42.935, -42.8958, -42.8396, -42.7624, -42.3575])], [array([-25.9825, -25.9812, -34.1736, ..., -51.3155, -51.4651, -45.3502]), array([-42.8656, -42.8687, -38.2193, ..., 64.4386, 64.4838, 64.1508])], [array([-25.9976, -25.9922, -25.9788, ..., -45.3502, -45.3502, -45.3502]), array([-42.8292, -42.8423, -42.8744, ..., 64.1508, 64.1508, 64.1508])], [array([-25.9998, -25.9939, -25.9813, ..., -45.3502, -45.3502, -45.3502]), array([-42.824, -42.8382, -42.8685, ..., 64.1508, 64.1508, 64.1508])], [array([-43.0943, -44.2794, -44.2794, -44.2551, -44.248, -53.022, -53.0229, 44.2136, 44.1622, 65.0834, 65.0904, 65.0972, -21.2897, -49.9977, -49.942, -55.5581, -55.6633, -56.0092, -9.61903, -56.0022, -56.0094, -46.1176, 54.7064, 54.2752, 57.0807, 60.6574, 60.6873, 60.711, 60.7432, 56.4892, 56.4734, 56.4583, 56.4387, 54.4394, 54.4383, 54.4186, 54.4146, 54.2914, -40.9668, 18.6743, -28.0095, -29.2404, -29.2672, -28.0521, -28.0436, -28.4266, -28.4273, -19.9705, -19.953, -21.2284, -21.2281, -49.8188, -49.7866, -49.7763, -54.5132, -54.56, -51.9273, -49.409, -48.7806, -48.7913, -48.8178, -48.8401, -48.8643, -48.8602, -49.1443, -8.27204, 50.2227, 50.4253, 50.4267, 54.1661, 54.1746, 54.1821, 56.3126, 57.6418, 51.5636, 51.5395, 51.5324, 51.5258, 51.5199, 50.07, 63.1814, 63.2037, 63.9556, 59.1293, 59.1293, 59.1329, 58.269, 57.1953, 50.8007, 50.8087, 50.9791, 50.9717, 60.3967, 59.7948, 59.7972, 59.7448, 59.5037, 59.5102, 59.5277, 59.5142, 59.4977, 59.4955, 61.8523, -57.0404, -57.0344, -57.0164, -51.6952, -51.701, -50.682, -50.3963, -53.4602, -53.4666, -59.1068, -49.3413, -64.1233, -64.1212, -64.1174, -64.1153, -64.1115, -64.0973, -64.0934, -53.0818, -53.1046, -51.9767, 14.08, 14.1053, -26.6801, -26.7231, -26.8126, -45.4021, -62.6111, -62.5128, -62.1395, -61.5607, -60.4488, -60.4213, -60.399, -60.3985, -60.4089, -61.0258, -61.0054, -60.9232, -60.8863, -60.8521, -60.8314, -60.7631, -60.7233, -60.6885, -60.5976, -60.6518, -60.6678, -63.7531, -63.7265, -63.5175, -63.3897, -61.9684, -61.9578, -60.4977, -60.4923, -60.484, -58.6683, -58.6751, -57.7874, -57.7511, -57.6952, -57.6182, -57.5052, -57.0726, -57.0326, -57.6424, -57.6622, 51.1546, 51.1494, 51.1449, 51.1428, 51.1297, 53.172, 53.1844, 53.1877, 53.1902, -26.1478, -65.3394, -65.3426, -65.3464, -65.3595, -65.3601, -55.8676, -55.1405, -55.1491, -55.1664, -58.7414, -35.6727, -35.6586, -35.6372, -35.6192, -35.3085, -35.3555, -35.4319, -36.9351, -36.986, -37.0617, -38.707, -38.7608, -38.8281, -38.9288, -39.0125, -41.662, -41.5216, -41.5129, -41.4774, -41.482, -41.4905, -41.8524, -41.8952, -41.8871, -41.9072, -41.8869, -41.8576, -41.7041, -41.7208, -41.7408, -41.7278, -45.5833, -45.6278, -46.1258, -46.1605, -46.8797, -46.8847, -46.8967, -46.905, -46.9211, -47.0074, -47.0044, -46.9999, -47.0623, -47.0579, -46.8839, -46.8397, -46.8038, -46.737, 44.938, 44.9432, 44.9574, 44.9687, 4.88493, 11.7224, 11.7155, 11.859, 11.8602, 11.8471, -37.8528, -57.1283, -57.13, -57.1279, -50.0601, -54.9664, -53.7235, -53.74, -53.751, -53.7487, -53.286, -53.2513, -48.1269, -48.1297, -48.1415, -48.1445, -48.1492, -48.1526, -57.9119, -58.3031, -58.2468, -58.1597, -53.1395, -53.1976, -53.2332, 43.5937, 48.1936, 63.7679, 63.7582, 54.6885, 60.2233, 60.1934, -24.9698, -44.0864, -50.4007, -50.3898, -50.3926, -50.3977, -50.4146, -48.3745, -48.3614, -48.3472, -50.0337, -49.8429, -49.8621, -49.8742, -49.8941, -49.897, -49.8992, -49.9121, -49.9247, -49.9386, -49.5016, -57.4627, -57.6031, -57.7668, -57.7435, -52.0357, -53.4897, -49.0707, -48.932, -41.8208, -41.8235, -41.9777, -41.6804, -41.6867, -41.6835, -42.2469, -42.2598, -42.2599, -42.3337, -42.3338, -47.3339, -47.3392, -47.3436, -64.6654, -64.8918, -64.8704, -64.7413, -64.7406, -64.7399, -64.7415, -64.7424, -64.7428, -64.7403, -53.7048, -53.7063, -53.7081, -53.713, -53.7196, -53.8017, -51.2342, -51.2329, -51.2316, -51.2299, -51.1021, -51.065, -50.7617, -50.7431, -50.7418, -51.1456, -51.1699, -51.2158, -51.2247, -51.2314, -51.1428, -51.1232, -51.1228, -50.8204, -50.8187, -50.8159, -50.8174, -50.8191, -50.8215, -50.8257, -50.8267, -50.8289, -50.8145, -50.8105, -50.8112, -50.8305, -50.8151, -50.8163, -50.8178, -50.7909, -50.792, -50.7922, -50.7923, -50.7925, -50.795, -50.7961, -51.2897, -51.289, -51.2867, -51.2837, -51.2544, -51.2545, -51.2503, -51.2536, -51.2541, -51.2542, -51.2534, -51.2531, -51.2486, -51.2447, -51.2445, -51.2392, -51.2343, -51.2309, -42.7565, -42.7008, -42.701, -42.7016, -42.7028, -42.709, -42.7092, -42.7095, -42.529, -42.5292, -42.7711, -42.7714, -42.7717, -42.7719, -42.772, -42.7724, -42.7732, -42.7734, -42.7778, -42.778, -42.7782, -42.7787, -42.7904, -42.7943, -42.7945, -42.7952, -42.8491, -43.068, -43.0702, -43.0702, -43.0703, -43.0738, -43.0853, -43.0612, -43.1036, -43.0929, -42.1997, -42.1997, -42.2143, -42.2143, -42.2143, -42.2152, -42.2472, -42.2472, -42.2472, -42.2477, -42.2477, -42.2477, -42.2478, -42.2479, -42.2479, -42.248, -42.2481, -42.2481, -42.2848, -42.2976, -41.8732, -41.8722, -42.008, -42.0307, -42.0272, -42.0231, -42.0172, -42.0173, -42.0898, -42.0928, -42.0986, -42.106, -42.1109, -42.1079, -42.076, -42.0587, -42.8479, -42.8272, -42.8096, -42.807, -42.7987, -42.7872, -42.7827, -42.3564, -42.3548, -42.3548, -42.3548, -42.3546, -42.3542, -42.3542, -42.3542, -42.3336, -42.3335, -42.3285, -42.3265, -42.3255, -42.2817, -42.2873, -42.2873, -42.2667, -42.2656, -41.223, -41.2262, -41.2192, -41.1604, -41.5602, -41.5602, -41.6849, -41.6901, -41.6891, -41.6883, -41.69, -41.7029, -41.6982, -41.6971, -41.5165, -41.4911, -41.4233, -41.4227, -41.4224, -41.4221, -41.4251, -41.425, -41.4249, -41.4249, -41.5961, -41.276, -41.2762, -41.2764, -41.2902, -41.2905, -41.2914, -41.3124, -41.3134, -41.3116, -41.3003, -41.2953, -41.2876, -41.2868, -42.4995, -42.5011, -42.132, -42.1139, -42.1139, -42.1087, -42.1087, -42.1085, -42.1085, -42.1085, -42.1085, -42.1085, -42.1592, -42.4457, -42.129, -42.1286, -42.1281, -42.4819, -42.4831, -52.8409, -52.8367, -52.8352, -52.6261, -52.5153, -52.5139, -52.5111, -52.5101, -54.8686, -56.8322, -56.8307, -56.8285, -56.5031, -56.5026, -56.502, -56.5018, -66.3921, -66.3941, -66.4021, -66.4046, -66.4078, -66.1876, -66.1867, -66.1861, -66.1846, -66.1814, -50.2393, -50.2367, -50.2342, -50.2221, -50.6922, -50.6938, -50.6955, -49.5092, -54.554, -54.554, -54.5541, -54.5835, -54.586, -54.592, -54.5936, -54.5937, -54.5911, 49.7182, 65.1313, 65.125, -28.2072, -50.9157, -50.9123, -50.9483, -50.9539, -50.9723, -50.4653, 54.7337, 54.7848, 54.8451, 54.9627, -4.18543, -4.27482, -4.29692, -8.04513, -8.06792, -8.09622, -7.97555, -7.91417, -4.4963, -4.46047, -4.41088, -4.36745, -3.86357, -3.77781, -3.63754, -3.60055, -3.51853, 2.71694, 2.79229, 2.91828, 4.23092, 4.21118, 4.08858, 4.05771, 3.69018, 3.68828, 7.48576, -66.2422, -68.4043, -68.4105, -61.9442, -61.991, -62.0695, -62.1763, -53.2184, -53.2242, -53.2372, -42.0446, -41.7335, -41.7339, -41.7342, -49.1492, 44.0084, 44.0789, 44.0802, 45.7291, 45.7507, 45.7502, 45.7496, 54.7704, 60.3509, 55.3374, 55.222, 55.2009, 55.1576, 48.741, 48.7471, 48.7594, 44.7653, 54.3011, 54.3492, -49.7907, -49.084, -44.5499, -44.5522, -44.5539, -42.5303, -42.5383, -42.5375, -42.538, -42.5412, -42.543, -42.551, -42.5538, -42.5693, -42.568, -42.5089, -42.9687, -42.7727, -42.8051, -42.803, -42.5731, -42.6419, -42.4221, -42.4238, -42.4259, -42.4271, -42.4248, -42.4243, -42.4287, -42.449, -42.4761, -42.4692, -42.4895, -42.0012, -42.4079, -42.4079, -42.4081, -42.4202, -42.42, -42.4197, -42.4194, -42.417, -42.4168, -42.5815, -42.5824, -42.5691, -42.5695, -42.5707, -42.5829, -42.5932, -42.5993, -42.6027, -42.6037, -42.1828, -42.1704, -42.1719, -42.1787, -42.1739, -42.1743, -42.1755, -42.1798, -42.1829, -42.1829, -42.1871, -42.1874, -42.1245, -42.1247, -42.1259, -42.123, -42.1243, -41.9473, -41.9465, -41.9296, -41.9373, -41.9397, -41.9398, -41.9398, -41.9311, -41.9341, -41.9354, -41.9317, -41.9311, -41.9308, -41.9389, -41.9393, -41.9396, -41.9401, -41.9362, -41.9368, -41.9361, -41.9607, -42.0322, -42.0322, -42.0323, -42.1286, -62.3526, -54.0409, -53.9853, -53.8669, -53.81, -52.2991, -52.2413, -52.1769, -51.9386, -51.8851, -51.6813, -49.7953, -49.7234, -49.5021, -49.4425, -49.4238, -49.4384, -49.4899, -50.2263, -50.2628, -50.6095, -51.6361, -51.657, -51.6717, -52.2297, -52.2284, -52.2206, -52.2034, -52.0457, -52.0437, -52.0373, -51.8265, -51.7968, -51.7525, -51.6934, -51.7045, -51.7545, -52.6079, -52.6015, -52.3036, -52.264, -52.1395, -51.7767, -51.7881, -51.8089, -51.8144, -51.5849, -51.5847, -51.5729, -51.5727, -51.5932, -42.8648, -42.8315, -33.3779, -33.3569, -33.3855, -33.3954, -33.4187, -33.9423, -33.9413, -33.9397, -33.0831, -33.0751, -35.9132, -27.5261, -27.5509, -27.5743, -28.1394, -28.1605, -28.1959, -30.9671, -31.0379, -31.1812, -32.5639, -32.6886, -33.3535, -33.5121, -37.3395, -37.4171, -39.4628, -39.4563, -39.4487, -39.3071, -40.9138, -40.9271, -41.2472, -41.2699, -41.3032, -40.9731, 60.7789, 59.7989, 4.16404, 6.15777, 6.17588, 6.18848, 6.20826, -9.89813, -10.0811, -49.909, -49.9104, -49.9115, -49.9132, -49.9143, -49.9165, -56.4491, -56.72, 62.9526, 62.9428, 52.8489, 52.8442, 52.8392, 52.8335, 42.2776, 42.3616, -40.209, -40.3395, -40.4633, -46.1793, -46.2755, -46.384, -46.5983, -46.6859, -46.7995, -47.1139, -47.228, -47.34, -49.3067, -54.7312, -54.7141, -54.6971, -52.975, -52.9658, -52.77, -52.7391, -52.7007, -52.6681, -50.7815, -50.6988, -50.4523, -50.2765, -48.1578, -48.1184, -48.0297, -47.2715, -47.2245, -46.9885, -46.9776, -46.866, -46.7075, -46.4472, -46.2721, -46.1378, -46.0911, -44.0343, -44.0073, -42.7467, -42.7611, -42.8624, -42.8873, -42.815, -42.7709, -41.6355, -41.6257, -41.3051, -41.2948, -41.1893, -40.9742, -40.4332, -40.4236, -40.0912, -40.0785, -40.5458, -40.568, -40.6031, -40.719, -44.6949, -45.9169, -45.9443, -46.1394, -50.2686, -50.5192, -45.3502, -45.3502, -45.3502, -45.3502, -45.3502]), array([-39.3761, -37.2828, -37.2141, -36.8612, -36.7846, 39.7248, 39.7137, 71.2579, 70.9794, 68.3303, 68.3347, 68.3382, -45.7055, 71.3674, 70.7632, 17.828, 15.7538, 6.96987, -45.9076, 78.6466, 78.6428, 62.8479, 82.909, 82.5288, 79.62, 77.5019, 77.4805, 77.4614, 77.4353, 81.3078, 81.2982, 81.2889, 81.277, 78.9318, 78.9331, 78.9355, 78.9468, 79.6208, 64.6819, -40.6677, -50.0283, -51.6895, -51.7029, -55.2907, -55.2857, -54.7959, -54.7869, -57.6112, -57.6199, -57.2042, -57.1955, 71.1824, 71.143, 71.1272, 57.8404, 57.5657, 60.2973, 62.1529, 65.0308, 65.0253, 65.0153, 65.0106, 64.984, 64.9569, 63.7585, -59.568, 76.7159, 76.4259, 76.4276, 78.0075, 78.0047, 78.0021, 77.7265, 78.9469, 82.0095, 82.0227, 82.0261, 82.031, 82.0355, 87.4657, 79.3578, 79.4054, 76.2552, 79.2633, 79.274, 79.2711, 79.8886, 82.0111, 82.2826, 82.2601, 84.5906, 84.5848, 75.846, 77.4909, 77.4912, 80.6127, 80.6609, 80.6613, 80.6623, 80.6692, 80.7045, 80.7072, 79.6969, 27.0353, 27.2491, 28.2669, 67.7407, 67.7387, 72.2829, 71.425, 68.3952, 68.3991, 74.804, 65.0978, 53.6326, 53.6341, 53.637, 53.6387, 53.6416, 53.6497, 53.6517, 58.0012, 58.0091, 59.2717, -56.6034, -56.5814, -48.929, -48.9772, -49.0775, -27.0354, 25.3596, 25.399, 25.4111, -18.0049, -19.353, -19.3488, -19.3454, -19.4895, -19.495, -19.0965, -19.12, -19.2038, -19.227, -19.2484, -19.2617, -19.2928, -19.2919, -19.2911, -19.1753, -19.0042, -18.9908, -17.5089, -17.4952, -17.2344, -16.977, -19.098, -19.1089, -20.4295, -20.4356, -20.4445, -21.1812, -21.1927, -22.3018, -22.3187, -22.343, -22.3763, -22.4142, -22.4787, -22.4517, -21.7402, -21.729, 80.3968, 80.3825, 80.3694, 80.3616, 80.3203, 81.5269, 81.521, 81.5194, 81.5188, -40.7876, 65.1534, 65.1547, 65.153, 65.1355, 65.1327, 59.6371, 59.3489, 59.3522, 59.3574, 55.4001, -38.2956, -38.3508, -38.4339, -38.504, -39.714, -39.7594, -39.8331, -41.0945, -41.1368, -41.1997, -42.5663, -42.611, -42.6669, -42.7505, -42.8201, -44.8243, -45.6526, -45.6761, -45.8031, -45.8261, -45.8689, -45.8468, -45.8275, -45.8005, -45.7537, -45.7539, -45.7489, -44.948, -44.9124, -44.87, -44.6639, -40.3047, -40.2958, -39.7881, -39.7371, -39.1506, -39.1671, -39.2064, -39.2334, -39.2793, -40.1173, -40.124, -40.1345, -40.1816, -40.1826, -39.9169, -39.9366, -39.9526, -39.9466, 75.7352, 75.7392, 75.7537, 75.7707, -54.5998, -60.2649, -60.2845, -55.2059, -55.2653, -55.2922, -34.6342, 35.1224, 35.5522, 35.9421, 70.8121, 62.0085, 2.28233, 2.25749, 2.22979, 2.18856, 2.3594, 2.36705, 2.38538, 2.38627, 2.39002, 2.39095, 2.39243, 2.39352, 5.10732, 3.36815, 3.31362, 3.25925, 1.85897, 1.81435, 1.78696, 70.6182, 68.3601, 2.96737, 2.98703, 73.1725, 45.8658, 45.8687, -42.6936, -26.9956, 71.0952, 71.0921, 71.0906, 71.053, 71.015, 63.4156, 63.4304, 63.4465, 61.8548, 62.5632, 62.5567, 62.5528, 62.5397, 62.5368, 62.5346, 62.5223, 62.5129, 62.5099, 62.5336, 58.9251, 58.9823, 58.8768, 58.8608, 59.9813, 58.1938, 63.882, 64.5425, 65.776, 65.7783, 65.6489, 65.6999, 65.6768, 65.6669, 64.8331, 64.8371, 64.8371, 64.8598, 64.8598, 63.62, 63.6259, 63.6306, 61.2953, 63.1302, 63.1245, 62.9441, 62.9437, 62.9432, 62.941, 62.9404, 62.9402, 62.9397, 68.7431, 68.7344, 68.7324, 68.727, 68.7175, 69.0635, 65.0533, 65.054, 65.0547, 65.0559, 65.2873, 65.3105, 63.9849, 64.0019, 64.0121, 64.4237, 64.3499, 65.1935, 65.1982, 65.2018, 65.1817, 65.188, 65.1858, 65.2887, 65.2891, 65.2898, 65.2891, 65.2884, 65.2866, 65.2829, 65.28, 65.2792, 65.2818, 65.2811, 65.2809, 65.2776, 65.2762, 65.2763, 65.2763, 65.2817, 65.2817, 65.2817, 65.2817, 65.2816, 65.2814, 65.2812, 65.3438, 65.3443, 65.3448, 65.3455, 65.3657, 65.3669, 65.3666, 65.3675, 65.3672, 65.367, 65.3663, 65.3662, 65.3652, 65.3639, 65.3639, 65.366, 65.369, 65.3697, 64.319, 64.2915, 64.2915, 64.2914, 64.2912, 64.2903, 64.2903, 64.2903, 62.9583, 62.9585, 63.2236, 63.224, 63.2243, 63.2245, 63.2247, 63.2251, 63.2259, 63.2261, 63.231, 63.2312, 63.2314, 63.232, 63.2448, 63.2491, 63.2493, 63.2501, 63.3092, 63.5211, 63.5205, 63.5205, 63.5204, 63.5195, 63.5163, 63.2973, 63.188, 63.2105, 64.2486, 64.2485, 64.1892, 64.1892, 64.1892, 64.1896, 64.2015, 64.2015, 64.2015, 64.2017, 64.2017, 64.2017, 64.2017, 64.2018, 64.2018, 64.2018, 64.2019, 64.2019, 64.2156, 64.2204, 63.6835, 63.6839, 64.3224, 64.3321, 64.3292, 64.3258, 64.3066, 64.3069, 64.2358, 64.2339, 64.2302, 64.228, 64.2337, 64.2366, 64.2565, 64.2555, 62.6497, 62.6423, 62.6367, 62.6361, 62.6364, 62.6376, 62.6378, 63.5563, 63.5578, 63.5578, 63.5578, 63.558, 63.5584, 63.5585, 63.5585, 63.5783, 63.5783, 63.5832, 63.5851, 63.5861, 63.6146, 63.6114, 63.6114, 64.096, 64.0939, 67.2865, 67.2399, 67.2368, 67.1267, 66.257, 66.2569, 65.2622, 65.2816, 65.281, 65.2801, 65.2804, 65.2859, 65.2871, 65.289, 65.2538, 65.2764, 65.6316, 65.6327, 65.6338, 65.6348, 65.4106, 65.4106, 65.4106, 65.4107, 65.7776, 65.8678, 65.8674, 65.867, 65.8667, 65.8675, 65.8697, 65.8471, 65.8483, 65.8475, 65.8398, 65.838, 65.8409, 65.8407, 65.0375, 65.0351, 65.3652, 65.3289, 65.332, 65.239, 65.2385, 65.2258, 65.225, 65.2243, 65.2234, 65.2223, 67.154, 67.1961, 66.6037, 66.6042, 66.6047, 65.0194, 65.0185, 59.7467, 59.7545, 59.7607, 59.9082, 60.0508, 60.0504, 60.0489, 60.0482, 68.9332, 57.7595, 57.7558, 57.7502, 57.9085, 57.9071, 57.9054, 57.9729, 61.8753, 61.8795, 61.8945, 61.8983, 61.8999, 61.7816, 61.7809, 61.7806, 61.78, 61.7802, 65.4705, 65.4782, 65.4857, 65.5214, 64.4455, 64.4428, 64.4398, 63.8518, 59.8885, 59.884, 59.8779, 59.9134, 59.9178, 59.9284, 59.9288, 59.9269, 59.9246, 79.8681, 66.0768, 66.0905, -41.2809, 71.8273, 71.8547, 71.9536, 71.959, 71.9446, 71.1234, 1.71129, 1.68644, 1.66778, 1.64827, -56.4286, -57.1172, -57.176, -59.2432, -59.2276, -59.2078, -59.1542, -59.1916, -60.7917, -60.832, -60.8879, -60.937, -61.3015, -61.3627, -61.4834, -61.5061, -61.5565, -60.2068, -60.1598, -60.0856, -59.5641, -59.5656, -59.4871, -59.4556, -59.1584, -59.146, -56.3308, 5.33538, -0.171079, -0.211408, -16.8515, -16.8271, -16.786, -16.7518, 60.4218, 60.4201, 60.4189, 63.9224, 65.5441, 65.5432, 65.5425, 48.5131, 75.658, 75.9855, 75.9824, 75.3901, 75.3837, 75.3834, 75.3831, 78.704, 77.7001, 79.7251, 79.7734, 79.7807, 79.7977, 77.5276, 77.5313, 77.5387, 75.0688, 21.0026, 21.0797, 70.5611, 64.0186, 63.8715, 63.8595, 63.8511, 64.1117, 64.1243, 64.1279, 64.1294, 64.1282, 64.1276, 64.1276, 64.1286, 64.047, 64.0489, 61.8163, 64.0731, 64.2274, 64.199, 64.198, 64.2071, 64.1673, 64.2714, 64.2698, 64.2675, 64.2647, 64.2618, 64.2556, 64.2528, 64.2454, 64.2469, 63.1621, 63.1594, 62.7608, 63.1026, 63.1027, 63.1028, 63.0908, 63.0899, 63.0876, 63.086, 63.0597, 63.0592, 64.0509, 64.0524, 64.0392, 64.0394, 64.0394, 64.0348, 64.0281, 64.0199, 64.0074, 64.0043, 63.8123, 63.7944, 63.7932, 63.7884, 63.8046, 63.8046, 63.8038, 63.8007, 63.797, 63.797, 63.7928, 63.7921, 63.7721, 63.7718, 63.7428, 63.7485, 63.7487, 64.0935, 64.0936, 64.0834, 64.0866, 64.0881, 64.0878, 64.0873, 64.0915, 64.0543, 64.0534, 64.048, 64.0482, 64.0482, 64.0484, 64.048, 64.0477, 64.0472, 64.0428, 64.0418, 64.0423, 64.0377, 63.1947, 63.1943, 63.1934, 62.1284, 51.8443, -17.7559, -17.8598, -18.0884, -18.2152, -20.7271, -20.8156, -20.9163, -21.2981, -21.3949, -21.7599, -24.8067, -24.9428, -25.4698, -25.6206, -27.2187, -27.2604, -27.4575, -28.4925, -28.5142, -28.818, -29.4354, -29.4707, -29.5634, -31.113, -31.1405, -31.1956, -31.2632, -32.3188, -32.3375, -32.3972, -34.0157, -34.0534, -34.11, -34.5982, -34.6149, -34.6645, -35.6683, -35.6906, -36.3646, -36.389, -36.4658, -36.5219, -36.5273, -36.5537, -36.5881, -38.0026, -38.0028, -38.0196, -38.0205, -38.0627, -28.6889, -28.7483, -37.9538, -38.0287, -38.3171, -38.3923, -38.5683, -42.713, -42.776, -42.8737, -46.0142, -46.037, -41.6419, -43.3324, -43.4084, -43.4979, -44.7869, -44.8183, -44.8778, -45.8567, -45.8709, -45.8996, -46.0742, -46.0776, -46.0721, -46.0695, -46.274, -46.2746, -46.6708, -46.6978, -46.7299, -47.1836, -50.1967, -50.1954, -50.1567, -50.1431, -50.1232, -29.3894, 1.78458, -13.2806, -56.6278, -56.741, -56.7213, -56.6842, -56.6261, -46.292, -46.26, 71.0509, 71.0522, 71.0533, 71.055, 71.056, 71.0582, 35.5358, 24.0126, 0.796178, 0.790286, 76.7624, 76.7646, 76.767, 76.7697, 70.0702, 70.0572, -30.147, -30.0362, -29.9311, -27.1759, -27.2415, -27.3161, -27.5597, -27.6594, -27.7937, -28.1368, -28.2378, -28.3368, -31.7643, -36.6348, -36.6691, -36.7032, -35.7243, -35.7442, -36.0841, -36.1338, -36.1963, -36.4485, -38.382, -38.4429, -38.622, -38.7422, -40.067, -40.0933, -40.16, -40.7937, -40.8537, -41.6908, -41.7137, -41.8791, -41.9787, -42.1487, -42.2361, -42.3032, -42.3265, -43.2709, -43.2775, -43.9089, -43.9274, -44.0576, -44.0895, -44.1884, -44.2035, -44.5925, -44.5959, -44.7057, -44.7093, -44.7454, -44.8191, -45.0045, -45.0078, -45.1217, -45.126, -44.8401, -44.8273, -44.8071, -44.7402, -42.4462, -41.7412, -41.7253, -41.6128, 70.8182, 71.8172, 64.1508, 64.1508, 64.1508, 64.1508, 64.1508])], [array([-25.9843, -54.2866, -54.29, ..., -50.5312, -45.3502, -45.3502]), array([-42.8612, -14.8404, -14.6698, ..., 71.8366, 64.1508, 64.1508])], [array([-50.2088, -50.224, -56.2347, -46.104, -46.1152, -46.1148, 55.1409, -43.4346, -45.4208, -51.8946, -49.9483, -49.9448, 55.8367, 52.4814, 52.7649, 52.7839, 53.0743, 52.9224, 55.7422, 55.3691, 50.679, 52.4008, 51.9068, 51.7487, 51.4778, 51.9046, 51.8906, 51.8944, 51.8972, 52.4573, 52.5273, 52.9501, 52.9547, 52.9793, 52.9066, 52.7063, 52.316, 52.3549, 51.7347, 55.1584, 54.9504, 54.9948, 54.9883, 55.1343, 55.651, 55.5143, 56.6433, 57.3374, 57.6993, 53.7437, 52.4288, 50.5438, 50.095, 45.6031, 46.5074, 49.7827, 50.0614, 59.6175, 59.9722, 59.9527, 59.2381, 59.2369, 58.709, 59.1456, 59.157, 63.68, 62.5559, 60.8392, 59.6069, 59.308, 59.3235, 59.3601, 49.7606, 49.7893, 51.3335, 52.0084, 51.8708, 51.8658, 52.2779, 56.4588, 56.4689, 56.4872, 56.4982, 56.5165, 56.6426, 56.6574, 56.2051, 55.9141, 55.8927, 55.8717, 56.5728, 57.4337, 57.4434, 57.3294, 56.3418, 55.5166, 55.4751, 55.401, 54.9704, 54.9073, 54.8909, 52.7065, 52.187, 51.2793, 51.124, 52.2548, 52.2928, 52.4038, 52.9626, 53.1451, 53.2145, 53.3329, 53.3518, 52.9432, 56.5635, 56.6057, 55.7836, 50.906, 52.1412, 52.1357, 52.5865, 56.3672, 56.3507, 58.5721, 59.1258, 55.2697, 55.2473, 55.2506, 55.032, 54.8981, 54.8452, 54.7682, 53.0817, 52.8262, 52.7112, 51.0668, 51.2765, 51.2902, 51.3183, 51.3133, 51.3184, 50.1147, 50.111, 50.101, 50.441, 50.334, 50.3462, 50.3632, 50.4614, 50.4818, 50.5432, 50.5443, 50.5418, 49.9198, 50.1957, 50.193, 50.0241, 50.0039, 51.6929, 51.7821, 51.93, 51.9135, 51.8607, 51.5632, 51.5344, 51.4705, 51.208, 51.2068, 51.0452, 51.044, 53.0162, 53.1659, 53.1715, 52.8173, 52.8322, 53.7553, 55.5809, 55.621, 54.6037, 53.9639, 53.9051, 53.8594, 51.5675, 50.7926, 50.6195, 56.9372, 60.0734, 60.0703, 60.0612, 59.938, 59.7228, 59.7255, 59.7575, 59.7593, 59.4569, 59.3182, 59.5114, 67.6534, 67.7536, 68.5085, 66.6017, 66.572, -54.1685, -54.0387, -53.0318, -52.1091, 48.4036, 48.4961, 48.5473, 52.9118, 52.8094, 53.5547, 53.5517, 53.543, 48.6622, 51.9824, 52.0637, 51.0211, 53.3624, 53.1855, 54.0009, 54.0236, 54.0692, 7.55739, -65.326, 59.0292, 59.071, 59.1287, 59.1638, -50.0651, 47.1224, 47.1441, 50.6574, 50.7296, 50.7757, 60.3538, 69.579, 61.8782, 48.4297, 51.3486, 51.5887, 51.6005, 51.5971, 51.418, 51.377, 51.361, 51.3557, -50.2513, -50.1024, -49.6303, -49.9191, -46.9056, -46.8948, -42.4394, -41.7207, -42.3377, -42.338, -42.4409, -42.4408, -42.4407, -42.4405, -42.4646, -42.4656, -42.4665, -64.3109, -49.6586, -49.9315, -50.8378, -50.8444, -50.8478, -51.0895, -50.8341, -50.8207, -51.2043, -51.2143, -45.3704, -42.7432, -43.0006, -43.0738, -43.0739, -42.2131, -42.238, -42.238, -42.0059, -42.0073, -42.0191, -42.0074, -42.9109, -42.8051, -42.8051, -42.8052, -42.3508, -42.3506, -42.3506, -42.3502, -42.3308, -42.3304, -42.3304, -42.3304, -42.3293, -41.4911, -41.4246, -41.4244, -41.4241, -41.4237, -41.4147, -40.7574, -40.7386, -42.3047, -42.1728, -42.1728, -42.1077, -41.975, -42.2138, -52.6248, -54.9881, -50.8699, -50.1602, 64.4134, -41.9848, -48.9859, -42.3854, -41.8971, -41.8972, 44.0783, 51.7954, 50.494, 50.5581, 56.3431, 57.5017, 57.5492, 52.9085, 52.8031, -42.56, -42.509, -42.7939, -42.7914, -42.5654, -42.5564, -42.6431, -42.6001, -42.613, -42.5424, -42.4952, -42.4773, -42.1863, -42.1855, -42.141, -42.1419, -42.1406, -41.9359, -41.9377, -41.9468, -41.9597, 2.3997, 5.2409, -50.2495, -50.2039, -50.1817]), array([68.0328, 68.0169, 77.5093, 62.8713, 62.8529, 62.8491, 76.7935, 64.3829, 62.7659, 60.1861, 61.8891, 61.9028, 77.9118, 88.0852, 88.3136, 88.3235, 88.9145, 88.6809, 88.3501, 88.387, 85.2021, 82.776, 82.4869, 82.2601, 81.9045, 81.5698, 81.7145, 81.7419, 81.8081, 83.2769, 83.3665, 85.2225, 85.3708, 85.722, 85.7779, 85.8639, 86.6798, 86.8759, 86.9632, 87.7757, 87.5812, 87.469, 87.4766, 87.7519, 88.5771, 88.2768, 87.7167, 87.8348, 87.9723, 88.0498, 87.5746, 86.8984, 87.8975, 84.188, 84.9572, 82.6348, 75.6772, 78.1457, 79.6418, 79.6766, 80.6514, 80.6732, 80.0985, 81.0163, 81.0114, 79.9664, 80.584, 81.0453, 81.1941, 82.3278, 82.3586, 82.4142, 80.0882, 80.2165, 81.2801, 81.777, 81.8666, 81.867, 82.1099, 83.2774, 83.2972, 83.3291, 83.3476, 83.3988, 83.6861, 83.7308, 84.7724, 85.0496, 85.0806, 85.1109, 83.2837, 82.582, 82.5805, 81.257, 82.3217, 83.055, 83.1031, 83.1904, 83.841, 83.9783, 84.0111, 86.4225, 86.878, 86.6707, 86.6694, 87.2415, 87.2578, 87.3024, 87.4767, 87.5301, 87.5505, 87.5919, 87.5979, 80.748, 81.3398, 81.3544, 81.4159, 76.1528, 79.043, 79.0669, 80.3289, 81.8561, 81.55, 80.7337, 80.2544, 83.4686, 83.6057, 83.6167, 83.5071, 83.4862, 83.4776, 83.4685, 81.0299, 81.0519, 81.0624, 83.563, 83.8353, 83.848, 84.102, 84.151, 84.2335, 81.0938, 81.1091, 81.1963, 82.519, 82.1964, 82.2289, 82.2249, 82.4416, 82.4659, 82.7052, 82.7097, 82.7203, 84.1059, 84.379, 84.3819, 84.5177, 84.5058, 83.1877, 82.9955, 84.3427, 84.3678, 84.4444, 85.0983, 85.1027, 85.1072, 84.9364, 84.9359, 84.6124, 84.6124, 83.7187, 83.5577, 83.5569, 83.553, 83.5563, 83.3606, 82.7673, 82.7778, 86.2206, 86.5311, 86.5585, 86.5798, 85.5859, 85.0975, 85.0793, 78.1293, 80.4504, 79.7169, 79.7193, 80.8087, 80.6174, 80.6396, 80.9464, 80.9542, 80.5875, 80.5631, 81.5367, 80.4578, 80.5121, 81.6863, 82.5525, 82.6122, 4.45234, 57.0305, 57.6382, 58.4997, 79.1319, 79.257, 79.3182, 79.0566, 79.4723, 81.1879, 81.1804, 81.1708, 77.3856, 80.1386, 80.1074, 80.2585, 80.1249, 81.5204, 81.533, 81.5998, 81.6967, -42.7635, 65.0405, -14.2576, -14.2656, -14.2765, -14.2831, 70.8289, 78.6221, 78.6966, 79.4222, 79.4904, 79.536, -11.5786, 62.9852, 47.9453, 77.1615, 78.8497, 79.2579, 79.2542, 79.2545, 79.8606, 79.9294, 79.9323, 79.9229, 71.2606, 61.8219, 61.351, 61.7825, 63.0947, 63.0941, 65.697, 65.665, 64.861, 64.8611, 64.5428, 64.5371, 64.5304, 64.5202, 65.1354, 65.134, 65.1327, 62.0218, 70.5686, 64.9364, 65.2843, 65.2944, 65.2948, 64.3093, 65.2785, 65.2828, 65.3574, 65.3566, 63.5319, 64.2665, 63.5401, 63.5195, 63.5194, 64.1888, 64.1981, 64.1981, 64.3219, 64.3222, 64.3055, 64.3096, 63.0709, 62.6584, 62.6585, 62.6588, 63.5617, 63.5619, 63.5619, 63.5622, 63.5809, 63.5813, 63.5813, 63.5813, 63.5824, 65.2764, 65.4176, 65.4179, 65.4183, 65.4186, 65.4216, 65.7738, 65.7939, 64.393, 65.0926, 65.0911, 65.1752, 62.5428, 62.0953, 59.9053, 69.3472, 64.8834, 65.5432, 67.2058, 64.5328, 48.0048, 65.1473, 64.4858, 64.4854, 75.9017, 79.404, 77.2413, 77.2792, 78.043, 79.1818, 79.222, 79.5231, 79.5481, 64.1208, 61.8162, 64.1894, 64.1898, 64.2114, 64.2087, 64.1657, 64.1415, 64.1627, 63.1065, 63.1955, 63.0689, 63.7933, 63.7944, 63.7721, 63.7718, 63.7701, 64.052, 64.0424, 64.0449, 64.0409, -42.8787, -42.883, 70.953, 70.9652, 70.9683])], [array([-27.472, -27.4719, -27.4719, ..., -45.3502, -45.3502, -45.3502]), array([-39.2773, -39.2775, -39.2776, ..., 64.1508, 64.1508, 64.1508])], [array([-27.8931, -55.6859, -56.1053, ..., -49.0374, -49.8206, -45.3502]), array([-42.3959, 10.7774, 37.4392, ..., 67.7874, 65.9647, 64.1508])], [array([-57.6893, -55.1287, -56.7271, -53.8173, -53.6892, -63.5633, 45.4017, 56.9227, 52.2212, 52.0647, 53.3128, 53.3534, 53.5694, 53.7367, 55.0345, 55.6644, 58.5347, 58.7458, 63.2337, 59.8915, 59.3333, -56.8067, -50.7092, -50.7414, -50.8472, -50.5592, -50.7981, -63.0173, -62.9938, -63.0151, -63.0833, -63.1019, -63.4674, -63.5189, -63.5515, -63.5709, -63.9579, -46.0276, 44.0102, 50.7028, 50.6971, 54.2398, 54.3704, 54.3708, 54.2982, 55.5334, 58.791, 59.5917, 55.2047, 55.6018, 55.7991, 56.2738, 56.276, 56.0224, 56.9509, 56.9317, 56.0831, 56.5631, 61.6987, 61.4153, 60.447, 61.6653, 61.7122, 51.6328, 55.0288, 55.0119, -49.3845, 13.3422, -6.92154, -17.0838, -24.5794, -52.591, -68.3391, -68.2778, 52.1127, 52.6258, 52.6545, 55.2022, 56.31, 56.3116, 61.8151, 62.5976, 50.4623, 48.4032, 48.2999, 48.2916, 48.2876, 45.6579, 50.3927, 44.4429, 59.2456, 57.5767, 51.0562, 52.9673, 57.1365, 59.6009, 59.5821, 59.5811, 59.5848, 59.5903, 62.866, -52.9725, -54.7144, -53.8243, -54.1129, -54.0358, -56.3908, -56.4586, -56.4429, -56.2881, -56.2645, -56.302, -56.3514, -56.3939, -56.4037, -56.4376, -56.4801, -56.5304, -62.2514, -62.2965, 35.983, 53.3481, 53.3365, 54.2662, 54.0498, 54.0911, 54.0942, 57.6243, 60.7656, 60.7658, 63.244, 64.0673, 64.4787, 65.7738, 66.1827, 66.286, 66.3593, 66.6462, 29.1135, -42.2212, -56.8515, -56.7986, -50.3781, -73.5735, -73.5804, -49.4332, -52.1535, -54.7367, -54.1788, -44.0229, 54.0346, 63.2853, 55.2934, -62.0075, -60.0448, -56.5998, -56.6673, 51.4687, 42.9409, 36.0558, 36.4132, 63.7026, 63.7509, 47.5589, 47.6019, 61.5117, 63.6514, 59.7866, 24.2004, 23.9439, 14.2654, -50.5093, -50.5102, -50.4151, -50.4204, -52.3441, -49.2917, -48.8005, -42.374, -42.389, -42.4407, -42.4471, -51.2994, -51.2959, -51.107, -51.1309, -42.5103, -42.5113, -42.5128, -43.0009, -43.001, -43.024, -42.3324, -42.243, -42.2852, -42.2852, -42.423, -42.1499, -42.0079, -42.0059, -42.0133, -42.0137, -42.0139, -42.062, -42.056, -42.1071, -42.8324, -42.8423, -42.9143, -42.9146, -43.0648, -43.0649, -42.3551, -42.3508, -42.3317, -41.2392, -41.6665, -41.4108, -41.4131, -41.4192, -41.4286, -41.4136, -41.5679, -41.4345, -40.7171, -41.6305, -42.2639, -42.6715, -42.114, -42.1139, -42.1139, -52.8625, -52.8752, -52.6919, -52.4994, -54.9246, -50.0639, -50.9717, -54.3436, -54.3773, -54.3758, -54.3691, -54.3669, 44.178, 44.5766, 54.8261, 64.2974, 29.4695, 16.4495, 0.347408, -53.1003, -51.5062, 61.8643, -16.5848, -58.4283, -58.4576, -58.6958, -58.6878, -68.0367, -60.3287, -41.889, -52.4243, -51.5044, -51.444, -51.2629, -48.8188, -48.0288, -47.8536, -47.7636, -47.8902, -47.8333, -49.3224, -51.7717, -52.0249, -50.9235, -50.8593, -48.1901, -47.4124, -47.2843, -45.598, -42.341, -42.336, -57.709, -51.175, 44.8059, 54.5135, -44.7937, -42.9413, -42.9966, -42.5854, -42.0006, -42.0025, -42.8777, -42.8778, -42.8778, -42.4215, -42.4101, -42.4118, -42.169, -42.1699, -42.1816, -42.1287, -42.1433, -42.1451, -42.127, -42.122, -42.1195, -42.1216, -41.9394, -41.9354, -41.935, -41.9902, 59.4486, 31.6032, 31.5142, 12.1999, -63.4789, -63.334, 62.9256, 25.1109, -50.0665]), array([6.03639, 9.92926, 39.8997, 40.7215, 40.4841, 1.00007, 72.9267, 83.1239, 72.8354, 72.8327, 71.1866, 71.1541, 70.9896, 70.8734, 70.1166, 69.8312, 69.243, 69.2856, 68.9552, 78.5688, 77.7701, 21.538, 67.5434, 67.448, 66.9166, 66.0204, 60.678, 31.3219, 31.1348, 31.1524, 31.2167, 31.2352, 31.8247, 31.8737, 31.9015, 31.9179, 31.589, 62.7262, 75.9929, 78.1047, 78.11, 82.6111, 82.5829, 82.5686, 82.5138, 79.0893, 80.5593, 80.0172, 83.2803, 83.2514, 83.1084, 81.7993, 81.8031, 81.7913, 80.9021, 80.9126, 67.9406, 65.7955, 67.7019, 68.2736, 71.4016, 72.842, 72.8391, 79.6319, 76.804, 76.7949, -17.8309, -45.9958, -48.1186, -58.3331, -48.8121, 59.769, 59.8664, 59.8629, 79.0078, 78.4306, 78.3881, 78.4325, 77.726, 77.7258, 78.3399, 77.8892, 86.8935, 87.2224, 87.4043, 87.4211, 87.4292, 84.5514, 75.3298, 72.8176, 79.0967, 82.4274, 84.7324, 83.5255, 77.258, 80.8052, 80.7941, 80.7928, 80.783, 80.7797, 78.5881, 69.6338, 57.3442, 58.016, 57.5381, 57.4638, 35.3972, 34.7524, 34.7514, 34.9285, 35.0057, 35.0407, 35.0322, 35.2775, 35.2898, 35.3058, 35.3, 34.2758, 24.3952, -17.9791, 70.3294, 81.9399, 81.9137, 80.8507, 81.6657, 81.6232, 81.6233, 70.4715, 67.9322, 67.7163, 67.9932, 68.4155, 68.5881, 68.6726, 68.1805, 68.1319, 67.6241, 67.5289, -36.8291, -28.103, 21.0488, 22.0938, 70.879, 59.2304, 59.2325, 61.1175, 59.0246, 59.8333, -4.00085, -25.8819, 12.5255, 62.668, 21.3478, 59.647, 62.5175, 36.9696, 36.6844, 80.5682, 70.5148, 68.7988, 66.895, 4.85324, 4.81697, -32.4544, -32.4121, 69.9726, 68.1002, 73.834, -40.1489, -40.2539, -43.9339, 71.2181, 71.2265, 71.3025, 71.3014, 59.4957, 62.3589, 63.7771, 64.8721, 64.8767, 65.1711, 65.1615, 65.0937, 65.0908, 65.1435, 65.1317, 62.9378, 62.9389, 62.9406, 63.5397, 63.5397, 63.5333, 64.3468, 64.2, 64.2157, 64.2158, 64.7272, 61.1893, 64.316, 64.3127, 64.31, 64.3091, 64.3088, 64.2701, 64.3393, 64.2071, 62.5607, 62.5318, 62.3228, 62.3219, 61.886, 61.8857, 63.5575, 63.5617, 63.5801, 61.2744, 65.2251, 65.657, 65.6557, 65.6521, 65.4124, 65.4258, 66.8301, 66.3096, 65.6472, 67.5651, 64.381, 64.7808, 65.324, 65.3266, 65.3275, 59.663, 59.6844, 59.8309, 60.0285, 69.4313, 62.9527, 62.302, 59.7831, 59.6399, 59.6405, 59.6398, 59.6412, 75.6051, 75.7602, 61.1132, 67.009, -38.6603, -45.3658, -47.8624, 63.2791, -14.7496, -1.49113, -44.0481, 9.9457, 9.92224, 9.4734, 9.42358, -1.33146, -16.6104, 65.6528, 58.6803, 57.6927, 57.6374, 57.364, 54.8666, 53.8132, 53.2665, 53.2024, 53.2162, 52.747, 57.0579, 58.4112, 58.1455, 57.2875, 57.2466, 55.4822, 52.7162, 52.6401, 49.2236, 65.0216, 64.9947, 46.3909, -14.6135, 75.2546, 78.5982, -26.7076, 64.0726, 64.0801, 64.2059, 62.7605, 62.7616, 62.2492, 62.2491, 62.2491, 63.1144, 63.0549, 63.0599, 63.799, 63.7989, 63.7894, 63.7826, 63.7784, 63.7398, 63.7367, 63.7518, 63.7439, 63.7411, 64.0733, 64.0506, 64.0509, 63.5577, -13.6128, -40.0686, -40.0972, -46.9748, 26.125, 26.1142, 0.761864, -39.8616, 70.8749])], [array([-57.5526, -57.7286, -55.4556, -56.0782, -56.7289, -57.5665, -54.2102, -6.61281, 53.9662, 53.1108, 55.1978, 50.076, 43.5727, 44.6635, 48.3488, 48.3886, 48.4782, 49.5842, 51.9464, 52.1348, 53.6636, 59.4846, 59.503, 59.3123, 59.231, 58.983, 59.4515, 61.1099, 61.4979, 61.4856, 61.2183, 60.2449, 59.9168, 48.4474, 43.0987, 43.0876, 41.6272, 41.6385, 41.6598, -49.9975, -49.9979, -49.936, -49.9203, -49.9266, -50.1924, -50.1965, -50.2001, -50.2011, -50.1955, -50.8412, -50.5106, -41.1424, -56.1573, -56.2364, -56.2463, -56.2497, -56.2557, -56.2608, -56.2873, -46.1582, 51.0419, 62.5312, 50.3962, 43.9059, 43.8707, 43.8391, 54.674, 54.4933, 54.2106, 54.3605, 56.0068, 57.8001, 55.2179, 56.5795, 55.9981, 57.8373, 59.0831, 59.1285, 60.2248, 60.0574, 59.9501, 56.0729, 52.8313, 53.963, 53.8141, 54.2772, 54.278, 53.781, -30.0626, -28.6489, -28.4825, -20.287, -57.2772, -50.8659, -54.3785, -52.2725, -52.0351, -52.045, -53.0223, -51.863, -49.9799, -49.9732, -49.9594, -49.9339, -49.3276, -51.1489, -55.2963, 57.1498, 51.1862, 48.5577, 43.8682, 43.9457, 44.1492, 50.466, 50.4648, 50.4638, 50.4432, 50.4336, 52.1803, 52.6262, 55.2006, 55.8997, 56.7491, 56.7443, 56.7197, 56.716, 56.713, 56.6987, 52.7347, 53.1395, 52.4921, 55.5671, 55.6885, 51.6405, 51.6297, 51.5657, 51.7052, 55.0659, 55.5828, 45.9491, 63.1782, 44.004, 52.516, 58.2642, 57.5778, 56.5151, 56.5053, 56.1138, 53.03, 52.7605, 59.7147, 59.4088, 59.4325, 59.4629, 59.4575, 59.4329, 59.4625, 59.4571, 59.4031, 59.3874, 59.3857, 62.9668, 63.5165, 60.4983, 58.8891, 58.74, 58.4746, 56.8171, 53.4762, 53.4296, -50.4833, -50.7106, -50.6059, -54.1159, -26.5738, -54.0302, -54.09, -54.048, -54.1784, -54.1894, -52.6544, -50.4021, -50.8299, -50.8655, -50.9159, -53.0273, -52.0749, -52.4529, -56.0297, -55.9443, 38.3927, 49.115, 47.7537, 46.5959, 47.5397, 47.6453, 50.3266, 50.5615, 52.0503, 59.5595, 63.3929, 58.2277, 54.2723, -50.0145, -50.0206, -56.7028, -56.765, -56.5849, -62.5624, -60.9959, -41.9633, -56.1433, 44.8005, 44.823, 50.943, 53.3496, 53.3538, 53.3315, 35.7207, 36.1045, 53.0858, 53.1938, 53.1896, 53.0968, 53.3349, 53.3443, 54.053, 54.0438, 54.0783, 54.0382, 59.9601, 59.8158, 59.415, 58.2115, 57.9109, 57.7154, 59.6623, 61.5438, 61.3653, 59.8932, 59.7513, 58.6222, 56.1706, 49.761, 53.8464, 4.26526, -50.4031, -50.346, -50.2837, -50.2656, -50.2095, -71.2746, -65.3624, -65.435, -65.4319, -55.9695, -55.9793, -55.8248, -55.2437, 41.8455, 53.2486, 51.9903, 53.9486, 52.6763, 44.7825, 44.7404, 44.7522, 44.7585, 44.9511, 44.9654, 50.4021, 60.3025, 59.6626, 59.8478, 60.3192, 54.4853, 54.6079, 60.6594, 63.7506, -49.9448, -56.9567, -56.6309, 47.5945, 49.7477, 55.4198, 40.3779, 36.7866, 35.2682, 35.2801, 50.8199, 51.2858, 53.8992, 63.9765, 59.9645, 59.2935, 62.547, 61.2806, 61.0498, 60.8425, 64.9857, 62.8387, 56.7777, 58.5288, 62.8373, -50.1131, -50.1603, -48.6917, -48.3007, -49.1084, -49.3152, -48.6863, -52.6356, -49.6158, -48.7902, -49.3449, -49.3541, -49.281, -57.7789, -49.6245, -49.741, -49.8054, -49.8207, -49.841, -49.5405, -49.5608, -49.5797, -49.6564, -48.9305, -46.8561, -41.9878, -41.7181, -41.6874, -41.7024, -41.7471, -42.2556, -42.2908, -42.3303, -42.3304, -42.3339, -42.3375, -42.3382, -42.3737, -42.4038, -42.4039, -42.405, -42.4416, -42.4404, -47.7162, -47.6754, -47.3413, -64.9142, -64.9, -64.8803, -64.8087, -64.8599, -64.9924, -64.8887, -64.7957, -64.7554, -64.2597, -53.7192, -53.7144, -53.838, -53.8633, -49.9201, -51.2929, -51.1845, -51.2929, -51.0864, -50.9412, -51.206, -51.1746, -50.7305, -50.8293, -50.8415, -50.8283, -50.8205, -50.8216, -51.3267, -51.3213, -51.2703, -51.246, -51.2088, -43.7046, -42.7261, -42.7154, -42.4864, -42.7987, -42.8001, -43.021, -43.0228, -43.0228, -43.023, -43.0231, -43.0235, -43.0261, -43.0262, -43.0262, -43.0629, -43.0741, -43.0867, -42.2478, -42.2479, -42.2732, -41.9844, -41.8593, -41.857, -41.9476, -42.0419, -42.0058, -42.0077, -42.0072, -42.0053, -42.0001, -42.0138, -42.016, -42.0126, -42.0123, -42.0695, -42.0974, -42.0537, -42.0538, -42.0913, -42.8425, -42.77, -42.8042, -42.8048, -42.8048, -42.805, -42.805, -42.8057, -42.8057, -42.8058, -42.8246, -42.9095, -42.9098, -42.91, -42.3492, -42.3407, -42.3394, -42.3335, -42.3306, -42.3291, -42.2959, -42.2959, -42.2969, -42.5332, -41.9007, -41.6827, -40.7125, -40.7129, -41.222, -41.2269, -42.0734, -41.529, -41.6759, -41.6778, -41.6775, -41.6403, -41.6174, -41.3508, -41.4284, -41.4285, -41.4257, -41.4139, -41.5484, -41.5485, -41.5485, -41.4649, -41.49, -41.3559, -41.2695, -41.3017, -41.3004, -41.2846, -40.748, -40.7452, -40.7426, -40.7139, -41.4048, -42.2184, -42.221, -42.2234, -42.3064, -42.6648, -42.6671, -42.1108, -42.1108, -42.1104, -42.1104, -42.1104, -42.2308, -42.2097, -41.9682, -41.9864, -41.9902, -41.9944, -42.0028, -42.2159, -42.6104, -52.2044, -52.6928, -52.5119, -54.9345, -56.8282, -56.6736, -66.2672, -66.1868, -66.1871, -66.1877, -66.1881, -66.0153, -50.8179, -50.8422, -50.8468, -50.8501, -50.8571, -51.2675, -51.8908, -52.5458, -50.5885, -50.9764, -50.8455, -49.5512, -54.5549, -54.5986, -54.5968, -54.6003, -54.5985, -54.587, -54.3633, -56.7752, -56.7419, 42.4533, 44.008, 44.8896, 45.402, 53.5463, 53.1244, 54.0554, 55.4387, 55.6405, 55.8039, 54.0796, 54.0337, 54.0182, 64.5885, -51.2077, -50.0558, -50.0532, -53.2369, -55.0531, 54.6587, 62.5694, 62.8583, 57.5995, -53.1927, -41.9834, -41.5185, -41.5258, -41.5278, -41.5371, -41.7337, -47.0798, -50.769, -50.778, -50.7775, -42.3367, -41.9176, -50.2383, -56.4048, -56.4263, -56.4327, 11.8762, 39.0644, 43.2248, 46.8646, 43.9274, 43.9183, 44.0878, 55.2443, 55.2219, 48.2212, 44.7486, 44.7703, 49.9169, -49.7609, -49.741, -49.175, -44.5718, -44.5715, -44.571, -44.5709, -42.421, -42.5418, -42.9403, -42.9442, -42.9521, -42.8379, -42.7867, -42.7868, -42.565, -42.5619, -42.5569, -42.5874, -42.6153, -42.6222, -42.6093, -42.6421, -42.468, -42.4678, -42.4663, -42.5451, -42.4962, -42.4738, -42.4811, -42.481, -41.9331, -41.9981, -42.2579, -42.8752, -42.8798, -42.8812, -42.421, -42.4222, -42.474, -42.4744, -42.4746, -42.4757, -42.479, -42.4793, -42.4815, -42.6022, -42.603, -42.1828, -42.1827, -42.163, -42.1899, -42.1928, -42.1916, -42.1893, -42.1916, -42.1085, -42.1126, -42.124, -42.1427, -42.1249, -42.1269, -41.8901, -41.8977, -41.9254, -41.9259, -41.9279, -41.9453, -41.9429, -41.9602, -41.9593, -41.9594, -41.9595, -41.9599, -41.9565, -41.9676, -42.0058, -56.4714, -56.4428, -56.3888, -56.3893, -56.3892, -56.3889, -51.7542, -51.7905, -27.631, 46.5658, -49.8881, -56.1479, 59.2087, -42.8205, -50.2856, -50.242, -45.3502, -45.3502, -45.3502]), array([0.449583, 2.89253, 16.7898, 34.3942, 39.9006, 40.2345, 36.6468, -46.5296, 81.5678, 81.5543, 83.979, 83.6127, 76.5972, 70.7493, 72.936, 72.9024, 72.7607, 69.4069, 72.3695, 72.5828, 70.923, 78.4845, 78.5058, 77.7448, 77.6324, 77.3137, 75.7755, 74.6592, 73.7467, 73.6966, 73.4905, 68.4935, 67.4178, 78.5175, 72.5634, 72.5819, 70.0927, 70.1199, 70.177, 71.3693, 71.3657, 70.5387, 70.7822, 70.7977, 67.9922, 67.9956, 68.0045, 68.0171, 68.0324, 66.9195, 66.0644, 62.8724, 44.1363, 77.5068, 77.4693, 77.4678, 77.4657, 77.4646, 77.4638, 62.5702, -4.07657, -6.06292, 66.8859, 76.386, 76.3871, 76.386, 83.3922, 82.6336, 82.6797, 82.6083, 80.7718, 80.3172, 83.2361, 81.5818, 80.807, 79.4894, 76.9685, 76.7546, 71.7983, 71.2839, 71.057, 65.7782, 78.7079, 79.532, 79.6967, 79.6107, 79.5971, 77.4432, -51.9219, -54.5989, -54.6562, -57.2039, 26.9085, 69.6325, 58.0756, 59.967, 59.5569, 59.5299, 58.8816, 59.968, 61.7649, 61.7913, 61.8454, 61.946, 64.1468, 58.5598, 56.9088, -14.1042, -1.88322, 73.5631, 76.1117, 76.143, 76.0815, 76.3863, 76.3865, 76.3866, 76.3888, 76.3902, 78.9127, 78.3863, 78.4333, 77.7556, 80.4375, 80.4191, 80.388, 80.3828, 80.378, 80.3728, 86.5965, 87.4691, 87.9168, 88.421, 88.3627, 82.1213, 82.1233, 82.0076, 86.9314, 87.7604, 88.5061, 85.0186, 79.3645, 76.6152, 80.586, 79.8901, 82.4074, 81.7666, 81.7678, 81.8058, 83.5928, 83.5142, 77.3253, 80.6061, 80.6017, 80.5879, 80.5857, 80.5772, 80.579, 80.5758, 80.5642, 80.5591, 80.5556, 81.0549, 83.6567, 71.9108, 70.1419, 69.978, 69.6863, 65.4076, 17.9821, 11.4082, 71.0043, 72.3684, 71.9652, 4.51151, -55.5142, -4.45026, 56.8074, 56.9307, 58.076, 58.0629, 58.5528, 58.9923, 59.5695, 59.5325, 59.4802, 57.6254, 58.5854, 57.5441, 37.4713, 37.0442, -30.0596, -26.1749, -22.6023, -20.1716, -16.5004, -16.0827, -8.63621, -8.04636, -4.76832, 7.74719, 0.0987431, 5.48306, 1.66479, 71.0768, 71.069, 37.0309, 37.0447, 35.0718, 25.1676, -19.1327, 63.1965, 57.8921, -20.3185, -20.169, -7.24191, 81.2411, 81.2157, 81.1662, 72.3795, 76.5499, 81.6075, 81.5212, 81.5189, 81.5962, 81.923, 81.9351, 81.6733, 81.6523, 81.5536, 81.4595, 72.9459, 72.9396, 72.7968, 71.437, 71.1569, 70.3385, 68.9297, 68.1698, 68.133, 67.4467, 67.4149, 67.5402, 67.2346, 62.2542, 6.21248, -37.2192, 70.6755, 70.6941, 70.7245, 70.7333, 70.7671, 60.1188, 65.1241, 65.033, 65.0185, 77.8872, 77.8687, 59.8535, 59.2081, -25.3783, -9.39707, -2.45575, 1.07463, 48.3434, 75.4036, 75.4895, 75.5077, 75.5162, 75.7452, 75.7658, 70.8356, 62.8494, 62.8714, 62.57, 61.4756, 16.3502, 11.5954, -15.2148, -12.644, 71.2313, 35.4888, 17.3206, -10.1619, -6.49541, -3.07632, 69.2336, 68.4202, 70.7582, 70.8148, 67.1276, 66.6816, 63.5164, 2.99578, 4.10661, 4.88676, 68.0116, 67.3535, 67.2314, 67.1217, 58.7393, 60.346, 72.7184, 68.0789, -0.060813, 71.3396, 71.2964, 61.7641, 62.4351, 63.2339, 62.6045, 63.2175, 60.8646, 62.5861, 62.4782, 62.0859, 62.0984, 62.058, 58.8861, 61.9989, 61.9263, 61.883, 61.8798, 61.8597, 62.1562, 62.1896, 62.1974, 62.22, 64.551, 63.0939, 65.6452, 65.6673, 65.6767, 65.5502, 65.461, 64.8358, 64.8466, 64.8587, 64.8588, 64.8598, 64.8609, 64.8611, 64.872, 64.8813, 64.8813, 64.8816, 64.5823, 64.5129, 64.0142, 63.9155, 63.5903, 61.3915, 61.3945, 61.4071, 63.0559, 63.0839, 63.1552, 63.1314, 62.9104, 62.7219, 61.9612, 68.7517, 68.725, 68.9856, 68.9357, 64.9901, 65.065, 65.0744, 65.0872, 65.2922, 64.0354, 64.41, 64.3582, 65.2833, 65.2846, 65.2956, 65.2824, 65.2858, 65.2864, 65.4367, 65.4361, 65.3591, 65.3472, 65.3762, 63.0323, 64.3118, 64.2895, 63.8141, 63.2539, 63.2554, 63.5341, 63.5336, 63.5336, 63.5336, 63.5335, 63.5334, 63.5327, 63.5327, 63.5327, 63.5225, 63.5194, 63.5159, 64.2018, 64.2018, 64.2112, 63.3901, 63.6091, 63.6695, 63.7737, 64.3262, 64.3219, 64.3223, 64.3422, 64.3412, 64.3341, 64.31, 64.3033, 64.2831, 64.2929, 64.2445, 64.231, 64.2782, 64.2788, 64.2202, 62.6478, 62.6725, 62.6546, 62.657, 62.6571, 62.6577, 62.658, 62.6606, 62.6609, 62.6613, 62.6841, 62.3367, 62.336, 62.3353, 63.5633, 63.5714, 63.5727, 63.5783, 63.5811, 63.5826, 63.6409, 63.6406, 63.6132, 63.1052, 59.5927, 65.5426, 65.6988, 65.6986, 67.2886, 67.2411, 65.7792, 66.317, 65.2383, 65.3092, 65.3079, 65.2743, 65.2888, 65.6915, 65.437, 65.437, 65.4162, 65.4243, 66.8192, 66.8222, 66.823, 66.186, 66.145, 65.9269, 65.9058, 65.8309, 65.8307, 65.8326, 65.7838, 65.7869, 65.7896, 65.8203, 67.8354, 64.5521, 64.542, 64.5322, 64.3935, 64.7908, 64.7873, 65.3713, 65.3671, 65.3447, 65.3428, 65.3414, 66.5694, 66.6269, 62.5499, 62.5169, 62.5099, 62.5021, 62.4865, 62.0915, 64.9085, 60.1418, 59.8097, 60.0494, 69.4125, 57.7495, 57.7818, 61.8055, 61.7885, 61.7894, 61.7905, 61.7921, 61.6726, 64.8645, 64.8734, 64.875, 64.8762, 64.8787, 64.0257, 61.4184, 58.786, 62.3313, 62.2833, 62.3161, 63.778, 59.8651, 59.9173, 59.916, 59.9173, 59.9118, 59.8491, 59.6255, 43.7307, 43.6408, -30.356, -20.7574, 75.2808, 70.1262, 58.3598, 60.3562, 60.9064, 61.1699, 61.1728, 61.166, 63.4088, 63.5721, 63.7273, 68.329, 71.0538, 70.7657, 70.784, 64.1615, 57.705, -11.6323, -1.71084, -1.85604, -1.04951, 60.7522, 64.4409, 65.1848, 65.192, 65.1939, 65.203, 65.5437, 64.1668, 62.5772, 62.536, 62.5052, 64.9953, 64.4068, 59.9178, 51.8869, 51.7471, 51.6584, -44.4242, -28.8289, -21.8455, -15.2585, 75.9229, 75.9268, 75.9819, 79.7632, 79.7734, 78.424, 75.2466, 75.0794, 69.2543, 70.4718, 70.4768, 63.892, 63.8735, 63.8737, 63.8741, 63.8741, 61.7667, 61.7833, 64.0739, 64.1005, 64.0985, 64.173, 64.1905, 64.1884, 64.2113, 64.2104, 64.2089, 64.2032, 64.1669, 64.1653, 64.169, 64.167, 64.2356, 64.2357, 64.2371, 63.1023, 63.1974, 63.1634, 63.1538, 63.1537, 62.719, 62.759, 62.9188, 62.2507, 62.2479, 62.247, 63.1137, 63.1151, 63.0714, 63.0712, 63.071, 63.0702, 63.0676, 63.0673, 63.0656, 64.0096, 64.0064, 63.8123, 63.8124, 63.8058, 63.7954, 63.7816, 63.7832, 63.7877, 63.7948, 63.7761, 63.7433, 63.7408, 63.7367, 63.7375, 63.7381, 64.0782, 64.0963, 64.0719, 64.0718, 64.0612, 64.0445, 64.0444, 64.0392, 64.0424, 64.0422, 64.0417, 64.0408, 63.8495, 63.7535, 63.4226, 50.0581, 50.0406, 49.8068, 49.8171, 49.8247, 49.8357, -34.6643, -34.6887, -44.1548, -19.394, 71.0304, 46.7572, -1.57063, -44.1865, 70.9514, 70.9554, 64.1508, 64.1508, 64.1508])], [array([-55.6868, -55.6864, 51.3609, ..., -49.3938, -49.7422, -49.7599]), array([10.7257, 10.75, 78.749, ..., 68.4768, 67.9645, 67.512])], [array([-25.9976, -25.9967, -25.9966, ..., -49.77, -50.2941, -45.3502]), array([-42.8292, -42.8314, -42.8315, ..., 70.5441, 70.778, 64.1508])], [array([-54.996, -55.0134, -55.4322, ..., -45.3502, -45.3502, -45.3502]), array([34.5101, 34.4646, 40.5269, ..., 64.1508, 64.1508, 64.1508])]], ndim=2, xbin=array([-75.4162, -72.6762, -69.9362, -67.1962, -64.4562, -61.7162, -58.9762, -56.2362, -53.4962, -50.7562, -48.0162, -45.2762, -42.5363, -39.7963, -37.0563, -34.3163, -31.5763, -28.8363, -26.0963, -23.3563, -20.6163, -17.8763, -15.1363, -12.3963, -9.65636, -6.91636, -4.17637, -1.43638, 1.30361, 4.0436, 6.78359, 9.52359, 12.2636, 15.0036, 17.7436, 20.4836, 23.2235, 25.9635, 28.7035, 31.4435, 34.1835, 36.9235, 39.6635, 42.4035, 45.1435, 47.8835, 50.6235, 53.3635, 56.1034, 58.8434, 61.5834, 64.3234, 67.0634, 69.8034, 72.5434]), ybin=array([-62.3339, -59.3664, -56.3989, -53.4315, -50.464, -47.4966, -44.5291, -41.5617, -38.5942, -35.6268, -32.6593, -29.6918, -26.7244, -23.7569, -20.7895, -17.822, -14.8546, -11.8871, -8.91965, -5.9522, -2.98474, -0.0172848, 2.95017, 5.91763, 8.88508, 11.8525, 14.82, 17.7875, 20.7549, 23.7224, 26.6898, 29.6573, 32.6247, 35.5922, 38.5596, 41.5271, 44.4946, 47.462, 50.4295, 53.3969, 56.3644, 59.3318, 62.2993, 65.2667, 68.2342, 71.2017, 74.1691, 77.1366, 80.104, 83.0715, 86.0389, 89.0064]), zbin=None, bin_info={'mode': 'bin_size', 'xstep': 2.7399917105077347, 'xnum_bins': 55, 'ystep': 2.9674559900021107, 'ynum_bins': 52}), neuron_IDXs=array([ 0,  1,  2,  3,  4,  5,  6,  7,  8,  9, 10, 11, 12, 13, 14, 15, 16, 17, 18, 19, 20, 21, 22, 23, 24, 25, 26, 27, 28, 29]), neuron_IDs=array([ 1,  3, 11, 13, 20, 27, 38, 42, 43, 44, 47, 48, 54, 55, 56, 57, 58, 61, 62, 63, 64, 65, 68, 70, 75, 80, 87, 91, 93, 95]), setup_on_init=True, post_load_on_init=False, debug_print=False, time_bin_size=0.5, spikes_df=          flat_spike_idx     t_seconds  aclu  unit_id  shank_id  flattened_spike_linear_unit_spike_idx           neuron_type          x          y     lin_pos    speed  fragile_linear_neuron_IDX  neuron_IDX             t  PBE_id      scISI  shank  qclu  cluster binned_time\n",
       " 8946613          8946613  20756.009300    70       70         6                                  60325  NeuronType.PYRAMIDAL -27.472030 -39.277307   15.658379  0.01815                         70          70  20756.009300      -1   0.004500      1   111      111           1\n",
       " 8946621          8946621  20756.015500    44       44         6                                  57158  NeuronType.PYRAMIDAL -27.471987 -39.277410   15.658768  0.01815                         44          44  20756.015500      -1   0.007433      1   111      111           1\n",
       " 8946623          8946623  20756.021667    70       70         6                                  60326  NeuronType.PYRAMIDAL -27.471944 -39.277514   15.659156  0.01815                         70          70  20756.021667      -1   0.012367      1   111      111           1\n",
       " 8946625          8946625  20756.025467    44       44         6                                  57159  NeuronType.PYRAMIDAL -27.471918 -39.277578   15.659561  0.01815                         44          44  20756.025467      -1   0.009967      1   111      111           1\n",
       " 8946626          8946626  20756.026533    70       70         6                                  60327  NeuronType.PYRAMIDAL -27.471910 -39.277595   15.659913  0.01815                         70          70  20756.026533      -1   0.004867      1   111      111           1\n",
       " 8946630          8946630  20756.032600    44       44         6                                  57160  NeuronType.PYRAMIDAL -27.471868 -39.277697   15.661913  0.01815                         44          44  20756.032600      -1   0.007133      1   111      111           1\n",
       " ...                  ...           ...   ...      ...       ...                                    ...                   ...        ...        ...         ...      ...                        ...         ...           ...     ...        ...    ...   ...      ...         ...\n",
       " 10379579        10379579  24003.749833    70       70         6                                  70535  NeuronType.PYRAMIDAL -45.350155  64.150757 -114.327086  0.00000                         70          70  24003.749833    6392   0.004767      1   111      111        6496\n",
       " 10379582        10379582  24003.750967    57       57         6                                  21546  NeuronType.PYRAMIDAL -45.350155  64.150757 -114.327086  0.00000                         57          57  24003.750967    6392   0.003667      1   111      111        6496\n",
       " 10379592        10379592  24003.755967    42       42         9                                  12955  NeuronType.PYRAMIDAL -45.350155  64.150757 -114.327086  0.00000                         42          42  24003.755967    6392   0.009000      1   111      111        6496\n",
       " 10379598        10379598  24003.761967    11       11         9                                  19075  NeuronType.PYRAMIDAL -45.350155  64.150757 -114.327086  0.00000                         11          11  24003.761967    6392  36.223800      1   111      111        6496\n",
       " 10379613        10379613  24003.862067    38       38         8                                 141653  NeuronType.PYRAMIDAL -45.350155  64.150757 -114.327086  0.00000                         38          38  24003.862067      -1   0.254567      1   111      111        6496\n",
       " 10379645        10379645  24003.959233    38       38         8                                 141654  NeuronType.PYRAMIDAL -45.350155  64.150757 -114.327086  0.00000                         38          38  24003.959233      -1   0.097167      1   111      111        6496\n",
       " \n",
       " [105837 rows x 20 columns], time_binning_container=BinningContainer(\n",
       "     edges=shape=(6497,) - [20756, 20756.5, ..., 24004],\n",
       "     centers=shape=(6496,) - [20756.3, 20756.8, ..., 24003.8],\n",
       "     edge_info=BinningInfo(variable_extents=(20756.0093, 24003.959233333335), step=0.5, num_bins=6497, bin_indicies=shape=(6497,)),\n",
       "     center_info=BinningInfo(variable_extents=(20756.0093, 24003.959233333335), step=0.5, num_bins=6496, bin_indicies=shape=(6496,))\n",
       " ), unit_specific_time_binned_spike_counts=array([[0, 0, 0, ..., 0, 0, 0],\n",
       "        [0, 0, 0, ..., 0, 0, 1],\n",
       "        [0, 0, 0, ..., 0, 0, 0],\n",
       "        ...,\n",
       "        [0, 0, 0, ..., 0, 0, 0],\n",
       "        [0, 0, 1, ..., 0, 0, 0],\n",
       "        [0, 0, 1, ..., 0, 0, 3]], dtype=int64), total_spike_counts_per_window=array([25, 28, 15, ...,  7,  3, 19], dtype=int64), flat_p_x_given_n=array([[0, 5.05652e-303, 0, ..., 5.15469e-49, 5.70353e-44, 0],\n",
       "        [0, 4.45053e-269, 0, ..., 2.72055e-43, 4.4826e-39, 0],\n",
       "        [0, 1.7435e-241, 0, ..., 2.41908e-38, 7.75728e-35, 0],\n",
       "        ...,\n",
       "        [8.73343e-54, 2.11077e-69, 2.12585e-28, ..., 0.000722166, 0.0028591, 3.98009e-46],\n",
       "        [4.40088e-57, 1.2689e-72, 8.07508e-30, ..., 0.000704606, 0.00321916, 1.18766e-49],\n",
       "        [6.45637e-60, 1.77992e-75, 5.15608e-31, ..., 0.000728398, 0.00368596, 1.27098e-52]]), p_x_given_n=array([[[0, 5.05652e-303, 0, ..., 5.15469e-49, 5.70353e-44, 0],\n",
       "         [0, 4.45053e-269, 0, ..., 2.72055e-43, 4.4826e-39, 0],\n",
       "         [0, 1.7435e-241, 0, ..., 2.41908e-38, 7.75728e-35, 0],\n",
       "         ...,\n",
       "         [8.78895e-95, 8.46238e-113, 1.95542e-45, ..., 8.97738e-10, 4.00987e-10, 1.41117e-94],\n",
       "         [5.9192e-103, 1.61542e-122, 1.75262e-50, ..., 1.75296e-12, 3.9781e-12, 4.60738e-111],\n",
       "         [4.18757e-110, 5.43517e-131, 8.23577e-55, ..., 8.05905e-15, 6.45538e-14, 1.20807e-125]],\n",
       " \n",
       "        [[0, 1.89609e-252, 0, ..., 5.03131e-44, 2.17469e-39, 0],\n",
       "         [0, 2.54711e-223, 0, ..., 2.2627e-38, 1.59584e-34, 0],\n",
       "         [0, 3.92216e-198, 4.27853e-88, ..., 1.86356e-33, 2.67231e-30, 0],\n",
       "         ...,\n",
       "         [1.61029e-81, 3.47455e-98, 3.33329e-39, ..., 2.9998e-08, 2.27028e-08, 2.92427e-82],\n",
       "         [1.28176e-88, 1.80097e-106, 1.93413e-43, ..., 1.82057e-10, 5.17102e-10, 1.19484e-96],\n",
       "         [3.81444e-95, 1.09861e-113, 5.10762e-47, ..., 2.46583e-12, 1.87992e-11, 2.89491e-109]],\n",
       " \n",
       "        [[0, 1.25404e-224, 0, ..., 1.87875e-39, 2.5947e-35, 0],\n",
       "         [0, 7.20662e-196, 0, ..., 7.32804e-34, 1.79126e-30, 0],\n",
       "         [0, 6.40573e-171, 1.3822e-75, ..., 5.62855e-29, 2.91049e-26, 0],\n",
       "         ...,\n",
       "         [1.86884e-68, 1.31439e-83, 6.7413e-33, ..., 1.95471e-06, 1.74609e-06, 4.58711e-69],\n",
       "         [7.55241e-75, 1.1379e-90, 2.05026e-36, ..., 3.33497e-08, 8.49857e-08, 1.06133e-81],\n",
       "         [8.06232e-81, 5.30136e-97, 1.78496e-39, ..., 9.96022e-10, 5.85574e-09, 9.85302e-93]],\n",
       " \n",
       "        ...,\n",
       " \n",
       "        [[0, 0, 0, ..., 2.60922e-35, 0, 0],\n",
       "         [0, 0, 0, ..., 2.04144e-31, 0, 0],\n",
       "         [0, 0, 0, ..., 9.90762e-28, 0, 0],\n",
       "         ...,\n",
       "         [1.3134e-38, 2.51366e-51, 1.67985e-20, ..., 0.000305378, 0.00369925, 2.31117e-30],\n",
       "         [1.23726e-40, 3.84967e-53, 2.62087e-21, ..., 0.00031713, 0.00474883, 1.76393e-32],\n",
       "         [2.27457e-42, 1.03788e-54, 5.85762e-22, ..., 0.000369156, 0.00613354, 2.4797e-34]],\n",
       " \n",
       "        [[0, 0, 0, ..., 4.1611e-41, 0, 0],\n",
       "         [0, 0, 0, ..., 3.94706e-37, 0, 0],\n",
       "         [0, 0, 0, ..., 2.39248e-33, 0, 0],\n",
       "         ...,\n",
       "         [2.42426e-46, 1.48413e-60, 1.78621e-24, ..., 0.000512536, 0.00369342, 1.76752e-38],\n",
       "         [4.89712e-49, 4.00395e-63, 1.30716e-25, ..., 0.000506612, 0.00441023, 2.79891e-41],\n",
       "         [2.45338e-51, 2.31308e-65, 1.52584e-26, ..., 0.000545943, 0.00534258, 1.15476e-43]],\n",
       " \n",
       "        [[0, 0, 0, ..., 1.36862e-57, 0, 0],\n",
       "         [0, 0, 0, ..., 6.39332e-49, 0, 0],\n",
       "         [0, 0, 0, ..., 3.08159e-43, 0, 0],\n",
       "         ...,\n",
       "         [8.73343e-54, 2.11077e-69, 2.12585e-28, ..., 0.000722166, 0.0028591, 3.98009e-46],\n",
       "         [4.40088e-57, 1.2689e-72, 8.07508e-30, ..., 0.000704606, 0.00321916, 1.18766e-49],\n",
       "         [6.45637e-60, 1.77992e-75, 5.15608e-31, ..., 0.000728398, 0.00368596, 1.27098e-52]]]), most_likely_position_flat_indicies=array([1948, 1434, 1333, ..., 2745, 2723, 2205], dtype=int64), most_likely_position_indicies=None, marginal=DynamicContainer({'x': DynamicContainer({'p_x_given_n': array([[1.75587e-33, 5.8064e-46, 8.65882e-15, ..., 0.0490303, 0.0244552, 2.47589e-37],\n",
       "        [2.35655e-27, 1.67543e-39, 7.6282e-12, ..., 0.0435916, 0.0117561, 4.01272e-32],\n",
       "        [1.0163e-21, 8.6416e-32, 7.18612e-09, ..., 0.0515859, 0.0119617, 2.14208e-26],\n",
       "        ...,\n",
       "        [1.06389e-20, 2.93765e-26, 2.06443e-09, ..., 0.0692293, 0.136301, 1.32059e-14],\n",
       "        [7.85381e-25, 1.79361e-34, 1.58031e-12, ..., 0.106768, 0.192206, 2.72759e-20],\n",
       "        [1.71281e-28, 1.07719e-42, 1.60202e-15, ..., 0.110421, 0.220614, 1.29712e-25]]), 'most_likely_positions_1D': array([30.0735, 2.67361, -2.80638, ..., 71.1734, 71.1734, 43.7735]), 'revised_most_likely_positions_1D': array([30.0735, 2.67361, -2.80638, ..., 71.1734, 71.1734, 43.7735])}), 'y': DynamicContainer({'p_x_given_n': array([[1.79451e-15, 1.27809e-10, 6.0698e-05, ..., 0.026998, 0.000110303, 2.57719e-16],\n",
       "        [3.16901e-12, 6.51451e-08, 0.000549541, ..., 0.0123789, 0.000122713, 7.81463e-15],\n",
       "        [5.39046e-09, 7.70586e-05, 0.00527974, ..., 0.00248322, 0.000142277, 7.77052e-14],\n",
       "        ...,\n",
       "        [3.28953e-24, 1.91724e-30, 2.78485e-11, ..., 0.0346936, 0.0461214, 1.08287e-17],\n",
       "        [5.36879e-23, 9.56099e-28, 3.22874e-10, ..., 0.0146694, 0.0328295, 2.12872e-18],\n",
       "        [1.94019e-22, 2.78221e-26, 1.05524e-09, ..., 0.0122657, 0.0332526, 3.87993e-19]]), 'most_likely_positions_1D': array([-31.1756, -43.0454, -40.0779, ..., 63.783, -1.50101, -25.2407]), 'revised_most_likely_positions_1D': array([-31.1756, -43.0454, -40.0779, ..., 63.783, -1.50101, -25.2407])})}), most_likely_positions=array([[30.0735, -31.1756],\n",
       "        [2.67361, -43.0454],\n",
       "        [-2.80638, -40.0779],\n",
       "        ...,\n",
       "        [71.1734, 63.783],\n",
       "        [71.1734, -1.50101],\n",
       "        [43.7735, -25.2407]]), revised_most_likely_positions=array([[30.0735, -31.1756],\n",
       "        [2.67361, -43.0454],\n",
       "        [-2.80638, -40.0779],\n",
       "        ...,\n",
       "        [71.1734, 63.783],\n",
       "        [71.1734, -1.50101],\n",
       "        [43.7735, -25.2407]]))}"
      ]
     },
     "execution_count": 128,
     "metadata": {},
     "output_type": "execute_result"
    }
   ],
   "source": [
    "pf2D_Decoder_dict"
   ]
  },
  {
   "cell_type": "code",
   "execution_count": 125,
   "id": "b08b9bc0",
   "metadata": {},
   "outputs": [
    {
     "data": {
      "text/plain": [
       "ParametersContainer(epoch_estimation_parameters: neuropy.utils.dynamic_container.DynamicContainer\n",
       ")"
      ]
     },
     "execution_count": 125,
     "metadata": {},
     "output_type": "execute_result"
    }
   ],
   "source": [
    "# curr_active_pipeline.preprocessing_parameters\n",
    "preprocessing_parameters = curr_active_pipeline.sess.config.preprocessing_parameters\n",
    "preprocessing_parameters\n",
    "lap_estimation_parameters = preprocessing_parameters.epoch_estimation_parameters.laps\n",
    "lap_estimation_parameters.global_session_name = deepcopy(hardcoded_params.global_session_name)\n",
    "lap_estimation_parameters.non_global_activity_session_names = deepcopy(hardcoded_params.non_global_activity_session_names)\n",
    "lap_estimation_parameters.use_direction_dependent_laps = True\n"
   ]
  },
  {
   "cell_type": "code",
   "execution_count": null,
   "id": "94ea1bb9",
   "metadata": {},
   "outputs": [],
   "source": [
    "from pyphoplacecellanalysis.General.Pipeline.Stages.ComputationFunctions.MultiContextComputationFunctions.DirectionalPlacefieldGlobalComputationFunctions import BaseTrackTemplates, TrackTemplates\n",
    "\n",
    "BaseTrackTemplates(decoders_dict=)\n"
   ]
  },
  {
   "cell_type": "code",
   "execution_count": 7,
   "id": "b77caca1",
   "metadata": {
    "tags": [
     "run-fresh-load",
     "active-2025-09-21"
    ]
   },
   "outputs": [
    {
     "name": "stdout",
     "output_type": "stream",
     "text": [
      "epochs_to_merge_as_global_epoch_names: ['pre', 'maze1', 'post1', 'maze2', 'post2']\n",
      "WARNING: Intervals in start_stop_times_arr are normally non-overlapping, but we can continue since we are using the slower determine_unsorted_event_interval_identity(...). Continuing.\n"
     ]
    },
    {
     "name": "stderr",
     "output_type": "stream",
     "text": [
      "C:\\Users\\pho\\repos\\Spike3DWorkEnv\\pyPhoPlaceCellAnalysis\\src\\pyphoplacecellanalysis\\Analysis\\Decoder\\reconstruction.py:2615: RuntimeWarning: invalid value encountered in divide\n",
      "  curr_unit_marginal_x.p_x_given_n = curr_unit_marginal_x.p_x_given_n / np.sum(curr_unit_marginal_x.p_x_given_n, axis=0) # sum over all positions for each time_bin (so there's a normalized distribution at each timestep)\n",
      "C:\\Users\\pho\\repos\\Spike3DWorkEnv\\pyPhoPlaceCellAnalysis\\src\\pyphoplacecellanalysis\\Analysis\\Decoder\\reconstruction.py:2627: RuntimeWarning: invalid value encountered in divide\n",
      "  curr_unit_marginal_y.p_x_given_n = curr_unit_marginal_y.p_x_given_n / np.sum(curr_unit_marginal_y.p_x_given_n, axis=0) # sum over all positions for each time_bin (so there's a normalized distribution at each timestep)\n"
     ]
    }
   ],
   "source": [
    "# active_laps_decoding_time_bin_size: float = 0.25\n",
    "active_laps_decoding_time_bin_size: float = 1.0\n",
    "\n",
    "all_context_filter_epochs_decoder_result, global_only_epoch = decode_using_contextual_pf2D_decoder(curr_active_pipeline, contextual_pf2D_Decoder=contextual_pf2D_Decoder, active_laps_decoding_time_bin_size=active_laps_decoding_time_bin_size)\n",
    "# 10m 2s\n",
    "\n",
    "## 32m at 0.25"
   ]
  },
  {
   "cell_type": "markdown",
   "id": "f4e279cb",
   "metadata": {},
   "source": [
    "#### Build `DirectionalDecodersContinuouslyDecodedResult` object to hold all the decoded epochs/decoders/etc:"
   ]
  },
  {
   "cell_type": "code",
   "execution_count": 8,
   "id": "e86f50cf",
   "metadata": {
    "tags": [
     "run-fresh-load",
     "active-2025-09-21"
    ]
   },
   "outputs": [],
   "source": [
    "from pyphoplacecellanalysis.General.Pipeline.Stages.ComputationFunctions.MultiContextComputationFunctions.DirectionalPlacefieldGlobalComputationFunctions import DirectionalDecodersContinuouslyDecodedResult\n",
    "\n",
    "global_spikes_df: pd.DataFrame = deepcopy(curr_active_pipeline.sess.spikes_df)\n",
    "directional_decoders_decode_result: DirectionalDecodersContinuouslyDecodedResult = DirectionalDecodersContinuouslyDecodedResult(pf1D_Decoder_dict=pf2D_Decoder_dict, pseudo2D_decoder=contextual_pf2D_Decoder, spikes_df=global_spikes_df, continuously_decoded_result_cache_dict={\n",
    "        active_laps_decoding_time_bin_size: dict(pseudo2D = all_context_filter_epochs_decoder_result,\n",
    "                                        #     **individual_decoder_decoding_results,\n",
    "                                            ),\n",
    "\t})\n",
    "curr_active_pipeline.global_computation_results.computed_data['DirectionalDecodersDecoded'] = directional_decoders_decode_result"
   ]
  },
  {
   "cell_type": "code",
   "execution_count": null,
   "id": "e5105bc7",
   "metadata": {},
   "outputs": [],
   "source": [
    "directional_decoders_decode_result_pkl_output_path: Path = curr_active_pipeline.get_output_path().joinpath('2025-09-23_directional_decoders_decode_result.pkl')\n"
   ]
  },
  {
   "cell_type": "code",
   "execution_count": null,
   "id": "31ab1b3a",
   "metadata": {},
   "outputs": [],
   "source": [
    "## Load from pickle\n",
    "from pyphoplacecellanalysis.General.Pipeline.Stages.ComputationFunctions.MultiContextComputationFunctions.DirectionalPlacefieldGlobalComputationFunctions import DirectionalDecodersContinuouslyDecodedResult\n",
    "\n",
    "directional_decoders_decode_result: DirectionalDecodersContinuouslyDecodedResult = DirectionalDecodersContinuouslyDecodedResult.from_file(pkl_path=directional_decoders_decode_result_pkl_output_path)\n",
    "curr_active_pipeline.global_computation_results.computed_data['DirectionalDecodersDecoded'] = directional_decoders_decode_result ## assign to curr_active_pipeline's global result\n",
    "directional_decoders_decode_result\n",
    "\n"
   ]
  },
  {
   "cell_type": "code",
   "execution_count": null,
   "id": "4a0ed642",
   "metadata": {},
   "outputs": [],
   "source": [
    "directional_decoders_decode_result_pkl_output_path: Path = curr_active_pipeline.get_output_path().joinpath('2025-09-23_directional_decoders_decode_result.pkl')\n",
    "directional_decoders_decode_result.save(pkl_output_path=directional_decoders_decode_result_pkl_output_path)\n",
    "print(f'directional_decoders_decode_result_pkl_output_path: \"{directional_decoders_decode_result_pkl_output_path.as_posix()}\"')"
   ]
  },
  {
   "cell_type": "markdown",
   "id": "a6d3af70",
   "metadata": {},
   "source": [
    "## UNUSED - PENDING: Detection of laps/run sprints from position data"
   ]
  },
  {
   "cell_type": "code",
   "execution_count": null,
   "id": "3c86a5be",
   "metadata": {},
   "outputs": [],
   "source": [
    "from neuropy.analyses.placefields import Position\n",
    "import ruptures as rpt  # our package\n",
    "\n",
    "def lap_detect(lin_pos, sigma = 5, jump=10, model = \"l2\"):\n",
    "    \"\"\" \n",
    "        jump=10 # speeds things up at the cost of quality\n",
    "        sigma = 5 # standard dev.\n",
    "    \"\"\"\n",
    "    # change point detection\n",
    "    model = \"l2\"  # \"l1\", \"rbf\", \"linear\", \"normal\", \"ar\",...\n",
    "    algo = rpt.Binseg(model=model, jump=jump).fit(lin_pos)\n",
    "    # algo = rpt.Dynp(model=\"l2\").fit(lin_pos)\n",
    "    num_samples: int = len(lin_pos)\n",
    "\n",
    "    n_dim: int = np.ndim(lin_pos)\n",
    "    pen: float = np.log(num_samples) * n_dim * sigma**2 # In the situation in which the number of change points is unknown, one can specify a penalty\n",
    "    my_bkps = algo.predict(pen=pen)\n",
    "    return my_bkps\n",
    "\n",
    "\n",
    "\n",
    "a_sess = curr_active_pipeline.filtered_sessions['maze1']\n",
    "a_pos: Position = a_sess.position\n",
    "a_pos_df: pd.DataFrame = a_pos.adding_approx_head_dir_columns()\n",
    "a_pos_df"
   ]
  },
  {
   "cell_type": "code",
   "execution_count": null,
   "id": "9f80509f",
   "metadata": {},
   "outputs": [],
   "source": [
    "lap_detection_columns_list = [\n",
    "    ['lin_pos', 'speed'],\n",
    "    ['lin_pos', 'approx_head_dir_degrees'],\n",
    "    ['lin_pos', 'speed', 'approx_head_dir_degrees'],\n",
    "    ['x', 'y', 'velocity_x_smooth', 'velocity_y_smooth', 'approx_head_dir_degrees'],\n",
    "    ['x_smooth', 'y_smooth', 'velocity_x_smooth', 'velocity_y_smooth', 'approx_head_dir_degrees'],\n",
    "]\n",
    "\n",
    "lap_detection_dict = {\n",
    "\t\n",
    "}\n",
    "\n",
    "\n"
   ]
  },
  {
   "cell_type": "code",
   "execution_count": null,
   "id": "184291cf",
   "metadata": {},
   "outputs": [],
   "source": [
    "pos_columns = lap_detection_columns_list[-1]\n",
    "\n",
    "pos_arr = a_pos_df[pos_columns].to_numpy()\n",
    "bkpts = lap_detect(pos_arr)\n"
   ]
  },
  {
   "cell_type": "code",
   "execution_count": null,
   "id": "2073b7d7",
   "metadata": {},
   "outputs": [],
   "source": [
    "lap_detection_dict[tuple(pos_columns)] = bkpts"
   ]
  },
  {
   "cell_type": "code",
   "execution_count": null,
   "id": "6f17b150",
   "metadata": {},
   "outputs": [],
   "source": [
    "# show results\n",
    "rpt.show.display(pos_arr, bkpts, figsize=(10, 6))\n",
    "plt.show()"
   ]
  },
  {
   "cell_type": "code",
   "execution_count": null,
   "id": "4a4ccc91",
   "metadata": {},
   "outputs": [],
   "source": [
    "lin_pos = (a_pos_df['lin_pos', 'approx_head_dir_degrees'].to_numpy())\n",
    "lap_detection_1D = lap_detect(lin_pos)\n",
    "lap_detection_1D"
   ]
  },
  {
   "cell_type": "code",
   "execution_count": null,
   "id": "d68d5d94",
   "metadata": {},
   "outputs": [],
   "source": [
    "\n",
    "lin_pos = (a_pos_df['lin_pos'].to_numpy())\n",
    "lap_detection_1D = lap_detect(lin_pos)\n",
    "lap_detection_1D"
   ]
  },
  {
   "cell_type": "code",
   "execution_count": null,
   "id": "80fad2bd",
   "metadata": {},
   "outputs": [],
   "source": [
    "pos_xy = (a_pos_df[['x', 'y', 'velocity_x_smooth', 'velocity_y_smooth', 'approx_head_dir_degrees']].to_numpy())\n",
    "lap_detection_2D = lap_detect(pos_xy)\n",
    "lap_detection_2D\n",
    "# 38 sec\n",
    "# 2m 30s"
   ]
  },
  {
   "cell_type": "code",
   "execution_count": null,
   "id": "1788da9c",
   "metadata": {},
   "outputs": [],
   "source": [
    "# show results\n",
    "rpt.show.display(pos_xy, lap_detection_2D, figsize=(10, 6))\n",
    "plt.show()"
   ]
  },
  {
   "cell_type": "markdown",
   "id": "2c6457b6",
   "metadata": {},
   "source": [
    "## STEP 2025-09-23 - Add detected laps, and re-run main computations. Many things that failed before occured due to lack of laps"
   ]
  },
  {
   "cell_type": "code",
   "execution_count": 11,
   "id": "5a68b7ca",
   "metadata": {},
   "outputs": [
    {
     "name": "stderr",
     "output_type": "stream",
     "text": [
      "c:\\Users\\pho\\repos\\Spike3DWorkEnv\\Spike3D\\.venv\\lib\\site-packages\\umap\\umap_.py:1952: UserWarning: n_jobs value 1 overridden to 1 by setting random_state. Use no seed for parallelism.\n",
      "  warn(\n"
     ]
    }
   ],
   "source": [
    "from neuropy.analyses.laps import estimate_session_laps\n",
    "\n",
    "## Build umap position so it will go to filtered\n",
    "hardcoded_params: HardcodedProcessingParameters = BapunDataSessionFormatRegisteredClass._get_session_specific_parameters(session_context=curr_active_pipeline.get_session_context())\n",
    "active_maze_epoch_names = deepcopy(hardcoded_params.non_global_activity_session_names) # ['maze1', 'maze2'] or ['roam', 'sprinkle']\n",
    "active_maze_epochs_df: pd.DataFrame = curr_active_pipeline.sess.paradigm.to_dataframe() # ['label']\n",
    "active_maze_epochs_df = active_maze_epochs_df[active_maze_epochs_df['label'].isin(active_maze_epoch_names)]\n",
    "\n",
    "sess = curr_active_pipeline.sess.position.compute_linearized_position(method='umap')\n",
    "sess = estimate_session_laps(curr_active_pipeline.sess, should_plot_laps_2d=False) ## unfiltered session \n",
    "laps_obj = curr_active_pipeline.sess.laps # Laps\n",
    "laps_df: pd.DataFrame = laps_obj.to_dataframe()\n",
    "# laps_df = laps_df.epochs.adding_maze_id_if_needed(t_start=t_start, t_delta=t_delta, t_end=t_end)\n",
    "laps_df = laps_df.epochs.adding_maze_id_if_needed(active_maze_epochs_df=active_maze_epochs_df)\n",
    "curr_active_pipeline.sess.laps._df = laps_df\n"
   ]
  },
  {
   "cell_type": "code",
   "execution_count": 12,
   "id": "bac02548",
   "metadata": {},
   "outputs": [
    {
     "name": "stdout",
     "output_type": "stream",
     "text": [
      "10{\"stdout\":\"[{\\\"variableName\\\": \\\"ID_TO_MEANING\\\", \\\"type\\\": \\\"dictionary\\\", \\\"supportedEngines\\\": [\\\"pandas\\\"], \\\"isLocalVariable\\\": true, \\\"rawType\\\": \\\"builtins.dict\\\"}, {\\\"variableName\\\": \\\"NULL\\\", \\\"type\\\": \\\"unknown\\\", \\\"supportedEngines\\\": [\\\"pandas\\\"], \\\"isLocalVariable\\\": true, \\\"rawType\\\": \\\"_pydevd_bundle.pydevd_constants.Null\\\"}]\\n\",\"stderr\":\"\",\"mime\":[]}\n",
      "10{\"stdout\":\"[{\\\"variableName\\\": \\\"ID_TO_MEANING\\\", \\\"type\\\": \\\"dictionary\\\", \\\"supportedEngines\\\": [\\\"pandas\\\"], \\\"isLocalVariable\\\": true, \\\"rawType\\\": \\\"builtins.dict\\\"}, {\\\"variableName\\\": \\\"NULL\\\", \\\"type\\\": \\\"unknown\\\", \\\"supportedEngines\\\": [\\\"pandas\\\"], \\\"isLocalVariable\\\": true, \\\"rawType\\\": \\\"_pydevd_bundle.pydevd_constants.Null\\\"}]\\n\",\"stderr\":\"\",\"mime\":[]}\n"
     ]
    }
   ],
   "source": [
    "from neuropy.analyses.laps import estimate_session_laps\n",
    "\n",
    "for k, a_sess in curr_active_pipeline.filtered_sessions.items():\n",
    "    a_sess = estimate_session_laps(a_sess, should_plot_laps_2d=False)"
   ]
  },
  {
   "cell_type": "code",
   "execution_count": null,
   "id": "d507fc0d",
   "metadata": {},
   "outputs": [],
   "source": [
    "def non_kdiba_laps_determine_directions(sess, lap_dir_neg_one_to_one: bool=False):\n",
    "    \"\"\" \n",
    "    adds ['lap_dir_2D', 'lap_dir_1D', 'lap_dir']\n",
    "    \n",
    "    \"\"\"\n",
    "    def no_op(v):\n",
    "        return v\n",
    "    \n",
    "    def to_zero_or_one(v):\n",
    "        if v >= 1.0:\n",
    "            return 1\n",
    "        elif (v == 0.0) or (np.isclose(v, 0)):\n",
    "            return np.nan\n",
    "        else:\n",
    "            return 0\n",
    "        \n",
    "    if lap_dir_neg_one_to_one:\n",
    "        active_fn = no_op\n",
    "    else:\n",
    "        # add_const = lambda v: 1 if (v > 0) else 0\n",
    "        # add_const = {-1: 0, 0: np.nan, 1: 1}\n",
    "        active_fn = to_zero_or_one\n",
    "        \n",
    "        \n",
    "    laps = sess.laps\n",
    "    laps_df: pd.DataFrame = laps.to_dataframe()\n",
    "    \n",
    "    pos = sess.position\n",
    "    linear_pos = pos.linear_pos_obj\n",
    "\n",
    "    linear_pos_df = linear_pos.to_dataframe()\n",
    "    pos_df = pos.to_dataframe()\n",
    "    extra_col_names = ['lap', 'lap_dir', 'lin_pos_smooth']\n",
    "    linear_pos_df[extra_col_names] = deepcopy(pos_df[extra_col_names])\n",
    "\n",
    "    lap_only_pos_df = pos_df[np.logical_not(pos_df['lap'].isna())].dropna(subset=['x_smooth'])\n",
    "    lap_only_pos_df['lap'] = lap_only_pos_df['lap'].astype(int)\n",
    "\n",
    "    lap_only_linear_pos_df = linear_pos_df[np.logical_not(linear_pos_df['lap'].isna())].dropna(subset=['lin_pos_smooth'])\n",
    "    lap_only_linear_pos_df['lap'] = lap_only_linear_pos_df['lap'].astype(int)\n",
    "\n",
    "    # pos_df = pos.compute_smoothed_position_info(non_smoothed_column_labels=['lin_pos']).drop\n",
    "    \n",
    "    \n",
    "\n",
    "    ## process: lap_only_linear_pos_df\n",
    "    lin_pos_col_name: str = 'x_smooth'\n",
    "    lin_pos_velocity_col_name: str = 'velocity_x_smooth'\n",
    "    lap_only_linear_pos_agg_df = lap_only_linear_pos_df.groupby(['lap']).agg(lin_pos_mean=(lin_pos_col_name, 'mean'), lin_pos_min=(lin_pos_col_name, 'min'), lin_pos_max=(lin_pos_col_name, 'max'), lin_pos_velocity_mean=(lin_pos_velocity_col_name, 'mean'), lin_pos_velocity_sum=(lin_pos_velocity_col_name, 'sum')).reset_index().set_index('lap')\n",
    "\n",
    "    # lap_only_linear_pos_df['lap_dir'] = np.sign(lap_only_linear_pos_agg_df['lin_pos_velocity_mean']).astype(float)\n",
    "    lap_dir_1D_dict = np.sign(lap_only_linear_pos_agg_df['lin_pos_velocity_mean']).astype(int).to_dict()\n",
    "    lap_only_linear_pos_df['lap_dir'] = lap_only_linear_pos_df['lap'].map(lambda a_lap: active_fn(lap_dir_1D_dict.get(a_lap, 0)))\n",
    "    lap_only_linear_pos_df = lap_only_linear_pos_df.convert_dtypes({'lap_dir': int})\n",
    "    \n",
    "    ## process: lap_only_pos_df\n",
    "    # Performed 4 aggregations grouped on column: 'lap'\n",
    "    lap_only_pos_agg_df = lap_only_pos_df.groupby(['lap']).agg(approx_head_dir_degrees_mean=('approx_head_dir_degrees', 'mean'), head_dir_angle_binned_mean=('head_dir_angle_binned', 'mean'), velocity_x_smooth_mean=('velocity_x_smooth', 'mean'), velocity_y_smooth_mean=('velocity_y_smooth', 'mean')).reset_index().set_index('lap')\n",
    "    lap_dir_2D_dict = np.sign(lap_only_pos_agg_df['velocity_x_smooth_mean']).astype(int).to_dict()\n",
    "    # lap_only_pos_df['lap_dir'] = lap_only_pos_df['lap'].map(lambda a_lap: lap_dir_2D_dict.get(int(a_lap), np.nan))\n",
    "    \n",
    "    lap_only_pos_df['lap_dir'] = lap_only_pos_df['lap'].map(lambda a_lap: active_fn(lap_dir_2D_dict.get(a_lap, 0)))\n",
    "    lap_only_pos_df = lap_only_pos_df.convert_dtypes({'lap_dir': int})\n",
    "\n",
    "    # sess.position.df['lap_dir'] = sess.position.df['lap'].map(lambda a_lap: lap_dir_2D_dict.get(int(a_lap), np.nan))\n",
    "    sess.position.df['lap_dir_2D'] = sess.position.df['lap'].map(lambda a_lap: active_fn(lap_dir_2D_dict.get(a_lap, 0)))\n",
    "    sess.position.df['lap_dir_1D'] = sess.position.df['lap'].map(lambda a_lap: active_fn(lap_dir_1D_dict.get(a_lap, 0)))\n",
    "    sess.position.df['lap_dir'] = sess.position.df['lap_dir_1D'].copy()\n",
    "    # sess.position.df = sess.position.df.convert_dtypes({'lap_dir_1D': int, 'lap_dir_2D': int, 'lap_dir': int})\n",
    "    lap_dir_1D_dict = {k:active_fn(v) for k, v in lap_dir_1D_dict.items()}\n",
    "    lap_dir_2D_dict = {k:active_fn(v) for k, v in lap_dir_2D_dict.items()}\n",
    "    \n",
    "\n",
    "    ## Update the laps_df: ['lap_dir', 'is_LR_dir'] columns:\n",
    "    bak_lap_dir_col_dict = {'lap_dir': '_bak_lap_dir', 'is_LR_dir': '_bak_is_LR_dir'}\n",
    "    for a_col, a_bak_Col in bak_lap_dir_col_dict.items():\n",
    "        # laps_df['_bak_lap_dir'] = deepcopy(laps_df['lap_dir'])\n",
    "        if a_bak_Col not in laps_df.columns:\n",
    "            laps_df[a_bak_Col] = deepcopy(laps_df[a_col])\n",
    "\n",
    "    laps_df['lap_dir'] = laps_df['lap'].astype(int).map(lambda a_lap: lap_dir_1D_dict.get(a_lap, 0))\n",
    "    laps_df['is_LR_dir'] = deepcopy(laps_df['lap_dir']).astype(bool)\n",
    "    \n",
    "    ## Update the laps object in-place:\n",
    "    sess.laps._df['lap_dir'] = sess.laps._df['lap'].astype(int).map(lambda a_lap: lap_dir_1D_dict.get(a_lap, 0))\n",
    "    sess.laps._df['is_LR_dir'] = deepcopy(sess.laps._df['lap_dir']).astype(bool)\n",
    "\n",
    "\n",
    "    return lap_only_linear_pos_df, lap_only_pos_df, (lap_dir_2D_dict, lap_dir_1D_dict)\n",
    "\n",
    "\n",
    "lap_only_linear_pos_df, lap_only_pos_df, (lap_dir_2D_dict, lap_dir_1D_dict) = non_kdiba_laps_determine_directions(sess=curr_active_pipeline.sess)\n",
    "\n"
   ]
  },
  {
   "cell_type": "code",
   "execution_count": 103,
   "id": "114c4c83",
   "metadata": {},
   "outputs": [],
   "source": [
    "lap_only_pos_df = lap_only_pos_df.convert_dtypes({'lap_dir_1D': int, 'lap_dir_2D': int, 'lap_dir': int})"
   ]
  },
  {
   "cell_type": "code",
   "execution_count": 109,
   "id": "a42eaa09",
   "metadata": {},
   "outputs": [
    {
     "data": {
      "text/html": [
       "<div>\n",
       "<style scoped>\n",
       "    .dataframe tbody tr th:only-of-type {\n",
       "        vertical-align: middle;\n",
       "    }\n",
       "\n",
       "    .dataframe tbody tr th {\n",
       "        vertical-align: top;\n",
       "    }\n",
       "\n",
       "    .dataframe thead th {\n",
       "        text-align: right;\n",
       "    }\n",
       "</style>\n",
       "<table border=\"1\" class=\"dataframe\">\n",
       "  <thead>\n",
       "    <tr style=\"text-align: right;\">\n",
       "      <th></th>\n",
       "      <th>start</th>\n",
       "      <th>stop</th>\n",
       "      <th>start_position_index</th>\n",
       "      <th>stop_position_index</th>\n",
       "      <th>label</th>\n",
       "      <th>duration</th>\n",
       "      <th>end_position_index</th>\n",
       "      <th>lap_id</th>\n",
       "      <th>start_spike_index</th>\n",
       "      <th>end_spike_index</th>\n",
       "      <th>num_spikes</th>\n",
       "      <th>lap</th>\n",
       "      <th>is_LR_dir</th>\n",
       "      <th>lap_dir</th>\n",
       "      <th>maze_id</th>\n",
       "    </tr>\n",
       "  </thead>\n",
       "  <tbody>\n",
       "    <tr>\n",
       "      <th>0</th>\n",
       "      <td>11079.487698</td>\n",
       "      <td>11082.504366</td>\n",
       "      <td>664722</td>\n",
       "      <td>664903</td>\n",
       "      <td>1</td>\n",
       "      <td>3.016668</td>\n",
       "      <td>664903</td>\n",
       "      <td>1</td>\n",
       "      <td>4835333</td>\n",
       "      <td>4836898</td>\n",
       "      <td>1565</td>\n",
       "      <td>1.0</td>\n",
       "      <td>False</td>\n",
       "      <td>1</td>\n",
       "      <td>maze1</td>\n",
       "    </tr>\n",
       "    <tr>\n",
       "      <th>1</th>\n",
       "      <td>11118.471047</td>\n",
       "      <td>11121.504381</td>\n",
       "      <td>667061</td>\n",
       "      <td>667243</td>\n",
       "      <td>2</td>\n",
       "      <td>3.033335</td>\n",
       "      <td>667243</td>\n",
       "      <td>2</td>\n",
       "      <td>4853414</td>\n",
       "      <td>4855007</td>\n",
       "      <td>1593</td>\n",
       "      <td>2.0</td>\n",
       "      <td>True</td>\n",
       "      <td>0</td>\n",
       "      <td>maze1</td>\n",
       "    </tr>\n",
       "    <tr>\n",
       "      <th>2</th>\n",
       "      <td>11127.471050</td>\n",
       "      <td>11130.487718</td>\n",
       "      <td>667601</td>\n",
       "      <td>667782</td>\n",
       "      <td>3</td>\n",
       "      <td>3.016668</td>\n",
       "      <td>667782</td>\n",
       "      <td>3</td>\n",
       "      <td>4856902</td>\n",
       "      <td>4858480</td>\n",
       "      <td>1578</td>\n",
       "      <td>3.0</td>\n",
       "      <td>False</td>\n",
       "      <td>1</td>\n",
       "      <td>maze1</td>\n",
       "    </tr>\n",
       "    <tr>\n",
       "      <th>3</th>\n",
       "      <td>11136.471054</td>\n",
       "      <td>11139.487722</td>\n",
       "      <td>668141</td>\n",
       "      <td>668322</td>\n",
       "      <td>4</td>\n",
       "      <td>3.016668</td>\n",
       "      <td>668322</td>\n",
       "      <td>4</td>\n",
       "      <td>4862187</td>\n",
       "      <td>4864310</td>\n",
       "      <td>2123</td>\n",
       "      <td>4.0</td>\n",
       "      <td>False</td>\n",
       "      <td>1</td>\n",
       "      <td>maze1</td>\n",
       "    </tr>\n",
       "    <tr>\n",
       "      <th>4</th>\n",
       "      <td>11139.587722</td>\n",
       "      <td>11142.404390</td>\n",
       "      <td>668328</td>\n",
       "      <td>668497</td>\n",
       "      <td>5</td>\n",
       "      <td>2.816668</td>\n",
       "      <td>668497</td>\n",
       "      <td>5</td>\n",
       "      <td>4864390</td>\n",
       "      <td>4866118</td>\n",
       "      <td>1728</td>\n",
       "      <td>5.0</td>\n",
       "      <td>True</td>\n",
       "      <td>0</td>\n",
       "      <td>maze1</td>\n",
       "    </tr>\n",
       "    <tr>\n",
       "      <th>5</th>\n",
       "      <td>11166.504399</td>\n",
       "      <td>11169.471067</td>\n",
       "      <td>669943</td>\n",
       "      <td>670121</td>\n",
       "      <td>6</td>\n",
       "      <td>2.966668</td>\n",
       "      <td>670121</td>\n",
       "      <td>6</td>\n",
       "      <td>4879170</td>\n",
       "      <td>4880373</td>\n",
       "      <td>1203</td>\n",
       "      <td>6.0</td>\n",
       "      <td>False</td>\n",
       "      <td>1</td>\n",
       "      <td>maze1</td>\n",
       "    </tr>\n",
       "    <tr>\n",
       "      <th>...</th>\n",
       "      <td>...</td>\n",
       "      <td>...</td>\n",
       "      <td>...</td>\n",
       "      <td>...</td>\n",
       "      <td>...</td>\n",
       "      <td>...</td>\n",
       "      <td>...</td>\n",
       "      <td>...</td>\n",
       "      <td>...</td>\n",
       "      <td>...</td>\n",
       "      <td>...</td>\n",
       "      <td>...</td>\n",
       "      <td>...</td>\n",
       "      <td>...</td>\n",
       "      <td>...</td>\n",
       "    </tr>\n",
       "    <tr>\n",
       "      <th>296</th>\n",
       "      <td>41661.549746</td>\n",
       "      <td>41664.449747</td>\n",
       "      <td>2499645</td>\n",
       "      <td>2499819</td>\n",
       "      <td>297</td>\n",
       "      <td>2.900001</td>\n",
       "      <td>2499819</td>\n",
       "      <td>297</td>\n",
       "      <td>16135054</td>\n",
       "      <td>16136211</td>\n",
       "      <td>1157</td>\n",
       "      <td>297.0</td>\n",
       "      <td>True</td>\n",
       "      <td>0</td>\n",
       "      <td></td>\n",
       "    </tr>\n",
       "    <tr>\n",
       "      <th>297</th>\n",
       "      <td>41736.516442</td>\n",
       "      <td>41739.466444</td>\n",
       "      <td>2504143</td>\n",
       "      <td>2504320</td>\n",
       "      <td>298</td>\n",
       "      <td>2.950001</td>\n",
       "      <td>2504320</td>\n",
       "      <td>298</td>\n",
       "      <td>16155255</td>\n",
       "      <td>16156349</td>\n",
       "      <td>1094</td>\n",
       "      <td>298.0</td>\n",
       "      <td>True</td>\n",
       "      <td>0</td>\n",
       "      <td></td>\n",
       "    </tr>\n",
       "    <tr>\n",
       "      <th>298</th>\n",
       "      <td>41793.533132</td>\n",
       "      <td>41796.466466</td>\n",
       "      <td>2507564</td>\n",
       "      <td>2507740</td>\n",
       "      <td>299</td>\n",
       "      <td>2.933334</td>\n",
       "      <td>2507740</td>\n",
       "      <td>299</td>\n",
       "      <td>16172234</td>\n",
       "      <td>16172778</td>\n",
       "      <td>544</td>\n",
       "      <td>299.0</td>\n",
       "      <td>False</td>\n",
       "      <td>1</td>\n",
       "      <td></td>\n",
       "    </tr>\n",
       "    <tr>\n",
       "      <th>299</th>\n",
       "      <td>41796.533133</td>\n",
       "      <td>41799.466467</td>\n",
       "      <td>2507744</td>\n",
       "      <td>2507920</td>\n",
       "      <td>300</td>\n",
       "      <td>2.933334</td>\n",
       "      <td>2507920</td>\n",
       "      <td>300</td>\n",
       "      <td>16172801</td>\n",
       "      <td>16173665</td>\n",
       "      <td>864</td>\n",
       "      <td>300.0</td>\n",
       "      <td>True</td>\n",
       "      <td>0</td>\n",
       "      <td></td>\n",
       "    </tr>\n",
       "    <tr>\n",
       "      <th>300</th>\n",
       "      <td>41937.549855</td>\n",
       "      <td>41940.449856</td>\n",
       "      <td>2516205</td>\n",
       "      <td>2516379</td>\n",
       "      <td>301</td>\n",
       "      <td>2.900001</td>\n",
       "      <td>2516379</td>\n",
       "      <td>301</td>\n",
       "      <td>16212375</td>\n",
       "      <td>16213396</td>\n",
       "      <td>1021</td>\n",
       "      <td>301.0</td>\n",
       "      <td>True</td>\n",
       "      <td>0</td>\n",
       "      <td></td>\n",
       "    </tr>\n",
       "    <tr>\n",
       "      <th>301</th>\n",
       "      <td>42162.566610</td>\n",
       "      <td>42165.449945</td>\n",
       "      <td>2529706</td>\n",
       "      <td>2529879</td>\n",
       "      <td>302</td>\n",
       "      <td>2.883334</td>\n",
       "      <td>2529879</td>\n",
       "      <td>302</td>\n",
       "      <td>16276347</td>\n",
       "      <td>16277072</td>\n",
       "      <td>725</td>\n",
       "      <td>302.0</td>\n",
       "      <td>True</td>\n",
       "      <td>0</td>\n",
       "      <td></td>\n",
       "    </tr>\n",
       "  </tbody>\n",
       "</table>\n",
       "<p>302 rows × 15 columns</p>\n",
       "</div>"
      ],
      "text/plain": [
       "            start          stop  start_position_index  stop_position_index  label  duration  end_position_index  lap_id  start_spike_index  end_spike_index  num_spikes    lap  is_LR_dir  lap_dir maze_id\n",
       "0    11079.487698  11082.504366                664722               664903      1  3.016668              664903       1            4835333          4836898        1565    1.0      False        1   maze1\n",
       "1    11118.471047  11121.504381                667061               667243      2  3.033335              667243       2            4853414          4855007        1593    2.0       True        0   maze1\n",
       "2    11127.471050  11130.487718                667601               667782      3  3.016668              667782       3            4856902          4858480        1578    3.0      False        1   maze1\n",
       "3    11136.471054  11139.487722                668141               668322      4  3.016668              668322       4            4862187          4864310        2123    4.0      False        1   maze1\n",
       "4    11139.587722  11142.404390                668328               668497      5  2.816668              668497       5            4864390          4866118        1728    5.0       True        0   maze1\n",
       "5    11166.504399  11169.471067                669943               670121      6  2.966668              670121       6            4879170          4880373        1203    6.0      False        1   maze1\n",
       "..            ...           ...                   ...                  ...    ...       ...                 ...     ...                ...              ...         ...    ...        ...      ...     ...\n",
       "296  41661.549746  41664.449747               2499645              2499819    297  2.900001             2499819     297           16135054         16136211        1157  297.0       True        0        \n",
       "297  41736.516442  41739.466444               2504143              2504320    298  2.950001             2504320     298           16155255         16156349        1094  298.0       True        0        \n",
       "298  41793.533132  41796.466466               2507564              2507740    299  2.933334             2507740     299           16172234         16172778         544  299.0      False        1        \n",
       "299  41796.533133  41799.466467               2507744              2507920    300  2.933334             2507920     300           16172801         16173665         864  300.0       True        0        \n",
       "300  41937.549855  41940.449856               2516205              2516379    301  2.900001             2516379     301           16212375         16213396        1021  301.0       True        0        \n",
       "301  42162.566610  42165.449945               2529706              2529879    302  2.883334             2529879     302           16276347         16277072         725  302.0       True        0        \n",
       "\n",
       "[302 rows x 15 columns]"
      ]
     },
     "execution_count": 109,
     "metadata": {},
     "output_type": "execute_result"
    }
   ],
   "source": [
    "# sess.position.df['lap_dir_2D'] = sess.position.df['lap'].map(lambda a_lap: lap_dir_2D_dict.get(a_lap, np.nan))\n",
    "# sess.position.df['lap_dir_1D'] = sess.position.df['lap'].map(lambda a_lap: lap_dir_1D_dict.get(a_lap, np.nan))\n",
    "# sess.position.df['lap_dir'] = sess.position.df['lap_dir_1D'].copy()\n",
    "\n",
    "# sess.position.df\n",
    "laps = sess.laps\n",
    "laps_df: pd.DataFrame = laps.to_dataframe()\n",
    "laps_df"
   ]
  },
  {
   "cell_type": "code",
   "execution_count": 111,
   "id": "a12401d6",
   "metadata": {},
   "outputs": [
    {
     "data": {
      "text/html": [
       "<div>\n",
       "<style scoped>\n",
       "    .dataframe tbody tr th:only-of-type {\n",
       "        vertical-align: middle;\n",
       "    }\n",
       "\n",
       "    .dataframe tbody tr th {\n",
       "        vertical-align: top;\n",
       "    }\n",
       "\n",
       "    .dataframe thead th {\n",
       "        text-align: right;\n",
       "    }\n",
       "</style>\n",
       "<table border=\"1\" class=\"dataframe\">\n",
       "  <thead>\n",
       "    <tr style=\"text-align: right;\">\n",
       "      <th></th>\n",
       "      <th>start</th>\n",
       "      <th>stop</th>\n",
       "      <th>start_position_index</th>\n",
       "      <th>stop_position_index</th>\n",
       "      <th>label</th>\n",
       "      <th>duration</th>\n",
       "      <th>end_position_index</th>\n",
       "      <th>lap_id</th>\n",
       "      <th>start_spike_index</th>\n",
       "      <th>end_spike_index</th>\n",
       "      <th>num_spikes</th>\n",
       "      <th>lap</th>\n",
       "      <th>is_LR_dir</th>\n",
       "      <th>lap_dir</th>\n",
       "      <th>maze_id</th>\n",
       "      <th>_bak_lap_dir</th>\n",
       "      <th>_bak_is_LR_dir</th>\n",
       "    </tr>\n",
       "  </thead>\n",
       "  <tbody>\n",
       "    <tr>\n",
       "      <th>0</th>\n",
       "      <td>11079.487698</td>\n",
       "      <td>11082.504366</td>\n",
       "      <td>664722</td>\n",
       "      <td>664903</td>\n",
       "      <td>1</td>\n",
       "      <td>3.016668</td>\n",
       "      <td>664903</td>\n",
       "      <td>1</td>\n",
       "      <td>4835333</td>\n",
       "      <td>4836898</td>\n",
       "      <td>1565</td>\n",
       "      <td>1.0</td>\n",
       "      <td>False</td>\n",
       "      <td>0</td>\n",
       "      <td>maze1</td>\n",
       "      <td>1</td>\n",
       "      <td>False</td>\n",
       "    </tr>\n",
       "    <tr>\n",
       "      <th>1</th>\n",
       "      <td>11118.471047</td>\n",
       "      <td>11121.504381</td>\n",
       "      <td>667061</td>\n",
       "      <td>667243</td>\n",
       "      <td>2</td>\n",
       "      <td>3.033335</td>\n",
       "      <td>667243</td>\n",
       "      <td>2</td>\n",
       "      <td>4853414</td>\n",
       "      <td>4855007</td>\n",
       "      <td>1593</td>\n",
       "      <td>2.0</td>\n",
       "      <td>True</td>\n",
       "      <td>1</td>\n",
       "      <td>maze1</td>\n",
       "      <td>0</td>\n",
       "      <td>True</td>\n",
       "    </tr>\n",
       "    <tr>\n",
       "      <th>2</th>\n",
       "      <td>11127.471050</td>\n",
       "      <td>11130.487718</td>\n",
       "      <td>667601</td>\n",
       "      <td>667782</td>\n",
       "      <td>3</td>\n",
       "      <td>3.016668</td>\n",
       "      <td>667782</td>\n",
       "      <td>3</td>\n",
       "      <td>4856902</td>\n",
       "      <td>4858480</td>\n",
       "      <td>1578</td>\n",
       "      <td>3.0</td>\n",
       "      <td>False</td>\n",
       "      <td>0</td>\n",
       "      <td>maze1</td>\n",
       "      <td>1</td>\n",
       "      <td>False</td>\n",
       "    </tr>\n",
       "    <tr>\n",
       "      <th>3</th>\n",
       "      <td>11136.471054</td>\n",
       "      <td>11139.487722</td>\n",
       "      <td>668141</td>\n",
       "      <td>668322</td>\n",
       "      <td>4</td>\n",
       "      <td>3.016668</td>\n",
       "      <td>668322</td>\n",
       "      <td>4</td>\n",
       "      <td>4862187</td>\n",
       "      <td>4864310</td>\n",
       "      <td>2123</td>\n",
       "      <td>4.0</td>\n",
       "      <td>False</td>\n",
       "      <td>0</td>\n",
       "      <td>maze1</td>\n",
       "      <td>1</td>\n",
       "      <td>False</td>\n",
       "    </tr>\n",
       "    <tr>\n",
       "      <th>4</th>\n",
       "      <td>11139.587722</td>\n",
       "      <td>11142.404390</td>\n",
       "      <td>668328</td>\n",
       "      <td>668497</td>\n",
       "      <td>5</td>\n",
       "      <td>2.816668</td>\n",
       "      <td>668497</td>\n",
       "      <td>5</td>\n",
       "      <td>4864390</td>\n",
       "      <td>4866118</td>\n",
       "      <td>1728</td>\n",
       "      <td>5.0</td>\n",
       "      <td>True</td>\n",
       "      <td>1</td>\n",
       "      <td>maze1</td>\n",
       "      <td>0</td>\n",
       "      <td>True</td>\n",
       "    </tr>\n",
       "    <tr>\n",
       "      <th>5</th>\n",
       "      <td>11166.504399</td>\n",
       "      <td>11169.471067</td>\n",
       "      <td>669943</td>\n",
       "      <td>670121</td>\n",
       "      <td>6</td>\n",
       "      <td>2.966668</td>\n",
       "      <td>670121</td>\n",
       "      <td>6</td>\n",
       "      <td>4879170</td>\n",
       "      <td>4880373</td>\n",
       "      <td>1203</td>\n",
       "      <td>6.0</td>\n",
       "      <td>False</td>\n",
       "      <td>0</td>\n",
       "      <td>maze1</td>\n",
       "      <td>1</td>\n",
       "      <td>False</td>\n",
       "    </tr>\n",
       "    <tr>\n",
       "      <th>...</th>\n",
       "      <td>...</td>\n",
       "      <td>...</td>\n",
       "      <td>...</td>\n",
       "      <td>...</td>\n",
       "      <td>...</td>\n",
       "      <td>...</td>\n",
       "      <td>...</td>\n",
       "      <td>...</td>\n",
       "      <td>...</td>\n",
       "      <td>...</td>\n",
       "      <td>...</td>\n",
       "      <td>...</td>\n",
       "      <td>...</td>\n",
       "      <td>...</td>\n",
       "      <td>...</td>\n",
       "      <td>...</td>\n",
       "      <td>...</td>\n",
       "    </tr>\n",
       "    <tr>\n",
       "      <th>296</th>\n",
       "      <td>41661.549746</td>\n",
       "      <td>41664.449747</td>\n",
       "      <td>2499645</td>\n",
       "      <td>2499819</td>\n",
       "      <td>297</td>\n",
       "      <td>2.900001</td>\n",
       "      <td>2499819</td>\n",
       "      <td>297</td>\n",
       "      <td>16135054</td>\n",
       "      <td>16136211</td>\n",
       "      <td>1157</td>\n",
       "      <td>297.0</td>\n",
       "      <td>True</td>\n",
       "      <td>1</td>\n",
       "      <td></td>\n",
       "      <td>0</td>\n",
       "      <td>True</td>\n",
       "    </tr>\n",
       "    <tr>\n",
       "      <th>297</th>\n",
       "      <td>41736.516442</td>\n",
       "      <td>41739.466444</td>\n",
       "      <td>2504143</td>\n",
       "      <td>2504320</td>\n",
       "      <td>298</td>\n",
       "      <td>2.950001</td>\n",
       "      <td>2504320</td>\n",
       "      <td>298</td>\n",
       "      <td>16155255</td>\n",
       "      <td>16156349</td>\n",
       "      <td>1094</td>\n",
       "      <td>298.0</td>\n",
       "      <td>True</td>\n",
       "      <td>1</td>\n",
       "      <td></td>\n",
       "      <td>0</td>\n",
       "      <td>True</td>\n",
       "    </tr>\n",
       "    <tr>\n",
       "      <th>298</th>\n",
       "      <td>41793.533132</td>\n",
       "      <td>41796.466466</td>\n",
       "      <td>2507564</td>\n",
       "      <td>2507740</td>\n",
       "      <td>299</td>\n",
       "      <td>2.933334</td>\n",
       "      <td>2507740</td>\n",
       "      <td>299</td>\n",
       "      <td>16172234</td>\n",
       "      <td>16172778</td>\n",
       "      <td>544</td>\n",
       "      <td>299.0</td>\n",
       "      <td>False</td>\n",
       "      <td>0</td>\n",
       "      <td></td>\n",
       "      <td>1</td>\n",
       "      <td>False</td>\n",
       "    </tr>\n",
       "    <tr>\n",
       "      <th>299</th>\n",
       "      <td>41796.533133</td>\n",
       "      <td>41799.466467</td>\n",
       "      <td>2507744</td>\n",
       "      <td>2507920</td>\n",
       "      <td>300</td>\n",
       "      <td>2.933334</td>\n",
       "      <td>2507920</td>\n",
       "      <td>300</td>\n",
       "      <td>16172801</td>\n",
       "      <td>16173665</td>\n",
       "      <td>864</td>\n",
       "      <td>300.0</td>\n",
       "      <td>True</td>\n",
       "      <td>1</td>\n",
       "      <td></td>\n",
       "      <td>0</td>\n",
       "      <td>True</td>\n",
       "    </tr>\n",
       "    <tr>\n",
       "      <th>300</th>\n",
       "      <td>41937.549855</td>\n",
       "      <td>41940.449856</td>\n",
       "      <td>2516205</td>\n",
       "      <td>2516379</td>\n",
       "      <td>301</td>\n",
       "      <td>2.900001</td>\n",
       "      <td>2516379</td>\n",
       "      <td>301</td>\n",
       "      <td>16212375</td>\n",
       "      <td>16213396</td>\n",
       "      <td>1021</td>\n",
       "      <td>301.0</td>\n",
       "      <td>True</td>\n",
       "      <td>1</td>\n",
       "      <td></td>\n",
       "      <td>0</td>\n",
       "      <td>True</td>\n",
       "    </tr>\n",
       "    <tr>\n",
       "      <th>301</th>\n",
       "      <td>42162.566610</td>\n",
       "      <td>42165.449945</td>\n",
       "      <td>2529706</td>\n",
       "      <td>2529879</td>\n",
       "      <td>302</td>\n",
       "      <td>2.883334</td>\n",
       "      <td>2529879</td>\n",
       "      <td>302</td>\n",
       "      <td>16276347</td>\n",
       "      <td>16277072</td>\n",
       "      <td>725</td>\n",
       "      <td>302.0</td>\n",
       "      <td>True</td>\n",
       "      <td>1</td>\n",
       "      <td></td>\n",
       "      <td>0</td>\n",
       "      <td>True</td>\n",
       "    </tr>\n",
       "  </tbody>\n",
       "</table>\n",
       "<p>302 rows × 17 columns</p>\n",
       "</div>"
      ],
      "text/plain": [
       "            start          stop  start_position_index  stop_position_index  label  duration  end_position_index  lap_id  start_spike_index  end_spike_index  num_spikes    lap  is_LR_dir  lap_dir maze_id  _bak_lap_dir  _bak_is_LR_dir\n",
       "0    11079.487698  11082.504366                664722               664903      1  3.016668              664903       1            4835333          4836898        1565    1.0      False        0   maze1             1           False\n",
       "1    11118.471047  11121.504381                667061               667243      2  3.033335              667243       2            4853414          4855007        1593    2.0       True        1   maze1             0            True\n",
       "2    11127.471050  11130.487718                667601               667782      3  3.016668              667782       3            4856902          4858480        1578    3.0      False        0   maze1             1           False\n",
       "3    11136.471054  11139.487722                668141               668322      4  3.016668              668322       4            4862187          4864310        2123    4.0      False        0   maze1             1           False\n",
       "4    11139.587722  11142.404390                668328               668497      5  2.816668              668497       5            4864390          4866118        1728    5.0       True        1   maze1             0            True\n",
       "5    11166.504399  11169.471067                669943               670121      6  2.966668              670121       6            4879170          4880373        1203    6.0      False        0   maze1             1           False\n",
       "..            ...           ...                   ...                  ...    ...       ...                 ...     ...                ...              ...         ...    ...        ...      ...     ...           ...             ...\n",
       "296  41661.549746  41664.449747               2499645              2499819    297  2.900001             2499819     297           16135054         16136211        1157  297.0       True        1                     0            True\n",
       "297  41736.516442  41739.466444               2504143              2504320    298  2.950001             2504320     298           16155255         16156349        1094  298.0       True        1                     0            True\n",
       "298  41793.533132  41796.466466               2507564              2507740    299  2.933334             2507740     299           16172234         16172778         544  299.0      False        0                     1           False\n",
       "299  41796.533133  41799.466467               2507744              2507920    300  2.933334             2507920     300           16172801         16173665         864  300.0       True        1                     0            True\n",
       "300  41937.549855  41940.449856               2516205              2516379    301  2.900001             2516379     301           16212375         16213396        1021  301.0       True        1                     0            True\n",
       "301  42162.566610  42165.449945               2529706              2529879    302  2.883334             2529879     302           16276347         16277072         725  302.0       True        1                     0            True\n",
       "\n",
       "[302 rows x 17 columns]"
      ]
     },
     "execution_count": 111,
     "metadata": {},
     "output_type": "execute_result"
    }
   ],
   "source": [
    "bak_lap_dir_col_dict = {'lap_dir': '_bak_lap_dir', 'is_LR_dir': '_bak_is_LR_dir'}\n",
    "for a_col, a_bak_Col in bak_lap_dir_col_dict.items():\n",
    "    # laps_df['_bak_lap_dir'] = deepcopy(laps_df['lap_dir'])\n",
    "    if a_bak_Col not in laps_df.columns:\n",
    "        laps_df[a_bak_Col] = deepcopy(laps_df[a_col])\n",
    "\n",
    "laps_df['lap_dir'] = laps_df['lap'].astype(int).map(lambda a_lap: lap_dir_1D_dict.get(a_lap, 0))\n",
    "laps_df['is_LR_dir'] = deepcopy(laps_df['lap_dir']).astype(bool)\n",
    "laps_df"
   ]
  },
  {
   "cell_type": "code",
   "execution_count": null,
   "id": "9919e38c",
   "metadata": {},
   "outputs": [],
   "source": [
    "sess.position.df['lap'] = sess.position.df['lap'].astype(int)"
   ]
  },
  {
   "cell_type": "code",
   "execution_count": null,
   "id": "6b882238",
   "metadata": {},
   "outputs": [],
   "source": [
    "\n",
    "for k, a_sess in curr_active_pipeline.filtered_sessions.items():\n",
    "\ta_sess.laps"
   ]
  },
  {
   "cell_type": "markdown",
   "id": "c81295b7",
   "metadata": {},
   "source": [
    "## STEP 2025-09-23 - "
   ]
  },
  {
   "cell_type": "markdown",
   "id": "0a12a5a1",
   "metadata": {},
   "source": [
    "## STEP 2025-09-23 - "
   ]
  },
  {
   "cell_type": "markdown",
   "id": "859bfd33",
   "metadata": {},
   "source": [
    "## STEP 2025-09-23 - "
   ]
  },
  {
   "cell_type": "markdown",
   "id": "71e2eb44",
   "metadata": {},
   "source": [
    "## PENDING: Proper, fully general result saving"
   ]
  },
  {
   "cell_type": "code",
   "execution_count": 32,
   "id": "4903a87f",
   "metadata": {},
   "outputs": [],
   "source": [
    "from neuropy.core.session.dataSession import Laps\n",
    "from neuropy.core.epoch import EpochsAccessor, Epoch\n",
    "from neuropy.core.epoch import EpochsAccessor, Epoch, ensure_dataframe, ensure_Epoch\n",
    "from pyphoplacecellanalysis.General.Pipeline.Stages.ComputationFunctions.EpochComputationFunctions import EpochComputationFunctions, EpochComputationsComputationsContainer, DecodingResultND, Compute_NonPBE_Epochs, KnownFilterEpochs\n",
    "from pyphoplacecellanalysis.General.Pipeline.Stages.ComputationFunctions.EpochComputationFunctions import GeneralDecoderDictDecodedEpochsDictResult, GenericResultTupleIndexType, KnownNamedDecodingEpochsType, MaskedTimeBinFillType\n",
    "from neuropy.analyses.time_dependent_placefields import PfND_TimeDependent\n",
    "\n",
    "\n",
    "# curr_active_pipeline.perform_computation('perform_generalized_specific_epochs_decoding')\t \n"
   ]
  },
  {
   "cell_type": "code",
   "execution_count": 33,
   "id": "6eeda349",
   "metadata": {},
   "outputs": [
    {
     "data": {
      "text/plain": [
       "EpochComputationsComputationsContainer(is_global: bool,\n",
       "\tresult_version: str,\n",
       "\t_VersionedResultMixin_version: str,\n",
       "\ttraining_data_portion: float,\n",
       "\tepochs_decoding_time_bin_size: float,\n",
       "\tframe_divide_bin_size: float,\n",
       "\ta_new_NonPBE_Epochs_obj: pyphoplacecellanalysis.General.Pipeline.Stages.ComputationFunctions.EpochComputationFunctions.Compute_NonPBE_Epochs,\n",
       "\tresults1D: pyphoplacecellanalysis.General.Pipeline.Stages.ComputationFunctions.EpochComputationFunctions.DecodingResultND,\n",
       "\tresults2D: NoneType,\n",
       "\ta_general_decoder_dict_decoded_epochs_dict_result: pyphoplacecellanalysis.General.Pipeline.Stages.ComputationFunctions.EpochComputationFunctions.GeneralDecoderDictDecodedEpochsDictResult,\n",
       "\ta_generic_decoder_dict_decoded_epochs_dict_result: NoneType\n",
       ")"
      ]
     },
     "execution_count": 33,
     "metadata": {},
     "output_type": "execute_result"
    }
   ],
   "source": [
    "## Assign new empty computation result:\n",
    "# curr_active_pipeline.global_computation_results.computed_data['EpochComputations'] = EpochComputationsComputationsContainer(training_data_portion=None, epochs_decoding_time_bin_size=None, frame_divide_bin_size=None,\n",
    "#                                                                                                     a_new_NonPBE_Epochs_obj=None, results1D=None, results2D=None, is_global=True)\n",
    "\n",
    "epoch_computations_result: EpochComputationsComputationsContainer = curr_active_pipeline.global_computation_results.computed_data['EpochComputations']\n",
    "epoch_computations_result\n",
    "# epoch_computations_result.a_new_NonPBE_Epochs_obj\n",
    "\n",
    "results1D: DecodingResultND = epoch_computations_result.results1D\n",
    "results2D: DecodingResultND = epoch_computations_result.results2D\n",
    "a_general_decoder_dict_decoded_epochs_dict_result: GeneralDecoderDictDecodedEpochsDictResult = epoch_computations_result.a_general_decoder_dict_decoded_epochs_dict_result"
   ]
  },
  {
   "cell_type": "code",
   "execution_count": 36,
   "id": "4c29c05a",
   "metadata": {},
   "outputs": [
    {
     "data": {
      "text/plain": [
       "GeneralDecoderDictDecodedEpochsDictResult(is_global: bool,\n",
       "\tresult_version: str,\n",
       "\t_VersionedResultMixin_version: str,\n",
       "\tfilter_epochs_to_decode_dict: dict,\n",
       "\tfilter_epochs_pseudo2D_continuous_specific_decoded_result: NoneType,\n",
       "\tfilter_epochs_decoded_filter_epoch_track_marginal_posterior_df_dict: NoneType\n",
       ")"
      ]
     },
     "execution_count": 36,
     "metadata": {},
     "output_type": "execute_result"
    }
   ],
   "source": [
    "a_general_decoder_dict_decoded_epochs_dict_result"
   ]
  },
  {
   "cell_type": "code",
   "execution_count": null,
   "id": "56de713b",
   "metadata": {},
   "outputs": [],
   "source": [
    "curr_active_pipeline.reload_default_computation_functions()"
   ]
  },
  {
   "cell_type": "code",
   "execution_count": null,
   "id": "93f4ed9a",
   "metadata": {},
   "outputs": [],
   "source": [
    "\n",
    "active_maze_epoch_names = deepcopy(hardcoded_params.non_global_activity_session_names)\n",
    "active_maze_epochs_df: pd.DataFrame = curr_active_pipeline.sess.paradigm.to_dataframe() # ['label']\n",
    "active_maze_epochs_df = active_maze_epochs_df[active_maze_epochs_df['label'].isin(active_maze_epoch_names)]\n",
    "active_maze_epochs_df\n",
    "\n",
    "curr_active_pipeline.sess.active_maze_epochs_df = ensure_Epoch(deepcopy(active_maze_epochs_df))\n",
    "curr_active_pipeline.sess.active_maze_epochs_df"
   ]
  },
  {
   "cell_type": "code",
   "execution_count": null,
   "id": "d5892fbd",
   "metadata": {},
   "outputs": [],
   "source": [
    "\n",
    "# t_start, t_delta, t_end = owning_pipeline_reference.find_LongShortDelta_times()\n",
    "laps_obj: Laps = curr_active_pipeline.sess.laps\n",
    "laps_df: pd.DataFrame = laps_obj.to_dataframe()\n",
    "# laps_df = laps_df.epochs.adding_maze_id_if_needed(t_start=t_start, t_delta=t_delta, t_end=t_end)\n",
    "laps_df.epochs.adding_maze_id_if_needed()\n"
   ]
  },
  {
   "cell_type": "code",
   "execution_count": 134,
   "id": "cb0cef58",
   "metadata": {},
   "outputs": [],
   "source": [
    "from pyphoplacecellanalysis.General.Pipeline.Stages.ComputationFunctions.EpochComputationFunctions import EpochComputationsComputationsContainer\n",
    "\n",
    "curr_active_pipeline.reload_default_computation_functions()"
   ]
  },
  {
   "cell_type": "code",
   "execution_count": null,
   "id": "b5a97f86",
   "metadata": {},
   "outputs": [
    {
     "name": "stdout",
     "output_type": "stream",
     "text": [
      "included includelist is specified: ['lap_direction_determination', 'split_to_directional_laps'], so only performing these extended computations.\n",
      "Running batch_extended_computations(...) with global_epoch_name: \"maze_GLOBAL\"\n",
      "`split_to_directional_laps` missing.\n",
      "\t Recomputing `split_to_directional_laps`...\n",
      "for global computations: Performing run_specific_computations_single_context(..., computation_functions_name_includelist=['_split_to_directional_laps'], ...)...\n",
      "\trun_specific_computations_single_context(including only 1 out of 16 registered computation functions): active_computation_functions: [<function DirectionalPlacefieldGlobalComputationFunctions._split_to_directional_laps at 0x00000146BB4094C0>]...\n",
      "Performing _execute_computation_functions(...) with 1 registered_computation_functions...\n",
      "Executing [0/1]: <function DirectionalPlacefieldGlobalComputationFunctions._split_to_directional_laps at 0x00000146BB4CE4C0>\n",
      "WARN: _split_to_directional_laps(...): include_includelist: ['maze_GLOBAL', 'maze1', 'maze2'] is specified but include_includelist is currently ignored! Continuing with defaults.\n",
      "Exception occured while computing (`perform_specific_computation(...)`):\n",
      " Inner exception: find_LongShortGlobal_epoch_names() is only intended for \"kdiba\" format sessions with long/short track epochs, but this is of type: \"bapun\".\n"
     ]
    }
   ],
   "source": [
    "force_recompute_global = False\n",
    "extended_computations_include_includelist=[\n",
    "\t'lap_direction_determination',\n",
    "\t'split_to_directional_laps',\n",
    "\t#  'pf_computation', 'firing_rate_trends', 'pfdt_computation',\n",
    "    # 'pf_dt_sequential_surprise',\n",
    "    #  'ratemap_peaks_prominence2d',\n",
    "    # 'extended_stats',\n",
    "    # 'spike_burst_detection',\n",
    "    # 'split_to_directional_laps',\n",
    "    # 'merged_directional_placefields',\n",
    "    # 'rank_order_shuffle_analysis',\n",
    "    # 'directional_decoders_decode_continuous',\n",
    "    # 'directional_decoders_evaluate_epochs',\n",
    "    # 'directional_decoders_epoch_heuristic_scoring',\n",
    "\t# 'non_PBE_epochs_results',\n",
    "\t# 'perform_generalized_specific_epochs_decoding',\n",
    "] # do only specified\n",
    "\n",
    "# ['split_to_directional_laps', 'merged_directional_placefields', 'rank_order_shuffle_analysis', 'directional_decoders_decode_continuous']\n",
    "\n",
    "# force_recompute_override_computations_includelist = [\n",
    "#     'directional_decoders_evaluate_epochs', 'directional_decoders_epoch_heuristic_scoring',\n",
    "#     'split_to_directional_laps', 'lap_direction_determination', 'DirectionalLaps',\n",
    "#     'merged_directional_placefields',\n",
    "#     'directional_decoders_decode_continuous',\n",
    "# ]\n",
    "force_recompute_override_computations_includelist = None\n",
    "\n",
    "epochs_decoding_time_bin_size = 1.0\n",
    "computation_kwargs_dict = {\n",
    "\t# 'merged_directional_placefields': {'ripple_decoding_time_bin_size': time_bin_size, 'laps_decoding_time_bin_size': time_bin_size}, \n",
    "\t'directional_decoders_decode_continuous': {'time_bin_size': epochs_decoding_time_bin_size},\n",
    "\t'directional_decoders_evaluate_epochs': {'should_skip_radon_transform': True},\n",
    "\t'non_PBE_epochs_results': dict(epochs_decoding_time_bin_size=epochs_decoding_time_bin_size, drop_previous_result_and_compute_fresh=False, compute_2D=False, IGNORE_MEMORY_ERROR_FOR_DEBUGGING = True),\n",
    "\t'perform_generalized_specific_epochs_decoding': dict(),\n",
    "}\n",
    "\n",
    "\n",
    "# computation_kwargs_dict = {'non_PBE_epochs_results': dict(epochs_decoding_time_bin_size=epochs_decoding_time_bin_size, drop_previous_result_and_compute_fresh=False, compute_2D=False, IGNORE_MEMORY_ERROR_FOR_DEBUGGING=True), }\n",
    "newly_computed_values = batch_extended_computations(curr_active_pipeline, include_includelist=extended_computations_include_includelist, include_global_functions=True, fail_on_exception=True, progress_print=True,\n",
    "                                                    force_recompute=force_recompute_global, force_recompute_override_computations_includelist=force_recompute_override_computations_includelist, computation_kwargs_dict=computation_kwargs_dict, debug_print=False)\n",
    "newly_computed_values\n",
    "\n"
   ]
  },
  {
   "cell_type": "code",
   "execution_count": 37,
   "id": "eeaa49e8",
   "metadata": {},
   "outputs": [
    {
     "name": "stdout",
     "output_type": "stream",
     "text": [
      "included includelist is specified: ['perform_generalized_specific_epochs_decoding'], so only performing these extended computations.\n",
      "Running batch_extended_computations(...) with global_epoch_name: \"maze_GLOBAL\"\n",
      "`generalized_specific_epochs_decoding` missing.\n",
      "\t Recomputing `generalized_specific_epochs_decoding`...\n",
      "for global computations: Performing run_specific_computations_single_context(..., computation_functions_name_includelist=['perform_generalized_specific_epochs_decoding'], ...)...\n",
      "\trun_specific_computations_single_context(including only 1 out of 16 registered computation functions): active_computation_functions: [<function EpochComputationFunctions.perform_generalized_specific_epochs_decoding at 0x0000014312C99A60>]...\n",
      "Performing _execute_computation_functions(...) with 1 registered_computation_functions...\n",
      "Executing [0/1]: <function EpochComputationFunctions.perform_generalized_specific_epochs_decoding at 0x000001439831FE50>\n",
      "\tepochs_decoding_time_bin_size: 1.0\n",
      "for global computations: Performing run_specific_computations_single_context(..., computation_functions_name_includelist=['merged_directional_placefields', 'directional_decoders_decode_continuous', 'directional_decoders_evaluate_epochs', 'directional_decoders_epoch_heuristic_scoring', 'non_PBE_epochs_results'], ...)...\n",
      "\trun_specific_computations_single_context(including only 5 out of 16 registered computation functions): active_computation_functions: [<function DirectionalPlacefieldGlobalComputationFunctions._build_merged_directional_placefields at 0x00000142C70BE280>, <function DirectionalPlacefieldGlobalComputationFunctions._decode_continuous_using_directional_decoders at 0x00000142C70BE310>, <function DirectionalPlacefieldGlobalComputationFunctions._decode_and_evaluate_epochs_using_directional_decoders at 0x00000142C70BE3A0>, <function DirectionalPlacefieldGlobalComputationFunctions._decoded_epochs_heuristic_scoring at 0x00000142C70BE430>, <function EpochComputationFunctions.perform_compute_non_PBE_epochs at 0x0000014312C99280>]...\n",
      "Performing _execute_computation_functions(...) with 5 registered_computation_functions...\n",
      "Executing [0/5]: <function DirectionalPlacefieldGlobalComputationFunctions._build_merged_directional_placefields at 0x000001439831F670>\n",
      "Exception occured while computing (`perform_specific_computation(...)`):\n",
      " Inner exception: find_LongShortGlobal_epoch_names() is only intended for \"kdiba\" format sessions with long/short track epochs, but this is of type: \"bapun\".\n"
     ]
    },
    {
     "name": "stderr",
     "output_type": "stream",
     "text": [
      "Traceback (most recent call last):\n",
      "  File \"_pydevd_bundle\\\\pydevd_cython.pyx\", line 1609, in _pydevd_bundle.pydevd_cython.handle_exception\n",
      "  File \"c:\\Users\\pho\\repos\\Spike3DWorkEnv\\Spike3D\\.venv\\lib\\site-packages\\debugpy\\_vendored\\pydevd\\pydevd.py\", line 2188, in do_wait_suspend\n",
      "    keep_suspended = self._do_wait_suspend(thread, frame, event, arg, trace_suspend_type, from_this_thread, frames_tracker)\n",
      "  File \"c:\\Users\\pho\\repos\\Spike3DWorkEnv\\Spike3D\\.venv\\lib\\site-packages\\debugpy\\_vendored\\pydevd\\pydevd.py\", line 2257, in _do_wait_suspend\n",
      "    notify_event.wait(wait_timeout)\n",
      "  File \"C:\\Users\\pho\\AppData\\Roaming\\uv\\python\\cpython-3.9.13-windows-x86_64-none\\lib\\threading.py\", line 581, in wait\n",
      "    signaled = self._cond.wait(timeout)\n",
      "  File \"C:\\Users\\pho\\AppData\\Roaming\\uv\\python\\cpython-3.9.13-windows-x86_64-none\\lib\\threading.py\", line 316, in wait\n",
      "    gotit = waiter.acquire(True, timeout)\n",
      "KeyboardInterrupt\n"
     ]
    },
    {
     "ename": "ValueError",
     "evalue": "find_LongShortGlobal_epoch_names() is only intended for \"kdiba\" format sessions with long/short track epochs, but this is of type: \"bapun\".",
     "output_type": "error",
     "traceback": [
      "\u001b[1;31m---------------------------------------------------------------------------\u001b[0m",
      "\u001b[1;31mValueError\u001b[0m                                Traceback (most recent call last)",
      "Cell \u001b[1;32mIn[37], line 37\u001b[0m\n\u001b[0;32m     30\u001b[0m computation_kwargs_dict \u001b[38;5;241m=\u001b[39m {\n\u001b[0;32m     31\u001b[0m \t\u001b[38;5;66;03m# 'non_PBE_epochs_results': dict(epochs_decoding_time_bin_size=epochs_decoding_time_bin_size, drop_previous_result_and_compute_fresh=False, compute_2D=False, IGNORE_MEMORY_ERROR_FOR_DEBUGGING = True),\u001b[39;00m\n\u001b[0;32m     32\u001b[0m \t\u001b[38;5;124m'\u001b[39m\u001b[38;5;124mperform_generalized_specific_epochs_decoding\u001b[39m\u001b[38;5;124m'\u001b[39m: \u001b[38;5;28mdict\u001b[39m(),\n\u001b[0;32m     33\u001b[0m }\n\u001b[0;32m     36\u001b[0m \u001b[38;5;66;03m# computation_kwargs_dict = {'non_PBE_epochs_results': dict(epochs_decoding_time_bin_size=epochs_decoding_time_bin_size, drop_previous_result_and_compute_fresh=False, compute_2D=False, IGNORE_MEMORY_ERROR_FOR_DEBUGGING=True), }\u001b[39;00m\n\u001b[1;32m---> 37\u001b[0m newly_computed_values \u001b[38;5;241m=\u001b[39m \u001b[43mbatch_extended_computations\u001b[49m\u001b[43m(\u001b[49m\u001b[43mcurr_active_pipeline\u001b[49m\u001b[43m,\u001b[49m\u001b[43m \u001b[49m\u001b[43minclude_includelist\u001b[49m\u001b[38;5;241;43m=\u001b[39;49m\u001b[43mextended_computations_include_includelist\u001b[49m\u001b[43m,\u001b[49m\u001b[43m \u001b[49m\u001b[43minclude_global_functions\u001b[49m\u001b[38;5;241;43m=\u001b[39;49m\u001b[38;5;28;43;01mTrue\u001b[39;49;00m\u001b[43m,\u001b[49m\u001b[43m \u001b[49m\u001b[43mfail_on_exception\u001b[49m\u001b[38;5;241;43m=\u001b[39;49m\u001b[38;5;28;43;01mTrue\u001b[39;49;00m\u001b[43m,\u001b[49m\u001b[43m \u001b[49m\u001b[43mprogress_print\u001b[49m\u001b[38;5;241;43m=\u001b[39;49m\u001b[38;5;28;43;01mTrue\u001b[39;49;00m\u001b[43m,\u001b[49m\n\u001b[0;32m     38\u001b[0m \u001b[43m                                                    \u001b[49m\u001b[43mforce_recompute\u001b[49m\u001b[38;5;241;43m=\u001b[39;49m\u001b[43mforce_recompute_global\u001b[49m\u001b[43m,\u001b[49m\u001b[43m \u001b[49m\u001b[43mforce_recompute_override_computations_includelist\u001b[49m\u001b[38;5;241;43m=\u001b[39;49m\u001b[43mforce_recompute_override_computations_includelist\u001b[49m\u001b[43m,\u001b[49m\u001b[43m \u001b[49m\u001b[43mcomputation_kwargs_dict\u001b[49m\u001b[38;5;241;43m=\u001b[39;49m\u001b[43mcomputation_kwargs_dict\u001b[49m\u001b[43m,\u001b[49m\u001b[43m \u001b[49m\u001b[43mdebug_print\u001b[49m\u001b[38;5;241;43m=\u001b[39;49m\u001b[38;5;28;43;01mFalse\u001b[39;49;00m\u001b[43m)\u001b[49m\n\u001b[0;32m     39\u001b[0m newly_computed_values\n",
      "File \u001b[1;32m~\\repos\\Spike3DWorkEnv\\pyPhoPlaceCellAnalysis\\src\\pyphoplacecellanalysis\\General\\Batch\\NonInteractiveProcessing.py:539\u001b[0m, in \u001b[0;36mbatch_extended_computations\u001b[1;34m(curr_active_pipeline, include_includelist, included_computation_filter_names, include_global_functions, fail_on_exception, progress_print, debug_print, force_recompute, force_recompute_override_computations_includelist, computation_kwargs_dict, dry_run)\u001b[0m\n\u001b[0;32m    537\u001b[0m _curr_force_recompute \u001b[38;5;241m=\u001b[39m force_recompute \u001b[38;5;129;01mor\u001b[39;00m _comp_specifier\u001b[38;5;241m.\u001b[39mis_name_in(force_recompute_override_computations_includelist) \u001b[38;5;66;03m# force_recompute for this specific result if either of its name is included in `force_recompute_override_computations_includelist`\u001b[39;00m\n\u001b[0;32m    538\u001b[0m \u001b[38;5;28;01mif\u001b[39;00m \u001b[38;5;129;01mnot\u001b[39;00m dry_run:\n\u001b[1;32m--> 539\u001b[0m     newly_computed_values \u001b[38;5;241m+\u001b[39m\u001b[38;5;241m=\u001b[39m \u001b[43m_comp_specifier\u001b[49m\u001b[38;5;241;43m.\u001b[39;49m\u001b[43mtry_computation_if_needed\u001b[49m\u001b[43m(\u001b[49m\u001b[43mcurr_active_pipeline\u001b[49m\u001b[43m,\u001b[49m\u001b[43m \u001b[49m\u001b[43mcomputation_filter_name\u001b[49m\u001b[38;5;241;43m=\u001b[39;49m\u001b[43mglobal_epoch_name\u001b[49m\u001b[43m,\u001b[49m\u001b[43m \u001b[49m\u001b[43mon_already_computed_fn\u001b[49m\u001b[38;5;241;43m=\u001b[39;49m\u001b[43m_subfn_on_already_computed\u001b[49m\u001b[43m,\u001b[49m\u001b[43m \u001b[49m\u001b[43mfail_on_exception\u001b[49m\u001b[38;5;241;43m=\u001b[39;49m\u001b[43mfail_on_exception\u001b[49m\u001b[43m,\u001b[49m\u001b[43m \u001b[49m\u001b[43mprogress_print\u001b[49m\u001b[38;5;241;43m=\u001b[39;49m\u001b[43mprogress_print\u001b[49m\u001b[43m,\u001b[49m\u001b[43m \u001b[49m\u001b[43mdebug_print\u001b[49m\u001b[38;5;241;43m=\u001b[39;49m\u001b[43mdebug_print\u001b[49m\u001b[43m,\u001b[49m\u001b[43m \u001b[49m\u001b[43mforce_recompute\u001b[49m\u001b[38;5;241;43m=\u001b[39;49m\u001b[43m_curr_force_recompute\u001b[49m\u001b[43m)\u001b[49m\n\u001b[0;32m    540\u001b[0m \u001b[38;5;28;01melse\u001b[39;00m:\n\u001b[0;32m    541\u001b[0m     \u001b[38;5;28mprint\u001b[39m(\u001b[38;5;124mf\u001b[39m\u001b[38;5;124m'\u001b[39m\u001b[38;5;124mdry-run: \u001b[39m\u001b[38;5;132;01m{\u001b[39;00m_comp_specifier\u001b[38;5;241m.\u001b[39mshort_name\u001b[38;5;132;01m}\u001b[39;00m\u001b[38;5;124m, force_recompute=\u001b[39m\u001b[38;5;132;01m{\u001b[39;00mforce_recompute\u001b[38;5;132;01m}\u001b[39;00m\u001b[38;5;124m, curr_force_recompute=\u001b[39m\u001b[38;5;132;01m{\u001b[39;00m_curr_force_recompute\u001b[38;5;132;01m}\u001b[39;00m\u001b[38;5;124m'\u001b[39m)\n",
      "File \u001b[1;32m~\\repos\\Spike3DWorkEnv\\pyPhoPlaceCellAnalysis\\src\\pyphoplacecellanalysis\\General\\Model\\SpecificComputationValidation.py:233\u001b[0m, in \u001b[0;36mSpecificComputationValidator.try_computation_if_needed\u001b[1;34m(self, curr_active_pipeline, computation_filter_name, **kwargs)\u001b[0m\n\u001b[0;32m    232\u001b[0m \u001b[38;5;28;01mdef\u001b[39;00m\u001b[38;5;250m \u001b[39m\u001b[38;5;21mtry_computation_if_needed\u001b[39m(\u001b[38;5;28mself\u001b[39m, curr_active_pipeline, computation_filter_name:\u001b[38;5;28mstr\u001b[39m, \u001b[38;5;241m*\u001b[39m\u001b[38;5;241m*\u001b[39mkwargs):\n\u001b[1;32m--> 233\u001b[0m     \u001b[38;5;28;01mreturn\u001b[39;00m \u001b[38;5;28mself\u001b[39m\u001b[38;5;241m.\u001b[39m_perform_try_computation_if_needed(\u001b[38;5;28mself\u001b[39m, curr_active_pipeline, computation_filter_name\u001b[38;5;241m=\u001b[39mcomputation_filter_name, \u001b[38;5;241m*\u001b[39m\u001b[38;5;241m*\u001b[39mkwargs)\n",
      "File \u001b[1;32m~\\repos\\Spike3DWorkEnv\\pyPhoPlaceCellAnalysis\\src\\pyphoplacecellanalysis\\General\\Model\\SpecificComputationValidation.py:412\u001b[0m, in \u001b[0;36mSpecificComputationValidator._perform_try_computation_if_needed\u001b[1;34m(cls, comp_specifier, curr_active_pipeline, computation_filter_name, on_already_computed_fn, fail_on_exception, progress_print, debug_print, force_recompute)\u001b[0m\n\u001b[0;32m    410\u001b[0m     \u001b[38;5;28mprint\u001b[39m(\u001b[38;5;124mf\u001b[39m\u001b[38;5;124m'\u001b[39m\u001b[38;5;124mException occured while computing (`perform_specific_computation(...)`):\u001b[39m\u001b[38;5;130;01m\\n\u001b[39;00m\u001b[38;5;124m Inner exception: \u001b[39m\u001b[38;5;132;01m{\u001b[39;00minner_e\u001b[38;5;132;01m}\u001b[39;00m\u001b[38;5;124m'\u001b[39m)\n\u001b[0;32m    411\u001b[0m     \u001b[38;5;28;01mif\u001b[39;00m fail_on_exception:\n\u001b[1;32m--> 412\u001b[0m         \u001b[38;5;28;01mraise\u001b[39;00m inner_e\n\u001b[0;32m    413\u001b[0m \u001b[38;5;28;01mexcept\u001b[39;00m \u001b[38;5;167;01mBaseException\u001b[39;00m:\n\u001b[0;32m    414\u001b[0m     \u001b[38;5;28;01mraise\u001b[39;00m \u001b[38;5;66;03m# unhandled exception\u001b[39;00m\n",
      "File \u001b[1;32m~\\repos\\Spike3DWorkEnv\\pyPhoPlaceCellAnalysis\\src\\pyphoplacecellanalysis\\General\\Model\\SpecificComputationValidation.py:405\u001b[0m, in \u001b[0;36mSpecificComputationValidator._perform_try_computation_if_needed\u001b[1;34m(cls, comp_specifier, curr_active_pipeline, computation_filter_name, on_already_computed_fn, fail_on_exception, progress_print, debug_print, force_recompute)\u001b[0m\n\u001b[0;32m    403\u001b[0m \u001b[38;5;66;03m# When this fails due to unwrapping from the load, add `, computation_kwargs_list=[{'perform_cache_load': False}]` as an argument to the `perform_specific_computation` call below\u001b[39;00m\n\u001b[0;32m    404\u001b[0m \u001b[38;5;28;01mtry\u001b[39;00m:\n\u001b[1;32m--> 405\u001b[0m     \u001b[43mcurr_active_pipeline\u001b[49m\u001b[38;5;241;43m.\u001b[39;49m\u001b[43mperform_specific_computation\u001b[49m\u001b[43m(\u001b[49m\u001b[43mcomputation_functions_name_includelist\u001b[49m\u001b[38;5;241;43m=\u001b[39;49m\u001b[43m[\u001b[49m\u001b[43mcomp_specifier\u001b[49m\u001b[38;5;241;43m.\u001b[39;49m\u001b[43mcomputation_fn_name\u001b[49m\u001b[43m]\u001b[49m\u001b[43m,\u001b[49m\u001b[43m \u001b[49m\u001b[43mcomputation_kwargs_list\u001b[49m\u001b[38;5;241;43m=\u001b[39;49m\u001b[43m[\u001b[49m\u001b[43mcomp_specifier\u001b[49m\u001b[38;5;241;43m.\u001b[39;49m\u001b[43mcomputation_fn_kwargs\u001b[49m\u001b[43m]\u001b[49m\u001b[43m,\u001b[49m\u001b[43m \u001b[49m\u001b[43mfail_on_exception\u001b[49m\u001b[38;5;241;43m=\u001b[39;49m\u001b[38;5;28;43;01mTrue\u001b[39;49;00m\u001b[43m,\u001b[49m\u001b[43m \u001b[49m\u001b[43mdebug_print\u001b[49m\u001b[38;5;241;43m=\u001b[39;49m\u001b[38;5;28;43;01mFalse\u001b[39;49;00m\u001b[43m)\u001b[49m \u001b[38;5;66;03m# fail_on_exception MUST be True or error handling is all messed up \u001b[39;00m\n\u001b[0;32m    406\u001b[0m     \u001b[38;5;28;01mif\u001b[39;00m progress_print \u001b[38;5;129;01mor\u001b[39;00m debug_print:\n\u001b[0;32m    407\u001b[0m         \u001b[38;5;28mprint\u001b[39m(\u001b[38;5;124mf\u001b[39m\u001b[38;5;124m'\u001b[39m\u001b[38;5;130;01m\\t\u001b[39;00m\u001b[38;5;124m done.\u001b[39m\u001b[38;5;124m'\u001b[39m)\n",
      "File \u001b[1;32m~\\repos\\Spike3DWorkEnv\\pyPhoPlaceCellAnalysis\\src\\pyphoplacecellanalysis\\General\\Pipeline\\Stages\\Computation.py:2304\u001b[0m, in \u001b[0;36mPipelineWithComputedPipelineStageMixin.perform_specific_computation\u001b[1;34m(self, active_computation_params, enabled_filter_names, computation_functions_name_includelist, computation_kwargs_list, fail_on_exception, debug_print)\u001b[0m\n\u001b[0;32m   2297\u001b[0m \u001b[38;5;250m\u001b[39m\u001b[38;5;124;03m\"\"\" perform a specific computation (specified in computation_functions_name_includelist) in a minimally destructive manner using the previously recomputed results:\u001b[39;00m\n\u001b[0;32m   2298\u001b[0m \u001b[38;5;124;03mPassthrough wrapper to self.stage.perform_specific_computation(...) with the same arguments.\u001b[39;00m\n\u001b[0;32m   2299\u001b[0m \n\u001b[0;32m   2300\u001b[0m \u001b[38;5;124;03mUpdates:\u001b[39;00m\n\u001b[0;32m   2301\u001b[0m \u001b[38;5;124;03m    curr_active_pipeline.computation_results\u001b[39;00m\n\u001b[0;32m   2302\u001b[0m \u001b[38;5;124;03m\"\"\"\u001b[39;00m\n\u001b[0;32m   2303\u001b[0m \u001b[38;5;66;03m# self.stage is of type ComputedPipelineStage\u001b[39;00m\n\u001b[1;32m-> 2304\u001b[0m \u001b[38;5;28;01mreturn\u001b[39;00m \u001b[38;5;28;43mself\u001b[39;49m\u001b[38;5;241;43m.\u001b[39;49m\u001b[43mstage\u001b[49m\u001b[38;5;241;43m.\u001b[39;49m\u001b[43mperform_specific_computation\u001b[49m\u001b[43m(\u001b[49m\u001b[43mactive_computation_params\u001b[49m\u001b[38;5;241;43m=\u001b[39;49m\u001b[43mactive_computation_params\u001b[49m\u001b[43m,\u001b[49m\u001b[43m \u001b[49m\u001b[43menabled_filter_names\u001b[49m\u001b[38;5;241;43m=\u001b[39;49m\u001b[43menabled_filter_names\u001b[49m\u001b[43m,\u001b[49m\u001b[43m \u001b[49m\u001b[43mcomputation_functions_name_includelist\u001b[49m\u001b[38;5;241;43m=\u001b[39;49m\u001b[43mcomputation_functions_name_includelist\u001b[49m\u001b[43m,\u001b[49m\u001b[43m \u001b[49m\u001b[43mcomputation_kwargs_list\u001b[49m\u001b[38;5;241;43m=\u001b[39;49m\u001b[43mcomputation_kwargs_list\u001b[49m\u001b[43m,\u001b[49m\u001b[43m \u001b[49m\u001b[43mfail_on_exception\u001b[49m\u001b[38;5;241;43m=\u001b[39;49m\u001b[43mfail_on_exception\u001b[49m\u001b[43m,\u001b[49m\u001b[43m \u001b[49m\u001b[43mdebug_print\u001b[49m\u001b[38;5;241;43m=\u001b[39;49m\u001b[43mdebug_print\u001b[49m\u001b[43m)\u001b[49m\n",
      "File \u001b[1;32m~\\repos\\Spike3DWorkEnv\\pyPhoPlaceCellAnalysis\\src\\pyphoplacecellanalysis\\General\\Pipeline\\Stages\\Computation.py:1149\u001b[0m, in \u001b[0;36mComputedPipelineStage.perform_specific_computation\u001b[1;34m(self, active_computation_params, enabled_filter_names, computation_functions_name_includelist, computation_kwargs_list, fail_on_exception, debug_print, progress_logger_callback, enable_parallel)\u001b[0m\n\u001b[0;32m   1147\u001b[0m     global_kwargs \u001b[38;5;241m=\u001b[39m \u001b[38;5;28mdict\u001b[39m(owning_pipeline_reference\u001b[38;5;241m=\u001b[39m\u001b[38;5;28mself\u001b[39m, global_computation_results\u001b[38;5;241m=\u001b[39mprevious_computation_result, computation_results\u001b[38;5;241m=\u001b[39m\u001b[38;5;28mself\u001b[39m\u001b[38;5;241m.\u001b[39mcomputation_results, active_configs\u001b[38;5;241m=\u001b[39m\u001b[38;5;28mself\u001b[39m\u001b[38;5;241m.\u001b[39mactive_configs, include_includelist\u001b[38;5;241m=\u001b[39menabled_filter_names, debug_print\u001b[38;5;241m=\u001b[39mdebug_print)\n\u001b[0;32m   1148\u001b[0m     \u001b[38;5;28mprint\u001b[39m(\u001b[38;5;124mf\u001b[39m\u001b[38;5;124m'\u001b[39m\u001b[38;5;124mfor global computations: Performing run_specific_computations_single_context(..., computation_functions_name_includelist=\u001b[39m\u001b[38;5;132;01m{\u001b[39;00mcomputation_functions_name_includelist\u001b[38;5;132;01m}\u001b[39;00m\u001b[38;5;124m, ...)...\u001b[39m\u001b[38;5;124m'\u001b[39m)\n\u001b[1;32m-> 1149\u001b[0m     \u001b[38;5;28mself\u001b[39m\u001b[38;5;241m.\u001b[39mglobal_computation_results \u001b[38;5;241m=\u001b[39m \u001b[38;5;28;43mself\u001b[39;49m\u001b[38;5;241;43m.\u001b[39;49m\u001b[43mrun_specific_computations_single_context\u001b[49m\u001b[43m(\u001b[49m\u001b[43mglobal_kwargs\u001b[49m\u001b[43m,\u001b[49m\u001b[43m \u001b[49m\u001b[43mcomputation_functions_name_includelist\u001b[49m\u001b[38;5;241;43m=\u001b[39;49m\u001b[43mcomputation_functions_name_includelist\u001b[49m\u001b[43m,\u001b[49m\u001b[43m \u001b[49m\u001b[43mcomputation_kwargs_list\u001b[49m\u001b[38;5;241;43m=\u001b[39;49m\u001b[43mcomputation_kwargs_list\u001b[49m\u001b[43m,\u001b[49m\u001b[43m \u001b[49m\u001b[43mare_global\u001b[49m\u001b[38;5;241;43m=\u001b[39;49m\u001b[38;5;28;43;01mTrue\u001b[39;49;00m\u001b[43m,\u001b[49m\u001b[43m \u001b[49m\u001b[43mfail_on_exception\u001b[49m\u001b[38;5;241;43m=\u001b[39;49m\u001b[43mfail_on_exception\u001b[49m\u001b[43m,\u001b[49m\u001b[43m \u001b[49m\u001b[43mdebug_print\u001b[49m\u001b[38;5;241;43m=\u001b[39;49m\u001b[43mdebug_print\u001b[49m\u001b[43m,\u001b[49m\u001b[43m \u001b[49m\u001b[43mprogress_logger_callback\u001b[49m\u001b[38;5;241;43m=\u001b[39;49m\u001b[43mprogress_logger_callback\u001b[49m\u001b[43m)\u001b[49m \u001b[38;5;66;03m# was there a reason I didn't pass `computation_kwargs_list` to the global version?\u001b[39;00m\n\u001b[0;32m   1150\u001b[0m \u001b[38;5;28;01melse\u001b[39;00m:\n\u001b[0;32m   1151\u001b[0m     \u001b[38;5;66;03m# Non-global functions:\u001b[39;00m\n\u001b[0;32m   1152\u001b[0m     \u001b[38;5;28;01mif\u001b[39;00m \u001b[38;5;129;01mnot\u001b[39;00m enable_parallel:\n\u001b[0;32m   1153\u001b[0m         \u001b[38;5;66;03m## enable_parallel == False\u001b[39;00m\n",
      "File \u001b[1;32m~\\repos\\Spike3DWorkEnv\\pyPhoPlaceCellAnalysis\\src\\pyphoplacecellanalysis\\General\\Pipeline\\Stages\\Computation.py:545\u001b[0m, in \u001b[0;36mComputedPipelineStage.run_specific_computations_single_context\u001b[1;34m(self, previous_computation_result, computation_functions_name_includelist, computation_kwargs_list, fail_on_exception, progress_logger_callback, are_global, debug_print)\u001b[0m\n\u001b[0;32m    542\u001b[0m     progress_logger_callback(\u001b[38;5;124mf\u001b[39m\u001b[38;5;124m'\u001b[39m\u001b[38;5;130;01m\\t\u001b[39;00m\u001b[38;5;124mrun_specific_computations_single_context(including only \u001b[39m\u001b[38;5;132;01m{\u001b[39;00m\u001b[38;5;28mlen\u001b[39m(active_found_computation_functions)\u001b[38;5;132;01m}\u001b[39;00m\u001b[38;5;124m out of \u001b[39m\u001b[38;5;132;01m{\u001b[39;00m\u001b[38;5;28mlen\u001b[39m(\u001b[38;5;28mself\u001b[39m\u001b[38;5;241m.\u001b[39mregistered_computation_function_names)\u001b[38;5;132;01m}\u001b[39;00m\u001b[38;5;124m registered computation functions): active_computation_functions: \u001b[39m\u001b[38;5;132;01m{\u001b[39;00mactive_found_computation_functions\u001b[38;5;132;01m}\u001b[39;00m\u001b[38;5;124m...\u001b[39m\u001b[38;5;124m'\u001b[39m)\n\u001b[0;32m    544\u001b[0m \u001b[38;5;28;01massert\u001b[39;00m \u001b[38;5;28mlen\u001b[39m(active_found_computation_kwargs_list) \u001b[38;5;241m==\u001b[39m \u001b[38;5;28mlen\u001b[39m(active_found_computation_functions), \u001b[38;5;124mf\u001b[39m\u001b[38;5;124m\"\u001b[39m\u001b[38;5;124mLength mismatch between computation kwargs list (\u001b[39m\u001b[38;5;132;01m{\u001b[39;00m\u001b[38;5;28mlen\u001b[39m(active_found_computation_kwargs_list)\u001b[38;5;132;01m}\u001b[39;00m\u001b[38;5;124m) and computation functions (\u001b[39m\u001b[38;5;132;01m{\u001b[39;00m\u001b[38;5;28mlen\u001b[39m(active_found_computation_functions)\u001b[38;5;132;01m}\u001b[39;00m\u001b[38;5;124m)\u001b[39m\u001b[38;5;124m\"\u001b[39m        \u001b[38;5;66;03m# Perform the computations:\u001b[39;00m\n\u001b[1;32m--> 545\u001b[0m \u001b[38;5;28;01mreturn\u001b[39;00m \u001b[43mComputedPipelineStage\u001b[49m\u001b[38;5;241;43m.\u001b[39;49m\u001b[43m_execute_computation_functions\u001b[49m\u001b[43m(\u001b[49m\u001b[43mactive_found_computation_functions\u001b[49m\u001b[43m,\u001b[49m\u001b[43m \u001b[49m\u001b[43mprevious_computation_result\u001b[49m\u001b[38;5;241;43m=\u001b[39;49m\u001b[43mprevious_computation_result\u001b[49m\u001b[43m,\u001b[49m\u001b[43m \u001b[49m\u001b[43mcomputation_kwargs_list\u001b[49m\u001b[38;5;241;43m=\u001b[39;49m\u001b[43mactive_found_computation_kwargs_list\u001b[49m\u001b[43m,\u001b[49m\u001b[43m \u001b[49m\u001b[43mfail_on_exception\u001b[49m\u001b[38;5;241;43m=\u001b[39;49m\u001b[43mfail_on_exception\u001b[49m\u001b[43m,\u001b[49m\u001b[43m \u001b[49m\u001b[43mprogress_logger_callback\u001b[49m\u001b[38;5;241;43m=\u001b[39;49m\u001b[43mprogress_logger_callback\u001b[49m\u001b[43m,\u001b[49m\u001b[43m \u001b[49m\u001b[43mare_global\u001b[49m\u001b[38;5;241;43m=\u001b[39;49m\u001b[43mare_global\u001b[49m\u001b[43m,\u001b[49m\u001b[43m \u001b[49m\u001b[43mdebug_print\u001b[49m\u001b[38;5;241;43m=\u001b[39;49m\u001b[43mdebug_print\u001b[49m\u001b[43m)\u001b[49m\n",
      "File \u001b[1;32m~\\repos\\Spike3DWorkEnv\\pyPhoPlaceCellAnalysis\\src\\pyphoplacecellanalysis\\General\\Pipeline\\Stages\\Computation.py:1339\u001b[0m, in \u001b[0;36mComputedPipelineStage._execute_computation_functions\u001b[1;34m(active_computation_functions, previous_computation_result, computation_kwargs_list, fail_on_exception, progress_logger_callback, are_global, debug_print)\u001b[0m\n\u001b[0;32m   1337\u001b[0m \u001b[38;5;28;01mif\u001b[39;00m progress_logger_callback \u001b[38;5;129;01mis\u001b[39;00m \u001b[38;5;129;01mnot\u001b[39;00m \u001b[38;5;28;01mNone\u001b[39;00m:\n\u001b[0;32m   1338\u001b[0m     progress_logger_callback(\u001b[38;5;124mf\u001b[39m\u001b[38;5;124m'\u001b[39m\u001b[38;5;124mExecuting [\u001b[39m\u001b[38;5;132;01m{\u001b[39;00mi\u001b[38;5;132;01m}\u001b[39;00m\u001b[38;5;124m/\u001b[39m\u001b[38;5;132;01m{\u001b[39;00mtotal_num_funcs\u001b[38;5;132;01m}\u001b[39;00m\u001b[38;5;124m]: \u001b[39m\u001b[38;5;132;01m{\u001b[39;00mf\u001b[38;5;132;01m}\u001b[39;00m\u001b[38;5;124m'\u001b[39m)\n\u001b[1;32m-> 1339\u001b[0m previous_computation_result \u001b[38;5;241m=\u001b[39m f(previous_computation_result, \u001b[38;5;241m*\u001b[39m\u001b[38;5;241m*\u001b[39mcomputation_kwargs_list[i]) \u001b[38;5;66;03m# call the function `f` directly here ## #TODO 2025-02-19 13:51: - [ ] was getting`TypeError: pyphoplacecellanalysis.General.Pipeline.Stages.ComputationFunctions.PlacefieldComputations.PlacefieldComputations._perform_baseline_placefield_computation() argument after ** must be a mapping, not NoneType` which I fixed by replacing any None in the list with {}\u001b[39;00m\n\u001b[0;32m   1340\u001b[0m \u001b[38;5;66;03m# Log the computation copmlete time:\u001b[39;00m\n\u001b[0;32m   1341\u001b[0m computation_times[computation_times_key_fn(f)] \u001b[38;5;241m=\u001b[39m datetime\u001b[38;5;241m.\u001b[39mnow()\n",
      "File \u001b[1;32m~\\repos\\Spike3DWorkEnv\\pyPhoPlaceCellAnalysis\\src\\pyphoplacecellanalysis\\General\\Pipeline\\Stages\\ComputationFunctions\\MultiContextComputationFunctions\\MultiContextComputationFunctions.py:19\u001b[0m, in \u001b[0;36m_wrap_multi_context_computation_function.<locals>._\u001b[1;34m(x, **kwargs)\u001b[0m\n\u001b[0;32m     16\u001b[0m \u001b[38;5;129m@wraps\u001b[39m(global_comp_fcn) \u001b[38;5;66;03m# @wraps ensures that the functions name, docs, etc are accessible in the wrapped version of the function.\u001b[39;00m\n\u001b[0;32m     17\u001b[0m \u001b[38;5;28;01mdef\u001b[39;00m\u001b[38;5;250m \u001b[39m\u001b[38;5;21m_\u001b[39m(x, \u001b[38;5;241m*\u001b[39m\u001b[38;5;241m*\u001b[39mkwargs):\n\u001b[0;32m     18\u001b[0m     \u001b[38;5;28;01massert\u001b[39;00m \u001b[38;5;28mlen\u001b[39m(x) \u001b[38;5;241m>\u001b[39m \u001b[38;5;241m4\u001b[39m, \u001b[38;5;124mf\u001b[39m\u001b[38;5;124m\"\u001b[39m\u001b[38;5;124mlooks like it ensures we have more than four (at least 5) positional arguments provided. \u001b[39m\u001b[38;5;132;01m{\u001b[39;00mx\u001b[38;5;132;01m}\u001b[39;00m\u001b[38;5;124m\"\u001b[39m\n\u001b[1;32m---> 19\u001b[0m     x[\u001b[38;5;241m1\u001b[39m] \u001b[38;5;241m=\u001b[39m global_comp_fcn(\u001b[38;5;241m*\u001b[39mx, \u001b[38;5;241m*\u001b[39m\u001b[38;5;241m*\u001b[39mkwargs) \u001b[38;5;66;03m# update global_computation_results\u001b[39;00m\n\u001b[0;32m     20\u001b[0m     \u001b[38;5;28;01mreturn\u001b[39;00m x\n",
      "File \u001b[1;32m~\\repos\\Spike3DWorkEnv\\pyPhoPlaceCellAnalysis\\src\\pyphoplacecellanalysis\\General\\Pipeline\\Stages\\ComputationFunctions\\EpochComputationFunctions.py:2124\u001b[0m, in \u001b[0;36mEpochComputationFunctions.perform_generalized_specific_epochs_decoding\u001b[1;34m(owning_pipeline_reference, global_computation_results, computation_results, active_configs, include_includelist, debug_print, epochs_decoding_time_bin_size, drop_previous_result_and_compute_fresh, force_recompute)\u001b[0m\n\u001b[0;32m   2120\u001b[0m         \u001b[38;5;28mprint\u001b[39m(\u001b[38;5;124mf\u001b[39m\u001b[38;5;124m'\u001b[39m\u001b[38;5;124mremoved previous \u001b[39m\u001b[38;5;124m\"\u001b[39m\u001b[38;5;124mEpochComputations.a_generic_decoder_dict_decoded_epochs_dict_result\u001b[39m\u001b[38;5;124m\"\u001b[39m\u001b[38;5;124m result and computing fresh since `drop_previous_result_and_compute_fresh == True`\u001b[39m\u001b[38;5;124m'\u001b[39m)\n\u001b[0;32m   2122\u001b[0m \u001b[38;5;28;01mif\u001b[39;00m (\u001b[38;5;129;01mnot\u001b[39;00m \u001b[38;5;28mhasattr\u001b[39m(valid_EpochComputations_result, \u001b[38;5;124m'\u001b[39m\u001b[38;5;124ma_generic_decoder_dict_decoded_epochs_dict_result\u001b[39m\u001b[38;5;124m'\u001b[39m)) \u001b[38;5;129;01mor\u001b[39;00m (\u001b[38;5;28mgetattr\u001b[39m(valid_EpochComputations_result, \u001b[38;5;124m'\u001b[39m\u001b[38;5;124ma_generic_decoder_dict_decoded_epochs_dict_result\u001b[39m\u001b[38;5;124m'\u001b[39m, \u001b[38;5;28;01mNone\u001b[39;00m) \u001b[38;5;129;01mis\u001b[39;00m \u001b[38;5;28;01mNone\u001b[39;00m):\n\u001b[0;32m   2123\u001b[0m     \u001b[38;5;66;03m# initialize\u001b[39;00m\n\u001b[1;32m-> 2124\u001b[0m     a_new_fully_generic_result: GenericDecoderDictDecodedEpochsDictResult \u001b[38;5;241m=\u001b[39m \u001b[43mGenericDecoderDictDecodedEpochsDictResult\u001b[49m\u001b[38;5;241;43m.\u001b[39;49m\u001b[43mbatch_user_compute_fn\u001b[49m\u001b[43m(\u001b[49m\u001b[43mcurr_active_pipeline\u001b[49m\u001b[38;5;241;43m=\u001b[39;49m\u001b[43mowning_pipeline_reference\u001b[49m\u001b[43m,\u001b[49m\u001b[43m \u001b[49m\u001b[43mforce_recompute\u001b[49m\u001b[38;5;241;43m=\u001b[39;49m\u001b[43mforce_recompute\u001b[49m\u001b[43m,\u001b[49m\u001b[43m \u001b[49m\u001b[43mtime_bin_size\u001b[49m\u001b[38;5;241;43m=\u001b[39;49m\u001b[43mepochs_decoding_time_bin_size\u001b[49m\u001b[43m,\u001b[49m\u001b[43m \u001b[49m\u001b[43mdebug_print\u001b[49m\u001b[38;5;241;43m=\u001b[39;49m\u001b[43mdebug_print\u001b[49m\u001b[43m)\u001b[49m\n\u001b[0;32m   2125\u001b[0m     valid_EpochComputations_result\u001b[38;5;241m.\u001b[39ma_generic_decoder_dict_decoded_epochs_dict_result \u001b[38;5;241m=\u001b[39m a_new_fully_generic_result\n\u001b[0;32m   2126\u001b[0m     global_computation_results\u001b[38;5;241m.\u001b[39mcomputed_data[\u001b[38;5;124m'\u001b[39m\u001b[38;5;124mEpochComputations\u001b[39m\u001b[38;5;124m'\u001b[39m]\u001b[38;5;241m.\u001b[39ma_generic_decoder_dict_decoded_epochs_dict_result \u001b[38;5;241m=\u001b[39m a_new_fully_generic_result\n",
      "File \u001b[1;32m~\\repos\\Spike3DWorkEnv\\pyPhoPlaceCellAnalysis\\src\\pyphoplacecellanalysis\\Analysis\\Decoder\\context_dependent.py:1134\u001b[0m, in \u001b[0;36mGenericDecoderDictDecodedEpochsDictResult.batch_user_compute_fn\u001b[1;34m(cls, curr_active_pipeline, force_recompute, time_bin_size, debug_print)\u001b[0m\n\u001b[0;32m   1131\u001b[0m curr_active_pipeline\u001b[38;5;241m.\u001b[39mreload_default_computation_functions()\n\u001b[0;32m   1132\u001b[0m \u001b[38;5;66;03m## perform the computation either way:\u001b[39;00m\n\u001b[0;32m   1133\u001b[0m \u001b[38;5;66;03m# curr_active_pipeline.perform_specific_computation(computation_functions_name_includelist=['non_PBE_epochs_results'], enabled_filter_names=None, fail_on_exception=True, debug_print=False)\u001b[39;00m\n\u001b[1;32m-> 1134\u001b[0m \u001b[43mcurr_active_pipeline\u001b[49m\u001b[38;5;241;43m.\u001b[39;49m\u001b[43mperform_specific_computation\u001b[49m\u001b[43m(\u001b[49m\u001b[43mcomputation_functions_name_includelist\u001b[49m\u001b[38;5;241;43m=\u001b[39;49m\u001b[43m[\u001b[49m\u001b[38;5;124;43m'\u001b[39;49m\u001b[38;5;124;43mmerged_directional_placefields\u001b[39;49m\u001b[38;5;124;43m'\u001b[39;49m\u001b[43m,\u001b[49m\u001b[43m \u001b[49m\u001b[38;5;124;43m'\u001b[39;49m\u001b[38;5;124;43mdirectional_decoders_decode_continuous\u001b[39;49m\u001b[38;5;124;43m'\u001b[39;49m\u001b[43m,\u001b[49m\u001b[43m \u001b[49m\u001b[38;5;124;43m'\u001b[39;49m\u001b[38;5;124;43mdirectional_decoders_evaluate_epochs\u001b[39;49m\u001b[38;5;124;43m'\u001b[39;49m\u001b[43m,\u001b[49m\u001b[43m \u001b[49m\u001b[38;5;124;43m'\u001b[39;49m\u001b[38;5;124;43mdirectional_decoders_epoch_heuristic_scoring\u001b[39;49m\u001b[38;5;124;43m'\u001b[39;49m\u001b[43m,\u001b[49m\u001b[43m \u001b[49m\u001b[38;5;124;43m'\u001b[39;49m\u001b[38;5;124;43mnon_PBE_epochs_results\u001b[39;49m\u001b[38;5;124;43m'\u001b[39;49m\u001b[43m]\u001b[49m\u001b[43m,\u001b[49m\n\u001b[0;32m   1135\u001b[0m \u001b[43m                                                \u001b[49m\u001b[43mcomputation_kwargs_list\u001b[49m\u001b[38;5;241;43m=\u001b[39;49m\u001b[43m[\u001b[49m\u001b[43m{\u001b[49m\u001b[38;5;124;43m'\u001b[39;49m\u001b[38;5;124;43mripple_decoding_time_bin_size\u001b[39;49m\u001b[38;5;124;43m'\u001b[39;49m\u001b[43m:\u001b[49m\u001b[43m \u001b[49m\u001b[43mtime_bin_size\u001b[49m\u001b[43m,\u001b[49m\u001b[43m \u001b[49m\u001b[38;5;124;43m'\u001b[39;49m\u001b[38;5;124;43mlaps_decoding_time_bin_size\u001b[39;49m\u001b[38;5;124;43m'\u001b[39;49m\u001b[43m:\u001b[49m\u001b[43m \u001b[49m\u001b[43mtime_bin_size\u001b[49m\u001b[43m}\u001b[49m\u001b[43m,\u001b[49m\u001b[43m \u001b[49m\u001b[43m{\u001b[49m\u001b[38;5;124;43m'\u001b[39;49m\u001b[38;5;124;43mtime_bin_size\u001b[39;49m\u001b[38;5;124;43m'\u001b[39;49m\u001b[43m:\u001b[49m\u001b[43m \u001b[49m\u001b[43mtime_bin_size\u001b[49m\u001b[43m}\u001b[49m\u001b[43m,\u001b[49m\u001b[43m \u001b[49m\u001b[43m{\u001b[49m\u001b[38;5;124;43m'\u001b[39;49m\u001b[38;5;124;43mshould_skip_radon_transform\u001b[39;49m\u001b[38;5;124;43m'\u001b[39;49m\u001b[43m:\u001b[49m\u001b[43m \u001b[49m\u001b[38;5;28;43;01mTrue\u001b[39;49;00m\u001b[43m}\u001b[49m\u001b[43m,\u001b[49m\n\u001b[0;32m   1136\u001b[0m \u001b[43m                                                                            \u001b[49m\u001b[43m{\u001b[49m\u001b[38;5;124;43m'\u001b[39;49m\u001b[38;5;124;43msame_thresh_fraction_of_track\u001b[39;49m\u001b[38;5;124;43m'\u001b[39;49m\u001b[43m:\u001b[49m\u001b[43m \u001b[49m\u001b[38;5;241;43m0.05\u001b[39;49m\u001b[43m,\u001b[49m\u001b[43m \u001b[49m\u001b[38;5;124;43m'\u001b[39;49m\u001b[38;5;124;43mmax_ignore_bins\u001b[39;49m\u001b[38;5;124;43m'\u001b[39;49m\u001b[43m:\u001b[49m\u001b[43m \u001b[49m\u001b[38;5;241;43m2\u001b[39;49m\u001b[43m,\u001b[49m\u001b[43m \u001b[49m\u001b[38;5;124;43m'\u001b[39;49m\u001b[38;5;124;43muse_bin_units_instead_of_realworld\u001b[39;49m\u001b[38;5;124;43m'\u001b[39;49m\u001b[43m:\u001b[49m\u001b[43m \u001b[49m\u001b[38;5;28;43;01mFalse\u001b[39;49;00m\u001b[43m,\u001b[49m\u001b[43m \u001b[49m\u001b[38;5;124;43m'\u001b[39;49m\u001b[38;5;124;43mmax_jump_distance_cm\u001b[39;49m\u001b[38;5;124;43m'\u001b[39;49m\u001b[43m:\u001b[49m\u001b[43m \u001b[49m\u001b[38;5;241;43m60.0\u001b[39;49m\u001b[43m}\u001b[49m\u001b[43m,\u001b[49m\n\u001b[0;32m   1137\u001b[0m \u001b[43m                                                                             \u001b[49m\u001b[38;5;28;43mdict\u001b[39;49m\u001b[43m(\u001b[49m\u001b[43mepochs_decoding_time_bin_size\u001b[49m\u001b[38;5;241;43m=\u001b[39;49m\u001b[43mtime_bin_size\u001b[49m\u001b[43m,\u001b[49m\u001b[43m \u001b[49m\u001b[43mframe_divide_bin_size\u001b[49m\u001b[38;5;241;43m=\u001b[39;49m\u001b[38;5;241;43m10.0\u001b[39;49m\u001b[43m,\u001b[49m\u001b[43m \u001b[49m\u001b[43mcompute_1D\u001b[49m\u001b[38;5;241;43m=\u001b[39;49m\u001b[38;5;28;43;01mTrue\u001b[39;49;00m\u001b[43m,\u001b[49m\u001b[43m \u001b[49m\u001b[43mcompute_2D\u001b[49m\u001b[38;5;241;43m=\u001b[39;49m\u001b[38;5;28;43;01mTrue\u001b[39;49;00m\u001b[43m,\u001b[49m\u001b[43m \u001b[49m\u001b[43mdrop_previous_result_and_compute_fresh\u001b[49m\u001b[38;5;241;43m=\u001b[39;49m\u001b[43mforce_recompute\u001b[49m\u001b[43m,\u001b[49m\u001b[43m \u001b[49m\u001b[43mskip_training_test_split\u001b[49m\u001b[38;5;241;43m=\u001b[39;49m\u001b[38;5;28;43;01mTrue\u001b[39;49;00m\u001b[43m,\u001b[49m\u001b[43m \u001b[49m\u001b[43mdebug_print_memory_breakdown\u001b[49m\u001b[38;5;241;43m=\u001b[39;49m\u001b[38;5;28;43;01mFalse\u001b[39;49;00m\u001b[43m)\u001b[49m\u001b[43m,\u001b[49m\n\u001b[0;32m   1138\u001b[0m \u001b[43m                                                                        \u001b[49m\u001b[43m]\u001b[49m\u001b[43m,\u001b[49m\u001b[43m \u001b[49m\u001b[38;5;66;43;03m## END KWARGS LIST\u001b[39;49;00m\n\u001b[0;32m   1139\u001b[0m \u001b[43m                                                                        \u001b[49m\u001b[43menabled_filter_names\u001b[49m\u001b[38;5;241;43m=\u001b[39;49m\u001b[38;5;28;43;01mNone\u001b[39;49;00m\u001b[43m,\u001b[49m\u001b[43m \u001b[49m\u001b[43mfail_on_exception\u001b[49m\u001b[38;5;241;43m=\u001b[39;49m\u001b[38;5;28;43;01mTrue\u001b[39;49;00m\u001b[43m,\u001b[49m\u001b[43m \u001b[49m\u001b[43mdebug_print\u001b[49m\u001b[38;5;241;43m=\u001b[39;49m\u001b[38;5;28;43;01mFalse\u001b[39;49;00m\u001b[43m)\u001b[49m\n\u001b[0;32m   1140\u001b[0m curr_active_pipeline\u001b[38;5;241m.\u001b[39mbatch_extended_computations(include_includelist\u001b[38;5;241m=\u001b[39m[\u001b[38;5;124m'\u001b[39m\u001b[38;5;124mnon_PBE_epochs_results\u001b[39m\u001b[38;5;124m'\u001b[39m], include_global_functions\u001b[38;5;241m=\u001b[39m\u001b[38;5;28;01mTrue\u001b[39;00m, included_computation_filter_names\u001b[38;5;241m=\u001b[39m\u001b[38;5;28;01mNone\u001b[39;00m, fail_on_exception\u001b[38;5;241m=\u001b[39m\u001b[38;5;28;01mTrue\u001b[39;00m, debug_print\u001b[38;5;241m=\u001b[39m\u001b[38;5;28;01mFalse\u001b[39;00m) \u001b[38;5;66;03m## just checking\u001b[39;00m\n\u001b[0;32m   1143\u001b[0m session_name: \u001b[38;5;28mstr\u001b[39m \u001b[38;5;241m=\u001b[39m curr_active_pipeline\u001b[38;5;241m.\u001b[39msession_name\n",
      "File \u001b[1;32m~\\repos\\Spike3DWorkEnv\\pyPhoPlaceCellAnalysis\\src\\pyphoplacecellanalysis\\General\\Pipeline\\Stages\\Computation.py:1149\u001b[0m, in \u001b[0;36mComputedPipelineStage.perform_specific_computation\u001b[1;34m(self, active_computation_params, enabled_filter_names, computation_functions_name_includelist, computation_kwargs_list, fail_on_exception, debug_print, progress_logger_callback, enable_parallel)\u001b[0m\n\u001b[0;32m   1147\u001b[0m     global_kwargs \u001b[38;5;241m=\u001b[39m \u001b[38;5;28mdict\u001b[39m(owning_pipeline_reference\u001b[38;5;241m=\u001b[39m\u001b[38;5;28mself\u001b[39m, global_computation_results\u001b[38;5;241m=\u001b[39mprevious_computation_result, computation_results\u001b[38;5;241m=\u001b[39m\u001b[38;5;28mself\u001b[39m\u001b[38;5;241m.\u001b[39mcomputation_results, active_configs\u001b[38;5;241m=\u001b[39m\u001b[38;5;28mself\u001b[39m\u001b[38;5;241m.\u001b[39mactive_configs, include_includelist\u001b[38;5;241m=\u001b[39menabled_filter_names, debug_print\u001b[38;5;241m=\u001b[39mdebug_print)\n\u001b[0;32m   1148\u001b[0m     \u001b[38;5;28mprint\u001b[39m(\u001b[38;5;124mf\u001b[39m\u001b[38;5;124m'\u001b[39m\u001b[38;5;124mfor global computations: Performing run_specific_computations_single_context(..., computation_functions_name_includelist=\u001b[39m\u001b[38;5;132;01m{\u001b[39;00mcomputation_functions_name_includelist\u001b[38;5;132;01m}\u001b[39;00m\u001b[38;5;124m, ...)...\u001b[39m\u001b[38;5;124m'\u001b[39m)\n\u001b[1;32m-> 1149\u001b[0m     \u001b[38;5;28mself\u001b[39m\u001b[38;5;241m.\u001b[39mglobal_computation_results \u001b[38;5;241m=\u001b[39m \u001b[38;5;28;43mself\u001b[39;49m\u001b[38;5;241;43m.\u001b[39;49m\u001b[43mrun_specific_computations_single_context\u001b[49m\u001b[43m(\u001b[49m\u001b[43mglobal_kwargs\u001b[49m\u001b[43m,\u001b[49m\u001b[43m \u001b[49m\u001b[43mcomputation_functions_name_includelist\u001b[49m\u001b[38;5;241;43m=\u001b[39;49m\u001b[43mcomputation_functions_name_includelist\u001b[49m\u001b[43m,\u001b[49m\u001b[43m \u001b[49m\u001b[43mcomputation_kwargs_list\u001b[49m\u001b[38;5;241;43m=\u001b[39;49m\u001b[43mcomputation_kwargs_list\u001b[49m\u001b[43m,\u001b[49m\u001b[43m \u001b[49m\u001b[43mare_global\u001b[49m\u001b[38;5;241;43m=\u001b[39;49m\u001b[38;5;28;43;01mTrue\u001b[39;49;00m\u001b[43m,\u001b[49m\u001b[43m \u001b[49m\u001b[43mfail_on_exception\u001b[49m\u001b[38;5;241;43m=\u001b[39;49m\u001b[43mfail_on_exception\u001b[49m\u001b[43m,\u001b[49m\u001b[43m \u001b[49m\u001b[43mdebug_print\u001b[49m\u001b[38;5;241;43m=\u001b[39;49m\u001b[43mdebug_print\u001b[49m\u001b[43m,\u001b[49m\u001b[43m \u001b[49m\u001b[43mprogress_logger_callback\u001b[49m\u001b[38;5;241;43m=\u001b[39;49m\u001b[43mprogress_logger_callback\u001b[49m\u001b[43m)\u001b[49m \u001b[38;5;66;03m# was there a reason I didn't pass `computation_kwargs_list` to the global version?\u001b[39;00m\n\u001b[0;32m   1150\u001b[0m \u001b[38;5;28;01melse\u001b[39;00m:\n\u001b[0;32m   1151\u001b[0m     \u001b[38;5;66;03m# Non-global functions:\u001b[39;00m\n\u001b[0;32m   1152\u001b[0m     \u001b[38;5;28;01mif\u001b[39;00m \u001b[38;5;129;01mnot\u001b[39;00m enable_parallel:\n\u001b[0;32m   1153\u001b[0m         \u001b[38;5;66;03m## enable_parallel == False\u001b[39;00m\n",
      "File \u001b[1;32m~\\repos\\Spike3DWorkEnv\\pyPhoPlaceCellAnalysis\\src\\pyphoplacecellanalysis\\General\\Pipeline\\Stages\\Computation.py:545\u001b[0m, in \u001b[0;36mComputedPipelineStage.run_specific_computations_single_context\u001b[1;34m(self, previous_computation_result, computation_functions_name_includelist, computation_kwargs_list, fail_on_exception, progress_logger_callback, are_global, debug_print)\u001b[0m\n\u001b[0;32m    542\u001b[0m     progress_logger_callback(\u001b[38;5;124mf\u001b[39m\u001b[38;5;124m'\u001b[39m\u001b[38;5;130;01m\\t\u001b[39;00m\u001b[38;5;124mrun_specific_computations_single_context(including only \u001b[39m\u001b[38;5;132;01m{\u001b[39;00m\u001b[38;5;28mlen\u001b[39m(active_found_computation_functions)\u001b[38;5;132;01m}\u001b[39;00m\u001b[38;5;124m out of \u001b[39m\u001b[38;5;132;01m{\u001b[39;00m\u001b[38;5;28mlen\u001b[39m(\u001b[38;5;28mself\u001b[39m\u001b[38;5;241m.\u001b[39mregistered_computation_function_names)\u001b[38;5;132;01m}\u001b[39;00m\u001b[38;5;124m registered computation functions): active_computation_functions: \u001b[39m\u001b[38;5;132;01m{\u001b[39;00mactive_found_computation_functions\u001b[38;5;132;01m}\u001b[39;00m\u001b[38;5;124m...\u001b[39m\u001b[38;5;124m'\u001b[39m)\n\u001b[0;32m    544\u001b[0m \u001b[38;5;28;01massert\u001b[39;00m \u001b[38;5;28mlen\u001b[39m(active_found_computation_kwargs_list) \u001b[38;5;241m==\u001b[39m \u001b[38;5;28mlen\u001b[39m(active_found_computation_functions), \u001b[38;5;124mf\u001b[39m\u001b[38;5;124m\"\u001b[39m\u001b[38;5;124mLength mismatch between computation kwargs list (\u001b[39m\u001b[38;5;132;01m{\u001b[39;00m\u001b[38;5;28mlen\u001b[39m(active_found_computation_kwargs_list)\u001b[38;5;132;01m}\u001b[39;00m\u001b[38;5;124m) and computation functions (\u001b[39m\u001b[38;5;132;01m{\u001b[39;00m\u001b[38;5;28mlen\u001b[39m(active_found_computation_functions)\u001b[38;5;132;01m}\u001b[39;00m\u001b[38;5;124m)\u001b[39m\u001b[38;5;124m\"\u001b[39m        \u001b[38;5;66;03m# Perform the computations:\u001b[39;00m\n\u001b[1;32m--> 545\u001b[0m \u001b[38;5;28;01mreturn\u001b[39;00m \u001b[43mComputedPipelineStage\u001b[49m\u001b[38;5;241;43m.\u001b[39;49m\u001b[43m_execute_computation_functions\u001b[49m\u001b[43m(\u001b[49m\u001b[43mactive_found_computation_functions\u001b[49m\u001b[43m,\u001b[49m\u001b[43m \u001b[49m\u001b[43mprevious_computation_result\u001b[49m\u001b[38;5;241;43m=\u001b[39;49m\u001b[43mprevious_computation_result\u001b[49m\u001b[43m,\u001b[49m\u001b[43m \u001b[49m\u001b[43mcomputation_kwargs_list\u001b[49m\u001b[38;5;241;43m=\u001b[39;49m\u001b[43mactive_found_computation_kwargs_list\u001b[49m\u001b[43m,\u001b[49m\u001b[43m \u001b[49m\u001b[43mfail_on_exception\u001b[49m\u001b[38;5;241;43m=\u001b[39;49m\u001b[43mfail_on_exception\u001b[49m\u001b[43m,\u001b[49m\u001b[43m \u001b[49m\u001b[43mprogress_logger_callback\u001b[49m\u001b[38;5;241;43m=\u001b[39;49m\u001b[43mprogress_logger_callback\u001b[49m\u001b[43m,\u001b[49m\u001b[43m \u001b[49m\u001b[43mare_global\u001b[49m\u001b[38;5;241;43m=\u001b[39;49m\u001b[43mare_global\u001b[49m\u001b[43m,\u001b[49m\u001b[43m \u001b[49m\u001b[43mdebug_print\u001b[49m\u001b[38;5;241;43m=\u001b[39;49m\u001b[43mdebug_print\u001b[49m\u001b[43m)\u001b[49m\n",
      "File \u001b[1;32m~\\repos\\Spike3DWorkEnv\\pyPhoPlaceCellAnalysis\\src\\pyphoplacecellanalysis\\General\\Pipeline\\Stages\\Computation.py:1339\u001b[0m, in \u001b[0;36mComputedPipelineStage._execute_computation_functions\u001b[1;34m(active_computation_functions, previous_computation_result, computation_kwargs_list, fail_on_exception, progress_logger_callback, are_global, debug_print)\u001b[0m\n\u001b[0;32m   1337\u001b[0m \u001b[38;5;28;01mif\u001b[39;00m progress_logger_callback \u001b[38;5;129;01mis\u001b[39;00m \u001b[38;5;129;01mnot\u001b[39;00m \u001b[38;5;28;01mNone\u001b[39;00m:\n\u001b[0;32m   1338\u001b[0m     progress_logger_callback(\u001b[38;5;124mf\u001b[39m\u001b[38;5;124m'\u001b[39m\u001b[38;5;124mExecuting [\u001b[39m\u001b[38;5;132;01m{\u001b[39;00mi\u001b[38;5;132;01m}\u001b[39;00m\u001b[38;5;124m/\u001b[39m\u001b[38;5;132;01m{\u001b[39;00mtotal_num_funcs\u001b[38;5;132;01m}\u001b[39;00m\u001b[38;5;124m]: \u001b[39m\u001b[38;5;132;01m{\u001b[39;00mf\u001b[38;5;132;01m}\u001b[39;00m\u001b[38;5;124m'\u001b[39m)\n\u001b[1;32m-> 1339\u001b[0m previous_computation_result \u001b[38;5;241m=\u001b[39m f(previous_computation_result, \u001b[38;5;241m*\u001b[39m\u001b[38;5;241m*\u001b[39mcomputation_kwargs_list[i]) \u001b[38;5;66;03m# call the function `f` directly here ## #TODO 2025-02-19 13:51: - [ ] was getting`TypeError: pyphoplacecellanalysis.General.Pipeline.Stages.ComputationFunctions.PlacefieldComputations.PlacefieldComputations._perform_baseline_placefield_computation() argument after ** must be a mapping, not NoneType` which I fixed by replacing any None in the list with {}\u001b[39;00m\n\u001b[0;32m   1340\u001b[0m \u001b[38;5;66;03m# Log the computation copmlete time:\u001b[39;00m\n\u001b[0;32m   1341\u001b[0m computation_times[computation_times_key_fn(f)] \u001b[38;5;241m=\u001b[39m datetime\u001b[38;5;241m.\u001b[39mnow()\n",
      "File \u001b[1;32m~\\repos\\Spike3DWorkEnv\\pyPhoPlaceCellAnalysis\\src\\pyphoplacecellanalysis\\General\\Pipeline\\Stages\\ComputationFunctions\\MultiContextComputationFunctions\\MultiContextComputationFunctions.py:19\u001b[0m, in \u001b[0;36m_wrap_multi_context_computation_function.<locals>._\u001b[1;34m(x, **kwargs)\u001b[0m\n\u001b[0;32m     16\u001b[0m \u001b[38;5;129m@wraps\u001b[39m(global_comp_fcn) \u001b[38;5;66;03m# @wraps ensures that the functions name, docs, etc are accessible in the wrapped version of the function.\u001b[39;00m\n\u001b[0;32m     17\u001b[0m \u001b[38;5;28;01mdef\u001b[39;00m\u001b[38;5;250m \u001b[39m\u001b[38;5;21m_\u001b[39m(x, \u001b[38;5;241m*\u001b[39m\u001b[38;5;241m*\u001b[39mkwargs):\n\u001b[0;32m     18\u001b[0m     \u001b[38;5;28;01massert\u001b[39;00m \u001b[38;5;28mlen\u001b[39m(x) \u001b[38;5;241m>\u001b[39m \u001b[38;5;241m4\u001b[39m, \u001b[38;5;124mf\u001b[39m\u001b[38;5;124m\"\u001b[39m\u001b[38;5;124mlooks like it ensures we have more than four (at least 5) positional arguments provided. \u001b[39m\u001b[38;5;132;01m{\u001b[39;00mx\u001b[38;5;132;01m}\u001b[39;00m\u001b[38;5;124m\"\u001b[39m\n\u001b[1;32m---> 19\u001b[0m     x[\u001b[38;5;241m1\u001b[39m] \u001b[38;5;241m=\u001b[39m global_comp_fcn(\u001b[38;5;241m*\u001b[39mx, \u001b[38;5;241m*\u001b[39m\u001b[38;5;241m*\u001b[39mkwargs) \u001b[38;5;66;03m# update global_computation_results\u001b[39;00m\n\u001b[0;32m     20\u001b[0m     \u001b[38;5;28;01mreturn\u001b[39;00m x\n",
      "File \u001b[1;32m~\\repos\\Spike3DWorkEnv\\pyPhoPlaceCellAnalysis\\src\\pyphoplacecellanalysis\\General\\Pipeline\\Stages\\ComputationFunctions\\MultiContextComputationFunctions\\DirectionalPlacefieldGlobalComputationFunctions.py:6979\u001b[0m, in \u001b[0;36mDirectionalPlacefieldGlobalComputationFunctions._build_merged_directional_placefields\u001b[1;34m(owning_pipeline_reference, global_computation_results, computation_results, active_configs, include_includelist, debug_print, laps_decoding_time_bin_size, ripple_decoding_time_bin_size, should_validate_lap_decoding_performance)\u001b[0m\n\u001b[0;32m   6975\u001b[0m included_qclu_values: List[\u001b[38;5;28mint\u001b[39m] \u001b[38;5;241m=\u001b[39m global_computation_results\u001b[38;5;241m.\u001b[39mcomputation_config\u001b[38;5;241m.\u001b[39mrank_order_shuffle_analysis\u001b[38;5;241m.\u001b[39mincluded_qclu_values\n\u001b[0;32m   6976\u001b[0m \u001b[38;5;66;03m# included_aclus = owning_pipeline_reference.determine_good_aclus_by_qclu(included_qclu_values=included_qclu_values, debug_print=True)\u001b[39;00m\n\u001b[1;32m-> 6979\u001b[0m t_start, t_delta, t_end \u001b[38;5;241m=\u001b[39m \u001b[43mowning_pipeline_reference\u001b[49m\u001b[38;5;241;43m.\u001b[39;49m\u001b[43mfind_LongShortDelta_times\u001b[49m\u001b[43m(\u001b[49m\u001b[43m)\u001b[49m\n\u001b[0;32m   6980\u001b[0m long_epoch_name, short_epoch_name, global_epoch_name \u001b[38;5;241m=\u001b[39m owning_pipeline_reference\u001b[38;5;241m.\u001b[39mfind_LongShortGlobal_epoch_names()\n\u001b[0;32m   6981\u001b[0m global_session \u001b[38;5;241m=\u001b[39m owning_pipeline_reference\u001b[38;5;241m.\u001b[39mfiltered_sessions[global_epoch_name]\n",
      "File \u001b[1;32m~\\repos\\Spike3DWorkEnv\\pyPhoPlaceCellAnalysis\\src\\pyphoplacecellanalysis\\General\\Pipeline\\Stages\\Computation.py:706\u001b[0m, in \u001b[0;36mComputedPipelineStage.find_LongShortDelta_times\u001b[1;34m(self)\u001b[0m\n\u001b[0;32m    701\u001b[0m \u001b[38;5;28;01mdef\u001b[39;00m\u001b[38;5;250m \u001b[39m\u001b[38;5;21mfind_LongShortDelta_times\u001b[39m(\u001b[38;5;28mself\u001b[39m) \u001b[38;5;241m-\u001b[39m\u001b[38;5;241m>\u001b[39m Tuple[\u001b[38;5;28mfloat\u001b[39m, \u001b[38;5;28mfloat\u001b[39m, \u001b[38;5;28mfloat\u001b[39m]:\n\u001b[0;32m    702\u001b[0m \u001b[38;5;250m    \u001b[39m\u001b[38;5;124;03m\"\"\" Helper function to returns the [t_start, t_delta, t_end] session times. They must exist.\u001b[39;00m\n\u001b[0;32m    703\u001b[0m \u001b[38;5;124;03m    Usage:\u001b[39;00m\n\u001b[0;32m    704\u001b[0m \u001b[38;5;124;03m        t_start, t_delta, t_end = curr_active_pipeline.find_LongShortDelta_times()\u001b[39;00m\n\u001b[0;32m    705\u001b[0m \u001b[38;5;124;03m    \"\"\"\u001b[39;00m\n\u001b[1;32m--> 706\u001b[0m     long_epoch_name, short_epoch_name, global_epoch_name \u001b[38;5;241m=\u001b[39m \u001b[38;5;28;43mself\u001b[39;49m\u001b[38;5;241;43m.\u001b[39;49m\u001b[43mfind_LongShortGlobal_epoch_names\u001b[49m\u001b[43m(\u001b[49m\u001b[43m)\u001b[49m\n\u001b[0;32m    707\u001b[0m     long_epoch_obj, short_epoch_obj \u001b[38;5;241m=\u001b[39m [Epoch(\u001b[38;5;28mself\u001b[39m\u001b[38;5;241m.\u001b[39msess\u001b[38;5;241m.\u001b[39mepochs\u001b[38;5;241m.\u001b[39mto_dataframe()\u001b[38;5;241m.\u001b[39mepochs\u001b[38;5;241m.\u001b[39mlabel_slice(an_epoch_name\u001b[38;5;241m.\u001b[39mremovesuffix(\u001b[38;5;124m'\u001b[39m\u001b[38;5;124m_any\u001b[39m\u001b[38;5;124m'\u001b[39m))) \u001b[38;5;28;01mfor\u001b[39;00m an_epoch_name \u001b[38;5;129;01min\u001b[39;00m [long_epoch_name, short_epoch_name]] \u001b[38;5;66;03m#TODO 2023-11-10 20:41: - [ ] Issue with getting actual Epochs from sess.epochs for directional laps: emerges because long_epoch_name: 'maze1_any' and the actual epoch label in curr_active_pipeline.sess.epochs is 'maze1' without the '_any' part.\u001b[39;00m\n\u001b[0;32m    708\u001b[0m     \u001b[38;5;28;01mif\u001b[39;00m ((short_epoch_obj\u001b[38;5;241m.\u001b[39mn_epochs \u001b[38;5;241m==\u001b[39m \u001b[38;5;241m0\u001b[39m) \u001b[38;5;129;01mor\u001b[39;00m (short_epoch_obj\u001b[38;5;241m.\u001b[39mn_epochs \u001b[38;5;241m==\u001b[39m \u001b[38;5;241m0\u001b[39m)):\n\u001b[0;32m    709\u001b[0m         \u001b[38;5;66;03m## Epoch names now are 'long' and 'short'\u001b[39;00m\n",
      "File \u001b[1;32m~\\repos\\Spike3DWorkEnv\\pyPhoPlaceCellAnalysis\\src\\pyphoplacecellanalysis\\General\\Pipeline\\Stages\\Computation.py:666\u001b[0m, in \u001b[0;36mComputedPipelineStage.find_LongShortGlobal_epoch_names\u001b[1;34m(self)\u001b[0m\n\u001b[0;32m    664\u001b[0m curr_sess_format_name: \u001b[38;5;28mstr\u001b[39m \u001b[38;5;241m=\u001b[39m \u001b[38;5;28mself\u001b[39m\u001b[38;5;241m.\u001b[39mget_session_format_name()\n\u001b[0;32m    665\u001b[0m \u001b[38;5;28;01mif\u001b[39;00m (curr_sess_format_name\u001b[38;5;241m.\u001b[39mlower() \u001b[38;5;241m!=\u001b[39m \u001b[38;5;124m'\u001b[39m\u001b[38;5;124mkdiba\u001b[39m\u001b[38;5;124m'\u001b[39m):\n\u001b[1;32m--> 666\u001b[0m     \u001b[38;5;28;01mraise\u001b[39;00m \u001b[38;5;167;01mValueError\u001b[39;00m(\u001b[38;5;124mf\u001b[39m\u001b[38;5;124m'\u001b[39m\u001b[38;5;124mfind_LongShortGlobal_epoch_names() is only intended for \u001b[39m\u001b[38;5;124m\"\u001b[39m\u001b[38;5;124mkdiba\u001b[39m\u001b[38;5;124m\"\u001b[39m\u001b[38;5;124m format sessions with long/short track epochs, but this is of type: \u001b[39m\u001b[38;5;124m\"\u001b[39m\u001b[38;5;132;01m{\u001b[39;00mcurr_sess_format_name\u001b[38;5;132;01m}\u001b[39;00m\u001b[38;5;124m\"\u001b[39m\u001b[38;5;124m.\u001b[39m\u001b[38;5;124m'\u001b[39m)\n\u001b[0;32m    668\u001b[0m include_includelist \u001b[38;5;241m=\u001b[39m \u001b[38;5;28mself\u001b[39m\u001b[38;5;241m.\u001b[39mactive_completed_computation_result_names \u001b[38;5;66;03m# ['maze', 'sprinkle']\u001b[39;00m\n\u001b[0;32m    669\u001b[0m \u001b[38;5;28;01massert\u001b[39;00m (\u001b[38;5;28mlen\u001b[39m(include_includelist) \u001b[38;5;241m>\u001b[39m\u001b[38;5;241m=\u001b[39m \u001b[38;5;241m3\u001b[39m), \u001b[38;5;124m\"\u001b[39m\u001b[38;5;124mMust have at least 3 completed computation results to find the long, short, and global epoch names.\u001b[39m\u001b[38;5;124m\"\u001b[39m\n",
      "\u001b[1;31mValueError\u001b[0m: find_LongShortGlobal_epoch_names() is only intended for \"kdiba\" format sessions with long/short track epochs, but this is of type: \"bapun\"."
     ]
    }
   ],
   "source": [
    "force_recompute_global = False\n",
    "extended_computations_include_includelist=[\n",
    "\t# 'lap_direction_determination',\n",
    "\t#  'pf_computation', 'firing_rate_trends', 'pfdt_computation',\n",
    "    # 'pf_dt_sequential_surprise',\n",
    "    #  'ratemap_peaks_prominence2d',\n",
    "    # 'extended_stats',\n",
    "    # 'spike_burst_detection',\n",
    "    # 'split_to_directional_laps',\n",
    "    # 'merged_directional_placefields',\n",
    "    # 'rank_order_shuffle_analysis',\n",
    "    # 'directional_decoders_decode_continuous',\n",
    "    # 'directional_decoders_evaluate_epochs',\n",
    "    # 'directional_decoders_epoch_heuristic_scoring',\n",
    "\t# 'non_PBE_epochs_results',\n",
    "\t'perform_generalized_specific_epochs_decoding',\n",
    "] # do only specified\n",
    "\n",
    "# ['split_to_directional_laps', 'merged_directional_placefields', 'rank_order_shuffle_analysis', 'directional_decoders_decode_continuous']\n",
    "\n",
    "# force_recompute_override_computations_includelist = [\n",
    "#     'directional_decoders_evaluate_epochs', 'directional_decoders_epoch_heuristic_scoring',\n",
    "#     'split_to_directional_laps', 'lap_direction_determination', 'DirectionalLaps',\n",
    "#     'merged_directional_placefields',\n",
    "#     'directional_decoders_decode_continuous',\n",
    "# ]\n",
    "force_recompute_override_computations_includelist = None\n",
    "\n",
    "epochs_decoding_time_bin_size = 1.0\n",
    "computation_kwargs_dict = {\n",
    "\t# 'non_PBE_epochs_results': dict(epochs_decoding_time_bin_size=epochs_decoding_time_bin_size, drop_previous_result_and_compute_fresh=False, compute_2D=False, IGNORE_MEMORY_ERROR_FOR_DEBUGGING = True),\n",
    "\t'perform_generalized_specific_epochs_decoding': dict(),\n",
    "}\n",
    "\n",
    "\n",
    "# computation_kwargs_dict = {'non_PBE_epochs_results': dict(epochs_decoding_time_bin_size=epochs_decoding_time_bin_size, drop_previous_result_and_compute_fresh=False, compute_2D=False, IGNORE_MEMORY_ERROR_FOR_DEBUGGING=True), }\n",
    "newly_computed_values = batch_extended_computations(curr_active_pipeline, include_includelist=extended_computations_include_includelist, include_global_functions=True, fail_on_exception=True, progress_print=True,\n",
    "                                                    force_recompute=force_recompute_global, force_recompute_override_computations_includelist=force_recompute_override_computations_includelist, computation_kwargs_dict=computation_kwargs_dict, debug_print=False)\n",
    "newly_computed_values\n",
    "\n"
   ]
  },
  {
   "cell_type": "code",
   "execution_count": null,
   "id": "c4c24c7b",
   "metadata": {},
   "outputs": [],
   "source": [
    "\n",
    "# extended_computations_include_includelist=['ratemap_peaks_prominence2d', 'rank_order_shuffle_analysis', 'directional_decoders_decode_continuous', 'directional_decoders_evaluate_epochs', 'directional_decoders_epoch_heuristic_scoring',] # do only specified\n",
    "extended_computations_include_includelist=['rank_order_shuffle_analysis', 'directional_decoders_decode_continuous', 'directional_decoders_evaluate_epochs' ] # do only specified\n",
    "needs_computation_output_dict, valid_computed_results_output_list, remaining_include_function_names = batch_evaluate_required_computations(curr_active_pipeline, include_includelist=extended_computations_include_includelist, include_global_functions=True, fail_on_exception=False, progress_print=True,\n",
    "                                                    force_recompute=force_recompute_global, force_recompute_override_computations_includelist=force_recompute_override_computations_includelist, debug_print=False)\n",
    "print(f'Post-load global computations: needs_computation_output_dict: {[k for k,v in needs_computation_output_dict.items() if (v is not None)]}')"
   ]
  },
  {
   "cell_type": "code",
   "execution_count": null,
   "id": "c0c82a4f",
   "metadata": {},
   "outputs": [],
   "source": [
    "# Post-hoc verification that the computations worked and that the validators reflect that. The list should be empty now.\n",
    "newly_computed_values = curr_active_pipeline.batch_extended_computations(include_includelist=extended_computations_include_includelist, include_global_functions=True, fail_on_exception=False, progress_print=True,\n",
    "                                                    force_recompute=force_recompute_global, force_recompute_override_computations_includelist=force_recompute_override_computations_includelist, debug_print=False)\n",
    "needs_computation_output_dict, valid_computed_results_output_list, remaining_include_function_names = curr_active_pipeline.batch_evaluate_required_computations(include_includelist=extended_computations_include_includelist, include_global_functions=True, fail_on_exception=False, progress_print=True,\n",
    "                                                    force_recompute=force_recompute_global, force_recompute_override_computations_includelist=force_recompute_override_computations_includelist, debug_print=False)\n",
    "print(f'Post-load global computations: needs_computation_output_dict: {[k for k,v in needs_computation_output_dict.items() if (v is not None)]}')"
   ]
  },
  {
   "cell_type": "code",
   "execution_count": null,
   "id": "3bb051a4",
   "metadata": {},
   "outputs": [],
   "source": []
  },
  {
   "cell_type": "code",
   "execution_count": null,
   "id": "96853688",
   "metadata": {},
   "outputs": [],
   "source": [
    "# Post-hoc verification that the computations worked and that the validators reflect that. The list should be empty now.\n",
    "newly_computed_values = curr_active_pipeline.batch_extended_computations(include_includelist=extended_computations_include_includelist, include_global_functions=True, fail_on_exception=False, progress_print=True,\n",
    "                                                    force_recompute=force_recompute_global, force_recompute_override_computations_includelist=force_recompute_override_computations_includelist, debug_print=False)\n"
   ]
  },
  {
   "cell_type": "code",
   "execution_count": null,
   "id": "f418c125",
   "metadata": {},
   "outputs": [],
   "source": [
    "needs_computation_output_dict, valid_computed_results_output_list, remaining_include_function_names = curr_active_pipeline.batch_evaluate_required_computations(include_includelist=extended_computations_include_includelist, include_global_functions=True, fail_on_exception=False, progress_print=True,\n",
    "                                                    force_recompute=force_recompute_global, force_recompute_override_computations_includelist=force_recompute_override_computations_includelist, debug_print=False)\n",
    "print(f'Post-load global computations: needs_computation_output_dict: {[k for k,v in needs_computation_output_dict.items() if (v is not None)]}')"
   ]
  },
  {
   "cell_type": "markdown",
   "id": "e3e05ceb",
   "metadata": {},
   "source": [
    "## Pickle the decoded PBEs output too!"
   ]
  },
  {
   "cell_type": "code",
   "execution_count": null,
   "id": "380171fc",
   "metadata": {},
   "outputs": [],
   "source": [
    "## OUTPUTS: pbes, global_spikes_df, pbe_decoder_result\n",
    "pbes"
   ]
  },
  {
   "cell_type": "code",
   "execution_count": null,
   "id": "c45afca7",
   "metadata": {},
   "outputs": [],
   "source": [
    "\n"
   ]
  },
  {
   "cell_type": "markdown",
   "id": "e3e2461f",
   "metadata": {},
   "source": [
    "### OLD"
   ]
  },
  {
   "cell_type": "markdown",
   "id": "73bae072",
   "metadata": {},
   "source": [
    "#### Don't need this in the end"
   ]
  },
  {
   "cell_type": "code",
   "execution_count": null,
   "id": "aef930b2",
   "metadata": {},
   "outputs": [],
   "source": [
    "\n",
    "# from pyphoplacecellanalysis.Analysis.Decoder.reconstruction import BayesianPlacemapPositionDecoder\n",
    "# active_laps_decoding_time_bin_size = 1.0\n",
    "\n",
    "## INPUTS: pf2D_Decoder_dict, \n",
    "desired_global_created_epoch_name: str = 'maze_GLOBAL'\n",
    "epochs_to_decode_dict = {desired_global_created_epoch_name: deepcopy(global_only_epoch)}\n",
    "individual_decoder_decoding_results: Dict[str, SingleEpochDecodedResult] = {}\n",
    "\n",
    "for a_decoder_name, a_decoder in pf2D_Decoder_dict.items():    \n",
    "    global_spikes_df: pd.DataFrame = deepcopy(curr_active_pipeline.sess.spikes_df)\n",
    "    individual_decoder_decoding_results[a_decoder_name] = a_decoder.decode_specific_epochs(spikes_df=deepcopy(global_spikes_df), filter_epochs=ensure_dataframe(epochs_to_decode_dict[desired_global_created_epoch_name]), decoding_time_bin_size=active_laps_decoding_time_bin_size, debug_print=False)    \n",
    "    individual_decoder_decoding_results[a_decoder_name].marginal_z_list = [None]\n",
    "    \n",
    "    # ## ASSIGN IT to .marginal_z\n",
    "    # individual_decoder_decoding_results[a_decoder_name].marginal_z_list = [] ## empty\n",
    "    # for p_x_given_n in individual_decoder_decoding_results[a_decoder_name].p_x_given_n_list:\n",
    "    #     n_x_bins, n_y_bins, n_contexts, n_t_bins = np.shape(p_x_given_n) # (41, 63, 2, 51974)\n",
    "    #     marginal_z = np.nansum(p_x_given_n, axis=(0, 1)) \n",
    "    #     marginal_z = marginal_z / np.sum(marginal_z, axis=0, keepdims=True) # sum over all directions for each time_bin (so there's a normalized distribution at each timestep)\n",
    "    #     individual_decoder_decoding_results[a_decoder_name].marginal_z_list.append(DynamicContainer(p_x_given_n=marginal_z, most_likely_positions_2D=None))\n",
    "\n",
    "    # try:\n",
    "    #     individual_decoder_decoding_results[a_decoder_name] = individual_decoder_decoding_results[a_decoder_name].get_result_for_epoch(0)\n",
    "    # except Exception as e:\n",
    "    #     print(f'encountered exception: {e}')\n",
    "    #     pass\n",
    "    #     # raise e\n",
    "\n",
    "#.get_result_for_epoch(0)\n",
    "    \n",
    "## 4m\n",
    "    "
   ]
  },
  {
   "cell_type": "code",
   "execution_count": null,
   "id": "edfa8091",
   "metadata": {},
   "outputs": [],
   "source": [
    "## Post-hoc (one time hopefully) fixup:\n",
    "for a_decoder_name, a_decoder_result in individual_decoder_decoding_results.items():    \n",
    "\n",
    "    ## ASSIGN IT to .marginal_z\n",
    "    a_decoder_result.marginal_z_list = [] ## empty\n",
    "    for p_x_given_n in a_decoder_result.p_x_given_n_list:\n",
    "        n_x_bins, n_y_bins, n_contexts, n_t_bins = np.shape(p_x_given_n) # (41, 63, 2, 51974)\n",
    "        marginal_z = np.nansum(p_x_given_n, axis=(0, 1)) \n",
    "        marginal_z = marginal_z / np.sum(marginal_z, axis=0, keepdims=True) # sum over all directions for each time_bin (so there's a normalized distribution at each timestep)\n",
    "        a_decoder_result.marginal_z_list.append(DynamicContainer(p_x_given_n=marginal_z, most_likely_positions_2D=None))\n",
    "\n",
    "    individual_decoder_decoding_results[a_decoder_name] = a_decoder_result.get_result_for_epoch(0)"
   ]
  },
  {
   "cell_type": "code",
   "execution_count": null,
   "id": "3cd42ff2",
   "metadata": {},
   "outputs": [],
   "source": [
    "from pyphoplacecellanalysis.Analysis.Decoder.reconstruction import DecodedFilterEpochsResult, SingleEpochDecodedResult"
   ]
  },
  {
   "cell_type": "code",
   "execution_count": null,
   "id": "856c7f21",
   "metadata": {},
   "outputs": [],
   "source": [
    "## ADD CORRECT CONTEXT DECODING MARGINALS:\n",
    "\n",
    "## INPUTS: all_context_filter_epochs_decoder_result\n",
    "# all_context_filter_epochs_decoder_result.marginal_z\n",
    "p_x_given_n = all_context_filter_epochs_decoder_result.p_x_given_n\n",
    "n_x_bins, n_y_bins, n_contexts, n_t_bins = np.shape(p_x_given_n) # (41, 63, 2, 51974)\n",
    "\n",
    "marginal_z = np.nansum(p_x_given_n, axis=(0, 1)) \n",
    "marginal_z = marginal_z / np.sum(marginal_z, axis=0, keepdims=True) # sum over all directions for each time_bin (so there's a normalized distribution at each timestep)\n",
    "# marginal_z\n",
    "print(f'marginal_z.shape: {np.shape(marginal_z)}')\n",
    "\n",
    "# most_likely_context_idx = np.argmax(marginal_z, axis=0)\n",
    "# n_x_bins, n_y_bins, n_contexts, n_t_bins = np.shape(p_x_given_n) # (41, 63, 2, 51974)\n",
    "\n",
    "# most_liekly_context_only_p_x_given_n = np.array([np.squeeze(p_x_given_n[:, :, a_most_likely_ctxt, t]) for t, a_most_likely_ctxt in enumerate(most_likely_context_idx)])\n",
    "# np.shape(most_liekly_context_only_p_x_given_n)\n",
    "# most_liekly_context_only_p_x_given_n = np.where(most_likely_context_idx, np.squeeze(p_x_given_n[:, :, 1, :]), np.squeeze(p_x_given_n[:, :, 0, :]))\n",
    "# np.shape(most_liekly_context_only_p_x_given_n) # (41, 63, 51974)\n",
    "\n",
    "## ASSIGN IT to .marginal_z\n",
    "all_context_filter_epochs_decoder_result.marginal_z = DynamicContainer(p_x_given_n=marginal_z, most_likely_positions_2D=None)\n",
    "# all_context_filter_epochs_decoder_result.marginal_x"
   ]
  },
  {
   "cell_type": "code",
   "execution_count": null,
   "id": "38c84981",
   "metadata": {},
   "outputs": [],
   "source": [
    "marginal_z: NDArray = all_context_filter_epochs_decoder_result.marginal_z.p_x_given_n\n"
   ]
  },
  {
   "cell_type": "markdown",
   "id": "5a428fc3",
   "metadata": {},
   "source": [
    "### Unpacking a result:"
   ]
  },
  {
   "cell_type": "code",
   "execution_count": null,
   "id": "fc64e490",
   "metadata": {},
   "outputs": [],
   "source": [
    "from pyphoplacecellanalysis.Analysis.Decoder.reconstruction import BasePositionDecoder, DecodedFilterEpochsResult, SingleEpochDecodedResult\n",
    "\n",
    "## Uses the `global_computation_results.computed_data['DirectionalDecodersDecoded']`\n",
    "directional_decoders_decode_result: DirectionalDecodersContinuouslyDecodedResult = curr_active_pipeline.global_computation_results.computed_data['DirectionalDecodersDecoded']\n",
    "# all_directional_pf1D_Decoder_dict: Dict[str, BasePositionDecoder] = directional_decoders_decode_result.pf1D_Decoder_dict\n",
    "pseudo3D_decoder: BasePositionDecoder = directional_decoders_decode_result.pseudo2D_decoder\n",
    "# all_directional_pf1D_Decoder_dict: Dict[str, BasePositionDecoder] = directional_decoders_decode_result.pf1D_Decoder_dict\n",
    "continuously_decoded_result_cache_dict = directional_decoders_decode_result.continuously_decoded_result_cache_dict\n",
    "continuously_decoded_pseudo2D_decoder_dict = directional_decoders_decode_result.continuously_decoded_pseudo2D_decoder_dict\n",
    "# continuously_decoded_result_cache_dict\n",
    "\n",
    "## Unpacking a result:\n",
    "all_context_filter_epochs_decoder_result: SingleEpochDecodedResult = list(continuously_decoded_pseudo2D_decoder_dict.values())[-1]\n",
    "marginal_z: NDArray = all_context_filter_epochs_decoder_result.marginal_z.p_x_given_n"
   ]
  },
  {
   "cell_type": "code",
   "execution_count": null,
   "id": "0b454125",
   "metadata": {},
   "outputs": [],
   "source": [
    "## NOT goinng to work at all for this\n",
    "# epochs_decoding_time_bin_size: float = 0.50 # half second\n",
    "# a_new_fully_generic_result: GenericDecoderDictDecodedEpochsDictResult = GenericDecoderDictDecodedEpochsDictResult.batch_user_compute_fn(curr_active_pipeline=curr_active_pipeline, force_recompute=True, time_bin_size=epochs_decoding_time_bin_size, debug_print=True)\n",
    "# # valid_EpochComputations_result.a_generic_decoder_dict_decoded_epochs_dict_result = a_new_fully_generic_result\n",
    "\n",
    "## OUTPUTS: contextual_pf2D_dict, contextual_pf2D, contextual_pf2D_Decoder, all_context_filter_epochs_decoder_result, global_only_epoch\n",
    "all_context_filter_epochs_decoder_result.marginal_x = \n"
   ]
  },
  {
   "cell_type": "code",
   "execution_count": null,
   "id": "fa5aa0ca",
   "metadata": {},
   "outputs": [],
   "source": [
    "_out = dict()\n",
    "_out['_display_spike_rasters_window'] = curr_active_pipeline.display(display_function='_display_spike_rasters_window', active_session_configuration_context=curr_active_pipeline.get_session_context().adding_context_if_missing(filter_name='maze_GLOBAL')) # _display_spike_rasters_window\n"
   ]
  },
  {
   "cell_type": "code",
   "execution_count": null,
   "id": "aec68454",
   "metadata": {},
   "outputs": [],
   "source": [
    "## For Day4OpenField type sessions\n",
    "epochs_df = ensure_dataframe(curr_active_pipeline.sess.epochs)\n",
    "epochs_df = epochs_df.epochs.adding_concatenated_epoch(epochs_to_create_global_from_names=['pre', 'roam', 'sprinkle', 'post'], created_epoch_name='maze_any')\n",
    "global_only_epoch: Epoch = ensure_Epoch(epochs_df[(epochs_df['label'] == 'maze_any')])\n",
    "# global_only_epoch\n",
    "\n",
    "\n",
    "active_laps_decoding_time_bin_size = 0.250\n",
    "contextual_pf2D_dict, contextual_pf2D, contextual_pf2D_Decoder, all_context_filter_epochs_decoder_result = build_contextual_pf2D_decoder(curr_active_pipeline, epochs_to_create_global_from_names = ['roam', 'sprinkle'], active_laps_decoding_time_bin_size=0.75)\n",
    "## OUTPUTS: contextual_pf2D_Decoder\n"
   ]
  },
  {
   "cell_type": "code",
   "execution_count": null,
   "id": "8d3304c4",
   "metadata": {},
   "outputs": [],
   "source": [
    "## INPUTS: contextual_pf2D_Decoder\n",
    "global_decoded_cache = {}\n",
    "# active_laps_decoding_time_bin_sizes = [0.050, 0.1, 0.25, 1.0]\n",
    "# active_laps_decoding_time_bin_sizes = [0.1, 1.0]\n",
    "active_laps_decoding_time_bin_sizes = [0.1,]\n",
    "for active_time_bin_size in active_laps_decoding_time_bin_sizes:\n",
    "    an_all_context_filter_epochs_decoder_result, global_only_epoch = decode_using_contextual_pf2D_decoder(curr_active_pipeline, contextual_pf2D_Decoder=contextual_pf2D_Decoder, active_laps_decoding_time_bin_size=active_time_bin_size)\t\n",
    "    global_decoded_cache[active_time_bin_size] = deepcopy(an_all_context_filter_epochs_decoder_result)\n",
    "\n",
    "## OUTPUTS: global_only_epoch\n"
   ]
  },
  {
   "cell_type": "code",
   "execution_count": null,
   "id": "0e5fcab4",
   "metadata": {
    "tags": [
     "active-2025-09-21"
    ]
   },
   "outputs": [],
   "source": [
    "from pyphoplacecellanalysis.Analysis.Decoder.reconstruction import DecodedFilterEpochsResult, SingleEpochDecodedResult\n",
    "from pyphoplacecellanalysis.SpecificResults.PendingNotebookCode import DecodeSpecificEpochsResultWithDecodingInfo\n",
    "\n",
    "## INPUTS: contextual_pf2D_Decoder, curr_active_pipeline\n",
    "## Decode PBEs please\n",
    "pbes = deepcopy(curr_active_pipeline.sess.pbe)\n",
    "# ripple_decoding_time_bin_size: float = 0.025 # 25ms\n",
    "ripple_decoding_time_bin_size: float = 0.060 # 25ms\n",
    "global_spikes_df: pd.DataFrame = deepcopy(curr_active_pipeline.sess.spikes_df)\n",
    "pbes_full_result: DecodeSpecificEpochsResultWithDecodingInfo = DecodeSpecificEpochsResultWithDecodingInfo.init_by_decoding(decoding_context=IdentifyingContext(epoch_name='pbe'),\n",
    "\t\t\t\t\t\t\t\t\t\t\t\t\t\t\t\t\t\t\t\t\t\t\t\t\t\t\t\t\t\t   decoder=contextual_pf2D_Decoder, spikes_df=deepcopy(global_spikes_df), filter_epochs=ensure_dataframe(pbes), decoding_time_bin_size=ripple_decoding_time_bin_size)\n",
    "\n",
    "\n",
    "## 18m at 60ms\n",
    "\n",
    "## OUTPUTS: pbes, ripple_decoding_time_bin_size,  global_spikes_df, pbe_decoder_result"
   ]
  },
  {
   "cell_type": "code",
   "execution_count": null,
   "id": "1d1ae5b7",
   "metadata": {},
   "outputs": [],
   "source": [
    "pbes_full_result_pkl_output_path: Path = curr_active_pipeline.get_output_path().joinpath('2025-09-23_pbes_full_result.pkl')\n",
    "pbes_full_result.save(pkl_output_path=pbes_full_result_pkl_output_path)\n",
    "print(f'pbes_full_result_pkl_output_path: \"{pbes_full_result_pkl_output_path.as_posix()}\"')\n",
    "\n"
   ]
  },
  {
   "cell_type": "code",
   "execution_count": null,
   "id": "c320fb18",
   "metadata": {},
   "outputs": [],
   "source": [
    "# pbes_full_result_h5_output_path: Path = curr_active_pipeline.get_output_path().joinpath('2025-09-23_pbes_full_result.h5')\n",
    "# pbes_full_result.to_hdf(file_path=pbes_full_result_h5_output_path, key='pbes_full_result') # , enable_hdf_testing_mode=True, OVERRIDE_ALLOW_GLOBAL_NESTED_EXPANSION=True\n",
    "# print(f'pbes_full_result_h5_output_path: \"{pbes_full_result_h5_output_path.as_posix()}\"')\n",
    "# # _ALLOW_GLOBAL_NESTED_EXPANSION\n",
    "\n"
   ]
  },
  {
   "cell_type": "markdown",
   "id": "b28421f3",
   "metadata": {},
   "source": [
    "# 💾 Save Export Pipeline\n"
   ]
  },
  {
   "cell_type": "code",
   "execution_count": null,
   "id": "3d035840",
   "metadata": {},
   "outputs": [],
   "source": [
    "curr_active_pipeline.get_complete_session_context()\n",
    "custom_save_filepaths, custom_save_filenames, custom_suffix = curr_active_pipeline.get_custom_pipeline_filenames_from_parameters()\n",
    "custom_save_filenames"
   ]
  },
  {
   "cell_type": "code",
   "execution_count": null,
   "id": "f03ac3fe",
   "metadata": {},
   "outputs": [],
   "source": [
    "custom_save_filenames['pipeline_pkl']\n",
    "custom_save_filenames['global_computation_pkl']\n",
    "\n",
    "pickle_path = 'loadedSessPickle_withNormalComputedReplays-qclu_[1, 2, 4, 6, 7, 9]-frateThresh_5.0_2025-01-20.pkl'\n",
    "global_computation_pkl = 'global_computation_results_withNormalComputedReplays-qclu_[1, 2, 4, 6, 7, 9]-frateThresh_5.0_2025-01-20.pkl'"
   ]
  },
  {
   "cell_type": "code",
   "execution_count": null,
   "id": "20555817",
   "metadata": {},
   "outputs": [],
   "source": [
    "## indicate that it was loaded with a custom suffix\n",
    "curr_active_pipeline.pickle_path ## correct\n",
    "curr_active_pipeline.global_computation_results_pickle_path ## correct\n",
    "\n",
    "# curr_active_pipeline.save_pipeline(saving_mode=PipelineSavingScheme.TEMP_THEN_OVERWRITE, override_pickle_path=curr_active_pipeline.pickle_path, active_pickle_filename=curr_active_pipeline.pickle_path.name) #active_pickle_filename=\n",
    "# curr_active_pipeline.save_global_computation_results(override_global_pickle_path=curr_active_pipeline.global_computation_results_pickle_path)"
   ]
  },
  {
   "cell_type": "code",
   "execution_count": null,
   "id": "d74080dd",
   "metadata": {
    "tags": [
     "run-perform-save-pkl"
    ]
   },
   "outputs": [],
   "source": [
    "## indicate that it was loaded with a custom suffix\n",
    "curr_active_pipeline.pickle_path ## correct\n",
    "curr_active_pipeline.global_computation_results_pickle_path ## correct\n",
    "\n",
    "if curr_active_pipeline.pickle_path is None:\n",
    "    active_pickle_filename = 'loadedSessPickle.pkl'\n",
    "else:\n",
    "    active_pickle_filename = curr_active_pipeline.pickle_path.name\n",
    "    \n",
    "print(f'active_pickle_filename: {active_pickle_filename}')\n",
    "curr_active_pipeline.save_pipeline(saving_mode=PipelineSavingScheme.TEMP_THEN_OVERWRITE, override_pickle_path=curr_active_pipeline.pickle_path, active_pickle_filename=active_pickle_filename) #active_pickle_filename=\n"
   ]
  },
  {
   "cell_type": "code",
   "execution_count": null,
   "id": "520284fb",
   "metadata": {
    "tags": [
     "run-perform-save-pkl"
    ]
   },
   "outputs": [],
   "source": [
    "curr_active_pipeline.save_global_computation_results(override_global_pickle_path=curr_active_pipeline.global_computation_results_pickle_path)"
   ]
  },
  {
   "cell_type": "markdown",
   "id": "5ad1d1c4",
   "metadata": {},
   "source": [
    "#### Manual Pickling"
   ]
  },
  {
   "cell_type": "code",
   "execution_count": null,
   "id": "22341765",
   "metadata": {},
   "outputs": [],
   "source": [
    "# curr_active_pipeline.save_pipeline(saving_mode=PipelineSavingScheme.TEMP_THEN_OVERWRITE, override_pickle_path=curr_active_pipeline.pickle_path, active_pickle_filename='loadedSessPickle_withNormalComputedReplays-qclu_[1, 2, 4, 6, 7, 9]-frateThresh_5.0_2025-01-20.pkl') #active_pickle_filename=\n",
    "curr_active_pipeline.save_pipeline(saving_mode=PipelineSavingScheme.TEMP_THEN_OVERWRITE, active_pickle_filename='loadedSessPickle_withNormalComputedReplays-qclu_[1, 2, 4, 6, 7, 9]-frateThresh_5.0_2025-01-20.pkl') #active_pickle_filename="
   ]
  },
  {
   "cell_type": "code",
   "execution_count": null,
   "id": "849549fe",
   "metadata": {},
   "outputs": [],
   "source": [
    "curr_active_pipeline.save_global_computation_results(override_global_pickle_filename='global_computation_results_withNormalComputedReplays-qclu_[1, 2, 4, 6, 7, 9]-frateThresh_5.0_2025-01-20.pkl')"
   ]
  },
  {
   "cell_type": "code",
   "execution_count": null,
   "id": "4d7b9fc3",
   "metadata": {},
   "outputs": [],
   "source": [
    "from pyphoplacecellanalysis.General.Pipeline.Stages.Loading import PipelineWithInputStage, PipelineWithLoadableStage, loadData, saveData\n",
    "\n",
    "## Custom Save\n",
    "curr_sess_pkl_path = basedir.joinpath('loadedSessPickle_2025-09-08.pkl')\n",
    "print(f'saving out to modern pickle: \"{curr_sess_pkl_path}\"')\n",
    "saveData(curr_sess_pkl_path, db=curr_active_pipeline, safe_save=True) # (v_dict, str(curr_item_type.__module__), str(curr_item_type.__name__)))\n"
   ]
  },
  {
   "cell_type": "markdown",
   "id": "de52cc45",
   "metadata": {},
   "source": [
    "### 2024-06-25 - Load from saved custom"
   ]
  },
  {
   "cell_type": "code",
   "execution_count": null,
   "id": "9337ddc6",
   "metadata": {
    "tags": [
     "run-load"
    ]
   },
   "outputs": [],
   "source": [
    "from pyphocorehelpers.Filesystem.path_helpers import set_posix_windows\n",
    "\n",
    "# Loads custom pipeline pickles that were saved out via `custom_save_filepaths['pipeline_pkl'] = curr_active_pipeline.save_pipeline(saving_mode=PipelineSavingScheme.TEMP_THEN_OVERWRITE, active_pickle_filename=custom_save_filenames['pipeline_pkl'])`\n",
    "\n",
    "## INPUTS: global_data_root_parent_path, active_data_mode_name, basedir, saving_mode, force_reload, custom_save_filenames\n",
    "# custom_suffix: str = '_withNewKamranExportedReplays'\n",
    "\n",
    "# custom_suffix: str = '_withNewComputedReplays'\n",
    "# custom_suffix: str = '_withNewComputedReplays-qclu_[1, 2]-frateThresh_5.0'\n",
    "\n",
    "# custom_save_filenames = {\n",
    "#     'pipeline_pkl':f'loadedSessPickle{custom_suffix}.pkl',\n",
    "#     'global_computation_pkl':f\"global_computation_results{custom_suffix}.pkl\",\n",
    "#     'pipeline_h5':f'pipeline{custom_suffix}.h5',\n",
    "# }\n",
    "# print(f'custom_save_filenames: {custom_save_filenames}')\n",
    "# custom_save_filepaths = {k:v for k, v in custom_save_filenames.items()}\n",
    "\n",
    "# # ==================================================================================================================== #\n",
    "# # PIPELINE LOADING                                                                                                     #\n",
    "# # ==================================================================================================================== #\n",
    "# # load the custom saved outputs\n",
    "# active_pickle_filename = custom_save_filenames['pipeline_pkl'] # 'loadedSessPickle_withParameters.pkl'\n",
    "# print(f'active_pickle_filename: \"{active_pickle_filename}\"')\n",
    "# # assert active_pickle_filename.exists()\n",
    "# active_session_h5_filename = custom_save_filenames['pipeline_h5'] # 'pipeline_withParameters.h5'\n",
    "# print(f'active_session_h5_filename: \"{active_session_h5_filename}\"')\n",
    "\n",
    "# ==================================================================================================================== #\n",
    "# Load Pipeline                                                                                                        #\n",
    "# ==================================================================================================================== #\n",
    "## DO NOT allow recompute if the file doesn't exist!!\n",
    "# Computing loaded session pickle file results : \"W:/Data/KDIBA/gor01/two/2006-6-07_16-40-19/loadedSessPickle_withNewComputedReplays.pkl\"... done.\n",
    "# Failure loading W:\\Data\\KDIBA\\gor01\\two\\2006-6-07_16-40-19\\loadedSessPickle_withNewComputedReplays.pkl.\n",
    "# proposed_load_pkl_path = basedir.joinpath(active_pickle_filename).resolve()\n",
    "\n",
    "## INPUTS: widget.active_global_pkl, widget.active_global_pkl\n",
    "\n",
    "if active_session_pickle_file_widget.active_global_pkl is None:\n",
    "    skip_global_load: bool = True\n",
    "    override_global_computation_results_pickle_path = None\n",
    "    print(f'skip_global_load: {skip_global_load}')\n",
    "else:\n",
    "    skip_global_load: bool = False\n",
    "    override_global_computation_results_pickle_path = active_session_pickle_file_widget.active_global_pkl.resolve()\n",
    "    Assert.path_exists(override_global_computation_results_pickle_path)\n",
    "    print(f'override_global_computation_results_pickle_path: \"{override_global_computation_results_pickle_path}\"')\n",
    "\n",
    "proposed_load_pkl_path = active_session_pickle_file_widget.active_local_pkl.resolve()\n",
    "Assert.path_exists(proposed_load_pkl_path)\n",
    "proposed_load_pkl_path\n",
    "\n",
    "custom_suffix: str = active_session_pickle_file_widget.try_extract_custom_suffix()\n",
    "print(f'custom_suffix: \"{custom_suffix}\"')\n",
    "\n",
    "## OUTPUTS: custom_suffix, proposed_load_pkl_path, (override_global_computation_results_pickle_path, skip_global_load)"
   ]
  },
  {
   "cell_type": "code",
   "execution_count": null,
   "id": "877a7d07",
   "metadata": {},
   "outputs": [],
   "source": [
    "epoch_name_includelist"
   ]
  },
  {
   "cell_type": "code",
   "execution_count": null,
   "id": "b8eef26a",
   "metadata": {
    "tags": [
     "run-load"
    ]
   },
   "outputs": [],
   "source": [
    "\n",
    "## INPUTS: proposed_load_pkl_path\n",
    "# assert proposed_load_pkl_path.exists(), f\"for a saved custom the file must exist, but proposed_load_pkl_path: '{proposed_load_pkl_path}' does not!\"\n",
    "\n",
    "epoch_name_includelist=None\n",
    "# active_computation_functions_name_includelist=['lap_direction_determination', 'pf_computation','firing_rate_trends', 'position_decoding']\n",
    "active_computation_functions_name_includelist=[]\n",
    "\n",
    "with set_posix_windows():\n",
    "    curr_active_pipeline: NeuropyPipeline = batch_load_session(global_data_root_parent_path, active_data_mode_name, basedir, epoch_name_includelist=epoch_name_includelist,\n",
    "                                            computation_functions_name_includelist=active_computation_functions_name_includelist,\n",
    "                                            saving_mode=saving_mode, force_reload=force_reload,\n",
    "                                            skip_extended_batch_computations=True, debug_print=False, fail_on_exception=False, active_pickle_filename=proposed_load_pkl_path, \n",
    "                                            override_parameters_flat_keypaths_dict=override_parameters) # , active_pickle_filename = 'loadedSessPickle_withParameters.pkl'\n",
    "\n",
    "## Post Compute Validate 2023-05-16:\n",
    "was_updated = BatchSessionCompletionHandler.post_compute_validate(curr_active_pipeline) ## TODO: need to potentially re-save if was_updated. This will fail because constained versions not ran yet.\n",
    "print(f'Pipeline loaded from custom pickle!!')\n",
    "## OUTPUT: curr_active_pipeline\n"
   ]
  },
  {
   "cell_type": "code",
   "execution_count": null,
   "id": "7320c010",
   "metadata": {},
   "outputs": [],
   "source": [
    "curr_active_pipeline.get_session_context()\n"
   ]
  },
  {
   "cell_type": "code",
   "execution_count": null,
   "id": "61969df4",
   "metadata": {},
   "outputs": [],
   "source": [
    "active_data_mode_name = 'bapun'\n",
    "\n",
    "# curr_active_pipeline.get_session_additional_parameters_context()\n",
    "# curr_active_pipeline.session_data_type\n",
    "\n",
    "DataSessionFormatRegistryHolder.get_registry_known_data_session_type_dict()[active_data_mode_name]\n",
    "DataSessionFormatRegistryHolder.get_registry_data_session_type_class_name_dict()[active_data_mode_name]\n",
    "\n",
    "\n"
   ]
  },
  {
   "cell_type": "code",
   "execution_count": null,
   "id": "488363cf",
   "metadata": {},
   "outputs": [],
   "source": [
    "from neuropy.core.session.Formats.BaseDataSessionFormats import HardcodedProcessingParameters\n",
    "from neuropy.core.session.Formats.Specific.BapunDataSessionFormat import BapunDataSessionFormatRegisteredClass\n",
    "\n",
    "hardcoded_params: HardcodedProcessingParameters = BapunDataSessionFormatRegisteredClass._get_session_specific_parameters(session_context=curr_active_pipeline.get_session_context())\n",
    "hardcoded_params\n",
    "\n",
    "hardcoded_params.decoder_building_session_names\n",
    "hardcoded_params.non_global_activity_session_names"
   ]
  },
  {
   "cell_type": "code",
   "execution_count": null,
   "id": "a08f2dca",
   "metadata": {},
   "outputs": [],
   "source": [
    "\n",
    "@define(slots=False, eq=False, repr=False)\n",
    "class position_decoding_Parameters(HDF_SerializationMixin, AttrsBasedClassHelperMixin, BaseGlobalComputationParameters):\n",
    "    \"\"\" Docstring for position_decoding_Parameters. \n",
    "    \"\"\"\n",
    "    override_decoding_time_bin_size: Optional[float] = serialized_attribute_field(default=None)\n",
    "    ## PARAMS - these are class properties\n",
    "    override_decoding_time_bin_size_PARAM = param.Number(default=None, doc='override_decoding_time_bin_size param', label='override_decoding_time_bin_size')\n",
    "    # HDFMixin Conformances ______________________________________________________________________________________________ #\n",
    "    def to_hdf(self, file_path, key: str, **kwargs):\n",
    "        \"\"\" Saves the object to key in the hdf5 file specified by file_path\"\"\"\n",
    "        super().to_hdf(file_path, key=key, **kwargs)\n",
    "        \n",
    "\n",
    "\n",
    "\n",
    "session_specific_parameters: Dict[IdentifyingContext, HardcodedProcessingParameters] = {\n",
    "\n",
    "    IdentifyingContext(format_name= 'bapun', animal= 'RatN', session_name= 'Day4OpenField'): HardcodedProcessingParameters(decoder_building_session_names=['roam', 'sprinkle', 'maze_GLOBAL'],\n",
    "\t\t\t\t\t\t\t\t\t\t\t\t\t\t\t\t\t\t\t\t\t\t\t\t\t\t\t\t\t\t   ),\n",
    "\t\t\t\t\t\t\t\t\t\t\t\t\t\t\t\t\t\t\t\t\t\t\t\t\t\t\t\t\t\t\n",
    "    IdentifyingContext(format_name= 'bapun', animal= 'RatN', session_name= 'Day5TwoNovel'): HardcodedProcessingParameters(decoder_building_session_names=['maze1', 'maze2', 'maze_GLOBAL'],\n",
    "\t\t\t\t\t\t\t\t\t\t\t\t\t\t\t\t\t\t\t\t\t\t\t\t\t\t\t\t\t\t   ),\n",
    "\t\t\t\t\t\t\t\t\t\t\t\t\t\t\t\t\t\t\t\t\t\t\t\t\t\t\t\t\t\n",
    "}\n"
   ]
  },
  {
   "cell_type": "code",
   "execution_count": null,
   "id": "3f2f7c8e",
   "metadata": {},
   "outputs": [],
   "source": [
    "from pyphoplacecellanalysis.General.PipelineParameterClassTemplating import GlobalComputationParametersAttrsClassTemplating\n",
    "\n",
    "registered_merged_computation_function_default_kwargs_dict, code_str, nested_classes_dict, (imports_dict, imports_list, imports_string) = GlobalComputationParametersAttrsClassTemplating.main_generate_params_classes(curr_active_pipeline=curr_active_pipeline)\n",
    "\n",
    "code_str"
   ]
  },
  {
   "cell_type": "markdown",
   "id": "53e10fea",
   "metadata": {},
   "source": [
    "## from `batch_load_session`"
   ]
  },
  {
   "cell_type": "code",
   "execution_count": null,
   "id": "2107ae60",
   "metadata": {},
   "outputs": [],
   "source": [
    "## From `pyphoplacecellanalysis.General.Batch.NonInteractiveProcessing.batch_load_session` 2025-02-26 09:09 \n",
    "kwargs = {}\n",
    "epoch_name_includelist=None\n",
    "# active_computation_functions_name_includelist=['lap_direction_determination', 'pf_computation','firing_rate_trends', 'position_decoding']\n",
    "active_computation_functions_name_includelist=[]\n",
    "override_parameters_flat_keypaths_dict = override_parameters\n",
    "active_pickle_filename = proposed_load_pkl_path\n",
    "active_session_computation_configs = None\n",
    "fail_on_exception: bool = False\n",
    "\n",
    "saving_mode = PipelineSavingScheme.init(saving_mode)\n",
    "epoch_name_includelist = kwargs.get('epoch_name_includelist', ['maze1','maze2','maze'])\n",
    "# epoch_name_includelist = ['maze', 'sprinkle']\n",
    "# epoch_name_includelist = ['pre', 'maze', 'sprinkle', 'post']\n",
    "\n",
    "\n",
    "debug_print = kwargs.get('debug_print', False)\n",
    "assert 'skip_save' not in kwargs, f\"use saving_mode=PipelineSavingScheme.SKIP_SAVING instead\"\n",
    "# skip_save = kwargs.get('skip_save', False)\n",
    "# active_pickle_filename = kwargs.get('active_pickle_filename', 'loadedSessPickle.pkl')\n",
    "\n",
    "# active_session_computation_configs = kwargs.get('active_session_computation_configs', None)\n",
    "# computation_functions_name_includelist = kwargs.get('computation_functions_name_includelist', None)\n",
    "\n",
    "known_data_session_type_properties_dict = DataSessionFormatRegistryHolder.get_registry_known_data_session_type_dict(override_parameters_flat_keypaths_dict=override_parameters_flat_keypaths_dict)\n",
    "active_data_session_types_registered_classes_dict = DataSessionFormatRegistryHolder.get_registry_data_session_type_class_name_dict()\n",
    "\n",
    "active_data_mode_registered_class = active_data_session_types_registered_classes_dict[active_data_mode_name]\n",
    "active_data_mode_type_properties = known_data_session_type_properties_dict[active_data_mode_name]\n",
    "\n",
    "## Begin main run of the pipeline (load or execute):\n",
    "curr_active_pipeline = NeuropyPipeline.try_init_from_saved_pickle_or_reload_if_needed(active_data_mode_name, active_data_mode_type_properties,\n",
    "    override_basepath=Path(basedir), force_reload=force_reload, active_pickle_filename=active_pickle_filename, skip_save_on_initial_load=True, override_parameters_flat_keypaths_dict=override_parameters_flat_keypaths_dict)\n",
    "\n",
    "curr_active_pipeline.update_parameters(override_parameters_flat_keypaths_dict=override_parameters_flat_keypaths_dict) # should already be updated, but try it again anyway.\n",
    "\n",
    "was_loaded_from_file: bool =  curr_active_pipeline.has_associated_pickle # True if pipeline was loaded from an existing file, False if it was created fresh\n",
    "\n",
    "# Get the previous configs:\n",
    "# curr_active_pipeline.filtered_sessions\n",
    "# ['filtered_session_names', 'filtered_contexts', 'filtered_epochs', 'filtered_sessions']\n",
    "# loaded_session_filter_configurations = {k:v.filter_config['filter_function'] for k,v in curr_active_pipeline.active_configs.items()}\n",
    "# loaded_pipeline_computation_configs = {k:v.computation_config for k,v in curr_active_pipeline.active_configs.items()}\n",
    "\n",
    "\n",
    "## Build updated ones from the current configs:\n",
    "active_session_filter_configurations = active_data_mode_registered_class.build_default_filter_functions(sess=curr_active_pipeline.sess, epoch_name_includelist=epoch_name_includelist) # build_filters_pyramidal_epochs(sess=curr_kdiba_pipeline.sess)\n",
    "if debug_print:\n",
    "    print(f'active_session_filter_configurations: {active_session_filter_configurations}')\n",
    "\n",
    "## Skip the filtering, it used to be performed bere but NOT NOW\n",
    "\n",
    "## TODO 2023-05-16 - set `curr_active_pipeline.active_configs[a_name].computation_config.pf_params.computation_epochs = curr_laps_obj` equivalent\n",
    "## TODO 2023-05-16 - determine appropriate binning from `compute_short_long_constrained_decoders` so it's automatically from the long\n"
   ]
  },
  {
   "cell_type": "code",
   "execution_count": null,
   "id": "fafaf6fd",
   "metadata": {},
   "outputs": [],
   "source": [
    "curr_active_pipeline.filtered_session_names"
   ]
  },
  {
   "cell_type": "code",
   "execution_count": null,
   "id": "ab6081a8",
   "metadata": {},
   "outputs": [],
   "source": [
    "# epoch_name_includelist = kwargs.get('epoch_name_includelist', ['maze1','maze2','maze'])\n",
    "# epoch_name_includelist = ['roam', 'sprinkle']\n",
    "epoch_name_includelist = ['pre', 'roam', 'sprinkle', 'post']\n",
    "active_session_filter_configurations = active_data_mode_registered_class.build_default_filter_functions(sess=curr_active_pipeline.sess, epoch_name_includelist=epoch_name_includelist) # build_filters_pyramidal_epochs(sess=curr_kdiba_pipeline.sess)\n"
   ]
  },
  {
   "cell_type": "code",
   "execution_count": null,
   "id": "0ef85735",
   "metadata": {},
   "outputs": [],
   "source": [
    "fail_on_exception: bool = False"
   ]
  },
  {
   "cell_type": "code",
   "execution_count": null,
   "id": "43096f48",
   "metadata": {},
   "outputs": [],
   "source": [
    "try:\n",
    "    curr_active_pipeline.save_pipeline(saving_mode=saving_mode, active_pickle_filename=active_pickle_filename, override_pickle_path=kwargs.get('override_pickle_path', None))\n",
    "except Exception as e:\n",
    "    exception_info = sys.exc_info()\n",
    "    an_error = CapturedException(e, exception_info, curr_active_pipeline)\n",
    "    print(f'WARNING: Failed to save pipeline via `curr_active_pipeline.save_pipeline(...)` with error: {an_error}')\n",
    "    if fail_on_exception:\n",
    "        raise"
   ]
  },
  {
   "cell_type": "code",
   "execution_count": null,
   "id": "7e16a638",
   "metadata": {
    "tags": [
     "collect-2025-09-19"
    ]
   },
   "outputs": [],
   "source": [
    "\n",
    "if active_session_computation_configs is None:\n",
    "    \"\"\"\n",
    "    If there are is provided computation config, get the default:\n",
    "    \"\"\"\n",
    "    # ## Compute shared grid_bin_bounds for all epochs from the global positions:\n",
    "    # global_unfiltered_session = curr_active_pipeline.sess\n",
    "    # # ((22.736279243974774, 261.696733348342), (49.989466271998936, 151.2870218547401))\n",
    "    # first_filtered_session = curr_active_pipeline.filtered_sessions[curr_active_pipeline.filtered_session_names[0]]\n",
    "    # # ((22.736279243974774, 261.696733348342), (125.5644705153173, 151.21507349463707))\n",
    "    # second_filtered_session = curr_active_pipeline.filtered_sessions[curr_active_pipeline.filtered_session_names[1]]\n",
    "    # # ((71.67666779621361, 224.37820920766043), (110.51617463644946, 151.2870218547401))\n",
    "\n",
    "    # grid_bin_bounding_session = first_filtered_session\n",
    "    # grid_bin_bounds = PlacefieldComputationParameters.compute_grid_bin_bounds(grid_bin_bounding_session.position.x, grid_bin_bounding_session.position.y)\n",
    "\n",
    "    ## OR use no grid_bin_bounds meaning they will be determined dynamically for each epoch:\n",
    "    # grid_bin_bounds = None\n",
    "    # time_bin_size = 0.03333 #1.0/30.0 # decode at 30fps to match the position sampling frequency\n",
    "    # time_bin_size = 0.1 # 10 fps\n",
    "    time_bin_size = kwargs.get('time_bin_size', 0.03333) # 0.03333 = 1.0/30.0 # decode at 30fps to match the position sampling frequency\n",
    "    # time_bin_size = kwargs.get('time_bin_size', 0.1) # 10 fps\n",
    "\n",
    "    # lap_estimation_parameters = curr_active_pipeline.sess.config.preprocessing_parameters.epoch_estimation_parameters.laps\n",
    "    # assert lap_estimation_parameters is not None\n",
    "    active_session_computation_configs: List[DynamicContainer] = active_data_mode_registered_class.build_active_computation_configs(sess=curr_active_pipeline.sess, time_bin_size=time_bin_size, override_parameters_flat_keypaths_dict=override_parameters_flat_keypaths_dict) # , grid_bin_bounds=grid_bin_bounds\n",
    "\n",
    "else:\n",
    "    # Use the provided `active_session_computation_configs`:\n",
    "    assert 'time_bin_size' not in kwargs, f\"time_bin_size kwarg provided but will not be used because a custom active_session_computation_configs was provided as well.\"\n",
    "\n",
    "active_session_computation_configs\n"
   ]
  },
  {
   "cell_type": "code",
   "execution_count": null,
   "id": "e026f0f0",
   "metadata": {},
   "outputs": [],
   "source": [
    "# computation_functions_name_includelist = []\n",
    "computation_functions_name_includelist = ['pf_computation','firing_rate_trends', 'position_decoding']"
   ]
  },
  {
   "cell_type": "code",
   "execution_count": null,
   "id": "afa79013",
   "metadata": {},
   "outputs": [],
   "source": [
    "\n",
    "## Setup Computation Functions to be executed:\n",
    "if computation_functions_name_includelist is None:\n",
    "    # includelist Mode:\n",
    "    computation_functions_name_includelist=['_perform_baseline_placefield_computation', '_perform_time_dependent_placefield_computation', '_perform_extended_statistics_computation',\n",
    "                                        '_perform_position_decoding_computation', \n",
    "                                        '_perform_firing_rate_trends_computation',\n",
    "                                        '_perform_pf_find_ratemap_peaks_computation',\n",
    "                                        # '_perform_time_dependent_pf_sequential_surprise_computation'\n",
    "                                        # '_perform_two_step_position_decoding_computation',\n",
    "                                        # '_perform_recursive_latent_placefield_decoding'\n",
    "                                    ]  # '_perform_pf_find_ratemap_peaks_peak_prominence2d_computation'\n",
    "    computation_functions_name_excludelist=None\n",
    "else:\n",
    "    print(f'using provided computation_functions_name_includelist: {computation_functions_name_includelist}')\n",
    "    computation_functions_name_excludelist=None\n",
    "\n",
    "## For every computation config we build a fake (duplicate) filter config).\n",
    "# OVERRIDE WITH TRUE:\n",
    "# curr_active_pipeline.sess.config.preprocessing_parameters.epoch_estimation_parameters.laps['use_direction_dependent_laps'] = True # override with True\n",
    "lap_estimation_parameters = curr_active_pipeline.sess.config.preprocessing_parameters.epoch_estimation_parameters.laps\n",
    "assert lap_estimation_parameters is not None\n",
    "use_direction_dependent_laps: bool = lap_estimation_parameters.get('use_direction_dependent_laps', False) # whether to split the laps into left and right directions\n",
    "# use_direction_dependent_laps: bool = lap_estimation_parameters.get('use_direction_dependent_laps', True) # whether to split the laps into left and right directions\n",
    "\n",
    "if (use_direction_dependent_laps or (len(active_session_computation_configs) > 3)):\n",
    "    lap_direction_suffix_list = ['_odd', '_even', '_any'] # ['maze1_odd', 'maze1_even', 'maze1_any', 'maze2_odd', 'maze2_even', 'maze2_any', 'maze_odd', 'maze_even', 'maze_any']\n",
    "    # lap_direction_suffix_list = ['_odd', '_even', ''] # no '_any' prefix, instead reuses the existing names\n",
    "    # assert len(lap_direction_suffix_list) == len(active_session_computation_configs), f\"len(lap_direction_suffix_list): {len(lap_direction_suffix_list)}, len(active_session_computation_configs): {len(active_session_computation_configs)}, \"\n",
    "else:\n",
    "    print(f'not using direction-dependent laps.')\n",
    "    lap_direction_suffix_list = ['']\n",
    "\n",
    "# active_session_computation_configs: this should contain three configs, one for each Epoch    \n",
    "active_session_computation_configs = [deepcopy(a_config) for a_config in active_session_computation_configs]\n",
    "\n",
    "#TODO 2024-10-30 13:22: - [ ] This is where we should override the params using `override_parameters_flat_keypaths_dict`\n",
    "# if override_parameters_flat_keypaths_dict is not None:\n",
    "# \tfor a_config in active_session_computation_configs:\n",
    "# \t\tfor k, v in override_parameters_flat_keypaths_dict.items():\n",
    "# \t\t\ttry:\n",
    "# \t\t\t\ta_config.set_by_keypath(k, deepcopy(v))\n",
    "# \t\t\texcept Exception as e:\n",
    "# \t\t\t\t# raise e\n",
    "# \t\t\t\tprint(f'cannot set_by_keypath: {k} -- error: {e}. Skipping for now.')\n",
    "\n",
    "assert len(lap_direction_suffix_list) == len(active_session_computation_configs)\n",
    "updated_active_session_pseudo_filter_configs = {} # empty list, woot!\n",
    "\n",
    "\n",
    "for a_computation_suffix_name, a_computation_config in zip(lap_direction_suffix_list, active_session_computation_configs): # these should NOT be the same length: lap_direction_suffix_list: ['_odd', '_even', '_any']\n",
    "    # We need to filter and then compute with the appropriate config iteratively.\n",
    "    for a_filter_config_name, a_filter_config_fn in active_session_filter_configurations.items():\n",
    "        # TODO: Build a context:\n",
    "        a_combined_name: str = f'{a_filter_config_name}{a_computation_suffix_name}'\n",
    "        # if a_computation_suffix_name != '':\n",
    "        updated_active_session_pseudo_filter_configs[a_combined_name] = deepcopy(a_filter_config_fn) # this copy is just so that the values are recomputed with the appropriate config. This is a HACK\n",
    "    # end for filter_configs\n",
    "\n",
    "    ## Actually do the filtering now. We have \n",
    "    curr_active_pipeline.filter_sessions(updated_active_session_pseudo_filter_configs, changed_filters_ignore_list=['maze1','maze2','maze'], debug_print=False)\n",
    "\n",
    "    ## TODO 2023-01-15 - perform_computations for all configs!!\n",
    "    #TODO 2024-10-30 13:22: - [ ] This is where we should override the params\n",
    "    # if override_parameters_flat_keypaths_dict is not None:\n",
    "    # \tfor k, v in override_parameters_flat_keypaths_dict.items():\n",
    "    # \t\ta_filter_config_fn.set_by_keypath(k, deepcopy(v))\n",
    "\n",
    "    # if override_parameters_flat_keypaths_dict is not None:\n",
    "    # \tcurr_active_pipeline.update_parameters(override_parameters_flat_keypaths_dict=override_parameters_flat_keypaths_dict) \n",
    "\n",
    "\n",
    "    #TODO 2023-10-31 14:58: - [ ] This is where the computations are being done multiple times!\n",
    "    #TODO 2023-11-13 14:23: - [ ] With this approach, we can't actually properly filter the computation_configs for the relevant sessions ahead of time because they are calculated for a single computation config but across all sessions at once.\n",
    "    curr_active_pipeline.perform_computations(a_computation_config, computation_functions_name_includelist=computation_functions_name_includelist, computation_functions_name_excludelist=computation_functions_name_excludelist, fail_on_exception=fail_on_exception, debug_print=debug_print) #, overwrite_extant_results=False  ], fail_on_exception=True, debug_print=False)\n",
    "\n",
    "    if override_parameters_flat_keypaths_dict is not None:\n",
    "        curr_active_pipeline.update_parameters(override_parameters_flat_keypaths_dict=override_parameters_flat_keypaths_dict) \n",
    "\n",
    "\n"
   ]
  },
  {
   "cell_type": "code",
   "execution_count": null,
   "id": "122d63b2",
   "metadata": {},
   "outputs": [],
   "source": [
    "skip_extended_batch_computations = False\n",
    "fail_on_exception = True\n",
    "if not skip_extended_batch_computations:\n",
    "    batch_extended_computations(curr_active_pipeline, include_global_functions=False, fail_on_exception=fail_on_exception, progress_print=True, debug_print=False)\n",
    "# curr_active_pipeline.perform_computations(active_session_computation_configs[0], computation_functions_name_excludelist=['_perform_spike_burst_detection_computation'], debug_print=False, fail_on_exception=False) # includelist: ['_perform_baseline_placefield_computation']\n",
    "\n",
    "\n",
    "try:\n",
    "    curr_active_pipeline.prepare_for_display(root_output_dir=global_data_root_parent_path.joinpath('Output'), should_smooth_maze=True) # TODO: pass a display config\n",
    "except Exception as e:\n",
    "    exception_info = sys.exc_info()\n",
    "    an_error = CapturedException(e, exception_info, curr_active_pipeline)\n",
    "    print(f'WARNING: Failed to do `curr_active_pipeline.prepare_for_display(...)` with error: {an_error}')\n",
    "    if fail_on_exception:\n",
    "        raise\n",
    "\n",
    "try:\n",
    "    curr_active_pipeline.save_pipeline(saving_mode=saving_mode, active_pickle_filename=active_pickle_filename, override_pickle_path=kwargs.get('override_pickle_path', None))\n",
    "except Exception as e:\n",
    "    exception_info = sys.exc_info()\n",
    "    an_error = CapturedException(e, exception_info, curr_active_pipeline)\n",
    "    print(f'WARNING: Failed to save pipeline via `curr_active_pipeline.save_pipeline(...)` with error: {an_error}')\n",
    "    if fail_on_exception:\n",
    "        raise\n",
    "\n",
    "if not saving_mode.shouldSave:\n",
    "    print(f'saving_mode.shouldSave == False, so not saving at the end of batch_load_session')\n",
    "\n",
    "## Load pickled global computations:\n",
    "# If previously pickled global results were saved, they will typically no longer be relevent if the pipeline was recomputed. We need a system of invalidating/versioning the global results when the other computations they depend on change.\n",
    "# Maybe move into `batch_extended_computations(...)` or integrate with that somehow\n",
    "# curr_active_pipeline.load_pickled_global_computation_results()\n"
   ]
  },
  {
   "cell_type": "code",
   "execution_count": null,
   "id": "9417077b",
   "metadata": {},
   "outputs": [],
   "source": []
  },
  {
   "cell_type": "code",
   "execution_count": null,
   "id": "7b39a2bd",
   "metadata": {},
   "outputs": [],
   "source": []
  },
  {
   "cell_type": "code",
   "execution_count": null,
   "id": "6e374c49",
   "metadata": {},
   "outputs": [],
   "source": [
    "from pyphoplacecellanalysis.General.Batch.NonInteractiveProcessing import batch_evaluate_required_computations\n",
    "\n",
    "skip_global_load = True"
   ]
  },
  {
   "cell_type": "code",
   "execution_count": null,
   "id": "e59cb3e1",
   "metadata": {
    "tags": [
     "run-load"
    ]
   },
   "outputs": [],
   "source": [
    "# ==================================================================================================================== #\n",
    "# Global computations loading:                                                                                            #\n",
    "# ==================================================================================================================== #\n",
    "# Loads saved global computations that were saved out via: `custom_save_filepaths['global_computation_pkl'] = curr_active_pipeline.save_global_computation_results(override_global_pickle_filename=custom_save_filenames['global_computation_pkl'])`\n",
    "## INPUTS: custom_save_filenames\n",
    "## INPUTS: curr_active_pipeline, (override_global_computation_results_pickle_path, skip_global_load), extended_computations_include_includelist\n",
    "\n",
    "if skip_global_load:\n",
    "    override_global_computation_results_pickle_path = None\n",
    "    print(f'skipping global load because skip_global_load==True')\n",
    "else:\n",
    "    # override_global_computation_results_pickle_path = custom_save_filenames['global_computation_pkl']\n",
    "    print(f'override_global_computation_results_pickle_path: \"{override_global_computation_results_pickle_path}\"')\n",
    "\n",
    "# Pre-load ___________________________________________________________________________________________________________ #\n",
    "force_recompute_global = force_reload\n",
    "needs_computation_output_dict, valid_computed_results_output_list, remaining_include_function_names = batch_evaluate_required_computations(curr_active_pipeline, include_includelist=extended_computations_include_includelist, include_global_functions=True, fail_on_exception=False, progress_print=True,\n",
    "                                                    force_recompute=force_recompute_global, force_recompute_override_computations_includelist=force_recompute_override_computations_includelist, debug_print=False)\n",
    "print(f'Pre-load global computations: needs_computation_output_dict: {[k for k,v in needs_computation_output_dict.items() if (v is not None)]}')\n",
    "# valid_computed_results_output_list\n",
    "\n",
    "# Try Unpickling Global Computations to update pipeline ______________________________________________________________ #\n",
    "if (not force_reload) and (not skip_global_load): # not just force_reload, needs to recompute whenever the computation fails.\n",
    "    try:\n",
    "        # INPUTS: override_global_computation_results_pickle_path\n",
    "        with set_posix_windows():\n",
    "            sucessfully_updated_keys, successfully_loaded_keys = curr_active_pipeline.load_pickled_global_computation_results(override_global_computation_results_pickle_path=override_global_computation_results_pickle_path,\n",
    "                                                                                            allow_overwrite_existing=True, allow_overwrite_existing_allow_keys=extended_computations_include_includelist, ) # is new\n",
    "            print(f'sucessfully_updated_keys: {sucessfully_updated_keys}\\nsuccessfully_loaded_keys: {successfully_loaded_keys}')\n",
    "            did_any_paths_change: bool = curr_active_pipeline.post_load_fixup_sess_basedirs(updated_session_basepath=deepcopy(basedir)) ## use INPUT: basedir\n",
    "            \n",
    "    except FileNotFoundError as e:\n",
    "        exception_info = sys.exc_info()\n",
    "        e = CapturedException(e, exception_info)\n",
    "        print(f'cannot load global results because pickle file does not exist! Maybe it has never been created? {e}')\n",
    "    except Exception as e:\n",
    "        exception_info = sys.exc_info()\n",
    "        e = CapturedException(e, exception_info)\n",
    "        print(f'Unhandled exception: cannot load global results: {e}')\n",
    "        raise\n",
    "\n"
   ]
  },
  {
   "cell_type": "code",
   "execution_count": null,
   "id": "366b8906",
   "metadata": {},
   "outputs": [],
   "source": [
    "print(f'force_reload: {force_reload}, saving_mode: {saving_mode}')\n",
    "force_reload\n",
    "saving_mode"
   ]
  },
  {
   "cell_type": "code",
   "execution_count": null,
   "id": "23e54ffb",
   "metadata": {},
   "outputs": [],
   "source": [
    "## INPUTS: curr_active_pipeline.global_computation_results_pickle_path, skip_global_load\n",
    "## indicate that it was loaded with a custom suffix\n",
    "curr_active_pipeline.pickle_path ## correct\n",
    "curr_active_pipeline.global_computation_results_pickle_path ## correct\n",
    "\n",
    "print(f'override_pickle_path = \"{curr_active_pipeline.pickle_path}\",\\nactive_pickle_filename = \"{curr_active_pipeline.pickle_path.name}\"')\n",
    "print(f'override_global_pickle_path = \"{curr_active_pipeline.global_computation_results_pickle_path}\")')"
   ]
  },
  {
   "cell_type": "markdown",
   "id": "a9674fd9",
   "metadata": {},
   "source": [
    "## OUTPUTS: `curr_active_pipeline`  0️⃣ 0️⃣ 0️⃣ 0️⃣ 0️⃣ 0️⃣ 0️⃣ 0️⃣ 0️⃣ 0️⃣ 0️⃣ 0️⃣ 0️⃣ 0️⃣ 0️⃣ 0️⃣ 0️⃣ 0️⃣ 0️⃣ 0️⃣ 0️⃣0️⃣ RESUME Normal Pipeline Load"
   ]
  },
  {
   "cell_type": "markdown",
   "id": "4f5f755b",
   "metadata": {
    "tags": [
     "all"
    ]
   },
   "source": [
    "## 0️⃣ Shared Post-Pipeline load stuff"
   ]
  },
  {
   "cell_type": "code",
   "execution_count": 9,
   "id": "188ed6fa",
   "metadata": {
    "notebookRunGroups": {
     "groupValue": "1"
    },
    "tags": [
     "run-group-0",
     "all",
     "run-load",
     "run-main",
     "end-run"
    ]
   },
   "outputs": [
    {
     "name": "stdout",
     "output_type": "stream",
     "text": [
      "NO CUSTOM SUFFIX.\n",
      "collected_outputs_path: L:\\repos\\Spike3DWorkEnv\\Spike3D\\output\\collected_outputs\n",
      "CURR_BATCH_OUTPUT_PREFIX: \"2025-09-29_Apogee-RatS-Day5TwoNovel-2020-12-04_07-55-09\"\n"
     ]
    }
   ],
   "source": [
    "# BATCH_DATE_TO_USE: str = f'{DAY_DATE_TO_USE}_GL'\n",
    "# BATCH_DATE_TO_USE: str = f'{DAY_DATE_TO_USE}_rMBP' # TODO: Change this as needed, templating isn't actually doing anything rn.\n",
    "BATCH_DATE_TO_USE: str = f'{DAY_DATE_TO_USE}_Apogee'\n",
    "# BATCH_DATE_TO_USE: str = f'{DAY_DATE_TO_USE}_Lab'\n",
    " \n",
    "try:\n",
    "    if custom_suffix is not None:\n",
    "        BATCH_DATE_TO_USE = f'{BATCH_DATE_TO_USE}{custom_suffix}'\n",
    "        print(f'Adding custom suffix: \"{custom_suffix}\" - BATCH_DATE_TO_USE: \"{BATCH_DATE_TO_USE}\"')\n",
    "except NameError as err:\n",
    "    custom_suffix = None\n",
    "    print(f'NO CUSTOM SUFFIX.')\n",
    "\n",
    "known_collected_output_paths = [Path(v).resolve() for v in ['/nfs/turbo/umms-kdiba/Data/Output/collected_outputs', '/home/halechr/FastData/collected_outputs/',\n",
    "                                                           '/home/halechr/cloud/turbo/Data/Output/collected_outputs',\n",
    "                                                           r'C:\\Users\\pho\\repos\\Spike3DWorkEnv\\Spike3D\\output\\collected_outputs',\n",
    "                                                           r\"K:\\scratch\\collected_outputs\",\n",
    "                                                           '/Users/pho/data/collected_outputs',\n",
    "                                                          'output/gen_scripts/']]\n",
    "collected_outputs_path = find_first_extant_path(known_collected_output_paths)\n",
    "assert collected_outputs_path.exists(), f\"collected_outputs_path: {collected_outputs_path} does not exist! Is the right computer's config commented out above?\"\n",
    "# fullwidth_path_widget(scripts_output_path, file_name_label='Scripts Output Path:')\n",
    "print(f'collected_outputs_path: {collected_outputs_path}')\n",
    "# collected_outputs_path.mkdir(exist_ok=True)\n",
    "# assert collected_outputs_path.exists()\n",
    "\n",
    "## Build the output prefix from the session context:\n",
    "active_context = curr_active_pipeline.get_session_context()\n",
    "curr_session_name: str = curr_active_pipeline.session_name # '2006-6-08_14-26-15'\n",
    "CURR_BATCH_OUTPUT_PREFIX: str = f\"{BATCH_DATE_TO_USE}-{curr_session_name}\"\n",
    "print(f'CURR_BATCH_OUTPUT_PREFIX: \"{CURR_BATCH_OUTPUT_PREFIX}\"')"
   ]
  },
  {
   "cell_type": "markdown",
   "id": "693db067",
   "metadata": {
    "tags": [
     "all"
    ]
   },
   "source": [
    "# 0️⃣ Pho Interactive Pipeline Jupyter Widget"
   ]
  },
  {
   "cell_type": "code",
   "execution_count": 10,
   "id": "e275e3bb",
   "metadata": {
    "notebookRunGroups": {
     "groupValue": "1"
    },
    "tags": [
     "all",
     "run-load",
     "run-main",
     "end-run",
     "active-2025-09-21"
    ]
   },
   "outputs": [
    {
     "name": "stdout",
     "output_type": "stream",
     "text": [
      "WARNING: missing 1 keys from context: ['exper_name']. Building path anyway.\n"
     ]
    },
    {
     "data": {
      "application/vnd.jupyter.widget-view+json": {
       "model_id": "e4e2b87ab8fe43f5a2e55128f5eb388d",
       "version_major": 2,
       "version_minor": 0
      },
      "text/plain": [
       "VBox(children=(Box(children=(Label(value='session path:', layout=Layout(width='auto')), HTML(value=\"<b style='font-size: smaller;'>H:\\\\Data\\\\Bapun\\\\RatS\\\\Day5TwoNovel\\\\output</b>\", layout=Layout(flex='1 1 auto', margin='2px', width='auto')), Button(button_style='info', description='Copy', icon='clipboard', layout=Layout(flex='0 1 auto', margin='1px', min_width='80px', width='auto'), style=ButtonStyle(), tooltip='Copy to Clipboard'), Button(button_style='info', description='Reveal', icon='folder-open-o', layout=Layout(flex='0 1 auto', margin='1px', min_width='80px', width='auto'), style=ButtonStyle(), tooltip='Reveal in System Explorer'), Button(button_style='info', description='Open', icon='external-link-square', layout=Layout(flex='0 1 auto', margin='1px', min_width='80px', width='auto'), style=ButtonStyle(), tooltip='Open Contents in System Explorer')), layout=Layout(align_items='center', display='flex', flex_flow='row nowrap', justify_content='flex-start', width='90%')), HBox(children=(Button(description='Output Folder', style=ButtonStyle()), Button(description='global pickle', style=ButtonStyle()), Button(description='pipeline pickle', style=ButtonStyle()), Button(description='.h5 export', style=ButtonStyle()), Button(description='TEST - Dialog', style=ButtonStyle()), Button(description='Save Pipeline', style=ButtonStyle()))), HBox(children=(Button(description='Reload display functions...', style=ButtonStyle()), Button(description='Reload computation functions...', style=ButtonStyle()))), ToggleButton(value=True, description='Figures Displaying')))"
      ]
     },
     "execution_count": 10,
     "metadata": {},
     "output_type": "execute_result"
    }
   ],
   "source": [
    "import ipywidgets as widgets\n",
    "from IPython.display import display\n",
    "from pyphocorehelpers.Filesystem.open_in_system_file_manager import reveal_in_system_file_manager\n",
    "from pyphoplacecellanalysis.GUI.IPyWidgets.pipeline_ipywidgets import interactive_pipeline_widget, interactive_pipeline_files\n",
    "\n",
    "_pipeline_jupyter_widget = interactive_pipeline_widget(curr_active_pipeline=curr_active_pipeline)\n",
    "# display(_pipeline_jupyter_widget)\n",
    "_pipeline_jupyter_widget"
   ]
  },
  {
   "cell_type": "markdown",
   "id": "e607a444",
   "metadata": {
    "tags": [
     "all"
    ]
   },
   "source": [
    "# / 🛑 End Run Section 🛑\n",
    "-------"
   ]
  },
  {
   "cell_type": "markdown",
   "id": "2ee6fcb1",
   "metadata": {
    "tags": [
     "all"
    ]
   },
   "source": [
    "# 🎨 2024-02-06 - Other Plotting"
   ]
  },
  {
   "cell_type": "code",
   "execution_count": null,
   "id": "5d5623a2",
   "metadata": {
    "notebookRunGroups": {
     "groupValue": "2"
    },
    "tags": [
     "all",
     "run-group-display",
     "run-spike_raster_window_test",
     "end-run",
     "active-2025-09-21"
    ]
   },
   "outputs": [],
   "source": [
    "from pyphoplacecellanalysis.Pho2D.PyQtPlots.TimeSynchronizedPlotters.TimeSynchronizedPlacefieldsPlotter import TimeSynchronizedPlacefieldsPlotter\n",
    "\n",
    "_restore_previous_matplotlib_settings_callback = matplotlib_configuration_update(is_interactive=True, backend='Qt5Agg')\n",
    "\n",
    "#  Create a new `SpikeRaster2D` instance using `_display_spike_raster_pyqtplot_2D` and capture its outputs:\n",
    "curr_active_pipeline.reload_default_display_functions()\n",
    "curr_active_pipeline.prepare_for_display()"
   ]
  },
  {
   "cell_type": "markdown",
   "id": "5ac5423e",
   "metadata": {},
   "source": [
    "## `LauncherWidget`: GUI"
   ]
  },
  {
   "cell_type": "code",
   "execution_count": null,
   "id": "968df7ce",
   "metadata": {
    "tags": [
     "all"
    ]
   },
   "outputs": [],
   "source": [
    "from pyphoplacecellanalysis.General.Pipeline.Stages.Display import DisplayFunctionItem\n",
    "from pyphocorehelpers.gui.Qt.tree_helpers import find_tree_item_by_text\n",
    "from pyphoplacecellanalysis.GUI.Qt.MainApplicationWindows.LauncherWidget.LauncherWidget import LauncherWidget\n",
    "\n",
    "widget = LauncherWidget()\n",
    "treeWidget = widget.mainTreeWidget # QTreeWidget\n",
    "widget.build_for_pipeline(curr_active_pipeline=curr_active_pipeline)\n",
    "widget.show()"
   ]
  },
  {
   "cell_type": "code",
   "execution_count": null,
   "id": "58fcbcba",
   "metadata": {},
   "outputs": [],
   "source": [
    "session_id_str: str = curr_active_pipeline.get_complete_session_identifier_string()\n",
    "widget.setWindowTitle(f'Spike3D Launcher: {session_id_str}')\n",
    "treeWidget.root\n",
    "# curr_active_pipeline.get_session_additional_parameters_context()\n",
    "# curr_active_pipeline.get_complete_session_context()"
   ]
  },
  {
   "cell_type": "markdown",
   "id": "8c5dc3b3",
   "metadata": {},
   "source": [
    "## ✅ 2025-09-19 - Clean programmmatic figure outputs "
   ]
  },
  {
   "cell_type": "code",
   "execution_count": null,
   "id": "ac3c3103",
   "metadata": {
    "tags": [
     "active-2025-09-21"
    ]
   },
   "outputs": [],
   "source": [
    "from pyphocorehelpers.plotting.figure_management import PhoActiveFigureManager2D, capture_new_figures_decorator\n",
    "fig_man = PhoActiveFigureManager2D(name=f'fig_man') # Initialize a new figure manager\n",
    "from pyphoplacecellanalysis.GUI.PyQtPlot.Widgets.DockAreaWrapper import DockAreaWrapper\n",
    "from pyphoplacecellanalysis.General.Mixins.ExportHelpers import programmatic_render_to_file, programmatic_display_to_PDF, extract_figures_from_display_function_output\n",
    "\n",
    "fig_man.close_all()\n",
    "\n",
    "# subset_includelist = ['maze1', 'maze2', 'maze_GLOBAL'] # Day5TwoNovel\n",
    "# subset_includelist = ['roam', 'sprinkle'] # Day4\n",
    "\n",
    "subset_includelist = hardcoded_params.decoder_building_session_names\n",
    "print(f'subset_includelist: {subset_includelist}')"
   ]
  },
  {
   "cell_type": "code",
   "execution_count": null,
   "id": "39e400f3",
   "metadata": {
    "tags": [
     "active-2025-09-21"
    ]
   },
   "outputs": [],
   "source": [
    "# display_fn_kwargs = dict(subplots=(None, 9))\n",
    "display_fn_kwargs = dict(subplots=(None, 5))\n",
    "\n",
    "# _out = dict()\n",
    "# _out['_display_2d_placefield_result_plot_ratemaps_2D'] = curr_active_pipeline.display(display_function='_display_2d_placefield_result_plot_ratemaps_2D', active_session_configuration_context=IdentifyingContext(format_name='bapun',animal='RatS',session_name='Day5TwoNovel',filter_name='maze1'), **display_fn_kwargs) # _display_2d_placefield_result_plot_ratemaps_2D\n",
    "# _out['_display_2d_placefield_result_plot_ratemaps_2D'] = curr_active_pipeline.display(display_function='_display_2d_placefield_result_plot_ratemaps_2D', active_session_configuration_context=IdentifyingContext(format_name='bapun',animal='RatS',session_name='Day5TwoNovel',filter_name='maze2'), **display_fn_kwargs) # _display_2d_placefield_result_plot_ratemaps_2D\n"
   ]
  },
  {
   "cell_type": "code",
   "execution_count": null,
   "id": "af1a03d6",
   "metadata": {
    "tags": [
     "active-2025-09-21"
    ]
   },
   "outputs": [],
   "source": [
    "_out_list = programmatic_render_to_file(curr_active_pipeline=curr_active_pipeline, curr_display_function_name='_display_2d_placefield_result_plot_ratemaps_2D', subset_includelist=subset_includelist, \n",
    "                                        write_vector_format=True, write_png=True, debug_print=True, **display_fn_kwargs)\n"
   ]
  },
  {
   "cell_type": "code",
   "execution_count": null,
   "id": "f90a3369",
   "metadata": {
    "tags": [
     "active-2025-09-21"
    ]
   },
   "outputs": [],
   "source": [
    "_out_list = programmatic_render_to_file(curr_active_pipeline=curr_active_pipeline, curr_display_function_name='_display_2d_placefield_occupancy', subset_includelist=subset_includelist, \n",
    "                                        write_vector_format=True, write_png=True, debug_print=True)\n"
   ]
  },
  {
   "cell_type": "markdown",
   "id": "e986bdeb",
   "metadata": {},
   "source": [
    "# 3D Behavior Vis"
   ]
  },
  {
   "cell_type": "code",
   "execution_count": null,
   "id": "619264b3",
   "metadata": {},
   "outputs": [],
   "source": [
    "curr_active_pipeline.reload_default_display_functions()"
   ]
  },
  {
   "cell_type": "code",
   "execution_count": null,
   "id": "11c3793e",
   "metadata": {},
   "outputs": [],
   "source": [
    "_out = dict()\n",
    "_out['_display_3d_interactive_spike_and_behavior_browser'] = curr_active_pipeline.display(display_function='_display_3d_interactive_spike_and_behavior_browser', active_session_configuration_context=IdentifyingContext(format_name='bapun',animal='RatS',session_name='Day5TwoNovel',filter_name='maze1')) # _display_3d_interactive_spike_and_behavior_browser\n"
   ]
  },
  {
   "cell_type": "markdown",
   "id": "c7a240b9",
   "metadata": {},
   "source": [
    "## `Spike3DRasterWindowWidget` Cell"
   ]
  },
  {
   "cell_type": "code",
   "execution_count": null,
   "id": "03f8b0e1",
   "metadata": {},
   "outputs": [],
   "source": [
    "from neuropy.utils.mixins.time_slicing import TimeColumnAliasesProtocol\n",
    "from neuropy.core.flattened_spiketrains import SpikesAccessor\n",
    "\n",
    "active_spikes_df = deepcopy(curr_active_pipeline.sess.spikes_df)\n",
    "\n",
    "# INLINEING `build_spikes_data_values_from_df`: ______________________________________________________________________ #\n",
    "# curr_spike_x, curr_spike_y, curr_spike_pens, all_scatterplot_tooltips_kwargs, all_spots, curr_n = cls.build_spikes_data_values_from_df(spikes_df, config_fragile_linear_neuron_IDX_map, is_spike_included=is_spike_included, should_return_data_tooltips_kwargs=should_return_data_tooltips_kwargs, **kwargs)\n",
    "# All units at once approach:\n",
    "active_time_variable_name = active_spikes_df.spikes.time_variable_name\n",
    "print(f'active_time_variable_name: {active_time_variable_name}')\n",
    "if active_time_variable_name != 't': \n",
    "    active_spikes_df = TimeColumnAliasesProtocol.renaming_synonym_columns_if_needed(active_spikes_df, required_columns_synonym_dict={\"t\":{active_time_variable_name,'t_rel_seconds', 't_seconds'}})\n",
    "    active_spikes_df = active_spikes_df.drop(columns=[active_time_variable_name], inplace=False) ## drop the old column    \n",
    "    active_time_variable_name = 't' ## get the new one\n",
    "    active_spikes_df.spikes.set_time_variable_name('t')\n",
    "    # default_datapoint_column_names = [active_spikes_df.spikes.time_variable_name, 'aclu', 'fragile_linear_neuron_IDX']\n",
    "    # active_datapoint_column_names = default_datapoint_column_names\n",
    "    active_spikes_df\n",
    "    \n",
    "# active_spikes_df.spikes.time_variable_name\n",
    "# active_spikes_df"
   ]
  },
  {
   "cell_type": "code",
   "execution_count": null,
   "id": "1d2b66c3",
   "metadata": {},
   "outputs": [],
   "source": [
    "# Copy only the relevent columns so filtering is easier:\n",
    "filtered_spikes_df = active_spikes_df[[active_time_variable_name, 'visualization_raster_y_location',  'visualization_raster_emphasis_state', 'aclu', 'fragile_linear_neuron_IDX']].copy()\n",
    "\n",
    "# active_spikes_df.spikes.time_variable_name,\n",
    "# 't_seconds'\n",
    "\n",
    "filtered_spikes_df"
   ]
  },
  {
   "cell_type": "code",
   "execution_count": null,
   "id": "650eea58",
   "metadata": {
    "tags": [
     "all",
     "spike_raster_window",
     "display",
     "gui",
     "run-spike_raster_window_test"
    ]
   },
   "outputs": [],
   "source": [
    "from pyphoplacecellanalysis.GUI.PyQtPlot.Widgets.SpikeRasterWidgets.Spike2DRaster import Spike2DRaster\n",
    "# from pyphoplacecellanalysis.SpecificResults.PendingNotebookCode import _setup_spike_raster_window_for_debugging\n",
    "from pyphoplacecellanalysis.GUI.PyQtPlot.Widgets.Mixins.Render2DScrollWindowPlot import ScatterItemData\n",
    "from pyphoplacecellanalysis.SpecificResults.PendingNotebookCode import Spike3DRasterWindowWidget # used in `NewSimpleRaster`\n",
    "\n",
    "# Gets the existing SpikeRasterWindow or creates a new one if one doesn't already exist:\n",
    "# spike_raster_window, (active_2d_plot, active_3d_plot, main_graphics_layout_widget, main_plot_widget, background_static_scroll_plot_widget) = Spike3DRasterWindowWidget.find_or_create_if_needed(curr_active_pipeline, force_create_new=True, allow_replace_hardcoded_main_plots_with_tracks=True)\n",
    "# spike_raster_window, (active_2d_plot, active_3d_plot, main_graphics_layout_widget, main_plot_widget, background_static_scroll_plot_widget) = Spike3DRasterWindowWidget.find_or_create_if_needed(curr_active_pipeline, force_create_new=False, allow_replace_hardcoded_main_plots_with_tracks=True)\n",
    "# spike_raster_window, (active_2d_plot, active_3d_plot, *_all_outputs_dict) = Spike3DRasterWindowWidget.find_or_create_if_needed(curr_active_pipeline, force_create_new=False, allow_replace_hardcoded_main_plots_with_tracks=True)\n",
    "spike_raster_window, (active_2d_plot, active_3d_plot, *_all_outputs_dict) = Spike3DRasterWindowWidget.find_or_create_if_needed(curr_active_pipeline, force_create_new=True, allow_replace_hardcoded_main_plots_with_tracks=True)"
   ]
  },
  {
   "cell_type": "code",
   "execution_count": null,
   "id": "170607c8",
   "metadata": {},
   "outputs": [],
   "source": [
    "# preview_overview_scatter_plot: pg.ScatterPlotItem  = active_2d_plot.plots.preview_overview_scatter_plot # ScatterPlotItem \n",
    "# preview_overview_scatter_plot.setDownsampling(auto=True, method='subsample', dsRate=10)\n",
    "main_graphics_layout_widget: pg.GraphicsLayoutWidget = active_2d_plot.ui.main_graphics_layout_widget\n",
    "wrapper_layout: pg.QtWidgets.QVBoxLayout = active_2d_plot.ui.wrapper_layout\n",
    "main_content_splitter = active_2d_plot.ui.main_content_splitter # QSplitter\n",
    "layout = active_2d_plot.ui.layout\n",
    "background_static_scroll_window_plot = active_2d_plot.plots.background_static_scroll_window_plot # PlotItem\n",
    "main_plot_widget = active_2d_plot.plots.main_plot_widget # PlotItem\n",
    "active_window_container_layout = active_2d_plot.ui.active_window_container_layout # GraphicsLayout, first item of `main_graphics_layout_widget` -- just the active raster window I think, there is a strange black space above it"
   ]
  },
  {
   "cell_type": "markdown",
   "id": "6a791da0",
   "metadata": {},
   "source": [
    "## Create a comment/annotation track\n"
   ]
  },
  {
   "cell_type": "code",
   "execution_count": null,
   "id": "5864c329",
   "metadata": {},
   "outputs": [],
   "source": [
    "from pyphoplacecellanalysis.GUI.PyQtPlot.Widgets.SpikeRasterWidgets.Spike2DRaster import SynchronizedPlotMode\n",
    "from pyphoplacecellanalysis.GUI.PyQtPlot.Widgets.GraphicsWidgets.CustomGraphicsLayoutWidget import CustomGraphicsLayoutWidget, CustomViewBox\n",
    "from pyphoplacecellanalysis.Pho2D.PyQtPlots.TimeSynchronizedPlotters.PyqtgraphTimeSynchronizedWidget import PyqtgraphTimeSynchronizedWidget\n",
    "\n",
    "# a_time_sync_pyqtgraph_widget, root_graphics_layout_widget, plot_item, dDisplayItem = active_2d_plot.add_new_embedded_pyqtgraph_render_plot_widget(name='annotation_track', dockSize=(500,50), sync_mode=SynchronizedPlotMode.NO_SYNC)\n",
    "a_time_sync_pyqtgraph_widget, root_graphics_layout_widget, plot_item, dDisplayItem = active_2d_plot.add_new_embedded_pyqtgraph_render_plot_widget(name='annotation_track', dockSize=(500,50), sync_mode=SynchronizedPlotMode.TO_WINDOW)"
   ]
  },
  {
   "cell_type": "code",
   "execution_count": null,
   "id": "ce85a7a8",
   "metadata": {},
   "outputs": [],
   "source": [
    "a_time_sync_pyqtgraph_widget: PyqtgraphTimeSynchronizedWidget = a_time_sync_pyqtgraph_widget"
   ]
  },
  {
   "cell_type": "code",
   "execution_count": null,
   "id": "5928e21b",
   "metadata": {},
   "outputs": [],
   "source": [
    "vb: CustomViewBox = plot_item.getViewBox()\n",
    "vb\n",
    "((xmin, xmax), (ymin, ymax)) = vb.viewRange()\n",
    "xrange: float = xmax - xmin\n",
    "yrange: float = ymax - ymin\n",
    "\n",
    "\n",
    "item_start_t: float = xmin + (xrange * 0.1) # 10% offset\n",
    "item_start_y: float = ymin + (yrange * 0.2) # 20% y-offset\n",
    "\n",
    "## OUTPUTS: item_start_t, item_start_y\n",
    "(item_start_t, item_start_y)\n"
   ]
  },
  {
   "cell_type": "code",
   "execution_count": null,
   "id": "7ede01e9",
   "metadata": {},
   "outputs": [],
   "source": [
    "a_time_sync_pyqtgraph_widget."
   ]
  },
  {
   "cell_type": "code",
   "execution_count": null,
   "id": "ca7a85c6",
   "metadata": {},
   "outputs": [],
   "source": [
    "vb.enableAutoRange(axis=vb.YAxis, enable=True)\n",
    "\n",
    "\n"
   ]
  },
  {
   "cell_type": "code",
   "execution_count": null,
   "id": "76086a9f",
   "metadata": {},
   "outputs": [],
   "source": [
    "vb.autoRange(items=_out_tuple)"
   ]
  },
  {
   "cell_type": "code",
   "execution_count": null,
   "id": "a2362fe6",
   "metadata": {},
   "outputs": [],
   "source": [
    "# a_time_sync_pyqtgraph_widget"
   ]
  },
  {
   "cell_type": "code",
   "execution_count": null,
   "id": "1b220e0d",
   "metadata": {},
   "outputs": [],
   "source": [
    "from pyphoplacecellanalysis.GUI.PyQtPlot.Widgets.GraphicsObjects.IntervalRectsItem import IntervalRectsItem\n",
    "\n",
    "active_interval_rects_item = IntervalRectsItem(data)\n",
    "\n",
    "## Add the active_interval_rects_item to the main_plot_widget: \n",
    "main_plot_widget = spike_raster_window.spike_raster_plt_2d.plots.main_plot_widget # PlotItem\n",
    "main_plot_widget.addItem(active_interval_rects_item)\n",
    "\n",
    "## Remove the active_interval_rects_item:\n",
    "main_plot_widget.removeItem(active_interval_rects_item)\n",
    "\n",
    "self.label = InfLineLabel(self, text=label, **labelOpts)\n"
   ]
  },
  {
   "cell_type": "code",
   "execution_count": null,
   "id": "12b1fb63",
   "metadata": {},
   "outputs": [],
   "source": [
    "plot = plot_item\n",
    "\n",
    "# x = np.linspace(-20, 20, 1000)\n",
    "# y = np.sin(x) / x\n",
    "# # plot = pg.plot()   ## create an empty plot widget\n",
    "# plot.setYRange(-1, 2)\n",
    "# curve = plot.plot(x,y)  ## add a single curve\n",
    "\n",
    "# item_start_y: float = y.max()\n",
    "## INPUTS: item_start_y\n",
    "\n",
    "@define(slots=False)\n",
    "class LabelScrollItems:\n",
    "    labels: List[pg.TextItem] = field(default=Factory(list))\n",
    "    \n",
    "    def add_text_item(self, plot, item_start_t: float, item_start_y: float, text: str, html: Optional[str]=None, angle=0, border='w', fill=(0, 0, 255, 100)):\n",
    "        anchor = (-0.3,0.5)\n",
    "        \n",
    "        ## Create text object, use HTML tags to specify color/size\n",
    "        if html is None:\n",
    "            ## build HTML\n",
    "            html = f'<div style=\"text-align: center\"><span style=\"color: #FFF;\">{text}</span></div>'\n",
    "        text_item = pg.TextItem(html=html, anchor=anchor, angle=angle, border=border, fill=fill)\n",
    "        plot.addItem(text_item)\n",
    "        text_item.setPos(item_start_t, item_start_y)\n",
    "        print(text_item.boundingRect())\n",
    "        \n",
    "        self.labels.append(text_item)\n",
    "        # ## Draw an arrowhead next to the text box\n",
    "        # arrow_item = pg.ArrowItem(pos=(item_start_t, item_start_y), angle=(-1 * angle))\n",
    "        # plot.addItem(arrow_item)\n",
    "        \n",
    "        arrow_item = None\n",
    "        \n",
    "        return (text_item, arrow_item)\n",
    "\n",
    "\n",
    "text_items_list = [\n",
    "    dict(item_start_t = (xmin + (xrange * 0.1)), item_start_y = (ymin + (yrange * 0.2)), text='This is the</span><br><span style=\"color: #FF0; font-size: 16pt;\">PEAK'),\n",
    "    dict(item_start_t = (xmin + (xrange * 0.3)), item_start_y = (ymin + (yrange * 0.2)), text='This is a very long comment describing something in detail.'),\n",
    "]\n",
    "\n",
    "out_list = []\n",
    "for an_item_dict in text_items_list:\n",
    "    _out_tuple = add_text_item(plot, **an_item_dict)\n",
    "    out_list.append(_out_tuple)\n"
   ]
  },
  {
   "cell_type": "code",
   "execution_count": null,
   "id": "10c31758",
   "metadata": {},
   "outputs": [],
   "source": [
    "from pyphoplacecellanalysis.External.pyqtgraph_extensions.graphicsItems.TextItem.AlignableTextItem import CustomRectBoundedTextItem\n",
    "from pyphoplacecellanalysis.GUI.PyQtPlot.Widgets.GraphicsObjects.IntervalRectsItem import IntervalRectsItem, main2\n",
    "\n",
    "plt, item, legend = main2()"
   ]
  },
  {
   "cell_type": "code",
   "execution_count": null,
   "id": "6ac46dd6",
   "metadata": {},
   "outputs": [],
   "source": [
    "from PyQt5.QtGui import QFontMetricsF, QFont\n",
    "from PyQt5.QtCore import QRectF\n",
    "from pyphocorehelpers.gui.Qt.widget_positioning_helpers import WidgetGeometryInfo\n",
    "\n",
    "widget_info = []\n",
    "labels = item._labels\n",
    "for i, a_label in enumerate(labels):\n",
    "    req_avail_size_diff = a_label.req_avail_size_diff()\n",
    "    needs_width = (req_avail_size_diff.width() < 0.0)\n",
    "    needs_height = (req_avail_size_diff.height() < 0.0)\n",
    "\n",
    "    # req_avail_size_diff\n",
    "    # a_label.getPos()\n",
    "    # a_label._bounds\n",
    "    \n",
    "    # an_info = WidgetGeometryInfo.init_from_widget(a_label)\n",
    "    a_text_item = a_label.textItem\n",
    "    a_text_item.boundingRect()\n",
    "    a_text_item.pos()\n",
    "    # a_text_item.dumpObjectTree()\n",
    "    a_text_item.dumpObjectInfo()\n",
    "    \n",
    "    # widget_info.append(a_label.textItem)\n",
    "    # widget_info.append(an_info)\n",
    "    # # required_text_size = a_label.required_text_size()\n",
    "    # full_required_text_size = a_label.compute_required_full_text_rect(a_label.original_text).size()\n",
    "    # # full_required_text_size\n",
    "    # full_required_text_size_data_coords = a_label.toDataCoords(full_required_text_size)\n",
    "    \n",
    "    # print(f'full_required_text_size: {full_required_text_size}, full_required_text_size_data_coords: {full_required_text_size_data_coords}')\n",
    "    \n",
    "    # if needs_height:\n",
    "    #     print(f'needs_height: {needs_height}')\n",
    "    #     original_text_lines = a_label.original_text.split('\\n')\n",
    "    #     original_n_lines: int = len(original_text_lines)\n",
    "    #     original_n_lines\n",
    "\n",
    "    #     active_text_lines = a_label.toPlainText().split('\\n')\n",
    "    #     active_n_lines: int = len(active_text_lines)\n",
    "    #     active_n_lines\n",
    "        \n",
    "    #     active_line_height: float = float(full_required_text_size.height()) / float(active_n_lines)\n",
    "    #     active_line_height\n",
    "    \n",
    "\n",
    "    \n",
    "    \n",
    "    \n",
    "\n",
    "    \n",
    "    # a_rect = a_label._parent_rect\n",
    "    # a_center_point = a_rect.center()\n",
    "    # a_label.needs_additional_size()\n",
    "    # a_label.setAnchor(pg.Point(0.5, 0.5))\n",
    "    # a_label.setText(f'TEST_ITEM[{i}]')\n",
    "    # a_label.setPos(a_label._parent_rect.x(), a_label._parent_rect.y())\n",
    "    # a_label.setPos(a_center_point.x(), a_center_point.y())\n",
    "    # a_rect\n",
    "    \n",
    "widget_info\n"
   ]
  },
  {
   "cell_type": "code",
   "execution_count": null,
   "id": "80d6bc5e",
   "metadata": {},
   "outputs": [],
   "source": [
    "# a_label.boundingRect()\n",
    "# a_label.width()\n",
    "\n",
    "# print_keys_if_possible('a_label', a_label, max_depth=2)\n",
    "\n",
    "print_keys_if_possible('a_label.textItem', a_label.textItem, max_depth=2)\n"
   ]
  },
  {
   "cell_type": "code",
   "execution_count": null,
   "id": "cc098dcd",
   "metadata": {},
   "outputs": [],
   "source": [
    "# font = QFont()\n",
    "font = a_label.textItem.font()\n",
    "metrics = QFontMetricsF(font)\n",
    "text = \"Hello World\"\n",
    "rect = metrics.boundingRect(QRectF(), 0, text)\n",
    "rect"
   ]
  },
  {
   "cell_type": "code",
   "execution_count": null,
   "id": "867589ee",
   "metadata": {},
   "outputs": [],
   "source": []
  },
  {
   "cell_type": "code",
   "execution_count": null,
   "id": "88df7869",
   "metadata": {},
   "outputs": [],
   "source": [
    "# required_rect = a_label.boundingRect()\n",
    "required_rect = a_label.required_text_rect()\n",
    "required_rect"
   ]
  },
  {
   "cell_type": "code",
   "execution_count": null,
   "id": "8e6fb797",
   "metadata": {},
   "outputs": [],
   "source": [
    "required_text_size = a_label.required_text_size()\n",
    "\n",
    "available_size = a_label._parent_rect.size()\n",
    "\n",
    "\n",
    "req_available_size_diff = ((available_size.width() - required_text_size.width()), (available_size.height() - required_text_size.height()))\n",
    "if req_available_size_diff[0] < 0.0:\n",
    "\t"
   ]
  },
  {
   "cell_type": "code",
   "execution_count": null,
   "id": "418fd695",
   "metadata": {},
   "outputs": [],
   "source": [
    "# local bounding rect\n",
    "br = a_label.boundingRect()\n",
    "\n",
    "# map its corners into data coords\n",
    "p1 = a_label.mapToParent(br.topLeft())\n",
    "p2 = a_label.mapToParent(br.bottomRight())\n",
    "\n",
    "data_rect = pg.QtCore.QRectF(p1, p2).normalized()\n",
    "print(data_rect)"
   ]
  },
  {
   "cell_type": "code",
   "execution_count": null,
   "id": "89daa3ab",
   "metadata": {},
   "outputs": [],
   "source": [
    "# a_center_point = a_label._parent_rect.center()\n",
    "a_rect.width()\n",
    "a_label.width()\n"
   ]
  },
  {
   "cell_type": "code",
   "execution_count": null,
   "id": "ed5afb66",
   "metadata": {},
   "outputs": [],
   "source": [
    "(a_label._parent_rect.x(), a_label._parent_rect.y())\n"
   ]
  },
  {
   "cell_type": "code",
   "execution_count": null,
   "id": "e3b1bece",
   "metadata": {},
   "outputs": [],
   "source": [
    "a_label.pos()\n",
    "\n",
    "a_label.getViewBox().rect()\n",
    "\n",
    "a_label.setPos(40.2, 1.5)\n",
    "a_label.setText('TEST_ITEM[0]')"
   ]
  },
  {
   "cell_type": "code",
   "execution_count": null,
   "id": "e5bc1f0a",
   "metadata": {},
   "outputs": [],
   "source": [
    "a_label.anchor \n",
    "\n",
    "\n"
   ]
  },
  {
   "cell_type": "code",
   "execution_count": null,
   "id": "369f46ca",
   "metadata": {},
   "outputs": [],
   "source": [
    "\n",
    "class_parts: List[str] = str(item.__class__).strip('<class').strip('>').strip(' ').strip(\"'\").split('.')\n",
    "class_name: str = class_parts[-1]\n",
    "class_path: str = '.'.join(class_parts[:-1])\n",
    "\n",
    "class_name\n",
    "class_path\n",
    "\n",
    "\n",
    "# type(item)\n"
   ]
  },
  {
   "cell_type": "code",
   "execution_count": null,
   "id": "a5af96b3",
   "metadata": {},
   "outputs": [],
   "source": [
    "## Create a subclass of GraphicsObject.\n",
    "## The only required methods are paint() and boundingRect() \n",
    "## (see QGraphicsItem documentation)\n",
    "class CandlestickItem(pg.GraphicsObject):\n",
    "    def __init__(self, data):\n",
    "        pg.GraphicsObject.__init__(self)\n",
    "        self.data = data  ## data must have fields: time, open, close, min, max\n",
    "        self.generatePicture()\n",
    "    \n",
    "    def generatePicture(self):\n",
    "        ## pre-computing a QPicture object allows paint() to run much more quickly, \n",
    "        ## rather than re-drawing the shapes every time.\n",
    "        self.picture = QtGui.QPicture()\n",
    "        p = QtGui.QPainter(self.picture)\n",
    "        p.setPen(pg.mkPen('w'))\n",
    "        w = (self.data[1][0] - self.data[0][0]) / 3.\n",
    "        for (t, open, close, min, max) in self.data:\n",
    "            p.drawLine(QtCore.QPointF(t, min), QtCore.QPointF(t, max))\n",
    "            if open > close:\n",
    "                p.setBrush(pg.mkBrush('r'))\n",
    "            else:\n",
    "                p.setBrush(pg.mkBrush('g'))\n",
    "            p.drawRect(QtCore.QRectF(t-w, open, w*2, close-open))\n",
    "        p.end()\n",
    "    \n",
    "    def paint(self, p, *args):\n",
    "        p.drawPicture(0, 0, self.picture)\n",
    "    \n",
    "    def boundingRect(self):\n",
    "        ## boundingRect _must_ indicate the entire area that will be drawn on\n",
    "        ## or else we will get artifacts and possibly crashing.\n",
    "        ## (in this case, QPicture does all the work of computing the bouning rect for us)\n",
    "        return QtCore.QRectF(self.picture.boundingRect())\n",
    "\n",
    "data = [  ## fields are (time, open, close, min, max).\n",
    "    (1., 10, 13, 5, 15),\n",
    "    (2., 13, 17, 9, 20),\n",
    "    (3., 17, 14, 11, 23),\n",
    "    (4., 14, 15, 5, 19),\n",
    "    (5., 15, 9, 8, 22),\n",
    "    (6., 9, 15, 8, 16),\n",
    "]\n",
    "item = CandlestickItem(data)\n",
    "plot.addItem(item)\n"
   ]
  },
  {
   "cell_type": "code",
   "execution_count": null,
   "id": "d7d80aa5",
   "metadata": {},
   "outputs": [],
   "source": []
  },
  {
   "cell_type": "code",
   "execution_count": null,
   "id": "d89f8e55",
   "metadata": {},
   "outputs": [],
   "source": []
  },
  {
   "cell_type": "code",
   "execution_count": null,
   "id": "dc027449",
   "metadata": {},
   "outputs": [],
   "source": []
  },
  {
   "cell_type": "code",
   "execution_count": null,
   "id": "68c979d3",
   "metadata": {},
   "outputs": [],
   "source": [
    "print_keys_if_possible('active_2d_plot', active_2d_plot, max_depth=1)"
   ]
  },
  {
   "cell_type": "code",
   "execution_count": null,
   "id": "3f6b1577",
   "metadata": {},
   "outputs": [],
   "source": [
    "type(active_2d_plot)"
   ]
  },
  {
   "cell_type": "code",
   "execution_count": null,
   "id": "7793e3b8",
   "metadata": {},
   "outputs": [],
   "source": [
    "active_2d_plot.ui\n"
   ]
  },
  {
   "cell_type": "code",
   "execution_count": null,
   "id": "06b71f8a",
   "metadata": {},
   "outputs": [],
   "source": [
    "print_keys_if_possible('active_2d_plot.ui', active_2d_plot.ui, max_depth=2)"
   ]
  },
  {
   "cell_type": "code",
   "execution_count": null,
   "id": "09fdb47f",
   "metadata": {},
   "outputs": [],
   "source": [
    "type(spike_raster_window)"
   ]
  },
  {
   "cell_type": "code",
   "execution_count": null,
   "id": "122d8626",
   "metadata": {},
   "outputs": [],
   "source": [
    "spike_raster_window.ui.wrapper"
   ]
  },
  {
   "cell_type": "code",
   "execution_count": null,
   "id": "dcbf2ad1",
   "metadata": {},
   "outputs": [],
   "source": [
    "active_2d_plot.add_docked_marginal_track(curr_active_pipeline.sess.epochs)\n",
    "    "
   ]
  },
  {
   "cell_type": "code",
   "execution_count": null,
   "id": "9f92899e",
   "metadata": {},
   "outputs": [],
   "source": [
    "# active_2d_plot.list_all_rendered_intervals()\n",
    "active_2d_plot.add_laps_intervals(curr_active_pipeline.sess)\n",
    "\n",
    "active_2d_plot.add_rendered_intervals()\n",
    "\n"
   ]
  },
  {
   "cell_type": "code",
   "execution_count": null,
   "id": "eb66e24c",
   "metadata": {},
   "outputs": [],
   "source": [
    "# curr_active_pipeline.sess.epochs\n",
    "\n",
    "\n"
   ]
  },
  {
   "cell_type": "code",
   "execution_count": null,
   "id": "56888f48",
   "metadata": {},
   "outputs": [],
   "source": [
    "from pyphoplacecellanalysis.GUI.PyQtPlot.Widgets.Mixins.RenderTimeEpochs.Specific2DRenderTimeEpochs import SessionEpochs2DRenderTimeEpochs\n",
    "from neuropy.core.epoch import ensure_dataframe, ensure_Epoch, Epoch, EpochsAccessor\n",
    "# SessionEpochs2DRenderTimeEpochs.add_render_time_epochs(curr_sess=curr_active_pipeline.sess.epochs, destination_plot=active_2d_plot)\n",
    "\n",
    "active_ds = ensure_dataframe(curr_active_pipeline.sess.epochs)\n",
    "active_ds\n",
    "\n",
    "_out = active_2d_plot.add_rendered_intervals(active_ds, 'SessionEpochs')\n",
    "\n",
    "# num_epochs = len(curr_active_pipeline.sess.epochs)\n",
    "\n",
    "# pen_colors = {'pre': pg.mkColor('purple'), 'roam': pg.mkColor('red'), 'sprinkle': pg.mkColor('red'), 'post': pg.mkColor('purple')}\n",
    "# brush_colors = {'pre': pg.mkColor('purple'), 'roam': pg.mkColor('red'), 'sprinkle': pg.mkColor('red'), 'post': pg.mkColor('purple')}\n",
    "\n",
    "# pen_color = list(pen_colors.values())\n",
    "# brush_color = list(brush_colors.values())\n",
    "# for a_pen_color in pen_color:\n",
    "#     a_pen_color.setAlphaF(0.8)\n",
    "\n",
    "# for a_brush_color in brush_color:\n",
    "#     a_brush_color.setAlphaF(0.5)\n",
    "\n",
    "\n",
    "# active_df = cls._update_df_visualization_columns(active_df, y_location, height, pen_color, brush_color, **kwargs)\n"
   ]
  },
  {
   "cell_type": "code",
   "execution_count": null,
   "id": "d5bc9a41",
   "metadata": {},
   "outputs": [],
   "source": [
    "active_2d_plot.rendered_epochs\n"
   ]
  },
  {
   "cell_type": "code",
   "execution_count": null,
   "id": "571754a2",
   "metadata": {},
   "outputs": [],
   "source": [
    "active_ds = ensure_dataframe(curr_active_pipeline.sess.epochs)\n",
    "global_epoch_only = ensure_Epoch(active_ds[active_ds['label'] == 'maze_GLOBAL'])\n",
    "global_epoch_only\n",
    "\n",
    "curr_active_pipeline.sess\n",
    "sess.position"
   ]
  },
  {
   "cell_type": "markdown",
   "id": "a359264c",
   "metadata": {},
   "source": [
    "## 2025-09-19 - Add Session Paradigm Epochs with a different color for each session"
   ]
  },
  {
   "cell_type": "code",
   "execution_count": null,
   "id": "79e07415",
   "metadata": {},
   "outputs": [],
   "source": [
    "from pyphoplacecellanalysis.GUI.PyQtPlot.Widgets.GraphicsWidgets.EpochsEditorItem import EpochsEditor # perform_plot_laps_diagnoser\n",
    "import matplotlib.pyplot as plt\n",
    "from pyphocorehelpers.gui.Qt.color_helpers import ColormapHelpers, ColorFormatConverter\n",
    "\n",
    "def generate_colors(n_epoch):\n",
    "    cmap = plt.get_cmap('tab20', n_epoch)\n",
    "    return [plt.matplotlib.colors.rgb2hex(cmap(i)) for i in range(n_epoch)]\n",
    "\n",
    "\n",
    "\n",
    "sess = curr_active_pipeline.sess # global_session\n",
    "\n",
    "# pos_df = sess.compute_position_laps() # ensures the laps are computed if they need to be:\n",
    "position_obj = deepcopy(sess.position)\n",
    "position_obj.compute_higher_order_derivatives()\n",
    "pos_df = position_obj.compute_smoothed_position_info(N=20) ## Smooth the velocity curve to apply meaningful logic to it\n",
    "pos_df = position_obj.to_dataframe()\n",
    "# Drop rows with missing data in columns: 't', 'velocity_x_smooth' and 2 other columns. This occurs from smoothing\n",
    "pos_df = pos_df.dropna(subset=['t', 'x_smooth', 'velocity_x_smooth', 'acceleration_x_smooth']).reset_index(drop=True)\n",
    "# curr_laps_df = sess.laps.to_dataframe()\n",
    "\n",
    "curr_paradigm_df = ensure_dataframe(sess.paradigm)\n",
    "curr_paradigm_df = curr_paradigm_df[np.logical_not(np.isin(curr_paradigm_df['label'], ['maze_GLOBAL', 'maze']))] ## exclude the global epoch\n",
    "n_epochs: int = len(curr_paradigm_df)\n",
    "# epoch_color_strs: List[str] = generate_colors(n_epochs)\n",
    "epoch_color_strs: List[str] = [ColorFormatConverter.qColor_to_hexstring(v, include_alpha=False) for v in ColormapHelpers.mpl_to_pg_colormap(mpl_cmap_name='tab20', resolution=n_epochs).getColors(mode='qcolor')]\n",
    "curr_paradigm_df['lap_color'] = \"#10FF44\"\n",
    "curr_paradigm_df['lap_color'] = epoch_color_strs\n",
    "curr_paradigm_df['lap_accent_color'] = '#FFFFFF'\n",
    "curr_paradigm_df\n",
    "## Create a new window:\n",
    "custom_epoch_label_kwargs = dict(epoch_label_position=0.05, epoch_label_rotateAxis=(0,0), epoch_label_anchor=(0.0, 1.0))\n",
    "epochs_editor = EpochsEditor.init_laps_diagnoser(pos_df, curr_paradigm_df, include_velocity=False, include_accel=False, span=(0.05, 0.95), movable=False, **custom_epoch_label_kwargs)"
   ]
  },
  {
   "cell_type": "code",
   "execution_count": null,
   "id": "b05d7666",
   "metadata": {},
   "outputs": [],
   "source": [
    "epochs_editor.plots\n",
    "# epochs_editor.rebuild_epoch_regions()\n",
    "\n"
   ]
  },
  {
   "cell_type": "code",
   "execution_count": null,
   "id": "7118bc29",
   "metadata": {},
   "outputs": [],
   "source": [
    "active_2d_plot.plots.main_plot_widget\n",
    "\n",
    "main_plot_widget = active_2d_plot.plots.main_plot_widget # PlotItem\n",
    "main_plot_widget.setMinimumHeight(20.0)\n"
   ]
  },
  {
   "cell_type": "code",
   "execution_count": null,
   "id": "cf9cf1e6",
   "metadata": {},
   "outputs": [],
   "source": [
    "# active_window_container_layout\n",
    "# main_graphics_layout_widget.ci # GraphicsLayout\n",
    "main_graphics_layout_widget.ci.childItems()\n",
    "# main_graphics_layout_widget.setHidden(True) ## hides too much\n",
    "main_graphics_layout_widget.setHidden(False)\n",
    "\n",
    "# main_graphics_layout_widget\n",
    "\n",
    "active_window_container_layout.setBorder(pg.mkPen('yellow', width=4.5))"
   ]
  },
  {
   "cell_type": "code",
   "execution_count": null,
   "id": "7399378b",
   "metadata": {},
   "outputs": [],
   "source": [
    "# active_window_container_layout.allChildItems()\n",
    "active_window_container_layout.setPreferredHeight(200.0)\n",
    "active_window_container_layout.setMaximumHeight(800.0)\n",
    "active_window_container_layout.setSpacing(0)"
   ]
  },
  {
   "cell_type": "code",
   "execution_count": null,
   "id": "b9a6aaae",
   "metadata": {},
   "outputs": [],
   "source": [
    "# Set stretch factors to control priority\n",
    "main_graphics_layout_widget.ci.layout.setRowStretchFactor(0, 400)  # Plot1: lowest priority\n",
    "main_graphics_layout_widget.ci.layout.setRowStretchFactor(1, 2)  # Plot2: mid priority\n",
    "main_graphics_layout_widget.ci.layout.setRowStretchFactor(2, 2)  # Plot3: highest priority\n"
   ]
  },
  {
   "cell_type": "code",
   "execution_count": null,
   "id": "229c7a34",
   "metadata": {},
   "outputs": [],
   "source": [
    "from pyphoplacecellanalysis.GUI.PyQtPlot.Widgets.ParameterTreeWidget import create_parameter_tree_widget\n",
    "# win, param_tree = create_pipeline_filter_parameter_tree()\n",
    "win, param_tree = create_parameter_tree_widget(curr_active_pipeline.get_all_parameters())\n",
    "win.show()"
   ]
  },
  {
   "cell_type": "code",
   "execution_count": null,
   "id": "2e5f61dd",
   "metadata": {
    "tags": [
     "_perform_plot_multi_decoder_meas_pred_position_track",
     "active-2025-01-16"
    ]
   },
   "outputs": [],
   "source": [
    "from pyphoplacecellanalysis.General.Pipeline.Stages.ComputationFunctions.MultiContextComputationFunctions.DirectionalPlacefieldGlobalComputationFunctions import DirectionalDecodersContinuouslyDecodedResult\n",
    "from pyphoplacecellanalysis.GUI.PyQtPlot.Widgets.SpikeRasterWidgets.Spike2DRaster import SynchronizedPlotMode\n",
    "from pyphoplacecellanalysis.General.Pipeline.Stages.DisplayFunctions.DecoderPredictionError import plot_1D_most_likely_position_comparsions\n",
    "from pyphoplacecellanalysis.General.Model.Configs.LongShortDisplayConfig import DecoderIdentityColors\n",
    "from pyphoplacecellanalysis.SpecificResults.PendingNotebookCode import _perform_plot_multi_decoder_meas_pred_position_track\n",
    "from pyphoplacecellanalysis.Analysis.Decoder.reconstruction import DecodedFilterEpochsResult\n",
    "\n",
    "## Build the new dock track:\n",
    "dock_identifier: str = 'Continuous Decoding Performance'\n",
    "ts_widget, fig, ax_list, dDisplayItem = active_2d_plot.add_new_matplotlib_render_plot_widget(name=dock_identifier)\n",
    "## Get the needed data:\n",
    "directional_decoders_decode_result: DirectionalDecodersContinuouslyDecodedResult = curr_active_pipeline.global_computation_results.computed_data['DirectionalDecodersDecoded']\n",
    "all_directional_pf1D_Decoder_dict: Dict[str, BasePositionDecoder] = directional_decoders_decode_result.pf1D_Decoder_dict\n",
    "continuously_decoded_result_cache_dict = directional_decoders_decode_result.continuously_decoded_result_cache_dict\n",
    "previously_decoded_keys: List[float] = list(continuously_decoded_result_cache_dict.keys()) # [0.03333]\n",
    "print(F'previously_decoded time_bin_sizes: {previously_decoded_keys}')\n",
    "\n",
    "time_bin_size: float = directional_decoders_decode_result.most_recent_decoding_time_bin_size\n",
    "print(f'time_bin_size: {time_bin_size}')\n",
    "continuously_decoded_dict: Dict[str, DecodedFilterEpochsResult] = directional_decoders_decode_result.most_recent_continuously_decoded_dict\n",
    "all_directional_continuously_decoded_dict: Dict[types.DecoderName, DecodedFilterEpochsResult] = {k:v for k, v in (continuously_decoded_dict or {}).items() if k in TrackTemplates.get_decoder_names()} ## what is plotted in the `f'{a_decoder_name}_ContinuousDecode'` rows by `AddNewDirectionalDecodedEpochs_MatplotlibPlotCommand`\n",
    "## OUT: all_directional_continuously_decoded_dict\n",
    "## Draw the position meas/decoded on the plot widget\n",
    "## INPUT: fig, ax_list, all_directional_continuously_decoded_dict, track_templates\n",
    "\n",
    "_out_artists =  _perform_plot_multi_decoder_meas_pred_position_track(curr_active_pipeline, fig, ax_list, desired_time_bin_size=0.058, enable_flat_line_drawing=True)\n",
    "\n",
    "\n",
    "## sync up the widgets\n",
    "active_2d_plot.sync_matplotlib_render_plot_widget(dock_identifier, sync_mode=SynchronizedPlotMode.TO_WINDOW)"
   ]
  },
  {
   "cell_type": "code",
   "execution_count": null,
   "id": "f38325e8",
   "metadata": {},
   "outputs": [],
   "source": [
    "pos_df['truth_decoder_name'] = pos_df['truth_decoder_name'].fillna('')\n",
    "pos_df"
   ]
  },
  {
   "cell_type": "code",
   "execution_count": null,
   "id": "5bed9c15",
   "metadata": {},
   "outputs": [],
   "source": [
    "decoder_color_dict: Dict[types.DecoderName, str] = DecoderIdentityColors.build_decoder_color_dict()\n",
    "\n",
    "decoded_pos_line_kwargs = dict(lw=1.0, color='gray', alpha=0.8, marker='+', markersize=6, animated=False)\n",
    "inactive_decoded_pos_line_kwargs = dict(lw=0.3, alpha=0.2, marker='.', markersize=2, animated=False)\n",
    "active_decoded_pos_line_kwargs = dict(lw=1.0, alpha=0.8, marker='+', markersize=6, animated=False)\n",
    "\n",
    "\n",
    "_out_data = {}\n",
    "_out_data_plot_kwargs = {}\n",
    "# curr_active_pipeline.global_computation_results.t\n",
    "for a_decoder_name, a_decoder in track_templates.get_decoders_dict().items():\n",
    "    a_continuously_decoded_result = all_directional_continuously_decoded_dict[a_decoder_name]\n",
    "    a_decoder_color = decoder_color_dict[a_decoder_name]\n",
    "    \n",
    "    assert len(a_continuously_decoded_result.p_x_given_n_list) == 1\n",
    "    p_x_given_n = a_continuously_decoded_result.p_x_given_n_list[0]\n",
    "    # p_x_given_n = a_continuously_decoded_result.p_x_given_n_list[0]['p_x_given_n']\n",
    "    time_bin_containers = a_continuously_decoded_result.time_bin_containers[0]\n",
    "    time_window_centers = time_bin_containers.centers\n",
    "    # p_x_given_n.shape # (62, 4, 209389)\n",
    "    a_marginal_x = a_continuously_decoded_result.marginal_x_list[0]\n",
    "    # active_time_window_variable = a_decoder.active_time_window_centers\n",
    "    active_time_window_variable = time_window_centers\n",
    "    active_most_likely_positions_x = a_marginal_x['most_likely_positions_1D'] # a_decoder.most_likely_positions[:,0].T\n",
    "    _out_data[a_decoder_name] = pd.DataFrame({'t': time_window_centers, 'x': active_most_likely_positions_x, 'binned_time': np.arange(len(time_window_centers))})\n",
    "    _out_data[a_decoder_name] = _out_data[a_decoder_name].position.adding_lap_info(laps_df=laps_df, inplace=False)\n",
    "    _out_data[a_decoder_name] = _out_data[a_decoder_name].time_point_event.adding_true_decoder_identifier(t_start=t_start, t_delta=t_delta, t_end=t_end) ## ensures ['maze_id', 'is_LR_dir']\n",
    "    _out_data[a_decoder_name]['is_active_decoder_time'] = (_out_data[a_decoder_name]['truth_decoder_name'].fillna('', inplace=False) == a_decoder_name)\n",
    "\n",
    "    # is_active_decoder_time = (_out_data[a_decoder_name]['truth_decoder_name'] == a_decoder_name)\n",
    "    active_decoder_time_points = _out_data[a_decoder_name][_out_data[a_decoder_name]['truth_decoder_name'] == a_decoder_name]['t'].to_numpy()\n",
    "    active_decoder_most_likely_positions_x = _out_data[a_decoder_name][_out_data[a_decoder_name]['truth_decoder_name'] == a_decoder_name]['x'].to_numpy()\n",
    "    active_decoder_inactive_time_points = _out_data[a_decoder_name][_out_data[a_decoder_name]['truth_decoder_name'] != a_decoder_name]['t'].to_numpy()\n",
    "    active_decoder_inactive_most_likely_positions_x = _out_data[a_decoder_name][_out_data[a_decoder_name]['truth_decoder_name'] != a_decoder_name]['x'].to_numpy()\n",
    "    ## could fill y with np.nan instead of getting shorter?\n",
    "    _out_data_plot_kwargs[a_decoder_name] = (dict(x=active_decoder_time_points, y=active_decoder_most_likely_positions_x, color=a_decoder_color, **active_decoded_pos_line_kwargs), dict(x=active_decoder_inactive_time_points, y=active_decoder_inactive_most_likely_positions_x, color=a_decoder_color, **inactive_decoded_pos_line_kwargs))\n",
    "\n",
    "_out_data_plot_kwargs"
   ]
  },
  {
   "cell_type": "code",
   "execution_count": null,
   "id": "ae8972db",
   "metadata": {},
   "outputs": [],
   "source": [
    "# _out_data[a_decoder_name] = _out_data[a_decoder_name].position.adding_lap_info(laps_df=laps_df, inplace=False)\n",
    "# _out_data[a_decoder_name] = _out_data[a_decoder_name].time_point_event.adding_true_decoder_identifier(t_start=t_start, t_delta=t_delta, t_end=t_end) ## ensures ['maze_id', 'is_LR_dir']\n",
    "\n",
    "# is_active_decoder_time = (_out_data[a_decoder_name]['truth_decoder_name'] == a_decoder_name)\n",
    "active_decoder_time_points = _out_data[a_decoder_name][_out_data[a_decoder_name]['truth_decoder_name'] == a_decoder_name]['t'].to_numpy()\n",
    "active_decoder_most_likely_positions_x = _out_data[a_decoder_name][_out_data[a_decoder_name]['truth_decoder_name'] == a_decoder_name]['x'].to_numpy()\n",
    "active_decoder_inactive_time_points = _out_data[a_decoder_name][_out_data[a_decoder_name]['truth_decoder_name'] != a_decoder_name]['t'].to_numpy()\n",
    "active_decoder_inactive_most_likely_positions_x = _out_data[a_decoder_name][_out_data[a_decoder_name]['truth_decoder_name'] != a_decoder_name]['x'].to_numpy()\n",
    "\n",
    "_out_data[a_decoder_name] = ((active_decoder_time_points, active_decoder_most_likely_positions_x), (active_decoder_inactive_time_points, active_decoder_inactive_most_likely_positions_x))\n"
   ]
  },
  {
   "cell_type": "code",
   "execution_count": null,
   "id": "d0dd7358",
   "metadata": {},
   "outputs": [],
   "source": [
    "partitioned_dfs = partition_df_dict(pos_df, partitionColumn='truth_decoder_name')\n",
    "\n",
    "a_decoder_name: str = 'short_LR'\n",
    "a_binned_time_grouped_df = partitioned_dfs[a_decoder_name].groupby('binned_time', axis='index', dropna=True)\n",
    "a_binned_time_grouped_df = a_binned_time_grouped_df.median().dropna(axis='index', subset=['x']) ## without the `.dropna(axis='index', subset=['x'])` part it gets an exhaustive df for all possible values of 'binned_time', even those not listed\n",
    "\n",
    "a_matching_binned_times = a_binned_time_grouped_df.reset_index(drop=False)['binned_time']\n",
    "a_matching_binned_times"
   ]
  },
  {
   "cell_type": "code",
   "execution_count": null,
   "id": "8f61fd43",
   "metadata": {},
   "outputs": [],
   "source": [
    "## split into two dfs for each decoder -- the supported and the unsupported\n",
    "partition\n",
    "\n",
    "PandasHelpers.safe_pandas_get_group"
   ]
  },
  {
   "cell_type": "code",
   "execution_count": null,
   "id": "c5f2e753",
   "metadata": {},
   "outputs": [],
   "source": [
    "pos_df.dropna(axis='index', subset=['lap', 'truth_decoder_name'], inplace=False)"
   ]
  },
  {
   "cell_type": "code",
   "execution_count": null,
   "id": "604e0329",
   "metadata": {},
   "outputs": [],
   "source": [
    "laps_df: pd.DataFrame = global_laps_obj.to_dataframe()"
   ]
  },
  {
   "cell_type": "code",
   "execution_count": null,
   "id": "990b67c6",
   "metadata": {},
   "outputs": [],
   "source": [
    "from neuropy.core.epoch import find_epochs_overlapping_other_epochs\n",
    "\n",
    "## INPUTS: global_laps\n",
    "_out_split_pseudo2D_posteriors_dict = {}\n",
    "_out_split_pseudo2D_out_dict = {}\n",
    "pre_filtered_col_names = ['pre_filtered_most_likely_position_indicies', 'pre_filtered_most_likely_position'] # 'pre_filtered_time_bin_containers', 'pre_filtered_p_x_given_n', \n",
    "post_filtered_col_names = [a_col_name.removeprefix('pre_filtered_') for a_col_name in pre_filtered_col_names] # ['time_bin_containers', 'most_likely_position_indicies', 'most_likely_position']\n",
    "print(post_filtered_col_names)\n",
    "for a_time_bin_size, pseudo2D_decoder_continuously_decoded_result in continuously_decoded_pseudo2D_decoder_dict.items():\n",
    "    print(f'a_time_bin_size: {a_time_bin_size}')\n",
    "    _out_split_pseudo2D_out_dict[a_time_bin_size] = {'pre_filtered_p_x_given_n': None, 'pre_filtered_time_bin_containers': None, 'pre_filtered_most_likely_position_indicies': None, 'pre_filtered_most_likely_position': None, \n",
    "                                                     'is_timebin_included': None, 'p_x_given_n': None} # , 'time_window_centers': None\n",
    "    # pseudo2D_decoder_continuously_decoded_result: DecodedFilterEpochsResult = continuously_decoded_dict.get('pseudo2D', None)\n",
    "    assert len(pseudo2D_decoder_continuously_decoded_result.p_x_given_n_list) == 1\n",
    "    p_x_given_n = pseudo2D_decoder_continuously_decoded_result.p_x_given_n_list[0]\n",
    "    # p_x_given_n = pseudo2D_decoder_continuously_decoded_result.p_x_given_n_list[0]['p_x_given_n']\n",
    "    time_bin_containers = pseudo2D_decoder_continuously_decoded_result.time_bin_containers[0]\n",
    "    # time_window_centers = time_bin_containers.centers\n",
    "    _out_split_pseudo2D_out_dict[a_time_bin_size]['pre_filtered_most_likely_position_indicies'] = deepcopy(pseudo2D_decoder_continuously_decoded_result.most_likely_position_indicies_list[0])\n",
    "    _out_split_pseudo2D_out_dict[a_time_bin_size]['pre_filtered_most_likely_position'] = deepcopy(pseudo2D_decoder_continuously_decoded_result.most_likely_positions_list[0])\n",
    "    ## INPUTS: time_bin_containers, global_laps\n",
    "    left_edges = deepcopy(time_bin_containers.left_edges)\n",
    "    right_edges = deepcopy(time_bin_containers.right_edges)\n",
    "    continuous_time_binned_computation_epochs_df: pd.DataFrame = pd.DataFrame({'start': left_edges, 'stop': right_edges, 'label': np.arange(len(left_edges))})\n",
    "    is_timebin_included: NDArray = find_epochs_overlapping_other_epochs(epochs_df=continuous_time_binned_computation_epochs_df, epochs_df_required_to_overlap=deepcopy(global_laps))\n",
    "    _out_split_pseudo2D_out_dict[a_time_bin_size]['pre_filtered_p_x_given_n'] = p_x_given_n\n",
    "    _out_split_pseudo2D_out_dict[a_time_bin_size]['pre_filtered_time_bin_containers'] = time_bin_containers\n",
    "    _out_split_pseudo2D_out_dict[a_time_bin_size]['is_timebin_included'] = is_timebin_included\n",
    "    # continuous_time_binned_computation_epochs_df['is_in_laps'] = is_timebin_included\n",
    "    ## filter by whether it's included or not:\n",
    "    p_x_given_n = p_x_given_n[:, :, is_timebin_included]\n",
    "    # time_window_centers = \n",
    "    _out_split_pseudo2D_out_dict[a_time_bin_size]['p_x_given_n'] = p_x_given_n\n",
    "    # _out_split_pseudo2D_out_dict[a_time_bin_size]['time_window_centers'] = time_window_centers[is_timebin_included]\n",
    "    # p_x_given_n.shape # (62, 4, 209389)\n",
    "\n",
    "    ## Split across the 2nd axis to make 1D posteriors that can be displayed in separate dock rows:\n",
    "    assert p_x_given_n.shape[1] == 4, f\"expected the 4 pseudo-y bins for the decoder in p_x_given_n.shape[1]. but found p_x_given_n.shape: {p_x_given_n.shape}\"\n",
    "    # split_pseudo2D_posteriors_dict = {k:np.squeeze(p_x_given_n[:, i, :]) for i, k in enumerate(('long_LR', 'long_RL', 'short_LR', 'short_RL'))}\n",
    "    _out_split_pseudo2D_posteriors_dict[a_time_bin_size] = deepcopy(p_x_given_n)\n",
    "    \n",
    "    # for a_col_name in pre_filtered_col_names:\n",
    "    #     filtered_col_name = a_col_name.removeprefix('pre_filtered_')\n",
    "    #     print(f'a_col_name: {a_col_name}, filtered_col_name: {filtered_col_name}, shape: {np.shape(_out_split_pseudo2D_out_dict[a_time_bin_size][a_col_name])}')\n",
    "    #     _out_split_pseudo2D_out_dict[a_time_bin_size][filtered_col_name] = _out_split_pseudo2D_out_dict[a_time_bin_size][a_col_name][is_timebin_included, :]\n",
    "        \n",
    "    _out_split_pseudo2D_out_dict[a_time_bin_size]['most_likely_position_indicies'] = _out_split_pseudo2D_out_dict[a_time_bin_size]['pre_filtered_most_likely_position_indicies'][:, is_timebin_included]\n",
    "    _out_split_pseudo2D_out_dict[a_time_bin_size]['most_likely_position'] = _out_split_pseudo2D_out_dict[a_time_bin_size]['pre_filtered_most_likely_position'][is_timebin_included, :]\n",
    "    \n",
    "\n",
    "p_x_given_n.shape # (n_position_bins, n_decoding_models, n_time_bins) - (57, 4, 29951)\n",
    "\n",
    "## OUTPUTS: _out_split_pseudo2D_posteriors_dict, _out_split_pseudo2D_out_dict"
   ]
  },
  {
   "cell_type": "code",
   "execution_count": null,
   "id": "a7307872",
   "metadata": {},
   "outputs": [],
   "source": [
    "from pyphoplacecellanalysis.General.Pipeline.Stages.DisplayFunctions.DecoderPredictionError import plot_most_likely_position_comparsions\n",
    "\n",
    "# fig, axs = plot_most_likely_position_comparsions(pho_custom_decoder, axs=ax, sess.position.to_dataframe())\n",
    "fig, axs = plot_most_likely_position_comparsions(computation_result.computed_data['pf2D_Decoder'], computation_result.sess.position.to_dataframe(), **overriding_dict_with(lhs_dict={'show_posterior':True, 'show_one_step_most_likely_positions_plots':True}, **kwargs))\n"
   ]
  },
  {
   "cell_type": "markdown",
   "id": "be4129c9",
   "metadata": {},
   "source": [
    "# 🖼️⚓❎ Time Synchronized Plotting with position"
   ]
  },
  {
   "cell_type": "code",
   "execution_count": null,
   "id": "9a3f834b",
   "metadata": {
    "tags": [
     "active-2025-09-21"
    ]
   },
   "outputs": [],
   "source": [
    "from pyphoplacecellanalysis.Pho2D.PyQtPlots.TimeSynchronizedPlotters.Mixins.AnimalTrajectoryPlottingMixin import AnimalTrajectoryPlottingMixin\n",
    "from pyphoplacecellanalysis.Pho2D.PyQtPlots.TimeSynchronizedPlotters.TimeSynchronizedPositionDecoderPlotter import TimeSynchronizedPositionDecoderPlotter\n",
    "from pyphoplacecellanalysis.GUI.PyQtPlot.Widgets.ContainerBased.PhoContainerTool import GenericPyQtGraphContainer\n",
    "from pyphoplacecellanalysis.SpecificResults.PendingNotebookCode import build_combined_time_synchronized_Bapun_decoders_window\n",
    "from pyphoplacecellanalysis.GUI.PyQtPlot.Widgets.SpikeRasterWidgets.Spike2DRaster import Spike2DRaster, SynchronizedPlotMode\n",
    "from pyphoplacecellanalysis.GUI.PyQtPlot.Widgets.DockAreaWrapper import PhoDockAreaContainingWindow\n",
    "from pyphoplacecellanalysis.GUI.PyQtPlot.DockingWidgets.SpecificDockWidgetManipulatingMixin import SpecificDockWidgetManipulatingMixin\n",
    "\n",
    "hardcoded_params: HardcodedProcessingParameters = BapunDataSessionFormatRegisteredClass._get_session_specific_parameters(session_context=curr_active_pipeline.get_session_context())\n",
    "# hardcoded_params.decoder_building_session_names\n",
    "# hardcoded_params.non_global_activity_session_names\n",
    "\n",
    "# pg.setConfigOptions(useOpenGL=True)  # do this BEFORE creating plots/widgets\n",
    "\n",
    "## Uses the `global_computation_results.computed_data['DirectionalDecodersDecoded']`\n",
    "# directional_decoders_decode_result: DirectionalDecodersContinuouslyDecodedResult = curr_active_pipeline.global_computation_results.computed_data['DirectionalDecodersDecoded']\n",
    "\n",
    "# _out_container: GenericPyQtGraphContainer = build_combined_time_synchronized_Bapun_decoders_window(curr_active_pipeline, included_filter_names=hardcoded_params.non_global_activity_session_names, fixed_window_duration = 3.0)\n",
    "_out_container_new: GenericPyQtGraphContainer = build_combined_time_synchronized_Bapun_decoders_window(curr_active_pipeline, included_filter_names=hardcoded_params.non_global_activity_session_names, fixed_window_duration = 3.0,\n",
    "    directional_decoders_decode_result=directional_decoders_decode_result,\n",
    ")\n",
    "\n",
    "active_2d_plot: Spike2DRaster = _out_container_new.ui.controlling_widget\n",
    "sync_plotters: Dict[str, TimeSynchronizedPositionDecoderPlotter] = _out_container_new.ui.sync_plotters\n",
    "win: PhoDockAreaContainingWindow = _out_container_new.ui.root_dockAreaWindow\n",
    "# a_sync_plotter: TimeSynchronizedPositionDecoderPlotter = sync_plotters['roam']\n",
    "# a_sync_plotter.curr_position\n",
    "\n",
    "# ## Disable debug print to speed up animation\n",
    "# for a_plotter_name, a_plotter in sync_plotters.items():\n",
    "#     a_plotter.params.debug_print = False\n",
    "\n",
    "\n",
    "## INPUTS: _out_container, active_2d_plot, _out_container, sync_plotters, \n"
   ]
  },
  {
   "cell_type": "code",
   "execution_count": null,
   "id": "70cad9ee",
   "metadata": {
    "tags": [
     "active-2025-09-21"
    ]
   },
   "outputs": [],
   "source": [
    "_out_pbe_tracks, _out_pbe_overview_tracks = _out_container_new.add_pbes_full_result_marginals(pbes_full_result=pbes_full_result)\n",
    "\n",
    "# grouped_dock_items_dict = _out_container_new.build_overview_and_windowed_dockgroups() ## Not quite ready"
   ]
  },
  {
   "cell_type": "markdown",
   "id": "b241f945",
   "metadata": {},
   "source": [
    "## Reorder the dock items"
   ]
  },
  {
   "cell_type": "code",
   "execution_count": null,
   "id": "3e167155",
   "metadata": {},
   "outputs": [],
   "source": [
    "list(active_2d_plot.dock_manager_widget.dynamic_display_dict.keys())\n",
    "# original_identifier_order = ['interval_overview', 'intervals', 'rasters[raster_overview]', 'rasters[raster_window]', 'global context', 'global context (overview)', 'pbe[0.06]', 'pbe[0.06] (Overview)']\n",
    "desired_identifier_order = ['interval_overview', 'rasters[raster_overview]', 'global context (overview)', 'pbe[0.06] (Overview)', 'rasters[raster_window]', 'intervals', 'global context', 'pbe[0.06]'] ## #TODO 2025-09-21 15:41: - [ ] Enforce this order programmatically?!\n"
   ]
  },
  {
   "cell_type": "code",
   "execution_count": null,
   "id": "5a3a2bce",
   "metadata": {},
   "outputs": [],
   "source": [
    "active_2d_plot.dock_manager_widget"
   ]
  },
  {
   "cell_type": "code",
   "execution_count": null,
   "id": "c75ac9e5",
   "metadata": {},
   "outputs": [],
   "source": [
    "\n",
    "## INPUTS: active_2d_plot\n",
    "grouped_dock_items_dict = active_2d_plot.ui.dynamic_docked_widget_container.get_dockGroup_dock_dict()\n",
    "nested_dock_items = {}\n",
    "nested_dynamic_docked_widget_container_widgets = {}\n",
    "for dock_group_name, flat_group_dockitems_list in grouped_dock_items_dict.items():\n",
    "    dDisplayItem, nested_dynamic_docked_widget_container = active_2d_plot.ui.dynamic_docked_widget_container.build_wrapping_nested_dock_area(flat_group_dockitems_list, dock_group_name=dock_group_name)\n",
    "    nested_dock_items[dock_group_name] = dDisplayItem\n",
    "    nested_dynamic_docked_widget_container_widgets[dock_group_name] = nested_dynamic_docked_widget_container\n",
    "\n",
    "## OUTPUTS: nested_dock_items, nested_dynamic_docked_widget_container_widgets"
   ]
  },
  {
   "cell_type": "code",
   "execution_count": null,
   "id": "496a7551",
   "metadata": {},
   "outputs": [],
   "source": [
    "grouped_dock_items_dict = active_2d_plot.ui.dynamic_docked_widget_container.get_dockGroup_dock_dict()\n",
    "grouped_dock_items_dict"
   ]
  },
  {
   "cell_type": "code",
   "execution_count": null,
   "id": "00426b7a",
   "metadata": {},
   "outputs": [],
   "source": [
    "\n",
    "\n",
    "\n",
    "grouped_dock_items_dict = build_overview_and_windowed_dockgroups(active_2d_plot)\n",
    "grouped_dock_items_dict\n"
   ]
  },
  {
   "cell_type": "code",
   "execution_count": null,
   "id": "c1e67b7f",
   "metadata": {},
   "outputs": [],
   "source": [
    "_out = active_2d_plot.dock_manager_widget.layout_dockGroups()\n"
   ]
  },
  {
   "cell_type": "markdown",
   "id": "a635e921",
   "metadata": {},
   "source": [
    "### 📈🔃❎ Exporting as video"
   ]
  },
  {
   "cell_type": "code",
   "execution_count": null,
   "id": "089b27d6",
   "metadata": {},
   "outputs": [],
   "source": [
    "from PyQt5 import QtWidgets, QtGui, QtCore\n",
    "import pyphoplacecellanalysis.External.pyqtgraph as pg\n",
    "from pyqtgraph.exporters import ImageExporter\n",
    "from PIL import Image\n",
    "from pyphoplacecellanalysis.GUI.PyQtPlot.Widgets.GraphicsWidgets.CustomGraphicsLayoutWidget import CustomGraphicsLayoutWidget\n",
    "\n",
    "## \"playback\" refers to output video:\n",
    "desired_playback_duration: float = 8 * 60.0 # 8m\n",
    "\n",
    "# \"session\" refers to the actual recording session:\n",
    "desired_session_time_range_duration: float = (16.0 * 60.0) # 1m\n",
    "# session_start_t: float = 23170.37047485091 #20740.63578640229 # 11631.186907154472 # 11451.186907154472 # 11391.186907154472 # 7665.232126354053 # active_2d_plot.total_data_start_time + 4.0 * 60.0 # 4 minutes into start of recording ## Day 5\n",
    "session_start_t: float = 11023.018433333335 # 10843.018433333334 # active_2d_plot.total_data_start_time + 4.0 * 60.0 # 4 minutes into start of recording\n",
    "# session_start_t: float = 23170.37047485091 #20740.63578640229 # 11631.186907154472 # 11451.186907154472 # 11391.186907154472 # active_2d_plot.total_data_start_time + 4.0 * 60.0 # 4 minutes into start of recording ## day 4\n",
    "desired_session_time_range: Tuple[float, float] = (session_start_t, (session_start_t + desired_session_time_range_duration))\n",
    "\n",
    "playback_speed_factor: float = (desired_playback_duration / desired_session_time_range_duration)\n",
    "\n",
    "print(f'playback_speed_factor: {playback_speed_factor}')\n",
    "time_window_duration: float = active_2d_plot.active_window_duration\n",
    "print(f'time_window_duration: {time_window_duration}')\n",
    "\n",
    "## INPUTS: _out_container, active_2d_plot, _out_container, sync_plotters, \n",
    "desired_framerate: float = 2.0\n",
    "desired_frame_duration_sec: float = 1.0/desired_framerate\n",
    "print(f'desired_frame_duration_sec: {desired_frame_duration_sec}')\n",
    "\n",
    "# ## All Frames from entire recording (too long)\n",
    "# total_duration: float = active_2d_plot.total_data_duration\n",
    "# desired_num_total_frames: int = int(np.ceil((total_duration * desired_framerate)))\n",
    "# frame_start_indicies = np.linspace(active_2d_plot.total_data_start_time,  active_2d_plot.total_data_end_time, num=desired_num_total_frames)\n",
    "\n",
    "## Plot only for the range of interest:\n",
    "desired_num_total_frames: int = int(np.ceil((desired_session_time_range_duration * desired_framerate)))\n",
    "frame_start_indicies = np.linspace(desired_session_time_range[0], desired_session_time_range[1], num=desired_num_total_frames)\n",
    "frame_end_indices = frame_start_indicies + desired_frame_duration_sec\n",
    "\n",
    "print(f'desired_num_total_frames: {desired_num_total_frames}')\n"
   ]
  },
  {
   "cell_type": "code",
   "execution_count": null,
   "id": "3f4e6497",
   "metadata": {},
   "outputs": [],
   "source": [
    "# ## Disable debug print to speed up animation\n",
    "for a_plotter_name, a_plotter in sync_plotters.items():\n",
    "    a_plotter.params.debug_print = False"
   ]
  },
  {
   "cell_type": "code",
   "execution_count": null,
   "id": "55a285a6",
   "metadata": {},
   "outputs": [],
   "source": [
    "active_2d_plot.active_window_start_time"
   ]
  },
  {
   "cell_type": "code",
   "execution_count": null,
   "id": "96f338de",
   "metadata": {},
   "outputs": [],
   "source": [
    "# next_end_timestamp = next_start_timestamp + self.animation_active_time_window.window_duration\n",
    "\n",
    "def _frame_update(frame_start_t, frame_end_t):\n",
    "    active_2d_plot.update_scroll_window_region(frame_start_t, frame_end_t, block_signals=True)\n",
    "    active_2d_plot.window_scrolled.emit(frame_start_t, frame_end_t)\n",
    "    QtWidgets.QApplication.processEvents()\n",
    "    win.repaint()\n",
    "\n",
    "\n",
    "_frame_update(desired_session_time_range[0], (desired_session_time_range[0]+time_window_duration))\n"
   ]
  },
  {
   "cell_type": "code",
   "execution_count": null,
   "id": "89edfb25",
   "metadata": {},
   "outputs": [],
   "source": [
    "for i, (frame_start_t, frame_end_t) in enumerate(zip(frame_start_indicies, frame_end_indices)):\n",
    "    print(f'frame[{i}]: ({frame_start_t}, {frame_end_t}):')\n",
    "    # active_2d_plot.on_window_changed(frame_start_t, frame_end_t)\n",
    "    # active_2d_plot.update_scroll_window_region(frame_start_t, frame_end_t, block_signals=True)\n",
    "    # active_2d_plot.window_scrolled.emit(frame_start_t, frame_end_t)\n",
    "    # pg.SignalProxy(driver.window_scrolled, delay=0.2, rateLimit=60, slot=drivable.on_window_changed_rate_limited)\n",
    "    # QtWidgets.QApplication.processEvents()\n",
    "    # win.repaint()\n",
    "    # _frame_update(frame_start_t, frame_end_t)\n",
    "    _frame_update(frame_start_t, (frame_start_t + time_window_duration))\n"
   ]
  },
  {
   "cell_type": "markdown",
   "id": "9ac3238e",
   "metadata": {},
   "source": [
    "##### NOT WORKING YET: Export both to a multi-page PDF or video\n"
   ]
  },
  {
   "cell_type": "code",
   "execution_count": null,
   "id": "ecdd2135",
   "metadata": {},
   "outputs": [],
   "source": [
    "from pyphoplacecellanalysis.General.Mixins.ExportHelpers import FigureToImageHelpers\n",
    "\n",
    "all_tracks_export_path = curr_active_pipeline.get_output_path().joinpath('2025-09-19_910pm_time_synch_dual_plotters.pdf')\n",
    "\n",
    "## INPUTS: \n",
    "_out_container: GenericPyQtGraphContainer\n",
    "active_2d_plot: Spike2DRaster = _out_container.ui.controlling_widget\n",
    "sync_plotters = _out_container.ui.sync_plotters\n",
    "\n",
    "saved_output_pdf_path = FigureToImageHelpers.export_wrapped_tracks_to_paged_df(active_2d_plot, output_pdf_path=all_tracks_export_path)\n",
    "print(f'saved_output_pdf_path: {saved_output_pdf_path}')\n"
   ]
  },
  {
   "cell_type": "code",
   "execution_count": null,
   "id": "b59004b7",
   "metadata": {},
   "outputs": [],
   "source": [
    "from pyphoplacecellanalysis.General.Pipeline.Stages.DisplayFunctions.DecoderPredictionError import _temp_debug_two_step_plots_animated_pyqtgraph\n",
    "\n",
    "# Simple plot type 1:\n",
    "# plotted_variable_name = kwargs.get('variable_name', 'p_x_given_n') # Tries to get the user-provided variable name, otherwise defaults to 'p_x_given_n'\n",
    "plotted_variable_name = 'p_x_given_n' # Tries to get the user-provided variable name, otherwise defaults to 'p_x_given_n'\n",
    "_temp_debug_two_step_plots_animated_pyqtgraph(active_one_step_decoder, active_two_step_decoder, active_computed_data.extended_stats.time_binned_position_df, variable_name=plotted_variable_name) # Works"
   ]
  },
  {
   "cell_type": "markdown",
   "id": "e6c0ef60",
   "metadata": {},
   "source": [
    "### OLD EXPLORE ONLY"
   ]
  },
  {
   "cell_type": "code",
   "execution_count": null,
   "id": "5d7b08e1",
   "metadata": {},
   "outputs": [],
   "source": [
    "a_plotter.params.trajectory_path_marker_max_fill_opacity"
   ]
  },
  {
   "cell_type": "code",
   "execution_count": null,
   "id": "1fde0b85",
   "metadata": {},
   "outputs": [],
   "source": [
    "a_plotter.params.recent_position_trajectory_max_seconds_ago"
   ]
  },
  {
   "cell_type": "code",
   "execution_count": null,
   "id": "5c7b9420",
   "metadata": {},
   "outputs": [],
   "source": [
    "a_plotter.curr_recent_trajectory"
   ]
  },
  {
   "cell_type": "code",
   "execution_count": null,
   "id": "2d3266ec",
   "metadata": {},
   "outputs": [],
   "source": [
    "# a_plotter.ui.im\n",
    "import pyphoplacecellanalysis.External.pyqtgraph as pg\n",
    "\n",
    "# from PyQt5 import QtGui\n",
    "# import pyphoplacecellanalysis.External.pyqtgraph.Qt as pg\n",
    "\n",
    "from PyQt5.QtGui import QPainter\n",
    "\n",
    "\n",
    "traj_curve_item: pg.PlotDataItem = a_plotter.ui.trajectory_curve\n",
    "# traj_curve_item.show()\n",
    "\n",
    "\n",
    "\n",
    "traj_curve_item.setAlpha(1.0, auto=False)\n",
    "traj_curve_item.setSymbolBrush((50, 50, 50, 25))\n",
    "\n",
    "\n",
    "# from QtGui.QPainter import \n",
    "# pg.QtGui.QPainter\n",
    "\n",
    "# from pg import QtGui\n",
    "# from PyQt5.QtGui.QPainter import CompositionMode\n",
    "\n",
    "# from pg.QtGui.QPainter import CompositionMode\n",
    "# QPainter.CompositionMode.CompositionMode_Overlay\n"
   ]
  },
  {
   "cell_type": "code",
   "execution_count": null,
   "id": "be9ab866",
   "metadata": {},
   "outputs": [],
   "source": [
    "\n",
    "\n",
    "# a_plotter.ui.imv.setCompositionMode(QPainter.CompositionMode_Multiply)\n",
    "# a_plotter.ui.imv.setCompositionMode(QPainter.CompositionMode_Overlay)\n",
    "a_plotter.ui.imv.setCompositionMode(QPainter.CompositionMode_Plus)\n",
    "\n"
   ]
  },
  {
   "cell_type": "code",
   "execution_count": null,
   "id": "57d13ab1",
   "metadata": {},
   "outputs": [],
   "source": [
    "a_plotter.active_one_step_decoder.time_window_centers\n"
   ]
  },
  {
   "cell_type": "code",
   "execution_count": null,
   "id": "b5bd0154",
   "metadata": {},
   "outputs": [],
   "source": [
    "# a_plotter.ui.trajectory_curve.\n",
    "a_plotter.params.recent_position_trajectory_path_shadow_pen\n",
    "a_plotter.params.recent_position_trajectory_path_pen\n",
    "\n"
   ]
  },
  {
   "cell_type": "code",
   "execution_count": null,
   "id": "d6d90663",
   "metadata": {},
   "outputs": [],
   "source": [
    "a_plotter.params.recent_position_trajectory_symbol_pen\n",
    "\n",
    "pg.mkPen(a_plotter.params.recent_position_trajectory_symbol_pen.color(), "
   ]
  },
  {
   "cell_type": "code",
   "execution_count": null,
   "id": "0f4fc51c",
   "metadata": {},
   "outputs": [],
   "source": [
    "a_plotter.params.recent_position_trajectory_symbol_pen.color().setAlphaF(0.1)\n",
    "\n",
    "pg.mkBrush("
   ]
  },
  {
   "cell_type": "code",
   "execution_count": null,
   "id": "d0272b83",
   "metadata": {},
   "outputs": [],
   "source": [
    "a_plotter.params"
   ]
  },
  {
   "cell_type": "code",
   "execution_count": null,
   "id": "976d192f",
   "metadata": {},
   "outputs": [],
   "source": [
    "a_plotter.ui.trajectory_curve.setPen(a_plotter.params.recent_position_trajectory_symbol_pen)"
   ]
  },
  {
   "cell_type": "code",
   "execution_count": null,
   "id": "6fcb8255",
   "metadata": {},
   "outputs": [],
   "source": [
    "sync_plotters"
   ]
  },
  {
   "cell_type": "markdown",
   "id": "442b5ab2",
   "metadata": {},
   "source": [
    "### Build Marginals over track context and plot them on the timeline"
   ]
  },
  {
   "cell_type": "code",
   "execution_count": null,
   "id": "c5d8ce3f",
   "metadata": {},
   "outputs": [],
   "source": [
    "from pyphoplacecellanalysis.Analysis.Decoder.reconstruction import DecodedFilterEpochsResult, SingleEpochDecodedResult\n",
    "from pyphoplacecellanalysis.SpecificResults.PendingNotebookCode import _add_context_marginal_to_timeline, _add_context_decoded_epoch_marginals_to_timeline\n"
   ]
  },
  {
   "cell_type": "code",
   "execution_count": null,
   "id": "2c82fc9d",
   "metadata": {},
   "outputs": [],
   "source": [
    "\n",
    "# decoded_epochs_track_name: str = f'{epochs_name}[{decoding_time_bin_size}]'\n",
    "\n",
    "\n",
    "_out = _add_context_marginal_to_timeline(active_2d_plot, a_filter_epochs_decoded_result=all_context_filter_epochs_decoder_result, name='global context')\n",
    "_out_pbe_tracks = _add_context_decoded_epoch_marginals_to_timeline(active_2d_plot=active_2d_plot, decoded_epochs_result=pbe_decoder_result, name=f\"pbe[{decoding_time_bin_size}]\")\n"
   ]
  },
  {
   "cell_type": "code",
   "execution_count": null,
   "id": "592d5372",
   "metadata": {},
   "outputs": [],
   "source": [
    "from pyphoplacecellanalysis.GUI.PyQtPlot.Widgets.SpikeRasterWidgets.Spike2DRaster import SynchronizedPlotMode\n",
    "\n",
    "_out_new = _add_context_marginal_to_timeline(active_2d_plot, a_filter_epochs_decoded_result=all_context_filter_epochs_decoder_result, name='global context (overview)')\n",
    "_out_new\n",
    "\n",
    "identifier_name, widget, matplotlib_fig, matplotlib_fig_axes, dock_item = _out_new"
   ]
  },
  {
   "cell_type": "markdown",
   "id": "53c818bc",
   "metadata": {},
   "source": [
    "## 🟢🎨 Add the Session Paradigm/PBEs Epoch Intervals, then color and position them on the timeline\n"
   ]
  },
  {
   "cell_type": "code",
   "execution_count": null,
   "id": "cbd5b78e",
   "metadata": {
    "tags": [
     "active-2025-09-21"
    ]
   },
   "outputs": [],
   "source": [
    "from pyphoplacecellanalysis.GUI.PyQtPlot.Widgets.Mixins.RenderTimeEpochs.Specific2DRenderTimeEpochs import SessionEpochs2DRenderTimeEpochs\n",
    "from neuropy.core.epoch import ensure_dataframe, ensure_Epoch, Epoch, EpochsAccessor\n",
    "from pyphoplacecellanalysis.GUI.PyQtPlot.Widgets.Mixins.RenderTimeEpochs.EpochRenderingMixin import EpochRenderingMixin\n",
    "from pyphoplacecellanalysis.GUI.PyQtPlot.Widgets.Mixins.RenderTimeEpochs.Specific2DRenderTimeEpochs import General2DRenderTimeEpochs, Ripples_2DRenderTimeEpochs\n",
    "\n",
    "\n",
    "    # _out_pbe_tracks, _out_pbe_overview_tracks = add_pbes_full_result_marginals(active_2d_plot, pbes_full_result)\n",
    "\n",
    "_out_pbe_tracks, _out_pbe_overview_tracks = _out_container.add_pbes_full_result_marginals(pbes_full_result=pbes_full_result)"
   ]
  },
  {
   "cell_type": "markdown",
   "id": "83b7aff5",
   "metadata": {},
   "source": [
    "#### Overflow unused"
   ]
  },
  {
   "cell_type": "code",
   "execution_count": null,
   "id": "303e318f",
   "metadata": {},
   "outputs": [],
   "source": [
    "### NOT NEEDED:\n",
    "# active_df = cls._update_df_visualization_columns(active_df, y_location, height, pen_color, brush_color, **kwargs)\n",
    "\n",
    "rendered_interval_keys = ['_', 'SessionEpochs', '_', 'PBEs'] # '_' indicates a vertical spacer\n",
    "\n",
    "# desired_interval_height_ratios = [2.0, 2.0, 1.0, 0.1, 1.0, 1.0, 1.0] # ratio of heights to each interval\n",
    "desired_interval_height_ratios = [1.0, 2.0, 0.1, 0.5] # ratio of heights to each interval\n",
    "\n",
    "required_vertical_offsets, required_interval_heights = EpochRenderingMixin.build_stacked_epoch_layout(desired_interval_height_ratios, epoch_render_stack_height=20.0, interval_stack_location='below')\n",
    "stacked_epoch_layout_dict = {interval_key:dict(y_location=y_location, height=height) for interval_key, y_location, height in zip(rendered_interval_keys, required_vertical_offsets, required_interval_heights)}\n",
    "\n",
    "active_2d_plot.update_rendered_intervals_visualization_properties({'SessionEpochs': dict()})\n",
    "\n",
    "a_ds = active_2d_plot.interval_datasources.SessionEpochs\n",
    "a_ds.update_visualization_properties(_updated_custom_interval_dataframe_visualization_columns_general_epoch)                                         "
   ]
  },
  {
   "cell_type": "code",
   "execution_count": null,
   "id": "e5bcd64e",
   "metadata": {},
   "outputs": [],
   "source": [
    "active_2d_plot.clear_all_rendered_intervals()"
   ]
  },
  {
   "cell_type": "code",
   "execution_count": null,
   "id": "b598607d",
   "metadata": {},
   "outputs": [],
   "source": [
    "a_ds = active_2d_plot.interval_datasources.SessionEpochs\n",
    "a_ds.update_visualization_properties(_updated_custom_interval_dataframe_visualization_columns_general_epoch)\n",
    "\n"
   ]
  },
  {
   "cell_type": "code",
   "execution_count": null,
   "id": "bf595977",
   "metadata": {},
   "outputs": [],
   "source": [
    "\n",
    "# SessionEpochs2DRenderTimeEpochs.add_render_time_epochs(curr_sess=curr_active_pipeline.sess.epochs, destination_plot=active_2d_plot)\n",
    "\n",
    "active_pbe_ds = ensure_dataframe(curr_active_pipeline.sess.pbe)\n",
    "_out_pbes = active_2d_plot.add_rendered_intervals(active_pbe_ds, 'PBEs')\n",
    "_out_pbes\n"
   ]
  },
  {
   "cell_type": "code",
   "execution_count": null,
   "id": "3a6b0fb5",
   "metadata": {},
   "outputs": [],
   "source": [
    "active_2d_plot.interval_datasources.PBEs.update_visualization_properties(lambda active_df, **kwargs: General2DRenderTimeEpochs._update_df_visualization_columns(active_df, y_location=-12.0, height=1.5, pen_color=inline_mkColor('cyan', 0.8), brush_color=inline_mkColor('cyan', 0.5), **kwargs)) ## Fully inline"
   ]
  },
  {
   "cell_type": "code",
   "execution_count": null,
   "id": "e5afa225",
   "metadata": {},
   "outputs": [],
   "source": [
    "\n",
    "# _out\n",
    "\n",
    "active_2d_plot.get_all_rendered_intervals_dict()\n",
    "\n",
    "# from pyphoplacecellanalysis.GUI.PyQtPlot.Widgets.Mixins.RenderTimeEpochs.EpochRenderingMixin import EpochRenderingMixin\n",
    "\n",
    "# rendered_interval_keys = ['_', 'SessionEpochs', 'Laps', '_', 'PBEs', 'Ripples', 'Replays'] # '_' indicates a vertical spacer\n",
    "\n",
    "# desired_interval_height_ratios = [2.0, 2.0, 1.0, 0.1, 1.0, 1.0, 1.0] # ratio of heights to each interval\n",
    "# required_vertical_offsets, required_interval_heights = EpochRenderingMixin.build_stacked_epoch_layout(desired_interval_height_ratios, epoch_render_stack_height=20.0, interval_stack_location='below')\n",
    "# stacked_epoch_layout_dict = {interval_key:dict(y_location=y_location, height=height) for interval_key, y_location, height in zip(rendered_interval_keys, required_vertical_offsets, required_interval_heights)}\n",
    "\n",
    "# num_epochs = len(curr_active_pipeline.sess.epochs)\n",
    "\n",
    "# pen_colors = {'pre': pg.mkColor('purple'), 'roam': pg.mkColor('red'), 'sprinkle': pg.mkColor('red'), 'post': pg.mkColor('purple')}\n",
    "# brush_colors = {'pre': pg.mkColor('purple'), 'roam': pg.mkColor('red'), 'sprinkle': pg.mkColor('red'), 'post': pg.mkColor('purple')}\n",
    "\n",
    "# pen_color = list(pen_colors.values())\n",
    "# brush_color = list(brush_colors.values())\n",
    "# for a_pen_color in pen_color:\n",
    "#     a_pen_color.setAlphaF(0.8)\n",
    "\n",
    "# for a_brush_color in brush_color:\n",
    "#     a_brush_color.setAlphaF(0.5)\n",
    "\n",
    "\n",
    "# active_df = cls._update_df_visualization_columns(active_df, y_location, height, pen_color, brush_color, **kwargs)\n"
   ]
  },
  {
   "cell_type": "code",
   "execution_count": null,
   "id": "996c4c7b",
   "metadata": {},
   "outputs": [],
   "source": [
    "from pyphoplacecellanalysis.GUI.PyQtPlot.Widgets.Mixins.RenderTimeEpochs.Specific2DRenderTimeEpochs import General2DRenderTimeEpochs, inline_mkColor\n",
    "\n",
    "active_2d_plot.get_all_rendered_intervals_dict()\n",
    "active_2d_plot.interval_datasources.SessionEpochs.update_visualization_properties(lambda active_df, **kwargs: General2DRenderTimeEpochs._update_df_visualization_columns(active_df, y_location=-12.0, height=1.5, pen_color=inline_mkColor('cyan', 0.8), brush_color=inline_mkColor('cyan', 0.5), **kwargs)) ## Fully inline\n",
    "\n",
    "# active_2d_plot.add_rendered_intervals(\n",
    "    "
   ]
  },
  {
   "cell_type": "markdown",
   "id": "acb42b75",
   "metadata": {},
   "source": [
    "#### (OTHER) Independent Epochs with `EpochsEditor` which looks much nicer"
   ]
  },
  {
   "cell_type": "code",
   "execution_count": null,
   "id": "eb0bce3e",
   "metadata": {},
   "outputs": [],
   "source": [
    "from pyphoplacecellanalysis.GUI.PyQtPlot.Widgets.GraphicsWidgets.EpochsEditorItem import EpochsEditor # perform_plot_laps_diagnoser\n",
    "import matplotlib.pyplot as plt\n",
    "from pyphocorehelpers.gui.Qt.color_helpers import ColormapHelpers, ColorFormatConverter\n",
    "\n",
    "def generate_colors(n_epoch):\n",
    "    cmap = plt.get_cmap('tab20', n_epoch)\n",
    "    return [plt.matplotlib.colors.rgb2hex(cmap(i)) for i in range(n_epoch)]\n",
    "\n",
    "\n",
    "\n",
    "sess = curr_active_pipeline.sess # global_session\n",
    "\n",
    "# pos_df = sess.compute_position_laps() # ensures the laps are computed if they need to be:\n",
    "position_obj = deepcopy(sess.position)\n",
    "position_obj.compute_higher_order_derivatives()\n",
    "pos_df = position_obj.compute_smoothed_position_info(N=20) ## Smooth the velocity curve to apply meaningful logic to it\n",
    "pos_df = position_obj.to_dataframe()\n",
    "# Drop rows with missing data in columns: 't', 'velocity_x_smooth' and 2 other columns. This occurs from smoothing\n",
    "pos_df = pos_df.dropna(subset=['t', 'x_smooth', 'velocity_x_smooth', 'acceleration_x_smooth']).reset_index(drop=True)\n",
    "# curr_laps_df = sess.laps.to_dataframe()\n",
    "\n",
    "curr_paradigm_df = ensure_dataframe(sess.paradigm)\n",
    "curr_paradigm_df = curr_paradigm_df[np.logical_not(np.isin(curr_paradigm_df['label'], ['maze_GLOBAL', 'maze']))] ## exclude the global epoch\n",
    "n_epochs: int = len(curr_paradigm_df)\n",
    "# epoch_color_strs: List[str] = generate_colors(n_epochs)\n",
    "epoch_color_strs: List[str] = [ColorFormatConverter.qColor_to_hexstring(v, include_alpha=False) for v in ColormapHelpers.mpl_to_pg_colormap(mpl_cmap_name='tab20', resolution=n_epochs).getColors(mode='qcolor')]\n",
    "curr_paradigm_df['lap_color'] = \"#10FF44\"\n",
    "curr_paradigm_df['lap_color'] = epoch_color_strs\n",
    "curr_paradigm_df['lap_accent_color'] = '#FFFFFF'\n",
    "curr_paradigm_df\n",
    "## Create a new window:\n",
    "custom_epoch_label_kwargs = dict(epoch_label_position=0.05, epoch_label_rotateAxis=(0,0), epoch_label_anchor=(0.0, 1.0))\n",
    "epochs_editor = EpochsEditor.init_laps_diagnoser(pos_df, curr_paradigm_df, include_velocity=False, include_accel=False, span=(0.05, 0.95), movable=False, **custom_epoch_label_kwargs)"
   ]
  },
  {
   "cell_type": "code",
   "execution_count": null,
   "id": "7afb2999",
   "metadata": {},
   "outputs": [],
   "source": [
    "from pyphoplacecellanalysis.Pho2D.PyQtPlots.TimeSynchronizedPlotters.Mixins.AnimalTrajectoryPlottingMixin import AnimalTrajectoryPlottingMixin\n",
    "from pyphoplacecellanalysis.Pho2D.PyQtPlots.TimeSynchronizedPlotters.TimeSynchronizedPositionDecoderPlotter import TimeSynchronizedPositionDecoderPlotter\n",
    "from pyphoplacecellanalysis.GUI.PyQtPlot.Widgets.ContainerBased.PhoContainerTool import GenericPyQtGraphContainer\n",
    "from pyphoplacecellanalysis.SpecificResults.PendingNotebookCode import build_combined_time_synchronized_Bapun_decoders_window\n",
    "from pyphoplacecellanalysis.General.Pipeline.Stages.ComputationFunctions.MultiContextComputationFunctions.DirectionalPlacefieldGlobalComputationFunctions import DirectionalDecodersContinuouslyDecodedResult\n",
    "from pyphoplacecellanalysis.GUI.PyQtPlot.Widgets.SpikeRasterWidgets.Spike2DRaster import SynchronizedPlotMode, Spike2DRaster\n",
    "\n",
    "# _out_container: GenericPyQtGraphContainer = build_combined_time_synchronized_Bapun_decoders_window(curr_active_pipeline, included_filter_names=['roam', 'sprinkle'], fixed_window_duration = 15.0)\n",
    "# # _out_container: GenericPyQtGraphContainer = build_combined_time_synchronized_Bapun_decoders_window(curr_active_pipeline, included_filter_names=curr_active_pipeline.active_completed_computation_result_names, fixed_window_duration = 15.0)\n",
    "# # _out_container: GenericPyQtGraphContainer = build_combined_time_synchronized_Bapun_decoders_window(curr_active_pipeline, included_filter_names=['maze1', 'maze2', 'maze'], fixed_window_duration = 15.0)\n",
    "# active_2d_plot: Spike2DRaster = _out_container.ui.controlling_widget\n",
    "# sync_plotters = _out_container.ui.sync_plotters\n",
    "# # a_sync_plotter: TimeSynchronizedPositionDecoderPlotter = sync_plotters['roam']\n",
    "# # a_sync_plotter.curr_position\n",
    "\n"
   ]
  },
  {
   "cell_type": "code",
   "execution_count": null,
   "id": "965feb3c",
   "metadata": {},
   "outputs": [],
   "source": [
    "from pyphoplacecellanalysis.GUI.PyQtPlot.DockingWidgets.DynamicDockDisplayAreaContent import CustomDockDisplayConfig\n",
    "from pyphoplacecellanalysis.SpecificResults.PendingNotebookCode import DummyOneStepDecoder\n",
    "\n",
    "\n",
    "pf2D_Decoder_dict: Dict[str, BasePositionDecoder] = directional_decoders_decode_result.pf1D_Decoder_dict\n",
    "pseudo3D_decoder: BasePositionDecoder = directional_decoders_decode_result.pseudo2D_decoder\n",
    "# all_directional_pf1D_Decoder_dict: Dict[str, BasePositionDecoder] = directional_decoders_decode_result.pf1D_Decoder_dict\n",
    "continuously_decoded_result_cache_dict = directional_decoders_decode_result.continuously_decoded_result_cache_dict\n",
    "continuously_decoded_pseudo2D_decoder_dict = directional_decoders_decode_result.continuously_decoded_pseudo2D_decoder_dict\n",
    "## Unpacking a result:\n",
    "a_time_bin_size: float = list(continuously_decoded_pseudo2D_decoder_dict.keys())[-1] ## ALWAYS GET THE MOST RECENT\n",
    "all_context_filter_epochs_decoder_result: SingleEpochDecodedResult = continuously_decoded_pseudo2D_decoder_dict[a_time_bin_size] ## ALWAYS GET THE MOST RECENT\n",
    "marginal_z: NDArray = all_context_filter_epochs_decoder_result.marginal_z.p_x_given_n\n",
    "\n",
    "# individual_decoder_decoding_results = {k:v for k, v in directional_decoders_decode_result.continuously_decoded_result_cache_dict[1.0].items() if k != 'pseudo2D'}\n",
    "\n",
    "# one_step_decoder_dummy_dict = {}\n",
    "# for k, v in individual_decoder_decoding_results.items():\n",
    "#     one_step_decoder_dummy_dict[k] = DummyOneStepDecoder(xbin=deepcopy(pseudo3D_decoder.xbin), ybin=deepcopy(pseudo3D_decoder.ybin), time_window_centers=deepcopy(all_context_filter_epochs_decoder_result.time_bin_container.centers), p_x_given_n=deepcopy(v.p_x_given_n))\n",
    "\n"
   ]
  },
  {
   "cell_type": "code",
   "execution_count": null,
   "id": "942ad4df",
   "metadata": {},
   "outputs": [],
   "source": [
    "curr_position_decoder_plotter.on_window_changed(5.0, 15.0)"
   ]
  }
 ],
 "metadata": {
  "kernelspec": {
   "display_name": ".venv",
   "language": "python",
   "name": "python3"
  },
  "language_info": {
   "codemirror_mode": {
    "name": "ipython",
    "version": 3
   },
   "file_extension": ".py",
   "mimetype": "text/x-python",
   "name": "python",
   "nbconvert_exporter": "python",
   "pygments_lexer": "ipython3",
   "version": "3.9.13"
  }
 },
 "nbformat": 4,
 "nbformat_minor": 5
}
