{
 "cells": [
  {
   "cell_type": "code",
   "execution_count": 1,
   "metadata": {},
   "outputs": [
    {
     "name": "stdout",
     "output_type": "stream",
     "text": [
      "Automatic pdb calling has been turned OFF\n"
     ]
    },
    {
     "ename": "ModuleNotFoundError",
     "evalue": "No module named 'pyphocorehelpers'",
     "output_type": "error",
     "traceback": [
      "\u001b[1;31m---------------------------------------------------------------------------\u001b[0m",
      "\u001b[1;31mModuleNotFoundError\u001b[0m                       Traceback (most recent call last)",
      "Cell \u001b[1;32mIn[1], line 16\u001b[0m\n\u001b[0;32m     13\u001b[0m \u001b[38;5;28;01mfrom\u001b[39;00m \u001b[38;5;21;01mfunctools\u001b[39;00m \u001b[38;5;28;01mimport\u001b[39;00m wraps\n\u001b[0;32m     14\u001b[0m \u001b[38;5;28;01mimport\u001b[39;00m \u001b[38;5;21;01mdill\u001b[39;00m\n\u001b[1;32m---> 16\u001b[0m \u001b[38;5;28;01mfrom\u001b[39;00m \u001b[38;5;21;01mpyphocorehelpers\u001b[39;00m\u001b[38;5;21;01m.\u001b[39;00m\u001b[38;5;21;01mFilesystem\u001b[39;00m\u001b[38;5;21;01m.\u001b[39;00m\u001b[38;5;21;01msource_code_helpers\u001b[39;00m \u001b[38;5;28;01mimport\u001b[39;00m find_py_files\n\u001b[0;32m     17\u001b[0m \u001b[38;5;28;01mfrom\u001b[39;00m \u001b[38;5;21;01mpyphocorehelpers\u001b[39;00m\u001b[38;5;21;01m.\u001b[39;00m\u001b[38;5;21;01mFilesystem\u001b[39;00m\u001b[38;5;21;01m.\u001b[39;00m\u001b[38;5;21;01mgenerate_code_index\u001b[39;00m \u001b[38;5;28;01mimport\u001b[39;00m build_code_index\n",
      "\u001b[1;31mModuleNotFoundError\u001b[0m: No module named 'pyphocorehelpers'"
     ]
    }
   ],
   "source": [
    "%config IPCompleter.use_jedi = False\n",
    "%pdb off\n",
    "# %load_ext viztracer\n",
    "# from viztracer import VizTracer\n",
    "%load_ext autoreload\n",
    "%autoreload 3\n",
    "import sys\n",
    "import subprocess\n",
    "import inspect\n",
    "import pathlib\n",
    "from pathlib import Path\n",
    "import inspect\n",
    "from functools import wraps\n",
    "import dill\n",
    "\n",
    "from pyphocorehelpers.Filesystem.source_code_helpers import find_py_files\n",
    "from pyphocorehelpers.Filesystem.generate_code_index import build_code_index"
   ]
  },
  {
   "cell_type": "code",
   "execution_count": null,
   "metadata": {},
   "outputs": [],
   "source": [
    "# Import my libraries:\n",
    "import neuropy\n",
    "import neuropy.core"
   ]
  },
  {
   "cell_type": "code",
   "execution_count": null,
   "metadata": {},
   "outputs": [],
   "source": [
    "\n",
    "import pyphocorehelpers as pho_help\n",
    "import pyphoplacecellanalysis as pho_pca\n"
   ]
  },
  {
   "cell_type": "code",
   "execution_count": null,
   "metadata": {},
   "outputs": [],
   "source": [
    "def find_functions(module):\n",
    "    return [name for name, obj in inspect.getmembers(module) if inspect.isfunction(obj)]\n",
    "\n",
    "## Find all functions in `pho_help`\n",
    "# found_functions = find_functions(module=pho_help)\n"
   ]
  },
  {
   "cell_type": "code",
   "execution_count": null,
   "metadata": {},
   "outputs": [],
   "source": [
    "# module = pho_help\n",
    "# module = pho_pca\n",
    "module = neuropy.core\n",
    "\n",
    "found_any =  [name for name, obj in inspect.getmembers(module)]\n",
    "print(found_any)"
   ]
  },
  {
   "cell_type": "markdown",
   "metadata": {},
   "source": [
    "Discovering modules: \n",
    "\n",
    "https://stackoverflow.com/questions/4858100/how-to-list-imported-modules"
   ]
  },
  {
   "cell_type": "code",
   "execution_count": null,
   "metadata": {},
   "outputs": [],
   "source": [
    "from modulefinder import ModuleFinder\n",
    "finder = ModuleFinder()\n",
    "finder.run_script(r\"C:\\Users\\pho\\repos\\Spike3DWorkEnv\\Spike3D\\scripts\\test_generate_icon_with_overlay.py\")\n",
    "for name, mod in finder.modules.items():\n",
    "    print(name)\n",
    "    "
   ]
  },
  {
   "cell_type": "code",
   "execution_count": null,
   "metadata": {},
   "outputs": [],
   "source": [
    "pho_help"
   ]
  },
  {
   "cell_type": "markdown",
   "metadata": {},
   "source": [
    "# 2023-09-25 Code Parsing"
   ]
  },
  {
   "cell_type": "code",
   "execution_count": null,
   "metadata": {},
   "outputs": [],
   "source": [
    "import dill\n",
    "\n"
   ]
  },
  {
   "cell_type": "code",
   "execution_count": null,
   "metadata": {},
   "outputs": [],
   "source": [
    "dill.source.\n",
    "\n",
    "get_objgraph ArrayType\n"
   ]
  },
  {
   "cell_type": "code",
   "execution_count": null,
   "metadata": {},
   "outputs": [],
   "source": [
    "\n",
    "\n",
    "# def enumerate_classes_and_functions(module):\n",
    "#     items = {}\n",
    "#     for name, obj in inspect.getmembers(module):\n",
    "#         if inspect.ismodule(obj):\n",
    "#             items[name] = enumerate_classes_and_functions(obj)\n",
    "#         elif inspect.isclass(obj) or inspect.isfunction(obj):\n",
    "#             items[name] = str(inspect.getdoc(obj))\n",
    "#     return items\n",
    "\n",
    "# # Example usage with dill library as target module\n",
    "# result = enumerate_classes_and_functions(dill)\n",
    "# print(result)\n",
    "\n",
    "\n",
    "\n",
    "# Function to find all functions with a certain decorator\n",
    "def find_functions_with_decorator(module, decorator):\n",
    "    result = []\n",
    "    for name, obj in inspect.getmembers(module):\n",
    "        if inspect.isfunction(obj) and hasattr(obj, '__wrapped__'):\n",
    "            if obj.__wrapped__.__module__ == decorator.__module__:\n",
    "                result.append(name)\n",
    "        elif inspect.ismodule(obj) or inspect.isclass(obj):\n",
    "            result.extend(find_functions_with_decorator(obj, decorator))\n",
    "    return result\n",
    "\n",
    "\n",
    "found_functions = find_functions_with_decorator(__import__(pho_help), my_decorator)\n",
    "print(found_functions)"
   ]
  },
  {
   "cell_type": "markdown",
   "metadata": {},
   "source": [
    "## 2023-09-21 - `dill` Checking"
   ]
  },
  {
   "cell_type": "code",
   "execution_count": null,
   "metadata": {},
   "outputs": [],
   "source": [
    "# dill.errors(obj, depth=0, exact=False, safe=False) # get errors for objects that fail to pickle\n",
    "# dill.pickles(obj, exact=False, safe=False, **kwds) # Quick check if object pickles with dill.\n",
    "# dill.get_objgraph\n",
    "\n",
    "def dump_session(file_path):\n",
    "  \"\"\"Pickle the current python session to be used in the worker.\n",
    "\n",
    "  Note: Due to the inconsistency in the first dump of dill dump_session we\n",
    "  create and load the dump twice to have consistent results in the worker and\n",
    "  the running session. Check: https://github.com/uqfoundation/dill/issues/195\n",
    "  \"\"\"\n",
    "  dill.dump_session(file_path)\n",
    "  dill.load_session(file_path)\n",
    "  return dill.dump_session(file_path)\n",
    "\n",
    "test_session_file = Path('../output/test_pickled_session_2023-09-21.pkl').resolve()\n",
    "print(f'saving session to {test_session_file}')\n",
    "dump_session(test_session_file)\n",
    "\n",
    "# dill.detect.trace(True)\n",
    "# dill.dump_session(test_session_file) # PicklingError: Can't pickle : it's not the same object as builtins.input\n",
    "# PicklingError: Can't pickle .NewCol'>: it's not found as tables.description.Col._subclass_from_prefix..NewCol\n",
    "\n",
    "# with detect.trace('output/dill_trace_2023-09-21.log', mode='w') as log:\n",
    "#     # log(\"> D = %r\", D)\n",
    "#     dill.dump_session(test_session_file)\n"
   ]
  },
  {
   "cell_type": "code",
   "execution_count": null,
   "metadata": {},
   "outputs": [],
   "source": [
    "\n",
    "dill.detect.trace(False)\n",
    "# dump_session(test_session_file)\n"
   ]
  },
  {
   "cell_type": "code",
   "execution_count": null,
   "metadata": {},
   "outputs": [],
   "source": [
    " \n",
    "dill.dump_session()"
   ]
  },
  {
   "cell_type": "code",
   "execution_count": null,
   "metadata": {},
   "outputs": [],
   "source": []
  },
  {
   "cell_type": "code",
   "execution_count": null,
   "metadata": {},
   "outputs": [],
   "source": []
  },
  {
   "cell_type": "code",
   "execution_count": null,
   "metadata": {},
   "outputs": [],
   "source": []
  },
  {
   "cell_type": "markdown",
   "metadata": {},
   "source": [
    "# Pre 2023-09-25"
   ]
  },
  {
   "cell_type": "code",
   "execution_count": null,
   "metadata": {},
   "outputs": [],
   "source": [
    "import subprocess\n",
    "import pathlib\n",
    "\n",
    "def build_code_index(project_path):\n",
    "    project_path = pathlib.Path(project_path)\n",
    "    cscope_files = project_path / \"cscope.files\"\n",
    "    cscope_out = project_path / \"cscope.out\"\n",
    "    tags = project_path / \"tags\"\n",
    "    db_path = project_path / \"myproject.db\"\n",
    "    \n",
    "    # Generate the cscope index\n",
    "    subprocess.run([\"pycscope\", \"-i\", str(cscope_files)], cwd=str(project_path), check=True)\n",
    "    \n",
    "    # Generate the ctags index\n",
    "    subprocess.run([\"ctags\", \"--fields=+i\", \"-n\", \"-L\", str(cscope_files)], cwd=str(project_path), check=True)\n",
    "    \n",
    "    # Generate the CodeQL database\n",
    "    subprocess.run([\"cqmakedb\", \"-s\", str(db_path), \"-c\", str(cscope_out), \"-t\", str(tags), \"-p\"], cwd=str(project_path), check=True)\n",
    "\n",
    "\n",
    "build_code_index(\"C:/Users/pho/repos/Spike3DWorkEnv/pyPhoCoreHelpers/src\")"
   ]
  },
  {
   "cell_type": "code",
   "execution_count": null,
   "metadata": {},
   "outputs": [],
   "source": [
    "# project_outputs = build_code_index(\"C:/Users/pho/repos/Spike3DWorkEnv/NeuroPy/neuropy\", project_name='NeuroPy')\n",
    "# project_path, project_db_file_path, tags_file_path, cscope_out_file_path, cscope_files_file_path = project_outputs # unpack\n",
    "\n",
    "project_outputs = build_code_index(r\"C:\\Users\\pho\\repos\\Spike3DWorkEnv\\NeuroPy\\neuropy\", project_name='NeuroPy')\n"
   ]
  },
  {
   "cell_type": "code",
   "execution_count": null,
   "metadata": {},
   "outputs": [],
   "source": [
    "project_outputs = build_code_index(\"C:/Users/pho/repos/Spike3DWorkEnv/pyPhoCoreHelpers/src\", project_name='pyPhoCoreHelpers')"
   ]
  },
  {
   "cell_type": "code",
   "execution_count": null,
   "metadata": {},
   "outputs": [],
   "source": [
    "project_outputs = build_code_index(\"C:/Users/pho/repos/Spike3DWorkEnv/pyPhoPlaceCellAnalysis/src\", exclude_dirs = [\"pyphoplacecellanalysis/External\"], project_name='pyPhoPlaceCellAnalysis')"
   ]
  },
  {
   "cell_type": "code",
   "execution_count": null,
   "metadata": {},
   "outputs": [],
   "source": [
    "import glob\n",
    "import importlib\n",
    "import inspect\n",
    "import os\n",
    "\n",
    "current_dir = os.path.join(os.path.dirname(os.path.abspath(__file__)))\n",
    "current_module_name = os.path.splitext(os.path.basename(current_dir))[0]\n",
    "for file in glob.glob(current_dir + \"/*.py\"):\n",
    "     name = os.path.splitext(os.path.basename(file))[0]\n",
    "\n",
    "     # Ignore __ files\n",
    "     if name.startswith(\"__\"):\n",
    "         continue\n",
    "     module = importlib.import_module(\".\" + name,package=current_module_name)\n",
    "\n",
    "     for member in dir(module):\n",
    "         handler_class = getattr(module, member)\n",
    "\n",
    "         if handler_class and inspect.isclass(handler_class):\n",
    "             print(member)\n",
    "             \n"
   ]
  },
  {
   "cell_type": "code",
   "execution_count": null,
   "metadata": {},
   "outputs": [],
   "source": [
    "\n",
    "\n",
    "classes = [cls_name for cls_name, cls_obj in inspect.getmembers(sys.modules['test_cls']) if inspect.isclass(cls_obj)]\n",
    "print(classes)\n"
   ]
  },
  {
   "cell_type": "markdown",
   "metadata": {},
   "source": [
    "# Pre 2023-07-28 Testing"
   ]
  },
  {
   "cell_type": "code",
   "execution_count": null,
   "metadata": {},
   "outputs": [],
   "source": [
    "root_project_path = pathlib.Path(\"C:/Users/pho/repos/Spike3DWorkEnv/\")\n",
    "cscope_files = root_project_path / \"cscope.files\"\n",
    "cscope_out = root_project_path / \"cscope.out\"\n",
    "tags = root_project_path / \"tags\"\n",
    "db_path = root_project_path / \"myproject.db\"\n",
    "\n",
    "repos_source_paths = [\"C:/Users/pho/repos/Spike3DWorkEnv/NeuroPy/neuropy\", \"C:/Users/pho/repos/Spike3DWorkEnv/pyPhoCoreHelpers/src\", \"C:/Users/pho/repos/Spike3DWorkEnv/pyPhoPlaceCellAnalysis/src\"]\n",
    "repos_exclude_dir_lists = [None, None, [\"pyphoplacecellanalysis/External\"]]\n",
    "\n",
    "all_found_files = []\n",
    "for a_src_path, exclude_dirs in zip(repos_source_paths, repos_exclude_dir_lists):\n",
    "    all_found_files.extend(find_py_files(a_src_path, exclude_dirs = exclude_dirs))\n",
    "\n",
    "all_found_files\n",
    "\n",
    "# find_py_files(\"C:/Users/pho/repos/Spike3DWorkEnv/NeuroPy/neuropy\")\n",
    "# find_py_files(\"C:/Users/pho/repos/Spike3DWorkEnv/pyPhoCoreHelpers/src\")\n",
    "# find_py_files(\"C:/Users/pho/repos/Spike3DWorkEnv/pyPhoPlaceCellAnalysis/src\", exclude_dirs = [\"pyphoplacecellanalysis/External\"])\n",
    "\n"
   ]
  },
  {
   "cell_type": "code",
   "execution_count": null,
   "metadata": {},
   "outputs": [],
   "source": [
    "# Write the file paths to cscope.files\n",
    "with open(cscope_files, \"w\") as f:\n",
    "\tprint(f'writing to {cscope_files}...')\n",
    "\tfor file_path in all_found_files:\n",
    "\t\tf.write(str(file_path) + \"\\n\")\n",
    "\tprint('\\tdone.')"
   ]
  },
  {
   "attachments": {},
   "cell_type": "markdown",
   "metadata": {},
   "source": [
    "# Old Full Implementation"
   ]
  },
  {
   "cell_type": "code",
   "execution_count": null,
   "metadata": {},
   "outputs": [],
   "source": [
    "\n",
    "def build_code_index(project_path, exclude_dirs=[]):\n",
    "    project_path = pathlib.Path(project_path)\n",
    "    cscope_files = project_path / \"cscope.files\"\n",
    "    cscope_out = project_path / \"cscope.out\"\n",
    "    tags = project_path / \"tags\"\n",
    "    db_path = project_path / \"myproject.db\"\n",
    "\n",
    "    # Find all .py files in the project directory and its subdirectories\n",
    "    py_files = project_path.glob(\"**/*.py\")\n",
    "    py_files = [file_path for file_path in py_files] # to list\n",
    "\n",
    "    excluded_py_files = []\n",
    "    if exclude_dirs is not None:\n",
    "        # Find all .py files in the project directory and its subdirectories, excluding the 'my_exclude_dir' directory\n",
    "        exclude_paths = [project_path.joinpath(a_dir) for a_dir in exclude_dirs]\n",
    "        for an_exclude_path in exclude_paths:\n",
    "            excluded_py_files.extend([file_path for file_path in an_exclude_path.glob(\"**/*.py\")])\n",
    "\n",
    "    included_py_files = [x for x in py_files if x not in excluded_py_files]\n",
    "\n",
    "    # Write the file paths to cscope.files\n",
    "    with open(project_path / \"cscope.files\", \"w\") as f:\n",
    "        for file_path in included_py_files:\n",
    "            f.write(str(file_path) + \"\\n\")\n",
    "\n",
    "    # Generate the cscope index\n",
    "    subprocess.run([\"pycscope\", \"-i\", str(cscope_files)], cwd=str(project_path), check=True)\n",
    "    \n",
    "    # Generate the ctags index\n",
    "    subprocess.run([\"ctags\", \"--fields=+i\", \"-n\", \"-L\", str(cscope_files)], cwd=str(project_path), check=True)\n",
    "    \n",
    "    # Generate the CodeQL database\n",
    "    subprocess.run([\"cqmakedb\", \"-s\", str(db_path), \"-c\", str(cscope_out), \"-t\", str(tags), \"-p\"], cwd=str(project_path), check=True)\n",
    "\n"
   ]
  },
  {
   "cell_type": "code",
   "execution_count": null,
   "metadata": {},
   "outputs": [],
   "source": [
    "build_code_index(\"C:/Users/pho/repos/Spike3DWorkEnv/NeuroPy/neuropy\")"
   ]
  },
  {
   "cell_type": "code",
   "execution_count": null,
   "metadata": {},
   "outputs": [],
   "source": [
    "build_code_index(\"C:/Users/pho/repos/Spike3DWorkEnv/pyPhoCoreHelpers/src\")"
   ]
  },
  {
   "cell_type": "code",
   "execution_count": null,
   "metadata": {},
   "outputs": [],
   "source": [
    "build_code_index(\"C:/Users/pho/repos/Spike3DWorkEnv/pyPhoPlaceCellAnalysis/src\", exclude_dirs = [\"pyphoplacecellanalysis/External\"])"
   ]
  }
 ],
 "metadata": {
  "kernelspec": {
   "display_name": ".venv",
   "language": "python",
   "name": "python3"
  },
  "language_info": {
   "codemirror_mode": {
    "name": "ipython",
    "version": 3
   },
   "file_extension": ".py",
   "mimetype": "text/x-python",
   "name": "python",
   "nbconvert_exporter": "python",
   "pygments_lexer": "ipython3",
   "version": "3.9.13"
  },
  "orig_nbformat": 4
 },
 "nbformat": 4,
 "nbformat_minor": 2
}
